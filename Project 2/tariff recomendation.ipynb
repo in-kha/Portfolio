{
 "cells": [
  {
   "cell_type": "markdown",
   "metadata": {},
   "source": [
    "# Рекомендация тарифов"
   ]
  },
  {
   "cell_type": "markdown",
   "metadata": {},
   "source": [
    "В нашем распоряжении данные о поведении клиентов, которые уже перешли на новые тарифы оператора. Нужно построить модель для задачи классификации, которая выберет подходящий тариф. Предобработка данных не понадобится — вы её уже сделали.\n",
    "\n",
    "Построить модель нужно с максимально большим значением *accuracy*. Чтобы сдать проект успешно, нужно довести долю правильных ответов по крайней мере до 0.75. Проверьте *accuracy* на тестовой выборке самостоятельно."
   ]
  },
  {
   "cell_type": "markdown",
   "metadata": {},
   "source": [
    "Описание проекта\n",
    "\n",
    "\n",
    "Оператор мобильной связи выяснил: многие клиенты пользуются архивными тарифами. Они хотят построить систему, способную проанализировать поведение клиентов и предложить пользователям новый тариф: «Смарт» или «Ультра».\n",
    "В вашем распоряжении данные о поведении клиентов, которые уже перешли на эти тарифы. Нужно построить модель для задачи классификации, которая выберет подходящий тариф.\n",
    "Построим модель с максимально большим значением accuracy. Чтобы сдать проект успешно, нужно довести долю правильных ответов по крайней мере до 0.75. Проверим accuracy на тестовой выборке самостоятельно."
   ]
  },
  {
   "cell_type": "markdown",
   "metadata": {},
   "source": [
    "## Откройте и изучите файл"
   ]
  },
  {
   "cell_type": "code",
   "execution_count": 1,
   "metadata": {},
   "outputs": [],
   "source": [
    "#импортируем библиотеку и откроем файл\n",
    "import pandas as pd\n",
    "\n",
    "try:\n",
    "    data = pd.read_csv('/datasets/users_behavior.csv')\n",
    "except:\n",
    "    data = pd.read_csv('https://_________/datasets/users_behavior.csv')"
   ]
  },
  {
   "cell_type": "code",
   "execution_count": 2,
   "metadata": {},
   "outputs": [
    {
     "name": "stdout",
     "output_type": "stream",
     "text": [
      "<class 'pandas.core.frame.DataFrame'>\n",
      "RangeIndex: 3214 entries, 0 to 3213\n",
      "Data columns (total 5 columns):\n",
      " #   Column    Non-Null Count  Dtype  \n",
      "---  ------    --------------  -----  \n",
      " 0   calls     3214 non-null   float64\n",
      " 1   minutes   3214 non-null   float64\n",
      " 2   messages  3214 non-null   float64\n",
      " 3   mb_used   3214 non-null   float64\n",
      " 4   is_ultra  3214 non-null   int64  \n",
      "dtypes: float64(4), int64(1)\n",
      "memory usage: 125.7 KB\n"
     ]
    }
   ],
   "source": [
    "#посмотрим общую информацию о данных файлах\n",
    "data.info()"
   ]
  },
  {
   "cell_type": "code",
   "execution_count": 3,
   "metadata": {},
   "outputs": [
    {
     "data": {
      "text/html": [
       "<div>\n",
       "<style scoped>\n",
       "    .dataframe tbody tr th:only-of-type {\n",
       "        vertical-align: middle;\n",
       "    }\n",
       "\n",
       "    .dataframe tbody tr th {\n",
       "        vertical-align: top;\n",
       "    }\n",
       "\n",
       "    .dataframe thead th {\n",
       "        text-align: right;\n",
       "    }\n",
       "</style>\n",
       "<table border=\"1\" class=\"dataframe\">\n",
       "  <thead>\n",
       "    <tr style=\"text-align: right;\">\n",
       "      <th></th>\n",
       "      <th>calls</th>\n",
       "      <th>minutes</th>\n",
       "      <th>messages</th>\n",
       "      <th>mb_used</th>\n",
       "      <th>is_ultra</th>\n",
       "    </tr>\n",
       "  </thead>\n",
       "  <tbody>\n",
       "    <tr>\n",
       "      <th>0</th>\n",
       "      <td>40.0</td>\n",
       "      <td>311.90</td>\n",
       "      <td>83.0</td>\n",
       "      <td>19915.42</td>\n",
       "      <td>0</td>\n",
       "    </tr>\n",
       "    <tr>\n",
       "      <th>1</th>\n",
       "      <td>85.0</td>\n",
       "      <td>516.75</td>\n",
       "      <td>56.0</td>\n",
       "      <td>22696.96</td>\n",
       "      <td>0</td>\n",
       "    </tr>\n",
       "    <tr>\n",
       "      <th>2</th>\n",
       "      <td>77.0</td>\n",
       "      <td>467.66</td>\n",
       "      <td>86.0</td>\n",
       "      <td>21060.45</td>\n",
       "      <td>0</td>\n",
       "    </tr>\n",
       "    <tr>\n",
       "      <th>3</th>\n",
       "      <td>106.0</td>\n",
       "      <td>745.53</td>\n",
       "      <td>81.0</td>\n",
       "      <td>8437.39</td>\n",
       "      <td>1</td>\n",
       "    </tr>\n",
       "    <tr>\n",
       "      <th>4</th>\n",
       "      <td>66.0</td>\n",
       "      <td>418.74</td>\n",
       "      <td>1.0</td>\n",
       "      <td>14502.75</td>\n",
       "      <td>0</td>\n",
       "    </tr>\n",
       "    <tr>\n",
       "      <th>5</th>\n",
       "      <td>58.0</td>\n",
       "      <td>344.56</td>\n",
       "      <td>21.0</td>\n",
       "      <td>15823.37</td>\n",
       "      <td>0</td>\n",
       "    </tr>\n",
       "    <tr>\n",
       "      <th>6</th>\n",
       "      <td>57.0</td>\n",
       "      <td>431.64</td>\n",
       "      <td>20.0</td>\n",
       "      <td>3738.90</td>\n",
       "      <td>1</td>\n",
       "    </tr>\n",
       "    <tr>\n",
       "      <th>7</th>\n",
       "      <td>15.0</td>\n",
       "      <td>132.40</td>\n",
       "      <td>6.0</td>\n",
       "      <td>21911.60</td>\n",
       "      <td>0</td>\n",
       "    </tr>\n",
       "    <tr>\n",
       "      <th>8</th>\n",
       "      <td>7.0</td>\n",
       "      <td>43.39</td>\n",
       "      <td>3.0</td>\n",
       "      <td>2538.67</td>\n",
       "      <td>1</td>\n",
       "    </tr>\n",
       "    <tr>\n",
       "      <th>9</th>\n",
       "      <td>90.0</td>\n",
       "      <td>665.41</td>\n",
       "      <td>38.0</td>\n",
       "      <td>17358.61</td>\n",
       "      <td>0</td>\n",
       "    </tr>\n",
       "  </tbody>\n",
       "</table>\n",
       "</div>"
      ],
      "text/plain": [
       "   calls  minutes  messages   mb_used  is_ultra\n",
       "0   40.0   311.90      83.0  19915.42         0\n",
       "1   85.0   516.75      56.0  22696.96         0\n",
       "2   77.0   467.66      86.0  21060.45         0\n",
       "3  106.0   745.53      81.0   8437.39         1\n",
       "4   66.0   418.74       1.0  14502.75         0\n",
       "5   58.0   344.56      21.0  15823.37         0\n",
       "6   57.0   431.64      20.0   3738.90         1\n",
       "7   15.0   132.40       6.0  21911.60         0\n",
       "8    7.0    43.39       3.0   2538.67         1\n",
       "9   90.0   665.41      38.0  17358.61         0"
      ]
     },
     "execution_count": 3,
     "metadata": {},
     "output_type": "execute_result"
    }
   ],
   "source": [
    "#посмотрим первые 10 строк данных\n",
    "data.head(10)"
   ]
  },
  {
   "cell_type": "code",
   "execution_count": 4,
   "metadata": {},
   "outputs": [
    {
     "data": {
      "text/html": [
       "<div>\n",
       "<style scoped>\n",
       "    .dataframe tbody tr th:only-of-type {\n",
       "        vertical-align: middle;\n",
       "    }\n",
       "\n",
       "    .dataframe tbody tr th {\n",
       "        vertical-align: top;\n",
       "    }\n",
       "\n",
       "    .dataframe thead th {\n",
       "        text-align: right;\n",
       "    }\n",
       "</style>\n",
       "<table border=\"1\" class=\"dataframe\">\n",
       "  <thead>\n",
       "    <tr style=\"text-align: right;\">\n",
       "      <th></th>\n",
       "      <th>calls</th>\n",
       "      <th>minutes</th>\n",
       "      <th>messages</th>\n",
       "      <th>mb_used</th>\n",
       "      <th>is_ultra</th>\n",
       "    </tr>\n",
       "  </thead>\n",
       "  <tbody>\n",
       "    <tr>\n",
       "      <th>count</th>\n",
       "      <td>3214.000000</td>\n",
       "      <td>3214.000000</td>\n",
       "      <td>3214.000000</td>\n",
       "      <td>3214.000000</td>\n",
       "      <td>3214.000000</td>\n",
       "    </tr>\n",
       "    <tr>\n",
       "      <th>mean</th>\n",
       "      <td>63.038892</td>\n",
       "      <td>438.208787</td>\n",
       "      <td>38.281269</td>\n",
       "      <td>17207.673836</td>\n",
       "      <td>0.306472</td>\n",
       "    </tr>\n",
       "    <tr>\n",
       "      <th>std</th>\n",
       "      <td>33.236368</td>\n",
       "      <td>234.569872</td>\n",
       "      <td>36.148326</td>\n",
       "      <td>7570.968246</td>\n",
       "      <td>0.461100</td>\n",
       "    </tr>\n",
       "    <tr>\n",
       "      <th>min</th>\n",
       "      <td>0.000000</td>\n",
       "      <td>0.000000</td>\n",
       "      <td>0.000000</td>\n",
       "      <td>0.000000</td>\n",
       "      <td>0.000000</td>\n",
       "    </tr>\n",
       "    <tr>\n",
       "      <th>25%</th>\n",
       "      <td>40.000000</td>\n",
       "      <td>274.575000</td>\n",
       "      <td>9.000000</td>\n",
       "      <td>12491.902500</td>\n",
       "      <td>0.000000</td>\n",
       "    </tr>\n",
       "    <tr>\n",
       "      <th>50%</th>\n",
       "      <td>62.000000</td>\n",
       "      <td>430.600000</td>\n",
       "      <td>30.000000</td>\n",
       "      <td>16943.235000</td>\n",
       "      <td>0.000000</td>\n",
       "    </tr>\n",
       "    <tr>\n",
       "      <th>75%</th>\n",
       "      <td>82.000000</td>\n",
       "      <td>571.927500</td>\n",
       "      <td>57.000000</td>\n",
       "      <td>21424.700000</td>\n",
       "      <td>1.000000</td>\n",
       "    </tr>\n",
       "    <tr>\n",
       "      <th>max</th>\n",
       "      <td>244.000000</td>\n",
       "      <td>1632.060000</td>\n",
       "      <td>224.000000</td>\n",
       "      <td>49745.730000</td>\n",
       "      <td>1.000000</td>\n",
       "    </tr>\n",
       "  </tbody>\n",
       "</table>\n",
       "</div>"
      ],
      "text/plain": [
       "             calls      minutes     messages       mb_used     is_ultra\n",
       "count  3214.000000  3214.000000  3214.000000   3214.000000  3214.000000\n",
       "mean     63.038892   438.208787    38.281269  17207.673836     0.306472\n",
       "std      33.236368   234.569872    36.148326   7570.968246     0.461100\n",
       "min       0.000000     0.000000     0.000000      0.000000     0.000000\n",
       "25%      40.000000   274.575000     9.000000  12491.902500     0.000000\n",
       "50%      62.000000   430.600000    30.000000  16943.235000     0.000000\n",
       "75%      82.000000   571.927500    57.000000  21424.700000     1.000000\n",
       "max     244.000000  1632.060000   224.000000  49745.730000     1.000000"
      ]
     },
     "execution_count": 4,
     "metadata": {},
     "output_type": "execute_result"
    }
   ],
   "source": [
    "#построим гистограммы, для этого посмотрим какие есть столбцы и какие данные\n",
    "data.describe()"
   ]
  },
  {
   "cell_type": "code",
   "execution_count": 5,
   "metadata": {},
   "outputs": [
    {
     "data": {
      "text/plain": [
       "array([[<Axes: title={'center': 'calls'}>,\n",
       "        <Axes: title={'center': 'minutes'}>],\n",
       "       [<Axes: title={'center': 'messages'}>,\n",
       "        <Axes: title={'center': 'mb_used'}>],\n",
       "       [<Axes: title={'center': 'is_ultra'}>, <Axes: >]], dtype=object)"
      ]
     },
     "execution_count": 5,
     "metadata": {},
     "output_type": "execute_result"
    },
    {
     "data": {
      "image/png": "[encoded data removed]",
      "text/plain": [
       "<Figure size 2000x2000 with 6 Axes>"
      ]
     },
     "metadata": {},
     "output_type": "display_data"
    }
   ],
   "source": [
    "#построим графики для столбцов \n",
    "data.hist(figsize=(20,20))"
   ]
  },
  {
   "cell_type": "code",
   "execution_count": 6,
   "metadata": {},
   "outputs": [
    {
     "data": {
      "text/plain": [
       "array([<Axes: ylabel='is_ultra'>], dtype=object)"
      ]
     },
     "execution_count": 6,
     "metadata": {},
     "output_type": "execute_result"
    },
    {
     "data": {
      "image/png": "[encoded data removed]",
      "text/plain": [
       "<Figure size 1000x1000 with 1 Axes>"
      ]
     },
     "metadata": {},
     "output_type": "display_data"
    }
   ],
   "source": [
    "# для столбца с тарифами потроим круговую диаграмму\n",
    "data.groupby('is_ultra').agg({'is_ultra':'count'}).plot(kind='pie',subplots=True, figsize=(10,10), title='Тарифы')"
   ]
  },
  {
   "cell_type": "code",
   "execution_count": 7,
   "metadata": {},
   "outputs": [
    {
     "data": {
      "text/plain": [
       "calls       0\n",
       "minutes     0\n",
       "messages    0\n",
       "mb_used     0\n",
       "is_ultra    0\n",
       "dtype: int64"
      ]
     },
     "execution_count": 7,
     "metadata": {},
     "output_type": "execute_result"
    }
   ],
   "source": [
    "#посмотрим пропуски\n",
    "data.isna().sum()"
   ]
  },
  {
   "cell_type": "code",
   "execution_count": 8,
   "metadata": {},
   "outputs": [
    {
     "data": {
      "text/plain": [
       "Index(['calls', 'minutes', 'messages', 'mb_used', 'is_ultra'], dtype='object')"
      ]
     },
     "execution_count": 8,
     "metadata": {},
     "output_type": "execute_result"
    }
   ],
   "source": [
    "# проверим названия столбцов\n",
    "data.columns"
   ]
  },
  {
   "cell_type": "markdown",
   "metadata": {},
   "source": [
    "Вывод: данные были загружены, мы посмотрели общую информацию о данных, какие есть данные, посмотрели, есть ли пропуски, проверили названия столбцов, посмотрели в гистаграммах, как распределены данные, построили круговую диаграмму для тарифов."
   ]
  },
  {
   "cell_type": "markdown",
   "metadata": {},
   "source": [
    "## Разбейте данные на выборки"
   ]
  },
  {
   "cell_type": "code",
   "execution_count": 9,
   "metadata": {},
   "outputs": [],
   "source": [
    "#разобьем данные на выборки\n",
    "from sklearn.model_selection import train_test_split\n",
    "features = data.drop(['is_ultra'], axis=1)\n",
    "target = data['is_ultra']\n",
    "#сначала отделим тестовую выборку, 20% для тестовой выборки\n",
    "features_l_v, features_test, target_l_v, target_test = train_test_split(\n",
    "    features, target, test_size=0.20, random_state=12345,stratify=target) \n",
    "#разделим на обучающую и валидационную выборку, 25% для валидационной выборки\n",
    "features_train, features_valid, target_train, target_valid = train_test_split(\n",
    "    features, target, test_size=0.25, random_state=12345,stratify=target)"
   ]
  },
  {
   "cell_type": "markdown",
   "metadata": {},
   "source": [
    "Вывод: сделали разделение данных, сначала отделили тестовые данные, чтобы модель на них не училась, и мы потом могли бы сделать проверку на них, после разделили выборку на обучающую и на валидационную."
   ]
  },
  {
   "cell_type": "code",
   "execution_count": 10,
   "metadata": {},
   "outputs": [
    {
     "name": "stdout",
     "output_type": "stream",
     "text": [
      "Тестовая выборка: (643, 4) (643,) Обучающая выборка: (2410, 4) (2410,) Валидационная выборка: (804, 4) (804,)\n"
     ]
    }
   ],
   "source": [
    "#проверим размер выборок\n",
    "print('Тестовая выборка:', features_test.shape, target_test.shape,\n",
    "    'Обучающая выборка:', features_train.shape, target_train.shape,\n",
    "    'Валидационная выборка:', features_valid.shape, target_valid.shape\n",
    "     )"
   ]
  },
  {
   "cell_type": "markdown",
   "metadata": {},
   "source": [
    "## Исследуйте модели"
   ]
  },
  {
   "cell_type": "code",
   "execution_count": 11,
   "metadata": {},
   "outputs": [
    {
     "name": "stdout",
     "output_type": "stream",
     "text": [
      "Accuracy модели на валидационной выборке: 0.7325870646766169\n"
     ]
    }
   ],
   "source": [
    "#построим дерево решений\n",
    "from sklearn.tree import DecisionTreeClassifier\n",
    "from sklearn.metrics import accuracy_score\n",
    "model = DecisionTreeClassifier(random_state=12345)\n",
    "\n",
    "model.fit(features_train, target_train)\n",
    "predictions_valid = model.predict(features_valid)\n",
    "print(\"Accuracy модели на валидационной выборке:\", accuracy_score(target_valid, predictions_valid))"
   ]
  },
  {
   "cell_type": "code",
   "execution_count": 12,
   "metadata": {},
   "outputs": [
    {
     "name": "stdout",
     "output_type": "stream",
     "text": [
      "Accuracy наилучшей модели на валидационной выборке: 0.7985074626865671\n"
     ]
    }
   ],
   "source": [
    "#построим случайный лес (зададим количество деревьев от 1 до 10), выберем и сохраним лучшую модель\n",
    "from sklearn.ensemble import RandomForestClassifier\n",
    "\n",
    "best_model = None\n",
    "best_result = 0\n",
    "for est in range(1, 11):\n",
    "    model = RandomForestClassifier(random_state=12345, n_estimators=est) \n",
    "    model.fit(features_train, target_train) \n",
    "    result = model.score(features_valid, target_valid) \n",
    "    if result > best_result:\n",
    "        best_model = model \n",
    "        best_result = result \n",
    "\n",
    "print(\"Accuracy наилучшей модели на валидационной выборке:\", best_result)"
   ]
  },
  {
   "cell_type": "code",
   "execution_count": 13,
   "metadata": {},
   "outputs": [
    {
     "name": "stdout",
     "output_type": "stream",
     "text": [
      "Accuracy модели на валидационной выборке: 0.7412935323383084\n"
     ]
    }
   ],
   "source": [
    "#логистическая регрессия\n",
    "from sklearn.linear_model import LogisticRegression\n",
    "model = LogisticRegression(random_state=12345, solver='lbfgs', max_iter=1000) \n",
    "model.fit(features_train, target_train) \n",
    "predictions_valid = model.predict(features_valid) \n",
    "\n",
    "print(\"Accuracy модели на валидационной выборке:\", accuracy_score(target_valid, predictions_valid))"
   ]
  },
  {
   "cell_type": "markdown",
   "metadata": {},
   "source": [
    "Вывод: мы построили три разных модели, дерево решений, случайный лес, логистическую регрессию, самый лучший результат показал случайный лес, с ним поработаем дальше"
   ]
  },
  {
   "cell_type": "code",
   "execution_count": 14,
   "metadata": {},
   "outputs": [
    {
     "name": "stdout",
     "output_type": "stream",
     "text": [
      "Accuracy модели на валидационной выборке: 0.7338308457711443.\n"
     ]
    }
   ],
   "source": [
    "# выполним задание: Исследуйте качество разных моделей, меняя гиперпараметры\n",
    "# начнем с дерева решений, по умолчанию устновлен criterion gini, поменяем его\n",
    "model = DecisionTreeClassifier(random_state=12345, criterion='entropy')\n",
    "\n",
    "model.fit(features_train, target_train)\n",
    "predictions_valid = model.predict(features_valid)\n",
    "print(f\"Accuracy модели на валидационной выборке: {accuracy_score(target_valid, predictions_valid)}.\")"
   ]
  },
  {
   "cell_type": "code",
   "execution_count": 15,
   "metadata": {},
   "outputs": [
    {
     "name": "stdout",
     "output_type": "stream",
     "text": [
      "Accuracy модели на валидационной выборке: 0.7276119402985075.\n"
     ]
    }
   ],
   "source": [
    "#поменяем еще пару параметров, min_samples_split по умолчанию 2, попробуем 4, splitter по умолчанию best, поменяем на random\n",
    "model = DecisionTreeClassifier(random_state=12345, criterion='entropy', min_samples_split=4, splitter='random' )\n",
    "\n",
    "model.fit(features_train, target_train)\n",
    "predictions_valid = model.predict(features_valid)\n",
    "print(f\"Accuracy модели на валидационной выборке: {accuracy_score(target_valid, predictions_valid)}.\")"
   ]
  },
  {
   "cell_type": "code",
   "execution_count": 16,
   "metadata": {},
   "outputs": [
    {
     "name": "stdout",
     "output_type": "stream",
     "text": [
      "Accuracy наилучшей модели на валидационной выборке: 0.7898009950248757.\n"
     ]
    }
   ],
   "source": [
    "#поработаем над случайным лесом\n",
    "#criterion по умолчанию gini, попробуем entropy, может и здесь как в дереве решений увеличится точность\n",
    "best_model = None\n",
    "best_result = 0\n",
    "for est in range(1, 11):\n",
    "    model = RandomForestClassifier(random_state=12345, n_estimators=est, criterion='entropy') \n",
    "    model.fit(features_train, target_train) \n",
    "    result = model.score(features_valid, target_valid) \n",
    "    if result > best_result:\n",
    "        best_model = model \n",
    "        best_result = result \n",
    "\n",
    "print(f\"Accuracy наилучшей модели на валидационной выборке: {best_result}.\")"
   ]
  },
  {
   "cell_type": "code",
   "execution_count": 17,
   "metadata": {},
   "outputs": [
    {
     "name": "stdout",
     "output_type": "stream",
     "text": [
      "Accuracy наилучшей модели на валидационной выборке: 0.7873134328358209.\n"
     ]
    }
   ],
   "source": [
    "#min_samples_leaf вместо 1 по умолчанию поставим 3 и попробуем гиперпараметр class_weight\n",
    "best_model = None\n",
    "best_result = 0\n",
    "for est in range(1, 11):\n",
    "    model = RandomForestClassifier(random_state=12345, n_estimators=est, min_samples_leaf=3, class_weight='balanced') \n",
    "    model.fit(features_train, target_train) \n",
    "    result = model.score(features_valid, target_valid) \n",
    "    if result > best_result:\n",
    "        best_model = model \n",
    "        best_result = result \n",
    "\n",
    "print(f\"Accuracy наилучшей модели на валидационной выборке: {best_result}.\")"
   ]
  },
  {
   "cell_type": "code",
   "execution_count": 18,
   "metadata": {},
   "outputs": [
    {
     "name": "stdout",
     "output_type": "stream",
     "text": [
      "Accuracy модели на валидационной выборке: 0.31467661691542287.\n"
     ]
    },
    {
     "name": "stderr",
     "output_type": "stream",
     "text": [
      "D:\\anaconda\\lib\\site-packages\\sklearn\\linear_model\\_sag.py:350: ConvergenceWarning: The max_iter was reached which means the coef_ did not converge\n",
      "  warnings.warn(\n"
     ]
    }
   ],
   "source": [
    "# перейдем в логистической регрессии, поменяем значения параметров class_weight, solver, penalty\n",
    "model = LogisticRegression(random_state=12345, solver='saga', max_iter=1000, penalty='l1', class_weight='balanced') \n",
    "model.fit(features_train, target_train) \n",
    "predictions_valid = model.predict(features_valid) \n",
    "\n",
    "print(f\"Accuracy модели на валидационной выборке: {accuracy_score(target_valid, predictions_valid)}.\")"
   ]
  },
  {
   "cell_type": "markdown",
   "metadata": {},
   "source": [
    "## Проверьте модель на тестовой выборке"
   ]
  },
  {
   "cell_type": "code",
   "execution_count": 19,
   "metadata": {},
   "outputs": [
    {
     "name": "stdout",
     "output_type": "stream",
     "text": [
      "Accuracy модели на тестовой выборке: 0.80248833592535\n"
     ]
    }
   ],
   "source": [
    "#случайный лес показал наибольшую точность, проверим на тестовых данных эту модель\n",
    "model = RandomForestClassifier(random_state=12345) \n",
    "model.fit(features_train, target_train)  \n",
    "predictions_test = model.predict(features_test)\n",
    "print(\"Accuracy модели на тестовой выборке:\", accuracy_score(target_test, predictions_test))"
   ]
  },
  {
   "cell_type": "markdown",
   "metadata": {},
   "source": [
    "Вывод: проверили на тестовых данных модель соучайный лес, которая раньше показала лучший результат, на тестовых данных результат даже выше."
   ]
  },
  {
   "cell_type": "markdown",
   "metadata": {},
   "source": [
    "## (бонус) Проверьте модели на адекватность"
   ]
  },
  {
   "cell_type": "code",
   "execution_count": 20,
   "metadata": {},
   "outputs": [
    {
     "name": "stdout",
     "output_type": "stream",
     "text": [
      "Accuracy модели на тестовой выборке: 0.6940298507462687\n"
     ]
    }
   ],
   "source": [
    "#построим для проверки новую модель для проверки нашей модели\n",
    "from sklearn.dummy import DummyClassifier\n",
    "model = DummyClassifier(strategy=\"most_frequent\")\n",
    "model.fit(features_train, target_train)\n",
    "predictions_valid = model.predict(features_valid)\n",
    "print(\"Accuracy модели на тестовой выборке:\", accuracy_score(target_valid, predictions_valid))"
   ]
  },
  {
   "cell_type": "markdown",
   "metadata": {},
   "source": [
    "Вывод: мы построили модель, пользующими простыми правилами для предсказаний, но наша модель получила большую точность, значит она адекватна."
   ]
  },
  {
   "cell_type": "markdown",
   "metadata": {},
   "source": [
    "Общий вывод: 1) мы изучили данные, проверили пропуски, названия столбцов, построили графики для данных, 2) мы провели разделение выборки на тестовую, обучающую и валидационную, 3) построили три разных модели, одна из которых показала больший результат, 4) проверили лучшую модель на тестовой выборке, 6) проверили адекватность модели, построив простенькую модель и определив, что точность нашей модели выше."
   ]
  }
 ],
 "metadata": {
  "ExecuteTimeLog": [
   {
    "duration": 408,
    "start_time": "2023-03-03T17:22:13.288Z"
   },
   {
    "duration": 12,
    "start_time": "2023-03-03T17:22:29.067Z"
   },
   {
    "duration": 16,
    "start_time": "2023-03-03T17:22:50.193Z"
   },
   {
    "duration": 20,
    "start_time": "2023-03-03T17:23:09.013Z"
   },
   {
    "duration": 937,
    "start_time": "2023-03-03T17:23:29.682Z"
   },
   {
    "duration": 6,
    "start_time": "2023-03-03T17:23:55.182Z"
   },
   {
    "duration": 184,
    "start_time": "2023-03-03T17:24:55.993Z"
   },
   {
    "duration": 177,
    "start_time": "2023-03-03T17:26:02.507Z"
   },
   {
    "duration": 6,
    "start_time": "2023-03-03T17:26:07.193Z"
   },
   {
    "duration": 4,
    "start_time": "2023-03-03T17:26:33.095Z"
   },
   {
    "duration": 846,
    "start_time": "2023-03-03T18:44:33.972Z"
   },
   {
    "duration": 12,
    "start_time": "2023-03-03T18:44:59.303Z"
   },
   {
    "duration": 67,
    "start_time": "2023-03-03T19:02:10.083Z"
   },
   {
    "duration": 23,
    "start_time": "2023-03-03T19:06:58.395Z"
   },
   {
    "duration": 17,
    "start_time": "2023-03-03T19:07:41.087Z"
   },
   {
    "duration": 11,
    "start_time": "2023-03-03T19:09:49.307Z"
   },
   {
    "duration": 293,
    "start_time": "2023-03-03T19:10:05.088Z"
   },
   {
    "duration": 17,
    "start_time": "2023-03-03T19:10:35.899Z"
   },
   {
    "duration": 302,
    "start_time": "2023-03-03T19:10:46.558Z"
   },
   {
    "duration": 397,
    "start_time": "2023-03-03T19:12:45.855Z"
   },
   {
    "duration": 431,
    "start_time": "2023-03-03T19:25:15.176Z"
   },
   {
    "duration": 55,
    "start_time": "2023-03-03T19:29:33.613Z"
   },
   {
    "duration": 4,
    "start_time": "2023-03-03T19:29:59.874Z"
   },
   {
    "duration": 60,
    "start_time": "2023-03-04T10:27:55.086Z"
   },
   {
    "duration": 477,
    "start_time": "2023-03-04T10:28:09.583Z"
   },
   {
    "duration": 13,
    "start_time": "2023-03-04T10:28:10.062Z"
   },
   {
    "duration": 19,
    "start_time": "2023-03-04T10:28:10.077Z"
   },
   {
    "duration": 24,
    "start_time": "2023-03-04T10:28:10.098Z"
   },
   {
    "duration": 1135,
    "start_time": "2023-03-04T10:28:10.124Z"
   },
   {
    "duration": 226,
    "start_time": "2023-03-04T10:28:11.261Z"
   },
   {
    "duration": 6,
    "start_time": "2023-03-04T10:28:11.489Z"
   },
   {
    "duration": 6,
    "start_time": "2023-03-04T10:28:11.496Z"
   },
   {
    "duration": 674,
    "start_time": "2023-03-04T10:28:11.503Z"
   },
   {
    "duration": 84,
    "start_time": "2023-03-04T10:28:18.365Z"
   },
   {
    "duration": 6,
    "start_time": "2023-03-04T10:28:30.668Z"
   },
   {
    "duration": 6,
    "start_time": "2023-03-04T10:35:46.001Z"
   },
   {
    "duration": 28,
    "start_time": "2023-03-04T10:42:35.354Z"
   },
   {
    "duration": 14,
    "start_time": "2023-03-04T10:42:35.384Z"
   },
   {
    "duration": 12,
    "start_time": "2023-03-04T10:42:35.400Z"
   },
   {
    "duration": 53,
    "start_time": "2023-03-04T10:42:35.419Z"
   },
   {
    "duration": 865,
    "start_time": "2023-03-04T10:42:35.474Z"
   },
   {
    "duration": 167,
    "start_time": "2023-03-04T10:42:36.341Z"
   },
   {
    "duration": 22,
    "start_time": "2023-03-04T10:42:36.509Z"
   },
   {
    "duration": 14,
    "start_time": "2023-03-04T10:42:36.536Z"
   },
   {
    "duration": 11,
    "start_time": "2023-03-04T10:42:36.552Z"
   },
   {
    "duration": 17,
    "start_time": "2023-03-04T10:42:36.565Z"
   },
   {
    "duration": 64,
    "start_time": "2023-03-04T10:42:36.583Z"
   },
   {
    "duration": 319,
    "start_time": "2023-03-04T10:42:36.649Z"
   },
   {
    "duration": 1773,
    "start_time": "2023-03-04T10:42:36.970Z"
   },
   {
    "duration": 16,
    "start_time": "2023-03-04T10:44:37.168Z"
   },
   {
    "duration": 21,
    "start_time": "2023-03-04T10:44:49.641Z"
   },
   {
    "duration": 25,
    "start_time": "2023-03-04T10:46:58.782Z"
   },
   {
    "duration": 32,
    "start_time": "2023-03-04T10:47:38.106Z"
   },
   {
    "duration": 12,
    "start_time": "2023-03-04T10:48:40.082Z"
   },
   {
    "duration": 25,
    "start_time": "2023-03-04T10:51:38.837Z"
   },
   {
    "duration": 394,
    "start_time": "2023-03-04T10:52:15.239Z"
   },
   {
    "duration": 282,
    "start_time": "2023-03-04T10:55:50.171Z"
   },
   {
    "duration": 366,
    "start_time": "2023-03-04T10:57:06.399Z"
   },
   {
    "duration": 306,
    "start_time": "2023-03-04T10:57:19.486Z"
   },
   {
    "duration": 13,
    "start_time": "2023-03-04T11:00:35.449Z"
   },
   {
    "duration": 289,
    "start_time": "2023-03-04T11:00:45.408Z"
   },
   {
    "duration": 371,
    "start_time": "2023-03-04T11:01:45.926Z"
   },
   {
    "duration": 298,
    "start_time": "2023-03-04T11:01:53.574Z"
   },
   {
    "duration": 302,
    "start_time": "2023-03-04T11:02:14.172Z"
   },
   {
    "duration": 506,
    "start_time": "2023-03-04T11:04:23.995Z"
   },
   {
    "duration": 5,
    "start_time": "2023-03-04T11:04:32.758Z"
   },
   {
    "duration": 482,
    "start_time": "2023-03-22T20:21:43.488Z"
   },
   {
    "duration": 14,
    "start_time": "2023-03-22T20:21:43.973Z"
   },
   {
    "duration": 21,
    "start_time": "2023-03-22T20:21:43.989Z"
   },
   {
    "duration": 28,
    "start_time": "2023-03-22T20:21:44.011Z"
   },
   {
    "duration": 949,
    "start_time": "2023-03-22T20:21:44.041Z"
   },
   {
    "duration": 168,
    "start_time": "2023-03-22T20:21:44.992Z"
   },
   {
    "duration": 5,
    "start_time": "2023-03-22T20:21:45.162Z"
   },
   {
    "duration": 27,
    "start_time": "2023-03-22T20:21:45.175Z"
   },
   {
    "duration": 75,
    "start_time": "2023-03-22T20:21:48.313Z"
   },
   {
    "duration": 31,
    "start_time": "2023-03-22T20:21:57.224Z"
   },
   {
    "duration": 14,
    "start_time": "2023-03-22T20:21:57.257Z"
   },
   {
    "duration": 13,
    "start_time": "2023-03-22T20:21:57.273Z"
   },
   {
    "duration": 78,
    "start_time": "2023-03-22T20:21:57.287Z"
   },
   {
    "duration": 687,
    "start_time": "2023-03-22T20:21:57.368Z"
   },
   {
    "duration": 169,
    "start_time": "2023-03-22T20:21:58.057Z"
   },
   {
    "duration": 6,
    "start_time": "2023-03-22T20:21:58.228Z"
   },
   {
    "duration": 8,
    "start_time": "2023-03-22T20:21:58.235Z"
   },
   {
    "duration": 735,
    "start_time": "2023-03-22T20:21:58.245Z"
   },
   {
    "duration": 6,
    "start_time": "2023-03-22T20:22:04.148Z"
   }
  ],
  "kernelspec": {
   "display_name": "Python 3 (ipykernel)",
   "language": "python",
   "name": "python3"
  },
  "language_info": {
   "codemirror_mode": {
    "name": "ipython",
    "version": 3
   },
   "file_extension": ".py",
   "mimetype": "text/x-python",
   "name": "python",
   "nbconvert_exporter": "python",
   "pygments_lexer": "ipython3",
   "version": "3.10.9"
  },
  "toc": {
   "base_numbering": 1,
   "nav_menu": {},
   "number_sections": true,
   "sideBar": true,
   "skip_h1_title": true,
   "title_cell": "Table of Contents",
   "title_sidebar": "Contents",
   "toc_cell": false,
   "toc_position": {},
   "toc_section_display": true,
   "toc_window_display": false
  }
 },
 "nbformat": 4,
 "nbformat_minor": 2
}
