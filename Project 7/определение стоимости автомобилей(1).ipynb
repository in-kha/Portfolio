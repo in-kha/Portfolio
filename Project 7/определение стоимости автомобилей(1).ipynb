{
 "cells": [
  {
   "cell_type": "markdown",
   "metadata": {},
   "source": [
    "# Определение стоимости автомобилей"
   ]
  },
  {
   "cell_type": "markdown",
   "metadata": {},
   "source": [
    "Сервис по продаже автомобилей с пробегом разрабатывает приложение для привлечения новых клиентов. В нём можно быстро узнать рыночную стоимость своего автомобиля. В нашем распоряжении исторические данные: технические характеристики, комплектации и цены автомобилей. Нам нужно построить модель для определения стоимости. \n",
    "\n",
    "Заказчику важны:\n",
    "\n",
    "- качество предсказания;\n",
    "- скорость предсказания;\n",
    "- время обучения."
   ]
  },
  {
   "cell_type": "markdown",
   "metadata": {},
   "source": [
    "## Подготовка данных"
   ]
  },
  {
   "cell_type": "code",
   "execution_count": 1,
   "metadata": {},
   "outputs": [
    {
     "name": "stdout",
     "output_type": "stream",
     "text": [
      "Requirement already satisfied: pandas-profiling==2.11 in /opt/conda/lib/python3.9/site-packages (2.11.0)\n",
      "Requirement already satisfied: visions[type_image_path]==0.6.0 in /opt/conda/lib/python3.9/site-packages (from pandas-profiling==2.11) (0.6.0)\n",
      "Requirement already satisfied: tqdm>=4.48.2 in /opt/conda/lib/python3.9/site-packages (from pandas-profiling==2.11) (4.61.2)\n",
      "Requirement already satisfied: seaborn>=0.10.1 in /opt/conda/lib/python3.9/site-packages (from pandas-profiling==2.11) (0.11.1)\n",
      "Requirement already satisfied: jinja2>=2.11.1 in /opt/conda/lib/python3.9/site-packages (from pandas-profiling==2.11) (3.0.1)\n",
      "Requirement already satisfied: missingno>=0.4.2 in /opt/conda/lib/python3.9/site-packages (from pandas-profiling==2.11) (0.5.2)\n",
      "Requirement already satisfied: attrs>=19.3.0 in /opt/conda/lib/python3.9/site-packages (from pandas-profiling==2.11) (21.2.0)\n",
      "Requirement already satisfied: matplotlib>=3.2.0 in /opt/conda/lib/python3.9/site-packages (from pandas-profiling==2.11) (3.3.4)\n",
      "Requirement already satisfied: confuse>=1.0.0 in /opt/conda/lib/python3.9/site-packages (from pandas-profiling==2.11) (2.0.1)\n",
      "Requirement already satisfied: scipy>=1.4.1 in /opt/conda/lib/python3.9/site-packages (from pandas-profiling==2.11) (1.9.1)\n",
      "Requirement already satisfied: htmlmin>=0.1.12 in /opt/conda/lib/python3.9/site-packages (from pandas-profiling==2.11) (0.1.12)\n",
      "Requirement already satisfied: tangled-up-in-unicode>=0.0.6 in /opt/conda/lib/python3.9/site-packages (from pandas-profiling==2.11) (0.2.0)\n",
      "Requirement already satisfied: phik>=0.10.0 in /opt/conda/lib/python3.9/site-packages (from pandas-profiling==2.11) (0.12.3)\n",
      "Requirement already satisfied: pandas!=1.0.0,!=1.0.1,!=1.0.2,!=1.1.0,>=0.25.3 in /opt/conda/lib/python3.9/site-packages (from pandas-profiling==2.11) (1.2.4)\n",
      "Requirement already satisfied: numpy>=1.16.0 in /opt/conda/lib/python3.9/site-packages (from pandas-profiling==2.11) (1.21.1)\n",
      "Requirement already satisfied: ipywidgets>=7.5.1 in /opt/conda/lib/python3.9/site-packages (from pandas-profiling==2.11) (7.6.3)\n",
      "Requirement already satisfied: requests>=2.24.0 in /opt/conda/lib/python3.9/site-packages (from pandas-profiling==2.11) (2.25.1)\n",
      "Requirement already satisfied: joblib in /opt/conda/lib/python3.9/site-packages (from pandas-profiling==2.11) (1.1.0)\n",
      "Requirement already satisfied: networkx>=2.4 in /opt/conda/lib/python3.9/site-packages (from visions[type_image_path]==0.6.0->pandas-profiling==2.11) (3.1)\n",
      "Requirement already satisfied: imagehash in /opt/conda/lib/python3.9/site-packages (from visions[type_image_path]==0.6.0->pandas-profiling==2.11) (4.3.1)\n",
      "Requirement already satisfied: Pillow in /opt/conda/lib/python3.9/site-packages (from visions[type_image_path]==0.6.0->pandas-profiling==2.11) (8.4.0)\n",
      "Requirement already satisfied: pyyaml in /opt/conda/lib/python3.9/site-packages (from confuse>=1.0.0->pandas-profiling==2.11) (6.0)\n",
      "Requirement already satisfied: widgetsnbextension~=3.5.0 in /opt/conda/lib/python3.9/site-packages (from ipywidgets>=7.5.1->pandas-profiling==2.11) (3.5.2)\n",
      "Requirement already satisfied: ipython>=4.0.0 in /opt/conda/lib/python3.9/site-packages (from ipywidgets>=7.5.1->pandas-profiling==2.11) (7.25.0)\n",
      "Requirement already satisfied: traitlets>=4.3.1 in /opt/conda/lib/python3.9/site-packages (from ipywidgets>=7.5.1->pandas-profiling==2.11) (5.0.5)\n",
      "Requirement already satisfied: nbformat>=4.2.0 in /opt/conda/lib/python3.9/site-packages (from ipywidgets>=7.5.1->pandas-profiling==2.11) (5.1.3)\n",
      "Requirement already satisfied: jupyterlab-widgets>=1.0.0 in /opt/conda/lib/python3.9/site-packages (from ipywidgets>=7.5.1->pandas-profiling==2.11) (3.0.2)\n",
      "Requirement already satisfied: ipykernel>=4.5.1 in /opt/conda/lib/python3.9/site-packages (from ipywidgets>=7.5.1->pandas-profiling==2.11) (6.0.1)\n",
      "Requirement already satisfied: debugpy>=1.0.0 in /opt/conda/lib/python3.9/site-packages (from ipykernel>=4.5.1->ipywidgets>=7.5.1->pandas-profiling==2.11) (1.3.0)\n",
      "Requirement already satisfied: jupyter-client in /opt/conda/lib/python3.9/site-packages (from ipykernel>=4.5.1->ipywidgets>=7.5.1->pandas-profiling==2.11) (6.1.12)\n",
      "Requirement already satisfied: tornado>=4.2 in /opt/conda/lib/python3.9/site-packages (from ipykernel>=4.5.1->ipywidgets>=7.5.1->pandas-profiling==2.11) (6.1)\n",
      "Requirement already satisfied: matplotlib-inline in /opt/conda/lib/python3.9/site-packages (from ipython>=4.0.0->ipywidgets>=7.5.1->pandas-profiling==2.11) (0.1.2)\n",
      "Requirement already satisfied: pexpect>4.3 in /opt/conda/lib/python3.9/site-packages (from ipython>=4.0.0->ipywidgets>=7.5.1->pandas-profiling==2.11) (4.8.0)\n",
      "Requirement already satisfied: jedi>=0.16 in /opt/conda/lib/python3.9/site-packages (from ipython>=4.0.0->ipywidgets>=7.5.1->pandas-profiling==2.11) (0.18.0)\n",
      "Requirement already satisfied: backcall in /opt/conda/lib/python3.9/site-packages (from ipython>=4.0.0->ipywidgets>=7.5.1->pandas-profiling==2.11) (0.2.0)\n",
      "Requirement already satisfied: pygments in /opt/conda/lib/python3.9/site-packages (from ipython>=4.0.0->ipywidgets>=7.5.1->pandas-profiling==2.11) (2.9.0)\n",
      "Requirement already satisfied: pickleshare in /opt/conda/lib/python3.9/site-packages (from ipython>=4.0.0->ipywidgets>=7.5.1->pandas-profiling==2.11) (0.7.5)\n",
      "Requirement already satisfied: decorator in /opt/conda/lib/python3.9/site-packages (from ipython>=4.0.0->ipywidgets>=7.5.1->pandas-profiling==2.11) (5.0.9)\n",
      "Requirement already satisfied: prompt-toolkit!=3.0.0,!=3.0.1,<3.1.0,>=2.0.0 in /opt/conda/lib/python3.9/site-packages (from ipython>=4.0.0->ipywidgets>=7.5.1->pandas-profiling==2.11) (3.0.19)\n",
      "Requirement already satisfied: setuptools>=18.5 in /opt/conda/lib/python3.9/site-packages (from ipython>=4.0.0->ipywidgets>=7.5.1->pandas-profiling==2.11) (49.6.0.post20210108)\n",
      "Requirement already satisfied: parso<0.9.0,>=0.8.0 in /opt/conda/lib/python3.9/site-packages (from jedi>=0.16->ipython>=4.0.0->ipywidgets>=7.5.1->pandas-profiling==2.11) (0.8.2)\n",
      "Requirement already satisfied: MarkupSafe>=2.0 in /opt/conda/lib/python3.9/site-packages (from jinja2>=2.11.1->pandas-profiling==2.11) (2.1.1)\n",
      "Requirement already satisfied: kiwisolver>=1.0.1 in /opt/conda/lib/python3.9/site-packages (from matplotlib>=3.2.0->pandas-profiling==2.11) (1.4.4)\n",
      "Requirement already satisfied: pyparsing!=2.0.4,!=2.1.2,!=2.1.6,>=2.0.3 in /opt/conda/lib/python3.9/site-packages (from matplotlib>=3.2.0->pandas-profiling==2.11) (2.4.7)\n",
      "Requirement already satisfied: python-dateutil>=2.1 in /opt/conda/lib/python3.9/site-packages (from matplotlib>=3.2.0->pandas-profiling==2.11) (2.8.1)\n",
      "Requirement already satisfied: cycler>=0.10 in /opt/conda/lib/python3.9/site-packages (from matplotlib>=3.2.0->pandas-profiling==2.11) (0.11.0)\n",
      "Requirement already satisfied: ipython-genutils in /opt/conda/lib/python3.9/site-packages (from nbformat>=4.2.0->ipywidgets>=7.5.1->pandas-profiling==2.11) (0.2.0)\n",
      "Requirement already satisfied: jsonschema!=2.5.0,>=2.4 in /opt/conda/lib/python3.9/site-packages (from nbformat>=4.2.0->ipywidgets>=7.5.1->pandas-profiling==2.11) (3.2.0)\n",
      "Requirement already satisfied: jupyter-core in /opt/conda/lib/python3.9/site-packages (from nbformat>=4.2.0->ipywidgets>=7.5.1->pandas-profiling==2.11) (4.7.1)\n",
      "Requirement already satisfied: six>=1.11.0 in /opt/conda/lib/python3.9/site-packages (from jsonschema!=2.5.0,>=2.4->nbformat>=4.2.0->ipywidgets>=7.5.1->pandas-profiling==2.11) (1.16.0)\n",
      "Requirement already satisfied: pyrsistent>=0.14.0 in /opt/conda/lib/python3.9/site-packages (from jsonschema!=2.5.0,>=2.4->nbformat>=4.2.0->ipywidgets>=7.5.1->pandas-profiling==2.11) (0.17.3)\n",
      "Requirement already satisfied: pytz>=2017.3 in /opt/conda/lib/python3.9/site-packages (from pandas!=1.0.0,!=1.0.1,!=1.0.2,!=1.1.0,>=0.25.3->pandas-profiling==2.11) (2021.1)\n",
      "Requirement already satisfied: ptyprocess>=0.5 in /opt/conda/lib/python3.9/site-packages (from pexpect>4.3->ipython>=4.0.0->ipywidgets>=7.5.1->pandas-profiling==2.11) (0.7.0)\n",
      "Requirement already satisfied: wcwidth in /opt/conda/lib/python3.9/site-packages (from prompt-toolkit!=3.0.0,!=3.0.1,<3.1.0,>=2.0.0->ipython>=4.0.0->ipywidgets>=7.5.1->pandas-profiling==2.11) (0.2.5)\n",
      "Requirement already satisfied: chardet<5,>=3.0.2 in /opt/conda/lib/python3.9/site-packages (from requests>=2.24.0->pandas-profiling==2.11) (4.0.0)\n",
      "Requirement already satisfied: idna<3,>=2.5 in /opt/conda/lib/python3.9/site-packages (from requests>=2.24.0->pandas-profiling==2.11) (2.10)\n",
      "Requirement already satisfied: urllib3<1.27,>=1.21.1 in /opt/conda/lib/python3.9/site-packages (from requests>=2.24.0->pandas-profiling==2.11) (1.26.6)\n",
      "Requirement already satisfied: certifi>=2017.4.17 in /opt/conda/lib/python3.9/site-packages (from requests>=2.24.0->pandas-profiling==2.11) (2022.6.15)\n",
      "Requirement already satisfied: notebook>=4.4.1 in /opt/conda/lib/python3.9/site-packages (from widgetsnbextension~=3.5.0->ipywidgets>=7.5.1->pandas-profiling==2.11) (6.4.0)\n",
      "Requirement already satisfied: argon2-cffi in /opt/conda/lib/python3.9/site-packages (from notebook>=4.4.1->widgetsnbextension~=3.5.0->ipywidgets>=7.5.1->pandas-profiling==2.11) (20.1.0)\n",
      "Requirement already satisfied: nbconvert in /opt/conda/lib/python3.9/site-packages (from notebook>=4.4.1->widgetsnbextension~=3.5.0->ipywidgets>=7.5.1->pandas-profiling==2.11) (6.1.0)\n",
      "Requirement already satisfied: pyzmq>=17 in /opt/conda/lib/python3.9/site-packages (from notebook>=4.4.1->widgetsnbextension~=3.5.0->ipywidgets>=7.5.1->pandas-profiling==2.11) (22.1.0)\n",
      "Requirement already satisfied: terminado>=0.8.3 in /opt/conda/lib/python3.9/site-packages (from notebook>=4.4.1->widgetsnbextension~=3.5.0->ipywidgets>=7.5.1->pandas-profiling==2.11) (0.10.1)\n",
      "Requirement already satisfied: prometheus-client in /opt/conda/lib/python3.9/site-packages (from notebook>=4.4.1->widgetsnbextension~=3.5.0->ipywidgets>=7.5.1->pandas-profiling==2.11) (0.11.0)\n",
      "Requirement already satisfied: Send2Trash>=1.5.0 in /opt/conda/lib/python3.9/site-packages (from notebook>=4.4.1->widgetsnbextension~=3.5.0->ipywidgets>=7.5.1->pandas-profiling==2.11) (1.7.1)\n",
      "Requirement already satisfied: cffi>=1.0.0 in /opt/conda/lib/python3.9/site-packages (from argon2-cffi->notebook>=4.4.1->widgetsnbextension~=3.5.0->ipywidgets>=7.5.1->pandas-profiling==2.11) (1.14.5)\n",
      "Requirement already satisfied: pycparser in /opt/conda/lib/python3.9/site-packages (from cffi>=1.0.0->argon2-cffi->notebook>=4.4.1->widgetsnbextension~=3.5.0->ipywidgets>=7.5.1->pandas-profiling==2.11) (2.20)\n",
      "Requirement already satisfied: PyWavelets in /opt/conda/lib/python3.9/site-packages (from imagehash->visions[type_image_path]==0.6.0->pandas-profiling==2.11) (1.4.1)\n",
      "Requirement already satisfied: entrypoints>=0.2.2 in /opt/conda/lib/python3.9/site-packages (from nbconvert->notebook>=4.4.1->widgetsnbextension~=3.5.0->ipywidgets>=7.5.1->pandas-profiling==2.11) (0.3)\n",
      "Requirement already satisfied: defusedxml in /opt/conda/lib/python3.9/site-packages (from nbconvert->notebook>=4.4.1->widgetsnbextension~=3.5.0->ipywidgets>=7.5.1->pandas-profiling==2.11) (0.7.1)\n",
      "Requirement already satisfied: pandocfilters>=1.4.1 in /opt/conda/lib/python3.9/site-packages (from nbconvert->notebook>=4.4.1->widgetsnbextension~=3.5.0->ipywidgets>=7.5.1->pandas-profiling==2.11) (1.4.2)\n",
      "Requirement already satisfied: bleach in /opt/conda/lib/python3.9/site-packages (from nbconvert->notebook>=4.4.1->widgetsnbextension~=3.5.0->ipywidgets>=7.5.1->pandas-profiling==2.11) (3.3.0)\n",
      "Requirement already satisfied: jupyterlab-pygments in /opt/conda/lib/python3.9/site-packages (from nbconvert->notebook>=4.4.1->widgetsnbextension~=3.5.0->ipywidgets>=7.5.1->pandas-profiling==2.11) (0.1.2)\n",
      "Requirement already satisfied: testpath in /opt/conda/lib/python3.9/site-packages (from nbconvert->notebook>=4.4.1->widgetsnbextension~=3.5.0->ipywidgets>=7.5.1->pandas-profiling==2.11) (0.5.0)\n",
      "Requirement already satisfied: nbclient<0.6.0,>=0.5.0 in /opt/conda/lib/python3.9/site-packages (from nbconvert->notebook>=4.4.1->widgetsnbextension~=3.5.0->ipywidgets>=7.5.1->pandas-profiling==2.11) (0.5.3)\n",
      "Requirement already satisfied: mistune<2,>=0.8.1 in /opt/conda/lib/python3.9/site-packages (from nbconvert->notebook>=4.4.1->widgetsnbextension~=3.5.0->ipywidgets>=7.5.1->pandas-profiling==2.11) (0.8.4)\n",
      "Requirement already satisfied: nest-asyncio in /opt/conda/lib/python3.9/site-packages (from nbclient<0.6.0,>=0.5.0->nbconvert->notebook>=4.4.1->widgetsnbextension~=3.5.0->ipywidgets>=7.5.1->pandas-profiling==2.11) (1.5.1)\n",
      "Requirement already satisfied: async-generator in /opt/conda/lib/python3.9/site-packages (from nbclient<0.6.0,>=0.5.0->nbconvert->notebook>=4.4.1->widgetsnbextension~=3.5.0->ipywidgets>=7.5.1->pandas-profiling==2.11) (1.10)\n",
      "Requirement already satisfied: packaging in /opt/conda/lib/python3.9/site-packages (from bleach->nbconvert->notebook>=4.4.1->widgetsnbextension~=3.5.0->ipywidgets>=7.5.1->pandas-profiling==2.11) (21.3)\n",
      "Requirement already satisfied: webencodings in /opt/conda/lib/python3.9/site-packages (from bleach->nbconvert->notebook>=4.4.1->widgetsnbextension~=3.5.0->ipywidgets>=7.5.1->pandas-profiling==2.11) (0.5.1)\n"
     ]
    }
   ],
   "source": [
    "import pandas as pd\n",
    "!pip3 install pandas-profiling==2.11\n",
    "from pandas_profiling import ProfileReport\n",
    "from sklearn.model_selection import train_test_split\n",
    "from sklearn.metrics import mean_squared_error\n",
    "from sklearn.metrics import r2_score\n",
    "import numpy as np\n",
    "import warnings\n",
    "warnings.filterwarnings(\"ignore\")\n",
    "from lightgbm import LGBMRegressor\n",
    "from sklearn.model_selection import RandomizedSearchCV\n",
    "from sklearn.metrics import make_scorer\n",
    "from sklearn.ensemble import RandomForestRegressor\n",
    "from sklearn.preprocessing import StandardScaler\n",
    "from sklearn.dummy import DummyRegressor\n",
    "from lightgbm import LGBMRegressor\n",
    "from catboost import CatBoostRegressor\n",
    "\n",
    "import time\n",
    "from sklearn import linear_model\n",
    "from numpy import arange\n",
    "from sklearn. linear_model import LassoCV\n",
    "from sklearn. model_selection import RepeatedKFold\n",
    "from sklearn.preprocessing import OrdinalEncoder\n"
   ]
  },
  {
   "cell_type": "code",
   "execution_count": 2,
   "metadata": {},
   "outputs": [],
   "source": [
    "try:\n",
    "    data = pd.read_csv('/datasets/autos.csv')\n",
    "except:\n",
    "    data = pd.read_csv('https://code.s3.yandex.net/datasets/autos.csv')"
   ]
  },
  {
   "cell_type": "code",
   "execution_count": 3,
   "metadata": {},
   "outputs": [
    {
     "name": "stdout",
     "output_type": "stream",
     "text": [
      "<class 'pandas.core.frame.DataFrame'>\n",
      "RangeIndex: 354369 entries, 0 to 354368\n",
      "Data columns (total 16 columns):\n",
      " #   Column             Non-Null Count   Dtype \n",
      "---  ------             --------------   ----- \n",
      " 0   DateCrawled        354369 non-null  object\n",
      " 1   Price              354369 non-null  int64 \n",
      " 2   VehicleType        316879 non-null  object\n",
      " 3   RegistrationYear   354369 non-null  int64 \n",
      " 4   Gearbox            334536 non-null  object\n",
      " 5   Power              354369 non-null  int64 \n",
      " 6   Model              334664 non-null  object\n",
      " 7   Kilometer          354369 non-null  int64 \n",
      " 8   RegistrationMonth  354369 non-null  int64 \n",
      " 9   FuelType           321474 non-null  object\n",
      " 10  Brand              354369 non-null  object\n",
      " 11  Repaired           283215 non-null  object\n",
      " 12  DateCreated        354369 non-null  object\n",
      " 13  NumberOfPictures   354369 non-null  int64 \n",
      " 14  PostalCode         354369 non-null  int64 \n",
      " 15  LastSeen           354369 non-null  object\n",
      "dtypes: int64(7), object(9)\n",
      "memory usage: 43.3+ MB\n"
     ]
    }
   ],
   "source": [
    "data.info()"
   ]
  },
  {
   "cell_type": "code",
   "execution_count": 4,
   "metadata": {},
   "outputs": [
    {
     "data": {
      "text/html": [
       "<div>\n",
       "<style scoped>\n",
       "    .dataframe tbody tr th:only-of-type {\n",
       "        vertical-align: middle;\n",
       "    }\n",
       "\n",
       "    .dataframe tbody tr th {\n",
       "        vertical-align: top;\n",
       "    }\n",
       "\n",
       "    .dataframe thead th {\n",
       "        text-align: right;\n",
       "    }\n",
       "</style>\n",
       "<table border=\"1\" class=\"dataframe\">\n",
       "  <thead>\n",
       "    <tr style=\"text-align: right;\">\n",
       "      <th></th>\n",
       "      <th>DateCrawled</th>\n",
       "      <th>Price</th>\n",
       "      <th>VehicleType</th>\n",
       "      <th>RegistrationYear</th>\n",
       "      <th>Gearbox</th>\n",
       "      <th>Power</th>\n",
       "      <th>Model</th>\n",
       "      <th>Kilometer</th>\n",
       "      <th>RegistrationMonth</th>\n",
       "      <th>FuelType</th>\n",
       "      <th>Brand</th>\n",
       "      <th>Repaired</th>\n",
       "      <th>DateCreated</th>\n",
       "      <th>NumberOfPictures</th>\n",
       "      <th>PostalCode</th>\n",
       "      <th>LastSeen</th>\n",
       "    </tr>\n",
       "  </thead>\n",
       "  <tbody>\n",
       "    <tr>\n",
       "      <th>0</th>\n",
       "      <td>2016-03-24 11:52:17</td>\n",
       "      <td>480</td>\n",
       "      <td>NaN</td>\n",
       "      <td>1993</td>\n",
       "      <td>manual</td>\n",
       "      <td>0</td>\n",
       "      <td>golf</td>\n",
       "      <td>150000</td>\n",
       "      <td>0</td>\n",
       "      <td>petrol</td>\n",
       "      <td>volkswagen</td>\n",
       "      <td>NaN</td>\n",
       "      <td>2016-03-24 00:00:00</td>\n",
       "      <td>0</td>\n",
       "      <td>70435</td>\n",
       "      <td>2016-04-07 03:16:57</td>\n",
       "    </tr>\n",
       "    <tr>\n",
       "      <th>1</th>\n",
       "      <td>2016-03-24 10:58:45</td>\n",
       "      <td>18300</td>\n",
       "      <td>coupe</td>\n",
       "      <td>2011</td>\n",
       "      <td>manual</td>\n",
       "      <td>190</td>\n",
       "      <td>NaN</td>\n",
       "      <td>125000</td>\n",
       "      <td>5</td>\n",
       "      <td>gasoline</td>\n",
       "      <td>audi</td>\n",
       "      <td>yes</td>\n",
       "      <td>2016-03-24 00:00:00</td>\n",
       "      <td>0</td>\n",
       "      <td>66954</td>\n",
       "      <td>2016-04-07 01:46:50</td>\n",
       "    </tr>\n",
       "    <tr>\n",
       "      <th>2</th>\n",
       "      <td>2016-03-14 12:52:21</td>\n",
       "      <td>9800</td>\n",
       "      <td>suv</td>\n",
       "      <td>2004</td>\n",
       "      <td>auto</td>\n",
       "      <td>163</td>\n",
       "      <td>grand</td>\n",
       "      <td>125000</td>\n",
       "      <td>8</td>\n",
       "      <td>gasoline</td>\n",
       "      <td>jeep</td>\n",
       "      <td>NaN</td>\n",
       "      <td>2016-03-14 00:00:00</td>\n",
       "      <td>0</td>\n",
       "      <td>90480</td>\n",
       "      <td>2016-04-05 12:47:46</td>\n",
       "    </tr>\n",
       "    <tr>\n",
       "      <th>3</th>\n",
       "      <td>2016-03-17 16:54:04</td>\n",
       "      <td>1500</td>\n",
       "      <td>small</td>\n",
       "      <td>2001</td>\n",
       "      <td>manual</td>\n",
       "      <td>75</td>\n",
       "      <td>golf</td>\n",
       "      <td>150000</td>\n",
       "      <td>6</td>\n",
       "      <td>petrol</td>\n",
       "      <td>volkswagen</td>\n",
       "      <td>no</td>\n",
       "      <td>2016-03-17 00:00:00</td>\n",
       "      <td>0</td>\n",
       "      <td>91074</td>\n",
       "      <td>2016-03-17 17:40:17</td>\n",
       "    </tr>\n",
       "    <tr>\n",
       "      <th>4</th>\n",
       "      <td>2016-03-31 17:25:20</td>\n",
       "      <td>3600</td>\n",
       "      <td>small</td>\n",
       "      <td>2008</td>\n",
       "      <td>manual</td>\n",
       "      <td>69</td>\n",
       "      <td>fabia</td>\n",
       "      <td>90000</td>\n",
       "      <td>7</td>\n",
       "      <td>gasoline</td>\n",
       "      <td>skoda</td>\n",
       "      <td>no</td>\n",
       "      <td>2016-03-31 00:00:00</td>\n",
       "      <td>0</td>\n",
       "      <td>60437</td>\n",
       "      <td>2016-04-06 10:17:21</td>\n",
       "    </tr>\n",
       "    <tr>\n",
       "      <th>5</th>\n",
       "      <td>2016-04-04 17:36:23</td>\n",
       "      <td>650</td>\n",
       "      <td>sedan</td>\n",
       "      <td>1995</td>\n",
       "      <td>manual</td>\n",
       "      <td>102</td>\n",
       "      <td>3er</td>\n",
       "      <td>150000</td>\n",
       "      <td>10</td>\n",
       "      <td>petrol</td>\n",
       "      <td>bmw</td>\n",
       "      <td>yes</td>\n",
       "      <td>2016-04-04 00:00:00</td>\n",
       "      <td>0</td>\n",
       "      <td>33775</td>\n",
       "      <td>2016-04-06 19:17:07</td>\n",
       "    </tr>\n",
       "    <tr>\n",
       "      <th>6</th>\n",
       "      <td>2016-04-01 20:48:51</td>\n",
       "      <td>2200</td>\n",
       "      <td>convertible</td>\n",
       "      <td>2004</td>\n",
       "      <td>manual</td>\n",
       "      <td>109</td>\n",
       "      <td>2_reihe</td>\n",
       "      <td>150000</td>\n",
       "      <td>8</td>\n",
       "      <td>petrol</td>\n",
       "      <td>peugeot</td>\n",
       "      <td>no</td>\n",
       "      <td>2016-04-01 00:00:00</td>\n",
       "      <td>0</td>\n",
       "      <td>67112</td>\n",
       "      <td>2016-04-05 18:18:39</td>\n",
       "    </tr>\n",
       "    <tr>\n",
       "      <th>7</th>\n",
       "      <td>2016-03-21 18:54:38</td>\n",
       "      <td>0</td>\n",
       "      <td>sedan</td>\n",
       "      <td>1980</td>\n",
       "      <td>manual</td>\n",
       "      <td>50</td>\n",
       "      <td>other</td>\n",
       "      <td>40000</td>\n",
       "      <td>7</td>\n",
       "      <td>petrol</td>\n",
       "      <td>volkswagen</td>\n",
       "      <td>no</td>\n",
       "      <td>2016-03-21 00:00:00</td>\n",
       "      <td>0</td>\n",
       "      <td>19348</td>\n",
       "      <td>2016-03-25 16:47:58</td>\n",
       "    </tr>\n",
       "    <tr>\n",
       "      <th>8</th>\n",
       "      <td>2016-04-04 23:42:13</td>\n",
       "      <td>14500</td>\n",
       "      <td>bus</td>\n",
       "      <td>2014</td>\n",
       "      <td>manual</td>\n",
       "      <td>125</td>\n",
       "      <td>c_max</td>\n",
       "      <td>30000</td>\n",
       "      <td>8</td>\n",
       "      <td>petrol</td>\n",
       "      <td>ford</td>\n",
       "      <td>NaN</td>\n",
       "      <td>2016-04-04 00:00:00</td>\n",
       "      <td>0</td>\n",
       "      <td>94505</td>\n",
       "      <td>2016-04-04 23:42:13</td>\n",
       "    </tr>\n",
       "    <tr>\n",
       "      <th>9</th>\n",
       "      <td>2016-03-17 10:53:50</td>\n",
       "      <td>999</td>\n",
       "      <td>small</td>\n",
       "      <td>1998</td>\n",
       "      <td>manual</td>\n",
       "      <td>101</td>\n",
       "      <td>golf</td>\n",
       "      <td>150000</td>\n",
       "      <td>0</td>\n",
       "      <td>NaN</td>\n",
       "      <td>volkswagen</td>\n",
       "      <td>NaN</td>\n",
       "      <td>2016-03-17 00:00:00</td>\n",
       "      <td>0</td>\n",
       "      <td>27472</td>\n",
       "      <td>2016-03-31 17:17:06</td>\n",
       "    </tr>\n",
       "  </tbody>\n",
       "</table>\n",
       "</div>"
      ],
      "text/plain": [
       "           DateCrawled  Price  VehicleType  RegistrationYear Gearbox  Power  \\\n",
       "0  2016-03-24 11:52:17    480          NaN              1993  manual      0   \n",
       "1  2016-03-24 10:58:45  18300        coupe              2011  manual    190   \n",
       "2  2016-03-14 12:52:21   9800          suv              2004    auto    163   \n",
       "3  2016-03-17 16:54:04   1500        small              2001  manual     75   \n",
       "4  2016-03-31 17:25:20   3600        small              2008  manual     69   \n",
       "5  2016-04-04 17:36:23    650        sedan              1995  manual    102   \n",
       "6  2016-04-01 20:48:51   2200  convertible              2004  manual    109   \n",
       "7  2016-03-21 18:54:38      0        sedan              1980  manual     50   \n",
       "8  2016-04-04 23:42:13  14500          bus              2014  manual    125   \n",
       "9  2016-03-17 10:53:50    999        small              1998  manual    101   \n",
       "\n",
       "     Model  Kilometer  RegistrationMonth  FuelType       Brand Repaired  \\\n",
       "0     golf     150000                  0    petrol  volkswagen      NaN   \n",
       "1      NaN     125000                  5  gasoline        audi      yes   \n",
       "2    grand     125000                  8  gasoline        jeep      NaN   \n",
       "3     golf     150000                  6    petrol  volkswagen       no   \n",
       "4    fabia      90000                  7  gasoline       skoda       no   \n",
       "5      3er     150000                 10    petrol         bmw      yes   \n",
       "6  2_reihe     150000                  8    petrol     peugeot       no   \n",
       "7    other      40000                  7    petrol  volkswagen       no   \n",
       "8    c_max      30000                  8    petrol        ford      NaN   \n",
       "9     golf     150000                  0       NaN  volkswagen      NaN   \n",
       "\n",
       "           DateCreated  NumberOfPictures  PostalCode             LastSeen  \n",
       "0  2016-03-24 00:00:00                 0       70435  2016-04-07 03:16:57  \n",
       "1  2016-03-24 00:00:00                 0       66954  2016-04-07 01:46:50  \n",
       "2  2016-03-14 00:00:00                 0       90480  2016-04-05 12:47:46  \n",
       "3  2016-03-17 00:00:00                 0       91074  2016-03-17 17:40:17  \n",
       "4  2016-03-31 00:00:00                 0       60437  2016-04-06 10:17:21  \n",
       "5  2016-04-04 00:00:00                 0       33775  2016-04-06 19:17:07  \n",
       "6  2016-04-01 00:00:00                 0       67112  2016-04-05 18:18:39  \n",
       "7  2016-03-21 00:00:00                 0       19348  2016-03-25 16:47:58  \n",
       "8  2016-04-04 00:00:00                 0       94505  2016-04-04 23:42:13  \n",
       "9  2016-03-17 00:00:00                 0       27472  2016-03-31 17:17:06  "
      ]
     },
     "execution_count": 4,
     "metadata": {},
     "output_type": "execute_result"
    }
   ],
   "source": [
    "data.head(10)"
   ]
  },
  {
   "cell_type": "code",
   "execution_count": 5,
   "metadata": {},
   "outputs": [
    {
     "data": {
      "application/vnd.jupyter.widget-view+json": {
       "model_id": "ebce95b6a98b45f9bbe8fbb8d724190e",
       "version_major": 2,
       "version_minor": 0
      },
      "text/plain": [
       "Summarize dataset:   0%|          | 0/29 [00:00<?, ?it/s]"
      ]
     },
     "metadata": {},
     "output_type": "display_data"
    },
    {
     "data": {
      "application/vnd.jupyter.widget-view+json": {
       "model_id": "110c3173c190420aa3b154b0dd5cb7d7",
       "version_major": 2,
       "version_minor": 0
      },
      "text/plain": [
       "Generate report structure:   0%|          | 0/1 [00:00<?, ?it/s]"
      ]
     },
     "metadata": {},
     "output_type": "display_data"
    },
    {
     "data": {
      "application/vnd.jupyter.widget-view+json": {
       "model_id": "",
       "version_major": 2,
       "version_minor": 0
      },
      "text/plain": [
       "Render widgets:   0%|          | 0/1 [00:00<?, ?it/s]"
      ]
     },
     "metadata": {},
     "output_type": "display_data"
    },
    {
     "data": {
      "application/vnd.jupyter.widget-view+json": {
       "model_id": "6f7333f7b8f34f93b402b349c8e871b6",
       "version_major": 2,
       "version_minor": 0
      },
      "text/plain": [
       "VBox(children=(Tab(children=(Tab(children=(GridBox(children=(VBox(children=(GridspecLayout(children=(HTML(valu…"
      ]
     },
     "metadata": {},
     "output_type": "display_data"
    }
   ],
   "source": [
    "profile = ProfileReport(data,\n",
    "                        title='Pandas Profiling Report - Data 0')\n",
    "\n",
    "profile.to_widgets()"
   ]
  },
  {
   "cell_type": "markdown",
   "metadata": {},
   "source": [
    "Изменим названия столбцов в соответствии с snake_case"
   ]
  },
  {
   "cell_type": "code",
   "execution_count": 6,
   "metadata": {},
   "outputs": [
    {
     "data": {
      "text/plain": [
       "Index(['DateCrawled', 'Price', 'VehicleType', 'RegistrationYear', 'Gearbox',\n",
       "       'Power', 'Model', 'Kilometer', 'RegistrationMonth', 'FuelType', 'Brand',\n",
       "       'Repaired', 'DateCreated', 'NumberOfPictures', 'PostalCode',\n",
       "       'LastSeen'],\n",
       "      dtype='object')"
      ]
     },
     "execution_count": 6,
     "metadata": {},
     "output_type": "execute_result"
    }
   ],
   "source": [
    "data.columns"
   ]
  },
  {
   "cell_type": "code",
   "execution_count": 7,
   "metadata": {},
   "outputs": [],
   "source": [
    "data.columns = ['Date_Crawled', 'Price', 'Vehicle_Type', 'Registration_Year', 'Gear_box',\n",
    "       'Power', 'Model', 'Kilometer', 'Registration_Month', 'Fuel_Type', 'Brand',\n",
    "       'Repaired', 'Date_Created', 'Number_Of_Pictures', 'Postal_Code',\n",
    "       'Last_Seen']"
   ]
  },
  {
   "cell_type": "code",
   "execution_count": 8,
   "metadata": {},
   "outputs": [
    {
     "data": {
      "text/plain": [
       "Index(['date_crawled', 'price', 'vehicle_type', 'registration_year',\n",
       "       'gear_box', 'power', 'model', 'kilometer', 'registration_month',\n",
       "       'fuel_type', 'brand', 'repaired', 'date_created', 'number_of_pictures',\n",
       "       'postal_code', 'last_seen'],\n",
       "      dtype='object')"
      ]
     },
     "execution_count": 8,
     "metadata": {},
     "output_type": "execute_result"
    }
   ],
   "source": [
    "data.columns = map(str.lower,data.columns)\n",
    "data.columns"
   ]
  },
  {
   "cell_type": "markdown",
   "metadata": {},
   "source": [
    "Есть неинформативные столбцы, сразу удалим их"
   ]
  },
  {
   "cell_type": "code",
   "execution_count": 9,
   "metadata": {},
   "outputs": [],
   "source": [
    "data = data.drop(['date_crawled', 'date_created','number_of_pictures','postal_code','last_seen', 'model'], axis=1)"
   ]
  },
  {
   "cell_type": "code",
   "execution_count": 10,
   "metadata": {},
   "outputs": [
    {
     "data": {
      "text/plain": [
       "Index(['price', 'vehicle_type', 'registration_year', 'gear_box', 'power',\n",
       "       'kilometer', 'registration_month', 'fuel_type', 'brand', 'repaired'],\n",
       "      dtype='object')"
      ]
     },
     "execution_count": 10,
     "metadata": {},
     "output_type": "execute_result"
    }
   ],
   "source": [
    "data.columns"
   ]
  },
  {
   "cell_type": "markdown",
   "metadata": {},
   "source": [
    "Увидели, что много пропусков в отчете profile, посмотрим на них отдельно"
   ]
  },
  {
   "cell_type": "code",
   "execution_count": 11,
   "metadata": {},
   "outputs": [
    {
     "data": {
      "text/html": [
       "<style  type=\"text/css\" >\n",
       "#T_819a2_row0_col0,#T_819a2_row2_col0,#T_819a2_row4_col0,#T_819a2_row5_col0,#T_819a2_row6_col0,#T_819a2_row8_col0{\n",
       "            background-color:  #3b4cc0;\n",
       "            color:  #f1f1f1;\n",
       "        }#T_819a2_row1_col0{\n",
       "            background-color:  #e9d5cb;\n",
       "            color:  #000000;\n",
       "        }#T_819a2_row3_col0{\n",
       "            background-color:  #9ebeff;\n",
       "            color:  #000000;\n",
       "        }#T_819a2_row7_col0{\n",
       "            background-color:  #cfdaea;\n",
       "            color:  #000000;\n",
       "        }#T_819a2_row9_col0{\n",
       "            background-color:  #b40426;\n",
       "            color:  #f1f1f1;\n",
       "        }</style><table id=\"T_819a2_\" ><thead>    <tr>        <th class=\"blank level0\" ></th>        <th class=\"col_heading level0 col0\" >0</th>    </tr></thead><tbody>\n",
       "                <tr>\n",
       "                        <th id=\"T_819a2_level0_row0\" class=\"row_heading level0 row0\" >price</th>\n",
       "                        <td id=\"T_819a2_row0_col0\" class=\"data row0 col0\" >0.000000</td>\n",
       "            </tr>\n",
       "            <tr>\n",
       "                        <th id=\"T_819a2_level0_row1\" class=\"row_heading level0 row1\" >vehicle_type</th>\n",
       "                        <td id=\"T_819a2_row1_col0\" class=\"data row1 col0\" >11.000000</td>\n",
       "            </tr>\n",
       "            <tr>\n",
       "                        <th id=\"T_819a2_level0_row2\" class=\"row_heading level0 row2\" >registration_year</th>\n",
       "                        <td id=\"T_819a2_row2_col0\" class=\"data row2 col0\" >0.000000</td>\n",
       "            </tr>\n",
       "            <tr>\n",
       "                        <th id=\"T_819a2_level0_row3\" class=\"row_heading level0 row3\" >gear_box</th>\n",
       "                        <td id=\"T_819a2_row3_col0\" class=\"data row3 col0\" >6.000000</td>\n",
       "            </tr>\n",
       "            <tr>\n",
       "                        <th id=\"T_819a2_level0_row4\" class=\"row_heading level0 row4\" >power</th>\n",
       "                        <td id=\"T_819a2_row4_col0\" class=\"data row4 col0\" >0.000000</td>\n",
       "            </tr>\n",
       "            <tr>\n",
       "                        <th id=\"T_819a2_level0_row5\" class=\"row_heading level0 row5\" >kilometer</th>\n",
       "                        <td id=\"T_819a2_row5_col0\" class=\"data row5 col0\" >0.000000</td>\n",
       "            </tr>\n",
       "            <tr>\n",
       "                        <th id=\"T_819a2_level0_row6\" class=\"row_heading level0 row6\" >registration_month</th>\n",
       "                        <td id=\"T_819a2_row6_col0\" class=\"data row6 col0\" >0.000000</td>\n",
       "            </tr>\n",
       "            <tr>\n",
       "                        <th id=\"T_819a2_level0_row7\" class=\"row_heading level0 row7\" >fuel_type</th>\n",
       "                        <td id=\"T_819a2_row7_col0\" class=\"data row7 col0\" >9.000000</td>\n",
       "            </tr>\n",
       "            <tr>\n",
       "                        <th id=\"T_819a2_level0_row8\" class=\"row_heading level0 row8\" >brand</th>\n",
       "                        <td id=\"T_819a2_row8_col0\" class=\"data row8 col0\" >0.000000</td>\n",
       "            </tr>\n",
       "            <tr>\n",
       "                        <th id=\"T_819a2_level0_row9\" class=\"row_heading level0 row9\" >repaired</th>\n",
       "                        <td id=\"T_819a2_row9_col0\" class=\"data row9 col0\" >20.000000</td>\n",
       "            </tr>\n",
       "    </tbody></table>"
      ],
      "text/plain": [
       "<pandas.io.formats.style.Styler at 0x7f925b192970>"
      ]
     },
     "execution_count": 11,
     "metadata": {},
     "output_type": "execute_result"
    }
   ],
   "source": [
    "pd.DataFrame(round(data.isna().mean()*100,)).style.background_gradient('coolwarm')"
   ]
  },
  {
   "cell_type": "markdown",
   "metadata": {},
   "source": [
    "В пункте с ремонтом - была машина в ремонте или нет, ответ да или нет, поэтому пропуски предлагаю считать за отрицание и заполнить их ответом нет"
   ]
  },
  {
   "cell_type": "code",
   "execution_count": 12,
   "metadata": {},
   "outputs": [],
   "source": [
    "data['repaired'].fillna('no', inplace=True)"
   ]
  },
  {
   "cell_type": "code",
   "execution_count": 13,
   "metadata": {},
   "outputs": [
    {
     "data": {
      "text/plain": [
       "sedan          91457\n",
       "small          79831\n",
       "wagon          65166\n",
       "bus            28775\n",
       "convertible    20203\n",
       "coupe          16163\n",
       "suv            11996\n",
       "other           3288\n",
       "Name: vehicle_type, dtype: int64"
      ]
     },
     "execution_count": 13,
     "metadata": {},
     "output_type": "execute_result"
    }
   ],
   "source": [
    "data['vehicle_type'].value_counts()"
   ]
  },
  {
   "cell_type": "markdown",
   "metadata": {},
   "source": [
    "Пропуски в пункте с типом автомобильного кузова предлагаю заполнить значением другой"
   ]
  },
  {
   "cell_type": "code",
   "execution_count": 14,
   "metadata": {},
   "outputs": [],
   "source": [
    "data['vehicle_type'].fillna('other', inplace=True)"
   ]
  },
  {
   "cell_type": "code",
   "execution_count": 15,
   "metadata": {},
   "outputs": [
    {
     "data": {
      "text/plain": [
       "manual    268251\n",
       "auto       66285\n",
       "Name: gear_box, dtype: int64"
      ]
     },
     "execution_count": 15,
     "metadata": {},
     "output_type": "execute_result"
    }
   ],
   "source": [
    "data['gear_box'].value_counts()"
   ]
  },
  {
   "cell_type": "markdown",
   "metadata": {},
   "source": [
    "Заполним пропуски заглушкой"
   ]
  },
  {
   "cell_type": "code",
   "execution_count": 16,
   "metadata": {},
   "outputs": [],
   "source": [
    "data['gear_box'].fillna('unknown', inplace=True)"
   ]
  },
  {
   "cell_type": "code",
   "execution_count": 17,
   "metadata": {},
   "outputs": [
    {
     "data": {
      "text/plain": [
       "petrol      216352\n",
       "gasoline     98720\n",
       "lpg           5310\n",
       "cng            565\n",
       "hybrid         233\n",
       "other          204\n",
       "electric        90\n",
       "Name: fuel_type, dtype: int64"
      ]
     },
     "execution_count": 17,
     "metadata": {},
     "output_type": "execute_result"
    }
   ],
   "source": [
    "data['fuel_type'].value_counts()"
   ]
  },
  {
   "cell_type": "code",
   "execution_count": 18,
   "metadata": {},
   "outputs": [],
   "source": [
    "data['fuel_type'].fillna('unknown', inplace=True)"
   ]
  },
  {
   "cell_type": "code",
   "execution_count": 19,
   "metadata": {},
   "outputs": [
    {
     "data": {
      "text/html": [
       "<style  type=\"text/css\" >\n",
       "#T_39e43_row0_col0,#T_39e43_row1_col0,#T_39e43_row2_col0,#T_39e43_row3_col0,#T_39e43_row4_col0,#T_39e43_row5_col0,#T_39e43_row6_col0,#T_39e43_row7_col0,#T_39e43_row8_col0,#T_39e43_row9_col0{\n",
       "            background-color:  #3b4cc0;\n",
       "            color:  #f1f1f1;\n",
       "        }</style><table id=\"T_39e43_\" ><thead>    <tr>        <th class=\"blank level0\" ></th>        <th class=\"col_heading level0 col0\" >0</th>    </tr></thead><tbody>\n",
       "                <tr>\n",
       "                        <th id=\"T_39e43_level0_row0\" class=\"row_heading level0 row0\" >price</th>\n",
       "                        <td id=\"T_39e43_row0_col0\" class=\"data row0 col0\" >0.000000</td>\n",
       "            </tr>\n",
       "            <tr>\n",
       "                        <th id=\"T_39e43_level0_row1\" class=\"row_heading level0 row1\" >vehicle_type</th>\n",
       "                        <td id=\"T_39e43_row1_col0\" class=\"data row1 col0\" >0.000000</td>\n",
       "            </tr>\n",
       "            <tr>\n",
       "                        <th id=\"T_39e43_level0_row2\" class=\"row_heading level0 row2\" >registration_year</th>\n",
       "                        <td id=\"T_39e43_row2_col0\" class=\"data row2 col0\" >0.000000</td>\n",
       "            </tr>\n",
       "            <tr>\n",
       "                        <th id=\"T_39e43_level0_row3\" class=\"row_heading level0 row3\" >gear_box</th>\n",
       "                        <td id=\"T_39e43_row3_col0\" class=\"data row3 col0\" >0.000000</td>\n",
       "            </tr>\n",
       "            <tr>\n",
       "                        <th id=\"T_39e43_level0_row4\" class=\"row_heading level0 row4\" >power</th>\n",
       "                        <td id=\"T_39e43_row4_col0\" class=\"data row4 col0\" >0.000000</td>\n",
       "            </tr>\n",
       "            <tr>\n",
       "                        <th id=\"T_39e43_level0_row5\" class=\"row_heading level0 row5\" >kilometer</th>\n",
       "                        <td id=\"T_39e43_row5_col0\" class=\"data row5 col0\" >0.000000</td>\n",
       "            </tr>\n",
       "            <tr>\n",
       "                        <th id=\"T_39e43_level0_row6\" class=\"row_heading level0 row6\" >registration_month</th>\n",
       "                        <td id=\"T_39e43_row6_col0\" class=\"data row6 col0\" >0.000000</td>\n",
       "            </tr>\n",
       "            <tr>\n",
       "                        <th id=\"T_39e43_level0_row7\" class=\"row_heading level0 row7\" >fuel_type</th>\n",
       "                        <td id=\"T_39e43_row7_col0\" class=\"data row7 col0\" >0.000000</td>\n",
       "            </tr>\n",
       "            <tr>\n",
       "                        <th id=\"T_39e43_level0_row8\" class=\"row_heading level0 row8\" >brand</th>\n",
       "                        <td id=\"T_39e43_row8_col0\" class=\"data row8 col0\" >0.000000</td>\n",
       "            </tr>\n",
       "            <tr>\n",
       "                        <th id=\"T_39e43_level0_row9\" class=\"row_heading level0 row9\" >repaired</th>\n",
       "                        <td id=\"T_39e43_row9_col0\" class=\"data row9 col0\" >0.000000</td>\n",
       "            </tr>\n",
       "    </tbody></table>"
      ],
      "text/plain": [
       "<pandas.io.formats.style.Styler at 0x7f920e79a0d0>"
      ]
     },
     "execution_count": 19,
     "metadata": {},
     "output_type": "execute_result"
    }
   ],
   "source": [
    "pd.DataFrame(round(data.isna().mean()*100,)).style.background_gradient('coolwarm')"
   ]
  },
  {
   "cell_type": "markdown",
   "metadata": {},
   "source": [
    "Посмотрим числовые данные"
   ]
  },
  {
   "cell_type": "code",
   "execution_count": 20,
   "metadata": {},
   "outputs": [
    {
     "data": {
      "text/html": [
       "<div>\n",
       "<style scoped>\n",
       "    .dataframe tbody tr th:only-of-type {\n",
       "        vertical-align: middle;\n",
       "    }\n",
       "\n",
       "    .dataframe tbody tr th {\n",
       "        vertical-align: top;\n",
       "    }\n",
       "\n",
       "    .dataframe thead th {\n",
       "        text-align: right;\n",
       "    }\n",
       "</style>\n",
       "<table border=\"1\" class=\"dataframe\">\n",
       "  <thead>\n",
       "    <tr style=\"text-align: right;\">\n",
       "      <th></th>\n",
       "      <th>price</th>\n",
       "      <th>registration_year</th>\n",
       "      <th>power</th>\n",
       "      <th>kilometer</th>\n",
       "      <th>registration_month</th>\n",
       "    </tr>\n",
       "  </thead>\n",
       "  <tbody>\n",
       "    <tr>\n",
       "      <th>count</th>\n",
       "      <td>354369.000000</td>\n",
       "      <td>354369.000000</td>\n",
       "      <td>354369.000000</td>\n",
       "      <td>354369.000000</td>\n",
       "      <td>354369.000000</td>\n",
       "    </tr>\n",
       "    <tr>\n",
       "      <th>mean</th>\n",
       "      <td>4416.656776</td>\n",
       "      <td>2004.234448</td>\n",
       "      <td>110.094337</td>\n",
       "      <td>128211.172535</td>\n",
       "      <td>5.714645</td>\n",
       "    </tr>\n",
       "    <tr>\n",
       "      <th>std</th>\n",
       "      <td>4514.158514</td>\n",
       "      <td>90.227958</td>\n",
       "      <td>189.850405</td>\n",
       "      <td>37905.341530</td>\n",
       "      <td>3.726421</td>\n",
       "    </tr>\n",
       "    <tr>\n",
       "      <th>min</th>\n",
       "      <td>0.000000</td>\n",
       "      <td>1000.000000</td>\n",
       "      <td>0.000000</td>\n",
       "      <td>5000.000000</td>\n",
       "      <td>0.000000</td>\n",
       "    </tr>\n",
       "    <tr>\n",
       "      <th>25%</th>\n",
       "      <td>1050.000000</td>\n",
       "      <td>1999.000000</td>\n",
       "      <td>69.000000</td>\n",
       "      <td>125000.000000</td>\n",
       "      <td>3.000000</td>\n",
       "    </tr>\n",
       "    <tr>\n",
       "      <th>50%</th>\n",
       "      <td>2700.000000</td>\n",
       "      <td>2003.000000</td>\n",
       "      <td>105.000000</td>\n",
       "      <td>150000.000000</td>\n",
       "      <td>6.000000</td>\n",
       "    </tr>\n",
       "    <tr>\n",
       "      <th>75%</th>\n",
       "      <td>6400.000000</td>\n",
       "      <td>2008.000000</td>\n",
       "      <td>143.000000</td>\n",
       "      <td>150000.000000</td>\n",
       "      <td>9.000000</td>\n",
       "    </tr>\n",
       "    <tr>\n",
       "      <th>max</th>\n",
       "      <td>20000.000000</td>\n",
       "      <td>9999.000000</td>\n",
       "      <td>20000.000000</td>\n",
       "      <td>150000.000000</td>\n",
       "      <td>12.000000</td>\n",
       "    </tr>\n",
       "  </tbody>\n",
       "</table>\n",
       "</div>"
      ],
      "text/plain": [
       "               price  registration_year          power      kilometer  \\\n",
       "count  354369.000000      354369.000000  354369.000000  354369.000000   \n",
       "mean     4416.656776        2004.234448     110.094337  128211.172535   \n",
       "std      4514.158514          90.227958     189.850405   37905.341530   \n",
       "min         0.000000        1000.000000       0.000000    5000.000000   \n",
       "25%      1050.000000        1999.000000      69.000000  125000.000000   \n",
       "50%      2700.000000        2003.000000     105.000000  150000.000000   \n",
       "75%      6400.000000        2008.000000     143.000000  150000.000000   \n",
       "max     20000.000000        9999.000000   20000.000000  150000.000000   \n",
       "\n",
       "       registration_month  \n",
       "count       354369.000000  \n",
       "mean             5.714645  \n",
       "std              3.726421  \n",
       "min              0.000000  \n",
       "25%              3.000000  \n",
       "50%              6.000000  \n",
       "75%              9.000000  \n",
       "max             12.000000  "
      ]
     },
     "execution_count": 20,
     "metadata": {},
     "output_type": "execute_result"
    }
   ],
   "source": [
    "data.describe()"
   ]
  },
  {
   "cell_type": "markdown",
   "metadata": {},
   "source": [
    "есть аномальные значения в годах регистрации, и нулевой месяц надо удалить"
   ]
  },
  {
   "cell_type": "code",
   "execution_count": 21,
   "metadata": {},
   "outputs": [
    {
     "data": {
      "text/plain": [
       "array([1000, 1001, 1039, 1111, 1200, 1234, 1253, 1255, 1300, 1400, 1500,\n",
       "       1600, 1602, 1688, 1800, 1910, 1915, 1919, 1920, 1923, 1925, 1927,\n",
       "       1928, 1929, 1930, 1931, 1932, 1933, 1934, 1935, 1936, 1937, 1938,\n",
       "       1940, 1941, 1942, 1943, 1944, 1945, 1946, 1947, 1948, 1949, 1950,\n",
       "       1951, 1952, 1953, 1954, 1955, 1956, 1957, 1958, 1959, 1960, 1961,\n",
       "       1962, 1963, 1964, 1965, 1966, 1967, 1968, 1969, 1970, 1971, 1972,\n",
       "       1973, 1974, 1975, 1976, 1977, 1978, 1979, 1980, 1981, 1982, 1983,\n",
       "       1984, 1985, 1986, 1987, 1988, 1989, 1990, 1991, 1992, 1993, 1994,\n",
       "       1995, 1996, 1997, 1998, 1999, 2000, 2001, 2002, 2003, 2004, 2005,\n",
       "       2006, 2007, 2008, 2009, 2010, 2011, 2012, 2013, 2014, 2015, 2016,\n",
       "       2017, 2018, 2019, 2066, 2200, 2222, 2290, 2500, 2800, 2900, 3000,\n",
       "       3200, 3500, 3700, 3800, 4000, 4100, 4500, 4800, 5000, 5300, 5555,\n",
       "       5600, 5900, 5911, 6000, 6500, 7000, 7100, 7500, 7800, 8000, 8200,\n",
       "       8455, 8500, 8888, 9000, 9229, 9450, 9996, 9999])"
      ]
     },
     "execution_count": 21,
     "metadata": {},
     "output_type": "execute_result"
    }
   ],
   "source": [
    "data['registration_year'].sort_values().unique()"
   ]
  },
  {
   "cell_type": "code",
   "execution_count": 22,
   "metadata": {},
   "outputs": [],
   "source": [
    "data = data.query('registration_year > 1910')"
   ]
  },
  {
   "cell_type": "code",
   "execution_count": 23,
   "metadata": {},
   "outputs": [],
   "source": [
    "data = data.query('registration_year < 2023')"
   ]
  },
  {
   "cell_type": "code",
   "execution_count": 24,
   "metadata": {},
   "outputs": [
    {
     "data": {
      "text/plain": [
       "array([1915, 1919, 1920, 1923, 1925, 1927, 1928, 1929, 1930, 1931, 1932,\n",
       "       1933, 1934, 1935, 1936, 1937, 1938, 1940, 1941, 1942, 1943, 1944,\n",
       "       1945, 1946, 1947, 1948, 1949, 1950, 1951, 1952, 1953, 1954, 1955,\n",
       "       1956, 1957, 1958, 1959, 1960, 1961, 1962, 1963, 1964, 1965, 1966,\n",
       "       1967, 1968, 1969, 1970, 1971, 1972, 1973, 1974, 1975, 1976, 1977,\n",
       "       1978, 1979, 1980, 1981, 1982, 1983, 1984, 1985, 1986, 1987, 1988,\n",
       "       1989, 1990, 1991, 1992, 1993, 1994, 1995, 1996, 1997, 1998, 1999,\n",
       "       2000, 2001, 2002, 2003, 2004, 2005, 2006, 2007, 2008, 2009, 2010,\n",
       "       2011, 2012, 2013, 2014, 2015, 2016, 2017, 2018, 2019])"
      ]
     },
     "execution_count": 24,
     "metadata": {},
     "output_type": "execute_result"
    }
   ],
   "source": [
    "data['registration_year'].sort_values().unique()"
   ]
  },
  {
   "cell_type": "code",
   "execution_count": 25,
   "metadata": {},
   "outputs": [
    {
     "data": {
      "text/plain": [
       "array([ 0,  1,  2,  3,  4,  5,  6,  7,  8,  9, 10, 11, 12])"
      ]
     },
     "execution_count": 25,
     "metadata": {},
     "output_type": "execute_result"
    }
   ],
   "source": [
    "data['registration_month'].sort_values().unique()"
   ]
  },
  {
   "cell_type": "code",
   "execution_count": 26,
   "metadata": {},
   "outputs": [],
   "source": [
    "data = data.query('registration_month >= 1')"
   ]
  },
  {
   "cell_type": "code",
   "execution_count": 27,
   "metadata": {},
   "outputs": [
    {
     "data": {
      "text/plain": [
       "array([ 1,  2,  3,  4,  5,  6,  7,  8,  9, 10, 11, 12])"
      ]
     },
     "execution_count": 27,
     "metadata": {},
     "output_type": "execute_result"
    }
   ],
   "source": [
    "data['registration_month'].sort_values().unique()"
   ]
  },
  {
   "cell_type": "markdown",
   "metadata": {},
   "source": [
    "Вывод: открыли файл, посмотрели типы данных и что они из себя представляют, с помощью profiling посмотрели взаимосвязи между данными, распределения, есть ли пропуски и дубликаты. Были обработаны названия столбцов, проведена работа с пропусками, проведено кодирование категориальных данных, неинформативные столбцы были удалены."
   ]
  },
  {
   "cell_type": "markdown",
   "metadata": {},
   "source": [
    "## Обучение моделей"
   ]
  },
  {
   "cell_type": "code",
   "execution_count": 28,
   "metadata": {},
   "outputs": [],
   "source": [
    "features = data.drop('price', axis=1)\n",
    "target = data['price']"
   ]
  },
  {
   "cell_type": "code",
   "execution_count": 29,
   "metadata": {},
   "outputs": [],
   "source": [
    "features_v_l, features_test, target_v_l, target_test = train_test_split(\n",
    "    features, target, test_size=0.20, random_state=12345) \n",
    "\n",
    "features_train, features_valid, target_train, target_valid = train_test_split(\n",
    "    features_v_l, target_v_l, test_size=0.25, random_state=12345)\n"
   ]
  },
  {
   "cell_type": "markdown",
   "metadata": {},
   "source": [
    "Проведем кодирование отдельно для разных типов моделей"
   ]
  },
  {
   "cell_type": "markdown",
   "metadata": {},
   "source": [
    "Линейные модели (прямое кодирование)"
   ]
  },
  {
   "cell_type": "code",
   "execution_count": 30,
   "metadata": {},
   "outputs": [],
   "source": [
    "features_train_ohe = pd.get_dummies(features_train, drop_first=True)\n",
    "features_valid_ohe = pd.get_dummies(features_valid, drop_first=True)\n",
    "features_test_ohe = pd.get_dummies(features_test, drop_first=True)\n",
    "\n",
    "common_columns = set(features_train_ohe.columns) & set(features_valid_ohe.columns) & set(features_test_ohe.columns)\n",
    "\n",
    "features_train_ohe = features_train_ohe[list(common_columns)]\n",
    "features_valid_ohe = features_valid_ohe[list(common_columns)]\n",
    "features_test_ohe = features_test_ohe[list(common_columns)]\n"
   ]
  },
  {
   "cell_type": "markdown",
   "metadata": {},
   "source": [
    "Деревянные модели (порядковое кодирование)"
   ]
  },
  {
   "cell_type": "code",
   "execution_count": 31,
   "metadata": {},
   "outputs": [],
   "source": [
    "encoder = OrdinalEncoder(handle_unknown='use_encoded_value', unknown_value=9999)\n",
    "cat_columns = ['vehicle_type', 'gear_box', 'fuel_type', 'brand', 'repaired']\n",
    "encoder.fit(features_train[cat_columns])\n",
    "\n",
    "features_train_ord = features_train.copy()\n",
    "features_valid_ord = features_valid.copy()\n",
    "features_test_ord = features_test.copy()\n",
    "\n",
    "features_train_ord[cat_columns] = encoder.transform(features_train_ord[cat_columns])\n",
    "features_valid_ord[cat_columns] = encoder.transform(features_valid_ord[cat_columns])\n",
    "features_test_ord[cat_columns] = encoder.transform(features_test_ord[cat_columns])"
   ]
  },
  {
   "cell_type": "code",
   "execution_count": 32,
   "metadata": {
    "scrolled": true
   },
   "outputs": [
    {
     "name": "stdout",
     "output_type": "stream",
     "text": [
      "       vehicle_type  registration_year gear_box     power  kilometer  \\\n",
      "232716        small          -0.039887   manual -0.351898   0.585810   \n",
      "193107        sedan           0.950859   manual  0.035081  -0.769778   \n",
      "292111        wagon           0.526254   manual -0.033577   0.585810   \n",
      "323150  convertible           1.517000   manual  0.035081  -2.396484   \n",
      "347544  convertible           0.243184   manual  0.727899   0.585810   \n",
      "\n",
      "        registration_month fuel_type    brand repaired  \n",
      "232716           -1.007363    petrol  renault       no  \n",
      "193107           -1.007363    petrol  peugeot       no  \n",
      "292111           -0.709176  gasoline     ford       no  \n",
      "323150           -1.007363    petrol     opel       no  \n",
      "347544           -0.410988    petrol      bmw       no  \n"
     ]
    }
   ],
   "source": [
    "numeric = ['registration_year', 'power', 'kilometer', 'registration_month']\n",
    "pd.options.mode.chained_assignment = None\n",
    "scaler = StandardScaler() \n",
    "scaler.fit(features_train[numeric])\n",
    "features_train[numeric] = scaler.transform(features_train[numeric])\n",
    "features_valid[numeric] = scaler.transform(features_valid[numeric])\n",
    "features_test[numeric] = scaler.transform(features_test[numeric])\n",
    "print(features_train.head())"
   ]
  },
  {
   "cell_type": "markdown",
   "metadata": {},
   "source": [
    "Попробуем обучить разные модели на гиперпараметрах по умолчанию и посмотрим какая модель покажет лучшее время и RMSE"
   ]
  },
  {
   "cell_type": "code",
   "execution_count": 33,
   "metadata": {},
   "outputs": [
    {
     "name": "stdout",
     "output_type": "stream",
     "text": [
      "CPU times: user 44.1 s, sys: 830 ms, total: 44.9 s\n",
      "Wall time: 44.9 s\n"
     ]
    },
    {
     "data": {
      "text/plain": [
       "1809.0178125396915"
      ]
     },
     "execution_count": 33,
     "metadata": {},
     "output_type": "execute_result"
    }
   ],
   "source": [
    "%%time\n",
    "\n",
    "model = RandomForestRegressor(random_state=12345)\n",
    "model.fit(features_train_ord, target_train)\n",
    "\n",
    "predictions = model.predict(features_valid_ord)\n",
    "rmse = (mean_squared_error(target_valid, predictions))**0.5\n",
    "rmse"
   ]
  },
  {
   "cell_type": "code",
   "execution_count": 34,
   "metadata": {},
   "outputs": [
    {
     "name": "stdout",
     "output_type": "stream",
     "text": [
      "CPU times: user 4.01 s, sys: 0 ns, total: 4.01 s\n",
      "Wall time: 4.02 s\n"
     ]
    },
    {
     "data": {
      "text/plain": [
       "1877.62733697449"
      ]
     },
     "execution_count": 34,
     "metadata": {},
     "output_type": "execute_result"
    }
   ],
   "source": [
    "%%time\n",
    "\n",
    "model_lgbm = LGBMRegressor(random_state=12345)\n",
    "model_lgbm.fit(features_train_ord, target_train)\n",
    "predictions_lgbm = model_lgbm.predict(features_valid_ord)\n",
    "rmse_lgbm = (mean_squared_error(target_valid, predictions_lgbm))**0.5\n",
    "rmse_lgbm"
   ]
  },
  {
   "cell_type": "code",
   "execution_count": 35,
   "metadata": {},
   "outputs": [
    {
     "name": "stdout",
     "output_type": "stream",
     "text": [
      "CPU times: user 22 s, sys: 102 ms, total: 22.1 s\n",
      "Wall time: 23.2 s\n"
     ]
    },
    {
     "data": {
      "text/plain": [
       "1785.2268832357154"
      ]
     },
     "execution_count": 35,
     "metadata": {},
     "output_type": "execute_result"
    }
   ],
   "source": [
    "%%time\n",
    "\n",
    "model_cat = CatBoostRegressor(random_state=12345, learning_rate=0.5, verbose=False)\n",
    "model_cat.fit(features_train_ord, target_train)\n",
    "predictions_cat = model_cat.predict(features_valid_ord)\n",
    "rmse_cat = (mean_squared_error(target_valid, predictions_cat))**0.5\n",
    "rmse_cat"
   ]
  },
  {
   "cell_type": "code",
   "execution_count": 36,
   "metadata": {},
   "outputs": [
    {
     "name": "stdout",
     "output_type": "stream",
     "text": [
      "CPU times: user 158 ms, sys: 178 ms, total: 337 ms\n",
      "Wall time: 315 ms\n"
     ]
    },
    {
     "data": {
      "text/plain": [
       "3067.4860316221975"
      ]
     },
     "execution_count": 36,
     "metadata": {},
     "output_type": "execute_result"
    }
   ],
   "source": [
    "%%time\n",
    "\n",
    "model_ridge = linear_model.Ridge(random_state=12345)\n",
    "model_ridge.fit(features_train_ohe, target_train)\n",
    "predictions_ridge = model_ridge.predict(features_valid_ohe)\n",
    "rmse_ridge = (mean_squared_error(target_valid, predictions_ridge))**0.5\n",
    "rmse_ridge"
   ]
  },
  {
   "cell_type": "code",
   "execution_count": 37,
   "metadata": {},
   "outputs": [
    {
     "name": "stdout",
     "output_type": "stream",
     "text": [
      "CPU times: user 1min 7s, sys: 51 s, total: 1min 58s\n",
      "Wall time: 1min 59s\n"
     ]
    },
    {
     "data": {
      "text/plain": [
       "3067.4835084424058"
      ]
     },
     "execution_count": 37,
     "metadata": {},
     "output_type": "execute_result"
    }
   ],
   "source": [
    "%%time\n",
    "cv = RepeatedKFold(n_splits= 10 , n_repeats= 3 , random_state= 12345)\n",
    "model_lasso = LassoCV(alphas= arange (0, 1, 0.01), cv=cv, n_jobs=-1)\n",
    "model_lasso.fit(features_train_ohe, target_train)\n",
    "predictions_lasso = model_lasso.predict(features_valid_ohe)\n",
    "rmse_lasso = (mean_squared_error(target_valid, predictions_lasso))**0.5\n",
    "rmse_lasso"
   ]
  },
  {
   "cell_type": "markdown",
   "metadata": {},
   "source": [
    "Вывод: провели обучение моделей с параметрами по умолчанию, лучший показатель по RMSE случайный лес, а по времени гребневая регрессия."
   ]
  },
  {
   "cell_type": "markdown",
   "metadata": {},
   "source": [
    "## Анализ моделей"
   ]
  },
  {
   "cell_type": "markdown",
   "metadata": {},
   "source": [
    "Проанализируем модели, подобрав разные гиперпараметры"
   ]
  },
  {
   "cell_type": "code",
   "execution_count": 38,
   "metadata": {},
   "outputs": [],
   "source": [
    "def parameters_model(features, target, model, rs_space):\n",
    "    lr = model(random_state=12345)\n",
    "    lr_random = RandomizedSearchCV(lr, rs_space, scoring='neg_mean_squared_error', n_jobs=-1)\n",
    "    model_random = lr_random.fit(features, target)\n",
    "    \n",
    "    rmse = -model_random.best_score_\n",
    "    \n",
    "    parameters = model_random.best_params_\n",
    "    return rmse**0.5, parameters"
   ]
  },
  {
   "cell_type": "code",
   "execution_count": 39,
   "metadata": {},
   "outputs": [
    {
     "name": "stdout",
     "output_type": "stream",
     "text": [
      "1989.0310586514656 {'n_estimators': 20, 'max_depth': 11, 'criterion': 'friedman_mse'}\n"
     ]
    }
   ],
   "source": [
    "forest_rmse, forest_parameters = parameters_model(features_train_ord, target_train, RandomForestRegressor,  rs_space={'criterion':['squared_error', 'friedman_mse', 'absolute_error', 'poisson'],\n",
    "              'max_depth': range (1,13, 2), 'n_estimators': range (10, 51, 10)})\n",
    "\n",
    "print(forest_rmse, forest_parameters)"
   ]
  },
  {
   "cell_type": "code",
   "execution_count": 40,
   "metadata": {},
   "outputs": [
    {
     "name": "stdout",
     "output_type": "stream",
     "text": [
      "CPU times: user 4.25 s, sys: 46.2 ms, total: 4.3 s\n",
      "Wall time: 4.3 s\n"
     ]
    },
    {
     "data": {
      "text/plain": [
       "RandomForestRegressor(criterion='friedman_mse', max_depth=11, n_estimators=20,\n",
       "                      random_state=12345)"
      ]
     },
     "execution_count": 40,
     "metadata": {},
     "output_type": "execute_result"
    }
   ],
   "source": [
    "%%time\n",
    "model_forest = RandomForestRegressor(random_state=12345, n_estimators=20, max_depth=11, criterion='friedman_mse')\n",
    "model_forest.fit(features_train_ord, target_train)\n"
   ]
  },
  {
   "cell_type": "code",
   "execution_count": 41,
   "metadata": {},
   "outputs": [
    {
     "name": "stdout",
     "output_type": "stream",
     "text": [
      "CPU times: user 109 ms, sys: 4.56 ms, total: 113 ms\n",
      "Wall time: 112 ms\n"
     ]
    },
    {
     "data": {
      "text/plain": [
       "array([ 6232.43185168,  6881.20339571, 10646.75445812, ...,\n",
       "        6163.00058477,   752.38673937,  8151.51704866])"
      ]
     },
     "execution_count": 41,
     "metadata": {},
     "output_type": "execute_result"
    }
   ],
   "source": [
    "%%time\n",
    "model_forest.predict(features_valid_ord)"
   ]
  },
  {
   "cell_type": "code",
   "execution_count": 42,
   "metadata": {},
   "outputs": [
    {
     "data": {
      "text/plain": [
       "(1767.6394657001174, {'n_estimators': 850, 'max_depth': 38})"
      ]
     },
     "execution_count": 42,
     "metadata": {},
     "output_type": "execute_result"
    }
   ],
   "source": [
    "lgbm_rmse, lgbm_parameters = parameters_model(features_train_ord, target_train, LGBMRegressor, rs_space={\n",
    "              'n_estimators': range(30, 1000, 10),\n",
    "              'max_depth': range(-1, 256, 1),\n",
    "              })\n",
    "lgbm_rmse, lgbm_parameters"
   ]
  },
  {
   "cell_type": "code",
   "execution_count": 43,
   "metadata": {},
   "outputs": [
    {
     "name": "stdout",
     "output_type": "stream",
     "text": [
      "CPU times: user 20.6 s, sys: 18 ms, total: 20.6 s\n",
      "Wall time: 20.7 s\n"
     ]
    },
    {
     "data": {
      "text/plain": [
       "LGBMRegressor(max_depth=38, n_estimators=850, random_state=12345)"
      ]
     },
     "execution_count": 43,
     "metadata": {},
     "output_type": "execute_result"
    }
   ],
   "source": [
    "%%time\n",
    "model_lgbm = LGBMRegressor(random_state=12345, n_estimators=850, max_depth=38)\n",
    "model_lgbm.fit(features_train_ord, target_train)"
   ]
  },
  {
   "cell_type": "code",
   "execution_count": 44,
   "metadata": {},
   "outputs": [
    {
     "name": "stdout",
     "output_type": "stream",
     "text": [
      "CPU times: user 4.15 s, sys: 0 ns, total: 4.15 s\n",
      "Wall time: 4.13 s\n"
     ]
    },
    {
     "data": {
      "text/plain": [
       "array([5540.98239033, 6513.43022251, 8646.51680672, ..., 4352.2395662 ,\n",
       "        367.24078987, 8393.66497281])"
      ]
     },
     "execution_count": 44,
     "metadata": {},
     "output_type": "execute_result"
    }
   ],
   "source": [
    "%%time\n",
    "model_lgbm.predict(features_valid_ord)"
   ]
  },
  {
   "cell_type": "code",
   "execution_count": 45,
   "metadata": {},
   "outputs": [
    {
     "name": "stdout",
     "output_type": "stream",
     "text": [
      "0:\tlearn: 4565.0900064\ttotal: 26.4ms\tremaining: 766ms\n",
      "1:\tlearn: 4535.2828182\ttotal: 50ms\tremaining: 700ms\n",
      "2:\tlearn: 4505.5225384\ttotal: 71.6ms\tremaining: 645ms\n",
      "3:\tlearn: 4476.2816320\ttotal: 94.1ms\tremaining: 612ms\n",
      "4:\tlearn: 4447.0523215\ttotal: 122ms\tremaining: 612ms\n",
      "5:\tlearn: 4418.3415391\ttotal: 145ms\tremaining: 582ms\n",
      "6:\tlearn: 4389.9585388\ttotal: 167ms\tremaining: 549ms\n",
      "7:\tlearn: 4362.1341273\ttotal: 189ms\tremaining: 519ms\n",
      "8:\tlearn: 4333.8958614\ttotal: 210ms\tremaining: 490ms\n",
      "9:\tlearn: 4306.8010457\ttotal: 233ms\tremaining: 466ms\n",
      "10:\tlearn: 4279.5474249\ttotal: 255ms\tremaining: 441ms\n",
      "11:\tlearn: 4253.3467790\ttotal: 277ms\tremaining: 415ms\n",
      "12:\tlearn: 4226.8250722\ttotal: 298ms\tremaining: 390ms\n",
      "13:\tlearn: 4200.6191704\ttotal: 322ms\tremaining: 368ms\n",
      "14:\tlearn: 4174.6674233\ttotal: 344ms\tremaining: 344ms\n",
      "15:\tlearn: 4149.0650794\ttotal: 367ms\tremaining: 321ms\n",
      "16:\tlearn: 4123.7990859\ttotal: 389ms\tremaining: 297ms\n",
      "17:\tlearn: 4098.7433682\ttotal: 411ms\tremaining: 274ms\n",
      "18:\tlearn: 4073.9113269\ttotal: 434ms\tremaining: 251ms\n",
      "19:\tlearn: 4050.0747202\ttotal: 456ms\tremaining: 228ms\n",
      "20:\tlearn: 4026.4129883\ttotal: 477ms\tremaining: 205ms\n",
      "21:\tlearn: 4002.3545908\ttotal: 499ms\tremaining: 181ms\n",
      "22:\tlearn: 3978.9635374\ttotal: 521ms\tremaining: 158ms\n",
      "23:\tlearn: 3955.3680797\ttotal: 542ms\tremaining: 135ms\n",
      "24:\tlearn: 3932.7962446\ttotal: 562ms\tremaining: 112ms\n",
      "25:\tlearn: 3910.2385804\ttotal: 584ms\tremaining: 89.8ms\n",
      "26:\tlearn: 3887.9719116\ttotal: 605ms\tremaining: 67.3ms\n",
      "27:\tlearn: 3865.7408440\ttotal: 627ms\tremaining: 44.8ms\n",
      "28:\tlearn: 3843.6936460\ttotal: 648ms\tremaining: 22.3ms\n",
      "29:\tlearn: 3822.4709204\ttotal: 670ms\tremaining: 0us\n",
      "0:\tlearn: 4554.3800464\ttotal: 22.4ms\tremaining: 648ms\n",
      "1:\tlearn: 4524.5668656\ttotal: 44.7ms\tremaining: 626ms\n",
      "2:\tlearn: 4494.7187480\ttotal: 66.1ms\tremaining: 595ms\n",
      "3:\tlearn: 4465.5278412\ttotal: 88.2ms\tremaining: 573ms\n",
      "4:\tlearn: 4436.8190158\ttotal: 110ms\tremaining: 552ms\n",
      "5:\tlearn: 4407.8009852\ttotal: 132ms\tremaining: 529ms\n",
      "6:\tlearn: 4379.7608229\ttotal: 154ms\tremaining: 505ms\n",
      "7:\tlearn: 4351.8559208\ttotal: 175ms\tremaining: 481ms\n",
      "8:\tlearn: 4323.7753761\ttotal: 196ms\tremaining: 457ms\n",
      "9:\tlearn: 4296.4728768\ttotal: 217ms\tremaining: 434ms\n",
      "10:\tlearn: 4269.5063411\ttotal: 239ms\tremaining: 412ms\n",
      "11:\tlearn: 4243.2411389\ttotal: 262ms\tremaining: 393ms\n",
      "12:\tlearn: 4216.4789300\ttotal: 283ms\tremaining: 370ms\n",
      "13:\tlearn: 4189.6874943\ttotal: 305ms\tremaining: 348ms\n",
      "14:\tlearn: 4164.2264860\ttotal: 326ms\tremaining: 326ms\n",
      "15:\tlearn: 4138.9972335\ttotal: 347ms\tremaining: 304ms\n",
      "16:\tlearn: 4114.1384908\ttotal: 369ms\tremaining: 282ms\n",
      "17:\tlearn: 4089.4169766\ttotal: 391ms\tremaining: 260ms\n",
      "18:\tlearn: 4065.0476699\ttotal: 412ms\tremaining: 238ms\n",
      "19:\tlearn: 4040.7000701\ttotal: 433ms\tremaining: 217ms\n",
      "20:\tlearn: 4016.9252325\ttotal: 454ms\tremaining: 195ms\n",
      "21:\tlearn: 3992.9024687\ttotal: 476ms\tremaining: 173ms\n",
      "22:\tlearn: 3969.5057964\ttotal: 497ms\tremaining: 151ms\n",
      "23:\tlearn: 3945.8047127\ttotal: 518ms\tremaining: 130ms\n",
      "24:\tlearn: 3923.1174073\ttotal: 540ms\tremaining: 108ms\n",
      "25:\tlearn: 3900.6001530\ttotal: 561ms\tremaining: 86.3ms\n",
      "26:\tlearn: 3878.0241333\ttotal: 583ms\tremaining: 64.8ms\n",
      "27:\tlearn: 3855.4567566\ttotal: 604ms\tremaining: 43.2ms\n",
      "28:\tlearn: 3833.7306002\ttotal: 626ms\tremaining: 21.6ms\n",
      "29:\tlearn: 3812.1444634\ttotal: 650ms\tremaining: 0us\n",
      "0:\tlearn: 4551.7499953\ttotal: 22.5ms\tremaining: 651ms\n",
      "1:\tlearn: 4521.5953360\ttotal: 44.2ms\tremaining: 618ms\n",
      "2:\tlearn: 4491.8074543\ttotal: 66.4ms\tremaining: 598ms\n",
      "3:\tlearn: 4462.3827037\ttotal: 88.7ms\tremaining: 577ms\n",
      "4:\tlearn: 4433.1993007\ttotal: 111ms\tremaining: 555ms\n",
      "5:\tlearn: 4404.4085269\ttotal: 132ms\tremaining: 530ms\n",
      "6:\tlearn: 4376.2816619\ttotal: 154ms\tremaining: 507ms\n",
      "7:\tlearn: 4348.6142904\ttotal: 176ms\tremaining: 483ms\n",
      "8:\tlearn: 4320.5834925\ttotal: 197ms\tremaining: 459ms\n",
      "9:\tlearn: 4293.0918725\ttotal: 221ms\tremaining: 443ms\n",
      "10:\tlearn: 4266.0594717\ttotal: 248ms\tremaining: 429ms\n",
      "11:\tlearn: 4239.8857369\ttotal: 274ms\tremaining: 412ms\n",
      "12:\tlearn: 4214.0145741\ttotal: 302ms\tremaining: 395ms\n",
      "13:\tlearn: 4187.5032951\ttotal: 330ms\tremaining: 377ms\n",
      "14:\tlearn: 4161.7179593\ttotal: 356ms\tremaining: 356ms\n",
      "15:\tlearn: 4137.0286575\ttotal: 379ms\tremaining: 331ms\n",
      "16:\tlearn: 4111.7851535\ttotal: 405ms\tremaining: 310ms\n",
      "17:\tlearn: 4086.8603078\ttotal: 429ms\tremaining: 286ms\n",
      "18:\tlearn: 4061.8517570\ttotal: 450ms\tremaining: 261ms\n",
      "19:\tlearn: 4037.8497945\ttotal: 473ms\tremaining: 236ms\n",
      "20:\tlearn: 4014.1903919\ttotal: 494ms\tremaining: 212ms\n",
      "21:\tlearn: 3990.2100013\ttotal: 516ms\tremaining: 188ms\n",
      "22:\tlearn: 3966.9906272\ttotal: 537ms\tremaining: 164ms\n",
      "23:\tlearn: 3943.7815488\ttotal: 559ms\tremaining: 140ms\n",
      "24:\tlearn: 3921.1991677\ttotal: 580ms\tremaining: 116ms\n",
      "25:\tlearn: 3898.6733053\ttotal: 602ms\tremaining: 92.5ms\n",
      "26:\tlearn: 3876.6308575\ttotal: 623ms\tremaining: 69.3ms\n",
      "27:\tlearn: 3854.3034760\ttotal: 645ms\tremaining: 46.1ms\n",
      "28:\tlearn: 3832.5744639\ttotal: 667ms\tremaining: 23ms\n",
      "29:\tlearn: 3811.0607817\ttotal: 692ms\tremaining: 0us\n",
      "0:\tlearn: 4565.2451277\ttotal: 21.8ms\tremaining: 632ms\n",
      "1:\tlearn: 4535.0049064\ttotal: 43.5ms\tremaining: 610ms\n",
      "2:\tlearn: 4505.2362130\ttotal: 64.8ms\tremaining: 583ms\n",
      "3:\tlearn: 4475.9026979\ttotal: 86.1ms\tremaining: 559ms\n",
      "4:\tlearn: 4446.6027094\ttotal: 108ms\tremaining: 541ms\n",
      "5:\tlearn: 4417.8427233\ttotal: 130ms\tremaining: 520ms\n",
      "6:\tlearn: 4389.6047798\ttotal: 152ms\tremaining: 500ms\n",
      "7:\tlearn: 4361.7041848\ttotal: 173ms\tremaining: 477ms\n",
      "8:\tlearn: 4334.1007907\ttotal: 195ms\tremaining: 455ms\n",
      "9:\tlearn: 4306.9957355\ttotal: 217ms\tremaining: 434ms\n",
      "10:\tlearn: 4279.6804954\ttotal: 240ms\tremaining: 414ms\n",
      "11:\tlearn: 4253.4548089\ttotal: 262ms\tremaining: 393ms\n",
      "12:\tlearn: 4226.5520169\ttotal: 284ms\tremaining: 371ms\n",
      "13:\tlearn: 4200.5735274\ttotal: 306ms\tremaining: 350ms\n",
      "14:\tlearn: 4174.7211222\ttotal: 327ms\tremaining: 327ms\n",
      "15:\tlearn: 4149.4793624\ttotal: 350ms\tremaining: 306ms\n",
      "16:\tlearn: 4124.3595377\ttotal: 371ms\tremaining: 284ms\n",
      "17:\tlearn: 4099.4863161\ttotal: 393ms\tremaining: 262ms\n",
      "18:\tlearn: 4074.6485736\ttotal: 414ms\tremaining: 240ms\n",
      "19:\tlearn: 4050.6048117\ttotal: 437ms\tremaining: 219ms\n",
      "20:\tlearn: 4026.6663783\ttotal: 459ms\tremaining: 197ms\n",
      "21:\tlearn: 4003.2949927\ttotal: 481ms\tremaining: 175ms\n",
      "22:\tlearn: 3980.3104995\ttotal: 508ms\tremaining: 154ms\n",
      "23:\tlearn: 3957.0658495\ttotal: 531ms\tremaining: 133ms\n",
      "24:\tlearn: 3933.5332382\ttotal: 556ms\tremaining: 111ms\n",
      "25:\tlearn: 3911.0789373\ttotal: 579ms\tremaining: 89ms\n",
      "26:\tlearn: 3888.8636364\ttotal: 601ms\tremaining: 66.7ms\n",
      "27:\tlearn: 3867.5177544\ttotal: 623ms\tremaining: 44.5ms\n",
      "28:\tlearn: 3845.4672300\ttotal: 645ms\tremaining: 22.2ms\n",
      "29:\tlearn: 3824.1383910\ttotal: 666ms\tremaining: 0us\n",
      "0:\tlearn: 4557.1736978\ttotal: 21.9ms\tremaining: 636ms\n",
      "1:\tlearn: 4527.0534490\ttotal: 43.3ms\tremaining: 606ms\n",
      "2:\tlearn: 4497.3979819\ttotal: 64.3ms\tremaining: 579ms\n",
      "3:\tlearn: 4468.1185476\ttotal: 93ms\tremaining: 605ms\n",
      "4:\tlearn: 4438.9903694\ttotal: 121ms\tremaining: 603ms\n",
      "5:\tlearn: 4410.3889924\ttotal: 142ms\tremaining: 567ms\n",
      "6:\tlearn: 4382.2227152\ttotal: 164ms\tremaining: 539ms\n",
      "7:\tlearn: 4354.2328056\ttotal: 185ms\tremaining: 508ms\n",
      "8:\tlearn: 4325.9831245\ttotal: 207ms\tremaining: 483ms\n",
      "9:\tlearn: 4298.4272471\ttotal: 228ms\tremaining: 456ms\n",
      "10:\tlearn: 4271.1708974\ttotal: 250ms\tremaining: 433ms\n",
      "11:\tlearn: 4244.7724842\ttotal: 272ms\tremaining: 408ms\n",
      "12:\tlearn: 4218.0005967\ttotal: 293ms\tremaining: 383ms\n",
      "13:\tlearn: 4191.8453709\ttotal: 315ms\tremaining: 359ms\n",
      "14:\tlearn: 4166.0886191\ttotal: 336ms\tremaining: 336ms\n",
      "15:\tlearn: 4140.9893741\ttotal: 357ms\tremaining: 312ms\n",
      "16:\tlearn: 4115.8852622\ttotal: 378ms\tremaining: 289ms\n",
      "17:\tlearn: 4091.1248364\ttotal: 400ms\tremaining: 266ms\n",
      "18:\tlearn: 4066.3428180\ttotal: 421ms\tremaining: 244ms\n",
      "19:\tlearn: 4042.1826591\ttotal: 442ms\tremaining: 221ms\n",
      "20:\tlearn: 4018.1933020\ttotal: 464ms\tremaining: 199ms\n",
      "21:\tlearn: 3993.7225599\ttotal: 487ms\tremaining: 177ms\n",
      "22:\tlearn: 3970.7117404\ttotal: 508ms\tremaining: 155ms\n",
      "23:\tlearn: 3947.1462751\ttotal: 529ms\tremaining: 132ms\n",
      "24:\tlearn: 3924.4438129\ttotal: 552ms\tremaining: 110ms\n",
      "25:\tlearn: 3902.0428555\ttotal: 574ms\tremaining: 88.2ms\n",
      "26:\tlearn: 3880.0994030\ttotal: 595ms\tremaining: 66.1ms\n",
      "27:\tlearn: 3857.5807122\ttotal: 617ms\tremaining: 44ms\n",
      "28:\tlearn: 3835.6106935\ttotal: 638ms\tremaining: 22ms\n",
      "29:\tlearn: 3814.3262971\ttotal: 659ms\tremaining: 0us\n",
      "0:\tlearn: 4286.8945213\ttotal: 36.2ms\tremaining: 1.05s\n",
      "1:\tlearn: 4009.8337650\ttotal: 72.4ms\tremaining: 1.01s\n",
      "2:\tlearn: 3764.0680179\ttotal: 106ms\tremaining: 958ms\n",
      "3:\tlearn: 3551.6254996\ttotal: 140ms\tremaining: 908ms\n",
      "4:\tlearn: 3364.6031423\ttotal: 173ms\tremaining: 865ms\n",
      "5:\tlearn: 3198.1860908\ttotal: 206ms\tremaining: 825ms\n",
      "6:\tlearn: 3055.4447087\ttotal: 240ms\tremaining: 789ms\n",
      "7:\tlearn: 2930.5758478\ttotal: 276ms\tremaining: 759ms\n",
      "8:\tlearn: 2813.1809210\ttotal: 310ms\tremaining: 722ms\n",
      "9:\tlearn: 2716.5662348\ttotal: 343ms\tremaining: 686ms\n",
      "10:\tlearn: 2628.9528755\ttotal: 376ms\tremaining: 650ms\n",
      "11:\tlearn: 2555.2724825\ttotal: 410ms\tremaining: 615ms\n",
      "12:\tlearn: 2490.0135716\ttotal: 446ms\tremaining: 583ms\n",
      "13:\tlearn: 2435.2248706\ttotal: 482ms\tremaining: 551ms\n",
      "14:\tlearn: 2386.0391832\ttotal: 516ms\tremaining: 516ms\n",
      "15:\tlearn: 2343.1547560\ttotal: 549ms\tremaining: 480ms\n",
      "16:\tlearn: 2305.0089749\ttotal: 582ms\tremaining: 445ms\n",
      "17:\tlearn: 2269.6720597\ttotal: 616ms\tremaining: 410ms\n",
      "18:\tlearn: 2241.4118116\ttotal: 649ms\tremaining: 376ms\n",
      "19:\tlearn: 2211.8953651\ttotal: 683ms\tremaining: 341ms\n",
      "20:\tlearn: 2188.2113709\ttotal: 715ms\tremaining: 307ms\n",
      "21:\tlearn: 2163.1092552\ttotal: 748ms\tremaining: 272ms\n",
      "22:\tlearn: 2145.7270179\ttotal: 781ms\tremaining: 238ms\n",
      "23:\tlearn: 2128.8735038\ttotal: 814ms\tremaining: 204ms\n",
      "24:\tlearn: 2112.6399221\ttotal: 847ms\tremaining: 169ms\n",
      "25:\tlearn: 2096.2500759\ttotal: 881ms\tremaining: 136ms\n",
      "26:\tlearn: 2081.9787197\ttotal: 914ms\tremaining: 102ms\n",
      "27:\tlearn: 2065.9521466\ttotal: 951ms\tremaining: 67.9ms\n",
      "28:\tlearn: 2056.2989473\ttotal: 984ms\tremaining: 33.9ms\n",
      "29:\tlearn: 2045.0767750\ttotal: 1.02s\tremaining: 0us\n",
      "0:\tlearn: 4275.3478284\ttotal: 33.8ms\tremaining: 980ms\n",
      "1:\tlearn: 3999.5439197\ttotal: 67.3ms\tremaining: 942ms\n",
      "2:\tlearn: 3754.7718972\ttotal: 100ms\tremaining: 902ms\n",
      "3:\tlearn: 3545.1112346\ttotal: 133ms\tremaining: 865ms\n",
      "4:\tlearn: 3358.1433259\ttotal: 166ms\tremaining: 831ms\n",
      "5:\tlearn: 3194.3830069\ttotal: 199ms\tremaining: 797ms\n",
      "6:\tlearn: 3047.1942229\ttotal: 233ms\tremaining: 765ms\n",
      "7:\tlearn: 2923.1616642\ttotal: 269ms\tremaining: 739ms\n",
      "8:\tlearn: 2814.1469198\ttotal: 302ms\tremaining: 705ms\n",
      "9:\tlearn: 2716.0466968\ttotal: 337ms\tremaining: 673ms\n",
      "10:\tlearn: 2630.5573451\ttotal: 371ms\tremaining: 641ms\n",
      "11:\tlearn: 2553.7003225\ttotal: 404ms\tremaining: 607ms\n",
      "12:\tlearn: 2490.4777860\ttotal: 438ms\tremaining: 573ms\n",
      "13:\tlearn: 2435.2246149\ttotal: 476ms\tremaining: 544ms\n",
      "14:\tlearn: 2384.8862820\ttotal: 510ms\tremaining: 510ms\n",
      "15:\tlearn: 2341.6650243\ttotal: 544ms\tremaining: 476ms\n",
      "16:\tlearn: 2304.1707246\ttotal: 578ms\tremaining: 442ms\n",
      "17:\tlearn: 2272.2061784\ttotal: 613ms\tremaining: 409ms\n",
      "18:\tlearn: 2244.6638705\ttotal: 647ms\tremaining: 375ms\n",
      "19:\tlearn: 2220.2314600\ttotal: 684ms\tremaining: 342ms\n",
      "20:\tlearn: 2192.8386077\ttotal: 717ms\tremaining: 307ms\n",
      "21:\tlearn: 2172.3071725\ttotal: 751ms\tremaining: 273ms\n",
      "22:\tlearn: 2153.5880642\ttotal: 785ms\tremaining: 239ms\n",
      "23:\tlearn: 2137.5258597\ttotal: 819ms\tremaining: 205ms\n",
      "24:\tlearn: 2119.7183309\ttotal: 854ms\tremaining: 171ms\n",
      "25:\tlearn: 2102.3465269\ttotal: 889ms\tremaining: 137ms\n",
      "26:\tlearn: 2089.2205123\ttotal: 923ms\tremaining: 103ms\n",
      "27:\tlearn: 2075.8109261\ttotal: 956ms\tremaining: 68.3ms\n",
      "28:\tlearn: 2062.4529505\ttotal: 990ms\tremaining: 34.1ms\n",
      "29:\tlearn: 2051.1952094\ttotal: 1.02s\tremaining: 0us\n",
      "0:\tlearn: 4267.0959758\ttotal: 34.6ms\tremaining: 1s\n",
      "1:\tlearn: 3992.9117498\ttotal: 69.2ms\tremaining: 968ms\n",
      "2:\tlearn: 3751.1329998\ttotal: 102ms\tremaining: 921ms\n",
      "3:\tlearn: 3539.1850147\ttotal: 136ms\tremaining: 886ms\n",
      "4:\tlearn: 3352.1689876\ttotal: 170ms\tremaining: 850ms\n",
      "5:\tlearn: 3186.8625409\ttotal: 203ms\tremaining: 813ms\n",
      "6:\tlearn: 3043.0001892\ttotal: 238ms\tremaining: 781ms\n",
      "7:\tlearn: 2920.6526607\ttotal: 272ms\tremaining: 747ms\n",
      "8:\tlearn: 2809.4390389\ttotal: 308ms\tremaining: 719ms\n",
      "9:\tlearn: 2713.3430202\ttotal: 342ms\tremaining: 684ms\n",
      "10:\tlearn: 2625.3458985\ttotal: 376ms\tremaining: 650ms\n",
      "11:\tlearn: 2548.5998241\ttotal: 411ms\tremaining: 616ms\n",
      "12:\tlearn: 2483.4945597\ttotal: 444ms\tremaining: 581ms\n",
      "13:\tlearn: 2426.5719161\ttotal: 480ms\tremaining: 549ms\n",
      "14:\tlearn: 2377.9786731\ttotal: 514ms\tremaining: 514ms\n",
      "15:\tlearn: 2331.5463192\ttotal: 549ms\tremaining: 481ms\n",
      "16:\tlearn: 2291.0732260\ttotal: 583ms\tremaining: 446ms\n",
      "17:\tlearn: 2256.3684513\ttotal: 616ms\tremaining: 411ms\n",
      "18:\tlearn: 2225.3170681\ttotal: 650ms\tremaining: 376ms\n",
      "19:\tlearn: 2199.1250107\ttotal: 686ms\tremaining: 343ms\n",
      "20:\tlearn: 2178.6631484\ttotal: 720ms\tremaining: 308ms\n",
      "21:\tlearn: 2156.5986311\ttotal: 753ms\tremaining: 274ms\n",
      "22:\tlearn: 2139.5134604\ttotal: 787ms\tremaining: 239ms\n",
      "23:\tlearn: 2123.1233207\ttotal: 821ms\tremaining: 205ms\n",
      "24:\tlearn: 2104.5910155\ttotal: 855ms\tremaining: 171ms\n",
      "25:\tlearn: 2092.6009065\ttotal: 896ms\tremaining: 138ms\n",
      "26:\tlearn: 2077.8576619\ttotal: 930ms\tremaining: 103ms\n",
      "27:\tlearn: 2066.4752956\ttotal: 963ms\tremaining: 68.8ms\n",
      "28:\tlearn: 2054.6921789\ttotal: 998ms\tremaining: 34.4ms\n",
      "29:\tlearn: 2043.2607703\ttotal: 1.03s\tremaining: 0us\n",
      "0:\tlearn: 4285.7697008\ttotal: 35.2ms\tremaining: 1.02s\n",
      "1:\tlearn: 4010.8480336\ttotal: 69.2ms\tremaining: 969ms\n",
      "2:\tlearn: 3769.8966066\ttotal: 104ms\tremaining: 935ms\n",
      "3:\tlearn: 3557.6515252\ttotal: 139ms\tremaining: 902ms\n",
      "4:\tlearn: 3365.8999227\ttotal: 173ms\tremaining: 866ms\n",
      "5:\tlearn: 3196.7264546\ttotal: 208ms\tremaining: 831ms\n",
      "6:\tlearn: 3051.9692197\ttotal: 242ms\tremaining: 794ms\n",
      "7:\tlearn: 2925.2744324\ttotal: 277ms\tremaining: 763ms\n",
      "8:\tlearn: 2807.7667404\ttotal: 312ms\tremaining: 729ms\n",
      "9:\tlearn: 2713.4697435\ttotal: 347ms\tremaining: 693ms\n",
      "10:\tlearn: 2630.7884073\ttotal: 383ms\tremaining: 661ms\n",
      "11:\tlearn: 2552.1350587\ttotal: 417ms\tremaining: 626ms\n",
      "12:\tlearn: 2484.4501978\ttotal: 453ms\tremaining: 592ms\n",
      "13:\tlearn: 2427.8146814\ttotal: 492ms\tremaining: 562ms\n",
      "14:\tlearn: 2380.9774139\ttotal: 526ms\tremaining: 526ms\n",
      "15:\tlearn: 2336.4792864\ttotal: 560ms\tremaining: 490ms\n",
      "16:\tlearn: 2298.9768221\ttotal: 595ms\tremaining: 455ms\n",
      "17:\tlearn: 2262.5319007\ttotal: 629ms\tremaining: 420ms\n",
      "18:\tlearn: 2232.3988122\ttotal: 664ms\tremaining: 384ms\n",
      "19:\tlearn: 2204.8083961\ttotal: 698ms\tremaining: 349ms\n",
      "20:\tlearn: 2183.7447615\ttotal: 732ms\tremaining: 314ms\n",
      "21:\tlearn: 2159.7352486\ttotal: 766ms\tremaining: 279ms\n",
      "22:\tlearn: 2140.1563938\ttotal: 801ms\tremaining: 244ms\n",
      "23:\tlearn: 2124.2508163\ttotal: 837ms\tremaining: 209ms\n",
      "24:\tlearn: 2106.9397683\ttotal: 872ms\tremaining: 174ms\n",
      "25:\tlearn: 2089.8483277\ttotal: 908ms\tremaining: 140ms\n",
      "26:\tlearn: 2076.1856513\ttotal: 942ms\tremaining: 105ms\n",
      "27:\tlearn: 2065.9757517\ttotal: 979ms\tremaining: 69.9ms\n",
      "28:\tlearn: 2052.9650294\ttotal: 1.01s\tremaining: 35ms\n",
      "29:\tlearn: 2043.4140636\ttotal: 1.05s\tremaining: 0us\n",
      "0:\tlearn: 4276.8645425\ttotal: 35.6ms\tremaining: 1.03s\n",
      "1:\tlearn: 3998.9685449\ttotal: 70.8ms\tremaining: 991ms\n",
      "2:\tlearn: 3752.1695255\ttotal: 106ms\tremaining: 954ms\n",
      "3:\tlearn: 3539.8725621\ttotal: 141ms\tremaining: 914ms\n",
      "4:\tlearn: 3353.7100786\ttotal: 176ms\tremaining: 878ms\n",
      "5:\tlearn: 3190.1710540\ttotal: 210ms\tremaining: 841ms\n",
      "6:\tlearn: 3045.5411481\ttotal: 245ms\tremaining: 806ms\n",
      "7:\tlearn: 2921.7082461\ttotal: 281ms\tremaining: 773ms\n",
      "8:\tlearn: 2809.9609908\ttotal: 315ms\tremaining: 736ms\n",
      "9:\tlearn: 2714.1402175\ttotal: 350ms\tremaining: 700ms\n",
      "10:\tlearn: 2630.5968228\ttotal: 386ms\tremaining: 666ms\n",
      "11:\tlearn: 2555.6693271\ttotal: 421ms\tremaining: 632ms\n",
      "12:\tlearn: 2492.4318128\ttotal: 458ms\tremaining: 599ms\n",
      "13:\tlearn: 2435.9603023\ttotal: 492ms\tremaining: 562ms\n",
      "14:\tlearn: 2387.2805155\ttotal: 525ms\tremaining: 525ms\n",
      "15:\tlearn: 2342.1905507\ttotal: 561ms\tremaining: 491ms\n",
      "16:\tlearn: 2304.5323641\ttotal: 594ms\tremaining: 454ms\n",
      "17:\tlearn: 2269.6074157\ttotal: 629ms\tremaining: 419ms\n",
      "18:\tlearn: 2239.7992313\ttotal: 673ms\tremaining: 390ms\n",
      "19:\tlearn: 2213.8665413\ttotal: 715ms\tremaining: 358ms\n",
      "20:\tlearn: 2193.2534516\ttotal: 759ms\tremaining: 325ms\n",
      "21:\tlearn: 2169.4376151\ttotal: 793ms\tremaining: 288ms\n",
      "22:\tlearn: 2150.3557663\ttotal: 829ms\tremaining: 252ms\n",
      "23:\tlearn: 2131.9569641\ttotal: 864ms\tremaining: 216ms\n",
      "24:\tlearn: 2112.5301582\ttotal: 897ms\tremaining: 179ms\n",
      "25:\tlearn: 2099.2985045\ttotal: 933ms\tremaining: 144ms\n",
      "26:\tlearn: 2086.4375475\ttotal: 970ms\tremaining: 108ms\n",
      "27:\tlearn: 2072.6166841\ttotal: 1.01s\tremaining: 71.9ms\n",
      "28:\tlearn: 2062.5641612\ttotal: 1.04s\tremaining: 35.9ms\n",
      "29:\tlearn: 2051.6913078\ttotal: 1.08s\tremaining: 0us\n",
      "0:\tlearn: 4567.1214518\ttotal: 18.2ms\tremaining: 529ms\n",
      "1:\tlearn: 4538.5642502\ttotal: 36.4ms\tremaining: 509ms\n",
      "2:\tlearn: 4509.9021782\ttotal: 55.3ms\tremaining: 498ms\n",
      "3:\tlearn: 4482.3337579\ttotal: 73ms\tremaining: 474ms\n",
      "4:\tlearn: 4454.6170165\ttotal: 91.1ms\tremaining: 456ms\n",
      "5:\tlearn: 4427.3498635\ttotal: 109ms\tremaining: 435ms\n",
      "6:\tlearn: 4401.0833544\ttotal: 126ms\tremaining: 415ms\n",
      "7:\tlearn: 4375.2948601\ttotal: 144ms\tremaining: 396ms\n",
      "8:\tlearn: 4348.1620673\ttotal: 161ms\tremaining: 377ms\n",
      "9:\tlearn: 4322.5903727\ttotal: 180ms\tremaining: 359ms\n",
      "10:\tlearn: 4296.8988847\ttotal: 198ms\tremaining: 342ms\n",
      "11:\tlearn: 4271.1068260\ttotal: 216ms\tremaining: 324ms\n",
      "12:\tlearn: 4246.3401694\ttotal: 234ms\tremaining: 306ms\n",
      "13:\tlearn: 4222.0877789\ttotal: 252ms\tremaining: 288ms\n",
      "14:\tlearn: 4197.6852700\ttotal: 270ms\tremaining: 270ms\n",
      "15:\tlearn: 4173.9945130\ttotal: 287ms\tremaining: 251ms\n",
      "16:\tlearn: 4150.2264502\ttotal: 305ms\tremaining: 234ms\n",
      "17:\tlearn: 4127.3799077\ttotal: 323ms\tremaining: 215ms\n",
      "18:\tlearn: 4103.9658606\ttotal: 341ms\tremaining: 197ms\n",
      "19:\tlearn: 4081.4565902\ttotal: 358ms\tremaining: 179ms\n",
      "20:\tlearn: 4058.5604501\ttotal: 376ms\tremaining: 161ms\n",
      "21:\tlearn: 4036.7197637\ttotal: 394ms\tremaining: 143ms\n",
      "22:\tlearn: 4014.6643378\ttotal: 412ms\tremaining: 125ms\n",
      "23:\tlearn: 3992.8891223\ttotal: 430ms\tremaining: 107ms\n",
      "24:\tlearn: 3971.6908409\ttotal: 449ms\tremaining: 89.8ms\n",
      "25:\tlearn: 3950.3408488\ttotal: 466ms\tremaining: 71.7ms\n",
      "26:\tlearn: 3929.1674291\ttotal: 483ms\tremaining: 53.7ms\n",
      "27:\tlearn: 3908.9190762\ttotal: 501ms\tremaining: 35.8ms\n",
      "28:\tlearn: 3888.2183744\ttotal: 520ms\tremaining: 17.9ms\n",
      "29:\tlearn: 3867.9822862\ttotal: 538ms\tremaining: 0us\n",
      "0:\tlearn: 4556.0143822\ttotal: 26ms\tremaining: 754ms\n",
      "1:\tlearn: 4528.3254016\ttotal: 47.9ms\tremaining: 670ms\n",
      "2:\tlearn: 4500.5289597\ttotal: 66ms\tremaining: 594ms\n",
      "3:\tlearn: 4472.3358007\ttotal: 83.6ms\tremaining: 543ms\n",
      "4:\tlearn: 4445.0698275\ttotal: 101ms\tremaining: 507ms\n",
      "5:\tlearn: 4418.4795030\ttotal: 119ms\tremaining: 477ms\n",
      "6:\tlearn: 4392.2536064\ttotal: 137ms\tremaining: 450ms\n",
      "7:\tlearn: 4366.3480933\ttotal: 155ms\tremaining: 425ms\n",
      "8:\tlearn: 4339.7160881\ttotal: 173ms\tremaining: 404ms\n",
      "9:\tlearn: 4313.9588185\ttotal: 192ms\tremaining: 383ms\n",
      "10:\tlearn: 4288.9970724\ttotal: 210ms\tremaining: 363ms\n",
      "11:\tlearn: 4264.2883475\ttotal: 230ms\tremaining: 344ms\n",
      "12:\tlearn: 4239.4347868\ttotal: 248ms\tremaining: 324ms\n",
      "13:\tlearn: 4214.8746095\ttotal: 266ms\tremaining: 304ms\n",
      "14:\tlearn: 4190.5914481\ttotal: 285ms\tremaining: 285ms\n",
      "15:\tlearn: 4167.5223772\ttotal: 303ms\tremaining: 265ms\n",
      "16:\tlearn: 4144.0776503\ttotal: 321ms\tremaining: 245ms\n",
      "17:\tlearn: 4121.3477235\ttotal: 339ms\tremaining: 226ms\n",
      "18:\tlearn: 4097.2177409\ttotal: 360ms\tremaining: 208ms\n",
      "19:\tlearn: 4074.4688149\ttotal: 380ms\tremaining: 190ms\n",
      "20:\tlearn: 4052.5022907\ttotal: 399ms\tremaining: 171ms\n",
      "21:\tlearn: 4031.2127346\ttotal: 418ms\tremaining: 152ms\n",
      "22:\tlearn: 4009.0115353\ttotal: 441ms\tremaining: 134ms\n",
      "23:\tlearn: 3987.4122390\ttotal: 463ms\tremaining: 116ms\n",
      "24:\tlearn: 3966.4279200\ttotal: 482ms\tremaining: 96.5ms\n",
      "25:\tlearn: 3944.5400537\ttotal: 502ms\tremaining: 77.2ms\n",
      "26:\tlearn: 3924.0448057\ttotal: 520ms\tremaining: 57.8ms\n",
      "27:\tlearn: 3902.6726170\ttotal: 538ms\tremaining: 38.5ms\n",
      "28:\tlearn: 3881.1741551\ttotal: 557ms\tremaining: 19.2ms\n",
      "29:\tlearn: 3861.3550160\ttotal: 575ms\tremaining: 0us\n",
      "0:\tlearn: 4553.9229590\ttotal: 19.2ms\tremaining: 555ms\n",
      "1:\tlearn: 4524.9340722\ttotal: 37.7ms\tremaining: 528ms\n",
      "2:\tlearn: 4497.3474066\ttotal: 56.3ms\tremaining: 507ms\n",
      "3:\tlearn: 4469.4510383\ttotal: 74.8ms\tremaining: 486ms\n",
      "4:\tlearn: 4442.1418443\ttotal: 93.2ms\tremaining: 466ms\n",
      "5:\tlearn: 4415.6526973\ttotal: 112ms\tremaining: 446ms\n",
      "6:\tlearn: 4389.0357929\ttotal: 131ms\tremaining: 430ms\n",
      "7:\tlearn: 4363.0423090\ttotal: 150ms\tremaining: 412ms\n",
      "8:\tlearn: 4336.2968960\ttotal: 168ms\tremaining: 393ms\n",
      "9:\tlearn: 4311.1154722\ttotal: 187ms\tremaining: 374ms\n",
      "10:\tlearn: 4286.1449768\ttotal: 205ms\tremaining: 355ms\n",
      "11:\tlearn: 4261.4484305\ttotal: 224ms\tremaining: 336ms\n",
      "12:\tlearn: 4235.9295638\ttotal: 243ms\tremaining: 318ms\n",
      "13:\tlearn: 4211.3374228\ttotal: 261ms\tremaining: 299ms\n",
      "14:\tlearn: 4187.1438485\ttotal: 279ms\tremaining: 279ms\n",
      "15:\tlearn: 4163.6723985\ttotal: 297ms\tremaining: 260ms\n",
      "16:\tlearn: 4140.0477177\ttotal: 315ms\tremaining: 241ms\n",
      "17:\tlearn: 4117.2511349\ttotal: 333ms\tremaining: 222ms\n",
      "18:\tlearn: 4093.3519418\ttotal: 352ms\tremaining: 204ms\n",
      "19:\tlearn: 4071.0035902\ttotal: 370ms\tremaining: 185ms\n",
      "20:\tlearn: 4048.8241618\ttotal: 388ms\tremaining: 166ms\n",
      "21:\tlearn: 4027.0197821\ttotal: 406ms\tremaining: 148ms\n",
      "22:\tlearn: 4004.3273192\ttotal: 424ms\tremaining: 129ms\n",
      "23:\tlearn: 3982.6072781\ttotal: 442ms\tremaining: 111ms\n",
      "24:\tlearn: 3961.7768856\ttotal: 460ms\tremaining: 92.1ms\n",
      "25:\tlearn: 3940.0990863\ttotal: 478ms\tremaining: 73.6ms\n",
      "26:\tlearn: 3918.8930087\ttotal: 496ms\tremaining: 55.1ms\n",
      "27:\tlearn: 3898.0974256\ttotal: 514ms\tremaining: 36.7ms\n",
      "28:\tlearn: 3877.0819043\ttotal: 532ms\tremaining: 18.4ms\n",
      "29:\tlearn: 3857.5869803\ttotal: 550ms\tremaining: 0us\n",
      "0:\tlearn: 4566.3726284\ttotal: 19.4ms\tremaining: 561ms\n",
      "1:\tlearn: 4537.9464683\ttotal: 37.5ms\tremaining: 525ms\n",
      "2:\tlearn: 4510.0705468\ttotal: 56.3ms\tremaining: 507ms\n",
      "3:\tlearn: 4482.9685173\ttotal: 74.4ms\tremaining: 483ms\n",
      "4:\tlearn: 4455.4858004\ttotal: 92ms\tremaining: 460ms\n",
      "5:\tlearn: 4427.6967980\ttotal: 110ms\tremaining: 441ms\n",
      "6:\tlearn: 4401.3446005\ttotal: 128ms\tremaining: 421ms\n",
      "7:\tlearn: 4375.4040318\ttotal: 146ms\tremaining: 402ms\n",
      "8:\tlearn: 4349.2367535\ttotal: 165ms\tremaining: 384ms\n",
      "9:\tlearn: 4323.9381352\ttotal: 183ms\tremaining: 366ms\n",
      "10:\tlearn: 4299.1682574\ttotal: 202ms\tremaining: 349ms\n",
      "11:\tlearn: 4273.5546626\ttotal: 221ms\tremaining: 331ms\n",
      "12:\tlearn: 4249.2728652\ttotal: 245ms\tremaining: 320ms\n",
      "13:\tlearn: 4224.6362164\ttotal: 267ms\tremaining: 306ms\n",
      "14:\tlearn: 4200.4668633\ttotal: 285ms\tremaining: 285ms\n",
      "15:\tlearn: 4176.0224075\ttotal: 303ms\tremaining: 265ms\n",
      "16:\tlearn: 4152.0560156\ttotal: 321ms\tremaining: 245ms\n",
      "17:\tlearn: 4129.1422470\ttotal: 340ms\tremaining: 227ms\n",
      "18:\tlearn: 4105.5945411\ttotal: 358ms\tremaining: 207ms\n",
      "19:\tlearn: 4082.6263835\ttotal: 376ms\tremaining: 188ms\n",
      "20:\tlearn: 4060.6588848\ttotal: 394ms\tremaining: 169ms\n",
      "21:\tlearn: 4038.8279631\ttotal: 412ms\tremaining: 150ms\n",
      "22:\tlearn: 4016.9115343\ttotal: 430ms\tremaining: 131ms\n",
      "23:\tlearn: 3995.7378937\ttotal: 448ms\tremaining: 112ms\n",
      "24:\tlearn: 3974.0316262\ttotal: 466ms\tremaining: 93.2ms\n",
      "25:\tlearn: 3952.1743853\ttotal: 485ms\tremaining: 74.6ms\n",
      "26:\tlearn: 3931.1531660\ttotal: 502ms\tremaining: 55.8ms\n",
      "27:\tlearn: 3910.0487482\ttotal: 520ms\tremaining: 37.2ms\n",
      "28:\tlearn: 3888.7989580\ttotal: 539ms\tremaining: 18.6ms\n",
      "29:\tlearn: 3867.8791122\ttotal: 556ms\tremaining: 0us\n",
      "0:\tlearn: 4559.3886533\ttotal: 18.7ms\tremaining: 542ms\n",
      "1:\tlearn: 4531.0867873\ttotal: 40.9ms\tremaining: 573ms\n",
      "2:\tlearn: 4503.3441077\ttotal: 59.6ms\tremaining: 536ms\n",
      "3:\tlearn: 4475.5987438\ttotal: 77ms\tremaining: 500ms\n",
      "4:\tlearn: 4448.1931931\ttotal: 94.8ms\tremaining: 474ms\n",
      "5:\tlearn: 4420.4588421\ttotal: 113ms\tremaining: 451ms\n",
      "6:\tlearn: 4394.2156172\ttotal: 131ms\tremaining: 432ms\n",
      "7:\tlearn: 4368.4804433\ttotal: 150ms\tremaining: 411ms\n",
      "8:\tlearn: 4342.4375055\ttotal: 168ms\tremaining: 391ms\n",
      "9:\tlearn: 4317.2569929\ttotal: 186ms\tremaining: 372ms\n",
      "10:\tlearn: 4292.5101695\ttotal: 204ms\tremaining: 353ms\n",
      "11:\tlearn: 4267.8822532\ttotal: 222ms\tremaining: 334ms\n",
      "12:\tlearn: 4243.7567172\ttotal: 241ms\tremaining: 315ms\n",
      "13:\tlearn: 4218.3892006\ttotal: 259ms\tremaining: 295ms\n",
      "14:\tlearn: 4194.3553436\ttotal: 276ms\tremaining: 276ms\n",
      "15:\tlearn: 4169.9252977\ttotal: 294ms\tremaining: 258ms\n",
      "16:\tlearn: 4146.2230893\ttotal: 331ms\tremaining: 253ms\n",
      "17:\tlearn: 4123.5070337\ttotal: 349ms\tremaining: 233ms\n",
      "18:\tlearn: 4100.0949458\ttotal: 368ms\tremaining: 213ms\n",
      "19:\tlearn: 4077.1318935\ttotal: 386ms\tremaining: 193ms\n",
      "20:\tlearn: 4055.0331098\ttotal: 431ms\tremaining: 185ms\n",
      "21:\tlearn: 4032.6664592\ttotal: 449ms\tremaining: 163ms\n",
      "22:\tlearn: 4010.0168161\ttotal: 468ms\tremaining: 142ms\n",
      "23:\tlearn: 3988.5684084\ttotal: 485ms\tremaining: 121ms\n",
      "24:\tlearn: 3967.1653378\ttotal: 535ms\tremaining: 107ms\n",
      "25:\tlearn: 3945.3216365\ttotal: 553ms\tremaining: 85.1ms\n",
      "26:\tlearn: 3924.2517071\ttotal: 571ms\tremaining: 63.4ms\n",
      "27:\tlearn: 3903.4827625\ttotal: 588ms\tremaining: 42ms\n",
      "28:\tlearn: 3882.7509694\ttotal: 606ms\tremaining: 20.9ms\n",
      "29:\tlearn: 3863.1530862\ttotal: 625ms\tremaining: 0us\n",
      "0:\tlearn: 4286.8945213\ttotal: 33.2ms\tremaining: 3.29s\n",
      "1:\tlearn: 4009.8337650\ttotal: 66.3ms\tremaining: 3.25s\n",
      "2:\tlearn: 3764.0680179\ttotal: 99.3ms\tremaining: 3.21s\n",
      "3:\tlearn: 3551.6254996\ttotal: 133ms\tremaining: 3.2s\n",
      "4:\tlearn: 3364.6031423\ttotal: 167ms\tremaining: 3.17s\n",
      "5:\tlearn: 3198.1860908\ttotal: 200ms\tremaining: 3.14s\n",
      "6:\tlearn: 3055.4447087\ttotal: 234ms\tremaining: 3.12s\n",
      "7:\tlearn: 2930.5758478\ttotal: 276ms\tremaining: 3.17s\n",
      "8:\tlearn: 2813.1809210\ttotal: 310ms\tremaining: 3.13s\n",
      "9:\tlearn: 2716.5662348\ttotal: 344ms\tremaining: 3.1s\n",
      "10:\tlearn: 2628.9528755\ttotal: 378ms\tremaining: 3.06s\n",
      "11:\tlearn: 2555.2724825\ttotal: 412ms\tremaining: 3.02s\n",
      "12:\tlearn: 2490.0135716\ttotal: 446ms\tremaining: 2.98s\n",
      "13:\tlearn: 2435.2248706\ttotal: 479ms\tremaining: 2.94s\n",
      "14:\tlearn: 2386.0391832\ttotal: 513ms\tremaining: 2.9s\n",
      "15:\tlearn: 2343.1547560\ttotal: 547ms\tremaining: 2.87s\n",
      "16:\tlearn: 2305.0089749\ttotal: 580ms\tremaining: 2.83s\n",
      "17:\tlearn: 2269.6720597\ttotal: 613ms\tremaining: 2.79s\n",
      "18:\tlearn: 2241.4118116\ttotal: 647ms\tremaining: 2.76s\n",
      "19:\tlearn: 2211.8953651\ttotal: 680ms\tremaining: 2.72s\n",
      "20:\tlearn: 2188.2113709\ttotal: 713ms\tremaining: 2.68s\n",
      "21:\tlearn: 2163.1092552\ttotal: 749ms\tremaining: 2.66s\n",
      "22:\tlearn: 2145.7270179\ttotal: 787ms\tremaining: 2.63s\n",
      "23:\tlearn: 2128.8735038\ttotal: 820ms\tremaining: 2.6s\n",
      "24:\tlearn: 2112.6399221\ttotal: 853ms\tremaining: 2.56s\n",
      "25:\tlearn: 2096.2500759\ttotal: 887ms\tremaining: 2.52s\n",
      "26:\tlearn: 2081.9787197\ttotal: 920ms\tremaining: 2.49s\n",
      "27:\tlearn: 2065.9521466\ttotal: 956ms\tremaining: 2.46s\n",
      "28:\tlearn: 2056.2989473\ttotal: 991ms\tremaining: 2.42s\n",
      "29:\tlearn: 2045.0767750\ttotal: 1.02s\tremaining: 2.39s\n",
      "30:\tlearn: 2032.8225330\ttotal: 1.06s\tremaining: 2.36s\n",
      "31:\tlearn: 2025.7183223\ttotal: 1.09s\tremaining: 2.32s\n",
      "32:\tlearn: 2017.7388036\ttotal: 1.13s\tremaining: 2.29s\n",
      "33:\tlearn: 2009.5540644\ttotal: 1.16s\tremaining: 2.26s\n",
      "34:\tlearn: 2002.4162728\ttotal: 1.2s\tremaining: 2.23s\n",
      "35:\tlearn: 1994.5047550\ttotal: 1.23s\tremaining: 2.19s\n",
      "36:\tlearn: 1988.7248377\ttotal: 1.26s\tremaining: 2.15s\n",
      "37:\tlearn: 1983.3698171\ttotal: 1.3s\tremaining: 2.12s\n",
      "38:\tlearn: 1978.8695986\ttotal: 1.34s\tremaining: 2.09s\n",
      "39:\tlearn: 1974.2154659\ttotal: 1.37s\tremaining: 2.06s\n",
      "40:\tlearn: 1967.3622086\ttotal: 1.41s\tremaining: 2.02s\n",
      "41:\tlearn: 1962.8823978\ttotal: 1.44s\tremaining: 1.99s\n",
      "42:\tlearn: 1958.2660287\ttotal: 1.48s\tremaining: 1.96s\n",
      "43:\tlearn: 1954.3485024\ttotal: 1.51s\tremaining: 1.92s\n",
      "44:\tlearn: 1950.6453795\ttotal: 1.55s\tremaining: 1.89s\n",
      "45:\tlearn: 1945.8991801\ttotal: 1.58s\tremaining: 1.86s\n",
      "46:\tlearn: 1942.0868763\ttotal: 1.62s\tremaining: 1.82s\n",
      "47:\tlearn: 1938.6419639\ttotal: 1.65s\tremaining: 1.79s\n",
      "48:\tlearn: 1934.8421528\ttotal: 1.68s\tremaining: 1.75s\n",
      "49:\tlearn: 1932.1421302\ttotal: 1.72s\tremaining: 1.72s\n",
      "50:\tlearn: 1928.9012665\ttotal: 1.75s\tremaining: 1.69s\n",
      "51:\tlearn: 1925.7884130\ttotal: 1.79s\tremaining: 1.65s\n",
      "52:\tlearn: 1923.7641744\ttotal: 1.82s\tremaining: 1.62s\n",
      "53:\tlearn: 1920.8865931\ttotal: 1.86s\tremaining: 1.58s\n",
      "54:\tlearn: 1918.8341494\ttotal: 1.9s\tremaining: 1.55s\n",
      "55:\tlearn: 1915.7188182\ttotal: 1.93s\tremaining: 1.52s\n",
      "56:\tlearn: 1912.5524275\ttotal: 1.97s\tremaining: 1.49s\n",
      "57:\tlearn: 1909.4734483\ttotal: 2s\tremaining: 1.45s\n",
      "58:\tlearn: 1908.1553212\ttotal: 2.04s\tremaining: 1.42s\n",
      "59:\tlearn: 1905.9765849\ttotal: 2.08s\tremaining: 1.39s\n",
      "60:\tlearn: 1903.1042888\ttotal: 2.12s\tremaining: 1.35s\n",
      "61:\tlearn: 1901.0125015\ttotal: 2.15s\tremaining: 1.32s\n",
      "62:\tlearn: 1897.9058470\ttotal: 2.19s\tremaining: 1.28s\n",
      "63:\tlearn: 1895.8425880\ttotal: 2.22s\tremaining: 1.25s\n",
      "64:\tlearn: 1893.7704519\ttotal: 2.26s\tremaining: 1.22s\n",
      "65:\tlearn: 1890.6767606\ttotal: 2.29s\tremaining: 1.18s\n",
      "66:\tlearn: 1889.1095905\ttotal: 2.33s\tremaining: 1.15s\n",
      "67:\tlearn: 1887.4661315\ttotal: 2.36s\tremaining: 1.11s\n",
      "68:\tlearn: 1885.8966433\ttotal: 2.4s\tremaining: 1.08s\n",
      "69:\tlearn: 1883.8765178\ttotal: 2.43s\tremaining: 1.04s\n",
      "70:\tlearn: 1882.6044460\ttotal: 2.47s\tremaining: 1.01s\n",
      "71:\tlearn: 1880.5980897\ttotal: 2.5s\tremaining: 974ms\n",
      "72:\tlearn: 1877.6025451\ttotal: 2.54s\tremaining: 939ms\n",
      "73:\tlearn: 1875.6114632\ttotal: 2.57s\tremaining: 904ms\n",
      "74:\tlearn: 1873.9778040\ttotal: 2.61s\tremaining: 870ms\n",
      "75:\tlearn: 1872.3510311\ttotal: 2.64s\tremaining: 835ms\n",
      "76:\tlearn: 1869.7485507\ttotal: 2.68s\tremaining: 800ms\n",
      "77:\tlearn: 1867.3879465\ttotal: 2.71s\tremaining: 766ms\n",
      "78:\tlearn: 1865.8334651\ttotal: 2.75s\tremaining: 731ms\n",
      "79:\tlearn: 1864.0224263\ttotal: 2.78s\tremaining: 696ms\n",
      "80:\tlearn: 1862.6376366\ttotal: 2.82s\tremaining: 661ms\n",
      "81:\tlearn: 1861.1134846\ttotal: 2.85s\tremaining: 626ms\n",
      "82:\tlearn: 1859.3689560\ttotal: 2.89s\tremaining: 591ms\n",
      "83:\tlearn: 1857.4594952\ttotal: 2.92s\tremaining: 556ms\n",
      "84:\tlearn: 1855.9872785\ttotal: 2.96s\tremaining: 522ms\n",
      "85:\tlearn: 1854.4148756\ttotal: 2.99s\tremaining: 487ms\n",
      "86:\tlearn: 1852.4783079\ttotal: 3.02s\tremaining: 452ms\n",
      "87:\tlearn: 1851.0720001\ttotal: 3.06s\tremaining: 417ms\n",
      "88:\tlearn: 1849.5359457\ttotal: 3.09s\tremaining: 382ms\n",
      "89:\tlearn: 1847.9406812\ttotal: 3.13s\tremaining: 347ms\n",
      "90:\tlearn: 1846.8416548\ttotal: 3.16s\tremaining: 313ms\n",
      "91:\tlearn: 1845.2009049\ttotal: 3.2s\tremaining: 278ms\n",
      "92:\tlearn: 1843.3410218\ttotal: 3.23s\tremaining: 243ms\n",
      "93:\tlearn: 1842.1719270\ttotal: 3.27s\tremaining: 209ms\n",
      "94:\tlearn: 1840.9411767\ttotal: 3.3s\tremaining: 174ms\n",
      "95:\tlearn: 1837.8660980\ttotal: 3.34s\tremaining: 139ms\n",
      "96:\tlearn: 1835.6307640\ttotal: 3.37s\tremaining: 104ms\n",
      "97:\tlearn: 1834.4833835\ttotal: 3.4s\tremaining: 69.5ms\n",
      "98:\tlearn: 1833.6662338\ttotal: 3.44s\tremaining: 34.7ms\n",
      "99:\tlearn: 1832.0811109\ttotal: 3.47s\tremaining: 0us\n",
      "0:\tlearn: 4275.3478284\ttotal: 36.4ms\tremaining: 3.6s\n",
      "1:\tlearn: 3999.5439197\ttotal: 81.4ms\tremaining: 3.99s\n",
      "2:\tlearn: 3754.7718972\ttotal: 120ms\tremaining: 3.89s\n",
      "3:\tlearn: 3545.1112346\ttotal: 161ms\tremaining: 3.87s\n",
      "4:\tlearn: 3358.1433259\ttotal: 199ms\tremaining: 3.78s\n",
      "5:\tlearn: 3194.3830069\ttotal: 233ms\tremaining: 3.65s\n",
      "6:\tlearn: 3047.1942229\ttotal: 273ms\tremaining: 3.63s\n",
      "7:\tlearn: 2923.1616642\ttotal: 307ms\tremaining: 3.53s\n",
      "8:\tlearn: 2814.1469198\ttotal: 341ms\tremaining: 3.45s\n",
      "9:\tlearn: 2716.0466968\ttotal: 376ms\tremaining: 3.38s\n",
      "10:\tlearn: 2630.5573451\ttotal: 410ms\tremaining: 3.31s\n",
      "11:\tlearn: 2553.7003225\ttotal: 444ms\tremaining: 3.26s\n",
      "12:\tlearn: 2490.4777860\ttotal: 478ms\tremaining: 3.2s\n",
      "13:\tlearn: 2435.2246149\ttotal: 513ms\tremaining: 3.15s\n",
      "14:\tlearn: 2384.8862820\ttotal: 548ms\tremaining: 3.1s\n",
      "15:\tlearn: 2341.6650243\ttotal: 581ms\tremaining: 3.05s\n",
      "16:\tlearn: 2304.1707246\ttotal: 615ms\tremaining: 3s\n",
      "17:\tlearn: 2272.2061784\ttotal: 650ms\tremaining: 2.96s\n",
      "18:\tlearn: 2244.6638705\ttotal: 686ms\tremaining: 2.92s\n",
      "19:\tlearn: 2220.2314600\ttotal: 722ms\tremaining: 2.89s\n",
      "20:\tlearn: 2192.8386077\ttotal: 759ms\tremaining: 2.85s\n",
      "21:\tlearn: 2172.3071725\ttotal: 792ms\tremaining: 2.81s\n",
      "22:\tlearn: 2153.5880642\ttotal: 827ms\tremaining: 2.77s\n",
      "23:\tlearn: 2137.5258597\ttotal: 860ms\tremaining: 2.72s\n",
      "24:\tlearn: 2119.7183309\ttotal: 893ms\tremaining: 2.68s\n",
      "25:\tlearn: 2102.3465269\ttotal: 927ms\tremaining: 2.64s\n",
      "26:\tlearn: 2089.2205123\ttotal: 961ms\tremaining: 2.6s\n",
      "27:\tlearn: 2075.8109261\ttotal: 994ms\tremaining: 2.56s\n",
      "28:\tlearn: 2062.4529505\ttotal: 1.03s\tremaining: 2.52s\n",
      "29:\tlearn: 2051.1952094\ttotal: 1.06s\tremaining: 2.48s\n",
      "30:\tlearn: 2040.4307403\ttotal: 1.1s\tremaining: 2.44s\n",
      "31:\tlearn: 2030.6519708\ttotal: 1.13s\tremaining: 2.4s\n",
      "32:\tlearn: 2021.1061289\ttotal: 1.17s\tremaining: 2.37s\n",
      "33:\tlearn: 2012.1872742\ttotal: 1.2s\tremaining: 2.33s\n",
      "34:\tlearn: 2005.9275403\ttotal: 1.23s\tremaining: 2.29s\n",
      "35:\tlearn: 2000.7009644\ttotal: 1.27s\tremaining: 2.25s\n",
      "36:\tlearn: 1994.9101217\ttotal: 1.3s\tremaining: 2.22s\n",
      "37:\tlearn: 1989.5273536\ttotal: 1.34s\tremaining: 2.18s\n",
      "38:\tlearn: 1983.3896618\ttotal: 1.37s\tremaining: 2.15s\n",
      "39:\tlearn: 1979.1873653\ttotal: 1.41s\tremaining: 2.11s\n",
      "40:\tlearn: 1971.8036701\ttotal: 1.44s\tremaining: 2.07s\n",
      "41:\tlearn: 1967.6512602\ttotal: 1.48s\tremaining: 2.04s\n",
      "42:\tlearn: 1963.2530492\ttotal: 1.51s\tremaining: 2s\n",
      "43:\tlearn: 1959.5267897\ttotal: 1.55s\tremaining: 1.97s\n",
      "44:\tlearn: 1953.1947491\ttotal: 1.59s\tremaining: 1.94s\n",
      "45:\tlearn: 1947.8174746\ttotal: 1.62s\tremaining: 1.9s\n",
      "46:\tlearn: 1943.9370363\ttotal: 1.65s\tremaining: 1.86s\n",
      "47:\tlearn: 1940.9889322\ttotal: 1.69s\tremaining: 1.83s\n",
      "48:\tlearn: 1936.8728288\ttotal: 1.72s\tremaining: 1.79s\n",
      "49:\tlearn: 1933.7041102\ttotal: 1.76s\tremaining: 1.76s\n",
      "50:\tlearn: 1929.6225104\ttotal: 1.79s\tremaining: 1.72s\n",
      "51:\tlearn: 1927.4270845\ttotal: 1.83s\tremaining: 1.69s\n",
      "52:\tlearn: 1923.1518026\ttotal: 1.87s\tremaining: 1.66s\n",
      "53:\tlearn: 1920.4566956\ttotal: 1.91s\tremaining: 1.63s\n",
      "54:\tlearn: 1917.1942050\ttotal: 1.95s\tremaining: 1.59s\n",
      "55:\tlearn: 1914.7998929\ttotal: 1.98s\tremaining: 1.55s\n",
      "56:\tlearn: 1911.1892747\ttotal: 2.01s\tremaining: 1.52s\n",
      "57:\tlearn: 1908.8604980\ttotal: 2.05s\tremaining: 1.48s\n",
      "58:\tlearn: 1907.2691469\ttotal: 2.08s\tremaining: 1.45s\n",
      "59:\tlearn: 1903.8514615\ttotal: 2.12s\tremaining: 1.41s\n",
      "60:\tlearn: 1902.0401640\ttotal: 2.15s\tremaining: 1.38s\n",
      "61:\tlearn: 1900.5112142\ttotal: 2.19s\tremaining: 1.34s\n",
      "62:\tlearn: 1897.7261701\ttotal: 2.23s\tremaining: 1.31s\n",
      "63:\tlearn: 1895.0602105\ttotal: 2.26s\tremaining: 1.27s\n",
      "64:\tlearn: 1893.2861914\ttotal: 2.3s\tremaining: 1.24s\n",
      "65:\tlearn: 1890.4793066\ttotal: 2.33s\tremaining: 1.2s\n",
      "66:\tlearn: 1888.8600630\ttotal: 2.37s\tremaining: 1.17s\n",
      "67:\tlearn: 1886.4179164\ttotal: 2.4s\tremaining: 1.13s\n",
      "68:\tlearn: 1884.4332916\ttotal: 2.44s\tremaining: 1.09s\n",
      "69:\tlearn: 1881.7710638\ttotal: 2.47s\tremaining: 1.06s\n",
      "70:\tlearn: 1880.2311387\ttotal: 2.51s\tremaining: 1.02s\n",
      "71:\tlearn: 1878.0627914\ttotal: 2.54s\tremaining: 988ms\n",
      "72:\tlearn: 1876.4696634\ttotal: 2.58s\tremaining: 953ms\n",
      "73:\tlearn: 1874.7625880\ttotal: 2.61s\tremaining: 917ms\n",
      "74:\tlearn: 1872.5637460\ttotal: 2.65s\tremaining: 882ms\n",
      "75:\tlearn: 1870.3637244\ttotal: 2.68s\tremaining: 847ms\n",
      "76:\tlearn: 1867.8782955\ttotal: 2.71s\tremaining: 811ms\n",
      "77:\tlearn: 1865.8084840\ttotal: 2.75s\tremaining: 776ms\n",
      "78:\tlearn: 1862.6338487\ttotal: 2.79s\tremaining: 740ms\n",
      "79:\tlearn: 1860.6737969\ttotal: 2.82s\tremaining: 705ms\n",
      "80:\tlearn: 1858.6571173\ttotal: 2.85s\tremaining: 670ms\n",
      "81:\tlearn: 1856.8288339\ttotal: 2.89s\tremaining: 634ms\n",
      "82:\tlearn: 1855.1655701\ttotal: 2.92s\tremaining: 599ms\n",
      "83:\tlearn: 1854.1701158\ttotal: 2.96s\tremaining: 564ms\n",
      "84:\tlearn: 1852.8139800\ttotal: 2.99s\tremaining: 528ms\n",
      "85:\tlearn: 1850.8782780\ttotal: 3.03s\tremaining: 494ms\n",
      "86:\tlearn: 1849.4694934\ttotal: 3.07s\tremaining: 459ms\n",
      "87:\tlearn: 1846.5654227\ttotal: 3.1s\tremaining: 424ms\n",
      "88:\tlearn: 1845.3171467\ttotal: 3.14s\tremaining: 388ms\n",
      "89:\tlearn: 1844.1534581\ttotal: 3.17s\tremaining: 353ms\n",
      "90:\tlearn: 1842.5352487\ttotal: 3.21s\tremaining: 318ms\n",
      "91:\tlearn: 1841.1922911\ttotal: 3.25s\tremaining: 282ms\n",
      "92:\tlearn: 1838.8638585\ttotal: 3.28s\tremaining: 247ms\n",
      "93:\tlearn: 1837.1719915\ttotal: 3.31s\tremaining: 212ms\n",
      "94:\tlearn: 1835.8411132\ttotal: 3.35s\tremaining: 176ms\n",
      "95:\tlearn: 1833.3813221\ttotal: 3.38s\tremaining: 141ms\n",
      "96:\tlearn: 1831.8634959\ttotal: 3.42s\tremaining: 106ms\n",
      "97:\tlearn: 1830.4166621\ttotal: 3.45s\tremaining: 70.5ms\n",
      "98:\tlearn: 1829.2604465\ttotal: 3.48s\tremaining: 35.2ms\n",
      "99:\tlearn: 1827.9835764\ttotal: 3.52s\tremaining: 0us\n",
      "0:\tlearn: 4267.0959758\ttotal: 34.4ms\tremaining: 3.41s\n",
      "1:\tlearn: 3992.9117498\ttotal: 69.2ms\tremaining: 3.39s\n",
      "2:\tlearn: 3751.1329998\ttotal: 108ms\tremaining: 3.48s\n",
      "3:\tlearn: 3539.1850147\ttotal: 142ms\tremaining: 3.4s\n",
      "4:\tlearn: 3352.1689876\ttotal: 175ms\tremaining: 3.32s\n",
      "5:\tlearn: 3186.8625409\ttotal: 208ms\tremaining: 3.26s\n",
      "6:\tlearn: 3043.0001892\ttotal: 248ms\tremaining: 3.29s\n",
      "7:\tlearn: 2920.6526607\ttotal: 282ms\tremaining: 3.24s\n",
      "8:\tlearn: 2809.4390389\ttotal: 316ms\tremaining: 3.19s\n",
      "9:\tlearn: 2713.3430202\ttotal: 352ms\tremaining: 3.17s\n",
      "10:\tlearn: 2625.3458985\ttotal: 386ms\tremaining: 3.12s\n",
      "11:\tlearn: 2548.5998241\ttotal: 420ms\tremaining: 3.08s\n",
      "12:\tlearn: 2483.4945597\ttotal: 454ms\tremaining: 3.04s\n",
      "13:\tlearn: 2426.5719161\ttotal: 487ms\tremaining: 2.99s\n",
      "14:\tlearn: 2377.9786731\ttotal: 521ms\tremaining: 2.95s\n",
      "15:\tlearn: 2331.5463192\ttotal: 557ms\tremaining: 2.92s\n",
      "16:\tlearn: 2291.0732260\ttotal: 590ms\tremaining: 2.88s\n",
      "17:\tlearn: 2256.3684513\ttotal: 624ms\tremaining: 2.84s\n",
      "18:\tlearn: 2225.3170681\ttotal: 658ms\tremaining: 2.81s\n",
      "19:\tlearn: 2199.1250107\ttotal: 693ms\tremaining: 2.77s\n",
      "20:\tlearn: 2178.6631484\ttotal: 727ms\tremaining: 2.73s\n",
      "21:\tlearn: 2156.5986311\ttotal: 761ms\tremaining: 2.7s\n",
      "22:\tlearn: 2139.5134604\ttotal: 794ms\tremaining: 2.66s\n",
      "23:\tlearn: 2123.1233207\ttotal: 828ms\tremaining: 2.62s\n",
      "24:\tlearn: 2104.5910155\ttotal: 862ms\tremaining: 2.58s\n",
      "25:\tlearn: 2092.6009065\ttotal: 895ms\tremaining: 2.55s\n",
      "26:\tlearn: 2077.8576619\ttotal: 931ms\tremaining: 2.52s\n",
      "27:\tlearn: 2066.4752956\ttotal: 964ms\tremaining: 2.48s\n",
      "28:\tlearn: 2054.6921789\ttotal: 998ms\tremaining: 2.44s\n",
      "29:\tlearn: 2043.2607703\ttotal: 1.03s\tremaining: 2.41s\n",
      "30:\tlearn: 2032.0008605\ttotal: 1.07s\tremaining: 2.38s\n",
      "31:\tlearn: 2022.1453953\ttotal: 1.1s\tremaining: 2.34s\n",
      "32:\tlearn: 2014.1900718\ttotal: 1.14s\tremaining: 2.31s\n",
      "33:\tlearn: 2005.2483054\ttotal: 1.17s\tremaining: 2.28s\n",
      "34:\tlearn: 1999.4761563\ttotal: 1.21s\tremaining: 2.24s\n",
      "35:\tlearn: 1993.8550436\ttotal: 1.24s\tremaining: 2.21s\n",
      "36:\tlearn: 1985.8643861\ttotal: 1.28s\tremaining: 2.17s\n",
      "37:\tlearn: 1981.7332535\ttotal: 1.31s\tremaining: 2.14s\n",
      "38:\tlearn: 1976.2104722\ttotal: 1.35s\tremaining: 2.11s\n",
      "39:\tlearn: 1971.8600129\ttotal: 1.38s\tremaining: 2.07s\n",
      "40:\tlearn: 1967.2390143\ttotal: 1.42s\tremaining: 2.04s\n",
      "41:\tlearn: 1960.5037128\ttotal: 1.45s\tremaining: 2.01s\n",
      "42:\tlearn: 1956.7539921\ttotal: 1.49s\tremaining: 1.97s\n",
      "43:\tlearn: 1953.3012828\ttotal: 1.52s\tremaining: 1.94s\n",
      "44:\tlearn: 1947.6973841\ttotal: 1.56s\tremaining: 1.91s\n",
      "45:\tlearn: 1941.9997685\ttotal: 1.59s\tremaining: 1.87s\n",
      "46:\tlearn: 1937.5443633\ttotal: 1.63s\tremaining: 1.84s\n",
      "47:\tlearn: 1934.6999041\ttotal: 1.66s\tremaining: 1.8s\n",
      "48:\tlearn: 1930.2354826\ttotal: 1.7s\tremaining: 1.77s\n",
      "49:\tlearn: 1927.3493323\ttotal: 1.73s\tremaining: 1.73s\n",
      "50:\tlearn: 1923.7006736\ttotal: 1.77s\tremaining: 1.7s\n",
      "51:\tlearn: 1921.9792297\ttotal: 1.8s\tremaining: 1.66s\n",
      "52:\tlearn: 1920.0887568\ttotal: 1.84s\tremaining: 1.63s\n",
      "53:\tlearn: 1917.3874802\ttotal: 1.87s\tremaining: 1.59s\n",
      "54:\tlearn: 1914.0066456\ttotal: 1.91s\tremaining: 1.56s\n",
      "55:\tlearn: 1911.1110265\ttotal: 1.95s\tremaining: 1.53s\n",
      "56:\tlearn: 1907.4744959\ttotal: 1.98s\tremaining: 1.49s\n",
      "57:\tlearn: 1904.2900216\ttotal: 2.02s\tremaining: 1.46s\n",
      "58:\tlearn: 1901.9405222\ttotal: 2.05s\tremaining: 1.43s\n",
      "59:\tlearn: 1899.5408795\ttotal: 2.09s\tremaining: 1.39s\n",
      "60:\tlearn: 1896.9717663\ttotal: 2.13s\tremaining: 1.36s\n",
      "61:\tlearn: 1894.5793579\ttotal: 2.16s\tremaining: 1.32s\n",
      "62:\tlearn: 1891.6384003\ttotal: 2.21s\tremaining: 1.29s\n",
      "63:\tlearn: 1890.4000822\ttotal: 2.24s\tremaining: 1.26s\n",
      "64:\tlearn: 1888.3991365\ttotal: 2.28s\tremaining: 1.23s\n",
      "65:\tlearn: 1886.6322600\ttotal: 2.31s\tremaining: 1.19s\n",
      "66:\tlearn: 1885.6134641\ttotal: 2.35s\tremaining: 1.16s\n",
      "67:\tlearn: 1883.1118271\ttotal: 2.38s\tremaining: 1.12s\n",
      "68:\tlearn: 1881.4691834\ttotal: 2.42s\tremaining: 1.09s\n",
      "69:\tlearn: 1879.1287045\ttotal: 2.45s\tremaining: 1.05s\n",
      "70:\tlearn: 1876.6442792\ttotal: 2.49s\tremaining: 1.02s\n",
      "71:\tlearn: 1874.2598351\ttotal: 2.52s\tremaining: 981ms\n",
      "72:\tlearn: 1872.0737260\ttotal: 2.56s\tremaining: 946ms\n",
      "73:\tlearn: 1870.1753988\ttotal: 2.6s\tremaining: 912ms\n",
      "74:\tlearn: 1867.5925918\ttotal: 2.63s\tremaining: 877ms\n",
      "75:\tlearn: 1866.0898988\ttotal: 2.67s\tremaining: 842ms\n",
      "76:\tlearn: 1863.7381827\ttotal: 2.7s\tremaining: 807ms\n",
      "77:\tlearn: 1860.9087454\ttotal: 2.73s\tremaining: 771ms\n",
      "78:\tlearn: 1858.6950348\ttotal: 2.77s\tremaining: 736ms\n",
      "79:\tlearn: 1855.5950959\ttotal: 2.81s\tremaining: 702ms\n",
      "80:\tlearn: 1854.5739105\ttotal: 2.84s\tremaining: 667ms\n",
      "81:\tlearn: 1852.9078817\ttotal: 2.88s\tremaining: 632ms\n",
      "82:\tlearn: 1850.9014018\ttotal: 2.91s\tremaining: 597ms\n",
      "83:\tlearn: 1849.7683782\ttotal: 2.95s\tremaining: 561ms\n",
      "84:\tlearn: 1848.3944417\ttotal: 2.98s\tremaining: 526ms\n",
      "85:\tlearn: 1846.3926688\ttotal: 3.02s\tremaining: 491ms\n",
      "86:\tlearn: 1845.3791542\ttotal: 3.05s\tremaining: 456ms\n",
      "87:\tlearn: 1843.4766436\ttotal: 3.09s\tremaining: 421ms\n",
      "88:\tlearn: 1841.5347680\ttotal: 3.12s\tremaining: 386ms\n",
      "89:\tlearn: 1839.7302144\ttotal: 3.16s\tremaining: 351ms\n",
      "90:\tlearn: 1838.1372863\ttotal: 3.19s\tremaining: 316ms\n",
      "91:\tlearn: 1836.4206770\ttotal: 3.23s\tremaining: 281ms\n",
      "92:\tlearn: 1834.4082982\ttotal: 3.26s\tremaining: 245ms\n",
      "93:\tlearn: 1833.0713430\ttotal: 3.3s\tremaining: 210ms\n",
      "94:\tlearn: 1831.1112402\ttotal: 3.33s\tremaining: 175ms\n",
      "95:\tlearn: 1830.1101777\ttotal: 3.37s\tremaining: 140ms\n",
      "96:\tlearn: 1828.7677552\ttotal: 3.4s\tremaining: 105ms\n",
      "97:\tlearn: 1827.1394610\ttotal: 3.44s\tremaining: 70.1ms\n",
      "98:\tlearn: 1826.2064912\ttotal: 3.47s\tremaining: 35ms\n",
      "99:\tlearn: 1824.9440688\ttotal: 3.51s\tremaining: 0us\n",
      "0:\tlearn: 4285.7697008\ttotal: 33.7ms\tremaining: 3.34s\n",
      "1:\tlearn: 4010.8480336\ttotal: 68.4ms\tremaining: 3.35s\n",
      "2:\tlearn: 3769.8966066\ttotal: 102ms\tremaining: 3.31s\n",
      "3:\tlearn: 3557.6515252\ttotal: 136ms\tremaining: 3.26s\n",
      "4:\tlearn: 3365.8999227\ttotal: 171ms\tremaining: 3.25s\n",
      "5:\tlearn: 3196.7264546\ttotal: 205ms\tremaining: 3.22s\n",
      "6:\tlearn: 3051.9692197\ttotal: 241ms\tremaining: 3.2s\n",
      "7:\tlearn: 2925.2744324\ttotal: 275ms\tremaining: 3.16s\n",
      "8:\tlearn: 2807.7667404\ttotal: 307ms\tremaining: 3.11s\n",
      "9:\tlearn: 2713.4697435\ttotal: 343ms\tremaining: 3.08s\n",
      "10:\tlearn: 2630.7884073\ttotal: 376ms\tremaining: 3.04s\n",
      "11:\tlearn: 2552.1350587\ttotal: 410ms\tremaining: 3s\n",
      "12:\tlearn: 2484.4501978\ttotal: 444ms\tremaining: 2.97s\n",
      "13:\tlearn: 2427.8146814\ttotal: 478ms\tremaining: 2.94s\n",
      "14:\tlearn: 2380.9774139\ttotal: 511ms\tremaining: 2.9s\n",
      "15:\tlearn: 2336.4792864\ttotal: 548ms\tremaining: 2.88s\n",
      "16:\tlearn: 2298.9768221\ttotal: 582ms\tremaining: 2.84s\n",
      "17:\tlearn: 2262.5319007\ttotal: 615ms\tremaining: 2.8s\n",
      "18:\tlearn: 2232.3988122\ttotal: 650ms\tremaining: 2.77s\n",
      "19:\tlearn: 2204.8083961\ttotal: 683ms\tremaining: 2.73s\n",
      "20:\tlearn: 2183.7447615\ttotal: 719ms\tremaining: 2.71s\n",
      "21:\tlearn: 2159.7352486\ttotal: 752ms\tremaining: 2.67s\n",
      "22:\tlearn: 2140.1563938\ttotal: 786ms\tremaining: 2.63s\n",
      "23:\tlearn: 2124.2508163\ttotal: 819ms\tremaining: 2.59s\n",
      "24:\tlearn: 2106.9397683\ttotal: 854ms\tremaining: 2.56s\n",
      "25:\tlearn: 2089.8483277\ttotal: 887ms\tremaining: 2.52s\n",
      "26:\tlearn: 2076.1856513\ttotal: 924ms\tremaining: 2.5s\n",
      "27:\tlearn: 2065.9757517\ttotal: 957ms\tremaining: 2.46s\n",
      "28:\tlearn: 2052.9650294\ttotal: 991ms\tremaining: 2.43s\n",
      "29:\tlearn: 2043.4140636\ttotal: 1.02s\tremaining: 2.39s\n",
      "30:\tlearn: 2031.5996718\ttotal: 1.06s\tremaining: 2.36s\n",
      "31:\tlearn: 2023.7777121\ttotal: 1.09s\tremaining: 2.32s\n",
      "32:\tlearn: 2015.1699174\ttotal: 1.13s\tremaining: 2.29s\n",
      "33:\tlearn: 2008.1312023\ttotal: 1.16s\tremaining: 2.26s\n",
      "34:\tlearn: 2001.7502156\ttotal: 1.2s\tremaining: 2.23s\n",
      "35:\tlearn: 1995.3309451\ttotal: 1.23s\tremaining: 2.19s\n",
      "36:\tlearn: 1990.7594641\ttotal: 1.27s\tremaining: 2.16s\n",
      "37:\tlearn: 1985.5867240\ttotal: 1.3s\tremaining: 2.13s\n",
      "38:\tlearn: 1978.8413583\ttotal: 1.34s\tremaining: 2.09s\n",
      "39:\tlearn: 1975.2463468\ttotal: 1.37s\tremaining: 2.06s\n",
      "40:\tlearn: 1971.2190799\ttotal: 1.41s\tremaining: 2.03s\n",
      "41:\tlearn: 1967.0413729\ttotal: 1.44s\tremaining: 1.99s\n",
      "42:\tlearn: 1963.3004254\ttotal: 1.48s\tremaining: 1.96s\n",
      "43:\tlearn: 1959.3542890\ttotal: 1.51s\tremaining: 1.93s\n",
      "44:\tlearn: 1955.0301909\ttotal: 1.55s\tremaining: 1.89s\n",
      "45:\tlearn: 1949.7157439\ttotal: 1.58s\tremaining: 1.86s\n",
      "46:\tlearn: 1946.4336865\ttotal: 1.62s\tremaining: 1.82s\n",
      "47:\tlearn: 1942.2201397\ttotal: 1.65s\tremaining: 1.79s\n",
      "48:\tlearn: 1939.3088158\ttotal: 1.69s\tremaining: 1.76s\n",
      "49:\tlearn: 1936.5147385\ttotal: 1.72s\tremaining: 1.72s\n",
      "50:\tlearn: 1933.4120798\ttotal: 1.75s\tremaining: 1.69s\n",
      "51:\tlearn: 1931.2585367\ttotal: 1.79s\tremaining: 1.65s\n",
      "52:\tlearn: 1929.0724351\ttotal: 1.82s\tremaining: 1.62s\n",
      "53:\tlearn: 1924.9398556\ttotal: 1.86s\tremaining: 1.58s\n",
      "54:\tlearn: 1922.5501566\ttotal: 1.9s\tremaining: 1.55s\n",
      "55:\tlearn: 1919.5335426\ttotal: 1.93s\tremaining: 1.52s\n",
      "56:\tlearn: 1915.8785333\ttotal: 1.96s\tremaining: 1.48s\n",
      "57:\tlearn: 1911.6985782\ttotal: 2s\tremaining: 1.45s\n",
      "58:\tlearn: 1910.0808467\ttotal: 2.05s\tremaining: 1.42s\n",
      "59:\tlearn: 1908.7791576\ttotal: 2.09s\tremaining: 1.39s\n",
      "60:\tlearn: 1905.9343093\ttotal: 2.13s\tremaining: 1.36s\n",
      "61:\tlearn: 1903.3240367\ttotal: 2.16s\tremaining: 1.33s\n",
      "62:\tlearn: 1900.9302484\ttotal: 2.21s\tremaining: 1.3s\n",
      "63:\tlearn: 1896.7788745\ttotal: 2.25s\tremaining: 1.26s\n",
      "64:\tlearn: 1895.4274282\ttotal: 2.28s\tremaining: 1.23s\n",
      "65:\tlearn: 1892.9376895\ttotal: 2.31s\tremaining: 1.19s\n",
      "66:\tlearn: 1891.1976291\ttotal: 2.35s\tremaining: 1.16s\n",
      "67:\tlearn: 1889.3420985\ttotal: 2.38s\tremaining: 1.12s\n",
      "68:\tlearn: 1887.0345402\ttotal: 2.42s\tremaining: 1.09s\n",
      "69:\tlearn: 1883.6469440\ttotal: 2.45s\tremaining: 1.05s\n",
      "70:\tlearn: 1881.9095417\ttotal: 2.48s\tremaining: 1.01s\n",
      "71:\tlearn: 1879.4520979\ttotal: 2.52s\tremaining: 980ms\n",
      "72:\tlearn: 1877.7864133\ttotal: 2.55s\tremaining: 944ms\n",
      "73:\tlearn: 1875.8980021\ttotal: 2.59s\tremaining: 909ms\n",
      "74:\tlearn: 1874.4262282\ttotal: 2.62s\tremaining: 874ms\n",
      "75:\tlearn: 1872.5414407\ttotal: 2.65s\tremaining: 839ms\n",
      "76:\tlearn: 1870.0982913\ttotal: 2.69s\tremaining: 803ms\n",
      "77:\tlearn: 1867.3039622\ttotal: 2.72s\tremaining: 768ms\n",
      "78:\tlearn: 1864.8793926\ttotal: 2.76s\tremaining: 733ms\n",
      "79:\tlearn: 1863.3206990\ttotal: 2.79s\tremaining: 698ms\n",
      "80:\tlearn: 1862.1772158\ttotal: 2.83s\tremaining: 663ms\n",
      "81:\tlearn: 1859.9855005\ttotal: 2.86s\tremaining: 629ms\n",
      "82:\tlearn: 1858.2094409\ttotal: 2.9s\tremaining: 594ms\n",
      "83:\tlearn: 1857.2200094\ttotal: 2.93s\tremaining: 559ms\n",
      "84:\tlearn: 1855.9817347\ttotal: 2.97s\tremaining: 524ms\n",
      "85:\tlearn: 1854.1786121\ttotal: 3s\tremaining: 489ms\n",
      "86:\tlearn: 1853.1088458\ttotal: 3.04s\tremaining: 454ms\n",
      "87:\tlearn: 1851.6578254\ttotal: 3.07s\tremaining: 419ms\n",
      "88:\tlearn: 1850.7853567\ttotal: 3.11s\tremaining: 384ms\n",
      "89:\tlearn: 1849.3651347\ttotal: 3.14s\tremaining: 349ms\n",
      "90:\tlearn: 1848.0472750\ttotal: 3.18s\tremaining: 314ms\n",
      "91:\tlearn: 1846.3934430\ttotal: 3.21s\tremaining: 279ms\n",
      "92:\tlearn: 1843.5666314\ttotal: 3.25s\tremaining: 244ms\n",
      "93:\tlearn: 1842.0348000\ttotal: 3.28s\tremaining: 209ms\n",
      "94:\tlearn: 1840.8099393\ttotal: 3.31s\tremaining: 174ms\n",
      "95:\tlearn: 1838.1537349\ttotal: 3.35s\tremaining: 139ms\n",
      "96:\tlearn: 1836.8592387\ttotal: 3.38s\tremaining: 105ms\n",
      "97:\tlearn: 1835.2770446\ttotal: 3.41s\tremaining: 69.7ms\n",
      "98:\tlearn: 1834.1594180\ttotal: 3.45s\tremaining: 34.9ms\n",
      "99:\tlearn: 1832.6121988\ttotal: 3.49s\tremaining: 0us\n",
      "0:\tlearn: 4276.8645425\ttotal: 35.8ms\tremaining: 3.54s\n",
      "1:\tlearn: 3998.9685449\ttotal: 71.4ms\tremaining: 3.5s\n",
      "2:\tlearn: 3752.1695255\ttotal: 105ms\tremaining: 3.38s\n",
      "3:\tlearn: 3539.8725621\ttotal: 138ms\tremaining: 3.31s\n",
      "4:\tlearn: 3353.7100786\ttotal: 172ms\tremaining: 3.27s\n",
      "5:\tlearn: 3190.1710540\ttotal: 209ms\tremaining: 3.27s\n",
      "6:\tlearn: 3045.5411481\ttotal: 244ms\tremaining: 3.24s\n",
      "7:\tlearn: 2921.7082461\ttotal: 278ms\tremaining: 3.19s\n",
      "8:\tlearn: 2809.9609908\ttotal: 313ms\tremaining: 3.17s\n",
      "9:\tlearn: 2714.1402175\ttotal: 347ms\tremaining: 3.12s\n",
      "10:\tlearn: 2630.5968228\ttotal: 380ms\tremaining: 3.08s\n",
      "11:\tlearn: 2555.6693271\ttotal: 414ms\tremaining: 3.04s\n",
      "12:\tlearn: 2492.4318128\ttotal: 448ms\tremaining: 3s\n",
      "13:\tlearn: 2435.9603023\ttotal: 487ms\tremaining: 2.99s\n",
      "14:\tlearn: 2387.2805155\ttotal: 521ms\tremaining: 2.95s\n",
      "15:\tlearn: 2342.1905507\ttotal: 555ms\tremaining: 2.91s\n",
      "16:\tlearn: 2304.5323641\ttotal: 588ms\tremaining: 2.87s\n",
      "17:\tlearn: 2269.6074157\ttotal: 623ms\tremaining: 2.84s\n",
      "18:\tlearn: 2239.7992313\ttotal: 658ms\tremaining: 2.8s\n",
      "19:\tlearn: 2213.8665413\ttotal: 693ms\tremaining: 2.77s\n",
      "20:\tlearn: 2193.2534516\ttotal: 728ms\tremaining: 2.74s\n",
      "21:\tlearn: 2169.4376151\ttotal: 760ms\tremaining: 2.69s\n",
      "22:\tlearn: 2150.3557663\ttotal: 794ms\tremaining: 2.66s\n",
      "23:\tlearn: 2131.9569641\ttotal: 828ms\tremaining: 2.62s\n",
      "24:\tlearn: 2112.5301582\ttotal: 861ms\tremaining: 2.58s\n",
      "25:\tlearn: 2099.2985045\ttotal: 894ms\tremaining: 2.54s\n",
      "26:\tlearn: 2086.4375475\ttotal: 929ms\tremaining: 2.51s\n",
      "27:\tlearn: 2072.6166841\ttotal: 962ms\tremaining: 2.47s\n",
      "28:\tlearn: 2062.5641612\ttotal: 996ms\tremaining: 2.44s\n",
      "29:\tlearn: 2051.6913078\ttotal: 1.03s\tremaining: 2.4s\n",
      "30:\tlearn: 2039.5326564\ttotal: 1.07s\tremaining: 2.38s\n",
      "31:\tlearn: 2030.7766700\ttotal: 1.1s\tremaining: 2.34s\n",
      "32:\tlearn: 2023.0341724\ttotal: 1.14s\tremaining: 2.31s\n",
      "33:\tlearn: 2017.0480918\ttotal: 1.17s\tremaining: 2.27s\n",
      "34:\tlearn: 2010.1651324\ttotal: 1.21s\tremaining: 2.24s\n",
      "35:\tlearn: 2004.3315205\ttotal: 1.24s\tremaining: 2.21s\n",
      "36:\tlearn: 1999.8737693\ttotal: 1.28s\tremaining: 2.17s\n",
      "37:\tlearn: 1994.7522480\ttotal: 1.31s\tremaining: 2.14s\n",
      "38:\tlearn: 1988.6666451\ttotal: 1.34s\tremaining: 2.1s\n",
      "39:\tlearn: 1983.8755403\ttotal: 1.38s\tremaining: 2.07s\n",
      "40:\tlearn: 1978.1264187\ttotal: 1.41s\tremaining: 2.03s\n",
      "41:\tlearn: 1974.2710082\ttotal: 1.45s\tremaining: 2s\n",
      "42:\tlearn: 1969.5188309\ttotal: 1.48s\tremaining: 1.97s\n",
      "43:\tlearn: 1965.7481764\ttotal: 1.52s\tremaining: 1.93s\n",
      "44:\tlearn: 1960.9597942\ttotal: 1.55s\tremaining: 1.89s\n",
      "45:\tlearn: 1955.8405821\ttotal: 1.59s\tremaining: 1.86s\n",
      "46:\tlearn: 1952.0351470\ttotal: 1.62s\tremaining: 1.83s\n",
      "47:\tlearn: 1947.6258841\ttotal: 1.66s\tremaining: 1.8s\n",
      "48:\tlearn: 1943.1416120\ttotal: 1.69s\tremaining: 1.76s\n",
      "49:\tlearn: 1940.5656794\ttotal: 1.73s\tremaining: 1.73s\n",
      "50:\tlearn: 1938.0585684\ttotal: 1.76s\tremaining: 1.7s\n",
      "51:\tlearn: 1934.5764884\ttotal: 1.8s\tremaining: 1.66s\n",
      "52:\tlearn: 1931.3737080\ttotal: 1.83s\tremaining: 1.63s\n",
      "53:\tlearn: 1928.3392031\ttotal: 1.87s\tremaining: 1.59s\n",
      "54:\tlearn: 1925.2776769\ttotal: 1.9s\tremaining: 1.56s\n",
      "55:\tlearn: 1922.6124372\ttotal: 1.94s\tremaining: 1.52s\n",
      "56:\tlearn: 1919.2303254\ttotal: 1.97s\tremaining: 1.49s\n",
      "57:\tlearn: 1917.4616139\ttotal: 2.01s\tremaining: 1.45s\n",
      "58:\tlearn: 1915.3287226\ttotal: 2.04s\tremaining: 1.42s\n",
      "59:\tlearn: 1913.8722974\ttotal: 2.07s\tremaining: 1.38s\n",
      "60:\tlearn: 1911.8021208\ttotal: 2.11s\tremaining: 1.35s\n",
      "61:\tlearn: 1909.4862973\ttotal: 2.15s\tremaining: 1.32s\n",
      "62:\tlearn: 1905.9407105\ttotal: 2.19s\tremaining: 1.28s\n",
      "63:\tlearn: 1903.6191936\ttotal: 2.22s\tremaining: 1.25s\n",
      "64:\tlearn: 1901.1611737\ttotal: 2.26s\tremaining: 1.22s\n",
      "65:\tlearn: 1899.3617139\ttotal: 2.29s\tremaining: 1.18s\n",
      "66:\tlearn: 1897.5343701\ttotal: 2.33s\tremaining: 1.15s\n",
      "67:\tlearn: 1895.5541979\ttotal: 2.36s\tremaining: 1.11s\n",
      "68:\tlearn: 1893.5688301\ttotal: 2.4s\tremaining: 1.08s\n",
      "69:\tlearn: 1890.1810634\ttotal: 2.43s\tremaining: 1.04s\n",
      "70:\tlearn: 1888.4202654\ttotal: 2.46s\tremaining: 1.01s\n",
      "71:\tlearn: 1887.3275285\ttotal: 2.5s\tremaining: 972ms\n",
      "72:\tlearn: 1885.7888046\ttotal: 2.53s\tremaining: 937ms\n",
      "73:\tlearn: 1883.9869910\ttotal: 2.57s\tremaining: 903ms\n",
      "74:\tlearn: 1881.3702510\ttotal: 2.6s\tremaining: 868ms\n",
      "75:\tlearn: 1880.2274279\ttotal: 2.64s\tremaining: 834ms\n",
      "76:\tlearn: 1877.6742189\ttotal: 2.67s\tremaining: 799ms\n",
      "77:\tlearn: 1875.4127930\ttotal: 2.71s\tremaining: 764ms\n",
      "78:\tlearn: 1873.5991044\ttotal: 2.75s\tremaining: 730ms\n",
      "79:\tlearn: 1870.9011062\ttotal: 2.78s\tremaining: 695ms\n",
      "80:\tlearn: 1869.2009600\ttotal: 2.81s\tremaining: 660ms\n",
      "81:\tlearn: 1866.9831411\ttotal: 2.85s\tremaining: 625ms\n",
      "82:\tlearn: 1864.1700748\ttotal: 2.88s\tremaining: 590ms\n",
      "83:\tlearn: 1862.4784339\ttotal: 2.92s\tremaining: 555ms\n",
      "84:\tlearn: 1861.0528605\ttotal: 2.95s\tremaining: 521ms\n",
      "85:\tlearn: 1859.1551469\ttotal: 2.98s\tremaining: 486ms\n",
      "86:\tlearn: 1857.9564835\ttotal: 3.02s\tremaining: 451ms\n",
      "87:\tlearn: 1855.7908689\ttotal: 3.06s\tremaining: 417ms\n",
      "88:\tlearn: 1854.0703113\ttotal: 3.09s\tremaining: 382ms\n",
      "89:\tlearn: 1851.9711984\ttotal: 3.12s\tremaining: 347ms\n",
      "90:\tlearn: 1849.8598315\ttotal: 3.16s\tremaining: 312ms\n",
      "91:\tlearn: 1848.6620013\ttotal: 3.19s\tremaining: 278ms\n",
      "92:\tlearn: 1847.3261192\ttotal: 3.23s\tremaining: 243ms\n",
      "93:\tlearn: 1845.7010942\ttotal: 3.27s\tremaining: 208ms\n",
      "94:\tlearn: 1844.7772499\ttotal: 3.3s\tremaining: 174ms\n",
      "95:\tlearn: 1842.3173944\ttotal: 3.33s\tremaining: 139ms\n",
      "96:\tlearn: 1841.0337686\ttotal: 3.37s\tremaining: 104ms\n",
      "97:\tlearn: 1840.1598867\ttotal: 3.4s\tremaining: 69.5ms\n",
      "98:\tlearn: 1838.6650378\ttotal: 3.44s\tremaining: 34.8ms\n",
      "99:\tlearn: 1837.6500409\ttotal: 3.48s\tremaining: 0us\n",
      "0:\tlearn: 4444.2182118\ttotal: 23.1ms\tremaining: 2.28s\n",
      "1:\tlearn: 4303.0450294\ttotal: 45.7ms\tremaining: 2.24s\n",
      "2:\tlearn: 4169.2799758\ttotal: 67.7ms\tremaining: 2.19s\n",
      "3:\tlearn: 4043.6914672\ttotal: 90.5ms\tremaining: 2.17s\n",
      "4:\tlearn: 3926.0513156\ttotal: 114ms\tremaining: 2.16s\n",
      "5:\tlearn: 3816.0225809\ttotal: 136ms\tremaining: 2.13s\n",
      "6:\tlearn: 3710.6279265\ttotal: 158ms\tremaining: 2.1s\n",
      "7:\tlearn: 3610.2152618\ttotal: 180ms\tremaining: 2.07s\n",
      "8:\tlearn: 3514.9900012\ttotal: 204ms\tremaining: 2.06s\n",
      "9:\tlearn: 3429.6189717\ttotal: 227ms\tremaining: 2.04s\n",
      "10:\tlearn: 3346.5518680\ttotal: 249ms\tremaining: 2.02s\n",
      "11:\tlearn: 3269.4625242\ttotal: 272ms\tremaining: 1.99s\n",
      "12:\tlearn: 3198.4899815\ttotal: 296ms\tremaining: 1.98s\n",
      "13:\tlearn: 3131.7821799\ttotal: 318ms\tremaining: 1.95s\n",
      "14:\tlearn: 3068.5921402\ttotal: 339ms\tremaining: 1.92s\n",
      "15:\tlearn: 3011.6121373\ttotal: 361ms\tremaining: 1.9s\n",
      "16:\tlearn: 2956.7467698\ttotal: 386ms\tremaining: 1.88s\n",
      "17:\tlearn: 2905.1418902\ttotal: 411ms\tremaining: 1.87s\n",
      "18:\tlearn: 2855.9387167\ttotal: 435ms\tremaining: 1.86s\n",
      "19:\tlearn: 2810.4163961\ttotal: 457ms\tremaining: 1.83s\n",
      "20:\tlearn: 2765.4433026\ttotal: 481ms\tremaining: 1.81s\n",
      "21:\tlearn: 2724.0166591\ttotal: 503ms\tremaining: 1.78s\n",
      "22:\tlearn: 2688.1566907\ttotal: 524ms\tremaining: 1.75s\n",
      "23:\tlearn: 2652.7489764\ttotal: 545ms\tremaining: 1.73s\n",
      "24:\tlearn: 2619.0078798\ttotal: 566ms\tremaining: 1.7s\n",
      "25:\tlearn: 2588.3610537\ttotal: 587ms\tremaining: 1.67s\n",
      "26:\tlearn: 2560.4705167\ttotal: 608ms\tremaining: 1.65s\n",
      "27:\tlearn: 2530.7069971\ttotal: 630ms\tremaining: 1.62s\n",
      "28:\tlearn: 2503.7084401\ttotal: 651ms\tremaining: 1.59s\n",
      "29:\tlearn: 2480.9891939\ttotal: 673ms\tremaining: 1.57s\n",
      "30:\tlearn: 2459.2189502\ttotal: 694ms\tremaining: 1.54s\n",
      "31:\tlearn: 2437.1378433\ttotal: 715ms\tremaining: 1.52s\n",
      "32:\tlearn: 2417.1522135\ttotal: 738ms\tremaining: 1.5s\n",
      "33:\tlearn: 2397.8631970\ttotal: 759ms\tremaining: 1.47s\n",
      "34:\tlearn: 2380.2750021\ttotal: 780ms\tremaining: 1.45s\n",
      "35:\tlearn: 2362.6348218\ttotal: 801ms\tremaining: 1.42s\n",
      "36:\tlearn: 2345.5187080\ttotal: 823ms\tremaining: 1.4s\n",
      "37:\tlearn: 2331.0305447\ttotal: 843ms\tremaining: 1.38s\n",
      "38:\tlearn: 2316.6516483\ttotal: 865ms\tremaining: 1.35s\n",
      "39:\tlearn: 2303.7330907\ttotal: 887ms\tremaining: 1.33s\n",
      "40:\tlearn: 2288.9574276\ttotal: 909ms\tremaining: 1.31s\n",
      "41:\tlearn: 2277.3375430\ttotal: 930ms\tremaining: 1.28s\n",
      "42:\tlearn: 2266.5644273\ttotal: 950ms\tremaining: 1.26s\n",
      "43:\tlearn: 2256.2240799\ttotal: 974ms\tremaining: 1.24s\n",
      "44:\tlearn: 2246.2548591\ttotal: 995ms\tremaining: 1.22s\n",
      "45:\tlearn: 2236.6813302\ttotal: 1.01s\tremaining: 1.19s\n",
      "46:\tlearn: 2227.8737579\ttotal: 1.04s\tremaining: 1.17s\n",
      "47:\tlearn: 2219.4461954\ttotal: 1.06s\tremaining: 1.15s\n",
      "48:\tlearn: 2210.6357601\ttotal: 1.08s\tremaining: 1.12s\n",
      "49:\tlearn: 2201.1801152\ttotal: 1.1s\tremaining: 1.1s\n",
      "50:\tlearn: 2193.0023418\ttotal: 1.12s\tremaining: 1.08s\n",
      "51:\tlearn: 2184.8049278\ttotal: 1.14s\tremaining: 1.05s\n",
      "52:\tlearn: 2175.7498253\ttotal: 1.17s\tremaining: 1.03s\n",
      "53:\tlearn: 2168.7042442\ttotal: 1.19s\tremaining: 1.01s\n",
      "54:\tlearn: 2163.4094692\ttotal: 1.21s\tremaining: 989ms\n",
      "55:\tlearn: 2157.2375106\ttotal: 1.23s\tremaining: 965ms\n",
      "56:\tlearn: 2151.3251869\ttotal: 1.25s\tremaining: 942ms\n",
      "57:\tlearn: 2144.4590570\ttotal: 1.27s\tremaining: 922ms\n",
      "58:\tlearn: 2138.7484234\ttotal: 1.29s\tremaining: 899ms\n",
      "59:\tlearn: 2132.7185410\ttotal: 1.31s\tremaining: 877ms\n",
      "60:\tlearn: 2126.0442967\ttotal: 1.34s\tremaining: 855ms\n",
      "61:\tlearn: 2119.8745780\ttotal: 1.36s\tremaining: 835ms\n",
      "62:\tlearn: 2114.3153151\ttotal: 1.38s\tremaining: 813ms\n",
      "63:\tlearn: 2108.3971838\ttotal: 1.41s\tremaining: 791ms\n",
      "64:\tlearn: 2103.0842127\ttotal: 1.43s\tremaining: 768ms\n",
      "65:\tlearn: 2098.7369750\ttotal: 1.45s\tremaining: 745ms\n",
      "66:\tlearn: 2094.4101407\ttotal: 1.47s\tremaining: 724ms\n",
      "67:\tlearn: 2090.7394531\ttotal: 1.49s\tremaining: 701ms\n",
      "68:\tlearn: 2086.2668871\ttotal: 1.51s\tremaining: 678ms\n",
      "69:\tlearn: 2082.0785531\ttotal: 1.53s\tremaining: 656ms\n",
      "70:\tlearn: 2078.8444561\ttotal: 1.55s\tremaining: 634ms\n",
      "71:\tlearn: 2074.3592923\ttotal: 1.57s\tremaining: 612ms\n",
      "72:\tlearn: 2070.8952266\ttotal: 1.59s\tremaining: 590ms\n",
      "73:\tlearn: 2068.1307698\ttotal: 1.61s\tremaining: 567ms\n",
      "74:\tlearn: 2065.3942059\ttotal: 1.64s\tremaining: 545ms\n",
      "75:\tlearn: 2061.8862178\ttotal: 1.66s\tremaining: 523ms\n",
      "76:\tlearn: 2058.9803372\ttotal: 1.68s\tremaining: 501ms\n",
      "77:\tlearn: 2056.7234878\ttotal: 1.7s\tremaining: 478ms\n",
      "78:\tlearn: 2054.4637259\ttotal: 1.72s\tremaining: 456ms\n",
      "79:\tlearn: 2051.7311499\ttotal: 1.74s\tremaining: 434ms\n",
      "80:\tlearn: 2049.5725243\ttotal: 1.76s\tremaining: 412ms\n",
      "81:\tlearn: 2046.4352963\ttotal: 1.78s\tremaining: 391ms\n",
      "82:\tlearn: 2043.1819979\ttotal: 1.81s\tremaining: 372ms\n",
      "83:\tlearn: 2041.2199036\ttotal: 1.84s\tremaining: 350ms\n",
      "84:\tlearn: 2037.5431391\ttotal: 1.86s\tremaining: 328ms\n",
      "85:\tlearn: 2034.9787731\ttotal: 1.88s\tremaining: 306ms\n",
      "86:\tlearn: 2032.1881251\ttotal: 1.9s\tremaining: 284ms\n",
      "87:\tlearn: 2030.5998874\ttotal: 1.92s\tremaining: 262ms\n",
      "88:\tlearn: 2027.9330712\ttotal: 1.94s\tremaining: 240ms\n",
      "89:\tlearn: 2025.6448668\ttotal: 1.96s\tremaining: 218ms\n",
      "90:\tlearn: 2023.8365719\ttotal: 1.98s\tremaining: 196ms\n",
      "91:\tlearn: 2021.9284234\ttotal: 2s\tremaining: 174ms\n",
      "92:\tlearn: 2020.2443318\ttotal: 2.02s\tremaining: 152ms\n",
      "93:\tlearn: 2018.5366662\ttotal: 2.04s\tremaining: 130ms\n",
      "94:\tlearn: 2016.4868679\ttotal: 2.07s\tremaining: 109ms\n",
      "95:\tlearn: 2013.8984172\ttotal: 2.09s\tremaining: 87ms\n",
      "96:\tlearn: 2011.7287511\ttotal: 2.11s\tremaining: 65.3ms\n",
      "97:\tlearn: 2009.5280058\ttotal: 2.13s\tremaining: 43.6ms\n",
      "98:\tlearn: 2008.0916517\ttotal: 2.15s\tremaining: 21.8ms\n",
      "99:\tlearn: 2005.3971030\ttotal: 2.18s\tremaining: 0us\n",
      "0:\tlearn: 4435.0383772\ttotal: 24.1ms\tremaining: 2.39s\n",
      "1:\tlearn: 4294.9110644\ttotal: 51.6ms\tremaining: 2.53s\n",
      "2:\tlearn: 4160.1205132\ttotal: 75.3ms\tremaining: 2.44s\n",
      "3:\tlearn: 4033.2330653\ttotal: 100ms\tremaining: 2.4s\n",
      "4:\tlearn: 3916.2111106\ttotal: 125ms\tremaining: 2.38s\n",
      "5:\tlearn: 3803.6227811\ttotal: 150ms\tremaining: 2.35s\n",
      "6:\tlearn: 3699.9011961\ttotal: 174ms\tremaining: 2.31s\n",
      "7:\tlearn: 3599.9113700\ttotal: 199ms\tremaining: 2.29s\n",
      "8:\tlearn: 3506.9420255\ttotal: 224ms\tremaining: 2.27s\n",
      "9:\tlearn: 3421.5431721\ttotal: 253ms\tremaining: 2.28s\n",
      "10:\tlearn: 3340.1053582\ttotal: 278ms\tremaining: 2.25s\n",
      "11:\tlearn: 3266.5087654\ttotal: 304ms\tremaining: 2.23s\n",
      "12:\tlearn: 3192.9411201\ttotal: 330ms\tremaining: 2.21s\n",
      "13:\tlearn: 3124.8322197\ttotal: 356ms\tremaining: 2.19s\n",
      "14:\tlearn: 3061.9824129\ttotal: 381ms\tremaining: 2.16s\n",
      "15:\tlearn: 3005.1476336\ttotal: 406ms\tremaining: 2.13s\n",
      "16:\tlearn: 2947.3616019\ttotal: 432ms\tremaining: 2.11s\n",
      "17:\tlearn: 2897.1608738\ttotal: 457ms\tremaining: 2.08s\n",
      "18:\tlearn: 2850.8028228\ttotal: 480ms\tremaining: 2.05s\n",
      "19:\tlearn: 2803.3875001\ttotal: 504ms\tremaining: 2.02s\n",
      "20:\tlearn: 2759.2305160\ttotal: 528ms\tremaining: 1.99s\n",
      "21:\tlearn: 2721.0010485\ttotal: 551ms\tremaining: 1.95s\n",
      "22:\tlearn: 2683.7304312\ttotal: 574ms\tremaining: 1.92s\n",
      "23:\tlearn: 2648.4709666\ttotal: 598ms\tremaining: 1.89s\n",
      "24:\tlearn: 2615.9970785\ttotal: 622ms\tremaining: 1.86s\n",
      "25:\tlearn: 2582.5161765\ttotal: 647ms\tremaining: 1.84s\n",
      "26:\tlearn: 2555.2989397\ttotal: 672ms\tremaining: 1.82s\n",
      "27:\tlearn: 2526.1845578\ttotal: 696ms\tremaining: 1.79s\n",
      "28:\tlearn: 2501.7349902\ttotal: 721ms\tremaining: 1.77s\n",
      "29:\tlearn: 2476.9410112\ttotal: 747ms\tremaining: 1.74s\n",
      "30:\tlearn: 2455.5934867\ttotal: 770ms\tremaining: 1.71s\n",
      "31:\tlearn: 2433.4863301\ttotal: 794ms\tremaining: 1.69s\n",
      "32:\tlearn: 2413.8788279\ttotal: 818ms\tremaining: 1.66s\n",
      "33:\tlearn: 2395.3516419\ttotal: 841ms\tremaining: 1.63s\n",
      "34:\tlearn: 2377.3833483\ttotal: 863ms\tremaining: 1.6s\n",
      "35:\tlearn: 2361.0084849\ttotal: 887ms\tremaining: 1.58s\n",
      "36:\tlearn: 2346.1315416\ttotal: 911ms\tremaining: 1.55s\n",
      "37:\tlearn: 2331.5330957\ttotal: 936ms\tremaining: 1.53s\n",
      "38:\tlearn: 2316.9477953\ttotal: 959ms\tremaining: 1.5s\n",
      "39:\tlearn: 2303.9453779\ttotal: 982ms\tremaining: 1.47s\n",
      "40:\tlearn: 2289.9854378\ttotal: 1.01s\tremaining: 1.46s\n",
      "41:\tlearn: 2277.8010245\ttotal: 1.04s\tremaining: 1.44s\n",
      "42:\tlearn: 2266.1715462\ttotal: 1.07s\tremaining: 1.42s\n",
      "43:\tlearn: 2254.6596094\ttotal: 1.1s\tremaining: 1.4s\n",
      "44:\tlearn: 2244.2498111\ttotal: 1.13s\tremaining: 1.38s\n",
      "45:\tlearn: 2234.8422515\ttotal: 1.16s\tremaining: 1.36s\n",
      "46:\tlearn: 2225.3420670\ttotal: 1.18s\tremaining: 1.33s\n",
      "47:\tlearn: 2217.3636942\ttotal: 1.2s\tremaining: 1.3s\n",
      "48:\tlearn: 2209.8335192\ttotal: 1.23s\tremaining: 1.28s\n",
      "49:\tlearn: 2201.5268712\ttotal: 1.25s\tremaining: 1.25s\n",
      "50:\tlearn: 2192.7461138\ttotal: 1.27s\tremaining: 1.22s\n",
      "51:\tlearn: 2186.2283763\ttotal: 1.3s\tremaining: 1.2s\n",
      "52:\tlearn: 2179.8633323\ttotal: 1.32s\tremaining: 1.17s\n",
      "53:\tlearn: 2173.7744947\ttotal: 1.34s\tremaining: 1.14s\n",
      "54:\tlearn: 2168.2567286\ttotal: 1.36s\tremaining: 1.12s\n",
      "55:\tlearn: 2159.5296716\ttotal: 1.39s\tremaining: 1.09s\n",
      "56:\tlearn: 2154.4493385\ttotal: 1.41s\tremaining: 1.07s\n",
      "57:\tlearn: 2148.3279063\ttotal: 1.44s\tremaining: 1.04s\n",
      "58:\tlearn: 2141.8981708\ttotal: 1.46s\tremaining: 1.01s\n",
      "59:\tlearn: 2136.2108981\ttotal: 1.48s\tremaining: 988ms\n",
      "60:\tlearn: 2130.0230046\ttotal: 1.51s\tremaining: 963ms\n",
      "61:\tlearn: 2125.0193556\ttotal: 1.53s\tremaining: 938ms\n",
      "62:\tlearn: 2118.6149812\ttotal: 1.55s\tremaining: 913ms\n",
      "63:\tlearn: 2114.1640650\ttotal: 1.58s\tremaining: 887ms\n",
      "64:\tlearn: 2109.5848091\ttotal: 1.6s\tremaining: 861ms\n",
      "65:\tlearn: 2104.1093475\ttotal: 1.62s\tremaining: 836ms\n",
      "66:\tlearn: 2099.2360044\ttotal: 1.64s\tremaining: 810ms\n",
      "67:\tlearn: 2094.2181218\ttotal: 1.67s\tremaining: 784ms\n",
      "68:\tlearn: 2089.7856631\ttotal: 1.69s\tremaining: 761ms\n",
      "69:\tlearn: 2085.2359366\ttotal: 1.72s\tremaining: 736ms\n",
      "70:\tlearn: 2081.8446242\ttotal: 1.74s\tremaining: 710ms\n",
      "71:\tlearn: 2078.4597099\ttotal: 1.76s\tremaining: 684ms\n",
      "72:\tlearn: 2074.5855187\ttotal: 1.78s\tremaining: 659ms\n",
      "73:\tlearn: 2071.5086115\ttotal: 1.8s\tremaining: 634ms\n",
      "74:\tlearn: 2067.6920677\ttotal: 1.83s\tremaining: 609ms\n",
      "75:\tlearn: 2063.5352432\ttotal: 1.85s\tremaining: 585ms\n",
      "76:\tlearn: 2060.2813480\ttotal: 1.87s\tremaining: 560ms\n",
      "77:\tlearn: 2057.4550131\ttotal: 1.9s\tremaining: 535ms\n",
      "78:\tlearn: 2055.1206416\ttotal: 1.92s\tremaining: 510ms\n",
      "79:\tlearn: 2052.4963700\ttotal: 1.94s\tremaining: 485ms\n",
      "80:\tlearn: 2049.0180140\ttotal: 1.96s\tremaining: 460ms\n",
      "81:\tlearn: 2045.1279535\ttotal: 1.99s\tremaining: 437ms\n",
      "82:\tlearn: 2042.5673800\ttotal: 2.01s\tremaining: 412ms\n",
      "83:\tlearn: 2040.5875062\ttotal: 2.03s\tremaining: 387ms\n",
      "84:\tlearn: 2038.2651099\ttotal: 2.06s\tremaining: 363ms\n",
      "85:\tlearn: 2036.1071975\ttotal: 2.08s\tremaining: 338ms\n",
      "86:\tlearn: 2033.4094638\ttotal: 2.1s\tremaining: 314ms\n",
      "87:\tlearn: 2031.5127829\ttotal: 2.12s\tremaining: 289ms\n",
      "88:\tlearn: 2028.6060789\ttotal: 2.14s\tremaining: 265ms\n",
      "89:\tlearn: 2026.0628258\ttotal: 2.17s\tremaining: 241ms\n",
      "90:\tlearn: 2023.9424056\ttotal: 2.19s\tremaining: 216ms\n",
      "91:\tlearn: 2021.7062170\ttotal: 2.21s\tremaining: 192ms\n",
      "92:\tlearn: 2019.1728911\ttotal: 2.23s\tremaining: 168ms\n",
      "93:\tlearn: 2017.2586564\ttotal: 2.25s\tremaining: 144ms\n",
      "94:\tlearn: 2014.2191841\ttotal: 2.28s\tremaining: 120ms\n",
      "95:\tlearn: 2012.1308084\ttotal: 2.3s\tremaining: 95.7ms\n",
      "96:\tlearn: 2009.7802929\ttotal: 2.32s\tremaining: 71.7ms\n",
      "97:\tlearn: 2007.9542450\ttotal: 2.34s\tremaining: 47.8ms\n",
      "98:\tlearn: 2006.0363968\ttotal: 2.36s\tremaining: 23.9ms\n",
      "99:\tlearn: 2003.2580429\ttotal: 2.39s\tremaining: 0us\n",
      "0:\tlearn: 4430.3832471\ttotal: 22.4ms\tremaining: 2.22s\n",
      "1:\tlearn: 4289.1010755\ttotal: 45.7ms\tremaining: 2.24s\n",
      "2:\tlearn: 4154.3379112\ttotal: 67.5ms\tremaining: 2.18s\n",
      "3:\tlearn: 4029.9834456\ttotal: 89.5ms\tremaining: 2.15s\n",
      "4:\tlearn: 3912.9792487\ttotal: 112ms\tremaining: 2.13s\n",
      "5:\tlearn: 3800.4784764\ttotal: 134ms\tremaining: 2.11s\n",
      "6:\tlearn: 3697.1962868\ttotal: 158ms\tremaining: 2.09s\n",
      "7:\tlearn: 3599.2202132\ttotal: 180ms\tremaining: 2.07s\n",
      "8:\tlearn: 3506.2216091\ttotal: 203ms\tremaining: 2.05s\n",
      "9:\tlearn: 3421.0076368\ttotal: 227ms\tremaining: 2.04s\n",
      "10:\tlearn: 3338.5226405\ttotal: 250ms\tremaining: 2.02s\n",
      "11:\tlearn: 3261.3061110\ttotal: 271ms\tremaining: 1.99s\n",
      "12:\tlearn: 3188.7206481\ttotal: 293ms\tremaining: 1.96s\n",
      "13:\tlearn: 3121.0790170\ttotal: 315ms\tremaining: 1.94s\n",
      "14:\tlearn: 3058.3794473\ttotal: 337ms\tremaining: 1.91s\n",
      "15:\tlearn: 2999.6960571\ttotal: 359ms\tremaining: 1.89s\n",
      "16:\tlearn: 2945.4207952\ttotal: 382ms\tremaining: 1.87s\n",
      "17:\tlearn: 2893.3358037\ttotal: 404ms\tremaining: 1.84s\n",
      "18:\tlearn: 2842.6928968\ttotal: 425ms\tremaining: 1.81s\n",
      "19:\tlearn: 2797.8851203\ttotal: 449ms\tremaining: 1.79s\n",
      "20:\tlearn: 2754.0245282\ttotal: 470ms\tremaining: 1.77s\n",
      "21:\tlearn: 2714.7988201\ttotal: 492ms\tremaining: 1.74s\n",
      "22:\tlearn: 2677.9340738\ttotal: 515ms\tremaining: 1.72s\n",
      "23:\tlearn: 2643.6026038\ttotal: 537ms\tremaining: 1.7s\n",
      "24:\tlearn: 2608.8421930\ttotal: 559ms\tremaining: 1.68s\n",
      "25:\tlearn: 2576.0959672\ttotal: 580ms\tremaining: 1.65s\n",
      "26:\tlearn: 2548.7308079\ttotal: 602ms\tremaining: 1.63s\n",
      "27:\tlearn: 2520.6242661\ttotal: 625ms\tremaining: 1.6s\n",
      "28:\tlearn: 2493.8338309\ttotal: 646ms\tremaining: 1.58s\n",
      "29:\tlearn: 2471.0289311\ttotal: 667ms\tremaining: 1.55s\n",
      "30:\tlearn: 2448.1579466\ttotal: 688ms\tremaining: 1.53s\n",
      "31:\tlearn: 2427.7230503\ttotal: 712ms\tremaining: 1.51s\n",
      "32:\tlearn: 2408.3198494\ttotal: 734ms\tremaining: 1.49s\n",
      "33:\tlearn: 2390.2751822\ttotal: 755ms\tremaining: 1.47s\n",
      "34:\tlearn: 2372.6810423\ttotal: 777ms\tremaining: 1.44s\n",
      "35:\tlearn: 2355.2068561\ttotal: 798ms\tremaining: 1.42s\n",
      "36:\tlearn: 2340.3379981\ttotal: 820ms\tremaining: 1.4s\n",
      "37:\tlearn: 2326.1807771\ttotal: 843ms\tremaining: 1.38s\n",
      "38:\tlearn: 2311.2607973\ttotal: 866ms\tremaining: 1.35s\n",
      "39:\tlearn: 2298.5666577\ttotal: 888ms\tremaining: 1.33s\n",
      "40:\tlearn: 2286.2039261\ttotal: 909ms\tremaining: 1.31s\n",
      "41:\tlearn: 2274.0265356\ttotal: 931ms\tremaining: 1.28s\n",
      "42:\tlearn: 2260.0338084\ttotal: 953ms\tremaining: 1.26s\n",
      "43:\tlearn: 2248.9726219\ttotal: 976ms\tremaining: 1.24s\n",
      "44:\tlearn: 2236.0824469\ttotal: 999ms\tremaining: 1.22s\n",
      "45:\tlearn: 2226.0622731\ttotal: 1.02s\tremaining: 1.2s\n",
      "46:\tlearn: 2216.3199251\ttotal: 1.04s\tremaining: 1.18s\n",
      "47:\tlearn: 2207.2302363\ttotal: 1.07s\tremaining: 1.16s\n",
      "48:\tlearn: 2199.9490683\ttotal: 1.09s\tremaining: 1.14s\n",
      "49:\tlearn: 2192.1958722\ttotal: 1.12s\tremaining: 1.12s\n",
      "50:\tlearn: 2184.9446854\ttotal: 1.14s\tremaining: 1.09s\n",
      "51:\tlearn: 2176.7009207\ttotal: 1.16s\tremaining: 1.07s\n",
      "52:\tlearn: 2170.2617216\ttotal: 1.18s\tremaining: 1.05s\n",
      "53:\tlearn: 2162.3056372\ttotal: 1.2s\tremaining: 1.03s\n",
      "54:\tlearn: 2154.7953289\ttotal: 1.23s\tremaining: 1s\n",
      "55:\tlearn: 2148.5395037\ttotal: 1.25s\tremaining: 982ms\n",
      "56:\tlearn: 2141.4218784\ttotal: 1.28s\tremaining: 963ms\n",
      "57:\tlearn: 2135.5316068\ttotal: 1.3s\tremaining: 942ms\n",
      "58:\tlearn: 2129.8185005\ttotal: 1.32s\tremaining: 921ms\n",
      "59:\tlearn: 2124.1922342\ttotal: 1.35s\tremaining: 898ms\n",
      "60:\tlearn: 2119.2785441\ttotal: 1.37s\tremaining: 875ms\n",
      "61:\tlearn: 2114.6494096\ttotal: 1.39s\tremaining: 851ms\n",
      "62:\tlearn: 2110.4414080\ttotal: 1.41s\tremaining: 828ms\n",
      "63:\tlearn: 2103.9393523\ttotal: 1.43s\tremaining: 805ms\n",
      "64:\tlearn: 2099.2880614\ttotal: 1.45s\tremaining: 783ms\n",
      "65:\tlearn: 2095.3392185\ttotal: 1.47s\tremaining: 759ms\n",
      "66:\tlearn: 2090.0142253\ttotal: 1.5s\tremaining: 737ms\n",
      "67:\tlearn: 2086.4984454\ttotal: 1.52s\tremaining: 714ms\n",
      "68:\tlearn: 2082.9240134\ttotal: 1.54s\tremaining: 691ms\n",
      "69:\tlearn: 2077.8306414\ttotal: 1.57s\tremaining: 672ms\n",
      "70:\tlearn: 2073.8518426\ttotal: 1.59s\tremaining: 651ms\n",
      "71:\tlearn: 2070.2763754\ttotal: 1.61s\tremaining: 628ms\n",
      "72:\tlearn: 2067.0055726\ttotal: 1.64s\tremaining: 605ms\n",
      "73:\tlearn: 2063.8407235\ttotal: 1.66s\tremaining: 582ms\n",
      "74:\tlearn: 2060.9436522\ttotal: 1.68s\tremaining: 560ms\n",
      "75:\tlearn: 2056.4525851\ttotal: 1.7s\tremaining: 538ms\n",
      "76:\tlearn: 2053.2553062\ttotal: 1.72s\tremaining: 515ms\n",
      "77:\tlearn: 2050.6117602\ttotal: 1.74s\tremaining: 492ms\n",
      "78:\tlearn: 2048.1264377\ttotal: 1.76s\tremaining: 469ms\n",
      "79:\tlearn: 2045.8476262\ttotal: 1.79s\tremaining: 447ms\n",
      "80:\tlearn: 2042.7904945\ttotal: 1.81s\tremaining: 424ms\n",
      "81:\tlearn: 2040.2379701\ttotal: 1.83s\tremaining: 401ms\n",
      "82:\tlearn: 2037.1620799\ttotal: 1.85s\tremaining: 379ms\n",
      "83:\tlearn: 2034.0483662\ttotal: 1.87s\tremaining: 357ms\n",
      "84:\tlearn: 2031.1721841\ttotal: 1.89s\tremaining: 334ms\n",
      "85:\tlearn: 2028.8709096\ttotal: 1.91s\tremaining: 311ms\n",
      "86:\tlearn: 2026.3428235\ttotal: 1.93s\tremaining: 289ms\n",
      "87:\tlearn: 2024.8066800\ttotal: 1.95s\tremaining: 266ms\n",
      "88:\tlearn: 2023.1799321\ttotal: 1.97s\tremaining: 244ms\n",
      "89:\tlearn: 2021.2875556\ttotal: 1.99s\tremaining: 221ms\n",
      "90:\tlearn: 2019.2985933\ttotal: 2.01s\tremaining: 199ms\n",
      "91:\tlearn: 2016.8551812\ttotal: 2.03s\tremaining: 177ms\n",
      "92:\tlearn: 2013.6705445\ttotal: 2.06s\tremaining: 155ms\n",
      "93:\tlearn: 2011.6053263\ttotal: 2.08s\tremaining: 133ms\n",
      "94:\tlearn: 2009.9754695\ttotal: 2.1s\tremaining: 110ms\n",
      "95:\tlearn: 2007.6417204\ttotal: 2.12s\tremaining: 88.3ms\n",
      "96:\tlearn: 2005.0226299\ttotal: 2.14s\tremaining: 66.2ms\n",
      "97:\tlearn: 2003.6487961\ttotal: 2.16s\tremaining: 44.1ms\n",
      "98:\tlearn: 2002.0340141\ttotal: 2.18s\tremaining: 22ms\n",
      "99:\tlearn: 2000.4069379\ttotal: 2.2s\tremaining: 0us\n",
      "0:\tlearn: 4445.1994760\ttotal: 23.2ms\tremaining: 2.29s\n",
      "1:\tlearn: 4302.1990121\ttotal: 45.2ms\tremaining: 2.21s\n",
      "2:\tlearn: 4167.8603797\ttotal: 67ms\tremaining: 2.17s\n",
      "3:\tlearn: 4042.8468553\ttotal: 89.5ms\tremaining: 2.15s\n",
      "4:\tlearn: 3922.4006290\ttotal: 111ms\tremaining: 2.11s\n",
      "5:\tlearn: 3811.7029794\ttotal: 133ms\tremaining: 2.09s\n",
      "6:\tlearn: 3708.1320434\ttotal: 157ms\tremaining: 2.08s\n",
      "7:\tlearn: 3609.3063675\ttotal: 178ms\tremaining: 2.05s\n",
      "8:\tlearn: 3516.6952729\ttotal: 200ms\tremaining: 2.02s\n",
      "9:\tlearn: 3430.6305920\ttotal: 221ms\tremaining: 1.99s\n",
      "10:\tlearn: 3346.5044571\ttotal: 244ms\tremaining: 1.97s\n",
      "11:\tlearn: 3268.9593866\ttotal: 266ms\tremaining: 1.95s\n",
      "12:\tlearn: 3197.2671701\ttotal: 288ms\tremaining: 1.93s\n",
      "13:\tlearn: 3129.3729919\ttotal: 310ms\tremaining: 1.91s\n",
      "14:\tlearn: 3067.7561926\ttotal: 334ms\tremaining: 1.89s\n",
      "15:\tlearn: 3007.7181115\ttotal: 358ms\tremaining: 1.88s\n",
      "16:\tlearn: 2952.4097004\ttotal: 381ms\tremaining: 1.86s\n",
      "17:\tlearn: 2900.4273237\ttotal: 405ms\tremaining: 1.84s\n",
      "18:\tlearn: 2850.3892199\ttotal: 428ms\tremaining: 1.82s\n",
      "19:\tlearn: 2803.6418624\ttotal: 452ms\tremaining: 1.81s\n",
      "20:\tlearn: 2762.2258756\ttotal: 475ms\tremaining: 1.79s\n",
      "21:\tlearn: 2722.7846460\ttotal: 497ms\tremaining: 1.76s\n",
      "22:\tlearn: 2685.6615920\ttotal: 519ms\tremaining: 1.74s\n",
      "23:\tlearn: 2650.3096435\ttotal: 541ms\tremaining: 1.71s\n",
      "24:\tlearn: 2617.8419183\ttotal: 562ms\tremaining: 1.69s\n",
      "25:\tlearn: 2586.5082262\ttotal: 584ms\tremaining: 1.66s\n",
      "26:\tlearn: 2558.5216374\ttotal: 605ms\tremaining: 1.64s\n",
      "27:\tlearn: 2531.8426419\ttotal: 628ms\tremaining: 1.61s\n",
      "28:\tlearn: 2506.0568492\ttotal: 648ms\tremaining: 1.59s\n",
      "29:\tlearn: 2482.9329029\ttotal: 669ms\tremaining: 1.56s\n",
      "30:\tlearn: 2459.9141031\ttotal: 694ms\tremaining: 1.54s\n",
      "31:\tlearn: 2439.0542994\ttotal: 715ms\tremaining: 1.52s\n",
      "32:\tlearn: 2418.8877469\ttotal: 737ms\tremaining: 1.5s\n",
      "33:\tlearn: 2400.5126570\ttotal: 758ms\tremaining: 1.47s\n",
      "34:\tlearn: 2382.6550004\ttotal: 779ms\tremaining: 1.45s\n",
      "35:\tlearn: 2365.2160703\ttotal: 801ms\tremaining: 1.42s\n",
      "36:\tlearn: 2349.9358928\ttotal: 823ms\tremaining: 1.4s\n",
      "37:\tlearn: 2334.5161683\ttotal: 845ms\tremaining: 1.38s\n",
      "38:\tlearn: 2320.1410787\ttotal: 867ms\tremaining: 1.35s\n",
      "39:\tlearn: 2307.4840684\ttotal: 891ms\tremaining: 1.33s\n",
      "40:\tlearn: 2294.9647896\ttotal: 911ms\tremaining: 1.31s\n",
      "41:\tlearn: 2282.4994669\ttotal: 933ms\tremaining: 1.29s\n",
      "42:\tlearn: 2271.4215780\ttotal: 954ms\tremaining: 1.26s\n",
      "43:\tlearn: 2260.0041408\ttotal: 976ms\tremaining: 1.24s\n",
      "44:\tlearn: 2250.3282136\ttotal: 997ms\tremaining: 1.22s\n",
      "45:\tlearn: 2240.9785889\ttotal: 1.02s\tremaining: 1.2s\n",
      "46:\tlearn: 2232.2989775\ttotal: 1.04s\tremaining: 1.17s\n",
      "47:\tlearn: 2222.2831706\ttotal: 1.06s\tremaining: 1.15s\n",
      "48:\tlearn: 2214.3571765\ttotal: 1.08s\tremaining: 1.13s\n",
      "49:\tlearn: 2205.5011660\ttotal: 1.1s\tremaining: 1.1s\n",
      "50:\tlearn: 2196.1799864\ttotal: 1.13s\tremaining: 1.08s\n",
      "51:\tlearn: 2186.9883718\ttotal: 1.15s\tremaining: 1.06s\n",
      "52:\tlearn: 2178.1023933\ttotal: 1.17s\tremaining: 1.04s\n",
      "53:\tlearn: 2171.7145082\ttotal: 1.2s\tremaining: 1.02s\n",
      "54:\tlearn: 2164.2580704\ttotal: 1.22s\tremaining: 998ms\n",
      "55:\tlearn: 2157.2748186\ttotal: 1.24s\tremaining: 976ms\n",
      "56:\tlearn: 2151.7340778\ttotal: 1.26s\tremaining: 953ms\n",
      "57:\tlearn: 2146.5614451\ttotal: 1.29s\tremaining: 931ms\n",
      "58:\tlearn: 2140.0625497\ttotal: 1.31s\tremaining: 910ms\n",
      "59:\tlearn: 2134.3499573\ttotal: 1.33s\tremaining: 888ms\n",
      "60:\tlearn: 2128.1296606\ttotal: 1.35s\tremaining: 865ms\n",
      "61:\tlearn: 2122.0865671\ttotal: 1.38s\tremaining: 843ms\n",
      "62:\tlearn: 2117.5806985\ttotal: 1.4s\tremaining: 821ms\n",
      "63:\tlearn: 2111.9352407\ttotal: 1.42s\tremaining: 799ms\n",
      "64:\tlearn: 2107.6896694\ttotal: 1.44s\tremaining: 776ms\n",
      "65:\tlearn: 2103.6162660\ttotal: 1.46s\tremaining: 754ms\n",
      "66:\tlearn: 2098.1709486\ttotal: 1.49s\tremaining: 733ms\n",
      "67:\tlearn: 2094.5625102\ttotal: 1.51s\tremaining: 710ms\n",
      "68:\tlearn: 2089.9607845\ttotal: 1.53s\tremaining: 688ms\n",
      "69:\tlearn: 2086.1651019\ttotal: 1.55s\tremaining: 666ms\n",
      "70:\tlearn: 2083.2209853\ttotal: 1.58s\tremaining: 644ms\n",
      "71:\tlearn: 2078.4174156\ttotal: 1.6s\tremaining: 622ms\n",
      "72:\tlearn: 2074.3893551\ttotal: 1.62s\tremaining: 600ms\n",
      "73:\tlearn: 2070.2482467\ttotal: 1.64s\tremaining: 578ms\n",
      "74:\tlearn: 2066.3788108\ttotal: 1.67s\tremaining: 556ms\n",
      "75:\tlearn: 2063.6990341\ttotal: 1.69s\tremaining: 533ms\n",
      "76:\tlearn: 2060.8794974\ttotal: 1.71s\tremaining: 510ms\n",
      "77:\tlearn: 2057.1770763\ttotal: 1.73s\tremaining: 488ms\n",
      "78:\tlearn: 2054.3486569\ttotal: 1.75s\tremaining: 466ms\n",
      "79:\tlearn: 2052.1136099\ttotal: 1.77s\tremaining: 443ms\n",
      "80:\tlearn: 2049.5251830\ttotal: 1.79s\tremaining: 421ms\n",
      "81:\tlearn: 2046.3903262\ttotal: 1.82s\tremaining: 399ms\n",
      "82:\tlearn: 2043.6449443\ttotal: 1.84s\tremaining: 376ms\n",
      "83:\tlearn: 2041.1634168\ttotal: 1.86s\tremaining: 354ms\n",
      "84:\tlearn: 2038.0961043\ttotal: 1.88s\tremaining: 333ms\n",
      "85:\tlearn: 2035.4227370\ttotal: 1.91s\tremaining: 310ms\n",
      "86:\tlearn: 2033.0247712\ttotal: 1.93s\tremaining: 288ms\n",
      "87:\tlearn: 2031.1295012\ttotal: 1.95s\tremaining: 265ms\n",
      "88:\tlearn: 2029.4007311\ttotal: 1.97s\tremaining: 243ms\n",
      "89:\tlearn: 2026.5315591\ttotal: 1.99s\tremaining: 221ms\n",
      "90:\tlearn: 2024.6271940\ttotal: 2.01s\tremaining: 199ms\n",
      "91:\tlearn: 2022.5637831\ttotal: 2.03s\tremaining: 177ms\n",
      "92:\tlearn: 2019.7540690\ttotal: 2.05s\tremaining: 154ms\n",
      "93:\tlearn: 2018.3311467\ttotal: 2.07s\tremaining: 132ms\n",
      "94:\tlearn: 2017.1025243\ttotal: 2.09s\tremaining: 110ms\n",
      "95:\tlearn: 2015.0436543\ttotal: 2.11s\tremaining: 88.1ms\n",
      "96:\tlearn: 2012.9628453\ttotal: 2.13s\tremaining: 66ms\n",
      "97:\tlearn: 2010.1815532\ttotal: 2.16s\tremaining: 44ms\n",
      "98:\tlearn: 2008.6894645\ttotal: 2.18s\tremaining: 22ms\n",
      "99:\tlearn: 2006.7765113\ttotal: 2.2s\tremaining: 0us\n",
      "0:\tlearn: 4437.2519876\ttotal: 24.7ms\tremaining: 2.44s\n",
      "1:\tlearn: 4294.5819949\ttotal: 48.7ms\tremaining: 2.39s\n",
      "2:\tlearn: 4160.7446348\ttotal: 71.1ms\tremaining: 2.3s\n",
      "3:\tlearn: 4035.6041036\ttotal: 92.7ms\tremaining: 2.23s\n",
      "4:\tlearn: 3916.3083900\ttotal: 115ms\tremaining: 2.18s\n",
      "5:\tlearn: 3805.9274857\ttotal: 137ms\tremaining: 2.14s\n",
      "6:\tlearn: 3702.1443000\ttotal: 158ms\tremaining: 2.1s\n",
      "7:\tlearn: 3600.3141061\ttotal: 179ms\tremaining: 2.06s\n",
      "8:\tlearn: 3506.2221749\ttotal: 201ms\tremaining: 2.03s\n",
      "9:\tlearn: 3419.3630892\ttotal: 221ms\tremaining: 1.99s\n",
      "10:\tlearn: 3336.4557316\ttotal: 248ms\tremaining: 2s\n",
      "11:\tlearn: 3259.1909725\ttotal: 271ms\tremaining: 1.99s\n",
      "12:\tlearn: 3189.7477840\ttotal: 293ms\tremaining: 1.96s\n",
      "13:\tlearn: 3122.4102500\ttotal: 315ms\tremaining: 1.93s\n",
      "14:\tlearn: 3061.2480445\ttotal: 336ms\tremaining: 1.91s\n",
      "15:\tlearn: 3003.4725306\ttotal: 358ms\tremaining: 1.88s\n",
      "16:\tlearn: 2948.4213350\ttotal: 379ms\tremaining: 1.85s\n",
      "17:\tlearn: 2896.8364991\ttotal: 401ms\tremaining: 1.82s\n",
      "18:\tlearn: 2848.2865118\ttotal: 423ms\tremaining: 1.8s\n",
      "19:\tlearn: 2804.6537276\ttotal: 447ms\tremaining: 1.79s\n",
      "20:\tlearn: 2760.9590258\ttotal: 469ms\tremaining: 1.76s\n",
      "21:\tlearn: 2721.3299979\ttotal: 490ms\tremaining: 1.74s\n",
      "22:\tlearn: 2684.5227860\ttotal: 511ms\tremaining: 1.71s\n",
      "23:\tlearn: 2649.4118010\ttotal: 532ms\tremaining: 1.69s\n",
      "24:\tlearn: 2616.2810334\ttotal: 555ms\tremaining: 1.66s\n",
      "25:\tlearn: 2586.1191193\ttotal: 576ms\tremaining: 1.64s\n",
      "26:\tlearn: 2558.4408510\ttotal: 598ms\tremaining: 1.62s\n",
      "27:\tlearn: 2531.2679703\ttotal: 620ms\tremaining: 1.59s\n",
      "28:\tlearn: 2505.7679958\ttotal: 641ms\tremaining: 1.57s\n",
      "29:\tlearn: 2482.2487459\ttotal: 663ms\tremaining: 1.54s\n",
      "30:\tlearn: 2458.5474317\ttotal: 684ms\tremaining: 1.52s\n",
      "31:\tlearn: 2438.0273402\ttotal: 705ms\tremaining: 1.5s\n",
      "32:\tlearn: 2418.0661897\ttotal: 726ms\tremaining: 1.47s\n",
      "33:\tlearn: 2399.3960701\ttotal: 747ms\tremaining: 1.45s\n",
      "34:\tlearn: 2382.7506607\ttotal: 768ms\tremaining: 1.43s\n",
      "35:\tlearn: 2364.7547811\ttotal: 790ms\tremaining: 1.41s\n",
      "36:\tlearn: 2349.4496427\ttotal: 812ms\tremaining: 1.38s\n",
      "37:\tlearn: 2334.4048902\ttotal: 833ms\tremaining: 1.36s\n",
      "38:\tlearn: 2319.8533424\ttotal: 854ms\tremaining: 1.34s\n",
      "39:\tlearn: 2307.3803756\ttotal: 876ms\tremaining: 1.31s\n",
      "40:\tlearn: 2292.5606520\ttotal: 898ms\tremaining: 1.29s\n",
      "41:\tlearn: 2280.6917715\ttotal: 920ms\tremaining: 1.27s\n",
      "42:\tlearn: 2269.8313302\ttotal: 946ms\tremaining: 1.25s\n",
      "43:\tlearn: 2258.7455313\ttotal: 969ms\tremaining: 1.23s\n",
      "44:\tlearn: 2249.2838082\ttotal: 990ms\tremaining: 1.21s\n",
      "45:\tlearn: 2239.5509261\ttotal: 1.01s\tremaining: 1.19s\n",
      "46:\tlearn: 2227.9966593\ttotal: 1.03s\tremaining: 1.16s\n",
      "47:\tlearn: 2219.0836602\ttotal: 1.05s\tremaining: 1.14s\n",
      "48:\tlearn: 2210.0309146\ttotal: 1.07s\tremaining: 1.12s\n",
      "49:\tlearn: 2201.3435377\ttotal: 1.09s\tremaining: 1.09s\n",
      "50:\tlearn: 2193.1556310\ttotal: 1.12s\tremaining: 1.07s\n",
      "51:\tlearn: 2184.4257438\ttotal: 1.14s\tremaining: 1.05s\n",
      "52:\tlearn: 2178.2652111\ttotal: 1.16s\tremaining: 1.03s\n",
      "53:\tlearn: 2171.7335689\ttotal: 1.18s\tremaining: 1s\n",
      "54:\tlearn: 2166.1233332\ttotal: 1.2s\tremaining: 982ms\n",
      "55:\tlearn: 2159.6912322\ttotal: 1.22s\tremaining: 959ms\n",
      "56:\tlearn: 2152.4261792\ttotal: 1.24s\tremaining: 937ms\n",
      "57:\tlearn: 2145.4328679\ttotal: 1.26s\tremaining: 916ms\n",
      "58:\tlearn: 2139.0995576\ttotal: 1.29s\tremaining: 894ms\n",
      "59:\tlearn: 2133.5799920\ttotal: 1.31s\tremaining: 873ms\n",
      "60:\tlearn: 2127.4526547\ttotal: 1.33s\tremaining: 851ms\n",
      "61:\tlearn: 2121.5109329\ttotal: 1.35s\tremaining: 828ms\n",
      "62:\tlearn: 2115.3589419\ttotal: 1.37s\tremaining: 806ms\n",
      "63:\tlearn: 2110.5240129\ttotal: 1.39s\tremaining: 784ms\n",
      "64:\tlearn: 2106.2258799\ttotal: 1.42s\tremaining: 763ms\n",
      "65:\tlearn: 2102.4977778\ttotal: 1.44s\tremaining: 740ms\n",
      "66:\tlearn: 2097.4112450\ttotal: 1.46s\tremaining: 718ms\n",
      "67:\tlearn: 2093.2750823\ttotal: 1.48s\tremaining: 696ms\n",
      "68:\tlearn: 2089.6702134\ttotal: 1.5s\tremaining: 675ms\n",
      "69:\tlearn: 2085.3697423\ttotal: 1.52s\tremaining: 652ms\n",
      "70:\tlearn: 2082.0222597\ttotal: 1.54s\tremaining: 630ms\n",
      "71:\tlearn: 2079.0887454\ttotal: 1.56s\tremaining: 607ms\n",
      "72:\tlearn: 2075.2105893\ttotal: 1.58s\tremaining: 585ms\n",
      "73:\tlearn: 2071.8539466\ttotal: 1.6s\tremaining: 563ms\n",
      "74:\tlearn: 2068.7889789\ttotal: 1.62s\tremaining: 541ms\n",
      "75:\tlearn: 2065.9178010\ttotal: 1.64s\tremaining: 519ms\n",
      "76:\tlearn: 2063.4608248\ttotal: 1.66s\tremaining: 496ms\n",
      "77:\tlearn: 2061.1092566\ttotal: 1.68s\tremaining: 474ms\n",
      "78:\tlearn: 2058.2730648\ttotal: 1.7s\tremaining: 452ms\n",
      "79:\tlearn: 2055.8772771\ttotal: 1.72s\tremaining: 430ms\n",
      "80:\tlearn: 2053.6656385\ttotal: 1.74s\tremaining: 408ms\n",
      "81:\tlearn: 2051.3070497\ttotal: 1.76s\tremaining: 386ms\n",
      "82:\tlearn: 2047.7301513\ttotal: 1.78s\tremaining: 364ms\n",
      "83:\tlearn: 2043.9994099\ttotal: 1.8s\tremaining: 343ms\n",
      "84:\tlearn: 2040.9209297\ttotal: 1.82s\tremaining: 321ms\n",
      "85:\tlearn: 2038.4510352\ttotal: 1.84s\tremaining: 300ms\n",
      "86:\tlearn: 2036.2052256\ttotal: 1.86s\tremaining: 278ms\n",
      "87:\tlearn: 2033.4246101\ttotal: 1.88s\tremaining: 257ms\n",
      "88:\tlearn: 2030.8520201\ttotal: 1.9s\tremaining: 235ms\n",
      "89:\tlearn: 2028.2585408\ttotal: 1.93s\tremaining: 214ms\n",
      "90:\tlearn: 2026.4580877\ttotal: 1.95s\tremaining: 192ms\n",
      "91:\tlearn: 2024.4834697\ttotal: 1.97s\tremaining: 171ms\n",
      "92:\tlearn: 2022.5989704\ttotal: 1.98s\tremaining: 149ms\n",
      "93:\tlearn: 2020.4389676\ttotal: 2s\tremaining: 128ms\n",
      "94:\tlearn: 2018.8402400\ttotal: 2.02s\tremaining: 107ms\n",
      "95:\tlearn: 2016.5689421\ttotal: 2.04s\tremaining: 85.2ms\n",
      "96:\tlearn: 2014.8372326\ttotal: 2.06s\tremaining: 63.9ms\n",
      "97:\tlearn: 2013.1897170\ttotal: 2.09s\tremaining: 42.6ms\n",
      "98:\tlearn: 2011.1053263\ttotal: 2.11s\tremaining: 21.3ms\n",
      "99:\tlearn: 2009.7663784\ttotal: 2.13s\tremaining: 0us\n",
      "0:\tlearn: 4454.4383970\ttotal: 18.3ms\tremaining: 1.81s\n",
      "1:\tlearn: 4320.4252769\ttotal: 36.4ms\tremaining: 1.78s\n",
      "2:\tlearn: 4188.2902682\ttotal: 54.8ms\tremaining: 1.77s\n",
      "3:\tlearn: 4067.6859216\ttotal: 76ms\tremaining: 1.82s\n",
      "4:\tlearn: 3958.9726714\ttotal: 98.8ms\tremaining: 1.88s\n",
      "5:\tlearn: 3855.1984571\ttotal: 121ms\tremaining: 1.9s\n",
      "6:\tlearn: 3754.8212663\ttotal: 144ms\tremaining: 1.91s\n",
      "7:\tlearn: 3666.3537355\ttotal: 166ms\tremaining: 1.91s\n",
      "8:\tlearn: 3576.2517558\ttotal: 188ms\tremaining: 1.9s\n",
      "9:\tlearn: 3495.5296822\ttotal: 208ms\tremaining: 1.87s\n",
      "10:\tlearn: 3417.0605308\ttotal: 226ms\tremaining: 1.83s\n",
      "11:\tlearn: 3343.0464817\ttotal: 245ms\tremaining: 1.8s\n",
      "12:\tlearn: 3276.1279721\ttotal: 264ms\tremaining: 1.76s\n",
      "13:\tlearn: 3212.8432291\ttotal: 282ms\tremaining: 1.73s\n",
      "14:\tlearn: 3151.0651953\ttotal: 301ms\tremaining: 1.7s\n",
      "15:\tlearn: 3094.7242531\ttotal: 318ms\tremaining: 1.67s\n",
      "16:\tlearn: 3040.9031682\ttotal: 337ms\tremaining: 1.64s\n",
      "17:\tlearn: 2992.1858199\ttotal: 355ms\tremaining: 1.62s\n",
      "18:\tlearn: 2946.5677756\ttotal: 373ms\tremaining: 1.59s\n",
      "19:\tlearn: 2901.3871422\ttotal: 391ms\tremaining: 1.56s\n",
      "20:\tlearn: 2862.0535974\ttotal: 408ms\tremaining: 1.53s\n",
      "21:\tlearn: 2822.6202536\ttotal: 425ms\tremaining: 1.51s\n",
      "22:\tlearn: 2787.2096364\ttotal: 444ms\tremaining: 1.48s\n",
      "23:\tlearn: 2751.5378060\ttotal: 461ms\tremaining: 1.46s\n",
      "24:\tlearn: 2720.5086929\ttotal: 478ms\tremaining: 1.44s\n",
      "25:\tlearn: 2690.1958355\ttotal: 496ms\tremaining: 1.41s\n",
      "26:\tlearn: 2664.3140970\ttotal: 514ms\tremaining: 1.39s\n",
      "27:\tlearn: 2637.3893696\ttotal: 532ms\tremaining: 1.37s\n",
      "28:\tlearn: 2611.7877356\ttotal: 550ms\tremaining: 1.35s\n",
      "29:\tlearn: 2588.0790114\ttotal: 568ms\tremaining: 1.32s\n",
      "30:\tlearn: 2564.4686490\ttotal: 586ms\tremaining: 1.3s\n",
      "31:\tlearn: 2542.5943495\ttotal: 603ms\tremaining: 1.28s\n",
      "32:\tlearn: 2522.5201971\ttotal: 621ms\tremaining: 1.26s\n",
      "33:\tlearn: 2505.1571281\ttotal: 638ms\tremaining: 1.24s\n",
      "34:\tlearn: 2487.7289927\ttotal: 656ms\tremaining: 1.22s\n",
      "35:\tlearn: 2468.6245282\ttotal: 674ms\tremaining: 1.2s\n",
      "36:\tlearn: 2452.2252375\ttotal: 692ms\tremaining: 1.18s\n",
      "37:\tlearn: 2437.6454948\ttotal: 709ms\tremaining: 1.16s\n",
      "38:\tlearn: 2423.1143571\ttotal: 728ms\tremaining: 1.14s\n",
      "39:\tlearn: 2409.2139836\ttotal: 745ms\tremaining: 1.12s\n",
      "40:\tlearn: 2395.8584079\ttotal: 764ms\tremaining: 1.1s\n",
      "41:\tlearn: 2383.9930843\ttotal: 782ms\tremaining: 1.08s\n",
      "42:\tlearn: 2371.1956046\ttotal: 800ms\tremaining: 1.06s\n",
      "43:\tlearn: 2360.4888649\ttotal: 818ms\tremaining: 1.04s\n",
      "44:\tlearn: 2348.7879287\ttotal: 836ms\tremaining: 1.02s\n",
      "45:\tlearn: 2339.3135119\ttotal: 853ms\tremaining: 1s\n",
      "46:\tlearn: 2329.7335723\ttotal: 871ms\tremaining: 982ms\n",
      "47:\tlearn: 2321.2890876\ttotal: 888ms\tremaining: 962ms\n",
      "48:\tlearn: 2312.0037823\ttotal: 905ms\tremaining: 942ms\n",
      "49:\tlearn: 2303.6276141\ttotal: 923ms\tremaining: 923ms\n",
      "50:\tlearn: 2295.8311299\ttotal: 940ms\tremaining: 903ms\n",
      "51:\tlearn: 2288.2312220\ttotal: 958ms\tremaining: 884ms\n",
      "52:\tlearn: 2281.1529608\ttotal: 975ms\tremaining: 865ms\n",
      "53:\tlearn: 2274.1574738\ttotal: 992ms\tremaining: 845ms\n",
      "54:\tlearn: 2265.0049769\ttotal: 1.01s\tremaining: 827ms\n",
      "55:\tlearn: 2258.4721546\ttotal: 1.03s\tremaining: 808ms\n",
      "56:\tlearn: 2251.2631440\ttotal: 1.05s\tremaining: 789ms\n",
      "57:\tlearn: 2244.2951978\ttotal: 1.06s\tremaining: 771ms\n",
      "58:\tlearn: 2237.3069001\ttotal: 1.08s\tremaining: 753ms\n",
      "59:\tlearn: 2232.0307211\ttotal: 1.1s\tremaining: 733ms\n",
      "60:\tlearn: 2225.9790109\ttotal: 1.12s\tremaining: 715ms\n",
      "61:\tlearn: 2219.2481778\ttotal: 1.14s\tremaining: 696ms\n",
      "62:\tlearn: 2214.3227284\ttotal: 1.15s\tremaining: 677ms\n",
      "63:\tlearn: 2209.0532757\ttotal: 1.17s\tremaining: 659ms\n",
      "64:\tlearn: 2204.5351861\ttotal: 1.19s\tremaining: 639ms\n",
      "65:\tlearn: 2199.4741657\ttotal: 1.2s\tremaining: 621ms\n",
      "66:\tlearn: 2194.0624147\ttotal: 1.22s\tremaining: 603ms\n",
      "67:\tlearn: 2188.9435161\ttotal: 1.24s\tremaining: 584ms\n",
      "68:\tlearn: 2183.0715390\ttotal: 1.26s\tremaining: 566ms\n",
      "69:\tlearn: 2179.3326205\ttotal: 1.28s\tremaining: 547ms\n",
      "70:\tlearn: 2174.6658855\ttotal: 1.3s\tremaining: 530ms\n",
      "71:\tlearn: 2170.7082409\ttotal: 1.32s\tremaining: 512ms\n",
      "72:\tlearn: 2166.9284890\ttotal: 1.33s\tremaining: 494ms\n",
      "73:\tlearn: 2162.9393628\ttotal: 1.35s\tremaining: 475ms\n",
      "74:\tlearn: 2159.2219318\ttotal: 1.37s\tremaining: 457ms\n",
      "75:\tlearn: 2155.5732457\ttotal: 1.39s\tremaining: 438ms\n",
      "76:\tlearn: 2151.8475171\ttotal: 1.41s\tremaining: 420ms\n",
      "77:\tlearn: 2148.8964102\ttotal: 1.42s\tremaining: 401ms\n",
      "78:\tlearn: 2144.5721330\ttotal: 1.44s\tremaining: 382ms\n",
      "79:\tlearn: 2141.5275501\ttotal: 1.46s\tremaining: 364ms\n",
      "80:\tlearn: 2138.9106876\ttotal: 1.47s\tremaining: 345ms\n",
      "81:\tlearn: 2135.2503151\ttotal: 1.49s\tremaining: 327ms\n",
      "82:\tlearn: 2131.8134300\ttotal: 1.51s\tremaining: 309ms\n",
      "83:\tlearn: 2129.4457286\ttotal: 1.53s\tremaining: 291ms\n",
      "84:\tlearn: 2126.9108251\ttotal: 1.54s\tremaining: 272ms\n",
      "85:\tlearn: 2123.6358588\ttotal: 1.56s\tremaining: 254ms\n",
      "86:\tlearn: 2120.4069002\ttotal: 1.58s\tremaining: 236ms\n",
      "87:\tlearn: 2118.1115808\ttotal: 1.6s\tremaining: 218ms\n",
      "88:\tlearn: 2116.1461947\ttotal: 1.62s\tremaining: 200ms\n",
      "89:\tlearn: 2113.7785730\ttotal: 1.64s\tremaining: 182ms\n",
      "90:\tlearn: 2109.8731872\ttotal: 1.65s\tremaining: 164ms\n",
      "91:\tlearn: 2107.5222749\ttotal: 1.67s\tremaining: 145ms\n",
      "92:\tlearn: 2104.5886199\ttotal: 1.69s\tremaining: 127ms\n",
      "93:\tlearn: 2102.7126978\ttotal: 1.71s\tremaining: 109ms\n",
      "94:\tlearn: 2100.4595002\ttotal: 1.72s\tremaining: 90.6ms\n",
      "95:\tlearn: 2098.1151924\ttotal: 1.74s\tremaining: 72.5ms\n",
      "96:\tlearn: 2096.0900490\ttotal: 1.75s\tremaining: 54.3ms\n",
      "97:\tlearn: 2093.1477911\ttotal: 1.77s\tremaining: 36.2ms\n",
      "98:\tlearn: 2091.2259947\ttotal: 1.79s\tremaining: 18.1ms\n",
      "99:\tlearn: 2088.4771126\ttotal: 1.81s\tremaining: 0us\n",
      "0:\tlearn: 4443.2590407\ttotal: 20.2ms\tremaining: 2s\n",
      "1:\tlearn: 4308.7375797\ttotal: 40.4ms\tremaining: 1.98s\n",
      "2:\tlearn: 4184.5322259\ttotal: 60.3ms\tremaining: 1.95s\n",
      "3:\tlearn: 4063.6108999\ttotal: 79.1ms\tremaining: 1.9s\n",
      "4:\tlearn: 3953.0936611\ttotal: 98.2ms\tremaining: 1.87s\n",
      "5:\tlearn: 3846.3660401\ttotal: 118ms\tremaining: 1.84s\n",
      "6:\tlearn: 3750.8557257\ttotal: 136ms\tremaining: 1.81s\n",
      "7:\tlearn: 3661.0215754\ttotal: 155ms\tremaining: 1.79s\n",
      "8:\tlearn: 3571.2221093\ttotal: 174ms\tremaining: 1.76s\n",
      "9:\tlearn: 3489.3883388\ttotal: 193ms\tremaining: 1.74s\n",
      "10:\tlearn: 3412.2084800\ttotal: 214ms\tremaining: 1.73s\n",
      "11:\tlearn: 3338.2048009\ttotal: 233ms\tremaining: 1.71s\n",
      "12:\tlearn: 3271.0081102\ttotal: 252ms\tremaining: 1.69s\n",
      "13:\tlearn: 3207.3724570\ttotal: 271ms\tremaining: 1.67s\n",
      "14:\tlearn: 3149.4071204\ttotal: 290ms\tremaining: 1.64s\n",
      "15:\tlearn: 3093.0718860\ttotal: 309ms\tremaining: 1.62s\n",
      "16:\tlearn: 3040.4234824\ttotal: 328ms\tremaining: 1.6s\n",
      "17:\tlearn: 2990.8946635\ttotal: 347ms\tremaining: 1.58s\n",
      "18:\tlearn: 2943.8991353\ttotal: 366ms\tremaining: 1.56s\n",
      "19:\tlearn: 2899.1896134\ttotal: 385ms\tremaining: 1.54s\n",
      "20:\tlearn: 2858.1291364\ttotal: 406ms\tremaining: 1.53s\n",
      "21:\tlearn: 2820.0937221\ttotal: 424ms\tremaining: 1.5s\n",
      "22:\tlearn: 2785.4807048\ttotal: 444ms\tremaining: 1.49s\n",
      "23:\tlearn: 2752.3224867\ttotal: 462ms\tremaining: 1.46s\n",
      "24:\tlearn: 2720.7022453\ttotal: 481ms\tremaining: 1.44s\n",
      "25:\tlearn: 2690.3078328\ttotal: 499ms\tremaining: 1.42s\n",
      "26:\tlearn: 2663.0035159\ttotal: 517ms\tremaining: 1.4s\n",
      "27:\tlearn: 2636.9783503\ttotal: 535ms\tremaining: 1.38s\n",
      "28:\tlearn: 2609.7692374\ttotal: 555ms\tremaining: 1.36s\n",
      "29:\tlearn: 2585.9567792\ttotal: 576ms\tremaining: 1.34s\n",
      "30:\tlearn: 2563.6014441\ttotal: 596ms\tremaining: 1.33s\n",
      "31:\tlearn: 2542.1998668\ttotal: 617ms\tremaining: 1.31s\n",
      "32:\tlearn: 2522.4206282\ttotal: 637ms\tremaining: 1.29s\n",
      "33:\tlearn: 2504.3174044\ttotal: 658ms\tremaining: 1.28s\n",
      "34:\tlearn: 2487.4736842\ttotal: 679ms\tremaining: 1.26s\n",
      "35:\tlearn: 2469.6035320\ttotal: 698ms\tremaining: 1.24s\n",
      "36:\tlearn: 2454.0646457\ttotal: 718ms\tremaining: 1.22s\n",
      "37:\tlearn: 2438.5958168\ttotal: 737ms\tremaining: 1.2s\n",
      "38:\tlearn: 2423.6063186\ttotal: 757ms\tremaining: 1.18s\n",
      "39:\tlearn: 2410.3668152\ttotal: 776ms\tremaining: 1.16s\n",
      "40:\tlearn: 2396.0359253\ttotal: 795ms\tremaining: 1.14s\n",
      "41:\tlearn: 2383.5591933\ttotal: 813ms\tremaining: 1.12s\n",
      "42:\tlearn: 2371.7695888\ttotal: 833ms\tremaining: 1.1s\n",
      "43:\tlearn: 2360.6781032\ttotal: 853ms\tremaining: 1.08s\n",
      "44:\tlearn: 2350.5006211\ttotal: 873ms\tremaining: 1.07s\n",
      "45:\tlearn: 2340.7050602\ttotal: 893ms\tremaining: 1.05s\n",
      "46:\tlearn: 2330.7849074\ttotal: 912ms\tremaining: 1.03s\n",
      "47:\tlearn: 2321.1909112\ttotal: 931ms\tremaining: 1.01s\n",
      "48:\tlearn: 2312.7286666\ttotal: 950ms\tremaining: 989ms\n",
      "49:\tlearn: 2304.4243941\ttotal: 970ms\tremaining: 970ms\n",
      "50:\tlearn: 2296.4135080\ttotal: 989ms\tremaining: 950ms\n",
      "51:\tlearn: 2288.5407235\ttotal: 1.01s\tremaining: 932ms\n",
      "52:\tlearn: 2282.2495067\ttotal: 1.03s\tremaining: 913ms\n",
      "53:\tlearn: 2274.9765679\ttotal: 1.05s\tremaining: 894ms\n",
      "54:\tlearn: 2265.4388016\ttotal: 1.07s\tremaining: 876ms\n",
      "55:\tlearn: 2258.6217381\ttotal: 1.09s\tremaining: 856ms\n",
      "56:\tlearn: 2252.5084343\ttotal: 1.11s\tremaining: 837ms\n",
      "57:\tlearn: 2245.9222109\ttotal: 1.13s\tremaining: 817ms\n",
      "58:\tlearn: 2240.6541082\ttotal: 1.15s\tremaining: 798ms\n",
      "59:\tlearn: 2234.2779728\ttotal: 1.17s\tremaining: 779ms\n",
      "60:\tlearn: 2227.8630375\ttotal: 1.19s\tremaining: 759ms\n",
      "61:\tlearn: 2221.1437574\ttotal: 1.21s\tremaining: 739ms\n",
      "62:\tlearn: 2216.2204038\ttotal: 1.22s\tremaining: 719ms\n",
      "63:\tlearn: 2211.1351569\ttotal: 1.24s\tremaining: 699ms\n",
      "64:\tlearn: 2205.1677234\ttotal: 1.26s\tremaining: 680ms\n",
      "65:\tlearn: 2201.1672179\ttotal: 1.28s\tremaining: 660ms\n",
      "66:\tlearn: 2195.0750282\ttotal: 1.3s\tremaining: 641ms\n",
      "67:\tlearn: 2190.1692253\ttotal: 1.32s\tremaining: 621ms\n",
      "68:\tlearn: 2184.7914369\ttotal: 1.34s\tremaining: 602ms\n",
      "69:\tlearn: 2180.2115174\ttotal: 1.36s\tremaining: 584ms\n",
      "70:\tlearn: 2176.1268106\ttotal: 1.38s\tremaining: 564ms\n",
      "71:\tlearn: 2172.7863684\ttotal: 1.4s\tremaining: 544ms\n",
      "72:\tlearn: 2168.7850843\ttotal: 1.42s\tremaining: 525ms\n",
      "73:\tlearn: 2165.1579198\ttotal: 1.44s\tremaining: 505ms\n",
      "74:\tlearn: 2161.0825988\ttotal: 1.46s\tremaining: 485ms\n",
      "75:\tlearn: 2157.3702378\ttotal: 1.47s\tremaining: 465ms\n",
      "76:\tlearn: 2153.0272051\ttotal: 1.49s\tremaining: 446ms\n",
      "77:\tlearn: 2150.3950753\ttotal: 1.51s\tremaining: 426ms\n",
      "78:\tlearn: 2147.3688244\ttotal: 1.53s\tremaining: 406ms\n",
      "79:\tlearn: 2143.3476137\ttotal: 1.55s\tremaining: 387ms\n",
      "80:\tlearn: 2138.7398532\ttotal: 1.57s\tremaining: 367ms\n",
      "81:\tlearn: 2135.2010850\ttotal: 1.58s\tremaining: 348ms\n",
      "82:\tlearn: 2131.8232868\ttotal: 1.6s\tremaining: 329ms\n",
      "83:\tlearn: 2128.9139529\ttotal: 1.62s\tremaining: 309ms\n",
      "84:\tlearn: 2125.9599218\ttotal: 1.64s\tremaining: 289ms\n",
      "85:\tlearn: 2123.5034438\ttotal: 1.66s\tremaining: 270ms\n",
      "86:\tlearn: 2121.3710028\ttotal: 1.68s\tremaining: 250ms\n",
      "87:\tlearn: 2118.8845766\ttotal: 1.69s\tremaining: 231ms\n",
      "88:\tlearn: 2116.5345664\ttotal: 1.71s\tremaining: 211ms\n",
      "89:\tlearn: 2113.1537846\ttotal: 1.73s\tremaining: 192ms\n",
      "90:\tlearn: 2109.2992614\ttotal: 1.75s\tremaining: 173ms\n",
      "91:\tlearn: 2107.4335807\ttotal: 1.76s\tremaining: 153ms\n",
      "92:\tlearn: 2104.0057224\ttotal: 1.78s\tremaining: 134ms\n",
      "93:\tlearn: 2102.1382732\ttotal: 1.8s\tremaining: 115ms\n",
      "94:\tlearn: 2100.0373009\ttotal: 1.82s\tremaining: 95.8ms\n",
      "95:\tlearn: 2097.7843309\ttotal: 1.84s\tremaining: 76.5ms\n",
      "96:\tlearn: 2095.8115964\ttotal: 1.85s\tremaining: 57.3ms\n",
      "97:\tlearn: 2094.3109018\ttotal: 1.87s\tremaining: 38.2ms\n",
      "98:\tlearn: 2091.9915877\ttotal: 1.89s\tremaining: 19.1ms\n",
      "99:\tlearn: 2088.7841360\ttotal: 1.91s\tremaining: 0us\n",
      "0:\tlearn: 4441.3126296\ttotal: 19.3ms\tremaining: 1.91s\n",
      "1:\tlearn: 4305.0076859\ttotal: 38.5ms\tremaining: 1.89s\n",
      "2:\tlearn: 4181.9397864\ttotal: 57.9ms\tremaining: 1.87s\n",
      "3:\tlearn: 4059.5343861\ttotal: 76.4ms\tremaining: 1.83s\n",
      "4:\tlearn: 3951.6450429\ttotal: 96.8ms\tremaining: 1.84s\n",
      "5:\tlearn: 3845.0317649\ttotal: 116ms\tremaining: 1.81s\n",
      "6:\tlearn: 3746.4832869\ttotal: 135ms\tremaining: 1.79s\n",
      "7:\tlearn: 3649.7076697\ttotal: 154ms\tremaining: 1.77s\n",
      "8:\tlearn: 3560.9326587\ttotal: 173ms\tremaining: 1.75s\n",
      "9:\tlearn: 3479.1192440\ttotal: 192ms\tremaining: 1.73s\n",
      "10:\tlearn: 3405.0047109\ttotal: 211ms\tremaining: 1.7s\n",
      "11:\tlearn: 3331.8838060\ttotal: 230ms\tremaining: 1.69s\n",
      "12:\tlearn: 3264.9331876\ttotal: 249ms\tremaining: 1.67s\n",
      "13:\tlearn: 3200.3892871\ttotal: 267ms\tremaining: 1.64s\n",
      "14:\tlearn: 3142.1517417\ttotal: 287ms\tremaining: 1.62s\n",
      "15:\tlearn: 3086.6052424\ttotal: 306ms\tremaining: 1.6s\n",
      "16:\tlearn: 3035.5331165\ttotal: 324ms\tremaining: 1.58s\n",
      "17:\tlearn: 2984.8801968\ttotal: 343ms\tremaining: 1.56s\n",
      "18:\tlearn: 2937.1550812\ttotal: 362ms\tremaining: 1.54s\n",
      "19:\tlearn: 2894.7725121\ttotal: 381ms\tremaining: 1.52s\n",
      "20:\tlearn: 2853.5580942\ttotal: 400ms\tremaining: 1.5s\n",
      "21:\tlearn: 2816.0492827\ttotal: 419ms\tremaining: 1.48s\n",
      "22:\tlearn: 2780.5735724\ttotal: 438ms\tremaining: 1.47s\n",
      "23:\tlearn: 2745.1949005\ttotal: 456ms\tremaining: 1.44s\n",
      "24:\tlearn: 2712.7816214\ttotal: 474ms\tremaining: 1.42s\n",
      "25:\tlearn: 2682.8971626\ttotal: 492ms\tremaining: 1.4s\n",
      "26:\tlearn: 2656.4793345\ttotal: 511ms\tremaining: 1.38s\n",
      "27:\tlearn: 2631.2225751\ttotal: 530ms\tremaining: 1.36s\n",
      "28:\tlearn: 2604.6268314\ttotal: 548ms\tremaining: 1.34s\n",
      "29:\tlearn: 2580.6322844\ttotal: 566ms\tremaining: 1.32s\n",
      "30:\tlearn: 2558.4570340\ttotal: 584ms\tremaining: 1.3s\n",
      "31:\tlearn: 2537.8767883\ttotal: 603ms\tremaining: 1.28s\n",
      "32:\tlearn: 2518.3781718\ttotal: 621ms\tremaining: 1.26s\n",
      "33:\tlearn: 2498.7990495\ttotal: 641ms\tremaining: 1.24s\n",
      "34:\tlearn: 2481.8561730\ttotal: 659ms\tremaining: 1.22s\n",
      "35:\tlearn: 2465.1115662\ttotal: 677ms\tremaining: 1.2s\n",
      "36:\tlearn: 2447.1498893\ttotal: 695ms\tremaining: 1.18s\n",
      "37:\tlearn: 2431.8267636\ttotal: 713ms\tremaining: 1.16s\n",
      "38:\tlearn: 2416.2605882\ttotal: 731ms\tremaining: 1.14s\n",
      "39:\tlearn: 2403.3276688\ttotal: 749ms\tremaining: 1.12s\n",
      "40:\tlearn: 2390.8816025\ttotal: 768ms\tremaining: 1.1s\n",
      "41:\tlearn: 2378.4210595\ttotal: 787ms\tremaining: 1.09s\n",
      "42:\tlearn: 2366.9892645\ttotal: 805ms\tremaining: 1.07s\n",
      "43:\tlearn: 2356.5577041\ttotal: 823ms\tremaining: 1.05s\n",
      "44:\tlearn: 2345.5513727\ttotal: 842ms\tremaining: 1.03s\n",
      "45:\tlearn: 2335.1043430\ttotal: 861ms\tremaining: 1.01s\n",
      "46:\tlearn: 2325.7250788\ttotal: 879ms\tremaining: 992ms\n",
      "47:\tlearn: 2317.3176354\ttotal: 897ms\tremaining: 972ms\n",
      "48:\tlearn: 2309.1495959\ttotal: 915ms\tremaining: 953ms\n",
      "49:\tlearn: 2300.5571565\ttotal: 934ms\tremaining: 934ms\n",
      "50:\tlearn: 2290.6853663\ttotal: 953ms\tremaining: 916ms\n",
      "51:\tlearn: 2281.2926672\ttotal: 972ms\tremaining: 897ms\n",
      "52:\tlearn: 2273.7939148\ttotal: 990ms\tremaining: 878ms\n",
      "53:\tlearn: 2266.1899625\ttotal: 1.01s\tremaining: 859ms\n",
      "54:\tlearn: 2257.9365598\ttotal: 1.03s\tremaining: 841ms\n",
      "55:\tlearn: 2251.0416041\ttotal: 1.05s\tremaining: 823ms\n",
      "56:\tlearn: 2244.6599058\ttotal: 1.06s\tremaining: 803ms\n",
      "57:\tlearn: 2238.0743200\ttotal: 1.08s\tremaining: 784ms\n",
      "58:\tlearn: 2232.8902235\ttotal: 1.1s\tremaining: 764ms\n",
      "59:\tlearn: 2226.4168920\ttotal: 1.12s\tremaining: 745ms\n",
      "60:\tlearn: 2220.8592290\ttotal: 1.13s\tremaining: 726ms\n",
      "61:\tlearn: 2214.7719692\ttotal: 1.15s\tremaining: 707ms\n",
      "62:\tlearn: 2209.5025627\ttotal: 1.17s\tremaining: 688ms\n",
      "63:\tlearn: 2203.2590594\ttotal: 1.19s\tremaining: 670ms\n",
      "64:\tlearn: 2198.8544931\ttotal: 1.21s\tremaining: 651ms\n",
      "65:\tlearn: 2193.0787360\ttotal: 1.23s\tremaining: 633ms\n",
      "66:\tlearn: 2189.2819553\ttotal: 1.25s\tremaining: 614ms\n",
      "67:\tlearn: 2185.0614492\ttotal: 1.26s\tremaining: 595ms\n",
      "68:\tlearn: 2181.4305729\ttotal: 1.28s\tremaining: 576ms\n",
      "69:\tlearn: 2177.0267829\ttotal: 1.3s\tremaining: 557ms\n",
      "70:\tlearn: 2172.8210376\ttotal: 1.32s\tremaining: 538ms\n",
      "71:\tlearn: 2169.3390585\ttotal: 1.33s\tremaining: 519ms\n",
      "72:\tlearn: 2164.6186770\ttotal: 1.35s\tremaining: 500ms\n",
      "73:\tlearn: 2161.0123793\ttotal: 1.37s\tremaining: 481ms\n",
      "74:\tlearn: 2157.5961526\ttotal: 1.39s\tremaining: 462ms\n",
      "75:\tlearn: 2152.7393355\ttotal: 1.41s\tremaining: 444ms\n",
      "76:\tlearn: 2148.1322572\ttotal: 1.42s\tremaining: 426ms\n",
      "77:\tlearn: 2144.7387059\ttotal: 1.44s\tremaining: 407ms\n",
      "78:\tlearn: 2142.3455512\ttotal: 1.46s\tremaining: 389ms\n",
      "79:\tlearn: 2137.9983564\ttotal: 1.48s\tremaining: 371ms\n",
      "80:\tlearn: 2135.0504205\ttotal: 1.5s\tremaining: 352ms\n",
      "81:\tlearn: 2132.1690147\ttotal: 1.52s\tremaining: 333ms\n",
      "82:\tlearn: 2128.7824568\ttotal: 1.54s\tremaining: 315ms\n",
      "83:\tlearn: 2125.1089306\ttotal: 1.55s\tremaining: 296ms\n",
      "84:\tlearn: 2121.5717895\ttotal: 1.57s\tremaining: 277ms\n",
      "85:\tlearn: 2118.1779836\ttotal: 1.59s\tremaining: 259ms\n",
      "86:\tlearn: 2115.9265372\ttotal: 1.61s\tremaining: 240ms\n",
      "87:\tlearn: 2112.6460351\ttotal: 1.63s\tremaining: 222ms\n",
      "88:\tlearn: 2110.7396345\ttotal: 1.64s\tremaining: 203ms\n",
      "89:\tlearn: 2107.6938714\ttotal: 1.66s\tremaining: 185ms\n",
      "90:\tlearn: 2105.0154983\ttotal: 1.68s\tremaining: 166ms\n",
      "91:\tlearn: 2102.8732691\ttotal: 1.7s\tremaining: 148ms\n",
      "92:\tlearn: 2100.3451002\ttotal: 1.72s\tremaining: 129ms\n",
      "93:\tlearn: 2097.6603623\ttotal: 1.74s\tremaining: 111ms\n",
      "94:\tlearn: 2094.7740173\ttotal: 1.75s\tremaining: 92.4ms\n",
      "95:\tlearn: 2093.2159076\ttotal: 1.77s\tremaining: 73.9ms\n",
      "96:\tlearn: 2090.4232955\ttotal: 1.79s\tremaining: 55.4ms\n",
      "97:\tlearn: 2088.4362580\ttotal: 1.81s\tremaining: 37ms\n",
      "98:\tlearn: 2086.2010847\ttotal: 1.83s\tremaining: 18.5ms\n",
      "99:\tlearn: 2082.7933040\ttotal: 1.85s\tremaining: 0us\n",
      "0:\tlearn: 4450.8709571\ttotal: 18.8ms\tremaining: 1.86s\n",
      "1:\tlearn: 4316.7858756\ttotal: 37.2ms\tremaining: 1.82s\n",
      "2:\tlearn: 4189.4555669\ttotal: 55.6ms\tremaining: 1.8s\n",
      "3:\tlearn: 4073.1912556\ttotal: 74.9ms\tremaining: 1.8s\n",
      "4:\tlearn: 3965.0760551\ttotal: 93.8ms\tremaining: 1.78s\n",
      "5:\tlearn: 3854.3701092\ttotal: 113ms\tremaining: 1.77s\n",
      "6:\tlearn: 3752.1543938\ttotal: 132ms\tremaining: 1.75s\n",
      "7:\tlearn: 3662.2362523\ttotal: 151ms\tremaining: 1.74s\n",
      "8:\tlearn: 3571.8552245\ttotal: 169ms\tremaining: 1.71s\n",
      "9:\tlearn: 3488.3235557\ttotal: 189ms\tremaining: 1.7s\n",
      "10:\tlearn: 3410.4699985\ttotal: 209ms\tremaining: 1.69s\n",
      "11:\tlearn: 3336.8265278\ttotal: 228ms\tremaining: 1.67s\n",
      "12:\tlearn: 3271.3759241\ttotal: 246ms\tremaining: 1.64s\n",
      "13:\tlearn: 3207.2477133\ttotal: 264ms\tremaining: 1.62s\n",
      "14:\tlearn: 3148.6948230\ttotal: 281ms\tremaining: 1.59s\n",
      "15:\tlearn: 3093.9674829\ttotal: 299ms\tremaining: 1.57s\n",
      "16:\tlearn: 3041.6927575\ttotal: 319ms\tremaining: 1.56s\n",
      "17:\tlearn: 2991.5908867\ttotal: 338ms\tremaining: 1.54s\n",
      "18:\tlearn: 2943.8130098\ttotal: 355ms\tremaining: 1.51s\n",
      "19:\tlearn: 2899.0707264\ttotal: 373ms\tremaining: 1.49s\n",
      "20:\tlearn: 2858.9728676\ttotal: 391ms\tremaining: 1.47s\n",
      "21:\tlearn: 2820.2654669\ttotal: 409ms\tremaining: 1.45s\n",
      "22:\tlearn: 2785.2887248\ttotal: 427ms\tremaining: 1.43s\n",
      "23:\tlearn: 2751.0230306\ttotal: 446ms\tremaining: 1.41s\n",
      "24:\tlearn: 2720.1908165\ttotal: 464ms\tremaining: 1.39s\n",
      "25:\tlearn: 2691.0909995\ttotal: 482ms\tremaining: 1.37s\n",
      "26:\tlearn: 2662.7372675\ttotal: 500ms\tremaining: 1.35s\n",
      "27:\tlearn: 2636.2387634\ttotal: 518ms\tremaining: 1.33s\n",
      "28:\tlearn: 2610.3520038\ttotal: 535ms\tremaining: 1.31s\n",
      "29:\tlearn: 2586.2111687\ttotal: 553ms\tremaining: 1.29s\n",
      "30:\tlearn: 2565.4222255\ttotal: 570ms\tremaining: 1.27s\n",
      "31:\tlearn: 2544.3828262\ttotal: 588ms\tremaining: 1.25s\n",
      "32:\tlearn: 2524.4154481\ttotal: 608ms\tremaining: 1.24s\n",
      "33:\tlearn: 2504.9644258\ttotal: 627ms\tremaining: 1.22s\n",
      "34:\tlearn: 2487.1328544\ttotal: 645ms\tremaining: 1.2s\n",
      "35:\tlearn: 2471.6889504\ttotal: 663ms\tremaining: 1.18s\n",
      "36:\tlearn: 2454.1643139\ttotal: 681ms\tremaining: 1.16s\n",
      "37:\tlearn: 2438.6721577\ttotal: 699ms\tremaining: 1.14s\n",
      "38:\tlearn: 2424.8938151\ttotal: 717ms\tremaining: 1.12s\n",
      "39:\tlearn: 2412.0397223\ttotal: 735ms\tremaining: 1.1s\n",
      "40:\tlearn: 2398.6054276\ttotal: 752ms\tremaining: 1.08s\n",
      "41:\tlearn: 2385.4945361\ttotal: 771ms\tremaining: 1.06s\n",
      "42:\tlearn: 2373.4307145\ttotal: 788ms\tremaining: 1.04s\n",
      "43:\tlearn: 2361.5211398\ttotal: 805ms\tremaining: 1.02s\n",
      "44:\tlearn: 2351.5699845\ttotal: 822ms\tremaining: 1s\n",
      "45:\tlearn: 2341.3420961\ttotal: 840ms\tremaining: 987ms\n",
      "46:\tlearn: 2330.9421596\ttotal: 857ms\tremaining: 967ms\n",
      "47:\tlearn: 2321.0763280\ttotal: 876ms\tremaining: 949ms\n",
      "48:\tlearn: 2312.0365324\ttotal: 894ms\tremaining: 931ms\n",
      "49:\tlearn: 2304.0644047\ttotal: 911ms\tremaining: 911ms\n",
      "50:\tlearn: 2295.3967953\ttotal: 929ms\tremaining: 892ms\n",
      "51:\tlearn: 2287.1200445\ttotal: 946ms\tremaining: 874ms\n",
      "52:\tlearn: 2280.3595584\ttotal: 963ms\tremaining: 854ms\n",
      "53:\tlearn: 2271.1466221\ttotal: 981ms\tremaining: 836ms\n",
      "54:\tlearn: 2262.6415564\ttotal: 1000ms\tremaining: 818ms\n",
      "55:\tlearn: 2256.0382116\ttotal: 1.02s\tremaining: 799ms\n",
      "56:\tlearn: 2250.3799616\ttotal: 1.03s\tremaining: 780ms\n",
      "57:\tlearn: 2244.6305354\ttotal: 1.05s\tremaining: 760ms\n",
      "58:\tlearn: 2238.2087447\ttotal: 1.07s\tremaining: 742ms\n",
      "59:\tlearn: 2232.2068258\ttotal: 1.08s\tremaining: 724ms\n",
      "60:\tlearn: 2226.6158950\ttotal: 1.1s\tremaining: 704ms\n",
      "61:\tlearn: 2220.8718935\ttotal: 1.12s\tremaining: 686ms\n",
      "62:\tlearn: 2215.3934381\ttotal: 1.14s\tremaining: 668ms\n",
      "63:\tlearn: 2209.3196733\ttotal: 1.15s\tremaining: 650ms\n",
      "64:\tlearn: 2203.3683206\ttotal: 1.17s\tremaining: 632ms\n",
      "65:\tlearn: 2197.9907495\ttotal: 1.19s\tremaining: 614ms\n",
      "66:\tlearn: 2192.9141792\ttotal: 1.21s\tremaining: 595ms\n",
      "67:\tlearn: 2188.7451594\ttotal: 1.23s\tremaining: 577ms\n",
      "68:\tlearn: 2184.7669093\ttotal: 1.24s\tremaining: 558ms\n",
      "69:\tlearn: 2180.6252454\ttotal: 1.26s\tremaining: 540ms\n",
      "70:\tlearn: 2176.8898700\ttotal: 1.27s\tremaining: 521ms\n",
      "71:\tlearn: 2173.3089534\ttotal: 1.29s\tremaining: 502ms\n",
      "72:\tlearn: 2169.9260508\ttotal: 1.31s\tremaining: 484ms\n",
      "73:\tlearn: 2164.7998185\ttotal: 1.33s\tremaining: 466ms\n",
      "74:\tlearn: 2160.9896357\ttotal: 1.34s\tremaining: 448ms\n",
      "75:\tlearn: 2157.5624765\ttotal: 1.36s\tremaining: 430ms\n",
      "76:\tlearn: 2153.8576298\ttotal: 1.38s\tremaining: 412ms\n",
      "77:\tlearn: 2151.3738082\ttotal: 1.39s\tremaining: 393ms\n",
      "78:\tlearn: 2147.5966829\ttotal: 1.41s\tremaining: 375ms\n",
      "79:\tlearn: 2144.4685395\ttotal: 1.43s\tremaining: 357ms\n",
      "80:\tlearn: 2141.8140272\ttotal: 1.45s\tremaining: 339ms\n",
      "81:\tlearn: 2139.4258977\ttotal: 1.46s\tremaining: 321ms\n",
      "82:\tlearn: 2134.9555080\ttotal: 1.48s\tremaining: 304ms\n",
      "83:\tlearn: 2130.9773822\ttotal: 1.5s\tremaining: 285ms\n",
      "84:\tlearn: 2128.9112362\ttotal: 1.51s\tremaining: 267ms\n",
      "85:\tlearn: 2126.2165799\ttotal: 1.53s\tremaining: 249ms\n",
      "86:\tlearn: 2123.2531547\ttotal: 1.55s\tremaining: 231ms\n",
      "87:\tlearn: 2119.5742376\ttotal: 1.56s\tremaining: 213ms\n",
      "88:\tlearn: 2117.7022772\ttotal: 1.58s\tremaining: 196ms\n",
      "89:\tlearn: 2114.5274635\ttotal: 1.6s\tremaining: 178ms\n",
      "90:\tlearn: 2110.4789178\ttotal: 1.62s\tremaining: 160ms\n",
      "91:\tlearn: 2108.1184759\ttotal: 1.64s\tremaining: 142ms\n",
      "92:\tlearn: 2105.7254212\ttotal: 1.65s\tremaining: 124ms\n",
      "93:\tlearn: 2102.9732061\ttotal: 1.67s\tremaining: 107ms\n",
      "94:\tlearn: 2101.0524445\ttotal: 1.69s\tremaining: 88.8ms\n",
      "95:\tlearn: 2098.9108459\ttotal: 1.7s\tremaining: 71ms\n",
      "96:\tlearn: 2096.5718959\ttotal: 1.72s\tremaining: 53.2ms\n",
      "97:\tlearn: 2094.7048475\ttotal: 1.74s\tremaining: 35.4ms\n",
      "98:\tlearn: 2092.4514057\ttotal: 1.75s\tremaining: 17.7ms\n",
      "99:\tlearn: 2090.9497924\ttotal: 1.77s\tremaining: 0us\n",
      "0:\tlearn: 4448.3941344\ttotal: 21.6ms\tremaining: 2.14s\n",
      "1:\tlearn: 4314.8881603\ttotal: 39.4ms\tremaining: 1.93s\n",
      "2:\tlearn: 4183.1078702\ttotal: 57.8ms\tremaining: 1.87s\n",
      "3:\tlearn: 4064.6438131\ttotal: 75.1ms\tremaining: 1.8s\n",
      "4:\tlearn: 3956.5815660\ttotal: 92.4ms\tremaining: 1.76s\n",
      "5:\tlearn: 3849.0383493\ttotal: 110ms\tremaining: 1.73s\n",
      "6:\tlearn: 3750.8431916\ttotal: 129ms\tremaining: 1.71s\n",
      "7:\tlearn: 3657.7201689\ttotal: 146ms\tremaining: 1.68s\n",
      "8:\tlearn: 3568.7691684\ttotal: 164ms\tremaining: 1.66s\n",
      "9:\tlearn: 3484.4634338\ttotal: 182ms\tremaining: 1.64s\n",
      "10:\tlearn: 3406.9333205\ttotal: 200ms\tremaining: 1.62s\n",
      "11:\tlearn: 3333.3281395\ttotal: 218ms\tremaining: 1.6s\n",
      "12:\tlearn: 3267.8949250\ttotal: 237ms\tremaining: 1.58s\n",
      "13:\tlearn: 3204.9634875\ttotal: 257ms\tremaining: 1.58s\n",
      "14:\tlearn: 3146.7073668\ttotal: 274ms\tremaining: 1.55s\n",
      "15:\tlearn: 3090.6909777\ttotal: 293ms\tremaining: 1.54s\n",
      "16:\tlearn: 3040.5005586\ttotal: 313ms\tremaining: 1.53s\n",
      "17:\tlearn: 2991.1679557\ttotal: 331ms\tremaining: 1.51s\n",
      "18:\tlearn: 2944.6420441\ttotal: 349ms\tremaining: 1.49s\n",
      "19:\tlearn: 2902.0642571\ttotal: 367ms\tremaining: 1.47s\n",
      "20:\tlearn: 2860.1858559\ttotal: 384ms\tremaining: 1.45s\n",
      "21:\tlearn: 2821.7859251\ttotal: 402ms\tremaining: 1.43s\n",
      "22:\tlearn: 2786.5990933\ttotal: 421ms\tremaining: 1.41s\n",
      "23:\tlearn: 2752.0657350\ttotal: 439ms\tremaining: 1.39s\n",
      "24:\tlearn: 2722.5741114\ttotal: 459ms\tremaining: 1.38s\n",
      "25:\tlearn: 2692.9710793\ttotal: 477ms\tremaining: 1.36s\n",
      "26:\tlearn: 2664.5242408\ttotal: 495ms\tremaining: 1.34s\n",
      "27:\tlearn: 2637.2881181\ttotal: 512ms\tremaining: 1.32s\n",
      "28:\tlearn: 2611.4558706\ttotal: 530ms\tremaining: 1.3s\n",
      "29:\tlearn: 2589.4907279\ttotal: 553ms\tremaining: 1.29s\n",
      "30:\tlearn: 2567.7572658\ttotal: 575ms\tremaining: 1.28s\n",
      "31:\tlearn: 2545.9641785\ttotal: 596ms\tremaining: 1.26s\n",
      "32:\tlearn: 2525.7748370\ttotal: 617ms\tremaining: 1.25s\n",
      "33:\tlearn: 2507.5905552\ttotal: 640ms\tremaining: 1.24s\n",
      "34:\tlearn: 2489.8555444\ttotal: 662ms\tremaining: 1.23s\n",
      "35:\tlearn: 2470.9675802\ttotal: 681ms\tremaining: 1.21s\n",
      "36:\tlearn: 2453.6407830\ttotal: 699ms\tremaining: 1.19s\n",
      "37:\tlearn: 2438.0846229\ttotal: 717ms\tremaining: 1.17s\n",
      "38:\tlearn: 2424.6065721\ttotal: 736ms\tremaining: 1.15s\n",
      "39:\tlearn: 2411.5202808\ttotal: 755ms\tremaining: 1.13s\n",
      "40:\tlearn: 2398.3141766\ttotal: 772ms\tremaining: 1.11s\n",
      "41:\tlearn: 2385.6389907\ttotal: 788ms\tremaining: 1.09s\n",
      "42:\tlearn: 2373.8917593\ttotal: 806ms\tremaining: 1.07s\n",
      "43:\tlearn: 2362.0924308\ttotal: 823ms\tremaining: 1.05s\n",
      "44:\tlearn: 2352.1635502\ttotal: 842ms\tremaining: 1.03s\n",
      "45:\tlearn: 2342.3552250\ttotal: 859ms\tremaining: 1.01s\n",
      "46:\tlearn: 2332.1842084\ttotal: 876ms\tremaining: 988ms\n",
      "47:\tlearn: 2323.3141344\ttotal: 893ms\tremaining: 968ms\n",
      "48:\tlearn: 2314.5761465\ttotal: 910ms\tremaining: 947ms\n",
      "49:\tlearn: 2306.8435225\ttotal: 926ms\tremaining: 926ms\n",
      "50:\tlearn: 2298.0316483\ttotal: 943ms\tremaining: 906ms\n",
      "51:\tlearn: 2290.7887379\ttotal: 960ms\tremaining: 886ms\n",
      "52:\tlearn: 2284.3337458\ttotal: 977ms\tremaining: 867ms\n",
      "53:\tlearn: 2277.0192854\ttotal: 994ms\tremaining: 847ms\n",
      "54:\tlearn: 2267.9458566\ttotal: 1.01s\tremaining: 828ms\n",
      "55:\tlearn: 2260.5605601\ttotal: 1.03s\tremaining: 811ms\n",
      "56:\tlearn: 2253.7473281\ttotal: 1.05s\tremaining: 792ms\n",
      "57:\tlearn: 2247.2155205\ttotal: 1.07s\tremaining: 772ms\n",
      "58:\tlearn: 2242.0719577\ttotal: 1.08s\tremaining: 753ms\n",
      "59:\tlearn: 2235.5626053\ttotal: 1.1s\tremaining: 734ms\n",
      "60:\tlearn: 2229.4483884\ttotal: 1.12s\tremaining: 715ms\n",
      "61:\tlearn: 2224.3363426\ttotal: 1.14s\tremaining: 696ms\n",
      "62:\tlearn: 2219.2382404\ttotal: 1.15s\tremaining: 677ms\n",
      "63:\tlearn: 2213.3555591\ttotal: 1.17s\tremaining: 658ms\n",
      "64:\tlearn: 2206.9996095\ttotal: 1.19s\tremaining: 639ms\n",
      "65:\tlearn: 2201.6620547\ttotal: 1.2s\tremaining: 620ms\n",
      "66:\tlearn: 2196.3743895\ttotal: 1.22s\tremaining: 601ms\n",
      "67:\tlearn: 2191.8056757\ttotal: 1.24s\tremaining: 582ms\n",
      "68:\tlearn: 2186.7869867\ttotal: 1.26s\tremaining: 565ms\n",
      "69:\tlearn: 2182.4172095\ttotal: 1.27s\tremaining: 546ms\n",
      "70:\tlearn: 2178.7512778\ttotal: 1.29s\tremaining: 528ms\n",
      "71:\tlearn: 2175.2396908\ttotal: 1.31s\tremaining: 509ms\n",
      "72:\tlearn: 2170.8948364\ttotal: 1.33s\tremaining: 490ms\n",
      "73:\tlearn: 2167.0933894\ttotal: 1.34s\tremaining: 472ms\n",
      "74:\tlearn: 2162.7911767\ttotal: 1.36s\tremaining: 453ms\n",
      "75:\tlearn: 2159.3925911\ttotal: 1.38s\tremaining: 435ms\n",
      "76:\tlearn: 2154.9675105\ttotal: 1.39s\tremaining: 416ms\n",
      "77:\tlearn: 2150.8919854\ttotal: 1.41s\tremaining: 398ms\n",
      "78:\tlearn: 2147.1336841\ttotal: 1.43s\tremaining: 380ms\n",
      "79:\tlearn: 2144.1279740\ttotal: 1.45s\tremaining: 361ms\n",
      "80:\tlearn: 2140.9988218\ttotal: 1.46s\tremaining: 343ms\n",
      "81:\tlearn: 2137.3014800\ttotal: 1.48s\tremaining: 324ms\n",
      "82:\tlearn: 2134.0924315\ttotal: 1.49s\tremaining: 306ms\n",
      "83:\tlearn: 2130.9362768\ttotal: 1.51s\tremaining: 288ms\n",
      "84:\tlearn: 2127.9147861\ttotal: 1.53s\tremaining: 270ms\n",
      "85:\tlearn: 2125.1019858\ttotal: 1.55s\tremaining: 252ms\n",
      "86:\tlearn: 2123.0221230\ttotal: 1.56s\tremaining: 234ms\n",
      "87:\tlearn: 2119.8499844\ttotal: 1.58s\tremaining: 216ms\n",
      "88:\tlearn: 2117.9568920\ttotal: 1.6s\tremaining: 197ms\n",
      "89:\tlearn: 2115.4966346\ttotal: 1.61s\tremaining: 179ms\n",
      "90:\tlearn: 2112.6251092\ttotal: 1.63s\tremaining: 161ms\n",
      "91:\tlearn: 2110.9258291\ttotal: 1.65s\tremaining: 143ms\n",
      "92:\tlearn: 2108.1385787\ttotal: 1.66s\tremaining: 125ms\n",
      "93:\tlearn: 2106.1773178\ttotal: 1.68s\tremaining: 107ms\n",
      "94:\tlearn: 2104.5241155\ttotal: 1.7s\tremaining: 89.3ms\n",
      "95:\tlearn: 2102.2986560\ttotal: 1.71s\tremaining: 71.4ms\n",
      "96:\tlearn: 2100.1929815\ttotal: 1.73s\tremaining: 53.5ms\n",
      "97:\tlearn: 2098.5481739\ttotal: 1.75s\tremaining: 35.6ms\n",
      "98:\tlearn: 2096.7063669\ttotal: 1.76s\tremaining: 17.8ms\n",
      "99:\tlearn: 2094.8707166\ttotal: 1.78s\tremaining: 0us\n",
      "0:\tlearn: 4439.8809408\ttotal: 33.5ms\tremaining: 971ms\n",
      "1:\tlearn: 4291.3613515\ttotal: 67.3ms\tremaining: 942ms\n",
      "2:\tlearn: 4150.5620307\ttotal: 103ms\tremaining: 925ms\n",
      "3:\tlearn: 4019.1042140\ttotal: 141ms\tremaining: 919ms\n",
      "4:\tlearn: 3896.2129917\ttotal: 179ms\tremaining: 895ms\n",
      "5:\tlearn: 3778.5520585\ttotal: 213ms\tremaining: 854ms\n",
      "6:\tlearn: 3669.2982224\ttotal: 248ms\tremaining: 816ms\n",
      "7:\tlearn: 3566.7353661\ttotal: 282ms\tremaining: 775ms\n",
      "8:\tlearn: 3469.2592553\ttotal: 317ms\tremaining: 739ms\n",
      "9:\tlearn: 3378.6252754\ttotal: 350ms\tremaining: 701ms\n",
      "10:\tlearn: 3293.2942317\ttotal: 384ms\tremaining: 663ms\n",
      "11:\tlearn: 3214.1319388\ttotal: 418ms\tremaining: 626ms\n",
      "12:\tlearn: 3139.3871277\ttotal: 451ms\tremaining: 590ms\n",
      "13:\tlearn: 3069.8271149\ttotal: 488ms\tremaining: 557ms\n",
      "14:\tlearn: 3005.6815690\ttotal: 523ms\tremaining: 523ms\n",
      "15:\tlearn: 2942.8180439\ttotal: 557ms\tremaining: 487ms\n",
      "16:\tlearn: 2885.3430729\ttotal: 590ms\tremaining: 452ms\n",
      "17:\tlearn: 2831.0168910\ttotal: 624ms\tremaining: 416ms\n",
      "18:\tlearn: 2781.5141211\ttotal: 658ms\tremaining: 381ms\n",
      "19:\tlearn: 2734.9189660\ttotal: 693ms\tremaining: 347ms\n",
      "20:\tlearn: 2692.0708105\ttotal: 728ms\tremaining: 312ms\n",
      "21:\tlearn: 2652.1031352\ttotal: 762ms\tremaining: 277ms\n",
      "22:\tlearn: 2612.7559249\ttotal: 798ms\tremaining: 243ms\n",
      "23:\tlearn: 2574.6146165\ttotal: 832ms\tremaining: 208ms\n",
      "24:\tlearn: 2541.5037267\ttotal: 866ms\tremaining: 173ms\n",
      "25:\tlearn: 2509.3661323\ttotal: 901ms\tremaining: 139ms\n",
      "26:\tlearn: 2479.0530534\ttotal: 934ms\tremaining: 104ms\n",
      "27:\tlearn: 2451.5457529\ttotal: 968ms\tremaining: 69.2ms\n",
      "28:\tlearn: 2424.5070817\ttotal: 1s\tremaining: 34.6ms\n",
      "29:\tlearn: 2399.6384935\ttotal: 1.04s\tremaining: 0us\n",
      "0:\tlearn: 4428.5679716\ttotal: 33.8ms\tremaining: 981ms\n",
      "1:\tlearn: 4280.4630018\ttotal: 67.8ms\tremaining: 949ms\n",
      "2:\tlearn: 4140.7183793\ttotal: 102ms\tremaining: 916ms\n",
      "3:\tlearn: 4011.0941420\ttotal: 136ms\tremaining: 885ms\n",
      "4:\tlearn: 3886.9070769\ttotal: 169ms\tremaining: 847ms\n",
      "5:\tlearn: 3771.8650334\ttotal: 203ms\tremaining: 813ms\n",
      "6:\tlearn: 3662.2284419\ttotal: 238ms\tremaining: 781ms\n",
      "7:\tlearn: 3559.3988391\ttotal: 271ms\tremaining: 745ms\n",
      "8:\tlearn: 3462.0529711\ttotal: 307ms\tremaining: 716ms\n",
      "9:\tlearn: 3371.2717352\ttotal: 341ms\tremaining: 682ms\n",
      "10:\tlearn: 3288.8102469\ttotal: 375ms\tremaining: 647ms\n",
      "11:\tlearn: 3209.2544089\ttotal: 409ms\tremaining: 614ms\n",
      "12:\tlearn: 3132.9118403\ttotal: 444ms\tremaining: 580ms\n",
      "13:\tlearn: 3063.3347747\ttotal: 478ms\tremaining: 546ms\n",
      "14:\tlearn: 2999.4199035\ttotal: 514ms\tremaining: 514ms\n",
      "15:\tlearn: 2937.5287279\ttotal: 549ms\tremaining: 480ms\n",
      "16:\tlearn: 2880.1019987\ttotal: 583ms\tremaining: 446ms\n",
      "17:\tlearn: 2826.7380347\ttotal: 618ms\tremaining: 412ms\n",
      "18:\tlearn: 2777.9378953\ttotal: 653ms\tremaining: 378ms\n",
      "19:\tlearn: 2730.2455533\ttotal: 689ms\tremaining: 344ms\n",
      "20:\tlearn: 2686.9202359\ttotal: 723ms\tremaining: 310ms\n",
      "21:\tlearn: 2645.8217486\ttotal: 756ms\tremaining: 275ms\n",
      "22:\tlearn: 2608.1457752\ttotal: 791ms\tremaining: 241ms\n",
      "23:\tlearn: 2571.6855863\ttotal: 825ms\tremaining: 206ms\n",
      "24:\tlearn: 2538.0967985\ttotal: 859ms\tremaining: 172ms\n",
      "25:\tlearn: 2506.3535844\ttotal: 895ms\tremaining: 138ms\n",
      "26:\tlearn: 2476.7986704\ttotal: 930ms\tremaining: 103ms\n",
      "27:\tlearn: 2448.5171579\ttotal: 966ms\tremaining: 69ms\n",
      "28:\tlearn: 2423.0274073\ttotal: 1s\tremaining: 34.5ms\n",
      "29:\tlearn: 2398.8852787\ttotal: 1.03s\tremaining: 0us\n",
      "0:\tlearn: 4423.3948587\ttotal: 33.5ms\tremaining: 972ms\n",
      "1:\tlearn: 4275.5350134\ttotal: 67.3ms\tremaining: 942ms\n",
      "2:\tlearn: 4136.3573667\ttotal: 100ms\tremaining: 900ms\n",
      "3:\tlearn: 4007.4717281\ttotal: 134ms\tremaining: 872ms\n",
      "4:\tlearn: 3884.8008655\ttotal: 171ms\tremaining: 856ms\n",
      "5:\tlearn: 3769.9138932\ttotal: 205ms\tremaining: 819ms\n",
      "6:\tlearn: 3662.4535094\ttotal: 240ms\tremaining: 787ms\n",
      "7:\tlearn: 3559.8724277\ttotal: 273ms\tremaining: 752ms\n",
      "8:\tlearn: 3461.7612622\ttotal: 307ms\tremaining: 715ms\n",
      "9:\tlearn: 3370.6287064\ttotal: 340ms\tremaining: 680ms\n",
      "10:\tlearn: 3287.9557848\ttotal: 374ms\tremaining: 647ms\n",
      "11:\tlearn: 3208.1307670\ttotal: 409ms\tremaining: 613ms\n",
      "12:\tlearn: 3133.2643396\ttotal: 444ms\tremaining: 580ms\n",
      "13:\tlearn: 3061.2059949\ttotal: 478ms\tremaining: 546ms\n",
      "14:\tlearn: 2998.0180300\ttotal: 511ms\tremaining: 511ms\n",
      "15:\tlearn: 2935.5188634\ttotal: 547ms\tremaining: 479ms\n",
      "16:\tlearn: 2878.1255174\ttotal: 581ms\tremaining: 444ms\n",
      "17:\tlearn: 2824.6128880\ttotal: 616ms\tremaining: 411ms\n",
      "18:\tlearn: 2772.4561884\ttotal: 652ms\tremaining: 377ms\n",
      "19:\tlearn: 2724.8150494\ttotal: 686ms\tremaining: 343ms\n",
      "20:\tlearn: 2682.0079184\ttotal: 722ms\tremaining: 310ms\n",
      "21:\tlearn: 2641.4846427\ttotal: 757ms\tremaining: 275ms\n",
      "22:\tlearn: 2601.8591603\ttotal: 791ms\tremaining: 241ms\n",
      "23:\tlearn: 2564.9516139\ttotal: 824ms\tremaining: 206ms\n",
      "24:\tlearn: 2532.1574744\ttotal: 859ms\tremaining: 172ms\n",
      "25:\tlearn: 2501.3959624\ttotal: 895ms\tremaining: 138ms\n",
      "26:\tlearn: 2471.3522487\ttotal: 933ms\tremaining: 104ms\n",
      "27:\tlearn: 2443.5521227\ttotal: 967ms\tremaining: 69.1ms\n",
      "28:\tlearn: 2416.1462556\ttotal: 1s\tremaining: 34.5ms\n",
      "29:\tlearn: 2391.9506803\ttotal: 1.03s\tremaining: 0us\n",
      "0:\tlearn: 4439.2858006\ttotal: 37.2ms\tremaining: 1.08s\n",
      "1:\tlearn: 4290.9163889\ttotal: 81ms\tremaining: 1.13s\n",
      "2:\tlearn: 4151.5021983\ttotal: 115ms\tremaining: 1.03s\n",
      "3:\tlearn: 4021.0354088\ttotal: 150ms\tremaining: 972ms\n",
      "4:\tlearn: 3897.0475391\ttotal: 183ms\tremaining: 917ms\n",
      "5:\tlearn: 3780.2679452\ttotal: 216ms\tremaining: 866ms\n",
      "6:\tlearn: 3671.0819118\ttotal: 250ms\tremaining: 820ms\n",
      "7:\tlearn: 3569.8683871\ttotal: 287ms\tremaining: 789ms\n",
      "8:\tlearn: 3471.9321685\ttotal: 322ms\tremaining: 751ms\n",
      "9:\tlearn: 3381.0973280\ttotal: 355ms\tremaining: 711ms\n",
      "10:\tlearn: 3298.2055079\ttotal: 389ms\tremaining: 671ms\n",
      "11:\tlearn: 3219.5177964\ttotal: 423ms\tremaining: 634ms\n",
      "12:\tlearn: 3144.4491545\ttotal: 457ms\tremaining: 598ms\n",
      "13:\tlearn: 3073.4972729\ttotal: 490ms\tremaining: 560ms\n",
      "14:\tlearn: 3006.0097223\ttotal: 524ms\tremaining: 524ms\n",
      "15:\tlearn: 2943.9630813\ttotal: 558ms\tremaining: 489ms\n",
      "16:\tlearn: 2884.9945390\ttotal: 592ms\tremaining: 453ms\n",
      "17:\tlearn: 2830.5118463\ttotal: 625ms\tremaining: 417ms\n",
      "18:\tlearn: 2778.5348590\ttotal: 659ms\tremaining: 382ms\n",
      "19:\tlearn: 2731.3245171\ttotal: 692ms\tremaining: 346ms\n",
      "20:\tlearn: 2685.9527608\ttotal: 729ms\tremaining: 312ms\n",
      "21:\tlearn: 2644.4654810\ttotal: 765ms\tremaining: 278ms\n",
      "22:\tlearn: 2604.9203179\ttotal: 799ms\tremaining: 243ms\n",
      "23:\tlearn: 2568.2560239\ttotal: 833ms\tremaining: 208ms\n",
      "24:\tlearn: 2534.8907299\ttotal: 867ms\tremaining: 173ms\n",
      "25:\tlearn: 2504.1507377\ttotal: 901ms\tremaining: 139ms\n",
      "26:\tlearn: 2476.0108880\ttotal: 935ms\tremaining: 104ms\n",
      "27:\tlearn: 2450.3280300\ttotal: 971ms\tremaining: 69.3ms\n",
      "28:\tlearn: 2423.7490556\ttotal: 1s\tremaining: 34.6ms\n",
      "29:\tlearn: 2400.0187856\ttotal: 1.04s\tremaining: 0us\n",
      "0:\tlearn: 4430.8004330\ttotal: 34.2ms\tremaining: 992ms\n",
      "1:\tlearn: 4284.5693203\ttotal: 70.8ms\tremaining: 991ms\n",
      "2:\tlearn: 4143.8482493\ttotal: 106ms\tremaining: 956ms\n",
      "3:\tlearn: 4014.0236807\ttotal: 143ms\tremaining: 927ms\n",
      "4:\tlearn: 3890.9447334\ttotal: 177ms\tremaining: 883ms\n",
      "5:\tlearn: 3774.3836525\ttotal: 211ms\tremaining: 843ms\n",
      "6:\tlearn: 3664.7419050\ttotal: 245ms\tremaining: 804ms\n",
      "7:\tlearn: 3563.2883834\ttotal: 279ms\tremaining: 768ms\n",
      "8:\tlearn: 3465.6521650\ttotal: 313ms\tremaining: 731ms\n",
      "9:\tlearn: 3375.6321565\ttotal: 348ms\tremaining: 696ms\n",
      "10:\tlearn: 3293.3880521\ttotal: 382ms\tremaining: 660ms\n",
      "11:\tlearn: 3215.2127307\ttotal: 422ms\tremaining: 633ms\n",
      "12:\tlearn: 3141.8749194\ttotal: 459ms\tremaining: 600ms\n",
      "13:\tlearn: 3072.5122883\ttotal: 493ms\tremaining: 564ms\n",
      "14:\tlearn: 3005.9927248\ttotal: 529ms\tremaining: 529ms\n",
      "15:\tlearn: 2943.4020001\ttotal: 563ms\tremaining: 493ms\n",
      "16:\tlearn: 2885.7855955\ttotal: 597ms\tremaining: 456ms\n",
      "17:\tlearn: 2831.8119166\ttotal: 630ms\tremaining: 420ms\n",
      "18:\tlearn: 2782.2295210\ttotal: 665ms\tremaining: 385ms\n",
      "19:\tlearn: 2734.9438033\ttotal: 699ms\tremaining: 349ms\n",
      "20:\tlearn: 2688.8030839\ttotal: 733ms\tremaining: 314ms\n",
      "21:\tlearn: 2647.0059965\ttotal: 768ms\tremaining: 279ms\n",
      "22:\tlearn: 2608.2542680\ttotal: 802ms\tremaining: 244ms\n",
      "23:\tlearn: 2571.1846966\ttotal: 836ms\tremaining: 209ms\n",
      "24:\tlearn: 2536.1922681\ttotal: 870ms\tremaining: 174ms\n",
      "25:\tlearn: 2505.6491312\ttotal: 906ms\tremaining: 139ms\n",
      "26:\tlearn: 2476.5601115\ttotal: 940ms\tremaining: 104ms\n",
      "27:\tlearn: 2450.8900384\ttotal: 973ms\tremaining: 69.5ms\n",
      "28:\tlearn: 2423.3821696\ttotal: 1.01s\tremaining: 34.7ms\n",
      "29:\tlearn: 2398.7716579\ttotal: 1.04s\tremaining: 0us\n",
      "0:\tlearn: 4444.2182118\ttotal: 25.3ms\tremaining: 733ms\n",
      "1:\tlearn: 4303.0450294\ttotal: 51.8ms\tremaining: 725ms\n",
      "2:\tlearn: 4169.2799758\ttotal: 73.5ms\tremaining: 662ms\n",
      "3:\tlearn: 4043.6914672\ttotal: 95.3ms\tremaining: 620ms\n",
      "4:\tlearn: 3926.0513156\ttotal: 117ms\tremaining: 587ms\n",
      "5:\tlearn: 3816.0225809\ttotal: 139ms\tremaining: 557ms\n",
      "6:\tlearn: 3710.6279265\ttotal: 161ms\tremaining: 528ms\n",
      "7:\tlearn: 3610.2152618\ttotal: 182ms\tremaining: 501ms\n",
      "8:\tlearn: 3514.9900012\ttotal: 204ms\tremaining: 477ms\n",
      "9:\tlearn: 3429.6189717\ttotal: 226ms\tremaining: 452ms\n",
      "10:\tlearn: 3346.5518680\ttotal: 248ms\tremaining: 428ms\n",
      "11:\tlearn: 3269.4625242\ttotal: 271ms\tremaining: 407ms\n",
      "12:\tlearn: 3198.4899815\ttotal: 293ms\tremaining: 384ms\n",
      "13:\tlearn: 3131.7821799\ttotal: 314ms\tremaining: 359ms\n",
      "14:\tlearn: 3068.5921402\ttotal: 336ms\tremaining: 336ms\n",
      "15:\tlearn: 3011.6121373\ttotal: 357ms\tremaining: 313ms\n",
      "16:\tlearn: 2956.7467698\ttotal: 379ms\tremaining: 290ms\n",
      "17:\tlearn: 2905.1418902\ttotal: 400ms\tremaining: 267ms\n",
      "18:\tlearn: 2855.9387167\ttotal: 422ms\tremaining: 244ms\n",
      "19:\tlearn: 2810.4163961\ttotal: 443ms\tremaining: 222ms\n",
      "20:\tlearn: 2765.4433026\ttotal: 465ms\tremaining: 199ms\n",
      "21:\tlearn: 2724.0166591\ttotal: 487ms\tremaining: 177ms\n",
      "22:\tlearn: 2688.1566907\ttotal: 508ms\tremaining: 155ms\n",
      "23:\tlearn: 2652.7489764\ttotal: 530ms\tremaining: 132ms\n",
      "24:\tlearn: 2619.0078798\ttotal: 551ms\tremaining: 110ms\n",
      "25:\tlearn: 2588.3610537\ttotal: 575ms\tremaining: 88.4ms\n",
      "26:\tlearn: 2560.4705167\ttotal: 597ms\tremaining: 66.3ms\n",
      "27:\tlearn: 2530.7069971\ttotal: 619ms\tremaining: 44.2ms\n",
      "28:\tlearn: 2503.7084401\ttotal: 649ms\tremaining: 22.4ms\n",
      "29:\tlearn: 2480.9891939\ttotal: 675ms\tremaining: 0us\n",
      "0:\tlearn: 4435.0383772\ttotal: 22.4ms\tremaining: 648ms\n",
      "1:\tlearn: 4294.9110644\ttotal: 45.4ms\tremaining: 635ms\n",
      "2:\tlearn: 4160.1205132\ttotal: 67.3ms\tremaining: 606ms\n",
      "3:\tlearn: 4033.2330653\ttotal: 89.8ms\tremaining: 584ms\n",
      "4:\tlearn: 3916.2111106\ttotal: 113ms\tremaining: 563ms\n",
      "5:\tlearn: 3803.6227811\ttotal: 135ms\tremaining: 539ms\n",
      "6:\tlearn: 3699.9011961\ttotal: 157ms\tremaining: 514ms\n",
      "7:\tlearn: 3599.9113700\ttotal: 178ms\tremaining: 489ms\n",
      "8:\tlearn: 3506.9420255\ttotal: 199ms\tremaining: 465ms\n",
      "9:\tlearn: 3421.5431721\ttotal: 221ms\tremaining: 442ms\n",
      "10:\tlearn: 3340.1053582\ttotal: 243ms\tremaining: 420ms\n",
      "11:\tlearn: 3266.5087654\ttotal: 266ms\tremaining: 398ms\n",
      "12:\tlearn: 3192.9411201\ttotal: 288ms\tremaining: 376ms\n",
      "13:\tlearn: 3124.8322197\ttotal: 310ms\tremaining: 354ms\n",
      "14:\tlearn: 3061.9824129\ttotal: 333ms\tremaining: 333ms\n",
      "15:\tlearn: 3005.1476336\ttotal: 355ms\tremaining: 311ms\n",
      "16:\tlearn: 2947.3616019\ttotal: 377ms\tremaining: 288ms\n",
      "17:\tlearn: 2897.1608738\ttotal: 399ms\tremaining: 266ms\n",
      "18:\tlearn: 2850.8028228\ttotal: 421ms\tremaining: 244ms\n",
      "19:\tlearn: 2803.3875001\ttotal: 443ms\tremaining: 222ms\n",
      "20:\tlearn: 2759.2305160\ttotal: 465ms\tremaining: 199ms\n",
      "21:\tlearn: 2721.0010485\ttotal: 489ms\tremaining: 178ms\n",
      "22:\tlearn: 2683.7304312\ttotal: 511ms\tremaining: 155ms\n",
      "23:\tlearn: 2648.4709666\ttotal: 532ms\tremaining: 133ms\n",
      "24:\tlearn: 2615.9970785\ttotal: 552ms\tremaining: 110ms\n",
      "25:\tlearn: 2582.5161765\ttotal: 574ms\tremaining: 88.3ms\n",
      "26:\tlearn: 2555.2989397\ttotal: 596ms\tremaining: 66.2ms\n",
      "27:\tlearn: 2526.1845578\ttotal: 617ms\tremaining: 44.1ms\n",
      "28:\tlearn: 2501.7349902\ttotal: 640ms\tremaining: 22.1ms\n",
      "29:\tlearn: 2476.9410112\ttotal: 661ms\tremaining: 0us\n",
      "0:\tlearn: 4430.3832471\ttotal: 22.3ms\tremaining: 647ms\n",
      "1:\tlearn: 4289.1010755\ttotal: 45ms\tremaining: 631ms\n",
      "2:\tlearn: 4154.3379112\ttotal: 67.2ms\tremaining: 605ms\n",
      "3:\tlearn: 4029.9834456\ttotal: 89.4ms\tremaining: 581ms\n",
      "4:\tlearn: 3912.9792487\ttotal: 113ms\tremaining: 565ms\n",
      "5:\tlearn: 3800.4784764\ttotal: 135ms\tremaining: 539ms\n",
      "6:\tlearn: 3697.1962868\ttotal: 161ms\tremaining: 528ms\n",
      "7:\tlearn: 3599.2202132\ttotal: 183ms\tremaining: 503ms\n",
      "8:\tlearn: 3506.2216091\ttotal: 207ms\tremaining: 482ms\n",
      "9:\tlearn: 3421.0076368\ttotal: 231ms\tremaining: 462ms\n",
      "10:\tlearn: 3338.5226405\ttotal: 258ms\tremaining: 446ms\n",
      "11:\tlearn: 3261.3061110\ttotal: 281ms\tremaining: 422ms\n",
      "12:\tlearn: 3188.7206481\ttotal: 305ms\tremaining: 399ms\n",
      "13:\tlearn: 3121.0790170\ttotal: 331ms\tremaining: 378ms\n",
      "14:\tlearn: 3058.3794473\ttotal: 353ms\tremaining: 353ms\n",
      "15:\tlearn: 2999.6960571\ttotal: 375ms\tremaining: 328ms\n",
      "16:\tlearn: 2945.4207952\ttotal: 397ms\tremaining: 304ms\n",
      "17:\tlearn: 2893.3358037\ttotal: 422ms\tremaining: 281ms\n",
      "18:\tlearn: 2842.6928968\ttotal: 443ms\tremaining: 256ms\n",
      "19:\tlearn: 2797.8851203\ttotal: 464ms\tremaining: 232ms\n",
      "20:\tlearn: 2754.0245282\ttotal: 486ms\tremaining: 208ms\n",
      "21:\tlearn: 2714.7988201\ttotal: 507ms\tremaining: 184ms\n",
      "22:\tlearn: 2677.9340738\ttotal: 528ms\tremaining: 161ms\n",
      "23:\tlearn: 2643.6026038\ttotal: 550ms\tremaining: 138ms\n",
      "24:\tlearn: 2608.8421930\ttotal: 571ms\tremaining: 114ms\n",
      "25:\tlearn: 2576.0959672\ttotal: 593ms\tremaining: 91.2ms\n",
      "26:\tlearn: 2548.7308079\ttotal: 614ms\tremaining: 68.2ms\n",
      "27:\tlearn: 2520.6242661\ttotal: 638ms\tremaining: 45.6ms\n",
      "28:\tlearn: 2493.8338309\ttotal: 659ms\tremaining: 22.7ms\n",
      "29:\tlearn: 2471.0289311\ttotal: 680ms\tremaining: 0us\n",
      "0:\tlearn: 4445.1994760\ttotal: 21.6ms\tremaining: 627ms\n",
      "1:\tlearn: 4302.1990121\ttotal: 43.1ms\tremaining: 604ms\n",
      "2:\tlearn: 4167.8603797\ttotal: 65.2ms\tremaining: 587ms\n",
      "3:\tlearn: 4042.8468553\ttotal: 87.1ms\tremaining: 566ms\n",
      "4:\tlearn: 3922.4006290\ttotal: 109ms\tremaining: 543ms\n",
      "5:\tlearn: 3811.7029794\ttotal: 130ms\tremaining: 520ms\n",
      "6:\tlearn: 3708.1320434\ttotal: 152ms\tremaining: 498ms\n",
      "7:\tlearn: 3609.3063675\ttotal: 173ms\tremaining: 476ms\n",
      "8:\tlearn: 3516.6952729\ttotal: 195ms\tremaining: 456ms\n",
      "9:\tlearn: 3430.6305920\ttotal: 216ms\tremaining: 433ms\n",
      "10:\tlearn: 3346.5044571\ttotal: 238ms\tremaining: 411ms\n",
      "11:\tlearn: 3268.9593866\ttotal: 259ms\tremaining: 389ms\n",
      "12:\tlearn: 3197.2671701\ttotal: 281ms\tremaining: 368ms\n",
      "13:\tlearn: 3129.3729919\ttotal: 303ms\tremaining: 346ms\n",
      "14:\tlearn: 3067.7561926\ttotal: 327ms\tremaining: 327ms\n",
      "15:\tlearn: 3007.7181115\ttotal: 348ms\tremaining: 305ms\n",
      "16:\tlearn: 2952.4097004\ttotal: 370ms\tremaining: 283ms\n",
      "17:\tlearn: 2900.4273237\ttotal: 392ms\tremaining: 261ms\n",
      "18:\tlearn: 2850.3892199\ttotal: 413ms\tremaining: 239ms\n",
      "19:\tlearn: 2803.6418624\ttotal: 435ms\tremaining: 217ms\n",
      "20:\tlearn: 2762.2258756\ttotal: 456ms\tremaining: 195ms\n",
      "21:\tlearn: 2722.7846460\ttotal: 478ms\tremaining: 174ms\n",
      "22:\tlearn: 2685.6615920\ttotal: 499ms\tremaining: 152ms\n",
      "23:\tlearn: 2650.3096435\ttotal: 521ms\tremaining: 130ms\n",
      "24:\tlearn: 2617.8419183\ttotal: 544ms\tremaining: 109ms\n",
      "25:\tlearn: 2586.5082262\ttotal: 566ms\tremaining: 87ms\n",
      "26:\tlearn: 2558.5216374\ttotal: 587ms\tremaining: 65.2ms\n",
      "27:\tlearn: 2531.8426419\ttotal: 608ms\tremaining: 43.4ms\n",
      "28:\tlearn: 2506.0568492\ttotal: 629ms\tremaining: 21.7ms\n",
      "29:\tlearn: 2482.9329029\ttotal: 651ms\tremaining: 0us\n",
      "0:\tlearn: 4437.2519876\ttotal: 22.1ms\tremaining: 640ms\n",
      "1:\tlearn: 4294.5819949\ttotal: 43.6ms\tremaining: 610ms\n",
      "2:\tlearn: 4160.7446348\ttotal: 64.7ms\tremaining: 583ms\n",
      "3:\tlearn: 4035.6041036\ttotal: 86.4ms\tremaining: 562ms\n",
      "4:\tlearn: 3916.3083900\ttotal: 108ms\tremaining: 542ms\n",
      "5:\tlearn: 3805.9274857\ttotal: 130ms\tremaining: 519ms\n",
      "6:\tlearn: 3702.1443000\ttotal: 153ms\tremaining: 501ms\n",
      "7:\tlearn: 3600.3141061\ttotal: 174ms\tremaining: 479ms\n",
      "8:\tlearn: 3506.2221749\ttotal: 195ms\tremaining: 455ms\n",
      "9:\tlearn: 3419.3630892\ttotal: 217ms\tremaining: 434ms\n",
      "10:\tlearn: 3336.4557316\ttotal: 244ms\tremaining: 422ms\n",
      "11:\tlearn: 3259.1909725\ttotal: 266ms\tremaining: 399ms\n",
      "12:\tlearn: 3189.7477840\ttotal: 287ms\tremaining: 375ms\n",
      "13:\tlearn: 3122.4102500\ttotal: 308ms\tremaining: 353ms\n",
      "14:\tlearn: 3061.2480445\ttotal: 332ms\tremaining: 332ms\n",
      "15:\tlearn: 3003.4725306\ttotal: 354ms\tremaining: 309ms\n",
      "16:\tlearn: 2948.4213350\ttotal: 375ms\tremaining: 287ms\n",
      "17:\tlearn: 2896.8364991\ttotal: 396ms\tremaining: 264ms\n",
      "18:\tlearn: 2848.2865118\ttotal: 421ms\tremaining: 244ms\n",
      "19:\tlearn: 2804.6537276\ttotal: 443ms\tremaining: 221ms\n",
      "20:\tlearn: 2760.9590258\ttotal: 464ms\tremaining: 199ms\n",
      "21:\tlearn: 2721.3299979\ttotal: 486ms\tremaining: 177ms\n",
      "22:\tlearn: 2684.5227860\ttotal: 507ms\tremaining: 154ms\n",
      "23:\tlearn: 2649.4118010\ttotal: 528ms\tremaining: 132ms\n",
      "24:\tlearn: 2616.2810334\ttotal: 550ms\tremaining: 110ms\n",
      "25:\tlearn: 2586.1191193\ttotal: 570ms\tremaining: 87.8ms\n",
      "26:\tlearn: 2558.4408510\ttotal: 593ms\tremaining: 65.9ms\n",
      "27:\tlearn: 2531.2679703\ttotal: 614ms\tremaining: 43.8ms\n",
      "28:\tlearn: 2505.7679958\ttotal: 634ms\tremaining: 21.9ms\n",
      "29:\tlearn: 2482.2487459\ttotal: 655ms\tremaining: 0us\n",
      "0:\tlearn: 4439.8809408\ttotal: 33.9ms\tremaining: 1.66s\n",
      "1:\tlearn: 4291.3613515\ttotal: 67.9ms\tremaining: 1.63s\n",
      "2:\tlearn: 4150.5620307\ttotal: 101ms\tremaining: 1.58s\n",
      "3:\tlearn: 4019.1042140\ttotal: 135ms\tremaining: 1.55s\n",
      "4:\tlearn: 3896.2129917\ttotal: 171ms\tremaining: 1.53s\n",
      "5:\tlearn: 3778.5520585\ttotal: 205ms\tremaining: 1.5s\n",
      "6:\tlearn: 3669.2982224\ttotal: 240ms\tremaining: 1.48s\n",
      "7:\tlearn: 3566.7353661\ttotal: 274ms\tremaining: 1.44s\n",
      "8:\tlearn: 3469.2592553\ttotal: 308ms\tremaining: 1.4s\n",
      "9:\tlearn: 3378.6252754\ttotal: 342ms\tremaining: 1.37s\n",
      "10:\tlearn: 3293.2942317\ttotal: 375ms\tremaining: 1.33s\n",
      "11:\tlearn: 3214.1319388\ttotal: 409ms\tremaining: 1.29s\n",
      "12:\tlearn: 3139.3871277\ttotal: 443ms\tremaining: 1.26s\n",
      "13:\tlearn: 3069.8271149\ttotal: 477ms\tremaining: 1.23s\n",
      "14:\tlearn: 3005.6815690\ttotal: 511ms\tremaining: 1.19s\n",
      "15:\tlearn: 2942.8180439\ttotal: 547ms\tremaining: 1.16s\n",
      "16:\tlearn: 2885.3430729\ttotal: 581ms\tremaining: 1.13s\n",
      "17:\tlearn: 2831.0168910\ttotal: 615ms\tremaining: 1.09s\n",
      "18:\tlearn: 2781.5141211\ttotal: 648ms\tremaining: 1.06s\n",
      "19:\tlearn: 2734.9189660\ttotal: 682ms\tremaining: 1.02s\n",
      "20:\tlearn: 2692.0708105\ttotal: 718ms\tremaining: 991ms\n",
      "21:\tlearn: 2652.1031352\ttotal: 754ms\tremaining: 959ms\n",
      "22:\tlearn: 2612.7559249\ttotal: 788ms\tremaining: 924ms\n",
      "23:\tlearn: 2574.6146165\ttotal: 822ms\tremaining: 890ms\n",
      "24:\tlearn: 2541.5037267\ttotal: 856ms\tremaining: 856ms\n",
      "25:\tlearn: 2509.3661323\ttotal: 891ms\tremaining: 822ms\n",
      "26:\tlearn: 2479.0530534\ttotal: 924ms\tremaining: 787ms\n",
      "27:\tlearn: 2451.5457529\ttotal: 958ms\tremaining: 753ms\n",
      "28:\tlearn: 2424.5070817\ttotal: 992ms\tremaining: 718ms\n",
      "29:\tlearn: 2399.6384935\ttotal: 1.02s\tremaining: 684ms\n",
      "30:\tlearn: 2376.3901247\ttotal: 1.06s\tremaining: 650ms\n",
      "31:\tlearn: 2353.9182515\ttotal: 1.09s\tremaining: 616ms\n",
      "32:\tlearn: 2332.8538736\ttotal: 1.13s\tremaining: 582ms\n",
      "33:\tlearn: 2313.3818039\ttotal: 1.17s\tremaining: 549ms\n",
      "34:\tlearn: 2295.9918229\ttotal: 1.2s\tremaining: 515ms\n",
      "35:\tlearn: 2277.5778866\ttotal: 1.23s\tremaining: 480ms\n",
      "36:\tlearn: 2261.8316290\ttotal: 1.27s\tremaining: 445ms\n",
      "37:\tlearn: 2248.5193732\ttotal: 1.3s\tremaining: 411ms\n",
      "38:\tlearn: 2234.5073745\ttotal: 1.34s\tremaining: 377ms\n",
      "39:\tlearn: 2219.1969141\ttotal: 1.37s\tremaining: 342ms\n",
      "40:\tlearn: 2206.8950757\ttotal: 1.4s\tremaining: 308ms\n",
      "41:\tlearn: 2195.5396213\ttotal: 1.44s\tremaining: 274ms\n",
      "42:\tlearn: 2185.1073858\ttotal: 1.47s\tremaining: 239ms\n",
      "43:\tlearn: 2174.1846896\ttotal: 1.5s\tremaining: 205ms\n",
      "44:\tlearn: 2160.6442873\ttotal: 1.54s\tremaining: 171ms\n",
      "45:\tlearn: 2150.7624640\ttotal: 1.57s\tremaining: 137ms\n",
      "46:\tlearn: 2140.7759853\ttotal: 1.61s\tremaining: 103ms\n",
      "47:\tlearn: 2132.2005005\ttotal: 1.64s\tremaining: 68.3ms\n",
      "48:\tlearn: 2124.4668178\ttotal: 1.68s\tremaining: 34.2ms\n",
      "49:\tlearn: 2117.0778011\ttotal: 1.71s\tremaining: 0us\n",
      "0:\tlearn: 4428.5679716\ttotal: 38.9ms\tremaining: 1.9s\n",
      "1:\tlearn: 4280.4630018\ttotal: 74.8ms\tremaining: 1.79s\n",
      "2:\tlearn: 4140.7183793\ttotal: 112ms\tremaining: 1.75s\n",
      "3:\tlearn: 4011.0941420\ttotal: 147ms\tremaining: 1.7s\n",
      "4:\tlearn: 3886.9070769\ttotal: 184ms\tremaining: 1.66s\n",
      "5:\tlearn: 3771.8650334\ttotal: 221ms\tremaining: 1.62s\n",
      "6:\tlearn: 3662.2284419\ttotal: 258ms\tremaining: 1.58s\n",
      "7:\tlearn: 3559.3988391\ttotal: 295ms\tremaining: 1.55s\n",
      "8:\tlearn: 3462.0529711\ttotal: 333ms\tremaining: 1.52s\n",
      "9:\tlearn: 3371.2717352\ttotal: 370ms\tremaining: 1.48s\n",
      "10:\tlearn: 3288.8102469\ttotal: 406ms\tremaining: 1.44s\n",
      "11:\tlearn: 3209.2544089\ttotal: 442ms\tremaining: 1.4s\n",
      "12:\tlearn: 3132.9118403\ttotal: 482ms\tremaining: 1.37s\n",
      "13:\tlearn: 3063.3347747\ttotal: 517ms\tremaining: 1.33s\n",
      "14:\tlearn: 2999.4199035\ttotal: 554ms\tremaining: 1.29s\n",
      "15:\tlearn: 2937.5287279\ttotal: 590ms\tremaining: 1.25s\n",
      "16:\tlearn: 2880.1019987\ttotal: 626ms\tremaining: 1.21s\n",
      "17:\tlearn: 2826.7380347\ttotal: 661ms\tremaining: 1.18s\n",
      "18:\tlearn: 2777.9378953\ttotal: 698ms\tremaining: 1.14s\n",
      "19:\tlearn: 2730.2455533\ttotal: 734ms\tremaining: 1.1s\n",
      "20:\tlearn: 2686.9202359\ttotal: 769ms\tremaining: 1.06s\n",
      "21:\tlearn: 2645.8217486\ttotal: 804ms\tremaining: 1.02s\n",
      "22:\tlearn: 2608.1457752\ttotal: 841ms\tremaining: 987ms\n",
      "23:\tlearn: 2571.6855863\ttotal: 875ms\tremaining: 948ms\n",
      "24:\tlearn: 2538.0967985\ttotal: 910ms\tremaining: 910ms\n",
      "25:\tlearn: 2506.3535844\ttotal: 946ms\tremaining: 873ms\n",
      "26:\tlearn: 2476.7986704\ttotal: 981ms\tremaining: 835ms\n",
      "27:\tlearn: 2448.5171579\ttotal: 1.02s\tremaining: 799ms\n",
      "28:\tlearn: 2423.0274073\ttotal: 1.05s\tremaining: 761ms\n",
      "29:\tlearn: 2398.8852787\ttotal: 1.08s\tremaining: 724ms\n",
      "30:\tlearn: 2377.6169003\ttotal: 1.12s\tremaining: 689ms\n",
      "31:\tlearn: 2355.5800685\ttotal: 1.16s\tremaining: 652ms\n",
      "32:\tlearn: 2335.3778420\ttotal: 1.19s\tremaining: 616ms\n",
      "33:\tlearn: 2316.3976931\ttotal: 1.23s\tremaining: 579ms\n",
      "34:\tlearn: 2299.0877363\ttotal: 1.26s\tremaining: 542ms\n",
      "35:\tlearn: 2282.2297963\ttotal: 1.3s\tremaining: 505ms\n",
      "36:\tlearn: 2266.0402645\ttotal: 1.33s\tremaining: 469ms\n",
      "37:\tlearn: 2251.6573983\ttotal: 1.37s\tremaining: 432ms\n",
      "38:\tlearn: 2236.4334833\ttotal: 1.4s\tremaining: 396ms\n",
      "39:\tlearn: 2222.0723510\ttotal: 1.44s\tremaining: 360ms\n",
      "40:\tlearn: 2209.2690652\ttotal: 1.47s\tremaining: 323ms\n",
      "41:\tlearn: 2197.8880921\ttotal: 1.51s\tremaining: 288ms\n",
      "42:\tlearn: 2186.2273497\ttotal: 1.55s\tremaining: 252ms\n",
      "43:\tlearn: 2175.5321834\ttotal: 1.58s\tremaining: 216ms\n",
      "44:\tlearn: 2162.9838976\ttotal: 1.62s\tremaining: 180ms\n",
      "45:\tlearn: 2151.8480142\ttotal: 1.65s\tremaining: 144ms\n",
      "46:\tlearn: 2141.3853906\ttotal: 1.69s\tremaining: 108ms\n",
      "47:\tlearn: 2132.4080449\ttotal: 1.72s\tremaining: 71.8ms\n",
      "48:\tlearn: 2124.8621212\ttotal: 1.76s\tremaining: 35.9ms\n",
      "49:\tlearn: 2115.1507469\ttotal: 1.79s\tremaining: 0us\n",
      "0:\tlearn: 4423.3948587\ttotal: 35ms\tremaining: 1.72s\n",
      "1:\tlearn: 4275.5350134\ttotal: 69.3ms\tremaining: 1.66s\n",
      "2:\tlearn: 4136.3573667\ttotal: 104ms\tremaining: 1.63s\n",
      "3:\tlearn: 4007.4717281\ttotal: 138ms\tremaining: 1.59s\n",
      "4:\tlearn: 3884.8008655\ttotal: 172ms\tremaining: 1.55s\n",
      "5:\tlearn: 3769.9138932\ttotal: 206ms\tremaining: 1.51s\n",
      "6:\tlearn: 3662.4535094\ttotal: 242ms\tremaining: 1.49s\n",
      "7:\tlearn: 3559.8724277\ttotal: 280ms\tremaining: 1.47s\n",
      "8:\tlearn: 3461.7612622\ttotal: 315ms\tremaining: 1.44s\n",
      "9:\tlearn: 3370.6287064\ttotal: 350ms\tremaining: 1.4s\n",
      "10:\tlearn: 3287.9557848\ttotal: 385ms\tremaining: 1.36s\n",
      "11:\tlearn: 3208.1307670\ttotal: 420ms\tremaining: 1.33s\n",
      "12:\tlearn: 3133.2643396\ttotal: 458ms\tremaining: 1.3s\n",
      "13:\tlearn: 3061.2059949\ttotal: 492ms\tremaining: 1.26s\n",
      "14:\tlearn: 2998.0180300\ttotal: 530ms\tremaining: 1.24s\n",
      "15:\tlearn: 2935.5188634\ttotal: 566ms\tremaining: 1.2s\n",
      "16:\tlearn: 2878.1255174\ttotal: 600ms\tremaining: 1.17s\n",
      "17:\tlearn: 2824.6128880\ttotal: 638ms\tremaining: 1.13s\n",
      "18:\tlearn: 2772.4561884\ttotal: 681ms\tremaining: 1.11s\n",
      "19:\tlearn: 2724.8150494\ttotal: 724ms\tremaining: 1.08s\n",
      "20:\tlearn: 2682.0079184\ttotal: 768ms\tremaining: 1.06s\n",
      "21:\tlearn: 2641.4846427\ttotal: 813ms\tremaining: 1.03s\n",
      "22:\tlearn: 2601.8591603\ttotal: 851ms\tremaining: 999ms\n",
      "23:\tlearn: 2564.9516139\ttotal: 887ms\tremaining: 961ms\n",
      "24:\tlearn: 2532.1574744\ttotal: 921ms\tremaining: 921ms\n",
      "25:\tlearn: 2501.3959624\ttotal: 957ms\tremaining: 884ms\n",
      "26:\tlearn: 2471.3522487\ttotal: 991ms\tremaining: 844ms\n",
      "27:\tlearn: 2443.5521227\ttotal: 1.02s\tremaining: 805ms\n",
      "28:\tlearn: 2416.1462556\ttotal: 1.06s\tremaining: 766ms\n",
      "29:\tlearn: 2391.9506803\ttotal: 1.09s\tremaining: 729ms\n",
      "30:\tlearn: 2369.3783036\ttotal: 1.13s\tremaining: 691ms\n",
      "31:\tlearn: 2346.9091072\ttotal: 1.16s\tremaining: 654ms\n",
      "32:\tlearn: 2325.7802129\ttotal: 1.2s\tremaining: 616ms\n",
      "33:\tlearn: 2307.3735782\ttotal: 1.23s\tremaining: 579ms\n",
      "34:\tlearn: 2289.5316028\ttotal: 1.26s\tremaining: 543ms\n",
      "35:\tlearn: 2272.3296448\ttotal: 1.3s\tremaining: 506ms\n",
      "36:\tlearn: 2255.2100320\ttotal: 1.33s\tremaining: 469ms\n",
      "37:\tlearn: 2238.0313732\ttotal: 1.37s\tremaining: 432ms\n",
      "38:\tlearn: 2222.9772594\ttotal: 1.4s\tremaining: 395ms\n",
      "39:\tlearn: 2210.2772224\ttotal: 1.44s\tremaining: 359ms\n",
      "40:\tlearn: 2197.2577544\ttotal: 1.47s\tremaining: 322ms\n",
      "41:\tlearn: 2183.5852005\ttotal: 1.5s\tremaining: 286ms\n",
      "42:\tlearn: 2170.8947239\ttotal: 1.54s\tremaining: 250ms\n",
      "43:\tlearn: 2160.1250552\ttotal: 1.57s\tremaining: 214ms\n",
      "44:\tlearn: 2150.4708435\ttotal: 1.6s\tremaining: 178ms\n",
      "45:\tlearn: 2141.2259210\ttotal: 1.64s\tremaining: 142ms\n",
      "46:\tlearn: 2132.5159539\ttotal: 1.67s\tremaining: 107ms\n",
      "47:\tlearn: 2123.5718261\ttotal: 1.71s\tremaining: 71.1ms\n",
      "48:\tlearn: 2115.8893688\ttotal: 1.74s\tremaining: 35.5ms\n",
      "49:\tlearn: 2106.9410725\ttotal: 1.77s\tremaining: 0us\n",
      "0:\tlearn: 4439.2858006\ttotal: 33.7ms\tremaining: 1.65s\n",
      "1:\tlearn: 4290.9163889\ttotal: 66.9ms\tremaining: 1.6s\n",
      "2:\tlearn: 4151.5021983\ttotal: 100ms\tremaining: 1.57s\n",
      "3:\tlearn: 4021.0354088\ttotal: 135ms\tremaining: 1.55s\n",
      "4:\tlearn: 3897.0475391\ttotal: 169ms\tremaining: 1.52s\n",
      "5:\tlearn: 3780.2679452\ttotal: 203ms\tremaining: 1.49s\n",
      "6:\tlearn: 3671.0819118\ttotal: 238ms\tremaining: 1.46s\n",
      "7:\tlearn: 3569.8683871\ttotal: 276ms\tremaining: 1.45s\n",
      "8:\tlearn: 3471.9321685\ttotal: 313ms\tremaining: 1.43s\n",
      "9:\tlearn: 3381.0973280\ttotal: 349ms\tremaining: 1.4s\n",
      "10:\tlearn: 3298.2055079\ttotal: 385ms\tremaining: 1.36s\n",
      "11:\tlearn: 3219.5177964\ttotal: 423ms\tremaining: 1.34s\n",
      "12:\tlearn: 3144.4491545\ttotal: 460ms\tremaining: 1.31s\n",
      "13:\tlearn: 3073.4972729\ttotal: 494ms\tremaining: 1.27s\n",
      "14:\tlearn: 3006.0097223\ttotal: 531ms\tremaining: 1.24s\n",
      "15:\tlearn: 2943.9630813\ttotal: 566ms\tremaining: 1.2s\n",
      "16:\tlearn: 2884.9945390\ttotal: 603ms\tremaining: 1.17s\n",
      "17:\tlearn: 2830.5118463\ttotal: 642ms\tremaining: 1.14s\n",
      "18:\tlearn: 2778.5348590\ttotal: 676ms\tremaining: 1.1s\n",
      "19:\tlearn: 2731.3245171\ttotal: 709ms\tremaining: 1.06s\n",
      "20:\tlearn: 2685.9527608\ttotal: 742ms\tremaining: 1.02s\n",
      "21:\tlearn: 2644.4654810\ttotal: 778ms\tremaining: 990ms\n",
      "22:\tlearn: 2604.9203179\ttotal: 812ms\tremaining: 953ms\n",
      "23:\tlearn: 2568.2560239\ttotal: 846ms\tremaining: 917ms\n",
      "24:\tlearn: 2534.8907299\ttotal: 880ms\tremaining: 880ms\n",
      "25:\tlearn: 2504.1507377\ttotal: 914ms\tremaining: 844ms\n",
      "26:\tlearn: 2476.0108880\ttotal: 950ms\tremaining: 809ms\n",
      "27:\tlearn: 2450.3280300\ttotal: 982ms\tremaining: 772ms\n",
      "28:\tlearn: 2423.7490556\ttotal: 1.02s\tremaining: 736ms\n",
      "29:\tlearn: 2400.0187856\ttotal: 1.05s\tremaining: 701ms\n",
      "30:\tlearn: 2376.4004050\ttotal: 1.08s\tremaining: 665ms\n",
      "31:\tlearn: 2353.8705828\ttotal: 1.12s\tremaining: 630ms\n",
      "32:\tlearn: 2334.7708052\ttotal: 1.15s\tremaining: 595ms\n",
      "33:\tlearn: 2315.8484094\ttotal: 1.19s\tremaining: 559ms\n",
      "34:\tlearn: 2298.7719513\ttotal: 1.22s\tremaining: 524ms\n",
      "35:\tlearn: 2281.6110906\ttotal: 1.26s\tremaining: 489ms\n",
      "36:\tlearn: 2265.4310443\ttotal: 1.29s\tremaining: 453ms\n",
      "37:\tlearn: 2248.2870746\ttotal: 1.32s\tremaining: 419ms\n",
      "38:\tlearn: 2234.0839636\ttotal: 1.36s\tremaining: 383ms\n",
      "39:\tlearn: 2220.4965710\ttotal: 1.39s\tremaining: 348ms\n",
      "40:\tlearn: 2208.0223267\ttotal: 1.43s\tremaining: 314ms\n",
      "41:\tlearn: 2194.8567140\ttotal: 1.46s\tremaining: 279ms\n",
      "42:\tlearn: 2183.8457193\ttotal: 1.5s\tremaining: 244ms\n",
      "43:\tlearn: 2172.4577833\ttotal: 1.53s\tremaining: 209ms\n",
      "44:\tlearn: 2161.5185490\ttotal: 1.56s\tremaining: 174ms\n",
      "45:\tlearn: 2150.5045957\ttotal: 1.6s\tremaining: 139ms\n",
      "46:\tlearn: 2140.5373901\ttotal: 1.64s\tremaining: 104ms\n",
      "47:\tlearn: 2131.5142966\ttotal: 1.67s\tremaining: 69.5ms\n",
      "48:\tlearn: 2124.0087691\ttotal: 1.7s\tremaining: 34.7ms\n",
      "49:\tlearn: 2115.7218724\ttotal: 1.74s\tremaining: 0us\n",
      "0:\tlearn: 4430.8004330\ttotal: 33.2ms\tremaining: 1.63s\n",
      "1:\tlearn: 4284.5693203\ttotal: 67.4ms\tremaining: 1.62s\n",
      "2:\tlearn: 4143.8482493\ttotal: 101ms\tremaining: 1.57s\n",
      "3:\tlearn: 4014.0236807\ttotal: 134ms\tremaining: 1.54s\n",
      "4:\tlearn: 3890.9447334\ttotal: 168ms\tremaining: 1.51s\n",
      "5:\tlearn: 3774.3836525\ttotal: 201ms\tremaining: 1.47s\n",
      "6:\tlearn: 3664.7419050\ttotal: 234ms\tremaining: 1.44s\n",
      "7:\tlearn: 3563.2883834\ttotal: 268ms\tremaining: 1.4s\n",
      "8:\tlearn: 3465.6521650\ttotal: 303ms\tremaining: 1.38s\n",
      "9:\tlearn: 3375.6321565\ttotal: 336ms\tremaining: 1.34s\n",
      "10:\tlearn: 3293.3880521\ttotal: 370ms\tremaining: 1.31s\n",
      "11:\tlearn: 3215.2127307\ttotal: 409ms\tremaining: 1.29s\n",
      "12:\tlearn: 3141.8749194\ttotal: 443ms\tremaining: 1.26s\n",
      "13:\tlearn: 3072.5122883\ttotal: 476ms\tremaining: 1.22s\n",
      "14:\tlearn: 3005.9927248\ttotal: 512ms\tremaining: 1.19s\n",
      "15:\tlearn: 2943.4020001\ttotal: 545ms\tremaining: 1.16s\n",
      "16:\tlearn: 2885.7855955\ttotal: 579ms\tremaining: 1.12s\n",
      "17:\tlearn: 2831.8119166\ttotal: 612ms\tremaining: 1.09s\n",
      "18:\tlearn: 2782.2295210\ttotal: 648ms\tremaining: 1.06s\n",
      "19:\tlearn: 2734.9438033\ttotal: 680ms\tremaining: 1.02s\n",
      "20:\tlearn: 2688.8030839\ttotal: 713ms\tremaining: 984ms\n",
      "21:\tlearn: 2647.0059965\ttotal: 746ms\tremaining: 949ms\n",
      "22:\tlearn: 2608.2542680\ttotal: 778ms\tremaining: 914ms\n",
      "23:\tlearn: 2571.1846966\ttotal: 811ms\tremaining: 879ms\n",
      "24:\tlearn: 2536.1922681\ttotal: 844ms\tremaining: 844ms\n",
      "25:\tlearn: 2505.6491312\ttotal: 877ms\tremaining: 810ms\n",
      "26:\tlearn: 2476.5601115\ttotal: 912ms\tremaining: 777ms\n",
      "27:\tlearn: 2450.8900384\ttotal: 945ms\tremaining: 743ms\n",
      "28:\tlearn: 2423.3821696\ttotal: 979ms\tremaining: 709ms\n",
      "29:\tlearn: 2398.7716579\ttotal: 1.01s\tremaining: 674ms\n",
      "30:\tlearn: 2376.5491523\ttotal: 1.04s\tremaining: 641ms\n",
      "31:\tlearn: 2353.3855584\ttotal: 1.08s\tremaining: 607ms\n",
      "32:\tlearn: 2333.3735886\ttotal: 1.11s\tremaining: 573ms\n",
      "33:\tlearn: 2313.5206101\ttotal: 1.15s\tremaining: 539ms\n",
      "34:\tlearn: 2296.5064726\ttotal: 1.18s\tremaining: 506ms\n",
      "35:\tlearn: 2280.7135709\ttotal: 1.21s\tremaining: 472ms\n",
      "36:\tlearn: 2265.7468388\ttotal: 1.25s\tremaining: 438ms\n",
      "37:\tlearn: 2251.4602014\ttotal: 1.28s\tremaining: 404ms\n",
      "38:\tlearn: 2236.9271224\ttotal: 1.31s\tremaining: 370ms\n",
      "39:\tlearn: 2221.9994520\ttotal: 1.35s\tremaining: 337ms\n",
      "40:\tlearn: 2210.3347648\ttotal: 1.38s\tremaining: 303ms\n",
      "41:\tlearn: 2199.4634548\ttotal: 1.42s\tremaining: 270ms\n",
      "42:\tlearn: 2186.6506485\ttotal: 1.45s\tremaining: 236ms\n",
      "43:\tlearn: 2176.9882240\ttotal: 1.48s\tremaining: 202ms\n",
      "44:\tlearn: 2165.0020610\ttotal: 1.52s\tremaining: 169ms\n",
      "45:\tlearn: 2154.4109664\ttotal: 1.55s\tremaining: 135ms\n",
      "46:\tlearn: 2144.7019035\ttotal: 1.59s\tremaining: 101ms\n",
      "47:\tlearn: 2136.4894264\ttotal: 1.62s\tremaining: 67.5ms\n",
      "48:\tlearn: 2129.2633905\ttotal: 1.65s\tremaining: 33.7ms\n",
      "49:\tlearn: 2120.2425125\ttotal: 1.69s\tremaining: 0us\n",
      "0:\tlearn: 4439.8809408\ttotal: 33.8ms\tremaining: 3.34s\n",
      "1:\tlearn: 4291.3613515\ttotal: 68.3ms\tremaining: 3.35s\n",
      "2:\tlearn: 4150.5620307\ttotal: 102ms\tremaining: 3.29s\n",
      "3:\tlearn: 4019.1042140\ttotal: 136ms\tremaining: 3.26s\n",
      "4:\tlearn: 3896.2129917\ttotal: 169ms\tremaining: 3.21s\n",
      "5:\tlearn: 3778.5520585\ttotal: 203ms\tremaining: 3.18s\n",
      "6:\tlearn: 3669.2982224\ttotal: 239ms\tremaining: 3.17s\n",
      "7:\tlearn: 3566.7353661\ttotal: 277ms\tremaining: 3.18s\n",
      "8:\tlearn: 3469.2592553\ttotal: 310ms\tremaining: 3.14s\n",
      "9:\tlearn: 3378.6252754\ttotal: 347ms\tremaining: 3.12s\n",
      "10:\tlearn: 3293.2942317\ttotal: 380ms\tremaining: 3.08s\n",
      "11:\tlearn: 3214.1319388\ttotal: 414ms\tremaining: 3.04s\n",
      "12:\tlearn: 3139.3871277\ttotal: 448ms\tremaining: 3s\n",
      "13:\tlearn: 3069.8271149\ttotal: 482ms\tremaining: 2.96s\n",
      "14:\tlearn: 3005.6815690\ttotal: 520ms\tremaining: 2.94s\n",
      "15:\tlearn: 2942.8180439\ttotal: 556ms\tremaining: 2.92s\n",
      "16:\tlearn: 2885.3430729\ttotal: 591ms\tremaining: 2.88s\n",
      "17:\tlearn: 2831.0168910\ttotal: 626ms\tremaining: 2.85s\n",
      "18:\tlearn: 2781.5141211\ttotal: 662ms\tremaining: 2.82s\n",
      "19:\tlearn: 2734.9189660\ttotal: 697ms\tremaining: 2.79s\n",
      "20:\tlearn: 2692.0708105\ttotal: 731ms\tremaining: 2.75s\n",
      "21:\tlearn: 2652.1031352\ttotal: 765ms\tremaining: 2.71s\n",
      "22:\tlearn: 2612.7559249\ttotal: 800ms\tremaining: 2.68s\n",
      "23:\tlearn: 2574.6146165\ttotal: 835ms\tremaining: 2.64s\n",
      "24:\tlearn: 2541.5037267\ttotal: 869ms\tremaining: 2.61s\n",
      "25:\tlearn: 2509.3661323\ttotal: 904ms\tremaining: 2.57s\n",
      "26:\tlearn: 2479.0530534\ttotal: 940ms\tremaining: 2.54s\n",
      "27:\tlearn: 2451.5457529\ttotal: 974ms\tremaining: 2.5s\n",
      "28:\tlearn: 2424.5070817\ttotal: 1.01s\tremaining: 2.47s\n",
      "29:\tlearn: 2399.6384935\ttotal: 1.04s\tremaining: 2.43s\n",
      "30:\tlearn: 2376.3901247\ttotal: 1.08s\tremaining: 2.4s\n",
      "31:\tlearn: 2353.9182515\ttotal: 1.11s\tremaining: 2.36s\n",
      "32:\tlearn: 2332.8538736\ttotal: 1.15s\tremaining: 2.33s\n",
      "33:\tlearn: 2313.3818039\ttotal: 1.18s\tremaining: 2.29s\n",
      "34:\tlearn: 2295.9918229\ttotal: 1.22s\tremaining: 2.26s\n",
      "35:\tlearn: 2277.5778866\ttotal: 1.25s\tremaining: 2.22s\n",
      "36:\tlearn: 2261.8316290\ttotal: 1.28s\tremaining: 2.19s\n",
      "37:\tlearn: 2248.5193732\ttotal: 1.32s\tremaining: 2.15s\n",
      "38:\tlearn: 2234.5073745\ttotal: 1.35s\tremaining: 2.12s\n",
      "39:\tlearn: 2219.1969141\ttotal: 1.39s\tremaining: 2.08s\n",
      "40:\tlearn: 2206.8950757\ttotal: 1.42s\tremaining: 2.05s\n",
      "41:\tlearn: 2195.5396213\ttotal: 1.46s\tremaining: 2.01s\n",
      "42:\tlearn: 2185.1073858\ttotal: 1.49s\tremaining: 1.98s\n",
      "43:\tlearn: 2174.1846896\ttotal: 1.53s\tremaining: 1.95s\n",
      "44:\tlearn: 2160.6442873\ttotal: 1.56s\tremaining: 1.91s\n",
      "45:\tlearn: 2150.7624640\ttotal: 1.6s\tremaining: 1.87s\n",
      "46:\tlearn: 2140.7759853\ttotal: 1.63s\tremaining: 1.84s\n",
      "47:\tlearn: 2132.2005005\ttotal: 1.66s\tremaining: 1.8s\n",
      "48:\tlearn: 2124.4668178\ttotal: 1.7s\tremaining: 1.77s\n",
      "49:\tlearn: 2117.0778011\ttotal: 1.73s\tremaining: 1.73s\n",
      "50:\tlearn: 2110.0087484\ttotal: 1.77s\tremaining: 1.7s\n",
      "51:\tlearn: 2101.4287070\ttotal: 1.8s\tremaining: 1.66s\n",
      "52:\tlearn: 2093.9553677\ttotal: 1.83s\tremaining: 1.63s\n",
      "53:\tlearn: 2088.2590934\ttotal: 1.87s\tremaining: 1.59s\n",
      "54:\tlearn: 2081.5161832\ttotal: 1.91s\tremaining: 1.56s\n",
      "55:\tlearn: 2074.0684829\ttotal: 1.94s\tremaining: 1.53s\n",
      "56:\tlearn: 2068.1387031\ttotal: 1.98s\tremaining: 1.49s\n",
      "57:\tlearn: 2061.8860951\ttotal: 2.01s\tremaining: 1.46s\n",
      "58:\tlearn: 2056.3328373\ttotal: 2.05s\tremaining: 1.42s\n",
      "59:\tlearn: 2051.5166439\ttotal: 2.08s\tremaining: 1.39s\n",
      "60:\tlearn: 2046.5107487\ttotal: 2.12s\tremaining: 1.35s\n",
      "61:\tlearn: 2041.0432895\ttotal: 2.15s\tremaining: 1.32s\n",
      "62:\tlearn: 2036.7949472\ttotal: 2.18s\tremaining: 1.28s\n",
      "63:\tlearn: 2032.5956207\ttotal: 2.22s\tremaining: 1.25s\n",
      "64:\tlearn: 2027.8995133\ttotal: 2.26s\tremaining: 1.22s\n",
      "65:\tlearn: 2023.4435423\ttotal: 2.3s\tremaining: 1.18s\n",
      "66:\tlearn: 2019.7492530\ttotal: 2.33s\tremaining: 1.15s\n",
      "67:\tlearn: 2016.3077011\ttotal: 2.37s\tremaining: 1.11s\n",
      "68:\tlearn: 2011.9230487\ttotal: 2.4s\tremaining: 1.08s\n",
      "69:\tlearn: 2008.1413679\ttotal: 2.44s\tremaining: 1.04s\n",
      "70:\tlearn: 2004.5565150\ttotal: 2.47s\tremaining: 1.01s\n",
      "71:\tlearn: 2001.5952815\ttotal: 2.51s\tremaining: 975ms\n",
      "72:\tlearn: 1998.0494293\ttotal: 2.54s\tremaining: 940ms\n",
      "73:\tlearn: 1994.4317479\ttotal: 2.57s\tremaining: 905ms\n",
      "74:\tlearn: 1991.6323714\ttotal: 2.61s\tremaining: 870ms\n",
      "75:\tlearn: 1988.6392300\ttotal: 2.65s\tremaining: 835ms\n",
      "76:\tlearn: 1985.5321911\ttotal: 2.68s\tremaining: 801ms\n",
      "77:\tlearn: 1983.3308070\ttotal: 2.71s\tremaining: 766ms\n",
      "78:\tlearn: 1981.0803708\ttotal: 2.75s\tremaining: 731ms\n",
      "79:\tlearn: 1978.1917937\ttotal: 2.79s\tremaining: 697ms\n",
      "80:\tlearn: 1975.7313631\ttotal: 2.82s\tremaining: 662ms\n",
      "81:\tlearn: 1973.6346409\ttotal: 2.85s\tremaining: 627ms\n",
      "82:\tlearn: 1970.8216558\ttotal: 2.89s\tremaining: 592ms\n",
      "83:\tlearn: 1968.3509691\ttotal: 2.92s\tremaining: 557ms\n",
      "84:\tlearn: 1966.2298769\ttotal: 2.96s\tremaining: 523ms\n",
      "85:\tlearn: 1964.6594917\ttotal: 3s\tremaining: 488ms\n",
      "86:\tlearn: 1963.0292445\ttotal: 3.03s\tremaining: 453ms\n",
      "87:\tlearn: 1960.7575788\ttotal: 3.07s\tremaining: 418ms\n",
      "88:\tlearn: 1959.3338827\ttotal: 3.1s\tremaining: 383ms\n",
      "89:\tlearn: 1957.6541327\ttotal: 3.14s\tremaining: 349ms\n",
      "90:\tlearn: 1955.7261586\ttotal: 3.17s\tremaining: 314ms\n",
      "91:\tlearn: 1953.0322908\ttotal: 3.21s\tremaining: 279ms\n",
      "92:\tlearn: 1951.1616714\ttotal: 3.25s\tremaining: 244ms\n",
      "93:\tlearn: 1948.3306156\ttotal: 3.28s\tremaining: 210ms\n",
      "94:\tlearn: 1947.1647195\ttotal: 3.32s\tremaining: 175ms\n",
      "95:\tlearn: 1945.2108157\ttotal: 3.35s\tremaining: 140ms\n",
      "96:\tlearn: 1943.4911788\ttotal: 3.39s\tremaining: 105ms\n",
      "97:\tlearn: 1941.5449768\ttotal: 3.42s\tremaining: 69.9ms\n",
      "98:\tlearn: 1940.2673705\ttotal: 3.46s\tremaining: 34.9ms\n",
      "99:\tlearn: 1938.6870215\ttotal: 3.5s\tremaining: 0us\n",
      "0:\tlearn: 4428.5679716\ttotal: 40.7ms\tremaining: 4.03s\n",
      "1:\tlearn: 4280.4630018\ttotal: 83.2ms\tremaining: 4.08s\n",
      "2:\tlearn: 4140.7183793\ttotal: 125ms\tremaining: 4.06s\n",
      "3:\tlearn: 4011.0941420\ttotal: 167ms\tremaining: 4.01s\n",
      "4:\tlearn: 3886.9070769\ttotal: 202ms\tremaining: 3.83s\n",
      "5:\tlearn: 3771.8650334\ttotal: 248ms\tremaining: 3.88s\n",
      "6:\tlearn: 3662.2284419\ttotal: 283ms\tremaining: 3.75s\n",
      "7:\tlearn: 3559.3988391\ttotal: 317ms\tremaining: 3.65s\n",
      "8:\tlearn: 3462.0529711\ttotal: 353ms\tremaining: 3.56s\n",
      "9:\tlearn: 3371.2717352\ttotal: 387ms\tremaining: 3.48s\n",
      "10:\tlearn: 3288.8102469\ttotal: 421ms\tremaining: 3.41s\n",
      "11:\tlearn: 3209.2544089\ttotal: 455ms\tremaining: 3.34s\n",
      "12:\tlearn: 3132.9118403\ttotal: 489ms\tremaining: 3.27s\n",
      "13:\tlearn: 3063.3347747\ttotal: 526ms\tremaining: 3.23s\n",
      "14:\tlearn: 2999.4199035\ttotal: 560ms\tremaining: 3.17s\n",
      "15:\tlearn: 2937.5287279\ttotal: 594ms\tremaining: 3.12s\n",
      "16:\tlearn: 2880.1019987\ttotal: 629ms\tremaining: 3.07s\n",
      "17:\tlearn: 2826.7380347\ttotal: 664ms\tremaining: 3.02s\n",
      "18:\tlearn: 2777.9378953\ttotal: 698ms\tremaining: 2.98s\n",
      "19:\tlearn: 2730.2455533\ttotal: 735ms\tremaining: 2.94s\n",
      "20:\tlearn: 2686.9202359\ttotal: 770ms\tremaining: 2.9s\n",
      "21:\tlearn: 2645.8217486\ttotal: 805ms\tremaining: 2.85s\n",
      "22:\tlearn: 2608.1457752\ttotal: 840ms\tremaining: 2.81s\n",
      "23:\tlearn: 2571.6855863\ttotal: 874ms\tremaining: 2.77s\n",
      "24:\tlearn: 2538.0967985\ttotal: 910ms\tremaining: 2.73s\n",
      "25:\tlearn: 2506.3535844\ttotal: 944ms\tremaining: 2.69s\n",
      "26:\tlearn: 2476.7986704\ttotal: 978ms\tremaining: 2.64s\n",
      "27:\tlearn: 2448.5171579\ttotal: 1.01s\tremaining: 2.6s\n",
      "28:\tlearn: 2423.0274073\ttotal: 1.05s\tremaining: 2.56s\n",
      "29:\tlearn: 2398.8852787\ttotal: 1.08s\tremaining: 2.52s\n",
      "30:\tlearn: 2377.6169003\ttotal: 1.11s\tremaining: 2.48s\n",
      "31:\tlearn: 2355.5800685\ttotal: 1.15s\tremaining: 2.44s\n",
      "32:\tlearn: 2335.3778420\ttotal: 1.18s\tremaining: 2.4s\n",
      "33:\tlearn: 2316.3976931\ttotal: 1.22s\tremaining: 2.37s\n",
      "34:\tlearn: 2299.0877363\ttotal: 1.25s\tremaining: 2.33s\n",
      "35:\tlearn: 2282.2297963\ttotal: 1.29s\tremaining: 2.29s\n",
      "36:\tlearn: 2266.0402645\ttotal: 1.32s\tremaining: 2.25s\n",
      "37:\tlearn: 2251.6573983\ttotal: 1.36s\tremaining: 2.21s\n",
      "38:\tlearn: 2236.4334833\ttotal: 1.39s\tremaining: 2.18s\n",
      "39:\tlearn: 2222.0723510\ttotal: 1.43s\tremaining: 2.14s\n",
      "40:\tlearn: 2209.2690652\ttotal: 1.46s\tremaining: 2.1s\n",
      "41:\tlearn: 2197.8880921\ttotal: 1.5s\tremaining: 2.07s\n",
      "42:\tlearn: 2186.2273497\ttotal: 1.54s\tremaining: 2.04s\n",
      "43:\tlearn: 2175.5321834\ttotal: 1.58s\tremaining: 2.01s\n",
      "44:\tlearn: 2162.9838976\ttotal: 1.61s\tremaining: 1.97s\n",
      "45:\tlearn: 2151.8480142\ttotal: 1.65s\tremaining: 1.93s\n",
      "46:\tlearn: 2141.3853906\ttotal: 1.68s\tremaining: 1.9s\n",
      "47:\tlearn: 2132.4080449\ttotal: 1.72s\tremaining: 1.86s\n",
      "48:\tlearn: 2124.8621212\ttotal: 1.75s\tremaining: 1.82s\n",
      "49:\tlearn: 2115.1507469\ttotal: 1.78s\tremaining: 1.78s\n",
      "50:\tlearn: 2105.7495371\ttotal: 1.82s\tremaining: 1.75s\n",
      "51:\tlearn: 2099.8452716\ttotal: 1.86s\tremaining: 1.72s\n",
      "52:\tlearn: 2093.1140998\ttotal: 1.9s\tremaining: 1.68s\n",
      "53:\tlearn: 2085.9529790\ttotal: 1.93s\tremaining: 1.65s\n",
      "54:\tlearn: 2079.5455540\ttotal: 1.97s\tremaining: 1.61s\n",
      "55:\tlearn: 2072.5826828\ttotal: 2s\tremaining: 1.57s\n",
      "56:\tlearn: 2067.0895380\ttotal: 2.04s\tremaining: 1.54s\n",
      "57:\tlearn: 2062.3367800\ttotal: 2.08s\tremaining: 1.5s\n",
      "58:\tlearn: 2056.7057739\ttotal: 2.11s\tremaining: 1.47s\n",
      "59:\tlearn: 2052.2239406\ttotal: 2.15s\tremaining: 1.43s\n",
      "60:\tlearn: 2047.0221186\ttotal: 2.19s\tremaining: 1.4s\n",
      "61:\tlearn: 2041.7479873\ttotal: 2.23s\tremaining: 1.36s\n",
      "62:\tlearn: 2037.3145659\ttotal: 2.26s\tremaining: 1.33s\n",
      "63:\tlearn: 2032.4363923\ttotal: 2.29s\tremaining: 1.29s\n",
      "64:\tlearn: 2028.3907654\ttotal: 2.33s\tremaining: 1.26s\n",
      "65:\tlearn: 2022.1520558\ttotal: 2.37s\tremaining: 1.22s\n",
      "66:\tlearn: 2018.6078460\ttotal: 2.4s\tremaining: 1.18s\n",
      "67:\tlearn: 2013.8819748\ttotal: 2.44s\tremaining: 1.15s\n",
      "68:\tlearn: 2010.8280986\ttotal: 2.47s\tremaining: 1.11s\n",
      "69:\tlearn: 2007.7229563\ttotal: 2.51s\tremaining: 1.07s\n",
      "70:\tlearn: 2003.8824627\ttotal: 2.54s\tremaining: 1.04s\n",
      "71:\tlearn: 2001.0752056\ttotal: 2.58s\tremaining: 1s\n",
      "72:\tlearn: 1996.7246497\ttotal: 2.61s\tremaining: 967ms\n",
      "73:\tlearn: 1993.0746020\ttotal: 2.65s\tremaining: 930ms\n",
      "74:\tlearn: 1989.1859727\ttotal: 2.68s\tremaining: 894ms\n",
      "75:\tlearn: 1985.8100020\ttotal: 2.72s\tremaining: 858ms\n",
      "76:\tlearn: 1983.4469228\ttotal: 2.75s\tremaining: 822ms\n",
      "77:\tlearn: 1980.1752713\ttotal: 2.79s\tremaining: 786ms\n",
      "78:\tlearn: 1976.6567090\ttotal: 2.82s\tremaining: 750ms\n",
      "79:\tlearn: 1973.8292134\ttotal: 2.86s\tremaining: 714ms\n",
      "80:\tlearn: 1970.6547817\ttotal: 2.89s\tremaining: 678ms\n",
      "81:\tlearn: 1968.6981073\ttotal: 2.92s\tremaining: 642ms\n",
      "82:\tlearn: 1966.0755553\ttotal: 2.96s\tremaining: 607ms\n",
      "83:\tlearn: 1964.1824837\ttotal: 3s\tremaining: 571ms\n",
      "84:\tlearn: 1962.3889280\ttotal: 3.03s\tremaining: 535ms\n",
      "85:\tlearn: 1960.7132830\ttotal: 3.07s\tremaining: 500ms\n",
      "86:\tlearn: 1958.8302824\ttotal: 3.1s\tremaining: 464ms\n",
      "87:\tlearn: 1957.0257583\ttotal: 3.14s\tremaining: 428ms\n",
      "88:\tlearn: 1954.7363660\ttotal: 3.18s\tremaining: 393ms\n",
      "89:\tlearn: 1953.1447552\ttotal: 3.21s\tremaining: 357ms\n",
      "90:\tlearn: 1951.4551364\ttotal: 3.25s\tremaining: 321ms\n",
      "91:\tlearn: 1949.5600603\ttotal: 3.28s\tremaining: 286ms\n",
      "92:\tlearn: 1947.6397830\ttotal: 3.32s\tremaining: 250ms\n",
      "93:\tlearn: 1945.0967416\ttotal: 3.36s\tremaining: 214ms\n",
      "94:\tlearn: 1943.6609218\ttotal: 3.39s\tremaining: 179ms\n",
      "95:\tlearn: 1940.5080560\ttotal: 3.43s\tremaining: 143ms\n",
      "96:\tlearn: 1939.2654687\ttotal: 3.46s\tremaining: 107ms\n",
      "97:\tlearn: 1937.4849738\ttotal: 3.5s\tremaining: 71.4ms\n",
      "98:\tlearn: 1935.4266690\ttotal: 3.53s\tremaining: 35.7ms\n",
      "99:\tlearn: 1933.5050906\ttotal: 3.57s\tremaining: 0us\n",
      "0:\tlearn: 4423.3948587\ttotal: 34ms\tremaining: 3.37s\n",
      "1:\tlearn: 4275.5350134\ttotal: 68.5ms\tremaining: 3.36s\n",
      "2:\tlearn: 4136.3573667\ttotal: 103ms\tremaining: 3.32s\n",
      "3:\tlearn: 4007.4717281\ttotal: 140ms\tremaining: 3.37s\n",
      "4:\tlearn: 3884.8008655\ttotal: 175ms\tremaining: 3.33s\n",
      "5:\tlearn: 3769.9138932\ttotal: 210ms\tremaining: 3.28s\n",
      "6:\tlearn: 3662.4535094\ttotal: 245ms\tremaining: 3.25s\n",
      "7:\tlearn: 3559.8724277\ttotal: 278ms\tremaining: 3.2s\n",
      "8:\tlearn: 3461.7612622\ttotal: 313ms\tremaining: 3.16s\n",
      "9:\tlearn: 3370.6287064\ttotal: 348ms\tremaining: 3.13s\n",
      "10:\tlearn: 3287.9557848\ttotal: 381ms\tremaining: 3.09s\n",
      "11:\tlearn: 3208.1307670\ttotal: 415ms\tremaining: 3.04s\n",
      "12:\tlearn: 3133.2643396\ttotal: 449ms\tremaining: 3s\n",
      "13:\tlearn: 3061.2059949\ttotal: 483ms\tremaining: 2.96s\n",
      "14:\tlearn: 2998.0180300\ttotal: 516ms\tremaining: 2.93s\n",
      "15:\tlearn: 2935.5188634\ttotal: 551ms\tremaining: 2.89s\n",
      "16:\tlearn: 2878.1255174\ttotal: 585ms\tremaining: 2.85s\n",
      "17:\tlearn: 2824.6128880\ttotal: 619ms\tremaining: 2.82s\n",
      "18:\tlearn: 2772.4561884\ttotal: 654ms\tremaining: 2.79s\n",
      "19:\tlearn: 2724.8150494\ttotal: 688ms\tremaining: 2.75s\n",
      "20:\tlearn: 2682.0079184\ttotal: 724ms\tremaining: 2.72s\n",
      "21:\tlearn: 2641.4846427\ttotal: 758ms\tremaining: 2.69s\n",
      "22:\tlearn: 2601.8591603\ttotal: 792ms\tremaining: 2.65s\n",
      "23:\tlearn: 2564.9516139\ttotal: 827ms\tremaining: 2.62s\n",
      "24:\tlearn: 2532.1574744\ttotal: 861ms\tremaining: 2.58s\n",
      "25:\tlearn: 2501.3959624\ttotal: 895ms\tremaining: 2.55s\n",
      "26:\tlearn: 2471.3522487\ttotal: 932ms\tremaining: 2.52s\n",
      "27:\tlearn: 2443.5521227\ttotal: 965ms\tremaining: 2.48s\n",
      "28:\tlearn: 2416.1462556\ttotal: 999ms\tremaining: 2.44s\n",
      "29:\tlearn: 2391.9506803\ttotal: 1.03s\tremaining: 2.41s\n",
      "30:\tlearn: 2369.3783036\ttotal: 1.07s\tremaining: 2.37s\n",
      "31:\tlearn: 2346.9091072\ttotal: 1.1s\tremaining: 2.34s\n",
      "32:\tlearn: 2325.7802129\ttotal: 1.14s\tremaining: 2.31s\n",
      "33:\tlearn: 2307.3735782\ttotal: 1.17s\tremaining: 2.27s\n",
      "34:\tlearn: 2289.5316028\ttotal: 1.2s\tremaining: 2.23s\n",
      "35:\tlearn: 2272.3296448\ttotal: 1.24s\tremaining: 2.2s\n",
      "36:\tlearn: 2255.2100320\ttotal: 1.27s\tremaining: 2.16s\n",
      "37:\tlearn: 2238.0313732\ttotal: 1.3s\tremaining: 2.13s\n",
      "38:\tlearn: 2222.9772594\ttotal: 1.34s\tremaining: 2.1s\n",
      "39:\tlearn: 2210.2772224\ttotal: 1.38s\tremaining: 2.06s\n",
      "40:\tlearn: 2197.2577544\ttotal: 1.41s\tremaining: 2.03s\n",
      "41:\tlearn: 2183.5852005\ttotal: 1.44s\tremaining: 1.99s\n",
      "42:\tlearn: 2170.8947239\ttotal: 1.48s\tremaining: 1.96s\n",
      "43:\tlearn: 2160.1250552\ttotal: 1.51s\tremaining: 1.93s\n",
      "44:\tlearn: 2150.4708435\ttotal: 1.55s\tremaining: 1.89s\n",
      "45:\tlearn: 2141.2259210\ttotal: 1.58s\tremaining: 1.85s\n",
      "46:\tlearn: 2132.5159539\ttotal: 1.61s\tremaining: 1.82s\n",
      "47:\tlearn: 2123.5718261\ttotal: 1.65s\tremaining: 1.78s\n",
      "48:\tlearn: 2115.8893688\ttotal: 1.68s\tremaining: 1.75s\n",
      "49:\tlearn: 2106.9410725\ttotal: 1.72s\tremaining: 1.72s\n",
      "50:\tlearn: 2100.1260117\ttotal: 1.75s\tremaining: 1.68s\n",
      "51:\tlearn: 2093.7127872\ttotal: 1.78s\tremaining: 1.65s\n",
      "52:\tlearn: 2085.5869379\ttotal: 1.82s\tremaining: 1.61s\n",
      "53:\tlearn: 2079.0161455\ttotal: 1.85s\tremaining: 1.58s\n",
      "54:\tlearn: 2071.9879399\ttotal: 1.89s\tremaining: 1.54s\n",
      "55:\tlearn: 2064.9763129\ttotal: 1.92s\tremaining: 1.51s\n",
      "56:\tlearn: 2057.8381972\ttotal: 1.96s\tremaining: 1.47s\n",
      "57:\tlearn: 2051.6749512\ttotal: 1.99s\tremaining: 1.44s\n",
      "58:\tlearn: 2046.2067110\ttotal: 2.02s\tremaining: 1.41s\n",
      "59:\tlearn: 2041.5581308\ttotal: 2.06s\tremaining: 1.37s\n",
      "60:\tlearn: 2035.2172196\ttotal: 2.09s\tremaining: 1.34s\n",
      "61:\tlearn: 2029.9581935\ttotal: 2.13s\tremaining: 1.3s\n",
      "62:\tlearn: 2025.0229781\ttotal: 2.16s\tremaining: 1.27s\n",
      "63:\tlearn: 2020.2817036\ttotal: 2.19s\tremaining: 1.23s\n",
      "64:\tlearn: 2016.5864869\ttotal: 2.23s\tremaining: 1.2s\n",
      "65:\tlearn: 2011.9254566\ttotal: 2.26s\tremaining: 1.17s\n",
      "66:\tlearn: 2008.8407660\ttotal: 2.3s\tremaining: 1.13s\n",
      "67:\tlearn: 2005.1333048\ttotal: 2.35s\tremaining: 1.1s\n",
      "68:\tlearn: 2002.0874024\ttotal: 2.38s\tremaining: 1.07s\n",
      "69:\tlearn: 1998.3422976\ttotal: 2.42s\tremaining: 1.04s\n",
      "70:\tlearn: 1994.3408692\ttotal: 2.45s\tremaining: 1s\n",
      "71:\tlearn: 1990.9929356\ttotal: 2.49s\tremaining: 968ms\n",
      "72:\tlearn: 1988.5072936\ttotal: 2.52s\tremaining: 933ms\n",
      "73:\tlearn: 1984.6129978\ttotal: 2.56s\tremaining: 898ms\n",
      "74:\tlearn: 1980.9707952\ttotal: 2.59s\tremaining: 864ms\n",
      "75:\tlearn: 1977.8332709\ttotal: 2.63s\tremaining: 830ms\n",
      "76:\tlearn: 1974.4000078\ttotal: 2.66s\tremaining: 795ms\n",
      "77:\tlearn: 1971.4441808\ttotal: 2.7s\tremaining: 761ms\n",
      "78:\tlearn: 1968.9717502\ttotal: 2.73s\tremaining: 726ms\n",
      "79:\tlearn: 1965.8958373\ttotal: 2.77s\tremaining: 692ms\n",
      "80:\tlearn: 1963.3489883\ttotal: 2.8s\tremaining: 658ms\n",
      "81:\tlearn: 1961.2280855\ttotal: 2.84s\tremaining: 623ms\n",
      "82:\tlearn: 1958.6910433\ttotal: 2.87s\tremaining: 589ms\n",
      "83:\tlearn: 1956.7808681\ttotal: 2.91s\tremaining: 554ms\n",
      "84:\tlearn: 1955.1446521\ttotal: 2.94s\tremaining: 520ms\n",
      "85:\tlearn: 1952.9783255\ttotal: 2.98s\tremaining: 486ms\n",
      "86:\tlearn: 1951.5630674\ttotal: 3.02s\tremaining: 451ms\n",
      "87:\tlearn: 1949.5027633\ttotal: 3.05s\tremaining: 416ms\n",
      "88:\tlearn: 1947.1911353\ttotal: 3.09s\tremaining: 382ms\n",
      "89:\tlearn: 1945.6066222\ttotal: 3.12s\tremaining: 347ms\n",
      "90:\tlearn: 1944.0583632\ttotal: 3.16s\tremaining: 312ms\n",
      "91:\tlearn: 1941.8054056\ttotal: 3.19s\tremaining: 278ms\n",
      "92:\tlearn: 1939.8167255\ttotal: 3.23s\tremaining: 243ms\n",
      "93:\tlearn: 1937.7665735\ttotal: 3.26s\tremaining: 208ms\n",
      "94:\tlearn: 1936.6032571\ttotal: 3.3s\tremaining: 174ms\n",
      "95:\tlearn: 1934.8378080\ttotal: 3.34s\tremaining: 139ms\n",
      "96:\tlearn: 1933.5620582\ttotal: 3.38s\tremaining: 104ms\n",
      "97:\tlearn: 1931.9477536\ttotal: 3.41s\tremaining: 69.7ms\n",
      "98:\tlearn: 1930.2062239\ttotal: 3.45s\tremaining: 34.8ms\n",
      "99:\tlearn: 1928.1385785\ttotal: 3.48s\tremaining: 0us\n",
      "0:\tlearn: 4439.2858006\ttotal: 34.4ms\tremaining: 3.4s\n",
      "1:\tlearn: 4290.9163889\ttotal: 68.8ms\tremaining: 3.37s\n",
      "2:\tlearn: 4151.5021983\ttotal: 104ms\tremaining: 3.35s\n",
      "3:\tlearn: 4021.0354088\ttotal: 139ms\tremaining: 3.33s\n",
      "4:\tlearn: 3897.0475391\ttotal: 174ms\tremaining: 3.31s\n",
      "5:\tlearn: 3780.2679452\ttotal: 213ms\tremaining: 3.34s\n",
      "6:\tlearn: 3671.0819118\ttotal: 256ms\tremaining: 3.4s\n",
      "7:\tlearn: 3569.8683871\ttotal: 297ms\tremaining: 3.41s\n",
      "8:\tlearn: 3471.9321685\ttotal: 335ms\tremaining: 3.39s\n",
      "9:\tlearn: 3381.0973280\ttotal: 374ms\tremaining: 3.36s\n",
      "10:\tlearn: 3298.2055079\ttotal: 412ms\tremaining: 3.33s\n",
      "11:\tlearn: 3219.5177964\ttotal: 450ms\tremaining: 3.3s\n",
      "12:\tlearn: 3144.4491545\ttotal: 489ms\tremaining: 3.27s\n",
      "13:\tlearn: 3073.4972729\ttotal: 528ms\tremaining: 3.25s\n",
      "14:\tlearn: 3006.0097223\ttotal: 566ms\tremaining: 3.21s\n",
      "15:\tlearn: 2943.9630813\ttotal: 607ms\tremaining: 3.19s\n",
      "16:\tlearn: 2884.9945390\ttotal: 658ms\tremaining: 3.21s\n",
      "17:\tlearn: 2830.5118463\ttotal: 697ms\tremaining: 3.17s\n",
      "18:\tlearn: 2778.5348590\ttotal: 739ms\tremaining: 3.15s\n",
      "19:\tlearn: 2731.3245171\ttotal: 777ms\tremaining: 3.11s\n",
      "20:\tlearn: 2685.9527608\ttotal: 816ms\tremaining: 3.07s\n",
      "21:\tlearn: 2644.4654810\ttotal: 853ms\tremaining: 3.02s\n",
      "22:\tlearn: 2604.9203179\ttotal: 894ms\tremaining: 2.99s\n",
      "23:\tlearn: 2568.2560239\ttotal: 933ms\tremaining: 2.95s\n",
      "24:\tlearn: 2534.8907299\ttotal: 971ms\tremaining: 2.91s\n",
      "25:\tlearn: 2504.1507377\ttotal: 1.02s\tremaining: 2.91s\n",
      "26:\tlearn: 2476.0108880\ttotal: 1.06s\tremaining: 2.87s\n",
      "27:\tlearn: 2450.3280300\ttotal: 1.1s\tremaining: 2.82s\n",
      "28:\tlearn: 2423.7490556\ttotal: 1.14s\tremaining: 2.78s\n",
      "29:\tlearn: 2400.0187856\ttotal: 1.17s\tremaining: 2.74s\n",
      "30:\tlearn: 2376.4004050\ttotal: 1.21s\tremaining: 2.7s\n",
      "31:\tlearn: 2353.8705828\ttotal: 1.25s\tremaining: 2.65s\n",
      "32:\tlearn: 2334.7708052\ttotal: 1.28s\tremaining: 2.61s\n",
      "33:\tlearn: 2315.8484094\ttotal: 1.32s\tremaining: 2.56s\n",
      "34:\tlearn: 2298.7719513\ttotal: 1.35s\tremaining: 2.51s\n",
      "35:\tlearn: 2281.6110906\ttotal: 1.39s\tremaining: 2.47s\n",
      "36:\tlearn: 2265.4310443\ttotal: 1.42s\tremaining: 2.42s\n",
      "37:\tlearn: 2248.2870746\ttotal: 1.46s\tremaining: 2.38s\n",
      "38:\tlearn: 2234.0839636\ttotal: 1.5s\tremaining: 2.34s\n",
      "39:\tlearn: 2220.4965710\ttotal: 1.53s\tremaining: 2.29s\n",
      "40:\tlearn: 2208.0223267\ttotal: 1.56s\tremaining: 2.25s\n",
      "41:\tlearn: 2194.8567140\ttotal: 1.6s\tremaining: 2.21s\n",
      "42:\tlearn: 2183.8457193\ttotal: 1.64s\tremaining: 2.17s\n",
      "43:\tlearn: 2172.4577833\ttotal: 1.67s\tremaining: 2.13s\n",
      "44:\tlearn: 2161.5185490\ttotal: 1.72s\tremaining: 2.1s\n",
      "45:\tlearn: 2150.5045957\ttotal: 1.76s\tremaining: 2.07s\n",
      "46:\tlearn: 2140.5373901\ttotal: 1.81s\tremaining: 2.04s\n",
      "47:\tlearn: 2131.5142966\ttotal: 1.84s\tremaining: 2s\n",
      "48:\tlearn: 2124.0087691\ttotal: 1.88s\tremaining: 1.96s\n",
      "49:\tlearn: 2115.7218724\ttotal: 1.92s\tremaining: 1.92s\n",
      "50:\tlearn: 2108.5482870\ttotal: 1.96s\tremaining: 1.88s\n",
      "51:\tlearn: 2101.6362885\ttotal: 1.99s\tremaining: 1.84s\n",
      "52:\tlearn: 2093.6159663\ttotal: 2.02s\tremaining: 1.8s\n",
      "53:\tlearn: 2087.4035405\ttotal: 2.06s\tremaining: 1.75s\n",
      "54:\tlearn: 2080.9896105\ttotal: 2.1s\tremaining: 1.72s\n",
      "55:\tlearn: 2075.0198430\ttotal: 2.13s\tremaining: 1.67s\n",
      "56:\tlearn: 2067.5451067\ttotal: 2.17s\tremaining: 1.63s\n",
      "57:\tlearn: 2060.3951546\ttotal: 2.21s\tremaining: 1.6s\n",
      "58:\tlearn: 2055.2873584\ttotal: 2.25s\tremaining: 1.56s\n",
      "59:\tlearn: 2048.2659213\ttotal: 2.28s\tremaining: 1.52s\n",
      "60:\tlearn: 2042.8633183\ttotal: 2.32s\tremaining: 1.48s\n",
      "61:\tlearn: 2038.2112149\ttotal: 2.35s\tremaining: 1.44s\n",
      "62:\tlearn: 2034.1799301\ttotal: 2.39s\tremaining: 1.4s\n",
      "63:\tlearn: 2030.2968637\ttotal: 2.42s\tremaining: 1.36s\n",
      "64:\tlearn: 2025.7348697\ttotal: 2.46s\tremaining: 1.32s\n",
      "65:\tlearn: 2021.7648963\ttotal: 2.5s\tremaining: 1.29s\n",
      "66:\tlearn: 2017.4122635\ttotal: 2.53s\tremaining: 1.25s\n",
      "67:\tlearn: 2012.5495600\ttotal: 2.57s\tremaining: 1.21s\n",
      "68:\tlearn: 2009.1577871\ttotal: 2.6s\tremaining: 1.17s\n",
      "69:\tlearn: 2005.4265515\ttotal: 2.64s\tremaining: 1.13s\n",
      "70:\tlearn: 2001.4873521\ttotal: 2.67s\tremaining: 1.09s\n",
      "71:\tlearn: 1998.2544384\ttotal: 2.71s\tremaining: 1.05s\n",
      "72:\tlearn: 1995.4537728\ttotal: 2.74s\tremaining: 1.01s\n",
      "73:\tlearn: 1992.3250296\ttotal: 2.78s\tremaining: 977ms\n",
      "74:\tlearn: 1988.8188272\ttotal: 2.81s\tremaining: 938ms\n",
      "75:\tlearn: 1985.8789864\ttotal: 2.85s\tremaining: 899ms\n",
      "76:\tlearn: 1983.0875215\ttotal: 2.88s\tremaining: 861ms\n",
      "77:\tlearn: 1980.9123200\ttotal: 2.92s\tremaining: 823ms\n",
      "78:\tlearn: 1978.5090216\ttotal: 2.96s\tremaining: 786ms\n",
      "79:\tlearn: 1976.4374496\ttotal: 2.99s\tremaining: 748ms\n",
      "80:\tlearn: 1973.7713067\ttotal: 3.03s\tremaining: 711ms\n",
      "81:\tlearn: 1971.5450946\ttotal: 3.06s\tremaining: 673ms\n",
      "82:\tlearn: 1969.2509048\ttotal: 3.1s\tremaining: 635ms\n",
      "83:\tlearn: 1965.7096055\ttotal: 3.14s\tremaining: 597ms\n",
      "84:\tlearn: 1963.6590904\ttotal: 3.18s\tremaining: 560ms\n",
      "85:\tlearn: 1961.3114649\ttotal: 3.22s\tremaining: 524ms\n",
      "86:\tlearn: 1959.7066886\ttotal: 3.25s\tremaining: 486ms\n",
      "87:\tlearn: 1957.0197980\ttotal: 3.29s\tremaining: 448ms\n",
      "88:\tlearn: 1955.2091417\ttotal: 3.32s\tremaining: 410ms\n",
      "89:\tlearn: 1953.3963123\ttotal: 3.36s\tremaining: 373ms\n",
      "90:\tlearn: 1951.3262202\ttotal: 3.39s\tremaining: 335ms\n",
      "91:\tlearn: 1949.6022021\ttotal: 3.42s\tremaining: 298ms\n",
      "92:\tlearn: 1948.1359106\ttotal: 3.46s\tremaining: 260ms\n",
      "93:\tlearn: 1946.1520903\ttotal: 3.5s\tremaining: 223ms\n",
      "94:\tlearn: 1944.0295783\ttotal: 3.54s\tremaining: 186ms\n",
      "95:\tlearn: 1941.7086226\ttotal: 3.57s\tremaining: 149ms\n",
      "96:\tlearn: 1939.9901377\ttotal: 3.61s\tremaining: 112ms\n",
      "97:\tlearn: 1938.5187686\ttotal: 3.64s\tremaining: 74.3ms\n",
      "98:\tlearn: 1937.1525104\ttotal: 3.67s\tremaining: 37.1ms\n",
      "99:\tlearn: 1936.3411676\ttotal: 3.71s\tremaining: 0us\n",
      "0:\tlearn: 4430.8004330\ttotal: 34.4ms\tremaining: 3.4s\n",
      "1:\tlearn: 4284.5693203\ttotal: 69.3ms\tremaining: 3.39s\n",
      "2:\tlearn: 4143.8482493\ttotal: 103ms\tremaining: 3.33s\n",
      "3:\tlearn: 4014.0236807\ttotal: 137ms\tremaining: 3.29s\n",
      "4:\tlearn: 3890.9447334\ttotal: 172ms\tremaining: 3.26s\n",
      "5:\tlearn: 3774.3836525\ttotal: 205ms\tremaining: 3.21s\n",
      "6:\tlearn: 3664.7419050\ttotal: 240ms\tremaining: 3.18s\n",
      "7:\tlearn: 3563.2883834\ttotal: 276ms\tremaining: 3.17s\n",
      "8:\tlearn: 3465.6521650\ttotal: 310ms\tremaining: 3.13s\n",
      "9:\tlearn: 3375.6321565\ttotal: 344ms\tremaining: 3.1s\n",
      "10:\tlearn: 3293.3880521\ttotal: 378ms\tremaining: 3.06s\n",
      "11:\tlearn: 3215.2127307\ttotal: 414ms\tremaining: 3.04s\n",
      "12:\tlearn: 3141.8749194\ttotal: 450ms\tremaining: 3.01s\n",
      "13:\tlearn: 3072.5122883\ttotal: 485ms\tremaining: 2.98s\n",
      "14:\tlearn: 3005.9927248\ttotal: 519ms\tremaining: 2.94s\n",
      "15:\tlearn: 2943.4020001\ttotal: 553ms\tremaining: 2.9s\n",
      "16:\tlearn: 2885.7855955\ttotal: 587ms\tremaining: 2.87s\n",
      "17:\tlearn: 2831.8119166\ttotal: 621ms\tremaining: 2.83s\n",
      "18:\tlearn: 2782.2295210\ttotal: 656ms\tremaining: 2.79s\n",
      "19:\tlearn: 2734.9438033\ttotal: 689ms\tremaining: 2.76s\n",
      "20:\tlearn: 2688.8030839\ttotal: 723ms\tremaining: 2.72s\n",
      "21:\tlearn: 2647.0059965\ttotal: 760ms\tremaining: 2.69s\n",
      "22:\tlearn: 2608.2542680\ttotal: 795ms\tremaining: 2.66s\n",
      "23:\tlearn: 2571.1846966\ttotal: 829ms\tremaining: 2.62s\n",
      "24:\tlearn: 2536.1922681\ttotal: 863ms\tremaining: 2.59s\n",
      "25:\tlearn: 2505.6491312\ttotal: 898ms\tremaining: 2.56s\n",
      "26:\tlearn: 2476.5601115\ttotal: 931ms\tremaining: 2.52s\n",
      "27:\tlearn: 2450.8900384\ttotal: 967ms\tremaining: 2.49s\n",
      "28:\tlearn: 2423.3821696\ttotal: 1s\tremaining: 2.45s\n",
      "29:\tlearn: 2398.7716579\ttotal: 1.04s\tremaining: 2.42s\n",
      "30:\tlearn: 2376.5491523\ttotal: 1.07s\tremaining: 2.39s\n",
      "31:\tlearn: 2353.3855584\ttotal: 1.1s\tremaining: 2.35s\n",
      "32:\tlearn: 2333.3735886\ttotal: 1.14s\tremaining: 2.32s\n",
      "33:\tlearn: 2313.5206101\ttotal: 1.18s\tremaining: 2.28s\n",
      "34:\tlearn: 2296.5064726\ttotal: 1.21s\tremaining: 2.25s\n",
      "35:\tlearn: 2280.7135709\ttotal: 1.24s\tremaining: 2.21s\n",
      "36:\tlearn: 2265.7468388\ttotal: 1.28s\tremaining: 2.17s\n",
      "37:\tlearn: 2251.4602014\ttotal: 1.31s\tremaining: 2.14s\n",
      "38:\tlearn: 2236.9271224\ttotal: 1.35s\tremaining: 2.11s\n",
      "39:\tlearn: 2221.9994520\ttotal: 1.38s\tremaining: 2.07s\n",
      "40:\tlearn: 2210.3347648\ttotal: 1.41s\tremaining: 2.03s\n",
      "41:\tlearn: 2199.4634548\ttotal: 1.45s\tremaining: 2s\n",
      "42:\tlearn: 2186.6506485\ttotal: 1.48s\tremaining: 1.97s\n",
      "43:\tlearn: 2176.9882240\ttotal: 1.52s\tremaining: 1.93s\n",
      "44:\tlearn: 2165.0020610\ttotal: 1.55s\tremaining: 1.9s\n",
      "45:\tlearn: 2154.4109664\ttotal: 1.58s\tremaining: 1.86s\n",
      "46:\tlearn: 2144.7019035\ttotal: 1.62s\tremaining: 1.83s\n",
      "47:\tlearn: 2136.4894264\ttotal: 1.66s\tremaining: 1.8s\n",
      "48:\tlearn: 2129.2633905\ttotal: 1.69s\tremaining: 1.76s\n",
      "49:\tlearn: 2120.2425125\ttotal: 1.73s\tremaining: 1.73s\n",
      "50:\tlearn: 2112.0426763\ttotal: 1.76s\tremaining: 1.7s\n",
      "51:\tlearn: 2104.4944882\ttotal: 1.8s\tremaining: 1.66s\n",
      "52:\tlearn: 2096.6916244\ttotal: 1.83s\tremaining: 1.63s\n",
      "53:\tlearn: 2089.4671458\ttotal: 1.87s\tremaining: 1.59s\n",
      "54:\tlearn: 2084.2373429\ttotal: 1.9s\tremaining: 1.55s\n",
      "55:\tlearn: 2077.3541528\ttotal: 1.94s\tremaining: 1.52s\n",
      "56:\tlearn: 2070.8702468\ttotal: 1.97s\tremaining: 1.49s\n",
      "57:\tlearn: 2065.7702879\ttotal: 2.01s\tremaining: 1.45s\n",
      "58:\tlearn: 2059.8186624\ttotal: 2.04s\tremaining: 1.42s\n",
      "59:\tlearn: 2054.5078268\ttotal: 2.08s\tremaining: 1.38s\n",
      "60:\tlearn: 2049.1385250\ttotal: 2.11s\tremaining: 1.35s\n",
      "61:\tlearn: 2043.9545394\ttotal: 2.14s\tremaining: 1.31s\n",
      "62:\tlearn: 2039.6995061\ttotal: 2.18s\tremaining: 1.28s\n",
      "63:\tlearn: 2033.3389559\ttotal: 2.21s\tremaining: 1.24s\n",
      "64:\tlearn: 2029.3985447\ttotal: 2.25s\tremaining: 1.21s\n",
      "65:\tlearn: 2025.9927510\ttotal: 2.28s\tremaining: 1.17s\n",
      "66:\tlearn: 2022.1828399\ttotal: 2.32s\tremaining: 1.14s\n",
      "67:\tlearn: 2017.2879043\ttotal: 2.35s\tremaining: 1.11s\n",
      "68:\tlearn: 2013.8923665\ttotal: 2.39s\tremaining: 1.07s\n",
      "69:\tlearn: 2010.4748062\ttotal: 2.42s\tremaining: 1.04s\n",
      "70:\tlearn: 2007.2659660\ttotal: 2.46s\tremaining: 1s\n",
      "71:\tlearn: 2004.6461811\ttotal: 2.49s\tremaining: 968ms\n",
      "72:\tlearn: 2001.8622423\ttotal: 2.52s\tremaining: 934ms\n",
      "73:\tlearn: 1998.6712206\ttotal: 2.56s\tremaining: 899ms\n",
      "74:\tlearn: 1994.8586105\ttotal: 2.59s\tremaining: 864ms\n",
      "75:\tlearn: 1991.9338973\ttotal: 2.63s\tremaining: 830ms\n",
      "76:\tlearn: 1988.9929497\ttotal: 2.66s\tremaining: 795ms\n",
      "77:\tlearn: 1986.1019900\ttotal: 2.7s\tremaining: 761ms\n",
      "78:\tlearn: 1982.7871240\ttotal: 2.73s\tremaining: 726ms\n",
      "79:\tlearn: 1980.5004305\ttotal: 2.77s\tremaining: 692ms\n",
      "80:\tlearn: 1978.1768539\ttotal: 2.8s\tremaining: 657ms\n",
      "81:\tlearn: 1975.4901757\ttotal: 2.84s\tremaining: 623ms\n",
      "82:\tlearn: 1973.4679676\ttotal: 2.87s\tremaining: 588ms\n",
      "83:\tlearn: 1970.8560262\ttotal: 2.91s\tremaining: 554ms\n",
      "84:\tlearn: 1968.8703296\ttotal: 2.94s\tremaining: 519ms\n",
      "85:\tlearn: 1965.6542692\ttotal: 2.98s\tremaining: 485ms\n",
      "86:\tlearn: 1963.7730460\ttotal: 3.01s\tremaining: 450ms\n",
      "87:\tlearn: 1961.0827622\ttotal: 3.05s\tremaining: 416ms\n",
      "88:\tlearn: 1958.9076868\ttotal: 3.08s\tremaining: 381ms\n",
      "89:\tlearn: 1956.6695329\ttotal: 3.12s\tremaining: 346ms\n",
      "90:\tlearn: 1954.8486712\ttotal: 3.15s\tremaining: 312ms\n",
      "91:\tlearn: 1953.1280367\ttotal: 3.19s\tremaining: 277ms\n",
      "92:\tlearn: 1951.1887317\ttotal: 3.22s\tremaining: 243ms\n",
      "93:\tlearn: 1949.0626316\ttotal: 3.26s\tremaining: 208ms\n",
      "94:\tlearn: 1947.8746279\ttotal: 3.29s\tremaining: 173ms\n",
      "95:\tlearn: 1946.1879608\ttotal: 3.33s\tremaining: 139ms\n",
      "96:\tlearn: 1944.6536381\ttotal: 3.36s\tremaining: 104ms\n",
      "97:\tlearn: 1942.2381028\ttotal: 3.4s\tremaining: 69.3ms\n",
      "98:\tlearn: 1940.8551523\ttotal: 3.43s\tremaining: 34.7ms\n",
      "99:\tlearn: 1939.6221903\ttotal: 3.47s\tremaining: 0us\n",
      "0:\tlearn: 4276.4282099\ttotal: 40.9ms\tremaining: 4.05s\n",
      "1:\tlearn: 4000.5727100\ttotal: 80.9ms\tremaining: 3.96s\n",
      "2:\tlearn: 3758.5697096\ttotal: 121ms\tremaining: 3.92s\n",
      "3:\tlearn: 3541.5504624\ttotal: 162ms\tremaining: 3.89s\n",
      "4:\tlearn: 3353.7956443\ttotal: 202ms\tremaining: 3.84s\n",
      "5:\tlearn: 3189.2375269\ttotal: 242ms\tremaining: 3.79s\n",
      "6:\tlearn: 3045.0276801\ttotal: 285ms\tremaining: 3.79s\n",
      "7:\tlearn: 2920.1103909\ttotal: 325ms\tremaining: 3.74s\n",
      "8:\tlearn: 2806.5640261\ttotal: 365ms\tremaining: 3.69s\n",
      "9:\tlearn: 2708.5273159\ttotal: 405ms\tremaining: 3.64s\n",
      "10:\tlearn: 2625.0885923\ttotal: 445ms\tremaining: 3.6s\n",
      "11:\tlearn: 2548.0793200\ttotal: 485ms\tremaining: 3.56s\n",
      "12:\tlearn: 2485.8855069\ttotal: 525ms\tremaining: 3.52s\n",
      "13:\tlearn: 2430.0753478\ttotal: 565ms\tremaining: 3.47s\n",
      "14:\tlearn: 2380.4960648\ttotal: 605ms\tremaining: 3.43s\n",
      "15:\tlearn: 2338.9485697\ttotal: 645ms\tremaining: 3.38s\n",
      "16:\tlearn: 2302.1180275\ttotal: 684ms\tremaining: 3.34s\n",
      "17:\tlearn: 2267.6353611\ttotal: 723ms\tremaining: 3.29s\n",
      "18:\tlearn: 2238.9282761\ttotal: 766ms\tremaining: 3.26s\n",
      "19:\tlearn: 2211.7805688\ttotal: 805ms\tremaining: 3.22s\n",
      "20:\tlearn: 2190.2183366\ttotal: 844ms\tremaining: 3.17s\n",
      "21:\tlearn: 2170.4261629\ttotal: 884ms\tremaining: 3.13s\n",
      "22:\tlearn: 2153.6506650\ttotal: 926ms\tremaining: 3.1s\n",
      "23:\tlearn: 2131.3706053\ttotal: 970ms\tremaining: 3.07s\n",
      "24:\tlearn: 2115.1910474\ttotal: 1.01s\tremaining: 3.03s\n",
      "25:\tlearn: 2098.5820223\ttotal: 1.05s\tremaining: 2.99s\n",
      "26:\tlearn: 2084.3238676\ttotal: 1.1s\tremaining: 2.96s\n",
      "27:\tlearn: 2071.0760729\ttotal: 1.14s\tremaining: 2.93s\n",
      "28:\tlearn: 2058.1545011\ttotal: 1.18s\tremaining: 2.89s\n",
      "29:\tlearn: 2048.5617046\ttotal: 1.22s\tremaining: 2.85s\n",
      "30:\tlearn: 2038.6016782\ttotal: 1.26s\tremaining: 2.81s\n",
      "31:\tlearn: 2031.1094271\ttotal: 1.3s\tremaining: 2.77s\n",
      "32:\tlearn: 2022.6295713\ttotal: 1.34s\tremaining: 2.73s\n",
      "33:\tlearn: 2016.8850334\ttotal: 1.38s\tremaining: 2.69s\n",
      "34:\tlearn: 2008.5361655\ttotal: 1.42s\tremaining: 2.65s\n",
      "35:\tlearn: 2002.6853983\ttotal: 1.46s\tremaining: 2.6s\n",
      "36:\tlearn: 1997.6279901\ttotal: 1.51s\tremaining: 2.56s\n",
      "37:\tlearn: 1992.5821061\ttotal: 1.55s\tremaining: 2.53s\n",
      "38:\tlearn: 1986.5380157\ttotal: 1.59s\tremaining: 2.49s\n",
      "39:\tlearn: 1980.7129014\ttotal: 1.63s\tremaining: 2.45s\n",
      "40:\tlearn: 1976.8684616\ttotal: 1.68s\tremaining: 2.41s\n",
      "41:\tlearn: 1973.0210254\ttotal: 1.72s\tremaining: 2.38s\n",
      "42:\tlearn: 1968.1303037\ttotal: 1.76s\tremaining: 2.34s\n",
      "43:\tlearn: 1964.0868075\ttotal: 1.8s\tremaining: 2.3s\n",
      "44:\tlearn: 1958.6700576\ttotal: 1.85s\tremaining: 2.26s\n",
      "45:\tlearn: 1954.3384633\ttotal: 1.89s\tremaining: 2.22s\n",
      "46:\tlearn: 1949.6772348\ttotal: 1.93s\tremaining: 2.18s\n",
      "47:\tlearn: 1945.5675250\ttotal: 1.97s\tremaining: 2.14s\n",
      "48:\tlearn: 1941.8780008\ttotal: 2.01s\tremaining: 2.1s\n",
      "49:\tlearn: 1939.0655948\ttotal: 2.05s\tremaining: 2.05s\n",
      "50:\tlearn: 1936.4511833\ttotal: 2.1s\tremaining: 2.01s\n",
      "51:\tlearn: 1933.3397844\ttotal: 2.14s\tremaining: 1.97s\n",
      "52:\tlearn: 1931.6094103\ttotal: 2.18s\tremaining: 1.94s\n",
      "53:\tlearn: 1928.3639122\ttotal: 2.23s\tremaining: 1.9s\n",
      "54:\tlearn: 1925.2569510\ttotal: 2.27s\tremaining: 1.86s\n",
      "55:\tlearn: 1921.4131414\ttotal: 2.32s\tremaining: 1.82s\n",
      "56:\tlearn: 1917.4589845\ttotal: 2.36s\tremaining: 1.78s\n",
      "57:\tlearn: 1914.8344216\ttotal: 2.4s\tremaining: 1.74s\n",
      "58:\tlearn: 1910.7999929\ttotal: 2.45s\tremaining: 1.7s\n",
      "59:\tlearn: 1909.1533661\ttotal: 2.49s\tremaining: 1.66s\n",
      "60:\tlearn: 1907.2171269\ttotal: 2.54s\tremaining: 1.62s\n",
      "61:\tlearn: 1904.2913361\ttotal: 2.58s\tremaining: 1.58s\n",
      "62:\tlearn: 1902.6428921\ttotal: 2.63s\tremaining: 1.54s\n",
      "63:\tlearn: 1900.7288428\ttotal: 2.67s\tremaining: 1.5s\n",
      "64:\tlearn: 1898.6761505\ttotal: 2.71s\tremaining: 1.46s\n",
      "65:\tlearn: 1895.9534173\ttotal: 2.75s\tremaining: 1.42s\n",
      "66:\tlearn: 1894.3635467\ttotal: 2.79s\tremaining: 1.38s\n",
      "67:\tlearn: 1892.6383361\ttotal: 2.83s\tremaining: 1.33s\n",
      "68:\tlearn: 1889.8097692\ttotal: 2.87s\tremaining: 1.29s\n",
      "69:\tlearn: 1887.0367769\ttotal: 2.92s\tremaining: 1.25s\n",
      "70:\tlearn: 1885.2426821\ttotal: 2.96s\tremaining: 1.21s\n",
      "71:\tlearn: 1882.9316223\ttotal: 3s\tremaining: 1.17s\n",
      "72:\tlearn: 1880.6577104\ttotal: 3.04s\tremaining: 1.12s\n",
      "73:\tlearn: 1878.1676243\ttotal: 3.08s\tremaining: 1.08s\n",
      "74:\tlearn: 1876.7241458\ttotal: 3.12s\tremaining: 1.04s\n",
      "75:\tlearn: 1875.0410046\ttotal: 3.16s\tremaining: 998ms\n",
      "76:\tlearn: 1873.1430296\ttotal: 3.2s\tremaining: 957ms\n",
      "77:\tlearn: 1871.0367907\ttotal: 3.24s\tremaining: 915ms\n",
      "78:\tlearn: 1868.7510980\ttotal: 3.28s\tremaining: 873ms\n",
      "79:\tlearn: 1866.7900364\ttotal: 3.32s\tremaining: 831ms\n",
      "80:\tlearn: 1864.9918820\ttotal: 3.37s\tremaining: 790ms\n",
      "81:\tlearn: 1863.7521732\ttotal: 3.41s\tremaining: 748ms\n",
      "82:\tlearn: 1862.1805933\ttotal: 3.45s\tremaining: 707ms\n",
      "83:\tlearn: 1860.6465859\ttotal: 3.49s\tremaining: 665ms\n",
      "84:\tlearn: 1858.8793335\ttotal: 3.53s\tremaining: 624ms\n",
      "85:\tlearn: 1857.3124158\ttotal: 3.58s\tremaining: 582ms\n",
      "86:\tlearn: 1855.4435395\ttotal: 3.63s\tremaining: 543ms\n",
      "87:\tlearn: 1854.6280093\ttotal: 3.68s\tremaining: 502ms\n",
      "88:\tlearn: 1853.5127344\ttotal: 3.74s\tremaining: 462ms\n",
      "89:\tlearn: 1851.8331258\ttotal: 3.78s\tremaining: 420ms\n",
      "90:\tlearn: 1849.6376320\ttotal: 3.82s\tremaining: 378ms\n",
      "91:\tlearn: 1847.9486281\ttotal: 3.86s\tremaining: 336ms\n",
      "92:\tlearn: 1846.3340997\ttotal: 3.9s\tremaining: 294ms\n",
      "93:\tlearn: 1844.2439055\ttotal: 3.95s\tremaining: 252ms\n",
      "94:\tlearn: 1842.4794518\ttotal: 3.99s\tremaining: 210ms\n",
      "95:\tlearn: 1840.3401006\ttotal: 4.03s\tremaining: 168ms\n",
      "96:\tlearn: 1838.4729349\ttotal: 4.08s\tremaining: 126ms\n",
      "97:\tlearn: 1837.0782286\ttotal: 4.12s\tremaining: 84.1ms\n",
      "98:\tlearn: 1836.4181106\ttotal: 4.16s\tremaining: 42.1ms\n",
      "99:\tlearn: 1834.9675866\ttotal: 4.21s\tremaining: 0us\n",
      "1884.9495463862484 {'learning_rate': 0.1, 'iterations': 100, 'depth': 10}\n"
     ]
    }
   ],
   "source": [
    "cat_rmse, cat_parameters = parameters_model(features_train_ord, target_train, CatBoostRegressor, rs_space={'depth' : [6,8,10],\n",
    "              'learning_rate' : [0.01, 0.05, 0.1],\n",
    "              'iterations'    : [30, 50, 100]\n",
    "              })\n",
    "print(cat_rmse, cat_parameters)"
   ]
  },
  {
   "cell_type": "code",
   "execution_count": 46,
   "metadata": {},
   "outputs": [
    {
     "name": "stdout",
     "output_type": "stream",
     "text": [
      "0:\tlearn: 4276.4282099\ttotal: 45.3ms\tremaining: 4.49s\n",
      "1:\tlearn: 4000.5727100\ttotal: 86.7ms\tremaining: 4.25s\n",
      "2:\tlearn: 3758.5697096\ttotal: 127ms\tremaining: 4.1s\n",
      "3:\tlearn: 3541.5504624\ttotal: 167ms\tremaining: 4.01s\n",
      "4:\tlearn: 3353.7956443\ttotal: 207ms\tremaining: 3.93s\n",
      "5:\tlearn: 3189.2375269\ttotal: 250ms\tremaining: 3.92s\n",
      "6:\tlearn: 3045.0276801\ttotal: 290ms\tremaining: 3.85s\n",
      "7:\tlearn: 2920.1103909\ttotal: 332ms\tremaining: 3.82s\n",
      "8:\tlearn: 2806.5640261\ttotal: 372ms\tremaining: 3.76s\n",
      "9:\tlearn: 2708.5273159\ttotal: 412ms\tremaining: 3.71s\n",
      "10:\tlearn: 2625.0885923\ttotal: 453ms\tremaining: 3.67s\n",
      "11:\tlearn: 2548.0793200\ttotal: 495ms\tremaining: 3.63s\n",
      "12:\tlearn: 2485.8855069\ttotal: 546ms\tremaining: 3.65s\n",
      "13:\tlearn: 2430.0753478\ttotal: 586ms\tremaining: 3.6s\n",
      "14:\tlearn: 2380.4960648\ttotal: 626ms\tremaining: 3.55s\n",
      "15:\tlearn: 2338.9485697\ttotal: 667ms\tremaining: 3.5s\n",
      "16:\tlearn: 2302.1180275\ttotal: 707ms\tremaining: 3.45s\n",
      "17:\tlearn: 2267.6353611\ttotal: 749ms\tremaining: 3.41s\n",
      "18:\tlearn: 2238.9282761\ttotal: 788ms\tremaining: 3.36s\n",
      "19:\tlearn: 2211.7805688\ttotal: 828ms\tremaining: 3.31s\n",
      "20:\tlearn: 2190.2183366\ttotal: 870ms\tremaining: 3.27s\n",
      "21:\tlearn: 2170.4261629\ttotal: 911ms\tremaining: 3.23s\n",
      "22:\tlearn: 2153.6506650\ttotal: 954ms\tremaining: 3.19s\n",
      "23:\tlearn: 2131.3706053\ttotal: 998ms\tremaining: 3.16s\n",
      "24:\tlearn: 2115.1910474\ttotal: 1.05s\tremaining: 3.15s\n",
      "25:\tlearn: 2098.5820223\ttotal: 1.09s\tremaining: 3.1s\n",
      "26:\tlearn: 2084.3238676\ttotal: 1.14s\tremaining: 3.07s\n",
      "27:\tlearn: 2071.0760729\ttotal: 1.18s\tremaining: 3.02s\n",
      "28:\tlearn: 2058.1545011\ttotal: 1.23s\tremaining: 3s\n",
      "29:\tlearn: 2048.5617046\ttotal: 1.31s\tremaining: 3.06s\n",
      "30:\tlearn: 2038.6016782\ttotal: 1.35s\tremaining: 3.01s\n",
      "31:\tlearn: 2031.1094271\ttotal: 1.43s\tremaining: 3.03s\n",
      "32:\tlearn: 2022.6295713\ttotal: 1.47s\tremaining: 2.98s\n",
      "33:\tlearn: 2016.8850334\ttotal: 1.51s\tremaining: 2.93s\n",
      "34:\tlearn: 2008.5361655\ttotal: 1.55s\tremaining: 2.88s\n",
      "35:\tlearn: 2002.6853983\ttotal: 1.59s\tremaining: 2.83s\n",
      "36:\tlearn: 1997.6279901\ttotal: 1.63s\tremaining: 2.77s\n",
      "37:\tlearn: 1992.5821061\ttotal: 1.67s\tremaining: 2.73s\n",
      "38:\tlearn: 1986.5380157\ttotal: 1.71s\tremaining: 2.68s\n",
      "39:\tlearn: 1980.7129014\ttotal: 1.75s\tremaining: 2.63s\n",
      "40:\tlearn: 1976.8684616\ttotal: 1.79s\tremaining: 2.58s\n",
      "41:\tlearn: 1973.0210254\ttotal: 1.84s\tremaining: 2.54s\n",
      "42:\tlearn: 1968.1303037\ttotal: 1.88s\tremaining: 2.49s\n",
      "43:\tlearn: 1964.0868075\ttotal: 1.92s\tremaining: 2.45s\n",
      "44:\tlearn: 1958.6700576\ttotal: 1.96s\tremaining: 2.4s\n",
      "45:\tlearn: 1954.3384633\ttotal: 2.01s\tremaining: 2.36s\n",
      "46:\tlearn: 1949.6772348\ttotal: 2.05s\tremaining: 2.31s\n",
      "47:\tlearn: 1945.5675250\ttotal: 2.09s\tremaining: 2.27s\n",
      "48:\tlearn: 1941.8780008\ttotal: 2.13s\tremaining: 2.22s\n",
      "49:\tlearn: 1939.0655948\ttotal: 2.17s\tremaining: 2.17s\n",
      "50:\tlearn: 1936.4511833\ttotal: 2.22s\tremaining: 2.13s\n",
      "51:\tlearn: 1933.3397844\ttotal: 2.26s\tremaining: 2.08s\n",
      "52:\tlearn: 1931.6094103\ttotal: 2.3s\tremaining: 2.04s\n",
      "53:\tlearn: 1928.3639122\ttotal: 2.34s\tremaining: 1.99s\n",
      "54:\tlearn: 1925.2569510\ttotal: 2.38s\tremaining: 1.95s\n",
      "55:\tlearn: 1921.4131414\ttotal: 2.42s\tremaining: 1.9s\n",
      "56:\tlearn: 1917.4589845\ttotal: 2.46s\tremaining: 1.86s\n",
      "57:\tlearn: 1914.8344216\ttotal: 2.5s\tremaining: 1.81s\n",
      "58:\tlearn: 1910.7999929\ttotal: 2.54s\tremaining: 1.77s\n",
      "59:\tlearn: 1909.1533661\ttotal: 2.58s\tremaining: 1.72s\n",
      "60:\tlearn: 1907.2171269\ttotal: 2.63s\tremaining: 1.68s\n",
      "61:\tlearn: 1904.2913361\ttotal: 2.67s\tremaining: 1.64s\n",
      "62:\tlearn: 1902.6428921\ttotal: 2.71s\tremaining: 1.59s\n",
      "63:\tlearn: 1900.7288428\ttotal: 2.75s\tremaining: 1.55s\n",
      "64:\tlearn: 1898.6761505\ttotal: 2.8s\tremaining: 1.5s\n",
      "65:\tlearn: 1895.9534173\ttotal: 2.84s\tremaining: 1.46s\n",
      "66:\tlearn: 1894.3635467\ttotal: 2.88s\tremaining: 1.42s\n",
      "67:\tlearn: 1892.6383361\ttotal: 2.92s\tremaining: 1.38s\n",
      "68:\tlearn: 1889.8097692\ttotal: 2.96s\tremaining: 1.33s\n",
      "69:\tlearn: 1887.0367769\ttotal: 3.01s\tremaining: 1.29s\n",
      "70:\tlearn: 1885.2426821\ttotal: 3.05s\tremaining: 1.25s\n",
      "71:\tlearn: 1882.9316223\ttotal: 3.09s\tremaining: 1.2s\n",
      "72:\tlearn: 1880.6577104\ttotal: 3.13s\tremaining: 1.16s\n",
      "73:\tlearn: 1878.1676243\ttotal: 3.17s\tremaining: 1.11s\n",
      "74:\tlearn: 1876.7241458\ttotal: 3.21s\tremaining: 1.07s\n",
      "75:\tlearn: 1875.0410046\ttotal: 3.25s\tremaining: 1.03s\n",
      "76:\tlearn: 1873.1430296\ttotal: 3.3s\tremaining: 985ms\n",
      "77:\tlearn: 1871.0367907\ttotal: 3.34s\tremaining: 942ms\n",
      "78:\tlearn: 1868.7510980\ttotal: 3.38s\tremaining: 899ms\n",
      "79:\tlearn: 1866.7900364\ttotal: 3.42s\tremaining: 856ms\n",
      "80:\tlearn: 1864.9918820\ttotal: 3.47s\tremaining: 813ms\n",
      "81:\tlearn: 1863.7521732\ttotal: 3.51s\tremaining: 770ms\n",
      "82:\tlearn: 1862.1805933\ttotal: 3.55s\tremaining: 727ms\n",
      "83:\tlearn: 1860.6465859\ttotal: 3.59s\tremaining: 684ms\n",
      "84:\tlearn: 1858.8793335\ttotal: 3.63s\tremaining: 641ms\n",
      "85:\tlearn: 1857.3124158\ttotal: 3.67s\tremaining: 598ms\n",
      "86:\tlearn: 1855.4435395\ttotal: 3.71s\tremaining: 555ms\n",
      "87:\tlearn: 1854.6280093\ttotal: 3.76s\tremaining: 512ms\n",
      "88:\tlearn: 1853.5127344\ttotal: 3.8s\tremaining: 469ms\n",
      "89:\tlearn: 1851.8331258\ttotal: 3.84s\tremaining: 426ms\n",
      "90:\tlearn: 1849.6376320\ttotal: 3.88s\tremaining: 384ms\n",
      "91:\tlearn: 1847.9486281\ttotal: 3.92s\tremaining: 341ms\n",
      "92:\tlearn: 1846.3340997\ttotal: 3.96s\tremaining: 298ms\n",
      "93:\tlearn: 1844.2439055\ttotal: 4.01s\tremaining: 256ms\n",
      "94:\tlearn: 1842.4794518\ttotal: 4.05s\tremaining: 213ms\n",
      "95:\tlearn: 1840.3401006\ttotal: 4.09s\tremaining: 170ms\n",
      "96:\tlearn: 1838.4729349\ttotal: 4.13s\tremaining: 128ms\n",
      "97:\tlearn: 1837.0782286\ttotal: 4.17s\tremaining: 85.2ms\n",
      "98:\tlearn: 1836.4181106\ttotal: 4.21s\tremaining: 42.6ms\n",
      "99:\tlearn: 1834.9675866\ttotal: 4.25s\tremaining: 0us\n",
      "CPU times: user 4.24 s, sys: 23.9 ms, total: 4.26 s\n",
      "Wall time: 4.75 s\n"
     ]
    },
    {
     "data": {
      "text/plain": [
       "<catboost.core.CatBoostRegressor at 0x7f920e41dbe0>"
      ]
     },
     "execution_count": 46,
     "metadata": {},
     "output_type": "execute_result"
    }
   ],
   "source": [
    "%%time\n",
    "model_cat = CatBoostRegressor(random_state=12345, learning_rate=0.1, iterations=100, depth=10)\n",
    "model_cat.fit(features_train_ord, target_train)"
   ]
  },
  {
   "cell_type": "code",
   "execution_count": 47,
   "metadata": {},
   "outputs": [
    {
     "name": "stdout",
     "output_type": "stream",
     "text": [
      "CPU times: user 25.6 ms, sys: 204 µs, total: 25.8 ms\n",
      "Wall time: 24.2 ms\n"
     ]
    },
    {
     "data": {
      "text/plain": [
       "array([6506.45258102, 7311.66915963, 9794.11243021, ..., 4873.66652679,\n",
       "        486.21444285, 8916.81940965])"
      ]
     },
     "execution_count": 47,
     "metadata": {},
     "output_type": "execute_result"
    }
   ],
   "source": [
    "%%time\n",
    "model_cat.predict(features_valid_ord)"
   ]
  },
  {
   "cell_type": "code",
   "execution_count": 48,
   "metadata": {},
   "outputs": [
    {
     "name": "stdout",
     "output_type": "stream",
     "text": [
      "3069.9464160038656 {'solver': 'svd', 'alpha': 0}\n"
     ]
    }
   ],
   "source": [
    "ridge_rmse, ridge_parameters = parameters_model(features_train_ohe, target_train, linear_model.Ridge, rs_space={'alpha' : range(0, 1), \n",
    "                                                                                           'solver': ['auto', 'svd', 'cholesky', 'lsqr', 'saga', 'lbfgs']} )\n",
    "print(ridge_rmse, ridge_parameters)"
   ]
  },
  {
   "cell_type": "code",
   "execution_count": 49,
   "metadata": {},
   "outputs": [
    {
     "name": "stdout",
     "output_type": "stream",
     "text": [
      "CPU times: user 2.25 s, sys: 1.54 s, total: 3.8 s\n",
      "Wall time: 3.77 s\n"
     ]
    },
    {
     "data": {
      "text/plain": [
       "Ridge(alpha=0, random_state=12345, solver='svd')"
      ]
     },
     "execution_count": 49,
     "metadata": {},
     "output_type": "execute_result"
    }
   ],
   "source": [
    "%%time\n",
    "ridge_model = linear_model.Ridge(random_state=12345, solver='svd', alpha=0)\n",
    "ridge_model.fit(features_train_ohe, target_train)"
   ]
  },
  {
   "cell_type": "code",
   "execution_count": 50,
   "metadata": {},
   "outputs": [
    {
     "name": "stdout",
     "output_type": "stream",
     "text": [
      "CPU times: user 26.9 ms, sys: 359 µs, total: 27.3 ms\n",
      "Wall time: 19.8 ms\n"
     ]
    },
    {
     "data": {
      "text/plain": [
       "array([   58.85832074,  6955.48546628, 10296.0369144 , ...,\n",
       "        4614.55298981,  -887.2773496 , 10510.82314617])"
      ]
     },
     "execution_count": 50,
     "metadata": {},
     "output_type": "execute_result"
    }
   ],
   "source": [
    "%%time\n",
    "ridge_model.predict(features_valid_ohe)"
   ]
  },
  {
   "cell_type": "code",
   "execution_count": 51,
   "metadata": {},
   "outputs": [
    {
     "name": "stdout",
     "output_type": "stream",
     "text": [
      "CPU times: user 2.75 s, sys: 2.21 s, total: 4.96 s\n",
      "Wall time: 4.95 s\n"
     ]
    },
    {
     "data": {
      "text/plain": [
       "LassoCV(random_state=12345)"
      ]
     },
     "execution_count": 51,
     "metadata": {},
     "output_type": "execute_result"
    }
   ],
   "source": [
    "%%time\n",
    "lasso_model = LassoCV(random_state=12345)\n",
    "lasso_model.fit(features_train_ohe, target_train)"
   ]
  },
  {
   "cell_type": "code",
   "execution_count": 52,
   "metadata": {},
   "outputs": [
    {
     "name": "stdout",
     "output_type": "stream",
     "text": [
      "CPU times: user 28.9 ms, sys: 11.7 ms, total: 40.6 ms\n",
      "Wall time: 33.7 ms\n"
     ]
    },
    {
     "data": {
      "text/plain": [
       "array([6609.3077218 , 7841.9749225 , 9870.89349986, ..., 4873.41602101,\n",
       "       3684.54137187, 3363.23929023])"
      ]
     },
     "execution_count": 52,
     "metadata": {},
     "output_type": "execute_result"
    }
   ],
   "source": [
    "%%time\n",
    "lasso_model.predict(features_valid_ohe)"
   ]
  },
  {
   "cell_type": "markdown",
   "metadata": {},
   "source": [
    "Сравнение"
   ]
  },
  {
   "cell_type": "code",
   "execution_count": 53,
   "metadata": {},
   "outputs": [
    {
     "data": {
      "text/html": [
       "<div>\n",
       "<style scoped>\n",
       "    .dataframe tbody tr th:only-of-type {\n",
       "        vertical-align: middle;\n",
       "    }\n",
       "\n",
       "    .dataframe tbody tr th {\n",
       "        vertical-align: top;\n",
       "    }\n",
       "\n",
       "    .dataframe thead th {\n",
       "        text-align: right;\n",
       "    }\n",
       "</style>\n",
       "<table border=\"1\" class=\"dataframe\">\n",
       "  <thead>\n",
       "    <tr style=\"text-align: right;\">\n",
       "      <th></th>\n",
       "      <th>model</th>\n",
       "      <th>rmse</th>\n",
       "      <th>fit_time</th>\n",
       "      <th>predict_time</th>\n",
       "    </tr>\n",
       "  </thead>\n",
       "  <tbody>\n",
       "    <tr>\n",
       "      <th>0</th>\n",
       "      <td>forest</td>\n",
       "      <td>1989</td>\n",
       "      <td>4.3 s</td>\n",
       "      <td>112 ms</td>\n",
       "    </tr>\n",
       "    <tr>\n",
       "      <th>1</th>\n",
       "      <td>lgbm</td>\n",
       "      <td>1767</td>\n",
       "      <td>20.7 s</td>\n",
       "      <td>4.13 s</td>\n",
       "    </tr>\n",
       "    <tr>\n",
       "      <th>2</th>\n",
       "      <td>catboost</td>\n",
       "      <td>1884</td>\n",
       "      <td>4.75 s</td>\n",
       "      <td>24.2 ms</td>\n",
       "    </tr>\n",
       "    <tr>\n",
       "      <th>3</th>\n",
       "      <td>ridge</td>\n",
       "      <td>3069</td>\n",
       "      <td>3.77 s</td>\n",
       "      <td>19.8 ms</td>\n",
       "    </tr>\n",
       "    <tr>\n",
       "      <th>4</th>\n",
       "      <td>lasso</td>\n",
       "      <td>3067</td>\n",
       "      <td>4.95 s</td>\n",
       "      <td>33.7 ms</td>\n",
       "    </tr>\n",
       "  </tbody>\n",
       "</table>\n",
       "</div>"
      ],
      "text/plain": [
       "      model  rmse fit_time predict_time\n",
       "0    forest  1989    4.3 s       112 ms\n",
       "1      lgbm  1767   20.7 s       4.13 s\n",
       "2  catboost  1884   4.75 s      24.2 ms\n",
       "3     ridge  3069   3.77 s      19.8 ms\n",
       "4     lasso  3067   4.95 s      33.7 ms"
      ]
     },
     "execution_count": 53,
     "metadata": {},
     "output_type": "execute_result"
    }
   ],
   "source": [
    "comparison = {'model':['forest','lgbm','catboost','ridge','lasso'], \n",
    "              'rmse':['1989', '1767', '1884', '3069', '3067'], \n",
    "              'fit_time':['4.3 s', '20.7 s', '4.75 s', '3.77 s', '4.95 s'], \n",
    "              'predict_time':['112 ms', '4.13 s', '24.2 ms', '19.8 ms', '33.7 ms']}\n",
    "\n",
    "df = pd.DataFrame(comparison)\n",
    "df\n"
   ]
  },
  {
   "cell_type": "markdown",
   "metadata": {},
   "source": [
    "Вывод: проанализировали модели, подобрав случайным поиском лучшие параметры, в качестве лучшей модели выберу catboost, показатель RMSE у нее меньше 2500 как и требуется и она быстро обучается, Лассо в предыдущем пункте проанализировала, сюда поэтому не включила"
   ]
  },
  {
   "cell_type": "markdown",
   "metadata": {},
   "source": [
    "## Тестирование лучшей модели"
   ]
  },
  {
   "cell_type": "code",
   "execution_count": 54,
   "metadata": {},
   "outputs": [
    {
     "name": "stdout",
     "output_type": "stream",
     "text": [
      "Learning rate set to 0.078868\n",
      "0:\tlearn: 4367.4382201\ttotal: 12.9ms\tremaining: 12.9s\n",
      "1:\tlearn: 4173.9498832\ttotal: 24.5ms\tremaining: 12.2s\n",
      "2:\tlearn: 3997.6179466\ttotal: 33.1ms\tremaining: 11s\n",
      "3:\tlearn: 3826.0944547\ttotal: 41.2ms\tremaining: 10.3s\n",
      "4:\tlearn: 3670.4998494\ttotal: 48.6ms\tremaining: 9.68s\n",
      "5:\tlearn: 3538.1891710\ttotal: 56.2ms\tremaining: 9.31s\n",
      "6:\tlearn: 3406.4779277\ttotal: 63.8ms\tremaining: 9.05s\n",
      "7:\tlearn: 3293.5428019\ttotal: 71.6ms\tremaining: 8.88s\n",
      "8:\tlearn: 3196.3570894\ttotal: 79.2ms\tremaining: 8.72s\n",
      "9:\tlearn: 3106.3719201\ttotal: 86.6ms\tremaining: 8.57s\n",
      "10:\tlearn: 3022.0114724\ttotal: 93.9ms\tremaining: 8.44s\n",
      "11:\tlearn: 2948.6241483\ttotal: 102ms\tremaining: 8.36s\n",
      "12:\tlearn: 2882.6657486\ttotal: 109ms\tremaining: 8.27s\n",
      "13:\tlearn: 2821.9703407\ttotal: 117ms\tremaining: 8.22s\n",
      "14:\tlearn: 2763.6738988\ttotal: 124ms\tremaining: 8.14s\n",
      "15:\tlearn: 2710.4179796\ttotal: 131ms\tremaining: 8.08s\n",
      "16:\tlearn: 2668.1206518\ttotal: 139ms\tremaining: 8.05s\n",
      "17:\tlearn: 2630.3043140\ttotal: 147ms\tremaining: 8.01s\n",
      "18:\tlearn: 2591.6687295\ttotal: 154ms\tremaining: 7.98s\n",
      "19:\tlearn: 2553.2767470\ttotal: 162ms\tremaining: 7.92s\n",
      "20:\tlearn: 2522.5354708\ttotal: 169ms\tremaining: 7.88s\n",
      "21:\tlearn: 2493.4574960\ttotal: 176ms\tremaining: 7.84s\n",
      "22:\tlearn: 2465.6817639\ttotal: 184ms\tremaining: 7.79s\n",
      "23:\tlearn: 2443.4285583\ttotal: 191ms\tremaining: 7.77s\n",
      "24:\tlearn: 2420.3040650\ttotal: 198ms\tremaining: 7.74s\n",
      "25:\tlearn: 2397.9700364\ttotal: 206ms\tremaining: 7.72s\n",
      "26:\tlearn: 2380.0595181\ttotal: 213ms\tremaining: 7.69s\n",
      "27:\tlearn: 2362.6830860\ttotal: 221ms\tremaining: 7.66s\n",
      "28:\tlearn: 2345.6568767\ttotal: 228ms\tremaining: 7.63s\n",
      "29:\tlearn: 2329.3701897\ttotal: 235ms\tremaining: 7.6s\n",
      "30:\tlearn: 2314.8831443\ttotal: 242ms\tremaining: 7.58s\n",
      "31:\tlearn: 2302.9966939\ttotal: 250ms\tremaining: 7.55s\n",
      "32:\tlearn: 2290.4836164\ttotal: 257ms\tremaining: 7.53s\n",
      "33:\tlearn: 2278.6863870\ttotal: 265ms\tremaining: 7.52s\n",
      "34:\tlearn: 2267.2104491\ttotal: 272ms\tremaining: 7.49s\n",
      "35:\tlearn: 2255.9813362\ttotal: 279ms\tremaining: 7.47s\n",
      "36:\tlearn: 2246.1901210\ttotal: 286ms\tremaining: 7.46s\n",
      "37:\tlearn: 2237.0177699\ttotal: 294ms\tremaining: 7.44s\n",
      "38:\tlearn: 2228.4335012\ttotal: 301ms\tremaining: 7.41s\n",
      "39:\tlearn: 2217.3013693\ttotal: 308ms\tremaining: 7.39s\n",
      "40:\tlearn: 2210.1450420\ttotal: 315ms\tremaining: 7.37s\n",
      "41:\tlearn: 2201.2183087\ttotal: 322ms\tremaining: 7.35s\n",
      "42:\tlearn: 2193.7996347\ttotal: 329ms\tremaining: 7.33s\n",
      "43:\tlearn: 2185.0336252\ttotal: 337ms\tremaining: 7.31s\n",
      "44:\tlearn: 2179.0741754\ttotal: 344ms\tremaining: 7.29s\n",
      "45:\tlearn: 2172.9986916\ttotal: 351ms\tremaining: 7.27s\n",
      "46:\tlearn: 2168.1877308\ttotal: 358ms\tremaining: 7.25s\n",
      "47:\tlearn: 2160.1359729\ttotal: 365ms\tremaining: 7.24s\n",
      "48:\tlearn: 2155.0714684\ttotal: 372ms\tremaining: 7.22s\n",
      "49:\tlearn: 2150.2693655\ttotal: 379ms\tremaining: 7.2s\n",
      "50:\tlearn: 2144.0160665\ttotal: 386ms\tremaining: 7.18s\n",
      "51:\tlearn: 2137.3739741\ttotal: 393ms\tremaining: 7.17s\n",
      "52:\tlearn: 2132.7676827\ttotal: 400ms\tremaining: 7.15s\n",
      "53:\tlearn: 2127.1914367\ttotal: 407ms\tremaining: 7.13s\n",
      "54:\tlearn: 2121.6561083\ttotal: 414ms\tremaining: 7.11s\n",
      "55:\tlearn: 2116.7376281\ttotal: 421ms\tremaining: 7.09s\n",
      "56:\tlearn: 2113.4131371\ttotal: 428ms\tremaining: 7.08s\n",
      "57:\tlearn: 2109.6420659\ttotal: 435ms\tremaining: 7.06s\n",
      "58:\tlearn: 2106.8508094\ttotal: 442ms\tremaining: 7.04s\n",
      "59:\tlearn: 2103.3444487\ttotal: 449ms\tremaining: 7.04s\n",
      "60:\tlearn: 2098.7856949\ttotal: 457ms\tremaining: 7.04s\n",
      "61:\tlearn: 2094.2972240\ttotal: 464ms\tremaining: 7.02s\n",
      "62:\tlearn: 2091.4940493\ttotal: 471ms\tremaining: 7s\n",
      "63:\tlearn: 2088.7864635\ttotal: 478ms\tremaining: 6.99s\n",
      "64:\tlearn: 2083.9426087\ttotal: 486ms\tremaining: 6.99s\n",
      "65:\tlearn: 2081.0631198\ttotal: 493ms\tremaining: 6.97s\n",
      "66:\tlearn: 2078.3458588\ttotal: 500ms\tremaining: 6.96s\n",
      "67:\tlearn: 2075.8718600\ttotal: 506ms\tremaining: 6.94s\n",
      "68:\tlearn: 2072.9415295\ttotal: 513ms\tremaining: 6.93s\n",
      "69:\tlearn: 2070.5597707\ttotal: 520ms\tremaining: 6.91s\n",
      "70:\tlearn: 2068.8738844\ttotal: 527ms\tremaining: 6.89s\n",
      "71:\tlearn: 2067.3331603\ttotal: 534ms\tremaining: 6.88s\n",
      "72:\tlearn: 2065.4283057\ttotal: 541ms\tremaining: 6.87s\n",
      "73:\tlearn: 2062.2582882\ttotal: 548ms\tremaining: 6.86s\n",
      "74:\tlearn: 2057.9826681\ttotal: 556ms\tremaining: 6.85s\n",
      "75:\tlearn: 2056.5304507\ttotal: 563ms\tremaining: 6.84s\n",
      "76:\tlearn: 2054.1921479\ttotal: 569ms\tremaining: 6.83s\n",
      "77:\tlearn: 2050.6833670\ttotal: 577ms\tremaining: 6.81s\n",
      "78:\tlearn: 2048.2059799\ttotal: 583ms\tremaining: 6.8s\n",
      "79:\tlearn: 2045.7578471\ttotal: 591ms\tremaining: 6.79s\n",
      "80:\tlearn: 2042.6466421\ttotal: 598ms\tremaining: 6.78s\n",
      "81:\tlearn: 2039.6856335\ttotal: 605ms\tremaining: 6.77s\n",
      "82:\tlearn: 2037.1089178\ttotal: 612ms\tremaining: 6.76s\n",
      "83:\tlearn: 2033.8182464\ttotal: 620ms\tremaining: 6.76s\n",
      "84:\tlearn: 2031.2141023\ttotal: 628ms\tremaining: 6.76s\n",
      "85:\tlearn: 2028.7496111\ttotal: 635ms\tremaining: 6.75s\n",
      "86:\tlearn: 2025.8453835\ttotal: 643ms\tremaining: 6.75s\n",
      "87:\tlearn: 2024.4234389\ttotal: 650ms\tremaining: 6.74s\n",
      "88:\tlearn: 2023.0021779\ttotal: 657ms\tremaining: 6.73s\n",
      "89:\tlearn: 2020.6719299\ttotal: 665ms\tremaining: 6.72s\n",
      "90:\tlearn: 2018.3654129\ttotal: 672ms\tremaining: 6.71s\n",
      "91:\tlearn: 2016.7966655\ttotal: 679ms\tremaining: 6.7s\n",
      "92:\tlearn: 2015.1557660\ttotal: 686ms\tremaining: 6.69s\n",
      "93:\tlearn: 2013.7912482\ttotal: 693ms\tremaining: 6.67s\n",
      "94:\tlearn: 2012.8320775\ttotal: 699ms\tremaining: 6.66s\n",
      "95:\tlearn: 2011.1241922\ttotal: 707ms\tremaining: 6.66s\n",
      "96:\tlearn: 2009.4813853\ttotal: 714ms\tremaining: 6.65s\n",
      "97:\tlearn: 2007.7402914\ttotal: 721ms\tremaining: 6.64s\n",
      "98:\tlearn: 2006.1707333\ttotal: 728ms\tremaining: 6.63s\n",
      "99:\tlearn: 2005.1407971\ttotal: 735ms\tremaining: 6.62s\n",
      "100:\tlearn: 2003.5615995\ttotal: 742ms\tremaining: 6.61s\n",
      "101:\tlearn: 2002.5131884\ttotal: 749ms\tremaining: 6.6s\n",
      "102:\tlearn: 2001.1761137\ttotal: 756ms\tremaining: 6.59s\n",
      "103:\tlearn: 2000.2540011\ttotal: 763ms\tremaining: 6.58s\n",
      "104:\tlearn: 1998.9975962\ttotal: 771ms\tremaining: 6.57s\n",
      "105:\tlearn: 1997.9751222\ttotal: 777ms\tremaining: 6.56s\n",
      "106:\tlearn: 1996.8772433\ttotal: 784ms\tremaining: 6.55s\n",
      "107:\tlearn: 1996.1272616\ttotal: 792ms\tremaining: 6.54s\n",
      "108:\tlearn: 1994.1661883\ttotal: 799ms\tremaining: 6.53s\n",
      "109:\tlearn: 1992.9789448\ttotal: 806ms\tremaining: 6.52s\n",
      "110:\tlearn: 1991.9052842\ttotal: 813ms\tremaining: 6.51s\n",
      "111:\tlearn: 1990.8966756\ttotal: 820ms\tremaining: 6.5s\n",
      "112:\tlearn: 1989.3762375\ttotal: 828ms\tremaining: 6.5s\n",
      "113:\tlearn: 1987.8561739\ttotal: 835ms\tremaining: 6.49s\n",
      "114:\tlearn: 1986.5012153\ttotal: 843ms\tremaining: 6.48s\n",
      "115:\tlearn: 1984.9617690\ttotal: 850ms\tremaining: 6.48s\n",
      "116:\tlearn: 1983.9487168\ttotal: 857ms\tremaining: 6.46s\n",
      "117:\tlearn: 1981.9266448\ttotal: 864ms\tremaining: 6.46s\n",
      "118:\tlearn: 1980.9390263\ttotal: 871ms\tremaining: 6.45s\n",
      "119:\tlearn: 1980.0848673\ttotal: 878ms\tremaining: 6.44s\n",
      "120:\tlearn: 1979.3140670\ttotal: 885ms\tremaining: 6.43s\n",
      "121:\tlearn: 1977.7421869\ttotal: 892ms\tremaining: 6.42s\n",
      "122:\tlearn: 1976.9495886\ttotal: 899ms\tremaining: 6.41s\n",
      "123:\tlearn: 1975.1429287\ttotal: 907ms\tremaining: 6.4s\n",
      "124:\tlearn: 1973.9551649\ttotal: 915ms\tremaining: 6.41s\n",
      "125:\tlearn: 1972.5771307\ttotal: 923ms\tremaining: 6.4s\n",
      "126:\tlearn: 1971.1905185\ttotal: 930ms\tremaining: 6.39s\n",
      "127:\tlearn: 1969.3266318\ttotal: 937ms\tremaining: 6.38s\n",
      "128:\tlearn: 1967.3474364\ttotal: 945ms\tremaining: 6.38s\n",
      "129:\tlearn: 1966.2976511\ttotal: 952ms\tremaining: 6.37s\n",
      "130:\tlearn: 1965.6733266\ttotal: 958ms\tremaining: 6.36s\n",
      "131:\tlearn: 1964.0398232\ttotal: 965ms\tremaining: 6.35s\n",
      "132:\tlearn: 1962.9589665\ttotal: 973ms\tremaining: 6.34s\n",
      "133:\tlearn: 1962.4782530\ttotal: 979ms\tremaining: 6.33s\n",
      "134:\tlearn: 1960.7247504\ttotal: 987ms\tremaining: 6.32s\n",
      "135:\tlearn: 1959.5546115\ttotal: 994ms\tremaining: 6.32s\n",
      "136:\tlearn: 1958.3460553\ttotal: 1s\tremaining: 6.31s\n",
      "137:\tlearn: 1957.4759958\ttotal: 1.01s\tremaining: 6.3s\n",
      "138:\tlearn: 1956.2623070\ttotal: 1.02s\tremaining: 6.29s\n",
      "139:\tlearn: 1955.3503486\ttotal: 1.02s\tremaining: 6.29s\n",
      "140:\tlearn: 1954.4367614\ttotal: 1.03s\tremaining: 6.28s\n",
      "141:\tlearn: 1952.4426479\ttotal: 1.04s\tremaining: 6.27s\n",
      "142:\tlearn: 1951.5715483\ttotal: 1.04s\tremaining: 6.26s\n",
      "143:\tlearn: 1950.7726307\ttotal: 1.05s\tremaining: 6.25s\n",
      "144:\tlearn: 1950.1089484\ttotal: 1.06s\tremaining: 6.24s\n",
      "145:\tlearn: 1948.9642353\ttotal: 1.06s\tremaining: 6.23s\n",
      "146:\tlearn: 1948.0026184\ttotal: 1.07s\tremaining: 6.23s\n",
      "147:\tlearn: 1947.2954788\ttotal: 1.08s\tremaining: 6.22s\n",
      "148:\tlearn: 1946.2919140\ttotal: 1.09s\tremaining: 6.21s\n",
      "149:\tlearn: 1944.9263037\ttotal: 1.09s\tremaining: 6.21s\n",
      "150:\tlearn: 1943.9670530\ttotal: 1.1s\tremaining: 6.2s\n",
      "151:\tlearn: 1943.4595185\ttotal: 1.11s\tremaining: 6.19s\n",
      "152:\tlearn: 1942.2241906\ttotal: 1.12s\tremaining: 6.18s\n",
      "153:\tlearn: 1941.2889881\ttotal: 1.12s\tremaining: 6.17s\n",
      "154:\tlearn: 1940.3727480\ttotal: 1.13s\tremaining: 6.16s\n",
      "155:\tlearn: 1939.9322271\ttotal: 1.14s\tremaining: 6.15s\n",
      "156:\tlearn: 1939.0772443\ttotal: 1.14s\tremaining: 6.15s\n",
      "157:\tlearn: 1938.3720024\ttotal: 1.15s\tremaining: 6.13s\n",
      "158:\tlearn: 1937.7136561\ttotal: 1.16s\tremaining: 6.12s\n",
      "159:\tlearn: 1937.0203644\ttotal: 1.16s\tremaining: 6.11s\n",
      "160:\tlearn: 1936.4768906\ttotal: 1.17s\tremaining: 6.11s\n",
      "161:\tlearn: 1935.6028924\ttotal: 1.18s\tremaining: 6.09s\n",
      "162:\tlearn: 1934.9849561\ttotal: 1.19s\tremaining: 6.08s\n",
      "163:\tlearn: 1934.7422278\ttotal: 1.19s\tremaining: 6.07s\n",
      "164:\tlearn: 1933.9564603\ttotal: 1.2s\tremaining: 6.07s\n",
      "165:\tlearn: 1932.9055820\ttotal: 1.21s\tremaining: 6.06s\n",
      "166:\tlearn: 1932.3096629\ttotal: 1.21s\tremaining: 6.05s\n",
      "167:\tlearn: 1931.7487055\ttotal: 1.22s\tremaining: 6.04s\n",
      "168:\tlearn: 1930.6930624\ttotal: 1.23s\tremaining: 6.03s\n",
      "169:\tlearn: 1929.7105515\ttotal: 1.23s\tremaining: 6.03s\n",
      "170:\tlearn: 1928.4495446\ttotal: 1.24s\tremaining: 6.02s\n",
      "171:\tlearn: 1927.2436477\ttotal: 1.25s\tremaining: 6.02s\n",
      "172:\tlearn: 1926.3747143\ttotal: 1.26s\tremaining: 6.01s\n",
      "173:\tlearn: 1925.6242919\ttotal: 1.26s\tremaining: 6s\n",
      "174:\tlearn: 1924.8450008\ttotal: 1.27s\tremaining: 5.99s\n",
      "175:\tlearn: 1923.8042365\ttotal: 1.28s\tremaining: 5.98s\n",
      "176:\tlearn: 1922.9519593\ttotal: 1.29s\tremaining: 5.98s\n",
      "177:\tlearn: 1922.3117002\ttotal: 1.3s\tremaining: 5.99s\n",
      "178:\tlearn: 1921.2655323\ttotal: 1.31s\tremaining: 5.99s\n",
      "179:\tlearn: 1920.4491801\ttotal: 1.31s\tremaining: 5.99s\n",
      "180:\tlearn: 1920.0954428\ttotal: 1.32s\tremaining: 5.99s\n",
      "181:\tlearn: 1919.5690730\ttotal: 1.33s\tremaining: 6s\n",
      "182:\tlearn: 1918.5389981\ttotal: 1.35s\tremaining: 6.01s\n",
      "183:\tlearn: 1917.9268031\ttotal: 1.35s\tremaining: 6.01s\n",
      "184:\tlearn: 1917.5963560\ttotal: 1.36s\tremaining: 6.01s\n",
      "185:\tlearn: 1916.5300149\ttotal: 1.38s\tremaining: 6.02s\n",
      "186:\tlearn: 1915.8744999\ttotal: 1.39s\tremaining: 6.02s\n",
      "187:\tlearn: 1915.0284096\ttotal: 1.39s\tremaining: 6.02s\n",
      "188:\tlearn: 1914.1325683\ttotal: 1.4s\tremaining: 6.03s\n",
      "189:\tlearn: 1913.4266124\ttotal: 1.42s\tremaining: 6.03s\n",
      "190:\tlearn: 1912.3675981\ttotal: 1.43s\tremaining: 6.04s\n",
      "191:\tlearn: 1911.9554247\ttotal: 1.43s\tremaining: 6.03s\n",
      "192:\tlearn: 1910.6598736\ttotal: 1.44s\tremaining: 6.03s\n",
      "193:\tlearn: 1910.1431976\ttotal: 1.45s\tremaining: 6.02s\n",
      "194:\tlearn: 1909.5517088\ttotal: 1.46s\tremaining: 6.01s\n",
      "195:\tlearn: 1909.1132440\ttotal: 1.46s\tremaining: 6s\n",
      "196:\tlearn: 1908.6730278\ttotal: 1.47s\tremaining: 6s\n",
      "197:\tlearn: 1907.7325768\ttotal: 1.48s\tremaining: 5.99s\n",
      "198:\tlearn: 1907.2119899\ttotal: 1.49s\tremaining: 5.99s\n",
      "199:\tlearn: 1906.6285416\ttotal: 1.5s\tremaining: 5.99s\n",
      "200:\tlearn: 1905.5468399\ttotal: 1.51s\tremaining: 6.01s\n",
      "201:\tlearn: 1904.8982223\ttotal: 1.52s\tremaining: 6.02s\n",
      "202:\tlearn: 1904.5184316\ttotal: 1.53s\tremaining: 6.03s\n",
      "203:\tlearn: 1903.8918027\ttotal: 1.55s\tremaining: 6.04s\n",
      "204:\tlearn: 1903.3079175\ttotal: 1.55s\tremaining: 6.03s\n",
      "205:\tlearn: 1902.4153468\ttotal: 1.56s\tremaining: 6.02s\n",
      "206:\tlearn: 1901.3700101\ttotal: 1.57s\tremaining: 6.01s\n",
      "207:\tlearn: 1900.4681111\ttotal: 1.58s\tremaining: 6s\n",
      "208:\tlearn: 1899.8792565\ttotal: 1.58s\tremaining: 6s\n",
      "209:\tlearn: 1899.3584896\ttotal: 1.59s\tremaining: 5.99s\n",
      "210:\tlearn: 1898.7673140\ttotal: 1.6s\tremaining: 5.98s\n",
      "211:\tlearn: 1898.1330712\ttotal: 1.6s\tremaining: 5.97s\n",
      "212:\tlearn: 1897.3538845\ttotal: 1.61s\tremaining: 5.96s\n",
      "213:\tlearn: 1896.8183574\ttotal: 1.62s\tremaining: 5.95s\n",
      "214:\tlearn: 1895.9387666\ttotal: 1.63s\tremaining: 5.94s\n",
      "215:\tlearn: 1895.1594008\ttotal: 1.64s\tremaining: 5.93s\n",
      "216:\tlearn: 1894.3127676\ttotal: 1.64s\tremaining: 5.93s\n",
      "217:\tlearn: 1893.8203279\ttotal: 1.65s\tremaining: 5.92s\n",
      "218:\tlearn: 1893.2298780\ttotal: 1.66s\tremaining: 5.91s\n",
      "219:\tlearn: 1892.4222830\ttotal: 1.66s\tremaining: 5.9s\n",
      "220:\tlearn: 1891.9966535\ttotal: 1.67s\tremaining: 5.89s\n",
      "221:\tlearn: 1891.4673334\ttotal: 1.68s\tremaining: 5.88s\n",
      "222:\tlearn: 1890.7354825\ttotal: 1.69s\tremaining: 5.87s\n",
      "223:\tlearn: 1890.3990305\ttotal: 1.69s\tremaining: 5.87s\n",
      "224:\tlearn: 1889.6519737\ttotal: 1.7s\tremaining: 5.86s\n",
      "225:\tlearn: 1888.8190174\ttotal: 1.71s\tremaining: 5.85s\n",
      "226:\tlearn: 1888.4529239\ttotal: 1.72s\tremaining: 5.84s\n",
      "227:\tlearn: 1887.5586803\ttotal: 1.72s\tremaining: 5.83s\n",
      "228:\tlearn: 1887.0682409\ttotal: 1.73s\tremaining: 5.83s\n",
      "229:\tlearn: 1886.4373553\ttotal: 1.74s\tremaining: 5.82s\n",
      "230:\tlearn: 1886.0723486\ttotal: 1.74s\tremaining: 5.81s\n",
      "231:\tlearn: 1885.2622280\ttotal: 1.75s\tremaining: 5.8s\n",
      "232:\tlearn: 1884.8068018\ttotal: 1.76s\tremaining: 5.79s\n",
      "233:\tlearn: 1883.9048824\ttotal: 1.77s\tremaining: 5.78s\n",
      "234:\tlearn: 1883.1937716\ttotal: 1.77s\tremaining: 5.77s\n",
      "235:\tlearn: 1882.4642061\ttotal: 1.78s\tremaining: 5.76s\n",
      "236:\tlearn: 1881.7583844\ttotal: 1.79s\tremaining: 5.76s\n",
      "237:\tlearn: 1881.3457636\ttotal: 1.79s\tremaining: 5.75s\n",
      "238:\tlearn: 1880.4423655\ttotal: 1.8s\tremaining: 5.74s\n",
      "239:\tlearn: 1880.1450867\ttotal: 1.81s\tremaining: 5.73s\n",
      "240:\tlearn: 1879.2057518\ttotal: 1.82s\tremaining: 5.72s\n",
      "241:\tlearn: 1878.6446927\ttotal: 1.82s\tremaining: 5.71s\n",
      "242:\tlearn: 1878.3286895\ttotal: 1.83s\tremaining: 5.7s\n",
      "243:\tlearn: 1877.9776636\ttotal: 1.84s\tremaining: 5.69s\n",
      "244:\tlearn: 1877.4209394\ttotal: 1.84s\tremaining: 5.69s\n",
      "245:\tlearn: 1876.8754214\ttotal: 1.85s\tremaining: 5.68s\n",
      "246:\tlearn: 1876.3358882\ttotal: 1.86s\tremaining: 5.67s\n",
      "247:\tlearn: 1875.8710310\ttotal: 1.87s\tremaining: 5.67s\n",
      "248:\tlearn: 1875.4131757\ttotal: 1.88s\tremaining: 5.66s\n",
      "249:\tlearn: 1875.1080537\ttotal: 1.88s\tremaining: 5.65s\n",
      "250:\tlearn: 1874.4454002\ttotal: 1.89s\tremaining: 5.64s\n",
      "251:\tlearn: 1873.6113083\ttotal: 1.9s\tremaining: 5.63s\n",
      "252:\tlearn: 1872.9067089\ttotal: 1.91s\tremaining: 5.63s\n",
      "253:\tlearn: 1872.6295965\ttotal: 1.91s\tremaining: 5.62s\n",
      "254:\tlearn: 1872.1932483\ttotal: 1.92s\tremaining: 5.61s\n",
      "255:\tlearn: 1871.8309381\ttotal: 1.93s\tremaining: 5.6s\n",
      "256:\tlearn: 1871.4911467\ttotal: 1.93s\tremaining: 5.59s\n",
      "257:\tlearn: 1871.0176862\ttotal: 1.94s\tremaining: 5.58s\n",
      "258:\tlearn: 1870.5810914\ttotal: 1.95s\tremaining: 5.57s\n",
      "259:\tlearn: 1870.0540946\ttotal: 1.96s\tremaining: 5.57s\n",
      "260:\tlearn: 1869.4222263\ttotal: 1.96s\tremaining: 5.56s\n",
      "261:\tlearn: 1868.8337839\ttotal: 1.97s\tremaining: 5.55s\n",
      "262:\tlearn: 1868.4079290\ttotal: 1.98s\tremaining: 5.54s\n",
      "263:\tlearn: 1867.7978480\ttotal: 1.99s\tremaining: 5.53s\n",
      "264:\tlearn: 1867.3565268\ttotal: 1.99s\tremaining: 5.53s\n",
      "265:\tlearn: 1866.8890475\ttotal: 2s\tremaining: 5.52s\n",
      "266:\tlearn: 1866.2888798\ttotal: 2.01s\tremaining: 5.51s\n",
      "267:\tlearn: 1865.9353915\ttotal: 2.01s\tremaining: 5.5s\n",
      "268:\tlearn: 1865.3303278\ttotal: 2.02s\tremaining: 5.49s\n",
      "269:\tlearn: 1864.9886266\ttotal: 2.03s\tremaining: 5.48s\n",
      "270:\tlearn: 1864.6575229\ttotal: 2.04s\tremaining: 5.47s\n",
      "271:\tlearn: 1864.2242211\ttotal: 2.04s\tremaining: 5.47s\n",
      "272:\tlearn: 1863.7223177\ttotal: 2.05s\tremaining: 5.46s\n",
      "273:\tlearn: 1862.9186179\ttotal: 2.06s\tremaining: 5.45s\n",
      "274:\tlearn: 1862.6214374\ttotal: 2.06s\tremaining: 5.44s\n",
      "275:\tlearn: 1862.2060576\ttotal: 2.07s\tremaining: 5.43s\n",
      "276:\tlearn: 1861.5243171\ttotal: 2.08s\tremaining: 5.43s\n",
      "277:\tlearn: 1861.2192590\ttotal: 2.09s\tremaining: 5.42s\n",
      "278:\tlearn: 1860.4837620\ttotal: 2.1s\tremaining: 5.43s\n",
      "279:\tlearn: 1860.0622874\ttotal: 2.11s\tremaining: 5.43s\n",
      "280:\tlearn: 1859.7337014\ttotal: 2.13s\tremaining: 5.44s\n",
      "281:\tlearn: 1859.3638846\ttotal: 2.13s\tremaining: 5.43s\n",
      "282:\tlearn: 1858.9351458\ttotal: 2.14s\tremaining: 5.42s\n",
      "283:\tlearn: 1858.6490157\ttotal: 2.15s\tremaining: 5.42s\n",
      "284:\tlearn: 1858.1757439\ttotal: 2.16s\tremaining: 5.41s\n",
      "285:\tlearn: 1857.3413406\ttotal: 2.16s\tremaining: 5.4s\n",
      "286:\tlearn: 1857.0826888\ttotal: 2.17s\tremaining: 5.39s\n",
      "287:\tlearn: 1856.2996440\ttotal: 2.18s\tremaining: 5.38s\n",
      "288:\tlearn: 1856.0412400\ttotal: 2.18s\tremaining: 5.38s\n",
      "289:\tlearn: 1855.5125262\ttotal: 2.19s\tremaining: 5.37s\n",
      "290:\tlearn: 1855.2286053\ttotal: 2.2s\tremaining: 5.36s\n",
      "291:\tlearn: 1854.8068113\ttotal: 2.21s\tremaining: 5.35s\n",
      "292:\tlearn: 1854.4583886\ttotal: 2.21s\tremaining: 5.34s\n",
      "293:\tlearn: 1853.8965122\ttotal: 2.22s\tremaining: 5.33s\n",
      "294:\tlearn: 1853.4766176\ttotal: 2.23s\tremaining: 5.32s\n",
      "295:\tlearn: 1853.1423424\ttotal: 2.23s\tremaining: 5.31s\n",
      "296:\tlearn: 1852.6573288\ttotal: 2.24s\tremaining: 5.3s\n",
      "297:\tlearn: 1852.1909136\ttotal: 2.25s\tremaining: 5.3s\n",
      "298:\tlearn: 1851.9090070\ttotal: 2.25s\tremaining: 5.29s\n",
      "299:\tlearn: 1851.7140193\ttotal: 2.26s\tremaining: 5.28s\n",
      "300:\tlearn: 1851.4899074\ttotal: 2.27s\tremaining: 5.27s\n",
      "301:\tlearn: 1851.1449803\ttotal: 2.28s\tremaining: 5.26s\n",
      "302:\tlearn: 1850.4160422\ttotal: 2.28s\tremaining: 5.25s\n",
      "303:\tlearn: 1850.1335733\ttotal: 2.29s\tremaining: 5.25s\n",
      "304:\tlearn: 1849.8485847\ttotal: 2.3s\tremaining: 5.24s\n",
      "305:\tlearn: 1849.4353179\ttotal: 2.31s\tremaining: 5.23s\n",
      "306:\tlearn: 1848.9631461\ttotal: 2.31s\tremaining: 5.23s\n",
      "307:\tlearn: 1848.3642950\ttotal: 2.32s\tremaining: 5.22s\n",
      "308:\tlearn: 1847.7061555\ttotal: 2.33s\tremaining: 5.21s\n",
      "309:\tlearn: 1847.3100192\ttotal: 2.34s\tremaining: 5.21s\n",
      "310:\tlearn: 1846.7033009\ttotal: 2.35s\tremaining: 5.2s\n",
      "311:\tlearn: 1846.4935413\ttotal: 2.35s\tremaining: 5.19s\n",
      "312:\tlearn: 1845.8380651\ttotal: 2.37s\tremaining: 5.2s\n",
      "313:\tlearn: 1845.4730929\ttotal: 2.38s\tremaining: 5.21s\n",
      "314:\tlearn: 1845.1207241\ttotal: 2.39s\tremaining: 5.2s\n",
      "315:\tlearn: 1844.7371736\ttotal: 2.4s\tremaining: 5.19s\n",
      "316:\tlearn: 1844.3166115\ttotal: 2.4s\tremaining: 5.18s\n",
      "317:\tlearn: 1843.7853434\ttotal: 2.41s\tremaining: 5.17s\n",
      "318:\tlearn: 1843.2474128\ttotal: 2.42s\tremaining: 5.16s\n",
      "319:\tlearn: 1842.7467596\ttotal: 2.43s\tremaining: 5.16s\n",
      "320:\tlearn: 1842.3287560\ttotal: 2.43s\tremaining: 5.15s\n",
      "321:\tlearn: 1841.9911990\ttotal: 2.44s\tremaining: 5.14s\n",
      "322:\tlearn: 1841.5525994\ttotal: 2.45s\tremaining: 5.13s\n",
      "323:\tlearn: 1840.9785604\ttotal: 2.46s\tremaining: 5.12s\n",
      "324:\tlearn: 1840.3250095\ttotal: 2.46s\tremaining: 5.12s\n",
      "325:\tlearn: 1840.0414807\ttotal: 2.47s\tremaining: 5.11s\n",
      "326:\tlearn: 1839.7677702\ttotal: 2.48s\tremaining: 5.1s\n",
      "327:\tlearn: 1839.2515412\ttotal: 2.48s\tremaining: 5.09s\n",
      "328:\tlearn: 1838.8472764\ttotal: 2.49s\tremaining: 5.08s\n",
      "329:\tlearn: 1838.5913995\ttotal: 2.5s\tremaining: 5.07s\n",
      "330:\tlearn: 1838.0601433\ttotal: 2.51s\tremaining: 5.07s\n",
      "331:\tlearn: 1837.7700569\ttotal: 2.51s\tremaining: 5.06s\n",
      "332:\tlearn: 1837.4668713\ttotal: 2.52s\tremaining: 5.05s\n",
      "333:\tlearn: 1837.2184667\ttotal: 2.53s\tremaining: 5.04s\n",
      "334:\tlearn: 1836.9482641\ttotal: 2.53s\tremaining: 5.03s\n",
      "335:\tlearn: 1836.6996561\ttotal: 2.54s\tremaining: 5.02s\n",
      "336:\tlearn: 1836.2731590\ttotal: 2.55s\tremaining: 5.01s\n",
      "337:\tlearn: 1836.0026583\ttotal: 2.55s\tremaining: 5s\n",
      "338:\tlearn: 1835.6710661\ttotal: 2.56s\tremaining: 4.99s\n",
      "339:\tlearn: 1835.2529822\ttotal: 2.57s\tremaining: 4.99s\n",
      "340:\tlearn: 1834.9242479\ttotal: 2.58s\tremaining: 4.98s\n",
      "341:\tlearn: 1834.6339247\ttotal: 2.58s\tremaining: 4.97s\n",
      "342:\tlearn: 1834.1075959\ttotal: 2.59s\tremaining: 4.96s\n",
      "343:\tlearn: 1833.6218298\ttotal: 2.6s\tremaining: 4.95s\n",
      "344:\tlearn: 1833.2118256\ttotal: 2.6s\tremaining: 4.94s\n",
      "345:\tlearn: 1832.6392270\ttotal: 2.61s\tremaining: 4.93s\n",
      "346:\tlearn: 1832.1452196\ttotal: 2.62s\tremaining: 4.93s\n",
      "347:\tlearn: 1831.8780042\ttotal: 2.63s\tremaining: 4.92s\n",
      "348:\tlearn: 1831.4360493\ttotal: 2.63s\tremaining: 4.91s\n",
      "349:\tlearn: 1831.1914868\ttotal: 2.64s\tremaining: 4.9s\n",
      "350:\tlearn: 1831.0065966\ttotal: 2.65s\tremaining: 4.89s\n",
      "351:\tlearn: 1830.7565850\ttotal: 2.65s\tremaining: 4.88s\n",
      "352:\tlearn: 1830.2754096\ttotal: 2.66s\tremaining: 4.87s\n",
      "353:\tlearn: 1830.0586587\ttotal: 2.67s\tremaining: 4.87s\n",
      "354:\tlearn: 1829.5884406\ttotal: 2.67s\tremaining: 4.86s\n",
      "355:\tlearn: 1829.0985649\ttotal: 2.68s\tremaining: 4.85s\n",
      "356:\tlearn: 1828.6935912\ttotal: 2.69s\tremaining: 4.84s\n",
      "357:\tlearn: 1828.4809311\ttotal: 2.7s\tremaining: 4.84s\n",
      "358:\tlearn: 1828.2622890\ttotal: 2.71s\tremaining: 4.83s\n",
      "359:\tlearn: 1827.9442222\ttotal: 2.71s\tremaining: 4.82s\n",
      "360:\tlearn: 1827.3811740\ttotal: 2.72s\tremaining: 4.81s\n",
      "361:\tlearn: 1827.0458090\ttotal: 2.73s\tremaining: 4.81s\n",
      "362:\tlearn: 1826.8036198\ttotal: 2.74s\tremaining: 4.8s\n",
      "363:\tlearn: 1826.4223685\ttotal: 2.75s\tremaining: 4.8s\n",
      "364:\tlearn: 1825.9440870\ttotal: 2.75s\tremaining: 4.79s\n",
      "365:\tlearn: 1825.5844133\ttotal: 2.76s\tremaining: 4.78s\n",
      "366:\tlearn: 1825.3079970\ttotal: 2.77s\tremaining: 4.78s\n",
      "367:\tlearn: 1824.8709233\ttotal: 2.78s\tremaining: 4.77s\n",
      "368:\tlearn: 1824.5551916\ttotal: 2.78s\tremaining: 4.76s\n",
      "369:\tlearn: 1824.1797005\ttotal: 2.79s\tremaining: 4.75s\n",
      "370:\tlearn: 1823.8293122\ttotal: 2.8s\tremaining: 4.74s\n",
      "371:\tlearn: 1823.2634720\ttotal: 2.81s\tremaining: 4.74s\n",
      "372:\tlearn: 1822.9503892\ttotal: 2.81s\tremaining: 4.73s\n",
      "373:\tlearn: 1822.6350747\ttotal: 2.82s\tremaining: 4.72s\n",
      "374:\tlearn: 1822.3316201\ttotal: 2.83s\tremaining: 4.71s\n",
      "375:\tlearn: 1822.0682921\ttotal: 2.83s\tremaining: 4.7s\n",
      "376:\tlearn: 1821.9023095\ttotal: 2.84s\tremaining: 4.69s\n",
      "377:\tlearn: 1821.6083546\ttotal: 2.85s\tremaining: 4.68s\n",
      "378:\tlearn: 1821.0813882\ttotal: 2.85s\tremaining: 4.68s\n",
      "379:\tlearn: 1820.5874975\ttotal: 2.86s\tremaining: 4.67s\n",
      "380:\tlearn: 1820.2851773\ttotal: 2.87s\tremaining: 4.66s\n",
      "381:\tlearn: 1820.1269687\ttotal: 2.87s\tremaining: 4.65s\n",
      "382:\tlearn: 1819.6583140\ttotal: 2.88s\tremaining: 4.64s\n",
      "383:\tlearn: 1819.4547891\ttotal: 2.89s\tremaining: 4.63s\n",
      "384:\tlearn: 1818.8360169\ttotal: 2.9s\tremaining: 4.63s\n",
      "385:\tlearn: 1818.5142423\ttotal: 2.9s\tremaining: 4.62s\n",
      "386:\tlearn: 1818.1965464\ttotal: 2.91s\tremaining: 4.61s\n",
      "387:\tlearn: 1817.8659661\ttotal: 2.92s\tremaining: 4.6s\n",
      "388:\tlearn: 1817.5393692\ttotal: 2.92s\tremaining: 4.59s\n",
      "389:\tlearn: 1817.1239400\ttotal: 2.93s\tremaining: 4.59s\n",
      "390:\tlearn: 1816.6617918\ttotal: 2.94s\tremaining: 4.58s\n",
      "391:\tlearn: 1816.4012386\ttotal: 2.95s\tremaining: 4.57s\n",
      "392:\tlearn: 1816.0629306\ttotal: 2.95s\tremaining: 4.56s\n",
      "393:\tlearn: 1815.4985424\ttotal: 2.96s\tremaining: 4.55s\n",
      "394:\tlearn: 1815.3072867\ttotal: 2.97s\tremaining: 4.54s\n",
      "395:\tlearn: 1814.9065124\ttotal: 2.97s\tremaining: 4.54s\n",
      "396:\tlearn: 1814.4762797\ttotal: 2.98s\tremaining: 4.53s\n",
      "397:\tlearn: 1814.2939725\ttotal: 2.99s\tremaining: 4.52s\n",
      "398:\tlearn: 1814.0047710\ttotal: 3s\tremaining: 4.51s\n",
      "399:\tlearn: 1813.6269259\ttotal: 3s\tremaining: 4.51s\n",
      "400:\tlearn: 1813.2377554\ttotal: 3.01s\tremaining: 4.5s\n",
      "401:\tlearn: 1812.9596806\ttotal: 3.02s\tremaining: 4.49s\n",
      "402:\tlearn: 1812.7595423\ttotal: 3.03s\tremaining: 4.48s\n",
      "403:\tlearn: 1812.4040708\ttotal: 3.03s\tremaining: 4.47s\n",
      "404:\tlearn: 1812.0870965\ttotal: 3.04s\tremaining: 4.47s\n",
      "405:\tlearn: 1811.7728175\ttotal: 3.05s\tremaining: 4.46s\n",
      "406:\tlearn: 1811.4742134\ttotal: 3.06s\tremaining: 4.45s\n",
      "407:\tlearn: 1811.0157975\ttotal: 3.06s\tremaining: 4.45s\n",
      "408:\tlearn: 1810.7312718\ttotal: 3.08s\tremaining: 4.45s\n",
      "409:\tlearn: 1810.2704083\ttotal: 3.08s\tremaining: 4.44s\n",
      "410:\tlearn: 1810.0187530\ttotal: 3.09s\tremaining: 4.43s\n",
      "411:\tlearn: 1809.5701818\ttotal: 3.1s\tremaining: 4.42s\n",
      "412:\tlearn: 1808.9019773\ttotal: 3.11s\tremaining: 4.42s\n",
      "413:\tlearn: 1808.4655403\ttotal: 3.11s\tremaining: 4.41s\n",
      "414:\tlearn: 1807.9829565\ttotal: 3.12s\tremaining: 4.4s\n",
      "415:\tlearn: 1807.7520620\ttotal: 3.13s\tremaining: 4.39s\n",
      "416:\tlearn: 1807.4968789\ttotal: 3.13s\tremaining: 4.38s\n",
      "417:\tlearn: 1806.8671933\ttotal: 3.14s\tremaining: 4.38s\n",
      "418:\tlearn: 1806.5719531\ttotal: 3.15s\tremaining: 4.37s\n",
      "419:\tlearn: 1806.1031611\ttotal: 3.16s\tremaining: 4.36s\n",
      "420:\tlearn: 1805.9550872\ttotal: 3.16s\tremaining: 4.35s\n",
      "421:\tlearn: 1805.6759203\ttotal: 3.17s\tremaining: 4.34s\n",
      "422:\tlearn: 1805.4475264\ttotal: 3.18s\tremaining: 4.33s\n",
      "423:\tlearn: 1805.1336846\ttotal: 3.19s\tremaining: 4.33s\n",
      "424:\tlearn: 1804.7742964\ttotal: 3.19s\tremaining: 4.32s\n",
      "425:\tlearn: 1804.0357928\ttotal: 3.2s\tremaining: 4.31s\n",
      "426:\tlearn: 1803.7301445\ttotal: 3.21s\tremaining: 4.3s\n",
      "427:\tlearn: 1803.3345237\ttotal: 3.21s\tremaining: 4.3s\n",
      "428:\tlearn: 1802.9681270\ttotal: 3.22s\tremaining: 4.29s\n",
      "429:\tlearn: 1802.3948720\ttotal: 3.23s\tremaining: 4.28s\n",
      "430:\tlearn: 1801.9984200\ttotal: 3.24s\tremaining: 4.27s\n",
      "431:\tlearn: 1801.3997076\ttotal: 3.25s\tremaining: 4.27s\n",
      "432:\tlearn: 1800.8707202\ttotal: 3.25s\tremaining: 4.26s\n",
      "433:\tlearn: 1800.3583994\ttotal: 3.26s\tremaining: 4.25s\n",
      "434:\tlearn: 1799.9374915\ttotal: 3.27s\tremaining: 4.25s\n",
      "435:\tlearn: 1799.6568647\ttotal: 3.28s\tremaining: 4.24s\n",
      "436:\tlearn: 1799.3653291\ttotal: 3.28s\tremaining: 4.23s\n",
      "437:\tlearn: 1799.1613617\ttotal: 3.29s\tremaining: 4.22s\n",
      "438:\tlearn: 1798.9583471\ttotal: 3.3s\tremaining: 4.21s\n",
      "439:\tlearn: 1798.6221420\ttotal: 3.31s\tremaining: 4.21s\n",
      "440:\tlearn: 1798.3363043\ttotal: 3.31s\tremaining: 4.2s\n",
      "441:\tlearn: 1798.1127096\ttotal: 3.32s\tremaining: 4.19s\n",
      "442:\tlearn: 1797.7364522\ttotal: 3.33s\tremaining: 4.18s\n",
      "443:\tlearn: 1797.3785829\ttotal: 3.33s\tremaining: 4.18s\n",
      "444:\tlearn: 1796.9325909\ttotal: 3.34s\tremaining: 4.17s\n",
      "445:\tlearn: 1796.5856323\ttotal: 3.35s\tremaining: 4.16s\n",
      "446:\tlearn: 1796.1721752\ttotal: 3.36s\tremaining: 4.16s\n",
      "447:\tlearn: 1795.9105755\ttotal: 3.37s\tremaining: 4.15s\n",
      "448:\tlearn: 1795.7248522\ttotal: 3.38s\tremaining: 4.15s\n",
      "449:\tlearn: 1795.3138003\ttotal: 3.39s\tremaining: 4.14s\n",
      "450:\tlearn: 1795.0795616\ttotal: 3.4s\tremaining: 4.13s\n",
      "451:\tlearn: 1794.5084538\ttotal: 3.4s\tremaining: 4.13s\n",
      "452:\tlearn: 1794.0732638\ttotal: 3.41s\tremaining: 4.12s\n",
      "453:\tlearn: 1793.7199334\ttotal: 3.42s\tremaining: 4.11s\n",
      "454:\tlearn: 1793.4313209\ttotal: 3.43s\tremaining: 4.1s\n",
      "455:\tlearn: 1793.0794268\ttotal: 3.43s\tremaining: 4.1s\n",
      "456:\tlearn: 1792.7452687\ttotal: 3.44s\tremaining: 4.09s\n",
      "457:\tlearn: 1792.3935638\ttotal: 3.45s\tremaining: 4.08s\n",
      "458:\tlearn: 1791.9619175\ttotal: 3.46s\tremaining: 4.07s\n",
      "459:\tlearn: 1791.8123669\ttotal: 3.46s\tremaining: 4.06s\n",
      "460:\tlearn: 1791.5857577\ttotal: 3.47s\tremaining: 4.05s\n",
      "461:\tlearn: 1791.4040325\ttotal: 3.48s\tremaining: 4.05s\n",
      "462:\tlearn: 1791.0900163\ttotal: 3.48s\tremaining: 4.04s\n",
      "463:\tlearn: 1790.8446061\ttotal: 3.49s\tremaining: 4.03s\n",
      "464:\tlearn: 1790.5202917\ttotal: 3.5s\tremaining: 4.02s\n",
      "465:\tlearn: 1790.1883717\ttotal: 3.5s\tremaining: 4.01s\n",
      "466:\tlearn: 1789.9241087\ttotal: 3.51s\tremaining: 4.01s\n",
      "467:\tlearn: 1789.4149765\ttotal: 3.52s\tremaining: 4s\n",
      "468:\tlearn: 1789.1847421\ttotal: 3.52s\tremaining: 3.99s\n",
      "469:\tlearn: 1788.7072630\ttotal: 3.53s\tremaining: 3.98s\n",
      "470:\tlearn: 1788.3359486\ttotal: 3.54s\tremaining: 3.98s\n",
      "471:\tlearn: 1788.0217609\ttotal: 3.55s\tremaining: 3.97s\n",
      "472:\tlearn: 1787.5942309\ttotal: 3.55s\tremaining: 3.96s\n",
      "473:\tlearn: 1787.2912536\ttotal: 3.56s\tremaining: 3.95s\n",
      "474:\tlearn: 1787.0553527\ttotal: 3.57s\tremaining: 3.94s\n",
      "475:\tlearn: 1786.8690747\ttotal: 3.58s\tremaining: 3.94s\n",
      "476:\tlearn: 1786.5632460\ttotal: 3.58s\tremaining: 3.93s\n",
      "477:\tlearn: 1786.3399794\ttotal: 3.59s\tremaining: 3.92s\n",
      "478:\tlearn: 1786.0723192\ttotal: 3.6s\tremaining: 3.91s\n",
      "479:\tlearn: 1785.8695528\ttotal: 3.6s\tremaining: 3.9s\n",
      "480:\tlearn: 1785.6506145\ttotal: 3.61s\tremaining: 3.9s\n",
      "481:\tlearn: 1785.3169475\ttotal: 3.62s\tremaining: 3.89s\n",
      "482:\tlearn: 1785.1902694\ttotal: 3.62s\tremaining: 3.88s\n",
      "483:\tlearn: 1784.8424719\ttotal: 3.63s\tremaining: 3.87s\n",
      "484:\tlearn: 1784.7267182\ttotal: 3.64s\tremaining: 3.86s\n",
      "485:\tlearn: 1784.5878067\ttotal: 3.65s\tremaining: 3.85s\n",
      "486:\tlearn: 1784.1847407\ttotal: 3.65s\tremaining: 3.85s\n",
      "487:\tlearn: 1783.8797898\ttotal: 3.66s\tremaining: 3.84s\n",
      "488:\tlearn: 1783.5614409\ttotal: 3.67s\tremaining: 3.83s\n",
      "489:\tlearn: 1783.2041029\ttotal: 3.68s\tremaining: 3.83s\n",
      "490:\tlearn: 1782.9931474\ttotal: 3.68s\tremaining: 3.82s\n",
      "491:\tlearn: 1782.7373950\ttotal: 3.69s\tremaining: 3.81s\n",
      "492:\tlearn: 1782.0650678\ttotal: 3.7s\tremaining: 3.8s\n",
      "493:\tlearn: 1781.8083424\ttotal: 3.71s\tremaining: 3.8s\n",
      "494:\tlearn: 1781.6488927\ttotal: 3.71s\tremaining: 3.79s\n",
      "495:\tlearn: 1781.5921234\ttotal: 3.72s\tremaining: 3.78s\n",
      "496:\tlearn: 1781.3727094\ttotal: 3.73s\tremaining: 3.77s\n",
      "497:\tlearn: 1781.0717785\ttotal: 3.73s\tremaining: 3.76s\n",
      "498:\tlearn: 1780.8623785\ttotal: 3.74s\tremaining: 3.76s\n",
      "499:\tlearn: 1780.4620375\ttotal: 3.75s\tremaining: 3.75s\n",
      "500:\tlearn: 1780.2396703\ttotal: 3.76s\tremaining: 3.74s\n",
      "501:\tlearn: 1780.0526977\ttotal: 3.76s\tremaining: 3.73s\n",
      "502:\tlearn: 1779.7559758\ttotal: 3.77s\tremaining: 3.73s\n",
      "503:\tlearn: 1779.5162150\ttotal: 3.78s\tremaining: 3.72s\n",
      "504:\tlearn: 1779.2563937\ttotal: 3.79s\tremaining: 3.71s\n",
      "505:\tlearn: 1778.8048384\ttotal: 3.79s\tremaining: 3.7s\n",
      "506:\tlearn: 1778.5117677\ttotal: 3.8s\tremaining: 3.7s\n",
      "507:\tlearn: 1778.4607360\ttotal: 3.81s\tremaining: 3.69s\n",
      "508:\tlearn: 1778.1688889\ttotal: 3.81s\tremaining: 3.68s\n",
      "509:\tlearn: 1777.9630806\ttotal: 3.82s\tremaining: 3.67s\n",
      "510:\tlearn: 1777.7736663\ttotal: 3.83s\tremaining: 3.66s\n",
      "511:\tlearn: 1777.5821323\ttotal: 3.83s\tremaining: 3.65s\n",
      "512:\tlearn: 1777.2941105\ttotal: 3.84s\tremaining: 3.65s\n",
      "513:\tlearn: 1777.2787266\ttotal: 3.85s\tremaining: 3.64s\n",
      "514:\tlearn: 1777.1037325\ttotal: 3.85s\tremaining: 3.63s\n",
      "515:\tlearn: 1776.7272185\ttotal: 3.86s\tremaining: 3.62s\n",
      "516:\tlearn: 1776.5684599\ttotal: 3.87s\tremaining: 3.62s\n",
      "517:\tlearn: 1776.4655687\ttotal: 3.88s\tremaining: 3.61s\n",
      "518:\tlearn: 1775.9119370\ttotal: 3.88s\tremaining: 3.6s\n",
      "519:\tlearn: 1775.7906475\ttotal: 3.89s\tremaining: 3.59s\n",
      "520:\tlearn: 1775.4616513\ttotal: 3.9s\tremaining: 3.58s\n",
      "521:\tlearn: 1775.3171985\ttotal: 3.91s\tremaining: 3.58s\n",
      "522:\tlearn: 1775.1949713\ttotal: 3.91s\tremaining: 3.57s\n",
      "523:\tlearn: 1774.7469120\ttotal: 3.92s\tremaining: 3.56s\n",
      "524:\tlearn: 1774.5616790\ttotal: 3.93s\tremaining: 3.55s\n",
      "525:\tlearn: 1774.0067529\ttotal: 3.94s\tremaining: 3.55s\n",
      "526:\tlearn: 1773.7601112\ttotal: 3.94s\tremaining: 3.54s\n",
      "527:\tlearn: 1773.4799628\ttotal: 3.95s\tremaining: 3.53s\n",
      "528:\tlearn: 1773.2967405\ttotal: 3.96s\tremaining: 3.52s\n",
      "529:\tlearn: 1773.0222764\ttotal: 3.96s\tremaining: 3.52s\n",
      "530:\tlearn: 1772.9888664\ttotal: 3.97s\tremaining: 3.51s\n",
      "531:\tlearn: 1772.6703861\ttotal: 3.98s\tremaining: 3.5s\n",
      "532:\tlearn: 1772.4122829\ttotal: 3.98s\tremaining: 3.49s\n",
      "533:\tlearn: 1772.3196544\ttotal: 3.99s\tremaining: 3.48s\n",
      "534:\tlearn: 1772.1078275\ttotal: 4s\tremaining: 3.48s\n",
      "535:\tlearn: 1771.9942366\ttotal: 4s\tremaining: 3.47s\n",
      "536:\tlearn: 1771.6813805\ttotal: 4.01s\tremaining: 3.46s\n",
      "537:\tlearn: 1771.2663071\ttotal: 4.02s\tremaining: 3.45s\n",
      "538:\tlearn: 1771.1552621\ttotal: 4.03s\tremaining: 3.44s\n",
      "539:\tlearn: 1771.0255037\ttotal: 4.03s\tremaining: 3.44s\n",
      "540:\tlearn: 1770.7044681\ttotal: 4.04s\tremaining: 3.43s\n",
      "541:\tlearn: 1770.2534290\ttotal: 4.05s\tremaining: 3.42s\n",
      "542:\tlearn: 1769.8092205\ttotal: 4.05s\tremaining: 3.41s\n",
      "543:\tlearn: 1769.4427492\ttotal: 4.06s\tremaining: 3.4s\n",
      "544:\tlearn: 1769.2056867\ttotal: 4.07s\tremaining: 3.4s\n",
      "545:\tlearn: 1769.0226598\ttotal: 4.08s\tremaining: 3.39s\n",
      "546:\tlearn: 1768.9959480\ttotal: 4.08s\tremaining: 3.38s\n",
      "547:\tlearn: 1768.8272950\ttotal: 4.09s\tremaining: 3.37s\n",
      "548:\tlearn: 1768.8028936\ttotal: 4.1s\tremaining: 3.37s\n",
      "549:\tlearn: 1768.6760061\ttotal: 4.1s\tremaining: 3.36s\n",
      "550:\tlearn: 1768.3598454\ttotal: 4.11s\tremaining: 3.35s\n",
      "551:\tlearn: 1768.0235847\ttotal: 4.12s\tremaining: 3.34s\n",
      "552:\tlearn: 1767.7815638\ttotal: 4.13s\tremaining: 3.33s\n",
      "553:\tlearn: 1767.4450056\ttotal: 4.13s\tremaining: 3.33s\n",
      "554:\tlearn: 1767.2905482\ttotal: 4.14s\tremaining: 3.32s\n",
      "555:\tlearn: 1767.1988766\ttotal: 4.15s\tremaining: 3.31s\n",
      "556:\tlearn: 1766.9870732\ttotal: 4.16s\tremaining: 3.31s\n",
      "557:\tlearn: 1766.6320245\ttotal: 4.16s\tremaining: 3.3s\n",
      "558:\tlearn: 1766.4200046\ttotal: 4.17s\tremaining: 3.29s\n",
      "559:\tlearn: 1766.3358418\ttotal: 4.18s\tremaining: 3.28s\n",
      "560:\tlearn: 1766.1624661\ttotal: 4.18s\tremaining: 3.27s\n",
      "561:\tlearn: 1765.9046218\ttotal: 4.19s\tremaining: 3.27s\n",
      "562:\tlearn: 1765.7534991\ttotal: 4.2s\tremaining: 3.26s\n",
      "563:\tlearn: 1765.4327678\ttotal: 4.21s\tremaining: 3.25s\n",
      "564:\tlearn: 1765.1308763\ttotal: 4.21s\tremaining: 3.25s\n",
      "565:\tlearn: 1764.8882512\ttotal: 4.22s\tremaining: 3.24s\n",
      "566:\tlearn: 1764.6766754\ttotal: 4.23s\tremaining: 3.23s\n",
      "567:\tlearn: 1764.5606626\ttotal: 4.24s\tremaining: 3.22s\n",
      "568:\tlearn: 1764.2456755\ttotal: 4.25s\tremaining: 3.21s\n",
      "569:\tlearn: 1763.8194717\ttotal: 4.25s\tremaining: 3.21s\n",
      "570:\tlearn: 1763.5322422\ttotal: 4.26s\tremaining: 3.2s\n",
      "571:\tlearn: 1763.4285485\ttotal: 4.27s\tremaining: 3.19s\n",
      "572:\tlearn: 1763.1928577\ttotal: 4.27s\tremaining: 3.19s\n",
      "573:\tlearn: 1762.9331066\ttotal: 4.28s\tremaining: 3.18s\n",
      "574:\tlearn: 1762.6253393\ttotal: 4.29s\tremaining: 3.17s\n",
      "575:\tlearn: 1762.3175627\ttotal: 4.3s\tremaining: 3.16s\n",
      "576:\tlearn: 1762.0030144\ttotal: 4.31s\tremaining: 3.16s\n",
      "577:\tlearn: 1761.7558867\ttotal: 4.32s\tremaining: 3.16s\n",
      "578:\tlearn: 1761.4783177\ttotal: 4.33s\tremaining: 3.15s\n",
      "579:\tlearn: 1761.2103054\ttotal: 4.34s\tremaining: 3.14s\n",
      "580:\tlearn: 1760.8854076\ttotal: 4.35s\tremaining: 3.13s\n",
      "581:\tlearn: 1760.7492525\ttotal: 4.36s\tremaining: 3.13s\n",
      "582:\tlearn: 1760.3549666\ttotal: 4.36s\tremaining: 3.12s\n",
      "583:\tlearn: 1760.1311228\ttotal: 4.37s\tremaining: 3.11s\n",
      "584:\tlearn: 1759.7504102\ttotal: 4.38s\tremaining: 3.1s\n",
      "585:\tlearn: 1759.3893201\ttotal: 4.38s\tremaining: 3.1s\n",
      "586:\tlearn: 1759.1210279\ttotal: 4.39s\tremaining: 3.09s\n",
      "587:\tlearn: 1758.9944011\ttotal: 4.4s\tremaining: 3.08s\n",
      "588:\tlearn: 1758.6775474\ttotal: 4.41s\tremaining: 3.07s\n",
      "589:\tlearn: 1758.4987251\ttotal: 4.41s\tremaining: 3.07s\n",
      "590:\tlearn: 1758.2693887\ttotal: 4.42s\tremaining: 3.06s\n",
      "591:\tlearn: 1758.0599869\ttotal: 4.43s\tremaining: 3.05s\n",
      "592:\tlearn: 1757.4635818\ttotal: 4.43s\tremaining: 3.04s\n",
      "593:\tlearn: 1756.9963356\ttotal: 4.44s\tremaining: 3.04s\n",
      "594:\tlearn: 1756.7207508\ttotal: 4.45s\tremaining: 3.03s\n",
      "595:\tlearn: 1756.5024022\ttotal: 4.46s\tremaining: 3.02s\n",
      "596:\tlearn: 1756.2907541\ttotal: 4.46s\tremaining: 3.01s\n",
      "597:\tlearn: 1755.9132409\ttotal: 4.47s\tremaining: 3.01s\n",
      "598:\tlearn: 1755.6851599\ttotal: 4.48s\tremaining: 3s\n",
      "599:\tlearn: 1755.2125739\ttotal: 4.49s\tremaining: 2.99s\n",
      "600:\tlearn: 1754.8348966\ttotal: 4.49s\tremaining: 2.98s\n",
      "601:\tlearn: 1754.6344747\ttotal: 4.5s\tremaining: 2.98s\n",
      "602:\tlearn: 1754.4156690\ttotal: 4.51s\tremaining: 2.97s\n",
      "603:\tlearn: 1754.2689346\ttotal: 4.52s\tremaining: 2.96s\n",
      "604:\tlearn: 1753.9911157\ttotal: 4.52s\tremaining: 2.95s\n",
      "605:\tlearn: 1753.7815865\ttotal: 4.53s\tremaining: 2.95s\n",
      "606:\tlearn: 1753.6252508\ttotal: 4.54s\tremaining: 2.94s\n",
      "607:\tlearn: 1753.3412387\ttotal: 4.55s\tremaining: 2.93s\n",
      "608:\tlearn: 1753.0660246\ttotal: 4.55s\tremaining: 2.92s\n",
      "609:\tlearn: 1752.8289554\ttotal: 4.56s\tremaining: 2.92s\n",
      "610:\tlearn: 1752.5941589\ttotal: 4.57s\tremaining: 2.91s\n",
      "611:\tlearn: 1752.3525930\ttotal: 4.58s\tremaining: 2.9s\n",
      "612:\tlearn: 1752.1127055\ttotal: 4.58s\tremaining: 2.89s\n",
      "613:\tlearn: 1751.8930195\ttotal: 4.59s\tremaining: 2.89s\n",
      "614:\tlearn: 1751.7849972\ttotal: 4.6s\tremaining: 2.88s\n",
      "615:\tlearn: 1751.4208436\ttotal: 4.61s\tremaining: 2.87s\n",
      "616:\tlearn: 1751.3189780\ttotal: 4.61s\tremaining: 2.86s\n",
      "617:\tlearn: 1751.1976458\ttotal: 4.62s\tremaining: 2.85s\n",
      "618:\tlearn: 1750.8001472\ttotal: 4.63s\tremaining: 2.85s\n",
      "619:\tlearn: 1750.6243511\ttotal: 4.63s\tremaining: 2.84s\n",
      "620:\tlearn: 1750.3159450\ttotal: 4.64s\tremaining: 2.83s\n",
      "621:\tlearn: 1749.9652929\ttotal: 4.65s\tremaining: 2.83s\n",
      "622:\tlearn: 1749.6947519\ttotal: 4.66s\tremaining: 2.82s\n",
      "623:\tlearn: 1749.5256171\ttotal: 4.67s\tremaining: 2.81s\n",
      "624:\tlearn: 1749.2495087\ttotal: 4.67s\tremaining: 2.8s\n",
      "625:\tlearn: 1748.9727157\ttotal: 4.68s\tremaining: 2.8s\n",
      "626:\tlearn: 1748.7039420\ttotal: 4.69s\tremaining: 2.79s\n",
      "627:\tlearn: 1748.5473249\ttotal: 4.7s\tremaining: 2.78s\n",
      "628:\tlearn: 1748.3273710\ttotal: 4.7s\tremaining: 2.77s\n",
      "629:\tlearn: 1748.1321903\ttotal: 4.71s\tremaining: 2.77s\n",
      "630:\tlearn: 1747.9535102\ttotal: 4.72s\tremaining: 2.76s\n",
      "631:\tlearn: 1747.8711621\ttotal: 4.73s\tremaining: 2.75s\n",
      "632:\tlearn: 1747.6753250\ttotal: 4.73s\tremaining: 2.74s\n",
      "633:\tlearn: 1747.5808131\ttotal: 4.74s\tremaining: 2.74s\n",
      "634:\tlearn: 1747.1939491\ttotal: 4.75s\tremaining: 2.73s\n",
      "635:\tlearn: 1746.9603684\ttotal: 4.75s\tremaining: 2.72s\n",
      "636:\tlearn: 1746.8419888\ttotal: 4.76s\tremaining: 2.71s\n",
      "637:\tlearn: 1746.6973114\ttotal: 4.77s\tremaining: 2.71s\n",
      "638:\tlearn: 1746.3528051\ttotal: 4.78s\tremaining: 2.7s\n",
      "639:\tlearn: 1746.0838881\ttotal: 4.78s\tremaining: 2.69s\n",
      "640:\tlearn: 1745.7248425\ttotal: 4.79s\tremaining: 2.68s\n",
      "641:\tlearn: 1745.5495164\ttotal: 4.8s\tremaining: 2.67s\n",
      "642:\tlearn: 1745.3743327\ttotal: 4.8s\tremaining: 2.67s\n",
      "643:\tlearn: 1745.1539294\ttotal: 4.81s\tremaining: 2.66s\n",
      "644:\tlearn: 1744.9956226\ttotal: 4.82s\tremaining: 2.65s\n",
      "645:\tlearn: 1744.9712030\ttotal: 4.83s\tremaining: 2.64s\n",
      "646:\tlearn: 1744.7386227\ttotal: 4.83s\tremaining: 2.64s\n",
      "647:\tlearn: 1744.5607760\ttotal: 4.84s\tremaining: 2.63s\n",
      "648:\tlearn: 1744.2657536\ttotal: 4.85s\tremaining: 2.62s\n",
      "649:\tlearn: 1744.1738190\ttotal: 4.85s\tremaining: 2.61s\n",
      "650:\tlearn: 1743.9698741\ttotal: 4.86s\tremaining: 2.61s\n",
      "651:\tlearn: 1743.8584801\ttotal: 4.87s\tremaining: 2.6s\n",
      "652:\tlearn: 1743.7869762\ttotal: 4.87s\tremaining: 2.59s\n",
      "653:\tlearn: 1743.5769540\ttotal: 4.88s\tremaining: 2.58s\n",
      "654:\tlearn: 1743.2913863\ttotal: 4.89s\tremaining: 2.58s\n",
      "655:\tlearn: 1743.0470836\ttotal: 4.9s\tremaining: 2.57s\n",
      "656:\tlearn: 1742.6463983\ttotal: 4.91s\tremaining: 2.56s\n",
      "657:\tlearn: 1742.5323156\ttotal: 4.91s\tremaining: 2.55s\n",
      "658:\tlearn: 1742.2379739\ttotal: 4.92s\tremaining: 2.54s\n",
      "659:\tlearn: 1742.0519363\ttotal: 4.92s\tremaining: 2.54s\n",
      "660:\tlearn: 1741.8212725\ttotal: 4.93s\tremaining: 2.53s\n",
      "661:\tlearn: 1741.6507374\ttotal: 4.94s\tremaining: 2.52s\n",
      "662:\tlearn: 1741.3618931\ttotal: 4.95s\tremaining: 2.51s\n",
      "663:\tlearn: 1741.1050158\ttotal: 4.95s\tremaining: 2.51s\n",
      "664:\tlearn: 1741.0019082\ttotal: 4.96s\tremaining: 2.5s\n",
      "665:\tlearn: 1740.7505493\ttotal: 4.97s\tremaining: 2.49s\n",
      "666:\tlearn: 1740.6857956\ttotal: 4.97s\tremaining: 2.48s\n",
      "667:\tlearn: 1740.3037488\ttotal: 4.98s\tremaining: 2.48s\n",
      "668:\tlearn: 1740.1701478\ttotal: 4.99s\tremaining: 2.47s\n",
      "669:\tlearn: 1739.9072911\ttotal: 5s\tremaining: 2.46s\n",
      "670:\tlearn: 1739.5504483\ttotal: 5s\tremaining: 2.45s\n",
      "671:\tlearn: 1739.4614961\ttotal: 5.01s\tremaining: 2.45s\n",
      "672:\tlearn: 1739.1836698\ttotal: 5.02s\tremaining: 2.44s\n",
      "673:\tlearn: 1738.9114698\ttotal: 5.03s\tremaining: 2.43s\n",
      "674:\tlearn: 1738.6654238\ttotal: 5.03s\tremaining: 2.42s\n",
      "675:\tlearn: 1738.4563047\ttotal: 5.04s\tremaining: 2.42s\n",
      "676:\tlearn: 1738.2501081\ttotal: 5.05s\tremaining: 2.41s\n",
      "677:\tlearn: 1738.0001627\ttotal: 5.06s\tremaining: 2.4s\n",
      "678:\tlearn: 1737.6768069\ttotal: 5.06s\tremaining: 2.39s\n",
      "679:\tlearn: 1737.3720750\ttotal: 5.07s\tremaining: 2.39s\n",
      "680:\tlearn: 1736.9936643\ttotal: 5.08s\tremaining: 2.38s\n",
      "681:\tlearn: 1736.7075008\ttotal: 5.09s\tremaining: 2.37s\n",
      "682:\tlearn: 1736.6071236\ttotal: 5.09s\tremaining: 2.36s\n",
      "683:\tlearn: 1736.2093909\ttotal: 5.1s\tremaining: 2.36s\n",
      "684:\tlearn: 1736.0169269\ttotal: 5.11s\tremaining: 2.35s\n",
      "685:\tlearn: 1735.8628633\ttotal: 5.12s\tremaining: 2.34s\n",
      "686:\tlearn: 1735.6658507\ttotal: 5.12s\tremaining: 2.33s\n",
      "687:\tlearn: 1735.3660102\ttotal: 5.13s\tremaining: 2.33s\n",
      "688:\tlearn: 1735.1264461\ttotal: 5.14s\tremaining: 2.32s\n",
      "689:\tlearn: 1734.9910109\ttotal: 5.14s\tremaining: 2.31s\n",
      "690:\tlearn: 1734.7507042\ttotal: 5.15s\tremaining: 2.3s\n",
      "691:\tlearn: 1734.3984040\ttotal: 5.16s\tremaining: 2.3s\n",
      "692:\tlearn: 1734.2410022\ttotal: 5.17s\tremaining: 2.29s\n",
      "693:\tlearn: 1734.0219599\ttotal: 5.17s\tremaining: 2.28s\n",
      "694:\tlearn: 1733.9315828\ttotal: 5.18s\tremaining: 2.27s\n",
      "695:\tlearn: 1733.6811572\ttotal: 5.19s\tremaining: 2.27s\n",
      "696:\tlearn: 1733.3467200\ttotal: 5.2s\tremaining: 2.26s\n",
      "697:\tlearn: 1733.1725259\ttotal: 5.2s\tremaining: 2.25s\n",
      "698:\tlearn: 1732.9470595\ttotal: 5.21s\tremaining: 2.24s\n",
      "699:\tlearn: 1732.6343866\ttotal: 5.22s\tremaining: 2.24s\n",
      "700:\tlearn: 1732.3349289\ttotal: 5.24s\tremaining: 2.23s\n",
      "701:\tlearn: 1732.2543552\ttotal: 5.25s\tremaining: 2.23s\n",
      "702:\tlearn: 1732.0643363\ttotal: 5.26s\tremaining: 2.22s\n",
      "703:\tlearn: 1731.7577147\ttotal: 5.27s\tremaining: 2.21s\n",
      "704:\tlearn: 1731.5189425\ttotal: 5.28s\tremaining: 2.21s\n",
      "705:\tlearn: 1731.3992089\ttotal: 5.29s\tremaining: 2.2s\n",
      "706:\tlearn: 1731.1441601\ttotal: 5.3s\tremaining: 2.2s\n",
      "707:\tlearn: 1730.9694819\ttotal: 5.31s\tremaining: 2.19s\n",
      "708:\tlearn: 1730.7226209\ttotal: 5.31s\tremaining: 2.18s\n",
      "709:\tlearn: 1730.3869787\ttotal: 5.32s\tremaining: 2.17s\n",
      "710:\tlearn: 1730.0643864\ttotal: 5.33s\tremaining: 2.17s\n",
      "711:\tlearn: 1729.8891421\ttotal: 5.34s\tremaining: 2.16s\n",
      "712:\tlearn: 1729.6643459\ttotal: 5.34s\tremaining: 2.15s\n",
      "713:\tlearn: 1729.4003802\ttotal: 5.35s\tremaining: 2.14s\n",
      "714:\tlearn: 1729.1592385\ttotal: 5.36s\tremaining: 2.14s\n",
      "715:\tlearn: 1728.9570368\ttotal: 5.37s\tremaining: 2.13s\n",
      "716:\tlearn: 1728.8148997\ttotal: 5.37s\tremaining: 2.12s\n",
      "717:\tlearn: 1728.5233365\ttotal: 5.38s\tremaining: 2.11s\n",
      "718:\tlearn: 1728.3559084\ttotal: 5.39s\tremaining: 2.11s\n",
      "719:\tlearn: 1728.2366299\ttotal: 5.4s\tremaining: 2.1s\n",
      "720:\tlearn: 1727.9961615\ttotal: 5.4s\tremaining: 2.09s\n",
      "721:\tlearn: 1727.8189478\ttotal: 5.41s\tremaining: 2.08s\n",
      "722:\tlearn: 1727.5403046\ttotal: 5.42s\tremaining: 2.08s\n",
      "723:\tlearn: 1727.2833682\ttotal: 5.43s\tremaining: 2.07s\n",
      "724:\tlearn: 1726.9724078\ttotal: 5.43s\tremaining: 2.06s\n",
      "725:\tlearn: 1726.9567911\ttotal: 5.44s\tremaining: 2.05s\n",
      "726:\tlearn: 1726.6979105\ttotal: 5.45s\tremaining: 2.04s\n",
      "727:\tlearn: 1726.5106179\ttotal: 5.46s\tremaining: 2.04s\n",
      "728:\tlearn: 1726.3481190\ttotal: 5.46s\tremaining: 2.03s\n",
      "729:\tlearn: 1726.2765703\ttotal: 5.47s\tremaining: 2.02s\n",
      "730:\tlearn: 1726.1224224\ttotal: 5.48s\tremaining: 2.02s\n",
      "731:\tlearn: 1725.8217373\ttotal: 5.49s\tremaining: 2.01s\n",
      "732:\tlearn: 1725.6053399\ttotal: 5.49s\tremaining: 2s\n",
      "733:\tlearn: 1725.4292451\ttotal: 5.5s\tremaining: 1.99s\n",
      "734:\tlearn: 1725.1451977\ttotal: 5.51s\tremaining: 1.99s\n",
      "735:\tlearn: 1725.0569491\ttotal: 5.51s\tremaining: 1.98s\n",
      "736:\tlearn: 1724.7764427\ttotal: 5.52s\tremaining: 1.97s\n",
      "737:\tlearn: 1724.6641630\ttotal: 5.53s\tremaining: 1.96s\n",
      "738:\tlearn: 1724.4219785\ttotal: 5.54s\tremaining: 1.96s\n",
      "739:\tlearn: 1724.1592170\ttotal: 5.54s\tremaining: 1.95s\n",
      "740:\tlearn: 1723.9466401\ttotal: 5.55s\tremaining: 1.94s\n",
      "741:\tlearn: 1723.7324399\ttotal: 5.56s\tremaining: 1.93s\n",
      "742:\tlearn: 1723.5201220\ttotal: 5.57s\tremaining: 1.92s\n",
      "743:\tlearn: 1723.3208910\ttotal: 5.57s\tremaining: 1.92s\n",
      "744:\tlearn: 1723.1444042\ttotal: 5.58s\tremaining: 1.91s\n",
      "745:\tlearn: 1722.8934715\ttotal: 5.59s\tremaining: 1.9s\n",
      "746:\tlearn: 1722.7493121\ttotal: 5.59s\tremaining: 1.89s\n",
      "747:\tlearn: 1722.6115512\ttotal: 5.6s\tremaining: 1.89s\n",
      "748:\tlearn: 1722.3128073\ttotal: 5.61s\tremaining: 1.88s\n",
      "749:\tlearn: 1722.2052701\ttotal: 5.62s\tremaining: 1.87s\n",
      "750:\tlearn: 1721.8477759\ttotal: 5.62s\tremaining: 1.86s\n",
      "751:\tlearn: 1721.6139299\ttotal: 5.63s\tremaining: 1.86s\n",
      "752:\tlearn: 1721.4308649\ttotal: 5.64s\tremaining: 1.85s\n",
      "753:\tlearn: 1721.3557341\ttotal: 5.65s\tremaining: 1.84s\n",
      "754:\tlearn: 1721.2157203\ttotal: 5.65s\tremaining: 1.83s\n",
      "755:\tlearn: 1721.1063128\ttotal: 5.66s\tremaining: 1.83s\n",
      "756:\tlearn: 1720.8952532\ttotal: 5.67s\tremaining: 1.82s\n",
      "757:\tlearn: 1720.7138972\ttotal: 5.68s\tremaining: 1.81s\n",
      "758:\tlearn: 1720.5971418\ttotal: 5.68s\tremaining: 1.8s\n",
      "759:\tlearn: 1720.4572887\ttotal: 5.69s\tremaining: 1.8s\n",
      "760:\tlearn: 1720.1005220\ttotal: 5.7s\tremaining: 1.79s\n",
      "761:\tlearn: 1719.9566923\ttotal: 5.7s\tremaining: 1.78s\n",
      "762:\tlearn: 1719.7699120\ttotal: 5.71s\tremaining: 1.77s\n",
      "763:\tlearn: 1719.6553823\ttotal: 5.72s\tremaining: 1.77s\n",
      "764:\tlearn: 1719.5222947\ttotal: 5.72s\tremaining: 1.76s\n",
      "765:\tlearn: 1719.3670436\ttotal: 5.73s\tremaining: 1.75s\n",
      "766:\tlearn: 1719.1997759\ttotal: 5.74s\tremaining: 1.74s\n",
      "767:\tlearn: 1718.9747211\ttotal: 5.75s\tremaining: 1.74s\n",
      "768:\tlearn: 1718.6575407\ttotal: 5.75s\tremaining: 1.73s\n",
      "769:\tlearn: 1718.4268614\ttotal: 5.76s\tremaining: 1.72s\n",
      "770:\tlearn: 1718.1957117\ttotal: 5.77s\tremaining: 1.71s\n",
      "771:\tlearn: 1718.0068505\ttotal: 5.78s\tremaining: 1.71s\n",
      "772:\tlearn: 1717.7872585\ttotal: 5.78s\tremaining: 1.7s\n",
      "773:\tlearn: 1717.6068809\ttotal: 5.79s\tremaining: 1.69s\n",
      "774:\tlearn: 1717.4065748\ttotal: 5.8s\tremaining: 1.68s\n",
      "775:\tlearn: 1717.2042490\ttotal: 5.81s\tremaining: 1.68s\n",
      "776:\tlearn: 1716.9073469\ttotal: 5.81s\tremaining: 1.67s\n",
      "777:\tlearn: 1716.6547943\ttotal: 5.82s\tremaining: 1.66s\n",
      "778:\tlearn: 1716.4818973\ttotal: 5.83s\tremaining: 1.65s\n",
      "779:\tlearn: 1716.3272019\ttotal: 5.84s\tremaining: 1.65s\n",
      "780:\tlearn: 1716.1773110\ttotal: 5.85s\tremaining: 1.64s\n",
      "781:\tlearn: 1715.9748118\ttotal: 5.86s\tremaining: 1.63s\n",
      "782:\tlearn: 1715.7153804\ttotal: 5.86s\tremaining: 1.63s\n",
      "783:\tlearn: 1715.4548910\ttotal: 5.87s\tremaining: 1.62s\n",
      "784:\tlearn: 1715.3183329\ttotal: 5.88s\tremaining: 1.61s\n",
      "785:\tlearn: 1715.0460575\ttotal: 5.89s\tremaining: 1.6s\n",
      "786:\tlearn: 1714.8860629\ttotal: 5.9s\tremaining: 1.59s\n",
      "787:\tlearn: 1714.7029123\ttotal: 5.9s\tremaining: 1.59s\n",
      "788:\tlearn: 1714.4305272\ttotal: 5.91s\tremaining: 1.58s\n",
      "789:\tlearn: 1714.4168759\ttotal: 5.92s\tremaining: 1.57s\n",
      "790:\tlearn: 1714.2693685\ttotal: 5.93s\tremaining: 1.56s\n",
      "791:\tlearn: 1714.1514333\ttotal: 5.93s\tremaining: 1.56s\n",
      "792:\tlearn: 1713.9643349\ttotal: 5.94s\tremaining: 1.55s\n",
      "793:\tlearn: 1713.7635212\ttotal: 5.95s\tremaining: 1.54s\n",
      "794:\tlearn: 1713.5309827\ttotal: 5.96s\tremaining: 1.53s\n",
      "795:\tlearn: 1713.2774706\ttotal: 5.96s\tremaining: 1.53s\n",
      "796:\tlearn: 1713.1888883\ttotal: 5.97s\tremaining: 1.52s\n",
      "797:\tlearn: 1712.9770570\ttotal: 5.98s\tremaining: 1.51s\n",
      "798:\tlearn: 1712.7794061\ttotal: 5.98s\tremaining: 1.5s\n",
      "799:\tlearn: 1712.6780892\ttotal: 5.99s\tremaining: 1.5s\n",
      "800:\tlearn: 1712.5004672\ttotal: 6s\tremaining: 1.49s\n",
      "801:\tlearn: 1712.2662744\ttotal: 6.01s\tremaining: 1.48s\n",
      "802:\tlearn: 1712.0140734\ttotal: 6.01s\tremaining: 1.48s\n",
      "803:\tlearn: 1711.9194896\ttotal: 6.02s\tremaining: 1.47s\n",
      "804:\tlearn: 1711.7189099\ttotal: 6.03s\tremaining: 1.46s\n",
      "805:\tlearn: 1711.5546428\ttotal: 6.04s\tremaining: 1.45s\n",
      "806:\tlearn: 1711.4999790\ttotal: 6.04s\tremaining: 1.45s\n",
      "807:\tlearn: 1711.4560194\ttotal: 6.05s\tremaining: 1.44s\n",
      "808:\tlearn: 1711.1851348\ttotal: 6.06s\tremaining: 1.43s\n",
      "809:\tlearn: 1711.1319251\ttotal: 6.06s\tremaining: 1.42s\n",
      "810:\tlearn: 1710.9972448\ttotal: 6.07s\tremaining: 1.41s\n",
      "811:\tlearn: 1710.7809453\ttotal: 6.08s\tremaining: 1.41s\n",
      "812:\tlearn: 1710.6638145\ttotal: 6.08s\tremaining: 1.4s\n",
      "813:\tlearn: 1710.3895996\ttotal: 6.09s\tremaining: 1.39s\n",
      "814:\tlearn: 1710.2415764\ttotal: 6.1s\tremaining: 1.38s\n",
      "815:\tlearn: 1710.0381367\ttotal: 6.11s\tremaining: 1.38s\n",
      "816:\tlearn: 1709.9608770\ttotal: 6.11s\tremaining: 1.37s\n",
      "817:\tlearn: 1709.7846088\ttotal: 6.12s\tremaining: 1.36s\n",
      "818:\tlearn: 1709.5460652\ttotal: 6.13s\tremaining: 1.35s\n",
      "819:\tlearn: 1709.5315539\ttotal: 6.13s\tremaining: 1.35s\n",
      "820:\tlearn: 1709.4158556\ttotal: 6.14s\tremaining: 1.34s\n",
      "821:\tlearn: 1709.3159490\ttotal: 6.15s\tremaining: 1.33s\n",
      "822:\tlearn: 1709.0858651\ttotal: 6.16s\tremaining: 1.32s\n",
      "823:\tlearn: 1709.0004876\ttotal: 6.16s\tremaining: 1.32s\n",
      "824:\tlearn: 1708.8791777\ttotal: 6.17s\tremaining: 1.31s\n",
      "825:\tlearn: 1708.6314514\ttotal: 6.18s\tremaining: 1.3s\n",
      "826:\tlearn: 1708.5312686\ttotal: 6.18s\tremaining: 1.29s\n",
      "827:\tlearn: 1708.3216533\ttotal: 6.19s\tremaining: 1.29s\n",
      "828:\tlearn: 1708.1454440\ttotal: 6.2s\tremaining: 1.28s\n",
      "829:\tlearn: 1707.9219560\ttotal: 6.21s\tremaining: 1.27s\n",
      "830:\tlearn: 1707.7492149\ttotal: 6.21s\tremaining: 1.26s\n",
      "831:\tlearn: 1707.6645854\ttotal: 6.22s\tremaining: 1.26s\n",
      "832:\tlearn: 1707.4950843\ttotal: 6.23s\tremaining: 1.25s\n",
      "833:\tlearn: 1707.2320942\ttotal: 6.24s\tremaining: 1.24s\n",
      "834:\tlearn: 1707.0612806\ttotal: 6.24s\tremaining: 1.23s\n",
      "835:\tlearn: 1706.8553098\ttotal: 6.25s\tremaining: 1.23s\n",
      "836:\tlearn: 1706.6895165\ttotal: 6.26s\tremaining: 1.22s\n",
      "837:\tlearn: 1706.5820301\ttotal: 6.26s\tremaining: 1.21s\n",
      "838:\tlearn: 1706.3623486\ttotal: 6.27s\tremaining: 1.2s\n",
      "839:\tlearn: 1706.1580524\ttotal: 6.28s\tremaining: 1.2s\n",
      "840:\tlearn: 1706.0712909\ttotal: 6.29s\tremaining: 1.19s\n",
      "841:\tlearn: 1706.0216511\ttotal: 6.29s\tremaining: 1.18s\n",
      "842:\tlearn: 1705.6710315\ttotal: 6.3s\tremaining: 1.17s\n",
      "843:\tlearn: 1705.5053154\ttotal: 6.31s\tremaining: 1.17s\n",
      "844:\tlearn: 1705.1579112\ttotal: 6.32s\tremaining: 1.16s\n",
      "845:\tlearn: 1705.0559340\ttotal: 6.32s\tremaining: 1.15s\n",
      "846:\tlearn: 1704.7880436\ttotal: 6.33s\tremaining: 1.14s\n",
      "847:\tlearn: 1704.6576943\ttotal: 6.34s\tremaining: 1.14s\n",
      "848:\tlearn: 1704.4087568\ttotal: 6.34s\tremaining: 1.13s\n",
      "849:\tlearn: 1704.2890211\ttotal: 6.35s\tremaining: 1.12s\n",
      "850:\tlearn: 1703.9747107\ttotal: 6.36s\tremaining: 1.11s\n",
      "851:\tlearn: 1703.7689895\ttotal: 6.37s\tremaining: 1.11s\n",
      "852:\tlearn: 1703.6178170\ttotal: 6.38s\tremaining: 1.1s\n",
      "853:\tlearn: 1703.4567264\ttotal: 6.38s\tremaining: 1.09s\n",
      "854:\tlearn: 1703.3063976\ttotal: 6.39s\tremaining: 1.08s\n",
      "855:\tlearn: 1703.1095631\ttotal: 6.4s\tremaining: 1.08s\n",
      "856:\tlearn: 1702.8383777\ttotal: 6.41s\tremaining: 1.07s\n",
      "857:\tlearn: 1702.5827520\ttotal: 6.41s\tremaining: 1.06s\n",
      "858:\tlearn: 1702.2363639\ttotal: 6.42s\tremaining: 1.05s\n",
      "859:\tlearn: 1702.0778712\ttotal: 6.43s\tremaining: 1.05s\n",
      "860:\tlearn: 1701.8419309\ttotal: 6.43s\tremaining: 1.04s\n",
      "861:\tlearn: 1701.7379351\ttotal: 6.44s\tremaining: 1.03s\n",
      "862:\tlearn: 1701.5205324\ttotal: 6.45s\tremaining: 1.02s\n",
      "863:\tlearn: 1701.3819954\ttotal: 6.46s\tremaining: 1.02s\n",
      "864:\tlearn: 1701.1196010\ttotal: 6.47s\tremaining: 1.01s\n",
      "865:\tlearn: 1701.0067812\ttotal: 6.47s\tremaining: 1s\n",
      "866:\tlearn: 1700.7609741\ttotal: 6.48s\tremaining: 994ms\n",
      "867:\tlearn: 1700.6072075\ttotal: 6.49s\tremaining: 987ms\n",
      "868:\tlearn: 1700.3961623\ttotal: 6.5s\tremaining: 979ms\n",
      "869:\tlearn: 1700.2594306\ttotal: 6.5s\tremaining: 972ms\n",
      "870:\tlearn: 1700.0758533\ttotal: 6.51s\tremaining: 964ms\n",
      "871:\tlearn: 1699.9623104\ttotal: 6.52s\tremaining: 957ms\n",
      "872:\tlearn: 1699.8407350\ttotal: 6.53s\tremaining: 949ms\n",
      "873:\tlearn: 1699.6658177\ttotal: 6.53s\tremaining: 942ms\n",
      "874:\tlearn: 1699.4862282\ttotal: 6.54s\tremaining: 934ms\n",
      "875:\tlearn: 1699.2689509\ttotal: 6.55s\tremaining: 927ms\n",
      "876:\tlearn: 1699.1100172\ttotal: 6.55s\tremaining: 919ms\n",
      "877:\tlearn: 1698.9678419\ttotal: 6.56s\tremaining: 912ms\n",
      "878:\tlearn: 1698.8507114\ttotal: 6.57s\tremaining: 904ms\n",
      "879:\tlearn: 1698.6660107\ttotal: 6.58s\tremaining: 897ms\n",
      "880:\tlearn: 1698.6050746\ttotal: 6.58s\tremaining: 889ms\n",
      "881:\tlearn: 1698.4108449\ttotal: 6.59s\tremaining: 882ms\n",
      "882:\tlearn: 1698.2555142\ttotal: 6.6s\tremaining: 875ms\n",
      "883:\tlearn: 1698.0006186\ttotal: 6.61s\tremaining: 867ms\n",
      "884:\tlearn: 1697.7572451\ttotal: 6.62s\tremaining: 860ms\n",
      "885:\tlearn: 1697.5399195\ttotal: 6.62s\tremaining: 852ms\n",
      "886:\tlearn: 1697.3404401\ttotal: 6.63s\tremaining: 845ms\n",
      "887:\tlearn: 1697.1104819\ttotal: 6.64s\tremaining: 837ms\n",
      "888:\tlearn: 1696.9543725\ttotal: 6.64s\tremaining: 830ms\n",
      "889:\tlearn: 1696.7728565\ttotal: 6.65s\tremaining: 822ms\n",
      "890:\tlearn: 1696.7065158\ttotal: 6.66s\tremaining: 814ms\n",
      "891:\tlearn: 1696.3593830\ttotal: 6.66s\tremaining: 807ms\n",
      "892:\tlearn: 1696.2915708\ttotal: 6.67s\tremaining: 799ms\n",
      "893:\tlearn: 1696.0700112\ttotal: 6.68s\tremaining: 792ms\n",
      "894:\tlearn: 1695.8841442\ttotal: 6.68s\tremaining: 784ms\n",
      "895:\tlearn: 1695.5902862\ttotal: 6.69s\tremaining: 777ms\n",
      "896:\tlearn: 1695.4243918\ttotal: 6.7s\tremaining: 769ms\n",
      "897:\tlearn: 1695.2598212\ttotal: 6.71s\tremaining: 762ms\n",
      "898:\tlearn: 1695.0368744\ttotal: 6.72s\tremaining: 755ms\n",
      "899:\tlearn: 1694.7503589\ttotal: 6.72s\tremaining: 747ms\n",
      "900:\tlearn: 1694.4958833\ttotal: 6.73s\tremaining: 740ms\n",
      "901:\tlearn: 1694.3739853\ttotal: 6.74s\tremaining: 732ms\n",
      "902:\tlearn: 1694.2374990\ttotal: 6.75s\tremaining: 725ms\n",
      "903:\tlearn: 1694.1903119\ttotal: 6.75s\tremaining: 717ms\n",
      "904:\tlearn: 1694.1445293\ttotal: 6.76s\tremaining: 710ms\n",
      "905:\tlearn: 1693.8529124\ttotal: 6.77s\tremaining: 702ms\n",
      "906:\tlearn: 1693.6995055\ttotal: 6.77s\tremaining: 695ms\n",
      "907:\tlearn: 1693.5096338\ttotal: 6.78s\tremaining: 687ms\n",
      "908:\tlearn: 1693.3761339\ttotal: 6.79s\tremaining: 680ms\n",
      "909:\tlearn: 1693.2343410\ttotal: 6.8s\tremaining: 672ms\n",
      "910:\tlearn: 1693.0506382\ttotal: 6.8s\tremaining: 665ms\n",
      "911:\tlearn: 1692.8411459\ttotal: 6.81s\tremaining: 657ms\n",
      "912:\tlearn: 1692.6557089\ttotal: 6.82s\tremaining: 650ms\n",
      "913:\tlearn: 1692.4711990\ttotal: 6.83s\tremaining: 642ms\n",
      "914:\tlearn: 1692.2958093\ttotal: 6.83s\tremaining: 635ms\n",
      "915:\tlearn: 1692.1106217\ttotal: 6.84s\tremaining: 627ms\n",
      "916:\tlearn: 1691.8560895\ttotal: 6.85s\tremaining: 620ms\n",
      "917:\tlearn: 1691.8259273\ttotal: 6.85s\tremaining: 612ms\n",
      "918:\tlearn: 1691.7557903\ttotal: 6.86s\tremaining: 605ms\n",
      "919:\tlearn: 1691.5553075\ttotal: 6.87s\tremaining: 597ms\n",
      "920:\tlearn: 1691.4195782\ttotal: 6.88s\tremaining: 590ms\n",
      "921:\tlearn: 1691.2770881\ttotal: 6.88s\tremaining: 582ms\n",
      "922:\tlearn: 1691.1702764\ttotal: 6.89s\tremaining: 575ms\n",
      "923:\tlearn: 1690.9408690\ttotal: 6.89s\tremaining: 567ms\n",
      "924:\tlearn: 1690.7113059\ttotal: 6.9s\tremaining: 560ms\n",
      "925:\tlearn: 1690.5402055\ttotal: 6.91s\tremaining: 552ms\n",
      "926:\tlearn: 1690.4641783\ttotal: 6.92s\tremaining: 545ms\n",
      "927:\tlearn: 1690.3193457\ttotal: 6.92s\tremaining: 537ms\n",
      "928:\tlearn: 1690.1350786\ttotal: 6.93s\tremaining: 530ms\n",
      "929:\tlearn: 1690.0072342\ttotal: 6.94s\tremaining: 522ms\n",
      "930:\tlearn: 1689.8942323\ttotal: 6.95s\tremaining: 515ms\n",
      "931:\tlearn: 1689.7443452\ttotal: 6.95s\tremaining: 507ms\n",
      "932:\tlearn: 1689.5922142\ttotal: 6.96s\tremaining: 500ms\n",
      "933:\tlearn: 1689.2971581\ttotal: 6.97s\tremaining: 492ms\n",
      "934:\tlearn: 1689.1419079\ttotal: 6.97s\tremaining: 485ms\n",
      "935:\tlearn: 1689.0609043\ttotal: 6.98s\tremaining: 477ms\n",
      "936:\tlearn: 1688.7710026\ttotal: 6.99s\tremaining: 470ms\n",
      "937:\tlearn: 1688.6264508\ttotal: 7s\tremaining: 462ms\n",
      "938:\tlearn: 1688.4071614\ttotal: 7s\tremaining: 455ms\n",
      "939:\tlearn: 1688.3269112\ttotal: 7.01s\tremaining: 448ms\n",
      "940:\tlearn: 1688.2038432\ttotal: 7.02s\tremaining: 440ms\n",
      "941:\tlearn: 1688.1025032\ttotal: 7.03s\tremaining: 433ms\n",
      "942:\tlearn: 1687.8724356\ttotal: 7.03s\tremaining: 425ms\n",
      "943:\tlearn: 1687.5878680\ttotal: 7.04s\tremaining: 418ms\n",
      "944:\tlearn: 1687.4076008\ttotal: 7.05s\tremaining: 410ms\n",
      "945:\tlearn: 1687.2294439\ttotal: 7.05s\tremaining: 403ms\n",
      "946:\tlearn: 1687.1217595\ttotal: 7.06s\tremaining: 395ms\n",
      "947:\tlearn: 1686.8864455\ttotal: 7.07s\tremaining: 388ms\n",
      "948:\tlearn: 1686.6765871\ttotal: 7.08s\tremaining: 380ms\n",
      "949:\tlearn: 1686.4222626\ttotal: 7.09s\tremaining: 373ms\n",
      "950:\tlearn: 1686.2902600\ttotal: 7.09s\tremaining: 366ms\n",
      "951:\tlearn: 1686.0887860\ttotal: 7.1s\tremaining: 358ms\n",
      "952:\tlearn: 1685.9974968\ttotal: 7.11s\tremaining: 351ms\n",
      "953:\tlearn: 1685.7560940\ttotal: 7.12s\tremaining: 343ms\n",
      "954:\tlearn: 1685.7091209\ttotal: 7.13s\tremaining: 336ms\n",
      "955:\tlearn: 1685.6371808\ttotal: 7.13s\tremaining: 328ms\n",
      "956:\tlearn: 1685.3670703\ttotal: 7.14s\tremaining: 321ms\n",
      "957:\tlearn: 1685.1386501\ttotal: 7.15s\tremaining: 313ms\n",
      "958:\tlearn: 1685.0350914\ttotal: 7.16s\tremaining: 306ms\n",
      "959:\tlearn: 1684.8213799\ttotal: 7.16s\tremaining: 298ms\n",
      "960:\tlearn: 1684.7252023\ttotal: 7.17s\tremaining: 291ms\n",
      "961:\tlearn: 1684.5521222\ttotal: 7.18s\tremaining: 284ms\n",
      "962:\tlearn: 1684.4499763\ttotal: 7.18s\tremaining: 276ms\n",
      "963:\tlearn: 1684.3619514\ttotal: 7.19s\tremaining: 269ms\n",
      "964:\tlearn: 1684.1769747\ttotal: 7.2s\tremaining: 261ms\n",
      "965:\tlearn: 1684.0325998\ttotal: 7.21s\tremaining: 254ms\n",
      "966:\tlearn: 1683.8310195\ttotal: 7.22s\tremaining: 246ms\n",
      "967:\tlearn: 1683.7027571\ttotal: 7.22s\tremaining: 239ms\n",
      "968:\tlearn: 1683.4942948\ttotal: 7.23s\tremaining: 231ms\n",
      "969:\tlearn: 1683.2560748\ttotal: 7.24s\tremaining: 224ms\n",
      "970:\tlearn: 1683.0511989\ttotal: 7.25s\tremaining: 216ms\n",
      "971:\tlearn: 1682.8553818\ttotal: 7.25s\tremaining: 209ms\n",
      "972:\tlearn: 1682.7207940\ttotal: 7.26s\tremaining: 202ms\n",
      "973:\tlearn: 1682.5899316\ttotal: 7.27s\tremaining: 194ms\n",
      "974:\tlearn: 1682.4587841\ttotal: 7.28s\tremaining: 187ms\n",
      "975:\tlearn: 1682.4235723\ttotal: 7.28s\tremaining: 179ms\n",
      "976:\tlearn: 1682.2726683\ttotal: 7.29s\tremaining: 172ms\n",
      "977:\tlearn: 1681.9247472\ttotal: 7.3s\tremaining: 164ms\n",
      "978:\tlearn: 1681.7973174\ttotal: 7.31s\tremaining: 157ms\n",
      "979:\tlearn: 1681.6424274\ttotal: 7.31s\tremaining: 149ms\n",
      "980:\tlearn: 1681.5653339\ttotal: 7.32s\tremaining: 142ms\n",
      "981:\tlearn: 1681.4294343\ttotal: 7.33s\tremaining: 134ms\n",
      "982:\tlearn: 1681.3062974\ttotal: 7.34s\tremaining: 127ms\n",
      "983:\tlearn: 1681.0912807\ttotal: 7.34s\tremaining: 119ms\n",
      "984:\tlearn: 1680.9328892\ttotal: 7.35s\tremaining: 112ms\n",
      "985:\tlearn: 1680.7328585\ttotal: 7.36s\tremaining: 105ms\n",
      "986:\tlearn: 1680.5168866\ttotal: 7.37s\tremaining: 97.1ms\n",
      "987:\tlearn: 1680.4372135\ttotal: 7.38s\tremaining: 89.6ms\n",
      "988:\tlearn: 1680.3640405\ttotal: 7.39s\tremaining: 82.2ms\n",
      "989:\tlearn: 1680.1668369\ttotal: 7.4s\tremaining: 74.7ms\n",
      "990:\tlearn: 1679.9902305\ttotal: 7.4s\tremaining: 67.2ms\n",
      "991:\tlearn: 1679.8475892\ttotal: 7.41s\tremaining: 59.8ms\n",
      "992:\tlearn: 1679.7324289\ttotal: 7.42s\tremaining: 52.3ms\n",
      "993:\tlearn: 1679.5558858\ttotal: 7.43s\tremaining: 44.8ms\n",
      "994:\tlearn: 1679.4447324\ttotal: 7.43s\tremaining: 37.4ms\n",
      "995:\tlearn: 1679.1410621\ttotal: 7.44s\tremaining: 29.9ms\n",
      "996:\tlearn: 1678.9894499\ttotal: 7.45s\tremaining: 22.4ms\n",
      "997:\tlearn: 1678.8311575\ttotal: 7.46s\tremaining: 14.9ms\n",
      "998:\tlearn: 1678.6722445\ttotal: 7.46s\tremaining: 7.47ms\n",
      "999:\tlearn: 1678.4967061\ttotal: 7.47s\tremaining: 0us\n"
     ]
    },
    {
     "data": {
      "text/plain": [
       "1678.496706074799"
      ]
     },
     "execution_count": 54,
     "metadata": {},
     "output_type": "execute_result"
    }
   ],
   "source": [
    "model_cat_test = CatBoostRegressor()\n",
    "model_cat_test.fit(features_test_ord, target_test)\n",
    "predictions_cat_test = model_cat_test.predict(features_test_ord)\n",
    "rmse_test = (mean_squared_error(target_test, predictions_cat_test))**0.5\n",
    "rmse_test"
   ]
  },
  {
   "cell_type": "code",
   "execution_count": 55,
   "metadata": {},
   "outputs": [
    {
     "data": {
      "text/plain": [
       "4589.3127343734495"
      ]
     },
     "execution_count": 55,
     "metadata": {},
     "output_type": "execute_result"
    }
   ],
   "source": [
    "model_dummy = DummyRegressor()\n",
    "model_dummy.fit(features_test, target_test)\n",
    "predictions_dummy = model_dummy.predict(features_test)\n",
    "rmse_dummy = (mean_squared_error(target_test, predictions_dummy))**0.5\n",
    "rmse_dummy"
   ]
  },
  {
   "cell_type": "markdown",
   "metadata": {},
   "source": [
    "Общий вывод: посмотрели данные и провели их предобработку, далее разделили выборки на обучающую и тестовую, масштабировали численные данные, провели обучение и анализ моделей, выявили лучшую - это CatBoost, провели тест на тестовых данных -тест пройден, результат как и требовалось RMSE менее 2500 и проверили на адекватность с помощью dummy модели, также показатели нашей модели лучше этой модели."
   ]
  }
 ],
 "metadata": {
  "ExecuteTimeLog": [
   {
    "duration": 16902,
    "start_time": "2023-05-14T18:08:14.707Z"
   },
   {
    "duration": 3097,
    "start_time": "2023-05-14T18:09:07.229Z"
   },
   {
    "duration": 136,
    "start_time": "2023-05-14T18:09:27.024Z"
   },
   {
    "duration": 25,
    "start_time": "2023-05-14T18:10:12.644Z"
   },
   {
    "duration": 99013,
    "start_time": "2023-05-14T18:11:31.827Z"
   },
   {
    "duration": 468,
    "start_time": "2023-05-14T18:14:22.102Z"
   },
   {
    "duration": 7,
    "start_time": "2023-05-14T18:16:35.589Z"
   },
   {
    "duration": 4,
    "start_time": "2023-05-14T18:17:38.254Z"
   },
   {
    "duration": 168,
    "start_time": "2023-05-14T18:18:06.213Z"
   },
   {
    "duration": 10,
    "start_time": "2023-05-14T18:18:13.836Z"
   },
   {
    "duration": 10,
    "start_time": "2023-05-14T18:18:32.628Z"
   },
   {
    "duration": 8,
    "start_time": "2023-05-14T18:20:04.394Z"
   },
   {
    "duration": 116,
    "start_time": "2023-05-14T18:28:21.067Z"
   },
   {
    "duration": 157,
    "start_time": "2023-05-14T18:30:26.783Z"
   },
   {
    "duration": 59,
    "start_time": "2023-05-14T18:31:12.130Z"
   },
   {
    "duration": 181,
    "start_time": "2023-05-14T18:31:59.062Z"
   },
   {
    "duration": 270,
    "start_time": "2023-05-14T18:32:07.607Z"
   },
   {
    "duration": 21,
    "start_time": "2023-05-14T18:35:00.965Z"
   },
   {
    "duration": 32,
    "start_time": "2023-05-14T18:35:33.915Z"
   },
   {
    "duration": 31,
    "start_time": "2023-05-14T18:37:07.932Z"
   },
   {
    "duration": 35,
    "start_time": "2023-05-14T18:37:53.606Z"
   },
   {
    "duration": 45,
    "start_time": "2023-05-14T18:38:22.312Z"
   },
   {
    "duration": 62,
    "start_time": "2023-05-14T18:39:08.773Z"
   },
   {
    "duration": 16974,
    "start_time": "2023-05-17T18:29:55.895Z"
   },
   {
    "duration": 1133,
    "start_time": "2023-05-17T18:30:12.872Z"
   },
   {
    "duration": 148,
    "start_time": "2023-05-17T18:30:14.008Z"
   },
   {
    "duration": 31,
    "start_time": "2023-05-17T18:30:14.157Z"
   },
   {
    "duration": 99081,
    "start_time": "2023-05-17T18:30:14.190Z"
   },
   {
    "duration": 5,
    "start_time": "2023-05-17T18:31:53.273Z"
   },
   {
    "duration": 14,
    "start_time": "2023-05-17T18:31:53.280Z"
   },
   {
    "duration": 15,
    "start_time": "2023-05-17T18:31:53.296Z"
   },
   {
    "duration": 130,
    "start_time": "2023-05-17T18:31:53.313Z"
   },
   {
    "duration": 160,
    "start_time": "2023-05-17T18:31:53.445Z"
   },
   {
    "duration": 22,
    "start_time": "2023-05-17T18:31:53.606Z"
   },
   {
    "duration": 46,
    "start_time": "2023-05-17T18:31:53.630Z"
   },
   {
    "duration": 41,
    "start_time": "2023-05-17T18:31:53.678Z"
   },
   {
    "duration": 32,
    "start_time": "2023-05-17T18:31:53.721Z"
   },
   {
    "duration": 50,
    "start_time": "2023-05-17T18:31:53.755Z"
   },
   {
    "duration": 37,
    "start_time": "2023-05-17T18:31:53.807Z"
   },
   {
    "duration": 45,
    "start_time": "2023-05-17T18:33:18.446Z"
   },
   {
    "duration": 214,
    "start_time": "2023-05-17T18:36:38.143Z"
   },
   {
    "duration": 2878,
    "start_time": "2023-05-17T18:45:53.198Z"
   },
   {
    "duration": 146,
    "start_time": "2023-05-17T18:58:22.801Z"
   },
   {
    "duration": 4,
    "start_time": "2023-05-17T18:58:27.783Z"
   },
   {
    "duration": 18,
    "start_time": "2023-05-17T18:58:30.185Z"
   },
   {
    "duration": 5122,
    "start_time": "2023-05-17T18:58:44.631Z"
   },
   {
    "duration": 1133,
    "start_time": "2023-05-17T18:58:49.756Z"
   },
   {
    "duration": 125,
    "start_time": "2023-05-17T18:58:50.891Z"
   },
   {
    "duration": 56,
    "start_time": "2023-05-17T18:58:51.020Z"
   },
   {
    "duration": 118841,
    "start_time": "2023-05-17T18:58:51.078Z"
   },
   {
    "duration": 6,
    "start_time": "2023-05-17T19:00:49.921Z"
   },
   {
    "duration": 11,
    "start_time": "2023-05-17T19:00:49.929Z"
   },
   {
    "duration": 56,
    "start_time": "2023-05-17T19:00:49.943Z"
   },
   {
    "duration": 267,
    "start_time": "2023-05-17T19:00:50.002Z"
   },
   {
    "duration": 155,
    "start_time": "2023-05-17T19:00:50.272Z"
   },
   {
    "duration": 26,
    "start_time": "2023-05-17T19:00:50.429Z"
   },
   {
    "duration": 58,
    "start_time": "2023-05-17T19:00:50.476Z"
   },
   {
    "duration": 29,
    "start_time": "2023-05-17T19:00:50.536Z"
   },
   {
    "duration": 38,
    "start_time": "2023-05-17T19:00:50.568Z"
   },
   {
    "duration": 85,
    "start_time": "2023-05-17T19:00:50.608Z"
   },
   {
    "duration": 38,
    "start_time": "2023-05-17T19:00:50.696Z"
   },
   {
    "duration": 288,
    "start_time": "2023-05-17T19:00:50.737Z"
   },
   {
    "duration": 389,
    "start_time": "2023-05-17T19:00:51.028Z"
   },
   {
    "duration": 4,
    "start_time": "2023-05-17T19:00:51.421Z"
   },
   {
    "duration": 184,
    "start_time": "2023-05-17T19:00:51.429Z"
   },
   {
    "duration": 14,
    "start_time": "2023-05-17T19:01:26.212Z"
   },
   {
    "duration": 19,
    "start_time": "2023-05-17T19:02:19.490Z"
   },
   {
    "duration": 4071,
    "start_time": "2023-05-17T19:03:40.037Z"
   },
   {
    "duration": 24,
    "start_time": "2023-05-17T19:03:53.601Z"
   },
   {
    "duration": 2676,
    "start_time": "2023-05-17T19:08:52.015Z"
   },
   {
    "duration": 17,
    "start_time": "2023-05-17T19:10:14.727Z"
   },
   {
    "duration": 6,
    "start_time": "2023-05-17T19:11:37.505Z"
   },
   {
    "duration": 4,
    "start_time": "2023-05-17T19:11:49.802Z"
   },
   {
    "duration": 5,
    "start_time": "2023-05-17T19:11:55.792Z"
   },
   {
    "duration": 6161,
    "start_time": "2023-05-17T19:12:10.139Z"
   },
   {
    "duration": 4,
    "start_time": "2023-05-17T19:13:44.617Z"
   },
   {
    "duration": 18,
    "start_time": "2023-05-17T19:13:47.685Z"
   },
   {
    "duration": 6,
    "start_time": "2023-05-17T19:15:21.939Z"
   },
   {
    "duration": 7010,
    "start_time": "2023-05-17T19:15:25.311Z"
   },
   {
    "duration": 5693,
    "start_time": "2023-05-17T19:16:35.689Z"
   },
   {
    "duration": 1155,
    "start_time": "2023-05-17T19:16:41.385Z"
   },
   {
    "duration": 142,
    "start_time": "2023-05-17T19:16:42.541Z"
   },
   {
    "duration": 38,
    "start_time": "2023-05-17T19:16:42.687Z"
   },
   {
    "duration": 105198,
    "start_time": "2023-05-17T19:16:42.727Z"
   },
   {
    "duration": 7,
    "start_time": "2023-05-17T19:18:27.928Z"
   },
   {
    "duration": 10,
    "start_time": "2023-05-17T19:18:27.937Z"
   },
   {
    "duration": 22,
    "start_time": "2023-05-17T19:18:27.949Z"
   },
   {
    "duration": 4,
    "start_time": "2023-05-17T19:19:15.491Z"
   },
   {
    "duration": 200,
    "start_time": "2023-05-17T19:19:29.124Z"
   },
   {
    "duration": 5095,
    "start_time": "2023-05-17T19:20:08.716Z"
   },
   {
    "duration": 1061,
    "start_time": "2023-05-17T19:20:13.814Z"
   },
   {
    "duration": 136,
    "start_time": "2023-05-17T19:20:14.877Z"
   },
   {
    "duration": 21,
    "start_time": "2023-05-17T19:20:15.016Z"
   },
   {
    "duration": 112587,
    "start_time": "2023-05-17T19:20:15.038Z"
   },
   {
    "duration": 4,
    "start_time": "2023-05-17T19:22:07.626Z"
   },
   {
    "duration": 7,
    "start_time": "2023-05-17T19:22:07.632Z"
   },
   {
    "duration": 10,
    "start_time": "2023-05-17T19:22:07.640Z"
   },
   {
    "duration": 21,
    "start_time": "2023-05-17T19:22:26.891Z"
   },
   {
    "duration": 5,
    "start_time": "2023-05-17T19:22:30.786Z"
   },
   {
    "duration": 112,
    "start_time": "2023-05-17T19:22:36.792Z"
   },
   {
    "duration": 22,
    "start_time": "2023-05-17T19:22:40.646Z"
   },
   {
    "duration": 31,
    "start_time": "2023-05-17T19:22:43.218Z"
   },
   {
    "duration": 20,
    "start_time": "2023-05-17T19:22:45.716Z"
   },
   {
    "duration": 36,
    "start_time": "2023-05-17T19:22:48.843Z"
   },
   {
    "duration": 33,
    "start_time": "2023-05-17T19:22:50.633Z"
   },
   {
    "duration": 32,
    "start_time": "2023-05-17T19:22:53.021Z"
   },
   {
    "duration": 28,
    "start_time": "2023-05-17T19:22:55.647Z"
   },
   {
    "duration": 101,
    "start_time": "2023-05-17T19:22:57.486Z"
   },
   {
    "duration": 3,
    "start_time": "2023-05-17T19:22:59.421Z"
   },
   {
    "duration": 2189,
    "start_time": "2023-05-17T19:23:03.660Z"
   },
   {
    "duration": 5316,
    "start_time": "2023-05-17T19:46:58.729Z"
   },
   {
    "duration": 1067,
    "start_time": "2023-05-17T19:47:04.047Z"
   },
   {
    "duration": 139,
    "start_time": "2023-05-17T19:47:05.115Z"
   },
   {
    "duration": 41,
    "start_time": "2023-05-17T19:47:05.257Z"
   },
   {
    "duration": 112724,
    "start_time": "2023-05-17T19:47:05.300Z"
   },
   {
    "duration": 8,
    "start_time": "2023-05-17T19:48:58.026Z"
   },
   {
    "duration": 4,
    "start_time": "2023-05-17T19:48:58.036Z"
   },
   {
    "duration": 8,
    "start_time": "2023-05-17T19:48:58.041Z"
   },
   {
    "duration": 42,
    "start_time": "2023-05-17T19:48:58.051Z"
   },
   {
    "duration": 24,
    "start_time": "2023-05-17T19:48:58.095Z"
   },
   {
    "duration": 137,
    "start_time": "2023-05-17T19:48:58.122Z"
   },
   {
    "duration": 33,
    "start_time": "2023-05-17T19:48:58.260Z"
   },
   {
    "duration": 67,
    "start_time": "2023-05-17T19:48:58.307Z"
   },
   {
    "duration": 39,
    "start_time": "2023-05-17T19:48:58.381Z"
   },
   {
    "duration": 40,
    "start_time": "2023-05-17T19:48:58.423Z"
   },
   {
    "duration": 69,
    "start_time": "2023-05-17T19:48:58.465Z"
   },
   {
    "duration": 58,
    "start_time": "2023-05-17T19:48:58.536Z"
   },
   {
    "duration": 1267,
    "start_time": "2023-05-17T19:49:51.090Z"
   },
   {
    "duration": 230,
    "start_time": "2023-05-17T19:49:55.837Z"
   },
   {
    "duration": 400,
    "start_time": "2023-05-17T19:49:58.402Z"
   },
   {
    "duration": 4,
    "start_time": "2023-05-17T19:50:00.797Z"
   },
   {
    "duration": 16433,
    "start_time": "2023-05-18T18:04:13.258Z"
   },
   {
    "duration": 3022,
    "start_time": "2023-05-18T18:04:29.696Z"
   },
   {
    "duration": 142,
    "start_time": "2023-05-18T18:04:32.720Z"
   },
   {
    "duration": 20,
    "start_time": "2023-05-18T18:04:32.865Z"
   },
   {
    "duration": 103012,
    "start_time": "2023-05-18T18:04:32.887Z"
   },
   {
    "duration": 6,
    "start_time": "2023-05-18T18:06:15.901Z"
   },
   {
    "duration": 26,
    "start_time": "2023-05-18T18:06:15.910Z"
   },
   {
    "duration": 28,
    "start_time": "2023-05-18T18:06:15.938Z"
   },
   {
    "duration": 45,
    "start_time": "2023-05-18T18:06:15.968Z"
   },
   {
    "duration": 6,
    "start_time": "2023-05-18T18:06:16.016Z"
   },
   {
    "duration": 169,
    "start_time": "2023-05-18T18:06:16.024Z"
   },
   {
    "duration": 36,
    "start_time": "2023-05-18T18:06:16.194Z"
   },
   {
    "duration": 52,
    "start_time": "2023-05-18T18:06:16.231Z"
   },
   {
    "duration": 50,
    "start_time": "2023-05-18T18:06:16.286Z"
   },
   {
    "duration": 71,
    "start_time": "2023-05-18T18:06:16.339Z"
   },
   {
    "duration": 49,
    "start_time": "2023-05-18T18:06:16.412Z"
   },
   {
    "duration": 78,
    "start_time": "2023-05-18T18:06:16.463Z"
   },
   {
    "duration": 1053,
    "start_time": "2023-05-18T18:06:16.543Z"
   },
   {
    "duration": 223,
    "start_time": "2023-05-18T18:06:17.598Z"
   },
   {
    "duration": 355,
    "start_time": "2023-05-18T18:06:17.824Z"
   },
   {
    "duration": 4521,
    "start_time": "2023-05-18T18:06:18.181Z"
   },
   {
    "duration": 5458,
    "start_time": "2023-05-18T18:11:08.735Z"
   },
   {
    "duration": 856,
    "start_time": "2023-05-18T18:11:14.195Z"
   },
   {
    "duration": 134,
    "start_time": "2023-05-18T18:11:15.053Z"
   },
   {
    "duration": 18,
    "start_time": "2023-05-18T18:11:15.188Z"
   },
   {
    "duration": 101711,
    "start_time": "2023-05-18T18:11:15.227Z"
   },
   {
    "duration": 5,
    "start_time": "2023-05-18T18:12:56.939Z"
   },
   {
    "duration": 30,
    "start_time": "2023-05-18T18:12:56.946Z"
   },
   {
    "duration": 9,
    "start_time": "2023-05-18T18:12:56.978Z"
   },
   {
    "duration": 22,
    "start_time": "2023-05-18T18:12:56.989Z"
   },
   {
    "duration": 4,
    "start_time": "2023-05-18T18:12:57.013Z"
   },
   {
    "duration": 109,
    "start_time": "2023-05-18T18:12:57.019Z"
   },
   {
    "duration": 22,
    "start_time": "2023-05-18T18:12:57.130Z"
   },
   {
    "duration": 35,
    "start_time": "2023-05-18T18:12:57.154Z"
   },
   {
    "duration": 40,
    "start_time": "2023-05-18T18:12:57.192Z"
   },
   {
    "duration": 39,
    "start_time": "2023-05-18T18:12:57.234Z"
   },
   {
    "duration": 60,
    "start_time": "2023-05-18T18:12:57.275Z"
   },
   {
    "duration": 45,
    "start_time": "2023-05-18T18:12:57.337Z"
   },
   {
    "duration": 896,
    "start_time": "2023-05-18T18:12:57.384Z"
   },
   {
    "duration": 217,
    "start_time": "2023-05-18T18:12:58.282Z"
   },
   {
    "duration": 325,
    "start_time": "2023-05-18T18:12:58.501Z"
   },
   {
    "duration": 3633,
    "start_time": "2023-05-18T18:12:58.828Z"
   },
   {
    "duration": 4,
    "start_time": "2023-05-18T18:13:18.620Z"
   },
   {
    "duration": 5188,
    "start_time": "2023-05-18T19:02:01.904Z"
   },
   {
    "duration": 1025,
    "start_time": "2023-05-18T19:02:07.094Z"
   },
   {
    "duration": 181,
    "start_time": "2023-05-18T19:02:08.122Z"
   },
   {
    "duration": 43,
    "start_time": "2023-05-18T19:02:08.306Z"
   },
   {
    "duration": 111251,
    "start_time": "2023-05-18T19:02:08.351Z"
   },
   {
    "duration": 5,
    "start_time": "2023-05-18T19:03:59.603Z"
   },
   {
    "duration": 15,
    "start_time": "2023-05-18T19:03:59.610Z"
   },
   {
    "duration": 7,
    "start_time": "2023-05-18T19:03:59.629Z"
   },
   {
    "duration": 28,
    "start_time": "2023-05-18T19:03:59.638Z"
   },
   {
    "duration": 6,
    "start_time": "2023-05-18T19:03:59.669Z"
   },
   {
    "duration": 177,
    "start_time": "2023-05-18T19:03:59.678Z"
   },
   {
    "duration": 27,
    "start_time": "2023-05-18T19:03:59.857Z"
   },
   {
    "duration": 72,
    "start_time": "2023-05-18T19:03:59.887Z"
   },
   {
    "duration": 32,
    "start_time": "2023-05-18T19:03:59.962Z"
   },
   {
    "duration": 75,
    "start_time": "2023-05-18T19:03:59.996Z"
   },
   {
    "duration": 52,
    "start_time": "2023-05-18T19:04:00.073Z"
   },
   {
    "duration": 42,
    "start_time": "2023-05-18T19:04:00.133Z"
   },
   {
    "duration": 988,
    "start_time": "2023-05-18T19:04:00.177Z"
   },
   {
    "duration": 506,
    "start_time": "2023-05-18T19:04:01.167Z"
   },
   {
    "duration": 2865,
    "start_time": "2023-05-18T19:04:01.675Z"
   },
   {
    "duration": 6167,
    "start_time": "2023-05-18T19:04:23.251Z"
   },
   {
    "duration": 3360,
    "start_time": "2023-05-18T19:04:29.421Z"
   },
   {
    "duration": 182,
    "start_time": "2023-05-18T19:04:32.783Z"
   },
   {
    "duration": 20,
    "start_time": "2023-05-18T19:04:32.967Z"
   },
   {
    "duration": 108249,
    "start_time": "2023-05-18T19:04:32.989Z"
   },
   {
    "duration": 6,
    "start_time": "2023-05-18T19:06:21.244Z"
   },
   {
    "duration": 4,
    "start_time": "2023-05-18T19:06:21.252Z"
   },
   {
    "duration": 6,
    "start_time": "2023-05-18T19:06:21.258Z"
   },
   {
    "duration": 21,
    "start_time": "2023-05-18T19:06:21.266Z"
   },
   {
    "duration": 4,
    "start_time": "2023-05-18T19:06:21.290Z"
   },
   {
    "duration": 157,
    "start_time": "2023-05-18T19:06:21.296Z"
   },
   {
    "duration": 24,
    "start_time": "2023-05-18T19:06:21.455Z"
   },
   {
    "duration": 76,
    "start_time": "2023-05-18T19:06:21.481Z"
   },
   {
    "duration": 23,
    "start_time": "2023-05-18T19:06:21.559Z"
   },
   {
    "duration": 67,
    "start_time": "2023-05-18T19:06:21.585Z"
   },
   {
    "duration": 37,
    "start_time": "2023-05-18T19:06:21.654Z"
   },
   {
    "duration": 65,
    "start_time": "2023-05-18T19:06:21.692Z"
   },
   {
    "duration": 951,
    "start_time": "2023-05-18T19:06:21.759Z"
   },
   {
    "duration": 507,
    "start_time": "2023-05-18T19:06:22.712Z"
   },
   {
    "duration": 2913,
    "start_time": "2023-05-18T19:06:23.222Z"
   },
   {
    "duration": 6252,
    "start_time": "2023-05-18T19:06:41.598Z"
   },
   {
    "duration": 3452,
    "start_time": "2023-05-18T19:06:58.719Z"
   },
   {
    "duration": 144,
    "start_time": "2023-05-18T19:07:02.174Z"
   },
   {
    "duration": 23,
    "start_time": "2023-05-18T19:07:03.425Z"
   },
   {
    "duration": 108904,
    "start_time": "2023-05-18T19:07:05.887Z"
   },
   {
    "duration": 13,
    "start_time": "2023-05-18T19:09:13.526Z"
   },
   {
    "duration": 3,
    "start_time": "2023-05-18T19:09:17.198Z"
   },
   {
    "duration": 5,
    "start_time": "2023-05-18T19:09:23.263Z"
   },
   {
    "duration": 22,
    "start_time": "2023-05-18T19:09:25.788Z"
   },
   {
    "duration": 4,
    "start_time": "2023-05-18T19:09:27.597Z"
   },
   {
    "duration": 167,
    "start_time": "2023-05-18T19:09:30.925Z"
   },
   {
    "duration": 22,
    "start_time": "2023-05-18T19:09:34.485Z"
   },
   {
    "duration": 36,
    "start_time": "2023-05-18T19:09:37.243Z"
   },
   {
    "duration": 37,
    "start_time": "2023-05-18T19:09:39.719Z"
   },
   {
    "duration": 41,
    "start_time": "2023-05-18T19:09:42.335Z"
   },
   {
    "duration": 60,
    "start_time": "2023-05-18T19:09:44.991Z"
   },
   {
    "duration": 35,
    "start_time": "2023-05-18T19:09:47.675Z"
   },
   {
    "duration": 973,
    "start_time": "2023-05-18T19:09:51.183Z"
   },
   {
    "duration": 490,
    "start_time": "2023-05-18T19:09:55.079Z"
   },
   {
    "duration": 3118,
    "start_time": "2023-05-18T19:09:57.875Z"
   },
   {
    "duration": 6223,
    "start_time": "2023-05-18T19:10:59.750Z"
   },
   {
    "duration": 3282,
    "start_time": "2023-05-18T19:11:05.975Z"
   },
   {
    "duration": 145,
    "start_time": "2023-05-18T19:11:09.261Z"
   },
   {
    "duration": 35,
    "start_time": "2023-05-18T19:11:09.408Z"
   },
   {
    "duration": 105414,
    "start_time": "2023-05-18T19:11:09.445Z"
   },
   {
    "duration": 6,
    "start_time": "2023-05-18T19:12:54.861Z"
   },
   {
    "duration": 5,
    "start_time": "2023-05-18T19:12:54.869Z"
   },
   {
    "duration": 13,
    "start_time": "2023-05-18T19:12:54.876Z"
   },
   {
    "duration": 44,
    "start_time": "2023-05-18T19:12:54.890Z"
   },
   {
    "duration": 7,
    "start_time": "2023-05-18T19:12:54.940Z"
   },
   {
    "duration": 129,
    "start_time": "2023-05-18T19:12:54.949Z"
   },
   {
    "duration": 23,
    "start_time": "2023-05-18T19:12:55.080Z"
   },
   {
    "duration": 75,
    "start_time": "2023-05-18T19:12:55.105Z"
   },
   {
    "duration": 35,
    "start_time": "2023-05-18T19:12:55.183Z"
   },
   {
    "duration": 65,
    "start_time": "2023-05-18T19:12:55.220Z"
   },
   {
    "duration": 42,
    "start_time": "2023-05-18T19:12:55.287Z"
   },
   {
    "duration": 58,
    "start_time": "2023-05-18T19:12:55.331Z"
   },
   {
    "duration": 986,
    "start_time": "2023-05-18T19:12:55.391Z"
   },
   {
    "duration": 237,
    "start_time": "2023-05-18T19:12:56.379Z"
   },
   {
    "duration": 366,
    "start_time": "2023-05-18T19:12:56.618Z"
   },
   {
    "duration": 3176,
    "start_time": "2023-05-18T19:13:11.958Z"
   },
   {
    "duration": 160,
    "start_time": "2023-05-18T19:14:21.678Z"
   },
   {
    "duration": 5,
    "start_time": "2023-05-18T19:14:35.666Z"
   },
   {
    "duration": 19248,
    "start_time": "2023-05-20T15:22:23.440Z"
   },
   {
    "duration": 1271,
    "start_time": "2023-05-20T15:22:48.640Z"
   },
   {
    "duration": 127,
    "start_time": "2023-05-20T15:22:51.433Z"
   },
   {
    "duration": 22,
    "start_time": "2023-05-20T15:22:56.839Z"
   },
   {
    "duration": 103950,
    "start_time": "2023-05-20T15:23:02.730Z"
   },
   {
    "duration": 5,
    "start_time": "2023-05-20T15:25:13.797Z"
   },
   {
    "duration": 4,
    "start_time": "2023-05-20T15:25:18.277Z"
   },
   {
    "duration": 6,
    "start_time": "2023-05-20T15:25:23.033Z"
   },
   {
    "duration": 24,
    "start_time": "2023-05-20T15:25:27.098Z"
   },
   {
    "duration": 5,
    "start_time": "2023-05-20T15:25:30.621Z"
   },
   {
    "duration": 104,
    "start_time": "2023-05-20T15:25:35.708Z"
   },
   {
    "duration": 21,
    "start_time": "2023-05-20T15:25:42.778Z"
   },
   {
    "duration": 35,
    "start_time": "2023-05-20T15:25:47.931Z"
   },
   {
    "duration": 21,
    "start_time": "2023-05-20T15:25:56.328Z"
   },
   {
    "duration": 32,
    "start_time": "2023-05-20T15:26:01.498Z"
   },
   {
    "duration": 5017,
    "start_time": "2023-05-20T15:26:54.330Z"
   },
   {
    "duration": 999,
    "start_time": "2023-05-20T15:26:59.349Z"
   },
   {
    "duration": 133,
    "start_time": "2023-05-20T15:27:00.350Z"
   },
   {
    "duration": 21,
    "start_time": "2023-05-20T15:27:00.486Z"
   },
   {
    "duration": 100541,
    "start_time": "2023-05-20T15:27:00.509Z"
   },
   {
    "duration": 5,
    "start_time": "2023-05-20T15:28:41.052Z"
   },
   {
    "duration": 16,
    "start_time": "2023-05-20T15:28:41.059Z"
   },
   {
    "duration": 9,
    "start_time": "2023-05-20T15:28:41.077Z"
   },
   {
    "duration": 20,
    "start_time": "2023-05-20T15:30:18.136Z"
   },
   {
    "duration": 6,
    "start_time": "2023-05-20T15:30:25.973Z"
   },
   {
    "duration": 87,
    "start_time": "2023-05-20T15:30:30.235Z"
   },
   {
    "duration": 23,
    "start_time": "2023-05-20T15:30:36.438Z"
   },
   {
    "duration": 32,
    "start_time": "2023-05-20T15:30:42.036Z"
   },
   {
    "duration": 21,
    "start_time": "2023-05-20T15:30:50.304Z"
   },
   {
    "duration": 32,
    "start_time": "2023-05-20T15:30:56.734Z"
   },
   {
    "duration": 37,
    "start_time": "2023-05-20T15:31:26.034Z"
   },
   {
    "duration": 21,
    "start_time": "2023-05-20T15:32:52.316Z"
   },
   {
    "duration": 33,
    "start_time": "2023-05-20T15:32:52.756Z"
   },
   {
    "duration": 33,
    "start_time": "2023-05-20T15:33:33.106Z"
   },
   {
    "duration": 22,
    "start_time": "2023-05-20T15:34:15.636Z"
   },
   {
    "duration": 75,
    "start_time": "2023-05-20T15:34:15.685Z"
   },
   {
    "duration": 72,
    "start_time": "2023-05-20T15:34:20.605Z"
   },
   {
    "duration": 71,
    "start_time": "2023-05-20T15:34:49.334Z"
   },
   {
    "duration": 103,
    "start_time": "2023-05-20T15:35:13.981Z"
   },
   {
    "duration": 19,
    "start_time": "2023-05-20T15:35:19.681Z"
   },
   {
    "duration": 73,
    "start_time": "2023-05-20T15:35:26.920Z"
   },
   {
    "duration": 18,
    "start_time": "2023-05-20T15:35:52.859Z"
   },
   {
    "duration": 17,
    "start_time": "2023-05-20T15:36:18.249Z"
   },
   {
    "duration": 18,
    "start_time": "2023-05-20T15:36:34.395Z"
   },
   {
    "duration": 70,
    "start_time": "2023-05-20T15:36:38.015Z"
   },
   {
    "duration": 223,
    "start_time": "2023-05-20T15:36:45.306Z"
   },
   {
    "duration": 32,
    "start_time": "2023-05-20T15:36:49.886Z"
   },
   {
    "duration": 101,
    "start_time": "2023-05-20T15:36:59.836Z"
   },
   {
    "duration": 716,
    "start_time": "2023-05-20T15:37:07.815Z"
   },
   {
    "duration": 4,
    "start_time": "2023-05-20T15:37:13.406Z"
   },
   {
    "duration": 5129089,
    "start_time": "2023-05-20T15:37:23.475Z"
   },
   {
    "duration": 197,
    "start_time": "2023-05-20T17:28:18.467Z"
   },
   {
    "duration": 317692,
    "start_time": "2023-05-20T17:28:27.307Z"
   },
   {
    "duration": 5,
    "start_time": "2023-05-20T17:34:29.698Z"
   },
   {
    "duration": 325619,
    "start_time": "2023-05-20T17:34:41.505Z"
   },
   {
    "duration": 16740,
    "start_time": "2023-05-21T15:47:39.210Z"
   },
   {
    "duration": 3083,
    "start_time": "2023-05-21T15:48:15.030Z"
   },
   {
    "duration": 132,
    "start_time": "2023-05-21T15:48:18.115Z"
   },
   {
    "duration": 25,
    "start_time": "2023-05-21T15:48:18.875Z"
   },
   {
    "duration": 97667,
    "start_time": "2023-05-21T15:48:22.701Z"
   },
   {
    "duration": 5,
    "start_time": "2023-05-21T15:50:20.796Z"
   },
   {
    "duration": 3,
    "start_time": "2023-05-21T15:50:25.594Z"
   },
   {
    "duration": 5,
    "start_time": "2023-05-21T15:50:28.327Z"
   },
   {
    "duration": 18,
    "start_time": "2023-05-21T15:50:31.726Z"
   },
   {
    "duration": 4,
    "start_time": "2023-05-21T15:50:34.162Z"
   },
   {
    "duration": 92,
    "start_time": "2023-05-21T15:50:38.570Z"
   },
   {
    "duration": 19,
    "start_time": "2023-05-21T15:50:42.406Z"
   },
   {
    "duration": 35,
    "start_time": "2023-05-21T15:50:44.470Z"
   },
   {
    "duration": 18,
    "start_time": "2023-05-21T15:50:46.978Z"
   },
   {
    "duration": 34,
    "start_time": "2023-05-21T15:50:50.098Z"
   },
   {
    "duration": 19,
    "start_time": "2023-05-21T15:50:52.492Z"
   },
   {
    "duration": 35,
    "start_time": "2023-05-21T15:50:54.490Z"
   },
   {
    "duration": 18,
    "start_time": "2023-05-21T15:50:57.862Z"
   },
   {
    "duration": 76,
    "start_time": "2023-05-21T15:51:00.315Z"
   },
   {
    "duration": 196,
    "start_time": "2023-05-21T15:51:03.974Z"
   },
   {
    "duration": 28,
    "start_time": "2023-05-21T15:51:08.190Z"
   },
   {
    "duration": 85,
    "start_time": "2023-05-21T15:51:10.296Z"
   },
   {
    "duration": 13,
    "start_time": "2023-05-21T16:03:36.474Z"
   },
   {
    "duration": 205,
    "start_time": "2023-05-21T16:05:46.084Z"
   },
   {
    "duration": 517,
    "start_time": "2023-05-21T16:05:46.291Z"
   },
   {
    "duration": 4,
    "start_time": "2023-05-21T16:06:10.310Z"
   },
   {
    "duration": 4804,
    "start_time": "2023-05-21T16:49:32.308Z"
   },
   {
    "duration": 908,
    "start_time": "2023-05-21T16:49:37.114Z"
   },
   {
    "duration": 156,
    "start_time": "2023-05-21T16:49:38.025Z"
   },
   {
    "duration": 18,
    "start_time": "2023-05-21T16:49:38.184Z"
   },
   {
    "duration": 98172,
    "start_time": "2023-05-21T16:49:38.204Z"
   },
   {
    "duration": 4,
    "start_time": "2023-05-21T16:51:16.378Z"
   },
   {
    "duration": 10,
    "start_time": "2023-05-21T16:51:16.384Z"
   },
   {
    "duration": 15,
    "start_time": "2023-05-21T16:51:16.395Z"
   },
   {
    "duration": 35,
    "start_time": "2023-05-21T16:51:16.411Z"
   },
   {
    "duration": 4,
    "start_time": "2023-05-21T16:51:16.449Z"
   },
   {
    "duration": 106,
    "start_time": "2023-05-21T16:51:16.454Z"
   },
   {
    "duration": 24,
    "start_time": "2023-05-21T16:51:16.562Z"
   },
   {
    "duration": 53,
    "start_time": "2023-05-21T16:51:16.587Z"
   },
   {
    "duration": 22,
    "start_time": "2023-05-21T16:51:16.642Z"
   },
   {
    "duration": 47,
    "start_time": "2023-05-21T16:51:16.666Z"
   },
   {
    "duration": 23,
    "start_time": "2023-05-21T16:51:16.714Z"
   },
   {
    "duration": 38,
    "start_time": "2023-05-21T16:51:16.739Z"
   },
   {
    "duration": 20,
    "start_time": "2023-05-21T16:51:16.779Z"
   },
   {
    "duration": 112,
    "start_time": "2023-05-21T16:51:16.824Z"
   },
   {
    "duration": 211,
    "start_time": "2023-05-21T16:51:16.937Z"
   },
   {
    "duration": 28,
    "start_time": "2023-05-21T16:51:17.150Z"
   },
   {
    "duration": 99,
    "start_time": "2023-05-21T16:51:17.180Z"
   },
   {
    "duration": 15,
    "start_time": "2023-05-21T16:51:17.281Z"
   },
   {
    "duration": 234,
    "start_time": "2023-05-21T16:51:17.299Z"
   },
   {
    "duration": 4,
    "start_time": "2023-05-21T16:51:17.535Z"
   },
   {
    "duration": 44,
    "start_time": "2023-05-21T16:51:17.540Z"
   },
   {
    "duration": 241582,
    "start_time": "2023-05-21T17:03:24.598Z"
   },
   {
    "duration": 273,
    "start_time": "2023-05-21T17:17:59.693Z"
   },
   {
    "duration": 273091,
    "start_time": "2023-05-21T17:18:24.867Z"
   },
   {
    "duration": 249415,
    "start_time": "2023-05-21T17:26:49.769Z"
   },
   {
    "duration": 40096,
    "start_time": "2023-05-21T17:47:40.193Z"
   },
   {
    "duration": 37981,
    "start_time": "2023-05-21T17:48:53.401Z"
   },
   {
    "duration": 2817,
    "start_time": "2023-05-21T17:51:48.077Z"
   },
   {
    "duration": 468,
    "start_time": "2023-05-21T17:57:29.061Z"
   },
   {
    "duration": 565,
    "start_time": "2023-05-21T17:59:59.165Z"
   },
   {
    "duration": 577,
    "start_time": "2023-05-21T18:00:09.557Z"
   },
   {
    "duration": 536,
    "start_time": "2023-05-21T18:00:18.593Z"
   },
   {
    "duration": 2941,
    "start_time": "2023-05-21T18:02:50.169Z"
   },
   {
    "duration": 870,
    "start_time": "2023-05-21T18:02:53.113Z"
   },
   {
    "duration": 679378,
    "start_time": "2023-05-21T18:08:45.776Z"
   },
   {
    "duration": 215604,
    "start_time": "2023-05-21T18:29:05.420Z"
   },
   {
    "duration": 4,
    "start_time": "2023-05-21T18:41:32.061Z"
   },
   {
    "duration": 283349,
    "start_time": "2023-05-21T18:41:41.012Z"
   },
   {
    "duration": 4,
    "start_time": "2023-05-21T18:47:23.795Z"
   },
   {
    "duration": 486916,
    "start_time": "2023-05-21T18:47:24.075Z"
   },
   {
    "duration": 49,
    "start_time": "2023-05-21T18:58:10.947Z"
   },
   {
    "duration": 4,
    "start_time": "2023-05-21T18:58:41.667Z"
   },
   {
    "duration": 325825,
    "start_time": "2023-05-21T18:58:44.663Z"
   },
   {
    "duration": 156218,
    "start_time": "2023-05-21T19:08:22.110Z"
   },
   {
    "duration": 4393,
    "start_time": "2023-05-21T19:13:22.846Z"
   },
   {
    "duration": 200129,
    "start_time": "2023-05-21T19:13:57.825Z"
   },
   {
    "duration": 963168,
    "start_time": "2023-05-21T19:20:25.666Z"
   },
   {
    "duration": 67,
    "start_time": "2023-05-21T20:15:46.536Z"
   },
   {
    "duration": 63,
    "start_time": "2023-05-21T20:16:00.360Z"
   },
   {
    "duration": 319220,
    "start_time": "2023-05-21T20:16:09.016Z"
   },
   {
    "duration": 88,
    "start_time": "2023-05-21T20:25:02.505Z"
   },
   {
    "duration": 1453778,
    "start_time": "2023-05-21T20:28:32.087Z"
   },
   {
    "duration": 73,
    "start_time": "2023-05-21T20:52:45.868Z"
   },
   {
    "duration": 11,
    "start_time": "2023-05-21T21:08:38.068Z"
   },
   {
    "duration": 11434,
    "start_time": "2023-05-21T21:08:47.577Z"
   },
   {
    "duration": 7,
    "start_time": "2023-05-21T21:12:24.090Z"
   },
   {
    "duration": 6121,
    "start_time": "2023-05-21T21:13:58.557Z"
   },
   {
    "duration": 1000,
    "start_time": "2023-05-21T21:14:04.680Z"
   },
   {
    "duration": 193,
    "start_time": "2023-05-21T21:14:05.682Z"
   },
   {
    "duration": 21,
    "start_time": "2023-05-21T21:14:05.877Z"
   },
   {
    "duration": 109950,
    "start_time": "2023-05-21T21:14:05.899Z"
   },
   {
    "duration": 10,
    "start_time": "2023-05-21T21:15:55.851Z"
   },
   {
    "duration": 24,
    "start_time": "2023-05-21T21:15:55.863Z"
   },
   {
    "duration": 9,
    "start_time": "2023-05-21T21:15:55.890Z"
   },
   {
    "duration": 51,
    "start_time": "2023-05-21T21:15:55.901Z"
   },
   {
    "duration": 7,
    "start_time": "2023-05-21T21:15:55.957Z"
   },
   {
    "duration": 116,
    "start_time": "2023-05-21T21:15:55.966Z"
   },
   {
    "duration": 21,
    "start_time": "2023-05-21T21:15:56.083Z"
   },
   {
    "duration": 59,
    "start_time": "2023-05-21T21:15:56.106Z"
   },
   {
    "duration": 18,
    "start_time": "2023-05-21T21:15:56.167Z"
   },
   {
    "duration": 71,
    "start_time": "2023-05-21T21:15:56.187Z"
   },
   {
    "duration": 21,
    "start_time": "2023-05-21T21:15:56.260Z"
   },
   {
    "duration": 34,
    "start_time": "2023-05-21T21:15:56.283Z"
   },
   {
    "duration": 40,
    "start_time": "2023-05-21T21:15:56.319Z"
   },
   {
    "duration": 114,
    "start_time": "2023-05-21T21:15:56.361Z"
   },
   {
    "duration": 243,
    "start_time": "2023-05-21T21:15:56.477Z"
   },
   {
    "duration": 38,
    "start_time": "2023-05-21T21:15:56.722Z"
   },
   {
    "duration": 101,
    "start_time": "2023-05-21T21:15:56.762Z"
   },
   {
    "duration": 17,
    "start_time": "2023-05-21T21:15:56.866Z"
   },
   {
    "duration": 277,
    "start_time": "2023-05-21T21:15:56.884Z"
   },
   {
    "duration": 251229,
    "start_time": "2023-05-21T21:15:57.163Z"
   },
   {
    "duration": 185355,
    "start_time": "2023-05-21T21:20:08.394Z"
   },
   {
    "duration": 38506,
    "start_time": "2023-05-21T21:23:13.750Z"
   },
   {
    "duration": 472,
    "start_time": "2023-05-21T21:23:52.260Z"
   },
   {
    "duration": 600700,
    "start_time": "2023-05-21T21:23:52.734Z"
   },
   {
    "duration": 8,
    "start_time": "2023-05-21T21:33:53.437Z"
   },
   {
    "duration": 403222,
    "start_time": "2023-05-21T21:33:53.526Z"
   },
   {
    "duration": 17798,
    "start_time": "2023-05-22T11:30:51.314Z"
   },
   {
    "duration": 1115,
    "start_time": "2023-05-22T11:31:09.114Z"
   },
   {
    "duration": 138,
    "start_time": "2023-05-22T11:31:10.230Z"
   },
   {
    "duration": 23,
    "start_time": "2023-05-22T11:31:10.371Z"
   },
   {
    "duration": 96933,
    "start_time": "2023-05-22T11:31:10.396Z"
   },
   {
    "duration": 5,
    "start_time": "2023-05-22T11:32:47.331Z"
   },
   {
    "duration": 21,
    "start_time": "2023-05-22T11:32:47.337Z"
   },
   {
    "duration": 15,
    "start_time": "2023-05-22T11:32:47.360Z"
   },
   {
    "duration": 26,
    "start_time": "2023-05-22T11:32:47.377Z"
   },
   {
    "duration": 5,
    "start_time": "2023-05-22T11:32:47.406Z"
   },
   {
    "duration": 112,
    "start_time": "2023-05-22T11:32:47.412Z"
   },
   {
    "duration": 21,
    "start_time": "2023-05-22T11:32:47.525Z"
   },
   {
    "duration": 44,
    "start_time": "2023-05-22T11:32:47.548Z"
   },
   {
    "duration": 22,
    "start_time": "2023-05-22T11:32:47.594Z"
   },
   {
    "duration": 49,
    "start_time": "2023-05-22T11:32:47.618Z"
   },
   {
    "duration": 32,
    "start_time": "2023-05-22T11:32:47.669Z"
   },
   {
    "duration": 40,
    "start_time": "2023-05-22T11:32:47.703Z"
   },
   {
    "duration": 22,
    "start_time": "2023-05-22T11:32:47.745Z"
   },
   {
    "duration": 85,
    "start_time": "2023-05-22T11:32:47.769Z"
   },
   {
    "duration": 216,
    "start_time": "2023-05-22T11:32:47.856Z"
   },
   {
    "duration": 28,
    "start_time": "2023-05-22T11:32:48.074Z"
   },
   {
    "duration": 106,
    "start_time": "2023-05-22T11:32:48.104Z"
   },
   {
    "duration": 16,
    "start_time": "2023-05-22T11:32:48.212Z"
   },
   {
    "duration": 233,
    "start_time": "2023-05-22T11:32:48.231Z"
   },
   {
    "duration": 240689,
    "start_time": "2023-05-22T11:32:48.467Z"
   },
   {
    "duration": 40588,
    "start_time": "2023-05-22T11:36:49.158Z"
   },
   {
    "duration": 40846,
    "start_time": "2023-05-22T11:37:29.748Z"
   },
   {
    "duration": 457,
    "start_time": "2023-05-22T11:38:10.599Z"
   },
   {
    "duration": 296100,
    "start_time": "2023-05-22T11:38:11.147Z"
   },
   {
    "duration": 5,
    "start_time": "2023-05-22T11:43:07.250Z"
   },
   {
    "duration": 410607,
    "start_time": "2023-05-22T11:43:07.257Z"
   },
   {
    "duration": 4987,
    "start_time": "2023-05-22T13:29:33.593Z"
   },
   {
    "duration": 873,
    "start_time": "2023-05-22T13:29:38.582Z"
   },
   {
    "duration": 142,
    "start_time": "2023-05-22T13:29:39.457Z"
   },
   {
    "duration": 17,
    "start_time": "2023-05-22T13:29:39.601Z"
   },
   {
    "duration": 104276,
    "start_time": "2023-05-22T13:29:39.620Z"
   },
   {
    "duration": 4,
    "start_time": "2023-05-22T13:31:23.898Z"
   },
   {
    "duration": 16,
    "start_time": "2023-05-22T13:31:23.903Z"
   },
   {
    "duration": 7,
    "start_time": "2023-05-22T13:31:23.921Z"
   },
   {
    "duration": 31,
    "start_time": "2023-05-22T13:31:23.929Z"
   },
   {
    "duration": 6,
    "start_time": "2023-05-22T13:31:23.963Z"
   },
   {
    "duration": 125,
    "start_time": "2023-05-22T13:31:23.971Z"
   },
   {
    "duration": 21,
    "start_time": "2023-05-22T13:31:24.098Z"
   },
   {
    "duration": 55,
    "start_time": "2023-05-22T13:31:24.121Z"
   },
   {
    "duration": 23,
    "start_time": "2023-05-22T13:31:24.178Z"
   },
   {
    "duration": 42,
    "start_time": "2023-05-22T13:31:24.203Z"
   },
   {
    "duration": 32,
    "start_time": "2023-05-22T13:31:24.251Z"
   },
   {
    "duration": 45,
    "start_time": "2023-05-22T13:31:24.285Z"
   },
   {
    "duration": 41,
    "start_time": "2023-05-22T13:31:24.331Z"
   },
   {
    "duration": 103,
    "start_time": "2023-05-22T13:31:24.373Z"
   },
   {
    "duration": 230,
    "start_time": "2023-05-22T13:31:24.479Z"
   },
   {
    "duration": 37,
    "start_time": "2023-05-22T13:31:24.711Z"
   },
   {
    "duration": 83,
    "start_time": "2023-05-22T13:31:24.760Z"
   },
   {
    "duration": 21,
    "start_time": "2023-05-22T13:31:24.846Z"
   },
   {
    "duration": 253,
    "start_time": "2023-05-22T13:31:24.869Z"
   },
   {
    "duration": 246436,
    "start_time": "2023-05-22T13:31:25.124Z"
   },
   {
    "duration": 51803,
    "start_time": "2023-05-22T13:35:31.562Z"
   },
   {
    "duration": 40760,
    "start_time": "2023-05-22T13:36:23.367Z"
   },
   {
    "duration": 526,
    "start_time": "2023-05-22T13:37:04.130Z"
   },
   {
    "duration": 414191,
    "start_time": "2023-05-22T13:37:04.659Z"
   },
   {
    "duration": 4,
    "start_time": "2023-05-22T13:44:16.206Z"
   },
   {
    "duration": 4,
    "start_time": "2023-05-22T13:44:31.167Z"
   },
   {
    "duration": 182476,
    "start_time": "2023-05-22T13:44:35.103Z"
   },
   {
    "duration": 1127244,
    "start_time": "2023-05-22T13:47:59.807Z"
   },
   {
    "duration": 161310,
    "start_time": "2023-05-22T14:08:12.014Z"
   },
   {
    "duration": 328143,
    "start_time": "2023-05-22T14:11:44.108Z"
   },
   {
    "duration": 11663,
    "start_time": "2023-05-22T14:17:12.345Z"
   },
   {
    "duration": 6,
    "start_time": "2023-05-22T14:19:49.707Z"
   },
   {
    "duration": 16298,
    "start_time": "2023-05-23T18:44:27.940Z"
   },
   {
    "duration": 2786,
    "start_time": "2023-05-23T18:44:48.386Z"
   },
   {
    "duration": 116,
    "start_time": "2023-05-23T18:44:54.768Z"
   },
   {
    "duration": 21,
    "start_time": "2023-05-23T18:45:00.617Z"
   },
   {
    "duration": 96345,
    "start_time": "2023-05-23T18:45:04.484Z"
   },
   {
    "duration": 6,
    "start_time": "2023-05-23T18:46:54.472Z"
   },
   {
    "duration": 3,
    "start_time": "2023-05-23T18:46:54.625Z"
   },
   {
    "duration": 5,
    "start_time": "2023-05-23T18:46:54.744Z"
   },
   {
    "duration": 5,
    "start_time": "2023-05-23T18:47:00.329Z"
   },
   {
    "duration": 3,
    "start_time": "2023-05-23T18:47:09.193Z"
   },
   {
    "duration": 4727,
    "start_time": "2023-05-23T18:47:28.096Z"
   },
   {
    "duration": 869,
    "start_time": "2023-05-23T18:47:39.498Z"
   },
   {
    "duration": 119,
    "start_time": "2023-05-23T18:47:40.370Z"
   },
   {
    "duration": 131,
    "start_time": "2023-05-23T18:47:44.642Z"
   },
   {
    "duration": 4894,
    "start_time": "2023-05-23T18:48:02.341Z"
   },
   {
    "duration": 879,
    "start_time": "2023-05-23T18:48:13.527Z"
   },
   {
    "duration": 138,
    "start_time": "2023-05-23T18:48:14.408Z"
   },
   {
    "duration": 112,
    "start_time": "2023-05-23T18:48:19.496Z"
   },
   {
    "duration": 20,
    "start_time": "2023-05-23T18:48:19.663Z"
   },
   {
    "duration": 14,
    "start_time": "2023-05-23T18:48:27.074Z"
   },
   {
    "duration": 93632,
    "start_time": "2023-05-23T18:48:28.393Z"
   },
   {
    "duration": 10,
    "start_time": "2023-05-23T18:50:17.360Z"
   },
   {
    "duration": 3,
    "start_time": "2023-05-23T18:50:22.170Z"
   },
   {
    "duration": 5,
    "start_time": "2023-05-23T18:50:26.370Z"
   },
   {
    "duration": 18,
    "start_time": "2023-05-23T18:52:22.350Z"
   },
   {
    "duration": 5,
    "start_time": "2023-05-23T18:52:22.496Z"
   },
   {
    "duration": 3,
    "start_time": "2023-05-23T18:52:25.859Z"
   },
   {
    "duration": 80,
    "start_time": "2023-05-23T18:52:30.750Z"
   },
   {
    "duration": 17,
    "start_time": "2023-05-23T18:52:34.551Z"
   },
   {
    "duration": 31,
    "start_time": "2023-05-23T18:52:37.367Z"
   },
   {
    "duration": 18,
    "start_time": "2023-05-23T18:52:40.362Z"
   },
   {
    "duration": 30,
    "start_time": "2023-05-23T18:52:42.884Z"
   },
   {
    "duration": 15,
    "start_time": "2023-05-23T18:52:45.442Z"
   },
   {
    "duration": 30,
    "start_time": "2023-05-23T18:52:47.360Z"
   },
   {
    "duration": 15,
    "start_time": "2023-05-23T18:52:50.088Z"
   },
   {
    "duration": 59,
    "start_time": "2023-05-23T18:52:56.347Z"
   },
   {
    "duration": 76,
    "start_time": "2023-05-23T18:53:15.581Z"
   },
   {
    "duration": 29,
    "start_time": "2023-05-23T18:55:11.780Z"
   },
   {
    "duration": 29,
    "start_time": "2023-05-23T18:55:32.650Z"
   },
   {
    "duration": 33,
    "start_time": "2023-05-23T18:55:40.286Z"
   },
   {
    "duration": 32,
    "start_time": "2023-05-23T18:56:04.806Z"
   },
   {
    "duration": 9,
    "start_time": "2023-05-23T18:56:43.507Z"
   },
   {
    "duration": 172,
    "start_time": "2023-05-23T18:56:58.745Z"
   },
   {
    "duration": 11,
    "start_time": "2023-05-23T18:57:10.448Z"
   },
   {
    "duration": 16,
    "start_time": "2023-05-23T18:58:51.946Z"
   },
   {
    "duration": 11,
    "start_time": "2023-05-23T18:59:14.282Z"
   },
   {
    "duration": 14,
    "start_time": "2023-05-23T19:02:30.551Z"
   },
   {
    "duration": 6,
    "start_time": "2023-05-23T19:03:42.544Z"
   },
   {
    "duration": 35,
    "start_time": "2023-05-23T19:04:02.500Z"
   },
   {
    "duration": 36,
    "start_time": "2023-05-23T19:06:12.647Z"
   },
   {
    "duration": 35,
    "start_time": "2023-05-23T19:06:48.765Z"
   },
   {
    "duration": 37,
    "start_time": "2023-05-23T19:06:58.881Z"
   },
   {
    "duration": 30,
    "start_time": "2023-05-23T19:08:02.906Z"
   },
   {
    "duration": 25,
    "start_time": "2023-05-23T19:08:58.633Z"
   },
   {
    "duration": 29,
    "start_time": "2023-05-23T19:09:09.058Z"
   },
   {
    "duration": 5102,
    "start_time": "2023-05-23T19:38:56.961Z"
   },
   {
    "duration": 1737,
    "start_time": "2023-05-23T19:39:02.066Z"
   },
   {
    "duration": 282,
    "start_time": "2023-05-23T19:39:03.805Z"
   },
   {
    "duration": 69,
    "start_time": "2023-05-23T19:39:04.089Z"
   },
   {
    "duration": 96254,
    "start_time": "2023-05-23T19:39:04.160Z"
   },
   {
    "duration": 5,
    "start_time": "2023-05-23T19:40:40.416Z"
   },
   {
    "duration": 6,
    "start_time": "2023-05-23T19:40:40.422Z"
   },
   {
    "duration": 7,
    "start_time": "2023-05-23T19:40:40.430Z"
   },
   {
    "duration": 50,
    "start_time": "2023-05-23T19:40:40.439Z"
   },
   {
    "duration": 6,
    "start_time": "2023-05-23T19:40:40.501Z"
   },
   {
    "duration": 89,
    "start_time": "2023-05-23T19:40:40.509Z"
   },
   {
    "duration": 19,
    "start_time": "2023-05-23T19:40:40.600Z"
   },
   {
    "duration": 58,
    "start_time": "2023-05-23T19:40:40.622Z"
   },
   {
    "duration": 17,
    "start_time": "2023-05-23T19:40:40.684Z"
   },
   {
    "duration": 31,
    "start_time": "2023-05-23T19:40:40.703Z"
   },
   {
    "duration": 42,
    "start_time": "2023-05-23T19:40:40.736Z"
   },
   {
    "duration": 41,
    "start_time": "2023-05-23T19:40:40.781Z"
   },
   {
    "duration": 51,
    "start_time": "2023-05-23T19:40:40.824Z"
   },
   {
    "duration": 75,
    "start_time": "2023-05-23T19:40:40.877Z"
   },
   {
    "duration": 113,
    "start_time": "2023-05-23T19:40:40.954Z"
   },
   {
    "duration": 36,
    "start_time": "2023-05-23T19:40:41.070Z"
   },
   {
    "duration": 50,
    "start_time": "2023-05-23T19:40:41.107Z"
   },
   {
    "duration": 37,
    "start_time": "2023-05-23T19:40:41.162Z"
   },
   {
    "duration": 57,
    "start_time": "2023-05-23T19:40:41.202Z"
   },
   {
    "duration": 35,
    "start_time": "2023-05-23T19:40:41.262Z"
   },
   {
    "duration": 33,
    "start_time": "2023-05-23T19:40:41.299Z"
   },
   {
    "duration": 4808,
    "start_time": "2023-05-23T19:41:32.892Z"
   },
   {
    "duration": 880,
    "start_time": "2023-05-23T19:41:37.702Z"
   },
   {
    "duration": 121,
    "start_time": "2023-05-23T19:41:38.584Z"
   },
   {
    "duration": 19,
    "start_time": "2023-05-23T19:41:38.707Z"
   },
   {
    "duration": 95350,
    "start_time": "2023-05-23T19:41:38.727Z"
   },
   {
    "duration": 4,
    "start_time": "2023-05-23T19:43:14.079Z"
   },
   {
    "duration": 5,
    "start_time": "2023-05-23T19:43:14.084Z"
   },
   {
    "duration": 7,
    "start_time": "2023-05-23T19:43:14.090Z"
   },
   {
    "duration": 19,
    "start_time": "2023-05-23T19:43:14.098Z"
   },
   {
    "duration": 4,
    "start_time": "2023-05-23T19:43:14.120Z"
   },
   {
    "duration": 104,
    "start_time": "2023-05-23T19:43:14.126Z"
   },
   {
    "duration": 37,
    "start_time": "2023-05-23T19:43:14.232Z"
   },
   {
    "duration": 31,
    "start_time": "2023-05-23T19:43:14.270Z"
   },
   {
    "duration": 21,
    "start_time": "2023-05-23T19:43:14.303Z"
   },
   {
    "duration": 57,
    "start_time": "2023-05-23T19:43:14.326Z"
   },
   {
    "duration": 34,
    "start_time": "2023-05-23T19:43:14.384Z"
   },
   {
    "duration": 51,
    "start_time": "2023-05-23T19:43:14.420Z"
   },
   {
    "duration": 15,
    "start_time": "2023-05-23T19:43:14.474Z"
   },
   {
    "duration": 79,
    "start_time": "2023-05-23T19:43:14.491Z"
   },
   {
    "duration": 91,
    "start_time": "2023-05-23T19:43:14.572Z"
   },
   {
    "duration": 33,
    "start_time": "2023-05-23T19:43:14.665Z"
   },
   {
    "duration": 29,
    "start_time": "2023-05-23T19:43:14.700Z"
   },
   {
    "duration": 45,
    "start_time": "2023-05-23T19:43:14.730Z"
   },
   {
    "duration": 30,
    "start_time": "2023-05-23T19:43:14.777Z"
   },
   {
    "duration": 28,
    "start_time": "2023-05-23T19:43:14.810Z"
   },
   {
    "duration": 43,
    "start_time": "2023-05-23T19:43:14.840Z"
   },
   {
    "duration": 24,
    "start_time": "2023-05-23T19:44:56.551Z"
   },
   {
    "duration": 15,
    "start_time": "2023-05-23T19:48:54.368Z"
   },
   {
    "duration": 16993,
    "start_time": "2023-05-24T08:53:30.203Z"
   },
   {
    "duration": 973,
    "start_time": "2023-05-24T08:54:43.352Z"
   },
   {
    "duration": 111,
    "start_time": "2023-05-24T08:54:49.057Z"
   },
   {
    "duration": 18,
    "start_time": "2023-05-24T08:54:52.081Z"
   },
   {
    "duration": 82664,
    "start_time": "2023-05-24T08:54:57.553Z"
   },
   {
    "duration": 4,
    "start_time": "2023-05-24T08:56:40.584Z"
   },
   {
    "duration": 3,
    "start_time": "2023-05-24T08:56:43.953Z"
   },
   {
    "duration": 4,
    "start_time": "2023-05-24T08:56:48.286Z"
   },
   {
    "duration": 15,
    "start_time": "2023-05-24T08:56:56.476Z"
   },
   {
    "duration": 3,
    "start_time": "2023-05-24T08:57:00.761Z"
   },
   {
    "duration": 79,
    "start_time": "2023-05-24T08:57:06.969Z"
   },
   {
    "duration": 19,
    "start_time": "2023-05-24T08:57:12.067Z"
   },
   {
    "duration": 31,
    "start_time": "2023-05-24T08:57:14.449Z"
   },
   {
    "duration": 15,
    "start_time": "2023-05-24T08:57:17.317Z"
   },
   {
    "duration": 30,
    "start_time": "2023-05-24T08:57:20.459Z"
   },
   {
    "duration": 16,
    "start_time": "2023-05-24T08:57:23.402Z"
   },
   {
    "duration": 30,
    "start_time": "2023-05-24T08:57:26.490Z"
   },
   {
    "duration": 16,
    "start_time": "2023-05-24T08:57:29.459Z"
   },
   {
    "duration": 66,
    "start_time": "2023-05-24T08:57:32.165Z"
   },
   {
    "duration": 70,
    "start_time": "2023-05-24T08:57:39.561Z"
   },
   {
    "duration": 29,
    "start_time": "2023-05-24T08:57:47.269Z"
   },
   {
    "duration": 30,
    "start_time": "2023-05-24T08:57:50.818Z"
   },
   {
    "duration": 28,
    "start_time": "2023-05-24T08:57:53.493Z"
   },
   {
    "duration": 28,
    "start_time": "2023-05-24T08:57:56.703Z"
   },
   {
    "duration": 26,
    "start_time": "2023-05-24T08:58:04.185Z"
   },
   {
    "duration": 24,
    "start_time": "2023-05-24T08:58:09.291Z"
   },
   {
    "duration": 22,
    "start_time": "2023-05-24T08:58:12.161Z"
   },
   {
    "duration": 14,
    "start_time": "2023-05-24T08:59:16.371Z"
   },
   {
    "duration": 49,
    "start_time": "2023-05-24T09:00:49.749Z"
   },
   {
    "duration": 112,
    "start_time": "2023-05-24T09:02:07.923Z"
   },
   {
    "duration": 197,
    "start_time": "2023-05-24T09:06:20.082Z"
   },
   {
    "duration": 96,
    "start_time": "2023-05-24T09:06:44.957Z"
   },
   {
    "duration": 2570,
    "start_time": "2023-05-24T09:09:26.492Z"
   },
   {
    "duration": 69,
    "start_time": "2023-05-24T09:10:48.614Z"
   },
   {
    "duration": 140,
    "start_time": "2023-05-24T09:12:20.475Z"
   },
   {
    "duration": 723,
    "start_time": "2023-05-24T09:12:33.482Z"
   },
   {
    "duration": 191,
    "start_time": "2023-05-24T09:12:54.179Z"
   },
   {
    "duration": 373,
    "start_time": "2023-05-24T09:13:49.957Z"
   },
   {
    "duration": 80673,
    "start_time": "2023-05-24T09:14:45.576Z"
   },
   {
    "duration": 326950,
    "start_time": "2023-05-24T09:16:30.673Z"
   },
   {
    "duration": 36467,
    "start_time": "2023-05-24T09:24:56.103Z"
   },
   {
    "duration": 203,
    "start_time": "2023-05-24T09:31:58.481Z"
   },
   {
    "duration": 471,
    "start_time": "2023-05-24T09:32:27.156Z"
   },
   {
    "duration": 172804,
    "start_time": "2023-05-24T09:32:43.215Z"
   },
   {
    "duration": 15916,
    "start_time": "2023-05-24T12:58:12.263Z"
   },
   {
    "duration": 2820,
    "start_time": "2023-05-24T12:58:28.181Z"
   },
   {
    "duration": 111,
    "start_time": "2023-05-24T12:58:31.003Z"
   },
   {
    "duration": 37,
    "start_time": "2023-05-24T12:58:31.116Z"
   },
   {
    "duration": 88688,
    "start_time": "2023-05-24T12:58:31.156Z"
   },
   {
    "duration": 5,
    "start_time": "2023-05-24T12:59:59.846Z"
   },
   {
    "duration": 4,
    "start_time": "2023-05-24T12:59:59.853Z"
   },
   {
    "duration": 6,
    "start_time": "2023-05-24T12:59:59.859Z"
   },
   {
    "duration": 16,
    "start_time": "2023-05-24T12:59:59.867Z"
   },
   {
    "duration": 7,
    "start_time": "2023-05-24T12:59:59.885Z"
   },
   {
    "duration": 102,
    "start_time": "2023-05-24T12:59:59.894Z"
   },
   {
    "duration": 18,
    "start_time": "2023-05-24T12:59:59.997Z"
   },
   {
    "duration": 66,
    "start_time": "2023-05-24T13:00:00.017Z"
   },
   {
    "duration": 109,
    "start_time": "2023-05-24T13:00:00.087Z"
   },
   {
    "duration": 62,
    "start_time": "2023-05-24T13:00:00.198Z"
   },
   {
    "duration": 55,
    "start_time": "2023-05-24T13:00:00.262Z"
   },
   {
    "duration": 52,
    "start_time": "2023-05-24T13:00:00.318Z"
   },
   {
    "duration": 28,
    "start_time": "2023-05-24T13:00:00.371Z"
   },
   {
    "duration": 94,
    "start_time": "2023-05-24T13:00:00.401Z"
   },
   {
    "duration": 121,
    "start_time": "2023-05-24T13:00:00.497Z"
   },
   {
    "duration": 38,
    "start_time": "2023-05-24T13:00:00.620Z"
   },
   {
    "duration": 42,
    "start_time": "2023-05-24T13:00:00.660Z"
   },
   {
    "duration": 32,
    "start_time": "2023-05-24T13:00:00.704Z"
   },
   {
    "duration": 75,
    "start_time": "2023-05-24T13:00:00.738Z"
   },
   {
    "duration": 36,
    "start_time": "2023-05-24T13:00:00.815Z"
   },
   {
    "duration": 59,
    "start_time": "2023-05-24T13:00:00.853Z"
   },
   {
    "duration": 85,
    "start_time": "2023-05-24T13:00:00.915Z"
   },
   {
    "duration": 67,
    "start_time": "2023-05-24T13:00:01.002Z"
   },
   {
    "duration": 118,
    "start_time": "2023-05-24T13:00:01.071Z"
   },
   {
    "duration": 283,
    "start_time": "2023-05-24T13:00:01.192Z"
   },
   {
    "duration": 725,
    "start_time": "2023-05-24T13:00:01.477Z"
   },
   {
    "duration": 188,
    "start_time": "2023-05-24T13:00:02.205Z"
   },
   {
    "duration": 76856,
    "start_time": "2023-05-24T13:00:02.395Z"
   },
   {
    "duration": 392320,
    "start_time": "2023-05-24T13:01:19.253Z"
   },
   {
    "duration": 35640,
    "start_time": "2023-05-24T13:07:51.575Z"
   },
   {
    "duration": 2035,
    "start_time": "2023-05-24T13:08:27.217Z"
   },
   {
    "duration": 270312,
    "start_time": "2023-05-24T13:08:29.253Z"
   },
   {
    "duration": 3,
    "start_time": "2023-05-24T13:27:21.882Z"
   },
   {
    "duration": 4462,
    "start_time": "2023-05-24T17:00:43.336Z"
   },
   {
    "duration": 831,
    "start_time": "2023-05-24T17:00:47.800Z"
   },
   {
    "duration": 130,
    "start_time": "2023-05-24T17:00:48.633Z"
   },
   {
    "duration": 18,
    "start_time": "2023-05-24T17:00:48.765Z"
   },
   {
    "duration": 88384,
    "start_time": "2023-05-24T17:00:48.785Z"
   },
   {
    "duration": 4,
    "start_time": "2023-05-24T17:02:17.171Z"
   },
   {
    "duration": 11,
    "start_time": "2023-05-24T17:02:17.176Z"
   },
   {
    "duration": 7,
    "start_time": "2023-05-24T17:02:17.189Z"
   },
   {
    "duration": 26,
    "start_time": "2023-05-24T17:02:17.197Z"
   },
   {
    "duration": 4,
    "start_time": "2023-05-24T17:02:17.225Z"
   },
   {
    "duration": 101,
    "start_time": "2023-05-24T17:02:17.231Z"
   },
   {
    "duration": 21,
    "start_time": "2023-05-24T17:02:17.334Z"
   },
   {
    "duration": 32,
    "start_time": "2023-05-24T17:02:17.357Z"
   },
   {
    "duration": 15,
    "start_time": "2023-05-24T17:02:17.392Z"
   },
   {
    "duration": 43,
    "start_time": "2023-05-24T17:02:17.408Z"
   },
   {
    "duration": 25,
    "start_time": "2023-05-24T17:02:17.453Z"
   },
   {
    "duration": 30,
    "start_time": "2023-05-24T17:02:17.480Z"
   },
   {
    "duration": 16,
    "start_time": "2023-05-24T17:02:17.511Z"
   },
   {
    "duration": 74,
    "start_time": "2023-05-24T17:02:17.528Z"
   },
   {
    "duration": 84,
    "start_time": "2023-05-24T17:02:17.604Z"
   },
   {
    "duration": 28,
    "start_time": "2023-05-24T17:02:17.689Z"
   },
   {
    "duration": 43,
    "start_time": "2023-05-24T17:02:17.718Z"
   },
   {
    "duration": 28,
    "start_time": "2023-05-24T17:02:17.763Z"
   },
   {
    "duration": 30,
    "start_time": "2023-05-24T17:02:17.793Z"
   },
   {
    "duration": 46,
    "start_time": "2023-05-24T17:02:17.825Z"
   },
   {
    "duration": 23,
    "start_time": "2023-05-24T17:02:17.872Z"
   },
   {
    "duration": 23,
    "start_time": "2023-05-24T17:02:17.897Z"
   },
   {
    "duration": 13,
    "start_time": "2023-05-24T17:03:18.873Z"
   },
   {
    "duration": 108,
    "start_time": "2023-05-24T17:03:22.281Z"
   },
   {
    "duration": 201,
    "start_time": "2023-05-24T17:11:53.316Z"
   },
   {
    "duration": 598,
    "start_time": "2023-05-24T17:14:13.037Z"
   },
   {
    "duration": 624,
    "start_time": "2023-05-24T17:14:26.474Z"
   },
   {
    "duration": 178,
    "start_time": "2023-05-24T17:15:30.955Z"
   },
   {
    "duration": 47986,
    "start_time": "2023-05-24T17:16:07.977Z"
   },
   {
    "duration": 50960,
    "start_time": "2023-05-24T17:19:29.657Z"
   },
   {
    "duration": 262419,
    "start_time": "2023-05-24T17:48:38.062Z"
   },
   {
    "duration": 28064,
    "start_time": "2023-05-24T17:54:02.528Z"
   },
   {
    "duration": 347,
    "start_time": "2023-05-24T17:55:26.325Z"
   },
   {
    "duration": 144314,
    "start_time": "2023-05-24T17:59:58.936Z"
   },
   {
    "duration": 4,
    "start_time": "2023-05-24T18:44:02.278Z"
   },
   {
    "duration": 1821,
    "start_time": "2023-05-24T18:45:34.799Z"
   },
   {
    "duration": 4,
    "start_time": "2023-05-24T18:48:07.818Z"
   },
   {
    "duration": 114071,
    "start_time": "2023-05-24T18:48:13.586Z"
   },
   {
    "duration": 5,
    "start_time": "2023-05-24T18:51:47.471Z"
   },
   {
    "duration": 144196,
    "start_time": "2023-05-24T18:51:53.577Z"
   },
   {
    "duration": 5,
    "start_time": "2023-05-24T18:54:35.947Z"
   },
   {
    "duration": 94856,
    "start_time": "2023-05-24T18:54:38.653Z"
   },
   {
    "duration": 5,
    "start_time": "2023-05-24T19:00:04.978Z"
   },
   {
    "duration": 128531,
    "start_time": "2023-05-24T19:00:09.170Z"
   },
   {
    "duration": 5,
    "start_time": "2023-05-24T19:04:15.654Z"
   },
   {
    "duration": 162164,
    "start_time": "2023-05-24T19:04:21.550Z"
   },
   {
    "duration": 4,
    "start_time": "2023-05-24T19:50:50.387Z"
   },
   {
    "duration": 11,
    "start_time": "2023-05-24T19:50:53.382Z"
   },
   {
    "duration": 4,
    "start_time": "2023-05-24T19:51:14.300Z"
   },
   {
    "duration": 138861,
    "start_time": "2023-05-24T19:51:17.180Z"
   },
   {
    "duration": 4,
    "start_time": "2023-05-24T19:54:52.670Z"
   },
   {
    "duration": 128663,
    "start_time": "2023-05-24T19:54:55.715Z"
   },
   {
    "duration": 3,
    "start_time": "2023-05-24T20:05:27.391Z"
   },
   {
    "duration": 1,
    "start_time": "2023-05-24T20:07:23.708Z"
   },
   {
    "duration": 95782,
    "start_time": "2023-05-24T20:10:34.659Z"
   },
   {
    "duration": 34,
    "start_time": "2023-05-24T20:13:51.000Z"
   },
   {
    "duration": 1929,
    "start_time": "2023-05-24T20:13:51.351Z"
   },
   {
    "duration": 59,
    "start_time": "2023-05-24T20:14:44.659Z"
   },
   {
    "duration": 1983,
    "start_time": "2023-05-24T20:14:44.823Z"
   },
   {
    "duration": 7640,
    "start_time": "2023-05-24T20:15:03.868Z"
   },
   {
    "duration": 2035,
    "start_time": "2023-05-24T20:15:11.510Z"
   },
   {
    "duration": 964,
    "start_time": "2023-05-24T20:15:13.547Z"
   },
   {
    "duration": 7062,
    "start_time": "2023-05-24T20:16:10.980Z"
   },
   {
    "duration": 7169,
    "start_time": "2023-05-24T20:16:31.211Z"
   },
   {
    "duration": 15624,
    "start_time": "2023-05-25T18:56:17.922Z"
   },
   {
    "duration": 3121,
    "start_time": "2023-05-25T18:56:33.547Z"
   },
   {
    "duration": 98,
    "start_time": "2023-05-25T18:56:36.669Z"
   },
   {
    "duration": 23,
    "start_time": "2023-05-25T18:56:36.769Z"
   },
   {
    "duration": 82068,
    "start_time": "2023-05-25T18:56:36.794Z"
   },
   {
    "duration": 4,
    "start_time": "2023-05-25T18:57:58.864Z"
   },
   {
    "duration": 6,
    "start_time": "2023-05-25T18:57:58.869Z"
   },
   {
    "duration": 7,
    "start_time": "2023-05-25T18:57:58.876Z"
   },
   {
    "duration": 29,
    "start_time": "2023-05-25T18:57:58.885Z"
   },
   {
    "duration": 4,
    "start_time": "2023-05-25T18:57:58.916Z"
   },
   {
    "duration": 86,
    "start_time": "2023-05-25T18:57:58.921Z"
   },
   {
    "duration": 15,
    "start_time": "2023-05-25T18:57:59.009Z"
   },
   {
    "duration": 34,
    "start_time": "2023-05-25T18:57:59.026Z"
   },
   {
    "duration": 16,
    "start_time": "2023-05-25T18:57:59.062Z"
   },
   {
    "duration": 40,
    "start_time": "2023-05-25T18:57:59.079Z"
   },
   {
    "duration": 23,
    "start_time": "2023-05-25T18:57:59.121Z"
   },
   {
    "duration": 28,
    "start_time": "2023-05-25T18:57:59.145Z"
   },
   {
    "duration": 16,
    "start_time": "2023-05-25T18:57:59.175Z"
   },
   {
    "duration": 84,
    "start_time": "2023-05-25T18:57:59.192Z"
   },
   {
    "duration": 81,
    "start_time": "2023-05-25T18:57:59.278Z"
   },
   {
    "duration": 28,
    "start_time": "2023-05-25T18:57:59.361Z"
   },
   {
    "duration": 43,
    "start_time": "2023-05-25T18:57:59.391Z"
   },
   {
    "duration": 28,
    "start_time": "2023-05-25T18:57:59.436Z"
   },
   {
    "duration": 47,
    "start_time": "2023-05-25T18:57:59.466Z"
   },
   {
    "duration": 25,
    "start_time": "2023-05-25T18:57:59.514Z"
   },
   {
    "duration": 21,
    "start_time": "2023-05-25T18:57:59.540Z"
   },
   {
    "duration": 22,
    "start_time": "2023-05-25T18:57:59.563Z"
   },
   {
    "duration": 13,
    "start_time": "2023-05-25T18:57:59.608Z"
   },
   {
    "duration": 122,
    "start_time": "2023-05-25T18:57:59.623Z"
   },
   {
    "duration": 199,
    "start_time": "2023-05-25T18:57:59.746Z"
   },
   {
    "duration": 597,
    "start_time": "2023-05-25T18:57:59.947Z"
   },
   {
    "duration": 176,
    "start_time": "2023-05-25T18:58:00.546Z"
   },
   {
    "duration": 47186,
    "start_time": "2023-05-25T18:58:00.724Z"
   },
   {
    "duration": 54927,
    "start_time": "2023-05-25T18:58:47.913Z"
   },
   {
    "duration": 24242,
    "start_time": "2023-05-25T18:59:42.842Z"
   },
   {
    "duration": 543,
    "start_time": "2023-05-25T19:00:07.085Z"
   },
   {
    "duration": 167676,
    "start_time": "2023-05-25T19:00:22.029Z"
   },
   {
    "duration": 3,
    "start_time": "2023-05-25T19:15:25.758Z"
   },
   {
    "duration": 21667,
    "start_time": "2023-05-25T19:15:54.410Z"
   },
   {
    "duration": 4147,
    "start_time": "2023-05-25T19:16:57.620Z"
   },
   {
    "duration": 927,
    "start_time": "2023-05-25T19:17:01.770Z"
   },
   {
    "duration": 157,
    "start_time": "2023-05-25T19:17:02.699Z"
   },
   {
    "duration": 31,
    "start_time": "2023-05-25T19:17:02.858Z"
   },
   {
    "duration": 80580,
    "start_time": "2023-05-25T19:17:02.891Z"
   },
   {
    "duration": 4,
    "start_time": "2023-05-25T19:18:23.473Z"
   },
   {
    "duration": 7,
    "start_time": "2023-05-25T19:18:23.479Z"
   },
   {
    "duration": 10,
    "start_time": "2023-05-25T19:18:23.487Z"
   },
   {
    "duration": 15,
    "start_time": "2023-05-25T19:18:23.505Z"
   },
   {
    "duration": 4,
    "start_time": "2023-05-25T19:18:23.524Z"
   },
   {
    "duration": 96,
    "start_time": "2023-05-25T19:18:23.529Z"
   },
   {
    "duration": 16,
    "start_time": "2023-05-25T19:18:23.627Z"
   },
   {
    "duration": 32,
    "start_time": "2023-05-25T19:18:23.644Z"
   },
   {
    "duration": 14,
    "start_time": "2023-05-25T19:18:23.677Z"
   },
   {
    "duration": 33,
    "start_time": "2023-05-25T19:18:23.693Z"
   },
   {
    "duration": 15,
    "start_time": "2023-05-25T19:18:23.727Z"
   },
   {
    "duration": 30,
    "start_time": "2023-05-25T19:18:23.743Z"
   },
   {
    "duration": 19,
    "start_time": "2023-05-25T19:18:23.775Z"
   },
   {
    "duration": 65,
    "start_time": "2023-05-25T19:18:23.795Z"
   },
   {
    "duration": 79,
    "start_time": "2023-05-25T19:18:23.862Z"
   },
   {
    "duration": 27,
    "start_time": "2023-05-25T19:18:23.943Z"
   },
   {
    "duration": 39,
    "start_time": "2023-05-25T19:18:23.972Z"
   },
   {
    "duration": 25,
    "start_time": "2023-05-25T19:18:24.013Z"
   },
   {
    "duration": 27,
    "start_time": "2023-05-25T19:18:24.039Z"
   },
   {
    "duration": 43,
    "start_time": "2023-05-25T19:18:24.067Z"
   },
   {
    "duration": 20,
    "start_time": "2023-05-25T19:18:24.111Z"
   },
   {
    "duration": 22,
    "start_time": "2023-05-25T19:18:24.133Z"
   },
   {
    "duration": 12,
    "start_time": "2023-05-25T19:18:24.157Z"
   },
   {
    "duration": 141,
    "start_time": "2023-05-25T19:18:24.170Z"
   },
   {
    "duration": 185,
    "start_time": "2023-05-25T19:18:24.313Z"
   },
   {
    "duration": 596,
    "start_time": "2023-05-25T19:18:24.500Z"
   },
   {
    "duration": 153,
    "start_time": "2023-05-25T19:18:25.098Z"
   },
   {
    "duration": 43937,
    "start_time": "2023-05-25T19:18:25.253Z"
   },
   {
    "duration": 4128,
    "start_time": "2023-05-25T19:19:09.191Z"
   },
   {
    "duration": 22676,
    "start_time": "2023-05-25T19:19:13.321Z"
   },
   {
    "duration": 320,
    "start_time": "2023-05-25T19:19:35.999Z"
   },
   {
    "duration": 132593,
    "start_time": "2023-05-25T19:19:36.321Z"
   },
   {
    "duration": 4,
    "start_time": "2023-05-25T19:22:08.682Z"
   },
   {
    "duration": 0,
    "start_time": "2023-05-25T19:23:32.334Z"
   },
   {
    "duration": 0,
    "start_time": "2023-05-25T19:23:32.335Z"
   },
   {
    "duration": 3,
    "start_time": "2023-05-25T19:23:37.549Z"
   },
   {
    "duration": 158330,
    "start_time": "2023-05-25T19:25:59.009Z"
   },
   {
    "duration": 53012,
    "start_time": "2023-05-25T19:28:37.340Z"
   },
   {
    "duration": 53187,
    "start_time": "2023-05-25T19:29:55.665Z"
   },
   {
    "duration": 6472,
    "start_time": "2023-05-25T19:31:03.791Z"
   },
   {
    "duration": 175,
    "start_time": "2023-05-25T19:31:22.744Z"
   },
   {
    "duration": 4003,
    "start_time": "2023-05-25T19:31:55.820Z"
   },
   {
    "duration": 708,
    "start_time": "2023-05-25T19:31:59.825Z"
   },
   {
    "duration": 111,
    "start_time": "2023-05-25T19:32:00.535Z"
   },
   {
    "duration": 28,
    "start_time": "2023-05-25T19:32:00.649Z"
   },
   {
    "duration": 81621,
    "start_time": "2023-05-25T19:32:00.679Z"
   },
   {
    "duration": 6,
    "start_time": "2023-05-25T19:33:22.301Z"
   },
   {
    "duration": 9,
    "start_time": "2023-05-25T19:33:22.308Z"
   },
   {
    "duration": 6,
    "start_time": "2023-05-25T19:33:22.319Z"
   },
   {
    "duration": 22,
    "start_time": "2023-05-25T19:33:22.326Z"
   },
   {
    "duration": 12,
    "start_time": "2023-05-25T19:33:22.350Z"
   },
   {
    "duration": 95,
    "start_time": "2023-05-25T19:33:22.363Z"
   },
   {
    "duration": 19,
    "start_time": "2023-05-25T19:33:22.459Z"
   },
   {
    "duration": 41,
    "start_time": "2023-05-25T19:33:22.480Z"
   },
   {
    "duration": 26,
    "start_time": "2023-05-25T19:33:22.522Z"
   },
   {
    "duration": 47,
    "start_time": "2023-05-25T19:33:22.550Z"
   },
   {
    "duration": 46,
    "start_time": "2023-05-25T19:33:22.599Z"
   },
   {
    "duration": 38,
    "start_time": "2023-05-25T19:33:22.647Z"
   },
   {
    "duration": 25,
    "start_time": "2023-05-25T19:33:22.686Z"
   },
   {
    "duration": 91,
    "start_time": "2023-05-25T19:33:22.712Z"
   },
   {
    "duration": 73,
    "start_time": "2023-05-25T19:33:22.805Z"
   },
   {
    "duration": 35,
    "start_time": "2023-05-25T19:33:22.880Z"
   },
   {
    "duration": 27,
    "start_time": "2023-05-25T19:33:22.916Z"
   },
   {
    "duration": 27,
    "start_time": "2023-05-25T19:33:22.945Z"
   },
   {
    "duration": 41,
    "start_time": "2023-05-25T19:33:22.973Z"
   },
   {
    "duration": 23,
    "start_time": "2023-05-25T19:33:23.016Z"
   },
   {
    "duration": 20,
    "start_time": "2023-05-25T19:33:23.041Z"
   },
   {
    "duration": 22,
    "start_time": "2023-05-25T19:33:23.063Z"
   },
   {
    "duration": 13,
    "start_time": "2023-05-25T19:33:23.108Z"
   },
   {
    "duration": 120,
    "start_time": "2023-05-25T19:33:23.122Z"
   },
   {
    "duration": 187,
    "start_time": "2023-05-25T19:33:23.244Z"
   },
   {
    "duration": 597,
    "start_time": "2023-05-25T19:33:23.432Z"
   },
   {
    "duration": 155,
    "start_time": "2023-05-25T19:33:24.030Z"
   },
   {
    "duration": 44347,
    "start_time": "2023-05-25T19:33:24.187Z"
   },
   {
    "duration": 4086,
    "start_time": "2023-05-25T19:34:08.535Z"
   },
   {
    "duration": 23268,
    "start_time": "2023-05-25T19:34:12.623Z"
   },
   {
    "duration": 328,
    "start_time": "2023-05-25T19:34:35.893Z"
   },
   {
    "duration": 117491,
    "start_time": "2023-05-25T19:34:36.223Z"
   },
   {
    "duration": 94,
    "start_time": "2023-05-25T19:36:33.716Z"
   },
   {
    "duration": 167228,
    "start_time": "2023-05-25T19:36:43.887Z"
   },
   {
    "duration": 6546,
    "start_time": "2023-05-25T19:39:31.117Z"
   },
   {
    "duration": 4146,
    "start_time": "2023-05-25T19:40:10.385Z"
   },
   {
    "duration": 774,
    "start_time": "2023-05-25T19:40:14.533Z"
   },
   {
    "duration": 115,
    "start_time": "2023-05-25T19:40:15.308Z"
   },
   {
    "duration": 18,
    "start_time": "2023-05-25T19:40:15.425Z"
   },
   {
    "duration": 81368,
    "start_time": "2023-05-25T19:40:15.444Z"
   },
   {
    "duration": 4,
    "start_time": "2023-05-25T19:41:36.813Z"
   },
   {
    "duration": 12,
    "start_time": "2023-05-25T19:41:36.818Z"
   },
   {
    "duration": 8,
    "start_time": "2023-05-25T19:41:36.832Z"
   },
   {
    "duration": 18,
    "start_time": "2023-05-25T19:41:36.841Z"
   },
   {
    "duration": 4,
    "start_time": "2023-05-25T19:41:36.861Z"
   },
   {
    "duration": 89,
    "start_time": "2023-05-25T19:41:36.867Z"
   },
   {
    "duration": 15,
    "start_time": "2023-05-25T19:41:36.957Z"
   },
   {
    "duration": 38,
    "start_time": "2023-05-25T19:41:36.974Z"
   },
   {
    "duration": 15,
    "start_time": "2023-05-25T19:41:37.013Z"
   },
   {
    "duration": 32,
    "start_time": "2023-05-25T19:41:37.029Z"
   },
   {
    "duration": 14,
    "start_time": "2023-05-25T19:41:37.062Z"
   },
   {
    "duration": 41,
    "start_time": "2023-05-25T19:41:37.078Z"
   },
   {
    "duration": 14,
    "start_time": "2023-05-25T19:41:37.120Z"
   },
   {
    "duration": 81,
    "start_time": "2023-05-25T19:41:37.136Z"
   },
   {
    "duration": 67,
    "start_time": "2023-05-25T19:41:37.218Z"
   },
   {
    "duration": 42,
    "start_time": "2023-05-25T19:41:37.287Z"
   },
   {
    "duration": 26,
    "start_time": "2023-05-25T19:41:37.331Z"
   },
   {
    "duration": 27,
    "start_time": "2023-05-25T19:41:37.358Z"
   },
   {
    "duration": 42,
    "start_time": "2023-05-25T19:41:37.386Z"
   },
   {
    "duration": 24,
    "start_time": "2023-05-25T19:41:37.429Z"
   },
   {
    "duration": 20,
    "start_time": "2023-05-25T19:41:37.455Z"
   },
   {
    "duration": 41,
    "start_time": "2023-05-25T19:41:37.476Z"
   },
   {
    "duration": 12,
    "start_time": "2023-05-25T19:41:37.521Z"
   },
   {
    "duration": 120,
    "start_time": "2023-05-25T19:41:37.534Z"
   },
   {
    "duration": 188,
    "start_time": "2023-05-25T19:41:37.656Z"
   },
   {
    "duration": 579,
    "start_time": "2023-05-25T19:41:37.846Z"
   },
   {
    "duration": 157,
    "start_time": "2023-05-25T19:41:38.427Z"
   },
   {
    "duration": 43966,
    "start_time": "2023-05-25T19:41:38.586Z"
   },
   {
    "duration": 4057,
    "start_time": "2023-05-25T19:42:22.554Z"
   },
   {
    "duration": 22335,
    "start_time": "2023-05-25T19:42:26.612Z"
   },
   {
    "duration": 367,
    "start_time": "2023-05-25T19:42:48.949Z"
   },
   {
    "duration": 144897,
    "start_time": "2023-05-25T19:42:49.318Z"
   },
   {
    "duration": 4,
    "start_time": "2023-05-25T19:45:14.216Z"
   },
   {
    "duration": 100984,
    "start_time": "2023-05-25T19:45:14.308Z"
   },
   {
    "duration": 4576,
    "start_time": "2023-05-25T19:47:12.205Z"
   },
   {
    "duration": 105,
    "start_time": "2023-05-25T19:47:22.387Z"
   },
   {
    "duration": 839,
    "start_time": "2023-05-25T19:49:18.275Z"
   },
   {
    "duration": 733940,
    "start_time": "2023-05-25T19:49:33.775Z"
   },
   {
    "duration": 25053,
    "start_time": "2023-05-25T20:04:08.055Z"
   },
   {
    "duration": 5613,
    "start_time": "2023-05-25T20:04:33.110Z"
   },
   {
    "duration": 12654,
    "start_time": "2023-05-25T20:05:51.874Z"
   },
   {
    "duration": 90810,
    "start_time": "2023-05-25T20:06:15.528Z"
   },
   {
    "duration": 53,
    "start_time": "2023-05-25T20:10:06.825Z"
   },
   {
    "duration": 70,
    "start_time": "2023-05-25T20:10:06.981Z"
   },
   {
    "duration": 3022,
    "start_time": "2023-05-25T20:10:13.974Z"
   },
   {
    "duration": 16,
    "start_time": "2023-05-25T20:10:29.418Z"
   },
   {
    "duration": 1232,
    "start_time": "2023-05-25T20:10:29.497Z"
   },
   {
    "duration": 1061,
    "start_time": "2023-05-25T20:11:45.298Z"
   },
   {
    "duration": 647029,
    "start_time": "2023-05-25T20:11:54.180Z"
   },
   {
    "duration": 207,
    "start_time": "2023-05-25T20:26:05.901Z"
   },
   {
    "duration": 233,
    "start_time": "2023-05-25T20:26:38.173Z"
   },
   {
    "duration": 32,
    "start_time": "2023-05-25T20:26:42.784Z"
   },
   {
    "duration": 24,
    "start_time": "2023-05-25T20:32:22.028Z"
   },
   {
    "duration": 5147,
    "start_time": "2023-05-25T20:38:45.760Z"
   },
   {
    "duration": 79,
    "start_time": "2023-05-25T20:38:56.029Z"
   },
   {
    "duration": 9,
    "start_time": "2023-05-25T20:50:17.804Z"
   },
   {
    "duration": 3969,
    "start_time": "2023-05-25T20:54:14.634Z"
   },
   {
    "duration": 705,
    "start_time": "2023-05-25T20:54:18.605Z"
   },
   {
    "duration": 103,
    "start_time": "2023-05-25T20:54:19.312Z"
   },
   {
    "duration": 15,
    "start_time": "2023-05-25T20:54:19.416Z"
   },
   {
    "duration": 80228,
    "start_time": "2023-05-25T20:54:19.433Z"
   },
   {
    "duration": 3,
    "start_time": "2023-05-25T20:55:39.663Z"
   },
   {
    "duration": 3,
    "start_time": "2023-05-25T20:55:39.668Z"
   },
   {
    "duration": 9,
    "start_time": "2023-05-25T20:55:39.673Z"
   },
   {
    "duration": 24,
    "start_time": "2023-05-25T20:55:39.683Z"
   },
   {
    "duration": 4,
    "start_time": "2023-05-25T20:55:39.709Z"
   },
   {
    "duration": 73,
    "start_time": "2023-05-25T20:55:39.714Z"
   },
   {
    "duration": 25,
    "start_time": "2023-05-25T20:55:39.789Z"
   },
   {
    "duration": 30,
    "start_time": "2023-05-25T20:55:39.815Z"
   },
   {
    "duration": 15,
    "start_time": "2023-05-25T20:55:39.846Z"
   },
   {
    "duration": 28,
    "start_time": "2023-05-25T20:55:39.862Z"
   },
   {
    "duration": 16,
    "start_time": "2023-05-25T20:55:39.906Z"
   },
   {
    "duration": 27,
    "start_time": "2023-05-25T20:55:39.924Z"
   },
   {
    "duration": 23,
    "start_time": "2023-05-25T20:55:39.953Z"
   },
   {
    "duration": 62,
    "start_time": "2023-05-25T20:55:39.978Z"
   },
   {
    "duration": 72,
    "start_time": "2023-05-25T20:55:40.042Z"
   },
   {
    "duration": 29,
    "start_time": "2023-05-25T20:55:40.116Z"
   },
   {
    "duration": 28,
    "start_time": "2023-05-25T20:55:40.147Z"
   },
   {
    "duration": 55,
    "start_time": "2023-05-25T20:55:40.177Z"
   },
   {
    "duration": 27,
    "start_time": "2023-05-25T20:55:40.234Z"
   },
   {
    "duration": 24,
    "start_time": "2023-05-25T20:55:40.263Z"
   },
   {
    "duration": 38,
    "start_time": "2023-05-25T20:55:40.288Z"
   },
   {
    "duration": 22,
    "start_time": "2023-05-25T20:55:40.327Z"
   },
   {
    "duration": 11,
    "start_time": "2023-05-25T20:55:40.352Z"
   },
   {
    "duration": 127,
    "start_time": "2023-05-25T20:55:40.365Z"
   },
   {
    "duration": 191,
    "start_time": "2023-05-25T20:55:40.493Z"
   },
   {
    "duration": 594,
    "start_time": "2023-05-25T20:55:40.686Z"
   },
   {
    "duration": 172,
    "start_time": "2023-05-25T20:55:41.282Z"
   },
   {
    "duration": 44940,
    "start_time": "2023-05-25T20:55:41.456Z"
   },
   {
    "duration": 4023,
    "start_time": "2023-05-25T20:56:26.397Z"
   },
   {
    "duration": 23178,
    "start_time": "2023-05-25T20:56:30.422Z"
   },
   {
    "duration": 320,
    "start_time": "2023-05-25T20:56:53.602Z"
   },
   {
    "duration": 119188,
    "start_time": "2023-05-25T20:56:53.924Z"
   },
   {
    "duration": 93,
    "start_time": "2023-05-25T20:58:53.113Z"
   },
   {
    "duration": 79052,
    "start_time": "2023-05-25T20:58:53.208Z"
   },
   {
    "duration": 4304,
    "start_time": "2023-05-25T21:01:57.624Z"
   },
   {
    "duration": 117,
    "start_time": "2023-05-25T21:02:08.685Z"
   },
   {
    "duration": 648841,
    "start_time": "2023-05-25T21:02:23.679Z"
   },
   {
    "duration": 20702,
    "start_time": "2023-05-25T21:17:24.415Z"
   },
   {
    "duration": 4138,
    "start_time": "2023-05-25T21:17:56.604Z"
   },
   {
    "duration": 113822,
    "start_time": "2023-05-25T21:18:19.577Z"
   },
   {
    "duration": 4754,
    "start_time": "2023-05-25T21:20:36.291Z"
   },
   {
    "duration": 29,
    "start_time": "2023-05-25T21:20:58.102Z"
   },
   {
    "duration": 619865,
    "start_time": "2023-05-25T21:21:13.242Z"
   },
   {
    "duration": 3777,
    "start_time": "2023-05-25T21:31:57.142Z"
   },
   {
    "duration": 61,
    "start_time": "2023-05-25T21:32:13.348Z"
   },
   {
    "duration": 4953,
    "start_time": "2023-05-25T21:32:23.757Z"
   },
   {
    "duration": 39,
    "start_time": "2023-05-25T21:32:36.513Z"
   },
   {
    "duration": 9,
    "start_time": "2023-05-25T21:35:08.362Z"
   },
   {
    "duration": 8521,
    "start_time": "2023-05-25T21:36:50.703Z"
   },
   {
    "duration": 5,
    "start_time": "2023-05-25T21:36:59.225Z"
   }
  ],
  "kernelspec": {
   "display_name": "Python 3 (ipykernel)",
   "language": "python",
   "name": "python3"
  },
  "language_info": {
   "codemirror_mode": {
    "name": "ipython",
    "version": 3
   },
   "file_extension": ".py",
   "mimetype": "text/x-python",
   "name": "python",
   "nbconvert_exporter": "python",
   "pygments_lexer": "ipython3",
   "version": "3.10.9"
  },
  "toc": {
   "base_numbering": 1,
   "nav_menu": {},
   "number_sections": true,
   "sideBar": true,
   "skip_h1_title": true,
   "title_cell": "Table of Contents",
   "title_sidebar": "Contents",
   "toc_cell": false,
   "toc_position": {},
   "toc_section_display": true,
   "toc_window_display": false
  }
 },
 "nbformat": 4,
 "nbformat_minor": 2
}
