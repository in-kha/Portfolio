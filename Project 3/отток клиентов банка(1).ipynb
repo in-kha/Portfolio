{
 "cells": [
  {
   "cell_type": "markdown",
   "metadata": {
    "toc": true
   },
   "source": [
    "<h1>Содержание<span class=\"tocSkip\"></span></h1>\n",
    "<div class=\"toc\"><ul class=\"toc-item\"><li><span><a href=\"#Подготовка-данных\" data-toc-modified-id=\"Подготовка-данных-1\"><span class=\"toc-item-num\">1&nbsp;&nbsp;</span>Подготовка данных</a></span></li><li><span><a href=\"#Исследование-задачи\" data-toc-modified-id=\"Исследование-задачи-2\"><span class=\"toc-item-num\">2&nbsp;&nbsp;</span>Исследование задачи</a></span></li><li><span><a href=\"#Борьба-с-дисбалансом\" data-toc-modified-id=\"Борьба-с-дисбалансом-3\"><span class=\"toc-item-num\">3&nbsp;&nbsp;</span>Борьба с дисбалансом</a></span></li><li><span><a href=\"#Тестирование-модели\" data-toc-modified-id=\"Тестирование-модели-4\"><span class=\"toc-item-num\">4&nbsp;&nbsp;</span>Тестирование модели</a></span></li><li><span><a href=\"#Чек-лист-готовности-проекта\" data-toc-modified-id=\"Чек-лист-готовности-проекта-5\"><span class=\"toc-item-num\">5&nbsp;&nbsp;</span>Чек-лист готовности проекта</a></span></li></ul></div>"
   ]
  },
  {
   "cell_type": "markdown",
   "metadata": {},
   "source": [
    "# Отток клиентов"
   ]
  },
  {
   "cell_type": "markdown",
   "metadata": {},
   "source": [
    "Из банка стали уходить клиенты. Каждый месяц. Немного, но заметно. Банковские маркетологи посчитали: сохранять текущих клиентов дешевле, чем привлекать новых.\n",
    "\n",
    "Нужно спрогнозировать, уйдёт клиент из банка в ближайшее время или нет. Вам предоставлены исторические данные о поведении клиентов и расторжении договоров с банком. "
   ]
  },
  {
   "cell_type": "markdown",
   "metadata": {},
   "source": [
    "## Подготовка данных"
   ]
  },
  {
   "cell_type": "code",
   "execution_count": 1,
   "metadata": {},
   "outputs": [],
   "source": [
    "import pandas as pd\n",
    "from sklearn.model_selection import train_test_split\n",
    "from sklearn.tree import DecisionTreeClassifier\n",
    "from sklearn.metrics import accuracy_score\n",
    "from sklearn.metrics import recall_score\n",
    "from sklearn.metrics import precision_score\n",
    "from sklearn.metrics import f1_score\n",
    "from sklearn.ensemble import RandomForestClassifier\n",
    "from sklearn.linear_model import LogisticRegression\n",
    "from sklearn.preprocessing import StandardScaler\n",
    "from sklearn.utils import shuffle\n",
    "from sklearn.metrics import roc_auc_score\n",
    "import numpy as np\n",
    "from sklearn.metrics import precision_recall_curve\n",
    "import matplotlib.pyplot as plt\n",
    "from sklearn.metrics import roc_curve\n"
   ]
  },
  {
   "cell_type": "markdown",
   "metadata": {},
   "source": [
    "Импортируем библиотеку и откроем файл"
   ]
  },
  {
   "cell_type": "code",
   "execution_count": 2,
   "metadata": {},
   "outputs": [],
   "source": [
    "try:\n",
    "    data = pd.read_csv('/datasets/geo_data_0.csv')\n",
    "except:\n",
    "    data = pd.read_csv('https://code.s3.yandex.net/datasets/Churn.csv')"
   ]
  },
  {
   "cell_type": "markdown",
   "metadata": {},
   "source": [
    "Посмотрим общую информацию о данных файла"
   ]
  },
  {
   "cell_type": "code",
   "execution_count": 3,
   "metadata": {},
   "outputs": [
    {
     "name": "stdout",
     "output_type": "stream",
     "text": [
      "<class 'pandas.core.frame.DataFrame'>\n",
      "RangeIndex: 10000 entries, 0 to 9999\n",
      "Data columns (total 14 columns):\n",
      " #   Column           Non-Null Count  Dtype  \n",
      "---  ------           --------------  -----  \n",
      " 0   RowNumber        10000 non-null  int64  \n",
      " 1   CustomerId       10000 non-null  int64  \n",
      " 2   Surname          10000 non-null  object \n",
      " 3   CreditScore      10000 non-null  int64  \n",
      " 4   Geography        10000 non-null  object \n",
      " 5   Gender           10000 non-null  object \n",
      " 6   Age              10000 non-null  int64  \n",
      " 7   Tenure           9091 non-null   float64\n",
      " 8   Balance          10000 non-null  float64\n",
      " 9   NumOfProducts    10000 non-null  int64  \n",
      " 10  HasCrCard        10000 non-null  int64  \n",
      " 11  IsActiveMember   10000 non-null  int64  \n",
      " 12  EstimatedSalary  10000 non-null  float64\n",
      " 13  Exited           10000 non-null  int64  \n",
      "dtypes: float64(3), int64(8), object(3)\n",
      "memory usage: 1.1+ MB\n"
     ]
    }
   ],
   "source": [
    "data.info()"
   ]
  },
  {
   "cell_type": "markdown",
   "metadata": {},
   "source": [
    "Посмотрим первые 10 строк данных"
   ]
  },
  {
   "cell_type": "code",
   "execution_count": 4,
   "metadata": {},
   "outputs": [
    {
     "data": {
      "text/html": [
       "<div>\n",
       "<style scoped>\n",
       "    .dataframe tbody tr th:only-of-type {\n",
       "        vertical-align: middle;\n",
       "    }\n",
       "\n",
       "    .dataframe tbody tr th {\n",
       "        vertical-align: top;\n",
       "    }\n",
       "\n",
       "    .dataframe thead th {\n",
       "        text-align: right;\n",
       "    }\n",
       "</style>\n",
       "<table border=\"1\" class=\"dataframe\">\n",
       "  <thead>\n",
       "    <tr style=\"text-align: right;\">\n",
       "      <th></th>\n",
       "      <th>RowNumber</th>\n",
       "      <th>CustomerId</th>\n",
       "      <th>Surname</th>\n",
       "      <th>CreditScore</th>\n",
       "      <th>Geography</th>\n",
       "      <th>Gender</th>\n",
       "      <th>Age</th>\n",
       "      <th>Tenure</th>\n",
       "      <th>Balance</th>\n",
       "      <th>NumOfProducts</th>\n",
       "      <th>HasCrCard</th>\n",
       "      <th>IsActiveMember</th>\n",
       "      <th>EstimatedSalary</th>\n",
       "      <th>Exited</th>\n",
       "    </tr>\n",
       "  </thead>\n",
       "  <tbody>\n",
       "    <tr>\n",
       "      <th>0</th>\n",
       "      <td>1</td>\n",
       "      <td>15634602</td>\n",
       "      <td>Hargrave</td>\n",
       "      <td>619</td>\n",
       "      <td>France</td>\n",
       "      <td>Female</td>\n",
       "      <td>42</td>\n",
       "      <td>2.0</td>\n",
       "      <td>0.00</td>\n",
       "      <td>1</td>\n",
       "      <td>1</td>\n",
       "      <td>1</td>\n",
       "      <td>101348.88</td>\n",
       "      <td>1</td>\n",
       "    </tr>\n",
       "    <tr>\n",
       "      <th>1</th>\n",
       "      <td>2</td>\n",
       "      <td>15647311</td>\n",
       "      <td>Hill</td>\n",
       "      <td>608</td>\n",
       "      <td>Spain</td>\n",
       "      <td>Female</td>\n",
       "      <td>41</td>\n",
       "      <td>1.0</td>\n",
       "      <td>83807.86</td>\n",
       "      <td>1</td>\n",
       "      <td>0</td>\n",
       "      <td>1</td>\n",
       "      <td>112542.58</td>\n",
       "      <td>0</td>\n",
       "    </tr>\n",
       "    <tr>\n",
       "      <th>2</th>\n",
       "      <td>3</td>\n",
       "      <td>15619304</td>\n",
       "      <td>Onio</td>\n",
       "      <td>502</td>\n",
       "      <td>France</td>\n",
       "      <td>Female</td>\n",
       "      <td>42</td>\n",
       "      <td>8.0</td>\n",
       "      <td>159660.80</td>\n",
       "      <td>3</td>\n",
       "      <td>1</td>\n",
       "      <td>0</td>\n",
       "      <td>113931.57</td>\n",
       "      <td>1</td>\n",
       "    </tr>\n",
       "    <tr>\n",
       "      <th>3</th>\n",
       "      <td>4</td>\n",
       "      <td>15701354</td>\n",
       "      <td>Boni</td>\n",
       "      <td>699</td>\n",
       "      <td>France</td>\n",
       "      <td>Female</td>\n",
       "      <td>39</td>\n",
       "      <td>1.0</td>\n",
       "      <td>0.00</td>\n",
       "      <td>2</td>\n",
       "      <td>0</td>\n",
       "      <td>0</td>\n",
       "      <td>93826.63</td>\n",
       "      <td>0</td>\n",
       "    </tr>\n",
       "    <tr>\n",
       "      <th>4</th>\n",
       "      <td>5</td>\n",
       "      <td>15737888</td>\n",
       "      <td>Mitchell</td>\n",
       "      <td>850</td>\n",
       "      <td>Spain</td>\n",
       "      <td>Female</td>\n",
       "      <td>43</td>\n",
       "      <td>2.0</td>\n",
       "      <td>125510.82</td>\n",
       "      <td>1</td>\n",
       "      <td>1</td>\n",
       "      <td>1</td>\n",
       "      <td>79084.10</td>\n",
       "      <td>0</td>\n",
       "    </tr>\n",
       "    <tr>\n",
       "      <th>5</th>\n",
       "      <td>6</td>\n",
       "      <td>15574012</td>\n",
       "      <td>Chu</td>\n",
       "      <td>645</td>\n",
       "      <td>Spain</td>\n",
       "      <td>Male</td>\n",
       "      <td>44</td>\n",
       "      <td>8.0</td>\n",
       "      <td>113755.78</td>\n",
       "      <td>2</td>\n",
       "      <td>1</td>\n",
       "      <td>0</td>\n",
       "      <td>149756.71</td>\n",
       "      <td>1</td>\n",
       "    </tr>\n",
       "    <tr>\n",
       "      <th>6</th>\n",
       "      <td>7</td>\n",
       "      <td>15592531</td>\n",
       "      <td>Bartlett</td>\n",
       "      <td>822</td>\n",
       "      <td>France</td>\n",
       "      <td>Male</td>\n",
       "      <td>50</td>\n",
       "      <td>7.0</td>\n",
       "      <td>0.00</td>\n",
       "      <td>2</td>\n",
       "      <td>1</td>\n",
       "      <td>1</td>\n",
       "      <td>10062.80</td>\n",
       "      <td>0</td>\n",
       "    </tr>\n",
       "    <tr>\n",
       "      <th>7</th>\n",
       "      <td>8</td>\n",
       "      <td>15656148</td>\n",
       "      <td>Obinna</td>\n",
       "      <td>376</td>\n",
       "      <td>Germany</td>\n",
       "      <td>Female</td>\n",
       "      <td>29</td>\n",
       "      <td>4.0</td>\n",
       "      <td>115046.74</td>\n",
       "      <td>4</td>\n",
       "      <td>1</td>\n",
       "      <td>0</td>\n",
       "      <td>119346.88</td>\n",
       "      <td>1</td>\n",
       "    </tr>\n",
       "    <tr>\n",
       "      <th>8</th>\n",
       "      <td>9</td>\n",
       "      <td>15792365</td>\n",
       "      <td>He</td>\n",
       "      <td>501</td>\n",
       "      <td>France</td>\n",
       "      <td>Male</td>\n",
       "      <td>44</td>\n",
       "      <td>4.0</td>\n",
       "      <td>142051.07</td>\n",
       "      <td>2</td>\n",
       "      <td>0</td>\n",
       "      <td>1</td>\n",
       "      <td>74940.50</td>\n",
       "      <td>0</td>\n",
       "    </tr>\n",
       "    <tr>\n",
       "      <th>9</th>\n",
       "      <td>10</td>\n",
       "      <td>15592389</td>\n",
       "      <td>H?</td>\n",
       "      <td>684</td>\n",
       "      <td>France</td>\n",
       "      <td>Male</td>\n",
       "      <td>27</td>\n",
       "      <td>2.0</td>\n",
       "      <td>134603.88</td>\n",
       "      <td>1</td>\n",
       "      <td>1</td>\n",
       "      <td>1</td>\n",
       "      <td>71725.73</td>\n",
       "      <td>0</td>\n",
       "    </tr>\n",
       "  </tbody>\n",
       "</table>\n",
       "</div>"
      ],
      "text/plain": [
       "   RowNumber  CustomerId   Surname  CreditScore Geography  Gender  Age  \\\n",
       "0          1    15634602  Hargrave          619    France  Female   42   \n",
       "1          2    15647311      Hill          608     Spain  Female   41   \n",
       "2          3    15619304      Onio          502    France  Female   42   \n",
       "3          4    15701354      Boni          699    France  Female   39   \n",
       "4          5    15737888  Mitchell          850     Spain  Female   43   \n",
       "5          6    15574012       Chu          645     Spain    Male   44   \n",
       "6          7    15592531  Bartlett          822    France    Male   50   \n",
       "7          8    15656148    Obinna          376   Germany  Female   29   \n",
       "8          9    15792365        He          501    France    Male   44   \n",
       "9         10    15592389        H?          684    France    Male   27   \n",
       "\n",
       "   Tenure    Balance  NumOfProducts  HasCrCard  IsActiveMember  \\\n",
       "0     2.0       0.00              1          1               1   \n",
       "1     1.0   83807.86              1          0               1   \n",
       "2     8.0  159660.80              3          1               0   \n",
       "3     1.0       0.00              2          0               0   \n",
       "4     2.0  125510.82              1          1               1   \n",
       "5     8.0  113755.78              2          1               0   \n",
       "6     7.0       0.00              2          1               1   \n",
       "7     4.0  115046.74              4          1               0   \n",
       "8     4.0  142051.07              2          0               1   \n",
       "9     2.0  134603.88              1          1               1   \n",
       "\n",
       "   EstimatedSalary  Exited  \n",
       "0        101348.88       1  \n",
       "1        112542.58       0  \n",
       "2        113931.57       1  \n",
       "3         93826.63       0  \n",
       "4         79084.10       0  \n",
       "5        149756.71       1  \n",
       "6         10062.80       0  \n",
       "7        119346.88       1  \n",
       "8         74940.50       0  \n",
       "9         71725.73       0  "
      ]
     },
     "execution_count": 4,
     "metadata": {},
     "output_type": "execute_result"
    }
   ],
   "source": [
    "data.head(10)"
   ]
  },
  {
   "cell_type": "markdown",
   "metadata": {},
   "source": [
    "Построим гистограммы, для этого посмотрим какие есть столбцы и какие данные"
   ]
  },
  {
   "cell_type": "code",
   "execution_count": 5,
   "metadata": {},
   "outputs": [
    {
     "data": {
      "text/html": [
       "<div>\n",
       "<style scoped>\n",
       "    .dataframe tbody tr th:only-of-type {\n",
       "        vertical-align: middle;\n",
       "    }\n",
       "\n",
       "    .dataframe tbody tr th {\n",
       "        vertical-align: top;\n",
       "    }\n",
       "\n",
       "    .dataframe thead th {\n",
       "        text-align: right;\n",
       "    }\n",
       "</style>\n",
       "<table border=\"1\" class=\"dataframe\">\n",
       "  <thead>\n",
       "    <tr style=\"text-align: right;\">\n",
       "      <th></th>\n",
       "      <th>RowNumber</th>\n",
       "      <th>CustomerId</th>\n",
       "      <th>CreditScore</th>\n",
       "      <th>Age</th>\n",
       "      <th>Tenure</th>\n",
       "      <th>Balance</th>\n",
       "      <th>NumOfProducts</th>\n",
       "      <th>HasCrCard</th>\n",
       "      <th>IsActiveMember</th>\n",
       "      <th>EstimatedSalary</th>\n",
       "      <th>Exited</th>\n",
       "    </tr>\n",
       "  </thead>\n",
       "  <tbody>\n",
       "    <tr>\n",
       "      <th>count</th>\n",
       "      <td>10000.00000</td>\n",
       "      <td>1.000000e+04</td>\n",
       "      <td>10000.000000</td>\n",
       "      <td>10000.000000</td>\n",
       "      <td>9091.000000</td>\n",
       "      <td>10000.000000</td>\n",
       "      <td>10000.000000</td>\n",
       "      <td>10000.00000</td>\n",
       "      <td>10000.000000</td>\n",
       "      <td>10000.000000</td>\n",
       "      <td>10000.000000</td>\n",
       "    </tr>\n",
       "    <tr>\n",
       "      <th>mean</th>\n",
       "      <td>5000.50000</td>\n",
       "      <td>1.569094e+07</td>\n",
       "      <td>650.528800</td>\n",
       "      <td>38.921800</td>\n",
       "      <td>4.997690</td>\n",
       "      <td>76485.889288</td>\n",
       "      <td>1.530200</td>\n",
       "      <td>0.70550</td>\n",
       "      <td>0.515100</td>\n",
       "      <td>100090.239881</td>\n",
       "      <td>0.203700</td>\n",
       "    </tr>\n",
       "    <tr>\n",
       "      <th>std</th>\n",
       "      <td>2886.89568</td>\n",
       "      <td>7.193619e+04</td>\n",
       "      <td>96.653299</td>\n",
       "      <td>10.487806</td>\n",
       "      <td>2.894723</td>\n",
       "      <td>62397.405202</td>\n",
       "      <td>0.581654</td>\n",
       "      <td>0.45584</td>\n",
       "      <td>0.499797</td>\n",
       "      <td>57510.492818</td>\n",
       "      <td>0.402769</td>\n",
       "    </tr>\n",
       "    <tr>\n",
       "      <th>min</th>\n",
       "      <td>1.00000</td>\n",
       "      <td>1.556570e+07</td>\n",
       "      <td>350.000000</td>\n",
       "      <td>18.000000</td>\n",
       "      <td>0.000000</td>\n",
       "      <td>0.000000</td>\n",
       "      <td>1.000000</td>\n",
       "      <td>0.00000</td>\n",
       "      <td>0.000000</td>\n",
       "      <td>11.580000</td>\n",
       "      <td>0.000000</td>\n",
       "    </tr>\n",
       "    <tr>\n",
       "      <th>25%</th>\n",
       "      <td>2500.75000</td>\n",
       "      <td>1.562853e+07</td>\n",
       "      <td>584.000000</td>\n",
       "      <td>32.000000</td>\n",
       "      <td>2.000000</td>\n",
       "      <td>0.000000</td>\n",
       "      <td>1.000000</td>\n",
       "      <td>0.00000</td>\n",
       "      <td>0.000000</td>\n",
       "      <td>51002.110000</td>\n",
       "      <td>0.000000</td>\n",
       "    </tr>\n",
       "    <tr>\n",
       "      <th>50%</th>\n",
       "      <td>5000.50000</td>\n",
       "      <td>1.569074e+07</td>\n",
       "      <td>652.000000</td>\n",
       "      <td>37.000000</td>\n",
       "      <td>5.000000</td>\n",
       "      <td>97198.540000</td>\n",
       "      <td>1.000000</td>\n",
       "      <td>1.00000</td>\n",
       "      <td>1.000000</td>\n",
       "      <td>100193.915000</td>\n",
       "      <td>0.000000</td>\n",
       "    </tr>\n",
       "    <tr>\n",
       "      <th>75%</th>\n",
       "      <td>7500.25000</td>\n",
       "      <td>1.575323e+07</td>\n",
       "      <td>718.000000</td>\n",
       "      <td>44.000000</td>\n",
       "      <td>7.000000</td>\n",
       "      <td>127644.240000</td>\n",
       "      <td>2.000000</td>\n",
       "      <td>1.00000</td>\n",
       "      <td>1.000000</td>\n",
       "      <td>149388.247500</td>\n",
       "      <td>0.000000</td>\n",
       "    </tr>\n",
       "    <tr>\n",
       "      <th>max</th>\n",
       "      <td>10000.00000</td>\n",
       "      <td>1.581569e+07</td>\n",
       "      <td>850.000000</td>\n",
       "      <td>92.000000</td>\n",
       "      <td>10.000000</td>\n",
       "      <td>250898.090000</td>\n",
       "      <td>4.000000</td>\n",
       "      <td>1.00000</td>\n",
       "      <td>1.000000</td>\n",
       "      <td>199992.480000</td>\n",
       "      <td>1.000000</td>\n",
       "    </tr>\n",
       "  </tbody>\n",
       "</table>\n",
       "</div>"
      ],
      "text/plain": [
       "         RowNumber    CustomerId   CreditScore           Age       Tenure  \\\n",
       "count  10000.00000  1.000000e+04  10000.000000  10000.000000  9091.000000   \n",
       "mean    5000.50000  1.569094e+07    650.528800     38.921800     4.997690   \n",
       "std     2886.89568  7.193619e+04     96.653299     10.487806     2.894723   \n",
       "min        1.00000  1.556570e+07    350.000000     18.000000     0.000000   \n",
       "25%     2500.75000  1.562853e+07    584.000000     32.000000     2.000000   \n",
       "50%     5000.50000  1.569074e+07    652.000000     37.000000     5.000000   \n",
       "75%     7500.25000  1.575323e+07    718.000000     44.000000     7.000000   \n",
       "max    10000.00000  1.581569e+07    850.000000     92.000000    10.000000   \n",
       "\n",
       "             Balance  NumOfProducts    HasCrCard  IsActiveMember  \\\n",
       "count   10000.000000   10000.000000  10000.00000    10000.000000   \n",
       "mean    76485.889288       1.530200      0.70550        0.515100   \n",
       "std     62397.405202       0.581654      0.45584        0.499797   \n",
       "min         0.000000       1.000000      0.00000        0.000000   \n",
       "25%         0.000000       1.000000      0.00000        0.000000   \n",
       "50%     97198.540000       1.000000      1.00000        1.000000   \n",
       "75%    127644.240000       2.000000      1.00000        1.000000   \n",
       "max    250898.090000       4.000000      1.00000        1.000000   \n",
       "\n",
       "       EstimatedSalary        Exited  \n",
       "count     10000.000000  10000.000000  \n",
       "mean     100090.239881      0.203700  \n",
       "std       57510.492818      0.402769  \n",
       "min          11.580000      0.000000  \n",
       "25%       51002.110000      0.000000  \n",
       "50%      100193.915000      0.000000  \n",
       "75%      149388.247500      0.000000  \n",
       "max      199992.480000      1.000000  "
      ]
     },
     "execution_count": 5,
     "metadata": {},
     "output_type": "execute_result"
    }
   ],
   "source": [
    "data.describe()"
   ]
  },
  {
   "cell_type": "markdown",
   "metadata": {},
   "source": [
    "Построим графики для столбцов "
   ]
  },
  {
   "cell_type": "code",
   "execution_count": 6,
   "metadata": {},
   "outputs": [
    {
     "data": {
      "text/plain": [
       "array([[<AxesSubplot:title={'center':'RowNumber'}>,\n",
       "        <AxesSubplot:title={'center':'CustomerId'}>,\n",
       "        <AxesSubplot:title={'center':'CreditScore'}>],\n",
       "       [<AxesSubplot:title={'center':'Age'}>,\n",
       "        <AxesSubplot:title={'center':'Tenure'}>,\n",
       "        <AxesSubplot:title={'center':'Balance'}>],\n",
       "       [<AxesSubplot:title={'center':'NumOfProducts'}>,\n",
       "        <AxesSubplot:title={'center':'HasCrCard'}>,\n",
       "        <AxesSubplot:title={'center':'IsActiveMember'}>],\n",
       "       [<AxesSubplot:title={'center':'EstimatedSalary'}>,\n",
       "        <AxesSubplot:title={'center':'Exited'}>, <AxesSubplot:>]],\n",
       "      dtype=object)"
      ]
     },
     "execution_count": 6,
     "metadata": {},
     "output_type": "execute_result"
    },
    {
     "data": {
      "image/png": "[encoded data removed]",
      "text/plain": [
       "<Figure size 1440x1440 with 12 Axes>"
      ]
     },
     "metadata": {
      "needs_background": "light"
     },
     "output_type": "display_data"
    }
   ],
   "source": [
    "data.hist(figsize=(20,20))"
   ]
  },
  {
   "cell_type": "markdown",
   "metadata": {},
   "source": [
    "Посмотрим пропуски"
   ]
  },
  {
   "cell_type": "code",
   "execution_count": 7,
   "metadata": {},
   "outputs": [
    {
     "data": {
      "text/plain": [
       "RowNumber            0\n",
       "CustomerId           0\n",
       "Surname              0\n",
       "CreditScore          0\n",
       "Geography            0\n",
       "Gender               0\n",
       "Age                  0\n",
       "Tenure             909\n",
       "Balance              0\n",
       "NumOfProducts        0\n",
       "HasCrCard            0\n",
       "IsActiveMember       0\n",
       "EstimatedSalary      0\n",
       "Exited               0\n",
       "dtype: int64"
      ]
     },
     "execution_count": 7,
     "metadata": {},
     "output_type": "execute_result"
    }
   ],
   "source": [
    "data.isna().sum()"
   ]
  },
  {
   "cell_type": "markdown",
   "metadata": {},
   "source": [
    "В процентах (также можно понять возможность удаления)"
   ]
  },
  {
   "cell_type": "code",
   "execution_count": 8,
   "metadata": {},
   "outputs": [
    {
     "data": {
      "text/html": [
       "<style  type=\"text/css\" >\n",
       "#T_80d8e_row0_col0,#T_80d8e_row1_col0,#T_80d8e_row2_col0,#T_80d8e_row3_col0,#T_80d8e_row4_col0,#T_80d8e_row5_col0,#T_80d8e_row6_col0,#T_80d8e_row8_col0,#T_80d8e_row9_col0,#T_80d8e_row10_col0,#T_80d8e_row11_col0,#T_80d8e_row12_col0,#T_80d8e_row13_col0{\n",
       "            background-color:  #3b4cc0;\n",
       "            color:  #f1f1f1;\n",
       "        }#T_80d8e_row7_col0{\n",
       "            background-color:  #b40426;\n",
       "            color:  #f1f1f1;\n",
       "        }</style><table id=\"T_80d8e_\" ><thead>    <tr>        <th class=\"blank level0\" ></th>        <th class=\"col_heading level0 col0\" >0</th>    </tr></thead><tbody>\n",
       "                <tr>\n",
       "                        <th id=\"T_80d8e_level0_row0\" class=\"row_heading level0 row0\" >RowNumber</th>\n",
       "                        <td id=\"T_80d8e_row0_col0\" class=\"data row0 col0\" >0.000000</td>\n",
       "            </tr>\n",
       "            <tr>\n",
       "                        <th id=\"T_80d8e_level0_row1\" class=\"row_heading level0 row1\" >CustomerId</th>\n",
       "                        <td id=\"T_80d8e_row1_col0\" class=\"data row1 col0\" >0.000000</td>\n",
       "            </tr>\n",
       "            <tr>\n",
       "                        <th id=\"T_80d8e_level0_row2\" class=\"row_heading level0 row2\" >Surname</th>\n",
       "                        <td id=\"T_80d8e_row2_col0\" class=\"data row2 col0\" >0.000000</td>\n",
       "            </tr>\n",
       "            <tr>\n",
       "                        <th id=\"T_80d8e_level0_row3\" class=\"row_heading level0 row3\" >CreditScore</th>\n",
       "                        <td id=\"T_80d8e_row3_col0\" class=\"data row3 col0\" >0.000000</td>\n",
       "            </tr>\n",
       "            <tr>\n",
       "                        <th id=\"T_80d8e_level0_row4\" class=\"row_heading level0 row4\" >Geography</th>\n",
       "                        <td id=\"T_80d8e_row4_col0\" class=\"data row4 col0\" >0.000000</td>\n",
       "            </tr>\n",
       "            <tr>\n",
       "                        <th id=\"T_80d8e_level0_row5\" class=\"row_heading level0 row5\" >Gender</th>\n",
       "                        <td id=\"T_80d8e_row5_col0\" class=\"data row5 col0\" >0.000000</td>\n",
       "            </tr>\n",
       "            <tr>\n",
       "                        <th id=\"T_80d8e_level0_row6\" class=\"row_heading level0 row6\" >Age</th>\n",
       "                        <td id=\"T_80d8e_row6_col0\" class=\"data row6 col0\" >0.000000</td>\n",
       "            </tr>\n",
       "            <tr>\n",
       "                        <th id=\"T_80d8e_level0_row7\" class=\"row_heading level0 row7\" >Tenure</th>\n",
       "                        <td id=\"T_80d8e_row7_col0\" class=\"data row7 col0\" >9.000000</td>\n",
       "            </tr>\n",
       "            <tr>\n",
       "                        <th id=\"T_80d8e_level0_row8\" class=\"row_heading level0 row8\" >Balance</th>\n",
       "                        <td id=\"T_80d8e_row8_col0\" class=\"data row8 col0\" >0.000000</td>\n",
       "            </tr>\n",
       "            <tr>\n",
       "                        <th id=\"T_80d8e_level0_row9\" class=\"row_heading level0 row9\" >NumOfProducts</th>\n",
       "                        <td id=\"T_80d8e_row9_col0\" class=\"data row9 col0\" >0.000000</td>\n",
       "            </tr>\n",
       "            <tr>\n",
       "                        <th id=\"T_80d8e_level0_row10\" class=\"row_heading level0 row10\" >HasCrCard</th>\n",
       "                        <td id=\"T_80d8e_row10_col0\" class=\"data row10 col0\" >0.000000</td>\n",
       "            </tr>\n",
       "            <tr>\n",
       "                        <th id=\"T_80d8e_level0_row11\" class=\"row_heading level0 row11\" >IsActiveMember</th>\n",
       "                        <td id=\"T_80d8e_row11_col0\" class=\"data row11 col0\" >0.000000</td>\n",
       "            </tr>\n",
       "            <tr>\n",
       "                        <th id=\"T_80d8e_level0_row12\" class=\"row_heading level0 row12\" >EstimatedSalary</th>\n",
       "                        <td id=\"T_80d8e_row12_col0\" class=\"data row12 col0\" >0.000000</td>\n",
       "            </tr>\n",
       "            <tr>\n",
       "                        <th id=\"T_80d8e_level0_row13\" class=\"row_heading level0 row13\" >Exited</th>\n",
       "                        <td id=\"T_80d8e_row13_col0\" class=\"data row13 col0\" >0.000000</td>\n",
       "            </tr>\n",
       "    </tbody></table>"
      ],
      "text/plain": [
       "<pandas.io.formats.style.Styler at 0x7f63ef0a8700>"
      ]
     },
     "execution_count": 8,
     "metadata": {},
     "output_type": "execute_result"
    }
   ],
   "source": [
    "pd.DataFrame(round(data.isna().mean()*100,)).style.background_gradient('coolwarm')"
   ]
  },
  {
   "cell_type": "markdown",
   "metadata": {},
   "source": [
    "Посмотрим, что содержится в целевом признаке в строках с пропуском в столбце с Tenure"
   ]
  },
  {
   "cell_type": "code",
   "execution_count": 9,
   "metadata": {},
   "outputs": [
    {
     "data": {
      "text/plain": [
       "0    726\n",
       "1    183\n",
       "Name: Exited, dtype: int64"
      ]
     },
     "execution_count": 9,
     "metadata": {},
     "output_type": "execute_result"
    }
   ],
   "source": [
    "data[data['Tenure'].isna()]['Exited'].value_counts()"
   ]
  },
  {
   "cell_type": "markdown",
   "metadata": {},
   "source": [
    "Посмотрим есть ли какая-то взаимосвязь между данными в Tenure и данными в других столбцах"
   ]
  },
  {
   "cell_type": "code",
   "execution_count": 10,
   "metadata": {
    "scrolled": true
   },
   "outputs": [
    {
     "data": {
      "text/html": [
       "<div>\n",
       "<style scoped>\n",
       "    .dataframe tbody tr th:only-of-type {\n",
       "        vertical-align: middle;\n",
       "    }\n",
       "\n",
       "    .dataframe tbody tr th {\n",
       "        vertical-align: top;\n",
       "    }\n",
       "\n",
       "    .dataframe thead th {\n",
       "        text-align: right;\n",
       "    }\n",
       "</style>\n",
       "<table border=\"1\" class=\"dataframe\">\n",
       "  <thead>\n",
       "    <tr style=\"text-align: right;\">\n",
       "      <th></th>\n",
       "      <th>RowNumber</th>\n",
       "      <th>CustomerId</th>\n",
       "      <th>CreditScore</th>\n",
       "      <th>Age</th>\n",
       "      <th>Tenure</th>\n",
       "      <th>Balance</th>\n",
       "      <th>NumOfProducts</th>\n",
       "      <th>HasCrCard</th>\n",
       "      <th>IsActiveMember</th>\n",
       "      <th>EstimatedSalary</th>\n",
       "      <th>Exited</th>\n",
       "    </tr>\n",
       "  </thead>\n",
       "  <tbody>\n",
       "    <tr>\n",
       "      <th>RowNumber</th>\n",
       "      <td>1.000000</td>\n",
       "      <td>0.004202</td>\n",
       "      <td>0.005840</td>\n",
       "      <td>0.000783</td>\n",
       "      <td>-0.007322</td>\n",
       "      <td>-0.009067</td>\n",
       "      <td>0.007246</td>\n",
       "      <td>0.000599</td>\n",
       "      <td>0.012044</td>\n",
       "      <td>-0.005988</td>\n",
       "      <td>-0.016571</td>\n",
       "    </tr>\n",
       "    <tr>\n",
       "      <th>CustomerId</th>\n",
       "      <td>0.004202</td>\n",
       "      <td>1.000000</td>\n",
       "      <td>0.005308</td>\n",
       "      <td>0.009497</td>\n",
       "      <td>-0.021418</td>\n",
       "      <td>-0.012419</td>\n",
       "      <td>0.016972</td>\n",
       "      <td>-0.014025</td>\n",
       "      <td>0.001665</td>\n",
       "      <td>0.015271</td>\n",
       "      <td>-0.006248</td>\n",
       "    </tr>\n",
       "    <tr>\n",
       "      <th>CreditScore</th>\n",
       "      <td>0.005840</td>\n",
       "      <td>0.005308</td>\n",
       "      <td>1.000000</td>\n",
       "      <td>-0.003965</td>\n",
       "      <td>-0.000062</td>\n",
       "      <td>0.006268</td>\n",
       "      <td>0.012238</td>\n",
       "      <td>-0.005458</td>\n",
       "      <td>0.025651</td>\n",
       "      <td>-0.001384</td>\n",
       "      <td>-0.027094</td>\n",
       "    </tr>\n",
       "    <tr>\n",
       "      <th>Age</th>\n",
       "      <td>0.000783</td>\n",
       "      <td>0.009497</td>\n",
       "      <td>-0.003965</td>\n",
       "      <td>1.000000</td>\n",
       "      <td>-0.013134</td>\n",
       "      <td>0.028308</td>\n",
       "      <td>-0.030680</td>\n",
       "      <td>-0.011721</td>\n",
       "      <td>0.085472</td>\n",
       "      <td>-0.007201</td>\n",
       "      <td>0.285323</td>\n",
       "    </tr>\n",
       "    <tr>\n",
       "      <th>Tenure</th>\n",
       "      <td>-0.007322</td>\n",
       "      <td>-0.021418</td>\n",
       "      <td>-0.000062</td>\n",
       "      <td>-0.013134</td>\n",
       "      <td>1.000000</td>\n",
       "      <td>-0.007911</td>\n",
       "      <td>0.011979</td>\n",
       "      <td>0.027232</td>\n",
       "      <td>-0.032178</td>\n",
       "      <td>0.010520</td>\n",
       "      <td>-0.016761</td>\n",
       "    </tr>\n",
       "    <tr>\n",
       "      <th>Balance</th>\n",
       "      <td>-0.009067</td>\n",
       "      <td>-0.012419</td>\n",
       "      <td>0.006268</td>\n",
       "      <td>0.028308</td>\n",
       "      <td>-0.007911</td>\n",
       "      <td>1.000000</td>\n",
       "      <td>-0.304180</td>\n",
       "      <td>-0.014858</td>\n",
       "      <td>-0.010084</td>\n",
       "      <td>0.012797</td>\n",
       "      <td>0.118533</td>\n",
       "    </tr>\n",
       "    <tr>\n",
       "      <th>NumOfProducts</th>\n",
       "      <td>0.007246</td>\n",
       "      <td>0.016972</td>\n",
       "      <td>0.012238</td>\n",
       "      <td>-0.030680</td>\n",
       "      <td>0.011979</td>\n",
       "      <td>-0.304180</td>\n",
       "      <td>1.000000</td>\n",
       "      <td>0.003183</td>\n",
       "      <td>0.009612</td>\n",
       "      <td>0.014204</td>\n",
       "      <td>-0.047820</td>\n",
       "    </tr>\n",
       "    <tr>\n",
       "      <th>HasCrCard</th>\n",
       "      <td>0.000599</td>\n",
       "      <td>-0.014025</td>\n",
       "      <td>-0.005458</td>\n",
       "      <td>-0.011721</td>\n",
       "      <td>0.027232</td>\n",
       "      <td>-0.014858</td>\n",
       "      <td>0.003183</td>\n",
       "      <td>1.000000</td>\n",
       "      <td>-0.011866</td>\n",
       "      <td>-0.009933</td>\n",
       "      <td>-0.007138</td>\n",
       "    </tr>\n",
       "    <tr>\n",
       "      <th>IsActiveMember</th>\n",
       "      <td>0.012044</td>\n",
       "      <td>0.001665</td>\n",
       "      <td>0.025651</td>\n",
       "      <td>0.085472</td>\n",
       "      <td>-0.032178</td>\n",
       "      <td>-0.010084</td>\n",
       "      <td>0.009612</td>\n",
       "      <td>-0.011866</td>\n",
       "      <td>1.000000</td>\n",
       "      <td>-0.011421</td>\n",
       "      <td>-0.156128</td>\n",
       "    </tr>\n",
       "    <tr>\n",
       "      <th>EstimatedSalary</th>\n",
       "      <td>-0.005988</td>\n",
       "      <td>0.015271</td>\n",
       "      <td>-0.001384</td>\n",
       "      <td>-0.007201</td>\n",
       "      <td>0.010520</td>\n",
       "      <td>0.012797</td>\n",
       "      <td>0.014204</td>\n",
       "      <td>-0.009933</td>\n",
       "      <td>-0.011421</td>\n",
       "      <td>1.000000</td>\n",
       "      <td>0.012097</td>\n",
       "    </tr>\n",
       "    <tr>\n",
       "      <th>Exited</th>\n",
       "      <td>-0.016571</td>\n",
       "      <td>-0.006248</td>\n",
       "      <td>-0.027094</td>\n",
       "      <td>0.285323</td>\n",
       "      <td>-0.016761</td>\n",
       "      <td>0.118533</td>\n",
       "      <td>-0.047820</td>\n",
       "      <td>-0.007138</td>\n",
       "      <td>-0.156128</td>\n",
       "      <td>0.012097</td>\n",
       "      <td>1.000000</td>\n",
       "    </tr>\n",
       "  </tbody>\n",
       "</table>\n",
       "</div>"
      ],
      "text/plain": [
       "                 RowNumber  CustomerId  CreditScore       Age    Tenure  \\\n",
       "RowNumber         1.000000    0.004202     0.005840  0.000783 -0.007322   \n",
       "CustomerId        0.004202    1.000000     0.005308  0.009497 -0.021418   \n",
       "CreditScore       0.005840    0.005308     1.000000 -0.003965 -0.000062   \n",
       "Age               0.000783    0.009497    -0.003965  1.000000 -0.013134   \n",
       "Tenure           -0.007322   -0.021418    -0.000062 -0.013134  1.000000   \n",
       "Balance          -0.009067   -0.012419     0.006268  0.028308 -0.007911   \n",
       "NumOfProducts     0.007246    0.016972     0.012238 -0.030680  0.011979   \n",
       "HasCrCard         0.000599   -0.014025    -0.005458 -0.011721  0.027232   \n",
       "IsActiveMember    0.012044    0.001665     0.025651  0.085472 -0.032178   \n",
       "EstimatedSalary  -0.005988    0.015271    -0.001384 -0.007201  0.010520   \n",
       "Exited           -0.016571   -0.006248    -0.027094  0.285323 -0.016761   \n",
       "\n",
       "                  Balance  NumOfProducts  HasCrCard  IsActiveMember  \\\n",
       "RowNumber       -0.009067       0.007246   0.000599        0.012044   \n",
       "CustomerId      -0.012419       0.016972  -0.014025        0.001665   \n",
       "CreditScore      0.006268       0.012238  -0.005458        0.025651   \n",
       "Age              0.028308      -0.030680  -0.011721        0.085472   \n",
       "Tenure          -0.007911       0.011979   0.027232       -0.032178   \n",
       "Balance          1.000000      -0.304180  -0.014858       -0.010084   \n",
       "NumOfProducts   -0.304180       1.000000   0.003183        0.009612   \n",
       "HasCrCard       -0.014858       0.003183   1.000000       -0.011866   \n",
       "IsActiveMember  -0.010084       0.009612  -0.011866        1.000000   \n",
       "EstimatedSalary  0.012797       0.014204  -0.009933       -0.011421   \n",
       "Exited           0.118533      -0.047820  -0.007138       -0.156128   \n",
       "\n",
       "                 EstimatedSalary    Exited  \n",
       "RowNumber              -0.005988 -0.016571  \n",
       "CustomerId              0.015271 -0.006248  \n",
       "CreditScore            -0.001384 -0.027094  \n",
       "Age                    -0.007201  0.285323  \n",
       "Tenure                  0.010520 -0.016761  \n",
       "Balance                 0.012797  0.118533  \n",
       "NumOfProducts           0.014204 -0.047820  \n",
       "HasCrCard              -0.009933 -0.007138  \n",
       "IsActiveMember         -0.011421 -0.156128  \n",
       "EstimatedSalary         1.000000  0.012097  \n",
       "Exited                  0.012097  1.000000  "
      ]
     },
     "execution_count": 10,
     "metadata": {},
     "output_type": "execute_result"
    }
   ],
   "source": [
    "data.corr()"
   ]
  },
  {
   "cell_type": "markdown",
   "metadata": {},
   "source": [
    "Связи никакой не прослеживается, но не хочется удалять значения целевого признака 1\n",
    "Предлагаю заполнить пропуски медианой"
   ]
  },
  {
   "cell_type": "code",
   "execution_count": 11,
   "metadata": {},
   "outputs": [],
   "source": [
    "data['Tenure'] = data['Tenure'].fillna(data['Tenure'].median())"
   ]
  },
  {
   "cell_type": "markdown",
   "metadata": {},
   "source": [
    "Проверяем пропуски"
   ]
  },
  {
   "cell_type": "code",
   "execution_count": 12,
   "metadata": {},
   "outputs": [
    {
     "data": {
      "text/plain": [
       "RowNumber          0\n",
       "CustomerId         0\n",
       "Surname            0\n",
       "CreditScore        0\n",
       "Geography          0\n",
       "Gender             0\n",
       "Age                0\n",
       "Tenure             0\n",
       "Balance            0\n",
       "NumOfProducts      0\n",
       "HasCrCard          0\n",
       "IsActiveMember     0\n",
       "EstimatedSalary    0\n",
       "Exited             0\n",
       "dtype: int64"
      ]
     },
     "execution_count": 12,
     "metadata": {},
     "output_type": "execute_result"
    }
   ],
   "source": [
    "data.isna().sum()"
   ]
  },
  {
   "cell_type": "markdown",
   "metadata": {},
   "source": [
    "Исправим названия столбцов"
   ]
  },
  {
   "cell_type": "code",
   "execution_count": 13,
   "metadata": {},
   "outputs": [],
   "source": [
    "data.columns = data.columns.str.lower()"
   ]
  },
  {
   "cell_type": "markdown",
   "metadata": {},
   "source": [
    "Проверяем"
   ]
  },
  {
   "cell_type": "code",
   "execution_count": 14,
   "metadata": {},
   "outputs": [
    {
     "data": {
      "text/plain": [
       "Index(['rownumber', 'customerid', 'surname', 'creditscore', 'geography',\n",
       "       'gender', 'age', 'tenure', 'balance', 'numofproducts', 'hascrcard',\n",
       "       'isactivemember', 'estimatedsalary', 'exited'],\n",
       "      dtype='object')"
      ]
     },
     "execution_count": 14,
     "metadata": {},
     "output_type": "execute_result"
    }
   ],
   "source": [
    "data.columns"
   ]
  },
  {
   "cell_type": "markdown",
   "metadata": {},
   "source": [
    "Поменяем также на snake_case"
   ]
  },
  {
   "cell_type": "code",
   "execution_count": 15,
   "metadata": {},
   "outputs": [],
   "source": [
    "data.columns = ['row_number', 'customer_id', 'surname', 'credit_score', 'geography',\n",
    "       'gender', 'age', 'tenure', 'balance', 'num_of_products', 'has_cr_card',\n",
    "       'is_active_member', 'estimated_salary', 'exited']"
   ]
  },
  {
   "cell_type": "markdown",
   "metadata": {},
   "source": [
    "Проверяем"
   ]
  },
  {
   "cell_type": "code",
   "execution_count": 16,
   "metadata": {},
   "outputs": [
    {
     "data": {
      "text/plain": [
       "Index(['row_number', 'customer_id', 'surname', 'credit_score', 'geography',\n",
       "       'gender', 'age', 'tenure', 'balance', 'num_of_products', 'has_cr_card',\n",
       "       'is_active_member', 'estimated_salary', 'exited'],\n",
       "      dtype='object')"
      ]
     },
     "execution_count": 16,
     "metadata": {},
     "output_type": "execute_result"
    }
   ],
   "source": [
    "data.columns"
   ]
  },
  {
   "cell_type": "markdown",
   "metadata": {},
   "source": [
    "Проверим есть ли повторяющиеся данные"
   ]
  },
  {
   "cell_type": "code",
   "execution_count": 17,
   "metadata": {},
   "outputs": [
    {
     "data": {
      "text/plain": [
       "0"
      ]
     },
     "execution_count": 17,
     "metadata": {},
     "output_type": "execute_result"
    }
   ],
   "source": [
    "data.duplicated().sum()"
   ]
  },
  {
   "cell_type": "markdown",
   "metadata": {},
   "source": [
    "Есть колонки с номером ряда, номер пользователя, фамилией, они не влияют на уход, уберем их перед дальнейшим анализом"
   ]
  },
  {
   "cell_type": "code",
   "execution_count": 18,
   "metadata": {},
   "outputs": [],
   "source": [
    "data_for_analysis = data.drop(['row_number', 'customer_id', 'surname'], axis=1)"
   ]
  },
  {
   "cell_type": "markdown",
   "metadata": {},
   "source": [
    "Проверим"
   ]
  },
  {
   "cell_type": "code",
   "execution_count": 19,
   "metadata": {},
   "outputs": [
    {
     "data": {
      "text/html": [
       "<div>\n",
       "<style scoped>\n",
       "    .dataframe tbody tr th:only-of-type {\n",
       "        vertical-align: middle;\n",
       "    }\n",
       "\n",
       "    .dataframe tbody tr th {\n",
       "        vertical-align: top;\n",
       "    }\n",
       "\n",
       "    .dataframe thead th {\n",
       "        text-align: right;\n",
       "    }\n",
       "</style>\n",
       "<table border=\"1\" class=\"dataframe\">\n",
       "  <thead>\n",
       "    <tr style=\"text-align: right;\">\n",
       "      <th></th>\n",
       "      <th>credit_score</th>\n",
       "      <th>geography</th>\n",
       "      <th>gender</th>\n",
       "      <th>age</th>\n",
       "      <th>tenure</th>\n",
       "      <th>balance</th>\n",
       "      <th>num_of_products</th>\n",
       "      <th>has_cr_card</th>\n",
       "      <th>is_active_member</th>\n",
       "      <th>estimated_salary</th>\n",
       "      <th>exited</th>\n",
       "    </tr>\n",
       "  </thead>\n",
       "  <tbody>\n",
       "    <tr>\n",
       "      <th>0</th>\n",
       "      <td>619</td>\n",
       "      <td>France</td>\n",
       "      <td>Female</td>\n",
       "      <td>42</td>\n",
       "      <td>2.0</td>\n",
       "      <td>0.00</td>\n",
       "      <td>1</td>\n",
       "      <td>1</td>\n",
       "      <td>1</td>\n",
       "      <td>101348.88</td>\n",
       "      <td>1</td>\n",
       "    </tr>\n",
       "    <tr>\n",
       "      <th>1</th>\n",
       "      <td>608</td>\n",
       "      <td>Spain</td>\n",
       "      <td>Female</td>\n",
       "      <td>41</td>\n",
       "      <td>1.0</td>\n",
       "      <td>83807.86</td>\n",
       "      <td>1</td>\n",
       "      <td>0</td>\n",
       "      <td>1</td>\n",
       "      <td>112542.58</td>\n",
       "      <td>0</td>\n",
       "    </tr>\n",
       "    <tr>\n",
       "      <th>2</th>\n",
       "      <td>502</td>\n",
       "      <td>France</td>\n",
       "      <td>Female</td>\n",
       "      <td>42</td>\n",
       "      <td>8.0</td>\n",
       "      <td>159660.80</td>\n",
       "      <td>3</td>\n",
       "      <td>1</td>\n",
       "      <td>0</td>\n",
       "      <td>113931.57</td>\n",
       "      <td>1</td>\n",
       "    </tr>\n",
       "    <tr>\n",
       "      <th>3</th>\n",
       "      <td>699</td>\n",
       "      <td>France</td>\n",
       "      <td>Female</td>\n",
       "      <td>39</td>\n",
       "      <td>1.0</td>\n",
       "      <td>0.00</td>\n",
       "      <td>2</td>\n",
       "      <td>0</td>\n",
       "      <td>0</td>\n",
       "      <td>93826.63</td>\n",
       "      <td>0</td>\n",
       "    </tr>\n",
       "    <tr>\n",
       "      <th>4</th>\n",
       "      <td>850</td>\n",
       "      <td>Spain</td>\n",
       "      <td>Female</td>\n",
       "      <td>43</td>\n",
       "      <td>2.0</td>\n",
       "      <td>125510.82</td>\n",
       "      <td>1</td>\n",
       "      <td>1</td>\n",
       "      <td>1</td>\n",
       "      <td>79084.10</td>\n",
       "      <td>0</td>\n",
       "    </tr>\n",
       "  </tbody>\n",
       "</table>\n",
       "</div>"
      ],
      "text/plain": [
       "   credit_score geography  gender  age  tenure    balance  num_of_products  \\\n",
       "0           619    France  Female   42     2.0       0.00                1   \n",
       "1           608     Spain  Female   41     1.0   83807.86                1   \n",
       "2           502    France  Female   42     8.0  159660.80                3   \n",
       "3           699    France  Female   39     1.0       0.00                2   \n",
       "4           850     Spain  Female   43     2.0  125510.82                1   \n",
       "\n",
       "   has_cr_card  is_active_member  estimated_salary  exited  \n",
       "0            1                 1         101348.88       1  \n",
       "1            0                 1         112542.58       0  \n",
       "2            1                 0         113931.57       1  \n",
       "3            0                 0          93826.63       0  \n",
       "4            1                 1          79084.10       0  "
      ]
     },
     "execution_count": 19,
     "metadata": {},
     "output_type": "execute_result"
    }
   ],
   "source": [
    "data_for_analysis.head(5)"
   ]
  },
  {
   "cell_type": "markdown",
   "metadata": {},
   "source": [
    "Для анализа надо преобразовать категориальные данные с помощью OHE"
   ]
  },
  {
   "cell_type": "code",
   "execution_count": 20,
   "metadata": {},
   "outputs": [],
   "source": [
    "data_for_analysis = pd.get_dummies(data_for_analysis, drop_first=True)"
   ]
  },
  {
   "cell_type": "markdown",
   "metadata": {},
   "source": [
    "Проверяем"
   ]
  },
  {
   "cell_type": "code",
   "execution_count": 21,
   "metadata": {},
   "outputs": [
    {
     "data": {
      "text/html": [
       "<div>\n",
       "<style scoped>\n",
       "    .dataframe tbody tr th:only-of-type {\n",
       "        vertical-align: middle;\n",
       "    }\n",
       "\n",
       "    .dataframe tbody tr th {\n",
       "        vertical-align: top;\n",
       "    }\n",
       "\n",
       "    .dataframe thead th {\n",
       "        text-align: right;\n",
       "    }\n",
       "</style>\n",
       "<table border=\"1\" class=\"dataframe\">\n",
       "  <thead>\n",
       "    <tr style=\"text-align: right;\">\n",
       "      <th></th>\n",
       "      <th>credit_score</th>\n",
       "      <th>age</th>\n",
       "      <th>tenure</th>\n",
       "      <th>balance</th>\n",
       "      <th>num_of_products</th>\n",
       "      <th>has_cr_card</th>\n",
       "      <th>is_active_member</th>\n",
       "      <th>estimated_salary</th>\n",
       "      <th>exited</th>\n",
       "      <th>geography_Germany</th>\n",
       "      <th>geography_Spain</th>\n",
       "      <th>gender_Male</th>\n",
       "    </tr>\n",
       "  </thead>\n",
       "  <tbody>\n",
       "    <tr>\n",
       "      <th>0</th>\n",
       "      <td>619</td>\n",
       "      <td>42</td>\n",
       "      <td>2.0</td>\n",
       "      <td>0.00</td>\n",
       "      <td>1</td>\n",
       "      <td>1</td>\n",
       "      <td>1</td>\n",
       "      <td>101348.88</td>\n",
       "      <td>1</td>\n",
       "      <td>0</td>\n",
       "      <td>0</td>\n",
       "      <td>0</td>\n",
       "    </tr>\n",
       "    <tr>\n",
       "      <th>1</th>\n",
       "      <td>608</td>\n",
       "      <td>41</td>\n",
       "      <td>1.0</td>\n",
       "      <td>83807.86</td>\n",
       "      <td>1</td>\n",
       "      <td>0</td>\n",
       "      <td>1</td>\n",
       "      <td>112542.58</td>\n",
       "      <td>0</td>\n",
       "      <td>0</td>\n",
       "      <td>1</td>\n",
       "      <td>0</td>\n",
       "    </tr>\n",
       "    <tr>\n",
       "      <th>2</th>\n",
       "      <td>502</td>\n",
       "      <td>42</td>\n",
       "      <td>8.0</td>\n",
       "      <td>159660.80</td>\n",
       "      <td>3</td>\n",
       "      <td>1</td>\n",
       "      <td>0</td>\n",
       "      <td>113931.57</td>\n",
       "      <td>1</td>\n",
       "      <td>0</td>\n",
       "      <td>0</td>\n",
       "      <td>0</td>\n",
       "    </tr>\n",
       "    <tr>\n",
       "      <th>3</th>\n",
       "      <td>699</td>\n",
       "      <td>39</td>\n",
       "      <td>1.0</td>\n",
       "      <td>0.00</td>\n",
       "      <td>2</td>\n",
       "      <td>0</td>\n",
       "      <td>0</td>\n",
       "      <td>93826.63</td>\n",
       "      <td>0</td>\n",
       "      <td>0</td>\n",
       "      <td>0</td>\n",
       "      <td>0</td>\n",
       "    </tr>\n",
       "    <tr>\n",
       "      <th>4</th>\n",
       "      <td>850</td>\n",
       "      <td>43</td>\n",
       "      <td>2.0</td>\n",
       "      <td>125510.82</td>\n",
       "      <td>1</td>\n",
       "      <td>1</td>\n",
       "      <td>1</td>\n",
       "      <td>79084.10</td>\n",
       "      <td>0</td>\n",
       "      <td>0</td>\n",
       "      <td>1</td>\n",
       "      <td>0</td>\n",
       "    </tr>\n",
       "  </tbody>\n",
       "</table>\n",
       "</div>"
      ],
      "text/plain": [
       "   credit_score  age  tenure    balance  num_of_products  has_cr_card  \\\n",
       "0           619   42     2.0       0.00                1            1   \n",
       "1           608   41     1.0   83807.86                1            0   \n",
       "2           502   42     8.0  159660.80                3            1   \n",
       "3           699   39     1.0       0.00                2            0   \n",
       "4           850   43     2.0  125510.82                1            1   \n",
       "\n",
       "   is_active_member  estimated_salary  exited  geography_Germany  \\\n",
       "0                 1         101348.88       1                  0   \n",
       "1                 1         112542.58       0                  0   \n",
       "2                 0         113931.57       1                  0   \n",
       "3                 0          93826.63       0                  0   \n",
       "4                 1          79084.10       0                  0   \n",
       "\n",
       "   geography_Spain  gender_Male  \n",
       "0                0            0  \n",
       "1                1            0  \n",
       "2                0            0  \n",
       "3                0            0  \n",
       "4                1            0  "
      ]
     },
     "execution_count": 21,
     "metadata": {},
     "output_type": "execute_result"
    }
   ],
   "source": [
    "data_for_analysis.head(5)"
   ]
  },
  {
   "cell_type": "markdown",
   "metadata": {},
   "source": [
    "Приведем в соотвествие новые столбцы"
   ]
  },
  {
   "cell_type": "code",
   "execution_count": 22,
   "metadata": {},
   "outputs": [],
   "source": [
    "data_for_analysis.columns = data_for_analysis.columns.str.lower()"
   ]
  },
  {
   "cell_type": "markdown",
   "metadata": {},
   "source": [
    "Проверим"
   ]
  },
  {
   "cell_type": "code",
   "execution_count": 23,
   "metadata": {},
   "outputs": [
    {
     "data": {
      "text/plain": [
       "Index(['credit_score', 'age', 'tenure', 'balance', 'num_of_products',\n",
       "       'has_cr_card', 'is_active_member', 'estimated_salary', 'exited',\n",
       "       'geography_germany', 'geography_spain', 'gender_male'],\n",
       "      dtype='object')"
      ]
     },
     "execution_count": 23,
     "metadata": {},
     "output_type": "execute_result"
    }
   ],
   "source": [
    "data_for_analysis.columns"
   ]
  },
  {
   "cell_type": "markdown",
   "metadata": {},
   "source": [
    "Вывод: загрузили данные, посмотрели информацию о данных, посмотрели графически на числовые данные. Были обнаружены пропуски в столбце с Tenure, учитывая, что там часть данных содержала 1 в целевом признаке, было принято решение не удалять данные и  заполнить пропуски медианой, т.к. не было обнаружено связи этого столбца с другими столбцами, чтобы понять, чем еще можно заполнить. Названия столбцов были приведены в соотвествие с snake_case. Из данных для анализа были удалены столбцы, не влияющие на отток, данные сохранены в новой переменной. Было проведено кодирование OHE для преобразования категориальных данных для того, чтобы мы могли построить в дальнейшем модели и использовать эти данные."
   ]
  },
  {
   "cell_type": "code",
   "execution_count": 24,
   "metadata": {},
   "outputs": [
    {
     "name": "stdout",
     "output_type": "stream",
     "text": [
      "Collecting pandas-profiling==2.11\n",
      "  Downloading pandas_profiling-2.11.0-py2.py3-none-any.whl (243 kB)\n",
      "\u001b[K     |████████████████████████████████| 243 kB 2.2 MB/s eta 0:00:01\n",
      "\u001b[?25hRequirement already satisfied: numpy>=1.16.0 in /opt/conda/lib/python3.9/site-packages (from pandas-profiling==2.11) (1.21.1)\n",
      "Collecting confuse>=1.0.0\n",
      "  Downloading confuse-2.0.0-py3-none-any.whl (24 kB)\n",
      "Requirement already satisfied: requests>=2.24.0 in /opt/conda/lib/python3.9/site-packages (from pandas-profiling==2.11) (2.25.1)\n",
      "Collecting htmlmin>=0.1.12\n",
      "  Downloading htmlmin-0.1.12.tar.gz (19 kB)\n",
      "Requirement already satisfied: attrs>=19.3.0 in /opt/conda/lib/python3.9/site-packages (from pandas-profiling==2.11) (21.2.0)\n",
      "Requirement already satisfied: scipy>=1.4.1 in /opt/conda/lib/python3.9/site-packages (from pandas-profiling==2.11) (1.9.1)\n",
      "Requirement already satisfied: matplotlib>=3.2.0 in /opt/conda/lib/python3.9/site-packages (from pandas-profiling==2.11) (3.3.4)\n",
      "Collecting tangled-up-in-unicode>=0.0.6\n",
      "  Downloading tangled_up_in_unicode-0.2.0-py3-none-any.whl (4.7 MB)\n",
      "\u001b[K     |████████████████████████████████| 4.7 MB 37.0 MB/s eta 0:00:01\n",
      "\u001b[?25hCollecting phik>=0.10.0\n",
      "  Downloading phik-0.12.3-cp39-cp39-manylinux_2_17_x86_64.manylinux2014_x86_64.whl (679 kB)\n",
      "\u001b[K     |████████████████████████████████| 679 kB 47.1 MB/s eta 0:00:01\n",
      "\u001b[?25hRequirement already satisfied: ipywidgets>=7.5.1 in /opt/conda/lib/python3.9/site-packages (from pandas-profiling==2.11) (7.6.3)\n",
      "Collecting missingno>=0.4.2\n",
      "  Downloading missingno-0.5.2-py3-none-any.whl (8.7 kB)\n",
      "Requirement already satisfied: tqdm>=4.48.2 in /opt/conda/lib/python3.9/site-packages (from pandas-profiling==2.11) (4.61.2)\n",
      "Requirement already satisfied: seaborn>=0.10.1 in /opt/conda/lib/python3.9/site-packages (from pandas-profiling==2.11) (0.11.1)\n",
      "Requirement already satisfied: joblib in /opt/conda/lib/python3.9/site-packages (from pandas-profiling==2.11) (1.1.0)\n",
      "Collecting visions[type_image_path]==0.6.0\n",
      "  Downloading visions-0.6.0-py3-none-any.whl (75 kB)\n",
      "\u001b[K     |████████████████████████████████| 75 kB 2.6 MB/s  eta 0:00:01\n",
      "\u001b[?25hRequirement already satisfied: pandas!=1.0.0,!=1.0.1,!=1.0.2,!=1.1.0,>=0.25.3 in /opt/conda/lib/python3.9/site-packages (from pandas-profiling==2.11) (1.2.4)\n",
      "Requirement already satisfied: jinja2>=2.11.1 in /opt/conda/lib/python3.9/site-packages (from pandas-profiling==2.11) (3.0.1)\n",
      "Collecting networkx>=2.4\n",
      "  Downloading networkx-3.0-py3-none-any.whl (2.0 MB)\n",
      "\u001b[K     |████████████████████████████████| 2.0 MB 42.9 MB/s eta 0:00:01\n",
      "\u001b[?25hCollecting imagehash\n",
      "  Downloading ImageHash-4.3.1-py2.py3-none-any.whl (296 kB)\n",
      "\u001b[K     |████████████████████████████████| 296 kB 70.3 MB/s eta 0:00:01\n",
      "\u001b[?25hRequirement already satisfied: Pillow in /opt/conda/lib/python3.9/site-packages (from visions[type_image_path]==0.6.0->pandas-profiling==2.11) (8.4.0)\n",
      "Requirement already satisfied: pyyaml in /opt/conda/lib/python3.9/site-packages (from confuse>=1.0.0->pandas-profiling==2.11) (6.0)\n",
      "Requirement already satisfied: traitlets>=4.3.1 in /opt/conda/lib/python3.9/site-packages (from ipywidgets>=7.5.1->pandas-profiling==2.11) (5.0.5)\n",
      "Requirement already satisfied: ipykernel>=4.5.1 in /opt/conda/lib/python3.9/site-packages (from ipywidgets>=7.5.1->pandas-profiling==2.11) (6.0.1)\n",
      "Requirement already satisfied: ipython>=4.0.0 in /opt/conda/lib/python3.9/site-packages (from ipywidgets>=7.5.1->pandas-profiling==2.11) (7.25.0)\n",
      "Requirement already satisfied: widgetsnbextension~=3.5.0 in /opt/conda/lib/python3.9/site-packages (from ipywidgets>=7.5.1->pandas-profiling==2.11) (3.5.2)\n",
      "Requirement already satisfied: jupyterlab-widgets>=1.0.0 in /opt/conda/lib/python3.9/site-packages (from ipywidgets>=7.5.1->pandas-profiling==2.11) (3.0.2)\n",
      "Requirement already satisfied: nbformat>=4.2.0 in /opt/conda/lib/python3.9/site-packages (from ipywidgets>=7.5.1->pandas-profiling==2.11) (5.1.3)\n",
      "Requirement already satisfied: tornado>=4.2 in /opt/conda/lib/python3.9/site-packages (from ipykernel>=4.5.1->ipywidgets>=7.5.1->pandas-profiling==2.11) (6.1)\n",
      "Requirement already satisfied: debugpy>=1.0.0 in /opt/conda/lib/python3.9/site-packages (from ipykernel>=4.5.1->ipywidgets>=7.5.1->pandas-profiling==2.11) (1.3.0)\n",
      "Requirement already satisfied: jupyter-client in /opt/conda/lib/python3.9/site-packages (from ipykernel>=4.5.1->ipywidgets>=7.5.1->pandas-profiling==2.11) (6.1.12)\n",
      "Requirement already satisfied: prompt-toolkit!=3.0.0,!=3.0.1,<3.1.0,>=2.0.0 in /opt/conda/lib/python3.9/site-packages (from ipython>=4.0.0->ipywidgets>=7.5.1->pandas-profiling==2.11) (3.0.19)\n",
      "Requirement already satisfied: jedi>=0.16 in /opt/conda/lib/python3.9/site-packages (from ipython>=4.0.0->ipywidgets>=7.5.1->pandas-profiling==2.11) (0.18.0)\n",
      "Requirement already satisfied: matplotlib-inline in /opt/conda/lib/python3.9/site-packages (from ipython>=4.0.0->ipywidgets>=7.5.1->pandas-profiling==2.11) (0.1.2)\n",
      "Requirement already satisfied: setuptools>=18.5 in /opt/conda/lib/python3.9/site-packages (from ipython>=4.0.0->ipywidgets>=7.5.1->pandas-profiling==2.11) (49.6.0.post20210108)\n",
      "Requirement already satisfied: pygments in /opt/conda/lib/python3.9/site-packages (from ipython>=4.0.0->ipywidgets>=7.5.1->pandas-profiling==2.11) (2.9.0)\n",
      "Requirement already satisfied: backcall in /opt/conda/lib/python3.9/site-packages (from ipython>=4.0.0->ipywidgets>=7.5.1->pandas-profiling==2.11) (0.2.0)\n",
      "Requirement already satisfied: decorator in /opt/conda/lib/python3.9/site-packages (from ipython>=4.0.0->ipywidgets>=7.5.1->pandas-profiling==2.11) (5.0.9)\n",
      "Requirement already satisfied: pexpect>4.3 in /opt/conda/lib/python3.9/site-packages (from ipython>=4.0.0->ipywidgets>=7.5.1->pandas-profiling==2.11) (4.8.0)\n",
      "Requirement already satisfied: pickleshare in /opt/conda/lib/python3.9/site-packages (from ipython>=4.0.0->ipywidgets>=7.5.1->pandas-profiling==2.11) (0.7.5)\n",
      "Requirement already satisfied: parso<0.9.0,>=0.8.0 in /opt/conda/lib/python3.9/site-packages (from jedi>=0.16->ipython>=4.0.0->ipywidgets>=7.5.1->pandas-profiling==2.11) (0.8.2)\n",
      "Requirement already satisfied: MarkupSafe>=2.0 in /opt/conda/lib/python3.9/site-packages (from jinja2>=2.11.1->pandas-profiling==2.11) (2.1.1)\n",
      "Requirement already satisfied: python-dateutil>=2.1 in /opt/conda/lib/python3.9/site-packages (from matplotlib>=3.2.0->pandas-profiling==2.11) (2.8.1)\n",
      "Requirement already satisfied: pyparsing!=2.0.4,!=2.1.2,!=2.1.6,>=2.0.3 in /opt/conda/lib/python3.9/site-packages (from matplotlib>=3.2.0->pandas-profiling==2.11) (2.4.7)\n",
      "Requirement already satisfied: kiwisolver>=1.0.1 in /opt/conda/lib/python3.9/site-packages (from matplotlib>=3.2.0->pandas-profiling==2.11) (1.4.4)\n",
      "Requirement already satisfied: cycler>=0.10 in /opt/conda/lib/python3.9/site-packages (from matplotlib>=3.2.0->pandas-profiling==2.11) (0.11.0)\n",
      "Requirement already satisfied: ipython-genutils in /opt/conda/lib/python3.9/site-packages (from nbformat>=4.2.0->ipywidgets>=7.5.1->pandas-profiling==2.11) (0.2.0)\n",
      "Requirement already satisfied: jupyter-core in /opt/conda/lib/python3.9/site-packages (from nbformat>=4.2.0->ipywidgets>=7.5.1->pandas-profiling==2.11) (4.7.1)\n",
      "Requirement already satisfied: jsonschema!=2.5.0,>=2.4 in /opt/conda/lib/python3.9/site-packages (from nbformat>=4.2.0->ipywidgets>=7.5.1->pandas-profiling==2.11) (3.2.0)\n",
      "Requirement already satisfied: six>=1.11.0 in /opt/conda/lib/python3.9/site-packages (from jsonschema!=2.5.0,>=2.4->nbformat>=4.2.0->ipywidgets>=7.5.1->pandas-profiling==2.11) (1.16.0)\n",
      "Requirement already satisfied: pyrsistent>=0.14.0 in /opt/conda/lib/python3.9/site-packages (from jsonschema!=2.5.0,>=2.4->nbformat>=4.2.0->ipywidgets>=7.5.1->pandas-profiling==2.11) (0.17.3)\n",
      "Requirement already satisfied: pytz>=2017.3 in /opt/conda/lib/python3.9/site-packages (from pandas!=1.0.0,!=1.0.1,!=1.0.2,!=1.1.0,>=0.25.3->pandas-profiling==2.11) (2021.1)\n",
      "Requirement already satisfied: ptyprocess>=0.5 in /opt/conda/lib/python3.9/site-packages (from pexpect>4.3->ipython>=4.0.0->ipywidgets>=7.5.1->pandas-profiling==2.11) (0.7.0)\n",
      "Requirement already satisfied: wcwidth in /opt/conda/lib/python3.9/site-packages (from prompt-toolkit!=3.0.0,!=3.0.1,<3.1.0,>=2.0.0->ipython>=4.0.0->ipywidgets>=7.5.1->pandas-profiling==2.11) (0.2.5)\n",
      "Requirement already satisfied: certifi>=2017.4.17 in /opt/conda/lib/python3.9/site-packages (from requests>=2.24.0->pandas-profiling==2.11) (2022.6.15)\n",
      "Requirement already satisfied: idna<3,>=2.5 in /opt/conda/lib/python3.9/site-packages (from requests>=2.24.0->pandas-profiling==2.11) (2.10)\n",
      "Requirement already satisfied: chardet<5,>=3.0.2 in /opt/conda/lib/python3.9/site-packages (from requests>=2.24.0->pandas-profiling==2.11) (4.0.0)\n",
      "Requirement already satisfied: urllib3<1.27,>=1.21.1 in /opt/conda/lib/python3.9/site-packages (from requests>=2.24.0->pandas-profiling==2.11) (1.26.6)\n",
      "Requirement already satisfied: notebook>=4.4.1 in /opt/conda/lib/python3.9/site-packages (from widgetsnbextension~=3.5.0->ipywidgets>=7.5.1->pandas-profiling==2.11) (6.4.0)\n",
      "Requirement already satisfied: argon2-cffi in /opt/conda/lib/python3.9/site-packages (from notebook>=4.4.1->widgetsnbextension~=3.5.0->ipywidgets>=7.5.1->pandas-profiling==2.11) (20.1.0)\n",
      "Requirement already satisfied: nbconvert in /opt/conda/lib/python3.9/site-packages (from notebook>=4.4.1->widgetsnbextension~=3.5.0->ipywidgets>=7.5.1->pandas-profiling==2.11) (6.1.0)\n",
      "Requirement already satisfied: Send2Trash>=1.5.0 in /opt/conda/lib/python3.9/site-packages (from notebook>=4.4.1->widgetsnbextension~=3.5.0->ipywidgets>=7.5.1->pandas-profiling==2.11) (1.7.1)\n",
      "Requirement already satisfied: terminado>=0.8.3 in /opt/conda/lib/python3.9/site-packages (from notebook>=4.4.1->widgetsnbextension~=3.5.0->ipywidgets>=7.5.1->pandas-profiling==2.11) (0.10.1)\n",
      "Requirement already satisfied: prometheus-client in /opt/conda/lib/python3.9/site-packages (from notebook>=4.4.1->widgetsnbextension~=3.5.0->ipywidgets>=7.5.1->pandas-profiling==2.11) (0.11.0)\n",
      "Requirement already satisfied: pyzmq>=17 in /opt/conda/lib/python3.9/site-packages (from notebook>=4.4.1->widgetsnbextension~=3.5.0->ipywidgets>=7.5.1->pandas-profiling==2.11) (22.1.0)\n",
      "Requirement already satisfied: cffi>=1.0.0 in /opt/conda/lib/python3.9/site-packages (from argon2-cffi->notebook>=4.4.1->widgetsnbextension~=3.5.0->ipywidgets>=7.5.1->pandas-profiling==2.11) (1.14.5)\n",
      "Requirement already satisfied: pycparser in /opt/conda/lib/python3.9/site-packages (from cffi>=1.0.0->argon2-cffi->notebook>=4.4.1->widgetsnbextension~=3.5.0->ipywidgets>=7.5.1->pandas-profiling==2.11) (2.20)\n",
      "Collecting PyWavelets\n",
      "  Downloading PyWavelets-1.4.1-cp39-cp39-manylinux_2_17_x86_64.manylinux2014_x86_64.whl (6.9 MB)\n",
      "\u001b[K     |████████████████████████████████| 6.9 MB 51.1 MB/s eta 0:00:01\n",
      "\u001b[?25hRequirement already satisfied: testpath in /opt/conda/lib/python3.9/site-packages (from nbconvert->notebook>=4.4.1->widgetsnbextension~=3.5.0->ipywidgets>=7.5.1->pandas-profiling==2.11) (0.5.0)\n",
      "Requirement already satisfied: mistune<2,>=0.8.1 in /opt/conda/lib/python3.9/site-packages (from nbconvert->notebook>=4.4.1->widgetsnbextension~=3.5.0->ipywidgets>=7.5.1->pandas-profiling==2.11) (0.8.4)\n",
      "Requirement already satisfied: jupyterlab-pygments in /opt/conda/lib/python3.9/site-packages (from nbconvert->notebook>=4.4.1->widgetsnbextension~=3.5.0->ipywidgets>=7.5.1->pandas-profiling==2.11) (0.1.2)\n",
      "Requirement already satisfied: defusedxml in /opt/conda/lib/python3.9/site-packages (from nbconvert->notebook>=4.4.1->widgetsnbextension~=3.5.0->ipywidgets>=7.5.1->pandas-profiling==2.11) (0.7.1)\n",
      "Requirement already satisfied: entrypoints>=0.2.2 in /opt/conda/lib/python3.9/site-packages (from nbconvert->notebook>=4.4.1->widgetsnbextension~=3.5.0->ipywidgets>=7.5.1->pandas-profiling==2.11) (0.3)\n",
      "Requirement already satisfied: nbclient<0.6.0,>=0.5.0 in /opt/conda/lib/python3.9/site-packages (from nbconvert->notebook>=4.4.1->widgetsnbextension~=3.5.0->ipywidgets>=7.5.1->pandas-profiling==2.11) (0.5.3)\n",
      "Requirement already satisfied: pandocfilters>=1.4.1 in /opt/conda/lib/python3.9/site-packages (from nbconvert->notebook>=4.4.1->widgetsnbextension~=3.5.0->ipywidgets>=7.5.1->pandas-profiling==2.11) (1.4.2)\n",
      "Requirement already satisfied: bleach in /opt/conda/lib/python3.9/site-packages (from nbconvert->notebook>=4.4.1->widgetsnbextension~=3.5.0->ipywidgets>=7.5.1->pandas-profiling==2.11) (3.3.0)\n",
      "Requirement already satisfied: nest-asyncio in /opt/conda/lib/python3.9/site-packages (from nbclient<0.6.0,>=0.5.0->nbconvert->notebook>=4.4.1->widgetsnbextension~=3.5.0->ipywidgets>=7.5.1->pandas-profiling==2.11) (1.5.1)\n",
      "Requirement already satisfied: async-generator in /opt/conda/lib/python3.9/site-packages (from nbclient<0.6.0,>=0.5.0->nbconvert->notebook>=4.4.1->widgetsnbextension~=3.5.0->ipywidgets>=7.5.1->pandas-profiling==2.11) (1.10)\n",
      "Requirement already satisfied: webencodings in /opt/conda/lib/python3.9/site-packages (from bleach->nbconvert->notebook>=4.4.1->widgetsnbextension~=3.5.0->ipywidgets>=7.5.1->pandas-profiling==2.11) (0.5.1)\n",
      "Requirement already satisfied: packaging in /opt/conda/lib/python3.9/site-packages (from bleach->nbconvert->notebook>=4.4.1->widgetsnbextension~=3.5.0->ipywidgets>=7.5.1->pandas-profiling==2.11) (21.3)\n",
      "Building wheels for collected packages: htmlmin\n",
      "  Building wheel for htmlmin (setup.py) ... \u001b[?25ldone\n",
      "\u001b[?25h  Created wheel for htmlmin: filename=htmlmin-0.1.12-py3-none-any.whl size=27085 sha256=dbe709b3342217ce711cd381fa90440a4eb9f8b672fc08bf1ee3a32eb38b69ea\n",
      "  Stored in directory: /home/jovyan/.cache/pip/wheels/1d/05/04/c6d7d3b66539d9e659ac6dfe81e2d0fd4c1a8316cc5a403300\n",
      "Successfully built htmlmin\n",
      "Installing collected packages: tangled-up-in-unicode, PyWavelets, networkx, visions, imagehash, phik, missingno, htmlmin, confuse, pandas-profiling\n",
      "Successfully installed PyWavelets-1.4.1 confuse-2.0.0 htmlmin-0.1.12 imagehash-4.3.1 missingno-0.5.2 networkx-3.0 pandas-profiling-2.11.0 phik-0.12.3 tangled-up-in-unicode-0.2.0 visions-0.6.0\n"
     ]
    },
    {
     "data": {
      "application/vnd.jupyter.widget-view+json": {
       "model_id": "ba938fb7b6a242838bfed571528c526e",
       "version_major": 2,
       "version_minor": 0
      },
      "text/plain": [
       "Summarize dataset:   0%|          | 0/25 [00:00<?, ?it/s]"
      ]
     },
     "metadata": {},
     "output_type": "display_data"
    },
    {
     "data": {
      "application/vnd.jupyter.widget-view+json": {
       "model_id": "cae8c074a2cc4c3c9e1f5431f607966c",
       "version_major": 2,
       "version_minor": 0
      },
      "text/plain": [
       "Generate report structure:   0%|          | 0/1 [00:00<?, ?it/s]"
      ]
     },
     "metadata": {},
     "output_type": "display_data"
    },
    {
     "data": {
      "application/vnd.jupyter.widget-view+json": {
       "model_id": "",
       "version_major": 2,
       "version_minor": 0
      },
      "text/plain": [
       "Render widgets:   0%|          | 0/1 [00:00<?, ?it/s]"
      ]
     },
     "metadata": {},
     "output_type": "display_data"
    },
    {
     "data": {
      "application/vnd.jupyter.widget-view+json": {
       "model_id": "b71f9d8474284b22830f6e9aa56b35ee",
       "version_major": 2,
       "version_minor": 0
      },
      "text/plain": [
       "VBox(children=(Tab(children=(Tab(children=(GridBox(children=(VBox(children=(GridspecLayout(children=(HTML(valu…"
      ]
     },
     "metadata": {},
     "output_type": "display_data"
    }
   ],
   "source": [
    "!pip3 install pandas-profiling==2.11\n",
    "from pandas_profiling import ProfileReport\n",
    "\n",
    "\n",
    "profile = ProfileReport(data_for_analysis,\n",
    "                        title='Pandas Profiling Report')\n",
    "\n",
    "profile.to_widgets()"
   ]
  },
  {
   "cell_type": "markdown",
   "metadata": {},
   "source": [
    "## Исследование задачи"
   ]
  },
  {
   "cell_type": "markdown",
   "metadata": {},
   "source": [
    "Разобьем данные на выборки, сначала отделим тестовую выборку, 20% для тестовой выборки, затем разделим на обучающую и валидационную выборку, 25% для валидационной выборки, нужно обозначить stratify, т.к. соотношение 1 и 0 неравномерное в целевом признак "
   ]
  },
  {
   "cell_type": "code",
   "execution_count": 25,
   "metadata": {},
   "outputs": [],
   "source": [
    "features = data_for_analysis.drop(['exited'], axis=1)\n",
    "target = data_for_analysis['exited']\n",
    "\n",
    "features_v_l, features_test, target_v_l, target_test = train_test_split(\n",
    "    features, target, test_size=0.20, random_state=12345, stratify=target) \n",
    "\n",
    "features_train, features_valid, target_train, target_valid = train_test_split(\n",
    "    features_v_l, target_v_l, test_size=0.25, random_state=12345, stratify=target_v_l)\n"
   ]
  },
  {
   "cell_type": "markdown",
   "metadata": {},
   "source": [
    "Проверим размер выборок"
   ]
  },
  {
   "cell_type": "code",
   "execution_count": 26,
   "metadata": {},
   "outputs": [
    {
     "name": "stdout",
     "output_type": "stream",
     "text": [
      "Тестовая выборка: (2000, 11) (2000,) Обучающая выборка: (6000, 11) (6000,) Валидационная выборка: (2000, 11) (2000,)\n"
     ]
    }
   ],
   "source": [
    "print('Тестовая выборка:', features_test.shape, target_test.shape,\n",
    "    'Обучающая выборка:', features_train.shape, target_train.shape,\n",
    "    'Валидационная выборка:', features_valid.shape, target_valid.shape\n",
    "     )"
   ]
  },
  {
   "cell_type": "markdown",
   "metadata": {},
   "source": [
    "Посмотрим целевой признак"
   ]
  },
  {
   "cell_type": "code",
   "execution_count": 27,
   "metadata": {
    "scrolled": true
   },
   "outputs": [
    {
     "data": {
      "text/plain": [
       "0    7963\n",
       "1    2037\n",
       "Name: exited, dtype: int64"
      ]
     },
     "execution_count": 27,
     "metadata": {},
     "output_type": "execute_result"
    }
   ],
   "source": [
    "target.value_counts()\n"
   ]
  },
  {
   "cell_type": "markdown",
   "metadata": {},
   "source": [
    "Вывод: данных со значением, когда клиент уйдет меньше, это может сказываться на обучении и на том, что модель, предсказывающая, что клиент не уйдет может по качеству быть не хуже обученной модели"
   ]
  },
  {
   "cell_type": "markdown",
   "metadata": {},
   "source": [
    "Стандартизируем данные, выделим данные числовые данные с большим разбросом \n",
    "Ранее методом describe смотрели какие есть данные в столбцах"
   ]
  },
  {
   "cell_type": "code",
   "execution_count": 28,
   "metadata": {},
   "outputs": [
    {
     "name": "stdout",
     "output_type": "stream",
     "text": [
      "      credit_score       age  tenure   balance  num_of_products  has_cr_card  \\\n",
      "5536     -0.143332  0.577533     5.0 -1.220573                2            1   \n",
      "8530      1.632702 -0.564119     2.0  0.435807                1            1   \n",
      "1762      1.116413 -0.468981     1.0  1.245822                1            1   \n",
      "9090      1.643028  0.006707     5.0 -1.220573                1            1   \n",
      "8777     -0.484083 -1.420358     1.0  1.421989                2            1   \n",
      "\n",
      "      is_active_member  estimated_salary  geography_germany  geography_spain  \\\n",
      "5536                 1          1.029613                  0                1   \n",
      "8530                 0          0.237986                  0                0   \n",
      "1762                 1         -0.686104                  0                0   \n",
      "9090                 0         -0.391097                  0                0   \n",
      "8777                 0         -1.361559                  0                1   \n",
      "\n",
      "      gender_male  \n",
      "5536            1  \n",
      "8530            0  \n",
      "1762            0  \n",
      "9090            0  \n",
      "8777            1  \n"
     ]
    }
   ],
   "source": [
    "numeric = ['credit_score', 'age', 'estimated_salary', 'balance']\n",
    "pd.options.mode.chained_assignment = None\n",
    "scaler = StandardScaler() \n",
    "scaler.fit(features_train[numeric])\n",
    "features_train[numeric] = scaler.transform(features_train[numeric])\n",
    "features_valid[numeric] = scaler.transform(features_valid[numeric])\n",
    "features_test[numeric] = scaler.transform(features_test[numeric])\n",
    "print(features_train.head())"
   ]
  },
  {
   "cell_type": "markdown",
   "metadata": {},
   "source": [
    "Построим дерево решений"
   ]
  },
  {
   "cell_type": "code",
   "execution_count": 29,
   "metadata": {},
   "outputs": [
    {
     "name": "stdout",
     "output_type": "stream",
     "text": [
      "Accuracy модели на валидационной выборке: 0.7885\n",
      "Полнота: 0.515970515970516.\n",
      "Точность: 0.481651376146789.\n",
      "F1-мера: 0.4982206405693951.\n",
      "AUC-ROC: 0.6870499158634751.\n"
     ]
    }
   ],
   "source": [
    "model = DecisionTreeClassifier(random_state=12345)\n",
    "\n",
    "model.fit(features_train, target_train)\n",
    "predictions_valid = model.predict(features_valid)\n",
    "probabilities_valid = model.predict_proba(features_valid)\n",
    "probabilities_one_valid = probabilities_valid[:, 1]\n",
    "auc_roc = roc_auc_score(target_valid, probabilities_one_valid) \n",
    "\n",
    "print(\"Accuracy модели на валидационной выборке:\", accuracy_score(target_valid, predictions_valid))\n",
    "print(f'Полнота: {recall_score(target_valid, predictions_valid)}.')\n",
    "print(f'Точность: {precision_score(target_valid, predictions_valid)}.')\n",
    "print(f'F1-мера: {f1_score(target_valid, predictions_valid)}.')\n",
    "print(f'AUC-ROC: {auc_roc}.')"
   ]
  },
  {
   "cell_type": "markdown",
   "metadata": {},
   "source": [
    "Построим случайный лес, возьмем глубину и деревья по 10"
   ]
  },
  {
   "cell_type": "code",
   "execution_count": 30,
   "metadata": {},
   "outputs": [
    {
     "name": "stdout",
     "output_type": "stream",
     "text": [
      "Accuracy: 0.8575.\n",
      "Полнота: 0.4176904176904177.\n",
      "Точность: 0.7798165137614679.\n",
      "F1-мера: 0.5439999999999999.\n",
      "AUC-ROC: 0.850495333546181.\n"
     ]
    }
   ],
   "source": [
    "model = RandomForestClassifier(n_estimators=10, max_depth=10, random_state=12345) \n",
    "model.fit(features_train, target_train)        \n",
    "predicted_valid = model.predict(features_valid)\n",
    "probabilities_valid = model.predict_proba(features_valid)\n",
    "probabilities_one_valid = probabilities_valid[:, 1]\n",
    "auc_roc = roc_auc_score(target_valid, probabilities_one_valid) \n",
    "\n",
    "print(f'Accuracy: {accuracy_score(target_valid, predicted_valid)}.')\n",
    "print(f'Полнота: {recall_score(target_valid, predicted_valid)}.')\n",
    "print(f'Точность: {precision_score(target_valid, predicted_valid)}.')\n",
    "print(f'F1-мера: {f1_score(target_valid, predicted_valid)}.')\n",
    "print(f'AUC-ROC: {auc_roc}.')"
   ]
  },
  {
   "cell_type": "markdown",
   "metadata": {},
   "source": [
    "Построим логистическую регрессию"
   ]
  },
  {
   "cell_type": "code",
   "execution_count": 31,
   "metadata": {},
   "outputs": [
    {
     "name": "stdout",
     "output_type": "stream",
     "text": [
      "Accuracy: 0.8185.\n",
      "Полнота: 0.2113022113022113.\n",
      "Точность: 0.671875.\n",
      "F1-мера: 0.3214953271028037.\n",
      "AUC-ROC: 0.787568770619618.\n"
     ]
    }
   ],
   "source": [
    "model = LogisticRegression(random_state=12345, solver='lbfgs', max_iter=1000) \n",
    "model.fit(features_train, target_train) \n",
    "predictions_valid = model.predict(features_valid) \n",
    "probabilities_valid = model.predict_proba(features_valid)\n",
    "probabilities_one_valid = probabilities_valid[:, 1]\n",
    "auc_roc = roc_auc_score(target_valid, probabilities_one_valid)\n",
    "\n",
    "print(f'Accuracy: {accuracy_score(target_valid, predictions_valid)}.')\n",
    "print(f'Полнота: {recall_score(target_valid, predictions_valid)}.')\n",
    "print(f'Точность: {precision_score(target_valid, predictions_valid)}.')\n",
    "print(f'F1-мера: {f1_score(target_valid, predictions_valid)}.')\n",
    "print(f'AUC-ROC: {auc_roc}.')"
   ]
  },
  {
   "cell_type": "markdown",
   "metadata": {},
   "source": [
    "Константная модель"
   ]
  },
  {
   "cell_type": "code",
   "execution_count": 32,
   "metadata": {},
   "outputs": [
    {
     "name": "stdout",
     "output_type": "stream",
     "text": [
      "Accuracy: 0.20383333333333334.\n",
      "Полнота: 1.0.\n",
      "Точность: 0.20383333333333334.\n",
      "F1-мера: 0.33864045410494253.\n"
     ]
    }
   ],
   "source": [
    "target_pred_constant = pd.Series(1, index=target_train.index)\n",
    "print(f'Accuracy: {accuracy_score(target_train, target_pred_constant)}.')\n",
    "print(f'Полнота: {recall_score(target_train, target_pred_constant)}.')\n",
    "print(f'Точность: {precision_score(target_train, target_pred_constant)}.')\n",
    "print(f'F1-мера: {f1_score(target_train, target_pred_constant)}.')"
   ]
  },
  {
   "cell_type": "markdown",
   "metadata": {},
   "source": [
    "Вывод: построили модели, но не учитывали дисбаланс классов и разные показатели в столбцах с данными, с этим поработаем в следующем разделе и посмотрим, что будет с моделями после этого. "
   ]
  },
  {
   "cell_type": "markdown",
   "metadata": {},
   "source": [
    "## Борьба с дисбалансом"
   ]
  },
  {
   "cell_type": "markdown",
   "metadata": {},
   "source": [
    "Построим случайный лес, возьмем те же показатели"
   ]
  },
  {
   "cell_type": "code",
   "execution_count": 35,
   "metadata": {},
   "outputs": [
    {
     "name": "stdout",
     "output_type": "stream",
     "text": [
      "Accuracy: 0.8575.\n",
      "Полнота: 0.4176904176904177.\n",
      "Точность: 0.7798165137614679.\n",
      "F1-мера: 0.5439999999999999.\n"
     ]
    }
   ],
   "source": [
    "model = RandomForestClassifier(n_estimators=10, max_depth=10, random_state=12345) \n",
    "model.fit(features_train, target_train)        \n",
    "predicted_valid = model.predict(features_valid)\n",
    "print(f'Accuracy: {accuracy_score(target_valid, predicted_valid)}.')\n",
    "print(f'Полнота: {recall_score(target_valid, predicted_valid)}.')\n",
    "print(f'Точность: {precision_score(target_valid, predicted_valid)}.')\n",
    "print(f'F1-мера: {f1_score(target_valid, predicted_valid)}.')"
   ]
  },
  {
   "cell_type": "markdown",
   "metadata": {},
   "source": [
    "Построим логистическую регрессию"
   ]
  },
  {
   "cell_type": "code",
   "execution_count": 36,
   "metadata": {},
   "outputs": [
    {
     "name": "stdout",
     "output_type": "stream",
     "text": [
      "Accuracy: 0.8185.\n",
      "Полнота: 0.2113022113022113.\n",
      "Точность: 0.671875.\n",
      "F1-мера: 0.3214953271028037.\n"
     ]
    }
   ],
   "source": [
    "model = LogisticRegression(random_state=12345, solver='lbfgs', max_iter=1000) \n",
    "model.fit(features_train, target_train) \n",
    "predictions_valid = model.predict(features_valid) \n",
    "\n",
    "print(f'Accuracy: {accuracy_score(target_valid, predictions_valid)}.')\n",
    "print(f'Полнота: {recall_score(target_valid, predictions_valid)}.')\n",
    "print(f'Точность: {precision_score(target_valid, predictions_valid)}.')\n",
    "print(f'F1-мера: {f1_score(target_valid, predictions_valid)}.')"
   ]
  },
  {
   "cell_type": "markdown",
   "metadata": {},
   "source": [
    "Дерево решений"
   ]
  },
  {
   "cell_type": "code",
   "execution_count": 37,
   "metadata": {},
   "outputs": [
    {
     "name": "stdout",
     "output_type": "stream",
     "text": [
      "Accuracy модели на валидационной выборке: 0.7885\n",
      "Полнота: 0.515970515970516.\n",
      "Точность: 0.481651376146789.\n",
      "F1-мера: 0.4982206405693951.\n"
     ]
    }
   ],
   "source": [
    "model = DecisionTreeClassifier(random_state=12345)\n",
    "model.fit(features_train, target_train)\n",
    "predictions_valid = model.predict(features_valid)\n",
    "print(\"Accuracy модели на валидационной выборке:\", accuracy_score(target_valid, predictions_valid))\n",
    "print(f'Полнота: {recall_score(target_valid, predictions_valid)}.')\n",
    "print(f'Точность: {precision_score(target_valid, predictions_valid)}.')\n",
    "print(f'F1-мера: {f1_score(target_valid, predictions_valid)}.')"
   ]
  },
  {
   "cell_type": "markdown",
   "metadata": {},
   "source": [
    "Вывод: F1 далека от 1, нужно дорабатывать модели"
   ]
  },
  {
   "cell_type": "markdown",
   "metadata": {},
   "source": [
    "Придадим объектам редкого класса больший вес c помощью гиперпараметра class_weight"
   ]
  },
  {
   "cell_type": "code",
   "execution_count": 38,
   "metadata": {},
   "outputs": [
    {
     "name": "stdout",
     "output_type": "stream",
     "text": [
      "Accuracy: 0.835.\n",
      "Полнота: 0.6117936117936118.\n",
      "Точность: 0.5914489311163895.\n",
      "F1-мера: 0.6014492753623188.\n"
     ]
    }
   ],
   "source": [
    "model = RandomForestClassifier(n_estimators=10, max_depth=10, random_state=12345, class_weight='balanced') \n",
    "model.fit(features_train, target_train)        \n",
    "predicted_valid = model.predict(features_valid)\n",
    "print(f'Accuracy: {accuracy_score(target_valid, predicted_valid)}.')\n",
    "print(f'Полнота: {recall_score(target_valid, predicted_valid)}.')\n",
    "print(f'Точность: {precision_score(target_valid, predicted_valid)}.')\n",
    "print(f'F1-мера: {f1_score(target_valid, predicted_valid)}.')"
   ]
  },
  {
   "cell_type": "markdown",
   "metadata": {},
   "source": [
    "Посмотрим будет ли разница на логистической регрессии"
   ]
  },
  {
   "cell_type": "code",
   "execution_count": 39,
   "metadata": {},
   "outputs": [
    {
     "name": "stdout",
     "output_type": "stream",
     "text": [
      "Accuracy модели на валидационной выборке: 0.719\n",
      "Полнота: 0.7223587223587223.\n",
      "Точность: 0.39569313593539707.\n",
      "F1-мера: 0.5113043478260869.\n"
     ]
    }
   ],
   "source": [
    "model = LogisticRegression(random_state=12345, solver='lbfgs', max_iter=1000, class_weight='balanced') \n",
    "model.fit(features_train, target_train) \n",
    "predictions_valid = model.predict(features_valid) \n",
    "\n",
    "print(\"Accuracy модели на валидационной выборке:\", accuracy_score(target_valid, predictions_valid))\n",
    "print(f'Полнота: {recall_score(target_valid, predictions_valid)}.')\n",
    "print(f'Точность: {precision_score(target_valid, predictions_valid)}.')\n",
    "print(f'F1-мера: {f1_score(target_valid, predictions_valid)}.')"
   ]
  },
  {
   "cell_type": "markdown",
   "metadata": {},
   "source": [
    "Дерево решений"
   ]
  },
  {
   "cell_type": "code",
   "execution_count": 40,
   "metadata": {},
   "outputs": [
    {
     "name": "stdout",
     "output_type": "stream",
     "text": [
      "Accuracy модели на валидационной выборке: 0.799\n",
      "Полнота: 0.5012285012285013.\n",
      "Точность: 0.5062034739454094.\n",
      "F1-мера: 0.5037037037037037.\n"
     ]
    }
   ],
   "source": [
    "model = DecisionTreeClassifier(random_state=12345, class_weight='balanced')\n",
    "model.fit(features_train, target_train)\n",
    "predictions_valid = model.predict(features_valid)\n",
    "print(\"Accuracy модели на валидационной выборке:\", accuracy_score(target_valid, predictions_valid))\n",
    "print(f'Полнота: {recall_score(target_valid, predictions_valid)}.')\n",
    "print(f'Точность: {precision_score(target_valid, predictions_valid)}.')\n",
    "print(f'F1-мера: {f1_score(target_valid, predictions_valid)}.')"
   ]
  },
  {
   "cell_type": "markdown",
   "metadata": {},
   "source": [
    "Вывод: class_weight параметр со значением balanced улучшил показатели моделей"
   ]
  },
  {
   "cell_type": "markdown",
   "metadata": {},
   "source": [
    "Увеличение выборки, class_weight тоже сохраним"
   ]
  },
  {
   "cell_type": "code",
   "execution_count": 41,
   "metadata": {},
   "outputs": [
    {
     "data": {
      "text/plain": [
       "0    4777\n",
       "1    1223\n",
       "Name: exited, dtype: int64"
      ]
     },
     "execution_count": 41,
     "metadata": {},
     "output_type": "execute_result"
    }
   ],
   "source": [
    "target_train.value_counts()"
   ]
  },
  {
   "cell_type": "code",
   "execution_count": 42,
   "metadata": {},
   "outputs": [
    {
     "data": {
      "text/plain": [
       "3.9059689288634507"
      ]
     },
     "execution_count": 42,
     "metadata": {},
     "output_type": "execute_result"
    }
   ],
   "source": [
    "disbalance = 4777/1223\n",
    "disbalance"
   ]
  },
  {
   "cell_type": "code",
   "execution_count": 43,
   "metadata": {},
   "outputs": [
    {
     "name": "stdout",
     "output_type": "stream",
     "text": [
      "F1: 0.5113043478260869\n"
     ]
    }
   ],
   "source": [
    "def upsample(features, target, repeat):\n",
    "    features_zeros = features[target == 0]\n",
    "    features_ones = features[target == 1]\n",
    "    target_zeros = target[target == 0]\n",
    "    target_ones = target[target == 1]\n",
    "\n",
    "    features_upsampled = pd.concat([features_zeros] + [features_ones] * repeat)\n",
    "    target_upsampled = pd.concat([target_zeros] + [target_ones] * repeat)\n",
    "    \n",
    "    features_upsampled, target_upsampled = shuffle(\n",
    "        features_upsampled, target_upsampled, random_state=12345)\n",
    "    \n",
    "    return features_upsampled, target_upsampled\n",
    "\n",
    "features_upsampled, target_upsampled = upsample(features_train, target_train, 4)\n",
    "\n",
    "model = LogisticRegression(random_state=12345, solver='liblinear', class_weight='balanced')\n",
    "model.fit(features_upsampled, target_upsampled)\n",
    "predicted_valid = model.predict(features_valid) \n",
    "\n",
    "print(\"F1:\", f1_score(target_valid, predicted_valid))"
   ]
  },
  {
   "cell_type": "code",
   "execution_count": 44,
   "metadata": {},
   "outputs": [
    {
     "data": {
      "text/plain": [
       "1    4892\n",
       "0    4777\n",
       "Name: exited, dtype: int64"
      ]
     },
     "execution_count": 44,
     "metadata": {},
     "output_type": "execute_result"
    }
   ],
   "source": [
    "target_upsampled.value_counts()"
   ]
  },
  {
   "cell_type": "markdown",
   "metadata": {},
   "source": [
    "Случайный лес"
   ]
  },
  {
   "cell_type": "code",
   "execution_count": 45,
   "metadata": {},
   "outputs": [
    {
     "name": "stdout",
     "output_type": "stream",
     "text": [
      "F1-мера: 0.5976267529665588.\n"
     ]
    }
   ],
   "source": [
    "model = RandomForestClassifier(random_state=12345, n_estimators=10, max_depth=10, class_weight='balanced') \n",
    "model.fit(features_upsampled, target_upsampled)    \n",
    "predicted_valid = model.predict(features_valid) \n",
    "\n",
    "print(f'F1-мера: {f1_score(target_valid, predicted_valid)}.')"
   ]
  },
  {
   "cell_type": "markdown",
   "metadata": {},
   "source": [
    "Дерево решений"
   ]
  },
  {
   "cell_type": "code",
   "execution_count": 46,
   "metadata": {},
   "outputs": [
    {
     "name": "stdout",
     "output_type": "stream",
     "text": [
      "F1-мера: 0.5072815533980582.\n"
     ]
    }
   ],
   "source": [
    "model = DecisionTreeClassifier(random_state=12345, class_weight='balanced')\n",
    "model.fit(features_upsampled, target_upsampled)\n",
    "predictions_valid = model.predict(features_valid)\n",
    "print(f'F1-мера: {f1_score(target_valid, predictions_valid)}.')"
   ]
  },
  {
   "cell_type": "markdown",
   "metadata": {},
   "source": [
    "Уменьшение выборки"
   ]
  },
  {
   "cell_type": "code",
   "execution_count": 47,
   "metadata": {},
   "outputs": [
    {
     "name": "stdout",
     "output_type": "stream",
     "text": [
      "F1: 0.5100436681222706\n"
     ]
    }
   ],
   "source": [
    "def downsample(features, target, fraction):\n",
    "    features_zeros = features[target == 0]\n",
    "    features_ones = features[target == 1]\n",
    "    target_zeros = target[target == 0]\n",
    "    target_ones = target[target == 1]\n",
    "\n",
    "    features_downsampled = pd.concat(\n",
    "        [features_zeros.sample(frac=fraction, random_state=12345)] + [features_ones])\n",
    "    target_downsampled = pd.concat(\n",
    "        [target_zeros.sample(frac=fraction, random_state=12345)] + [target_ones])\n",
    "    \n",
    "    features_downsampled, target_downsampled = shuffle(\n",
    "        features_downsampled, target_downsampled, random_state=12345)\n",
    "    \n",
    "    return features_downsampled, target_downsampled\n",
    "\n",
    "features_downsampled, target_downsampled = downsample(features_train, target_train, 0.25)\n",
    "\n",
    "model = LogisticRegression(random_state=12345, solver='liblinear', class_weight='balanced')\n",
    "model.fit(features_downsampled, target_downsampled)\n",
    "predicted_valid = model.predict(features_valid) # < напишите код здесь >\n",
    "\n",
    "print(\"F1:\", f1_score(target_valid, predicted_valid))"
   ]
  },
  {
   "cell_type": "code",
   "execution_count": 48,
   "metadata": {},
   "outputs": [
    {
     "data": {
      "text/plain": [
       "1    1223\n",
       "0    1194\n",
       "Name: exited, dtype: int64"
      ]
     },
     "execution_count": 48,
     "metadata": {},
     "output_type": "execute_result"
    }
   ],
   "source": [
    "target_downsampled.value_counts()"
   ]
  },
  {
   "cell_type": "markdown",
   "metadata": {},
   "source": [
    "Случайный лес"
   ]
  },
  {
   "cell_type": "code",
   "execution_count": 49,
   "metadata": {},
   "outputs": [
    {
     "name": "stdout",
     "output_type": "stream",
     "text": [
      "F1-мера: 0.5906542056074766.\n"
     ]
    }
   ],
   "source": [
    "model = RandomForestClassifier(random_state=12345, n_estimators=10, max_depth=10, class_weight='balanced') \n",
    "model.fit(features_downsampled, target_downsampled)    \n",
    "predicted_valid = model.predict(features_valid) \n",
    "\n",
    "print(f'F1-мера: {f1_score(target_valid, predicted_valid)}.')"
   ]
  },
  {
   "cell_type": "markdown",
   "metadata": {},
   "source": [
    "Дерево решений"
   ]
  },
  {
   "cell_type": "code",
   "execution_count": 50,
   "metadata": {},
   "outputs": [
    {
     "name": "stdout",
     "output_type": "stream",
     "text": [
      "F1-мера: 0.488471391972673.\n"
     ]
    }
   ],
   "source": [
    "model = DecisionTreeClassifier(random_state=12345, class_weight='balanced')\n",
    "model.fit(features_downsampled, target_downsampled)\n",
    "predictions_valid = model.predict(features_valid)\n",
    "print(f'F1-мера: {f1_score(target_valid, predictions_valid)}.')"
   ]
  },
  {
   "cell_type": "markdown",
   "metadata": {},
   "source": [
    "Вывод: попробовали разные вариации, лучшее сочетание это случайный лес плюс balanced в class_weight и увеличенная выборка 1 в целевом признаке"
   ]
  },
  {
   "cell_type": "markdown",
   "metadata": {},
   "source": [
    "Изучим AUC-ROC"
   ]
  },
  {
   "cell_type": "code",
   "execution_count": 51,
   "metadata": {},
   "outputs": [
    {
     "name": "stdout",
     "output_type": "stream",
     "text": [
      "Лучшая F1-мера 0.5976267529665588, лучший precision 0.5326923076923077, лучший recall 0.6805896805896806.\n",
      "AUC-ROC: 0.8469586689925672.\n"
     ]
    },
    {
     "data": {
      "image/png": "[encoded data removed]",
      "text/plain": [
       "<Figure size 720x720 with 1 Axes>"
      ]
     },
     "metadata": {
      "needs_background": "light"
     },
     "output_type": "display_data"
    },
    {
     "data": {
      "image/png": "[encoded data removed]",
      "text/plain": [
       "<Figure size 720x720 with 1 Axes>"
      ]
     },
     "metadata": {
      "needs_background": "light"
     },
     "output_type": "display_data"
    }
   ],
   "source": [
    "model = RandomForestClassifier(random_state=12345, n_estimators=10, max_depth=10, class_weight='balanced')\n",
    "model.fit(features_upsampled, target_upsampled)\n",
    "probabilities_valid = model.predict_proba(features_valid)\n",
    "probabilities_one_valid = probabilities_valid[:, 1]\n",
    "\n",
    "\n",
    "best_f1 = 0\n",
    "for threshold in np.arange(0, 0.95, 0.05):\n",
    "    predicted_valid = probabilities_one_valid > threshold\n",
    "    precision = precision_score(target_valid, predicted_valid)\n",
    "    recall = recall_score(target_valid, predicted_valid)\n",
    "    f1 = f1_score(target_valid, predicted_valid)\n",
    "    if f1 > best_f1:\n",
    "        best_f1 = f1\n",
    "        best_precision = precision\n",
    "        best_recall = recall\n",
    "    \n",
    "print(f'Лучшая F1-мера {best_f1}, лучший precision {best_precision}, лучший recall {best_recall}.')\n",
    "auc_roc = roc_auc_score(target_valid, probabilities_one_valid) \n",
    "print(f'AUC-ROC: {auc_roc}.')\n",
    "\n",
    "precision, recall, thresholds = precision_recall_curve(target_valid, probabilities_one_valid)    \n",
    "plt.figure(figsize=(10, 10))\n",
    "plt.step(recall, precision, where='post')\n",
    "plt.xlabel('Recall')\n",
    "plt.ylabel('Precision')\n",
    "plt.ylim([0.0, 1.05])\n",
    "plt.xlim([0.0, 1.0])\n",
    "plt.title('PR curve')\n",
    "plt.show() \n",
    "\n",
    "fpr, tpr, thresholds = roc_curve(target_valid, probabilities_one_valid) \n",
    "plt.figure(figsize=(10, 10))\n",
    "plt.plot(fpr, tpr, linestyle='-')\n",
    "plt.plot([0, 1], [0, 1], linestyle='--')\n",
    "plt.xlim([0.0, 1.0])\n",
    "plt.ylim([0.0, 1.0])\n",
    "plt.xlabel('False Positive Rate')\n",
    "plt.ylabel('True Positive Rate')\n",
    "plt.title('ROC-curve')\n",
    "plt.show()"
   ]
  },
  {
   "cell_type": "code",
   "execution_count": 52,
   "metadata": {},
   "outputs": [
    {
     "name": "stdout",
     "output_type": "stream",
     "text": [
      "Лучшая F1-мера 0.5976267529665588, лучший precision 0.5326923076923077, лучший recall 0.6805896805896806.\n",
      "AUC-ROC: 0.7918072155360292.\n"
     ]
    },
    {
     "data": {
      "image/png": "[encoded data removed]",
      "text/plain": [
       "<Figure size 720x720 with 1 Axes>"
      ]
     },
     "metadata": {
      "needs_background": "light"
     },
     "output_type": "display_data"
    },
    {
     "data": {
      "image/png": "[encoded data removed]",
      "text/plain": [
       "<Figure size 720x720 with 1 Axes>"
      ]
     },
     "metadata": {
      "needs_background": "light"
     },
     "output_type": "display_data"
    }
   ],
   "source": [
    "model = LogisticRegression(random_state=12345, solver='liblinear', class_weight='balanced')\n",
    "model.fit(features_upsampled, target_upsampled)\n",
    "probabilities_valid = model.predict_proba(features_valid)\n",
    "probabilities_one_valid = probabilities_valid[:, 1]\n",
    "\n",
    "for threshold in np.arange(0, 0.95, 0.05):\n",
    "    predicted_valid = probabilities_one_valid > threshold\n",
    "    precision = precision_score(target_valid, predicted_valid)\n",
    "    recall = recall_score(target_valid, predicted_valid)\n",
    "    f1 = f1_score(target_valid, predicted_valid)\n",
    "    if f1 > best_f1:\n",
    "        best_f1 = f1\n",
    "        best_precision = precision\n",
    "        best_recall = recall\n",
    "    \n",
    "print(f'Лучшая F1-мера {best_f1}, лучший precision {best_precision}, лучший recall {best_recall}.')\n",
    "auc_roc = roc_auc_score(target_valid, probabilities_one_valid) \n",
    "print(f'AUC-ROC: {auc_roc}.')\n",
    "\n",
    "precision, recall, thresholds = precision_recall_curve(target_valid, probabilities_one_valid)    \n",
    "plt.figure(figsize=(10, 10))\n",
    "plt.step(recall, precision, where='post')\n",
    "plt.xlabel('Recall')\n",
    "plt.ylabel('Precision')\n",
    "plt.ylim([0.0, 1.05])\n",
    "plt.xlim([0.0, 1.0])\n",
    "plt.title('PR curve')\n",
    "plt.show() \n",
    "\n",
    "fpr, tpr, thresholds = roc_curve(target_valid, probabilities_one_valid) \n",
    "plt.figure(figsize=(10, 10))\n",
    "plt.plot(fpr, tpr, linestyle='-')\n",
    "plt.plot([0, 1], [0, 1], linestyle='--')\n",
    "plt.xlim([0.0, 1.0])\n",
    "plt.ylim([0.0, 1.0])\n",
    "plt.xlabel('False Positive Rate')\n",
    "plt.ylabel('True Positive Rate')\n",
    "plt.title('ROC-curve')\n",
    "plt.show()"
   ]
  },
  {
   "cell_type": "markdown",
   "metadata": {},
   "source": [
    "Дерево решений"
   ]
  },
  {
   "cell_type": "code",
   "execution_count": 53,
   "metadata": {},
   "outputs": [
    {
     "name": "stdout",
     "output_type": "stream",
     "text": [
      "Лучшая F1-мера 0.5072815533980582, лучший precision 0.5011990407673861, лучший recall 0.5135135135135135.\n",
      "AUC-ROC: 0.6914711321490983.\n"
     ]
    },
    {
     "data": {
      "image/png": "[encoded data removed]",
      "text/plain": [
       "<Figure size 720x720 with 1 Axes>"
      ]
     },
     "metadata": {
      "needs_background": "light"
     },
     "output_type": "display_data"
    },
    {
     "data": {
      "image/png": "[encoded data removed]",
      "text/plain": [
       "<Figure size 720x720 with 1 Axes>"
      ]
     },
     "metadata": {
      "needs_background": "light"
     },
     "output_type": "display_data"
    }
   ],
   "source": [
    "model = DecisionTreeClassifier(random_state=12345, class_weight='balanced')\n",
    "model.fit(features_upsampled, target_upsampled)\n",
    "probabilities_valid = model.predict_proba(features_valid)\n",
    "probabilities_one_valid = probabilities_valid[:, 1]\n",
    "\n",
    "\n",
    "best_f1 = 0\n",
    "for threshold in np.arange(0, 0.95, 0.05):\n",
    "    predicted_valid = probabilities_one_valid > threshold\n",
    "    precision = precision_score(target_valid, predicted_valid)\n",
    "    recall = recall_score(target_valid, predicted_valid)\n",
    "    f1 = f1_score(target_valid, predicted_valid)\n",
    "    if f1 > best_f1:\n",
    "        best_f1 = f1\n",
    "        best_precision = precision\n",
    "        best_recall = recall\n",
    "    \n",
    "print(f'Лучшая F1-мера {best_f1}, лучший precision {best_precision}, лучший recall {best_recall}.')\n",
    "auc_roc = roc_auc_score(target_valid, probabilities_one_valid) \n",
    "print(f'AUC-ROC: {auc_roc}.')\n",
    "\n",
    "precision, recall, thresholds = precision_recall_curve(target_valid, probabilities_one_valid)    \n",
    "plt.figure(figsize=(10, 10))\n",
    "plt.step(recall, precision, where='post')\n",
    "plt.xlabel('Recall')\n",
    "plt.ylabel('Precision')\n",
    "plt.ylim([0.0, 1.05])\n",
    "plt.xlim([0.0, 1.0])\n",
    "plt.title('PR curve')\n",
    "plt.show() \n",
    "\n",
    "fpr, tpr, thresholds = roc_curve(target_valid, probabilities_one_valid) \n",
    "plt.figure(figsize=(10, 10))\n",
    "plt.plot(fpr, tpr, linestyle='-')\n",
    "plt.plot([0, 1], [0, 1], linestyle='--')\n",
    "plt.xlim([0.0, 1.0])\n",
    "plt.ylim([0.0, 1.0])\n",
    "plt.xlabel('False Positive Rate')\n",
    "plt.ylabel('True Positive Rate')\n",
    "plt.title('ROC-curve')\n",
    "plt.show()"
   ]
  },
  {
   "cell_type": "markdown",
   "metadata": {},
   "source": [
    "Вывод: с разными порогами посмотрели и выбрали лучшее по показателям F1-меры, графически изобразили PR-кривую и ROC-кривую. По ROC-кривой видно, что наши модели лучше случайной модели. Лучшие показатели у случайного леса."
   ]
  },
  {
   "cell_type": "markdown",
   "metadata": {},
   "source": [
    "Вывод по разделу: Попробовали разные подходы, увеличить выборку с нужным целевым значением, уменьшить отрицaтeльные признаки, попробовали гиперпараметр class_weight, стандартизировали данные. Из всего лучший результат показало увеличение выборки на случайном лесе. В тестировании будет использовать эту модель."
   ]
  },
  {
   "cell_type": "markdown",
   "metadata": {},
   "source": [
    "## Тестирование модели"
   ]
  },
  {
   "cell_type": "markdown",
   "metadata": {},
   "source": [
    "Проведем тестирование модели случайный лес с большей F1-мерой"
   ]
  },
  {
   "cell_type": "code",
   "execution_count": 54,
   "metadata": {},
   "outputs": [
    {
     "name": "stdout",
     "output_type": "stream",
     "text": [
      "F1-мера: 0.5988950276243094.\n",
      "AUC-ROC: 0.8518919535868689.\n"
     ]
    },
    {
     "data": {
      "image/png": "[encoded data removed]",
      "text/plain": [
       "<Figure size 720x720 with 1 Axes>"
      ]
     },
     "metadata": {
      "needs_background": "light"
     },
     "output_type": "display_data"
    }
   ],
   "source": [
    "model = RandomForestClassifier(random_state=12345, n_estimators=10, max_depth=10, class_weight='balanced')\n",
    "model.fit(features_upsampled, target_upsampled)\n",
    "predicted_test = model.predict(features_test)\n",
    "probabilities_test = model.predict_proba(features_test)\n",
    "probabilities_one_test = probabilities_test[:, 1]\n",
    "auc_roc = roc_auc_score(target_test, probabilities_one_test)\n",
    "\n",
    "print(f'F1-мера: {f1_score(target_test, predicted_test)}.')\n",
    "print(f'AUC-ROC: {auc_roc}.')\n",
    "\n",
    "fpr, tpr, thresholds = roc_curve(target_test, probabilities_one_test) \n",
    "plt.figure(figsize=(10, 10))\n",
    "plt.plot(fpr, tpr, linestyle='-')\n",
    "plt.plot([0, 1], [0, 1], linestyle='--')\n",
    "plt.xlim([0.0, 1.0])\n",
    "plt.ylim([0.0, 1.0])\n",
    "plt.xlabel('False Positive Rate')\n",
    "plt.ylabel('True Positive Rate')\n",
    "plt.title('ROC-curve')\n",
    "plt.show()"
   ]
  },
  {
   "cell_type": "markdown",
   "metadata": {},
   "source": [
    "Вывод: удалось достигнуть F1-меры больше 0.59 на тестовой выборке"
   ]
  },
  {
   "cell_type": "markdown",
   "metadata": {},
   "source": [
    "Общий вывод: загрузили данные, рассмотрели их, провели предобработку данных: поработали с названиями столбцов, с пропусками, посмотрели какие есть данные, есть ли дубликаты, с помощью OHE обработали столбцы с категориальными данными, убрали столбцы ненужные для анализа, разделили выборки на обучающую, валидационную и тестовую, построили модели не учитывая дисбаланс данных, стандартизировали данные, построили модели, увеличили и уменьшали выборки в целевом признаке, поработали с гиперпараметром class_weight, посмотрели на PR-кривую и ROC-кривую. Самую лучшую модель протестировали на тестовой выборке."
   ]
  }
 ],
 "metadata": {
  "ExecuteTimeLog": [
   {
    "duration": 810,
    "start_time": "2023-03-19T12:33:47.077Z"
   },
   {
    "duration": 11,
    "start_time": "2023-03-19T12:34:24.315Z"
   },
   {
    "duration": 31,
    "start_time": "2023-03-19T12:34:36.535Z"
   },
   {
    "duration": 52,
    "start_time": "2023-03-19T12:34:56.861Z"
   },
   {
    "duration": 1975,
    "start_time": "2023-03-19T12:35:12.197Z"
   },
   {
    "duration": 7,
    "start_time": "2023-03-19T13:49:04.512Z"
   },
   {
    "duration": 46,
    "start_time": "2023-03-19T13:49:28.411Z"
   },
   {
    "duration": 6,
    "start_time": "2023-03-19T13:54:34.096Z"
   },
   {
    "duration": 6,
    "start_time": "2023-03-19T13:55:03.417Z"
   },
   {
    "duration": 3,
    "start_time": "2023-03-19T13:56:38.814Z"
   },
   {
    "duration": 3,
    "start_time": "2023-03-19T13:57:04.413Z"
   },
   {
    "duration": 3,
    "start_time": "2023-03-19T13:58:26.476Z"
   },
   {
    "duration": 4,
    "start_time": "2023-03-19T13:58:35.928Z"
   },
   {
    "duration": 639,
    "start_time": "2023-03-19T14:01:15.684Z"
   },
   {
    "duration": 4,
    "start_time": "2023-03-19T14:01:59.624Z"
   },
   {
    "duration": 10,
    "start_time": "2023-03-19T14:58:35.837Z"
   },
   {
    "duration": 4,
    "start_time": "2023-03-19T14:58:37.595Z"
   },
   {
    "duration": 212,
    "start_time": "2023-03-19T15:00:47.010Z"
   },
   {
    "duration": 8,
    "start_time": "2023-03-19T15:01:40.777Z"
   },
   {
    "duration": 13,
    "start_time": "2023-03-19T15:02:03.556Z"
   },
   {
    "duration": 4,
    "start_time": "2023-03-19T15:02:55.075Z"
   },
   {
    "duration": 6,
    "start_time": "2023-03-19T15:02:58.412Z"
   },
   {
    "duration": 744,
    "start_time": "2023-03-19T15:03:09.017Z"
   },
   {
    "duration": 49,
    "start_time": "2023-03-19T15:03:16.879Z"
   },
   {
    "duration": 15,
    "start_time": "2023-03-19T15:03:16.930Z"
   },
   {
    "duration": 15,
    "start_time": "2023-03-19T15:03:16.946Z"
   },
   {
    "duration": 46,
    "start_time": "2023-03-19T15:03:16.962Z"
   },
   {
    "duration": 1370,
    "start_time": "2023-03-19T15:03:17.011Z"
   },
   {
    "duration": 7,
    "start_time": "2023-03-19T15:03:18.383Z"
   },
   {
    "duration": 13,
    "start_time": "2023-03-19T15:03:18.391Z"
   },
   {
    "duration": 5,
    "start_time": "2023-03-19T15:03:18.406Z"
   },
   {
    "duration": 30,
    "start_time": "2023-03-19T15:03:18.412Z"
   },
   {
    "duration": 5,
    "start_time": "2023-03-19T15:03:18.443Z"
   },
   {
    "duration": 5,
    "start_time": "2023-03-19T15:03:18.450Z"
   },
   {
    "duration": 9,
    "start_time": "2023-03-19T15:03:18.456Z"
   },
   {
    "duration": 22,
    "start_time": "2023-03-19T15:03:18.466Z"
   },
   {
    "duration": 11,
    "start_time": "2023-03-19T15:03:18.490Z"
   },
   {
    "duration": 5,
    "start_time": "2023-03-19T15:03:18.502Z"
   },
   {
    "duration": 5,
    "start_time": "2023-03-19T15:03:22.925Z"
   },
   {
    "duration": 12,
    "start_time": "2023-03-19T15:03:25.728Z"
   },
   {
    "duration": 6,
    "start_time": "2023-03-19T15:04:15.027Z"
   },
   {
    "duration": 4,
    "start_time": "2023-03-19T15:04:27.210Z"
   },
   {
    "duration": 23,
    "start_time": "2023-03-19T15:14:01.367Z"
   },
   {
    "duration": 28,
    "start_time": "2023-03-19T15:14:26.576Z"
   },
   {
    "duration": 20,
    "start_time": "2023-03-19T15:14:53.013Z"
   },
   {
    "duration": 37,
    "start_time": "2023-03-19T15:28:02.203Z"
   },
   {
    "duration": 12,
    "start_time": "2023-03-19T15:28:02.242Z"
   },
   {
    "duration": 13,
    "start_time": "2023-03-19T15:28:02.370Z"
   },
   {
    "duration": 35,
    "start_time": "2023-03-19T15:28:02.435Z"
   },
   {
    "duration": 1435,
    "start_time": "2023-03-19T15:28:02.473Z"
   },
   {
    "duration": 8,
    "start_time": "2023-03-19T15:28:03.910Z"
   },
   {
    "duration": 33,
    "start_time": "2023-03-19T15:28:03.920Z"
   },
   {
    "duration": 7,
    "start_time": "2023-03-19T15:28:03.955Z"
   },
   {
    "duration": 8,
    "start_time": "2023-03-19T15:28:03.964Z"
   },
   {
    "duration": 3,
    "start_time": "2023-03-19T15:28:03.974Z"
   },
   {
    "duration": 7,
    "start_time": "2023-03-19T15:28:03.979Z"
   },
   {
    "duration": 5,
    "start_time": "2023-03-19T15:28:03.988Z"
   },
   {
    "duration": 46,
    "start_time": "2023-03-19T15:28:03.995Z"
   },
   {
    "duration": 11,
    "start_time": "2023-03-19T15:28:04.044Z"
   },
   {
    "duration": 5,
    "start_time": "2023-03-19T15:28:13.902Z"
   },
   {
    "duration": 56,
    "start_time": "2023-03-19T15:28:17.473Z"
   },
   {
    "duration": 0,
    "start_time": "2023-03-19T15:30:00.697Z"
   },
   {
    "duration": 0,
    "start_time": "2023-03-19T15:32:32.441Z"
   },
   {
    "duration": 20145,
    "start_time": "2023-03-19T15:34:46.014Z"
   },
   {
    "duration": 29,
    "start_time": "2023-03-19T15:37:14.622Z"
   },
   {
    "duration": 6,
    "start_time": "2023-03-19T15:38:19.071Z"
   },
   {
    "duration": 18,
    "start_time": "2023-03-19T15:38:36.222Z"
   },
   {
    "duration": 24,
    "start_time": "2023-03-19T15:40:02.428Z"
   },
   {
    "duration": 5,
    "start_time": "2023-03-19T15:40:04.544Z"
   },
   {
    "duration": 11,
    "start_time": "2023-03-19T15:40:20.018Z"
   },
   {
    "duration": 30,
    "start_time": "2023-03-19T15:40:28.104Z"
   },
   {
    "duration": 37,
    "start_time": "2023-03-19T15:41:01.348Z"
   },
   {
    "duration": 11,
    "start_time": "2023-03-19T15:41:01.387Z"
   },
   {
    "duration": 54,
    "start_time": "2023-03-19T15:41:01.399Z"
   },
   {
    "duration": 43,
    "start_time": "2023-03-19T15:41:01.455Z"
   },
   {
    "duration": 1428,
    "start_time": "2023-03-19T15:41:01.499Z"
   },
   {
    "duration": 17,
    "start_time": "2023-03-19T15:41:02.929Z"
   },
   {
    "duration": 20,
    "start_time": "2023-03-19T15:41:02.948Z"
   },
   {
    "duration": 33,
    "start_time": "2023-03-19T15:41:02.971Z"
   },
   {
    "duration": 12,
    "start_time": "2023-03-19T15:41:03.006Z"
   },
   {
    "duration": 3,
    "start_time": "2023-03-19T15:41:03.019Z"
   },
   {
    "duration": 13,
    "start_time": "2023-03-19T15:41:03.023Z"
   },
   {
    "duration": 16,
    "start_time": "2023-03-19T15:41:03.037Z"
   },
   {
    "duration": 12,
    "start_time": "2023-03-19T15:41:03.055Z"
   },
   {
    "duration": 17,
    "start_time": "2023-03-19T15:41:03.068Z"
   },
   {
    "duration": 4,
    "start_time": "2023-03-19T15:41:03.086Z"
   },
   {
    "duration": 16,
    "start_time": "2023-03-19T15:41:03.091Z"
   },
   {
    "duration": 13,
    "start_time": "2023-03-19T15:41:03.109Z"
   },
   {
    "duration": 31,
    "start_time": "2023-03-19T15:41:03.124Z"
   },
   {
    "duration": 5,
    "start_time": "2023-03-19T15:41:03.157Z"
   },
   {
    "duration": 12,
    "start_time": "2023-03-19T15:41:11.287Z"
   },
   {
    "duration": 20,
    "start_time": "2023-03-19T15:41:15.281Z"
   },
   {
    "duration": 38,
    "start_time": "2023-03-19T15:42:27.843Z"
   },
   {
    "duration": 12,
    "start_time": "2023-03-19T15:42:27.883Z"
   },
   {
    "duration": 15,
    "start_time": "2023-03-19T15:42:27.896Z"
   },
   {
    "duration": 43,
    "start_time": "2023-03-19T15:42:27.914Z"
   },
   {
    "duration": 1529,
    "start_time": "2023-03-19T15:42:27.959Z"
   },
   {
    "duration": 7,
    "start_time": "2023-03-19T15:42:29.489Z"
   },
   {
    "duration": 13,
    "start_time": "2023-03-19T15:42:29.497Z"
   },
   {
    "duration": 5,
    "start_time": "2023-03-19T15:42:29.512Z"
   },
   {
    "duration": 7,
    "start_time": "2023-03-19T15:42:29.539Z"
   },
   {
    "duration": 3,
    "start_time": "2023-03-19T15:42:29.547Z"
   },
   {
    "duration": 4,
    "start_time": "2023-03-19T15:42:29.551Z"
   },
   {
    "duration": 3,
    "start_time": "2023-03-19T15:42:29.557Z"
   },
   {
    "duration": 4,
    "start_time": "2023-03-19T15:42:29.562Z"
   },
   {
    "duration": 10,
    "start_time": "2023-03-19T15:42:29.568Z"
   },
   {
    "duration": 4,
    "start_time": "2023-03-19T15:42:37.054Z"
   },
   {
    "duration": 186,
    "start_time": "2023-03-19T15:42:39.700Z"
   },
   {
    "duration": 19,
    "start_time": "2023-03-19T15:42:42.771Z"
   },
   {
    "duration": 18,
    "start_time": "2023-03-19T15:43:08.855Z"
   },
   {
    "duration": 19961,
    "start_time": "2023-03-19T15:43:22.836Z"
   },
   {
    "duration": 14,
    "start_time": "2023-03-19T15:45:52.901Z"
   },
   {
    "duration": 20,
    "start_time": "2023-03-19T15:46:35.059Z"
   },
   {
    "duration": 14,
    "start_time": "2023-03-19T15:48:46.494Z"
   },
   {
    "duration": 15,
    "start_time": "2023-03-19T15:48:57.518Z"
   },
   {
    "duration": 119,
    "start_time": "2023-03-19T15:49:17.678Z"
   },
   {
    "duration": 938,
    "start_time": "2023-03-19T16:43:28.299Z"
   },
   {
    "duration": 37,
    "start_time": "2023-03-19T16:44:25.694Z"
   },
   {
    "duration": 13,
    "start_time": "2023-03-19T16:44:25.733Z"
   },
   {
    "duration": 17,
    "start_time": "2023-03-19T16:44:25.747Z"
   },
   {
    "duration": 37,
    "start_time": "2023-03-19T16:44:25.766Z"
   },
   {
    "duration": 1831,
    "start_time": "2023-03-19T16:44:25.805Z"
   },
   {
    "duration": 11,
    "start_time": "2023-03-19T16:44:27.641Z"
   },
   {
    "duration": 15,
    "start_time": "2023-03-19T16:44:27.655Z"
   },
   {
    "duration": 6,
    "start_time": "2023-03-19T16:44:27.671Z"
   },
   {
    "duration": 11,
    "start_time": "2023-03-19T16:44:27.679Z"
   },
   {
    "duration": 11,
    "start_time": "2023-03-19T16:44:27.691Z"
   },
   {
    "duration": 5,
    "start_time": "2023-03-19T16:44:27.703Z"
   },
   {
    "duration": 9,
    "start_time": "2023-03-19T16:44:27.709Z"
   },
   {
    "duration": 6,
    "start_time": "2023-03-19T16:44:27.740Z"
   },
   {
    "duration": 221,
    "start_time": "2023-03-19T16:44:31.323Z"
   },
   {
    "duration": 17,
    "start_time": "2023-03-19T16:44:35.818Z"
   },
   {
    "duration": 122,
    "start_time": "2023-03-19T16:44:48.758Z"
   },
   {
    "duration": 5,
    "start_time": "2023-03-19T16:44:58.496Z"
   },
   {
    "duration": 942,
    "start_time": "2023-03-19T16:45:08.734Z"
   },
   {
    "duration": 554,
    "start_time": "2023-03-19T19:00:04.511Z"
   },
   {
    "duration": 15,
    "start_time": "2023-03-19T19:00:08.577Z"
   },
   {
    "duration": 22,
    "start_time": "2023-03-19T19:00:11.679Z"
   },
   {
    "duration": 43,
    "start_time": "2023-03-19T19:00:15.016Z"
   },
   {
    "duration": 2199,
    "start_time": "2023-03-19T19:00:18.196Z"
   },
   {
    "duration": 9,
    "start_time": "2023-03-19T19:00:29.743Z"
   },
   {
    "duration": 51,
    "start_time": "2023-03-19T19:00:32.716Z"
   },
   {
    "duration": 78,
    "start_time": "2023-03-19T19:01:50.200Z"
   },
   {
    "duration": 30,
    "start_time": "2023-03-19T19:01:58.814Z"
   },
   {
    "duration": 5,
    "start_time": "2023-03-19T19:02:40.231Z"
   },
   {
    "duration": 1198,
    "start_time": "2023-03-19T19:02:59.056Z"
   },
   {
    "duration": 1294,
    "start_time": "2023-03-19T19:03:23.509Z"
   },
   {
    "duration": 1492,
    "start_time": "2023-03-19T19:04:15.504Z"
   },
   {
    "duration": 27,
    "start_time": "2023-03-19T19:06:08.505Z"
   },
   {
    "duration": 12,
    "start_time": "2023-03-19T19:06:39.391Z"
   },
   {
    "duration": 11,
    "start_time": "2023-03-19T19:06:56.643Z"
   },
   {
    "duration": 12,
    "start_time": "2023-03-19T19:07:05.529Z"
   },
   {
    "duration": 51,
    "start_time": "2023-03-19T19:08:54.415Z"
   },
   {
    "duration": 23,
    "start_time": "2023-03-19T19:08:56.026Z"
   },
   {
    "duration": 24,
    "start_time": "2023-03-19T19:08:59.006Z"
   },
   {
    "duration": 46,
    "start_time": "2023-03-19T19:09:02.176Z"
   },
   {
    "duration": 1765,
    "start_time": "2023-03-19T19:09:05.645Z"
   },
   {
    "duration": 7,
    "start_time": "2023-03-19T19:09:11.146Z"
   },
   {
    "duration": 19,
    "start_time": "2023-03-19T19:09:21.825Z"
   },
   {
    "duration": 31,
    "start_time": "2023-03-19T19:09:35.124Z"
   },
   {
    "duration": 8,
    "start_time": "2023-03-19T19:11:01.861Z"
   },
   {
    "duration": 7,
    "start_time": "2023-03-19T19:12:21.357Z"
   },
   {
    "duration": 12,
    "start_time": "2023-03-19T19:12:35.081Z"
   },
   {
    "duration": 9,
    "start_time": "2023-03-19T19:12:44.908Z"
   },
   {
    "duration": 8,
    "start_time": "2023-03-19T19:12:50.239Z"
   },
   {
    "duration": 8,
    "start_time": "2023-03-19T19:15:41.755Z"
   },
   {
    "duration": 22,
    "start_time": "2023-03-19T19:17:25.866Z"
   },
   {
    "duration": 27,
    "start_time": "2023-03-19T19:19:13.710Z"
   },
   {
    "duration": 5,
    "start_time": "2023-03-19T19:26:25.449Z"
   },
   {
    "duration": 21,
    "start_time": "2023-03-19T19:26:29.028Z"
   },
   {
    "duration": 3,
    "start_time": "2023-03-19T19:26:34.247Z"
   },
   {
    "duration": 5,
    "start_time": "2023-03-19T19:26:36.800Z"
   },
   {
    "duration": 3,
    "start_time": "2023-03-19T19:26:40.530Z"
   },
   {
    "duration": 6,
    "start_time": "2023-03-19T19:26:42.793Z"
   },
   {
    "duration": 202,
    "start_time": "2023-03-19T19:26:51.441Z"
   },
   {
    "duration": 28,
    "start_time": "2023-03-19T19:26:54.387Z"
   },
   {
    "duration": 999,
    "start_time": "2023-03-19T19:27:09.239Z"
   },
   {
    "duration": 5,
    "start_time": "2023-03-19T19:27:12.334Z"
   },
   {
    "duration": 1419,
    "start_time": "2023-03-19T19:27:16.375Z"
   },
   {
    "duration": 17,
    "start_time": "2023-03-19T20:16:23.884Z"
   },
   {
    "duration": 13,
    "start_time": "2023-03-19T20:16:44.781Z"
   },
   {
    "duration": 19,
    "start_time": "2023-03-19T20:16:46.882Z"
   },
   {
    "duration": 41,
    "start_time": "2023-03-19T20:16:49.439Z"
   },
   {
    "duration": 1601,
    "start_time": "2023-03-19T20:16:52.075Z"
   },
   {
    "duration": 10,
    "start_time": "2023-03-19T20:16:56.806Z"
   },
   {
    "duration": 15,
    "start_time": "2023-03-19T20:16:59.280Z"
   },
   {
    "duration": 8,
    "start_time": "2023-03-19T20:17:03.127Z"
   },
   {
    "duration": 21,
    "start_time": "2023-03-19T20:17:08.579Z"
   },
   {
    "duration": 5,
    "start_time": "2023-03-19T20:17:11.479Z"
   },
   {
    "duration": 9,
    "start_time": "2023-03-19T20:17:13.782Z"
   },
   {
    "duration": 4,
    "start_time": "2023-03-19T20:17:16.273Z"
   },
   {
    "duration": 6,
    "start_time": "2023-03-19T20:17:18.144Z"
   },
   {
    "duration": 4,
    "start_time": "2023-03-19T20:17:19.980Z"
   },
   {
    "duration": 4,
    "start_time": "2023-03-19T20:17:22.856Z"
   },
   {
    "duration": 237,
    "start_time": "2023-03-19T20:17:25.114Z"
   },
   {
    "duration": 22,
    "start_time": "2023-03-19T20:17:27.057Z"
   },
   {
    "duration": 157,
    "start_time": "2023-03-19T20:17:29.884Z"
   },
   {
    "duration": 5,
    "start_time": "2023-03-19T20:17:32.479Z"
   },
   {
    "duration": 1332,
    "start_time": "2023-03-19T20:17:38.579Z"
   },
   {
    "duration": 66,
    "start_time": "2023-03-19T20:18:00.464Z"
   },
   {
    "duration": 597,
    "start_time": "2023-03-20T12:44:18.871Z"
   },
   {
    "duration": 16,
    "start_time": "2023-03-20T12:44:23.483Z"
   },
   {
    "duration": 23,
    "start_time": "2023-03-20T12:44:26.274Z"
   },
   {
    "duration": 53,
    "start_time": "2023-03-20T12:44:29.133Z"
   },
   {
    "duration": 1995,
    "start_time": "2023-03-20T12:44:32.239Z"
   },
   {
    "duration": 10,
    "start_time": "2023-03-20T12:44:37.628Z"
   },
   {
    "duration": 60,
    "start_time": "2023-03-20T12:44:40.344Z"
   },
   {
    "duration": 8,
    "start_time": "2023-03-20T12:44:46.681Z"
   },
   {
    "duration": 25,
    "start_time": "2023-03-20T12:44:48.774Z"
   },
   {
    "duration": 5,
    "start_time": "2023-03-20T12:44:53.118Z"
   },
   {
    "duration": 9,
    "start_time": "2023-03-20T12:44:57.788Z"
   },
   {
    "duration": 4,
    "start_time": "2023-03-20T12:45:00.929Z"
   },
   {
    "duration": 4,
    "start_time": "2023-03-20T12:45:27.456Z"
   },
   {
    "duration": 3,
    "start_time": "2023-03-20T12:45:30.312Z"
   },
   {
    "duration": 4,
    "start_time": "2023-03-20T12:45:32.644Z"
   },
   {
    "duration": 204,
    "start_time": "2023-03-20T12:45:35.093Z"
   },
   {
    "duration": 23,
    "start_time": "2023-03-20T12:45:37.234Z"
   },
   {
    "duration": 886,
    "start_time": "2023-03-20T12:45:47.655Z"
   },
   {
    "duration": 5,
    "start_time": "2023-03-20T12:45:50.859Z"
   },
   {
    "duration": 1193,
    "start_time": "2023-03-20T12:45:55.757Z"
   },
   {
    "duration": 528,
    "start_time": "2023-03-20T17:34:27.334Z"
   },
   {
    "duration": 14,
    "start_time": "2023-03-20T17:34:29.465Z"
   },
   {
    "duration": 26,
    "start_time": "2023-03-20T17:34:31.738Z"
   },
   {
    "duration": 45,
    "start_time": "2023-03-20T17:34:34.004Z"
   },
   {
    "duration": 2256,
    "start_time": "2023-03-20T17:34:36.682Z"
   },
   {
    "duration": 13,
    "start_time": "2023-03-20T17:34:42.237Z"
   },
   {
    "duration": 55,
    "start_time": "2023-03-20T17:34:45.306Z"
   },
   {
    "duration": 9,
    "start_time": "2023-03-20T17:34:48.486Z"
   },
   {
    "duration": 34,
    "start_time": "2023-03-20T17:34:50.680Z"
   },
   {
    "duration": 7,
    "start_time": "2023-03-20T17:34:53.190Z"
   },
   {
    "duration": 9,
    "start_time": "2023-03-20T17:34:55.818Z"
   },
   {
    "duration": 3,
    "start_time": "2023-03-20T17:34:58.605Z"
   },
   {
    "duration": 4,
    "start_time": "2023-03-20T17:35:00.347Z"
   },
   {
    "duration": 3,
    "start_time": "2023-03-20T17:35:02.737Z"
   },
   {
    "duration": 5,
    "start_time": "2023-03-20T17:35:05.678Z"
   },
   {
    "duration": 203,
    "start_time": "2023-03-20T17:35:07.790Z"
   },
   {
    "duration": 19,
    "start_time": "2023-03-20T17:35:10.582Z"
   },
   {
    "duration": 929,
    "start_time": "2023-03-20T17:35:33.401Z"
   },
   {
    "duration": 5,
    "start_time": "2023-03-20T17:35:35.980Z"
   },
   {
    "duration": 7,
    "start_time": "2023-03-20T17:35:58.721Z"
   },
   {
    "duration": 1191,
    "start_time": "2023-03-20T17:36:18.882Z"
   },
   {
    "duration": 6889,
    "start_time": "2023-03-20T17:37:25.782Z"
   },
   {
    "duration": 5336,
    "start_time": "2023-03-20T17:38:15.504Z"
   },
   {
    "duration": 6,
    "start_time": "2023-03-20T17:38:34.996Z"
   },
   {
    "duration": 45,
    "start_time": "2023-03-20T17:40:50.789Z"
   },
   {
    "duration": 7349,
    "start_time": "2023-03-20T18:00:01.384Z"
   },
   {
    "duration": 7178,
    "start_time": "2023-03-20T18:01:35.438Z"
   },
   {
    "duration": 7058,
    "start_time": "2023-03-20T18:07:25.716Z"
   },
   {
    "duration": 39,
    "start_time": "2023-03-20T18:10:07.475Z"
   },
   {
    "duration": 12,
    "start_time": "2023-03-20T18:10:07.516Z"
   },
   {
    "duration": 16,
    "start_time": "2023-03-20T18:10:07.530Z"
   },
   {
    "duration": 46,
    "start_time": "2023-03-20T18:10:07.547Z"
   },
   {
    "duration": 1469,
    "start_time": "2023-03-20T18:10:07.609Z"
   },
   {
    "duration": 7,
    "start_time": "2023-03-20T18:10:09.079Z"
   },
   {
    "duration": 30,
    "start_time": "2023-03-20T18:10:09.088Z"
   },
   {
    "duration": 6,
    "start_time": "2023-03-20T18:10:09.120Z"
   },
   {
    "duration": 48,
    "start_time": "2023-03-20T18:10:09.128Z"
   },
   {
    "duration": 6,
    "start_time": "2023-03-20T18:10:09.185Z"
   },
   {
    "duration": 11,
    "start_time": "2023-03-20T18:10:09.193Z"
   },
   {
    "duration": 3,
    "start_time": "2023-03-20T18:10:09.210Z"
   },
   {
    "duration": 6,
    "start_time": "2023-03-20T18:10:09.215Z"
   },
   {
    "duration": 4,
    "start_time": "2023-03-20T18:10:09.224Z"
   },
   {
    "duration": 10,
    "start_time": "2023-03-20T18:10:09.230Z"
   },
   {
    "duration": 213,
    "start_time": "2023-03-20T18:10:09.241Z"
   },
   {
    "duration": 108,
    "start_time": "2023-03-20T18:10:09.456Z"
   },
   {
    "duration": 170,
    "start_time": "2023-03-20T18:10:09.565Z"
   },
   {
    "duration": 5,
    "start_time": "2023-03-20T18:10:09.738Z"
   },
   {
    "duration": 16,
    "start_time": "2023-03-20T18:10:09.745Z"
   },
   {
    "duration": 1278,
    "start_time": "2023-03-20T18:10:15.727Z"
   },
   {
    "duration": 7064,
    "start_time": "2023-03-20T18:10:55.886Z"
   },
   {
    "duration": 6798,
    "start_time": "2023-03-20T18:11:21.211Z"
   },
   {
    "duration": 19,
    "start_time": "2023-03-20T18:12:17.203Z"
   },
   {
    "duration": 18,
    "start_time": "2023-03-20T18:13:17.001Z"
   },
   {
    "duration": 35,
    "start_time": "2023-03-20T18:13:37.710Z"
   },
   {
    "duration": 7456,
    "start_time": "2023-03-20T18:13:41.227Z"
   },
   {
    "duration": 6946,
    "start_time": "2023-03-20T18:14:37.561Z"
   },
   {
    "duration": 1283,
    "start_time": "2023-03-20T18:15:20.026Z"
   },
   {
    "duration": 95,
    "start_time": "2023-03-20T18:17:07.906Z"
   },
   {
    "duration": 1803,
    "start_time": "2023-03-20T18:17:32.807Z"
   },
   {
    "duration": 18321,
    "start_time": "2023-03-20T18:18:43.994Z"
   },
   {
    "duration": 283,
    "start_time": "2023-03-20T18:20:22.030Z"
   },
   {
    "duration": 2072,
    "start_time": "2023-03-20T18:20:59.025Z"
   },
   {
    "duration": 1919,
    "start_time": "2023-03-20T18:21:11.344Z"
   },
   {
    "duration": 18331,
    "start_time": "2023-03-20T18:21:23.560Z"
   },
   {
    "duration": 48,
    "start_time": "2023-03-20T18:22:11.290Z"
   },
   {
    "duration": 13,
    "start_time": "2023-03-20T18:22:11.342Z"
   },
   {
    "duration": 13,
    "start_time": "2023-03-20T18:22:11.357Z"
   },
   {
    "duration": 55,
    "start_time": "2023-03-20T18:22:11.372Z"
   },
   {
    "duration": 1541,
    "start_time": "2023-03-20T18:22:11.429Z"
   },
   {
    "duration": 7,
    "start_time": "2023-03-20T18:22:12.972Z"
   },
   {
    "duration": 30,
    "start_time": "2023-03-20T18:22:12.981Z"
   },
   {
    "duration": 7,
    "start_time": "2023-03-20T18:22:13.014Z"
   },
   {
    "duration": 29,
    "start_time": "2023-03-20T18:22:13.023Z"
   },
   {
    "duration": 4,
    "start_time": "2023-03-20T18:22:13.056Z"
   },
   {
    "duration": 9,
    "start_time": "2023-03-20T18:22:13.061Z"
   },
   {
    "duration": 3,
    "start_time": "2023-03-20T18:22:13.072Z"
   },
   {
    "duration": 7,
    "start_time": "2023-03-20T18:22:13.076Z"
   },
   {
    "duration": 27,
    "start_time": "2023-03-20T18:22:13.084Z"
   },
   {
    "duration": 7,
    "start_time": "2023-03-20T18:22:13.113Z"
   },
   {
    "duration": 189,
    "start_time": "2023-03-20T18:22:13.122Z"
   },
   {
    "duration": 20,
    "start_time": "2023-03-20T18:22:13.313Z"
   },
   {
    "duration": 174,
    "start_time": "2023-03-20T18:22:13.335Z"
   },
   {
    "duration": 6,
    "start_time": "2023-03-20T18:22:13.511Z"
   },
   {
    "duration": 17,
    "start_time": "2023-03-20T18:22:13.518Z"
   },
   {
    "duration": 1216,
    "start_time": "2023-03-20T18:22:13.536Z"
   },
   {
    "duration": 3,
    "start_time": "2023-03-20T18:22:14.754Z"
   },
   {
    "duration": 6956,
    "start_time": "2023-03-20T18:22:14.759Z"
   },
   {
    "duration": 3,
    "start_time": "2023-03-20T18:22:21.718Z"
   },
   {
    "duration": 5288,
    "start_time": "2023-03-20T18:22:21.724Z"
   },
   {
    "duration": 98,
    "start_time": "2023-03-20T18:22:27.019Z"
   },
   {
    "duration": 34,
    "start_time": "2023-03-20T18:22:27.120Z"
   },
   {
    "duration": 6905,
    "start_time": "2023-03-20T18:22:27.158Z"
   },
   {
    "duration": 6886,
    "start_time": "2023-03-20T18:22:34.065Z"
   },
   {
    "duration": 1162,
    "start_time": "2023-03-20T18:22:40.954Z"
   },
   {
    "duration": 1610,
    "start_time": "2023-03-20T18:22:42.119Z"
   },
   {
    "duration": 18646,
    "start_time": "2023-03-20T18:22:49.986Z"
   },
   {
    "duration": 287,
    "start_time": "2023-03-20T18:23:11.324Z"
   },
   {
    "duration": 2176,
    "start_time": "2023-03-20T18:23:14.676Z"
   },
   {
    "duration": 54423,
    "start_time": "2023-03-20T18:27:20.290Z"
   },
   {
    "duration": 595,
    "start_time": "2023-03-20T18:30:11.317Z"
   },
   {
    "duration": 756,
    "start_time": "2023-03-20T18:30:44.872Z"
   },
   {
    "duration": 732,
    "start_time": "2023-03-20T18:34:02.516Z"
   },
   {
    "duration": 522,
    "start_time": "2023-03-20T18:34:54.121Z"
   },
   {
    "duration": 539,
    "start_time": "2023-03-20T18:35:02.374Z"
   },
   {
    "duration": 54428,
    "start_time": "2023-03-20T18:35:32.792Z"
   },
   {
    "duration": 54,
    "start_time": "2023-03-20T18:39:22.373Z"
   },
   {
    "duration": 566,
    "start_time": "2023-03-20T18:39:29.575Z"
   },
   {
    "duration": 13,
    "start_time": "2023-03-20T18:39:30.143Z"
   },
   {
    "duration": 36,
    "start_time": "2023-03-20T18:39:30.158Z"
   },
   {
    "duration": 55,
    "start_time": "2023-03-20T18:39:30.196Z"
   },
   {
    "duration": 1889,
    "start_time": "2023-03-20T18:39:30.253Z"
   },
   {
    "duration": 9,
    "start_time": "2023-03-20T18:39:32.144Z"
   },
   {
    "duration": 55,
    "start_time": "2023-03-20T18:39:32.155Z"
   },
   {
    "duration": 6,
    "start_time": "2023-03-20T18:39:32.213Z"
   },
   {
    "duration": 26,
    "start_time": "2023-03-20T18:39:32.221Z"
   },
   {
    "duration": 5,
    "start_time": "2023-03-20T18:39:32.251Z"
   },
   {
    "duration": 13,
    "start_time": "2023-03-20T18:39:32.257Z"
   },
   {
    "duration": 3,
    "start_time": "2023-03-20T18:39:32.272Z"
   },
   {
    "duration": 6,
    "start_time": "2023-03-20T18:39:32.277Z"
   },
   {
    "duration": 25,
    "start_time": "2023-03-20T18:39:32.285Z"
   },
   {
    "duration": 11,
    "start_time": "2023-03-20T18:39:32.311Z"
   },
   {
    "duration": 211,
    "start_time": "2023-03-20T18:39:32.323Z"
   },
   {
    "duration": 18,
    "start_time": "2023-03-20T18:39:32.536Z"
   },
   {
    "duration": 961,
    "start_time": "2023-03-20T18:39:32.556Z"
   },
   {
    "duration": 5,
    "start_time": "2023-03-20T18:39:33.519Z"
   },
   {
    "duration": 7,
    "start_time": "2023-03-20T18:39:33.526Z"
   },
   {
    "duration": 1253,
    "start_time": "2023-03-20T18:39:33.534Z"
   },
   {
    "duration": 0,
    "start_time": "2023-03-20T18:39:34.789Z"
   },
   {
    "duration": 0,
    "start_time": "2023-03-20T18:39:34.791Z"
   },
   {
    "duration": 0,
    "start_time": "2023-03-20T18:39:34.792Z"
   },
   {
    "duration": 0,
    "start_time": "2023-03-20T18:39:34.793Z"
   },
   {
    "duration": 0,
    "start_time": "2023-03-20T18:39:34.794Z"
   },
   {
    "duration": 0,
    "start_time": "2023-03-20T18:39:34.795Z"
   },
   {
    "duration": 0,
    "start_time": "2023-03-20T18:39:34.796Z"
   },
   {
    "duration": 0,
    "start_time": "2023-03-20T18:39:34.810Z"
   },
   {
    "duration": 0,
    "start_time": "2023-03-20T18:39:34.811Z"
   },
   {
    "duration": 0,
    "start_time": "2023-03-20T18:39:34.812Z"
   },
   {
    "duration": 0,
    "start_time": "2023-03-20T18:39:34.813Z"
   },
   {
    "duration": 0,
    "start_time": "2023-03-20T18:39:34.814Z"
   },
   {
    "duration": 0,
    "start_time": "2023-03-20T18:39:34.815Z"
   },
   {
    "duration": 1,
    "start_time": "2023-03-20T18:39:34.816Z"
   },
   {
    "duration": 0,
    "start_time": "2023-03-20T18:39:34.817Z"
   },
   {
    "duration": 0,
    "start_time": "2023-03-20T18:39:34.818Z"
   },
   {
    "duration": 39,
    "start_time": "2023-03-20T18:40:20.468Z"
   },
   {
    "duration": 13,
    "start_time": "2023-03-20T18:40:23.445Z"
   },
   {
    "duration": 20,
    "start_time": "2023-03-20T18:40:26.479Z"
   },
   {
    "duration": 42,
    "start_time": "2023-03-20T18:40:29.798Z"
   },
   {
    "duration": 1527,
    "start_time": "2023-03-20T18:40:32.663Z"
   },
   {
    "duration": 11,
    "start_time": "2023-03-20T18:40:37.787Z"
   },
   {
    "duration": 15,
    "start_time": "2023-03-20T18:40:40.741Z"
   },
   {
    "duration": 7,
    "start_time": "2023-03-20T18:40:43.671Z"
   },
   {
    "duration": 23,
    "start_time": "2023-03-20T18:40:46.113Z"
   },
   {
    "duration": 5,
    "start_time": "2023-03-20T18:40:48.983Z"
   },
   {
    "duration": 8,
    "start_time": "2023-03-20T18:40:58.124Z"
   },
   {
    "duration": 3,
    "start_time": "2023-03-20T18:41:00.849Z"
   },
   {
    "duration": 6,
    "start_time": "2023-03-20T18:41:02.498Z"
   },
   {
    "duration": 5,
    "start_time": "2023-03-20T18:41:04.746Z"
   },
   {
    "duration": 4,
    "start_time": "2023-03-20T18:41:07.249Z"
   },
   {
    "duration": 209,
    "start_time": "2023-03-20T18:41:09.522Z"
   },
   {
    "duration": 24,
    "start_time": "2023-03-20T18:41:11.620Z"
   },
   {
    "duration": 159,
    "start_time": "2023-03-20T18:41:14.951Z"
   },
   {
    "duration": 5,
    "start_time": "2023-03-20T18:41:17.301Z"
   },
   {
    "duration": 6,
    "start_time": "2023-03-20T18:41:20.324Z"
   },
   {
    "duration": 1262,
    "start_time": "2023-03-20T18:41:22.527Z"
   },
   {
    "duration": 1220,
    "start_time": "2023-03-20T18:41:55.745Z"
   },
   {
    "duration": 1175,
    "start_time": "2023-03-20T18:42:51.364Z"
   },
   {
    "duration": 7034,
    "start_time": "2023-03-20T18:43:01.210Z"
   },
   {
    "duration": 7548,
    "start_time": "2023-03-20T18:43:15.327Z"
   },
   {
    "duration": 7196,
    "start_time": "2023-03-20T18:43:48.015Z"
   },
   {
    "duration": 16,
    "start_time": "2023-03-20T18:43:58.760Z"
   },
   {
    "duration": 43,
    "start_time": "2023-03-20T18:44:04.647Z"
   },
   {
    "duration": 8117,
    "start_time": "2023-03-20T18:44:08.383Z"
   },
   {
    "duration": 7033,
    "start_time": "2023-03-20T18:44:20.021Z"
   },
   {
    "duration": 1100,
    "start_time": "2023-03-20T18:44:29.811Z"
   },
   {
    "duration": 1665,
    "start_time": "2023-03-20T18:44:35.846Z"
   },
   {
    "duration": 18423,
    "start_time": "2023-03-20T18:44:41.115Z"
   },
   {
    "duration": 315,
    "start_time": "2023-03-20T18:45:03.997Z"
   },
   {
    "duration": 2024,
    "start_time": "2023-03-20T18:45:07.714Z"
   },
   {
    "duration": 53605,
    "start_time": "2023-03-20T18:46:04.635Z"
   },
   {
    "duration": 555,
    "start_time": "2023-03-20T18:47:45.860Z"
   },
   {
    "duration": 54785,
    "start_time": "2023-03-20T18:47:49.511Z"
   },
   {
    "duration": 113802,
    "start_time": "2023-03-20T18:48:57.266Z"
   },
   {
    "duration": 110762,
    "start_time": "2023-03-20T19:00:26.385Z"
   },
   {
    "duration": 50,
    "start_time": "2023-03-20T19:05:39.515Z"
   },
   {
    "duration": 13,
    "start_time": "2023-03-20T19:05:42.299Z"
   },
   {
    "duration": 22,
    "start_time": "2023-03-20T19:05:44.991Z"
   },
   {
    "duration": 63,
    "start_time": "2023-03-20T19:05:58.365Z"
   },
   {
    "duration": 1574,
    "start_time": "2023-03-20T19:06:01.627Z"
   },
   {
    "duration": 11,
    "start_time": "2023-03-20T19:06:07.330Z"
   },
   {
    "duration": 16,
    "start_time": "2023-03-20T19:06:10.647Z"
   },
   {
    "duration": 8,
    "start_time": "2023-03-20T19:06:14.098Z"
   },
   {
    "duration": 24,
    "start_time": "2023-03-20T19:06:17.152Z"
   },
   {
    "duration": 8,
    "start_time": "2023-03-20T19:06:20.510Z"
   },
   {
    "duration": 12,
    "start_time": "2023-03-20T19:06:23.154Z"
   },
   {
    "duration": 3,
    "start_time": "2023-03-20T19:06:27.098Z"
   },
   {
    "duration": 5,
    "start_time": "2023-03-20T19:06:38.798Z"
   },
   {
    "duration": 4,
    "start_time": "2023-03-20T19:06:42.220Z"
   },
   {
    "duration": 5,
    "start_time": "2023-03-20T19:06:45.022Z"
   },
   {
    "duration": 183,
    "start_time": "2023-03-20T19:06:47.890Z"
   },
   {
    "duration": 19,
    "start_time": "2023-03-20T19:06:50.047Z"
   },
   {
    "duration": 171,
    "start_time": "2023-03-20T19:10:44.137Z"
   },
   {
    "duration": 6,
    "start_time": "2023-03-20T19:10:49.272Z"
   },
   {
    "duration": 9,
    "start_time": "2023-03-20T19:10:50.924Z"
   },
   {
    "duration": 1155,
    "start_time": "2023-03-20T19:10:53.251Z"
   },
   {
    "duration": 7116,
    "start_time": "2023-03-20T19:10:59.968Z"
   },
   {
    "duration": 5187,
    "start_time": "2023-03-20T19:11:12.242Z"
   },
   {
    "duration": 14,
    "start_time": "2023-03-20T19:11:20.685Z"
   },
   {
    "duration": 30,
    "start_time": "2023-03-20T19:11:23.586Z"
   },
   {
    "duration": 7207,
    "start_time": "2023-03-20T19:11:26.917Z"
   },
   {
    "duration": 7356,
    "start_time": "2023-03-20T19:11:40.054Z"
   },
   {
    "duration": 1006,
    "start_time": "2023-03-20T19:11:55.105Z"
   },
   {
    "duration": 1655,
    "start_time": "2023-03-20T19:12:00.467Z"
   },
   {
    "duration": 19822,
    "start_time": "2023-03-20T19:12:04.420Z"
   },
   {
    "duration": 282,
    "start_time": "2023-03-20T19:12:29.837Z"
   },
   {
    "duration": 1989,
    "start_time": "2023-03-20T19:12:32.847Z"
   },
   {
    "duration": 55521,
    "start_time": "2023-03-20T19:12:37.837Z"
   },
   {
    "duration": 491,
    "start_time": "2023-03-20T19:13:41.434Z"
   },
   {
    "duration": 54835,
    "start_time": "2023-03-20T19:13:50.628Z"
   },
   {
    "duration": 84019,
    "start_time": "2023-03-20T19:15:10.790Z"
   },
   {
    "duration": 63549,
    "start_time": "2023-03-20T19:16:47.017Z"
   },
   {
    "duration": 48,
    "start_time": "2023-03-20T19:18:44.610Z"
   },
   {
    "duration": 11,
    "start_time": "2023-03-20T19:18:44.661Z"
   },
   {
    "duration": 26,
    "start_time": "2023-03-20T19:18:44.673Z"
   },
   {
    "duration": 53,
    "start_time": "2023-03-20T19:18:44.709Z"
   },
   {
    "duration": 1989,
    "start_time": "2023-03-20T19:18:44.764Z"
   },
   {
    "duration": 14,
    "start_time": "2023-03-20T19:18:46.755Z"
   },
   {
    "duration": 43,
    "start_time": "2023-03-20T19:18:46.771Z"
   },
   {
    "duration": 21,
    "start_time": "2023-03-20T19:18:46.817Z"
   },
   {
    "duration": 38,
    "start_time": "2023-03-20T19:18:46.840Z"
   },
   {
    "duration": 16,
    "start_time": "2023-03-20T19:18:46.880Z"
   },
   {
    "duration": 36,
    "start_time": "2023-03-20T19:18:46.898Z"
   },
   {
    "duration": 26,
    "start_time": "2023-03-20T19:18:46.937Z"
   },
   {
    "duration": 23,
    "start_time": "2023-03-20T19:18:46.965Z"
   },
   {
    "duration": 19,
    "start_time": "2023-03-20T19:18:46.991Z"
   },
   {
    "duration": 37,
    "start_time": "2023-03-20T19:18:47.013Z"
   },
   {
    "duration": 214,
    "start_time": "2023-03-20T19:18:47.052Z"
   },
   {
    "duration": 17,
    "start_time": "2023-03-20T19:18:47.267Z"
   },
   {
    "duration": 184,
    "start_time": "2023-03-20T19:18:47.285Z"
   },
   {
    "duration": 5,
    "start_time": "2023-03-20T19:18:47.471Z"
   },
   {
    "duration": 26,
    "start_time": "2023-03-20T19:18:47.478Z"
   },
   {
    "duration": 1295,
    "start_time": "2023-03-20T19:18:47.506Z"
   },
   {
    "duration": 12,
    "start_time": "2023-03-20T19:18:48.803Z"
   },
   {
    "duration": 7447,
    "start_time": "2023-03-20T19:18:48.817Z"
   },
   {
    "duration": 2,
    "start_time": "2023-03-20T19:18:56.266Z"
   },
   {
    "duration": 5252,
    "start_time": "2023-03-20T19:18:56.270Z"
   },
   {
    "duration": 108,
    "start_time": "2023-03-20T19:19:01.524Z"
   },
   {
    "duration": 95,
    "start_time": "2023-03-20T19:19:01.634Z"
   },
   {
    "duration": 9032,
    "start_time": "2023-03-20T19:19:01.732Z"
   },
   {
    "duration": 7701,
    "start_time": "2023-03-20T19:19:10.766Z"
   },
   {
    "duration": 1155,
    "start_time": "2023-03-20T19:19:18.469Z"
   },
   {
    "duration": 2485,
    "start_time": "2023-03-20T19:19:19.630Z"
   },
   {
    "duration": 24951,
    "start_time": "2023-03-20T19:19:22.117Z"
   },
   {
    "duration": 267,
    "start_time": "2023-03-20T19:19:47.070Z"
   },
   {
    "duration": 2263,
    "start_time": "2023-03-20T19:19:47.339Z"
   },
   {
    "duration": 74460,
    "start_time": "2023-03-20T19:19:49.604Z"
   },
   {
    "duration": 572,
    "start_time": "2023-03-20T19:21:04.066Z"
   },
   {
    "duration": 72816,
    "start_time": "2023-03-20T19:21:04.642Z"
   },
   {
    "duration": 57133,
    "start_time": "2023-03-20T19:22:33.143Z"
   },
   {
    "duration": 536,
    "start_time": "2023-03-22T12:22:09.615Z"
   },
   {
    "duration": 13,
    "start_time": "2023-03-22T12:22:12.336Z"
   },
   {
    "duration": 21,
    "start_time": "2023-03-22T12:22:14.811Z"
   },
   {
    "duration": 41,
    "start_time": "2023-03-22T12:22:17.691Z"
   },
   {
    "duration": 1993,
    "start_time": "2023-03-22T12:22:19.915Z"
   },
   {
    "duration": 7,
    "start_time": "2023-03-22T12:22:25.145Z"
   },
   {
    "duration": 52,
    "start_time": "2023-03-22T12:22:28.026Z"
   },
   {
    "duration": 6,
    "start_time": "2023-03-22T12:22:31.546Z"
   },
   {
    "duration": 19,
    "start_time": "2023-03-22T12:22:34.006Z"
   },
   {
    "duration": 4,
    "start_time": "2023-03-22T12:22:36.958Z"
   },
   {
    "duration": 8,
    "start_time": "2023-03-22T12:22:43.558Z"
   },
   {
    "duration": 3,
    "start_time": "2023-03-22T12:22:47.550Z"
   },
   {
    "duration": 4,
    "start_time": "2023-03-22T12:22:49.821Z"
   },
   {
    "duration": 3,
    "start_time": "2023-03-22T12:22:52.827Z"
   },
   {
    "duration": 5,
    "start_time": "2023-03-22T12:22:55.303Z"
   },
   {
    "duration": 206,
    "start_time": "2023-03-22T12:23:20.997Z"
   },
   {
    "duration": 18,
    "start_time": "2023-03-22T12:23:23.216Z"
   },
   {
    "duration": 891,
    "start_time": "2023-03-22T12:23:31.901Z"
   },
   {
    "duration": 5,
    "start_time": "2023-03-22T12:23:34.287Z"
   },
   {
    "duration": 6,
    "start_time": "2023-03-22T12:23:36.705Z"
   },
   {
    "duration": 1212,
    "start_time": "2023-03-22T12:23:57.035Z"
   },
   {
    "duration": 72,
    "start_time": "2023-03-22T12:34:09.900Z"
   },
   {
    "duration": 58,
    "start_time": "2023-03-22T12:35:51.849Z"
   },
   {
    "duration": 48,
    "start_time": "2023-03-22T12:36:04.306Z"
   },
   {
    "duration": 47,
    "start_time": "2023-03-22T12:37:21.757Z"
   },
   {
    "duration": 123,
    "start_time": "2023-03-22T12:37:53.075Z"
   },
   {
    "duration": 153,
    "start_time": "2023-03-22T12:38:33.020Z"
   },
   {
    "duration": 12,
    "start_time": "2023-03-22T12:39:20.832Z"
   },
   {
    "duration": 156,
    "start_time": "2023-03-22T12:39:34.529Z"
   },
   {
    "duration": 1663766,
    "start_time": "2023-03-22T12:40:05.053Z"
   },
   {
    "duration": 50,
    "start_time": "2023-03-22T13:09:25.040Z"
   },
   {
    "duration": 70,
    "start_time": "2023-03-22T13:09:56.949Z"
   },
   {
    "duration": 58,
    "start_time": "2023-03-22T13:12:21.674Z"
   },
   {
    "duration": 59,
    "start_time": "2023-03-22T13:33:32.034Z"
   },
   {
    "duration": 49,
    "start_time": "2023-03-22T13:33:53.946Z"
   },
   {
    "duration": 37934,
    "start_time": "2023-03-22T13:35:59.846Z"
   },
   {
    "duration": 37691,
    "start_time": "2023-03-22T13:37:35.457Z"
   },
   {
    "duration": 37471,
    "start_time": "2023-03-22T13:39:26.724Z"
   },
   {
    "duration": 37064,
    "start_time": "2023-03-22T13:47:24.532Z"
   },
   {
    "duration": 30598,
    "start_time": "2023-03-22T13:49:40.091Z"
   },
   {
    "duration": 4722,
    "start_time": "2023-03-22T13:52:00.963Z"
   },
   {
    "duration": 15,
    "start_time": "2023-03-22T13:52:25.692Z"
   },
   {
    "duration": 31,
    "start_time": "2023-03-22T13:53:47.023Z"
   },
   {
    "duration": 30136,
    "start_time": "2023-03-22T13:54:27.147Z"
   },
   {
    "duration": 37,
    "start_time": "2023-03-22T13:55:07.970Z"
   },
   {
    "duration": 13,
    "start_time": "2023-03-22T13:55:10.743Z"
   },
   {
    "duration": 15,
    "start_time": "2023-03-22T13:55:13.205Z"
   },
   {
    "duration": 1712,
    "start_time": "2023-03-22T13:55:19.830Z"
   },
   {
    "duration": 8,
    "start_time": "2023-03-22T13:55:24.916Z"
   },
   {
    "duration": 16,
    "start_time": "2023-03-22T13:55:27.713Z"
   },
   {
    "duration": 8,
    "start_time": "2023-03-22T13:55:31.244Z"
   },
   {
    "duration": 30,
    "start_time": "2023-03-22T13:55:33.678Z"
   },
   {
    "duration": 5,
    "start_time": "2023-03-22T13:55:36.927Z"
   },
   {
    "duration": 8,
    "start_time": "2023-03-22T13:55:40.448Z"
   },
   {
    "duration": 4,
    "start_time": "2023-03-22T13:55:43.127Z"
   },
   {
    "duration": 4,
    "start_time": "2023-03-22T13:55:47.293Z"
   },
   {
    "duration": 3,
    "start_time": "2023-03-22T13:55:49.593Z"
   },
   {
    "duration": 4,
    "start_time": "2023-03-22T13:55:51.788Z"
   },
   {
    "duration": 226,
    "start_time": "2023-03-22T13:55:54.096Z"
   },
   {
    "duration": 23,
    "start_time": "2023-03-22T13:55:55.719Z"
   },
   {
    "duration": 166,
    "start_time": "2023-03-22T13:56:02.496Z"
   },
   {
    "duration": 7,
    "start_time": "2023-03-22T13:56:05.850Z"
   },
   {
    "duration": 1200,
    "start_time": "2023-03-22T13:56:10.931Z"
   },
   {
    "duration": 154,
    "start_time": "2023-03-22T13:56:32.864Z"
   },
   {
    "duration": 29731,
    "start_time": "2023-03-22T13:57:19.515Z"
   },
   {
    "duration": 4708,
    "start_time": "2023-03-22T13:58:10.068Z"
   },
   {
    "duration": 29196,
    "start_time": "2023-03-22T13:58:41.518Z"
   },
   {
    "duration": 38,
    "start_time": "2023-03-22T14:00:12.849Z"
   },
   {
    "duration": 11,
    "start_time": "2023-03-22T14:00:18.050Z"
   },
   {
    "duration": 16,
    "start_time": "2023-03-22T14:00:21.967Z"
   },
   {
    "duration": 40,
    "start_time": "2023-03-22T14:00:25.076Z"
   },
   {
    "duration": 1531,
    "start_time": "2023-03-22T14:00:28.236Z"
   },
   {
    "duration": 8,
    "start_time": "2023-03-22T14:00:32.717Z"
   },
   {
    "duration": 14,
    "start_time": "2023-03-22T14:00:35.925Z"
   },
   {
    "duration": 9,
    "start_time": "2023-03-22T14:00:39.296Z"
   },
   {
    "duration": 22,
    "start_time": "2023-03-22T14:00:41.726Z"
   },
   {
    "duration": 4,
    "start_time": "2023-03-22T14:00:45.414Z"
   },
   {
    "duration": 7,
    "start_time": "2023-03-22T14:00:48.023Z"
   },
   {
    "duration": 3,
    "start_time": "2023-03-22T14:00:50.736Z"
   },
   {
    "duration": 5,
    "start_time": "2023-03-22T14:00:53.926Z"
   },
   {
    "duration": 3,
    "start_time": "2023-03-22T14:00:56.024Z"
   },
   {
    "duration": 4,
    "start_time": "2023-03-22T14:00:58.161Z"
   },
   {
    "duration": 181,
    "start_time": "2023-03-22T14:01:00.441Z"
   },
   {
    "duration": 18,
    "start_time": "2023-03-22T14:01:02.669Z"
   },
   {
    "duration": 174,
    "start_time": "2023-03-22T14:01:08.597Z"
   },
   {
    "duration": 4,
    "start_time": "2023-03-22T14:01:11.597Z"
   },
   {
    "duration": 6,
    "start_time": "2023-03-22T14:01:14.217Z"
   },
   {
    "duration": 1172,
    "start_time": "2023-03-22T14:01:16.752Z"
   },
   {
    "duration": 29787,
    "start_time": "2023-03-22T14:01:22.726Z"
   },
   {
    "duration": 4563,
    "start_time": "2023-03-22T14:02:43.517Z"
   },
   {
    "duration": 14,
    "start_time": "2023-03-22T14:02:52.597Z"
   },
   {
    "duration": 29,
    "start_time": "2023-03-22T14:02:56.329Z"
   },
   {
    "duration": 30115,
    "start_time": "2023-03-22T14:03:06.839Z"
   },
   {
    "duration": 370,
    "start_time": "2023-03-22T14:04:47.797Z"
   },
   {
    "duration": 1083,
    "start_time": "2023-03-22T14:04:58.892Z"
   },
   {
    "duration": 1579,
    "start_time": "2023-03-22T14:05:15.595Z"
   },
   {
    "duration": 363,
    "start_time": "2023-03-22T14:05:49.623Z"
   },
   {
    "duration": 345,
    "start_time": "2023-03-22T14:05:58.893Z"
   },
   {
    "duration": 835,
    "start_time": "2023-03-22T14:06:18.516Z"
   },
   {
    "duration": 282,
    "start_time": "2023-03-22T14:06:38.394Z"
   },
   {
    "duration": 159,
    "start_time": "2023-03-22T14:07:15.988Z"
   },
   {
    "duration": 38,
    "start_time": "2023-03-22T14:07:55.759Z"
   },
   {
    "duration": 11,
    "start_time": "2023-03-22T14:07:57.380Z"
   },
   {
    "duration": 14,
    "start_time": "2023-03-22T14:07:59.996Z"
   },
   {
    "duration": 39,
    "start_time": "2023-03-22T14:08:02.773Z"
   },
   {
    "duration": 1455,
    "start_time": "2023-03-22T14:08:05.542Z"
   },
   {
    "duration": 7,
    "start_time": "2023-03-22T14:08:09.973Z"
   },
   {
    "duration": 13,
    "start_time": "2023-03-22T14:08:12.826Z"
   },
   {
    "duration": 7,
    "start_time": "2023-03-22T14:08:15.842Z"
   },
   {
    "duration": 21,
    "start_time": "2023-03-22T14:08:18.327Z"
   },
   {
    "duration": 5,
    "start_time": "2023-03-22T14:08:21.560Z"
   },
   {
    "duration": 7,
    "start_time": "2023-03-22T14:08:24.237Z"
   },
   {
    "duration": 3,
    "start_time": "2023-03-22T14:08:27.192Z"
   },
   {
    "duration": 4,
    "start_time": "2023-03-22T14:08:29.366Z"
   },
   {
    "duration": 3,
    "start_time": "2023-03-22T14:08:31.783Z"
   },
   {
    "duration": 5,
    "start_time": "2023-03-22T14:08:34.152Z"
   },
   {
    "duration": 177,
    "start_time": "2023-03-22T14:08:36.359Z"
   },
   {
    "duration": 18,
    "start_time": "2023-03-22T14:08:38.667Z"
   },
   {
    "duration": 160,
    "start_time": "2023-03-22T14:08:42.138Z"
   },
   {
    "duration": 5,
    "start_time": "2023-03-22T14:08:45.654Z"
   },
   {
    "duration": 6,
    "start_time": "2023-03-22T14:08:47.829Z"
   },
   {
    "duration": 1206,
    "start_time": "2023-03-22T14:08:53.845Z"
   },
   {
    "duration": 29331,
    "start_time": "2023-03-22T14:10:08.821Z"
   },
   {
    "duration": 4841,
    "start_time": "2023-03-22T14:10:45.335Z"
   },
   {
    "duration": 18,
    "start_time": "2023-03-22T14:10:54.124Z"
   },
   {
    "duration": 29,
    "start_time": "2023-03-22T14:17:13.953Z"
   },
   {
    "duration": 29605,
    "start_time": "2023-03-22T14:17:43.542Z"
   },
   {
    "duration": 31231,
    "start_time": "2023-03-22T14:18:29.689Z"
   },
   {
    "duration": 372,
    "start_time": "2023-03-22T14:19:57.568Z"
   },
   {
    "duration": 1148,
    "start_time": "2023-03-22T14:20:23.930Z"
   },
   {
    "duration": 1637,
    "start_time": "2023-03-22T14:20:37.638Z"
   },
   {
    "duration": 1035,
    "start_time": "2023-03-22T14:21:18.528Z"
   },
   {
    "duration": 315,
    "start_time": "2023-03-22T14:21:32.061Z"
   },
   {
    "duration": 153,
    "start_time": "2023-03-22T14:21:50.054Z"
   },
   {
    "duration": 3153,
    "start_time": "2023-03-22T14:22:54.118Z"
   },
   {
    "duration": 2861,
    "start_time": "2023-03-22T14:23:32.134Z"
   },
   {
    "duration": 516,
    "start_time": "2023-03-22T14:23:53.466Z"
   },
   {
    "duration": 2343,
    "start_time": "2023-03-22T14:24:47.490Z"
   },
   {
    "duration": 2372,
    "start_time": "2023-03-22T14:25:56.121Z"
   },
   {
    "duration": 39,
    "start_time": "2023-03-22T14:26:50.750Z"
   },
   {
    "duration": 12,
    "start_time": "2023-03-22T14:26:53.244Z"
   },
   {
    "duration": 17,
    "start_time": "2023-03-22T14:27:00.406Z"
   },
   {
    "duration": 40,
    "start_time": "2023-03-22T14:27:03.012Z"
   },
   {
    "duration": 1639,
    "start_time": "2023-03-22T14:27:05.240Z"
   },
   {
    "duration": 8,
    "start_time": "2023-03-22T14:27:10.138Z"
   },
   {
    "duration": 15,
    "start_time": "2023-03-22T14:27:12.656Z"
   },
   {
    "duration": 8,
    "start_time": "2023-03-22T14:27:15.594Z"
   },
   {
    "duration": 20,
    "start_time": "2023-03-22T14:27:18.036Z"
   },
   {
    "duration": 4,
    "start_time": "2023-03-22T14:27:20.741Z"
   },
   {
    "duration": 7,
    "start_time": "2023-03-22T14:27:23.190Z"
   },
   {
    "duration": 3,
    "start_time": "2023-03-22T14:27:25.360Z"
   },
   {
    "duration": 5,
    "start_time": "2023-03-22T14:27:27.625Z"
   },
   {
    "duration": 5,
    "start_time": "2023-03-22T14:27:29.623Z"
   },
   {
    "duration": 4,
    "start_time": "2023-03-22T14:27:31.823Z"
   },
   {
    "duration": 181,
    "start_time": "2023-03-22T14:27:33.833Z"
   },
   {
    "duration": 28,
    "start_time": "2023-03-22T14:27:36.034Z"
   },
   {
    "duration": 172,
    "start_time": "2023-03-22T14:28:28.726Z"
   },
   {
    "duration": 37,
    "start_time": "2023-03-22T14:29:06.247Z"
   },
   {
    "duration": 13,
    "start_time": "2023-03-22T14:29:06.286Z"
   },
   {
    "duration": 18,
    "start_time": "2023-03-22T14:29:06.301Z"
   },
   {
    "duration": 60,
    "start_time": "2023-03-22T14:29:06.321Z"
   },
   {
    "duration": 1532,
    "start_time": "2023-03-22T14:29:06.382Z"
   },
   {
    "duration": 9,
    "start_time": "2023-03-22T14:29:07.915Z"
   },
   {
    "duration": 15,
    "start_time": "2023-03-22T14:29:07.925Z"
   },
   {
    "duration": 7,
    "start_time": "2023-03-22T14:29:07.942Z"
   },
   {
    "duration": 29,
    "start_time": "2023-03-22T14:29:07.975Z"
   },
   {
    "duration": 4,
    "start_time": "2023-03-22T14:29:08.006Z"
   },
   {
    "duration": 10,
    "start_time": "2023-03-22T14:29:08.012Z"
   },
   {
    "duration": 3,
    "start_time": "2023-03-22T14:29:08.023Z"
   },
   {
    "duration": 6,
    "start_time": "2023-03-22T14:29:08.028Z"
   },
   {
    "duration": 4,
    "start_time": "2023-03-22T14:29:08.035Z"
   },
   {
    "duration": 37,
    "start_time": "2023-03-22T14:29:08.040Z"
   },
   {
    "duration": 199,
    "start_time": "2023-03-22T14:29:08.079Z"
   },
   {
    "duration": 19,
    "start_time": "2023-03-22T14:29:08.279Z"
   },
   {
    "duration": 154,
    "start_time": "2023-03-22T14:29:19.180Z"
   },
   {
    "duration": 4,
    "start_time": "2023-03-22T14:29:21.647Z"
   },
   {
    "duration": 7,
    "start_time": "2023-03-22T14:29:23.954Z"
   },
   {
    "duration": 1182,
    "start_time": "2023-03-22T14:29:26.538Z"
   },
   {
    "duration": 29212,
    "start_time": "2023-03-22T14:29:34.265Z"
   },
   {
    "duration": 4904,
    "start_time": "2023-03-22T14:30:13.575Z"
   },
   {
    "duration": 14,
    "start_time": "2023-03-22T14:30:21.451Z"
   },
   {
    "duration": 31,
    "start_time": "2023-03-22T14:30:31.078Z"
   },
   {
    "duration": 29588,
    "start_time": "2023-03-22T14:30:34.783Z"
   },
   {
    "duration": 381,
    "start_time": "2023-03-22T14:31:22.566Z"
   },
   {
    "duration": 1202,
    "start_time": "2023-03-22T14:31:27.886Z"
   },
   {
    "duration": 1534,
    "start_time": "2023-03-22T14:31:38.441Z"
   },
   {
    "duration": 954,
    "start_time": "2023-03-22T14:31:43.586Z"
   },
   {
    "duration": 230,
    "start_time": "2023-03-22T14:31:57.149Z"
   },
   {
    "duration": 168,
    "start_time": "2023-03-22T14:32:01.239Z"
   },
   {
    "duration": 2605,
    "start_time": "2023-03-22T14:32:05.424Z"
   },
   {
    "duration": 544,
    "start_time": "2023-03-22T14:32:12.032Z"
   },
   {
    "duration": 2146,
    "start_time": "2023-03-22T14:32:15.898Z"
   },
   {
    "duration": 2231,
    "start_time": "2023-03-22T14:32:24.017Z"
   },
   {
    "duration": 6599,
    "start_time": "2023-03-22T14:33:56.727Z"
   },
   {
    "duration": 7055,
    "start_time": "2023-03-22T14:35:13.538Z"
   },
   {
    "duration": 2180,
    "start_time": "2023-03-22T14:36:14.657Z"
   },
   {
    "duration": 6563,
    "start_time": "2023-03-22T14:36:19.453Z"
   },
   {
    "duration": 40,
    "start_time": "2023-03-22T14:40:35.785Z"
   },
   {
    "duration": 12,
    "start_time": "2023-03-22T14:40:38.132Z"
   },
   {
    "duration": 14,
    "start_time": "2023-03-22T14:40:40.154Z"
   },
   {
    "duration": 44,
    "start_time": "2023-03-22T14:40:42.132Z"
   },
   {
    "duration": 1855,
    "start_time": "2023-03-22T14:40:44.736Z"
   },
   {
    "duration": 9,
    "start_time": "2023-03-22T14:40:47.060Z"
   },
   {
    "duration": 15,
    "start_time": "2023-03-22T14:40:49.787Z"
   },
   {
    "duration": 7,
    "start_time": "2023-03-22T14:40:52.493Z"
   },
   {
    "duration": 22,
    "start_time": "2023-03-22T14:40:54.661Z"
   },
   {
    "duration": 4,
    "start_time": "2023-03-22T14:40:57.016Z"
   },
   {
    "duration": 8,
    "start_time": "2023-03-22T14:40:59.272Z"
   },
   {
    "duration": 4,
    "start_time": "2023-03-22T14:41:01.470Z"
   },
   {
    "duration": 5,
    "start_time": "2023-03-22T14:41:03.836Z"
   },
   {
    "duration": 3,
    "start_time": "2023-03-22T14:41:05.922Z"
   },
   {
    "duration": 3,
    "start_time": "2023-03-22T14:41:07.425Z"
   },
   {
    "duration": 186,
    "start_time": "2023-03-22T14:41:09.787Z"
   },
   {
    "duration": 23,
    "start_time": "2023-03-22T14:41:12.569Z"
   },
   {
    "duration": 165,
    "start_time": "2023-03-22T14:41:52.520Z"
   },
   {
    "duration": 4,
    "start_time": "2023-03-22T14:41:55.115Z"
   },
   {
    "duration": 7,
    "start_time": "2023-03-22T14:41:57.527Z"
   },
   {
    "duration": 1249,
    "start_time": "2023-03-22T14:42:07.296Z"
   },
   {
    "duration": 30342,
    "start_time": "2023-03-22T14:42:13.414Z"
   },
   {
    "duration": 5630,
    "start_time": "2023-03-22T15:15:39.453Z"
   },
   {
    "duration": 20,
    "start_time": "2023-03-22T15:15:47.999Z"
   },
   {
    "duration": 35,
    "start_time": "2023-03-22T15:20:36.786Z"
   },
   {
    "duration": 31186,
    "start_time": "2023-03-22T15:20:45.667Z"
   },
   {
    "duration": 389,
    "start_time": "2023-03-22T15:21:22.256Z"
   },
   {
    "duration": 1070,
    "start_time": "2023-03-22T15:21:25.406Z"
   },
   {
    "duration": 1647,
    "start_time": "2023-03-22T15:21:51.127Z"
   },
   {
    "duration": 947,
    "start_time": "2023-03-22T15:21:58.315Z"
   },
   {
    "duration": 339,
    "start_time": "2023-03-22T15:23:42.136Z"
   },
   {
    "duration": 155,
    "start_time": "2023-03-22T15:23:46.691Z"
   },
   {
    "duration": 2888,
    "start_time": "2023-03-22T15:24:02.982Z"
   },
   {
    "duration": 6354,
    "start_time": "2023-03-22T15:24:18.085Z"
   },
   {
    "duration": 589,
    "start_time": "2023-03-22T15:24:34.889Z"
   },
   {
    "duration": 2426,
    "start_time": "2023-03-22T15:24:37.956Z"
   },
   {
    "duration": 6455,
    "start_time": "2023-03-22T15:24:42.965Z"
   },
   {
    "duration": 2682,
    "start_time": "2023-03-22T15:25:02.414Z"
   },
   {
    "duration": 7021,
    "start_time": "2023-03-22T15:25:08.048Z"
   },
   {
    "duration": 39,
    "start_time": "2023-03-22T15:28:17.705Z"
   },
   {
    "duration": 12,
    "start_time": "2023-03-22T15:28:17.746Z"
   },
   {
    "duration": 15,
    "start_time": "2023-03-22T15:28:17.759Z"
   },
   {
    "duration": 47,
    "start_time": "2023-03-22T15:28:17.777Z"
   },
   {
    "duration": 1608,
    "start_time": "2023-03-22T15:28:17.825Z"
   },
   {
    "duration": 7,
    "start_time": "2023-03-22T15:28:19.434Z"
   },
   {
    "duration": 13,
    "start_time": "2023-03-22T15:28:19.442Z"
   },
   {
    "duration": 23,
    "start_time": "2023-03-22T15:28:19.457Z"
   },
   {
    "duration": 27,
    "start_time": "2023-03-22T15:28:19.482Z"
   },
   {
    "duration": 4,
    "start_time": "2023-03-22T15:28:19.511Z"
   },
   {
    "duration": 7,
    "start_time": "2023-03-22T15:28:19.517Z"
   },
   {
    "duration": 3,
    "start_time": "2023-03-22T15:28:19.525Z"
   },
   {
    "duration": 7,
    "start_time": "2023-03-22T15:28:19.529Z"
   },
   {
    "duration": 3,
    "start_time": "2023-03-22T15:28:19.538Z"
   },
   {
    "duration": 36,
    "start_time": "2023-03-22T15:28:19.542Z"
   },
   {
    "duration": 187,
    "start_time": "2023-03-22T15:28:19.579Z"
   },
   {
    "duration": 22,
    "start_time": "2023-03-22T15:28:19.768Z"
   },
   {
    "duration": 196,
    "start_time": "2023-03-22T15:28:19.792Z"
   },
   {
    "duration": 4,
    "start_time": "2023-03-22T15:28:19.990Z"
   },
   {
    "duration": 8,
    "start_time": "2023-03-22T15:28:19.996Z"
   },
   {
    "duration": 1322,
    "start_time": "2023-03-22T15:28:20.005Z"
   },
   {
    "duration": 3,
    "start_time": "2023-03-22T15:28:21.328Z"
   },
   {
    "duration": 30687,
    "start_time": "2023-03-22T15:28:21.333Z"
   },
   {
    "duration": 3,
    "start_time": "2023-03-22T15:28:52.021Z"
   },
   {
    "duration": 5258,
    "start_time": "2023-03-22T15:28:52.025Z"
   },
   {
    "duration": 97,
    "start_time": "2023-03-22T15:28:57.289Z"
   },
   {
    "duration": 36,
    "start_time": "2023-03-22T15:33:37.368Z"
   },
   {
    "duration": 31690,
    "start_time": "2023-03-22T15:33:45.196Z"
   },
   {
    "duration": 387,
    "start_time": "2023-03-22T15:34:49.223Z"
   },
   {
    "duration": 1096,
    "start_time": "2023-03-22T15:35:07.497Z"
   },
   {
    "duration": 1724,
    "start_time": "2023-03-22T15:35:22.754Z"
   },
   {
    "duration": 951,
    "start_time": "2023-03-22T15:35:37.439Z"
   },
   {
    "duration": 282,
    "start_time": "2023-03-22T15:35:49.913Z"
   },
   {
    "duration": 184,
    "start_time": "2023-03-22T15:35:54.657Z"
   },
   {
    "duration": 3084,
    "start_time": "2023-03-22T15:35:58.387Z"
   },
   {
    "duration": 12,
    "start_time": "2023-03-22T15:37:04.571Z"
   },
   {
    "duration": 2500,
    "start_time": "2023-03-22T15:37:45.038Z"
   },
   {
    "duration": 6687,
    "start_time": "2023-03-22T15:38:23.020Z"
   },
   {
    "duration": 568,
    "start_time": "2023-03-22T15:46:20.309Z"
   },
   {
    "duration": 2686,
    "start_time": "2023-03-22T15:46:24.022Z"
   },
   {
    "duration": 7066,
    "start_time": "2023-03-22T15:47:51.728Z"
   },
   {
    "duration": 43,
    "start_time": "2023-03-22T15:53:45.510Z"
   },
   {
    "duration": 12,
    "start_time": "2023-03-22T15:53:56.735Z"
   },
   {
    "duration": 5981,
    "start_time": "2023-03-22T15:54:46.515Z"
   },
   {
    "duration": 5118,
    "start_time": "2023-03-22T15:55:41.222Z"
   },
   {
    "duration": 21592,
    "start_time": "2023-03-22T15:57:05.979Z"
   },
   {
    "duration": 23289,
    "start_time": "2023-03-22T16:00:34.957Z"
   },
   {
    "duration": 2476,
    "start_time": "2023-03-22T16:02:54.824Z"
   },
   {
    "duration": 38,
    "start_time": "2023-03-22T16:42:13.136Z"
   },
   {
    "duration": 11,
    "start_time": "2023-03-22T16:42:13.176Z"
   },
   {
    "duration": 13,
    "start_time": "2023-03-22T16:42:13.189Z"
   },
   {
    "duration": 42,
    "start_time": "2023-03-22T16:42:13.204Z"
   },
   {
    "duration": 1714,
    "start_time": "2023-03-22T16:42:13.274Z"
   },
   {
    "duration": 8,
    "start_time": "2023-03-22T16:42:14.990Z"
   },
   {
    "duration": 19,
    "start_time": "2023-03-22T16:42:15.000Z"
   },
   {
    "duration": 11,
    "start_time": "2023-03-22T16:42:15.021Z"
   },
   {
    "duration": 45,
    "start_time": "2023-03-22T16:42:15.033Z"
   },
   {
    "duration": 5,
    "start_time": "2023-03-22T16:42:15.080Z"
   },
   {
    "duration": 9,
    "start_time": "2023-03-22T16:42:15.086Z"
   },
   {
    "duration": 10,
    "start_time": "2023-03-22T16:42:15.097Z"
   },
   {
    "duration": 18,
    "start_time": "2023-03-22T16:42:15.109Z"
   },
   {
    "duration": 4,
    "start_time": "2023-03-22T16:42:15.129Z"
   },
   {
    "duration": 7,
    "start_time": "2023-03-22T16:42:15.135Z"
   },
   {
    "duration": 194,
    "start_time": "2023-03-22T16:42:15.143Z"
   },
   {
    "duration": 19,
    "start_time": "2023-03-22T16:42:15.338Z"
   },
   {
    "duration": 169,
    "start_time": "2023-03-22T16:42:15.358Z"
   },
   {
    "duration": 4,
    "start_time": "2023-03-22T16:42:15.529Z"
   },
   {
    "duration": 7,
    "start_time": "2023-03-22T16:42:15.534Z"
   },
   {
    "duration": 1238,
    "start_time": "2023-03-22T16:42:15.543Z"
   },
   {
    "duration": 3,
    "start_time": "2023-03-22T16:42:16.782Z"
   },
   {
    "duration": 30024,
    "start_time": "2023-03-22T16:42:16.787Z"
   },
   {
    "duration": 2,
    "start_time": "2023-03-22T16:42:46.813Z"
   },
   {
    "duration": 4558,
    "start_time": "2023-03-22T16:42:46.816Z"
   },
   {
    "duration": 13,
    "start_time": "2023-03-22T16:42:51.376Z"
   },
   {
    "duration": 33,
    "start_time": "2023-03-22T16:42:51.391Z"
   },
   {
    "duration": 30487,
    "start_time": "2023-03-22T16:42:51.427Z"
   },
   {
    "duration": 402,
    "start_time": "2023-03-22T16:43:21.916Z"
   },
   {
    "duration": 1261,
    "start_time": "2023-03-22T16:43:22.320Z"
   },
   {
    "duration": 1698,
    "start_time": "2023-03-22T16:43:23.583Z"
   },
   {
    "duration": 1051,
    "start_time": "2023-03-22T16:43:59.981Z"
   },
   {
    "duration": 300,
    "start_time": "2023-03-22T16:44:10.277Z"
   },
   {
    "duration": 165,
    "start_time": "2023-03-22T16:44:20.689Z"
   },
   {
    "duration": 2827,
    "start_time": "2023-03-22T16:44:59.413Z"
   },
   {
    "duration": 2757,
    "start_time": "2023-03-22T16:45:56.108Z"
   },
   {
    "duration": 6209,
    "start_time": "2023-03-22T16:46:14.033Z"
   },
   {
    "duration": 564,
    "start_time": "2023-03-22T16:46:25.613Z"
   },
   {
    "duration": 2388,
    "start_time": "2023-03-22T16:46:28.513Z"
   },
   {
    "duration": 6324,
    "start_time": "2023-03-22T16:46:33.574Z"
   },
   {
    "duration": 210144,
    "start_time": "2023-03-22T16:48:52.831Z"
   },
   {
    "duration": 792688,
    "start_time": "2023-03-22T16:55:39.110Z"
   },
   {
    "duration": 6048,
    "start_time": "2023-03-22T17:13:59.930Z"
   },
   {
    "duration": 47,
    "start_time": "2023-03-22T17:16:30.341Z"
   },
   {
    "duration": 15,
    "start_time": "2023-03-22T17:16:30.390Z"
   },
   {
    "duration": 42,
    "start_time": "2023-03-22T17:16:30.407Z"
   },
   {
    "duration": 61,
    "start_time": "2023-03-22T17:16:30.452Z"
   },
   {
    "duration": 1578,
    "start_time": "2023-03-22T17:16:30.515Z"
   },
   {
    "duration": 8,
    "start_time": "2023-03-22T17:16:32.094Z"
   },
   {
    "duration": 21,
    "start_time": "2023-03-22T17:16:32.103Z"
   },
   {
    "duration": 6,
    "start_time": "2023-03-22T17:16:32.126Z"
   },
   {
    "duration": 42,
    "start_time": "2023-03-22T17:16:32.133Z"
   },
   {
    "duration": 4,
    "start_time": "2023-03-22T17:16:32.178Z"
   },
   {
    "duration": 10,
    "start_time": "2023-03-22T17:16:32.183Z"
   },
   {
    "duration": 3,
    "start_time": "2023-03-22T17:16:32.194Z"
   },
   {
    "duration": 20,
    "start_time": "2023-03-22T17:16:32.199Z"
   },
   {
    "duration": 11,
    "start_time": "2023-03-22T17:16:32.221Z"
   },
   {
    "duration": 30,
    "start_time": "2023-03-22T17:16:32.234Z"
   },
   {
    "duration": 227,
    "start_time": "2023-03-22T17:16:32.266Z"
   },
   {
    "duration": 19,
    "start_time": "2023-03-22T17:16:32.494Z"
   },
   {
    "duration": 194,
    "start_time": "2023-03-22T17:16:32.514Z"
   },
   {
    "duration": 4,
    "start_time": "2023-03-22T17:16:32.710Z"
   },
   {
    "duration": 7,
    "start_time": "2023-03-22T17:16:32.716Z"
   },
   {
    "duration": 1242,
    "start_time": "2023-03-22T17:16:32.725Z"
   },
   {
    "duration": 6,
    "start_time": "2023-03-22T17:16:33.969Z"
   },
   {
    "duration": 30074,
    "start_time": "2023-03-22T17:16:33.977Z"
   },
   {
    "duration": 3,
    "start_time": "2023-03-22T17:17:04.053Z"
   },
   {
    "duration": 5318,
    "start_time": "2023-03-22T17:17:04.060Z"
   },
   {
    "duration": 99,
    "start_time": "2023-03-22T17:17:09.381Z"
   },
   {
    "duration": 35,
    "start_time": "2023-03-22T17:17:09.482Z"
   },
   {
    "duration": 30251,
    "start_time": "2023-03-22T17:17:09.521Z"
   },
   {
    "duration": 371,
    "start_time": "2023-03-22T17:17:39.775Z"
   },
   {
    "duration": 1133,
    "start_time": "2023-03-22T17:17:40.147Z"
   },
   {
    "duration": 1700,
    "start_time": "2023-03-22T17:17:41.282Z"
   },
   {
    "duration": 1103,
    "start_time": "2023-03-22T17:17:42.984Z"
   },
   {
    "duration": 287,
    "start_time": "2023-03-22T17:17:44.089Z"
   },
   {
    "duration": 314,
    "start_time": "2023-03-22T17:17:44.378Z"
   },
   {
    "duration": 2759,
    "start_time": "2023-03-22T17:17:44.694Z"
   },
   {
    "duration": 2837,
    "start_time": "2023-03-22T17:19:45.793Z"
   },
   {
    "duration": 3173,
    "start_time": "2023-03-22T17:19:54.296Z"
   },
   {
    "duration": 3011,
    "start_time": "2023-03-22T17:20:02.791Z"
   },
   {
    "duration": 2766,
    "start_time": "2023-03-22T17:20:10.828Z"
   },
   {
    "duration": 3054,
    "start_time": "2023-03-22T17:20:18.228Z"
   },
   {
    "duration": 2771,
    "start_time": "2023-03-22T17:20:28.080Z"
   },
   {
    "duration": 3011,
    "start_time": "2023-03-22T17:20:36.134Z"
   },
   {
    "duration": 6438,
    "start_time": "2023-03-22T17:22:19.885Z"
   },
   {
    "duration": 17495,
    "start_time": "2023-03-22T17:23:44.389Z"
   },
   {
    "duration": 43,
    "start_time": "2023-03-22T18:21:29.649Z"
   },
   {
    "duration": 12,
    "start_time": "2023-03-22T18:21:29.694Z"
   },
   {
    "duration": 14,
    "start_time": "2023-03-22T18:21:29.708Z"
   },
   {
    "duration": 60,
    "start_time": "2023-03-22T18:21:29.725Z"
   },
   {
    "duration": 1850,
    "start_time": "2023-03-22T18:21:29.787Z"
   },
   {
    "duration": 7,
    "start_time": "2023-03-22T18:21:31.638Z"
   },
   {
    "duration": 31,
    "start_time": "2023-03-22T18:21:31.647Z"
   },
   {
    "duration": 12,
    "start_time": "2023-03-22T18:21:31.680Z"
   },
   {
    "duration": 43,
    "start_time": "2023-03-22T18:21:31.693Z"
   },
   {
    "duration": 5,
    "start_time": "2023-03-22T18:21:31.740Z"
   },
   {
    "duration": 16,
    "start_time": "2023-03-22T18:21:31.747Z"
   },
   {
    "duration": 3,
    "start_time": "2023-03-22T18:21:31.765Z"
   },
   {
    "duration": 32,
    "start_time": "2023-03-22T18:21:31.770Z"
   },
   {
    "duration": 4,
    "start_time": "2023-03-22T18:21:31.804Z"
   },
   {
    "duration": 12,
    "start_time": "2023-03-22T18:21:31.809Z"
   },
   {
    "duration": 197,
    "start_time": "2023-03-22T18:21:31.822Z"
   },
   {
    "duration": 17,
    "start_time": "2023-03-22T18:21:32.021Z"
   },
   {
    "duration": 166,
    "start_time": "2023-03-22T18:24:06.194Z"
   },
   {
    "duration": 5,
    "start_time": "2023-03-22T18:24:09.771Z"
   },
   {
    "duration": 5,
    "start_time": "2023-03-22T18:24:12.864Z"
   },
   {
    "duration": 1190,
    "start_time": "2023-03-22T18:24:16.847Z"
   },
   {
    "duration": 30075,
    "start_time": "2023-03-22T18:25:04.151Z"
   },
   {
    "duration": 5684,
    "start_time": "2023-03-22T18:54:21.492Z"
   },
   {
    "duration": 14,
    "start_time": "2023-03-22T18:54:30.534Z"
   },
   {
    "duration": 33,
    "start_time": "2023-03-22T18:54:38.640Z"
   },
   {
    "duration": 2435405,
    "start_time": "2023-03-22T18:58:42.231Z"
   },
   {
    "duration": 359,
    "start_time": "2023-03-22T19:44:03.432Z"
   },
   {
    "duration": 38,
    "start_time": "2023-03-22T19:44:41.238Z"
   },
   {
    "duration": 13,
    "start_time": "2023-03-22T19:44:41.278Z"
   },
   {
    "duration": 15,
    "start_time": "2023-03-22T19:44:41.292Z"
   },
   {
    "duration": 73,
    "start_time": "2023-03-22T19:44:41.308Z"
   },
   {
    "duration": 1547,
    "start_time": "2023-03-22T19:44:41.383Z"
   },
   {
    "duration": 7,
    "start_time": "2023-03-22T19:44:42.931Z"
   },
   {
    "duration": 12,
    "start_time": "2023-03-22T19:44:42.940Z"
   },
   {
    "duration": 27,
    "start_time": "2023-03-22T19:44:42.953Z"
   },
   {
    "duration": 21,
    "start_time": "2023-03-22T19:44:42.982Z"
   },
   {
    "duration": 5,
    "start_time": "2023-03-22T19:44:43.005Z"
   },
   {
    "duration": 9,
    "start_time": "2023-03-22T19:44:43.012Z"
   },
   {
    "duration": 4,
    "start_time": "2023-03-22T19:44:43.023Z"
   },
   {
    "duration": 5,
    "start_time": "2023-03-22T19:44:43.029Z"
   },
   {
    "duration": 39,
    "start_time": "2023-03-22T19:44:43.036Z"
   },
   {
    "duration": 6,
    "start_time": "2023-03-22T19:44:43.078Z"
   },
   {
    "duration": 203,
    "start_time": "2023-03-22T19:44:43.086Z"
   },
   {
    "duration": 22,
    "start_time": "2023-03-22T19:44:55.496Z"
   },
   {
    "duration": 157,
    "start_time": "2023-03-22T19:45:15.375Z"
   },
   {
    "duration": 5,
    "start_time": "2023-03-22T19:45:39.432Z"
   },
   {
    "duration": 6,
    "start_time": "2023-03-22T19:46:03.234Z"
   },
   {
    "duration": 1484,
    "start_time": "2023-03-22T19:46:05.471Z"
   },
   {
    "duration": 177,
    "start_time": "2023-03-22T19:46:11.387Z"
   },
   {
    "duration": 41,
    "start_time": "2023-03-22T19:46:56.129Z"
   },
   {
    "duration": 14,
    "start_time": "2023-03-22T19:46:56.172Z"
   },
   {
    "duration": 21,
    "start_time": "2023-03-22T19:46:56.188Z"
   },
   {
    "duration": 77,
    "start_time": "2023-03-22T19:46:56.211Z"
   },
   {
    "duration": 1626,
    "start_time": "2023-03-22T19:46:56.290Z"
   },
   {
    "duration": 7,
    "start_time": "2023-03-22T19:46:57.918Z"
   },
   {
    "duration": 13,
    "start_time": "2023-03-22T19:46:57.927Z"
   },
   {
    "duration": 7,
    "start_time": "2023-03-22T19:46:57.942Z"
   },
   {
    "duration": 44,
    "start_time": "2023-03-22T19:46:57.950Z"
   },
   {
    "duration": 4,
    "start_time": "2023-03-22T19:46:57.996Z"
   },
   {
    "duration": 11,
    "start_time": "2023-03-22T19:46:58.001Z"
   },
   {
    "duration": 3,
    "start_time": "2023-03-22T19:46:58.014Z"
   },
   {
    "duration": 5,
    "start_time": "2023-03-22T19:46:58.019Z"
   },
   {
    "duration": 4,
    "start_time": "2023-03-22T19:46:58.027Z"
   },
   {
    "duration": 44,
    "start_time": "2023-03-22T19:46:58.033Z"
   },
   {
    "duration": 202,
    "start_time": "2023-03-22T19:46:58.079Z"
   },
   {
    "duration": 20,
    "start_time": "2023-03-22T19:46:58.284Z"
   },
   {
    "duration": 195,
    "start_time": "2023-03-22T19:46:58.306Z"
   },
   {
    "duration": 5,
    "start_time": "2023-03-22T19:46:58.502Z"
   },
   {
    "duration": 6,
    "start_time": "2023-03-22T19:46:58.509Z"
   },
   {
    "duration": 1553,
    "start_time": "2023-03-22T19:46:58.516Z"
   },
   {
    "duration": 3,
    "start_time": "2023-03-22T19:47:00.074Z"
   },
   {
    "duration": 183,
    "start_time": "2023-03-22T19:47:04.818Z"
   },
   {
    "duration": 42,
    "start_time": "2023-03-22T19:47:55.545Z"
   },
   {
    "duration": 13,
    "start_time": "2023-03-22T19:47:55.589Z"
   },
   {
    "duration": 14,
    "start_time": "2023-03-22T19:47:55.603Z"
   },
   {
    "duration": 65,
    "start_time": "2023-03-22T19:47:55.620Z"
   },
   {
    "duration": 1843,
    "start_time": "2023-03-22T19:47:55.688Z"
   },
   {
    "duration": 10,
    "start_time": "2023-03-22T19:47:57.533Z"
   },
   {
    "duration": 33,
    "start_time": "2023-03-22T19:47:57.544Z"
   },
   {
    "duration": 13,
    "start_time": "2023-03-22T19:47:57.579Z"
   },
   {
    "duration": 26,
    "start_time": "2023-03-22T19:47:57.593Z"
   },
   {
    "duration": 4,
    "start_time": "2023-03-22T19:47:57.622Z"
   },
   {
    "duration": 12,
    "start_time": "2023-03-22T19:47:57.628Z"
   },
   {
    "duration": 9,
    "start_time": "2023-03-22T19:47:57.641Z"
   },
   {
    "duration": 5,
    "start_time": "2023-03-22T19:47:57.652Z"
   },
   {
    "duration": 5,
    "start_time": "2023-03-22T19:47:57.675Z"
   },
   {
    "duration": 9,
    "start_time": "2023-03-22T19:47:57.681Z"
   },
   {
    "duration": 196,
    "start_time": "2023-03-22T19:47:57.692Z"
   },
   {
    "duration": 18,
    "start_time": "2023-03-22T19:47:57.889Z"
   },
   {
    "duration": 179,
    "start_time": "2023-03-22T19:48:04.591Z"
   },
   {
    "duration": 4,
    "start_time": "2023-03-22T19:48:07.296Z"
   },
   {
    "duration": 6,
    "start_time": "2023-03-22T19:48:18.573Z"
   },
   {
    "duration": 1455,
    "start_time": "2023-03-22T19:48:20.987Z"
   },
   {
    "duration": 183,
    "start_time": "2023-03-22T19:48:43.230Z"
   },
   {
    "duration": 175,
    "start_time": "2023-03-22T19:49:56.309Z"
   },
   {
    "duration": 38,
    "start_time": "2023-03-22T19:51:51.388Z"
   },
   {
    "duration": 12,
    "start_time": "2023-03-22T19:51:51.429Z"
   },
   {
    "duration": 16,
    "start_time": "2023-03-22T19:51:51.442Z"
   },
   {
    "duration": 53,
    "start_time": "2023-03-22T19:51:51.460Z"
   },
   {
    "duration": 1613,
    "start_time": "2023-03-22T19:51:51.514Z"
   },
   {
    "duration": 10,
    "start_time": "2023-03-22T19:51:53.129Z"
   },
   {
    "duration": 19,
    "start_time": "2023-03-22T19:51:53.141Z"
   },
   {
    "duration": 8,
    "start_time": "2023-03-22T19:51:53.174Z"
   },
   {
    "duration": 20,
    "start_time": "2023-03-22T19:51:53.184Z"
   },
   {
    "duration": 4,
    "start_time": "2023-03-22T19:51:53.208Z"
   },
   {
    "duration": 8,
    "start_time": "2023-03-22T19:51:53.214Z"
   },
   {
    "duration": 3,
    "start_time": "2023-03-22T19:51:53.225Z"
   },
   {
    "duration": 46,
    "start_time": "2023-03-22T19:51:53.230Z"
   },
   {
    "duration": 6,
    "start_time": "2023-03-22T19:51:53.278Z"
   },
   {
    "duration": 7,
    "start_time": "2023-03-22T19:51:53.286Z"
   },
   {
    "duration": 211,
    "start_time": "2023-03-22T19:51:53.295Z"
   },
   {
    "duration": 18,
    "start_time": "2023-03-22T19:51:53.508Z"
   },
   {
    "duration": 169,
    "start_time": "2023-03-22T19:51:53.528Z"
   },
   {
    "duration": 4,
    "start_time": "2023-03-22T19:51:53.699Z"
   },
   {
    "duration": 7,
    "start_time": "2023-03-22T19:51:53.705Z"
   },
   {
    "duration": 1574,
    "start_time": "2023-03-22T19:51:53.714Z"
   },
   {
    "duration": 3,
    "start_time": "2023-03-22T19:51:55.290Z"
   },
   {
    "duration": 193,
    "start_time": "2023-03-22T19:51:55.295Z"
   },
   {
    "duration": 0,
    "start_time": "2023-03-22T19:51:55.491Z"
   },
   {
    "duration": 0,
    "start_time": "2023-03-22T19:51:55.492Z"
   },
   {
    "duration": 0,
    "start_time": "2023-03-22T19:51:55.492Z"
   },
   {
    "duration": 0,
    "start_time": "2023-03-22T19:51:55.494Z"
   },
   {
    "duration": 0,
    "start_time": "2023-03-22T19:51:55.494Z"
   },
   {
    "duration": 0,
    "start_time": "2023-03-22T19:51:55.496Z"
   },
   {
    "duration": 0,
    "start_time": "2023-03-22T19:51:55.497Z"
   },
   {
    "duration": 0,
    "start_time": "2023-03-22T19:51:55.498Z"
   },
   {
    "duration": 0,
    "start_time": "2023-03-22T19:51:55.499Z"
   },
   {
    "duration": 0,
    "start_time": "2023-03-22T19:51:55.500Z"
   },
   {
    "duration": 0,
    "start_time": "2023-03-22T19:51:55.501Z"
   },
   {
    "duration": 0,
    "start_time": "2023-03-22T19:51:55.502Z"
   },
   {
    "duration": 0,
    "start_time": "2023-03-22T19:51:55.502Z"
   },
   {
    "duration": 0,
    "start_time": "2023-03-22T19:51:55.503Z"
   },
   {
    "duration": 0,
    "start_time": "2023-03-22T19:51:55.504Z"
   },
   {
    "duration": 0,
    "start_time": "2023-03-22T19:51:55.505Z"
   },
   {
    "duration": 0,
    "start_time": "2023-03-22T19:51:55.506Z"
   },
   {
    "duration": 0,
    "start_time": "2023-03-22T19:51:55.507Z"
   },
   {
    "duration": 0,
    "start_time": "2023-03-22T19:51:55.508Z"
   },
   {
    "duration": 0,
    "start_time": "2023-03-22T19:51:55.510Z"
   },
   {
    "duration": 0,
    "start_time": "2023-03-22T19:51:55.511Z"
   },
   {
    "duration": 41,
    "start_time": "2023-03-22T19:54:06.764Z"
   },
   {
    "duration": 19,
    "start_time": "2023-03-22T19:54:06.808Z"
   },
   {
    "duration": 15,
    "start_time": "2023-03-22T19:54:06.829Z"
   },
   {
    "duration": 57,
    "start_time": "2023-03-22T19:54:06.846Z"
   },
   {
    "duration": 1552,
    "start_time": "2023-03-22T19:54:06.905Z"
   },
   {
    "duration": 17,
    "start_time": "2023-03-22T19:54:08.459Z"
   },
   {
    "duration": 14,
    "start_time": "2023-03-22T19:54:08.478Z"
   },
   {
    "duration": 8,
    "start_time": "2023-03-22T19:54:08.493Z"
   },
   {
    "duration": 25,
    "start_time": "2023-03-22T19:54:08.502Z"
   },
   {
    "duration": 5,
    "start_time": "2023-03-22T19:54:08.529Z"
   },
   {
    "duration": 40,
    "start_time": "2023-03-22T19:54:08.535Z"
   },
   {
    "duration": 6,
    "start_time": "2023-03-22T19:54:08.577Z"
   },
   {
    "duration": 9,
    "start_time": "2023-03-22T19:54:08.585Z"
   },
   {
    "duration": 12,
    "start_time": "2023-03-22T19:54:08.596Z"
   },
   {
    "duration": 12,
    "start_time": "2023-03-22T19:54:08.611Z"
   },
   {
    "duration": 217,
    "start_time": "2023-03-22T19:54:08.625Z"
   },
   {
    "duration": 34,
    "start_time": "2023-03-22T19:54:08.843Z"
   },
   {
    "duration": 128,
    "start_time": "2023-03-22T19:54:17.752Z"
   },
   {
    "duration": 94,
    "start_time": "2023-03-22T19:54:58.837Z"
   },
   {
    "duration": 39,
    "start_time": "2023-03-22T19:55:28.533Z"
   },
   {
    "duration": 22,
    "start_time": "2023-03-22T19:55:28.574Z"
   },
   {
    "duration": 18,
    "start_time": "2023-03-22T19:55:28.598Z"
   },
   {
    "duration": 41,
    "start_time": "2023-03-22T19:55:28.618Z"
   },
   {
    "duration": 1595,
    "start_time": "2023-03-22T19:55:28.661Z"
   },
   {
    "duration": 23,
    "start_time": "2023-03-22T19:55:30.258Z"
   },
   {
    "duration": 22,
    "start_time": "2023-03-22T19:55:30.285Z"
   },
   {
    "duration": 20,
    "start_time": "2023-03-22T19:55:30.309Z"
   },
   {
    "duration": 79,
    "start_time": "2023-03-22T19:55:30.331Z"
   },
   {
    "duration": 15,
    "start_time": "2023-03-22T19:55:30.411Z"
   },
   {
    "duration": 27,
    "start_time": "2023-03-22T19:55:30.428Z"
   },
   {
    "duration": 25,
    "start_time": "2023-03-22T19:55:30.457Z"
   },
   {
    "duration": 27,
    "start_time": "2023-03-22T19:55:30.484Z"
   },
   {
    "duration": 27,
    "start_time": "2023-03-22T19:55:30.516Z"
   },
   {
    "duration": 54,
    "start_time": "2023-03-22T19:55:30.545Z"
   },
   {
    "duration": 218,
    "start_time": "2023-03-22T19:55:30.600Z"
   },
   {
    "duration": 21,
    "start_time": "2023-03-22T19:55:39.187Z"
   },
   {
    "duration": 132,
    "start_time": "2023-03-22T19:56:27.416Z"
   },
   {
    "duration": 100,
    "start_time": "2023-03-22T19:57:57.532Z"
   },
   {
    "duration": 98,
    "start_time": "2023-03-22T19:58:03.500Z"
   },
   {
    "duration": 11,
    "start_time": "2023-03-22T20:00:07.193Z"
   },
   {
    "duration": 38,
    "start_time": "2023-03-22T20:00:32.903Z"
   },
   {
    "duration": 13,
    "start_time": "2023-03-22T20:00:32.943Z"
   },
   {
    "duration": 24,
    "start_time": "2023-03-22T20:00:32.959Z"
   },
   {
    "duration": 58,
    "start_time": "2023-03-22T20:00:32.988Z"
   },
   {
    "duration": 2113,
    "start_time": "2023-03-22T20:00:33.048Z"
   },
   {
    "duration": 20,
    "start_time": "2023-03-22T20:00:35.163Z"
   },
   {
    "duration": 26,
    "start_time": "2023-03-22T20:00:35.186Z"
   },
   {
    "duration": 10,
    "start_time": "2023-03-22T20:00:35.215Z"
   },
   {
    "duration": 21,
    "start_time": "2023-03-22T20:00:35.227Z"
   },
   {
    "duration": 5,
    "start_time": "2023-03-22T20:00:35.251Z"
   },
   {
    "duration": 29,
    "start_time": "2023-03-22T20:00:35.258Z"
   },
   {
    "duration": 7,
    "start_time": "2023-03-22T20:00:35.289Z"
   },
   {
    "duration": 9,
    "start_time": "2023-03-22T20:00:35.298Z"
   },
   {
    "duration": 5,
    "start_time": "2023-03-22T20:00:35.309Z"
   },
   {
    "duration": 6,
    "start_time": "2023-03-22T20:00:35.316Z"
   },
   {
    "duration": 209,
    "start_time": "2023-03-22T20:00:35.325Z"
   },
   {
    "duration": 19,
    "start_time": "2023-03-22T20:00:46.334Z"
   },
   {
    "duration": 136,
    "start_time": "2023-03-22T20:02:28.633Z"
   },
   {
    "duration": 48,
    "start_time": "2023-03-22T20:03:21.292Z"
   },
   {
    "duration": 13,
    "start_time": "2023-03-22T20:03:21.343Z"
   },
   {
    "duration": 23,
    "start_time": "2023-03-22T20:03:21.358Z"
   },
   {
    "duration": 45,
    "start_time": "2023-03-22T20:03:21.383Z"
   },
   {
    "duration": 1658,
    "start_time": "2023-03-22T20:03:21.431Z"
   },
   {
    "duration": 9,
    "start_time": "2023-03-22T20:03:23.092Z"
   },
   {
    "duration": 14,
    "start_time": "2023-03-22T20:03:23.103Z"
   },
   {
    "duration": 8,
    "start_time": "2023-03-22T20:03:23.119Z"
   },
   {
    "duration": 51,
    "start_time": "2023-03-22T20:03:23.129Z"
   },
   {
    "duration": 6,
    "start_time": "2023-03-22T20:03:23.182Z"
   },
   {
    "duration": 13,
    "start_time": "2023-03-22T20:03:23.190Z"
   },
   {
    "duration": 3,
    "start_time": "2023-03-22T20:03:23.205Z"
   },
   {
    "duration": 7,
    "start_time": "2023-03-22T20:03:23.210Z"
   },
   {
    "duration": 4,
    "start_time": "2023-03-22T20:03:23.219Z"
   },
   {
    "duration": 6,
    "start_time": "2023-03-22T20:03:23.224Z"
   },
   {
    "duration": 237,
    "start_time": "2023-03-22T20:03:23.232Z"
   },
   {
    "duration": 27,
    "start_time": "2023-03-22T20:03:26.125Z"
   },
   {
    "duration": 109,
    "start_time": "2023-03-22T20:03:33.769Z"
   },
   {
    "duration": 54,
    "start_time": "2023-03-22T20:04:10.445Z"
   },
   {
    "duration": 106,
    "start_time": "2023-03-22T20:04:21.223Z"
   },
   {
    "duration": 11,
    "start_time": "2023-03-22T20:04:29.535Z"
   },
   {
    "duration": 6,
    "start_time": "2023-03-22T20:04:40.989Z"
   },
   {
    "duration": 90,
    "start_time": "2023-03-22T20:05:05.058Z"
   },
   {
    "duration": 6,
    "start_time": "2023-03-22T20:05:07.985Z"
   },
   {
    "duration": 37,
    "start_time": "2023-03-22T20:05:45.891Z"
   },
   {
    "duration": 13,
    "start_time": "2023-03-22T20:05:45.929Z"
   },
   {
    "duration": 15,
    "start_time": "2023-03-22T20:05:45.944Z"
   },
   {
    "duration": 64,
    "start_time": "2023-03-22T20:05:45.961Z"
   },
   {
    "duration": 1622,
    "start_time": "2023-03-22T20:05:46.026Z"
   },
   {
    "duration": 9,
    "start_time": "2023-03-22T20:05:47.651Z"
   },
   {
    "duration": 30,
    "start_time": "2023-03-22T20:05:47.661Z"
   },
   {
    "duration": 9,
    "start_time": "2023-03-22T20:05:47.693Z"
   },
   {
    "duration": 23,
    "start_time": "2023-03-22T20:05:47.703Z"
   },
   {
    "duration": 4,
    "start_time": "2023-03-22T20:05:47.729Z"
   },
   {
    "duration": 9,
    "start_time": "2023-03-22T20:05:47.735Z"
   },
   {
    "duration": 39,
    "start_time": "2023-03-22T20:05:47.746Z"
   },
   {
    "duration": 10,
    "start_time": "2023-03-22T20:05:47.786Z"
   },
   {
    "duration": 5,
    "start_time": "2023-03-22T20:05:47.797Z"
   },
   {
    "duration": 6,
    "start_time": "2023-03-22T20:05:47.803Z"
   },
   {
    "duration": 211,
    "start_time": "2023-03-22T20:05:47.811Z"
   },
   {
    "duration": 17,
    "start_time": "2023-03-22T20:05:48.024Z"
   },
   {
    "duration": 106,
    "start_time": "2023-03-22T20:05:48.043Z"
   },
   {
    "duration": 25,
    "start_time": "2023-03-22T20:05:57.029Z"
   },
   {
    "duration": 9,
    "start_time": "2023-03-22T20:06:12.483Z"
   },
   {
    "duration": 28,
    "start_time": "2023-03-22T20:06:21.771Z"
   },
   {
    "duration": 6,
    "start_time": "2023-03-22T20:06:33.101Z"
   },
   {
    "duration": 133,
    "start_time": "2023-03-22T20:07:10.022Z"
   },
   {
    "duration": 103,
    "start_time": "2023-03-22T20:08:54.986Z"
   },
   {
    "duration": 93,
    "start_time": "2023-03-22T20:09:23.027Z"
   },
   {
    "duration": 4,
    "start_time": "2023-03-22T20:10:09.744Z"
   },
   {
    "duration": 13,
    "start_time": "2023-03-22T20:10:59.315Z"
   },
   {
    "duration": 13,
    "start_time": "2023-03-22T20:11:21.133Z"
   },
   {
    "duration": 9,
    "start_time": "2023-03-22T20:11:29.890Z"
   },
   {
    "duration": 18,
    "start_time": "2023-03-22T20:11:38.861Z"
   },
   {
    "duration": 13,
    "start_time": "2023-03-22T20:14:31.151Z"
   },
   {
    "duration": 48,
    "start_time": "2023-03-22T20:16:26.836Z"
   },
   {
    "duration": 13,
    "start_time": "2023-03-22T20:16:28.818Z"
   },
   {
    "duration": 15,
    "start_time": "2023-03-22T20:16:30.712Z"
   },
   {
    "duration": 45,
    "start_time": "2023-03-22T20:16:33.249Z"
   },
   {
    "duration": 1947,
    "start_time": "2023-03-22T20:16:35.416Z"
   },
   {
    "duration": 8,
    "start_time": "2023-03-22T20:16:40.941Z"
   },
   {
    "duration": 14,
    "start_time": "2023-03-22T20:16:43.433Z"
   },
   {
    "duration": 7,
    "start_time": "2023-03-22T20:16:46.245Z"
   },
   {
    "duration": 21,
    "start_time": "2023-03-22T20:16:48.295Z"
   },
   {
    "duration": 4,
    "start_time": "2023-03-22T20:16:50.965Z"
   },
   {
    "duration": 8,
    "start_time": "2023-03-22T20:16:52.629Z"
   },
   {
    "duration": 3,
    "start_time": "2023-03-22T20:16:54.839Z"
   },
   {
    "duration": 4,
    "start_time": "2023-03-22T20:16:57.285Z"
   },
   {
    "duration": 3,
    "start_time": "2023-03-22T20:16:58.901Z"
   },
   {
    "duration": 4,
    "start_time": "2023-03-22T20:17:00.985Z"
   },
   {
    "duration": 184,
    "start_time": "2023-03-22T20:17:03.081Z"
   },
   {
    "duration": 19,
    "start_time": "2023-03-22T20:17:04.614Z"
   },
   {
    "duration": 89,
    "start_time": "2023-03-22T20:17:06.941Z"
   },
   {
    "duration": 103,
    "start_time": "2023-03-22T20:17:11.245Z"
   },
   {
    "duration": 4,
    "start_time": "2023-03-22T20:17:13.167Z"
   },
   {
    "duration": 14,
    "start_time": "2023-03-22T20:17:25.391Z"
   },
   {
    "duration": 15,
    "start_time": "2023-03-22T20:17:59.931Z"
   },
   {
    "duration": 5,
    "start_time": "2023-03-22T20:18:01.095Z"
   },
   {
    "duration": 7,
    "start_time": "2023-03-22T20:18:01.290Z"
   },
   {
    "duration": 13,
    "start_time": "2023-03-22T20:18:52.550Z"
   },
   {
    "duration": 134,
    "start_time": "2023-03-22T20:22:39.375Z"
   },
   {
    "duration": 4,
    "start_time": "2023-03-22T20:22:44.012Z"
   },
   {
    "duration": 87,
    "start_time": "2023-03-22T20:23:24.238Z"
   },
   {
    "duration": 77,
    "start_time": "2023-03-22T20:24:34.464Z"
   },
   {
    "duration": 14,
    "start_time": "2023-03-22T20:24:42.129Z"
   },
   {
    "duration": 24,
    "start_time": "2023-03-22T20:24:52.826Z"
   },
   {
    "duration": 6,
    "start_time": "2023-03-22T20:25:05.832Z"
   },
   {
    "duration": 14,
    "start_time": "2023-03-22T20:26:11.327Z"
   },
   {
    "duration": 821,
    "start_time": "2023-03-23T18:57:52.355Z"
   },
   {
    "duration": 20,
    "start_time": "2023-03-23T18:57:55.638Z"
   },
   {
    "duration": 19,
    "start_time": "2023-03-23T18:57:58.863Z"
   },
   {
    "duration": 35,
    "start_time": "2023-03-23T18:58:02.703Z"
   },
   {
    "duration": 2034,
    "start_time": "2023-03-23T18:58:06.332Z"
   },
   {
    "duration": 14,
    "start_time": "2023-03-23T18:58:12.899Z"
   },
   {
    "duration": 71,
    "start_time": "2023-03-23T18:58:16.336Z"
   },
   {
    "duration": 6,
    "start_time": "2023-03-23T18:58:20.013Z"
   },
   {
    "duration": 19,
    "start_time": "2023-03-23T18:58:23.066Z"
   },
   {
    "duration": 4,
    "start_time": "2023-03-23T18:58:26.431Z"
   },
   {
    "duration": 6,
    "start_time": "2023-03-23T18:58:29.108Z"
   },
   {
    "duration": 3,
    "start_time": "2023-03-23T18:58:31.786Z"
   },
   {
    "duration": 4,
    "start_time": "2023-03-23T18:58:34.319Z"
   },
   {
    "duration": 3,
    "start_time": "2023-03-23T18:58:36.606Z"
   },
   {
    "duration": 4,
    "start_time": "2023-03-23T18:58:39.059Z"
   },
   {
    "duration": 216,
    "start_time": "2023-03-23T18:58:42.009Z"
   },
   {
    "duration": 18,
    "start_time": "2023-03-23T18:58:44.622Z"
   },
   {
    "duration": 96,
    "start_time": "2023-03-23T18:58:48.337Z"
   },
   {
    "duration": 890,
    "start_time": "2023-03-23T18:59:21.809Z"
   },
   {
    "duration": 4,
    "start_time": "2023-03-23T18:59:26.402Z"
   },
   {
    "duration": 5,
    "start_time": "2023-03-23T18:59:32.869Z"
   },
   {
    "duration": 1329,
    "start_time": "2023-03-23T18:59:38.371Z"
   },
   {
    "duration": 264,
    "start_time": "2023-03-23T18:59:49.931Z"
   },
   {
    "duration": 131,
    "start_time": "2023-03-23T19:00:14.321Z"
   },
   {
    "duration": 135,
    "start_time": "2023-03-23T19:00:35.363Z"
   },
   {
    "duration": 132,
    "start_time": "2023-03-23T19:00:46.561Z"
   },
   {
    "duration": 146,
    "start_time": "2023-03-23T19:00:51.419Z"
   },
   {
    "duration": 29908,
    "start_time": "2023-03-23T19:02:28.988Z"
   },
   {
    "duration": 4689,
    "start_time": "2023-03-23T19:03:11.667Z"
   },
   {
    "duration": 14,
    "start_time": "2023-03-23T19:03:19.572Z"
   },
   {
    "duration": 36,
    "start_time": "2023-03-23T19:03:39.550Z"
   },
   {
    "duration": 2525763,
    "start_time": "2023-03-23T19:03:56.426Z"
   },
   {
    "duration": 282,
    "start_time": "2023-03-23T19:46:29.393Z"
   },
   {
    "duration": 280,
    "start_time": "2023-03-23T19:46:43.681Z"
   },
   {
    "duration": 271,
    "start_time": "2023-03-23T19:46:47.138Z"
   },
   {
    "duration": 264,
    "start_time": "2023-03-23T19:47:19.133Z"
   },
   {
    "duration": 364,
    "start_time": "2023-03-23T19:47:26.491Z"
   },
   {
    "duration": 831,
    "start_time": "2023-03-23T19:49:10.030Z"
   },
   {
    "duration": 1475,
    "start_time": "2023-03-23T19:49:13.571Z"
   },
   {
    "duration": 806,
    "start_time": "2023-03-23T19:49:17.591Z"
   },
   {
    "duration": 210,
    "start_time": "2023-03-23T19:49:21.351Z"
   },
   {
    "duration": 127,
    "start_time": "2023-03-23T19:49:24.527Z"
   },
   {
    "duration": 2401,
    "start_time": "2023-03-23T19:49:27.950Z"
   },
   {
    "duration": 2676,
    "start_time": "2023-03-23T19:49:34.525Z"
   },
   {
    "duration": 14467,
    "start_time": "2023-03-23T19:49:40.489Z"
   },
   {
    "duration": 498,
    "start_time": "2023-03-23T19:49:54.959Z"
   },
   {
    "duration": 2068,
    "start_time": "2023-03-23T19:50:04.090Z"
   },
   {
    "duration": 5910,
    "start_time": "2023-03-23T19:50:20.679Z"
   },
   {
    "duration": 171462,
    "start_time": "2023-03-23T19:53:17.001Z"
   },
   {
    "duration": 5064,
    "start_time": "2023-03-23T19:57:38.492Z"
   },
   {
    "duration": 2109,
    "start_time": "2023-03-23T19:57:56.008Z"
   },
   {
    "duration": 5943,
    "start_time": "2023-03-23T19:58:03.787Z"
   },
   {
    "duration": 50,
    "start_time": "2023-03-23T19:59:38.203Z"
   },
   {
    "duration": 10,
    "start_time": "2023-03-23T19:59:38.256Z"
   },
   {
    "duration": 20,
    "start_time": "2023-03-23T19:59:38.268Z"
   },
   {
    "duration": 33,
    "start_time": "2023-03-23T19:59:38.291Z"
   },
   {
    "duration": 1456,
    "start_time": "2023-03-23T19:59:38.325Z"
   },
   {
    "duration": 7,
    "start_time": "2023-03-23T19:59:39.783Z"
   },
   {
    "duration": 13,
    "start_time": "2023-03-23T19:59:39.792Z"
   },
   {
    "duration": 5,
    "start_time": "2023-03-23T19:59:39.807Z"
   },
   {
    "duration": 19,
    "start_time": "2023-03-23T19:59:39.841Z"
   },
   {
    "duration": 4,
    "start_time": "2023-03-23T19:59:39.862Z"
   },
   {
    "duration": 5,
    "start_time": "2023-03-23T19:59:39.868Z"
   },
   {
    "duration": 2,
    "start_time": "2023-03-23T19:59:39.875Z"
   },
   {
    "duration": 7,
    "start_time": "2023-03-23T19:59:39.878Z"
   },
   {
    "duration": 3,
    "start_time": "2023-03-23T19:59:39.887Z"
   },
   {
    "duration": 5,
    "start_time": "2023-03-23T19:59:39.891Z"
   },
   {
    "duration": 233,
    "start_time": "2023-03-23T19:59:39.897Z"
   },
   {
    "duration": 29,
    "start_time": "2023-03-23T19:59:40.132Z"
   },
   {
    "duration": 95,
    "start_time": "2023-03-23T19:59:40.163Z"
   },
   {
    "duration": 128,
    "start_time": "2023-03-23T19:59:40.260Z"
   },
   {
    "duration": 4,
    "start_time": "2023-03-23T19:59:40.390Z"
   },
   {
    "duration": 5,
    "start_time": "2023-03-23T19:59:40.396Z"
   },
   {
    "duration": 862,
    "start_time": "2023-03-23T19:59:40.403Z"
   },
   {
    "duration": 4,
    "start_time": "2023-03-23T19:59:41.266Z"
   },
   {
    "duration": 26863,
    "start_time": "2023-03-23T19:59:41.272Z"
   },
   {
    "duration": 21,
    "start_time": "2023-03-23T20:00:08.136Z"
   },
   {
    "duration": 2997,
    "start_time": "2023-03-23T20:00:08.158Z"
   },
   {
    "duration": 99,
    "start_time": "2023-03-23T20:00:11.158Z"
   },
   {
    "duration": 30,
    "start_time": "2023-03-23T20:00:11.260Z"
   },
   {
    "duration": 0,
    "start_time": "2023-03-23T20:01:24.101Z"
   },
   {
    "duration": 0,
    "start_time": "2023-03-23T20:01:24.102Z"
   },
   {
    "duration": 0,
    "start_time": "2023-03-23T20:01:24.104Z"
   },
   {
    "duration": 0,
    "start_time": "2023-03-23T20:01:24.105Z"
   },
   {
    "duration": 0,
    "start_time": "2023-03-23T20:01:24.105Z"
   },
   {
    "duration": 0,
    "start_time": "2023-03-23T20:01:24.107Z"
   },
   {
    "duration": 0,
    "start_time": "2023-03-23T20:01:24.108Z"
   },
   {
    "duration": 0,
    "start_time": "2023-03-23T20:01:24.108Z"
   },
   {
    "duration": 0,
    "start_time": "2023-03-23T20:01:24.109Z"
   },
   {
    "duration": 0,
    "start_time": "2023-03-23T20:01:24.110Z"
   },
   {
    "duration": 0,
    "start_time": "2023-03-23T20:01:24.111Z"
   },
   {
    "duration": 0,
    "start_time": "2023-03-23T20:01:24.112Z"
   },
   {
    "duration": 0,
    "start_time": "2023-03-23T20:01:24.112Z"
   },
   {
    "duration": 0,
    "start_time": "2023-03-23T20:01:24.113Z"
   },
   {
    "duration": 0,
    "start_time": "2023-03-23T20:01:24.114Z"
   },
   {
    "duration": 0,
    "start_time": "2023-03-23T20:01:24.116Z"
   },
   {
    "duration": 0,
    "start_time": "2023-03-23T20:01:24.117Z"
   },
   {
    "duration": 0,
    "start_time": "2023-03-23T20:01:24.118Z"
   },
   {
    "duration": 0,
    "start_time": "2023-03-23T20:01:24.140Z"
   },
   {
    "duration": 0,
    "start_time": "2023-03-23T20:01:24.140Z"
   },
   {
    "duration": 0,
    "start_time": "2023-03-23T20:01:24.141Z"
   },
   {
    "duration": 1,
    "start_time": "2023-03-23T20:01:24.141Z"
   },
   {
    "duration": 0,
    "start_time": "2023-03-23T20:01:24.142Z"
   },
   {
    "duration": 0,
    "start_time": "2023-03-23T20:01:24.143Z"
   },
   {
    "duration": 0,
    "start_time": "2023-03-23T20:01:24.143Z"
   },
   {
    "duration": 0,
    "start_time": "2023-03-23T20:01:24.144Z"
   },
   {
    "duration": 0,
    "start_time": "2023-03-23T20:01:24.144Z"
   },
   {
    "duration": 0,
    "start_time": "2023-03-23T20:01:24.145Z"
   },
   {
    "duration": 0,
    "start_time": "2023-03-23T20:01:24.146Z"
   },
   {
    "duration": 0,
    "start_time": "2023-03-23T20:01:24.146Z"
   },
   {
    "duration": 0,
    "start_time": "2023-03-23T20:01:24.147Z"
   },
   {
    "duration": 0,
    "start_time": "2023-03-23T20:01:24.147Z"
   },
   {
    "duration": 0,
    "start_time": "2023-03-23T20:01:24.148Z"
   },
   {
    "duration": 0,
    "start_time": "2023-03-23T20:01:24.148Z"
   },
   {
    "duration": 0,
    "start_time": "2023-03-23T20:01:24.149Z"
   },
   {
    "duration": 0,
    "start_time": "2023-03-23T20:01:24.149Z"
   },
   {
    "duration": 0,
    "start_time": "2023-03-23T20:01:24.150Z"
   },
   {
    "duration": 0,
    "start_time": "2023-03-23T20:01:24.150Z"
   },
   {
    "duration": 0,
    "start_time": "2023-03-23T20:01:24.151Z"
   },
   {
    "duration": 0,
    "start_time": "2023-03-23T20:01:24.152Z"
   },
   {
    "duration": 0,
    "start_time": "2023-03-23T20:01:24.152Z"
   },
   {
    "duration": 0,
    "start_time": "2023-03-23T20:01:24.153Z"
   },
   {
    "duration": 0,
    "start_time": "2023-03-23T20:01:24.153Z"
   },
   {
    "duration": 0,
    "start_time": "2023-03-23T20:01:24.157Z"
   },
   {
    "duration": 0,
    "start_time": "2023-03-23T20:01:24.159Z"
   },
   {
    "duration": 0,
    "start_time": "2023-03-23T20:01:24.161Z"
   },
   {
    "duration": 42,
    "start_time": "2023-03-23T20:06:56.003Z"
   },
   {
    "duration": 18,
    "start_time": "2023-03-23T20:06:56.046Z"
   },
   {
    "duration": 13,
    "start_time": "2023-03-23T20:06:56.065Z"
   },
   {
    "duration": 35,
    "start_time": "2023-03-23T20:06:56.080Z"
   },
   {
    "duration": 1486,
    "start_time": "2023-03-23T20:06:56.117Z"
   },
   {
    "duration": 8,
    "start_time": "2023-03-23T20:06:57.605Z"
   },
   {
    "duration": 37,
    "start_time": "2023-03-23T20:06:57.615Z"
   },
   {
    "duration": 8,
    "start_time": "2023-03-23T20:06:57.653Z"
   },
   {
    "duration": 16,
    "start_time": "2023-03-23T20:06:57.663Z"
   },
   {
    "duration": 4,
    "start_time": "2023-03-23T20:06:57.680Z"
   },
   {
    "duration": 8,
    "start_time": "2023-03-23T20:06:57.685Z"
   },
   {
    "duration": 3,
    "start_time": "2023-03-23T20:06:57.695Z"
   },
   {
    "duration": 5,
    "start_time": "2023-03-23T20:06:57.699Z"
   },
   {
    "duration": 7,
    "start_time": "2023-03-23T20:06:57.705Z"
   },
   {
    "duration": 17,
    "start_time": "2023-03-23T20:06:57.713Z"
   },
   {
    "duration": 242,
    "start_time": "2023-03-23T20:06:57.732Z"
   },
   {
    "duration": 26,
    "start_time": "2023-03-23T20:06:57.975Z"
   },
   {
    "duration": 195,
    "start_time": "2023-03-23T20:06:58.003Z"
   },
   {
    "duration": 132,
    "start_time": "2023-03-23T20:06:58.200Z"
   },
   {
    "duration": 16,
    "start_time": "2023-03-23T20:06:58.334Z"
   },
   {
    "duration": 7,
    "start_time": "2023-03-23T20:06:58.352Z"
   },
   {
    "duration": 847,
    "start_time": "2023-03-23T20:06:58.360Z"
   },
   {
    "duration": 3,
    "start_time": "2023-03-23T20:06:59.210Z"
   },
   {
    "duration": 26418,
    "start_time": "2023-03-23T20:06:59.214Z"
   },
   {
    "duration": 6,
    "start_time": "2023-03-23T20:07:25.639Z"
   },
   {
    "duration": 3311,
    "start_time": "2023-03-23T20:07:25.646Z"
   },
   {
    "duration": 84,
    "start_time": "2023-03-23T20:07:28.969Z"
   },
   {
    "duration": 29,
    "start_time": "2023-03-23T20:07:29.055Z"
   },
   {
    "duration": 2,
    "start_time": "2023-03-23T20:07:29.086Z"
   },
   {
    "duration": 238,
    "start_time": "2023-03-23T20:07:29.090Z"
   },
   {
    "duration": 271,
    "start_time": "2023-03-23T20:07:29.330Z"
   },
   {
    "duration": 837,
    "start_time": "2023-03-23T20:07:29.603Z"
   },
   {
    "duration": 1201,
    "start_time": "2023-03-23T20:07:30.442Z"
   },
   {
    "duration": 769,
    "start_time": "2023-03-23T20:07:31.645Z"
   },
   {
    "duration": 231,
    "start_time": "2023-03-23T20:07:32.415Z"
   },
   {
    "duration": 209,
    "start_time": "2023-03-23T20:07:32.649Z"
   },
   {
    "duration": 1775,
    "start_time": "2023-03-23T20:07:32.859Z"
   },
   {
    "duration": 1845,
    "start_time": "2023-03-23T20:07:34.635Z"
   },
   {
    "duration": 7932,
    "start_time": "2023-03-23T20:07:36.482Z"
   },
   {
    "duration": 366,
    "start_time": "2023-03-23T20:07:44.416Z"
   },
   {
    "duration": 1610,
    "start_time": "2023-03-23T20:07:44.847Z"
   },
   {
    "duration": 3939,
    "start_time": "2023-03-23T20:07:46.458Z"
   },
   {
    "duration": 126808,
    "start_time": "2023-03-23T20:07:50.399Z"
   },
   {
    "duration": 3691,
    "start_time": "2023-03-23T20:09:57.209Z"
   },
   {
    "duration": 1560,
    "start_time": "2023-03-23T20:10:00.902Z"
   },
   {
    "duration": 3954,
    "start_time": "2023-03-23T20:11:42.292Z"
   },
   {
    "duration": 625,
    "start_time": "2023-03-24T19:06:21.643Z"
   },
   {
    "duration": 13,
    "start_time": "2023-03-24T19:06:26.549Z"
   },
   {
    "duration": 28,
    "start_time": "2023-03-24T19:06:30.573Z"
   },
   {
    "duration": 52,
    "start_time": "2023-03-24T19:06:33.718Z"
   },
   {
    "duration": 2157,
    "start_time": "2023-03-24T19:06:38.811Z"
   },
   {
    "duration": 11,
    "start_time": "2023-03-24T19:06:44.764Z"
   },
   {
    "duration": 55,
    "start_time": "2023-03-24T19:06:48.482Z"
   },
   {
    "duration": 8,
    "start_time": "2023-03-24T19:06:56.038Z"
   },
   {
    "duration": 25,
    "start_time": "2023-03-24T19:07:02.111Z"
   },
   {
    "duration": 4,
    "start_time": "2023-03-24T19:07:25.901Z"
   },
   {
    "duration": 8,
    "start_time": "2023-03-24T19:07:28.906Z"
   },
   {
    "duration": 4,
    "start_time": "2023-03-24T19:07:32.117Z"
   },
   {
    "duration": 4,
    "start_time": "2023-03-24T19:07:42.773Z"
   },
   {
    "duration": 3,
    "start_time": "2023-03-24T19:07:45.697Z"
   },
   {
    "duration": 4,
    "start_time": "2023-03-24T19:07:47.804Z"
   },
   {
    "duration": 13,
    "start_time": "2023-03-24T19:10:06.964Z"
   },
   {
    "duration": 5,
    "start_time": "2023-03-24T19:13:42.042Z"
   },
   {
    "duration": 13,
    "start_time": "2023-03-24T19:14:12.377Z"
   },
   {
    "duration": 41,
    "start_time": "2023-03-24T19:16:56.481Z"
   },
   {
    "duration": 14,
    "start_time": "2023-03-24T19:16:56.524Z"
   },
   {
    "duration": 15,
    "start_time": "2023-03-24T19:16:56.540Z"
   },
   {
    "duration": 42,
    "start_time": "2023-03-24T19:16:56.557Z"
   },
   {
    "duration": 1565,
    "start_time": "2023-03-24T19:16:56.627Z"
   },
   {
    "duration": 8,
    "start_time": "2023-03-24T19:16:58.193Z"
   },
   {
    "duration": 40,
    "start_time": "2023-03-24T19:16:58.203Z"
   },
   {
    "duration": 27,
    "start_time": "2023-03-24T19:16:58.245Z"
   },
   {
    "duration": 32,
    "start_time": "2023-03-24T19:16:58.274Z"
   },
   {
    "duration": 24,
    "start_time": "2023-03-24T19:16:58.309Z"
   },
   {
    "duration": 12,
    "start_time": "2023-03-24T19:16:58.335Z"
   },
   {
    "duration": 3,
    "start_time": "2023-03-24T19:16:58.348Z"
   },
   {
    "duration": 7,
    "start_time": "2023-03-24T19:16:58.353Z"
   },
   {
    "duration": 7,
    "start_time": "2023-03-24T19:16:58.362Z"
   },
   {
    "duration": 5,
    "start_time": "2023-03-24T19:16:58.371Z"
   },
   {
    "duration": 13,
    "start_time": "2023-03-24T19:16:58.377Z"
   },
   {
    "duration": 4,
    "start_time": "2023-03-24T19:16:58.391Z"
   },
   {
    "duration": 40,
    "start_time": "2023-03-24T19:16:58.396Z"
   },
   {
    "duration": 10,
    "start_time": "2023-03-24T19:17:16.786Z"
   },
   {
    "duration": 15,
    "start_time": "2023-03-24T19:17:19.515Z"
   },
   {
    "duration": 724,
    "start_time": "2023-03-24T19:18:28.036Z"
   },
   {
    "duration": 6,
    "start_time": "2023-03-24T19:18:35.053Z"
   },
   {
    "duration": 5,
    "start_time": "2023-03-24T19:18:39.105Z"
   },
   {
    "duration": 76,
    "start_time": "2023-03-24T19:19:59.858Z"
   },
   {
    "duration": 5227,
    "start_time": "2023-03-24T19:20:24.904Z"
   },
   {
    "duration": 418,
    "start_time": "2023-03-24T19:20:56.113Z"
   },
   {
    "duration": 13,
    "start_time": "2023-03-24T19:21:03.272Z"
   },
   {
    "duration": 24,
    "start_time": "2023-03-24T19:25:34.739Z"
   },
   {
    "duration": 28,
    "start_time": "2023-03-24T19:27:46.376Z"
   },
   {
    "duration": 47,
    "start_time": "2023-03-24T19:28:25.338Z"
   },
   {
    "duration": 508065,
    "start_time": "2023-03-24T19:28:34.906Z"
   },
   {
    "duration": 95,
    "start_time": "2023-03-24T19:40:20.443Z"
   },
   {
    "duration": 86,
    "start_time": "2023-03-24T19:40:44.304Z"
   },
   {
    "duration": 91,
    "start_time": "2023-03-24T19:41:22.877Z"
   },
   {
    "duration": 432,
    "start_time": "2023-03-24T19:41:30.725Z"
   },
   {
    "duration": 103,
    "start_time": "2023-03-24T19:41:36.645Z"
   },
   {
    "duration": 164,
    "start_time": "2023-03-24T19:42:17.547Z"
   },
   {
    "duration": 26,
    "start_time": "2023-03-24T19:42:24.839Z"
   },
   {
    "duration": 37,
    "start_time": "2023-03-24T19:42:37.669Z"
   },
   {
    "duration": 325,
    "start_time": "2023-03-24T19:42:42.997Z"
   },
   {
    "duration": 302,
    "start_time": "2023-03-24T19:42:51.674Z"
   },
   {
    "duration": 222,
    "start_time": "2023-03-24T19:42:54.555Z"
   },
   {
    "duration": 25,
    "start_time": "2023-03-24T19:42:59.866Z"
   },
   {
    "duration": 297,
    "start_time": "2023-03-24T19:43:02.450Z"
   },
   {
    "duration": 118,
    "start_time": "2023-03-24T19:43:06.618Z"
   },
   {
    "duration": 24246,
    "start_time": "2023-03-24T19:43:11.173Z"
   },
   {
    "duration": 54,
    "start_time": "2023-03-24T19:44:42.203Z"
   },
   {
    "duration": 13,
    "start_time": "2023-03-24T19:44:44.352Z"
   },
   {
    "duration": 41,
    "start_time": "2023-03-24T19:44:49.476Z"
   },
   {
    "duration": 15,
    "start_time": "2023-03-24T19:45:07.993Z"
   },
   {
    "duration": 47,
    "start_time": "2023-03-24T19:45:12.593Z"
   },
   {
    "duration": 12,
    "start_time": "2023-03-24T19:45:15.089Z"
   },
   {
    "duration": 15,
    "start_time": "2023-03-24T19:45:17.951Z"
   },
   {
    "duration": 43,
    "start_time": "2023-03-24T19:45:22.876Z"
   },
   {
    "duration": 1763,
    "start_time": "2023-03-24T19:45:25.787Z"
   },
   {
    "duration": 10,
    "start_time": "2023-03-24T19:45:33.852Z"
   },
   {
    "duration": 18,
    "start_time": "2023-03-24T19:45:40.781Z"
   },
   {
    "duration": 8,
    "start_time": "2023-03-24T19:45:48.256Z"
   },
   {
    "duration": 31,
    "start_time": "2023-03-24T19:45:50.367Z"
   },
   {
    "duration": 5,
    "start_time": "2023-03-24T19:45:55.495Z"
   },
   {
    "duration": 11,
    "start_time": "2023-03-24T19:46:02.559Z"
   },
   {
    "duration": 3,
    "start_time": "2023-03-24T19:46:10.377Z"
   },
   {
    "duration": 17,
    "start_time": "2023-03-24T19:46:16.339Z"
   },
   {
    "duration": 5,
    "start_time": "2023-03-24T19:46:19.060Z"
   },
   {
    "duration": 7,
    "start_time": "2023-03-24T19:46:21.451Z"
   },
   {
    "duration": 12,
    "start_time": "2023-03-24T19:46:23.777Z"
   },
   {
    "duration": 5,
    "start_time": "2023-03-24T19:46:26.283Z"
   },
   {
    "duration": 25,
    "start_time": "2023-03-24T19:46:29.015Z"
   },
   {
    "duration": 19,
    "start_time": "2023-03-24T19:46:32.827Z"
   },
   {
    "duration": 14,
    "start_time": "2023-03-24T19:46:37.693Z"
   },
   {
    "duration": 3,
    "start_time": "2023-03-24T19:47:02.804Z"
   },
   {
    "duration": 5,
    "start_time": "2023-03-24T19:47:26.157Z"
   },
   {
    "duration": 13,
    "start_time": "2023-03-24T19:47:34.396Z"
   },
   {
    "duration": 63,
    "start_time": "2023-03-24T19:47:40.849Z"
   },
   {
    "duration": 19,
    "start_time": "2023-03-24T19:47:40.915Z"
   },
   {
    "duration": 30,
    "start_time": "2023-03-24T19:47:40.939Z"
   },
   {
    "duration": 53,
    "start_time": "2023-03-24T19:47:40.972Z"
   },
   {
    "duration": 1953,
    "start_time": "2023-03-24T19:47:41.035Z"
   },
   {
    "duration": 10,
    "start_time": "2023-03-24T19:47:42.989Z"
   },
   {
    "duration": 47,
    "start_time": "2023-03-24T19:47:43.001Z"
   },
   {
    "duration": 9,
    "start_time": "2023-03-24T19:47:43.051Z"
   },
   {
    "duration": 32,
    "start_time": "2023-03-24T19:47:43.062Z"
   },
   {
    "duration": 7,
    "start_time": "2023-03-24T19:47:43.096Z"
   },
   {
    "duration": 21,
    "start_time": "2023-03-24T19:47:43.105Z"
   },
   {
    "duration": 12,
    "start_time": "2023-03-24T19:47:43.132Z"
   },
   {
    "duration": 17,
    "start_time": "2023-03-24T19:47:43.148Z"
   },
   {
    "duration": 15,
    "start_time": "2023-03-24T19:47:43.168Z"
   },
   {
    "duration": 18,
    "start_time": "2023-03-24T19:47:43.185Z"
   },
   {
    "duration": 31,
    "start_time": "2023-03-24T19:47:43.205Z"
   },
   {
    "duration": 5,
    "start_time": "2023-03-24T19:47:43.239Z"
   },
   {
    "duration": 40,
    "start_time": "2023-03-24T19:47:43.246Z"
   },
   {
    "duration": 14,
    "start_time": "2023-03-24T19:47:43.289Z"
   },
   {
    "duration": 433,
    "start_time": "2023-03-24T19:47:57.082Z"
   },
   {
    "duration": 53,
    "start_time": "2023-03-24T19:48:06.537Z"
   },
   {
    "duration": 13,
    "start_time": "2023-03-24T19:48:06.592Z"
   },
   {
    "duration": 27,
    "start_time": "2023-03-24T19:48:06.606Z"
   },
   {
    "duration": 63,
    "start_time": "2023-03-24T19:48:06.635Z"
   },
   {
    "duration": 1838,
    "start_time": "2023-03-24T19:48:06.700Z"
   },
   {
    "duration": 10,
    "start_time": "2023-03-24T19:48:08.540Z"
   },
   {
    "duration": 54,
    "start_time": "2023-03-24T19:48:08.552Z"
   },
   {
    "duration": 25,
    "start_time": "2023-03-24T19:48:08.608Z"
   },
   {
    "duration": 54,
    "start_time": "2023-03-24T19:48:08.635Z"
   },
   {
    "duration": 7,
    "start_time": "2023-03-24T19:48:08.693Z"
   },
   {
    "duration": 53,
    "start_time": "2023-03-24T19:48:08.701Z"
   },
   {
    "duration": 17,
    "start_time": "2023-03-24T19:48:08.757Z"
   },
   {
    "duration": 37,
    "start_time": "2023-03-24T19:48:08.776Z"
   },
   {
    "duration": 32,
    "start_time": "2023-03-24T19:48:08.815Z"
   },
   {
    "duration": 33,
    "start_time": "2023-03-24T19:48:08.849Z"
   },
   {
    "duration": 25,
    "start_time": "2023-03-24T19:48:08.884Z"
   },
   {
    "duration": 37,
    "start_time": "2023-03-24T19:48:08.911Z"
   },
   {
    "duration": 230,
    "start_time": "2023-03-24T19:48:08.950Z"
   },
   {
    "duration": 20,
    "start_time": "2023-03-24T19:48:09.181Z"
   },
   {
    "duration": 15,
    "start_time": "2023-03-24T19:48:13.353Z"
   },
   {
    "duration": 3,
    "start_time": "2023-03-24T19:48:22.287Z"
   },
   {
    "duration": 5,
    "start_time": "2023-03-24T19:48:29.695Z"
   },
   {
    "duration": 15,
    "start_time": "2023-03-24T19:48:49.657Z"
   },
   {
    "duration": 5,
    "start_time": "2023-03-24T19:48:52.698Z"
   },
   {
    "duration": 6,
    "start_time": "2023-03-24T19:48:55.084Z"
   },
   {
    "duration": 49,
    "start_time": "2023-03-24T19:49:00.904Z"
   },
   {
    "duration": 82,
    "start_time": "2023-03-24T19:51:05.482Z"
   },
   {
    "duration": 89,
    "start_time": "2023-03-24T19:51:16.452Z"
   },
   {
    "duration": 2489,
    "start_time": "2023-03-24T19:52:48.856Z"
   },
   {
    "duration": 17,
    "start_time": "2023-03-24T19:53:08.403Z"
   },
   {
    "duration": 41,
    "start_time": "2023-03-24T19:53:24.677Z"
   },
   {
    "duration": 84,
    "start_time": "2023-03-24T19:54:11.583Z"
   },
   {
    "duration": 1066,
    "start_time": "2023-03-24T19:54:54.011Z"
   },
   {
    "duration": 55,
    "start_time": "2023-03-24T19:55:27.277Z"
   },
   {
    "duration": 106,
    "start_time": "2023-03-24T19:56:24.511Z"
   },
   {
    "duration": 937,
    "start_time": "2023-03-24T19:56:57.495Z"
   },
   {
    "duration": 58,
    "start_time": "2023-03-24T19:57:18.876Z"
   },
   {
    "duration": 64,
    "start_time": "2023-03-24T19:58:29.694Z"
   },
   {
    "duration": 59,
    "start_time": "2023-03-24T19:59:01.260Z"
   },
   {
    "duration": 134,
    "start_time": "2023-03-24T19:59:06.537Z"
   },
   {
    "duration": 103,
    "start_time": "2023-03-24T20:00:36.923Z"
   },
   {
    "duration": 56,
    "start_time": "2023-03-24T20:01:08.922Z"
   },
   {
    "duration": 283,
    "start_time": "2023-03-24T20:01:31.392Z"
   },
   {
    "duration": 232,
    "start_time": "2023-03-24T20:02:05.243Z"
   },
   {
    "duration": 41,
    "start_time": "2023-03-24T20:05:01.180Z"
   },
   {
    "duration": 31,
    "start_time": "2023-03-24T20:05:01.223Z"
   },
   {
    "duration": 32,
    "start_time": "2023-03-24T20:05:01.256Z"
   },
   {
    "duration": 70,
    "start_time": "2023-03-24T20:05:01.290Z"
   },
   {
    "duration": 1694,
    "start_time": "2023-03-24T20:05:01.362Z"
   },
   {
    "duration": 9,
    "start_time": "2023-03-24T20:05:03.057Z"
   },
   {
    "duration": 27,
    "start_time": "2023-03-24T20:05:03.068Z"
   },
   {
    "duration": 18,
    "start_time": "2023-03-24T20:05:03.097Z"
   },
   {
    "duration": 41,
    "start_time": "2023-03-24T20:05:03.117Z"
   },
   {
    "duration": 14,
    "start_time": "2023-03-24T20:05:03.160Z"
   },
   {
    "duration": 24,
    "start_time": "2023-03-24T20:05:03.176Z"
   },
   {
    "duration": 16,
    "start_time": "2023-03-24T20:05:03.202Z"
   },
   {
    "duration": 30,
    "start_time": "2023-03-24T20:05:03.220Z"
   },
   {
    "duration": 10,
    "start_time": "2023-03-24T20:05:03.252Z"
   },
   {
    "duration": 23,
    "start_time": "2023-03-24T20:05:03.264Z"
   },
   {
    "duration": 30,
    "start_time": "2023-03-24T20:05:03.289Z"
   },
   {
    "duration": 12,
    "start_time": "2023-03-24T20:05:03.321Z"
   },
   {
    "duration": 21,
    "start_time": "2023-03-24T20:05:03.334Z"
   },
   {
    "duration": 33,
    "start_time": "2023-03-24T20:05:03.357Z"
   },
   {
    "duration": 54,
    "start_time": "2023-03-24T20:05:03.392Z"
   },
   {
    "duration": 33,
    "start_time": "2023-03-24T20:05:03.448Z"
   },
   {
    "duration": 27,
    "start_time": "2023-03-24T20:05:03.483Z"
   },
   {
    "duration": 39,
    "start_time": "2023-03-24T20:05:03.511Z"
   },
   {
    "duration": 4,
    "start_time": "2023-03-24T20:05:03.552Z"
   },
   {
    "duration": 25,
    "start_time": "2023-03-24T20:05:03.558Z"
   },
   {
    "duration": 78,
    "start_time": "2023-03-24T20:05:03.586Z"
   },
   {
    "duration": 88,
    "start_time": "2023-03-24T20:05:03.668Z"
   },
   {
    "duration": 1477,
    "start_time": "2023-03-24T20:05:03.758Z"
   },
   {
    "duration": 98,
    "start_time": "2023-03-24T20:05:05.241Z"
   },
   {
    "duration": 36,
    "start_time": "2023-03-24T20:05:05.347Z"
   },
   {
    "duration": 87,
    "start_time": "2023-03-24T20:05:05.385Z"
   },
   {
    "duration": 1055,
    "start_time": "2023-03-24T20:05:05.474Z"
   },
   {
    "duration": 125,
    "start_time": "2023-03-24T20:05:06.531Z"
   },
   {
    "duration": 111,
    "start_time": "2023-03-24T20:05:06.658Z"
   },
   {
    "duration": 671,
    "start_time": "2023-03-24T20:05:06.771Z"
   },
   {
    "duration": 209,
    "start_time": "2023-03-24T20:05:07.444Z"
   },
   {
    "duration": 92,
    "start_time": "2023-03-24T20:05:07.655Z"
   },
   {
    "duration": 248,
    "start_time": "2023-03-24T20:05:07.748Z"
   },
   {
    "duration": 54,
    "start_time": "2023-03-24T20:05:14.163Z"
   },
   {
    "duration": 24,
    "start_time": "2023-03-24T20:05:25.504Z"
   },
   {
    "duration": 38,
    "start_time": "2023-03-24T20:05:32.348Z"
   },
   {
    "duration": 17,
    "start_time": "2023-03-24T20:05:59.905Z"
   },
   {
    "duration": 310,
    "start_time": "2023-03-24T20:06:13.489Z"
   },
   {
    "duration": 263,
    "start_time": "2023-03-24T20:06:19.076Z"
   },
   {
    "duration": 159,
    "start_time": "2023-03-24T20:19:55.481Z"
   },
   {
    "duration": 270,
    "start_time": "2023-03-24T20:20:09.701Z"
   },
   {
    "duration": 259,
    "start_time": "2023-03-24T20:20:44.079Z"
   },
   {
    "duration": 275,
    "start_time": "2023-03-24T20:21:37.404Z"
   },
   {
    "duration": 408,
    "start_time": "2023-03-24T20:21:56.080Z"
   },
   {
    "duration": 391,
    "start_time": "2023-03-24T20:22:35.921Z"
   },
   {
    "duration": 383,
    "start_time": "2023-03-24T20:23:11.654Z"
   },
   {
    "duration": 405,
    "start_time": "2023-03-24T20:24:22.454Z"
   },
   {
    "duration": 430,
    "start_time": "2023-03-24T20:32:19.300Z"
   },
   {
    "duration": 523,
    "start_time": "2023-03-24T20:33:11.970Z"
   },
   {
    "duration": 123,
    "start_time": "2023-03-24T20:34:48.541Z"
   },
   {
    "duration": 44,
    "start_time": "2023-03-24T20:34:54.142Z"
   },
   {
    "duration": 11,
    "start_time": "2023-03-24T20:34:54.188Z"
   },
   {
    "duration": 14,
    "start_time": "2023-03-24T20:34:54.201Z"
   },
   {
    "duration": 46,
    "start_time": "2023-03-24T20:34:54.217Z"
   },
   {
    "duration": 1792,
    "start_time": "2023-03-24T20:34:54.265Z"
   },
   {
    "duration": 9,
    "start_time": "2023-03-24T20:34:56.058Z"
   },
   {
    "duration": 15,
    "start_time": "2023-03-24T20:34:56.068Z"
   },
   {
    "duration": 20,
    "start_time": "2023-03-24T20:34:56.084Z"
   },
   {
    "duration": 43,
    "start_time": "2023-03-24T20:34:56.106Z"
   },
   {
    "duration": 5,
    "start_time": "2023-03-24T20:34:56.152Z"
   },
   {
    "duration": 8,
    "start_time": "2023-03-24T20:34:56.159Z"
   },
   {
    "duration": 4,
    "start_time": "2023-03-24T20:34:56.169Z"
   },
   {
    "duration": 6,
    "start_time": "2023-03-24T20:34:56.175Z"
   },
   {
    "duration": 4,
    "start_time": "2023-03-24T20:34:56.184Z"
   },
   {
    "duration": 6,
    "start_time": "2023-03-24T20:34:56.190Z"
   },
   {
    "duration": 25,
    "start_time": "2023-03-24T20:34:56.230Z"
   },
   {
    "duration": 5,
    "start_time": "2023-03-24T20:34:56.257Z"
   },
   {
    "duration": 17,
    "start_time": "2023-03-24T20:34:56.264Z"
   },
   {
    "duration": 16,
    "start_time": "2023-03-24T20:34:56.282Z"
   },
   {
    "duration": 11,
    "start_time": "2023-03-24T20:34:56.300Z"
   },
   {
    "duration": 21,
    "start_time": "2023-03-24T20:34:56.312Z"
   },
   {
    "duration": 5,
    "start_time": "2023-03-24T20:34:56.338Z"
   },
   {
    "duration": 17,
    "start_time": "2023-03-24T20:34:56.345Z"
   },
   {
    "duration": 4,
    "start_time": "2023-03-24T20:34:56.364Z"
   },
   {
    "duration": 6,
    "start_time": "2023-03-24T20:34:56.370Z"
   },
   {
    "duration": 59,
    "start_time": "2023-03-24T20:34:56.377Z"
   },
   {
    "duration": 75,
    "start_time": "2023-03-24T20:34:56.437Z"
   },
   {
    "duration": 1736,
    "start_time": "2023-03-24T20:34:56.514Z"
   },
   {
    "duration": 18,
    "start_time": "2023-03-24T20:34:58.328Z"
   },
   {
    "duration": 27,
    "start_time": "2023-03-24T20:34:58.348Z"
   },
   {
    "duration": 91,
    "start_time": "2023-03-24T20:34:58.377Z"
   },
   {
    "duration": 970,
    "start_time": "2023-03-24T20:34:58.469Z"
   },
   {
    "duration": 115,
    "start_time": "2023-03-24T20:34:59.441Z"
   },
   {
    "duration": 84,
    "start_time": "2023-03-24T20:34:59.558Z"
   },
   {
    "duration": 875,
    "start_time": "2023-03-24T20:34:59.648Z"
   },
   {
    "duration": 51,
    "start_time": "2023-03-24T20:35:00.528Z"
   },
   {
    "duration": 149,
    "start_time": "2023-03-24T20:35:00.582Z"
   },
   {
    "duration": 220,
    "start_time": "2023-03-24T20:35:00.733Z"
   },
   {
    "duration": 59,
    "start_time": "2023-03-24T20:35:00.954Z"
   },
   {
    "duration": 33,
    "start_time": "2023-03-24T20:35:01.023Z"
   },
   {
    "duration": 194,
    "start_time": "2023-03-24T20:35:01.060Z"
   },
   {
    "duration": 17,
    "start_time": "2023-03-24T20:35:01.256Z"
   },
   {
    "duration": 277,
    "start_time": "2023-03-24T20:35:01.275Z"
   },
   {
    "duration": 226,
    "start_time": "2023-03-24T20:35:11.683Z"
   },
   {
    "duration": 543,
    "start_time": "2023-03-24T20:35:15.217Z"
   },
   {
    "duration": 565,
    "start_time": "2023-03-24T20:35:39.892Z"
   },
   {
    "duration": 525,
    "start_time": "2023-03-24T20:40:00.481Z"
   },
   {
    "duration": 140,
    "start_time": "2023-03-24T20:43:28.348Z"
   },
   {
    "duration": 134,
    "start_time": "2023-03-24T20:43:37.469Z"
   },
   {
    "duration": 1245,
    "start_time": "2023-03-26T10:14:15.684Z"
   },
   {
    "duration": 450,
    "start_time": "2023-03-26T10:14:36.503Z"
   },
   {
    "duration": 4,
    "start_time": "2023-03-26T10:14:55.587Z"
   },
   {
    "duration": 51,
    "start_time": "2023-03-26T10:15:34.095Z"
   },
   {
    "duration": 164,
    "start_time": "2023-03-26T10:16:18.389Z"
   },
   {
    "duration": 16,
    "start_time": "2023-03-26T10:16:52.570Z"
   },
   {
    "duration": 20,
    "start_time": "2023-03-26T10:17:22.621Z"
   },
   {
    "duration": 44,
    "start_time": "2023-03-26T10:18:08.661Z"
   },
   {
    "duration": 1753,
    "start_time": "2023-03-26T10:18:40.639Z"
   },
   {
    "duration": 9,
    "start_time": "2023-03-26T10:19:08.440Z"
   },
   {
    "duration": 62,
    "start_time": "2023-03-26T10:19:45.303Z"
   },
   {
    "duration": 8,
    "start_time": "2023-03-26T10:20:18.497Z"
   },
   {
    "duration": 20,
    "start_time": "2023-03-26T10:20:46.852Z"
   },
   {
    "duration": 5,
    "start_time": "2023-03-26T10:22:29.510Z"
   },
   {
    "duration": 8,
    "start_time": "2023-03-26T10:22:57.970Z"
   },
   {
    "duration": 4,
    "start_time": "2023-03-26T10:23:30.380Z"
   },
   {
    "duration": 5,
    "start_time": "2023-03-26T10:23:55.977Z"
   },
   {
    "duration": 4,
    "start_time": "2023-03-26T10:24:22.796Z"
   },
   {
    "duration": 5,
    "start_time": "2023-03-26T10:24:44.339Z"
   },
   {
    "duration": 13,
    "start_time": "2023-03-26T10:25:11.074Z"
   },
   {
    "duration": 4,
    "start_time": "2023-03-26T10:25:43.181Z"
   },
   {
    "duration": 14,
    "start_time": "2023-03-26T10:26:07.683Z"
   },
   {
    "duration": 11,
    "start_time": "2023-03-26T10:26:40.213Z"
   },
   {
    "duration": 12,
    "start_time": "2023-03-26T10:27:08.627Z"
   },
   {
    "duration": 4,
    "start_time": "2023-03-26T10:27:36.404Z"
   },
   {
    "duration": 5,
    "start_time": "2023-03-26T10:28:05.310Z"
   },
   {
    "duration": 27,
    "start_time": "2023-03-26T10:30:57.022Z"
   },
   {
    "duration": 50101,
    "start_time": "2023-03-26T10:31:24.190Z"
   },
   {
    "duration": 68,
    "start_time": "2023-03-26T10:35:21.794Z"
   },
   {
    "duration": 16,
    "start_time": "2023-03-26T10:36:49.063Z"
   },
   {
    "duration": 5,
    "start_time": "2023-03-26T10:37:15.895Z"
   },
   {
    "duration": 6,
    "start_time": "2023-03-26T10:38:02.252Z"
   },
   {
    "duration": 72,
    "start_time": "2023-03-26T10:39:47.389Z"
   },
   {
    "duration": 421,
    "start_time": "2023-03-26T10:40:31.854Z"
   },
   {
    "duration": 48,
    "start_time": "2023-03-26T10:43:34.862Z"
   },
   {
    "duration": 83,
    "start_time": "2023-03-26T10:44:21.567Z"
   },
   {
    "duration": 781,
    "start_time": "2023-03-26T10:45:06.997Z"
   },
   {
    "duration": 45,
    "start_time": "2023-03-26T10:45:52.431Z"
   },
   {
    "duration": 14,
    "start_time": "2023-03-26T10:47:26.065Z"
   },
   {
    "duration": 102,
    "start_time": "2023-03-26T10:51:19.617Z"
   },
   {
    "duration": 377,
    "start_time": "2023-03-26T11:06:37.804Z"
   },
   {
    "duration": 42,
    "start_time": "2023-03-26T11:07:01.717Z"
   },
   {
    "duration": 77,
    "start_time": "2023-03-26T11:07:29.032Z"
   },
   {
    "duration": 253,
    "start_time": "2023-03-26T11:07:52.423Z"
   },
   {
    "duration": 49,
    "start_time": "2023-03-26T11:08:13.670Z"
   },
   {
    "duration": 742,
    "start_time": "2023-03-26T11:10:47.880Z"
   },
   {
    "duration": 6,
    "start_time": "2023-03-26T11:11:33.447Z"
   },
   {
    "duration": 6,
    "start_time": "2023-03-26T11:11:50.124Z"
   },
   {
    "duration": 547,
    "start_time": "2023-03-26T11:12:09.896Z"
   },
   {
    "duration": 531,
    "start_time": "2023-03-26T11:12:40.389Z"
   },
   {
    "duration": 4,
    "start_time": "2023-03-26T11:13:06.675Z"
   },
   {
    "duration": 5,
    "start_time": "2023-03-26T11:20:25.329Z"
   },
   {
    "duration": 5,
    "start_time": "2023-03-26T11:20:38.120Z"
   },
   {
    "duration": 43,
    "start_time": "2023-03-26T11:20:55.529Z"
   },
   {
    "duration": 7,
    "start_time": "2023-03-26T11:21:10.055Z"
   },
   {
    "duration": 70,
    "start_time": "2023-03-26T11:21:17.048Z"
   },
   {
    "duration": 6,
    "start_time": "2023-03-26T11:21:19.751Z"
   },
   {
    "duration": 70,
    "start_time": "2023-03-26T11:22:09.966Z"
   },
   {
    "duration": 93,
    "start_time": "2023-03-26T11:22:42.497Z"
   },
   {
    "duration": 47,
    "start_time": "2023-03-26T11:22:57.903Z"
   },
   {
    "duration": 45,
    "start_time": "2023-03-26T11:23:08.601Z"
   },
   {
    "duration": 26,
    "start_time": "2023-03-26T11:23:46.262Z"
   },
   {
    "duration": 6,
    "start_time": "2023-03-26T11:24:06.868Z"
   },
   {
    "duration": 69,
    "start_time": "2023-03-26T11:24:41.807Z"
   },
   {
    "duration": 7,
    "start_time": "2023-03-26T11:24:44.356Z"
   },
   {
    "duration": 37,
    "start_time": "2023-03-26T11:24:50.056Z"
   },
   {
    "duration": 27,
    "start_time": "2023-03-26T11:25:15.404Z"
   },
   {
    "duration": 6,
    "start_time": "2023-03-26T11:25:19.272Z"
   },
   {
    "duration": 33,
    "start_time": "2023-03-26T11:25:57.658Z"
   },
   {
    "duration": 6,
    "start_time": "2023-03-26T11:26:01.387Z"
   },
   {
    "duration": 51,
    "start_time": "2023-03-26T11:26:32.477Z"
   },
   {
    "duration": 26,
    "start_time": "2023-03-26T11:26:54.366Z"
   },
   {
    "duration": 508,
    "start_time": "2023-03-26T11:30:33.629Z"
   },
   {
    "duration": 647,
    "start_time": "2023-03-26T11:31:01.932Z"
   },
   {
    "duration": 498,
    "start_time": "2023-03-26T11:40:40.641Z"
   },
   {
    "duration": 6,
    "start_time": "2023-03-26T11:40:55.853Z"
   },
   {
    "duration": 164,
    "start_time": "2023-03-26T11:40:55.864Z"
   },
   {
    "duration": 15,
    "start_time": "2023-03-26T11:40:56.030Z"
   },
   {
    "duration": 20,
    "start_time": "2023-03-26T11:40:56.047Z"
   },
   {
    "duration": 55,
    "start_time": "2023-03-26T11:40:56.069Z"
   },
   {
    "duration": 1974,
    "start_time": "2023-03-26T11:40:56.126Z"
   },
   {
    "duration": 10,
    "start_time": "2023-03-26T11:40:58.102Z"
   },
   {
    "duration": 19,
    "start_time": "2023-03-26T11:40:58.115Z"
   },
   {
    "duration": 8,
    "start_time": "2023-03-26T11:40:58.137Z"
   },
   {
    "duration": 31,
    "start_time": "2023-03-26T11:40:58.174Z"
   },
   {
    "duration": 6,
    "start_time": "2023-03-26T11:40:58.207Z"
   },
   {
    "duration": 35,
    "start_time": "2023-03-26T11:40:58.215Z"
   },
   {
    "duration": 9,
    "start_time": "2023-03-26T11:40:58.251Z"
   },
   {
    "duration": 18,
    "start_time": "2023-03-26T11:40:58.262Z"
   },
   {
    "duration": 23,
    "start_time": "2023-03-26T11:40:58.285Z"
   },
   {
    "duration": 17,
    "start_time": "2023-03-26T11:40:58.310Z"
   },
   {
    "duration": 32,
    "start_time": "2023-03-26T11:40:58.328Z"
   },
   {
    "duration": 5,
    "start_time": "2023-03-26T11:40:58.362Z"
   },
   {
    "duration": 29,
    "start_time": "2023-03-26T11:40:58.369Z"
   },
   {
    "duration": 36,
    "start_time": "2023-03-26T11:40:58.400Z"
   },
   {
    "duration": 21,
    "start_time": "2023-03-26T11:40:58.439Z"
   },
   {
    "duration": 30,
    "start_time": "2023-03-26T11:40:58.461Z"
   },
   {
    "duration": 6,
    "start_time": "2023-03-26T11:40:58.493Z"
   },
   {
    "duration": 44595,
    "start_time": "2023-03-26T11:41:38.495Z"
   },
   {
    "duration": 21,
    "start_time": "2023-03-26T11:42:23.093Z"
   },
   {
    "duration": 9,
    "start_time": "2023-03-26T11:42:23.116Z"
   },
   {
    "duration": 9,
    "start_time": "2023-03-26T11:42:23.127Z"
   },
   {
    "duration": 57,
    "start_time": "2023-03-26T11:42:23.137Z"
   },
   {
    "duration": 58,
    "start_time": "2023-03-26T11:42:23.197Z"
   },
   {
    "duration": 100,
    "start_time": "2023-03-26T11:42:23.276Z"
   },
   {
    "duration": 899,
    "start_time": "2023-03-26T11:42:23.378Z"
   },
   {
    "duration": 18,
    "start_time": "2023-03-26T11:42:24.279Z"
   },
   {
    "duration": 3,
    "start_time": "2023-03-26T11:42:24.301Z"
   },
   {
    "duration": 7,
    "start_time": "2023-03-26T11:42:24.307Z"
   },
   {
    "duration": 113,
    "start_time": "2023-03-26T11:42:24.317Z"
   },
   {
    "duration": 357,
    "start_time": "2023-03-26T11:42:24.432Z"
   },
   {
    "duration": 212,
    "start_time": "2023-03-26T11:42:24.790Z"
   },
   {
    "duration": 116,
    "start_time": "2023-03-26T11:42:25.004Z"
   },
   {
    "duration": 170,
    "start_time": "2023-03-26T11:42:25.122Z"
   },
   {
    "duration": 125,
    "start_time": "2023-03-26T11:42:25.374Z"
   },
   {
    "duration": 7,
    "start_time": "2023-03-26T11:42:25.501Z"
   },
   {
    "duration": 4,
    "start_time": "2023-03-26T11:42:25.510Z"
   },
   {
    "duration": 159,
    "start_time": "2023-03-26T11:42:25.516Z"
   },
   {
    "duration": 7,
    "start_time": "2023-03-26T11:42:25.774Z"
   },
   {
    "duration": 126,
    "start_time": "2023-03-26T11:42:25.784Z"
   },
   {
    "duration": 72,
    "start_time": "2023-03-26T11:42:25.913Z"
   },
   {
    "duration": 95,
    "start_time": "2023-03-26T11:42:25.987Z"
   },
   {
    "duration": 90,
    "start_time": "2023-03-26T11:42:26.086Z"
   },
   {
    "duration": 60,
    "start_time": "2023-03-26T11:42:26.179Z"
   },
   {
    "duration": 28,
    "start_time": "2023-03-26T11:43:13.458Z"
   },
   {
    "duration": 534,
    "start_time": "2023-03-26T11:43:18.732Z"
   },
   {
    "duration": 598,
    "start_time": "2023-03-26T11:43:27.270Z"
   },
   {
    "duration": 483,
    "start_time": "2023-03-26T11:43:38.868Z"
   },
   {
    "duration": 46,
    "start_time": "2023-03-26T11:44:32.723Z"
   },
   {
    "duration": 147,
    "start_time": "2023-03-26T11:45:57.794Z"
   },
   {
    "duration": 152,
    "start_time": "2023-03-26T11:49:28.325Z"
   },
   {
    "duration": 143,
    "start_time": "2023-03-26T11:49:39.061Z"
   },
   {
    "duration": 141,
    "start_time": "2023-03-26T11:49:49.225Z"
   },
   {
    "duration": 1569,
    "start_time": "2023-03-26T19:42:09.985Z"
   },
   {
    "duration": 189,
    "start_time": "2023-03-26T19:42:13.088Z"
   },
   {
    "duration": 21,
    "start_time": "2023-03-26T19:42:15.235Z"
   },
   {
    "duration": 20,
    "start_time": "2023-03-26T19:42:17.776Z"
   },
   {
    "duration": 39,
    "start_time": "2023-03-26T19:42:20.625Z"
   },
   {
    "duration": 1574,
    "start_time": "2023-03-26T19:42:23.140Z"
   },
   {
    "duration": 10,
    "start_time": "2023-03-26T19:42:28.314Z"
   },
   {
    "duration": 63,
    "start_time": "2023-03-26T19:42:30.656Z"
   },
   {
    "duration": 8,
    "start_time": "2023-03-26T19:42:33.436Z"
   },
   {
    "duration": 19,
    "start_time": "2023-03-26T19:42:36.086Z"
   },
   {
    "duration": 4,
    "start_time": "2023-03-26T19:42:40.232Z"
   },
   {
    "duration": 10,
    "start_time": "2023-03-26T19:42:42.735Z"
   },
   {
    "duration": 3,
    "start_time": "2023-03-26T19:42:45.366Z"
   },
   {
    "duration": 5,
    "start_time": "2023-03-26T19:42:47.753Z"
   },
   {
    "duration": 4,
    "start_time": "2023-03-26T19:42:49.455Z"
   },
   {
    "duration": 4,
    "start_time": "2023-03-26T19:42:51.693Z"
   },
   {
    "duration": 15,
    "start_time": "2023-03-26T19:42:53.936Z"
   },
   {
    "duration": 5,
    "start_time": "2023-03-26T19:42:56.481Z"
   },
   {
    "duration": 18,
    "start_time": "2023-03-26T19:42:59.335Z"
   },
   {
    "duration": 12,
    "start_time": "2023-03-26T19:43:01.650Z"
   },
   {
    "duration": 11,
    "start_time": "2023-03-26T19:43:03.782Z"
   },
   {
    "duration": 4,
    "start_time": "2023-03-26T19:43:06.294Z"
   },
   {
    "duration": 4,
    "start_time": "2023-03-26T19:43:08.203Z"
   },
   {
    "duration": 49405,
    "start_time": "2023-03-26T19:43:12.455Z"
   },
   {
    "duration": 14,
    "start_time": "2023-03-26T19:44:19.874Z"
   },
   {
    "duration": 6,
    "start_time": "2023-03-26T19:44:21.722Z"
   },
   {
    "duration": 5,
    "start_time": "2023-03-26T19:44:24.002Z"
   },
   {
    "duration": 32,
    "start_time": "2023-03-26T19:44:27.226Z"
   },
   {
    "duration": 71,
    "start_time": "2023-03-26T19:44:30.416Z"
   },
   {
    "duration": 85,
    "start_time": "2023-03-26T19:44:33.051Z"
   },
   {
    "duration": 815,
    "start_time": "2023-03-26T19:44:36.131Z"
   },
   {
    "duration": 13,
    "start_time": "2023-03-26T19:44:39.579Z"
   },
   {
    "duration": 75,
    "start_time": "2023-03-26T19:45:27.463Z"
   },
   {
    "duration": 505,
    "start_time": "2023-03-26T19:45:29.964Z"
   },
   {
    "duration": 46,
    "start_time": "2023-03-26T19:45:32.661Z"
   },
   {
    "duration": 90,
    "start_time": "2023-03-26T19:45:35.566Z"
   },
   {
    "duration": 571,
    "start_time": "2023-03-26T19:45:37.875Z"
   },
   {
    "duration": 54,
    "start_time": "2023-03-26T19:45:40.507Z"
   },
   {
    "duration": 5,
    "start_time": "2023-03-26T19:45:44.372Z"
   },
   {
    "duration": 4,
    "start_time": "2023-03-26T19:45:47.902Z"
   },
   {
    "duration": 117,
    "start_time": "2023-03-26T19:45:56.327Z"
   },
   {
    "duration": 6,
    "start_time": "2023-03-26T19:45:59.905Z"
   },
   {
    "duration": 108,
    "start_time": "2023-03-26T19:46:05.109Z"
   },
   {
    "duration": 61,
    "start_time": "2023-03-26T19:46:07.410Z"
   },
   {
    "duration": 22,
    "start_time": "2023-03-26T19:46:17.874Z"
   },
   {
    "duration": 5,
    "start_time": "2023-03-26T19:46:21.895Z"
   },
   {
    "duration": 52,
    "start_time": "2023-03-26T19:47:02.854Z"
   },
   {
    "duration": 21,
    "start_time": "2023-03-26T19:47:05.385Z"
   },
   {
    "duration": 476,
    "start_time": "2023-03-26T19:49:02.589Z"
   },
   {
    "duration": 537,
    "start_time": "2023-03-26T19:49:12.569Z"
   },
   {
    "duration": 4,
    "start_time": "2023-03-26T19:50:07.072Z"
   },
   {
    "duration": 39,
    "start_time": "2023-03-26T19:50:07.081Z"
   },
   {
    "duration": 14,
    "start_time": "2023-03-26T19:50:07.122Z"
   },
   {
    "duration": 23,
    "start_time": "2023-03-26T19:50:07.138Z"
   },
   {
    "duration": 34,
    "start_time": "2023-03-26T19:50:07.163Z"
   },
   {
    "duration": 1828,
    "start_time": "2023-03-26T19:50:07.199Z"
   },
   {
    "duration": 26,
    "start_time": "2023-03-26T19:50:09.029Z"
   },
   {
    "duration": 14,
    "start_time": "2023-03-26T19:50:09.057Z"
   },
   {
    "duration": 6,
    "start_time": "2023-03-26T19:50:09.073Z"
   },
   {
    "duration": 17,
    "start_time": "2023-03-26T19:50:09.082Z"
   },
   {
    "duration": 3,
    "start_time": "2023-03-26T19:50:09.101Z"
   },
   {
    "duration": 7,
    "start_time": "2023-03-26T19:50:09.106Z"
   },
   {
    "duration": 34,
    "start_time": "2023-03-26T19:50:09.115Z"
   },
   {
    "duration": 5,
    "start_time": "2023-03-26T19:50:09.152Z"
   },
   {
    "duration": 4,
    "start_time": "2023-03-26T19:50:09.159Z"
   },
   {
    "duration": 10,
    "start_time": "2023-03-26T19:50:09.164Z"
   },
   {
    "duration": 27,
    "start_time": "2023-03-26T19:50:09.175Z"
   },
   {
    "duration": 4,
    "start_time": "2023-03-26T19:50:09.204Z"
   },
   {
    "duration": 24,
    "start_time": "2023-03-26T19:50:09.210Z"
   },
   {
    "duration": 15,
    "start_time": "2023-03-26T19:50:09.235Z"
   },
   {
    "duration": 11,
    "start_time": "2023-03-26T19:50:09.252Z"
   },
   {
    "duration": 11,
    "start_time": "2023-03-26T19:50:09.265Z"
   },
   {
    "duration": 6,
    "start_time": "2023-03-26T19:50:09.278Z"
   },
   {
    "duration": 34941,
    "start_time": "2023-03-26T19:50:09.287Z"
   },
   {
    "duration": 36,
    "start_time": "2023-03-26T19:50:44.230Z"
   },
   {
    "duration": 4,
    "start_time": "2023-03-26T19:50:44.267Z"
   },
   {
    "duration": 5,
    "start_time": "2023-03-26T19:50:44.273Z"
   },
   {
    "duration": 26,
    "start_time": "2023-03-26T19:50:44.279Z"
   },
   {
    "duration": 64,
    "start_time": "2023-03-26T19:50:44.307Z"
   },
   {
    "duration": 87,
    "start_time": "2023-03-26T19:50:44.373Z"
   },
   {
    "duration": 990,
    "start_time": "2023-03-26T19:50:44.461Z"
   },
   {
    "duration": 100,
    "start_time": "2023-03-26T19:50:45.453Z"
   },
   {
    "duration": 7,
    "start_time": "2023-03-26T19:50:45.554Z"
   },
   {
    "duration": 5,
    "start_time": "2023-03-26T19:50:45.646Z"
   },
   {
    "duration": 75,
    "start_time": "2023-03-26T19:50:45.652Z"
   },
   {
    "duration": 1118,
    "start_time": "2023-03-26T19:50:45.729Z"
   },
   {
    "duration": 43,
    "start_time": "2023-03-26T19:50:46.850Z"
   },
   {
    "duration": 123,
    "start_time": "2023-03-26T19:50:46.896Z"
   },
   {
    "duration": 829,
    "start_time": "2023-03-26T19:50:47.020Z"
   },
   {
    "duration": 126,
    "start_time": "2023-03-26T19:50:47.857Z"
   },
   {
    "duration": 7,
    "start_time": "2023-03-26T19:50:47.985Z"
   },
   {
    "duration": 4,
    "start_time": "2023-03-26T19:50:47.993Z"
   },
   {
    "duration": 63,
    "start_time": "2023-03-26T19:50:47.998Z"
   },
   {
    "duration": 96,
    "start_time": "2023-03-26T19:50:48.063Z"
   },
   {
    "duration": 198,
    "start_time": "2023-03-26T19:50:48.160Z"
   },
   {
    "duration": 49,
    "start_time": "2023-03-26T19:50:48.360Z"
   },
   {
    "duration": 50,
    "start_time": "2023-03-26T19:50:48.410Z"
   },
   {
    "duration": 85,
    "start_time": "2023-03-26T19:50:48.462Z"
   },
   {
    "duration": 128,
    "start_time": "2023-03-26T19:50:48.550Z"
   },
   {
    "duration": 20,
    "start_time": "2023-03-26T19:50:48.680Z"
   },
   {
    "duration": 482,
    "start_time": "2023-03-26T19:51:15.791Z"
   },
   {
    "duration": 894,
    "start_time": "2023-03-26T19:52:30.466Z"
   },
   {
    "duration": 390,
    "start_time": "2023-03-26T19:54:15.528Z"
   },
   {
    "duration": 4,
    "start_time": "2023-03-26T19:56:08.111Z"
   },
   {
    "duration": 47,
    "start_time": "2023-03-26T19:56:08.118Z"
   },
   {
    "duration": 11,
    "start_time": "2023-03-26T19:56:08.167Z"
   },
   {
    "duration": 18,
    "start_time": "2023-03-26T19:56:08.180Z"
   },
   {
    "duration": 53,
    "start_time": "2023-03-26T19:56:08.200Z"
   },
   {
    "duration": 1453,
    "start_time": "2023-03-26T19:56:08.255Z"
   },
   {
    "duration": 8,
    "start_time": "2023-03-26T19:56:09.711Z"
   },
   {
    "duration": 28,
    "start_time": "2023-03-26T19:56:09.721Z"
   },
   {
    "duration": 5,
    "start_time": "2023-03-26T19:56:09.751Z"
   },
   {
    "duration": 17,
    "start_time": "2023-03-26T19:56:09.758Z"
   },
   {
    "duration": 4,
    "start_time": "2023-03-26T19:56:09.777Z"
   },
   {
    "duration": 14,
    "start_time": "2023-03-26T19:56:09.782Z"
   },
   {
    "duration": 2,
    "start_time": "2023-03-26T19:56:09.798Z"
   },
   {
    "duration": 6,
    "start_time": "2023-03-26T19:56:09.802Z"
   },
   {
    "duration": 3,
    "start_time": "2023-03-26T19:56:09.840Z"
   },
   {
    "duration": 4,
    "start_time": "2023-03-26T19:56:09.845Z"
   },
   {
    "duration": 12,
    "start_time": "2023-03-26T19:56:09.851Z"
   },
   {
    "duration": 4,
    "start_time": "2023-03-26T19:56:09.865Z"
   },
   {
    "duration": 12,
    "start_time": "2023-03-26T19:56:09.871Z"
   },
   {
    "duration": 9,
    "start_time": "2023-03-26T19:56:09.885Z"
   },
   {
    "duration": 44,
    "start_time": "2023-03-26T19:56:09.896Z"
   },
   {
    "duration": 3,
    "start_time": "2023-03-26T19:56:09.942Z"
   },
   {
    "duration": 5,
    "start_time": "2023-03-26T19:56:09.946Z"
   },
   {
    "duration": 33714,
    "start_time": "2023-03-26T19:56:09.952Z"
   },
   {
    "duration": 14,
    "start_time": "2023-03-26T19:56:43.668Z"
   },
   {
    "duration": 5,
    "start_time": "2023-03-26T19:56:43.683Z"
   },
   {
    "duration": 6,
    "start_time": "2023-03-26T19:56:43.689Z"
   },
   {
    "duration": 58,
    "start_time": "2023-03-26T19:56:43.697Z"
   },
   {
    "duration": 56,
    "start_time": "2023-03-26T19:56:43.760Z"
   },
   {
    "duration": 97,
    "start_time": "2023-03-26T19:56:43.818Z"
   },
   {
    "duration": 529,
    "start_time": "2023-03-26T19:56:43.917Z"
   },
   {
    "duration": 106,
    "start_time": "2023-03-26T19:56:44.448Z"
   },
   {
    "duration": 2,
    "start_time": "2023-03-26T19:56:44.557Z"
   },
   {
    "duration": 5,
    "start_time": "2023-03-26T19:56:44.561Z"
   },
   {
    "duration": 111,
    "start_time": "2023-03-26T19:56:44.568Z"
   },
   {
    "duration": 171,
    "start_time": "2023-03-26T19:56:44.681Z"
   },
   {
    "duration": 213,
    "start_time": "2023-03-26T19:56:44.854Z"
   },
   {
    "duration": 101,
    "start_time": "2023-03-26T19:56:45.069Z"
   },
   {
    "duration": 173,
    "start_time": "2023-03-26T19:56:45.172Z"
   },
   {
    "duration": 126,
    "start_time": "2023-03-26T19:56:45.347Z"
   },
   {
    "duration": 6,
    "start_time": "2023-03-26T19:56:45.475Z"
   },
   {
    "duration": 3,
    "start_time": "2023-03-26T19:56:45.483Z"
   },
   {
    "duration": 152,
    "start_time": "2023-03-26T19:56:45.488Z"
   },
   {
    "duration": 7,
    "start_time": "2023-03-26T19:56:45.642Z"
   },
   {
    "duration": 101,
    "start_time": "2023-03-26T19:56:45.739Z"
   },
   {
    "duration": 52,
    "start_time": "2023-03-26T19:56:45.842Z"
   },
   {
    "duration": 72,
    "start_time": "2023-03-26T19:58:54.222Z"
   },
   {
    "duration": 6,
    "start_time": "2023-03-26T19:59:06.420Z"
   },
   {
    "duration": 38,
    "start_time": "2023-03-26T19:59:08.103Z"
   },
   {
    "duration": 12,
    "start_time": "2023-03-26T19:59:10.219Z"
   },
   {
    "duration": 15,
    "start_time": "2023-03-26T19:59:12.587Z"
   },
   {
    "duration": 46,
    "start_time": "2023-03-26T19:59:14.962Z"
   },
   {
    "duration": 1405,
    "start_time": "2023-03-26T19:59:17.378Z"
   },
   {
    "duration": 7,
    "start_time": "2023-03-26T19:59:22.284Z"
   },
   {
    "duration": 15,
    "start_time": "2023-03-26T19:59:24.307Z"
   },
   {
    "duration": 9,
    "start_time": "2023-03-26T19:59:26.759Z"
   },
   {
    "duration": 18,
    "start_time": "2023-03-26T19:59:28.988Z"
   },
   {
    "duration": 5,
    "start_time": "2023-03-26T19:59:31.987Z"
   },
   {
    "duration": 8,
    "start_time": "2023-03-26T19:59:34.441Z"
   },
   {
    "duration": 3,
    "start_time": "2023-03-26T19:59:36.823Z"
   },
   {
    "duration": 4,
    "start_time": "2023-03-26T19:59:38.454Z"
   },
   {
    "duration": 4,
    "start_time": "2023-03-26T19:59:40.407Z"
   },
   {
    "duration": 4,
    "start_time": "2023-03-26T19:59:42.812Z"
   },
   {
    "duration": 17,
    "start_time": "2023-03-26T19:59:44.806Z"
   },
   {
    "duration": 4,
    "start_time": "2023-03-26T19:59:46.375Z"
   },
   {
    "duration": 12,
    "start_time": "2023-03-26T19:59:48.432Z"
   },
   {
    "duration": 11,
    "start_time": "2023-03-26T19:59:51.330Z"
   },
   {
    "duration": 11,
    "start_time": "2023-03-26T19:59:54.071Z"
   },
   {
    "duration": 8,
    "start_time": "2023-03-26T19:59:56.545Z"
   },
   {
    "duration": 5,
    "start_time": "2023-03-26T19:59:58.908Z"
   },
   {
    "duration": 34276,
    "start_time": "2023-03-26T20:00:02.694Z"
   },
   {
    "duration": 16,
    "start_time": "2023-03-26T20:00:51.888Z"
   },
   {
    "duration": 4,
    "start_time": "2023-03-26T20:00:54.083Z"
   },
   {
    "duration": 7,
    "start_time": "2023-03-26T20:00:56.605Z"
   },
   {
    "duration": 26,
    "start_time": "2023-03-26T20:01:02.933Z"
   },
   {
    "duration": 48,
    "start_time": "2023-03-26T20:01:16.904Z"
   },
   {
    "duration": 89,
    "start_time": "2023-03-26T20:01:24.498Z"
   },
   {
    "duration": 545,
    "start_time": "2023-03-26T20:01:30.497Z"
   },
   {
    "duration": 19,
    "start_time": "2023-03-26T20:01:35.344Z"
   },
   {
    "duration": 77,
    "start_time": "2023-03-26T20:01:49.691Z"
   },
   {
    "duration": 887,
    "start_time": "2023-03-26T20:02:01.271Z"
   },
   {
    "duration": 44,
    "start_time": "2023-03-26T20:02:08.055Z"
   },
   {
    "duration": 86,
    "start_time": "2023-03-26T20:02:14.635Z"
   },
   {
    "duration": 185,
    "start_time": "2023-03-26T20:02:41.458Z"
   },
   {
    "duration": 43,
    "start_time": "2023-03-26T20:02:48.811Z"
   },
   {
    "duration": 5,
    "start_time": "2023-03-26T20:02:53.389Z"
   },
   {
    "duration": 3,
    "start_time": "2023-03-26T20:02:59.617Z"
   },
   {
    "duration": 47,
    "start_time": "2023-03-26T20:03:10.305Z"
   },
   {
    "duration": 5,
    "start_time": "2023-03-26T20:03:13.890Z"
   },
   {
    "duration": 94,
    "start_time": "2023-03-26T20:03:20.421Z"
   },
   {
    "duration": 49,
    "start_time": "2023-03-26T20:03:26.399Z"
   },
   {
    "duration": 21,
    "start_time": "2023-03-26T20:03:34.009Z"
   },
   {
    "duration": 5,
    "start_time": "2023-03-26T20:03:37.960Z"
   },
   {
    "duration": 47,
    "start_time": "2023-03-26T20:03:48.906Z"
   },
   {
    "duration": 23,
    "start_time": "2023-03-26T20:04:01.135Z"
   },
   {
    "duration": 441,
    "start_time": "2023-03-26T20:04:27.934Z"
   },
   {
    "duration": 564,
    "start_time": "2023-03-26T20:04:46.301Z"
   },
   {
    "duration": 377,
    "start_time": "2023-03-26T20:05:19.207Z"
   },
   {
    "duration": 103,
    "start_time": "2023-03-26T20:06:07.912Z"
   },
   {
    "duration": 1947,
    "start_time": "2023-03-31T10:25:08.891Z"
   },
   {
    "duration": 85,
    "start_time": "2023-03-31T10:25:10.840Z"
   },
   {
    "duration": 19,
    "start_time": "2023-03-31T10:25:10.927Z"
   },
   {
    "duration": 40,
    "start_time": "2023-03-31T10:25:10.948Z"
   },
   {
    "duration": 63,
    "start_time": "2023-03-31T10:25:10.992Z"
   },
   {
    "duration": 1930,
    "start_time": "2023-03-31T10:25:11.058Z"
   },
   {
    "duration": 9,
    "start_time": "2023-03-31T10:25:12.989Z"
   },
   {
    "duration": 58,
    "start_time": "2023-03-31T10:25:13.000Z"
   },
   {
    "duration": 9,
    "start_time": "2023-03-31T10:25:13.060Z"
   },
   {
    "duration": 25,
    "start_time": "2023-03-31T10:25:13.071Z"
   },
   {
    "duration": 6,
    "start_time": "2023-03-31T10:25:13.098Z"
   },
   {
    "duration": 12,
    "start_time": "2023-03-31T10:25:13.123Z"
   },
   {
    "duration": 4,
    "start_time": "2023-03-31T10:25:13.138Z"
   },
   {
    "duration": 5,
    "start_time": "2023-03-31T10:25:13.147Z"
   },
   {
    "duration": 4,
    "start_time": "2023-03-31T10:25:13.155Z"
   },
   {
    "duration": 6,
    "start_time": "2023-03-31T10:25:13.161Z"
   },
   {
    "duration": 14,
    "start_time": "2023-03-31T10:25:13.169Z"
   },
   {
    "duration": 5,
    "start_time": "2023-03-31T10:25:13.223Z"
   },
   {
    "duration": 16,
    "start_time": "2023-03-31T10:25:13.230Z"
   },
   {
    "duration": 14,
    "start_time": "2023-03-31T10:25:13.248Z"
   },
   {
    "duration": 12,
    "start_time": "2023-03-31T10:25:13.264Z"
   },
   {
    "duration": 6,
    "start_time": "2023-03-31T10:25:13.277Z"
   },
   {
    "duration": 5,
    "start_time": "2023-03-31T10:25:13.286Z"
   },
   {
    "duration": 54022,
    "start_time": "2023-03-31T10:25:13.331Z"
   },
   {
    "duration": 17,
    "start_time": "2023-03-31T10:26:07.355Z"
   },
   {
    "duration": 20,
    "start_time": "2023-03-31T10:26:07.374Z"
   },
   {
    "duration": 14,
    "start_time": "2023-03-31T10:26:07.395Z"
   },
   {
    "duration": 44,
    "start_time": "2023-03-31T10:26:07.411Z"
   },
   {
    "duration": 48,
    "start_time": "2023-03-31T10:26:07.457Z"
   },
   {
    "duration": 99,
    "start_time": "2023-03-31T10:26:07.507Z"
   },
   {
    "duration": 1120,
    "start_time": "2023-03-31T10:26:07.608Z"
   },
   {
    "duration": 18,
    "start_time": "2023-03-31T10:26:08.731Z"
   },
   {
    "duration": 3,
    "start_time": "2023-03-31T10:26:08.751Z"
   },
   {
    "duration": 10,
    "start_time": "2023-03-31T10:26:08.756Z"
   },
   {
    "duration": 111,
    "start_time": "2023-03-31T10:26:08.767Z"
   },
   {
    "duration": 344,
    "start_time": "2023-03-31T10:26:08.880Z"
   },
   {
    "duration": 130,
    "start_time": "2023-03-31T10:26:09.226Z"
   },
   {
    "duration": 89,
    "start_time": "2023-03-31T10:26:09.358Z"
   },
   {
    "duration": 277,
    "start_time": "2023-03-31T10:26:09.449Z"
   },
   {
    "duration": 129,
    "start_time": "2023-03-31T10:26:09.729Z"
   },
   {
    "duration": 6,
    "start_time": "2023-03-31T10:26:09.862Z"
   },
   {
    "duration": 11,
    "start_time": "2023-03-31T10:26:09.871Z"
   },
   {
    "duration": 58,
    "start_time": "2023-03-31T10:26:09.884Z"
   },
   {
    "duration": 81,
    "start_time": "2023-03-31T10:26:09.944Z"
   },
   {
    "duration": 200,
    "start_time": "2023-03-31T10:26:10.028Z"
   },
   {
    "duration": 59,
    "start_time": "2023-03-31T10:26:10.231Z"
   },
   {
    "duration": 132,
    "start_time": "2023-03-31T10:26:10.292Z"
   },
   {
    "duration": 7,
    "start_time": "2023-03-31T10:26:10.426Z"
   },
   {
    "duration": 140,
    "start_time": "2023-03-31T10:26:10.435Z"
   },
   {
    "duration": 26,
    "start_time": "2023-03-31T10:26:10.578Z"
   },
   {
    "duration": 531,
    "start_time": "2023-03-31T10:26:10.607Z"
   },
   {
    "duration": 562,
    "start_time": "2023-03-31T10:26:11.140Z"
   },
   {
    "duration": 862,
    "start_time": "2023-03-31T10:26:11.704Z"
   },
   {
    "duration": 278,
    "start_time": "2023-03-31T10:28:52.962Z"
   }
  ],
  "kernelspec": {
   "display_name": "Python 3 (ipykernel)",
   "language": "python",
   "name": "python3"
  },
  "language_info": {
   "codemirror_mode": {
    "name": "ipython",
    "version": 3
   },
   "file_extension": ".py",
   "mimetype": "text/x-python",
   "name": "python",
   "nbconvert_exporter": "python",
   "pygments_lexer": "ipython3",
   "version": "3.10.9"
  },
  "toc": {
   "base_numbering": 1,
   "nav_menu": {},
   "number_sections": true,
   "sideBar": true,
   "skip_h1_title": true,
   "title_cell": "Содержание",
   "title_sidebar": "Contents",
   "toc_cell": true,
   "toc_position": {
    "height": "calc(100% - 180px)",
    "left": "10px",
    "top": "150px",
    "width": "165px"
   },
   "toc_section_display": true,
   "toc_window_display": true
  }
 },
 "nbformat": 4,
 "nbformat_minor": 2
}
