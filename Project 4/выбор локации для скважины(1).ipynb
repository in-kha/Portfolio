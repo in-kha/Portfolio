{
 "cells": [
  {
   "cell_type": "markdown",
   "metadata": {},
   "source": [
    "# Выбор локации для скважины"
   ]
  },
  {
   "cell_type": "markdown",
   "metadata": {},
   "source": [
    "Допустим, мы работаем в добывающей компании, для которой нужно решить, где бурить новую скважину.\n",
    "\n",
    "Нам предоставлены пробы нефти в трёх регионах: в каждом 10 000 месторождений, где измерили качество нефти и объём её запасов. Построим модель машинного обучения, которая поможет определить регион, где добыча принесёт наибольшую прибыль. Проанализируем возможную прибыль и риски техникой *Bootstrap.*\n",
    "\n",
    "Шаги для выбора локации:\n",
    "\n",
    "- В избранном регионе ищут месторождения, для каждого определяют значения признаков;\n",
    "- Строят модель и оценивают объём запасов;\n",
    "- Выбирают месторождения с самым высокими оценками значений. Количество месторождений зависит от бюджета компании и стоимости разработки одной скважины;\n",
    "- Прибыль равна суммарной прибыли отобранных месторождений."
   ]
  },
  {
   "cell_type": "markdown",
   "metadata": {},
   "source": [
    "## Загрузка и подготовка данных"
   ]
  },
  {
   "cell_type": "markdown",
   "metadata": {},
   "source": [
    "Загрузим библиотеки"
   ]
  },
  {
   "cell_type": "code",
   "execution_count": 1,
   "metadata": {},
   "outputs": [
    {
     "name": "stdout",
     "output_type": "stream",
     "text": [
      "Requirement already satisfied: pandas-profiling==2.11 in /opt/conda/lib/python3.9/site-packages (2.11.0)\n",
      "Requirement already satisfied: htmlmin>=0.1.12 in /opt/conda/lib/python3.9/site-packages (from pandas-profiling==2.11) (0.1.12)\n",
      "Requirement already satisfied: scipy>=1.4.1 in /opt/conda/lib/python3.9/site-packages (from pandas-profiling==2.11) (1.9.1)\n",
      "Requirement already satisfied: pandas!=1.0.0,!=1.0.1,!=1.0.2,!=1.1.0,>=0.25.3 in /opt/conda/lib/python3.9/site-packages (from pandas-profiling==2.11) (1.2.4)\n",
      "Requirement already satisfied: jinja2>=2.11.1 in /opt/conda/lib/python3.9/site-packages (from pandas-profiling==2.11) (3.0.1)\n",
      "Requirement already satisfied: numpy>=1.16.0 in /opt/conda/lib/python3.9/site-packages (from pandas-profiling==2.11) (1.21.1)\n",
      "Requirement already satisfied: attrs>=19.3.0 in /opt/conda/lib/python3.9/site-packages (from pandas-profiling==2.11) (21.2.0)\n",
      "Requirement already satisfied: phik>=0.10.0 in /opt/conda/lib/python3.9/site-packages (from pandas-profiling==2.11) (0.12.3)\n",
      "Requirement already satisfied: requests>=2.24.0 in /opt/conda/lib/python3.9/site-packages (from pandas-profiling==2.11) (2.25.1)\n",
      "Requirement already satisfied: tqdm>=4.48.2 in /opt/conda/lib/python3.9/site-packages (from pandas-profiling==2.11) (4.61.2)\n",
      "Requirement already satisfied: joblib in /opt/conda/lib/python3.9/site-packages (from pandas-profiling==2.11) (1.1.0)\n",
      "Requirement already satisfied: seaborn>=0.10.1 in /opt/conda/lib/python3.9/site-packages (from pandas-profiling==2.11) (0.11.1)\n",
      "Requirement already satisfied: ipywidgets>=7.5.1 in /opt/conda/lib/python3.9/site-packages (from pandas-profiling==2.11) (7.6.3)\n",
      "Requirement already satisfied: tangled-up-in-unicode>=0.0.6 in /opt/conda/lib/python3.9/site-packages (from pandas-profiling==2.11) (0.2.0)\n",
      "Requirement already satisfied: matplotlib>=3.2.0 in /opt/conda/lib/python3.9/site-packages (from pandas-profiling==2.11) (3.3.4)\n",
      "Requirement already satisfied: confuse>=1.0.0 in /opt/conda/lib/python3.9/site-packages (from pandas-profiling==2.11) (2.0.1)\n",
      "Requirement already satisfied: visions[type_image_path]==0.6.0 in /opt/conda/lib/python3.9/site-packages (from pandas-profiling==2.11) (0.6.0)\n",
      "Requirement already satisfied: missingno>=0.4.2 in /opt/conda/lib/python3.9/site-packages (from pandas-profiling==2.11) (0.5.2)\n",
      "Requirement already satisfied: networkx>=2.4 in /opt/conda/lib/python3.9/site-packages (from visions[type_image_path]==0.6.0->pandas-profiling==2.11) (3.1)\n",
      "Requirement already satisfied: imagehash in /opt/conda/lib/python3.9/site-packages (from visions[type_image_path]==0.6.0->pandas-profiling==2.11) (4.3.1)\n",
      "Requirement already satisfied: Pillow in /opt/conda/lib/python3.9/site-packages (from visions[type_image_path]==0.6.0->pandas-profiling==2.11) (8.4.0)\n",
      "Requirement already satisfied: pyyaml in /opt/conda/lib/python3.9/site-packages (from confuse>=1.0.0->pandas-profiling==2.11) (6.0)\n",
      "Requirement already satisfied: ipykernel>=4.5.1 in /opt/conda/lib/python3.9/site-packages (from ipywidgets>=7.5.1->pandas-profiling==2.11) (6.0.1)\n",
      "Requirement already satisfied: widgetsnbextension~=3.5.0 in /opt/conda/lib/python3.9/site-packages (from ipywidgets>=7.5.1->pandas-profiling==2.11) (3.5.2)\n",
      "Requirement already satisfied: traitlets>=4.3.1 in /opt/conda/lib/python3.9/site-packages (from ipywidgets>=7.5.1->pandas-profiling==2.11) (5.0.5)\n",
      "Requirement already satisfied: jupyterlab-widgets>=1.0.0 in /opt/conda/lib/python3.9/site-packages (from ipywidgets>=7.5.1->pandas-profiling==2.11) (3.0.2)\n",
      "Requirement already satisfied: ipython>=4.0.0 in /opt/conda/lib/python3.9/site-packages (from ipywidgets>=7.5.1->pandas-profiling==2.11) (7.25.0)\n",
      "Requirement already satisfied: nbformat>=4.2.0 in /opt/conda/lib/python3.9/site-packages (from ipywidgets>=7.5.1->pandas-profiling==2.11) (5.1.3)\n",
      "Requirement already satisfied: debugpy>=1.0.0 in /opt/conda/lib/python3.9/site-packages (from ipykernel>=4.5.1->ipywidgets>=7.5.1->pandas-profiling==2.11) (1.3.0)\n",
      "Requirement already satisfied: jupyter-client in /opt/conda/lib/python3.9/site-packages (from ipykernel>=4.5.1->ipywidgets>=7.5.1->pandas-profiling==2.11) (6.1.12)\n",
      "Requirement already satisfied: tornado>=4.2 in /opt/conda/lib/python3.9/site-packages (from ipykernel>=4.5.1->ipywidgets>=7.5.1->pandas-profiling==2.11) (6.1)\n",
      "Requirement already satisfied: pexpect>4.3 in /opt/conda/lib/python3.9/site-packages (from ipython>=4.0.0->ipywidgets>=7.5.1->pandas-profiling==2.11) (4.8.0)\n",
      "Requirement already satisfied: matplotlib-inline in /opt/conda/lib/python3.9/site-packages (from ipython>=4.0.0->ipywidgets>=7.5.1->pandas-profiling==2.11) (0.1.2)\n",
      "Requirement already satisfied: decorator in /opt/conda/lib/python3.9/site-packages (from ipython>=4.0.0->ipywidgets>=7.5.1->pandas-profiling==2.11) (5.0.9)\n",
      "Requirement already satisfied: pickleshare in /opt/conda/lib/python3.9/site-packages (from ipython>=4.0.0->ipywidgets>=7.5.1->pandas-profiling==2.11) (0.7.5)\n",
      "Requirement already satisfied: prompt-toolkit!=3.0.0,!=3.0.1,<3.1.0,>=2.0.0 in /opt/conda/lib/python3.9/site-packages (from ipython>=4.0.0->ipywidgets>=7.5.1->pandas-profiling==2.11) (3.0.19)\n",
      "Requirement already satisfied: pygments in /opt/conda/lib/python3.9/site-packages (from ipython>=4.0.0->ipywidgets>=7.5.1->pandas-profiling==2.11) (2.9.0)\n",
      "Requirement already satisfied: backcall in /opt/conda/lib/python3.9/site-packages (from ipython>=4.0.0->ipywidgets>=7.5.1->pandas-profiling==2.11) (0.2.0)\n",
      "Requirement already satisfied: setuptools>=18.5 in /opt/conda/lib/python3.9/site-packages (from ipython>=4.0.0->ipywidgets>=7.5.1->pandas-profiling==2.11) (49.6.0.post20210108)\n",
      "Requirement already satisfied: jedi>=0.16 in /opt/conda/lib/python3.9/site-packages (from ipython>=4.0.0->ipywidgets>=7.5.1->pandas-profiling==2.11) (0.18.0)\n",
      "Requirement already satisfied: parso<0.9.0,>=0.8.0 in /opt/conda/lib/python3.9/site-packages (from jedi>=0.16->ipython>=4.0.0->ipywidgets>=7.5.1->pandas-profiling==2.11) (0.8.2)\n",
      "Requirement already satisfied: MarkupSafe>=2.0 in /opt/conda/lib/python3.9/site-packages (from jinja2>=2.11.1->pandas-profiling==2.11) (2.1.1)\n",
      "Requirement already satisfied: kiwisolver>=1.0.1 in /opt/conda/lib/python3.9/site-packages (from matplotlib>=3.2.0->pandas-profiling==2.11) (1.4.4)\n",
      "Requirement already satisfied: pyparsing!=2.0.4,!=2.1.2,!=2.1.6,>=2.0.3 in /opt/conda/lib/python3.9/site-packages (from matplotlib>=3.2.0->pandas-profiling==2.11) (2.4.7)\n",
      "Requirement already satisfied: python-dateutil>=2.1 in /opt/conda/lib/python3.9/site-packages (from matplotlib>=3.2.0->pandas-profiling==2.11) (2.8.1)\n",
      "Requirement already satisfied: cycler>=0.10 in /opt/conda/lib/python3.9/site-packages (from matplotlib>=3.2.0->pandas-profiling==2.11) (0.11.0)\n",
      "Requirement already satisfied: jupyter-core in /opt/conda/lib/python3.9/site-packages (from nbformat>=4.2.0->ipywidgets>=7.5.1->pandas-profiling==2.11) (4.7.1)\n",
      "Requirement already satisfied: ipython-genutils in /opt/conda/lib/python3.9/site-packages (from nbformat>=4.2.0->ipywidgets>=7.5.1->pandas-profiling==2.11) (0.2.0)\n",
      "Requirement already satisfied: jsonschema!=2.5.0,>=2.4 in /opt/conda/lib/python3.9/site-packages (from nbformat>=4.2.0->ipywidgets>=7.5.1->pandas-profiling==2.11) (3.2.0)\n",
      "Requirement already satisfied: six>=1.11.0 in /opt/conda/lib/python3.9/site-packages (from jsonschema!=2.5.0,>=2.4->nbformat>=4.2.0->ipywidgets>=7.5.1->pandas-profiling==2.11) (1.16.0)\n",
      "Requirement already satisfied: pyrsistent>=0.14.0 in /opt/conda/lib/python3.9/site-packages (from jsonschema!=2.5.0,>=2.4->nbformat>=4.2.0->ipywidgets>=7.5.1->pandas-profiling==2.11) (0.17.3)\n",
      "Requirement already satisfied: pytz>=2017.3 in /opt/conda/lib/python3.9/site-packages (from pandas!=1.0.0,!=1.0.1,!=1.0.2,!=1.1.0,>=0.25.3->pandas-profiling==2.11) (2021.1)\n",
      "Requirement already satisfied: ptyprocess>=0.5 in /opt/conda/lib/python3.9/site-packages (from pexpect>4.3->ipython>=4.0.0->ipywidgets>=7.5.1->pandas-profiling==2.11) (0.7.0)\n",
      "Requirement already satisfied: wcwidth in /opt/conda/lib/python3.9/site-packages (from prompt-toolkit!=3.0.0,!=3.0.1,<3.1.0,>=2.0.0->ipython>=4.0.0->ipywidgets>=7.5.1->pandas-profiling==2.11) (0.2.5)\n",
      "Requirement already satisfied: certifi>=2017.4.17 in /opt/conda/lib/python3.9/site-packages (from requests>=2.24.0->pandas-profiling==2.11) (2022.6.15)\n",
      "Requirement already satisfied: idna<3,>=2.5 in /opt/conda/lib/python3.9/site-packages (from requests>=2.24.0->pandas-profiling==2.11) (2.10)\n",
      "Requirement already satisfied: urllib3<1.27,>=1.21.1 in /opt/conda/lib/python3.9/site-packages (from requests>=2.24.0->pandas-profiling==2.11) (1.26.6)\n",
      "Requirement already satisfied: chardet<5,>=3.0.2 in /opt/conda/lib/python3.9/site-packages (from requests>=2.24.0->pandas-profiling==2.11) (4.0.0)\n",
      "Requirement already satisfied: notebook>=4.4.1 in /opt/conda/lib/python3.9/site-packages (from widgetsnbextension~=3.5.0->ipywidgets>=7.5.1->pandas-profiling==2.11) (6.4.0)\n",
      "Requirement already satisfied: terminado>=0.8.3 in /opt/conda/lib/python3.9/site-packages (from notebook>=4.4.1->widgetsnbextension~=3.5.0->ipywidgets>=7.5.1->pandas-profiling==2.11) (0.10.1)\n",
      "Requirement already satisfied: nbconvert in /opt/conda/lib/python3.9/site-packages (from notebook>=4.4.1->widgetsnbextension~=3.5.0->ipywidgets>=7.5.1->pandas-profiling==2.11) (6.1.0)\n",
      "Requirement already satisfied: Send2Trash>=1.5.0 in /opt/conda/lib/python3.9/site-packages (from notebook>=4.4.1->widgetsnbextension~=3.5.0->ipywidgets>=7.5.1->pandas-profiling==2.11) (1.7.1)\n",
      "Requirement already satisfied: prometheus-client in /opt/conda/lib/python3.9/site-packages (from notebook>=4.4.1->widgetsnbextension~=3.5.0->ipywidgets>=7.5.1->pandas-profiling==2.11) (0.11.0)\n",
      "Requirement already satisfied: pyzmq>=17 in /opt/conda/lib/python3.9/site-packages (from notebook>=4.4.1->widgetsnbextension~=3.5.0->ipywidgets>=7.5.1->pandas-profiling==2.11) (22.1.0)\n",
      "Requirement already satisfied: argon2-cffi in /opt/conda/lib/python3.9/site-packages (from notebook>=4.4.1->widgetsnbextension~=3.5.0->ipywidgets>=7.5.1->pandas-profiling==2.11) (20.1.0)\n",
      "Requirement already satisfied: cffi>=1.0.0 in /opt/conda/lib/python3.9/site-packages (from argon2-cffi->notebook>=4.4.1->widgetsnbextension~=3.5.0->ipywidgets>=7.5.1->pandas-profiling==2.11) (1.14.5)\n",
      "Requirement already satisfied: pycparser in /opt/conda/lib/python3.9/site-packages (from cffi>=1.0.0->argon2-cffi->notebook>=4.4.1->widgetsnbextension~=3.5.0->ipywidgets>=7.5.1->pandas-profiling==2.11) (2.20)\n",
      "Requirement already satisfied: PyWavelets in /opt/conda/lib/python3.9/site-packages (from imagehash->visions[type_image_path]==0.6.0->pandas-profiling==2.11) (1.4.1)\n",
      "Requirement already satisfied: nbclient<0.6.0,>=0.5.0 in /opt/conda/lib/python3.9/site-packages (from nbconvert->notebook>=4.4.1->widgetsnbextension~=3.5.0->ipywidgets>=7.5.1->pandas-profiling==2.11) (0.5.3)\n",
      "Requirement already satisfied: testpath in /opt/conda/lib/python3.9/site-packages (from nbconvert->notebook>=4.4.1->widgetsnbextension~=3.5.0->ipywidgets>=7.5.1->pandas-profiling==2.11) (0.5.0)\n",
      "Requirement already satisfied: bleach in /opt/conda/lib/python3.9/site-packages (from nbconvert->notebook>=4.4.1->widgetsnbextension~=3.5.0->ipywidgets>=7.5.1->pandas-profiling==2.11) (3.3.0)\n",
      "Requirement already satisfied: mistune<2,>=0.8.1 in /opt/conda/lib/python3.9/site-packages (from nbconvert->notebook>=4.4.1->widgetsnbextension~=3.5.0->ipywidgets>=7.5.1->pandas-profiling==2.11) (0.8.4)\n",
      "Requirement already satisfied: defusedxml in /opt/conda/lib/python3.9/site-packages (from nbconvert->notebook>=4.4.1->widgetsnbextension~=3.5.0->ipywidgets>=7.5.1->pandas-profiling==2.11) (0.7.1)\n",
      "Requirement already satisfied: jupyterlab-pygments in /opt/conda/lib/python3.9/site-packages (from nbconvert->notebook>=4.4.1->widgetsnbextension~=3.5.0->ipywidgets>=7.5.1->pandas-profiling==2.11) (0.1.2)\n",
      "Requirement already satisfied: entrypoints>=0.2.2 in /opt/conda/lib/python3.9/site-packages (from nbconvert->notebook>=4.4.1->widgetsnbextension~=3.5.0->ipywidgets>=7.5.1->pandas-profiling==2.11) (0.3)\n",
      "Requirement already satisfied: pandocfilters>=1.4.1 in /opt/conda/lib/python3.9/site-packages (from nbconvert->notebook>=4.4.1->widgetsnbextension~=3.5.0->ipywidgets>=7.5.1->pandas-profiling==2.11) (1.4.2)\n",
      "Requirement already satisfied: nest-asyncio in /opt/conda/lib/python3.9/site-packages (from nbclient<0.6.0,>=0.5.0->nbconvert->notebook>=4.4.1->widgetsnbextension~=3.5.0->ipywidgets>=7.5.1->pandas-profiling==2.11) (1.5.1)\n",
      "Requirement already satisfied: async-generator in /opt/conda/lib/python3.9/site-packages (from nbclient<0.6.0,>=0.5.0->nbconvert->notebook>=4.4.1->widgetsnbextension~=3.5.0->ipywidgets>=7.5.1->pandas-profiling==2.11) (1.10)\n",
      "Requirement already satisfied: webencodings in /opt/conda/lib/python3.9/site-packages (from bleach->nbconvert->notebook>=4.4.1->widgetsnbextension~=3.5.0->ipywidgets>=7.5.1->pandas-profiling==2.11) (0.5.1)\n",
      "Requirement already satisfied: packaging in /opt/conda/lib/python3.9/site-packages (from bleach->nbconvert->notebook>=4.4.1->widgetsnbextension~=3.5.0->ipywidgets>=7.5.1->pandas-profiling==2.11) (21.3)\n"
     ]
    }
   ],
   "source": [
    "import pandas as pd\n",
    "!pip3 install pandas-profiling==2.11\n",
    "from pandas_profiling import ProfileReport\n",
    "from sklearn.model_selection import train_test_split\n",
    "from sklearn.linear_model import LinearRegression\n",
    "from mport numpy as npsklearn.model_selection import RandomizedSearchCV\n",
    "i\n",
    "from scipy.stats import randint\n",
    "from sklearn.metrics import mean_squared_error\n",
    "from numpy.random import RandomState\n",
    "from scipy import stats as st\n",
    "import warnings\n",
    "warnings.filterwarnings(\"ignore\")"
   ]
  },
  {
   "cell_type": "code",
   "execution_count": 2,
   "metadata": {},
   "outputs": [],
   "source": [
    "RANDOM_STATE = 12345\n",
    "BUDGET = 10_000_000_000\n",
    "PRICE_PER_BAREL = 450\n",
    "INCOME_PER_PRODUCT = 450000"
   ]
  },
  {
   "cell_type": "markdown",
   "metadata": {},
   "source": [
    "Откроем по отдельности файлы, посмотрим общую информацию и часть датасета, остальные данные выведем с помощью инструмента ProfileReport, сделаем вывод по каждому региону отдельно"
   ]
  },
  {
   "cell_type": "code",
   "execution_count": 3,
   "metadata": {},
   "outputs": [],
   "source": [
    "try:\n",
    "    data_0 = pd.read_csv('/datasets/geo_data_0.csv')\n",
    "except:\n",
    "    data_0 = pd.read_csv('https://code.s3.yandex.net/datasets/geo_data_0.csv')"
   ]
  },
  {
   "cell_type": "code",
   "execution_count": 4,
   "metadata": {},
   "outputs": [
    {
     "name": "stdout",
     "output_type": "stream",
     "text": [
      "<class 'pandas.core.frame.DataFrame'>\n",
      "RangeIndex: 100000 entries, 0 to 99999\n",
      "Data columns (total 5 columns):\n",
      " #   Column   Non-Null Count   Dtype  \n",
      "---  ------   --------------   -----  \n",
      " 0   id       100000 non-null  object \n",
      " 1   f0       100000 non-null  float64\n",
      " 2   f1       100000 non-null  float64\n",
      " 3   f2       100000 non-null  float64\n",
      " 4   product  100000 non-null  float64\n",
      "dtypes: float64(4), object(1)\n",
      "memory usage: 3.8+ MB\n"
     ]
    }
   ],
   "source": [
    "data_0.info()"
   ]
  },
  {
   "cell_type": "code",
   "execution_count": 5,
   "metadata": {},
   "outputs": [
    {
     "data": {
      "text/html": [
       "<div>\n",
       "<style scoped>\n",
       "    .dataframe tbody tr th:only-of-type {\n",
       "        vertical-align: middle;\n",
       "    }\n",
       "\n",
       "    .dataframe tbody tr th {\n",
       "        vertical-align: top;\n",
       "    }\n",
       "\n",
       "    .dataframe thead th {\n",
       "        text-align: right;\n",
       "    }\n",
       "</style>\n",
       "<table border=\"1\" class=\"dataframe\">\n",
       "  <thead>\n",
       "    <tr style=\"text-align: right;\">\n",
       "      <th></th>\n",
       "      <th>id</th>\n",
       "      <th>f0</th>\n",
       "      <th>f1</th>\n",
       "      <th>f2</th>\n",
       "      <th>product</th>\n",
       "    </tr>\n",
       "  </thead>\n",
       "  <tbody>\n",
       "    <tr>\n",
       "      <th>0</th>\n",
       "      <td>txEyH</td>\n",
       "      <td>0.705745</td>\n",
       "      <td>-0.497823</td>\n",
       "      <td>1.221170</td>\n",
       "      <td>105.280062</td>\n",
       "    </tr>\n",
       "    <tr>\n",
       "      <th>1</th>\n",
       "      <td>2acmU</td>\n",
       "      <td>1.334711</td>\n",
       "      <td>-0.340164</td>\n",
       "      <td>4.365080</td>\n",
       "      <td>73.037750</td>\n",
       "    </tr>\n",
       "    <tr>\n",
       "      <th>2</th>\n",
       "      <td>409Wp</td>\n",
       "      <td>1.022732</td>\n",
       "      <td>0.151990</td>\n",
       "      <td>1.419926</td>\n",
       "      <td>85.265647</td>\n",
       "    </tr>\n",
       "    <tr>\n",
       "      <th>3</th>\n",
       "      <td>iJLyR</td>\n",
       "      <td>-0.032172</td>\n",
       "      <td>0.139033</td>\n",
       "      <td>2.978566</td>\n",
       "      <td>168.620776</td>\n",
       "    </tr>\n",
       "    <tr>\n",
       "      <th>4</th>\n",
       "      <td>Xdl7t</td>\n",
       "      <td>1.988431</td>\n",
       "      <td>0.155413</td>\n",
       "      <td>4.751769</td>\n",
       "      <td>154.036647</td>\n",
       "    </tr>\n",
       "  </tbody>\n",
       "</table>\n",
       "</div>"
      ],
      "text/plain": [
       "      id        f0        f1        f2     product\n",
       "0  txEyH  0.705745 -0.497823  1.221170  105.280062\n",
       "1  2acmU  1.334711 -0.340164  4.365080   73.037750\n",
       "2  409Wp  1.022732  0.151990  1.419926   85.265647\n",
       "3  iJLyR -0.032172  0.139033  2.978566  168.620776\n",
       "4  Xdl7t  1.988431  0.155413  4.751769  154.036647"
      ]
     },
     "execution_count": 5,
     "metadata": {},
     "output_type": "execute_result"
    }
   ],
   "source": [
    "data_0.head(5)"
   ]
  },
  {
   "cell_type": "code",
   "execution_count": 6,
   "metadata": {},
   "outputs": [
    {
     "data": {
      "application/vnd.jupyter.widget-view+json": {
       "model_id": "2766fd4eb7d145a4bcc9bd0da8dabe8c",
       "version_major": 2,
       "version_minor": 0
      },
      "text/plain": [
       "Summarize dataset:   0%|          | 0/18 [00:00<?, ?it/s]"
      ]
     },
     "metadata": {},
     "output_type": "display_data"
    },
    {
     "data": {
      "application/vnd.jupyter.widget-view+json": {
       "model_id": "8f98fce5e38b463c92c075d0f5461fbd",
       "version_major": 2,
       "version_minor": 0
      },
      "text/plain": [
       "Generate report structure:   0%|          | 0/1 [00:00<?, ?it/s]"
      ]
     },
     "metadata": {},
     "output_type": "display_data"
    },
    {
     "data": {
      "application/vnd.jupyter.widget-view+json": {
       "model_id": "",
       "version_major": 2,
       "version_minor": 0
      },
      "text/plain": [
       "Render widgets:   0%|          | 0/1 [00:00<?, ?it/s]"
      ]
     },
     "metadata": {},
     "output_type": "display_data"
    },
    {
     "data": {
      "application/vnd.jupyter.widget-view+json": {
       "model_id": "a6880532b78d4e61b1002349122b26f3",
       "version_major": 2,
       "version_minor": 0
      },
      "text/plain": [
       "VBox(children=(Tab(children=(Tab(children=(GridBox(children=(VBox(children=(GridspecLayout(children=(HTML(valu…"
      ]
     },
     "metadata": {},
     "output_type": "display_data"
    }
   ],
   "source": [
    "profile = ProfileReport(data_0,\n",
    "                        title='Pandas Profiling Report - Data 0')\n",
    "\n",
    "profile.to_widgets()"
   ]
  },
  {
   "cell_type": "markdown",
   "metadata": {},
   "source": [
    "Вывод: открыли и рассмотрели данные по первому региону (0), пропусков нет, дубликатов нет, распределения по точкам разные, есть нормальное и ненормальное распределение"
   ]
  },
  {
   "cell_type": "code",
   "execution_count": 7,
   "metadata": {},
   "outputs": [],
   "source": [
    "try:\n",
    "    data_1 = pd.read_csv('/datasets/geo_data_1.csv')\n",
    "except:\n",
    "    data_1 = pd.read_csv('https://code.s3.yandex.net/datasets/geo_data_1.csv')"
   ]
  },
  {
   "cell_type": "code",
   "execution_count": 8,
   "metadata": {},
   "outputs": [
    {
     "name": "stdout",
     "output_type": "stream",
     "text": [
      "<class 'pandas.core.frame.DataFrame'>\n",
      "RangeIndex: 100000 entries, 0 to 99999\n",
      "Data columns (total 5 columns):\n",
      " #   Column   Non-Null Count   Dtype  \n",
      "---  ------   --------------   -----  \n",
      " 0   id       100000 non-null  object \n",
      " 1   f0       100000 non-null  float64\n",
      " 2   f1       100000 non-null  float64\n",
      " 3   f2       100000 non-null  float64\n",
      " 4   product  100000 non-null  float64\n",
      "dtypes: float64(4), object(1)\n",
      "memory usage: 3.8+ MB\n"
     ]
    }
   ],
   "source": [
    "data_1.info()"
   ]
  },
  {
   "cell_type": "code",
   "execution_count": 9,
   "metadata": {},
   "outputs": [
    {
     "data": {
      "text/html": [
       "<div>\n",
       "<style scoped>\n",
       "    .dataframe tbody tr th:only-of-type {\n",
       "        vertical-align: middle;\n",
       "    }\n",
       "\n",
       "    .dataframe tbody tr th {\n",
       "        vertical-align: top;\n",
       "    }\n",
       "\n",
       "    .dataframe thead th {\n",
       "        text-align: right;\n",
       "    }\n",
       "</style>\n",
       "<table border=\"1\" class=\"dataframe\">\n",
       "  <thead>\n",
       "    <tr style=\"text-align: right;\">\n",
       "      <th></th>\n",
       "      <th>id</th>\n",
       "      <th>f0</th>\n",
       "      <th>f1</th>\n",
       "      <th>f2</th>\n",
       "      <th>product</th>\n",
       "    </tr>\n",
       "  </thead>\n",
       "  <tbody>\n",
       "    <tr>\n",
       "      <th>0</th>\n",
       "      <td>kBEdx</td>\n",
       "      <td>-15.001348</td>\n",
       "      <td>-8.276000</td>\n",
       "      <td>-0.005876</td>\n",
       "      <td>3.179103</td>\n",
       "    </tr>\n",
       "    <tr>\n",
       "      <th>1</th>\n",
       "      <td>62mP7</td>\n",
       "      <td>14.272088</td>\n",
       "      <td>-3.475083</td>\n",
       "      <td>0.999183</td>\n",
       "      <td>26.953261</td>\n",
       "    </tr>\n",
       "    <tr>\n",
       "      <th>2</th>\n",
       "      <td>vyE1P</td>\n",
       "      <td>6.263187</td>\n",
       "      <td>-5.948386</td>\n",
       "      <td>5.001160</td>\n",
       "      <td>134.766305</td>\n",
       "    </tr>\n",
       "    <tr>\n",
       "      <th>3</th>\n",
       "      <td>KcrkZ</td>\n",
       "      <td>-13.081196</td>\n",
       "      <td>-11.506057</td>\n",
       "      <td>4.999415</td>\n",
       "      <td>137.945408</td>\n",
       "    </tr>\n",
       "    <tr>\n",
       "      <th>4</th>\n",
       "      <td>AHL4O</td>\n",
       "      <td>12.702195</td>\n",
       "      <td>-8.147433</td>\n",
       "      <td>5.004363</td>\n",
       "      <td>134.766305</td>\n",
       "    </tr>\n",
       "  </tbody>\n",
       "</table>\n",
       "</div>"
      ],
      "text/plain": [
       "      id         f0         f1        f2     product\n",
       "0  kBEdx -15.001348  -8.276000 -0.005876    3.179103\n",
       "1  62mP7  14.272088  -3.475083  0.999183   26.953261\n",
       "2  vyE1P   6.263187  -5.948386  5.001160  134.766305\n",
       "3  KcrkZ -13.081196 -11.506057  4.999415  137.945408\n",
       "4  AHL4O  12.702195  -8.147433  5.004363  134.766305"
      ]
     },
     "execution_count": 9,
     "metadata": {},
     "output_type": "execute_result"
    }
   ],
   "source": [
    "data_1.head(5)"
   ]
  },
  {
   "cell_type": "code",
   "execution_count": 10,
   "metadata": {},
   "outputs": [
    {
     "data": {
      "application/vnd.jupyter.widget-view+json": {
       "model_id": "9b0bc26399754148ab1b61ce4e6056be",
       "version_major": 2,
       "version_minor": 0
      },
      "text/plain": [
       "Summarize dataset:   0%|          | 0/18 [00:00<?, ?it/s]"
      ]
     },
     "metadata": {},
     "output_type": "display_data"
    },
    {
     "data": {
      "application/vnd.jupyter.widget-view+json": {
       "model_id": "03d1289feeee4c8792e84f3abff82159",
       "version_major": 2,
       "version_minor": 0
      },
      "text/plain": [
       "Generate report structure:   0%|          | 0/1 [00:00<?, ?it/s]"
      ]
     },
     "metadata": {},
     "output_type": "display_data"
    },
    {
     "data": {
      "application/vnd.jupyter.widget-view+json": {
       "model_id": "",
       "version_major": 2,
       "version_minor": 0
      },
      "text/plain": [
       "Render widgets:   0%|          | 0/1 [00:00<?, ?it/s]"
      ]
     },
     "metadata": {},
     "output_type": "display_data"
    },
    {
     "data": {
      "application/vnd.jupyter.widget-view+json": {
       "model_id": "a86e138289844e4f948d7afcdc8fe08f",
       "version_major": 2,
       "version_minor": 0
      },
      "text/plain": [
       "VBox(children=(Tab(children=(Tab(children=(GridBox(children=(VBox(children=(GridspecLayout(children=(HTML(valu…"
      ]
     },
     "metadata": {},
     "output_type": "display_data"
    }
   ],
   "source": [
    "profile = ProfileReport(data_1,\n",
    "                        title='Pandas Profiling Report - Data 1')\n",
    "\n",
    "profile.to_widgets()"
   ]
  },
  {
   "cell_type": "markdown",
   "metadata": {},
   "source": [
    "Вывод: открыли и рассмотрели данные по второму региону (1), пропусков нет, дубликатов нет, распределения точек также имеют разное распределение и нормальное и ненормальное, с данными первого региона не совпадают. Есть связь между продуктом и точкой f2."
   ]
  },
  {
   "cell_type": "code",
   "execution_count": 11,
   "metadata": {},
   "outputs": [],
   "source": [
    "try:\n",
    "    data_2 = pd.read_csv('/datasets/geo_data_2.csv')\n",
    "except:\n",
    "    data_2 = pd.read_csv('https://code.s3.yandex.net/datasets/geo_data_2.csv')"
   ]
  },
  {
   "cell_type": "code",
   "execution_count": 12,
   "metadata": {},
   "outputs": [
    {
     "name": "stdout",
     "output_type": "stream",
     "text": [
      "<class 'pandas.core.frame.DataFrame'>\n",
      "RangeIndex: 100000 entries, 0 to 99999\n",
      "Data columns (total 5 columns):\n",
      " #   Column   Non-Null Count   Dtype  \n",
      "---  ------   --------------   -----  \n",
      " 0   id       100000 non-null  object \n",
      " 1   f0       100000 non-null  float64\n",
      " 2   f1       100000 non-null  float64\n",
      " 3   f2       100000 non-null  float64\n",
      " 4   product  100000 non-null  float64\n",
      "dtypes: float64(4), object(1)\n",
      "memory usage: 3.8+ MB\n"
     ]
    }
   ],
   "source": [
    "data_2.info()"
   ]
  },
  {
   "cell_type": "code",
   "execution_count": 13,
   "metadata": {},
   "outputs": [
    {
     "data": {
      "text/html": [
       "<div>\n",
       "<style scoped>\n",
       "    .dataframe tbody tr th:only-of-type {\n",
       "        vertical-align: middle;\n",
       "    }\n",
       "\n",
       "    .dataframe tbody tr th {\n",
       "        vertical-align: top;\n",
       "    }\n",
       "\n",
       "    .dataframe thead th {\n",
       "        text-align: right;\n",
       "    }\n",
       "</style>\n",
       "<table border=\"1\" class=\"dataframe\">\n",
       "  <thead>\n",
       "    <tr style=\"text-align: right;\">\n",
       "      <th></th>\n",
       "      <th>id</th>\n",
       "      <th>f0</th>\n",
       "      <th>f1</th>\n",
       "      <th>f2</th>\n",
       "      <th>product</th>\n",
       "    </tr>\n",
       "  </thead>\n",
       "  <tbody>\n",
       "    <tr>\n",
       "      <th>0</th>\n",
       "      <td>fwXo0</td>\n",
       "      <td>-1.146987</td>\n",
       "      <td>0.963328</td>\n",
       "      <td>-0.828965</td>\n",
       "      <td>27.758673</td>\n",
       "    </tr>\n",
       "    <tr>\n",
       "      <th>1</th>\n",
       "      <td>WJtFt</td>\n",
       "      <td>0.262778</td>\n",
       "      <td>0.269839</td>\n",
       "      <td>-2.530187</td>\n",
       "      <td>56.069697</td>\n",
       "    </tr>\n",
       "    <tr>\n",
       "      <th>2</th>\n",
       "      <td>ovLUW</td>\n",
       "      <td>0.194587</td>\n",
       "      <td>0.289035</td>\n",
       "      <td>-5.586433</td>\n",
       "      <td>62.871910</td>\n",
       "    </tr>\n",
       "    <tr>\n",
       "      <th>3</th>\n",
       "      <td>q6cA6</td>\n",
       "      <td>2.236060</td>\n",
       "      <td>-0.553760</td>\n",
       "      <td>0.930038</td>\n",
       "      <td>114.572842</td>\n",
       "    </tr>\n",
       "    <tr>\n",
       "      <th>4</th>\n",
       "      <td>WPMUX</td>\n",
       "      <td>-0.515993</td>\n",
       "      <td>1.716266</td>\n",
       "      <td>5.899011</td>\n",
       "      <td>149.600746</td>\n",
       "    </tr>\n",
       "  </tbody>\n",
       "</table>\n",
       "</div>"
      ],
      "text/plain": [
       "      id        f0        f1        f2     product\n",
       "0  fwXo0 -1.146987  0.963328 -0.828965   27.758673\n",
       "1  WJtFt  0.262778  0.269839 -2.530187   56.069697\n",
       "2  ovLUW  0.194587  0.289035 -5.586433   62.871910\n",
       "3  q6cA6  2.236060 -0.553760  0.930038  114.572842\n",
       "4  WPMUX -0.515993  1.716266  5.899011  149.600746"
      ]
     },
     "execution_count": 13,
     "metadata": {},
     "output_type": "execute_result"
    }
   ],
   "source": [
    "data_2.head(5)"
   ]
  },
  {
   "cell_type": "code",
   "execution_count": 14,
   "metadata": {},
   "outputs": [
    {
     "data": {
      "application/vnd.jupyter.widget-view+json": {
       "model_id": "9be9cb69263a4e42ad0a7d20d54bf84a",
       "version_major": 2,
       "version_minor": 0
      },
      "text/plain": [
       "Summarize dataset:   0%|          | 0/18 [00:00<?, ?it/s]"
      ]
     },
     "metadata": {},
     "output_type": "display_data"
    },
    {
     "data": {
      "application/vnd.jupyter.widget-view+json": {
       "model_id": "012ae5cab70749dc94ac8e18088ddba2",
       "version_major": 2,
       "version_minor": 0
      },
      "text/plain": [
       "Generate report structure:   0%|          | 0/1 [00:00<?, ?it/s]"
      ]
     },
     "metadata": {},
     "output_type": "display_data"
    },
    {
     "data": {
      "application/vnd.jupyter.widget-view+json": {
       "model_id": "",
       "version_major": 2,
       "version_minor": 0
      },
      "text/plain": [
       "Render widgets:   0%|          | 0/1 [00:00<?, ?it/s]"
      ]
     },
     "metadata": {},
     "output_type": "display_data"
    },
    {
     "data": {
      "application/vnd.jupyter.widget-view+json": {
       "model_id": "596f953daac94c9eab8483b780189be5",
       "version_major": 2,
       "version_minor": 0
      },
      "text/plain": [
       "VBox(children=(Tab(children=(Tab(children=(GridBox(children=(VBox(children=(GridspecLayout(children=(HTML(valu…"
      ]
     },
     "metadata": {},
     "output_type": "display_data"
    }
   ],
   "source": [
    "profile = ProfileReport(data_2,\n",
    "                        title='Pandas Profiling Report - Data 2')\n",
    "\n",
    "profile.to_widgets()"
   ]
  },
  {
   "cell_type": "markdown",
   "metadata": {},
   "source": [
    "Вывод: открыли и рассмотрели данные по второму региону (2), пропусков нет, дубликатов нет, распределения всех точек имеют нормальное распределение."
   ]
  },
  {
   "cell_type": "markdown",
   "metadata": {},
   "source": [
    "Во всех датасетах есть повторяющиеся id, посмотрим разные ли там данные на примере одного региона, учитывая, что дубликатов нет, разные данные, но перепроверим"
   ]
  },
  {
   "cell_type": "code",
   "execution_count": 15,
   "metadata": {},
   "outputs": [
    {
     "data": {
      "text/plain": [
       "xCHr8    2\n",
       "Vcm5J    2\n",
       "KUPhW    2\n",
       "VF7Jo    2\n",
       "9CcOt    1\n",
       "        ..\n",
       "6Xn7I    1\n",
       "2dMsg    1\n",
       "qO7bn    1\n",
       "3L9g4    1\n",
       "LlFB5    1\n",
       "Name: id, Length: 99996, dtype: int64"
      ]
     },
     "execution_count": 15,
     "metadata": {},
     "output_type": "execute_result"
    }
   ],
   "source": [
    "data_2['id'].value_counts()"
   ]
  },
  {
   "cell_type": "code",
   "execution_count": 16,
   "metadata": {},
   "outputs": [
    {
     "data": {
      "text/html": [
       "<div>\n",
       "<style scoped>\n",
       "    .dataframe tbody tr th:only-of-type {\n",
       "        vertical-align: middle;\n",
       "    }\n",
       "\n",
       "    .dataframe tbody tr th {\n",
       "        vertical-align: top;\n",
       "    }\n",
       "\n",
       "    .dataframe thead th {\n",
       "        text-align: right;\n",
       "    }\n",
       "</style>\n",
       "<table border=\"1\" class=\"dataframe\">\n",
       "  <thead>\n",
       "    <tr style=\"text-align: right;\">\n",
       "      <th></th>\n",
       "      <th>id</th>\n",
       "      <th>f0</th>\n",
       "      <th>f1</th>\n",
       "      <th>f2</th>\n",
       "      <th>product</th>\n",
       "    </tr>\n",
       "  </thead>\n",
       "  <tbody>\n",
       "    <tr>\n",
       "      <th>28039</th>\n",
       "      <td>xCHr8</td>\n",
       "      <td>1.633027</td>\n",
       "      <td>0.368135</td>\n",
       "      <td>-2.378367</td>\n",
       "      <td>6.120525</td>\n",
       "    </tr>\n",
       "    <tr>\n",
       "      <th>43233</th>\n",
       "      <td>xCHr8</td>\n",
       "      <td>-0.847066</td>\n",
       "      <td>2.101796</td>\n",
       "      <td>5.597130</td>\n",
       "      <td>184.388641</td>\n",
       "    </tr>\n",
       "  </tbody>\n",
       "</table>\n",
       "</div>"
      ],
      "text/plain": [
       "          id        f0        f1        f2     product\n",
       "28039  xCHr8  1.633027  0.368135 -2.378367    6.120525\n",
       "43233  xCHr8 -0.847066  2.101796  5.597130  184.388641"
      ]
     },
     "execution_count": 16,
     "metadata": {},
     "output_type": "execute_result"
    }
   ],
   "source": [
    "data_2.query('id == \"xCHr8\"')"
   ]
  },
  {
   "cell_type": "markdown",
   "metadata": {},
   "source": [
    "данные разные, удалим во всех датасетах колонки с id, чтобы они не мешали нам в моделировании"
   ]
  },
  {
   "cell_type": "code",
   "execution_count": 17,
   "metadata": {},
   "outputs": [],
   "source": [
    "data_0 = data_0.drop(['id'], axis=1)\n",
    "data_1 = data_1.drop(['id'], axis=1)\n",
    "data_2 = data_2.drop(['id'], axis=1)"
   ]
  },
  {
   "cell_type": "markdown",
   "metadata": {},
   "source": [
    "Проверим"
   ]
  },
  {
   "cell_type": "code",
   "execution_count": 18,
   "metadata": {},
   "outputs": [
    {
     "data": {
      "text/html": [
       "<div>\n",
       "<style scoped>\n",
       "    .dataframe tbody tr th:only-of-type {\n",
       "        vertical-align: middle;\n",
       "    }\n",
       "\n",
       "    .dataframe tbody tr th {\n",
       "        vertical-align: top;\n",
       "    }\n",
       "\n",
       "    .dataframe thead th {\n",
       "        text-align: right;\n",
       "    }\n",
       "</style>\n",
       "<table border=\"1\" class=\"dataframe\">\n",
       "  <thead>\n",
       "    <tr style=\"text-align: right;\">\n",
       "      <th></th>\n",
       "      <th>f0</th>\n",
       "      <th>f1</th>\n",
       "      <th>f2</th>\n",
       "      <th>product</th>\n",
       "    </tr>\n",
       "  </thead>\n",
       "  <tbody>\n",
       "    <tr>\n",
       "      <th>0</th>\n",
       "      <td>0.705745</td>\n",
       "      <td>-0.497823</td>\n",
       "      <td>1.221170</td>\n",
       "      <td>105.280062</td>\n",
       "    </tr>\n",
       "    <tr>\n",
       "      <th>1</th>\n",
       "      <td>1.334711</td>\n",
       "      <td>-0.340164</td>\n",
       "      <td>4.365080</td>\n",
       "      <td>73.037750</td>\n",
       "    </tr>\n",
       "    <tr>\n",
       "      <th>2</th>\n",
       "      <td>1.022732</td>\n",
       "      <td>0.151990</td>\n",
       "      <td>1.419926</td>\n",
       "      <td>85.265647</td>\n",
       "    </tr>\n",
       "    <tr>\n",
       "      <th>3</th>\n",
       "      <td>-0.032172</td>\n",
       "      <td>0.139033</td>\n",
       "      <td>2.978566</td>\n",
       "      <td>168.620776</td>\n",
       "    </tr>\n",
       "    <tr>\n",
       "      <th>4</th>\n",
       "      <td>1.988431</td>\n",
       "      <td>0.155413</td>\n",
       "      <td>4.751769</td>\n",
       "      <td>154.036647</td>\n",
       "    </tr>\n",
       "  </tbody>\n",
       "</table>\n",
       "</div>"
      ],
      "text/plain": [
       "         f0        f1        f2     product\n",
       "0  0.705745 -0.497823  1.221170  105.280062\n",
       "1  1.334711 -0.340164  4.365080   73.037750\n",
       "2  1.022732  0.151990  1.419926   85.265647\n",
       "3 -0.032172  0.139033  2.978566  168.620776\n",
       "4  1.988431  0.155413  4.751769  154.036647"
      ]
     },
     "execution_count": 18,
     "metadata": {},
     "output_type": "execute_result"
    }
   ],
   "source": [
    "data_0.head(5)"
   ]
  },
  {
   "cell_type": "markdown",
   "metadata": {},
   "source": [
    "Вывод: открыли и рассмотрели данные по всем регионам, удалили несущественные данные, посмотрели, что нет дубликатов и пропусков, посмотрели по графикам какие есть распределения."
   ]
  },
  {
   "cell_type": "markdown",
   "metadata": {},
   "source": [
    "## Обучение и проверка модели"
   ]
  },
  {
   "cell_type": "markdown",
   "metadata": {},
   "source": [
    "Обучим и проверим модели для каждого региона:\n",
    " 1. Разобьем данные на обучающую и валидационную выборки в соотношении 75:25.\n",
    " 2. Обучим модель и сделаем предсказания на валидационной выборке.\n",
    " 3. Сохраним предсказания и правильные ответы на валидационной выборке.\n",
    " 4. Напечатаем на экране средний запас предсказанного сырья и RMSE модели.\n",
    " 5. Проанализируем результаты."
   ]
  },
  {
   "cell_type": "markdown",
   "metadata": {},
   "source": [
    "Первый регион"
   ]
  },
  {
   "cell_type": "code",
   "execution_count": 19,
   "metadata": {},
   "outputs": [],
   "source": [
    "def shape(features_train, target_train, features_valid, target_valid):\n",
    "    print(\n",
    "    'Обучающая выборка:', features_train_0.shape, target_train_0.shape,\n",
    "    'Валидационная выборка:', features_valid_0.shape, target_valid_0.shape\n",
    "     )"
   ]
  },
  {
   "cell_type": "code",
   "execution_count": 20,
   "metadata": {},
   "outputs": [],
   "source": [
    "def parameters(features_train, target_train):\n",
    "    rs_space={'fit_intercept':[True, False],\n",
    "              'normalize':[True, False],\n",
    "              'copy_X':[True, False]\n",
    "         }\n",
    "    lr = LinearRegression()\n",
    "    lr_random = RandomizedSearchCV(lr, rs_space, n_iter=500, scoring='neg_mean_squared_error', n_jobs=-1, cv=3)\n",
    "    model_random = lr_random.fit(features_train, target_train)\n",
    "    print('Best hyperparameters are: '+str(model_random.best_params_))\n",
    "    print('Best score is: '+str(model_random.best_score_))"
   ]
  },
  {
   "cell_type": "code",
   "execution_count": 21,
   "metadata": {},
   "outputs": [],
   "source": [
    "def RMSE(mse):\n",
    "    print(\"RMSE: {}\".format(np.sqrt(mse)))"
   ]
  },
  {
   "cell_type": "code",
   "execution_count": 22,
   "metadata": {},
   "outputs": [],
   "source": [
    "features_0 = data_0.drop(['product'], axis=1)\n",
    "target_0 = data_0['product']\n",
    "\n",
    "features_train_0, features_valid_0, target_train_0, target_valid_0  = train_test_split(\n",
    "    features_0, target_0, test_size=0.25, random_state=12345) "
   ]
  },
  {
   "cell_type": "code",
   "execution_count": 23,
   "metadata": {},
   "outputs": [
    {
     "name": "stdout",
     "output_type": "stream",
     "text": [
      "Обучающая выборка: (75000, 3) (75000,) Валидационная выборка: (25000, 3) (25000,)\n"
     ]
    }
   ],
   "source": [
    "shape(features_train_0, target_train_0, features_valid_0, target_valid_0)"
   ]
  },
  {
   "cell_type": "markdown",
   "metadata": {},
   "source": [
    "Сделаем подбор лучних параметров через случайный перебор для каждого региона"
   ]
  },
  {
   "cell_type": "code",
   "execution_count": 24,
   "metadata": {},
   "outputs": [
    {
     "name": "stdout",
     "output_type": "stream",
     "text": [
      "Best hyperparameters are: {'normalize': False, 'fit_intercept': True, 'copy_X': True}\n",
      "Best score is: -1423.8028045400797\n"
     ]
    }
   ],
   "source": [
    "parameters(features_train_0, target_train_0)"
   ]
  },
  {
   "cell_type": "code",
   "execution_count": 25,
   "metadata": {},
   "outputs": [
    {
     "name": "stdout",
     "output_type": "stream",
     "text": [
      "RMSE: 37.5794217150813\n",
      "Средний запас сырья: 92.59256778438035.\n"
     ]
    }
   ],
   "source": [
    "model_0 = LinearRegression(normalize=True, fit_intercept=True, copy_X=True)\n",
    "model_0.fit(features_train_0, target_train_0)\n",
    "predictions_valid_0 = model_0.predict(features_valid_0)\n",
    "mse = mean_squared_error(target_valid_0, predictions_valid_0) \n",
    "RMSE(mse)\n",
    "print(f'Средний запас сырья: {predictions_valid_0.mean()}.')"
   ]
  },
  {
   "cell_type": "markdown",
   "metadata": {},
   "source": [
    "Второй регион"
   ]
  },
  {
   "cell_type": "code",
   "execution_count": 26,
   "metadata": {},
   "outputs": [
    {
     "name": "stdout",
     "output_type": "stream",
     "text": [
      "Обучающая выборка: (75000, 3) (75000,) Валидационная выборка: (25000, 3) (25000,)\n"
     ]
    }
   ],
   "source": [
    "features_1 = data_1.drop(['product'], axis=1)\n",
    "target_1 = data_1['product']\n",
    "\n",
    "features_valid_1, features_train_1, target_valid_1, target_train_1 = train_test_split(\n",
    "    features_1, target_1, test_size=0.75, random_state=12345)\n",
    "\n",
    "shape(features_valid_1, features_train_1, target_valid_1, target_train_1)"
   ]
  },
  {
   "cell_type": "code",
   "execution_count": 27,
   "metadata": {},
   "outputs": [
    {
     "name": "stdout",
     "output_type": "stream",
     "text": [
      "Best hyperparameters are: {'normalize': False, 'fit_intercept': True, 'copy_X': True}\n",
      "Best score is: -0.7946568195931537\n"
     ]
    }
   ],
   "source": [
    "parameters(features_train_1, target_train_1)"
   ]
  },
  {
   "cell_type": "code",
   "execution_count": 28,
   "metadata": {},
   "outputs": [
    {
     "name": "stdout",
     "output_type": "stream",
     "text": [
      "RMSE: 0.8873287354658539\n",
      "Средний запас сырья: 68.8598208262229.\n"
     ]
    }
   ],
   "source": [
    "model_1 = LinearRegression(normalize=False, fit_intercept=True, copy_X=True)\n",
    "model_1.fit(features_train_1, target_train_1)\n",
    "predictions_valid_1 = model_1.predict(features_valid_1)\n",
    "mse = mean_squared_error(target_valid_1, predictions_valid_1) \n",
    "RMSE(mse)\n",
    "print(f'Средний запас сырья: {predictions_valid_1.mean()}.')"
   ]
  },
  {
   "cell_type": "markdown",
   "metadata": {},
   "source": [
    "Третий регион"
   ]
  },
  {
   "cell_type": "code",
   "execution_count": 29,
   "metadata": {},
   "outputs": [
    {
     "name": "stdout",
     "output_type": "stream",
     "text": [
      "Обучающая выборка: (75000, 3) (75000,) Валидационная выборка: (25000, 3) (25000,)\n"
     ]
    }
   ],
   "source": [
    "features_2 = data_2.drop(['product'], axis=1)\n",
    "target_2 = data_2['product']\n",
    "\n",
    "features_valid_2, features_train_2, target_valid_2, target_train_2 = train_test_split(\n",
    "    features_2, target_2, test_size=0.75, random_state=12345)\n",
    "\n",
    "shape(features_valid_2, features_train_2, target_valid_2, target_train_2)"
   ]
  },
  {
   "cell_type": "code",
   "execution_count": 30,
   "metadata": {},
   "outputs": [
    {
     "name": "stdout",
     "output_type": "stream",
     "text": [
      "Best hyperparameters are: {'normalize': True, 'fit_intercept': True, 'copy_X': True}\n",
      "Best score is: -1603.167409014255\n"
     ]
    }
   ],
   "source": [
    "parameters(features_train_2, target_train_2)"
   ]
  },
  {
   "cell_type": "code",
   "execution_count": 31,
   "metadata": {},
   "outputs": [
    {
     "name": "stdout",
     "output_type": "stream",
     "text": [
      "RMSE: 40.11167877627781\n",
      "Средний запас сырья: 95.06093851120131.\n"
     ]
    }
   ],
   "source": [
    "model_2 = LinearRegression(normalize=True, fit_intercept=True, copy_X=True)\n",
    "model_2.fit(features_train_2, target_train_2)\n",
    "predictions_valid_2 = model_2.predict(features_valid_2)\n",
    "mse = mean_squared_error(target_valid_2, predictions_valid_2) \n",
    "RMSE(mse)\n",
    "print(f'Средний запас сырья: {predictions_valid_2.mean()}.')"
   ]
  },
  {
   "cell_type": "markdown",
   "metadata": {},
   "source": [
    "Вывод: наименьший показатель RMSE во втором регионе, там есть корреляция между продуктом и точкой f2, получается по предсказаниям самый лучший регион - это второй регион. "
   ]
  },
  {
   "cell_type": "markdown",
   "metadata": {},
   "source": [
    "## Подготовка к расчёту прибыли"
   ]
  },
  {
   "cell_type": "markdown",
   "metadata": {},
   "source": [
    "Подготовимся к расчёту прибыли:\n",
    " 1. Все ключевые значения для расчётов сохраним в отдельных переменных.\n",
    " 2. Рассчитаем достаточный объём сырья для безубыточной разработки новой скважины. Сравним полученный объём сырья со средним запасом в каждом регионе. \n",
    " 3. Напишем выводы по этапу подготовки расчёта прибыли."
   ]
  },
  {
   "cell_type": "markdown",
   "metadata": {},
   "source": [
    "Бюджет на разработку скважин в регионе — 10 млрд рублей.\n",
    "При нынешних ценах один баррель сырья приносит 450 рублей дохода. Доход с каждой единицы продукта составляет 450 тыс. рублей, поскольку объём указан в тысячах баррелей."
   ]
  },
  {
   "cell_type": "code",
   "execution_count": 32,
   "metadata": {},
   "outputs": [
    {
     "name": "stdout",
     "output_type": "stream",
     "text": [
      "Объём сырья для безубыточной разработки новой скважины:111.11\n",
      "Средний объем - первый регион: 92.5, средний объем - второй регион: 68.83, средний объем - третий регион: 95.0.\n"
     ]
    }
   ],
   "source": [
    "product_0 = data_0['product']\n",
    "product_1 = data_1['product']\n",
    "product_2 = data_2['product']\n",
    "def earnings(product, income, budget):\n",
    "    return (product.sum() * income) - budget\n",
    "volume_without_loss = round((BUDGET/INCOME_PER_PRODUCT/200), 2)\n",
    "print(f'Объём сырья для безубыточной разработки новой скважины:{volume_without_loss}')\n",
    "def mean_product(product):\n",
    "    return round(product.mean(),2)\n",
    "print(f'Средний объем - первый регион: {mean_product(product_0)}, средний объем - второй регион: {mean_product(product_1)}, средний объем - третий регион: {mean_product(product_2)}.')"
   ]
  },
  {
   "cell_type": "markdown",
   "metadata": {},
   "source": [
    "Вывод: \n",
    "1. создали переменные для продукта по каждому региону \n",
    "2. написали формулу для расчета прибыли по региону, в которой количество продукта региона умножили на его стоимость и вычли бюджет на разработку\n",
    "3. посчитали объем сырья для одной скважины для безубыточной разработки: поделили бюджет на доход от единицы продукта и поделили на 200 скважин, которые будут разрабатываться\n",
    "4. посмотрели средние объемы скважин по регионам, средние объемы меньше, чем нужный показатель."
   ]
  },
  {
   "cell_type": "markdown",
   "metadata": {},
   "source": [
    "## Расчёт прибыли и рисков "
   ]
  },
  {
   "cell_type": "markdown",
   "metadata": {},
   "source": [
    "Напишем функцию для расчёта прибыли по выбранным скважинам и предсказаниям модели:\n",
    " 1. Выберем скважины с максимальными значениями предсказаний. \n",
    " 2. Просуммируем целевое значение объёма сырья, соответствующее этим предсказаниям.\n",
    " 3. Рассчитаем прибыль для полученного объёма сырья."
   ]
  },
  {
   "cell_type": "markdown",
   "metadata": {},
   "source": [
    "Создадим датафреймы с нужными данными для каждого региона, потом напишем формулу для расчета прибыли по 200 лучшим скважинам по предсказаниям, посчитанным по реальным данным"
   ]
  },
  {
   "cell_type": "code",
   "execution_count": 33,
   "metadata": {},
   "outputs": [
    {
     "data": {
      "text/html": [
       "<div>\n",
       "<style scoped>\n",
       "    .dataframe tbody tr th:only-of-type {\n",
       "        vertical-align: middle;\n",
       "    }\n",
       "\n",
       "    .dataframe tbody tr th {\n",
       "        vertical-align: top;\n",
       "    }\n",
       "\n",
       "    .dataframe thead th {\n",
       "        text-align: right;\n",
       "    }\n",
       "</style>\n",
       "<table border=\"1\" class=\"dataframe\">\n",
       "  <thead>\n",
       "    <tr style=\"text-align: right;\">\n",
       "      <th></th>\n",
       "      <th>target_valid_0</th>\n",
       "      <th>predictions_valid_0</th>\n",
       "    </tr>\n",
       "  </thead>\n",
       "  <tbody>\n",
       "    <tr>\n",
       "      <th>0</th>\n",
       "      <td>10.038645</td>\n",
       "      <td>95.894952</td>\n",
       "    </tr>\n",
       "    <tr>\n",
       "      <th>1</th>\n",
       "      <td>114.551489</td>\n",
       "      <td>77.572583</td>\n",
       "    </tr>\n",
       "    <tr>\n",
       "      <th>2</th>\n",
       "      <td>132.603635</td>\n",
       "      <td>77.892640</td>\n",
       "    </tr>\n",
       "    <tr>\n",
       "      <th>3</th>\n",
       "      <td>169.072125</td>\n",
       "      <td>90.175134</td>\n",
       "    </tr>\n",
       "    <tr>\n",
       "      <th>4</th>\n",
       "      <td>122.325180</td>\n",
       "      <td>70.510088</td>\n",
       "    </tr>\n",
       "  </tbody>\n",
       "</table>\n",
       "</div>"
      ],
      "text/plain": [
       "   target_valid_0  predictions_valid_0\n",
       "0       10.038645            95.894952\n",
       "1      114.551489            77.572583\n",
       "2      132.603635            77.892640\n",
       "3      169.072125            90.175134\n",
       "4      122.325180            70.510088"
      ]
     },
     "execution_count": 33,
     "metadata": {},
     "output_type": "execute_result"
    }
   ],
   "source": [
    "data_region_0 = pd.DataFrame()\n",
    "data_region_0['target_valid_0'] = target_valid_0\n",
    "data_region_0['predictions_valid_0'] = predictions_valid_0.tolist()\n",
    "data_region_0.reset_index(inplace=True)\n",
    "data_region_0.drop(['index'], axis=1, inplace=True)\n",
    "data_region_0.head(5)"
   ]
  },
  {
   "cell_type": "code",
   "execution_count": 34,
   "metadata": {},
   "outputs": [
    {
     "data": {
      "text/html": [
       "<div>\n",
       "<style scoped>\n",
       "    .dataframe tbody tr th:only-of-type {\n",
       "        vertical-align: middle;\n",
       "    }\n",
       "\n",
       "    .dataframe tbody tr th {\n",
       "        vertical-align: top;\n",
       "    }\n",
       "\n",
       "    .dataframe thead th {\n",
       "        text-align: right;\n",
       "    }\n",
       "</style>\n",
       "<table border=\"1\" class=\"dataframe\">\n",
       "  <thead>\n",
       "    <tr style=\"text-align: right;\">\n",
       "      <th></th>\n",
       "      <th>target_valid_1</th>\n",
       "      <th>predictions_valid_1</th>\n",
       "    </tr>\n",
       "  </thead>\n",
       "  <tbody>\n",
       "    <tr>\n",
       "      <th>0</th>\n",
       "      <td>0.000000</td>\n",
       "      <td>1.041699</td>\n",
       "    </tr>\n",
       "    <tr>\n",
       "      <th>1</th>\n",
       "      <td>26.953261</td>\n",
       "      <td>26.737106</td>\n",
       "    </tr>\n",
       "    <tr>\n",
       "      <th>2</th>\n",
       "      <td>3.179103</td>\n",
       "      <td>2.427588</td>\n",
       "    </tr>\n",
       "    <tr>\n",
       "      <th>3</th>\n",
       "      <td>53.906522</td>\n",
       "      <td>55.368477</td>\n",
       "    </tr>\n",
       "    <tr>\n",
       "      <th>4</th>\n",
       "      <td>137.945408</td>\n",
       "      <td>137.031307</td>\n",
       "    </tr>\n",
       "  </tbody>\n",
       "</table>\n",
       "</div>"
      ],
      "text/plain": [
       "   target_valid_1  predictions_valid_1\n",
       "0        0.000000             1.041699\n",
       "1       26.953261            26.737106\n",
       "2        3.179103             2.427588\n",
       "3       53.906522            55.368477\n",
       "4      137.945408           137.031307"
      ]
     },
     "execution_count": 34,
     "metadata": {},
     "output_type": "execute_result"
    }
   ],
   "source": [
    "data_region_1 = pd.DataFrame()\n",
    "data_region_1['target_valid_1'] = target_valid_1\n",
    "data_region_1['predictions_valid_1'] = predictions_valid_1.tolist()\n",
    "data_region_1.reset_index(inplace=True)\n",
    "data_region_1.drop(['index'], axis=1, inplace=True)\n",
    "data_region_1.head(5)"
   ]
  },
  {
   "cell_type": "code",
   "execution_count": 35,
   "metadata": {},
   "outputs": [
    {
     "data": {
      "text/html": [
       "<div>\n",
       "<style scoped>\n",
       "    .dataframe tbody tr th:only-of-type {\n",
       "        vertical-align: middle;\n",
       "    }\n",
       "\n",
       "    .dataframe tbody tr th {\n",
       "        vertical-align: top;\n",
       "    }\n",
       "\n",
       "    .dataframe thead th {\n",
       "        text-align: right;\n",
       "    }\n",
       "</style>\n",
       "<table border=\"1\" class=\"dataframe\">\n",
       "  <thead>\n",
       "    <tr style=\"text-align: right;\">\n",
       "      <th></th>\n",
       "      <th>target_valid_2</th>\n",
       "      <th>predictions_valid_2</th>\n",
       "    </tr>\n",
       "  </thead>\n",
       "  <tbody>\n",
       "    <tr>\n",
       "      <th>0</th>\n",
       "      <td>96.153932</td>\n",
       "      <td>103.575400</td>\n",
       "    </tr>\n",
       "    <tr>\n",
       "      <th>1</th>\n",
       "      <td>15.864224</td>\n",
       "      <td>56.774739</td>\n",
       "    </tr>\n",
       "    <tr>\n",
       "      <th>2</th>\n",
       "      <td>55.397694</td>\n",
       "      <td>105.810890</td>\n",
       "    </tr>\n",
       "    <tr>\n",
       "      <th>3</th>\n",
       "      <td>126.129059</td>\n",
       "      <td>117.868015</td>\n",
       "    </tr>\n",
       "    <tr>\n",
       "      <th>4</th>\n",
       "      <td>5.334678</td>\n",
       "      <td>103.626441</td>\n",
       "    </tr>\n",
       "  </tbody>\n",
       "</table>\n",
       "</div>"
      ],
      "text/plain": [
       "   target_valid_2  predictions_valid_2\n",
       "0       96.153932           103.575400\n",
       "1       15.864224            56.774739\n",
       "2       55.397694           105.810890\n",
       "3      126.129059           117.868015\n",
       "4        5.334678           103.626441"
      ]
     },
     "execution_count": 35,
     "metadata": {},
     "output_type": "execute_result"
    }
   ],
   "source": [
    "data_region_2 = pd.DataFrame()\n",
    "data_region_2['target_valid_2'] = target_valid_2\n",
    "data_region_2['predictions_valid_2'] = predictions_valid_2.tolist()\n",
    "data_region_2.reset_index(inplace=True)\n",
    "data_region_2.drop(['index'], axis=1, inplace=True)\n",
    "data_region_2.head(5)"
   ]
  },
  {
   "cell_type": "code",
   "execution_count": 36,
   "metadata": {},
   "outputs": [
    {
     "name": "stdout",
     "output_type": "stream",
     "text": [
      "Прибыль первого региона: 3320826043.1398506, прибыль второго региона: 2415086696.681511, прибыль третьего региона 2684845723.912676.\n"
     ]
    }
   ],
   "source": [
    "def revenue(target, probabilities):\n",
    "    probs_sorted = probabilities.sort_values(ascending=False) \n",
    "    selected = target[probs_sorted.index][:200]\n",
    "    return selected.sum()*INCOME_PER_PRODUCT - BUDGET\n",
    "   \n",
    "\n",
    "result_0 = revenue(data_region_0['target_valid_0'], data_region_0['predictions_valid_0'])\n",
    "result_1 = revenue(data_region_1['target_valid_1'], data_region_1['predictions_valid_1'])\n",
    "result_2 = revenue(data_region_2['target_valid_2'], data_region_2['predictions_valid_2'])\n",
    "\n",
    "print(f'Прибыль первого региона: {result_0}, прибыль второго региона: {result_1}, прибыль третьего региона {result_2}.')"
   ]
  },
  {
   "cell_type": "markdown",
   "metadata": {},
   "source": [
    "Посчитаем риски и прибыль для каждого региона:\n",
    "\n",
    "1. Применим технику Bootstrap с 1000 выборок, чтобы найти распределение прибыли.\n",
    "2. Найдем среднюю прибыль, 95%-й доверительный интервал и риск убытков. Убыток — это отрицательная прибыль.\n",
    "3. Напишем выводы: предложим регион для разработки скважин и обоснуем выбор.\n"
   ]
  },
  {
   "cell_type": "markdown",
   "metadata": {},
   "source": [
    "Первый регион"
   ]
  },
  {
   "cell_type": "code",
   "execution_count": 37,
   "metadata": {},
   "outputs": [
    {
     "name": "stdout",
     "output_type": "stream",
     "text": [
      "Средняя выручка: 425938526.91059244.\n",
      "95%-ый доверительный интервал c -102090094.83793654 до 947976353.3583689.\n",
      "Риск убытков = 6.00% \n"
     ]
    }
   ],
   "source": [
    "state = np.random.RandomState(12345)\n",
    "\n",
    "\n",
    "values = []\n",
    "for i in range(1000):\n",
    "    target_subsample = data_region_0['target_valid_0'].sample(n=500, replace=True, random_state=state)\n",
    "    probs_subsample = data_region_0['predictions_valid_0'][target_subsample.index]\n",
    "    subsample = revenue(target_subsample, probs_subsample)\n",
    "    values.append(subsample) \n",
    "\n",
    "values = pd.Series(values)\n",
    "\n",
    "mean = values.mean()\n",
    "print(f'Средняя выручка: {mean}.')\n",
    "print(f'95%-ый доверительный интервал c {values.quantile(0.025)} до {values.quantile(0.975)}.')\n",
    "print('Риск убытков = {:.2%} '.format((pd.Series(values)<0).mean()))"
   ]
  },
  {
   "cell_type": "markdown",
   "metadata": {},
   "source": [
    "Второй регион"
   ]
  },
  {
   "cell_type": "code",
   "execution_count": 39,
   "metadata": {},
   "outputs": [
    {
     "name": "stdout",
     "output_type": "stream",
     "text": [
      "Средняя выручка: 491757264.3892312.\n",
      "95%-ый доверительный интервал c 81624191.16619082 до 925837646.5739056.\n",
      "Риск убытков = 0.90% \n"
     ]
    }
   ],
   "source": [
    "state = np.random.RandomState(12345)\n",
    "\n",
    "\n",
    "values = []\n",
    "for i in range(1000):\n",
    "    target_subsample = data_region_1['target_valid_1'].sample(n=500, replace=True, random_state=state)\n",
    "    probs_subsample = data_region_1['predictions_valid_1'][target_subsample.index]\n",
    "    subsample = revenue(target_subsample, probs_subsample)\n",
    "    values.append(subsample) \n",
    "\n",
    "values = pd.Series(values)\n",
    "\n",
    "mean = values.mean()\n",
    "print(f'Средняя выручка: {mean}.')\n",
    "print(f'95%-ый доверительный интервал c {values.quantile(0.025)} до {values.quantile(0.975)}.')\n",
    "print('Риск убытков = {:.2%} '.format((pd.Series(values)<0).mean()))"
   ]
  },
  {
   "cell_type": "markdown",
   "metadata": {},
   "source": [
    "Третий регион"
   ]
  },
  {
   "cell_type": "code",
   "execution_count": 40,
   "metadata": {},
   "outputs": [
    {
     "name": "stdout",
     "output_type": "stream",
     "text": [
      "Средняя выручка: 355594873.3653203.\n",
      "95%-ый доверительный интервал c -223696673.3691303 до 942181246.7649084.\n",
      "Риск убытков = 9.50% \n"
     ]
    }
   ],
   "source": [
    "state = np.random.RandomState(12345)\n",
    "\n",
    "\n",
    "values = []\n",
    "for i in range(1000):\n",
    "    target_subsample = data_region_2['target_valid_2'].sample(n=500, replace=True, random_state=state)\n",
    "    probs_subsample = data_region_2['predictions_valid_2'][target_subsample.index]\n",
    "    subsample = revenue(target_subsample, probs_subsample)\n",
    "    values.append(subsample) \n",
    "\n",
    "values = pd.Series(values)\n",
    "\n",
    "mean = values.mean()\n",
    "print(f'Средняя выручка: {mean}.')\n",
    "print(f'95%-ый доверительный интервал c {values.quantile(0.025)} до {values.quantile(0.975)}.')\n",
    "print('Риск убытков = {:.2%} '.format((pd.Series(values)<0).mean()))"
   ]
  },
  {
   "cell_type": "markdown",
   "metadata": {},
   "source": [
    "Вывод: второй регион выбираем как перспективный, так как он наилучший по предсказаниям, в этом регионе в единственном риск убытков меньше 2.5%, средняя прибыль в этом регионе выше других. "
   ]
  }
 ],
 "metadata": {
  "ExecuteTimeLog": [
   {
    "duration": 908,
    "start_time": "2023-04-02T10:42:50.433Z"
   },
   {
    "duration": 17,
    "start_time": "2023-04-02T10:43:13.710Z"
   },
   {
    "duration": 17,
    "start_time": "2023-04-02T10:43:25.131Z"
   },
   {
    "duration": 207,
    "start_time": "2023-04-02T10:45:10.550Z"
   },
   {
    "duration": 17,
    "start_time": "2023-04-02T10:45:12.391Z"
   },
   {
    "duration": 9,
    "start_time": "2023-04-02T10:45:15.074Z"
   },
   {
    "duration": 140,
    "start_time": "2023-04-02T10:47:12.693Z"
   },
   {
    "duration": 14,
    "start_time": "2023-04-02T10:47:12.835Z"
   },
   {
    "duration": 30,
    "start_time": "2023-04-02T10:47:12.850Z"
   },
   {
    "duration": 131,
    "start_time": "2023-04-02T10:47:12.882Z"
   },
   {
    "duration": 16,
    "start_time": "2023-04-02T10:47:13.015Z"
   },
   {
    "duration": 9,
    "start_time": "2023-04-02T10:47:13.033Z"
   },
   {
    "duration": 216,
    "start_time": "2023-04-02T10:47:13.044Z"
   },
   {
    "duration": 18,
    "start_time": "2023-04-02T10:47:13.274Z"
   },
   {
    "duration": 10,
    "start_time": "2023-04-02T10:47:17.574Z"
   },
   {
    "duration": 17419,
    "start_time": "2023-04-02T10:55:59.660Z"
   },
   {
    "duration": 174,
    "start_time": "2023-04-02T10:56:25.941Z"
   },
   {
    "duration": 22,
    "start_time": "2023-04-02T10:56:28.251Z"
   },
   {
    "duration": 12,
    "start_time": "2023-04-02T10:56:30.778Z"
   },
   {
    "duration": 27578,
    "start_time": "2023-04-02T10:57:12.429Z"
   },
   {
    "duration": 16704,
    "start_time": "2023-04-02T14:14:42.380Z"
   },
   {
    "duration": 550,
    "start_time": "2023-04-02T14:15:10.140Z"
   },
   {
    "duration": 20,
    "start_time": "2023-04-02T14:15:15.767Z"
   },
   {
    "duration": 15,
    "start_time": "2023-04-02T14:15:23.166Z"
   },
   {
    "duration": 21843,
    "start_time": "2023-04-02T14:15:35.980Z"
   },
   {
    "duration": 207,
    "start_time": "2023-04-02T14:21:15.238Z"
   },
   {
    "duration": 24,
    "start_time": "2023-04-02T14:21:29.974Z"
   },
   {
    "duration": 11,
    "start_time": "2023-04-02T14:21:33.935Z"
   },
   {
    "duration": 21708,
    "start_time": "2023-04-02T14:22:02.656Z"
   },
   {
    "duration": 234,
    "start_time": "2023-04-02T14:26:36.291Z"
   },
   {
    "duration": 15,
    "start_time": "2023-04-02T14:26:37.894Z"
   },
   {
    "duration": 10,
    "start_time": "2023-04-02T14:26:53.049Z"
   },
   {
    "duration": 22834,
    "start_time": "2023-04-02T14:27:21.467Z"
   },
   {
    "duration": 209,
    "start_time": "2023-04-02T14:32:10.482Z"
   },
   {
    "duration": 128,
    "start_time": "2023-04-02T14:32:16.696Z"
   },
   {
    "duration": 737,
    "start_time": "2023-04-02T14:33:05.843Z"
   },
   {
    "duration": 46,
    "start_time": "2023-04-02T14:33:33.286Z"
   },
   {
    "duration": 22,
    "start_time": "2023-04-02T14:33:46.739Z"
   },
   {
    "duration": 19788,
    "start_time": "2023-04-02T16:26:07.636Z"
   },
   {
    "duration": 3922,
    "start_time": "2023-04-02T16:31:58.220Z"
   },
   {
    "duration": 427,
    "start_time": "2023-04-02T16:32:06.932Z"
   },
   {
    "duration": 31,
    "start_time": "2023-04-02T16:32:10.084Z"
   },
   {
    "duration": 19,
    "start_time": "2023-04-02T16:32:12.417Z"
   },
   {
    "duration": 25463,
    "start_time": "2023-04-02T16:32:14.755Z"
   },
   {
    "duration": 655,
    "start_time": "2023-04-02T16:32:53.070Z"
   },
   {
    "duration": 22,
    "start_time": "2023-04-02T16:32:57.426Z"
   },
   {
    "duration": 11,
    "start_time": "2023-04-02T16:33:00.113Z"
   },
   {
    "duration": 25716,
    "start_time": "2023-04-02T16:33:03.236Z"
   },
   {
    "duration": 729,
    "start_time": "2023-04-02T16:33:40.367Z"
   },
   {
    "duration": 17,
    "start_time": "2023-04-02T16:33:44.229Z"
   },
   {
    "duration": 12,
    "start_time": "2023-04-02T16:33:47.173Z"
   },
   {
    "duration": 26011,
    "start_time": "2023-04-02T16:33:50.193Z"
   },
   {
    "duration": 95,
    "start_time": "2023-04-02T16:34:16.207Z"
   },
   {
    "duration": 16,
    "start_time": "2023-04-02T16:35:48.641Z"
   },
   {
    "duration": 12,
    "start_time": "2023-04-02T16:41:42.378Z"
   },
   {
    "duration": 14,
    "start_time": "2023-04-02T16:42:11.586Z"
   },
   {
    "duration": 158,
    "start_time": "2023-04-02T16:43:40.769Z"
   },
   {
    "duration": 3357,
    "start_time": "2023-04-02T16:45:42.279Z"
   },
   {
    "duration": 172,
    "start_time": "2023-04-02T16:45:45.639Z"
   },
   {
    "duration": 23,
    "start_time": "2023-04-02T16:45:45.813Z"
   },
   {
    "duration": 31,
    "start_time": "2023-04-02T16:45:45.838Z"
   },
   {
    "duration": 26531,
    "start_time": "2023-04-02T16:45:45.871Z"
   },
   {
    "duration": 151,
    "start_time": "2023-04-02T16:46:12.409Z"
   },
   {
    "duration": 30,
    "start_time": "2023-04-02T16:46:12.562Z"
   },
   {
    "duration": 15,
    "start_time": "2023-04-02T16:46:12.594Z"
   },
   {
    "duration": 26952,
    "start_time": "2023-04-02T16:46:12.611Z"
   },
   {
    "duration": 155,
    "start_time": "2023-04-02T16:46:39.566Z"
   },
   {
    "duration": 25,
    "start_time": "2023-04-02T16:46:39.723Z"
   },
   {
    "duration": 17,
    "start_time": "2023-04-02T16:46:39.751Z"
   },
   {
    "duration": 24537,
    "start_time": "2023-04-02T16:46:39.784Z"
   },
   {
    "duration": 87,
    "start_time": "2023-04-02T16:47:04.323Z"
   },
   {
    "duration": 16,
    "start_time": "2023-04-02T16:47:04.411Z"
   },
   {
    "duration": 6,
    "start_time": "2023-04-02T16:47:04.429Z"
   },
   {
    "duration": 19,
    "start_time": "2023-04-02T16:47:04.438Z"
   },
   {
    "duration": 32,
    "start_time": "2023-04-02T16:47:15.019Z"
   },
   {
    "duration": 37,
    "start_time": "2023-04-02T16:47:21.603Z"
   },
   {
    "duration": 17,
    "start_time": "2023-04-02T16:48:08.507Z"
   },
   {
    "duration": 14,
    "start_time": "2023-04-02T16:49:02.005Z"
   },
   {
    "duration": 19,
    "start_time": "2023-04-02T16:49:35.742Z"
   },
   {
    "duration": 16,
    "start_time": "2023-04-02T16:49:37.909Z"
   },
   {
    "duration": 5,
    "start_time": "2023-04-02T16:49:52.634Z"
   },
   {
    "duration": 18,
    "start_time": "2023-04-02T16:50:28.615Z"
   },
   {
    "duration": 5,
    "start_time": "2023-04-02T16:50:30.668Z"
   },
   {
    "duration": 14,
    "start_time": "2023-04-02T17:15:41.911Z"
   },
   {
    "duration": 18,
    "start_time": "2023-04-02T17:15:49.383Z"
   },
   {
    "duration": 13,
    "start_time": "2023-04-02T17:15:58.133Z"
   },
   {
    "duration": 2843,
    "start_time": "2023-04-02T17:16:04.566Z"
   },
   {
    "duration": 158,
    "start_time": "2023-04-02T17:16:07.411Z"
   },
   {
    "duration": 18,
    "start_time": "2023-04-02T17:16:07.571Z"
   },
   {
    "duration": 20,
    "start_time": "2023-04-02T17:16:07.597Z"
   },
   {
    "duration": 24318,
    "start_time": "2023-04-02T17:16:10.163Z"
   },
   {
    "duration": 151,
    "start_time": "2023-04-02T17:16:34.484Z"
   },
   {
    "duration": 21,
    "start_time": "2023-04-02T17:16:34.637Z"
   },
   {
    "duration": 34,
    "start_time": "2023-04-02T17:16:34.661Z"
   },
   {
    "duration": 23946,
    "start_time": "2023-04-02T17:16:34.700Z"
   },
   {
    "duration": 144,
    "start_time": "2023-04-02T17:16:58.648Z"
   },
   {
    "duration": 27,
    "start_time": "2023-04-02T17:16:58.797Z"
   },
   {
    "duration": 35,
    "start_time": "2023-04-02T17:16:58.827Z"
   },
   {
    "duration": 23526,
    "start_time": "2023-04-02T17:16:58.864Z"
   },
   {
    "duration": 98,
    "start_time": "2023-04-02T17:17:22.393Z"
   },
   {
    "duration": 17,
    "start_time": "2023-04-02T17:17:22.492Z"
   },
   {
    "duration": 26,
    "start_time": "2023-04-02T17:17:22.511Z"
   },
   {
    "duration": 58,
    "start_time": "2023-04-02T17:17:22.540Z"
   },
   {
    "duration": 49,
    "start_time": "2023-04-02T17:17:22.600Z"
   },
   {
    "duration": 52,
    "start_time": "2023-04-02T17:17:22.651Z"
   },
   {
    "duration": 19,
    "start_time": "2023-04-02T17:18:45.718Z"
   },
   {
    "duration": 24,
    "start_time": "2023-04-02T17:20:45.842Z"
   },
   {
    "duration": 2404,
    "start_time": "2023-04-02T17:22:07.590Z"
   },
   {
    "duration": 114,
    "start_time": "2023-04-02T17:27:03.397Z"
   },
   {
    "duration": 6898,
    "start_time": "2023-04-02T17:51:31.209Z"
   },
   {
    "duration": 393,
    "start_time": "2023-04-02T17:51:38.111Z"
   },
   {
    "duration": 28,
    "start_time": "2023-04-02T17:51:38.507Z"
   },
   {
    "duration": 65,
    "start_time": "2023-04-02T17:51:38.539Z"
   },
   {
    "duration": 37020,
    "start_time": "2023-04-02T17:51:38.608Z"
   },
   {
    "duration": 318,
    "start_time": "2023-04-02T17:52:15.631Z"
   },
   {
    "duration": 39,
    "start_time": "2023-04-02T17:52:15.951Z"
   },
   {
    "duration": 24,
    "start_time": "2023-04-02T17:52:15.992Z"
   },
   {
    "duration": 26124,
    "start_time": "2023-04-02T17:52:16.020Z"
   },
   {
    "duration": 138,
    "start_time": "2023-04-02T17:52:42.146Z"
   },
   {
    "duration": 17,
    "start_time": "2023-04-02T17:52:42.286Z"
   },
   {
    "duration": 25,
    "start_time": "2023-04-02T17:52:42.304Z"
   },
   {
    "duration": 26771,
    "start_time": "2023-04-02T17:52:42.331Z"
   },
   {
    "duration": 186,
    "start_time": "2023-04-02T17:53:09.106Z"
   },
   {
    "duration": 19,
    "start_time": "2023-04-02T17:53:09.294Z"
   },
   {
    "duration": 75,
    "start_time": "2023-04-02T17:53:09.315Z"
   },
   {
    "duration": 33,
    "start_time": "2023-04-02T17:53:09.392Z"
   },
   {
    "duration": 77,
    "start_time": "2023-04-02T17:53:09.427Z"
   },
   {
    "duration": 16,
    "start_time": "2023-04-02T17:53:09.506Z"
   },
   {
    "duration": 2275,
    "start_time": "2023-04-02T17:53:09.524Z"
   },
   {
    "duration": 84,
    "start_time": "2023-04-02T17:53:22.089Z"
   },
   {
    "duration": 17,
    "start_time": "2023-04-02T17:53:57.660Z"
   },
   {
    "duration": 21,
    "start_time": "2023-04-02T17:55:28.996Z"
   },
   {
    "duration": 1257,
    "start_time": "2023-04-02T17:56:35.138Z"
   },
   {
    "duration": 1203,
    "start_time": "2023-04-02T17:56:44.881Z"
   },
   {
    "duration": 23,
    "start_time": "2023-04-02T17:57:19.078Z"
   },
   {
    "duration": 22,
    "start_time": "2023-04-02T17:58:21.237Z"
   },
   {
    "duration": 1828,
    "start_time": "2023-04-02T17:58:45.359Z"
   },
   {
    "duration": 4098,
    "start_time": "2023-04-02T17:59:35.945Z"
   },
   {
    "duration": 187,
    "start_time": "2023-04-02T17:59:40.047Z"
   },
   {
    "duration": 19,
    "start_time": "2023-04-02T17:59:40.236Z"
   },
   {
    "duration": 26,
    "start_time": "2023-04-02T17:59:40.257Z"
   },
   {
    "duration": 29008,
    "start_time": "2023-04-02T17:59:40.287Z"
   },
   {
    "duration": 193,
    "start_time": "2023-04-02T18:00:09.298Z"
   },
   {
    "duration": 24,
    "start_time": "2023-04-02T18:00:09.494Z"
   },
   {
    "duration": 25,
    "start_time": "2023-04-02T18:00:09.521Z"
   },
   {
    "duration": 28311,
    "start_time": "2023-04-02T18:00:09.548Z"
   },
   {
    "duration": 178,
    "start_time": "2023-04-02T18:00:37.861Z"
   },
   {
    "duration": 32,
    "start_time": "2023-04-02T18:00:38.041Z"
   },
   {
    "duration": 16,
    "start_time": "2023-04-02T18:00:38.083Z"
   },
   {
    "duration": 28982,
    "start_time": "2023-04-02T18:00:38.102Z"
   },
   {
    "duration": 146,
    "start_time": "2023-04-02T18:01:07.089Z"
   },
   {
    "duration": 19,
    "start_time": "2023-04-02T18:01:07.237Z"
   },
   {
    "duration": 25,
    "start_time": "2023-04-02T18:01:07.259Z"
   },
   {
    "duration": 25,
    "start_time": "2023-04-02T18:01:07.286Z"
   },
   {
    "duration": 22,
    "start_time": "2023-04-02T18:01:07.313Z"
   },
   {
    "duration": 5,
    "start_time": "2023-04-02T18:01:07.338Z"
   },
   {
    "duration": 3438,
    "start_time": "2023-04-02T18:01:07.348Z"
   },
   {
    "duration": 97,
    "start_time": "2023-04-02T18:01:10.789Z"
   },
   {
    "duration": 95,
    "start_time": "2023-04-02T18:01:10.892Z"
   },
   {
    "duration": 1297,
    "start_time": "2023-04-02T18:01:10.990Z"
   },
   {
    "duration": 24,
    "start_time": "2023-04-02T18:01:24.948Z"
   },
   {
    "duration": 25,
    "start_time": "2023-04-02T18:01:29.612Z"
   },
   {
    "duration": 2578,
    "start_time": "2023-04-02T18:01:33.528Z"
   },
   {
    "duration": 25,
    "start_time": "2023-04-02T18:01:58.882Z"
   },
   {
    "duration": 30,
    "start_time": "2023-04-02T18:03:25.537Z"
   },
   {
    "duration": 22,
    "start_time": "2023-04-02T18:04:19.405Z"
   },
   {
    "duration": 16,
    "start_time": "2023-04-02T18:04:27.304Z"
   },
   {
    "duration": 1625,
    "start_time": "2023-04-02T18:04:29.681Z"
   },
   {
    "duration": 36,
    "start_time": "2023-04-02T18:04:34.063Z"
   },
   {
    "duration": 17,
    "start_time": "2023-04-02T18:04:38.834Z"
   },
   {
    "duration": 89,
    "start_time": "2023-04-02T18:04:59.607Z"
   },
   {
    "duration": 3298,
    "start_time": "2023-04-02T18:05:23.845Z"
   },
   {
    "duration": 163,
    "start_time": "2023-04-02T18:05:27.147Z"
   },
   {
    "duration": 25,
    "start_time": "2023-04-02T18:05:27.312Z"
   },
   {
    "duration": 13,
    "start_time": "2023-04-02T18:05:27.340Z"
   },
   {
    "duration": 26902,
    "start_time": "2023-04-02T18:05:27.355Z"
   },
   {
    "duration": 145,
    "start_time": "2023-04-02T18:05:54.259Z"
   },
   {
    "duration": 23,
    "start_time": "2023-04-02T18:05:54.407Z"
   },
   {
    "duration": 14,
    "start_time": "2023-04-02T18:05:54.432Z"
   },
   {
    "duration": 25266,
    "start_time": "2023-04-02T18:05:54.448Z"
   },
   {
    "duration": 194,
    "start_time": "2023-04-02T18:06:19.717Z"
   },
   {
    "duration": 24,
    "start_time": "2023-04-02T18:06:19.913Z"
   },
   {
    "duration": 12,
    "start_time": "2023-04-02T18:06:19.940Z"
   },
   {
    "duration": 26144,
    "start_time": "2023-04-02T18:06:19.953Z"
   },
   {
    "duration": 120,
    "start_time": "2023-04-02T18:06:46.099Z"
   },
   {
    "duration": 17,
    "start_time": "2023-04-02T18:06:46.221Z"
   },
   {
    "duration": 12,
    "start_time": "2023-04-02T18:06:46.240Z"
   },
   {
    "duration": 43,
    "start_time": "2023-04-02T18:06:46.254Z"
   },
   {
    "duration": 38,
    "start_time": "2023-04-02T18:06:46.299Z"
   },
   {
    "duration": 5,
    "start_time": "2023-04-02T18:06:46.339Z"
   },
   {
    "duration": 1263,
    "start_time": "2023-04-02T18:06:46.347Z"
   },
   {
    "duration": 175,
    "start_time": "2023-04-02T18:06:47.612Z"
   },
   {
    "duration": 114,
    "start_time": "2023-04-02T18:06:47.795Z"
   },
   {
    "duration": 1477,
    "start_time": "2023-04-02T18:06:47.911Z"
   },
   {
    "duration": 80,
    "start_time": "2023-04-02T18:06:49.406Z"
   },
   {
    "duration": 98,
    "start_time": "2023-04-02T18:06:49.494Z"
   },
   {
    "duration": 2602,
    "start_time": "2023-04-02T18:06:49.594Z"
   },
   {
    "duration": 18,
    "start_time": "2023-04-02T18:07:03.497Z"
   },
   {
    "duration": 9,
    "start_time": "2023-04-02T18:49:49.476Z"
   },
   {
    "duration": 7,
    "start_time": "2023-04-02T18:50:31.169Z"
   },
   {
    "duration": 4,
    "start_time": "2023-04-02T18:50:49.270Z"
   },
   {
    "duration": 19,
    "start_time": "2023-04-02T19:04:51.655Z"
   },
   {
    "duration": 6,
    "start_time": "2023-04-02T19:04:58.889Z"
   },
   {
    "duration": 19,
    "start_time": "2023-04-02T19:05:56.211Z"
   },
   {
    "duration": 14,
    "start_time": "2023-04-02T19:08:25.145Z"
   },
   {
    "duration": 15,
    "start_time": "2023-04-02T19:08:56.065Z"
   },
   {
    "duration": 21,
    "start_time": "2023-04-02T19:09:42.692Z"
   },
   {
    "duration": 134,
    "start_time": "2023-04-02T19:13:22.645Z"
   },
   {
    "duration": 114,
    "start_time": "2023-04-02T19:16:04.450Z"
   },
   {
    "duration": 152,
    "start_time": "2023-04-02T19:18:53.888Z"
   },
   {
    "duration": 130,
    "start_time": "2023-04-02T19:19:31.970Z"
   },
   {
    "duration": 9,
    "start_time": "2023-04-02T19:20:17.538Z"
   },
   {
    "duration": 4,
    "start_time": "2023-04-02T19:21:04.685Z"
   },
   {
    "duration": 6,
    "start_time": "2023-04-02T19:22:23.232Z"
   },
   {
    "duration": 5,
    "start_time": "2023-04-02T19:22:32.170Z"
   },
   {
    "duration": 5,
    "start_time": "2023-04-02T19:23:03.287Z"
   },
   {
    "duration": 8,
    "start_time": "2023-04-02T19:31:44.187Z"
   },
   {
    "duration": 9,
    "start_time": "2023-04-02T19:32:01.433Z"
   },
   {
    "duration": 9,
    "start_time": "2023-04-02T19:32:57.155Z"
   },
   {
    "duration": 8,
    "start_time": "2023-04-02T19:33:18.136Z"
   },
   {
    "duration": 15067,
    "start_time": "2023-04-03T17:16:20.784Z"
   },
   {
    "duration": 487,
    "start_time": "2023-04-03T17:16:45.166Z"
   },
   {
    "duration": 16,
    "start_time": "2023-04-03T17:16:48.095Z"
   },
   {
    "duration": 13,
    "start_time": "2023-04-03T17:16:50.818Z"
   },
   {
    "duration": 20012,
    "start_time": "2023-04-03T17:16:53.465Z"
   },
   {
    "duration": 213,
    "start_time": "2023-04-03T17:18:00.233Z"
   },
   {
    "duration": 14,
    "start_time": "2023-04-03T17:18:03.238Z"
   },
   {
    "duration": 9,
    "start_time": "2023-04-03T17:18:06.338Z"
   },
   {
    "duration": 19585,
    "start_time": "2023-04-03T17:18:09.814Z"
   },
   {
    "duration": 221,
    "start_time": "2023-04-03T17:18:41.180Z"
   },
   {
    "duration": 15,
    "start_time": "2023-04-03T17:18:44.038Z"
   },
   {
    "duration": 10,
    "start_time": "2023-04-03T17:18:46.919Z"
   },
   {
    "duration": 20553,
    "start_time": "2023-04-03T17:18:49.994Z"
   },
   {
    "duration": 122,
    "start_time": "2023-04-03T17:19:22.571Z"
   },
   {
    "duration": 20,
    "start_time": "2023-04-03T17:19:26.117Z"
   },
   {
    "duration": 14,
    "start_time": "2023-04-03T17:19:29.396Z"
   },
   {
    "duration": 13,
    "start_time": "2023-04-03T17:19:32.761Z"
   },
   {
    "duration": 15,
    "start_time": "2023-04-03T17:19:37.382Z"
   },
   {
    "duration": 3,
    "start_time": "2023-04-03T17:19:42.462Z"
   },
   {
    "duration": 2392,
    "start_time": "2023-04-03T17:19:51.300Z"
   },
   {
    "duration": 19,
    "start_time": "2023-04-03T17:19:56.924Z"
   },
   {
    "duration": 14,
    "start_time": "2023-04-03T17:20:45.909Z"
   },
   {
    "duration": 2040,
    "start_time": "2023-04-03T17:20:49.150Z"
   },
   {
    "duration": 18,
    "start_time": "2023-04-03T17:20:53.924Z"
   },
   {
    "duration": 13,
    "start_time": "2023-04-03T17:20:58.131Z"
   },
   {
    "duration": 2244,
    "start_time": "2023-04-03T17:21:01.644Z"
   },
   {
    "duration": 17,
    "start_time": "2023-04-03T17:21:06.103Z"
   },
   {
    "duration": 7,
    "start_time": "2023-04-03T17:21:10.885Z"
   },
   {
    "duration": 2604,
    "start_time": "2023-04-03T17:28:07.724Z"
   },
   {
    "duration": 127,
    "start_time": "2023-04-03T17:28:10.330Z"
   },
   {
    "duration": 15,
    "start_time": "2023-04-03T17:28:10.459Z"
   },
   {
    "duration": 13,
    "start_time": "2023-04-03T17:28:10.476Z"
   },
   {
    "duration": 20825,
    "start_time": "2023-04-03T17:28:10.491Z"
   },
   {
    "duration": 127,
    "start_time": "2023-04-03T17:28:31.318Z"
   },
   {
    "duration": 15,
    "start_time": "2023-04-03T17:28:31.447Z"
   },
   {
    "duration": 13,
    "start_time": "2023-04-03T17:28:31.464Z"
   },
   {
    "duration": 20350,
    "start_time": "2023-04-03T17:28:31.479Z"
   },
   {
    "duration": 274,
    "start_time": "2023-04-03T17:28:51.833Z"
   },
   {
    "duration": 15,
    "start_time": "2023-04-03T17:28:52.109Z"
   },
   {
    "duration": 9,
    "start_time": "2023-04-03T17:28:52.125Z"
   },
   {
    "duration": 21197,
    "start_time": "2023-04-03T17:28:52.136Z"
   },
   {
    "duration": 73,
    "start_time": "2023-04-03T17:29:13.335Z"
   },
   {
    "duration": 12,
    "start_time": "2023-04-03T17:29:13.410Z"
   },
   {
    "duration": 22,
    "start_time": "2023-04-03T17:29:13.424Z"
   },
   {
    "duration": 17,
    "start_time": "2023-04-03T17:29:13.448Z"
   },
   {
    "duration": 33,
    "start_time": "2023-04-03T17:29:13.467Z"
   },
   {
    "duration": 5,
    "start_time": "2023-04-03T17:29:13.502Z"
   },
   {
    "duration": 2084,
    "start_time": "2023-04-03T17:29:13.509Z"
   },
   {
    "duration": 111,
    "start_time": "2023-04-03T17:29:15.595Z"
   },
   {
    "duration": 188,
    "start_time": "2023-04-03T17:29:15.708Z"
   },
   {
    "duration": 2290,
    "start_time": "2023-04-03T17:29:15.898Z"
   },
   {
    "duration": 18,
    "start_time": "2023-04-03T17:29:18.190Z"
   },
   {
    "duration": 191,
    "start_time": "2023-04-03T17:29:18.209Z"
   },
   {
    "duration": 2289,
    "start_time": "2023-04-03T17:29:18.401Z"
   },
   {
    "duration": 20,
    "start_time": "2023-04-03T17:29:20.692Z"
   },
   {
    "duration": 9,
    "start_time": "2023-04-03T17:29:51.274Z"
   },
   {
    "duration": 137,
    "start_time": "2023-04-03T17:53:17.301Z"
   },
   {
    "duration": 11,
    "start_time": "2023-04-03T17:53:27.800Z"
   },
   {
    "duration": 51,
    "start_time": "2023-04-03T17:56:28.977Z"
   },
   {
    "duration": 10,
    "start_time": "2023-04-03T17:56:35.324Z"
   },
   {
    "duration": 6,
    "start_time": "2023-04-03T17:56:53.606Z"
   },
   {
    "duration": 11,
    "start_time": "2023-04-03T17:57:10.894Z"
   },
   {
    "duration": 6,
    "start_time": "2023-04-03T17:57:52.088Z"
   },
   {
    "duration": 13,
    "start_time": "2023-04-03T18:01:57.062Z"
   },
   {
    "duration": 6,
    "start_time": "2023-04-03T18:06:11.249Z"
   },
   {
    "duration": 4,
    "start_time": "2023-04-03T18:13:19.930Z"
   },
   {
    "duration": 10,
    "start_time": "2023-04-03T18:17:22.035Z"
   },
   {
    "duration": 9,
    "start_time": "2023-04-03T18:17:25.788Z"
   },
   {
    "duration": 14,
    "start_time": "2023-04-03T18:18:10.450Z"
   },
   {
    "duration": 21,
    "start_time": "2023-04-03T18:18:52.101Z"
   },
   {
    "duration": 8,
    "start_time": "2023-04-03T18:19:01.333Z"
   },
   {
    "duration": 17,
    "start_time": "2023-04-03T18:19:07.166Z"
   },
   {
    "duration": 8,
    "start_time": "2023-04-03T18:19:10.317Z"
   },
   {
    "duration": 14,
    "start_time": "2023-04-03T18:19:27.000Z"
   },
   {
    "duration": 10,
    "start_time": "2023-04-03T18:19:29.814Z"
   },
   {
    "duration": 18082,
    "start_time": "2023-04-04T18:31:59.206Z"
   },
   {
    "duration": 779,
    "start_time": "2023-04-04T18:32:23.582Z"
   },
   {
    "duration": 24,
    "start_time": "2023-04-04T18:32:28.756Z"
   },
   {
    "duration": 16,
    "start_time": "2023-04-04T18:32:31.291Z"
   },
   {
    "duration": 23073,
    "start_time": "2023-04-04T18:32:35.955Z"
   },
   {
    "duration": 218,
    "start_time": "2023-04-04T18:33:08.573Z"
   },
   {
    "duration": 16,
    "start_time": "2023-04-04T18:33:11.783Z"
   },
   {
    "duration": 10,
    "start_time": "2023-04-04T18:33:15.644Z"
   },
   {
    "duration": 21724,
    "start_time": "2023-04-04T18:33:18.204Z"
   },
   {
    "duration": 219,
    "start_time": "2023-04-04T18:34:37.751Z"
   },
   {
    "duration": 20,
    "start_time": "2023-04-04T18:34:40.617Z"
   },
   {
    "duration": 12,
    "start_time": "2023-04-04T18:34:43.390Z"
   },
   {
    "duration": 23449,
    "start_time": "2023-04-04T18:34:46.177Z"
   },
   {
    "duration": 81,
    "start_time": "2023-04-04T18:35:22.095Z"
   },
   {
    "duration": 15,
    "start_time": "2023-04-04T18:35:26.651Z"
   },
   {
    "duration": 13,
    "start_time": "2023-04-04T18:35:29.609Z"
   },
   {
    "duration": 10,
    "start_time": "2023-04-04T18:35:32.151Z"
   },
   {
    "duration": 17,
    "start_time": "2023-04-04T18:35:35.860Z"
   },
   {
    "duration": 6,
    "start_time": "2023-04-04T18:35:38.219Z"
   },
   {
    "duration": 2488,
    "start_time": "2023-04-04T18:35:40.548Z"
   },
   {
    "duration": 22,
    "start_time": "2023-04-04T18:35:47.743Z"
   },
   {
    "duration": 16,
    "start_time": "2023-04-04T18:35:50.155Z"
   },
   {
    "duration": 1828,
    "start_time": "2023-04-04T18:35:52.704Z"
   },
   {
    "duration": 17,
    "start_time": "2023-04-04T18:36:02.220Z"
   },
   {
    "duration": 15,
    "start_time": "2023-04-04T18:36:05.608Z"
   },
   {
    "duration": 2386,
    "start_time": "2023-04-04T18:36:08.336Z"
   },
   {
    "duration": 107,
    "start_time": "2023-04-04T18:36:14.120Z"
   },
   {
    "duration": 12,
    "start_time": "2023-04-04T18:39:13.599Z"
   },
   {
    "duration": 158,
    "start_time": "2023-04-04T18:40:05.407Z"
   },
   {
    "duration": 24,
    "start_time": "2023-04-04T18:40:30.738Z"
   },
   {
    "duration": 9,
    "start_time": "2023-04-04T18:40:58.742Z"
   },
   {
    "duration": 22,
    "start_time": "2023-04-04T18:41:10.140Z"
   },
   {
    "duration": 9,
    "start_time": "2023-04-04T18:41:12.936Z"
   },
   {
    "duration": 18,
    "start_time": "2023-04-04T18:41:35.347Z"
   },
   {
    "duration": 26,
    "start_time": "2023-04-04T18:41:46.198Z"
   },
   {
    "duration": 13,
    "start_time": "2023-04-04T18:44:02.736Z"
   },
   {
    "duration": 17,
    "start_time": "2023-04-04T18:44:31.308Z"
   },
   {
    "duration": 18298,
    "start_time": "2023-04-05T18:40:44.270Z"
   },
   {
    "duration": 770,
    "start_time": "2023-04-05T18:41:06.233Z"
   },
   {
    "duration": 18,
    "start_time": "2023-04-05T18:41:11.435Z"
   },
   {
    "duration": 23,
    "start_time": "2023-04-05T18:41:13.890Z"
   },
   {
    "duration": 25332,
    "start_time": "2023-04-05T18:41:16.474Z"
   },
   {
    "duration": 247,
    "start_time": "2023-04-05T18:41:54.687Z"
   },
   {
    "duration": 19,
    "start_time": "2023-04-05T18:41:57.604Z"
   },
   {
    "duration": 11,
    "start_time": "2023-04-05T18:42:00.961Z"
   },
   {
    "duration": 24162,
    "start_time": "2023-04-05T18:42:04.804Z"
   },
   {
    "duration": 241,
    "start_time": "2023-04-05T18:42:59.142Z"
   },
   {
    "duration": 22,
    "start_time": "2023-04-05T18:43:02.182Z"
   },
   {
    "duration": 10,
    "start_time": "2023-04-05T18:43:04.774Z"
   },
   {
    "duration": 25383,
    "start_time": "2023-04-05T18:43:08.429Z"
   },
   {
    "duration": 131,
    "start_time": "2023-04-05T18:44:35.181Z"
   },
   {
    "duration": 16,
    "start_time": "2023-04-05T18:45:51.775Z"
   },
   {
    "duration": 12,
    "start_time": "2023-04-05T18:46:49.135Z"
   },
   {
    "duration": 10,
    "start_time": "2023-04-05T18:47:08.556Z"
   },
   {
    "duration": 24,
    "start_time": "2023-04-05T18:49:04.206Z"
   },
   {
    "duration": 5,
    "start_time": "2023-04-05T18:49:06.474Z"
   },
   {
    "duration": 2428,
    "start_time": "2023-04-05T18:49:49.171Z"
   },
   {
    "duration": 26,
    "start_time": "2023-04-05T18:50:09.085Z"
   },
   {
    "duration": 15,
    "start_time": "2023-04-05T18:50:13.936Z"
   },
   {
    "duration": 2000,
    "start_time": "2023-04-05T18:50:18.313Z"
   },
   {
    "duration": 94,
    "start_time": "2023-04-05T18:50:25.605Z"
   },
   {
    "duration": 16,
    "start_time": "2023-04-05T18:50:29.507Z"
   },
   {
    "duration": 2311,
    "start_time": "2023-04-05T18:50:32.485Z"
   },
   {
    "duration": 17,
    "start_time": "2023-04-05T18:50:36.808Z"
   },
   {
    "duration": 8,
    "start_time": "2023-04-05T18:55:38.463Z"
   },
   {
    "duration": 7,
    "start_time": "2023-04-05T19:02:01.627Z"
   },
   {
    "duration": 16,
    "start_time": "2023-04-05T19:17:35.589Z"
   },
   {
    "duration": 23901,
    "start_time": "2023-04-06T17:56:59.189Z"
   },
   {
    "duration": 574,
    "start_time": "2023-04-06T17:57:30.083Z"
   },
   {
    "duration": 26,
    "start_time": "2023-04-06T17:57:34.487Z"
   },
   {
    "duration": 15,
    "start_time": "2023-04-06T17:57:37.304Z"
   },
   {
    "duration": 24617,
    "start_time": "2023-04-06T17:57:39.891Z"
   },
   {
    "duration": 230,
    "start_time": "2023-04-06T17:58:14.694Z"
   },
   {
    "duration": 19,
    "start_time": "2023-04-06T17:58:17.721Z"
   },
   {
    "duration": 10,
    "start_time": "2023-04-06T17:58:20.790Z"
   },
   {
    "duration": 24235,
    "start_time": "2023-04-06T17:58:23.738Z"
   },
   {
    "duration": 279,
    "start_time": "2023-04-06T17:58:56.427Z"
   },
   {
    "duration": 22,
    "start_time": "2023-04-06T17:58:58.787Z"
   },
   {
    "duration": 10,
    "start_time": "2023-04-06T17:59:01.074Z"
   },
   {
    "duration": 24548,
    "start_time": "2023-04-06T17:59:03.636Z"
   },
   {
    "duration": 78,
    "start_time": "2023-04-06T17:59:39.640Z"
   },
   {
    "duration": 14,
    "start_time": "2023-04-06T17:59:44.259Z"
   },
   {
    "duration": 19,
    "start_time": "2023-04-06T17:59:47.538Z"
   },
   {
    "duration": 12,
    "start_time": "2023-04-06T17:59:49.905Z"
   },
   {
    "duration": 17,
    "start_time": "2023-04-06T17:59:53.221Z"
   },
   {
    "duration": 4,
    "start_time": "2023-04-06T17:59:55.189Z"
   },
   {
    "duration": 2183,
    "start_time": "2023-04-06T17:59:57.370Z"
   },
   {
    "duration": 15,
    "start_time": "2023-04-06T18:00:01.854Z"
   },
   {
    "duration": 14,
    "start_time": "2023-04-06T18:00:04.328Z"
   },
   {
    "duration": 1747,
    "start_time": "2023-04-06T18:00:06.695Z"
   },
   {
    "duration": 16,
    "start_time": "2023-04-06T18:00:10.938Z"
   },
   {
    "duration": 14,
    "start_time": "2023-04-06T18:00:13.608Z"
   },
   {
    "duration": 2345,
    "start_time": "2023-04-06T18:00:16.000Z"
   },
   {
    "duration": 18,
    "start_time": "2023-04-06T18:00:21.158Z"
   },
   {
    "duration": 10,
    "start_time": "2023-04-06T18:00:28.992Z"
   },
   {
    "duration": 17,
    "start_time": "2023-04-06T18:00:42.413Z"
   },
   {
    "duration": 14,
    "start_time": "2023-04-06T18:01:35.631Z"
   },
   {
    "duration": 10,
    "start_time": "2023-04-06T18:01:53.019Z"
   },
   {
    "duration": 5,
    "start_time": "2023-04-06T18:05:28.001Z"
   },
   {
    "duration": 7,
    "start_time": "2023-04-06T18:05:36.958Z"
   },
   {
    "duration": 3,
    "start_time": "2023-04-06T18:07:58.490Z"
   },
   {
    "duration": 4,
    "start_time": "2023-04-06T18:08:03.262Z"
   },
   {
    "duration": 18,
    "start_time": "2023-04-06T18:08:06.539Z"
   },
   {
    "duration": 12,
    "start_time": "2023-04-06T18:08:09.721Z"
   },
   {
    "duration": 4,
    "start_time": "2023-04-06T18:08:12.497Z"
   },
   {
    "duration": 6,
    "start_time": "2023-04-06T18:08:16.743Z"
   },
   {
    "duration": 17,
    "start_time": "2023-04-06T18:09:55.086Z"
   },
   {
    "duration": 11,
    "start_time": "2023-04-06T18:09:57.830Z"
   },
   {
    "duration": 4,
    "start_time": "2023-04-06T18:10:00.108Z"
   },
   {
    "duration": 7,
    "start_time": "2023-04-06T18:58:35.538Z"
   },
   {
    "duration": 158,
    "start_time": "2023-04-06T18:58:53.931Z"
   },
   {
    "duration": 33,
    "start_time": "2023-04-06T19:01:06.521Z"
   },
   {
    "duration": 2931,
    "start_time": "2023-04-06T19:04:12.559Z"
   },
   {
    "duration": 161,
    "start_time": "2023-04-06T19:04:15.493Z"
   },
   {
    "duration": 20,
    "start_time": "2023-04-06T19:04:15.656Z"
   },
   {
    "duration": 13,
    "start_time": "2023-04-06T19:04:15.679Z"
   },
   {
    "duration": 24767,
    "start_time": "2023-04-06T19:04:15.694Z"
   },
   {
    "duration": 157,
    "start_time": "2023-04-06T19:04:40.464Z"
   },
   {
    "duration": 19,
    "start_time": "2023-04-06T19:04:40.623Z"
   },
   {
    "duration": 17,
    "start_time": "2023-04-06T19:04:40.645Z"
   },
   {
    "duration": 25478,
    "start_time": "2023-04-06T19:04:40.663Z"
   },
   {
    "duration": 152,
    "start_time": "2023-04-06T19:05:06.146Z"
   },
   {
    "duration": 18,
    "start_time": "2023-04-06T19:05:06.300Z"
   },
   {
    "duration": 36,
    "start_time": "2023-04-06T19:05:06.320Z"
   },
   {
    "duration": 24803,
    "start_time": "2023-04-06T19:05:06.358Z"
   },
   {
    "duration": 95,
    "start_time": "2023-04-06T19:05:31.163Z"
   },
   {
    "duration": 14,
    "start_time": "2023-04-06T19:05:31.260Z"
   },
   {
    "duration": 19,
    "start_time": "2023-04-06T19:05:31.276Z"
   },
   {
    "duration": 41,
    "start_time": "2023-04-06T19:05:31.297Z"
   },
   {
    "duration": 23,
    "start_time": "2023-04-06T19:05:31.340Z"
   },
   {
    "duration": 5,
    "start_time": "2023-04-06T19:05:31.366Z"
   },
   {
    "duration": 2372,
    "start_time": "2023-04-06T19:05:31.373Z"
   },
   {
    "duration": 18,
    "start_time": "2023-04-06T19:05:33.747Z"
   },
   {
    "duration": 176,
    "start_time": "2023-04-06T19:05:33.767Z"
   },
   {
    "duration": 2199,
    "start_time": "2023-04-06T19:05:33.950Z"
   },
   {
    "duration": 104,
    "start_time": "2023-04-06T19:05:36.155Z"
   },
   {
    "duration": 183,
    "start_time": "2023-04-06T19:05:36.265Z"
   },
   {
    "duration": 2099,
    "start_time": "2023-04-06T19:05:36.454Z"
   },
   {
    "duration": 104,
    "start_time": "2023-04-06T19:05:38.556Z"
   },
   {
    "duration": 96,
    "start_time": "2023-04-06T19:05:38.665Z"
   },
   {
    "duration": 24,
    "start_time": "2023-04-06T19:05:38.845Z"
   },
   {
    "duration": 21,
    "start_time": "2023-04-06T19:05:38.871Z"
   },
   {
    "duration": 49,
    "start_time": "2023-04-06T19:05:38.896Z"
   },
   {
    "duration": 26,
    "start_time": "2023-04-06T19:05:56.326Z"
   },
   {
    "duration": 20,
    "start_time": "2023-04-06T19:12:33.164Z"
   },
   {
    "duration": 3267,
    "start_time": "2023-04-06T19:21:50.803Z"
   },
   {
    "duration": 156,
    "start_time": "2023-04-06T19:21:54.073Z"
   },
   {
    "duration": 27,
    "start_time": "2023-04-06T19:21:54.231Z"
   },
   {
    "duration": 18,
    "start_time": "2023-04-06T19:21:54.261Z"
   },
   {
    "duration": 25010,
    "start_time": "2023-04-06T19:21:54.280Z"
   },
   {
    "duration": 158,
    "start_time": "2023-04-06T19:22:19.293Z"
   },
   {
    "duration": 19,
    "start_time": "2023-04-06T19:22:19.453Z"
   },
   {
    "duration": 10,
    "start_time": "2023-04-06T19:22:19.474Z"
   },
   {
    "duration": 24488,
    "start_time": "2023-04-06T19:22:19.486Z"
   },
   {
    "duration": 152,
    "start_time": "2023-04-06T19:22:43.977Z"
   },
   {
    "duration": 29,
    "start_time": "2023-04-06T19:22:44.131Z"
   },
   {
    "duration": 11,
    "start_time": "2023-04-06T19:22:44.162Z"
   },
   {
    "duration": 24686,
    "start_time": "2023-04-06T19:22:44.174Z"
   },
   {
    "duration": 124,
    "start_time": "2023-04-06T19:23:08.863Z"
   },
   {
    "duration": 18,
    "start_time": "2023-04-06T19:23:08.990Z"
   },
   {
    "duration": 11,
    "start_time": "2023-04-06T19:23:09.010Z"
   },
   {
    "duration": 28,
    "start_time": "2023-04-06T19:23:09.042Z"
   },
   {
    "duration": 16,
    "start_time": "2023-04-06T19:23:09.072Z"
   },
   {
    "duration": 6,
    "start_time": "2023-04-06T19:23:09.090Z"
   },
   {
    "duration": 2063,
    "start_time": "2023-04-06T19:23:09.097Z"
   },
   {
    "duration": 95,
    "start_time": "2023-04-06T19:23:11.163Z"
   },
   {
    "duration": 101,
    "start_time": "2023-04-06T19:23:11.260Z"
   },
   {
    "duration": 2290,
    "start_time": "2023-04-06T19:23:11.362Z"
   },
   {
    "duration": 186,
    "start_time": "2023-04-06T19:23:13.655Z"
   },
   {
    "duration": 105,
    "start_time": "2023-04-06T19:23:13.845Z"
   },
   {
    "duration": 2289,
    "start_time": "2023-04-06T19:23:13.953Z"
   },
   {
    "duration": 98,
    "start_time": "2023-04-06T19:23:16.244Z"
   },
   {
    "duration": 95,
    "start_time": "2023-04-06T19:23:16.347Z"
   },
   {
    "duration": 39,
    "start_time": "2023-04-06T19:23:16.444Z"
   },
   {
    "duration": 22,
    "start_time": "2023-04-06T19:23:16.485Z"
   },
   {
    "duration": 33,
    "start_time": "2023-04-06T19:23:16.508Z"
   },
   {
    "duration": 21,
    "start_time": "2023-04-06T19:23:16.544Z"
   },
   {
    "duration": 14,
    "start_time": "2023-04-06T19:28:42.756Z"
   },
   {
    "duration": 1556,
    "start_time": "2023-04-06T19:29:50.820Z"
   },
   {
    "duration": 2269,
    "start_time": "2023-04-06T19:30:41.997Z"
   },
   {
    "duration": 1553,
    "start_time": "2023-04-06T19:31:03.843Z"
   },
   {
    "duration": 1579,
    "start_time": "2023-04-06T19:31:18.589Z"
   },
   {
    "duration": 17,
    "start_time": "2023-04-06T19:40:16.554Z"
   },
   {
    "duration": 6,
    "start_time": "2023-04-06T19:41:15.829Z"
   },
   {
    "duration": 18,
    "start_time": "2023-04-06T19:41:25.831Z"
   },
   {
    "duration": 48,
    "start_time": "2023-04-06T19:41:53.830Z"
   },
   {
    "duration": 23,
    "start_time": "2023-04-06T19:43:59.071Z"
   },
   {
    "duration": 2419,
    "start_time": "2023-04-06T19:44:39.990Z"
   },
   {
    "duration": 2279,
    "start_time": "2023-04-06T19:45:15.698Z"
   },
   {
    "duration": 2159,
    "start_time": "2023-04-06T19:45:35.521Z"
   },
   {
    "duration": 18192,
    "start_time": "2023-04-07T14:14:50.899Z"
   },
   {
    "duration": 147,
    "start_time": "2023-04-07T14:15:09.094Z"
   },
   {
    "duration": 21,
    "start_time": "2023-04-07T14:15:09.242Z"
   },
   {
    "duration": 14,
    "start_time": "2023-04-07T14:15:09.266Z"
   },
   {
    "duration": 22283,
    "start_time": "2023-04-07T14:15:09.282Z"
   },
   {
    "duration": 134,
    "start_time": "2023-04-07T14:15:31.567Z"
   },
   {
    "duration": 14,
    "start_time": "2023-04-07T14:15:31.703Z"
   },
   {
    "duration": 18,
    "start_time": "2023-04-07T14:15:31.719Z"
   },
   {
    "duration": 21802,
    "start_time": "2023-04-07T14:15:31.739Z"
   },
   {
    "duration": 263,
    "start_time": "2023-04-07T14:15:53.544Z"
   },
   {
    "duration": 17,
    "start_time": "2023-04-07T14:15:53.810Z"
   },
   {
    "duration": 10,
    "start_time": "2023-04-07T14:15:53.828Z"
   },
   {
    "duration": 21888,
    "start_time": "2023-04-07T14:15:53.840Z"
   },
   {
    "duration": 123,
    "start_time": "2023-04-07T14:16:15.730Z"
   },
   {
    "duration": 13,
    "start_time": "2023-04-07T14:16:15.854Z"
   },
   {
    "duration": 11,
    "start_time": "2023-04-07T14:16:15.869Z"
   },
   {
    "duration": 29,
    "start_time": "2023-04-07T14:16:15.882Z"
   },
   {
    "duration": 18,
    "start_time": "2023-04-07T14:16:15.912Z"
   },
   {
    "duration": 5,
    "start_time": "2023-04-07T14:16:15.932Z"
   },
   {
    "duration": 2074,
    "start_time": "2023-04-07T14:16:15.939Z"
   },
   {
    "duration": 99,
    "start_time": "2023-04-07T14:16:18.015Z"
   },
   {
    "duration": 187,
    "start_time": "2023-04-07T14:16:18.118Z"
   },
   {
    "duration": 2198,
    "start_time": "2023-04-07T14:16:18.306Z"
   },
   {
    "duration": 100,
    "start_time": "2023-04-07T14:16:20.506Z"
   },
   {
    "duration": 195,
    "start_time": "2023-04-07T14:16:20.609Z"
   },
   {
    "duration": 2104,
    "start_time": "2023-04-07T14:16:20.805Z"
   },
   {
    "duration": 106,
    "start_time": "2023-04-07T14:16:22.911Z"
   },
   {
    "duration": 99,
    "start_time": "2023-04-07T14:16:23.106Z"
   },
   {
    "duration": 19,
    "start_time": "2023-04-07T14:16:23.207Z"
   },
   {
    "duration": 17,
    "start_time": "2023-04-07T14:16:23.228Z"
   },
   {
    "duration": 16,
    "start_time": "2023-04-07T14:16:23.246Z"
   },
   {
    "duration": 171,
    "start_time": "2023-04-07T14:16:23.264Z"
   },
   {
    "duration": 0,
    "start_time": "2023-04-07T14:16:23.437Z"
   },
   {
    "duration": 0,
    "start_time": "2023-04-07T14:16:23.438Z"
   },
   {
    "duration": 0,
    "start_time": "2023-04-07T14:16:23.439Z"
   },
   {
    "duration": 0,
    "start_time": "2023-04-07T14:16:23.440Z"
   },
   {
    "duration": 0,
    "start_time": "2023-04-07T14:16:23.441Z"
   },
   {
    "duration": 0,
    "start_time": "2023-04-07T14:16:23.442Z"
   },
   {
    "duration": 28,
    "start_time": "2023-04-07T14:17:52.807Z"
   },
   {
    "duration": 1508,
    "start_time": "2023-04-07T14:17:52.838Z"
   },
   {
    "duration": 1510,
    "start_time": "2023-04-07T14:17:54.348Z"
   },
   {
    "duration": 1509,
    "start_time": "2023-04-07T14:17:55.859Z"
   },
   {
    "duration": 1880,
    "start_time": "2023-04-07T14:17:57.371Z"
   },
   {
    "duration": 1998,
    "start_time": "2023-04-07T14:17:59.253Z"
   },
   {
    "duration": 1982,
    "start_time": "2023-04-07T14:18:01.253Z"
   },
   {
    "duration": 4,
    "start_time": "2023-04-07T14:31:06.739Z"
   },
   {
    "duration": 139,
    "start_time": "2023-04-07T14:37:20.270Z"
   },
   {
    "duration": 0,
    "start_time": "2023-04-07T14:37:20.411Z"
   },
   {
    "duration": 0,
    "start_time": "2023-04-07T14:37:20.413Z"
   },
   {
    "duration": 0,
    "start_time": "2023-04-07T14:37:20.414Z"
   },
   {
    "duration": 0,
    "start_time": "2023-04-07T14:37:20.415Z"
   },
   {
    "duration": 0,
    "start_time": "2023-04-07T14:37:20.416Z"
   },
   {
    "duration": 0,
    "start_time": "2023-04-07T14:37:20.417Z"
   },
   {
    "duration": 23,
    "start_time": "2023-04-07T14:37:38.162Z"
   },
   {
    "duration": 1538,
    "start_time": "2023-04-07T14:37:38.188Z"
   },
   {
    "duration": 1528,
    "start_time": "2023-04-07T14:37:39.728Z"
   },
   {
    "duration": 1561,
    "start_time": "2023-04-07T14:37:41.258Z"
   },
   {
    "duration": 1863,
    "start_time": "2023-04-07T14:37:42.821Z"
   },
   {
    "duration": 1868,
    "start_time": "2023-04-07T14:37:44.686Z"
   },
   {
    "duration": 1994,
    "start_time": "2023-04-07T14:37:46.555Z"
   },
   {
    "duration": 5,
    "start_time": "2023-04-07T14:39:10.350Z"
   },
   {
    "duration": 5,
    "start_time": "2023-04-07T14:39:18.131Z"
   },
   {
    "duration": 6,
    "start_time": "2023-04-07T14:47:26.098Z"
   },
   {
    "duration": 5387,
    "start_time": "2023-04-07T14:50:43.833Z"
   },
   {
    "duration": 141,
    "start_time": "2023-04-07T14:50:49.222Z"
   },
   {
    "duration": 19,
    "start_time": "2023-04-07T14:50:49.365Z"
   },
   {
    "duration": 24,
    "start_time": "2023-04-07T14:50:49.387Z"
   },
   {
    "duration": 23530,
    "start_time": "2023-04-07T14:50:49.412Z"
   },
   {
    "duration": 131,
    "start_time": "2023-04-07T14:51:12.944Z"
   },
   {
    "duration": 26,
    "start_time": "2023-04-07T14:51:13.077Z"
   },
   {
    "duration": 10,
    "start_time": "2023-04-07T14:51:13.105Z"
   },
   {
    "duration": 21813,
    "start_time": "2023-04-07T14:51:13.117Z"
   },
   {
    "duration": 271,
    "start_time": "2023-04-07T14:51:34.933Z"
   },
   {
    "duration": 15,
    "start_time": "2023-04-07T14:51:35.205Z"
   },
   {
    "duration": 14,
    "start_time": "2023-04-07T14:51:35.222Z"
   },
   {
    "duration": 22485,
    "start_time": "2023-04-07T14:51:35.237Z"
   },
   {
    "duration": 80,
    "start_time": "2023-04-07T14:51:57.724Z"
   },
   {
    "duration": 18,
    "start_time": "2023-04-07T14:51:57.806Z"
   },
   {
    "duration": 11,
    "start_time": "2023-04-07T14:51:57.829Z"
   },
   {
    "duration": 23,
    "start_time": "2023-04-07T14:51:57.842Z"
   },
   {
    "duration": 26,
    "start_time": "2023-04-07T14:51:57.867Z"
   },
   {
    "duration": 8,
    "start_time": "2023-04-07T14:51:57.895Z"
   },
   {
    "duration": 1611,
    "start_time": "2023-04-07T14:51:57.905Z"
   },
   {
    "duration": 95,
    "start_time": "2023-04-07T14:51:59.519Z"
   },
   {
    "duration": 104,
    "start_time": "2023-04-07T14:51:59.703Z"
   },
   {
    "duration": 2103,
    "start_time": "2023-04-07T14:51:59.808Z"
   },
   {
    "duration": 192,
    "start_time": "2023-04-07T14:52:01.913Z"
   },
   {
    "duration": 102,
    "start_time": "2023-04-07T14:52:02.111Z"
   },
   {
    "duration": 2098,
    "start_time": "2023-04-07T14:52:02.215Z"
   },
   {
    "duration": 100,
    "start_time": "2023-04-07T14:52:04.317Z"
   },
   {
    "duration": 87,
    "start_time": "2023-04-07T14:52:04.423Z"
   },
   {
    "duration": 106,
    "start_time": "2023-04-07T14:52:04.513Z"
   },
   {
    "duration": 19,
    "start_time": "2023-04-07T14:52:04.622Z"
   },
   {
    "duration": 21,
    "start_time": "2023-04-07T14:52:04.644Z"
   },
   {
    "duration": 199,
    "start_time": "2023-04-07T14:52:04.668Z"
   },
   {
    "duration": 0,
    "start_time": "2023-04-07T14:52:04.869Z"
   },
   {
    "duration": 0,
    "start_time": "2023-04-07T14:52:04.871Z"
   },
   {
    "duration": 0,
    "start_time": "2023-04-07T14:52:04.873Z"
   },
   {
    "duration": 0,
    "start_time": "2023-04-07T14:52:04.874Z"
   },
   {
    "duration": 0,
    "start_time": "2023-04-07T14:52:04.875Z"
   },
   {
    "duration": 0,
    "start_time": "2023-04-07T14:52:04.877Z"
   },
   {
    "duration": 0,
    "start_time": "2023-04-07T14:52:04.903Z"
   },
   {
    "duration": 80,
    "start_time": "2023-04-07T18:39:10.440Z"
   },
   {
    "duration": 59,
    "start_time": "2023-04-07T18:39:18.077Z"
   },
   {
    "duration": 17830,
    "start_time": "2023-04-07T19:06:21.965Z"
   },
   {
    "duration": 2868,
    "start_time": "2023-04-07T19:07:06.596Z"
   },
   {
    "duration": 4,
    "start_time": "2023-04-07T19:07:13.062Z"
   },
   {
    "duration": 625,
    "start_time": "2023-04-07T19:07:15.592Z"
   },
   {
    "duration": 27,
    "start_time": "2023-04-07T19:07:19.479Z"
   },
   {
    "duration": 14,
    "start_time": "2023-04-07T19:07:23.791Z"
   },
   {
    "duration": 20768,
    "start_time": "2023-04-07T19:07:26.626Z"
   },
   {
    "duration": 199,
    "start_time": "2023-04-07T19:08:35.305Z"
   },
   {
    "duration": 15,
    "start_time": "2023-04-07T19:08:42.920Z"
   },
   {
    "duration": 9,
    "start_time": "2023-04-07T19:08:50.601Z"
   },
   {
    "duration": 18109,
    "start_time": "2023-04-07T19:09:55.431Z"
   },
   {
    "duration": 200,
    "start_time": "2023-04-07T19:10:35.493Z"
   },
   {
    "duration": 14,
    "start_time": "2023-04-07T19:10:39.573Z"
   },
   {
    "duration": 9,
    "start_time": "2023-04-07T19:10:44.238Z"
   },
   {
    "duration": 19820,
    "start_time": "2023-04-07T19:10:56.106Z"
   },
   {
    "duration": 49,
    "start_time": "2023-04-07T19:11:45.694Z"
   },
   {
    "duration": 13,
    "start_time": "2023-04-07T19:11:49.179Z"
   },
   {
    "duration": 10,
    "start_time": "2023-04-07T19:11:55.300Z"
   },
   {
    "duration": 9,
    "start_time": "2023-04-07T19:12:00.766Z"
   },
   {
    "duration": 168,
    "start_time": "2023-04-07T19:15:13.736Z"
   },
   {
    "duration": 12,
    "start_time": "2023-04-07T19:15:31.537Z"
   },
   {
    "duration": 14,
    "start_time": "2023-04-07T19:15:35.364Z"
   },
   {
    "duration": 4,
    "start_time": "2023-04-07T19:16:17.517Z"
   },
   {
    "duration": 15,
    "start_time": "2023-04-07T19:16:23.075Z"
   },
   {
    "duration": 3,
    "start_time": "2023-04-07T19:18:30.183Z"
   },
   {
    "duration": 13,
    "start_time": "2023-04-07T19:18:35.582Z"
   },
   {
    "duration": 3,
    "start_time": "2023-04-07T19:19:09.983Z"
   },
   {
    "duration": 11,
    "start_time": "2023-04-07T19:19:14.270Z"
   },
   {
    "duration": 15705,
    "start_time": "2023-04-09T09:19:21.186Z"
   },
   {
    "duration": 3,
    "start_time": "2023-04-09T09:19:36.893Z"
   },
   {
    "duration": 3,
    "start_time": "2023-04-09T09:19:47.154Z"
   },
   {
    "duration": 463,
    "start_time": "2023-04-09T09:19:52.614Z"
   },
   {
    "duration": 18,
    "start_time": "2023-04-09T09:20:00.629Z"
   },
   {
    "duration": 13,
    "start_time": "2023-04-09T09:20:06.624Z"
   },
   {
    "duration": 20944,
    "start_time": "2023-04-09T09:20:09.666Z"
   },
   {
    "duration": 213,
    "start_time": "2023-04-09T09:20:42.528Z"
   },
   {
    "duration": 16,
    "start_time": "2023-04-09T09:20:44.882Z"
   },
   {
    "duration": 9,
    "start_time": "2023-04-09T09:20:47.835Z"
   },
   {
    "duration": 20316,
    "start_time": "2023-04-09T09:20:51.026Z"
   },
   {
    "duration": 284,
    "start_time": "2023-04-09T09:21:23.226Z"
   },
   {
    "duration": 17,
    "start_time": "2023-04-09T09:21:25.982Z"
   },
   {
    "duration": 12,
    "start_time": "2023-04-09T09:21:29.435Z"
   },
   {
    "duration": 21246,
    "start_time": "2023-04-09T09:21:29.584Z"
   },
   {
    "duration": 68,
    "start_time": "2023-04-09T09:22:03.438Z"
   },
   {
    "duration": 13,
    "start_time": "2023-04-09T09:22:06.225Z"
   },
   {
    "duration": 10,
    "start_time": "2023-04-09T09:22:10.649Z"
   },
   {
    "duration": 9,
    "start_time": "2023-04-09T09:22:14.283Z"
   },
   {
    "duration": 16738,
    "start_time": "2023-04-09T14:58:25.843Z"
   },
   {
    "duration": 3,
    "start_time": "2023-04-09T15:01:09.677Z"
   },
   {
    "duration": 401,
    "start_time": "2023-04-09T15:01:14.430Z"
   },
   {
    "duration": 21,
    "start_time": "2023-04-09T15:01:17.993Z"
   },
   {
    "duration": 13,
    "start_time": "2023-04-09T15:01:20.676Z"
   },
   {
    "duration": 21844,
    "start_time": "2023-04-09T15:01:22.877Z"
   },
   {
    "duration": 548,
    "start_time": "2023-04-09T15:01:55.772Z"
   },
   {
    "duration": 16,
    "start_time": "2023-04-09T15:02:07.405Z"
   },
   {
    "duration": 10,
    "start_time": "2023-04-09T15:02:09.900Z"
   },
   {
    "duration": 21314,
    "start_time": "2023-04-09T15:02:12.688Z"
   },
   {
    "duration": 571,
    "start_time": "2023-04-09T15:03:04.038Z"
   },
   {
    "duration": 17,
    "start_time": "2023-04-09T15:03:08.492Z"
   },
   {
    "duration": 10,
    "start_time": "2023-04-09T15:03:11.070Z"
   },
   {
    "duration": 20693,
    "start_time": "2023-04-09T15:03:13.953Z"
   },
   {
    "duration": 57,
    "start_time": "2023-04-09T15:03:44.219Z"
   },
   {
    "duration": 14,
    "start_time": "2023-04-09T15:03:47.125Z"
   },
   {
    "duration": 11,
    "start_time": "2023-04-09T15:03:50.174Z"
   },
   {
    "duration": 9,
    "start_time": "2023-04-09T15:03:53.505Z"
   },
   {
    "duration": 15,
    "start_time": "2023-04-09T15:09:28.216Z"
   },
   {
    "duration": 5,
    "start_time": "2023-04-09T15:09:30.581Z"
   },
   {
    "duration": 2468,
    "start_time": "2023-04-09T15:09:33.517Z"
   },
   {
    "duration": 15,
    "start_time": "2023-04-09T15:09:44.305Z"
   },
   {
    "duration": 19,
    "start_time": "2023-04-09T15:09:53.678Z"
   },
   {
    "duration": 2083,
    "start_time": "2023-04-09T15:10:05.305Z"
   },
   {
    "duration": 14,
    "start_time": "2023-04-09T15:10:09.953Z"
   },
   {
    "duration": 15,
    "start_time": "2023-04-09T15:10:13.093Z"
   },
   {
    "duration": 2475,
    "start_time": "2023-04-09T15:10:15.509Z"
   },
   {
    "duration": 24,
    "start_time": "2023-04-09T15:10:19.961Z"
   },
   {
    "duration": 2893,
    "start_time": "2023-04-09T15:12:15.780Z"
   },
   {
    "duration": 2,
    "start_time": "2023-04-09T15:12:18.677Z"
   },
   {
    "duration": 156,
    "start_time": "2023-04-09T15:12:18.682Z"
   },
   {
    "duration": 17,
    "start_time": "2023-04-09T15:12:18.840Z"
   },
   {
    "duration": 12,
    "start_time": "2023-04-09T15:12:18.858Z"
   },
   {
    "duration": 21531,
    "start_time": "2023-04-09T15:12:18.884Z"
   },
   {
    "duration": 272,
    "start_time": "2023-04-09T15:12:40.417Z"
   },
   {
    "duration": 16,
    "start_time": "2023-04-09T15:12:40.691Z"
   },
   {
    "duration": 10,
    "start_time": "2023-04-09T15:12:40.709Z"
   },
   {
    "duration": 20291,
    "start_time": "2023-04-09T15:12:40.722Z"
   },
   {
    "duration": 143,
    "start_time": "2023-04-09T15:13:01.015Z"
   },
   {
    "duration": 14,
    "start_time": "2023-04-09T15:13:01.161Z"
   },
   {
    "duration": 43,
    "start_time": "2023-04-09T15:13:01.176Z"
   },
   {
    "duration": 19995,
    "start_time": "2023-04-09T15:13:01.221Z"
   },
   {
    "duration": 166,
    "start_time": "2023-04-09T15:13:21.218Z"
   },
   {
    "duration": 13,
    "start_time": "2023-04-09T15:13:21.386Z"
   },
   {
    "duration": 11,
    "start_time": "2023-04-09T15:13:21.401Z"
   },
   {
    "duration": 12,
    "start_time": "2023-04-09T15:13:21.414Z"
   },
   {
    "duration": 4,
    "start_time": "2023-04-09T15:17:09.862Z"
   },
   {
    "duration": 15,
    "start_time": "2023-04-09T15:17:15.206Z"
   },
   {
    "duration": 4,
    "start_time": "2023-04-09T15:17:51.785Z"
   },
   {
    "duration": 4,
    "start_time": "2023-04-09T15:21:21.137Z"
   },
   {
    "duration": 2471,
    "start_time": "2023-04-09T15:21:51.417Z"
   },
   {
    "duration": 2735,
    "start_time": "2023-04-09T15:23:46.869Z"
   },
   {
    "duration": 3,
    "start_time": "2023-04-09T15:23:49.607Z"
   },
   {
    "duration": 149,
    "start_time": "2023-04-09T15:23:49.611Z"
   },
   {
    "duration": 27,
    "start_time": "2023-04-09T15:23:49.763Z"
   },
   {
    "duration": 12,
    "start_time": "2023-04-09T15:23:49.792Z"
   },
   {
    "duration": 22304,
    "start_time": "2023-04-09T15:23:49.805Z"
   },
   {
    "duration": 182,
    "start_time": "2023-04-09T15:24:12.111Z"
   },
   {
    "duration": 14,
    "start_time": "2023-04-09T15:24:12.295Z"
   },
   {
    "duration": 12,
    "start_time": "2023-04-09T15:24:12.310Z"
   },
   {
    "duration": 22090,
    "start_time": "2023-04-09T15:24:12.325Z"
   },
   {
    "duration": 231,
    "start_time": "2023-04-09T15:24:34.417Z"
   },
   {
    "duration": 16,
    "start_time": "2023-04-09T15:24:34.650Z"
   },
   {
    "duration": 27,
    "start_time": "2023-04-09T15:24:34.668Z"
   },
   {
    "duration": 23424,
    "start_time": "2023-04-09T15:24:34.697Z"
   },
   {
    "duration": 82,
    "start_time": "2023-04-09T15:24:58.123Z"
   },
   {
    "duration": 20,
    "start_time": "2023-04-09T15:24:58.207Z"
   },
   {
    "duration": 12,
    "start_time": "2023-04-09T15:24:58.230Z"
   },
   {
    "duration": 17,
    "start_time": "2023-04-09T15:24:58.244Z"
   },
   {
    "duration": 19752,
    "start_time": "2023-04-09T17:20:10.945Z"
   },
   {
    "duration": 3,
    "start_time": "2023-04-09T17:20:37.534Z"
   },
   {
    "duration": 496,
    "start_time": "2023-04-09T17:20:40.082Z"
   },
   {
    "duration": 36,
    "start_time": "2023-04-09T17:20:43.508Z"
   },
   {
    "duration": 16,
    "start_time": "2023-04-09T17:20:46.067Z"
   },
   {
    "duration": 26401,
    "start_time": "2023-04-09T17:20:48.653Z"
   },
   {
    "duration": 681,
    "start_time": "2023-04-09T17:21:23.745Z"
   },
   {
    "duration": 27,
    "start_time": "2023-04-09T17:21:27.285Z"
   },
   {
    "duration": 10,
    "start_time": "2023-04-09T17:21:29.964Z"
   },
   {
    "duration": 26453,
    "start_time": "2023-04-09T17:21:32.434Z"
   },
   {
    "duration": 702,
    "start_time": "2023-04-09T17:22:09.723Z"
   },
   {
    "duration": 16,
    "start_time": "2023-04-09T17:22:12.853Z"
   },
   {
    "duration": 11,
    "start_time": "2023-04-09T17:22:15.539Z"
   },
   {
    "duration": 26164,
    "start_time": "2023-04-09T17:22:18.002Z"
   },
   {
    "duration": 109,
    "start_time": "2023-04-09T17:22:54.455Z"
   },
   {
    "duration": 15,
    "start_time": "2023-04-09T17:22:57.360Z"
   },
   {
    "duration": 10,
    "start_time": "2023-04-09T17:23:00.726Z"
   },
   {
    "duration": 13,
    "start_time": "2023-04-09T17:23:04.031Z"
   },
   {
    "duration": 10,
    "start_time": "2023-04-09T17:23:11.791Z"
   },
   {
    "duration": 6,
    "start_time": "2023-04-09T17:23:19.759Z"
   },
   {
    "duration": 3,
    "start_time": "2023-04-09T17:23:23.182Z"
   },
   {
    "duration": 19,
    "start_time": "2023-04-09T17:23:30.763Z"
   },
   {
    "duration": 9,
    "start_time": "2023-04-09T17:23:35.215Z"
   },
   {
    "duration": 1689,
    "start_time": "2023-04-09T17:23:59.126Z"
   },
   {
    "duration": 15,
    "start_time": "2023-04-09T17:24:44.328Z"
   },
   {
    "duration": 18,
    "start_time": "2023-04-09T17:25:25.016Z"
   },
   {
    "duration": 1936,
    "start_time": "2023-04-09T17:26:00.077Z"
   },
   {
    "duration": 112,
    "start_time": "2023-04-09T17:26:12.586Z"
   },
   {
    "duration": 16,
    "start_time": "2023-04-09T17:26:31.146Z"
   },
   {
    "duration": 1803,
    "start_time": "2023-04-09T17:26:52.096Z"
   },
   {
    "duration": 16,
    "start_time": "2023-04-09T17:27:04.146Z"
   },
   {
    "duration": 158,
    "start_time": "2023-04-09T17:38:43.360Z"
   },
   {
    "duration": 173,
    "start_time": "2023-04-09T17:38:54.259Z"
   },
   {
    "duration": 13,
    "start_time": "2023-04-09T17:39:18.810Z"
   },
   {
    "duration": 23,
    "start_time": "2023-04-09T17:45:01.531Z"
   },
   {
    "duration": 17,
    "start_time": "2023-04-09T17:45:03.764Z"
   },
   {
    "duration": 19,
    "start_time": "2023-04-09T17:45:06.078Z"
   },
   {
    "duration": 50,
    "start_time": "2023-04-09T17:47:04.605Z"
   },
   {
    "duration": 21,
    "start_time": "2023-04-09T17:47:23.222Z"
   },
   {
    "duration": 29,
    "start_time": "2023-04-09T17:47:34.172Z"
   },
   {
    "duration": 21,
    "start_time": "2023-04-09T17:47:58.542Z"
   },
   {
    "duration": 153,
    "start_time": "2023-04-09T17:52:50.731Z"
   },
   {
    "duration": 86,
    "start_time": "2023-04-09T17:53:07.305Z"
   },
   {
    "duration": 132,
    "start_time": "2023-04-09T17:53:18.627Z"
   },
   {
    "duration": 138,
    "start_time": "2023-04-09T17:53:29.378Z"
   },
   {
    "duration": 27,
    "start_time": "2023-04-09T17:54:53.806Z"
   },
   {
    "duration": 1823,
    "start_time": "2023-04-09T17:55:03.377Z"
   },
   {
    "duration": 134,
    "start_time": "2023-04-09T17:55:12.537Z"
   },
   {
    "duration": 1681,
    "start_time": "2023-04-09T17:55:38.862Z"
   },
   {
    "duration": 1958,
    "start_time": "2023-04-09T17:56:01.796Z"
   },
   {
    "duration": 7,
    "start_time": "2023-04-09T17:56:19.131Z"
   },
   {
    "duration": 1994,
    "start_time": "2023-04-09T17:56:28.292Z"
   },
   {
    "duration": 179,
    "start_time": "2023-04-09T17:57:06.887Z"
   },
   {
    "duration": 1621,
    "start_time": "2023-04-09T17:57:31.563Z"
   },
   {
    "duration": 13,
    "start_time": "2023-04-09T17:59:52.213Z"
   },
   {
    "duration": 1909,
    "start_time": "2023-04-09T18:00:00.042Z"
   },
   {
    "duration": 87,
    "start_time": "2023-04-09T18:00:20.335Z"
   },
   {
    "duration": 1617,
    "start_time": "2023-04-09T18:00:24.202Z"
   },
   {
    "duration": 142,
    "start_time": "2023-04-09T18:01:40.236Z"
   },
   {
    "duration": 1749,
    "start_time": "2023-04-09T18:01:44.879Z"
   },
   {
    "duration": 1689,
    "start_time": "2023-04-09T18:02:44.083Z"
   },
   {
    "duration": 1729,
    "start_time": "2023-04-09T18:03:19.642Z"
   },
   {
    "duration": 3183,
    "start_time": "2023-04-09T18:04:52.886Z"
   },
   {
    "duration": 4,
    "start_time": "2023-04-09T18:05:00.355Z"
   },
   {
    "duration": 172,
    "start_time": "2023-04-09T18:05:02.885Z"
   },
   {
    "duration": 34,
    "start_time": "2023-04-09T18:05:04.909Z"
   },
   {
    "duration": 13,
    "start_time": "2023-04-09T18:05:07.544Z"
   },
   {
    "duration": 26330,
    "start_time": "2023-04-09T18:05:10.646Z"
   },
   {
    "duration": 200,
    "start_time": "2023-04-09T18:05:49.812Z"
   },
   {
    "duration": 20,
    "start_time": "2023-04-09T18:05:51.954Z"
   },
   {
    "duration": 19,
    "start_time": "2023-04-09T18:05:54.279Z"
   },
   {
    "duration": 26252,
    "start_time": "2023-04-09T18:05:57.430Z"
   },
   {
    "duration": 164,
    "start_time": "2023-04-09T18:06:34.418Z"
   },
   {
    "duration": 37,
    "start_time": "2023-04-09T18:06:36.795Z"
   },
   {
    "duration": 14,
    "start_time": "2023-04-09T18:06:39.045Z"
   },
   {
    "duration": 27702,
    "start_time": "2023-04-09T18:06:41.511Z"
   },
   {
    "duration": 96,
    "start_time": "2023-04-09T18:07:19.821Z"
   },
   {
    "duration": 15,
    "start_time": "2023-04-09T18:07:22.238Z"
   },
   {
    "duration": 13,
    "start_time": "2023-04-09T18:07:24.908Z"
   },
   {
    "duration": 14,
    "start_time": "2023-04-09T18:07:27.797Z"
   },
   {
    "duration": 4,
    "start_time": "2023-04-09T18:07:32.853Z"
   },
   {
    "duration": 8,
    "start_time": "2023-04-09T18:07:34.700Z"
   },
   {
    "duration": 4,
    "start_time": "2023-04-09T18:07:36.614Z"
   },
   {
    "duration": 21,
    "start_time": "2023-04-09T18:07:38.434Z"
   },
   {
    "duration": 6,
    "start_time": "2023-04-09T18:07:40.334Z"
   },
   {
    "duration": 1938,
    "start_time": "2023-04-09T18:07:42.795Z"
   },
   {
    "duration": 27,
    "start_time": "2023-04-09T18:07:47.137Z"
   },
   {
    "duration": 27,
    "start_time": "2023-04-09T18:07:49.471Z"
   },
   {
    "duration": 2264,
    "start_time": "2023-04-09T18:07:51.769Z"
   },
   {
    "duration": 27,
    "start_time": "2023-04-09T18:07:56.032Z"
   },
   {
    "duration": 19,
    "start_time": "2023-04-09T18:07:58.262Z"
   },
   {
    "duration": 2062,
    "start_time": "2023-04-09T18:08:00.767Z"
   },
   {
    "duration": 17,
    "start_time": "2023-04-09T18:08:04.550Z"
   },
   {
    "duration": 12,
    "start_time": "2023-04-09T18:08:12.412Z"
   },
   {
    "duration": 26,
    "start_time": "2023-04-09T18:08:37.314Z"
   },
   {
    "duration": 24,
    "start_time": "2023-04-09T18:08:39.820Z"
   },
   {
    "duration": 17,
    "start_time": "2023-04-09T18:08:42.127Z"
   },
   {
    "duration": 30,
    "start_time": "2023-04-09T18:08:45.885Z"
   },
   {
    "duration": 1618,
    "start_time": "2023-04-09T18:09:04.878Z"
   },
   {
    "duration": 14,
    "start_time": "2023-04-09T18:09:45.443Z"
   },
   {
    "duration": 20,
    "start_time": "2023-04-09T18:10:44.137Z"
   },
   {
    "duration": 17,
    "start_time": "2023-04-09T18:10:51.134Z"
   },
   {
    "duration": 21,
    "start_time": "2023-04-09T18:10:57.589Z"
   },
   {
    "duration": 18,
    "start_time": "2023-04-09T18:11:19.811Z"
   },
   {
    "duration": 1711,
    "start_time": "2023-04-09T18:12:51.869Z"
   },
   {
    "duration": 15,
    "start_time": "2023-04-09T18:13:23.525Z"
   },
   {
    "duration": 17,
    "start_time": "2023-04-09T18:16:04.666Z"
   },
   {
    "duration": 1794,
    "start_time": "2023-04-09T18:16:19.238Z"
   },
   {
    "duration": 13,
    "start_time": "2023-04-09T18:16:49.112Z"
   },
   {
    "duration": 4804,
    "start_time": "2023-04-09T18:24:54.150Z"
   },
   {
    "duration": 3,
    "start_time": "2023-04-09T18:25:08.433Z"
   },
   {
    "duration": 190,
    "start_time": "2023-04-09T18:25:10.775Z"
   },
   {
    "duration": 22,
    "start_time": "2023-04-09T18:25:12.908Z"
   },
   {
    "duration": 15,
    "start_time": "2023-04-09T18:25:14.947Z"
   },
   {
    "duration": 24399,
    "start_time": "2023-04-09T18:25:17.256Z"
   },
   {
    "duration": 160,
    "start_time": "2023-04-09T18:25:49.847Z"
   },
   {
    "duration": 17,
    "start_time": "2023-04-09T18:25:51.737Z"
   },
   {
    "duration": 10,
    "start_time": "2023-04-09T18:25:53.860Z"
   },
   {
    "duration": 23698,
    "start_time": "2023-04-09T18:25:56.261Z"
   },
   {
    "duration": 152,
    "start_time": "2023-04-09T18:26:28.481Z"
   },
   {
    "duration": 17,
    "start_time": "2023-04-09T18:26:30.058Z"
   },
   {
    "duration": 10,
    "start_time": "2023-04-09T18:26:32.003Z"
   },
   {
    "duration": 23601,
    "start_time": "2023-04-09T18:26:34.808Z"
   },
   {
    "duration": 79,
    "start_time": "2023-04-09T18:27:06.223Z"
   },
   {
    "duration": 16,
    "start_time": "2023-04-09T18:27:08.736Z"
   },
   {
    "duration": 14,
    "start_time": "2023-04-09T18:27:11.572Z"
   },
   {
    "duration": 11,
    "start_time": "2023-04-09T18:27:13.847Z"
   },
   {
    "duration": 5,
    "start_time": "2023-04-09T18:27:19.017Z"
   },
   {
    "duration": 4,
    "start_time": "2023-04-09T18:27:21.228Z"
   },
   {
    "duration": 3,
    "start_time": "2023-04-09T18:27:23.308Z"
   },
   {
    "duration": 22,
    "start_time": "2023-04-09T18:27:25.190Z"
   },
   {
    "duration": 3,
    "start_time": "2023-04-09T18:27:26.956Z"
   },
   {
    "duration": 2153,
    "start_time": "2023-04-09T18:27:29.339Z"
   },
   {
    "duration": 16,
    "start_time": "2023-04-09T18:27:35.035Z"
   },
   {
    "duration": 13,
    "start_time": "2023-04-09T18:27:37.314Z"
   },
   {
    "duration": 2147,
    "start_time": "2023-04-09T18:27:39.642Z"
   },
   {
    "duration": 26,
    "start_time": "2023-04-09T18:27:43.410Z"
   },
   {
    "duration": 21,
    "start_time": "2023-04-09T18:27:45.718Z"
   },
   {
    "duration": 2573,
    "start_time": "2023-04-09T18:27:47.963Z"
   },
   {
    "duration": 104,
    "start_time": "2023-04-09T18:27:52.729Z"
   },
   {
    "duration": 11,
    "start_time": "2023-04-09T18:28:27.521Z"
   },
   {
    "duration": 28,
    "start_time": "2023-04-09T18:28:34.816Z"
   },
   {
    "duration": 27,
    "start_time": "2023-04-09T18:28:36.972Z"
   },
   {
    "duration": 25,
    "start_time": "2023-04-09T18:28:39.050Z"
   },
   {
    "duration": 32,
    "start_time": "2023-04-09T18:28:42.079Z"
   },
   {
    "duration": 1613,
    "start_time": "2023-04-09T18:28:56.314Z"
   },
   {
    "duration": 26,
    "start_time": "2023-04-09T18:29:08.786Z"
   },
   {
    "duration": 1576,
    "start_time": "2023-04-09T18:30:37.477Z"
   },
   {
    "duration": 14,
    "start_time": "2023-04-09T18:30:41.809Z"
   },
   {
    "duration": 1602,
    "start_time": "2023-04-09T18:30:54.105Z"
   },
   {
    "duration": 21,
    "start_time": "2023-04-09T18:31:19.882Z"
   },
   {
    "duration": 5864,
    "start_time": "2023-04-09T18:37:55.707Z"
   },
   {
    "duration": 5,
    "start_time": "2023-04-09T18:38:04.217Z"
   },
   {
    "duration": 199,
    "start_time": "2023-04-09T18:38:06.729Z"
   },
   {
    "duration": 20,
    "start_time": "2023-04-09T18:38:09.136Z"
   },
   {
    "duration": 23,
    "start_time": "2023-04-09T18:38:11.156Z"
   },
   {
    "duration": 27643,
    "start_time": "2023-04-09T18:38:13.350Z"
   },
   {
    "duration": 184,
    "start_time": "2023-04-09T18:38:48.225Z"
   },
   {
    "duration": 17,
    "start_time": "2023-04-09T18:38:49.760Z"
   },
   {
    "duration": 14,
    "start_time": "2023-04-09T18:38:51.818Z"
   },
   {
    "duration": 27634,
    "start_time": "2023-04-09T18:38:53.847Z"
   },
   {
    "duration": 174,
    "start_time": "2023-04-09T18:39:28.946Z"
   },
   {
    "duration": 27,
    "start_time": "2023-04-09T18:39:30.877Z"
   },
   {
    "duration": 12,
    "start_time": "2023-04-09T18:39:33.414Z"
   },
   {
    "duration": 27809,
    "start_time": "2023-04-09T18:39:35.909Z"
   },
   {
    "duration": 102,
    "start_time": "2023-04-09T18:40:11.963Z"
   },
   {
    "duration": 20,
    "start_time": "2023-04-09T18:40:14.565Z"
   },
   {
    "duration": 15,
    "start_time": "2023-04-09T18:40:17.025Z"
   },
   {
    "duration": 15,
    "start_time": "2023-04-09T18:40:19.303Z"
   },
   {
    "duration": 4,
    "start_time": "2023-04-09T18:40:24.359Z"
   },
   {
    "duration": 6,
    "start_time": "2023-04-09T18:40:28.386Z"
   },
   {
    "duration": 5,
    "start_time": "2023-04-09T18:40:30.641Z"
   },
   {
    "duration": 21,
    "start_time": "2023-04-09T18:40:32.252Z"
   },
   {
    "duration": 5,
    "start_time": "2023-04-09T18:40:34.048Z"
   },
   {
    "duration": 2014,
    "start_time": "2023-04-09T18:40:36.086Z"
   },
   {
    "duration": 33,
    "start_time": "2023-04-09T18:40:41.615Z"
   },
   {
    "duration": 15,
    "start_time": "2023-04-09T18:40:44.047Z"
   },
   {
    "duration": 2585,
    "start_time": "2023-04-09T18:40:46.417Z"
   },
   {
    "duration": 23,
    "start_time": "2023-04-09T18:40:50.969Z"
   },
   {
    "duration": 23,
    "start_time": "2023-04-09T18:40:53.553Z"
   },
   {
    "duration": 1764,
    "start_time": "2023-04-09T18:40:55.845Z"
   },
   {
    "duration": 20,
    "start_time": "2023-04-09T18:40:59.759Z"
   },
   {
    "duration": 15,
    "start_time": "2023-04-09T18:41:05.215Z"
   },
   {
    "duration": 35,
    "start_time": "2023-04-09T18:41:10.580Z"
   },
   {
    "duration": 25,
    "start_time": "2023-04-09T18:41:13.116Z"
   },
   {
    "duration": 24,
    "start_time": "2023-04-09T18:41:15.469Z"
   },
   {
    "duration": 25,
    "start_time": "2023-04-09T18:41:18.734Z"
   },
   {
    "duration": 1809,
    "start_time": "2023-04-09T18:41:23.360Z"
   },
   {
    "duration": 13,
    "start_time": "2023-04-09T18:41:28.228Z"
   },
   {
    "duration": 1540,
    "start_time": "2023-04-09T18:41:35.665Z"
   },
   {
    "duration": 17,
    "start_time": "2023-04-09T18:41:40.860Z"
   },
   {
    "duration": 1488,
    "start_time": "2023-04-09T18:41:43.813Z"
   },
   {
    "duration": 23,
    "start_time": "2023-04-09T18:41:52.776Z"
   },
   {
    "duration": 15788,
    "start_time": "2023-04-09T19:06:36.747Z"
   },
   {
    "duration": 3,
    "start_time": "2023-04-09T19:06:52.537Z"
   },
   {
    "duration": 139,
    "start_time": "2023-04-09T19:06:52.541Z"
   },
   {
    "duration": 17,
    "start_time": "2023-04-09T19:06:52.682Z"
   },
   {
    "duration": 44,
    "start_time": "2023-04-09T19:06:52.700Z"
   },
   {
    "duration": 18233,
    "start_time": "2023-04-09T19:06:52.746Z"
   },
   {
    "duration": 118,
    "start_time": "2023-04-09T19:07:10.980Z"
   },
   {
    "duration": 13,
    "start_time": "2023-04-09T19:07:11.099Z"
   },
   {
    "duration": 9,
    "start_time": "2023-04-09T19:07:11.114Z"
   },
   {
    "duration": 17183,
    "start_time": "2023-04-09T19:07:11.126Z"
   },
   {
    "duration": 179,
    "start_time": "2023-04-09T19:07:28.311Z"
   },
   {
    "duration": 14,
    "start_time": "2023-04-09T19:07:28.491Z"
   },
   {
    "duration": 8,
    "start_time": "2023-04-09T19:07:28.506Z"
   },
   {
    "duration": 17458,
    "start_time": "2023-04-09T19:07:28.516Z"
   },
   {
    "duration": 56,
    "start_time": "2023-04-09T19:07:45.976Z"
   },
   {
    "duration": 12,
    "start_time": "2023-04-09T19:07:46.034Z"
   },
   {
    "duration": 32,
    "start_time": "2023-04-09T19:07:46.048Z"
   },
   {
    "duration": 20,
    "start_time": "2023-04-09T19:07:46.083Z"
   },
   {
    "duration": 12,
    "start_time": "2023-04-09T19:07:46.105Z"
   },
   {
    "duration": 6,
    "start_time": "2023-04-09T19:07:46.119Z"
   },
   {
    "duration": 11,
    "start_time": "2023-04-09T19:07:46.126Z"
   },
   {
    "duration": 20,
    "start_time": "2023-04-09T19:07:46.138Z"
   },
   {
    "duration": 11,
    "start_time": "2023-04-09T19:07:46.160Z"
   },
   {
    "duration": 2299,
    "start_time": "2023-04-09T19:07:46.173Z"
   },
   {
    "duration": 102,
    "start_time": "2023-04-09T19:07:48.474Z"
   },
   {
    "duration": 195,
    "start_time": "2023-04-09T19:07:48.578Z"
   },
   {
    "duration": 1706,
    "start_time": "2023-04-09T19:07:48.775Z"
   },
   {
    "duration": 13,
    "start_time": "2023-04-09T19:07:50.571Z"
   },
   {
    "duration": 180,
    "start_time": "2023-04-09T19:07:50.592Z"
   },
   {
    "duration": 1601,
    "start_time": "2023-04-09T19:07:50.774Z"
   },
   {
    "duration": 103,
    "start_time": "2023-04-09T19:07:52.377Z"
   },
   {
    "duration": 93,
    "start_time": "2023-04-09T19:07:52.481Z"
   },
   {
    "duration": 105,
    "start_time": "2023-04-09T19:07:52.579Z"
   },
   {
    "duration": 17,
    "start_time": "2023-04-09T19:07:52.686Z"
   },
   {
    "duration": 18,
    "start_time": "2023-04-09T19:07:52.704Z"
   },
   {
    "duration": 27,
    "start_time": "2023-04-09T19:07:52.724Z"
   },
   {
    "duration": 1106,
    "start_time": "2023-04-09T19:07:52.753Z"
   },
   {
    "duration": 18,
    "start_time": "2023-04-09T19:07:53.860Z"
   },
   {
    "duration": 2,
    "start_time": "2023-04-09T19:07:53.880Z"
   },
   {
    "duration": 1122,
    "start_time": "2023-04-09T19:07:53.883Z"
   },
   {
    "duration": 10,
    "start_time": "2023-04-09T19:07:55.007Z"
   },
   {
    "duration": 1217,
    "start_time": "2023-04-09T19:07:55.019Z"
   },
   {
    "duration": 11,
    "start_time": "2023-04-09T19:07:56.237Z"
   },
   {
    "duration": 17,
    "start_time": "2023-04-09T19:09:19.688Z"
   },
   {
    "duration": 1079,
    "start_time": "2023-04-09T19:09:30.876Z"
   },
   {
    "duration": 1069,
    "start_time": "2023-04-09T19:09:43.135Z"
   },
   {
    "duration": 1057,
    "start_time": "2023-04-09T19:10:03.655Z"
   },
   {
    "duration": 4621,
    "start_time": "2023-04-09T19:13:15.327Z"
   },
   {
    "duration": 2,
    "start_time": "2023-04-09T19:13:19.950Z"
   },
   {
    "duration": 137,
    "start_time": "2023-04-09T19:13:19.953Z"
   },
   {
    "duration": 13,
    "start_time": "2023-04-09T19:13:20.092Z"
   },
   {
    "duration": 13,
    "start_time": "2023-04-09T19:13:20.106Z"
   },
   {
    "duration": 17882,
    "start_time": "2023-04-09T19:13:20.120Z"
   },
   {
    "duration": 115,
    "start_time": "2023-04-09T19:13:38.003Z"
   },
   {
    "duration": 11,
    "start_time": "2023-04-09T19:13:38.120Z"
   },
   {
    "duration": 11,
    "start_time": "2023-04-09T19:13:38.133Z"
   },
   {
    "duration": 17059,
    "start_time": "2023-04-09T19:13:38.146Z"
   },
   {
    "duration": 127,
    "start_time": "2023-04-09T19:13:55.207Z"
   },
   {
    "duration": 13,
    "start_time": "2023-04-09T19:13:55.336Z"
   },
   {
    "duration": 8,
    "start_time": "2023-04-09T19:13:55.351Z"
   },
   {
    "duration": 18353,
    "start_time": "2023-04-09T19:13:55.371Z"
   },
   {
    "duration": 53,
    "start_time": "2023-04-09T19:14:13.726Z"
   },
   {
    "duration": 12,
    "start_time": "2023-04-09T19:14:13.781Z"
   },
   {
    "duration": 10,
    "start_time": "2023-04-09T19:14:13.794Z"
   },
   {
    "duration": 9,
    "start_time": "2023-04-09T19:14:13.805Z"
   },
   {
    "duration": 5,
    "start_time": "2023-04-09T19:14:13.815Z"
   },
   {
    "duration": 7,
    "start_time": "2023-04-09T19:14:13.822Z"
   },
   {
    "duration": 10,
    "start_time": "2023-04-09T19:14:13.831Z"
   },
   {
    "duration": 36,
    "start_time": "2023-04-09T19:14:13.842Z"
   },
   {
    "duration": 5,
    "start_time": "2023-04-09T19:14:13.879Z"
   },
   {
    "duration": 1887,
    "start_time": "2023-04-09T19:14:13.885Z"
   },
   {
    "duration": 107,
    "start_time": "2023-04-09T19:14:15.775Z"
   },
   {
    "duration": 103,
    "start_time": "2023-04-09T19:14:15.971Z"
   },
   {
    "duration": 1603,
    "start_time": "2023-04-09T19:14:16.076Z"
   },
   {
    "duration": 100,
    "start_time": "2023-04-09T19:14:17.683Z"
   },
   {
    "duration": 188,
    "start_time": "2023-04-09T19:14:17.785Z"
   },
   {
    "duration": 2101,
    "start_time": "2023-04-09T19:14:17.975Z"
   },
   {
    "duration": 100,
    "start_time": "2023-04-09T19:14:20.078Z"
   },
   {
    "duration": 101,
    "start_time": "2023-04-09T19:14:20.180Z"
   },
   {
    "duration": 20,
    "start_time": "2023-04-09T19:14:20.372Z"
   },
   {
    "duration": 12,
    "start_time": "2023-04-09T19:14:20.393Z"
   },
   {
    "duration": 13,
    "start_time": "2023-04-09T19:14:20.407Z"
   },
   {
    "duration": 16,
    "start_time": "2023-04-09T19:14:20.422Z"
   },
   {
    "duration": 1076,
    "start_time": "2023-04-09T19:14:20.439Z"
   },
   {
    "duration": 12,
    "start_time": "2023-04-09T19:14:21.517Z"
   },
   {
    "duration": 3,
    "start_time": "2023-04-09T19:14:21.531Z"
   },
   {
    "duration": 1085,
    "start_time": "2023-04-09T19:14:21.535Z"
   },
   {
    "duration": 11,
    "start_time": "2023-04-09T19:14:22.622Z"
   },
   {
    "duration": 1114,
    "start_time": "2023-04-09T19:14:22.635Z"
   },
   {
    "duration": 11,
    "start_time": "2023-04-09T19:14:23.751Z"
   },
   {
    "duration": 15333,
    "start_time": "2023-04-09T20:52:57.853Z"
   },
   {
    "duration": 3,
    "start_time": "2023-04-09T20:53:13.187Z"
   },
   {
    "duration": 360,
    "start_time": "2023-04-09T20:53:13.192Z"
   },
   {
    "duration": 15,
    "start_time": "2023-04-09T20:53:13.554Z"
   },
   {
    "duration": 12,
    "start_time": "2023-04-09T20:53:13.570Z"
   },
   {
    "duration": 18661,
    "start_time": "2023-04-09T20:53:13.584Z"
   },
   {
    "duration": 574,
    "start_time": "2023-04-09T20:53:32.247Z"
   },
   {
    "duration": 13,
    "start_time": "2023-04-09T20:53:32.822Z"
   },
   {
    "duration": 9,
    "start_time": "2023-04-09T20:53:32.836Z"
   },
   {
    "duration": 17436,
    "start_time": "2023-04-09T20:53:32.848Z"
   },
   {
    "duration": 571,
    "start_time": "2023-04-09T20:53:50.285Z"
   },
   {
    "duration": 12,
    "start_time": "2023-04-09T20:53:50.857Z"
   },
   {
    "duration": 8,
    "start_time": "2023-04-09T20:53:50.871Z"
   },
   {
    "duration": 19315,
    "start_time": "2023-04-09T20:53:50.881Z"
   },
   {
    "duration": 108,
    "start_time": "2023-04-09T20:54:10.198Z"
   },
   {
    "duration": 73,
    "start_time": "2023-04-09T20:54:10.307Z"
   },
   {
    "duration": 9,
    "start_time": "2023-04-09T20:54:10.382Z"
   },
   {
    "duration": 12,
    "start_time": "2023-04-09T20:54:10.392Z"
   },
   {
    "duration": 4,
    "start_time": "2023-04-09T20:54:10.406Z"
   },
   {
    "duration": 60,
    "start_time": "2023-04-09T20:54:10.412Z"
   },
   {
    "duration": 3,
    "start_time": "2023-04-09T20:54:10.474Z"
   },
   {
    "duration": 15,
    "start_time": "2023-04-09T20:54:10.478Z"
   },
   {
    "duration": 4,
    "start_time": "2023-04-09T20:54:10.495Z"
   },
   {
    "duration": 1582,
    "start_time": "2023-04-09T20:54:10.501Z"
   },
   {
    "duration": 95,
    "start_time": "2023-04-09T20:54:12.084Z"
   },
   {
    "duration": 191,
    "start_time": "2023-04-09T20:54:12.181Z"
   },
   {
    "duration": 1509,
    "start_time": "2023-04-09T20:54:12.374Z"
   },
   {
    "duration": 190,
    "start_time": "2023-04-09T20:54:13.887Z"
   },
   {
    "duration": 189,
    "start_time": "2023-04-09T20:54:14.084Z"
   },
   {
    "duration": 1503,
    "start_time": "2023-04-09T20:54:14.275Z"
   },
   {
    "duration": 104,
    "start_time": "2023-04-09T20:54:15.781Z"
   },
   {
    "duration": 89,
    "start_time": "2023-04-09T20:54:15.888Z"
   },
   {
    "duration": 113,
    "start_time": "2023-04-09T20:54:15.979Z"
   },
   {
    "duration": 43,
    "start_time": "2023-04-09T20:54:16.094Z"
   },
   {
    "duration": 20,
    "start_time": "2023-04-09T20:54:16.139Z"
   },
   {
    "duration": 26,
    "start_time": "2023-04-09T20:54:16.160Z"
   },
   {
    "duration": 1138,
    "start_time": "2023-04-09T20:54:16.188Z"
   },
   {
    "duration": 10,
    "start_time": "2023-04-09T20:54:17.328Z"
   },
   {
    "duration": 15,
    "start_time": "2023-04-09T20:54:17.339Z"
   },
   {
    "duration": 1130,
    "start_time": "2023-04-09T20:54:17.355Z"
   },
   {
    "duration": 9,
    "start_time": "2023-04-09T20:54:18.487Z"
   },
   {
    "duration": 1136,
    "start_time": "2023-04-09T20:54:18.497Z"
   },
   {
    "duration": 10,
    "start_time": "2023-04-09T20:54:19.634Z"
   },
   {
    "duration": 3920,
    "start_time": "2023-04-09T21:03:47.587Z"
   },
   {
    "duration": 3,
    "start_time": "2023-04-09T21:03:51.508Z"
   },
   {
    "duration": 155,
    "start_time": "2023-04-09T21:03:51.513Z"
   },
   {
    "duration": 16,
    "start_time": "2023-04-09T21:03:51.670Z"
   },
   {
    "duration": 12,
    "start_time": "2023-04-09T21:03:51.688Z"
   },
   {
    "duration": 19653,
    "start_time": "2023-04-09T21:03:51.703Z"
   },
   {
    "duration": 117,
    "start_time": "2023-04-09T21:04:11.358Z"
   },
   {
    "duration": 13,
    "start_time": "2023-04-09T21:04:11.476Z"
   },
   {
    "duration": 8,
    "start_time": "2023-04-09T21:04:11.491Z"
   },
   {
    "duration": 19393,
    "start_time": "2023-04-09T21:04:11.502Z"
   },
   {
    "duration": 275,
    "start_time": "2023-04-09T21:04:30.897Z"
   },
   {
    "duration": 16,
    "start_time": "2023-04-09T21:04:31.174Z"
   },
   {
    "duration": 23,
    "start_time": "2023-04-09T21:04:31.192Z"
   },
   {
    "duration": 19571,
    "start_time": "2023-04-09T21:04:31.217Z"
   },
   {
    "duration": 109,
    "start_time": "2023-04-09T21:04:50.790Z"
   },
   {
    "duration": 15,
    "start_time": "2023-04-09T21:04:50.901Z"
   },
   {
    "duration": 74,
    "start_time": "2023-04-09T21:04:50.917Z"
   },
   {
    "duration": 11,
    "start_time": "2023-04-09T21:04:50.993Z"
   },
   {
    "duration": 6,
    "start_time": "2023-04-09T21:04:51.007Z"
   },
   {
    "duration": 57,
    "start_time": "2023-04-09T21:04:51.015Z"
   },
   {
    "duration": 15,
    "start_time": "2023-04-09T21:04:51.074Z"
   },
   {
    "duration": 22,
    "start_time": "2023-04-09T21:04:51.091Z"
   },
   {
    "duration": 59,
    "start_time": "2023-04-09T21:04:51.115Z"
   },
   {
    "duration": 2305,
    "start_time": "2023-04-09T21:04:51.177Z"
   },
   {
    "duration": 102,
    "start_time": "2023-04-09T21:04:53.485Z"
   },
   {
    "duration": 182,
    "start_time": "2023-04-09T21:04:53.591Z"
   },
   {
    "duration": 2016,
    "start_time": "2023-04-09T21:04:53.775Z"
   },
   {
    "duration": 180,
    "start_time": "2023-04-09T21:04:55.797Z"
   },
   {
    "duration": 98,
    "start_time": "2023-04-09T21:04:55.978Z"
   },
   {
    "duration": 1595,
    "start_time": "2023-04-09T21:04:56.078Z"
   },
   {
    "duration": 102,
    "start_time": "2023-04-09T21:04:57.675Z"
   },
   {
    "duration": 97,
    "start_time": "2023-04-09T21:04:57.783Z"
   },
   {
    "duration": 17,
    "start_time": "2023-04-09T21:04:57.881Z"
   },
   {
    "duration": 85,
    "start_time": "2023-04-09T21:04:57.900Z"
   },
   {
    "duration": 14,
    "start_time": "2023-04-09T21:04:57.987Z"
   },
   {
    "duration": 20,
    "start_time": "2023-04-09T21:04:58.003Z"
   },
   {
    "duration": 1251,
    "start_time": "2023-04-09T21:04:58.025Z"
   },
   {
    "duration": 3,
    "start_time": "2023-04-09T21:04:59.278Z"
   },
   {
    "duration": 1222,
    "start_time": "2023-04-09T21:04:59.283Z"
   },
   {
    "duration": 1247,
    "start_time": "2023-04-09T21:05:00.507Z"
   }
  ],
  "kernelspec": {
   "display_name": "Python 3 (ipykernel)",
   "language": "python",
   "name": "python3"
  },
  "language_info": {
   "codemirror_mode": {
    "name": "ipython",
    "version": 3
   },
   "file_extension": ".py",
   "mimetype": "text/x-python",
   "name": "python",
   "nbconvert_exporter": "python",
   "pygments_lexer": "ipython3",
   "version": "3.10.9"
  },
  "toc": {
   "base_numbering": 1,
   "nav_menu": {},
   "number_sections": true,
   "sideBar": true,
   "skip_h1_title": true,
   "title_cell": "Table of Contents",
   "title_sidebar": "Contents",
   "toc_cell": false,
   "toc_position": {},
   "toc_section_display": true,
   "toc_window_display": true
  }
 },
 "nbformat": 4,
 "nbformat_minor": 2
}
