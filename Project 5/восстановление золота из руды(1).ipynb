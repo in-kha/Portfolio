{
 "cells": [
  {
   "cell_type": "markdown",
   "metadata": {
    "toc": true
   },
   "source": [
    "<h1>Содержание<span class=\"tocSkip\"></span></h1>\n",
    "<div class=\"toc\"><ul class=\"toc-item\"><li><span><a href=\"#Подготовка-данных\" data-toc-modified-id=\"Подготовка-данных-1\"><span class=\"toc-item-num\">1&nbsp;&nbsp;</span>Подготовка данных</a></span></li><li><span><a href=\"#Анализ-данных\" data-toc-modified-id=\"Анализ-данных-2\"><span class=\"toc-item-num\">2&nbsp;&nbsp;</span>Анализ данных</a></span></li><li><span><a href=\"#Модель\" data-toc-modified-id=\"Модель-3\"><span class=\"toc-item-num\">3&nbsp;&nbsp;</span>Модель</a></span></li></ul></div>"
   ]
  },
  {
   "cell_type": "markdown",
   "metadata": {},
   "source": [
    "# Восстановление золота из руды"
   ]
  },
  {
   "cell_type": "markdown",
   "metadata": {},
   "source": [
    "Подготовим прототип модели машинного обучения для компании, которая разрабатывает решения для эффективной работы промышленных предприятий.\n",
    "\n",
    "Модель должна предсказать коэффициент восстановления золота из золотосодержащей руды. Используем данные с параметрами добычи и очистки. \n",
    "\n",
    "Модель поможет оптимизировать производство, чтобы не запускать предприятие с убыточными характеристиками.\n",
    "\n",
    "Нам нужно:\n",
    "\n",
    "1. Подготовить данные;\n",
    "2. Провести исследовательский анализ данных;\n",
    "3. Построить и обучить модель."
   ]
  },
  {
   "cell_type": "markdown",
   "metadata": {},
   "source": [
    "## Подготовка данных"
   ]
  },
  {
   "cell_type": "markdown",
   "metadata": {},
   "source": [
    "1.1. Откроем и изучим файлы"
   ]
  },
  {
   "cell_type": "markdown",
   "metadata": {},
   "source": [
    "Загрузим библиотеки"
   ]
  },
  {
   "cell_type": "code",
   "execution_count": 1,
   "metadata": {},
   "outputs": [],
   "source": [
    "import pandas as pd\n",
    "from sklearn.metrics import mean_absolute_error\n",
    "import seaborn as sns\n",
    "import matplotlib.pyplot as plt\n",
    "import numpy as np\n",
    "from sklearn.linear_model import LinearRegression\n",
    "from sklearn.preprocessing import StandardScaler\n",
    "from sklearn.model_selection import RandomizedSearchCV\n",
    "from sklearn.tree import DecisionTreeRegressor\n",
    "from sklearn.ensemble import RandomForestRegressor\n",
    "import warnings\n",
    "warnings.filterwarnings(\"ignore\")\n",
    "from scipy.stats import randint as sp_randInt\n",
    "from sklearn.metrics import make_scorer\n",
    "from sklearn.model_selection import cross_val_score\n",
    "from sklearn.dummy import DummyRegressor"
   ]
  },
  {
   "cell_type": "code",
   "execution_count": 2,
   "metadata": {},
   "outputs": [],
   "source": [
    "try:\n",
    "    data_train = pd.read_csv('/datasets/gold_recovery_train_new.csv')\n",
    "except:\n",
    "    data_train = pd.read_csv('https://code.s3.yandex.net/datasets/gold_recovery_train_new.csv')"
   ]
  },
  {
   "cell_type": "code",
   "execution_count": 3,
   "metadata": {},
   "outputs": [
    {
     "data": {
      "text/html": [
       "<div>\n",
       "<style scoped>\n",
       "    .dataframe tbody tr th:only-of-type {\n",
       "        vertical-align: middle;\n",
       "    }\n",
       "\n",
       "    .dataframe tbody tr th {\n",
       "        vertical-align: top;\n",
       "    }\n",
       "\n",
       "    .dataframe thead th {\n",
       "        text-align: right;\n",
       "    }\n",
       "</style>\n",
       "<table border=\"1\" class=\"dataframe\">\n",
       "  <thead>\n",
       "    <tr style=\"text-align: right;\">\n",
       "      <th></th>\n",
       "      <th>date</th>\n",
       "      <th>final.output.concentrate_ag</th>\n",
       "      <th>final.output.concentrate_pb</th>\n",
       "      <th>final.output.concentrate_sol</th>\n",
       "      <th>final.output.concentrate_au</th>\n",
       "      <th>final.output.recovery</th>\n",
       "      <th>final.output.tail_ag</th>\n",
       "      <th>final.output.tail_pb</th>\n",
       "      <th>final.output.tail_sol</th>\n",
       "      <th>final.output.tail_au</th>\n",
       "      <th>...</th>\n",
       "      <th>secondary_cleaner.state.floatbank4_a_air</th>\n",
       "      <th>secondary_cleaner.state.floatbank4_a_level</th>\n",
       "      <th>secondary_cleaner.state.floatbank4_b_air</th>\n",
       "      <th>secondary_cleaner.state.floatbank4_b_level</th>\n",
       "      <th>secondary_cleaner.state.floatbank5_a_air</th>\n",
       "      <th>secondary_cleaner.state.floatbank5_a_level</th>\n",
       "      <th>secondary_cleaner.state.floatbank5_b_air</th>\n",
       "      <th>secondary_cleaner.state.floatbank5_b_level</th>\n",
       "      <th>secondary_cleaner.state.floatbank6_a_air</th>\n",
       "      <th>secondary_cleaner.state.floatbank6_a_level</th>\n",
       "    </tr>\n",
       "  </thead>\n",
       "  <tbody>\n",
       "    <tr>\n",
       "      <th>0</th>\n",
       "      <td>2016-01-15 00:00:00</td>\n",
       "      <td>6.055403</td>\n",
       "      <td>9.889648</td>\n",
       "      <td>5.507324</td>\n",
       "      <td>42.192020</td>\n",
       "      <td>70.541216</td>\n",
       "      <td>10.411962</td>\n",
       "      <td>0.895447</td>\n",
       "      <td>16.904297</td>\n",
       "      <td>2.143149</td>\n",
       "      <td>...</td>\n",
       "      <td>14.016835</td>\n",
       "      <td>-502.488007</td>\n",
       "      <td>12.099931</td>\n",
       "      <td>-504.715942</td>\n",
       "      <td>9.925633</td>\n",
       "      <td>-498.310211</td>\n",
       "      <td>8.079666</td>\n",
       "      <td>-500.470978</td>\n",
       "      <td>14.151341</td>\n",
       "      <td>-605.841980</td>\n",
       "    </tr>\n",
       "    <tr>\n",
       "      <th>1</th>\n",
       "      <td>2016-01-15 01:00:00</td>\n",
       "      <td>6.029369</td>\n",
       "      <td>9.968944</td>\n",
       "      <td>5.257781</td>\n",
       "      <td>42.701629</td>\n",
       "      <td>69.266198</td>\n",
       "      <td>10.462676</td>\n",
       "      <td>0.927452</td>\n",
       "      <td>16.634514</td>\n",
       "      <td>2.224930</td>\n",
       "      <td>...</td>\n",
       "      <td>13.992281</td>\n",
       "      <td>-505.503262</td>\n",
       "      <td>11.950531</td>\n",
       "      <td>-501.331529</td>\n",
       "      <td>10.039245</td>\n",
       "      <td>-500.169983</td>\n",
       "      <td>7.984757</td>\n",
       "      <td>-500.582168</td>\n",
       "      <td>13.998353</td>\n",
       "      <td>-599.787184</td>\n",
       "    </tr>\n",
       "    <tr>\n",
       "      <th>2</th>\n",
       "      <td>2016-01-15 02:00:00</td>\n",
       "      <td>6.055926</td>\n",
       "      <td>10.213995</td>\n",
       "      <td>5.383759</td>\n",
       "      <td>42.657501</td>\n",
       "      <td>68.116445</td>\n",
       "      <td>10.507046</td>\n",
       "      <td>0.953716</td>\n",
       "      <td>16.208849</td>\n",
       "      <td>2.257889</td>\n",
       "      <td>...</td>\n",
       "      <td>14.015015</td>\n",
       "      <td>-502.520901</td>\n",
       "      <td>11.912783</td>\n",
       "      <td>-501.133383</td>\n",
       "      <td>10.070913</td>\n",
       "      <td>-500.129135</td>\n",
       "      <td>8.013877</td>\n",
       "      <td>-500.517572</td>\n",
       "      <td>14.028663</td>\n",
       "      <td>-601.427363</td>\n",
       "    </tr>\n",
       "    <tr>\n",
       "      <th>3</th>\n",
       "      <td>2016-01-15 03:00:00</td>\n",
       "      <td>6.047977</td>\n",
       "      <td>9.977019</td>\n",
       "      <td>4.858634</td>\n",
       "      <td>42.689819</td>\n",
       "      <td>68.347543</td>\n",
       "      <td>10.422762</td>\n",
       "      <td>0.883763</td>\n",
       "      <td>16.532835</td>\n",
       "      <td>2.146849</td>\n",
       "      <td>...</td>\n",
       "      <td>14.036510</td>\n",
       "      <td>-500.857308</td>\n",
       "      <td>11.999550</td>\n",
       "      <td>-501.193686</td>\n",
       "      <td>9.970366</td>\n",
       "      <td>-499.201640</td>\n",
       "      <td>7.977324</td>\n",
       "      <td>-500.255908</td>\n",
       "      <td>14.005551</td>\n",
       "      <td>-599.996129</td>\n",
       "    </tr>\n",
       "    <tr>\n",
       "      <th>4</th>\n",
       "      <td>2016-01-15 04:00:00</td>\n",
       "      <td>6.148599</td>\n",
       "      <td>10.142511</td>\n",
       "      <td>4.939416</td>\n",
       "      <td>42.774141</td>\n",
       "      <td>66.927016</td>\n",
       "      <td>10.360302</td>\n",
       "      <td>0.792826</td>\n",
       "      <td>16.525686</td>\n",
       "      <td>2.055292</td>\n",
       "      <td>...</td>\n",
       "      <td>14.027298</td>\n",
       "      <td>-499.838632</td>\n",
       "      <td>11.953070</td>\n",
       "      <td>-501.053894</td>\n",
       "      <td>9.925709</td>\n",
       "      <td>-501.686727</td>\n",
       "      <td>7.894242</td>\n",
       "      <td>-500.356035</td>\n",
       "      <td>13.996647</td>\n",
       "      <td>-601.496691</td>\n",
       "    </tr>\n",
       "    <tr>\n",
       "      <th>5</th>\n",
       "      <td>2016-01-15 05:00:00</td>\n",
       "      <td>6.482968</td>\n",
       "      <td>10.049416</td>\n",
       "      <td>5.480257</td>\n",
       "      <td>41.633678</td>\n",
       "      <td>69.465816</td>\n",
       "      <td>10.182708</td>\n",
       "      <td>0.664118</td>\n",
       "      <td>16.999638</td>\n",
       "      <td>1.918586</td>\n",
       "      <td>...</td>\n",
       "      <td>13.938497</td>\n",
       "      <td>-500.970168</td>\n",
       "      <td>11.883350</td>\n",
       "      <td>-500.395298</td>\n",
       "      <td>10.054147</td>\n",
       "      <td>-496.374715</td>\n",
       "      <td>7.965083</td>\n",
       "      <td>-499.364752</td>\n",
       "      <td>14.017067</td>\n",
       "      <td>-599.707915</td>\n",
       "    </tr>\n",
       "    <tr>\n",
       "      <th>6</th>\n",
       "      <td>2016-01-15 06:00:00</td>\n",
       "      <td>6.533849</td>\n",
       "      <td>10.058141</td>\n",
       "      <td>4.569100</td>\n",
       "      <td>41.995316</td>\n",
       "      <td>69.300835</td>\n",
       "      <td>10.304598</td>\n",
       "      <td>0.807342</td>\n",
       "      <td>16.723575</td>\n",
       "      <td>2.058913</td>\n",
       "      <td>...</td>\n",
       "      <td>14.046819</td>\n",
       "      <td>-500.971133</td>\n",
       "      <td>12.091543</td>\n",
       "      <td>-500.501426</td>\n",
       "      <td>10.003247</td>\n",
       "      <td>-497.083180</td>\n",
       "      <td>8.010890</td>\n",
       "      <td>-500.002423</td>\n",
       "      <td>14.029649</td>\n",
       "      <td>-600.905470</td>\n",
       "    </tr>\n",
       "    <tr>\n",
       "      <th>7</th>\n",
       "      <td>2016-01-15 07:00:00</td>\n",
       "      <td>6.130823</td>\n",
       "      <td>9.935481</td>\n",
       "      <td>4.389813</td>\n",
       "      <td>42.452727</td>\n",
       "      <td>70.230976</td>\n",
       "      <td>10.443288</td>\n",
       "      <td>0.949346</td>\n",
       "      <td>16.689959</td>\n",
       "      <td>2.143437</td>\n",
       "      <td>...</td>\n",
       "      <td>13.974691</td>\n",
       "      <td>-501.819696</td>\n",
       "      <td>12.101324</td>\n",
       "      <td>-500.583446</td>\n",
       "      <td>9.873169</td>\n",
       "      <td>-499.171928</td>\n",
       "      <td>7.993381</td>\n",
       "      <td>-499.794518</td>\n",
       "      <td>13.984498</td>\n",
       "      <td>-600.411070</td>\n",
       "    </tr>\n",
       "    <tr>\n",
       "      <th>8</th>\n",
       "      <td>2016-01-15 08:00:00</td>\n",
       "      <td>5.834140</td>\n",
       "      <td>10.071156</td>\n",
       "      <td>4.876389</td>\n",
       "      <td>43.404078</td>\n",
       "      <td>69.688595</td>\n",
       "      <td>10.420140</td>\n",
       "      <td>1.065453</td>\n",
       "      <td>17.201948</td>\n",
       "      <td>2.209881</td>\n",
       "      <td>...</td>\n",
       "      <td>13.964030</td>\n",
       "      <td>-504.252450</td>\n",
       "      <td>12.060738</td>\n",
       "      <td>-501.174549</td>\n",
       "      <td>10.033838</td>\n",
       "      <td>-501.178133</td>\n",
       "      <td>7.881604</td>\n",
       "      <td>-499.729434</td>\n",
       "      <td>13.967135</td>\n",
       "      <td>-599.061188</td>\n",
       "    </tr>\n",
       "    <tr>\n",
       "      <th>9</th>\n",
       "      <td>2016-01-15 09:00:00</td>\n",
       "      <td>5.687063</td>\n",
       "      <td>9.980404</td>\n",
       "      <td>5.282514</td>\n",
       "      <td>43.235220</td>\n",
       "      <td>70.279619</td>\n",
       "      <td>10.487013</td>\n",
       "      <td>1.159805</td>\n",
       "      <td>17.483979</td>\n",
       "      <td>2.209593</td>\n",
       "      <td>...</td>\n",
       "      <td>13.989632</td>\n",
       "      <td>-503.195299</td>\n",
       "      <td>12.052233</td>\n",
       "      <td>-500.928547</td>\n",
       "      <td>9.962574</td>\n",
       "      <td>-502.986357</td>\n",
       "      <td>7.979219</td>\n",
       "      <td>-500.146835</td>\n",
       "      <td>13.981614</td>\n",
       "      <td>-598.070855</td>\n",
       "    </tr>\n",
       "  </tbody>\n",
       "</table>\n",
       "<p>10 rows × 87 columns</p>\n",
       "</div>"
      ],
      "text/plain": [
       "                  date  final.output.concentrate_ag  \\\n",
       "0  2016-01-15 00:00:00                     6.055403   \n",
       "1  2016-01-15 01:00:00                     6.029369   \n",
       "2  2016-01-15 02:00:00                     6.055926   \n",
       "3  2016-01-15 03:00:00                     6.047977   \n",
       "4  2016-01-15 04:00:00                     6.148599   \n",
       "5  2016-01-15 05:00:00                     6.482968   \n",
       "6  2016-01-15 06:00:00                     6.533849   \n",
       "7  2016-01-15 07:00:00                     6.130823   \n",
       "8  2016-01-15 08:00:00                     5.834140   \n",
       "9  2016-01-15 09:00:00                     5.687063   \n",
       "\n",
       "   final.output.concentrate_pb  final.output.concentrate_sol  \\\n",
       "0                     9.889648                      5.507324   \n",
       "1                     9.968944                      5.257781   \n",
       "2                    10.213995                      5.383759   \n",
       "3                     9.977019                      4.858634   \n",
       "4                    10.142511                      4.939416   \n",
       "5                    10.049416                      5.480257   \n",
       "6                    10.058141                      4.569100   \n",
       "7                     9.935481                      4.389813   \n",
       "8                    10.071156                      4.876389   \n",
       "9                     9.980404                      5.282514   \n",
       "\n",
       "   final.output.concentrate_au  final.output.recovery  final.output.tail_ag  \\\n",
       "0                    42.192020              70.541216             10.411962   \n",
       "1                    42.701629              69.266198             10.462676   \n",
       "2                    42.657501              68.116445             10.507046   \n",
       "3                    42.689819              68.347543             10.422762   \n",
       "4                    42.774141              66.927016             10.360302   \n",
       "5                    41.633678              69.465816             10.182708   \n",
       "6                    41.995316              69.300835             10.304598   \n",
       "7                    42.452727              70.230976             10.443288   \n",
       "8                    43.404078              69.688595             10.420140   \n",
       "9                    43.235220              70.279619             10.487013   \n",
       "\n",
       "   final.output.tail_pb  final.output.tail_sol  final.output.tail_au  ...  \\\n",
       "0              0.895447              16.904297              2.143149  ...   \n",
       "1              0.927452              16.634514              2.224930  ...   \n",
       "2              0.953716              16.208849              2.257889  ...   \n",
       "3              0.883763              16.532835              2.146849  ...   \n",
       "4              0.792826              16.525686              2.055292  ...   \n",
       "5              0.664118              16.999638              1.918586  ...   \n",
       "6              0.807342              16.723575              2.058913  ...   \n",
       "7              0.949346              16.689959              2.143437  ...   \n",
       "8              1.065453              17.201948              2.209881  ...   \n",
       "9              1.159805              17.483979              2.209593  ...   \n",
       "\n",
       "   secondary_cleaner.state.floatbank4_a_air  \\\n",
       "0                                 14.016835   \n",
       "1                                 13.992281   \n",
       "2                                 14.015015   \n",
       "3                                 14.036510   \n",
       "4                                 14.027298   \n",
       "5                                 13.938497   \n",
       "6                                 14.046819   \n",
       "7                                 13.974691   \n",
       "8                                 13.964030   \n",
       "9                                 13.989632   \n",
       "\n",
       "   secondary_cleaner.state.floatbank4_a_level  \\\n",
       "0                                 -502.488007   \n",
       "1                                 -505.503262   \n",
       "2                                 -502.520901   \n",
       "3                                 -500.857308   \n",
       "4                                 -499.838632   \n",
       "5                                 -500.970168   \n",
       "6                                 -500.971133   \n",
       "7                                 -501.819696   \n",
       "8                                 -504.252450   \n",
       "9                                 -503.195299   \n",
       "\n",
       "   secondary_cleaner.state.floatbank4_b_air  \\\n",
       "0                                 12.099931   \n",
       "1                                 11.950531   \n",
       "2                                 11.912783   \n",
       "3                                 11.999550   \n",
       "4                                 11.953070   \n",
       "5                                 11.883350   \n",
       "6                                 12.091543   \n",
       "7                                 12.101324   \n",
       "8                                 12.060738   \n",
       "9                                 12.052233   \n",
       "\n",
       "   secondary_cleaner.state.floatbank4_b_level  \\\n",
       "0                                 -504.715942   \n",
       "1                                 -501.331529   \n",
       "2                                 -501.133383   \n",
       "3                                 -501.193686   \n",
       "4                                 -501.053894   \n",
       "5                                 -500.395298   \n",
       "6                                 -500.501426   \n",
       "7                                 -500.583446   \n",
       "8                                 -501.174549   \n",
       "9                                 -500.928547   \n",
       "\n",
       "   secondary_cleaner.state.floatbank5_a_air  \\\n",
       "0                                  9.925633   \n",
       "1                                 10.039245   \n",
       "2                                 10.070913   \n",
       "3                                  9.970366   \n",
       "4                                  9.925709   \n",
       "5                                 10.054147   \n",
       "6                                 10.003247   \n",
       "7                                  9.873169   \n",
       "8                                 10.033838   \n",
       "9                                  9.962574   \n",
       "\n",
       "   secondary_cleaner.state.floatbank5_a_level  \\\n",
       "0                                 -498.310211   \n",
       "1                                 -500.169983   \n",
       "2                                 -500.129135   \n",
       "3                                 -499.201640   \n",
       "4                                 -501.686727   \n",
       "5                                 -496.374715   \n",
       "6                                 -497.083180   \n",
       "7                                 -499.171928   \n",
       "8                                 -501.178133   \n",
       "9                                 -502.986357   \n",
       "\n",
       "   secondary_cleaner.state.floatbank5_b_air  \\\n",
       "0                                  8.079666   \n",
       "1                                  7.984757   \n",
       "2                                  8.013877   \n",
       "3                                  7.977324   \n",
       "4                                  7.894242   \n",
       "5                                  7.965083   \n",
       "6                                  8.010890   \n",
       "7                                  7.993381   \n",
       "8                                  7.881604   \n",
       "9                                  7.979219   \n",
       "\n",
       "   secondary_cleaner.state.floatbank5_b_level  \\\n",
       "0                                 -500.470978   \n",
       "1                                 -500.582168   \n",
       "2                                 -500.517572   \n",
       "3                                 -500.255908   \n",
       "4                                 -500.356035   \n",
       "5                                 -499.364752   \n",
       "6                                 -500.002423   \n",
       "7                                 -499.794518   \n",
       "8                                 -499.729434   \n",
       "9                                 -500.146835   \n",
       "\n",
       "   secondary_cleaner.state.floatbank6_a_air  \\\n",
       "0                                 14.151341   \n",
       "1                                 13.998353   \n",
       "2                                 14.028663   \n",
       "3                                 14.005551   \n",
       "4                                 13.996647   \n",
       "5                                 14.017067   \n",
       "6                                 14.029649   \n",
       "7                                 13.984498   \n",
       "8                                 13.967135   \n",
       "9                                 13.981614   \n",
       "\n",
       "   secondary_cleaner.state.floatbank6_a_level  \n",
       "0                                 -605.841980  \n",
       "1                                 -599.787184  \n",
       "2                                 -601.427363  \n",
       "3                                 -599.996129  \n",
       "4                                 -601.496691  \n",
       "5                                 -599.707915  \n",
       "6                                 -600.905470  \n",
       "7                                 -600.411070  \n",
       "8                                 -599.061188  \n",
       "9                                 -598.070855  \n",
       "\n",
       "[10 rows x 87 columns]"
      ]
     },
     "execution_count": 3,
     "metadata": {},
     "output_type": "execute_result"
    }
   ],
   "source": [
    "data_train.head(10)"
   ]
  },
  {
   "cell_type": "code",
   "execution_count": 4,
   "metadata": {},
   "outputs": [
    {
     "name": "stdout",
     "output_type": "stream",
     "text": [
      "<class 'pandas.core.frame.DataFrame'>\n",
      "RangeIndex: 14149 entries, 0 to 14148\n",
      "Data columns (total 87 columns):\n",
      " #   Column                                              Non-Null Count  Dtype  \n",
      "---  ------                                              --------------  -----  \n",
      " 0   date                                                14149 non-null  object \n",
      " 1   final.output.concentrate_ag                         14148 non-null  float64\n",
      " 2   final.output.concentrate_pb                         14148 non-null  float64\n",
      " 3   final.output.concentrate_sol                        13938 non-null  float64\n",
      " 4   final.output.concentrate_au                         14149 non-null  float64\n",
      " 5   final.output.recovery                               14149 non-null  float64\n",
      " 6   final.output.tail_ag                                14149 non-null  float64\n",
      " 7   final.output.tail_pb                                14049 non-null  float64\n",
      " 8   final.output.tail_sol                               14144 non-null  float64\n",
      " 9   final.output.tail_au                                14149 non-null  float64\n",
      " 10  primary_cleaner.input.sulfate                       14129 non-null  float64\n",
      " 11  primary_cleaner.input.depressant                    14117 non-null  float64\n",
      " 12  primary_cleaner.input.feed_size                     14149 non-null  float64\n",
      " 13  primary_cleaner.input.xanthate                      14049 non-null  float64\n",
      " 14  primary_cleaner.output.concentrate_ag               14149 non-null  float64\n",
      " 15  primary_cleaner.output.concentrate_pb               14063 non-null  float64\n",
      " 16  primary_cleaner.output.concentrate_sol              13863 non-null  float64\n",
      " 17  primary_cleaner.output.concentrate_au               14149 non-null  float64\n",
      " 18  primary_cleaner.output.tail_ag                      14148 non-null  float64\n",
      " 19  primary_cleaner.output.tail_pb                      14134 non-null  float64\n",
      " 20  primary_cleaner.output.tail_sol                     14103 non-null  float64\n",
      " 21  primary_cleaner.output.tail_au                      14149 non-null  float64\n",
      " 22  primary_cleaner.state.floatbank8_a_air              14145 non-null  float64\n",
      " 23  primary_cleaner.state.floatbank8_a_level            14148 non-null  float64\n",
      " 24  primary_cleaner.state.floatbank8_b_air              14145 non-null  float64\n",
      " 25  primary_cleaner.state.floatbank8_b_level            14148 non-null  float64\n",
      " 26  primary_cleaner.state.floatbank8_c_air              14147 non-null  float64\n",
      " 27  primary_cleaner.state.floatbank8_c_level            14148 non-null  float64\n",
      " 28  primary_cleaner.state.floatbank8_d_air              14146 non-null  float64\n",
      " 29  primary_cleaner.state.floatbank8_d_level            14148 non-null  float64\n",
      " 30  rougher.calculation.sulfate_to_au_concentrate       14148 non-null  float64\n",
      " 31  rougher.calculation.floatbank10_sulfate_to_au_feed  14148 non-null  float64\n",
      " 32  rougher.calculation.floatbank11_sulfate_to_au_feed  14148 non-null  float64\n",
      " 33  rougher.calculation.au_pb_ratio                     14149 non-null  float64\n",
      " 34  rougher.input.feed_ag                               14149 non-null  float64\n",
      " 35  rougher.input.feed_pb                               14049 non-null  float64\n",
      " 36  rougher.input.feed_rate                             14141 non-null  float64\n",
      " 37  rougher.input.feed_size                             14005 non-null  float64\n",
      " 38  rougher.input.feed_sol                              14071 non-null  float64\n",
      " 39  rougher.input.feed_au                               14149 non-null  float64\n",
      " 40  rougher.input.floatbank10_sulfate                   14120 non-null  float64\n",
      " 41  rougher.input.floatbank10_xanthate                  14141 non-null  float64\n",
      " 42  rougher.input.floatbank11_sulfate                   14113 non-null  float64\n",
      " 43  rougher.input.floatbank11_xanthate                  13721 non-null  float64\n",
      " 44  rougher.output.concentrate_ag                       14149 non-null  float64\n",
      " 45  rougher.output.concentrate_pb                       14149 non-null  float64\n",
      " 46  rougher.output.concentrate_sol                      14127 non-null  float64\n",
      " 47  rougher.output.concentrate_au                       14149 non-null  float64\n",
      " 48  rougher.output.recovery                             14149 non-null  float64\n",
      " 49  rougher.output.tail_ag                              14148 non-null  float64\n",
      " 50  rougher.output.tail_pb                              14149 non-null  float64\n",
      " 51  rougher.output.tail_sol                             14149 non-null  float64\n",
      " 52  rougher.output.tail_au                              14149 non-null  float64\n",
      " 53  rougher.state.floatbank10_a_air                     14148 non-null  float64\n",
      " 54  rougher.state.floatbank10_a_level                   14148 non-null  float64\n",
      " 55  rougher.state.floatbank10_b_air                     14148 non-null  float64\n",
      " 56  rougher.state.floatbank10_b_level                   14148 non-null  float64\n",
      " 57  rougher.state.floatbank10_c_air                     14148 non-null  float64\n",
      " 58  rougher.state.floatbank10_c_level                   14148 non-null  float64\n",
      " 59  rougher.state.floatbank10_d_air                     14149 non-null  float64\n",
      " 60  rougher.state.floatbank10_d_level                   14149 non-null  float64\n",
      " 61  rougher.state.floatbank10_e_air                     13713 non-null  float64\n",
      " 62  rougher.state.floatbank10_e_level                   14149 non-null  float64\n",
      " 63  rougher.state.floatbank10_f_air                     14149 non-null  float64\n",
      " 64  rougher.state.floatbank10_f_level                   14149 non-null  float64\n",
      " 65  secondary_cleaner.output.tail_ag                    14147 non-null  float64\n",
      " 66  secondary_cleaner.output.tail_pb                    14139 non-null  float64\n",
      " 67  secondary_cleaner.output.tail_sol                   12544 non-null  float64\n",
      " 68  secondary_cleaner.output.tail_au                    14149 non-null  float64\n",
      " 69  secondary_cleaner.state.floatbank2_a_air            13932 non-null  float64\n",
      " 70  secondary_cleaner.state.floatbank2_a_level          14148 non-null  float64\n",
      " 71  secondary_cleaner.state.floatbank2_b_air            14128 non-null  float64\n",
      " 72  secondary_cleaner.state.floatbank2_b_level          14148 non-null  float64\n",
      " 73  secondary_cleaner.state.floatbank3_a_air            14145 non-null  float64\n",
      " 74  secondary_cleaner.state.floatbank3_a_level          14148 non-null  float64\n",
      " 75  secondary_cleaner.state.floatbank3_b_air            14148 non-null  float64\n",
      " 76  secondary_cleaner.state.floatbank3_b_level          14148 non-null  float64\n",
      " 77  secondary_cleaner.state.floatbank4_a_air            14143 non-null  float64\n",
      " 78  secondary_cleaner.state.floatbank4_a_level          14148 non-null  float64\n",
      " 79  secondary_cleaner.state.floatbank4_b_air            14148 non-null  float64\n",
      " 80  secondary_cleaner.state.floatbank4_b_level          14148 non-null  float64\n",
      " 81  secondary_cleaner.state.floatbank5_a_air            14148 non-null  float64\n",
      " 82  secondary_cleaner.state.floatbank5_a_level          14148 non-null  float64\n",
      " 83  secondary_cleaner.state.floatbank5_b_air            14148 non-null  float64\n",
      " 84  secondary_cleaner.state.floatbank5_b_level          14148 non-null  float64\n",
      " 85  secondary_cleaner.state.floatbank6_a_air            14147 non-null  float64\n",
      " 86  secondary_cleaner.state.floatbank6_a_level          14148 non-null  float64\n",
      "dtypes: float64(86), object(1)\n",
      "memory usage: 9.4+ MB\n"
     ]
    }
   ],
   "source": [
    "data_train.info()"
   ]
  },
  {
   "cell_type": "code",
   "execution_count": 5,
   "metadata": {},
   "outputs": [
    {
     "data": {
      "text/html": [
       "<div>\n",
       "<style scoped>\n",
       "    .dataframe tbody tr th:only-of-type {\n",
       "        vertical-align: middle;\n",
       "    }\n",
       "\n",
       "    .dataframe tbody tr th {\n",
       "        vertical-align: top;\n",
       "    }\n",
       "\n",
       "    .dataframe thead th {\n",
       "        text-align: right;\n",
       "    }\n",
       "</style>\n",
       "<table border=\"1\" class=\"dataframe\">\n",
       "  <thead>\n",
       "    <tr style=\"text-align: right;\">\n",
       "      <th></th>\n",
       "      <th>final.output.concentrate_ag</th>\n",
       "      <th>final.output.concentrate_pb</th>\n",
       "      <th>final.output.concentrate_sol</th>\n",
       "      <th>final.output.concentrate_au</th>\n",
       "      <th>final.output.recovery</th>\n",
       "      <th>final.output.tail_ag</th>\n",
       "      <th>final.output.tail_pb</th>\n",
       "      <th>final.output.tail_sol</th>\n",
       "      <th>final.output.tail_au</th>\n",
       "      <th>primary_cleaner.input.sulfate</th>\n",
       "      <th>...</th>\n",
       "      <th>secondary_cleaner.state.floatbank4_a_air</th>\n",
       "      <th>secondary_cleaner.state.floatbank4_a_level</th>\n",
       "      <th>secondary_cleaner.state.floatbank4_b_air</th>\n",
       "      <th>secondary_cleaner.state.floatbank4_b_level</th>\n",
       "      <th>secondary_cleaner.state.floatbank5_a_air</th>\n",
       "      <th>secondary_cleaner.state.floatbank5_a_level</th>\n",
       "      <th>secondary_cleaner.state.floatbank5_b_air</th>\n",
       "      <th>secondary_cleaner.state.floatbank5_b_level</th>\n",
       "      <th>secondary_cleaner.state.floatbank6_a_air</th>\n",
       "      <th>secondary_cleaner.state.floatbank6_a_level</th>\n",
       "    </tr>\n",
       "  </thead>\n",
       "  <tbody>\n",
       "    <tr>\n",
       "      <th>count</th>\n",
       "      <td>14148.000000</td>\n",
       "      <td>14148.000000</td>\n",
       "      <td>13938.000000</td>\n",
       "      <td>14149.000000</td>\n",
       "      <td>14149.000000</td>\n",
       "      <td>14149.000000</td>\n",
       "      <td>14049.000000</td>\n",
       "      <td>14144.000000</td>\n",
       "      <td>14149.000000</td>\n",
       "      <td>14129.000000</td>\n",
       "      <td>...</td>\n",
       "      <td>14143.000000</td>\n",
       "      <td>14148.000000</td>\n",
       "      <td>14148.000000</td>\n",
       "      <td>14148.000000</td>\n",
       "      <td>14148.000000</td>\n",
       "      <td>14148.000000</td>\n",
       "      <td>14148.000000</td>\n",
       "      <td>14148.000000</td>\n",
       "      <td>14147.000000</td>\n",
       "      <td>14148.000000</td>\n",
       "    </tr>\n",
       "    <tr>\n",
       "      <th>mean</th>\n",
       "      <td>5.142034</td>\n",
       "      <td>10.132960</td>\n",
       "      <td>9.202849</td>\n",
       "      <td>44.003792</td>\n",
       "      <td>66.518832</td>\n",
       "      <td>9.607035</td>\n",
       "      <td>2.597298</td>\n",
       "      <td>10.512122</td>\n",
       "      <td>2.918421</td>\n",
       "      <td>133.320659</td>\n",
       "      <td>...</td>\n",
       "      <td>19.985454</td>\n",
       "      <td>-478.696836</td>\n",
       "      <td>15.487065</td>\n",
       "      <td>-460.229416</td>\n",
       "      <td>16.775136</td>\n",
       "      <td>-483.956022</td>\n",
       "      <td>13.064590</td>\n",
       "      <td>-483.966564</td>\n",
       "      <td>19.577539</td>\n",
       "      <td>-506.798480</td>\n",
       "    </tr>\n",
       "    <tr>\n",
       "      <th>std</th>\n",
       "      <td>1.369586</td>\n",
       "      <td>1.654930</td>\n",
       "      <td>2.790516</td>\n",
       "      <td>4.905261</td>\n",
       "      <td>10.295402</td>\n",
       "      <td>2.319069</td>\n",
       "      <td>0.971843</td>\n",
       "      <td>3.003617</td>\n",
       "      <td>0.903712</td>\n",
       "      <td>39.431659</td>\n",
       "      <td>...</td>\n",
       "      <td>5.657723</td>\n",
       "      <td>50.736021</td>\n",
       "      <td>5.255655</td>\n",
       "      <td>58.843586</td>\n",
       "      <td>5.831906</td>\n",
       "      <td>37.892788</td>\n",
       "      <td>5.765617</td>\n",
       "      <td>39.207913</td>\n",
       "      <td>5.764417</td>\n",
       "      <td>37.079249</td>\n",
       "    </tr>\n",
       "    <tr>\n",
       "      <th>min</th>\n",
       "      <td>0.000000</td>\n",
       "      <td>0.000000</td>\n",
       "      <td>0.000000</td>\n",
       "      <td>0.000000</td>\n",
       "      <td>0.000000</td>\n",
       "      <td>0.000000</td>\n",
       "      <td>0.000000</td>\n",
       "      <td>0.000000</td>\n",
       "      <td>0.000000</td>\n",
       "      <td>0.003112</td>\n",
       "      <td>...</td>\n",
       "      <td>0.000000</td>\n",
       "      <td>-799.709069</td>\n",
       "      <td>0.000000</td>\n",
       "      <td>-799.889113</td>\n",
       "      <td>-0.372054</td>\n",
       "      <td>-797.142475</td>\n",
       "      <td>0.646208</td>\n",
       "      <td>-800.006180</td>\n",
       "      <td>0.195324</td>\n",
       "      <td>-809.398668</td>\n",
       "    </tr>\n",
       "    <tr>\n",
       "      <th>25%</th>\n",
       "      <td>4.211620</td>\n",
       "      <td>9.297355</td>\n",
       "      <td>7.484645</td>\n",
       "      <td>43.276111</td>\n",
       "      <td>62.545817</td>\n",
       "      <td>7.997429</td>\n",
       "      <td>1.905973</td>\n",
       "      <td>8.811324</td>\n",
       "      <td>2.368607</td>\n",
       "      <td>107.006651</td>\n",
       "      <td>...</td>\n",
       "      <td>14.990775</td>\n",
       "      <td>-500.628656</td>\n",
       "      <td>11.894558</td>\n",
       "      <td>-500.149000</td>\n",
       "      <td>11.083980</td>\n",
       "      <td>-500.363177</td>\n",
       "      <td>8.994405</td>\n",
       "      <td>-500.105994</td>\n",
       "      <td>14.989304</td>\n",
       "      <td>-500.745104</td>\n",
       "    </tr>\n",
       "    <tr>\n",
       "      <th>50%</th>\n",
       "      <td>4.994652</td>\n",
       "      <td>10.297144</td>\n",
       "      <td>8.845462</td>\n",
       "      <td>44.872436</td>\n",
       "      <td>67.432775</td>\n",
       "      <td>9.480270</td>\n",
       "      <td>2.592022</td>\n",
       "      <td>10.514621</td>\n",
       "      <td>2.851025</td>\n",
       "      <td>133.018328</td>\n",
       "      <td>...</td>\n",
       "      <td>20.001789</td>\n",
       "      <td>-499.681450</td>\n",
       "      <td>14.975536</td>\n",
       "      <td>-499.388738</td>\n",
       "      <td>17.932223</td>\n",
       "      <td>-499.702452</td>\n",
       "      <td>11.997547</td>\n",
       "      <td>-499.914556</td>\n",
       "      <td>19.984175</td>\n",
       "      <td>-500.061431</td>\n",
       "    </tr>\n",
       "    <tr>\n",
       "      <th>75%</th>\n",
       "      <td>5.859540</td>\n",
       "      <td>11.170603</td>\n",
       "      <td>10.487508</td>\n",
       "      <td>46.166425</td>\n",
       "      <td>72.346428</td>\n",
       "      <td>11.003707</td>\n",
       "      <td>3.241723</td>\n",
       "      <td>11.933009</td>\n",
       "      <td>3.434764</td>\n",
       "      <td>159.825396</td>\n",
       "      <td>...</td>\n",
       "      <td>24.990826</td>\n",
       "      <td>-477.472413</td>\n",
       "      <td>20.059375</td>\n",
       "      <td>-400.039008</td>\n",
       "      <td>21.346550</td>\n",
       "      <td>-487.712108</td>\n",
       "      <td>17.982903</td>\n",
       "      <td>-453.186936</td>\n",
       "      <td>24.991623</td>\n",
       "      <td>-499.536466</td>\n",
       "    </tr>\n",
       "    <tr>\n",
       "      <th>max</th>\n",
       "      <td>16.001945</td>\n",
       "      <td>17.031899</td>\n",
       "      <td>18.124851</td>\n",
       "      <td>52.756638</td>\n",
       "      <td>100.000000</td>\n",
       "      <td>19.552149</td>\n",
       "      <td>5.639565</td>\n",
       "      <td>22.317730</td>\n",
       "      <td>8.197408</td>\n",
       "      <td>250.127834</td>\n",
       "      <td>...</td>\n",
       "      <td>30.115735</td>\n",
       "      <td>-245.239184</td>\n",
       "      <td>24.007913</td>\n",
       "      <td>-145.071088</td>\n",
       "      <td>43.709931</td>\n",
       "      <td>-275.073125</td>\n",
       "      <td>27.926001</td>\n",
       "      <td>-157.396071</td>\n",
       "      <td>32.188906</td>\n",
       "      <td>-104.427459</td>\n",
       "    </tr>\n",
       "  </tbody>\n",
       "</table>\n",
       "<p>8 rows × 86 columns</p>\n",
       "</div>"
      ],
      "text/plain": [
       "       final.output.concentrate_ag  final.output.concentrate_pb  \\\n",
       "count                 14148.000000                 14148.000000   \n",
       "mean                      5.142034                    10.132960   \n",
       "std                       1.369586                     1.654930   \n",
       "min                       0.000000                     0.000000   \n",
       "25%                       4.211620                     9.297355   \n",
       "50%                       4.994652                    10.297144   \n",
       "75%                       5.859540                    11.170603   \n",
       "max                      16.001945                    17.031899   \n",
       "\n",
       "       final.output.concentrate_sol  final.output.concentrate_au  \\\n",
       "count                  13938.000000                 14149.000000   \n",
       "mean                       9.202849                    44.003792   \n",
       "std                        2.790516                     4.905261   \n",
       "min                        0.000000                     0.000000   \n",
       "25%                        7.484645                    43.276111   \n",
       "50%                        8.845462                    44.872436   \n",
       "75%                       10.487508                    46.166425   \n",
       "max                       18.124851                    52.756638   \n",
       "\n",
       "       final.output.recovery  final.output.tail_ag  final.output.tail_pb  \\\n",
       "count           14149.000000          14149.000000          14049.000000   \n",
       "mean               66.518832              9.607035              2.597298   \n",
       "std                10.295402              2.319069              0.971843   \n",
       "min                 0.000000              0.000000              0.000000   \n",
       "25%                62.545817              7.997429              1.905973   \n",
       "50%                67.432775              9.480270              2.592022   \n",
       "75%                72.346428             11.003707              3.241723   \n",
       "max               100.000000             19.552149              5.639565   \n",
       "\n",
       "       final.output.tail_sol  final.output.tail_au  \\\n",
       "count           14144.000000          14149.000000   \n",
       "mean               10.512122              2.918421   \n",
       "std                 3.003617              0.903712   \n",
       "min                 0.000000              0.000000   \n",
       "25%                 8.811324              2.368607   \n",
       "50%                10.514621              2.851025   \n",
       "75%                11.933009              3.434764   \n",
       "max                22.317730              8.197408   \n",
       "\n",
       "       primary_cleaner.input.sulfate  ...  \\\n",
       "count                   14129.000000  ...   \n",
       "mean                      133.320659  ...   \n",
       "std                        39.431659  ...   \n",
       "min                         0.003112  ...   \n",
       "25%                       107.006651  ...   \n",
       "50%                       133.018328  ...   \n",
       "75%                       159.825396  ...   \n",
       "max                       250.127834  ...   \n",
       "\n",
       "       secondary_cleaner.state.floatbank4_a_air  \\\n",
       "count                              14143.000000   \n",
       "mean                                  19.985454   \n",
       "std                                    5.657723   \n",
       "min                                    0.000000   \n",
       "25%                                   14.990775   \n",
       "50%                                   20.001789   \n",
       "75%                                   24.990826   \n",
       "max                                   30.115735   \n",
       "\n",
       "       secondary_cleaner.state.floatbank4_a_level  \\\n",
       "count                                14148.000000   \n",
       "mean                                  -478.696836   \n",
       "std                                     50.736021   \n",
       "min                                   -799.709069   \n",
       "25%                                   -500.628656   \n",
       "50%                                   -499.681450   \n",
       "75%                                   -477.472413   \n",
       "max                                   -245.239184   \n",
       "\n",
       "       secondary_cleaner.state.floatbank4_b_air  \\\n",
       "count                              14148.000000   \n",
       "mean                                  15.487065   \n",
       "std                                    5.255655   \n",
       "min                                    0.000000   \n",
       "25%                                   11.894558   \n",
       "50%                                   14.975536   \n",
       "75%                                   20.059375   \n",
       "max                                   24.007913   \n",
       "\n",
       "       secondary_cleaner.state.floatbank4_b_level  \\\n",
       "count                                14148.000000   \n",
       "mean                                  -460.229416   \n",
       "std                                     58.843586   \n",
       "min                                   -799.889113   \n",
       "25%                                   -500.149000   \n",
       "50%                                   -499.388738   \n",
       "75%                                   -400.039008   \n",
       "max                                   -145.071088   \n",
       "\n",
       "       secondary_cleaner.state.floatbank5_a_air  \\\n",
       "count                              14148.000000   \n",
       "mean                                  16.775136   \n",
       "std                                    5.831906   \n",
       "min                                   -0.372054   \n",
       "25%                                   11.083980   \n",
       "50%                                   17.932223   \n",
       "75%                                   21.346550   \n",
       "max                                   43.709931   \n",
       "\n",
       "       secondary_cleaner.state.floatbank5_a_level  \\\n",
       "count                                14148.000000   \n",
       "mean                                  -483.956022   \n",
       "std                                     37.892788   \n",
       "min                                   -797.142475   \n",
       "25%                                   -500.363177   \n",
       "50%                                   -499.702452   \n",
       "75%                                   -487.712108   \n",
       "max                                   -275.073125   \n",
       "\n",
       "       secondary_cleaner.state.floatbank5_b_air  \\\n",
       "count                              14148.000000   \n",
       "mean                                  13.064590   \n",
       "std                                    5.765617   \n",
       "min                                    0.646208   \n",
       "25%                                    8.994405   \n",
       "50%                                   11.997547   \n",
       "75%                                   17.982903   \n",
       "max                                   27.926001   \n",
       "\n",
       "       secondary_cleaner.state.floatbank5_b_level  \\\n",
       "count                                14148.000000   \n",
       "mean                                  -483.966564   \n",
       "std                                     39.207913   \n",
       "min                                   -800.006180   \n",
       "25%                                   -500.105994   \n",
       "50%                                   -499.914556   \n",
       "75%                                   -453.186936   \n",
       "max                                   -157.396071   \n",
       "\n",
       "       secondary_cleaner.state.floatbank6_a_air  \\\n",
       "count                              14147.000000   \n",
       "mean                                  19.577539   \n",
       "std                                    5.764417   \n",
       "min                                    0.195324   \n",
       "25%                                   14.989304   \n",
       "50%                                   19.984175   \n",
       "75%                                   24.991623   \n",
       "max                                   32.188906   \n",
       "\n",
       "       secondary_cleaner.state.floatbank6_a_level  \n",
       "count                                14148.000000  \n",
       "mean                                  -506.798480  \n",
       "std                                     37.079249  \n",
       "min                                   -809.398668  \n",
       "25%                                   -500.745104  \n",
       "50%                                   -500.061431  \n",
       "75%                                   -499.536466  \n",
       "max                                   -104.427459  \n",
       "\n",
       "[8 rows x 86 columns]"
      ]
     },
     "execution_count": 5,
     "metadata": {},
     "output_type": "execute_result"
    }
   ],
   "source": [
    "data_train.describe()"
   ]
  },
  {
   "cell_type": "code",
   "execution_count": 6,
   "metadata": {},
   "outputs": [
    {
     "data": {
      "text/plain": [
       "date                                            0\n",
       "final.output.concentrate_ag                     1\n",
       "final.output.concentrate_pb                     1\n",
       "final.output.concentrate_sol                  211\n",
       "final.output.concentrate_au                     0\n",
       "                                             ... \n",
       "secondary_cleaner.state.floatbank5_a_level      1\n",
       "secondary_cleaner.state.floatbank5_b_air        1\n",
       "secondary_cleaner.state.floatbank5_b_level      1\n",
       "secondary_cleaner.state.floatbank6_a_air        2\n",
       "secondary_cleaner.state.floatbank6_a_level      1\n",
       "Length: 87, dtype: int64"
      ]
     },
     "execution_count": 6,
     "metadata": {},
     "output_type": "execute_result"
    }
   ],
   "source": [
    "data_train.isna().sum()"
   ]
  },
  {
   "cell_type": "code",
   "execution_count": 7,
   "metadata": {},
   "outputs": [],
   "source": [
    "try:\n",
    "    data_test = pd.read_csv('/datasets/gold_recovery_test_new.csv')\n",
    "except:\n",
    "    data_test = pd.read_csv('https://code.s3.yandex.net/datasets/gold_recovery_test_new.csv')"
   ]
  },
  {
   "cell_type": "code",
   "execution_count": 8,
   "metadata": {},
   "outputs": [
    {
     "data": {
      "text/html": [
       "<div>\n",
       "<style scoped>\n",
       "    .dataframe tbody tr th:only-of-type {\n",
       "        vertical-align: middle;\n",
       "    }\n",
       "\n",
       "    .dataframe tbody tr th {\n",
       "        vertical-align: top;\n",
       "    }\n",
       "\n",
       "    .dataframe thead th {\n",
       "        text-align: right;\n",
       "    }\n",
       "</style>\n",
       "<table border=\"1\" class=\"dataframe\">\n",
       "  <thead>\n",
       "    <tr style=\"text-align: right;\">\n",
       "      <th></th>\n",
       "      <th>date</th>\n",
       "      <th>primary_cleaner.input.sulfate</th>\n",
       "      <th>primary_cleaner.input.depressant</th>\n",
       "      <th>primary_cleaner.input.feed_size</th>\n",
       "      <th>primary_cleaner.input.xanthate</th>\n",
       "      <th>primary_cleaner.state.floatbank8_a_air</th>\n",
       "      <th>primary_cleaner.state.floatbank8_a_level</th>\n",
       "      <th>primary_cleaner.state.floatbank8_b_air</th>\n",
       "      <th>primary_cleaner.state.floatbank8_b_level</th>\n",
       "      <th>primary_cleaner.state.floatbank8_c_air</th>\n",
       "      <th>...</th>\n",
       "      <th>secondary_cleaner.state.floatbank4_a_air</th>\n",
       "      <th>secondary_cleaner.state.floatbank4_a_level</th>\n",
       "      <th>secondary_cleaner.state.floatbank4_b_air</th>\n",
       "      <th>secondary_cleaner.state.floatbank4_b_level</th>\n",
       "      <th>secondary_cleaner.state.floatbank5_a_air</th>\n",
       "      <th>secondary_cleaner.state.floatbank5_a_level</th>\n",
       "      <th>secondary_cleaner.state.floatbank5_b_air</th>\n",
       "      <th>secondary_cleaner.state.floatbank5_b_level</th>\n",
       "      <th>secondary_cleaner.state.floatbank6_a_air</th>\n",
       "      <th>secondary_cleaner.state.floatbank6_a_level</th>\n",
       "    </tr>\n",
       "  </thead>\n",
       "  <tbody>\n",
       "    <tr>\n",
       "      <th>0</th>\n",
       "      <td>2016-09-01 00:59:59</td>\n",
       "      <td>210.800909</td>\n",
       "      <td>14.993118</td>\n",
       "      <td>8.080000</td>\n",
       "      <td>1.005021</td>\n",
       "      <td>1398.981301</td>\n",
       "      <td>-500.225577</td>\n",
       "      <td>1399.144926</td>\n",
       "      <td>-499.919735</td>\n",
       "      <td>1400.102998</td>\n",
       "      <td>...</td>\n",
       "      <td>12.023554</td>\n",
       "      <td>-497.795834</td>\n",
       "      <td>8.016656</td>\n",
       "      <td>-501.289139</td>\n",
       "      <td>7.946562</td>\n",
       "      <td>-432.317850</td>\n",
       "      <td>4.872511</td>\n",
       "      <td>-500.037437</td>\n",
       "      <td>26.705889</td>\n",
       "      <td>-499.709414</td>\n",
       "    </tr>\n",
       "    <tr>\n",
       "      <th>1</th>\n",
       "      <td>2016-09-01 01:59:59</td>\n",
       "      <td>215.392455</td>\n",
       "      <td>14.987471</td>\n",
       "      <td>8.080000</td>\n",
       "      <td>0.990469</td>\n",
       "      <td>1398.777912</td>\n",
       "      <td>-500.057435</td>\n",
       "      <td>1398.055362</td>\n",
       "      <td>-499.778182</td>\n",
       "      <td>1396.151033</td>\n",
       "      <td>...</td>\n",
       "      <td>12.058140</td>\n",
       "      <td>-498.695773</td>\n",
       "      <td>8.130979</td>\n",
       "      <td>-499.634209</td>\n",
       "      <td>7.958270</td>\n",
       "      <td>-525.839648</td>\n",
       "      <td>4.878850</td>\n",
       "      <td>-500.162375</td>\n",
       "      <td>25.019940</td>\n",
       "      <td>-499.819438</td>\n",
       "    </tr>\n",
       "    <tr>\n",
       "      <th>2</th>\n",
       "      <td>2016-09-01 02:59:59</td>\n",
       "      <td>215.259946</td>\n",
       "      <td>12.884934</td>\n",
       "      <td>7.786667</td>\n",
       "      <td>0.996043</td>\n",
       "      <td>1398.493666</td>\n",
       "      <td>-500.868360</td>\n",
       "      <td>1398.860436</td>\n",
       "      <td>-499.764529</td>\n",
       "      <td>1398.075709</td>\n",
       "      <td>...</td>\n",
       "      <td>11.962366</td>\n",
       "      <td>-498.767484</td>\n",
       "      <td>8.096893</td>\n",
       "      <td>-500.827423</td>\n",
       "      <td>8.071056</td>\n",
       "      <td>-500.801673</td>\n",
       "      <td>4.905125</td>\n",
       "      <td>-499.828510</td>\n",
       "      <td>24.994862</td>\n",
       "      <td>-500.622559</td>\n",
       "    </tr>\n",
       "    <tr>\n",
       "      <th>3</th>\n",
       "      <td>2016-09-01 03:59:59</td>\n",
       "      <td>215.336236</td>\n",
       "      <td>12.006805</td>\n",
       "      <td>7.640000</td>\n",
       "      <td>0.863514</td>\n",
       "      <td>1399.618111</td>\n",
       "      <td>-498.863574</td>\n",
       "      <td>1397.440120</td>\n",
       "      <td>-499.211024</td>\n",
       "      <td>1400.129303</td>\n",
       "      <td>...</td>\n",
       "      <td>12.033091</td>\n",
       "      <td>-498.350935</td>\n",
       "      <td>8.074946</td>\n",
       "      <td>-499.474407</td>\n",
       "      <td>7.897085</td>\n",
       "      <td>-500.868509</td>\n",
       "      <td>4.931400</td>\n",
       "      <td>-499.963623</td>\n",
       "      <td>24.948919</td>\n",
       "      <td>-498.709987</td>\n",
       "    </tr>\n",
       "    <tr>\n",
       "      <th>4</th>\n",
       "      <td>2016-09-01 04:59:59</td>\n",
       "      <td>199.099327</td>\n",
       "      <td>10.682530</td>\n",
       "      <td>7.530000</td>\n",
       "      <td>0.805575</td>\n",
       "      <td>1401.268123</td>\n",
       "      <td>-500.808305</td>\n",
       "      <td>1398.128818</td>\n",
       "      <td>-499.504543</td>\n",
       "      <td>1402.172226</td>\n",
       "      <td>...</td>\n",
       "      <td>12.025367</td>\n",
       "      <td>-500.786497</td>\n",
       "      <td>8.054678</td>\n",
       "      <td>-500.397500</td>\n",
       "      <td>8.107890</td>\n",
       "      <td>-509.526725</td>\n",
       "      <td>4.957674</td>\n",
       "      <td>-500.360026</td>\n",
       "      <td>25.003331</td>\n",
       "      <td>-500.856333</td>\n",
       "    </tr>\n",
       "    <tr>\n",
       "      <th>5</th>\n",
       "      <td>2016-09-01 05:59:59</td>\n",
       "      <td>168.485085</td>\n",
       "      <td>8.817007</td>\n",
       "      <td>7.420000</td>\n",
       "      <td>0.791191</td>\n",
       "      <td>1402.826803</td>\n",
       "      <td>-499.299521</td>\n",
       "      <td>1401.511119</td>\n",
       "      <td>-499.205357</td>\n",
       "      <td>1404.088107</td>\n",
       "      <td>...</td>\n",
       "      <td>12.029797</td>\n",
       "      <td>-499.814895</td>\n",
       "      <td>8.036586</td>\n",
       "      <td>-500.371492</td>\n",
       "      <td>8.041446</td>\n",
       "      <td>-510.037054</td>\n",
       "      <td>4.983949</td>\n",
       "      <td>-499.990990</td>\n",
       "      <td>24.978973</td>\n",
       "      <td>-500.475640</td>\n",
       "    </tr>\n",
       "    <tr>\n",
       "      <th>6</th>\n",
       "      <td>2016-09-01 06:59:59</td>\n",
       "      <td>144.133440</td>\n",
       "      <td>7.924610</td>\n",
       "      <td>7.420000</td>\n",
       "      <td>0.788838</td>\n",
       "      <td>1398.252401</td>\n",
       "      <td>-499.748672</td>\n",
       "      <td>1393.255503</td>\n",
       "      <td>-499.195380</td>\n",
       "      <td>1396.738566</td>\n",
       "      <td>...</td>\n",
       "      <td>12.026296</td>\n",
       "      <td>-499.473127</td>\n",
       "      <td>8.027984</td>\n",
       "      <td>-500.983079</td>\n",
       "      <td>7.907340</td>\n",
       "      <td>-507.964971</td>\n",
       "      <td>5.010224</td>\n",
       "      <td>-500.043697</td>\n",
       "      <td>25.040709</td>\n",
       "      <td>-499.501984</td>\n",
       "    </tr>\n",
       "    <tr>\n",
       "      <th>7</th>\n",
       "      <td>2016-09-01 07:59:59</td>\n",
       "      <td>133.513396</td>\n",
       "      <td>8.055252</td>\n",
       "      <td>6.988000</td>\n",
       "      <td>0.801871</td>\n",
       "      <td>1401.669677</td>\n",
       "      <td>-501.777839</td>\n",
       "      <td>1400.754446</td>\n",
       "      <td>-502.514024</td>\n",
       "      <td>1400.465244</td>\n",
       "      <td>...</td>\n",
       "      <td>12.040911</td>\n",
       "      <td>-501.293852</td>\n",
       "      <td>8.020490</td>\n",
       "      <td>-499.185229</td>\n",
       "      <td>8.116897</td>\n",
       "      <td>-511.927561</td>\n",
       "      <td>5.036498</td>\n",
       "      <td>-500.149615</td>\n",
       "      <td>25.032580</td>\n",
       "      <td>-503.970657</td>\n",
       "    </tr>\n",
       "    <tr>\n",
       "      <th>8</th>\n",
       "      <td>2016-09-01 08:59:59</td>\n",
       "      <td>133.735356</td>\n",
       "      <td>7.999618</td>\n",
       "      <td>6.935000</td>\n",
       "      <td>0.789329</td>\n",
       "      <td>1402.358981</td>\n",
       "      <td>-499.981597</td>\n",
       "      <td>1400.985954</td>\n",
       "      <td>-496.802968</td>\n",
       "      <td>1401.168584</td>\n",
       "      <td>...</td>\n",
       "      <td>11.998184</td>\n",
       "      <td>-499.481608</td>\n",
       "      <td>8.012610</td>\n",
       "      <td>-500.896783</td>\n",
       "      <td>7.974422</td>\n",
       "      <td>-521.199104</td>\n",
       "      <td>5.061599</td>\n",
       "      <td>-499.791519</td>\n",
       "      <td>25.005063</td>\n",
       "      <td>-497.613716</td>\n",
       "    </tr>\n",
       "    <tr>\n",
       "      <th>9</th>\n",
       "      <td>2016-09-01 09:59:59</td>\n",
       "      <td>126.961069</td>\n",
       "      <td>8.017856</td>\n",
       "      <td>7.030000</td>\n",
       "      <td>0.805298</td>\n",
       "      <td>1400.816120</td>\n",
       "      <td>-499.014158</td>\n",
       "      <td>1399.975401</td>\n",
       "      <td>-499.570552</td>\n",
       "      <td>1401.871924</td>\n",
       "      <td>...</td>\n",
       "      <td>12.040725</td>\n",
       "      <td>-499.987743</td>\n",
       "      <td>7.989503</td>\n",
       "      <td>-499.750625</td>\n",
       "      <td>7.989710</td>\n",
       "      <td>-509.946737</td>\n",
       "      <td>5.068811</td>\n",
       "      <td>-499.293900</td>\n",
       "      <td>24.992741</td>\n",
       "      <td>-499.272255</td>\n",
       "    </tr>\n",
       "  </tbody>\n",
       "</table>\n",
       "<p>10 rows × 53 columns</p>\n",
       "</div>"
      ],
      "text/plain": [
       "                  date  primary_cleaner.input.sulfate  \\\n",
       "0  2016-09-01 00:59:59                     210.800909   \n",
       "1  2016-09-01 01:59:59                     215.392455   \n",
       "2  2016-09-01 02:59:59                     215.259946   \n",
       "3  2016-09-01 03:59:59                     215.336236   \n",
       "4  2016-09-01 04:59:59                     199.099327   \n",
       "5  2016-09-01 05:59:59                     168.485085   \n",
       "6  2016-09-01 06:59:59                     144.133440   \n",
       "7  2016-09-01 07:59:59                     133.513396   \n",
       "8  2016-09-01 08:59:59                     133.735356   \n",
       "9  2016-09-01 09:59:59                     126.961069   \n",
       "\n",
       "   primary_cleaner.input.depressant  primary_cleaner.input.feed_size  \\\n",
       "0                         14.993118                         8.080000   \n",
       "1                         14.987471                         8.080000   \n",
       "2                         12.884934                         7.786667   \n",
       "3                         12.006805                         7.640000   \n",
       "4                         10.682530                         7.530000   \n",
       "5                          8.817007                         7.420000   \n",
       "6                          7.924610                         7.420000   \n",
       "7                          8.055252                         6.988000   \n",
       "8                          7.999618                         6.935000   \n",
       "9                          8.017856                         7.030000   \n",
       "\n",
       "   primary_cleaner.input.xanthate  primary_cleaner.state.floatbank8_a_air  \\\n",
       "0                        1.005021                             1398.981301   \n",
       "1                        0.990469                             1398.777912   \n",
       "2                        0.996043                             1398.493666   \n",
       "3                        0.863514                             1399.618111   \n",
       "4                        0.805575                             1401.268123   \n",
       "5                        0.791191                             1402.826803   \n",
       "6                        0.788838                             1398.252401   \n",
       "7                        0.801871                             1401.669677   \n",
       "8                        0.789329                             1402.358981   \n",
       "9                        0.805298                             1400.816120   \n",
       "\n",
       "   primary_cleaner.state.floatbank8_a_level  \\\n",
       "0                               -500.225577   \n",
       "1                               -500.057435   \n",
       "2                               -500.868360   \n",
       "3                               -498.863574   \n",
       "4                               -500.808305   \n",
       "5                               -499.299521   \n",
       "6                               -499.748672   \n",
       "7                               -501.777839   \n",
       "8                               -499.981597   \n",
       "9                               -499.014158   \n",
       "\n",
       "   primary_cleaner.state.floatbank8_b_air  \\\n",
       "0                             1399.144926   \n",
       "1                             1398.055362   \n",
       "2                             1398.860436   \n",
       "3                             1397.440120   \n",
       "4                             1398.128818   \n",
       "5                             1401.511119   \n",
       "6                             1393.255503   \n",
       "7                             1400.754446   \n",
       "8                             1400.985954   \n",
       "9                             1399.975401   \n",
       "\n",
       "   primary_cleaner.state.floatbank8_b_level  \\\n",
       "0                               -499.919735   \n",
       "1                               -499.778182   \n",
       "2                               -499.764529   \n",
       "3                               -499.211024   \n",
       "4                               -499.504543   \n",
       "5                               -499.205357   \n",
       "6                               -499.195380   \n",
       "7                               -502.514024   \n",
       "8                               -496.802968   \n",
       "9                               -499.570552   \n",
       "\n",
       "   primary_cleaner.state.floatbank8_c_air  ...  \\\n",
       "0                             1400.102998  ...   \n",
       "1                             1396.151033  ...   \n",
       "2                             1398.075709  ...   \n",
       "3                             1400.129303  ...   \n",
       "4                             1402.172226  ...   \n",
       "5                             1404.088107  ...   \n",
       "6                             1396.738566  ...   \n",
       "7                             1400.465244  ...   \n",
       "8                             1401.168584  ...   \n",
       "9                             1401.871924  ...   \n",
       "\n",
       "   secondary_cleaner.state.floatbank4_a_air  \\\n",
       "0                                 12.023554   \n",
       "1                                 12.058140   \n",
       "2                                 11.962366   \n",
       "3                                 12.033091   \n",
       "4                                 12.025367   \n",
       "5                                 12.029797   \n",
       "6                                 12.026296   \n",
       "7                                 12.040911   \n",
       "8                                 11.998184   \n",
       "9                                 12.040725   \n",
       "\n",
       "   secondary_cleaner.state.floatbank4_a_level  \\\n",
       "0                                 -497.795834   \n",
       "1                                 -498.695773   \n",
       "2                                 -498.767484   \n",
       "3                                 -498.350935   \n",
       "4                                 -500.786497   \n",
       "5                                 -499.814895   \n",
       "6                                 -499.473127   \n",
       "7                                 -501.293852   \n",
       "8                                 -499.481608   \n",
       "9                                 -499.987743   \n",
       "\n",
       "   secondary_cleaner.state.floatbank4_b_air  \\\n",
       "0                                  8.016656   \n",
       "1                                  8.130979   \n",
       "2                                  8.096893   \n",
       "3                                  8.074946   \n",
       "4                                  8.054678   \n",
       "5                                  8.036586   \n",
       "6                                  8.027984   \n",
       "7                                  8.020490   \n",
       "8                                  8.012610   \n",
       "9                                  7.989503   \n",
       "\n",
       "   secondary_cleaner.state.floatbank4_b_level  \\\n",
       "0                                 -501.289139   \n",
       "1                                 -499.634209   \n",
       "2                                 -500.827423   \n",
       "3                                 -499.474407   \n",
       "4                                 -500.397500   \n",
       "5                                 -500.371492   \n",
       "6                                 -500.983079   \n",
       "7                                 -499.185229   \n",
       "8                                 -500.896783   \n",
       "9                                 -499.750625   \n",
       "\n",
       "   secondary_cleaner.state.floatbank5_a_air  \\\n",
       "0                                  7.946562   \n",
       "1                                  7.958270   \n",
       "2                                  8.071056   \n",
       "3                                  7.897085   \n",
       "4                                  8.107890   \n",
       "5                                  8.041446   \n",
       "6                                  7.907340   \n",
       "7                                  8.116897   \n",
       "8                                  7.974422   \n",
       "9                                  7.989710   \n",
       "\n",
       "   secondary_cleaner.state.floatbank5_a_level  \\\n",
       "0                                 -432.317850   \n",
       "1                                 -525.839648   \n",
       "2                                 -500.801673   \n",
       "3                                 -500.868509   \n",
       "4                                 -509.526725   \n",
       "5                                 -510.037054   \n",
       "6                                 -507.964971   \n",
       "7                                 -511.927561   \n",
       "8                                 -521.199104   \n",
       "9                                 -509.946737   \n",
       "\n",
       "   secondary_cleaner.state.floatbank5_b_air  \\\n",
       "0                                  4.872511   \n",
       "1                                  4.878850   \n",
       "2                                  4.905125   \n",
       "3                                  4.931400   \n",
       "4                                  4.957674   \n",
       "5                                  4.983949   \n",
       "6                                  5.010224   \n",
       "7                                  5.036498   \n",
       "8                                  5.061599   \n",
       "9                                  5.068811   \n",
       "\n",
       "   secondary_cleaner.state.floatbank5_b_level  \\\n",
       "0                                 -500.037437   \n",
       "1                                 -500.162375   \n",
       "2                                 -499.828510   \n",
       "3                                 -499.963623   \n",
       "4                                 -500.360026   \n",
       "5                                 -499.990990   \n",
       "6                                 -500.043697   \n",
       "7                                 -500.149615   \n",
       "8                                 -499.791519   \n",
       "9                                 -499.293900   \n",
       "\n",
       "   secondary_cleaner.state.floatbank6_a_air  \\\n",
       "0                                 26.705889   \n",
       "1                                 25.019940   \n",
       "2                                 24.994862   \n",
       "3                                 24.948919   \n",
       "4                                 25.003331   \n",
       "5                                 24.978973   \n",
       "6                                 25.040709   \n",
       "7                                 25.032580   \n",
       "8                                 25.005063   \n",
       "9                                 24.992741   \n",
       "\n",
       "   secondary_cleaner.state.floatbank6_a_level  \n",
       "0                                 -499.709414  \n",
       "1                                 -499.819438  \n",
       "2                                 -500.622559  \n",
       "3                                 -498.709987  \n",
       "4                                 -500.856333  \n",
       "5                                 -500.475640  \n",
       "6                                 -499.501984  \n",
       "7                                 -503.970657  \n",
       "8                                 -497.613716  \n",
       "9                                 -499.272255  \n",
       "\n",
       "[10 rows x 53 columns]"
      ]
     },
     "execution_count": 8,
     "metadata": {},
     "output_type": "execute_result"
    }
   ],
   "source": [
    "data_test.head(10)"
   ]
  },
  {
   "cell_type": "code",
   "execution_count": 9,
   "metadata": {},
   "outputs": [
    {
     "name": "stdout",
     "output_type": "stream",
     "text": [
      "<class 'pandas.core.frame.DataFrame'>\n",
      "RangeIndex: 5290 entries, 0 to 5289\n",
      "Data columns (total 53 columns):\n",
      " #   Column                                      Non-Null Count  Dtype  \n",
      "---  ------                                      --------------  -----  \n",
      " 0   date                                        5290 non-null   object \n",
      " 1   primary_cleaner.input.sulfate               5286 non-null   float64\n",
      " 2   primary_cleaner.input.depressant            5285 non-null   float64\n",
      " 3   primary_cleaner.input.feed_size             5290 non-null   float64\n",
      " 4   primary_cleaner.input.xanthate              5286 non-null   float64\n",
      " 5   primary_cleaner.state.floatbank8_a_air      5290 non-null   float64\n",
      " 6   primary_cleaner.state.floatbank8_a_level    5290 non-null   float64\n",
      " 7   primary_cleaner.state.floatbank8_b_air      5290 non-null   float64\n",
      " 8   primary_cleaner.state.floatbank8_b_level    5290 non-null   float64\n",
      " 9   primary_cleaner.state.floatbank8_c_air      5290 non-null   float64\n",
      " 10  primary_cleaner.state.floatbank8_c_level    5290 non-null   float64\n",
      " 11  primary_cleaner.state.floatbank8_d_air      5290 non-null   float64\n",
      " 12  primary_cleaner.state.floatbank8_d_level    5290 non-null   float64\n",
      " 13  rougher.input.feed_ag                       5290 non-null   float64\n",
      " 14  rougher.input.feed_pb                       5290 non-null   float64\n",
      " 15  rougher.input.feed_rate                     5287 non-null   float64\n",
      " 16  rougher.input.feed_size                     5289 non-null   float64\n",
      " 17  rougher.input.feed_sol                      5269 non-null   float64\n",
      " 18  rougher.input.feed_au                       5290 non-null   float64\n",
      " 19  rougher.input.floatbank10_sulfate           5285 non-null   float64\n",
      " 20  rougher.input.floatbank10_xanthate          5290 non-null   float64\n",
      " 21  rougher.input.floatbank11_sulfate           5282 non-null   float64\n",
      " 22  rougher.input.floatbank11_xanthate          5265 non-null   float64\n",
      " 23  rougher.state.floatbank10_a_air             5290 non-null   float64\n",
      " 24  rougher.state.floatbank10_a_level           5290 non-null   float64\n",
      " 25  rougher.state.floatbank10_b_air             5290 non-null   float64\n",
      " 26  rougher.state.floatbank10_b_level           5290 non-null   float64\n",
      " 27  rougher.state.floatbank10_c_air             5290 non-null   float64\n",
      " 28  rougher.state.floatbank10_c_level           5290 non-null   float64\n",
      " 29  rougher.state.floatbank10_d_air             5290 non-null   float64\n",
      " 30  rougher.state.floatbank10_d_level           5290 non-null   float64\n",
      " 31  rougher.state.floatbank10_e_air             5290 non-null   float64\n",
      " 32  rougher.state.floatbank10_e_level           5290 non-null   float64\n",
      " 33  rougher.state.floatbank10_f_air             5290 non-null   float64\n",
      " 34  rougher.state.floatbank10_f_level           5290 non-null   float64\n",
      " 35  secondary_cleaner.state.floatbank2_a_air    5287 non-null   float64\n",
      " 36  secondary_cleaner.state.floatbank2_a_level  5290 non-null   float64\n",
      " 37  secondary_cleaner.state.floatbank2_b_air    5288 non-null   float64\n",
      " 38  secondary_cleaner.state.floatbank2_b_level  5290 non-null   float64\n",
      " 39  secondary_cleaner.state.floatbank3_a_air    5281 non-null   float64\n",
      " 40  secondary_cleaner.state.floatbank3_a_level  5290 non-null   float64\n",
      " 41  secondary_cleaner.state.floatbank3_b_air    5290 non-null   float64\n",
      " 42  secondary_cleaner.state.floatbank3_b_level  5290 non-null   float64\n",
      " 43  secondary_cleaner.state.floatbank4_a_air    5290 non-null   float64\n",
      " 44  secondary_cleaner.state.floatbank4_a_level  5290 non-null   float64\n",
      " 45  secondary_cleaner.state.floatbank4_b_air    5290 non-null   float64\n",
      " 46  secondary_cleaner.state.floatbank4_b_level  5290 non-null   float64\n",
      " 47  secondary_cleaner.state.floatbank5_a_air    5290 non-null   float64\n",
      " 48  secondary_cleaner.state.floatbank5_a_level  5290 non-null   float64\n",
      " 49  secondary_cleaner.state.floatbank5_b_air    5290 non-null   float64\n",
      " 50  secondary_cleaner.state.floatbank5_b_level  5290 non-null   float64\n",
      " 51  secondary_cleaner.state.floatbank6_a_air    5290 non-null   float64\n",
      " 52  secondary_cleaner.state.floatbank6_a_level  5290 non-null   float64\n",
      "dtypes: float64(52), object(1)\n",
      "memory usage: 2.1+ MB\n"
     ]
    }
   ],
   "source": [
    "data_test.info()"
   ]
  },
  {
   "cell_type": "code",
   "execution_count": 10,
   "metadata": {},
   "outputs": [
    {
     "data": {
      "text/html": [
       "<div>\n",
       "<style scoped>\n",
       "    .dataframe tbody tr th:only-of-type {\n",
       "        vertical-align: middle;\n",
       "    }\n",
       "\n",
       "    .dataframe tbody tr th {\n",
       "        vertical-align: top;\n",
       "    }\n",
       "\n",
       "    .dataframe thead th {\n",
       "        text-align: right;\n",
       "    }\n",
       "</style>\n",
       "<table border=\"1\" class=\"dataframe\">\n",
       "  <thead>\n",
       "    <tr style=\"text-align: right;\">\n",
       "      <th></th>\n",
       "      <th>primary_cleaner.input.sulfate</th>\n",
       "      <th>primary_cleaner.input.depressant</th>\n",
       "      <th>primary_cleaner.input.feed_size</th>\n",
       "      <th>primary_cleaner.input.xanthate</th>\n",
       "      <th>primary_cleaner.state.floatbank8_a_air</th>\n",
       "      <th>primary_cleaner.state.floatbank8_a_level</th>\n",
       "      <th>primary_cleaner.state.floatbank8_b_air</th>\n",
       "      <th>primary_cleaner.state.floatbank8_b_level</th>\n",
       "      <th>primary_cleaner.state.floatbank8_c_air</th>\n",
       "      <th>primary_cleaner.state.floatbank8_c_level</th>\n",
       "      <th>...</th>\n",
       "      <th>secondary_cleaner.state.floatbank4_a_air</th>\n",
       "      <th>secondary_cleaner.state.floatbank4_a_level</th>\n",
       "      <th>secondary_cleaner.state.floatbank4_b_air</th>\n",
       "      <th>secondary_cleaner.state.floatbank4_b_level</th>\n",
       "      <th>secondary_cleaner.state.floatbank5_a_air</th>\n",
       "      <th>secondary_cleaner.state.floatbank5_a_level</th>\n",
       "      <th>secondary_cleaner.state.floatbank5_b_air</th>\n",
       "      <th>secondary_cleaner.state.floatbank5_b_level</th>\n",
       "      <th>secondary_cleaner.state.floatbank6_a_air</th>\n",
       "      <th>secondary_cleaner.state.floatbank6_a_level</th>\n",
       "    </tr>\n",
       "  </thead>\n",
       "  <tbody>\n",
       "    <tr>\n",
       "      <th>count</th>\n",
       "      <td>5286.000000</td>\n",
       "      <td>5285.000000</td>\n",
       "      <td>5290.000000</td>\n",
       "      <td>5286.000000</td>\n",
       "      <td>5.290000e+03</td>\n",
       "      <td>5290.000000</td>\n",
       "      <td>5.290000e+03</td>\n",
       "      <td>5290.000000</td>\n",
       "      <td>5.290000e+03</td>\n",
       "      <td>5290.000000</td>\n",
       "      <td>...</td>\n",
       "      <td>5.290000e+03</td>\n",
       "      <td>5290.000000</td>\n",
       "      <td>5.290000e+03</td>\n",
       "      <td>5290.000000</td>\n",
       "      <td>5290.000000</td>\n",
       "      <td>5290.000000</td>\n",
       "      <td>5290.000000</td>\n",
       "      <td>5290.000000</td>\n",
       "      <td>5290.000000</td>\n",
       "      <td>5290.000000</td>\n",
       "    </tr>\n",
       "    <tr>\n",
       "      <th>mean</th>\n",
       "      <td>174.839652</td>\n",
       "      <td>8.683596</td>\n",
       "      <td>7.266339</td>\n",
       "      <td>1.383803</td>\n",
       "      <td>1.539494e+03</td>\n",
       "      <td>-497.665883</td>\n",
       "      <td>1.545174e+03</td>\n",
       "      <td>-500.273098</td>\n",
       "      <td>1.527272e+03</td>\n",
       "      <td>-498.330680</td>\n",
       "      <td>...</td>\n",
       "      <td>1.632007e+01</td>\n",
       "      <td>-505.144570</td>\n",
       "      <td>1.373544e+01</td>\n",
       "      <td>-463.349858</td>\n",
       "      <td>12.804186</td>\n",
       "      <td>-501.329122</td>\n",
       "      <td>9.881145</td>\n",
       "      <td>-495.663398</td>\n",
       "      <td>17.304935</td>\n",
       "      <td>-501.793193</td>\n",
       "    </tr>\n",
       "    <tr>\n",
       "      <th>std</th>\n",
       "      <td>43.027080</td>\n",
       "      <td>3.072050</td>\n",
       "      <td>0.610219</td>\n",
       "      <td>0.643474</td>\n",
       "      <td>1.167979e+02</td>\n",
       "      <td>19.952431</td>\n",
       "      <td>1.222246e+02</td>\n",
       "      <td>32.968307</td>\n",
       "      <td>1.225380e+02</td>\n",
       "      <td>21.964876</td>\n",
       "      <td>...</td>\n",
       "      <td>3.493583e+00</td>\n",
       "      <td>31.427337</td>\n",
       "      <td>3.430484e+00</td>\n",
       "      <td>86.189107</td>\n",
       "      <td>3.026591</td>\n",
       "      <td>17.951495</td>\n",
       "      <td>2.868205</td>\n",
       "      <td>34.535007</td>\n",
       "      <td>4.536544</td>\n",
       "      <td>39.044215</td>\n",
       "    </tr>\n",
       "    <tr>\n",
       "      <th>min</th>\n",
       "      <td>2.566156</td>\n",
       "      <td>0.003839</td>\n",
       "      <td>5.650000</td>\n",
       "      <td>0.004984</td>\n",
       "      <td>5.445860e-32</td>\n",
       "      <td>-795.316337</td>\n",
       "      <td>6.647490e-32</td>\n",
       "      <td>-799.997015</td>\n",
       "      <td>4.033736e-32</td>\n",
       "      <td>-799.960571</td>\n",
       "      <td>...</td>\n",
       "      <td>1.079872e-16</td>\n",
       "      <td>-799.798523</td>\n",
       "      <td>2.489718e-17</td>\n",
       "      <td>-800.836914</td>\n",
       "      <td>0.069227</td>\n",
       "      <td>-797.323986</td>\n",
       "      <td>0.528083</td>\n",
       "      <td>-800.220337</td>\n",
       "      <td>-0.079426</td>\n",
       "      <td>-809.741464</td>\n",
       "    </tr>\n",
       "    <tr>\n",
       "      <th>25%</th>\n",
       "      <td>147.121401</td>\n",
       "      <td>6.489555</td>\n",
       "      <td>6.890000</td>\n",
       "      <td>0.907623</td>\n",
       "      <td>1.498936e+03</td>\n",
       "      <td>-500.357298</td>\n",
       "      <td>1.498971e+03</td>\n",
       "      <td>-500.703002</td>\n",
       "      <td>1.473230e+03</td>\n",
       "      <td>-501.018117</td>\n",
       "      <td>...</td>\n",
       "      <td>1.403618e+01</td>\n",
       "      <td>-500.868258</td>\n",
       "      <td>1.202862e+01</td>\n",
       "      <td>-500.323028</td>\n",
       "      <td>10.914838</td>\n",
       "      <td>-500.726841</td>\n",
       "      <td>8.036719</td>\n",
       "      <td>-500.194668</td>\n",
       "      <td>13.997317</td>\n",
       "      <td>-500.690984</td>\n",
       "    </tr>\n",
       "    <tr>\n",
       "      <th>50%</th>\n",
       "      <td>177.828489</td>\n",
       "      <td>8.052207</td>\n",
       "      <td>7.250000</td>\n",
       "      <td>1.197610</td>\n",
       "      <td>1.585129e+03</td>\n",
       "      <td>-499.969164</td>\n",
       "      <td>1.595622e+03</td>\n",
       "      <td>-500.028514</td>\n",
       "      <td>1.549595e+03</td>\n",
       "      <td>-500.017711</td>\n",
       "      <td>...</td>\n",
       "      <td>1.700847e+01</td>\n",
       "      <td>-500.115727</td>\n",
       "      <td>1.496486e+01</td>\n",
       "      <td>-499.576513</td>\n",
       "      <td>12.954182</td>\n",
       "      <td>-499.990332</td>\n",
       "      <td>10.004301</td>\n",
       "      <td>-499.990535</td>\n",
       "      <td>16.014935</td>\n",
       "      <td>-500.007126</td>\n",
       "    </tr>\n",
       "    <tr>\n",
       "      <th>75%</th>\n",
       "      <td>208.125438</td>\n",
       "      <td>10.027764</td>\n",
       "      <td>7.600000</td>\n",
       "      <td>1.797819</td>\n",
       "      <td>1.602077e+03</td>\n",
       "      <td>-499.568951</td>\n",
       "      <td>1.602324e+03</td>\n",
       "      <td>-499.293257</td>\n",
       "      <td>1.601144e+03</td>\n",
       "      <td>-498.994130</td>\n",
       "      <td>...</td>\n",
       "      <td>1.803862e+01</td>\n",
       "      <td>-499.404224</td>\n",
       "      <td>1.596213e+01</td>\n",
       "      <td>-400.933805</td>\n",
       "      <td>15.097528</td>\n",
       "      <td>-499.283191</td>\n",
       "      <td>11.997467</td>\n",
       "      <td>-499.719913</td>\n",
       "      <td>21.020013</td>\n",
       "      <td>-499.373018</td>\n",
       "    </tr>\n",
       "    <tr>\n",
       "      <th>max</th>\n",
       "      <td>265.983123</td>\n",
       "      <td>40.000000</td>\n",
       "      <td>15.500000</td>\n",
       "      <td>4.102454</td>\n",
       "      <td>2.103104e+03</td>\n",
       "      <td>-57.195404</td>\n",
       "      <td>1.813084e+03</td>\n",
       "      <td>-142.527229</td>\n",
       "      <td>1.715054e+03</td>\n",
       "      <td>-150.937035</td>\n",
       "      <td>...</td>\n",
       "      <td>3.005180e+01</td>\n",
       "      <td>-401.565212</td>\n",
       "      <td>3.126971e+01</td>\n",
       "      <td>-6.506986</td>\n",
       "      <td>25.258848</td>\n",
       "      <td>-244.483566</td>\n",
       "      <td>14.086866</td>\n",
       "      <td>-137.740004</td>\n",
       "      <td>26.705889</td>\n",
       "      <td>-123.307487</td>\n",
       "    </tr>\n",
       "  </tbody>\n",
       "</table>\n",
       "<p>8 rows × 52 columns</p>\n",
       "</div>"
      ],
      "text/plain": [
       "       primary_cleaner.input.sulfate  primary_cleaner.input.depressant  \\\n",
       "count                    5286.000000                       5285.000000   \n",
       "mean                      174.839652                          8.683596   \n",
       "std                        43.027080                          3.072050   \n",
       "min                         2.566156                          0.003839   \n",
       "25%                       147.121401                          6.489555   \n",
       "50%                       177.828489                          8.052207   \n",
       "75%                       208.125438                         10.027764   \n",
       "max                       265.983123                         40.000000   \n",
       "\n",
       "       primary_cleaner.input.feed_size  primary_cleaner.input.xanthate  \\\n",
       "count                      5290.000000                     5286.000000   \n",
       "mean                          7.266339                        1.383803   \n",
       "std                           0.610219                        0.643474   \n",
       "min                           5.650000                        0.004984   \n",
       "25%                           6.890000                        0.907623   \n",
       "50%                           7.250000                        1.197610   \n",
       "75%                           7.600000                        1.797819   \n",
       "max                          15.500000                        4.102454   \n",
       "\n",
       "       primary_cleaner.state.floatbank8_a_air  \\\n",
       "count                            5.290000e+03   \n",
       "mean                             1.539494e+03   \n",
       "std                              1.167979e+02   \n",
       "min                              5.445860e-32   \n",
       "25%                              1.498936e+03   \n",
       "50%                              1.585129e+03   \n",
       "75%                              1.602077e+03   \n",
       "max                              2.103104e+03   \n",
       "\n",
       "       primary_cleaner.state.floatbank8_a_level  \\\n",
       "count                               5290.000000   \n",
       "mean                                -497.665883   \n",
       "std                                   19.952431   \n",
       "min                                 -795.316337   \n",
       "25%                                 -500.357298   \n",
       "50%                                 -499.969164   \n",
       "75%                                 -499.568951   \n",
       "max                                  -57.195404   \n",
       "\n",
       "       primary_cleaner.state.floatbank8_b_air  \\\n",
       "count                            5.290000e+03   \n",
       "mean                             1.545174e+03   \n",
       "std                              1.222246e+02   \n",
       "min                              6.647490e-32   \n",
       "25%                              1.498971e+03   \n",
       "50%                              1.595622e+03   \n",
       "75%                              1.602324e+03   \n",
       "max                              1.813084e+03   \n",
       "\n",
       "       primary_cleaner.state.floatbank8_b_level  \\\n",
       "count                               5290.000000   \n",
       "mean                                -500.273098   \n",
       "std                                   32.968307   \n",
       "min                                 -799.997015   \n",
       "25%                                 -500.703002   \n",
       "50%                                 -500.028514   \n",
       "75%                                 -499.293257   \n",
       "max                                 -142.527229   \n",
       "\n",
       "       primary_cleaner.state.floatbank8_c_air  \\\n",
       "count                            5.290000e+03   \n",
       "mean                             1.527272e+03   \n",
       "std                              1.225380e+02   \n",
       "min                              4.033736e-32   \n",
       "25%                              1.473230e+03   \n",
       "50%                              1.549595e+03   \n",
       "75%                              1.601144e+03   \n",
       "max                              1.715054e+03   \n",
       "\n",
       "       primary_cleaner.state.floatbank8_c_level  ...  \\\n",
       "count                               5290.000000  ...   \n",
       "mean                                -498.330680  ...   \n",
       "std                                   21.964876  ...   \n",
       "min                                 -799.960571  ...   \n",
       "25%                                 -501.018117  ...   \n",
       "50%                                 -500.017711  ...   \n",
       "75%                                 -498.994130  ...   \n",
       "max                                 -150.937035  ...   \n",
       "\n",
       "       secondary_cleaner.state.floatbank4_a_air  \\\n",
       "count                              5.290000e+03   \n",
       "mean                               1.632007e+01   \n",
       "std                                3.493583e+00   \n",
       "min                                1.079872e-16   \n",
       "25%                                1.403618e+01   \n",
       "50%                                1.700847e+01   \n",
       "75%                                1.803862e+01   \n",
       "max                                3.005180e+01   \n",
       "\n",
       "       secondary_cleaner.state.floatbank4_a_level  \\\n",
       "count                                 5290.000000   \n",
       "mean                                  -505.144570   \n",
       "std                                     31.427337   \n",
       "min                                   -799.798523   \n",
       "25%                                   -500.868258   \n",
       "50%                                   -500.115727   \n",
       "75%                                   -499.404224   \n",
       "max                                   -401.565212   \n",
       "\n",
       "       secondary_cleaner.state.floatbank4_b_air  \\\n",
       "count                              5.290000e+03   \n",
       "mean                               1.373544e+01   \n",
       "std                                3.430484e+00   \n",
       "min                                2.489718e-17   \n",
       "25%                                1.202862e+01   \n",
       "50%                                1.496486e+01   \n",
       "75%                                1.596213e+01   \n",
       "max                                3.126971e+01   \n",
       "\n",
       "       secondary_cleaner.state.floatbank4_b_level  \\\n",
       "count                                 5290.000000   \n",
       "mean                                  -463.349858   \n",
       "std                                     86.189107   \n",
       "min                                   -800.836914   \n",
       "25%                                   -500.323028   \n",
       "50%                                   -499.576513   \n",
       "75%                                   -400.933805   \n",
       "max                                     -6.506986   \n",
       "\n",
       "       secondary_cleaner.state.floatbank5_a_air  \\\n",
       "count                               5290.000000   \n",
       "mean                                  12.804186   \n",
       "std                                    3.026591   \n",
       "min                                    0.069227   \n",
       "25%                                   10.914838   \n",
       "50%                                   12.954182   \n",
       "75%                                   15.097528   \n",
       "max                                   25.258848   \n",
       "\n",
       "       secondary_cleaner.state.floatbank5_a_level  \\\n",
       "count                                 5290.000000   \n",
       "mean                                  -501.329122   \n",
       "std                                     17.951495   \n",
       "min                                   -797.323986   \n",
       "25%                                   -500.726841   \n",
       "50%                                   -499.990332   \n",
       "75%                                   -499.283191   \n",
       "max                                   -244.483566   \n",
       "\n",
       "       secondary_cleaner.state.floatbank5_b_air  \\\n",
       "count                               5290.000000   \n",
       "mean                                   9.881145   \n",
       "std                                    2.868205   \n",
       "min                                    0.528083   \n",
       "25%                                    8.036719   \n",
       "50%                                   10.004301   \n",
       "75%                                   11.997467   \n",
       "max                                   14.086866   \n",
       "\n",
       "       secondary_cleaner.state.floatbank5_b_level  \\\n",
       "count                                 5290.000000   \n",
       "mean                                  -495.663398   \n",
       "std                                     34.535007   \n",
       "min                                   -800.220337   \n",
       "25%                                   -500.194668   \n",
       "50%                                   -499.990535   \n",
       "75%                                   -499.719913   \n",
       "max                                   -137.740004   \n",
       "\n",
       "       secondary_cleaner.state.floatbank6_a_air  \\\n",
       "count                               5290.000000   \n",
       "mean                                  17.304935   \n",
       "std                                    4.536544   \n",
       "min                                   -0.079426   \n",
       "25%                                   13.997317   \n",
       "50%                                   16.014935   \n",
       "75%                                   21.020013   \n",
       "max                                   26.705889   \n",
       "\n",
       "       secondary_cleaner.state.floatbank6_a_level  \n",
       "count                                 5290.000000  \n",
       "mean                                  -501.793193  \n",
       "std                                     39.044215  \n",
       "min                                   -809.741464  \n",
       "25%                                   -500.690984  \n",
       "50%                                   -500.007126  \n",
       "75%                                   -499.373018  \n",
       "max                                   -123.307487  \n",
       "\n",
       "[8 rows x 52 columns]"
      ]
     },
     "execution_count": 10,
     "metadata": {},
     "output_type": "execute_result"
    }
   ],
   "source": [
    "data_test.describe()"
   ]
  },
  {
   "cell_type": "code",
   "execution_count": 11,
   "metadata": {},
   "outputs": [
    {
     "data": {
      "text/plain": [
       "date                                           0\n",
       "primary_cleaner.input.sulfate                  4\n",
       "primary_cleaner.input.depressant               5\n",
       "primary_cleaner.input.feed_size                0\n",
       "primary_cleaner.input.xanthate                 4\n",
       "primary_cleaner.state.floatbank8_a_air         0\n",
       "primary_cleaner.state.floatbank8_a_level       0\n",
       "primary_cleaner.state.floatbank8_b_air         0\n",
       "primary_cleaner.state.floatbank8_b_level       0\n",
       "primary_cleaner.state.floatbank8_c_air         0\n",
       "primary_cleaner.state.floatbank8_c_level       0\n",
       "primary_cleaner.state.floatbank8_d_air         0\n",
       "primary_cleaner.state.floatbank8_d_level       0\n",
       "rougher.input.feed_ag                          0\n",
       "rougher.input.feed_pb                          0\n",
       "rougher.input.feed_rate                        3\n",
       "rougher.input.feed_size                        1\n",
       "rougher.input.feed_sol                        21\n",
       "rougher.input.feed_au                          0\n",
       "rougher.input.floatbank10_sulfate              5\n",
       "rougher.input.floatbank10_xanthate             0\n",
       "rougher.input.floatbank11_sulfate              8\n",
       "rougher.input.floatbank11_xanthate            25\n",
       "rougher.state.floatbank10_a_air                0\n",
       "rougher.state.floatbank10_a_level              0\n",
       "rougher.state.floatbank10_b_air                0\n",
       "rougher.state.floatbank10_b_level              0\n",
       "rougher.state.floatbank10_c_air                0\n",
       "rougher.state.floatbank10_c_level              0\n",
       "rougher.state.floatbank10_d_air                0\n",
       "rougher.state.floatbank10_d_level              0\n",
       "rougher.state.floatbank10_e_air                0\n",
       "rougher.state.floatbank10_e_level              0\n",
       "rougher.state.floatbank10_f_air                0\n",
       "rougher.state.floatbank10_f_level              0\n",
       "secondary_cleaner.state.floatbank2_a_air       3\n",
       "secondary_cleaner.state.floatbank2_a_level     0\n",
       "secondary_cleaner.state.floatbank2_b_air       2\n",
       "secondary_cleaner.state.floatbank2_b_level     0\n",
       "secondary_cleaner.state.floatbank3_a_air       9\n",
       "secondary_cleaner.state.floatbank3_a_level     0\n",
       "secondary_cleaner.state.floatbank3_b_air       0\n",
       "secondary_cleaner.state.floatbank3_b_level     0\n",
       "secondary_cleaner.state.floatbank4_a_air       0\n",
       "secondary_cleaner.state.floatbank4_a_level     0\n",
       "secondary_cleaner.state.floatbank4_b_air       0\n",
       "secondary_cleaner.state.floatbank4_b_level     0\n",
       "secondary_cleaner.state.floatbank5_a_air       0\n",
       "secondary_cleaner.state.floatbank5_a_level     0\n",
       "secondary_cleaner.state.floatbank5_b_air       0\n",
       "secondary_cleaner.state.floatbank5_b_level     0\n",
       "secondary_cleaner.state.floatbank6_a_air       0\n",
       "secondary_cleaner.state.floatbank6_a_level     0\n",
       "dtype: int64"
      ]
     },
     "execution_count": 11,
     "metadata": {},
     "output_type": "execute_result"
    }
   ],
   "source": [
    "data_test.isna().sum()"
   ]
  },
  {
   "cell_type": "code",
   "execution_count": 12,
   "metadata": {},
   "outputs": [],
   "source": [
    "try:\n",
    "    data_full = pd.read_csv('/datasets/gold_recovery_full_new.csv')\n",
    "except:\n",
    "    data_full = pd.read_csv('https://code.s3.yandex.net/datasets/gold_recovery_full_new.csv')"
   ]
  },
  {
   "cell_type": "code",
   "execution_count": 13,
   "metadata": {},
   "outputs": [
    {
     "data": {
      "text/html": [
       "<div>\n",
       "<style scoped>\n",
       "    .dataframe tbody tr th:only-of-type {\n",
       "        vertical-align: middle;\n",
       "    }\n",
       "\n",
       "    .dataframe tbody tr th {\n",
       "        vertical-align: top;\n",
       "    }\n",
       "\n",
       "    .dataframe thead th {\n",
       "        text-align: right;\n",
       "    }\n",
       "</style>\n",
       "<table border=\"1\" class=\"dataframe\">\n",
       "  <thead>\n",
       "    <tr style=\"text-align: right;\">\n",
       "      <th></th>\n",
       "      <th>date</th>\n",
       "      <th>final.output.concentrate_ag</th>\n",
       "      <th>final.output.concentrate_pb</th>\n",
       "      <th>final.output.concentrate_sol</th>\n",
       "      <th>final.output.concentrate_au</th>\n",
       "      <th>final.output.recovery</th>\n",
       "      <th>final.output.tail_ag</th>\n",
       "      <th>final.output.tail_pb</th>\n",
       "      <th>final.output.tail_sol</th>\n",
       "      <th>final.output.tail_au</th>\n",
       "      <th>...</th>\n",
       "      <th>secondary_cleaner.state.floatbank4_a_air</th>\n",
       "      <th>secondary_cleaner.state.floatbank4_a_level</th>\n",
       "      <th>secondary_cleaner.state.floatbank4_b_air</th>\n",
       "      <th>secondary_cleaner.state.floatbank4_b_level</th>\n",
       "      <th>secondary_cleaner.state.floatbank5_a_air</th>\n",
       "      <th>secondary_cleaner.state.floatbank5_a_level</th>\n",
       "      <th>secondary_cleaner.state.floatbank5_b_air</th>\n",
       "      <th>secondary_cleaner.state.floatbank5_b_level</th>\n",
       "      <th>secondary_cleaner.state.floatbank6_a_air</th>\n",
       "      <th>secondary_cleaner.state.floatbank6_a_level</th>\n",
       "    </tr>\n",
       "  </thead>\n",
       "  <tbody>\n",
       "    <tr>\n",
       "      <th>0</th>\n",
       "      <td>2016-01-15 00:00:00</td>\n",
       "      <td>6.055403</td>\n",
       "      <td>9.889648</td>\n",
       "      <td>5.507324</td>\n",
       "      <td>42.192020</td>\n",
       "      <td>70.541216</td>\n",
       "      <td>10.411962</td>\n",
       "      <td>0.895447</td>\n",
       "      <td>16.904297</td>\n",
       "      <td>2.143149</td>\n",
       "      <td>...</td>\n",
       "      <td>14.016835</td>\n",
       "      <td>-502.488007</td>\n",
       "      <td>12.099931</td>\n",
       "      <td>-504.715942</td>\n",
       "      <td>9.925633</td>\n",
       "      <td>-498.310211</td>\n",
       "      <td>8.079666</td>\n",
       "      <td>-500.470978</td>\n",
       "      <td>14.151341</td>\n",
       "      <td>-605.841980</td>\n",
       "    </tr>\n",
       "    <tr>\n",
       "      <th>1</th>\n",
       "      <td>2016-01-15 01:00:00</td>\n",
       "      <td>6.029369</td>\n",
       "      <td>9.968944</td>\n",
       "      <td>5.257781</td>\n",
       "      <td>42.701629</td>\n",
       "      <td>69.266198</td>\n",
       "      <td>10.462676</td>\n",
       "      <td>0.927452</td>\n",
       "      <td>16.634514</td>\n",
       "      <td>2.224930</td>\n",
       "      <td>...</td>\n",
       "      <td>13.992281</td>\n",
       "      <td>-505.503262</td>\n",
       "      <td>11.950531</td>\n",
       "      <td>-501.331529</td>\n",
       "      <td>10.039245</td>\n",
       "      <td>-500.169983</td>\n",
       "      <td>7.984757</td>\n",
       "      <td>-500.582168</td>\n",
       "      <td>13.998353</td>\n",
       "      <td>-599.787184</td>\n",
       "    </tr>\n",
       "    <tr>\n",
       "      <th>2</th>\n",
       "      <td>2016-01-15 02:00:00</td>\n",
       "      <td>6.055926</td>\n",
       "      <td>10.213995</td>\n",
       "      <td>5.383759</td>\n",
       "      <td>42.657501</td>\n",
       "      <td>68.116445</td>\n",
       "      <td>10.507046</td>\n",
       "      <td>0.953716</td>\n",
       "      <td>16.208849</td>\n",
       "      <td>2.257889</td>\n",
       "      <td>...</td>\n",
       "      <td>14.015015</td>\n",
       "      <td>-502.520901</td>\n",
       "      <td>11.912783</td>\n",
       "      <td>-501.133383</td>\n",
       "      <td>10.070913</td>\n",
       "      <td>-500.129135</td>\n",
       "      <td>8.013877</td>\n",
       "      <td>-500.517572</td>\n",
       "      <td>14.028663</td>\n",
       "      <td>-601.427363</td>\n",
       "    </tr>\n",
       "    <tr>\n",
       "      <th>3</th>\n",
       "      <td>2016-01-15 03:00:00</td>\n",
       "      <td>6.047977</td>\n",
       "      <td>9.977019</td>\n",
       "      <td>4.858634</td>\n",
       "      <td>42.689819</td>\n",
       "      <td>68.347543</td>\n",
       "      <td>10.422762</td>\n",
       "      <td>0.883763</td>\n",
       "      <td>16.532835</td>\n",
       "      <td>2.146849</td>\n",
       "      <td>...</td>\n",
       "      <td>14.036510</td>\n",
       "      <td>-500.857308</td>\n",
       "      <td>11.999550</td>\n",
       "      <td>-501.193686</td>\n",
       "      <td>9.970366</td>\n",
       "      <td>-499.201640</td>\n",
       "      <td>7.977324</td>\n",
       "      <td>-500.255908</td>\n",
       "      <td>14.005551</td>\n",
       "      <td>-599.996129</td>\n",
       "    </tr>\n",
       "    <tr>\n",
       "      <th>4</th>\n",
       "      <td>2016-01-15 04:00:00</td>\n",
       "      <td>6.148599</td>\n",
       "      <td>10.142511</td>\n",
       "      <td>4.939416</td>\n",
       "      <td>42.774141</td>\n",
       "      <td>66.927016</td>\n",
       "      <td>10.360302</td>\n",
       "      <td>0.792826</td>\n",
       "      <td>16.525686</td>\n",
       "      <td>2.055292</td>\n",
       "      <td>...</td>\n",
       "      <td>14.027298</td>\n",
       "      <td>-499.838632</td>\n",
       "      <td>11.953070</td>\n",
       "      <td>-501.053894</td>\n",
       "      <td>9.925709</td>\n",
       "      <td>-501.686727</td>\n",
       "      <td>7.894242</td>\n",
       "      <td>-500.356035</td>\n",
       "      <td>13.996647</td>\n",
       "      <td>-601.496691</td>\n",
       "    </tr>\n",
       "    <tr>\n",
       "      <th>5</th>\n",
       "      <td>2016-01-15 05:00:00</td>\n",
       "      <td>6.482968</td>\n",
       "      <td>10.049416</td>\n",
       "      <td>5.480257</td>\n",
       "      <td>41.633678</td>\n",
       "      <td>69.465816</td>\n",
       "      <td>10.182708</td>\n",
       "      <td>0.664118</td>\n",
       "      <td>16.999638</td>\n",
       "      <td>1.918586</td>\n",
       "      <td>...</td>\n",
       "      <td>13.938497</td>\n",
       "      <td>-500.970168</td>\n",
       "      <td>11.883350</td>\n",
       "      <td>-500.395298</td>\n",
       "      <td>10.054147</td>\n",
       "      <td>-496.374715</td>\n",
       "      <td>7.965083</td>\n",
       "      <td>-499.364752</td>\n",
       "      <td>14.017067</td>\n",
       "      <td>-599.707915</td>\n",
       "    </tr>\n",
       "    <tr>\n",
       "      <th>6</th>\n",
       "      <td>2016-01-15 06:00:00</td>\n",
       "      <td>6.533849</td>\n",
       "      <td>10.058141</td>\n",
       "      <td>4.569100</td>\n",
       "      <td>41.995316</td>\n",
       "      <td>69.300835</td>\n",
       "      <td>10.304598</td>\n",
       "      <td>0.807342</td>\n",
       "      <td>16.723575</td>\n",
       "      <td>2.058913</td>\n",
       "      <td>...</td>\n",
       "      <td>14.046819</td>\n",
       "      <td>-500.971133</td>\n",
       "      <td>12.091543</td>\n",
       "      <td>-500.501426</td>\n",
       "      <td>10.003247</td>\n",
       "      <td>-497.083180</td>\n",
       "      <td>8.010890</td>\n",
       "      <td>-500.002423</td>\n",
       "      <td>14.029649</td>\n",
       "      <td>-600.905470</td>\n",
       "    </tr>\n",
       "    <tr>\n",
       "      <th>7</th>\n",
       "      <td>2016-01-15 07:00:00</td>\n",
       "      <td>6.130823</td>\n",
       "      <td>9.935481</td>\n",
       "      <td>4.389813</td>\n",
       "      <td>42.452727</td>\n",
       "      <td>70.230976</td>\n",
       "      <td>10.443288</td>\n",
       "      <td>0.949346</td>\n",
       "      <td>16.689959</td>\n",
       "      <td>2.143437</td>\n",
       "      <td>...</td>\n",
       "      <td>13.974691</td>\n",
       "      <td>-501.819696</td>\n",
       "      <td>12.101324</td>\n",
       "      <td>-500.583446</td>\n",
       "      <td>9.873169</td>\n",
       "      <td>-499.171928</td>\n",
       "      <td>7.993381</td>\n",
       "      <td>-499.794518</td>\n",
       "      <td>13.984498</td>\n",
       "      <td>-600.411070</td>\n",
       "    </tr>\n",
       "    <tr>\n",
       "      <th>8</th>\n",
       "      <td>2016-01-15 08:00:00</td>\n",
       "      <td>5.834140</td>\n",
       "      <td>10.071156</td>\n",
       "      <td>4.876389</td>\n",
       "      <td>43.404078</td>\n",
       "      <td>69.688595</td>\n",
       "      <td>10.420140</td>\n",
       "      <td>1.065453</td>\n",
       "      <td>17.201948</td>\n",
       "      <td>2.209881</td>\n",
       "      <td>...</td>\n",
       "      <td>13.964030</td>\n",
       "      <td>-504.252450</td>\n",
       "      <td>12.060738</td>\n",
       "      <td>-501.174549</td>\n",
       "      <td>10.033838</td>\n",
       "      <td>-501.178133</td>\n",
       "      <td>7.881604</td>\n",
       "      <td>-499.729434</td>\n",
       "      <td>13.967135</td>\n",
       "      <td>-599.061188</td>\n",
       "    </tr>\n",
       "    <tr>\n",
       "      <th>9</th>\n",
       "      <td>2016-01-15 09:00:00</td>\n",
       "      <td>5.687063</td>\n",
       "      <td>9.980404</td>\n",
       "      <td>5.282514</td>\n",
       "      <td>43.235220</td>\n",
       "      <td>70.279619</td>\n",
       "      <td>10.487013</td>\n",
       "      <td>1.159805</td>\n",
       "      <td>17.483979</td>\n",
       "      <td>2.209593</td>\n",
       "      <td>...</td>\n",
       "      <td>13.989632</td>\n",
       "      <td>-503.195299</td>\n",
       "      <td>12.052233</td>\n",
       "      <td>-500.928547</td>\n",
       "      <td>9.962574</td>\n",
       "      <td>-502.986357</td>\n",
       "      <td>7.979219</td>\n",
       "      <td>-500.146835</td>\n",
       "      <td>13.981614</td>\n",
       "      <td>-598.070855</td>\n",
       "    </tr>\n",
       "  </tbody>\n",
       "</table>\n",
       "<p>10 rows × 87 columns</p>\n",
       "</div>"
      ],
      "text/plain": [
       "                  date  final.output.concentrate_ag  \\\n",
       "0  2016-01-15 00:00:00                     6.055403   \n",
       "1  2016-01-15 01:00:00                     6.029369   \n",
       "2  2016-01-15 02:00:00                     6.055926   \n",
       "3  2016-01-15 03:00:00                     6.047977   \n",
       "4  2016-01-15 04:00:00                     6.148599   \n",
       "5  2016-01-15 05:00:00                     6.482968   \n",
       "6  2016-01-15 06:00:00                     6.533849   \n",
       "7  2016-01-15 07:00:00                     6.130823   \n",
       "8  2016-01-15 08:00:00                     5.834140   \n",
       "9  2016-01-15 09:00:00                     5.687063   \n",
       "\n",
       "   final.output.concentrate_pb  final.output.concentrate_sol  \\\n",
       "0                     9.889648                      5.507324   \n",
       "1                     9.968944                      5.257781   \n",
       "2                    10.213995                      5.383759   \n",
       "3                     9.977019                      4.858634   \n",
       "4                    10.142511                      4.939416   \n",
       "5                    10.049416                      5.480257   \n",
       "6                    10.058141                      4.569100   \n",
       "7                     9.935481                      4.389813   \n",
       "8                    10.071156                      4.876389   \n",
       "9                     9.980404                      5.282514   \n",
       "\n",
       "   final.output.concentrate_au  final.output.recovery  final.output.tail_ag  \\\n",
       "0                    42.192020              70.541216             10.411962   \n",
       "1                    42.701629              69.266198             10.462676   \n",
       "2                    42.657501              68.116445             10.507046   \n",
       "3                    42.689819              68.347543             10.422762   \n",
       "4                    42.774141              66.927016             10.360302   \n",
       "5                    41.633678              69.465816             10.182708   \n",
       "6                    41.995316              69.300835             10.304598   \n",
       "7                    42.452727              70.230976             10.443288   \n",
       "8                    43.404078              69.688595             10.420140   \n",
       "9                    43.235220              70.279619             10.487013   \n",
       "\n",
       "   final.output.tail_pb  final.output.tail_sol  final.output.tail_au  ...  \\\n",
       "0              0.895447              16.904297              2.143149  ...   \n",
       "1              0.927452              16.634514              2.224930  ...   \n",
       "2              0.953716              16.208849              2.257889  ...   \n",
       "3              0.883763              16.532835              2.146849  ...   \n",
       "4              0.792826              16.525686              2.055292  ...   \n",
       "5              0.664118              16.999638              1.918586  ...   \n",
       "6              0.807342              16.723575              2.058913  ...   \n",
       "7              0.949346              16.689959              2.143437  ...   \n",
       "8              1.065453              17.201948              2.209881  ...   \n",
       "9              1.159805              17.483979              2.209593  ...   \n",
       "\n",
       "   secondary_cleaner.state.floatbank4_a_air  \\\n",
       "0                                 14.016835   \n",
       "1                                 13.992281   \n",
       "2                                 14.015015   \n",
       "3                                 14.036510   \n",
       "4                                 14.027298   \n",
       "5                                 13.938497   \n",
       "6                                 14.046819   \n",
       "7                                 13.974691   \n",
       "8                                 13.964030   \n",
       "9                                 13.989632   \n",
       "\n",
       "   secondary_cleaner.state.floatbank4_a_level  \\\n",
       "0                                 -502.488007   \n",
       "1                                 -505.503262   \n",
       "2                                 -502.520901   \n",
       "3                                 -500.857308   \n",
       "4                                 -499.838632   \n",
       "5                                 -500.970168   \n",
       "6                                 -500.971133   \n",
       "7                                 -501.819696   \n",
       "8                                 -504.252450   \n",
       "9                                 -503.195299   \n",
       "\n",
       "   secondary_cleaner.state.floatbank4_b_air  \\\n",
       "0                                 12.099931   \n",
       "1                                 11.950531   \n",
       "2                                 11.912783   \n",
       "3                                 11.999550   \n",
       "4                                 11.953070   \n",
       "5                                 11.883350   \n",
       "6                                 12.091543   \n",
       "7                                 12.101324   \n",
       "8                                 12.060738   \n",
       "9                                 12.052233   \n",
       "\n",
       "   secondary_cleaner.state.floatbank4_b_level  \\\n",
       "0                                 -504.715942   \n",
       "1                                 -501.331529   \n",
       "2                                 -501.133383   \n",
       "3                                 -501.193686   \n",
       "4                                 -501.053894   \n",
       "5                                 -500.395298   \n",
       "6                                 -500.501426   \n",
       "7                                 -500.583446   \n",
       "8                                 -501.174549   \n",
       "9                                 -500.928547   \n",
       "\n",
       "   secondary_cleaner.state.floatbank5_a_air  \\\n",
       "0                                  9.925633   \n",
       "1                                 10.039245   \n",
       "2                                 10.070913   \n",
       "3                                  9.970366   \n",
       "4                                  9.925709   \n",
       "5                                 10.054147   \n",
       "6                                 10.003247   \n",
       "7                                  9.873169   \n",
       "8                                 10.033838   \n",
       "9                                  9.962574   \n",
       "\n",
       "   secondary_cleaner.state.floatbank5_a_level  \\\n",
       "0                                 -498.310211   \n",
       "1                                 -500.169983   \n",
       "2                                 -500.129135   \n",
       "3                                 -499.201640   \n",
       "4                                 -501.686727   \n",
       "5                                 -496.374715   \n",
       "6                                 -497.083180   \n",
       "7                                 -499.171928   \n",
       "8                                 -501.178133   \n",
       "9                                 -502.986357   \n",
       "\n",
       "   secondary_cleaner.state.floatbank5_b_air  \\\n",
       "0                                  8.079666   \n",
       "1                                  7.984757   \n",
       "2                                  8.013877   \n",
       "3                                  7.977324   \n",
       "4                                  7.894242   \n",
       "5                                  7.965083   \n",
       "6                                  8.010890   \n",
       "7                                  7.993381   \n",
       "8                                  7.881604   \n",
       "9                                  7.979219   \n",
       "\n",
       "   secondary_cleaner.state.floatbank5_b_level  \\\n",
       "0                                 -500.470978   \n",
       "1                                 -500.582168   \n",
       "2                                 -500.517572   \n",
       "3                                 -500.255908   \n",
       "4                                 -500.356035   \n",
       "5                                 -499.364752   \n",
       "6                                 -500.002423   \n",
       "7                                 -499.794518   \n",
       "8                                 -499.729434   \n",
       "9                                 -500.146835   \n",
       "\n",
       "   secondary_cleaner.state.floatbank6_a_air  \\\n",
       "0                                 14.151341   \n",
       "1                                 13.998353   \n",
       "2                                 14.028663   \n",
       "3                                 14.005551   \n",
       "4                                 13.996647   \n",
       "5                                 14.017067   \n",
       "6                                 14.029649   \n",
       "7                                 13.984498   \n",
       "8                                 13.967135   \n",
       "9                                 13.981614   \n",
       "\n",
       "   secondary_cleaner.state.floatbank6_a_level  \n",
       "0                                 -605.841980  \n",
       "1                                 -599.787184  \n",
       "2                                 -601.427363  \n",
       "3                                 -599.996129  \n",
       "4                                 -601.496691  \n",
       "5                                 -599.707915  \n",
       "6                                 -600.905470  \n",
       "7                                 -600.411070  \n",
       "8                                 -599.061188  \n",
       "9                                 -598.070855  \n",
       "\n",
       "[10 rows x 87 columns]"
      ]
     },
     "execution_count": 13,
     "metadata": {},
     "output_type": "execute_result"
    }
   ],
   "source": [
    "data_full.head(10)"
   ]
  },
  {
   "cell_type": "code",
   "execution_count": 14,
   "metadata": {},
   "outputs": [
    {
     "name": "stdout",
     "output_type": "stream",
     "text": [
      "<class 'pandas.core.frame.DataFrame'>\n",
      "RangeIndex: 19439 entries, 0 to 19438\n",
      "Data columns (total 87 columns):\n",
      " #   Column                                              Non-Null Count  Dtype  \n",
      "---  ------                                              --------------  -----  \n",
      " 0   date                                                19439 non-null  object \n",
      " 1   final.output.concentrate_ag                         19438 non-null  float64\n",
      " 2   final.output.concentrate_pb                         19438 non-null  float64\n",
      " 3   final.output.concentrate_sol                        19228 non-null  float64\n",
      " 4   final.output.concentrate_au                         19439 non-null  float64\n",
      " 5   final.output.recovery                               19439 non-null  float64\n",
      " 6   final.output.tail_ag                                19438 non-null  float64\n",
      " 7   final.output.tail_pb                                19338 non-null  float64\n",
      " 8   final.output.tail_sol                               19433 non-null  float64\n",
      " 9   final.output.tail_au                                19439 non-null  float64\n",
      " 10  primary_cleaner.input.sulfate                       19415 non-null  float64\n",
      " 11  primary_cleaner.input.depressant                    19402 non-null  float64\n",
      " 12  primary_cleaner.input.feed_size                     19439 non-null  float64\n",
      " 13  primary_cleaner.input.xanthate                      19335 non-null  float64\n",
      " 14  primary_cleaner.output.concentrate_ag               19439 non-null  float64\n",
      " 15  primary_cleaner.output.concentrate_pb               19323 non-null  float64\n",
      " 16  primary_cleaner.output.concentrate_sol              19069 non-null  float64\n",
      " 17  primary_cleaner.output.concentrate_au               19439 non-null  float64\n",
      " 18  primary_cleaner.output.tail_ag                      19435 non-null  float64\n",
      " 19  primary_cleaner.output.tail_pb                      19418 non-null  float64\n",
      " 20  primary_cleaner.output.tail_sol                     19377 non-null  float64\n",
      " 21  primary_cleaner.output.tail_au                      19439 non-null  float64\n",
      " 22  primary_cleaner.state.floatbank8_a_air              19435 non-null  float64\n",
      " 23  primary_cleaner.state.floatbank8_a_level            19438 non-null  float64\n",
      " 24  primary_cleaner.state.floatbank8_b_air              19435 non-null  float64\n",
      " 25  primary_cleaner.state.floatbank8_b_level            19438 non-null  float64\n",
      " 26  primary_cleaner.state.floatbank8_c_air              19437 non-null  float64\n",
      " 27  primary_cleaner.state.floatbank8_c_level            19438 non-null  float64\n",
      " 28  primary_cleaner.state.floatbank8_d_air              19436 non-null  float64\n",
      " 29  primary_cleaner.state.floatbank8_d_level            19438 non-null  float64\n",
      " 30  rougher.calculation.sulfate_to_au_concentrate       19437 non-null  float64\n",
      " 31  rougher.calculation.floatbank10_sulfate_to_au_feed  19437 non-null  float64\n",
      " 32  rougher.calculation.floatbank11_sulfate_to_au_feed  19437 non-null  float64\n",
      " 33  rougher.calculation.au_pb_ratio                     19439 non-null  float64\n",
      " 34  rougher.input.feed_ag                               19439 non-null  float64\n",
      " 35  rougher.input.feed_pb                               19339 non-null  float64\n",
      " 36  rougher.input.feed_rate                             19428 non-null  float64\n",
      " 37  rougher.input.feed_size                             19294 non-null  float64\n",
      " 38  rougher.input.feed_sol                              19340 non-null  float64\n",
      " 39  rougher.input.feed_au                               19439 non-null  float64\n",
      " 40  rougher.input.floatbank10_sulfate                   19405 non-null  float64\n",
      " 41  rougher.input.floatbank10_xanthate                  19431 non-null  float64\n",
      " 42  rougher.input.floatbank11_sulfate                   19395 non-null  float64\n",
      " 43  rougher.input.floatbank11_xanthate                  18986 non-null  float64\n",
      " 44  rougher.output.concentrate_ag                       19439 non-null  float64\n",
      " 45  rougher.output.concentrate_pb                       19439 non-null  float64\n",
      " 46  rougher.output.concentrate_sol                      19416 non-null  float64\n",
      " 47  rougher.output.concentrate_au                       19439 non-null  float64\n",
      " 48  rougher.output.recovery                             19439 non-null  float64\n",
      " 49  rougher.output.tail_ag                              19438 non-null  float64\n",
      " 50  rougher.output.tail_pb                              19439 non-null  float64\n",
      " 51  rougher.output.tail_sol                             19439 non-null  float64\n",
      " 52  rougher.output.tail_au                              19439 non-null  float64\n",
      " 53  rougher.state.floatbank10_a_air                     19438 non-null  float64\n",
      " 54  rougher.state.floatbank10_a_level                   19438 non-null  float64\n",
      " 55  rougher.state.floatbank10_b_air                     19438 non-null  float64\n",
      " 56  rougher.state.floatbank10_b_level                   19438 non-null  float64\n",
      " 57  rougher.state.floatbank10_c_air                     19438 non-null  float64\n",
      " 58  rougher.state.floatbank10_c_level                   19438 non-null  float64\n",
      " 59  rougher.state.floatbank10_d_air                     19439 non-null  float64\n",
      " 60  rougher.state.floatbank10_d_level                   19439 non-null  float64\n",
      " 61  rougher.state.floatbank10_e_air                     19003 non-null  float64\n",
      " 62  rougher.state.floatbank10_e_level                   19439 non-null  float64\n",
      " 63  rougher.state.floatbank10_f_air                     19439 non-null  float64\n",
      " 64  rougher.state.floatbank10_f_level                   19439 non-null  float64\n",
      " 65  secondary_cleaner.output.tail_ag                    19437 non-null  float64\n",
      " 66  secondary_cleaner.output.tail_pb                    19427 non-null  float64\n",
      " 67  secondary_cleaner.output.tail_sol                   17691 non-null  float64\n",
      " 68  secondary_cleaner.output.tail_au                    19439 non-null  float64\n",
      " 69  secondary_cleaner.state.floatbank2_a_air            19219 non-null  float64\n",
      " 70  secondary_cleaner.state.floatbank2_a_level          19438 non-null  float64\n",
      " 71  secondary_cleaner.state.floatbank2_b_air            19416 non-null  float64\n",
      " 72  secondary_cleaner.state.floatbank2_b_level          19438 non-null  float64\n",
      " 73  secondary_cleaner.state.floatbank3_a_air            19426 non-null  float64\n",
      " 74  secondary_cleaner.state.floatbank3_a_level          19438 non-null  float64\n",
      " 75  secondary_cleaner.state.floatbank3_b_air            19438 non-null  float64\n",
      " 76  secondary_cleaner.state.floatbank3_b_level          19438 non-null  float64\n",
      " 77  secondary_cleaner.state.floatbank4_a_air            19433 non-null  float64\n",
      " 78  secondary_cleaner.state.floatbank4_a_level          19438 non-null  float64\n",
      " 79  secondary_cleaner.state.floatbank4_b_air            19438 non-null  float64\n",
      " 80  secondary_cleaner.state.floatbank4_b_level          19438 non-null  float64\n",
      " 81  secondary_cleaner.state.floatbank5_a_air            19438 non-null  float64\n",
      " 82  secondary_cleaner.state.floatbank5_a_level          19438 non-null  float64\n",
      " 83  secondary_cleaner.state.floatbank5_b_air            19438 non-null  float64\n",
      " 84  secondary_cleaner.state.floatbank5_b_level          19438 non-null  float64\n",
      " 85  secondary_cleaner.state.floatbank6_a_air            19437 non-null  float64\n",
      " 86  secondary_cleaner.state.floatbank6_a_level          19438 non-null  float64\n",
      "dtypes: float64(86), object(1)\n",
      "memory usage: 12.9+ MB\n"
     ]
    }
   ],
   "source": [
    "data_full.info()"
   ]
  },
  {
   "cell_type": "code",
   "execution_count": 15,
   "metadata": {},
   "outputs": [
    {
     "data": {
      "text/html": [
       "<div>\n",
       "<style scoped>\n",
       "    .dataframe tbody tr th:only-of-type {\n",
       "        vertical-align: middle;\n",
       "    }\n",
       "\n",
       "    .dataframe tbody tr th {\n",
       "        vertical-align: top;\n",
       "    }\n",
       "\n",
       "    .dataframe thead th {\n",
       "        text-align: right;\n",
       "    }\n",
       "</style>\n",
       "<table border=\"1\" class=\"dataframe\">\n",
       "  <thead>\n",
       "    <tr style=\"text-align: right;\">\n",
       "      <th></th>\n",
       "      <th>final.output.concentrate_ag</th>\n",
       "      <th>final.output.concentrate_pb</th>\n",
       "      <th>final.output.concentrate_sol</th>\n",
       "      <th>final.output.concentrate_au</th>\n",
       "      <th>final.output.recovery</th>\n",
       "      <th>final.output.tail_ag</th>\n",
       "      <th>final.output.tail_pb</th>\n",
       "      <th>final.output.tail_sol</th>\n",
       "      <th>final.output.tail_au</th>\n",
       "      <th>primary_cleaner.input.sulfate</th>\n",
       "      <th>...</th>\n",
       "      <th>secondary_cleaner.state.floatbank4_a_air</th>\n",
       "      <th>secondary_cleaner.state.floatbank4_a_level</th>\n",
       "      <th>secondary_cleaner.state.floatbank4_b_air</th>\n",
       "      <th>secondary_cleaner.state.floatbank4_b_level</th>\n",
       "      <th>secondary_cleaner.state.floatbank5_a_air</th>\n",
       "      <th>secondary_cleaner.state.floatbank5_a_level</th>\n",
       "      <th>secondary_cleaner.state.floatbank5_b_air</th>\n",
       "      <th>secondary_cleaner.state.floatbank5_b_level</th>\n",
       "      <th>secondary_cleaner.state.floatbank6_a_air</th>\n",
       "      <th>secondary_cleaner.state.floatbank6_a_level</th>\n",
       "    </tr>\n",
       "  </thead>\n",
       "  <tbody>\n",
       "    <tr>\n",
       "      <th>count</th>\n",
       "      <td>19438.000000</td>\n",
       "      <td>19438.000000</td>\n",
       "      <td>19228.000000</td>\n",
       "      <td>19439.000000</td>\n",
       "      <td>19439.000000</td>\n",
       "      <td>19438.000000</td>\n",
       "      <td>19338.000000</td>\n",
       "      <td>19433.000000</td>\n",
       "      <td>19439.000000</td>\n",
       "      <td>19415.000000</td>\n",
       "      <td>...</td>\n",
       "      <td>19433.000000</td>\n",
       "      <td>19438.000000</td>\n",
       "      <td>19438.000000</td>\n",
       "      <td>19438.000000</td>\n",
       "      <td>19438.000000</td>\n",
       "      <td>19438.000000</td>\n",
       "      <td>19438.000000</td>\n",
       "      <td>19438.000000</td>\n",
       "      <td>19437.000000</td>\n",
       "      <td>19438.000000</td>\n",
       "    </tr>\n",
       "    <tr>\n",
       "      <th>mean</th>\n",
       "      <td>5.168470</td>\n",
       "      <td>9.978895</td>\n",
       "      <td>9.501224</td>\n",
       "      <td>44.076513</td>\n",
       "      <td>67.050208</td>\n",
       "      <td>9.688589</td>\n",
       "      <td>2.705795</td>\n",
       "      <td>10.583728</td>\n",
       "      <td>3.042467</td>\n",
       "      <td>144.624774</td>\n",
       "      <td>...</td>\n",
       "      <td>18.987674</td>\n",
       "      <td>-485.894516</td>\n",
       "      <td>15.010366</td>\n",
       "      <td>-461.078636</td>\n",
       "      <td>15.694452</td>\n",
       "      <td>-488.684065</td>\n",
       "      <td>12.198224</td>\n",
       "      <td>-487.149827</td>\n",
       "      <td>18.959024</td>\n",
       "      <td>-505.436305</td>\n",
       "    </tr>\n",
       "    <tr>\n",
       "      <th>std</th>\n",
       "      <td>1.372348</td>\n",
       "      <td>1.669240</td>\n",
       "      <td>2.787537</td>\n",
       "      <td>5.129784</td>\n",
       "      <td>10.125840</td>\n",
       "      <td>2.328642</td>\n",
       "      <td>0.949077</td>\n",
       "      <td>2.868782</td>\n",
       "      <td>0.922808</td>\n",
       "      <td>44.464071</td>\n",
       "      <td>...</td>\n",
       "      <td>5.411058</td>\n",
       "      <td>47.758570</td>\n",
       "      <td>4.890228</td>\n",
       "      <td>67.405524</td>\n",
       "      <td>5.510974</td>\n",
       "      <td>34.533396</td>\n",
       "      <td>5.333024</td>\n",
       "      <td>38.347312</td>\n",
       "      <td>5.550498</td>\n",
       "      <td>37.689057</td>\n",
       "    </tr>\n",
       "    <tr>\n",
       "      <th>min</th>\n",
       "      <td>0.000000</td>\n",
       "      <td>0.000000</td>\n",
       "      <td>0.000000</td>\n",
       "      <td>0.000000</td>\n",
       "      <td>0.000000</td>\n",
       "      <td>0.000000</td>\n",
       "      <td>0.000000</td>\n",
       "      <td>0.000000</td>\n",
       "      <td>0.000000</td>\n",
       "      <td>0.003112</td>\n",
       "      <td>...</td>\n",
       "      <td>0.000000</td>\n",
       "      <td>-799.798523</td>\n",
       "      <td>0.000000</td>\n",
       "      <td>-800.836914</td>\n",
       "      <td>-0.372054</td>\n",
       "      <td>-797.323986</td>\n",
       "      <td>0.528083</td>\n",
       "      <td>-800.220337</td>\n",
       "      <td>-0.079426</td>\n",
       "      <td>-809.741464</td>\n",
       "    </tr>\n",
       "    <tr>\n",
       "      <th>25%</th>\n",
       "      <td>4.251240</td>\n",
       "      <td>9.137262</td>\n",
       "      <td>7.722820</td>\n",
       "      <td>43.402215</td>\n",
       "      <td>63.299712</td>\n",
       "      <td>8.062878</td>\n",
       "      <td>2.040119</td>\n",
       "      <td>8.938947</td>\n",
       "      <td>2.461138</td>\n",
       "      <td>114.107029</td>\n",
       "      <td>...</td>\n",
       "      <td>14.975734</td>\n",
       "      <td>-500.704892</td>\n",
       "      <td>11.940294</td>\n",
       "      <td>-500.187742</td>\n",
       "      <td>10.988606</td>\n",
       "      <td>-500.458467</td>\n",
       "      <td>8.971105</td>\n",
       "      <td>-500.129462</td>\n",
       "      <td>14.983037</td>\n",
       "      <td>-500.728067</td>\n",
       "    </tr>\n",
       "    <tr>\n",
       "      <th>50%</th>\n",
       "      <td>5.066094</td>\n",
       "      <td>10.102433</td>\n",
       "      <td>9.218961</td>\n",
       "      <td>45.011244</td>\n",
       "      <td>68.172738</td>\n",
       "      <td>9.743623</td>\n",
       "      <td>2.748730</td>\n",
       "      <td>10.622456</td>\n",
       "      <td>2.984909</td>\n",
       "      <td>143.232103</td>\n",
       "      <td>...</td>\n",
       "      <td>18.017481</td>\n",
       "      <td>-499.837793</td>\n",
       "      <td>14.971014</td>\n",
       "      <td>-499.459786</td>\n",
       "      <td>15.000036</td>\n",
       "      <td>-499.802605</td>\n",
       "      <td>11.019433</td>\n",
       "      <td>-499.935317</td>\n",
       "      <td>19.960541</td>\n",
       "      <td>-500.048400</td>\n",
       "    </tr>\n",
       "    <tr>\n",
       "      <th>75%</th>\n",
       "      <td>5.895527</td>\n",
       "      <td>11.035769</td>\n",
       "      <td>10.947813</td>\n",
       "      <td>46.275313</td>\n",
       "      <td>72.686642</td>\n",
       "      <td>11.134294</td>\n",
       "      <td>3.333216</td>\n",
       "      <td>12.104271</td>\n",
       "      <td>3.571351</td>\n",
       "      <td>175.075656</td>\n",
       "      <td>...</td>\n",
       "      <td>23.012470</td>\n",
       "      <td>-498.249730</td>\n",
       "      <td>19.034162</td>\n",
       "      <td>-400.118106</td>\n",
       "      <td>18.026190</td>\n",
       "      <td>-498.384187</td>\n",
       "      <td>14.019088</td>\n",
       "      <td>-499.436708</td>\n",
       "      <td>24.003170</td>\n",
       "      <td>-499.495378</td>\n",
       "    </tr>\n",
       "    <tr>\n",
       "      <th>max</th>\n",
       "      <td>16.001945</td>\n",
       "      <td>17.031899</td>\n",
       "      <td>19.615720</td>\n",
       "      <td>52.756638</td>\n",
       "      <td>100.000000</td>\n",
       "      <td>19.552149</td>\n",
       "      <td>5.804178</td>\n",
       "      <td>22.317730</td>\n",
       "      <td>8.245022</td>\n",
       "      <td>265.983123</td>\n",
       "      <td>...</td>\n",
       "      <td>30.115735</td>\n",
       "      <td>-245.239184</td>\n",
       "      <td>31.269706</td>\n",
       "      <td>-6.506986</td>\n",
       "      <td>43.709931</td>\n",
       "      <td>-244.483566</td>\n",
       "      <td>27.926001</td>\n",
       "      <td>-137.740004</td>\n",
       "      <td>32.188906</td>\n",
       "      <td>-104.427459</td>\n",
       "    </tr>\n",
       "  </tbody>\n",
       "</table>\n",
       "<p>8 rows × 86 columns</p>\n",
       "</div>"
      ],
      "text/plain": [
       "       final.output.concentrate_ag  final.output.concentrate_pb  \\\n",
       "count                 19438.000000                 19438.000000   \n",
       "mean                      5.168470                     9.978895   \n",
       "std                       1.372348                     1.669240   \n",
       "min                       0.000000                     0.000000   \n",
       "25%                       4.251240                     9.137262   \n",
       "50%                       5.066094                    10.102433   \n",
       "75%                       5.895527                    11.035769   \n",
       "max                      16.001945                    17.031899   \n",
       "\n",
       "       final.output.concentrate_sol  final.output.concentrate_au  \\\n",
       "count                  19228.000000                 19439.000000   \n",
       "mean                       9.501224                    44.076513   \n",
       "std                        2.787537                     5.129784   \n",
       "min                        0.000000                     0.000000   \n",
       "25%                        7.722820                    43.402215   \n",
       "50%                        9.218961                    45.011244   \n",
       "75%                       10.947813                    46.275313   \n",
       "max                       19.615720                    52.756638   \n",
       "\n",
       "       final.output.recovery  final.output.tail_ag  final.output.tail_pb  \\\n",
       "count           19439.000000          19438.000000          19338.000000   \n",
       "mean               67.050208              9.688589              2.705795   \n",
       "std                10.125840              2.328642              0.949077   \n",
       "min                 0.000000              0.000000              0.000000   \n",
       "25%                63.299712              8.062878              2.040119   \n",
       "50%                68.172738              9.743623              2.748730   \n",
       "75%                72.686642             11.134294              3.333216   \n",
       "max               100.000000             19.552149              5.804178   \n",
       "\n",
       "       final.output.tail_sol  final.output.tail_au  \\\n",
       "count           19433.000000          19439.000000   \n",
       "mean               10.583728              3.042467   \n",
       "std                 2.868782              0.922808   \n",
       "min                 0.000000              0.000000   \n",
       "25%                 8.938947              2.461138   \n",
       "50%                10.622456              2.984909   \n",
       "75%                12.104271              3.571351   \n",
       "max                22.317730              8.245022   \n",
       "\n",
       "       primary_cleaner.input.sulfate  ...  \\\n",
       "count                   19415.000000  ...   \n",
       "mean                      144.624774  ...   \n",
       "std                        44.464071  ...   \n",
       "min                         0.003112  ...   \n",
       "25%                       114.107029  ...   \n",
       "50%                       143.232103  ...   \n",
       "75%                       175.075656  ...   \n",
       "max                       265.983123  ...   \n",
       "\n",
       "       secondary_cleaner.state.floatbank4_a_air  \\\n",
       "count                              19433.000000   \n",
       "mean                                  18.987674   \n",
       "std                                    5.411058   \n",
       "min                                    0.000000   \n",
       "25%                                   14.975734   \n",
       "50%                                   18.017481   \n",
       "75%                                   23.012470   \n",
       "max                                   30.115735   \n",
       "\n",
       "       secondary_cleaner.state.floatbank4_a_level  \\\n",
       "count                                19438.000000   \n",
       "mean                                  -485.894516   \n",
       "std                                     47.758570   \n",
       "min                                   -799.798523   \n",
       "25%                                   -500.704892   \n",
       "50%                                   -499.837793   \n",
       "75%                                   -498.249730   \n",
       "max                                   -245.239184   \n",
       "\n",
       "       secondary_cleaner.state.floatbank4_b_air  \\\n",
       "count                              19438.000000   \n",
       "mean                                  15.010366   \n",
       "std                                    4.890228   \n",
       "min                                    0.000000   \n",
       "25%                                   11.940294   \n",
       "50%                                   14.971014   \n",
       "75%                                   19.034162   \n",
       "max                                   31.269706   \n",
       "\n",
       "       secondary_cleaner.state.floatbank4_b_level  \\\n",
       "count                                19438.000000   \n",
       "mean                                  -461.078636   \n",
       "std                                     67.405524   \n",
       "min                                   -800.836914   \n",
       "25%                                   -500.187742   \n",
       "50%                                   -499.459786   \n",
       "75%                                   -400.118106   \n",
       "max                                     -6.506986   \n",
       "\n",
       "       secondary_cleaner.state.floatbank5_a_air  \\\n",
       "count                              19438.000000   \n",
       "mean                                  15.694452   \n",
       "std                                    5.510974   \n",
       "min                                   -0.372054   \n",
       "25%                                   10.988606   \n",
       "50%                                   15.000036   \n",
       "75%                                   18.026190   \n",
       "max                                   43.709931   \n",
       "\n",
       "       secondary_cleaner.state.floatbank5_a_level  \\\n",
       "count                                19438.000000   \n",
       "mean                                  -488.684065   \n",
       "std                                     34.533396   \n",
       "min                                   -797.323986   \n",
       "25%                                   -500.458467   \n",
       "50%                                   -499.802605   \n",
       "75%                                   -498.384187   \n",
       "max                                   -244.483566   \n",
       "\n",
       "       secondary_cleaner.state.floatbank5_b_air  \\\n",
       "count                              19438.000000   \n",
       "mean                                  12.198224   \n",
       "std                                    5.333024   \n",
       "min                                    0.528083   \n",
       "25%                                    8.971105   \n",
       "50%                                   11.019433   \n",
       "75%                                   14.019088   \n",
       "max                                   27.926001   \n",
       "\n",
       "       secondary_cleaner.state.floatbank5_b_level  \\\n",
       "count                                19438.000000   \n",
       "mean                                  -487.149827   \n",
       "std                                     38.347312   \n",
       "min                                   -800.220337   \n",
       "25%                                   -500.129462   \n",
       "50%                                   -499.935317   \n",
       "75%                                   -499.436708   \n",
       "max                                   -137.740004   \n",
       "\n",
       "       secondary_cleaner.state.floatbank6_a_air  \\\n",
       "count                              19437.000000   \n",
       "mean                                  18.959024   \n",
       "std                                    5.550498   \n",
       "min                                   -0.079426   \n",
       "25%                                   14.983037   \n",
       "50%                                   19.960541   \n",
       "75%                                   24.003170   \n",
       "max                                   32.188906   \n",
       "\n",
       "       secondary_cleaner.state.floatbank6_a_level  \n",
       "count                                19438.000000  \n",
       "mean                                  -505.436305  \n",
       "std                                     37.689057  \n",
       "min                                   -809.741464  \n",
       "25%                                   -500.728067  \n",
       "50%                                   -500.048400  \n",
       "75%                                   -499.495378  \n",
       "max                                   -104.427459  \n",
       "\n",
       "[8 rows x 86 columns]"
      ]
     },
     "execution_count": 15,
     "metadata": {},
     "output_type": "execute_result"
    }
   ],
   "source": [
    "data_full.describe()"
   ]
  },
  {
   "cell_type": "code",
   "execution_count": 16,
   "metadata": {},
   "outputs": [
    {
     "data": {
      "text/plain": [
       "date                                            0\n",
       "final.output.concentrate_ag                     1\n",
       "final.output.concentrate_pb                     1\n",
       "final.output.concentrate_sol                  211\n",
       "final.output.concentrate_au                     0\n",
       "                                             ... \n",
       "secondary_cleaner.state.floatbank5_a_level      1\n",
       "secondary_cleaner.state.floatbank5_b_air        1\n",
       "secondary_cleaner.state.floatbank5_b_level      1\n",
       "secondary_cleaner.state.floatbank6_a_air        2\n",
       "secondary_cleaner.state.floatbank6_a_level      1\n",
       "Length: 87, dtype: int64"
      ]
     },
     "execution_count": 16,
     "metadata": {},
     "output_type": "execute_result"
    }
   ],
   "source": [
    "data_full.isna().sum()"
   ]
  },
  {
   "cell_type": "markdown",
   "metadata": {},
   "source": [
    "Вывод: открыли файлы, посмотрели общую информацию и часть датафреймов, посмотрели информацию методом describe, посмотрели пропуски в данных "
   ]
  },
  {
   "cell_type": "markdown",
   "metadata": {},
   "source": [
    "1.2. Проверим, что эффективность обогащения рассчитана правильно. Вычислим её на обучающей выборке для признака rougher.output.recovery. Найдем MAE между вашими расчётами и значением признака. Опишем выводы."
   ]
  },
  {
   "cell_type": "code",
   "execution_count": 17,
   "metadata": {},
   "outputs": [
    {
     "data": {
      "text/plain": [
       "0        87.107763\n",
       "1        86.843261\n",
       "2        86.842308\n",
       "3        87.226430\n",
       "4        86.688794\n",
       "           ...    \n",
       "14144    89.574376\n",
       "14145    87.724007\n",
       "14146    88.890579\n",
       "14147    89.858126\n",
       "14148    89.514960\n",
       "Name: rougher.output.recovery, Length: 14149, dtype: float64"
      ]
     },
     "execution_count": 17,
     "metadata": {},
     "output_type": "execute_result"
    }
   ],
   "source": [
    "data_train['rougher.output.recovery']"
   ]
  },
  {
   "cell_type": "code",
   "execution_count": 18,
   "metadata": {},
   "outputs": [],
   "source": [
    "recovery_check = ((data_train['rougher.output.concentrate_au']*(data_train['rougher.input.feed_au']-data_train['rougher.output.tail_au'])/(data_train['rougher.input.feed_au']*(data_train['rougher.output.concentrate_au']-data_train['rougher.output.tail_au']))))*100"
   ]
  },
  {
   "cell_type": "code",
   "execution_count": 19,
   "metadata": {},
   "outputs": [
    {
     "data": {
      "text/plain": [
       "0"
      ]
     },
     "execution_count": 19,
     "metadata": {},
     "output_type": "execute_result"
    }
   ],
   "source": [
    "round(mean_absolute_error(data_train['rougher.output.recovery'], recovery_check))"
   ]
  },
  {
   "cell_type": "markdown",
   "metadata": {},
   "source": [
    "Вывод: расчет в датафрейме верный"
   ]
  },
  {
   "cell_type": "markdown",
   "metadata": {},
   "source": [
    "1.3. Проанализируем признаки, недоступные в тестовой выборке. Напишем в выводе, что это за параметры и какому типу они относятся."
   ]
  },
  {
   "cell_type": "code",
   "execution_count": 20,
   "metadata": {},
   "outputs": [
    {
     "name": "stdout",
     "output_type": "stream",
     "text": [
      "Index(['final.output.concentrate_ag', 'final.output.concentrate_au',\n",
      "       'final.output.concentrate_pb', 'final.output.concentrate_sol',\n",
      "       'final.output.recovery', 'final.output.tail_ag', 'final.output.tail_au',\n",
      "       'final.output.tail_pb', 'final.output.tail_sol',\n",
      "       'primary_cleaner.output.concentrate_ag',\n",
      "       'primary_cleaner.output.concentrate_au',\n",
      "       'primary_cleaner.output.concentrate_pb',\n",
      "       'primary_cleaner.output.concentrate_sol',\n",
      "       'primary_cleaner.output.tail_ag', 'primary_cleaner.output.tail_au',\n",
      "       'primary_cleaner.output.tail_pb', 'primary_cleaner.output.tail_sol',\n",
      "       'rougher.calculation.au_pb_ratio',\n",
      "       'rougher.calculation.floatbank10_sulfate_to_au_feed',\n",
      "       'rougher.calculation.floatbank11_sulfate_to_au_feed',\n",
      "       'rougher.calculation.sulfate_to_au_concentrate',\n",
      "       'rougher.output.concentrate_ag', 'rougher.output.concentrate_au',\n",
      "       'rougher.output.concentrate_pb', 'rougher.output.concentrate_sol',\n",
      "       'rougher.output.recovery', 'rougher.output.tail_ag',\n",
      "       'rougher.output.tail_au', 'rougher.output.tail_pb',\n",
      "       'rougher.output.tail_sol', 'secondary_cleaner.output.tail_ag',\n",
      "       'secondary_cleaner.output.tail_au', 'secondary_cleaner.output.tail_pb',\n",
      "       'secondary_cleaner.output.tail_sol'],\n",
      "      dtype='object')\n"
     ]
    }
   ],
   "source": [
    "print(data_train.columns.difference(data_test.columns))"
   ]
  },
  {
   "cell_type": "markdown",
   "metadata": {},
   "source": [
    "Вывод: в тестовых данных отсутствуют параметры продукта после флотации и в отвальных хвостах, расчеты параметров этапа флотации, параметры продукта после первичной очистки и в отвальных хвостах, параметры после вторичной очистки в отвальных хвостах, финальные параметры в отвальных хвостах. "
   ]
  },
  {
   "cell_type": "markdown",
   "metadata": {},
   "source": [
    "1.4. Проведем предобработку данных."
   ]
  },
  {
   "cell_type": "markdown",
   "metadata": {},
   "source": [
    "Начнем предобработку данных с обучающих данных"
   ]
  },
  {
   "cell_type": "markdown",
   "metadata": {},
   "source": [
    "При изучении данных мы видели, что есть пропуски, поработаем с ними, заполнив их значениями из предыдущих строк"
   ]
  },
  {
   "cell_type": "code",
   "execution_count": 21,
   "metadata": {},
   "outputs": [],
   "source": [
    "data_train.ffill(axis=0, inplace=True)"
   ]
  },
  {
   "cell_type": "markdown",
   "metadata": {},
   "source": [
    "Проверим"
   ]
  },
  {
   "cell_type": "code",
   "execution_count": 22,
   "metadata": {},
   "outputs": [
    {
     "data": {
      "text/plain": [
       "date                                          0\n",
       "final.output.concentrate_ag                   0\n",
       "final.output.concentrate_pb                   0\n",
       "final.output.concentrate_sol                  0\n",
       "final.output.concentrate_au                   0\n",
       "                                             ..\n",
       "secondary_cleaner.state.floatbank5_a_level    0\n",
       "secondary_cleaner.state.floatbank5_b_air      0\n",
       "secondary_cleaner.state.floatbank5_b_level    0\n",
       "secondary_cleaner.state.floatbank6_a_air      0\n",
       "secondary_cleaner.state.floatbank6_a_level    0\n",
       "Length: 87, dtype: int64"
      ]
     },
     "execution_count": 22,
     "metadata": {},
     "output_type": "execute_result"
    }
   ],
   "source": [
    "data_train.isna().sum()"
   ]
  },
  {
   "cell_type": "markdown",
   "metadata": {},
   "source": [
    "Проверим дубликаты"
   ]
  },
  {
   "cell_type": "code",
   "execution_count": 23,
   "metadata": {},
   "outputs": [
    {
     "data": {
      "text/plain": [
       "0        False\n",
       "1        False\n",
       "2        False\n",
       "3        False\n",
       "4        False\n",
       "         ...  \n",
       "14144    False\n",
       "14145    False\n",
       "14146    False\n",
       "14147    False\n",
       "14148    False\n",
       "Length: 14149, dtype: bool"
      ]
     },
     "execution_count": 23,
     "metadata": {},
     "output_type": "execute_result"
    }
   ],
   "source": [
    "data_train.duplicated()"
   ]
  },
  {
   "cell_type": "markdown",
   "metadata": {},
   "source": [
    "Предобработка тестовых данных"
   ]
  },
  {
   "cell_type": "markdown",
   "metadata": {},
   "source": [
    "Уберем пропуски, заменив их предыдущими значениями"
   ]
  },
  {
   "cell_type": "code",
   "execution_count": 24,
   "metadata": {},
   "outputs": [],
   "source": [
    "data_test.ffill(axis=0, inplace=True)"
   ]
  },
  {
   "cell_type": "markdown",
   "metadata": {},
   "source": [
    "Проверим"
   ]
  },
  {
   "cell_type": "code",
   "execution_count": 25,
   "metadata": {},
   "outputs": [
    {
     "data": {
      "text/plain": [
       "date                                          0\n",
       "primary_cleaner.input.sulfate                 0\n",
       "primary_cleaner.input.depressant              0\n",
       "primary_cleaner.input.feed_size               0\n",
       "primary_cleaner.input.xanthate                0\n",
       "primary_cleaner.state.floatbank8_a_air        0\n",
       "primary_cleaner.state.floatbank8_a_level      0\n",
       "primary_cleaner.state.floatbank8_b_air        0\n",
       "primary_cleaner.state.floatbank8_b_level      0\n",
       "primary_cleaner.state.floatbank8_c_air        0\n",
       "primary_cleaner.state.floatbank8_c_level      0\n",
       "primary_cleaner.state.floatbank8_d_air        0\n",
       "primary_cleaner.state.floatbank8_d_level      0\n",
       "rougher.input.feed_ag                         0\n",
       "rougher.input.feed_pb                         0\n",
       "rougher.input.feed_rate                       0\n",
       "rougher.input.feed_size                       0\n",
       "rougher.input.feed_sol                        0\n",
       "rougher.input.feed_au                         0\n",
       "rougher.input.floatbank10_sulfate             0\n",
       "rougher.input.floatbank10_xanthate            0\n",
       "rougher.input.floatbank11_sulfate             0\n",
       "rougher.input.floatbank11_xanthate            0\n",
       "rougher.state.floatbank10_a_air               0\n",
       "rougher.state.floatbank10_a_level             0\n",
       "rougher.state.floatbank10_b_air               0\n",
       "rougher.state.floatbank10_b_level             0\n",
       "rougher.state.floatbank10_c_air               0\n",
       "rougher.state.floatbank10_c_level             0\n",
       "rougher.state.floatbank10_d_air               0\n",
       "rougher.state.floatbank10_d_level             0\n",
       "rougher.state.floatbank10_e_air               0\n",
       "rougher.state.floatbank10_e_level             0\n",
       "rougher.state.floatbank10_f_air               0\n",
       "rougher.state.floatbank10_f_level             0\n",
       "secondary_cleaner.state.floatbank2_a_air      0\n",
       "secondary_cleaner.state.floatbank2_a_level    0\n",
       "secondary_cleaner.state.floatbank2_b_air      0\n",
       "secondary_cleaner.state.floatbank2_b_level    0\n",
       "secondary_cleaner.state.floatbank3_a_air      0\n",
       "secondary_cleaner.state.floatbank3_a_level    0\n",
       "secondary_cleaner.state.floatbank3_b_air      0\n",
       "secondary_cleaner.state.floatbank3_b_level    0\n",
       "secondary_cleaner.state.floatbank4_a_air      0\n",
       "secondary_cleaner.state.floatbank4_a_level    0\n",
       "secondary_cleaner.state.floatbank4_b_air      0\n",
       "secondary_cleaner.state.floatbank4_b_level    0\n",
       "secondary_cleaner.state.floatbank5_a_air      0\n",
       "secondary_cleaner.state.floatbank5_a_level    0\n",
       "secondary_cleaner.state.floatbank5_b_air      0\n",
       "secondary_cleaner.state.floatbank5_b_level    0\n",
       "secondary_cleaner.state.floatbank6_a_air      0\n",
       "secondary_cleaner.state.floatbank6_a_level    0\n",
       "dtype: int64"
      ]
     },
     "execution_count": 25,
     "metadata": {},
     "output_type": "execute_result"
    }
   ],
   "source": [
    "data_test.isna().sum()"
   ]
  },
  {
   "cell_type": "markdown",
   "metadata": {},
   "source": [
    "Проверим дубликаты"
   ]
  },
  {
   "cell_type": "code",
   "execution_count": 26,
   "metadata": {},
   "outputs": [
    {
     "data": {
      "text/plain": [
       "0       False\n",
       "1       False\n",
       "2       False\n",
       "3       False\n",
       "4       False\n",
       "        ...  \n",
       "5285    False\n",
       "5286    False\n",
       "5287    False\n",
       "5288    False\n",
       "5289    False\n",
       "Length: 5290, dtype: bool"
      ]
     },
     "execution_count": 26,
     "metadata": {},
     "output_type": "execute_result"
    }
   ],
   "source": [
    "data_test.duplicated()"
   ]
  },
  {
   "cell_type": "markdown",
   "metadata": {},
   "source": [
    "Вывод: проверили предобработку, заполнили пропуски, проверили дубликаты, посмотрели на графиках данные, имются разные данные и распределения"
   ]
  },
  {
   "cell_type": "markdown",
   "metadata": {},
   "source": [
    "## Анализ данных"
   ]
  },
  {
   "cell_type": "markdown",
   "metadata": {},
   "source": [
    "2.1. Посмотрите, как меняется концентрация металлов (Au, Ag, Pb) на различных этапах очистки. Опишите выводы."
   ]
  },
  {
   "cell_type": "markdown",
   "metadata": {},
   "source": [
    "Для таблицы над понадобятся определенные столбцы, для удобства выведем их."
   ]
  },
  {
   "cell_type": "code",
   "execution_count": 27,
   "metadata": {},
   "outputs": [
    {
     "name": "stdout",
     "output_type": "stream",
     "text": [
      "Index(['date', 'final.output.concentrate_ag', 'final.output.concentrate_pb',\n",
      "       'final.output.concentrate_sol', 'final.output.concentrate_au',\n",
      "       'final.output.recovery', 'final.output.tail_ag', 'final.output.tail_pb',\n",
      "       'final.output.tail_sol', 'final.output.tail_au',\n",
      "       'primary_cleaner.input.sulfate', 'primary_cleaner.input.depressant',\n",
      "       'primary_cleaner.input.feed_size', 'primary_cleaner.input.xanthate',\n",
      "       'primary_cleaner.output.concentrate_ag',\n",
      "       'primary_cleaner.output.concentrate_pb',\n",
      "       'primary_cleaner.output.concentrate_sol',\n",
      "       'primary_cleaner.output.concentrate_au',\n",
      "       'primary_cleaner.output.tail_ag', 'primary_cleaner.output.tail_pb',\n",
      "       'primary_cleaner.output.tail_sol', 'primary_cleaner.output.tail_au',\n",
      "       'primary_cleaner.state.floatbank8_a_air',\n",
      "       'primary_cleaner.state.floatbank8_a_level',\n",
      "       'primary_cleaner.state.floatbank8_b_air',\n",
      "       'primary_cleaner.state.floatbank8_b_level',\n",
      "       'primary_cleaner.state.floatbank8_c_air',\n",
      "       'primary_cleaner.state.floatbank8_c_level',\n",
      "       'primary_cleaner.state.floatbank8_d_air',\n",
      "       'primary_cleaner.state.floatbank8_d_level',\n",
      "       'rougher.calculation.sulfate_to_au_concentrate',\n",
      "       'rougher.calculation.floatbank10_sulfate_to_au_feed',\n",
      "       'rougher.calculation.floatbank11_sulfate_to_au_feed',\n",
      "       'rougher.calculation.au_pb_ratio', 'rougher.input.feed_ag',\n",
      "       'rougher.input.feed_pb', 'rougher.input.feed_rate',\n",
      "       'rougher.input.feed_size', 'rougher.input.feed_sol',\n",
      "       'rougher.input.feed_au', 'rougher.input.floatbank10_sulfate',\n",
      "       'rougher.input.floatbank10_xanthate',\n",
      "       'rougher.input.floatbank11_sulfate',\n",
      "       'rougher.input.floatbank11_xanthate', 'rougher.output.concentrate_ag',\n",
      "       'rougher.output.concentrate_pb', 'rougher.output.concentrate_sol',\n",
      "       'rougher.output.concentrate_au', 'rougher.output.recovery',\n",
      "       'rougher.output.tail_ag', 'rougher.output.tail_pb',\n",
      "       'rougher.output.tail_sol', 'rougher.output.tail_au',\n",
      "       'rougher.state.floatbank10_a_air', 'rougher.state.floatbank10_a_level',\n",
      "       'rougher.state.floatbank10_b_air', 'rougher.state.floatbank10_b_level',\n",
      "       'rougher.state.floatbank10_c_air', 'rougher.state.floatbank10_c_level',\n",
      "       'rougher.state.floatbank10_d_air', 'rougher.state.floatbank10_d_level',\n",
      "       'rougher.state.floatbank10_e_air', 'rougher.state.floatbank10_e_level',\n",
      "       'rougher.state.floatbank10_f_air', 'rougher.state.floatbank10_f_level',\n",
      "       'secondary_cleaner.output.tail_ag', 'secondary_cleaner.output.tail_pb',\n",
      "       'secondary_cleaner.output.tail_sol', 'secondary_cleaner.output.tail_au',\n",
      "       'secondary_cleaner.state.floatbank2_a_air',\n",
      "       'secondary_cleaner.state.floatbank2_a_level',\n",
      "       'secondary_cleaner.state.floatbank2_b_air',\n",
      "       'secondary_cleaner.state.floatbank2_b_level',\n",
      "       'secondary_cleaner.state.floatbank3_a_air',\n",
      "       'secondary_cleaner.state.floatbank3_a_level',\n",
      "       'secondary_cleaner.state.floatbank3_b_air',\n",
      "       'secondary_cleaner.state.floatbank3_b_level',\n",
      "       'secondary_cleaner.state.floatbank4_a_air',\n",
      "       'secondary_cleaner.state.floatbank4_a_level',\n",
      "       'secondary_cleaner.state.floatbank4_b_air',\n",
      "       'secondary_cleaner.state.floatbank4_b_level',\n",
      "       'secondary_cleaner.state.floatbank5_a_air',\n",
      "       'secondary_cleaner.state.floatbank5_a_level',\n",
      "       'secondary_cleaner.state.floatbank5_b_air',\n",
      "       'secondary_cleaner.state.floatbank5_b_level',\n",
      "       'secondary_cleaner.state.floatbank6_a_air',\n",
      "       'secondary_cleaner.state.floatbank6_a_level'],\n",
      "      dtype='object')\n"
     ]
    }
   ],
   "source": [
    "print(data_train.columns)"
   ]
  },
  {
   "cell_type": "code",
   "execution_count": 28,
   "metadata": {},
   "outputs": [
    {
     "data": {
      "text/html": [
       "<div>\n",
       "<style scoped>\n",
       "    .dataframe tbody tr th:only-of-type {\n",
       "        vertical-align: middle;\n",
       "    }\n",
       "\n",
       "    .dataframe tbody tr th {\n",
       "        vertical-align: top;\n",
       "    }\n",
       "\n",
       "    .dataframe thead th {\n",
       "        text-align: right;\n",
       "    }\n",
       "</style>\n",
       "<table border=\"1\" class=\"dataframe\">\n",
       "  <thead>\n",
       "    <tr style=\"text-align: right;\">\n",
       "      <th></th>\n",
       "      <th>этап</th>\n",
       "      <th>золото</th>\n",
       "      <th>серебро</th>\n",
       "      <th>свинец</th>\n",
       "    </tr>\n",
       "  </thead>\n",
       "  <tbody>\n",
       "    <tr>\n",
       "      <th>0</th>\n",
       "      <td>Перед флотацией</td>\n",
       "      <td>7.866577</td>\n",
       "      <td>8.579195</td>\n",
       "      <td>3.505465</td>\n",
       "    </tr>\n",
       "    <tr>\n",
       "      <th>1</th>\n",
       "      <td>После флотации</td>\n",
       "      <td>19.439958</td>\n",
       "      <td>11.775812</td>\n",
       "      <td>7.664555</td>\n",
       "    </tr>\n",
       "    <tr>\n",
       "      <th>2</th>\n",
       "      <td>Первичная очистка</td>\n",
       "      <td>32.386836</td>\n",
       "      <td>8.200916</td>\n",
       "      <td>9.568544</td>\n",
       "    </tr>\n",
       "    <tr>\n",
       "      <th>3</th>\n",
       "      <td>Вторичная очистка</td>\n",
       "      <td>44.003792</td>\n",
       "      <td>5.141921</td>\n",
       "      <td>10.132848</td>\n",
       "    </tr>\n",
       "  </tbody>\n",
       "</table>\n",
       "</div>"
      ],
      "text/plain": [
       "                этап     золото    серебро     свинец\n",
       "0    Перед флотацией   7.866577   8.579195   3.505465\n",
       "1     После флотации  19.439958  11.775812   7.664555\n",
       "2  Первичная очистка  32.386836   8.200916   9.568544\n",
       "3  Вторичная очистка  44.003792   5.141921  10.132848"
      ]
     },
     "execution_count": 28,
     "metadata": {},
     "output_type": "execute_result"
    }
   ],
   "source": [
    "columns = ['этап', 'золото', 'серебро', 'свинец']\n",
    "concentrate = pd.DataFrame(data=None, columns=columns)\n",
    "concentrate.loc[0] = ['Перед флотацией',data_train['rougher.input.feed_au'].mean(), data_train['rougher.input.feed_ag'].mean(), data_train['rougher.input.feed_pb'].mean()]\n",
    "concentrate.loc[1] =['После флотации', data_train['rougher.output.concentrate_au'].mean(), data_train['rougher.output.concentrate_ag'].mean(), data_train['rougher.output.concentrate_pb'].mean()]\n",
    "concentrate.loc[2] =['Первичная очистка', data_train['primary_cleaner.output.concentrate_au'].mean(), data_train['primary_cleaner.output.concentrate_ag'].mean(), data_train['primary_cleaner.output.concentrate_pb'].mean()]\n",
    "concentrate.loc[3] =['Вторичная очистка', data_train['final.output.concentrate_au'].mean(), data_train['final.output.concentrate_ag'].mean(), data_train['final.output.concentrate_pb'].mean()]\n",
    "\n",
    "concentrate"
   ]
  },
  {
   "cell_type": "markdown",
   "metadata": {},
   "source": [
    "Вывод: концентрация золота с очисткой увеличилась, также присутсвуют примесь серебра и свинца, но в меньшей мере."
   ]
  },
  {
   "cell_type": "code",
   "execution_count": 29,
   "metadata": {},
   "outputs": [],
   "source": [
    "def metal_data(a,b,c,d):\n",
    "    columns = ['Перед флотацией', 'После флотации', 'Первичная очистка', 'Вторичная очистка']\n",
    "    metal = pd.DataFrame(data=None, columns=columns)\n",
    "    metal.loc[:,'Перед флотацией'] = a\n",
    "    metal.loc[:,'После флотации'] = b\n",
    "    metal.loc[:,'Первичная очистка'] = c\n",
    "    metal.loc[:,'Вторичная очистка'] = d\n",
    "    \n",
    "   \n",
    "    fig, ((ax1, ax2), (ax3, ax4)) = plt.subplots(2, 2)\n",
    "    fig.suptitle('Распределение', fontweight =\"bold\", fontsize = 16)\n",
    "\n",
    "    fig.set_figwidth(15)\n",
    "    fig.set_figheight(10)\n",
    "\n",
    "\n",
    "    ax1.hist(a, bins=25, color='green', edgecolor='blue',\n",
    "         linestyle='--', alpha=0.5)\n",
    "    ax2.hist(b, bins=25, color='green', edgecolor='blue',\n",
    "         linestyle='--', alpha=0.5)\n",
    "    ax3.hist(c, bins=25, color='green', edgecolor='blue',\n",
    "         linestyle='--', alpha=0.5)\n",
    "    ax4.hist(d, bins=25, color='green', edgecolor='blue',\n",
    "         linestyle='--', alpha=0.5)\n",
    "    ax1.set_ylim(0, 6000)\n",
    "    ax2.set_ylim(0, 6000)\n",
    "    ax3.set_ylim(0, 6000)\n",
    "    ax4.set_ylim(0, 6000)\n",
    "    ax1.set(xlabel='Количество наблюдений', ylabel='Концентрация')\n",
    "    ax2.set(xlabel='Количество наблюдений', ylabel='Концентрация')\n",
    "    ax3.set(xlabel='Количество наблюдений', ylabel='Концентрация')\n",
    "    ax4.set(xlabel='Количество наблюдений', ylabel='Концентрация')\n",
    "    \n",
    "    ax1.set_title(\"Перед флотацией\", fontweight =\"bold\")\n",
    "    ax2.set_title(\"После флотации\", fontweight =\"bold\")\n",
    "    ax3.set_title(\"Первичная очистка\", fontweight =\"bold\")\n",
    "    ax4.set_title(\"Вторичная очистка\", fontweight =\"bold\")\n",
    "    \n",
    " \n",
    "    plt.show()\n",
    "    \n",
    "    "
   ]
  },
  {
   "cell_type": "code",
   "execution_count": 30,
   "metadata": {},
   "outputs": [
    {
     "name": "stdout",
     "output_type": "stream",
     "text": [
      "Распределение золота\n"
     ]
    },
    {
     "data": {
      "image/png": "[encoded data removed]",
      "text/plain": [
       "<Figure size 1080x720 with 4 Axes>"
      ]
     },
     "metadata": {
      "needs_background": "light"
     },
     "output_type": "display_data"
    }
   ],
   "source": [
    "print('Распределение золота')\n",
    "metal_data(data_train['rougher.input.feed_au'], data_train['rougher.output.concentrate_au'], data_train['primary_cleaner.output.concentrate_au'], data_train['final.output.concentrate_au'])"
   ]
  },
  {
   "cell_type": "code",
   "execution_count": 31,
   "metadata": {},
   "outputs": [
    {
     "name": "stdout",
     "output_type": "stream",
     "text": [
      "Распределение серебра\n"
     ]
    },
    {
     "data": {
      "image/png": "[encoded data removed]",
      "text/plain": [
       "<Figure size 1080x720 with 4 Axes>"
      ]
     },
     "metadata": {
      "needs_background": "light"
     },
     "output_type": "display_data"
    }
   ],
   "source": [
    "print('Распределение серебра')\n",
    "metal_data(data_train['rougher.input.feed_ag'], data_train['rougher.output.concentrate_ag'], data_train['primary_cleaner.output.concentrate_ag'], data_train['final.output.concentrate_ag'])"
   ]
  },
  {
   "cell_type": "code",
   "execution_count": 32,
   "metadata": {},
   "outputs": [
    {
     "name": "stdout",
     "output_type": "stream",
     "text": [
      "Распределение свинца\n"
     ]
    },
    {
     "data": {
      "image/png": "[encoded data removed]",
      "text/plain": [
       "<Figure size 1080x720 with 4 Axes>"
      ]
     },
     "metadata": {
      "needs_background": "light"
     },
     "output_type": "display_data"
    }
   ],
   "source": [
    "print('Распределение свинца')\n",
    "metal_data(data_train['rougher.input.feed_pb'], data_train['rougher.output.concentrate_pb'], data_train['primary_cleaner.output.concentrate_pb'], data_train['final.output.concentrate_pb'])"
   ]
  },
  {
   "cell_type": "markdown",
   "metadata": {},
   "source": [
    "2.2.  Сравните распределения размеров гранул сырья на обучающей и тестовой выборках. Если распределения сильно отличаются друг от друга, оценка модели будет неправильной."
   ]
  },
  {
   "cell_type": "code",
   "execution_count": 33,
   "metadata": {},
   "outputs": [
    {
     "data": {
      "text/html": [
       "<div>\n",
       "<style scoped>\n",
       "    .dataframe tbody tr th:only-of-type {\n",
       "        vertical-align: middle;\n",
       "    }\n",
       "\n",
       "    .dataframe tbody tr th {\n",
       "        vertical-align: top;\n",
       "    }\n",
       "\n",
       "    .dataframe thead th {\n",
       "        text-align: right;\n",
       "    }\n",
       "</style>\n",
       "<table border=\"1\" class=\"dataframe\">\n",
       "  <thead>\n",
       "    <tr style=\"text-align: right;\">\n",
       "      <th></th>\n",
       "      <th>этап</th>\n",
       "      <th>обучающие данные</th>\n",
       "      <th>тестовые данные</th>\n",
       "      <th>разница</th>\n",
       "    </tr>\n",
       "  </thead>\n",
       "  <tbody>\n",
       "    <tr>\n",
       "      <th>0</th>\n",
       "      <td>Флотация</td>\n",
       "      <td>60.239856</td>\n",
       "      <td>55.952754</td>\n",
       "      <td>4.287102</td>\n",
       "    </tr>\n",
       "    <tr>\n",
       "      <th>1</th>\n",
       "      <td>Первичная очистка</td>\n",
       "      <td>7.322310</td>\n",
       "      <td>7.266339</td>\n",
       "      <td>0.055971</td>\n",
       "    </tr>\n",
       "  </tbody>\n",
       "</table>\n",
       "</div>"
      ],
      "text/plain": [
       "                этап  обучающие данные  тестовые данные   разница\n",
       "0           Флотация         60.239856        55.952754  4.287102\n",
       "1  Первичная очистка          7.322310         7.266339  0.055971"
      ]
     },
     "execution_count": 33,
     "metadata": {},
     "output_type": "execute_result"
    }
   ],
   "source": [
    "columns = ['этап', 'обучающие данные', 'тестовые данные', 'разница']\n",
    "feed = pd.DataFrame(data=None, columns=columns)\n",
    "feed.loc[0] = ['Флотация', data_train['rougher.input.feed_size'].mean(), data_test['rougher.input.feed_size'].mean(), data_train['rougher.input.feed_size'].mean() - data_test['rougher.input.feed_size'].mean()]\n",
    "feed.loc[1] =['Первичная очистка', data_train['primary_cleaner.input.feed_size'].mean(), data_test['primary_cleaner.input.feed_size'].mean(), data_train['primary_cleaner.input.feed_size'].mean()-data_test['primary_cleaner.input.feed_size'].mean()]\n",
    "\n",
    "feed"
   ]
  },
  {
   "cell_type": "markdown",
   "metadata": {},
   "source": [
    "Вывод: сравнили данные по размерам гранул сырья, они не сильно различаются"
   ]
  },
  {
   "cell_type": "code",
   "execution_count": 34,
   "metadata": {},
   "outputs": [
    {
     "data": {
      "text/html": [
       "<div>\n",
       "<style scoped>\n",
       "    .dataframe tbody tr th:only-of-type {\n",
       "        vertical-align: middle;\n",
       "    }\n",
       "\n",
       "    .dataframe tbody tr th {\n",
       "        vertical-align: top;\n",
       "    }\n",
       "\n",
       "    .dataframe thead th {\n",
       "        text-align: right;\n",
       "    }\n",
       "</style>\n",
       "<table border=\"1\" class=\"dataframe\">\n",
       "  <thead>\n",
       "    <tr style=\"text-align: right;\">\n",
       "      <th></th>\n",
       "      <th>обучающие данные</th>\n",
       "      <th>тестовые данные</th>\n",
       "    </tr>\n",
       "  </thead>\n",
       "  <tbody>\n",
       "    <tr>\n",
       "      <th>0</th>\n",
       "      <td>55.486599</td>\n",
       "      <td>62.710452</td>\n",
       "    </tr>\n",
       "    <tr>\n",
       "      <th>1</th>\n",
       "      <td>57.278666</td>\n",
       "      <td>61.961163</td>\n",
       "    </tr>\n",
       "  </tbody>\n",
       "</table>\n",
       "</div>"
      ],
      "text/plain": [
       "   обучающие данные  тестовые данные\n",
       "0         55.486599        62.710452\n",
       "1         57.278666        61.961163"
      ]
     },
     "execution_count": 34,
     "metadata": {},
     "output_type": "execute_result"
    }
   ],
   "source": [
    "columns = ['обучающие данные', 'тестовые данные']\n",
    "feed_1 = pd.DataFrame(data=None, columns=columns)\n",
    "feed_1.loc[:, 'обучающие данные'] = data_train['rougher.input.feed_size']\n",
    "feed_1.loc[:, 'тестовые данные'] = data_test['rougher.input.feed_size']\n",
    "\n",
    "feed_1.head(2)"
   ]
  },
  {
   "cell_type": "code",
   "execution_count": 35,
   "metadata": {},
   "outputs": [
    {
     "data": {
      "text/html": [
       "<div>\n",
       "<style scoped>\n",
       "    .dataframe tbody tr th:only-of-type {\n",
       "        vertical-align: middle;\n",
       "    }\n",
       "\n",
       "    .dataframe tbody tr th {\n",
       "        vertical-align: top;\n",
       "    }\n",
       "\n",
       "    .dataframe thead th {\n",
       "        text-align: right;\n",
       "    }\n",
       "</style>\n",
       "<table border=\"1\" class=\"dataframe\">\n",
       "  <thead>\n",
       "    <tr style=\"text-align: right;\">\n",
       "      <th></th>\n",
       "      <th>обучающие данные</th>\n",
       "      <th>тестовые данные</th>\n",
       "    </tr>\n",
       "  </thead>\n",
       "  <tbody>\n",
       "    <tr>\n",
       "      <th>0</th>\n",
       "      <td>7.25</td>\n",
       "      <td>8.08</td>\n",
       "    </tr>\n",
       "    <tr>\n",
       "      <th>1</th>\n",
       "      <td>7.25</td>\n",
       "      <td>8.08</td>\n",
       "    </tr>\n",
       "  </tbody>\n",
       "</table>\n",
       "</div>"
      ],
      "text/plain": [
       "   обучающие данные  тестовые данные\n",
       "0              7.25             8.08\n",
       "1              7.25             8.08"
      ]
     },
     "execution_count": 35,
     "metadata": {},
     "output_type": "execute_result"
    }
   ],
   "source": [
    "columns = ['обучающие данные', 'тестовые данные']\n",
    "feed_2 = pd.DataFrame(data=None, columns=columns)\n",
    "feed_2.loc[:, 'обучающие данные'] = data_train['primary_cleaner.input.feed_size']\n",
    "feed_2.loc[:, 'тестовые данные'] = data_test['primary_cleaner.input.feed_size']\n",
    "\n",
    "feed_2.head(2)"
   ]
  },
  {
   "cell_type": "code",
   "execution_count": 36,
   "metadata": {},
   "outputs": [
    {
     "data": {
      "image/png": "[encoded data removed]",
      "text/plain": [
       "<Figure size 432x288 with 1 Axes>"
      ]
     },
     "metadata": {
      "needs_background": "light"
     },
     "output_type": "display_data"
    }
   ],
   "source": [
    "sns.kdeplot(data=feed_1, multiple=\"stack\")\n",
    "plt.title('Размер гранул сырья на этапе флотации')\n",
    "plt.ylabel('Плотность')\n",
    "plt.xlabel('Размер гранул сырья')\n",
    "\n",
    "plt.show()"
   ]
  },
  {
   "cell_type": "code",
   "execution_count": 37,
   "metadata": {},
   "outputs": [
    {
     "data": {
      "image/png": "[encoded data removed]",
      "text/plain": [
       "<Figure size 432x288 with 1 Axes>"
      ]
     },
     "metadata": {
      "needs_background": "light"
     },
     "output_type": "display_data"
    }
   ],
   "source": [
    "sns.kdeplot(data=feed_2, multiple=\"stack\")\n",
    "plt.title('Размер гранул сырья на этапе первичной очистки')\n",
    "plt.ylabel('Плотность')\n",
    "plt.xlabel('Размер гранул сырья')\n",
    "\n",
    "plt.show()"
   ]
  },
  {
   "cell_type": "markdown",
   "metadata": {},
   "source": [
    "2.3. Исследуйте суммарную концентрацию всех веществ на разных стадиях: в сырье, в черновом и финальном концентратах."
   ]
  },
  {
   "cell_type": "code",
   "execution_count": 38,
   "metadata": {},
   "outputs": [
    {
     "data": {
      "text/html": [
       "<div>\n",
       "<style scoped>\n",
       "    .dataframe tbody tr th:only-of-type {\n",
       "        vertical-align: middle;\n",
       "    }\n",
       "\n",
       "    .dataframe tbody tr th {\n",
       "        vertical-align: top;\n",
       "    }\n",
       "\n",
       "    .dataframe thead th {\n",
       "        text-align: right;\n",
       "    }\n",
       "</style>\n",
       "<table border=\"1\" class=\"dataframe\">\n",
       "  <thead>\n",
       "    <tr style=\"text-align: right;\">\n",
       "      <th></th>\n",
       "      <th>этап</th>\n",
       "      <th>суммарная концентрация всех веществ</th>\n",
       "    </tr>\n",
       "  </thead>\n",
       "  <tbody>\n",
       "    <tr>\n",
       "      <th>0</th>\n",
       "      <td>Сырье</td>\n",
       "      <td>950433</td>\n",
       "    </tr>\n",
       "    <tr>\n",
       "      <th>1</th>\n",
       "      <td>Черновой концентрат</td>\n",
       "      <td>851381</td>\n",
       "    </tr>\n",
       "    <tr>\n",
       "      <th>2</th>\n",
       "      <td>Финальный концентрат</td>\n",
       "      <td>967620</td>\n",
       "    </tr>\n",
       "  </tbody>\n",
       "</table>\n",
       "</div>"
      ],
      "text/plain": [
       "                   этап суммарная концентрация всех веществ\n",
       "0                 Сырье                              950433\n",
       "1   Черновой концентрат                              851381\n",
       "2  Финальный концентрат                              967620"
      ]
     },
     "execution_count": 38,
     "metadata": {},
     "output_type": "execute_result"
    }
   ],
   "source": [
    "columns = ['этап', 'суммарная концентрация всех веществ']\n",
    "materials = pd.DataFrame(data=None, columns=columns)\n",
    "rougher = round((data_train['rougher.output.concentrate_ag'] + data_train['rougher.output.concentrate_pb'] + data_train['rougher.output.concentrate_sol'] + data_train['rougher.output.concentrate_au']).sum())\n",
    "primary = round((data_train['primary_cleaner.output.concentrate_ag'] + data_train['primary_cleaner.output.concentrate_pb'] + data_train['primary_cleaner.output.concentrate_sol'] + data_train['primary_cleaner.output.concentrate_au']).sum())\n",
    "final = round((data_train['final.output.concentrate_ag'] + data_train['final.output.concentrate_pb'] + data_train['final.output.concentrate_sol'] + data_train['final.output.concentrate_au']).sum())\n",
    "materials.loc[0] = ['Сырье', rougher]\n",
    "materials.loc[1] =['Черновой концентрат', primary]\n",
    "materials.loc[2] =['Финальный концентрат', final]\n",
    "                   \n",
    "materials\n"
   ]
  },
  {
   "cell_type": "markdown",
   "metadata": {},
   "source": [
    "Вывод: посмотрели на суммарную концентрацию веществ на разных стадиях"
   ]
  },
  {
   "cell_type": "code",
   "execution_count": 39,
   "metadata": {},
   "outputs": [],
   "source": [
    "before_rougher = data_train[['rougher.input.feed_ag', 'rougher.input.feed_pb',\n",
    "                             'rougher.input.feed_sol', 'rougher.input.feed_au']].copy()\n",
    "rougher = data_train[['rougher.output.concentrate_ag','rougher.output.concentrate_pb',\n",
    "                      'rougher.output.concentrate_sol','rougher.output.concentrate_au']].copy()\n",
    "primary = data_train[['primary_cleaner.output.concentrate_ag','primary_cleaner.output.concentrate_pb',\n",
    "                      'primary_cleaner.output.concentrate_sol','primary_cleaner.output.concentrate_au']].copy()\n",
    "final = data_train[['final.output.concentrate_ag', 'final.output.concentrate_pb',\n",
    "                    'final.output.concentrate_sol', 'final.output.concentrate_au']].copy()"
   ]
  },
  {
   "cell_type": "code",
   "execution_count": 40,
   "metadata": {},
   "outputs": [
    {
     "data": {
      "text/html": [
       "<div>\n",
       "<style scoped>\n",
       "    .dataframe tbody tr th:only-of-type {\n",
       "        vertical-align: middle;\n",
       "    }\n",
       "\n",
       "    .dataframe tbody tr th {\n",
       "        vertical-align: top;\n",
       "    }\n",
       "\n",
       "    .dataframe thead th {\n",
       "        text-align: right;\n",
       "    }\n",
       "</style>\n",
       "<table border=\"1\" class=\"dataframe\">\n",
       "  <thead>\n",
       "    <tr style=\"text-align: right;\">\n",
       "      <th></th>\n",
       "      <th>final.output.concentrate_ag</th>\n",
       "      <th>final.output.concentrate_pb</th>\n",
       "      <th>final.output.concentrate_sol</th>\n",
       "      <th>final.output.concentrate_au</th>\n",
       "      <th>total</th>\n",
       "    </tr>\n",
       "  </thead>\n",
       "  <tbody>\n",
       "    <tr>\n",
       "      <th>0</th>\n",
       "      <td>6.055403</td>\n",
       "      <td>9.889648</td>\n",
       "      <td>5.507324</td>\n",
       "      <td>42.192020</td>\n",
       "      <td>64.0</td>\n",
       "    </tr>\n",
       "    <tr>\n",
       "      <th>1</th>\n",
       "      <td>6.029369</td>\n",
       "      <td>9.968944</td>\n",
       "      <td>5.257781</td>\n",
       "      <td>42.701629</td>\n",
       "      <td>64.0</td>\n",
       "    </tr>\n",
       "  </tbody>\n",
       "</table>\n",
       "</div>"
      ],
      "text/plain": [
       "   final.output.concentrate_ag  final.output.concentrate_pb  \\\n",
       "0                     6.055403                     9.889648   \n",
       "1                     6.029369                     9.968944   \n",
       "\n",
       "   final.output.concentrate_sol  final.output.concentrate_au  total  \n",
       "0                      5.507324                    42.192020   64.0  \n",
       "1                      5.257781                    42.701629   64.0  "
      ]
     },
     "execution_count": 40,
     "metadata": {},
     "output_type": "execute_result"
    }
   ],
   "source": [
    "before_rougher['total'] = round(data_train['rougher.input.feed_ag'] + data_train['rougher.input.feed_pb'] + data_train['rougher.input.feed_sol'] + data_train['rougher.input.feed_au'])\n",
    "rougher['total'] = round(data_train['rougher.output.concentrate_ag'] + data_train['rougher.output.concentrate_pb'] + data_train['rougher.output.concentrate_sol'] + data_train['rougher.output.concentrate_au'])\n",
    "primary['total'] = round(data_train['primary_cleaner.output.concentrate_ag'] + data_train['primary_cleaner.output.concentrate_pb'] + data_train['primary_cleaner.output.concentrate_sol'] + data_train['primary_cleaner.output.concentrate_au'])\n",
    "final['total'] = round(data_train['final.output.concentrate_ag'] + data_train['final.output.concentrate_pb'] + data_train['final.output.concentrate_sol'] + data_train['final.output.concentrate_au'])\n",
    "final.head(2)"
   ]
  },
  {
   "cell_type": "code",
   "execution_count": 41,
   "metadata": {},
   "outputs": [
    {
     "data": {
      "image/png": "[encoded data removed]",
      "text/plain": [
       "<Figure size 432x288 with 1 Axes>"
      ]
     },
     "metadata": {
      "needs_background": "light"
     },
     "output_type": "display_data"
    }
   ],
   "source": [
    "a = before_rougher['total']\n",
    "b = rougher['total']\n",
    "c = primary['total']\n",
    "d = final['total']\n",
    "\n",
    "plt.hist(a, color='green', alpha=0.5, label='до флотации')\n",
    "plt.hist(b, color='yellow', alpha=0.5, label='после флотации')\n",
    "plt.hist(c, color='blue',alpha=0.5, label='после первичной очистки')\n",
    "plt.hist(d, color='red', alpha=0.5, label='итоговый результат')\n",
    "plt.legend()\n",
    "plt.title('Суммарная концентрацию всех веществ на разных стадиях')\n",
    "plt.ylabel('Количество наблюдений')\n",
    "plt.xlabel('Концентрация')\n",
    "plt.show()"
   ]
  },
  {
   "cell_type": "markdown",
   "metadata": {},
   "source": [
    "Вывод: посмотрели на концентрацию, есть нулевые данные, их нужно удалить"
   ]
  },
  {
   "cell_type": "code",
   "execution_count": 42,
   "metadata": {},
   "outputs": [],
   "source": [
    "data_train = data_train[data_train['rougher.input.feed_ag'] > 0]\n",
    "data_train = data_train[data_train['rougher.input.feed_pb'] > 0]\n",
    "data_train = data_train[data_train['rougher.input.feed_sol'] > 0]\n",
    "data_train = data_train[data_train['rougher.input.feed_au'] > 0]\n",
    "data_train = data_train[data_train['rougher.output.concentrate_ag'] > 0]\n",
    "data_train = data_train[data_train['rougher.output.concentrate_sol'] > 0]\n",
    "data_train = data_train[data_train['rougher.output.concentrate_au'] > 0]\n",
    "data_train = data_train[data_train['rougher.output.concentrate_pb'] > 0]\n",
    "\n",
    "\n",
    "data_train = data_train[data_train['primary_cleaner.output.concentrate_ag'] > 0]\n",
    "data_train = data_train[data_train['primary_cleaner.output.concentrate_pb'] > 0]\n",
    "data_train = data_train[data_train['primary_cleaner.output.concentrate_sol'] > 0]\n",
    "data_train = data_train[data_train['primary_cleaner.output.concentrate_au'] > 0]\n",
    "\n",
    "data_train = data_train[data_train['final.output.concentrate_ag'] > 0]\n",
    "data_train = data_train[data_train['final.output.concentrate_pb'] > 0]\n",
    "data_train = data_train[data_train['final.output.concentrate_sol'] > 0]\n",
    "data_train = data_train[data_train['final.output.concentrate_au'] > 0]\n"
   ]
  },
  {
   "cell_type": "markdown",
   "metadata": {},
   "source": [
    "Вывод: провели анализ концентрации металлов на разных стадиях, размера гранул сырья, концентрации веществ на разных стадиях."
   ]
  },
  {
   "cell_type": "markdown",
   "metadata": {},
   "source": [
    "## Модель"
   ]
  },
  {
   "cell_type": "markdown",
   "metadata": {},
   "source": [
    "3.1. Напишем функцию для вычисления итоговой sMAPE.\n",
    "3.2. Обучим разные модели и оценим их качество кросс-валидацией. Выберим лучшую модель и проверим её на тестовой выборке. Опишем выводы."
   ]
  },
  {
   "cell_type": "markdown",
   "metadata": {},
   "source": [
    "Нам нужно две модели, первая для прогнозирования до очистки, вторая для прогнозирования после проведения очисток.\n",
    "Создадим датасеты для обеих из обучающих данных. Для второй модели это данные за исключением того, что нет в тестовых данных. А для модели этапа флотация, нужно выбрать только данные по флотации. "
   ]
  },
  {
   "cell_type": "code",
   "execution_count": 43,
   "metadata": {},
   "outputs": [
    {
     "data": {
      "text/plain": [
       "Index(['date', 'primary_cleaner.input.sulfate',\n",
       "       'primary_cleaner.input.depressant', 'primary_cleaner.input.feed_size',\n",
       "       'primary_cleaner.input.xanthate',\n",
       "       'primary_cleaner.state.floatbank8_a_air',\n",
       "       'primary_cleaner.state.floatbank8_a_level',\n",
       "       'primary_cleaner.state.floatbank8_b_air',\n",
       "       'primary_cleaner.state.floatbank8_b_level',\n",
       "       'primary_cleaner.state.floatbank8_c_air',\n",
       "       'primary_cleaner.state.floatbank8_c_level',\n",
       "       'primary_cleaner.state.floatbank8_d_air',\n",
       "       'primary_cleaner.state.floatbank8_d_level', 'rougher.input.feed_ag',\n",
       "       'rougher.input.feed_pb', 'rougher.input.feed_rate',\n",
       "       'rougher.input.feed_size', 'rougher.input.feed_sol',\n",
       "       'rougher.input.feed_au', 'rougher.input.floatbank10_sulfate',\n",
       "       'rougher.input.floatbank10_xanthate',\n",
       "       'rougher.input.floatbank11_sulfate',\n",
       "       'rougher.input.floatbank11_xanthate', 'rougher.state.floatbank10_a_air',\n",
       "       'rougher.state.floatbank10_a_level', 'rougher.state.floatbank10_b_air',\n",
       "       'rougher.state.floatbank10_b_level', 'rougher.state.floatbank10_c_air',\n",
       "       'rougher.state.floatbank10_c_level', 'rougher.state.floatbank10_d_air',\n",
       "       'rougher.state.floatbank10_d_level', 'rougher.state.floatbank10_e_air',\n",
       "       'rougher.state.floatbank10_e_level', 'rougher.state.floatbank10_f_air',\n",
       "       'rougher.state.floatbank10_f_level',\n",
       "       'secondary_cleaner.state.floatbank2_a_air',\n",
       "       'secondary_cleaner.state.floatbank2_a_level',\n",
       "       'secondary_cleaner.state.floatbank2_b_air',\n",
       "       'secondary_cleaner.state.floatbank2_b_level',\n",
       "       'secondary_cleaner.state.floatbank3_a_air',\n",
       "       'secondary_cleaner.state.floatbank3_a_level',\n",
       "       'secondary_cleaner.state.floatbank3_b_air',\n",
       "       'secondary_cleaner.state.floatbank3_b_level',\n",
       "       'secondary_cleaner.state.floatbank4_a_air',\n",
       "       'secondary_cleaner.state.floatbank4_a_level',\n",
       "       'secondary_cleaner.state.floatbank4_b_air',\n",
       "       'secondary_cleaner.state.floatbank4_b_level',\n",
       "       'secondary_cleaner.state.floatbank5_a_air',\n",
       "       'secondary_cleaner.state.floatbank5_a_level',\n",
       "       'secondary_cleaner.state.floatbank5_b_air',\n",
       "       'secondary_cleaner.state.floatbank5_b_level',\n",
       "       'secondary_cleaner.state.floatbank6_a_air',\n",
       "       'secondary_cleaner.state.floatbank6_a_level'],\n",
       "      dtype='object')"
      ]
     },
     "execution_count": 43,
     "metadata": {},
     "output_type": "execute_result"
    }
   ],
   "source": [
    "data_for_model = data_train.drop(data_train.columns.difference(data_test.columns), axis=1)\n",
    "data_for_model.columns"
   ]
  },
  {
   "cell_type": "markdown",
   "metadata": {},
   "source": [
    "Данные для первой модели"
   ]
  },
  {
   "cell_type": "code",
   "execution_count": 44,
   "metadata": {},
   "outputs": [
    {
     "data": {
      "text/html": [
       "<div>\n",
       "<style scoped>\n",
       "    .dataframe tbody tr th:only-of-type {\n",
       "        vertical-align: middle;\n",
       "    }\n",
       "\n",
       "    .dataframe tbody tr th {\n",
       "        vertical-align: top;\n",
       "    }\n",
       "\n",
       "    .dataframe thead th {\n",
       "        text-align: right;\n",
       "    }\n",
       "</style>\n",
       "<table border=\"1\" class=\"dataframe\">\n",
       "  <thead>\n",
       "    <tr style=\"text-align: right;\">\n",
       "      <th></th>\n",
       "      <th>rougher.input.feed_ag</th>\n",
       "      <th>rougher.input.feed_pb</th>\n",
       "      <th>rougher.input.feed_rate</th>\n",
       "      <th>rougher.input.feed_size</th>\n",
       "      <th>rougher.input.feed_sol</th>\n",
       "      <th>rougher.input.feed_au</th>\n",
       "      <th>rougher.input.floatbank10_sulfate</th>\n",
       "      <th>rougher.input.floatbank10_xanthate</th>\n",
       "      <th>rougher.input.floatbank11_sulfate</th>\n",
       "      <th>rougher.input.floatbank11_xanthate</th>\n",
       "      <th>...</th>\n",
       "      <th>rougher.state.floatbank10_b_air</th>\n",
       "      <th>rougher.state.floatbank10_b_level</th>\n",
       "      <th>rougher.state.floatbank10_c_air</th>\n",
       "      <th>rougher.state.floatbank10_c_level</th>\n",
       "      <th>rougher.state.floatbank10_d_air</th>\n",
       "      <th>rougher.state.floatbank10_d_level</th>\n",
       "      <th>rougher.state.floatbank10_e_air</th>\n",
       "      <th>rougher.state.floatbank10_e_level</th>\n",
       "      <th>rougher.state.floatbank10_f_air</th>\n",
       "      <th>rougher.state.floatbank10_f_level</th>\n",
       "    </tr>\n",
       "  </thead>\n",
       "  <tbody>\n",
       "    <tr>\n",
       "      <th>0</th>\n",
       "      <td>6.100378</td>\n",
       "      <td>2.284912</td>\n",
       "      <td>523.546326</td>\n",
       "      <td>55.486599</td>\n",
       "      <td>36.808594</td>\n",
       "      <td>6.486150</td>\n",
       "      <td>11.986616</td>\n",
       "      <td>6.007990</td>\n",
       "      <td>11.836743</td>\n",
       "      <td>6.005818</td>\n",
       "      <td>...</td>\n",
       "      <td>1603.011353</td>\n",
       "      <td>-434.715027</td>\n",
       "      <td>1602.375000</td>\n",
       "      <td>-442.204468</td>\n",
       "      <td>1598.937256</td>\n",
       "      <td>-451.294128</td>\n",
       "      <td>1404.472046</td>\n",
       "      <td>-455.462982</td>\n",
       "      <td>1416.354980</td>\n",
       "      <td>-451.939636</td>\n",
       "    </tr>\n",
       "    <tr>\n",
       "      <th>1</th>\n",
       "      <td>6.161113</td>\n",
       "      <td>2.266033</td>\n",
       "      <td>525.290581</td>\n",
       "      <td>57.278666</td>\n",
       "      <td>35.753385</td>\n",
       "      <td>6.478583</td>\n",
       "      <td>11.971193</td>\n",
       "      <td>6.005766</td>\n",
       "      <td>11.996163</td>\n",
       "      <td>6.012594</td>\n",
       "      <td>...</td>\n",
       "      <td>1600.754587</td>\n",
       "      <td>-449.953435</td>\n",
       "      <td>1600.479580</td>\n",
       "      <td>-449.830646</td>\n",
       "      <td>1600.527589</td>\n",
       "      <td>-449.953649</td>\n",
       "      <td>1399.227084</td>\n",
       "      <td>-450.869848</td>\n",
       "      <td>1399.719514</td>\n",
       "      <td>-450.119001</td>\n",
       "    </tr>\n",
       "    <tr>\n",
       "      <th>2</th>\n",
       "      <td>6.116455</td>\n",
       "      <td>2.159622</td>\n",
       "      <td>530.026610</td>\n",
       "      <td>57.510649</td>\n",
       "      <td>35.971630</td>\n",
       "      <td>6.362222</td>\n",
       "      <td>11.920603</td>\n",
       "      <td>6.197377</td>\n",
       "      <td>11.920305</td>\n",
       "      <td>6.204633</td>\n",
       "      <td>...</td>\n",
       "      <td>1599.337330</td>\n",
       "      <td>-450.008530</td>\n",
       "      <td>1599.672797</td>\n",
       "      <td>-449.954491</td>\n",
       "      <td>1599.849325</td>\n",
       "      <td>-449.954185</td>\n",
       "      <td>1399.180945</td>\n",
       "      <td>-449.937588</td>\n",
       "      <td>1400.316682</td>\n",
       "      <td>-450.527147</td>\n",
       "    </tr>\n",
       "    <tr>\n",
       "      <th>3</th>\n",
       "      <td>6.043309</td>\n",
       "      <td>2.037807</td>\n",
       "      <td>542.590390</td>\n",
       "      <td>57.792734</td>\n",
       "      <td>36.862241</td>\n",
       "      <td>6.118189</td>\n",
       "      <td>11.630094</td>\n",
       "      <td>6.203177</td>\n",
       "      <td>11.692450</td>\n",
       "      <td>6.196578</td>\n",
       "      <td>...</td>\n",
       "      <td>1600.059442</td>\n",
       "      <td>-450.619948</td>\n",
       "      <td>1600.012842</td>\n",
       "      <td>-449.910497</td>\n",
       "      <td>1597.725177</td>\n",
       "      <td>-450.130127</td>\n",
       "      <td>1400.943157</td>\n",
       "      <td>-450.030142</td>\n",
       "      <td>1400.234743</td>\n",
       "      <td>-449.790835</td>\n",
       "    </tr>\n",
       "    <tr>\n",
       "      <th>4</th>\n",
       "      <td>6.060915</td>\n",
       "      <td>1.786875</td>\n",
       "      <td>540.531893</td>\n",
       "      <td>56.047189</td>\n",
       "      <td>34.347666</td>\n",
       "      <td>5.663707</td>\n",
       "      <td>10.957755</td>\n",
       "      <td>6.198826</td>\n",
       "      <td>10.960521</td>\n",
       "      <td>6.194897</td>\n",
       "      <td>...</td>\n",
       "      <td>1600.208824</td>\n",
       "      <td>-449.599614</td>\n",
       "      <td>1600.357732</td>\n",
       "      <td>-450.034364</td>\n",
       "      <td>1599.759049</td>\n",
       "      <td>-449.909799</td>\n",
       "      <td>1401.560902</td>\n",
       "      <td>-448.877187</td>\n",
       "      <td>1401.160227</td>\n",
       "      <td>-450.407128</td>\n",
       "    </tr>\n",
       "  </tbody>\n",
       "</table>\n",
       "<p>5 rows × 22 columns</p>\n",
       "</div>"
      ],
      "text/plain": [
       "   rougher.input.feed_ag  rougher.input.feed_pb  rougher.input.feed_rate  \\\n",
       "0               6.100378               2.284912               523.546326   \n",
       "1               6.161113               2.266033               525.290581   \n",
       "2               6.116455               2.159622               530.026610   \n",
       "3               6.043309               2.037807               542.590390   \n",
       "4               6.060915               1.786875               540.531893   \n",
       "\n",
       "   rougher.input.feed_size  rougher.input.feed_sol  rougher.input.feed_au  \\\n",
       "0                55.486599               36.808594               6.486150   \n",
       "1                57.278666               35.753385               6.478583   \n",
       "2                57.510649               35.971630               6.362222   \n",
       "3                57.792734               36.862241               6.118189   \n",
       "4                56.047189               34.347666               5.663707   \n",
       "\n",
       "   rougher.input.floatbank10_sulfate  rougher.input.floatbank10_xanthate  \\\n",
       "0                          11.986616                            6.007990   \n",
       "1                          11.971193                            6.005766   \n",
       "2                          11.920603                            6.197377   \n",
       "3                          11.630094                            6.203177   \n",
       "4                          10.957755                            6.198826   \n",
       "\n",
       "   rougher.input.floatbank11_sulfate  rougher.input.floatbank11_xanthate  ...  \\\n",
       "0                          11.836743                            6.005818  ...   \n",
       "1                          11.996163                            6.012594  ...   \n",
       "2                          11.920305                            6.204633  ...   \n",
       "3                          11.692450                            6.196578  ...   \n",
       "4                          10.960521                            6.194897  ...   \n",
       "\n",
       "   rougher.state.floatbank10_b_air  rougher.state.floatbank10_b_level  \\\n",
       "0                      1603.011353                        -434.715027   \n",
       "1                      1600.754587                        -449.953435   \n",
       "2                      1599.337330                        -450.008530   \n",
       "3                      1600.059442                        -450.619948   \n",
       "4                      1600.208824                        -449.599614   \n",
       "\n",
       "   rougher.state.floatbank10_c_air  rougher.state.floatbank10_c_level  \\\n",
       "0                      1602.375000                        -442.204468   \n",
       "1                      1600.479580                        -449.830646   \n",
       "2                      1599.672797                        -449.954491   \n",
       "3                      1600.012842                        -449.910497   \n",
       "4                      1600.357732                        -450.034364   \n",
       "\n",
       "   rougher.state.floatbank10_d_air  rougher.state.floatbank10_d_level  \\\n",
       "0                      1598.937256                        -451.294128   \n",
       "1                      1600.527589                        -449.953649   \n",
       "2                      1599.849325                        -449.954185   \n",
       "3                      1597.725177                        -450.130127   \n",
       "4                      1599.759049                        -449.909799   \n",
       "\n",
       "   rougher.state.floatbank10_e_air  rougher.state.floatbank10_e_level  \\\n",
       "0                      1404.472046                        -455.462982   \n",
       "1                      1399.227084                        -450.869848   \n",
       "2                      1399.180945                        -449.937588   \n",
       "3                      1400.943157                        -450.030142   \n",
       "4                      1401.560902                        -448.877187   \n",
       "\n",
       "   rougher.state.floatbank10_f_air  rougher.state.floatbank10_f_level  \n",
       "0                      1416.354980                        -451.939636  \n",
       "1                      1399.719514                        -450.119001  \n",
       "2                      1400.316682                        -450.527147  \n",
       "3                      1400.234743                        -449.790835  \n",
       "4                      1401.160227                        -450.407128  \n",
       "\n",
       "[5 rows x 22 columns]"
      ]
     },
     "execution_count": 44,
     "metadata": {},
     "output_type": "execute_result"
    }
   ],
   "source": [
    "data_for_model_rougher = data_for_model[['rougher.input.feed_ag',\n",
    "       'rougher.input.feed_pb', 'rougher.input.feed_rate',\n",
    "       'rougher.input.feed_size', 'rougher.input.feed_sol',\n",
    "       'rougher.input.feed_au', 'rougher.input.floatbank10_sulfate',\n",
    "       'rougher.input.floatbank10_xanthate',\n",
    "       'rougher.input.floatbank11_sulfate',\n",
    "       'rougher.input.floatbank11_xanthate', 'rougher.state.floatbank10_a_air',\n",
    "       'rougher.state.floatbank10_a_level', 'rougher.state.floatbank10_b_air',\n",
    "       'rougher.state.floatbank10_b_level', 'rougher.state.floatbank10_c_air',\n",
    "       'rougher.state.floatbank10_c_level', 'rougher.state.floatbank10_d_air',\n",
    "       'rougher.state.floatbank10_d_level', 'rougher.state.floatbank10_e_air',\n",
    "       'rougher.state.floatbank10_e_level', 'rougher.state.floatbank10_f_air',\n",
    "       'rougher.state.floatbank10_f_level']]\n",
    "data_for_model_rougher.head(5)"
   ]
  },
  {
   "cell_type": "markdown",
   "metadata": {},
   "source": [
    "Модель для предсказания эффективности обогащения на флотации"
   ]
  },
  {
   "cell_type": "markdown",
   "metadata": {},
   "source": [
    "В features вносим данные для модели, в target целевой признак из обучающего набора данных"
   ]
  },
  {
   "cell_type": "code",
   "execution_count": 45,
   "metadata": {},
   "outputs": [],
   "source": [
    "features = data_for_model_rougher\n",
    "target = data_train['rougher.output.recovery']"
   ]
  },
  {
   "cell_type": "markdown",
   "metadata": {},
   "source": [
    "Стандартизируем данные"
   ]
  },
  {
   "cell_type": "code",
   "execution_count": 46,
   "metadata": {},
   "outputs": [
    {
     "name": "stdout",
     "output_type": "stream",
     "text": [
      "[[-1.30692139 -1.11373907  0.46621845 ...  0.16495576  2.16295498\n",
      "   0.22352113]\n",
      " [-1.27480632 -1.13105692  0.48326314 ...  0.24634494  2.06796112\n",
      "   0.2557963 ]\n",
      " [-1.29842043 -1.22866606  0.52954318 ...  0.26286435  2.07137114\n",
      "   0.24856093]\n",
      " ...\n",
      " [-1.37558892  0.47783174  0.78025376 ... -0.63318944 -1.06851188\n",
      "  -0.75074851]\n",
      " [-1.33454846  0.37008242  0.67323981 ... -0.60722626 -1.06342987\n",
      "  -0.61291056]\n",
      " [-1.27607312  0.34549018  0.7815958  ... -0.61103667 -1.07047275\n",
      "  -0.61795492]]\n"
     ]
    }
   ],
   "source": [
    "pd.options.mode.chained_assignment = None\n",
    "scaler = StandardScaler() \n",
    "scaler.fit(features)\n",
    "features = scaler.transform(features)\n",
    "print(features)"
   ]
  },
  {
   "cell_type": "markdown",
   "metadata": {},
   "source": [
    "Линейная регрессия\n",
    "\n",
    "Создадим функцию для sMAPE\n",
    "\n",
    "Выберем лучшие параметры"
   ]
  },
  {
   "cell_type": "code",
   "execution_count": 47,
   "metadata": {},
   "outputs": [],
   "source": [
    "def smape(a,f):\n",
    "    return 1/ len (a) * np.sum (2* np.abs (f-a) / (np.abs (a) + np.abs (f))*100)"
   ]
  },
  {
   "cell_type": "code",
   "execution_count": 48,
   "metadata": {},
   "outputs": [],
   "source": [
    "smape_score = make_scorer(smape, greater_is_better=False)"
   ]
  },
  {
   "cell_type": "code",
   "execution_count": 49,
   "metadata": {},
   "outputs": [],
   "source": [
    "def total_smape(a, b):\n",
    "    return ((0.25*a) + (0.75*b))"
   ]
  },
  {
   "cell_type": "code",
   "execution_count": 50,
   "metadata": {},
   "outputs": [],
   "source": [
    "def parameters_model(features, target, model, rs_space):\n",
    "    lr = model(random_state=12345)\n",
    "    lr_random = RandomizedSearchCV(lr, rs_space, scoring=smape_score, n_jobs=-1)\n",
    "    model_random = lr_random.fit(features, target)\n",
    "        \n",
    "    smape = -model_random.best_score_\n",
    "    return smape\n",
    "    "
   ]
  },
  {
   "cell_type": "code",
   "execution_count": 51,
   "metadata": {},
   "outputs": [
    {
     "data": {
      "text/plain": [
       "8.998656583167406"
      ]
     },
     "execution_count": 51,
     "metadata": {},
     "output_type": "execute_result"
    }
   ],
   "source": [
    "model=LinearRegression()\n",
    "rougher = -(cross_val_score(model, features, target, scoring=smape_score, cv=3)).mean()\n",
    "rougher"
   ]
  },
  {
   "cell_type": "markdown",
   "metadata": {},
   "source": [
    "Вывод: симметричная средняя абсолютная процентная ошибка для этой модели составляет примерно 6%"
   ]
  },
  {
   "cell_type": "markdown",
   "metadata": {},
   "source": [
    "Вторая модель"
   ]
  },
  {
   "cell_type": "markdown",
   "metadata": {},
   "source": [
    "В features помещаем все признаки кроме даты, в target целевую переменную из обучающих данных"
   ]
  },
  {
   "cell_type": "code",
   "execution_count": 52,
   "metadata": {},
   "outputs": [],
   "source": [
    "features_1 = data_for_model.drop(['date'], axis=1)\n",
    "target_1 = data_train['final.output.recovery']"
   ]
  },
  {
   "cell_type": "markdown",
   "metadata": {},
   "source": [
    "Стандартизируем данные"
   ]
  },
  {
   "cell_type": "code",
   "execution_count": 53,
   "metadata": {},
   "outputs": [
    {
     "name": "stdout",
     "output_type": "stream",
     "text": [
      "[[-0.17410627  0.37649293 -0.12023648 ... -0.42876765 -0.96351714\n",
      "  -2.68248142]\n",
      " [-0.21154873  0.42645437 -0.12023648 ... -0.43162239 -0.99026667\n",
      "  -2.51861346]\n",
      " [-0.25786445  0.72988034 -0.12023648 ... -0.42996394 -0.98496699\n",
      "  -2.56300353]\n",
      " ...\n",
      " [-0.72254334 -0.26995951 -1.33611631 ... -0.4144776   0.05750574\n",
      "   0.1409472 ]\n",
      " [-0.8962334  -0.26131742 -1.33611631 ... -0.41606626  0.06154482\n",
      "   0.16511499]\n",
      " [-0.98920434 -0.23311947 -1.33611631 ... -0.41875503  0.05740966\n",
      "   0.20392218]]\n"
     ]
    }
   ],
   "source": [
    "pd.options.mode.chained_assignment = None\n",
    "scaler = StandardScaler() \n",
    "scaler.fit(features_1)\n",
    "features_1 = scaler.transform(features_1)\n",
    "print(features_1)"
   ]
  },
  {
   "cell_type": "code",
   "execution_count": 54,
   "metadata": {},
   "outputs": [
    {
     "data": {
      "text/plain": [
       "8.998656583167406"
      ]
     },
     "execution_count": 54,
     "metadata": {},
     "output_type": "execute_result"
    }
   ],
   "source": [
    "model=LinearRegression()\n",
    "final = -(cross_val_score(model, features, target, scoring=smape_score, cv=3)).mean()\n",
    "final"
   ]
  },
  {
   "cell_type": "markdown",
   "metadata": {},
   "source": [
    "Вывод: симметричная средняя абсолютная процентная ошибка для этой модели составляет примерно 10%"
   ]
  },
  {
   "cell_type": "code",
   "execution_count": 55,
   "metadata": {},
   "outputs": [
    {
     "name": "stdout",
     "output_type": "stream",
     "text": [
      "Итоговое sMAPE для линейной регресcии: 8.998656583167406.\n"
     ]
    }
   ],
   "source": [
    "print(f'Итоговое sMAPE для линейной регресcии: {total_smape(rougher, final)}.')"
   ]
  },
  {
   "cell_type": "markdown",
   "metadata": {},
   "source": [
    "Попробуем другие модели"
   ]
  },
  {
   "cell_type": "markdown",
   "metadata": {},
   "source": [
    "Дерево решений"
   ]
  },
  {
   "cell_type": "code",
   "execution_count": 56,
   "metadata": {},
   "outputs": [],
   "source": [
    "rougher = parameters_model(features, target, DecisionTreeRegressor,  rs_space={'criterion':['squared_error', 'friedman_mse', 'absolute_error', 'poisson'],\n",
    "              'splitter':['best', 'random'], 'max_depth': range (1,13, 2)}) \n",
    "final = parameters_model(features_1, target_1, DecisionTreeRegressor,  rs_space={'criterion':['squared_error', 'friedman_mse', 'absolute_error', 'poisson'],\n",
    "              'splitter':['best', 'random'], 'max_depth': range (1,13, 2)})"
   ]
  },
  {
   "cell_type": "code",
   "execution_count": 57,
   "metadata": {},
   "outputs": [
    {
     "data": {
      "text/plain": [
       "7.542337191499965"
      ]
     },
     "execution_count": 57,
     "metadata": {},
     "output_type": "execute_result"
    }
   ],
   "source": [
    "rougher"
   ]
  },
  {
   "cell_type": "code",
   "execution_count": 58,
   "metadata": {},
   "outputs": [
    {
     "data": {
      "text/plain": [
       "9.418711833416854"
      ]
     },
     "execution_count": 58,
     "metadata": {},
     "output_type": "execute_result"
    }
   ],
   "source": [
    "final"
   ]
  },
  {
   "cell_type": "code",
   "execution_count": 59,
   "metadata": {},
   "outputs": [
    {
     "name": "stdout",
     "output_type": "stream",
     "text": [
      "Итоговое sMAPE для дерева решений: 8.949618172937631.\n"
     ]
    }
   ],
   "source": [
    "print(f'Итоговое sMAPE для дерева решений: {total_smape(rougher, final)}.')"
   ]
  },
  {
   "cell_type": "markdown",
   "metadata": {},
   "source": [
    "Случайный лес"
   ]
  },
  {
   "cell_type": "code",
   "execution_count": 60,
   "metadata": {},
   "outputs": [
    {
     "data": {
      "text/plain": [
       "6.973946087168787"
      ]
     },
     "execution_count": 60,
     "metadata": {},
     "output_type": "execute_result"
    }
   ],
   "source": [
    "rougher = parameters_model(features, target, RandomForestRegressor,  rs_space={'criterion':['squared_error', 'friedman_mse', 'absolute_error', 'poisson'],\n",
    "              'max_depth': range (1,13, 2), 'n_estimators': range (10, 51, 10)})\n",
    "rougher"
   ]
  },
  {
   "cell_type": "code",
   "execution_count": 61,
   "metadata": {},
   "outputs": [
    {
     "data": {
      "text/plain": [
       "9.228818799807145"
      ]
     },
     "execution_count": 61,
     "metadata": {},
     "output_type": "execute_result"
    }
   ],
   "source": [
    "final = parameters_model(features_1, target_1, RandomForestRegressor,  rs_space={'criterion':['squared_error', 'friedman_mse', 'absolute_error', 'poisson'],\n",
    "              'max_depth': range (1,13, 2), 'n_estimators': range (10, 51, 10)})\n",
    "final"
   ]
  },
  {
   "cell_type": "code",
   "execution_count": 62,
   "metadata": {},
   "outputs": [
    {
     "name": "stdout",
     "output_type": "stream",
     "text": [
      "Итоговое sMAPE для случайного леса: 8.665100621647555.\n"
     ]
    }
   ],
   "source": [
    "print(f'Итоговое sMAPE для случайного леса: {total_smape(rougher, final)}.')"
   ]
  },
  {
   "cell_type": "markdown",
   "metadata": {},
   "source": [
    "Проведем тестирование, но в тестовый набор данных надо добавить целевые переменные"
   ]
  },
  {
   "cell_type": "code",
   "execution_count": 63,
   "metadata": {},
   "outputs": [
    {
     "data": {
      "text/html": [
       "<div>\n",
       "<style scoped>\n",
       "    .dataframe tbody tr th:only-of-type {\n",
       "        vertical-align: middle;\n",
       "    }\n",
       "\n",
       "    .dataframe tbody tr th {\n",
       "        vertical-align: top;\n",
       "    }\n",
       "\n",
       "    .dataframe thead th {\n",
       "        text-align: right;\n",
       "    }\n",
       "</style>\n",
       "<table border=\"1\" class=\"dataframe\">\n",
       "  <thead>\n",
       "    <tr style=\"text-align: right;\">\n",
       "      <th></th>\n",
       "      <th>date</th>\n",
       "      <th>primary_cleaner.input.sulfate</th>\n",
       "      <th>primary_cleaner.input.depressant</th>\n",
       "      <th>primary_cleaner.input.feed_size</th>\n",
       "      <th>primary_cleaner.input.xanthate</th>\n",
       "      <th>primary_cleaner.state.floatbank8_a_air</th>\n",
       "      <th>primary_cleaner.state.floatbank8_a_level</th>\n",
       "      <th>primary_cleaner.state.floatbank8_b_air</th>\n",
       "      <th>primary_cleaner.state.floatbank8_b_level</th>\n",
       "      <th>primary_cleaner.state.floatbank8_c_air</th>\n",
       "      <th>...</th>\n",
       "      <th>secondary_cleaner.state.floatbank4_b_air</th>\n",
       "      <th>secondary_cleaner.state.floatbank4_b_level</th>\n",
       "      <th>secondary_cleaner.state.floatbank5_a_air</th>\n",
       "      <th>secondary_cleaner.state.floatbank5_a_level</th>\n",
       "      <th>secondary_cleaner.state.floatbank5_b_air</th>\n",
       "      <th>secondary_cleaner.state.floatbank5_b_level</th>\n",
       "      <th>secondary_cleaner.state.floatbank6_a_air</th>\n",
       "      <th>secondary_cleaner.state.floatbank6_a_level</th>\n",
       "      <th>rougher.output.recovery</th>\n",
       "      <th>final.output.recovery</th>\n",
       "    </tr>\n",
       "  </thead>\n",
       "  <tbody>\n",
       "    <tr>\n",
       "      <th>0</th>\n",
       "      <td>2016-09-01 00:59:59</td>\n",
       "      <td>210.800909</td>\n",
       "      <td>14.993118</td>\n",
       "      <td>8.080000</td>\n",
       "      <td>1.005021</td>\n",
       "      <td>1398.981301</td>\n",
       "      <td>-500.225577</td>\n",
       "      <td>1399.144926</td>\n",
       "      <td>-499.919735</td>\n",
       "      <td>1400.102998</td>\n",
       "      <td>...</td>\n",
       "      <td>8.016656</td>\n",
       "      <td>-501.289139</td>\n",
       "      <td>7.946562</td>\n",
       "      <td>-432.317850</td>\n",
       "      <td>4.872511</td>\n",
       "      <td>-500.037437</td>\n",
       "      <td>26.705889</td>\n",
       "      <td>-499.709414</td>\n",
       "      <td>89.993421</td>\n",
       "      <td>70.273583</td>\n",
       "    </tr>\n",
       "    <tr>\n",
       "      <th>1</th>\n",
       "      <td>2016-09-01 01:59:59</td>\n",
       "      <td>215.392455</td>\n",
       "      <td>14.987471</td>\n",
       "      <td>8.080000</td>\n",
       "      <td>0.990469</td>\n",
       "      <td>1398.777912</td>\n",
       "      <td>-500.057435</td>\n",
       "      <td>1398.055362</td>\n",
       "      <td>-499.778182</td>\n",
       "      <td>1396.151033</td>\n",
       "      <td>...</td>\n",
       "      <td>8.130979</td>\n",
       "      <td>-499.634209</td>\n",
       "      <td>7.958270</td>\n",
       "      <td>-525.839648</td>\n",
       "      <td>4.878850</td>\n",
       "      <td>-500.162375</td>\n",
       "      <td>25.019940</td>\n",
       "      <td>-499.819438</td>\n",
       "      <td>88.089657</td>\n",
       "      <td>68.910432</td>\n",
       "    </tr>\n",
       "    <tr>\n",
       "      <th>2</th>\n",
       "      <td>2016-09-01 02:59:59</td>\n",
       "      <td>215.259946</td>\n",
       "      <td>12.884934</td>\n",
       "      <td>7.786667</td>\n",
       "      <td>0.996043</td>\n",
       "      <td>1398.493666</td>\n",
       "      <td>-500.868360</td>\n",
       "      <td>1398.860436</td>\n",
       "      <td>-499.764529</td>\n",
       "      <td>1398.075709</td>\n",
       "      <td>...</td>\n",
       "      <td>8.096893</td>\n",
       "      <td>-500.827423</td>\n",
       "      <td>8.071056</td>\n",
       "      <td>-500.801673</td>\n",
       "      <td>4.905125</td>\n",
       "      <td>-499.828510</td>\n",
       "      <td>24.994862</td>\n",
       "      <td>-500.622559</td>\n",
       "      <td>88.412756</td>\n",
       "      <td>68.143213</td>\n",
       "    </tr>\n",
       "    <tr>\n",
       "      <th>3</th>\n",
       "      <td>2016-09-01 03:59:59</td>\n",
       "      <td>215.336236</td>\n",
       "      <td>12.006805</td>\n",
       "      <td>7.640000</td>\n",
       "      <td>0.863514</td>\n",
       "      <td>1399.618111</td>\n",
       "      <td>-498.863574</td>\n",
       "      <td>1397.440120</td>\n",
       "      <td>-499.211024</td>\n",
       "      <td>1400.129303</td>\n",
       "      <td>...</td>\n",
       "      <td>8.074946</td>\n",
       "      <td>-499.474407</td>\n",
       "      <td>7.897085</td>\n",
       "      <td>-500.868509</td>\n",
       "      <td>4.931400</td>\n",
       "      <td>-499.963623</td>\n",
       "      <td>24.948919</td>\n",
       "      <td>-498.709987</td>\n",
       "      <td>87.360133</td>\n",
       "      <td>67.776393</td>\n",
       "    </tr>\n",
       "    <tr>\n",
       "      <th>4</th>\n",
       "      <td>2016-09-01 04:59:59</td>\n",
       "      <td>199.099327</td>\n",
       "      <td>10.682530</td>\n",
       "      <td>7.530000</td>\n",
       "      <td>0.805575</td>\n",
       "      <td>1401.268123</td>\n",
       "      <td>-500.808305</td>\n",
       "      <td>1398.128818</td>\n",
       "      <td>-499.504543</td>\n",
       "      <td>1402.172226</td>\n",
       "      <td>...</td>\n",
       "      <td>8.054678</td>\n",
       "      <td>-500.397500</td>\n",
       "      <td>8.107890</td>\n",
       "      <td>-509.526725</td>\n",
       "      <td>4.957674</td>\n",
       "      <td>-500.360026</td>\n",
       "      <td>25.003331</td>\n",
       "      <td>-500.856333</td>\n",
       "      <td>83.236367</td>\n",
       "      <td>61.467078</td>\n",
       "    </tr>\n",
       "  </tbody>\n",
       "</table>\n",
       "<p>5 rows × 55 columns</p>\n",
       "</div>"
      ],
      "text/plain": [
       "                  date  primary_cleaner.input.sulfate  \\\n",
       "0  2016-09-01 00:59:59                     210.800909   \n",
       "1  2016-09-01 01:59:59                     215.392455   \n",
       "2  2016-09-01 02:59:59                     215.259946   \n",
       "3  2016-09-01 03:59:59                     215.336236   \n",
       "4  2016-09-01 04:59:59                     199.099327   \n",
       "\n",
       "   primary_cleaner.input.depressant  primary_cleaner.input.feed_size  \\\n",
       "0                         14.993118                         8.080000   \n",
       "1                         14.987471                         8.080000   \n",
       "2                         12.884934                         7.786667   \n",
       "3                         12.006805                         7.640000   \n",
       "4                         10.682530                         7.530000   \n",
       "\n",
       "   primary_cleaner.input.xanthate  primary_cleaner.state.floatbank8_a_air  \\\n",
       "0                        1.005021                             1398.981301   \n",
       "1                        0.990469                             1398.777912   \n",
       "2                        0.996043                             1398.493666   \n",
       "3                        0.863514                             1399.618111   \n",
       "4                        0.805575                             1401.268123   \n",
       "\n",
       "   primary_cleaner.state.floatbank8_a_level  \\\n",
       "0                               -500.225577   \n",
       "1                               -500.057435   \n",
       "2                               -500.868360   \n",
       "3                               -498.863574   \n",
       "4                               -500.808305   \n",
       "\n",
       "   primary_cleaner.state.floatbank8_b_air  \\\n",
       "0                             1399.144926   \n",
       "1                             1398.055362   \n",
       "2                             1398.860436   \n",
       "3                             1397.440120   \n",
       "4                             1398.128818   \n",
       "\n",
       "   primary_cleaner.state.floatbank8_b_level  \\\n",
       "0                               -499.919735   \n",
       "1                               -499.778182   \n",
       "2                               -499.764529   \n",
       "3                               -499.211024   \n",
       "4                               -499.504543   \n",
       "\n",
       "   primary_cleaner.state.floatbank8_c_air  ...  \\\n",
       "0                             1400.102998  ...   \n",
       "1                             1396.151033  ...   \n",
       "2                             1398.075709  ...   \n",
       "3                             1400.129303  ...   \n",
       "4                             1402.172226  ...   \n",
       "\n",
       "   secondary_cleaner.state.floatbank4_b_air  \\\n",
       "0                                  8.016656   \n",
       "1                                  8.130979   \n",
       "2                                  8.096893   \n",
       "3                                  8.074946   \n",
       "4                                  8.054678   \n",
       "\n",
       "   secondary_cleaner.state.floatbank4_b_level  \\\n",
       "0                                 -501.289139   \n",
       "1                                 -499.634209   \n",
       "2                                 -500.827423   \n",
       "3                                 -499.474407   \n",
       "4                                 -500.397500   \n",
       "\n",
       "   secondary_cleaner.state.floatbank5_a_air  \\\n",
       "0                                  7.946562   \n",
       "1                                  7.958270   \n",
       "2                                  8.071056   \n",
       "3                                  7.897085   \n",
       "4                                  8.107890   \n",
       "\n",
       "   secondary_cleaner.state.floatbank5_a_level  \\\n",
       "0                                 -432.317850   \n",
       "1                                 -525.839648   \n",
       "2                                 -500.801673   \n",
       "3                                 -500.868509   \n",
       "4                                 -509.526725   \n",
       "\n",
       "   secondary_cleaner.state.floatbank5_b_air  \\\n",
       "0                                  4.872511   \n",
       "1                                  4.878850   \n",
       "2                                  4.905125   \n",
       "3                                  4.931400   \n",
       "4                                  4.957674   \n",
       "\n",
       "   secondary_cleaner.state.floatbank5_b_level  \\\n",
       "0                                 -500.037437   \n",
       "1                                 -500.162375   \n",
       "2                                 -499.828510   \n",
       "3                                 -499.963623   \n",
       "4                                 -500.360026   \n",
       "\n",
       "   secondary_cleaner.state.floatbank6_a_air  \\\n",
       "0                                 26.705889   \n",
       "1                                 25.019940   \n",
       "2                                 24.994862   \n",
       "3                                 24.948919   \n",
       "4                                 25.003331   \n",
       "\n",
       "   secondary_cleaner.state.floatbank6_a_level  rougher.output.recovery  \\\n",
       "0                                 -499.709414                89.993421   \n",
       "1                                 -499.819438                88.089657   \n",
       "2                                 -500.622559                88.412756   \n",
       "3                                 -498.709987                87.360133   \n",
       "4                                 -500.856333                83.236367   \n",
       "\n",
       "   final.output.recovery  \n",
       "0              70.273583  \n",
       "1              68.910432  \n",
       "2              68.143213  \n",
       "3              67.776393  \n",
       "4              61.467078  \n",
       "\n",
       "[5 rows x 55 columns]"
      ]
     },
     "execution_count": 63,
     "metadata": {},
     "output_type": "execute_result"
    }
   ],
   "source": [
    "data_test = data_test.merge(data_full[['rougher.output.recovery', 'final.output.recovery', 'date']], how='left', on='date')\n",
    "data_test.head(5)"
   ]
  },
  {
   "cell_type": "code",
   "execution_count": 64,
   "metadata": {},
   "outputs": [
    {
     "data": {
      "text/plain": [
       "Index(['date', 'primary_cleaner.input.sulfate',\n",
       "       'primary_cleaner.input.depressant', 'primary_cleaner.input.feed_size',\n",
       "       'primary_cleaner.input.xanthate',\n",
       "       'primary_cleaner.state.floatbank8_a_air',\n",
       "       'primary_cleaner.state.floatbank8_a_level',\n",
       "       'primary_cleaner.state.floatbank8_b_air',\n",
       "       'primary_cleaner.state.floatbank8_b_level',\n",
       "       'primary_cleaner.state.floatbank8_c_air',\n",
       "       'primary_cleaner.state.floatbank8_c_level',\n",
       "       'primary_cleaner.state.floatbank8_d_air',\n",
       "       'primary_cleaner.state.floatbank8_d_level', 'rougher.input.feed_ag',\n",
       "       'rougher.input.feed_pb', 'rougher.input.feed_rate',\n",
       "       'rougher.input.feed_size', 'rougher.input.feed_sol',\n",
       "       'rougher.input.feed_au', 'rougher.input.floatbank10_sulfate',\n",
       "       'rougher.input.floatbank10_xanthate',\n",
       "       'rougher.input.floatbank11_sulfate',\n",
       "       'rougher.input.floatbank11_xanthate', 'rougher.state.floatbank10_a_air',\n",
       "       'rougher.state.floatbank10_a_level', 'rougher.state.floatbank10_b_air',\n",
       "       'rougher.state.floatbank10_b_level', 'rougher.state.floatbank10_c_air',\n",
       "       'rougher.state.floatbank10_c_level', 'rougher.state.floatbank10_d_air',\n",
       "       'rougher.state.floatbank10_d_level', 'rougher.state.floatbank10_e_air',\n",
       "       'rougher.state.floatbank10_e_level', 'rougher.state.floatbank10_f_air',\n",
       "       'rougher.state.floatbank10_f_level',\n",
       "       'secondary_cleaner.state.floatbank2_a_air',\n",
       "       'secondary_cleaner.state.floatbank2_a_level',\n",
       "       'secondary_cleaner.state.floatbank2_b_air',\n",
       "       'secondary_cleaner.state.floatbank2_b_level',\n",
       "       'secondary_cleaner.state.floatbank3_a_air',\n",
       "       'secondary_cleaner.state.floatbank3_a_level',\n",
       "       'secondary_cleaner.state.floatbank3_b_air',\n",
       "       'secondary_cleaner.state.floatbank3_b_level',\n",
       "       'secondary_cleaner.state.floatbank4_a_air',\n",
       "       'secondary_cleaner.state.floatbank4_a_level',\n",
       "       'secondary_cleaner.state.floatbank4_b_air',\n",
       "       'secondary_cleaner.state.floatbank4_b_level',\n",
       "       'secondary_cleaner.state.floatbank5_a_air',\n",
       "       'secondary_cleaner.state.floatbank5_a_level',\n",
       "       'secondary_cleaner.state.floatbank5_b_air',\n",
       "       'secondary_cleaner.state.floatbank5_b_level',\n",
       "       'secondary_cleaner.state.floatbank6_a_air',\n",
       "       'secondary_cleaner.state.floatbank6_a_level', 'rougher.output.recovery',\n",
       "       'final.output.recovery'],\n",
       "      dtype='object')"
      ]
     },
     "execution_count": 64,
     "metadata": {},
     "output_type": "execute_result"
    }
   ],
   "source": [
    "data_test.columns"
   ]
  },
  {
   "cell_type": "code",
   "execution_count": 65,
   "metadata": {},
   "outputs": [],
   "source": [
    "features_test = data_test[['rougher.input.feed_ag',\n",
    "       'rougher.input.feed_pb', 'rougher.input.feed_rate',\n",
    "       'rougher.input.feed_size', 'rougher.input.feed_sol',\n",
    "       'rougher.input.feed_au', 'rougher.input.floatbank10_sulfate',\n",
    "       'rougher.input.floatbank10_xanthate',\n",
    "       'rougher.input.floatbank11_sulfate',\n",
    "       'rougher.input.floatbank11_xanthate', 'rougher.state.floatbank10_a_air',\n",
    "       'rougher.state.floatbank10_a_level', 'rougher.state.floatbank10_b_air',\n",
    "       'rougher.state.floatbank10_b_level', 'rougher.state.floatbank10_c_air',\n",
    "       'rougher.state.floatbank10_c_level', 'rougher.state.floatbank10_d_air',\n",
    "       'rougher.state.floatbank10_d_level', 'rougher.state.floatbank10_e_air',\n",
    "       'rougher.state.floatbank10_e_level', 'rougher.state.floatbank10_f_air',\n",
    "       'rougher.state.floatbank10_f_level']]\n",
    "target_test = data_test['rougher.output.recovery']"
   ]
  },
  {
   "cell_type": "code",
   "execution_count": 66,
   "metadata": {},
   "outputs": [],
   "source": [
    "features_test_1 = data_test[['primary_cleaner.input.sulfate',\n",
    "       'primary_cleaner.input.depressant', 'primary_cleaner.input.feed_size',\n",
    "       'primary_cleaner.input.xanthate',\n",
    "       'primary_cleaner.state.floatbank8_a_air',\n",
    "       'primary_cleaner.state.floatbank8_a_level',\n",
    "       'primary_cleaner.state.floatbank8_b_air',\n",
    "       'primary_cleaner.state.floatbank8_b_level',\n",
    "       'primary_cleaner.state.floatbank8_c_air',\n",
    "       'primary_cleaner.state.floatbank8_c_level',\n",
    "       'primary_cleaner.state.floatbank8_d_air',\n",
    "       'primary_cleaner.state.floatbank8_d_level', 'rougher.input.feed_ag',\n",
    "       'rougher.input.feed_pb', 'rougher.input.feed_rate',\n",
    "       'rougher.input.feed_size', 'rougher.input.feed_sol',\n",
    "       'rougher.input.feed_au', 'rougher.input.floatbank10_sulfate',\n",
    "       'rougher.input.floatbank10_xanthate',\n",
    "       'rougher.input.floatbank11_sulfate',\n",
    "       'rougher.input.floatbank11_xanthate', 'rougher.state.floatbank10_a_air',\n",
    "       'rougher.state.floatbank10_a_level', 'rougher.state.floatbank10_b_air',\n",
    "       'rougher.state.floatbank10_b_level', 'rougher.state.floatbank10_c_air',\n",
    "       'rougher.state.floatbank10_c_level', 'rougher.state.floatbank10_d_air',\n",
    "       'rougher.state.floatbank10_d_level', 'rougher.state.floatbank10_e_air',\n",
    "       'rougher.state.floatbank10_e_level', 'rougher.state.floatbank10_f_air',\n",
    "       'rougher.state.floatbank10_f_level',\n",
    "       'secondary_cleaner.state.floatbank2_a_air',\n",
    "       'secondary_cleaner.state.floatbank2_a_level',\n",
    "       'secondary_cleaner.state.floatbank2_b_air',\n",
    "       'secondary_cleaner.state.floatbank2_b_level',\n",
    "       'secondary_cleaner.state.floatbank3_a_air',\n",
    "       'secondary_cleaner.state.floatbank3_a_level',\n",
    "       'secondary_cleaner.state.floatbank3_b_air',\n",
    "       'secondary_cleaner.state.floatbank3_b_level',\n",
    "       'secondary_cleaner.state.floatbank4_a_air',\n",
    "       'secondary_cleaner.state.floatbank4_a_level',\n",
    "       'secondary_cleaner.state.floatbank4_b_air',\n",
    "       'secondary_cleaner.state.floatbank4_b_level',\n",
    "       'secondary_cleaner.state.floatbank5_a_air',\n",
    "       'secondary_cleaner.state.floatbank5_a_level',\n",
    "       'secondary_cleaner.state.floatbank5_b_air',\n",
    "       'secondary_cleaner.state.floatbank5_b_level',\n",
    "       'secondary_cleaner.state.floatbank6_a_air',\n",
    "       'secondary_cleaner.state.floatbank6_a_level']]\n",
    "target_test_1 = data_test['final.output.recovery']"
   ]
  },
  {
   "cell_type": "markdown",
   "metadata": {},
   "source": [
    "Стандартизируем данные"
   ]
  },
  {
   "cell_type": "code",
   "execution_count": 67,
   "metadata": {},
   "outputs": [
    {
     "name": "stdout",
     "output_type": "stream",
     "text": [
      "[[  13.12856898    5.63671024  489.7936549  ... -399.53096224\n",
      "   949.56618935 -398.1808065 ]\n",
      " [  13.03627989    5.52606519  490.10453354 ... -399.49152777\n",
      "   950.20000896 -405.78751426]\n",
      " [  13.13841193    5.42656094  489.61796859 ... -399.23699933\n",
      "   950.32048103 -400.86434014]\n",
      " ...\n",
      " [  11.28590751    4.40532678  546.30686831 ... -499.47371293\n",
      "   850.27957826 -498.50837372]\n",
      " [  11.28970967    4.34348778  547.33140482 ... -500.38052945\n",
      "   850.07502569 -500.47824975]\n",
      " [  10.90464634    4.09059086  564.54037617 ... -500.81935107\n",
      "   850.68018802 -498.53919784]]\n"
     ]
    }
   ],
   "source": [
    "scaler = StandardScaler()\n",
    "scaler.fit(features)\n",
    "features = scaler.transform(features_test)\n",
    "print(features)"
   ]
  },
  {
   "cell_type": "code",
   "execution_count": 68,
   "metadata": {},
   "outputs": [
    {
     "name": "stdout",
     "output_type": "stream",
     "text": [
      "[[-0.17410627  0.37649293 -0.12023648 ... -0.42876765 -0.96351714\n",
      "  -2.68248142]\n",
      " [-0.21154873  0.42645437 -0.12023648 ... -0.43162239 -0.99026667\n",
      "  -2.51861346]\n",
      " [-0.25786445  0.72988034 -0.12023648 ... -0.42996394 -0.98496699\n",
      "  -2.56300353]\n",
      " ...\n",
      " [-0.72254334 -0.26995951 -1.33611631 ... -0.4144776   0.05750574\n",
      "   0.1409472 ]\n",
      " [-0.8962334  -0.26131742 -1.33611631 ... -0.41606626  0.06154482\n",
      "   0.16511499]\n",
      " [-0.98920434 -0.23311947 -1.33611631 ... -0.41875503  0.05740966\n",
      "   0.20392218]]\n"
     ]
    }
   ],
   "source": [
    "scaler = StandardScaler()\n",
    "scaler.fit(features_1)\n",
    "features = scaler.transform(features_test_1)\n",
    "print(features_1)"
   ]
  },
  {
   "cell_type": "code",
   "execution_count": 69,
   "metadata": {},
   "outputs": [
    {
     "name": "stdout",
     "output_type": "stream",
     "text": [
      "sMAPE: 8.735894143074566\n"
     ]
    }
   ],
   "source": [
    "model_rougher = RandomForestRegressor(n_estimators=10, max_depth=5, criterion='poisson', random_state=12345)\n",
    "\n",
    "\n",
    "model_rougher.fit(features_test, target_test)\n",
    "predictions_test = model_rougher.predict(features_test)\n",
    "rougher_smape = smape(target_test, predictions_test)\n",
    "print('sMAPE:', rougher_smape)"
   ]
  },
  {
   "cell_type": "code",
   "execution_count": 70,
   "metadata": {},
   "outputs": [
    {
     "name": "stdout",
     "output_type": "stream",
     "text": [
      "sMAPE: 9.10709012673528\n"
     ]
    }
   ],
   "source": [
    "model_final = RandomForestRegressor(n_estimators= 40, max_depth=1, criterion='friedman_mse', random_state=12345)\n",
    "\n",
    "\n",
    "model_final.fit(features_test_1, target_test_1)\n",
    "predictions_test_1 = model_final.predict(features_test_1)\n",
    "final_smape = smape(target_test_1, predictions_test_1)\n",
    "print('sMAPE:', final_smape)"
   ]
  },
  {
   "cell_type": "code",
   "execution_count": 71,
   "metadata": {},
   "outputs": [
    {
     "name": "stdout",
     "output_type": "stream",
     "text": [
      "Итоговый sMAPE на тестовых данных: 9.014291130820101\n"
     ]
    }
   ],
   "source": [
    "print('Итоговый sMAPE на тестовых данных:', total_smape(rougher_smape, final_smape))"
   ]
  },
  {
   "cell_type": "markdown",
   "metadata": {},
   "source": [
    "Вывод: выбраны лучшие модели, это случайный лес, проведено тестирование."
   ]
  },
  {
   "cell_type": "markdown",
   "metadata": {},
   "source": [
    "Проверка на адекватность"
   ]
  },
  {
   "cell_type": "code",
   "execution_count": 72,
   "metadata": {},
   "outputs": [
    {
     "name": "stdout",
     "output_type": "stream",
     "text": [
      "sMAPE: 8.782646809148405\n"
     ]
    }
   ],
   "source": [
    "model_rougher = DummyRegressor()\n",
    "\n",
    "\n",
    "model_rougher.fit(features_test, target_test)\n",
    "predictions_test = model_rougher.predict(features_test)\n",
    "rougher_smape = smape(target_test, predictions_test)\n",
    "print('sMAPE:', rougher_smape)"
   ]
  },
  {
   "cell_type": "code",
   "execution_count": 73,
   "metadata": {},
   "outputs": [
    {
     "name": "stdout",
     "output_type": "stream",
     "text": [
      "sMAPE: 9.370995594347834\n"
     ]
    }
   ],
   "source": [
    "model_final = DummyRegressor()\n",
    "\n",
    "\n",
    "model_final.fit(features_test_1, target_test_1)\n",
    "predictions_test_1 = model_final.predict(features_test_1)\n",
    "final_smape = smape(target_test_1, predictions_test_1)\n",
    "print('sMAPE:', final_smape)"
   ]
  },
  {
   "cell_type": "code",
   "execution_count": 74,
   "metadata": {},
   "outputs": [
    {
     "name": "stdout",
     "output_type": "stream",
     "text": [
      "Итоговый sMAPE на dummy модели: 9.223908398047977\n"
     ]
    }
   ],
   "source": [
    "print('Итоговый sMAPE на dummy модели:', total_smape(rougher_smape, final_smape))"
   ]
  },
  {
   "cell_type": "markdown",
   "metadata": {},
   "source": [
    "Общий вывод: \n",
    "1. сначала открыли файлы и рассмотрели данные, поработали над данными, проверили наличие дубликатов, заполнили пропуски, изучили разницу между тестовыми и обучающими данными\n",
    "2. провели анализ данных, проанализировали концентрации металлов на разных стадиях, размера гранул сырья, концентрации веществ на разных стадиях, графически посмотрели на эти данные\n",
    "3. подготовили данные для обучения моделей, выделили features и target для двух моделей, для модели прогнозирования на черновом этапе и для модели прогнозирования по всем данным, отмасштабировали признаки, попробовали обучить три модели, перебрав лучшие параметры методом случайного подбора, лучшей моделью был выбран случайный лес, его протестировали на тестовых данных, предварительно подготовив данные, а именно разделив на features и target и отмасштабировав признаки, также проверили модель на адекватность."
   ]
  }
 ],
 "metadata": {
  "ExecuteTimeLog": [
   {
    "duration": 362,
    "start_time": "2023-04-10T17:46:00.217Z"
   },
   {
    "duration": 874,
    "start_time": "2023-04-10T17:57:15.287Z"
   },
   {
    "duration": 250,
    "start_time": "2023-04-10T17:57:50.668Z"
   },
   {
    "duration": 30,
    "start_time": "2023-04-10T17:58:03.579Z"
   },
   {
    "duration": 19,
    "start_time": "2023-04-10T17:58:18.495Z"
   },
   {
    "duration": 14659,
    "start_time": "2023-04-10T18:00:30.081Z"
   },
   {
    "duration": 269,
    "start_time": "2023-04-10T18:01:17.259Z"
   },
   {
    "duration": 22,
    "start_time": "2023-04-10T18:01:19.887Z"
   },
   {
    "duration": 19,
    "start_time": "2023-04-10T18:02:05.107Z"
   },
   {
    "duration": 416,
    "start_time": "2023-04-10T18:28:20.532Z"
   },
   {
    "duration": 862,
    "start_time": "2023-04-10T18:28:20.950Z"
   },
   {
    "duration": 27,
    "start_time": "2023-04-10T18:28:21.813Z"
   },
   {
    "duration": 25,
    "start_time": "2023-04-10T18:28:21.841Z"
   },
   {
    "duration": 785,
    "start_time": "2023-04-10T18:30:44.649Z"
   },
   {
    "duration": 22,
    "start_time": "2023-04-10T18:31:03.564Z"
   },
   {
    "duration": 11,
    "start_time": "2023-04-10T18:31:23.717Z"
   },
   {
    "duration": 1787,
    "start_time": "2023-04-10T18:32:02.860Z"
   },
   {
    "duration": 387,
    "start_time": "2023-04-10T18:32:26.784Z"
   },
   {
    "duration": 263,
    "start_time": "2023-04-10T18:32:27.175Z"
   },
   {
    "duration": 40,
    "start_time": "2023-04-10T18:32:27.440Z"
   },
   {
    "duration": 19,
    "start_time": "2023-04-10T18:32:27.482Z"
   },
   {
    "duration": 74,
    "start_time": "2023-04-10T18:32:27.503Z"
   },
   {
    "duration": 20,
    "start_time": "2023-04-10T18:32:27.579Z"
   },
   {
    "duration": 16,
    "start_time": "2023-04-10T18:32:27.600Z"
   },
   {
    "duration": 338,
    "start_time": "2023-04-10T18:32:27.618Z"
   },
   {
    "duration": 20,
    "start_time": "2023-04-10T18:33:17.367Z"
   },
   {
    "duration": 17,
    "start_time": "2023-04-10T18:33:27.980Z"
   },
   {
    "duration": 1024,
    "start_time": "2023-04-11T19:46:33.460Z"
   },
   {
    "duration": 1526,
    "start_time": "2023-04-11T19:46:36.752Z"
   },
   {
    "duration": 30,
    "start_time": "2023-04-11T19:46:40.810Z"
   },
   {
    "duration": 19,
    "start_time": "2023-04-11T19:46:45.136Z"
   },
   {
    "duration": 231,
    "start_time": "2023-04-11T19:47:15.893Z"
   },
   {
    "duration": 7268,
    "start_time": "2023-04-11T19:52:47.252Z"
   },
   {
    "duration": 159,
    "start_time": "2023-04-11T19:53:36.870Z"
   },
   {
    "duration": 25,
    "start_time": "2023-04-11T19:53:40.552Z"
   },
   {
    "duration": 15,
    "start_time": "2023-04-11T19:53:44.423Z"
   },
   {
    "duration": 130,
    "start_time": "2023-04-11T19:54:18.071Z"
   },
   {
    "duration": 556,
    "start_time": "2023-04-11T19:54:39.257Z"
   },
   {
    "duration": 33,
    "start_time": "2023-04-11T19:54:45.807Z"
   },
   {
    "duration": 18,
    "start_time": "2023-04-11T19:54:53.575Z"
   },
   {
    "duration": 257,
    "start_time": "2023-04-11T19:55:16.655Z"
   },
   {
    "duration": 72,
    "start_time": "2023-04-12T16:37:04.635Z"
   },
   {
    "duration": 1240,
    "start_time": "2023-04-12T16:37:07.802Z"
   },
   {
    "duration": 2274,
    "start_time": "2023-04-12T16:37:11.005Z"
   },
   {
    "duration": 30,
    "start_time": "2023-04-12T16:37:14.773Z"
   },
   {
    "duration": 19,
    "start_time": "2023-04-12T16:37:18.070Z"
   },
   {
    "duration": 239,
    "start_time": "2023-04-12T16:37:32.899Z"
   },
   {
    "duration": 209,
    "start_time": "2023-04-12T16:37:35.963Z"
   },
   {
    "duration": 26,
    "start_time": "2023-04-12T16:37:38.147Z"
   },
   {
    "duration": 33,
    "start_time": "2023-04-12T16:37:43.212Z"
   },
   {
    "duration": 127,
    "start_time": "2023-04-12T16:37:48.844Z"
   },
   {
    "duration": 767,
    "start_time": "2023-04-12T16:37:52.197Z"
   },
   {
    "duration": 53,
    "start_time": "2023-04-12T16:37:57.505Z"
   },
   {
    "duration": 19,
    "start_time": "2023-04-12T16:38:01.758Z"
   },
   {
    "duration": 286,
    "start_time": "2023-04-12T16:38:08.000Z"
   },
   {
    "duration": 108,
    "start_time": "2023-04-12T16:47:03.446Z"
   },
   {
    "duration": 267,
    "start_time": "2023-04-12T16:48:12.135Z"
   },
   {
    "duration": 11,
    "start_time": "2023-04-12T16:48:51.200Z"
   },
   {
    "duration": 4,
    "start_time": "2023-04-12T16:49:45.849Z"
   },
   {
    "duration": 45,
    "start_time": "2023-04-12T16:52:36.177Z"
   },
   {
    "duration": 49,
    "start_time": "2023-04-12T16:52:47.040Z"
   },
   {
    "duration": 84,
    "start_time": "2023-04-12T16:53:08.515Z"
   },
   {
    "duration": 4,
    "start_time": "2023-04-12T17:16:13.653Z"
   },
   {
    "duration": 3,
    "start_time": "2023-04-12T17:16:25.086Z"
   },
   {
    "duration": 3,
    "start_time": "2023-04-12T17:34:57.908Z"
   },
   {
    "duration": 1156,
    "start_time": "2023-04-12T17:35:09.859Z"
   },
   {
    "duration": 350,
    "start_time": "2023-04-12T17:35:11.017Z"
   },
   {
    "duration": 29,
    "start_time": "2023-04-12T17:35:11.369Z"
   },
   {
    "duration": 41,
    "start_time": "2023-04-12T17:35:11.400Z"
   },
   {
    "duration": 229,
    "start_time": "2023-04-12T17:35:11.459Z"
   },
   {
    "duration": 84,
    "start_time": "2023-04-12T17:35:11.689Z"
   },
   {
    "duration": 20,
    "start_time": "2023-04-12T17:35:11.775Z"
   },
   {
    "duration": 42,
    "start_time": "2023-04-12T17:35:11.796Z"
   },
   {
    "duration": 126,
    "start_time": "2023-04-12T17:35:11.851Z"
   },
   {
    "duration": 382,
    "start_time": "2023-04-12T17:35:11.979Z"
   },
   {
    "duration": 20,
    "start_time": "2023-04-12T17:35:12.363Z"
   },
   {
    "duration": 19,
    "start_time": "2023-04-12T17:35:12.384Z"
   },
   {
    "duration": 263,
    "start_time": "2023-04-12T17:35:12.404Z"
   },
   {
    "duration": 72,
    "start_time": "2023-04-12T17:35:12.672Z"
   },
   {
    "duration": 19,
    "start_time": "2023-04-12T17:35:12.745Z"
   },
   {
    "duration": 217,
    "start_time": "2023-04-12T17:35:12.766Z"
   },
   {
    "duration": 3,
    "start_time": "2023-04-12T17:35:12.985Z"
   },
   {
    "duration": 9,
    "start_time": "2023-04-12T17:36:16.293Z"
   },
   {
    "duration": 24,
    "start_time": "2023-04-12T17:36:50.414Z"
   },
   {
    "duration": 9,
    "start_time": "2023-04-12T17:37:17.675Z"
   },
   {
    "duration": 7,
    "start_time": "2023-04-12T18:50:21.909Z"
   },
   {
    "duration": 135,
    "start_time": "2023-04-12T18:55:12.214Z"
   },
   {
    "duration": 9,
    "start_time": "2023-04-12T19:02:34.045Z"
   },
   {
    "duration": 7,
    "start_time": "2023-04-12T19:02:42.962Z"
   },
   {
    "duration": 37,
    "start_time": "2023-04-12T19:03:10.143Z"
   },
   {
    "duration": 8,
    "start_time": "2023-04-12T19:03:41.961Z"
   },
   {
    "duration": 9,
    "start_time": "2023-04-12T19:07:48.260Z"
   },
   {
    "duration": 11,
    "start_time": "2023-04-12T19:08:28.547Z"
   },
   {
    "duration": 4,
    "start_time": "2023-04-12T19:09:46.394Z"
   },
   {
    "duration": 9,
    "start_time": "2023-04-12T19:09:57.259Z"
   },
   {
    "duration": 5,
    "start_time": "2023-04-12T19:10:44.357Z"
   },
   {
    "duration": 33,
    "start_time": "2023-04-12T19:10:50.617Z"
   },
   {
    "duration": 13,
    "start_time": "2023-04-12T19:11:13.935Z"
   },
   {
    "duration": 8,
    "start_time": "2023-04-12T19:11:22.097Z"
   },
   {
    "duration": 4,
    "start_time": "2023-04-12T19:11:48.849Z"
   },
   {
    "duration": 10,
    "start_time": "2023-04-12T19:11:54.079Z"
   },
   {
    "duration": 9,
    "start_time": "2023-04-12T19:12:24.201Z"
   },
   {
    "duration": 281,
    "start_time": "2023-04-12T19:15:23.112Z"
   },
   {
    "duration": 5,
    "start_time": "2023-04-12T19:15:42.070Z"
   },
   {
    "duration": 9,
    "start_time": "2023-04-12T19:15:44.170Z"
   },
   {
    "duration": 4,
    "start_time": "2023-04-12T19:16:15.542Z"
   },
   {
    "duration": 319,
    "start_time": "2023-04-12T19:16:15.548Z"
   },
   {
    "duration": 21,
    "start_time": "2023-04-12T19:16:15.870Z"
   },
   {
    "duration": 35,
    "start_time": "2023-04-12T19:16:15.894Z"
   },
   {
    "duration": 241,
    "start_time": "2023-04-12T19:16:15.931Z"
   },
   {
    "duration": 9,
    "start_time": "2023-04-12T19:16:16.174Z"
   },
   {
    "duration": 81,
    "start_time": "2023-04-12T19:16:16.185Z"
   },
   {
    "duration": 23,
    "start_time": "2023-04-12T19:16:16.268Z"
   },
   {
    "duration": 12,
    "start_time": "2023-04-12T19:16:16.293Z"
   },
   {
    "duration": 192,
    "start_time": "2023-04-12T19:16:16.307Z"
   },
   {
    "duration": 7,
    "start_time": "2023-04-12T19:16:16.501Z"
   },
   {
    "duration": 407,
    "start_time": "2023-04-12T19:16:16.509Z"
   },
   {
    "duration": 31,
    "start_time": "2023-04-12T19:16:16.927Z"
   },
   {
    "duration": 20,
    "start_time": "2023-04-12T19:16:16.964Z"
   },
   {
    "duration": 311,
    "start_time": "2023-04-12T19:16:16.986Z"
   },
   {
    "duration": 18,
    "start_time": "2023-04-12T19:16:17.300Z"
   },
   {
    "duration": 13,
    "start_time": "2023-04-12T19:16:24.845Z"
   },
   {
    "duration": 19,
    "start_time": "2023-04-12T19:16:33.139Z"
   },
   {
    "duration": 14,
    "start_time": "2023-04-12T19:16:48.952Z"
   },
   {
    "duration": 4,
    "start_time": "2023-04-12T19:17:09.291Z"
   },
   {
    "duration": 8,
    "start_time": "2023-04-12T19:17:13.060Z"
   },
   {
    "duration": 21,
    "start_time": "2023-04-12T19:20:46.252Z"
   },
   {
    "duration": 31,
    "start_time": "2023-04-12T19:24:39.363Z"
   },
   {
    "duration": 9,
    "start_time": "2023-04-12T19:24:53.492Z"
   },
   {
    "duration": 10,
    "start_time": "2023-04-12T19:25:05.426Z"
   },
   {
    "duration": 9,
    "start_time": "2023-04-12T19:25:07.570Z"
   },
   {
    "duration": 22,
    "start_time": "2023-04-12T19:26:58.207Z"
   },
   {
    "duration": 149,
    "start_time": "2023-04-12T19:27:16.545Z"
   },
   {
    "duration": 1369,
    "start_time": "2023-04-13T18:45:05.210Z"
   },
   {
    "duration": 1046,
    "start_time": "2023-04-13T18:45:10.873Z"
   },
   {
    "duration": 48,
    "start_time": "2023-04-13T18:45:14.984Z"
   },
   {
    "duration": 28,
    "start_time": "2023-04-13T18:45:18.580Z"
   },
   {
    "duration": 404,
    "start_time": "2023-04-13T18:45:23.970Z"
   },
   {
    "duration": 11,
    "start_time": "2023-04-13T18:45:27.717Z"
   },
   {
    "duration": 996,
    "start_time": "2023-04-13T18:45:31.071Z"
   },
   {
    "duration": 45,
    "start_time": "2023-04-13T18:45:35.669Z"
   },
   {
    "duration": 19,
    "start_time": "2023-04-13T18:45:41.931Z"
   },
   {
    "duration": 198,
    "start_time": "2023-04-13T18:45:52.180Z"
   },
   {
    "duration": 13,
    "start_time": "2023-04-13T18:46:08.515Z"
   },
   {
    "duration": 2400,
    "start_time": "2023-04-13T18:46:14.074Z"
   },
   {
    "duration": 54,
    "start_time": "2023-04-13T18:46:19.535Z"
   },
   {
    "duration": 33,
    "start_time": "2023-04-13T18:46:29.279Z"
   },
   {
    "duration": 329,
    "start_time": "2023-04-13T18:46:33.910Z"
   },
   {
    "duration": 19,
    "start_time": "2023-04-13T18:46:37.013Z"
   },
   {
    "duration": 5,
    "start_time": "2023-04-13T18:48:27.110Z"
   },
   {
    "duration": 90,
    "start_time": "2023-04-13T19:04:17.913Z"
   },
   {
    "duration": 9,
    "start_time": "2023-04-13T19:04:36.789Z"
   },
   {
    "duration": 11,
    "start_time": "2023-04-13T19:05:38.610Z"
   },
   {
    "duration": 146,
    "start_time": "2023-04-13T19:05:43.357Z"
   },
   {
    "duration": 5,
    "start_time": "2023-04-13T19:24:04.882Z"
   },
   {
    "duration": 115,
    "start_time": "2023-04-13T19:24:54.010Z"
   },
   {
    "duration": 3,
    "start_time": "2023-04-13T19:24:59.988Z"
   },
   {
    "duration": 5,
    "start_time": "2023-04-13T19:25:02.809Z"
   },
   {
    "duration": 1631,
    "start_time": "2023-04-13T19:25:06.046Z"
   },
   {
    "duration": 814,
    "start_time": "2023-04-13T19:25:32.772Z"
   },
   {
    "duration": 1980,
    "start_time": "2023-04-13T19:26:17.151Z"
   },
   {
    "duration": 2234,
    "start_time": "2023-04-13T19:26:42.238Z"
   },
   {
    "duration": 15,
    "start_time": "2023-04-13T19:30:27.280Z"
   },
   {
    "duration": 21,
    "start_time": "2023-04-13T19:31:11.338Z"
   },
   {
    "duration": 940,
    "start_time": "2023-04-13T19:34:00.627Z"
   },
   {
    "duration": 1288,
    "start_time": "2023-04-13T19:34:41.277Z"
   },
   {
    "duration": 1551,
    "start_time": "2023-04-13T19:36:57.240Z"
   },
   {
    "duration": 1129,
    "start_time": "2023-04-13T19:38:01.526Z"
   },
   {
    "duration": 1118,
    "start_time": "2023-04-13T19:42:23.299Z"
   },
   {
    "duration": 1130,
    "start_time": "2023-04-13T19:44:32.703Z"
   },
   {
    "duration": 958,
    "start_time": "2023-04-13T19:45:37.940Z"
   },
   {
    "duration": 1471,
    "start_time": "2023-04-13T19:47:02.259Z"
   },
   {
    "duration": 608,
    "start_time": "2023-04-13T19:55:04.775Z"
   },
   {
    "duration": 562,
    "start_time": "2023-04-13T19:57:44.132Z"
   },
   {
    "duration": 917,
    "start_time": "2023-04-13T19:59:40.308Z"
   },
   {
    "duration": 1235,
    "start_time": "2023-04-13T20:32:14.912Z"
   },
   {
    "duration": 1071,
    "start_time": "2023-04-13T20:32:32.986Z"
   },
   {
    "duration": 75,
    "start_time": "2023-04-13T20:35:32.960Z"
   },
   {
    "duration": 569,
    "start_time": "2023-04-13T20:36:43.765Z"
   },
   {
    "duration": 1737,
    "start_time": "2023-04-13T20:37:10.076Z"
   },
   {
    "duration": 2354,
    "start_time": "2023-04-13T20:37:19.997Z"
   },
   {
    "duration": 2226,
    "start_time": "2023-04-13T20:37:32.204Z"
   },
   {
    "duration": 12,
    "start_time": "2023-04-13T20:44:15.248Z"
   },
   {
    "duration": 9,
    "start_time": "2023-04-13T20:49:58.779Z"
   },
   {
    "duration": 8,
    "start_time": "2023-04-13T20:50:09.630Z"
   },
   {
    "duration": 1334,
    "start_time": "2023-04-13T20:51:16.418Z"
   },
   {
    "duration": 337,
    "start_time": "2023-04-13T20:52:01.164Z"
   },
   {
    "duration": 38,
    "start_time": "2023-04-13T20:52:03.728Z"
   },
   {
    "duration": 20,
    "start_time": "2023-04-13T20:52:07.110Z"
   },
   {
    "duration": 269,
    "start_time": "2023-04-13T20:52:10.627Z"
   },
   {
    "duration": 12,
    "start_time": "2023-04-13T20:52:13.068Z"
   },
   {
    "duration": 119,
    "start_time": "2023-04-13T20:52:15.767Z"
   },
   {
    "duration": 27,
    "start_time": "2023-04-13T20:52:17.562Z"
   },
   {
    "duration": 15,
    "start_time": "2023-04-13T20:52:20.498Z"
   },
   {
    "duration": 147,
    "start_time": "2023-04-13T20:52:24.078Z"
   },
   {
    "duration": 9,
    "start_time": "2023-04-13T20:52:26.880Z"
   },
   {
    "duration": 494,
    "start_time": "2023-04-13T20:52:31.116Z"
   },
   {
    "duration": 36,
    "start_time": "2023-04-13T20:52:34.095Z"
   },
   {
    "duration": 22,
    "start_time": "2023-04-13T20:52:37.757Z"
   },
   {
    "duration": 283,
    "start_time": "2023-04-13T20:52:42.016Z"
   },
   {
    "duration": 8,
    "start_time": "2023-04-13T20:52:46.585Z"
   },
   {
    "duration": 7,
    "start_time": "2023-04-13T20:52:52.030Z"
   },
   {
    "duration": 7,
    "start_time": "2023-04-13T20:53:57.555Z"
   },
   {
    "duration": 7,
    "start_time": "2023-04-13T20:54:36.257Z"
   },
   {
    "duration": 16,
    "start_time": "2023-04-13T20:57:24.940Z"
   },
   {
    "duration": 6,
    "start_time": "2023-04-13T20:57:29.766Z"
   },
   {
    "duration": 6,
    "start_time": "2023-04-13T20:57:33.434Z"
   },
   {
    "duration": 6,
    "start_time": "2023-04-13T20:57:48.795Z"
   },
   {
    "duration": 6,
    "start_time": "2023-04-13T20:57:54.429Z"
   },
   {
    "duration": 11,
    "start_time": "2023-04-13T20:58:06.353Z"
   },
   {
    "duration": 6,
    "start_time": "2023-04-13T20:58:12.881Z"
   },
   {
    "duration": 5,
    "start_time": "2023-04-13T21:00:37.290Z"
   },
   {
    "duration": 12,
    "start_time": "2023-04-13T21:01:42.414Z"
   },
   {
    "duration": 9,
    "start_time": "2023-04-13T21:02:01.454Z"
   },
   {
    "duration": 6,
    "start_time": "2023-04-13T21:02:03.390Z"
   },
   {
    "duration": 7,
    "start_time": "2023-04-13T21:02:05.204Z"
   },
   {
    "duration": 5,
    "start_time": "2023-04-13T21:02:07.585Z"
   },
   {
    "duration": 5,
    "start_time": "2023-04-13T21:12:40.182Z"
   },
   {
    "duration": 8,
    "start_time": "2023-04-13T21:13:21.760Z"
   },
   {
    "duration": 132,
    "start_time": "2023-04-13T21:14:17.956Z"
   },
   {
    "duration": 31,
    "start_time": "2023-04-13T21:14:37.152Z"
   },
   {
    "duration": 111,
    "start_time": "2023-04-13T21:15:17.841Z"
   },
   {
    "duration": 6043,
    "start_time": "2023-04-13T21:15:32.820Z"
   },
   {
    "duration": 1067,
    "start_time": "2023-04-14T17:32:46.351Z"
   },
   {
    "duration": 1239,
    "start_time": "2023-04-14T17:32:49.026Z"
   },
   {
    "duration": 28,
    "start_time": "2023-04-14T17:32:53.780Z"
   },
   {
    "duration": 28,
    "start_time": "2023-04-14T17:32:57.748Z"
   },
   {
    "duration": 237,
    "start_time": "2023-04-14T17:33:03.155Z"
   },
   {
    "duration": 10,
    "start_time": "2023-04-14T17:33:06.003Z"
   },
   {
    "duration": 190,
    "start_time": "2023-04-14T17:33:08.779Z"
   },
   {
    "duration": 41,
    "start_time": "2023-04-14T17:33:11.432Z"
   },
   {
    "duration": 15,
    "start_time": "2023-04-14T17:33:14.946Z"
   },
   {
    "duration": 126,
    "start_time": "2023-04-14T17:33:18.760Z"
   },
   {
    "duration": 8,
    "start_time": "2023-04-14T17:33:21.514Z"
   },
   {
    "duration": 683,
    "start_time": "2023-04-14T17:33:25.402Z"
   },
   {
    "duration": 31,
    "start_time": "2023-04-14T17:33:27.859Z"
   },
   {
    "duration": 17,
    "start_time": "2023-04-14T17:33:31.103Z"
   },
   {
    "duration": 239,
    "start_time": "2023-04-14T17:33:35.105Z"
   },
   {
    "duration": 9,
    "start_time": "2023-04-14T17:33:38.000Z"
   },
   {
    "duration": 6,
    "start_time": "2023-04-14T17:33:41.955Z"
   },
   {
    "duration": 6,
    "start_time": "2023-04-14T17:33:44.575Z"
   },
   {
    "duration": 5,
    "start_time": "2023-04-14T17:33:46.494Z"
   },
   {
    "duration": 5,
    "start_time": "2023-04-14T17:33:48.974Z"
   },
   {
    "duration": 8,
    "start_time": "2023-04-14T17:33:52.610Z"
   },
   {
    "duration": 9,
    "start_time": "2023-04-14T17:33:54.996Z"
   },
   {
    "duration": 130,
    "start_time": "2023-04-14T17:33:57.421Z"
   },
   {
    "duration": 5,
    "start_time": "2023-04-14T17:33:59.999Z"
   },
   {
    "duration": 1240,
    "start_time": "2023-04-14T17:34:04.370Z"
   },
   {
    "duration": 954,
    "start_time": "2023-04-14T17:34:09.718Z"
   },
   {
    "duration": 1019,
    "start_time": "2023-04-14T17:34:15.970Z"
   },
   {
    "duration": 558,
    "start_time": "2023-04-14T17:34:20.656Z"
   },
   {
    "duration": 540,
    "start_time": "2023-04-14T17:34:24.299Z"
   },
   {
    "duration": 883,
    "start_time": "2023-04-14T17:34:29.092Z"
   },
   {
    "duration": 1075,
    "start_time": "2023-04-14T17:34:33.514Z"
   },
   {
    "duration": 444,
    "start_time": "2023-04-14T17:34:40.333Z"
   },
   {
    "duration": 1998,
    "start_time": "2023-04-14T17:34:49.057Z"
   },
   {
    "duration": 791,
    "start_time": "2023-04-14T17:34:57.900Z"
   },
   {
    "duration": 5,
    "start_time": "2023-04-14T17:35:04.021Z"
   },
   {
    "duration": 7,
    "start_time": "2023-04-14T17:35:07.027Z"
   },
   {
    "duration": 27,
    "start_time": "2023-04-14T17:35:10.807Z"
   },
   {
    "duration": 4665,
    "start_time": "2023-04-14T17:35:13.460Z"
   },
   {
    "duration": 4944,
    "start_time": "2023-04-14T17:35:32.524Z"
   },
   {
    "duration": 6041,
    "start_time": "2023-04-14T17:36:07.419Z"
   },
   {
    "duration": 4,
    "start_time": "2023-04-14T17:37:33.057Z"
   },
   {
    "duration": 30,
    "start_time": "2023-04-14T17:56:41.932Z"
   },
   {
    "duration": 26,
    "start_time": "2023-04-14T18:00:29.142Z"
   },
   {
    "duration": 1529,
    "start_time": "2023-04-14T18:12:59.463Z"
   },
   {
    "duration": 276,
    "start_time": "2023-04-14T18:13:00.994Z"
   },
   {
    "duration": 30,
    "start_time": "2023-04-14T18:13:01.272Z"
   },
   {
    "duration": 68,
    "start_time": "2023-04-14T18:13:01.305Z"
   },
   {
    "duration": 294,
    "start_time": "2023-04-14T18:13:01.376Z"
   },
   {
    "duration": 9,
    "start_time": "2023-04-14T18:13:01.672Z"
   },
   {
    "duration": 114,
    "start_time": "2023-04-14T18:13:01.683Z"
   },
   {
    "duration": 28,
    "start_time": "2023-04-14T18:13:01.799Z"
   },
   {
    "duration": 45,
    "start_time": "2023-04-14T18:13:01.837Z"
   },
   {
    "duration": 148,
    "start_time": "2023-04-14T18:13:01.883Z"
   },
   {
    "duration": 10,
    "start_time": "2023-04-14T18:13:02.033Z"
   },
   {
    "duration": 412,
    "start_time": "2023-04-14T18:13:02.045Z"
   },
   {
    "duration": 35,
    "start_time": "2023-04-14T18:13:02.462Z"
   },
   {
    "duration": 27,
    "start_time": "2023-04-14T18:13:02.500Z"
   },
   {
    "duration": 299,
    "start_time": "2023-04-14T18:13:02.529Z"
   },
   {
    "duration": 17,
    "start_time": "2023-04-14T18:13:02.830Z"
   },
   {
    "duration": 8,
    "start_time": "2023-04-14T18:13:02.849Z"
   },
   {
    "duration": 18,
    "start_time": "2023-04-14T18:13:02.858Z"
   },
   {
    "duration": 7,
    "start_time": "2023-04-14T18:13:02.880Z"
   },
   {
    "duration": 6,
    "start_time": "2023-04-14T18:13:02.889Z"
   },
   {
    "duration": 16,
    "start_time": "2023-04-14T18:13:02.898Z"
   },
   {
    "duration": 44,
    "start_time": "2023-04-14T18:13:02.916Z"
   },
   {
    "duration": 166,
    "start_time": "2023-04-14T18:13:02.962Z"
   },
   {
    "duration": 14,
    "start_time": "2023-04-14T18:13:03.136Z"
   },
   {
    "duration": 910,
    "start_time": "2023-04-14T18:13:03.152Z"
   },
   {
    "duration": 930,
    "start_time": "2023-04-14T18:13:04.064Z"
   },
   {
    "duration": 1080,
    "start_time": "2023-04-14T18:13:04.996Z"
   },
   {
    "duration": 641,
    "start_time": "2023-04-14T18:13:06.078Z"
   },
   {
    "duration": 560,
    "start_time": "2023-04-14T18:13:06.721Z"
   },
   {
    "duration": 801,
    "start_time": "2023-04-14T18:13:07.283Z"
   },
   {
    "duration": 1141,
    "start_time": "2023-04-14T18:13:08.086Z"
   },
   {
    "duration": 500,
    "start_time": "2023-04-14T18:13:09.229Z"
   },
   {
    "duration": 2402,
    "start_time": "2023-04-14T18:13:09.731Z"
   },
   {
    "duration": 1213,
    "start_time": "2023-04-14T18:13:12.136Z"
   },
   {
    "duration": 7,
    "start_time": "2023-04-14T18:13:13.352Z"
   },
   {
    "duration": 10,
    "start_time": "2023-04-14T18:13:13.362Z"
   },
   {
    "duration": 45,
    "start_time": "2023-04-14T18:13:13.375Z"
   },
   {
    "duration": 6570,
    "start_time": "2023-04-14T18:13:13.425Z"
   },
   {
    "duration": 4,
    "start_time": "2023-04-14T18:13:19.996Z"
   },
   {
    "duration": 56,
    "start_time": "2023-04-14T18:13:20.002Z"
   },
   {
    "duration": 281,
    "start_time": "2023-04-14T18:16:39.585Z"
   },
   {
    "duration": 166,
    "start_time": "2023-04-14T18:17:26.784Z"
   },
   {
    "duration": 148,
    "start_time": "2023-04-14T18:17:47.028Z"
   },
   {
    "duration": 186,
    "start_time": "2023-04-14T18:18:00.855Z"
   },
   {
    "duration": 204,
    "start_time": "2023-04-14T18:18:49.679Z"
   },
   {
    "duration": 213,
    "start_time": "2023-04-14T18:19:21.211Z"
   },
   {
    "duration": 433,
    "start_time": "2023-04-14T18:21:36.543Z"
   },
   {
    "duration": 10,
    "start_time": "2023-04-14T18:27:25.896Z"
   },
   {
    "duration": 1303,
    "start_time": "2023-04-14T18:27:39.501Z"
   },
   {
    "duration": 256,
    "start_time": "2023-04-14T18:27:40.806Z"
   },
   {
    "duration": 24,
    "start_time": "2023-04-14T18:27:41.064Z"
   },
   {
    "duration": 16,
    "start_time": "2023-04-14T18:27:41.090Z"
   },
   {
    "duration": 225,
    "start_time": "2023-04-14T18:27:41.109Z"
   },
   {
    "duration": 9,
    "start_time": "2023-04-14T18:27:41.337Z"
   },
   {
    "duration": 87,
    "start_time": "2023-04-14T18:27:41.348Z"
   },
   {
    "duration": 39,
    "start_time": "2023-04-14T18:27:41.438Z"
   },
   {
    "duration": 19,
    "start_time": "2023-04-14T18:27:41.479Z"
   },
   {
    "duration": 150,
    "start_time": "2023-04-14T18:27:41.500Z"
   },
   {
    "duration": 8,
    "start_time": "2023-04-14T18:27:41.652Z"
   },
   {
    "duration": 314,
    "start_time": "2023-04-14T18:27:41.662Z"
   },
   {
    "duration": 19,
    "start_time": "2023-04-14T18:27:41.978Z"
   },
   {
    "duration": 16,
    "start_time": "2023-04-14T18:27:42.000Z"
   },
   {
    "duration": 252,
    "start_time": "2023-04-14T18:27:42.017Z"
   },
   {
    "duration": 10,
    "start_time": "2023-04-14T18:27:42.271Z"
   },
   {
    "duration": 7,
    "start_time": "2023-04-14T18:27:42.283Z"
   },
   {
    "duration": 27,
    "start_time": "2023-04-14T18:27:42.292Z"
   },
   {
    "duration": 12,
    "start_time": "2023-04-14T18:27:42.321Z"
   },
   {
    "duration": 15,
    "start_time": "2023-04-14T18:27:42.335Z"
   },
   {
    "duration": 20,
    "start_time": "2023-04-14T18:27:42.351Z"
   },
   {
    "duration": 25,
    "start_time": "2023-04-14T18:27:42.373Z"
   },
   {
    "duration": 149,
    "start_time": "2023-04-14T18:27:42.400Z"
   },
   {
    "duration": 6,
    "start_time": "2023-04-14T18:27:42.551Z"
   },
   {
    "duration": 903,
    "start_time": "2023-04-14T18:27:42.559Z"
   },
   {
    "duration": 790,
    "start_time": "2023-04-14T18:27:43.464Z"
   },
   {
    "duration": 975,
    "start_time": "2023-04-14T18:27:44.256Z"
   },
   {
    "duration": 542,
    "start_time": "2023-04-14T18:27:45.233Z"
   },
   {
    "duration": 442,
    "start_time": "2023-04-14T18:27:45.777Z"
   },
   {
    "duration": 710,
    "start_time": "2023-04-14T18:27:46.220Z"
   },
   {
    "duration": 961,
    "start_time": "2023-04-14T18:27:46.935Z"
   },
   {
    "duration": 451,
    "start_time": "2023-04-14T18:27:47.898Z"
   },
   {
    "duration": 1836,
    "start_time": "2023-04-14T18:27:48.354Z"
   },
   {
    "duration": 801,
    "start_time": "2023-04-14T18:27:50.191Z"
   },
   {
    "duration": 3,
    "start_time": "2023-04-14T18:27:50.994Z"
   },
   {
    "duration": 10,
    "start_time": "2023-04-14T18:27:50.999Z"
   },
   {
    "duration": 42,
    "start_time": "2023-04-14T18:27:51.010Z"
   },
   {
    "duration": 5580,
    "start_time": "2023-04-14T18:27:51.053Z"
   },
   {
    "duration": 7,
    "start_time": "2023-04-14T18:27:56.640Z"
   },
   {
    "duration": 23,
    "start_time": "2023-04-14T18:27:56.654Z"
   },
   {
    "duration": 290,
    "start_time": "2023-04-14T18:27:56.680Z"
   },
   {
    "duration": 100,
    "start_time": "2023-04-14T18:28:16.499Z"
   },
   {
    "duration": 122,
    "start_time": "2023-04-14T18:42:12.182Z"
   },
   {
    "duration": 113,
    "start_time": "2023-04-14T18:42:20.056Z"
   },
   {
    "duration": 5,
    "start_time": "2023-04-14T19:39:44.458Z"
   },
   {
    "duration": 289,
    "start_time": "2023-04-14T19:39:53.103Z"
   },
   {
    "duration": 1466,
    "start_time": "2023-04-14T19:40:06.213Z"
   },
   {
    "duration": 298,
    "start_time": "2023-04-14T19:40:07.681Z"
   },
   {
    "duration": 24,
    "start_time": "2023-04-14T19:40:07.985Z"
   },
   {
    "duration": 14,
    "start_time": "2023-04-14T19:40:08.011Z"
   },
   {
    "duration": 266,
    "start_time": "2023-04-14T19:40:08.027Z"
   },
   {
    "duration": 9,
    "start_time": "2023-04-14T19:40:08.296Z"
   },
   {
    "duration": 89,
    "start_time": "2023-04-14T19:40:08.307Z"
   },
   {
    "duration": 23,
    "start_time": "2023-04-14T19:40:08.398Z"
   },
   {
    "duration": 38,
    "start_time": "2023-04-14T19:40:08.423Z"
   },
   {
    "duration": 144,
    "start_time": "2023-04-14T19:40:08.470Z"
   },
   {
    "duration": 7,
    "start_time": "2023-04-14T19:40:08.615Z"
   },
   {
    "duration": 380,
    "start_time": "2023-04-14T19:40:08.623Z"
   },
   {
    "duration": 41,
    "start_time": "2023-04-14T19:40:09.005Z"
   },
   {
    "duration": 25,
    "start_time": "2023-04-14T19:40:09.048Z"
   },
   {
    "duration": 340,
    "start_time": "2023-04-14T19:40:09.075Z"
   },
   {
    "duration": 25,
    "start_time": "2023-04-14T19:40:09.417Z"
   },
   {
    "duration": 13,
    "start_time": "2023-04-14T19:40:09.444Z"
   },
   {
    "duration": 26,
    "start_time": "2023-04-14T19:40:09.459Z"
   },
   {
    "duration": 6,
    "start_time": "2023-04-14T19:40:09.491Z"
   },
   {
    "duration": 6,
    "start_time": "2023-04-14T19:40:09.499Z"
   },
   {
    "duration": 8,
    "start_time": "2023-04-14T19:40:09.507Z"
   },
   {
    "duration": 9,
    "start_time": "2023-04-14T19:40:09.517Z"
   },
   {
    "duration": 181,
    "start_time": "2023-04-14T19:40:09.528Z"
   },
   {
    "duration": 4,
    "start_time": "2023-04-14T19:40:09.711Z"
   },
   {
    "duration": 1043,
    "start_time": "2023-04-14T19:40:09.716Z"
   },
   {
    "duration": 910,
    "start_time": "2023-04-14T19:40:10.768Z"
   },
   {
    "duration": 1267,
    "start_time": "2023-04-14T19:40:11.680Z"
   },
   {
    "duration": 713,
    "start_time": "2023-04-14T19:40:12.957Z"
   },
   {
    "duration": 588,
    "start_time": "2023-04-14T19:40:13.675Z"
   },
   {
    "duration": 959,
    "start_time": "2023-04-14T19:40:14.266Z"
   },
   {
    "duration": 1146,
    "start_time": "2023-04-14T19:40:15.227Z"
   },
   {
    "duration": 559,
    "start_time": "2023-04-14T19:40:16.374Z"
   },
   {
    "duration": 2113,
    "start_time": "2023-04-14T19:40:16.937Z"
   },
   {
    "duration": 907,
    "start_time": "2023-04-14T19:40:19.052Z"
   },
   {
    "duration": 22,
    "start_time": "2023-04-14T19:40:19.963Z"
   },
   {
    "duration": 11,
    "start_time": "2023-04-14T19:40:19.988Z"
   },
   {
    "duration": 27,
    "start_time": "2023-04-14T19:40:20.001Z"
   },
   {
    "duration": 6939,
    "start_time": "2023-04-14T19:40:20.030Z"
   },
   {
    "duration": 15,
    "start_time": "2023-04-14T19:40:26.971Z"
   },
   {
    "duration": 26,
    "start_time": "2023-04-14T19:40:26.988Z"
   },
   {
    "duration": 34,
    "start_time": "2023-04-14T19:40:27.015Z"
   },
   {
    "duration": 25,
    "start_time": "2023-04-14T19:42:23.862Z"
   },
   {
    "duration": 24,
    "start_time": "2023-04-14T19:43:32.899Z"
   },
   {
    "duration": 4,
    "start_time": "2023-04-14T19:47:44.780Z"
   },
   {
    "duration": 145,
    "start_time": "2023-04-14T19:47:52.849Z"
   },
   {
    "duration": 23,
    "start_time": "2023-04-14T19:48:02.492Z"
   },
   {
    "duration": 23,
    "start_time": "2023-04-14T19:48:27.356Z"
   },
   {
    "duration": 66,
    "start_time": "2023-04-14T19:48:55.506Z"
   },
   {
    "duration": 32,
    "start_time": "2023-04-14T19:51:40.265Z"
   },
   {
    "duration": 20,
    "start_time": "2023-04-14T19:51:59.013Z"
   },
   {
    "duration": 12,
    "start_time": "2023-04-14T20:00:17.404Z"
   },
   {
    "duration": 20,
    "start_time": "2023-04-14T20:01:36.962Z"
   },
   {
    "duration": 117,
    "start_time": "2023-04-14T20:02:13.154Z"
   },
   {
    "duration": 10565,
    "start_time": "2023-04-14T20:02:33.900Z"
   },
   {
    "duration": 38,
    "start_time": "2023-04-14T20:04:56.234Z"
   },
   {
    "duration": 24,
    "start_time": "2023-04-14T20:05:08.988Z"
   },
   {
    "duration": 43,
    "start_time": "2023-04-14T20:05:26.559Z"
   },
   {
    "duration": 32,
    "start_time": "2023-04-14T20:05:51.637Z"
   },
   {
    "duration": 19,
    "start_time": "2023-04-14T20:06:07.378Z"
   },
   {
    "duration": 27,
    "start_time": "2023-04-14T20:06:32.369Z"
   },
   {
    "duration": 8,
    "start_time": "2023-04-14T20:18:53.433Z"
   },
   {
    "duration": 58,
    "start_time": "2023-04-14T20:19:10.715Z"
   },
   {
    "duration": 9,
    "start_time": "2023-04-14T20:19:19.849Z"
   },
   {
    "duration": 777,
    "start_time": "2023-04-14T20:21:42.789Z"
   },
   {
    "duration": 754,
    "start_time": "2023-04-14T20:22:40.209Z"
   },
   {
    "duration": 9,
    "start_time": "2023-04-14T20:23:08.018Z"
   },
   {
    "duration": 10,
    "start_time": "2023-04-14T20:25:58.964Z"
   },
   {
    "duration": 10,
    "start_time": "2023-04-14T20:26:19.450Z"
   },
   {
    "duration": 23,
    "start_time": "2023-04-14T20:29:08.357Z"
   },
   {
    "duration": 14,
    "start_time": "2023-04-14T20:38:04.211Z"
   },
   {
    "duration": 2,
    "start_time": "2023-04-14T20:38:14.980Z"
   },
   {
    "duration": 9,
    "start_time": "2023-04-14T20:40:06.748Z"
   },
   {
    "duration": 1350,
    "start_time": "2023-04-14T20:48:08.694Z"
   },
   {
    "duration": 339,
    "start_time": "2023-04-14T20:48:10.047Z"
   },
   {
    "duration": 31,
    "start_time": "2023-04-14T20:48:10.388Z"
   },
   {
    "duration": 34,
    "start_time": "2023-04-14T20:48:10.422Z"
   },
   {
    "duration": 268,
    "start_time": "2023-04-14T20:48:10.458Z"
   },
   {
    "duration": 15,
    "start_time": "2023-04-14T20:48:10.728Z"
   },
   {
    "duration": 109,
    "start_time": "2023-04-14T20:48:10.745Z"
   },
   {
    "duration": 24,
    "start_time": "2023-04-14T20:48:10.856Z"
   },
   {
    "duration": 16,
    "start_time": "2023-04-14T20:48:10.882Z"
   },
   {
    "duration": 154,
    "start_time": "2023-04-14T20:48:10.902Z"
   },
   {
    "duration": 6,
    "start_time": "2023-04-14T20:48:11.057Z"
   },
   {
    "duration": 422,
    "start_time": "2023-04-14T20:48:11.065Z"
   },
   {
    "duration": 34,
    "start_time": "2023-04-14T20:48:11.489Z"
   },
   {
    "duration": 24,
    "start_time": "2023-04-14T20:48:11.524Z"
   },
   {
    "duration": 240,
    "start_time": "2023-04-14T20:48:11.550Z"
   },
   {
    "duration": 9,
    "start_time": "2023-04-14T20:48:11.791Z"
   },
   {
    "duration": 6,
    "start_time": "2023-04-14T20:48:11.802Z"
   },
   {
    "duration": 5,
    "start_time": "2023-04-14T20:48:11.809Z"
   },
   {
    "duration": 23,
    "start_time": "2023-04-14T20:48:11.816Z"
   },
   {
    "duration": 6,
    "start_time": "2023-04-14T20:48:11.841Z"
   },
   {
    "duration": 9,
    "start_time": "2023-04-14T20:48:11.848Z"
   },
   {
    "duration": 9,
    "start_time": "2023-04-14T20:48:11.859Z"
   },
   {
    "duration": 145,
    "start_time": "2023-04-14T20:48:11.870Z"
   },
   {
    "duration": 4,
    "start_time": "2023-04-14T20:48:12.017Z"
   },
   {
    "duration": 1124,
    "start_time": "2023-04-14T20:48:12.022Z"
   },
   {
    "duration": 871,
    "start_time": "2023-04-14T20:48:13.148Z"
   },
   {
    "duration": 1120,
    "start_time": "2023-04-14T20:48:14.021Z"
   },
   {
    "duration": 502,
    "start_time": "2023-04-14T20:48:15.144Z"
   },
   {
    "duration": 528,
    "start_time": "2023-04-14T20:48:15.648Z"
   },
   {
    "duration": 770,
    "start_time": "2023-04-14T20:48:16.179Z"
   },
   {
    "duration": 939,
    "start_time": "2023-04-14T20:48:16.951Z"
   },
   {
    "duration": 434,
    "start_time": "2023-04-14T20:48:17.891Z"
   },
   {
    "duration": 1836,
    "start_time": "2023-04-14T20:48:18.327Z"
   },
   {
    "duration": 821,
    "start_time": "2023-04-14T20:48:20.165Z"
   },
   {
    "duration": 6,
    "start_time": "2023-04-14T20:48:20.988Z"
   },
   {
    "duration": 9,
    "start_time": "2023-04-14T20:48:20.996Z"
   },
   {
    "duration": 42,
    "start_time": "2023-04-14T20:48:21.007Z"
   },
   {
    "duration": 6114,
    "start_time": "2023-04-14T20:48:21.050Z"
   },
   {
    "duration": 5,
    "start_time": "2023-04-14T20:48:27.166Z"
   },
   {
    "duration": 27,
    "start_time": "2023-04-14T20:48:27.172Z"
   },
   {
    "duration": 40,
    "start_time": "2023-04-14T20:48:27.201Z"
   },
   {
    "duration": 21,
    "start_time": "2023-04-14T20:48:27.242Z"
   },
   {
    "duration": 8,
    "start_time": "2023-04-14T20:48:27.265Z"
   },
   {
    "duration": 30,
    "start_time": "2023-04-14T20:48:27.275Z"
   },
   {
    "duration": 35,
    "start_time": "2023-04-14T20:48:27.307Z"
   },
   {
    "duration": 42,
    "start_time": "2023-04-14T20:48:27.343Z"
   },
   {
    "duration": 0,
    "start_time": "2023-04-14T20:48:27.387Z"
   },
   {
    "duration": 113,
    "start_time": "2023-04-14T20:49:03.375Z"
   },
   {
    "duration": 9,
    "start_time": "2023-04-14T20:49:36.319Z"
   },
   {
    "duration": 10,
    "start_time": "2023-04-14T20:51:34.434Z"
   },
   {
    "duration": 12,
    "start_time": "2023-04-14T20:51:36.856Z"
   },
   {
    "duration": 3,
    "start_time": "2023-04-14T20:51:57.658Z"
   },
   {
    "duration": 11,
    "start_time": "2023-04-14T20:52:03.934Z"
   },
   {
    "duration": 11,
    "start_time": "2023-04-14T20:52:06.599Z"
   },
   {
    "duration": 5,
    "start_time": "2023-04-14T20:52:15.521Z"
   },
   {
    "duration": 4516,
    "start_time": "2023-04-14T20:52:17.023Z"
   },
   {
    "duration": 22,
    "start_time": "2023-04-14T20:58:08.622Z"
   },
   {
    "duration": 134,
    "start_time": "2023-04-14T20:58:19.281Z"
   },
   {
    "duration": 43,
    "start_time": "2023-04-14T20:59:03.074Z"
   },
   {
    "duration": 70,
    "start_time": "2023-04-14T20:59:30.556Z"
   },
   {
    "duration": 60,
    "start_time": "2023-04-14T20:59:37.886Z"
   },
   {
    "duration": 55,
    "start_time": "2023-04-14T21:02:00.448Z"
   },
   {
    "duration": 43,
    "start_time": "2023-04-14T21:02:07.570Z"
   },
   {
    "duration": 75,
    "start_time": "2023-04-14T21:02:13.047Z"
   },
   {
    "duration": 44,
    "start_time": "2023-04-14T21:02:36.718Z"
   },
   {
    "duration": 4,
    "start_time": "2023-04-14T21:03:07.532Z"
   },
   {
    "duration": 124,
    "start_time": "2023-04-14T21:03:21.915Z"
   },
   {
    "duration": 6,
    "start_time": "2023-04-14T21:07:33.566Z"
   },
   {
    "duration": 23,
    "start_time": "2023-04-14T21:08:20.996Z"
   },
   {
    "duration": 7062,
    "start_time": "2023-04-14T21:09:19.593Z"
   },
   {
    "duration": 455,
    "start_time": "2023-04-14T21:10:52.282Z"
   },
   {
    "duration": 196,
    "start_time": "2023-04-14T21:11:25.144Z"
   },
   {
    "duration": 29,
    "start_time": "2023-04-14T21:14:53.221Z"
   },
   {
    "duration": 4,
    "start_time": "2023-04-14T21:22:07.648Z"
   },
   {
    "duration": 4,
    "start_time": "2023-04-14T21:22:22.601Z"
   },
   {
    "duration": 15,
    "start_time": "2023-04-14T21:22:56.050Z"
   },
   {
    "duration": 4,
    "start_time": "2023-04-14T21:23:18.758Z"
   },
   {
    "duration": 3,
    "start_time": "2023-04-14T21:23:24.817Z"
   },
   {
    "duration": 12,
    "start_time": "2023-04-14T21:23:27.709Z"
   },
   {
    "duration": 4,
    "start_time": "2023-04-14T21:23:38.148Z"
   },
   {
    "duration": 6,
    "start_time": "2023-04-14T21:25:30.663Z"
   },
   {
    "duration": 50,
    "start_time": "2023-04-14T21:25:30.670Z"
   },
   {
    "duration": 121076,
    "start_time": "2023-04-14T21:25:30.723Z"
   },
   {
    "duration": 71,
    "start_time": "2023-04-14T21:27:31.801Z"
   },
   {
    "duration": 58,
    "start_time": "2023-04-14T21:28:02.176Z"
   },
   {
    "duration": 75,
    "start_time": "2023-04-14T21:28:45.501Z"
   },
   {
    "duration": 182,
    "start_time": "2023-04-14T21:29:07.282Z"
   },
   {
    "duration": 504,
    "start_time": "2023-04-14T21:29:14.463Z"
   },
   {
    "duration": 4,
    "start_time": "2023-04-14T21:34:20.658Z"
   },
   {
    "duration": 17,
    "start_time": "2023-04-14T21:35:31.578Z"
   },
   {
    "duration": 4,
    "start_time": "2023-04-14T21:35:38.817Z"
   },
   {
    "duration": 4,
    "start_time": "2023-04-14T21:35:46.028Z"
   },
   {
    "duration": 1776,
    "start_time": "2023-04-15T09:17:21.046Z"
   },
   {
    "duration": 904,
    "start_time": "2023-04-15T09:17:26.008Z"
   },
   {
    "duration": 27,
    "start_time": "2023-04-15T09:17:29.397Z"
   },
   {
    "duration": 16,
    "start_time": "2023-04-15T09:17:33.298Z"
   },
   {
    "duration": 231,
    "start_time": "2023-04-15T09:17:37.997Z"
   },
   {
    "duration": 8,
    "start_time": "2023-04-15T09:17:41.907Z"
   },
   {
    "duration": 461,
    "start_time": "2023-04-15T09:17:44.987Z"
   },
   {
    "duration": 22,
    "start_time": "2023-04-15T09:17:51.728Z"
   },
   {
    "duration": 13,
    "start_time": "2023-04-15T09:17:54.853Z"
   },
   {
    "duration": 126,
    "start_time": "2023-04-15T09:17:58.697Z"
   },
   {
    "duration": 7,
    "start_time": "2023-04-15T09:18:01.548Z"
   },
   {
    "duration": 1914,
    "start_time": "2023-04-15T09:18:05.237Z"
   },
   {
    "duration": 22,
    "start_time": "2023-04-15T09:18:10.422Z"
   },
   {
    "duration": 18,
    "start_time": "2023-04-15T09:18:14.423Z"
   },
   {
    "duration": 246,
    "start_time": "2023-04-15T09:18:19.152Z"
   },
   {
    "duration": 10,
    "start_time": "2023-04-15T09:18:22.213Z"
   },
   {
    "duration": 5,
    "start_time": "2023-04-15T09:18:25.933Z"
   },
   {
    "duration": 6,
    "start_time": "2023-04-15T09:18:28.700Z"
   },
   {
    "duration": 5,
    "start_time": "2023-04-15T09:18:31.402Z"
   },
   {
    "duration": 4,
    "start_time": "2023-04-15T09:18:33.552Z"
   },
   {
    "duration": 7,
    "start_time": "2023-04-15T09:18:37.515Z"
   },
   {
    "duration": 8,
    "start_time": "2023-04-15T09:18:39.352Z"
   },
   {
    "duration": 121,
    "start_time": "2023-04-15T09:18:42.951Z"
   },
   {
    "duration": 4,
    "start_time": "2023-04-15T09:18:45.496Z"
   },
   {
    "duration": 936,
    "start_time": "2023-04-15T09:18:49.397Z"
   },
   {
    "duration": 802,
    "start_time": "2023-04-15T09:18:54.685Z"
   },
   {
    "duration": 1135,
    "start_time": "2023-04-15T09:18:59.402Z"
   },
   {
    "duration": 445,
    "start_time": "2023-04-15T09:19:04.994Z"
   },
   {
    "duration": 445,
    "start_time": "2023-04-15T09:19:09.627Z"
   },
   {
    "duration": 868,
    "start_time": "2023-04-15T09:19:13.836Z"
   },
   {
    "duration": 852,
    "start_time": "2023-04-15T09:19:19.083Z"
   },
   {
    "duration": 454,
    "start_time": "2023-04-15T09:19:23.988Z"
   },
   {
    "duration": 1886,
    "start_time": "2023-04-15T09:19:28.278Z"
   },
   {
    "duration": 876,
    "start_time": "2023-04-15T09:19:35.513Z"
   },
   {
    "duration": 4,
    "start_time": "2023-04-15T09:19:41.743Z"
   },
   {
    "duration": 10,
    "start_time": "2023-04-15T09:19:44.888Z"
   },
   {
    "duration": 26,
    "start_time": "2023-04-15T09:19:48.389Z"
   },
   {
    "duration": 5800,
    "start_time": "2023-04-15T09:19:51.149Z"
   },
   {
    "duration": 4,
    "start_time": "2023-04-15T09:20:04.441Z"
   },
   {
    "duration": 24,
    "start_time": "2023-04-15T09:20:09.249Z"
   },
   {
    "duration": 19,
    "start_time": "2023-04-15T09:20:12.388Z"
   },
   {
    "duration": 20,
    "start_time": "2023-04-15T09:20:18.781Z"
   },
   {
    "duration": 7,
    "start_time": "2023-04-15T09:21:21.391Z"
   },
   {
    "duration": 124,
    "start_time": "2023-04-15T09:23:25.194Z"
   },
   {
    "duration": 24,
    "start_time": "2023-04-15T09:23:31.186Z"
   },
   {
    "duration": 2,
    "start_time": "2023-04-15T09:23:34.443Z"
   },
   {
    "duration": 12,
    "start_time": "2023-04-15T09:23:38.618Z"
   },
   {
    "duration": 4,
    "start_time": "2023-04-15T09:24:21.797Z"
   },
   {
    "duration": 3406,
    "start_time": "2023-04-15T09:24:28.782Z"
   },
   {
    "duration": 3,
    "start_time": "2023-04-15T09:26:20.906Z"
   },
   {
    "duration": 68,
    "start_time": "2023-04-15T09:29:58.856Z"
   },
   {
    "duration": 3,
    "start_time": "2023-04-15T09:31:32.926Z"
   },
   {
    "duration": 10,
    "start_time": "2023-04-15T09:31:35.032Z"
   },
   {
    "duration": 1108,
    "start_time": "2023-04-15T09:31:52.878Z"
   },
   {
    "duration": 5,
    "start_time": "2023-04-15T09:32:20.017Z"
   },
   {
    "duration": 21,
    "start_time": "2023-04-15T09:32:22.760Z"
   },
   {
    "duration": 6606,
    "start_time": "2023-04-15T09:32:27.078Z"
   },
   {
    "duration": 2640,
    "start_time": "2023-04-15T09:33:50.655Z"
   },
   {
    "duration": 4,
    "start_time": "2023-04-15T09:34:26.815Z"
   },
   {
    "duration": 27119,
    "start_time": "2023-04-15T09:34:30.682Z"
   },
   {
    "duration": 123418,
    "start_time": "2023-04-15T09:35:09.244Z"
   },
   {
    "duration": 589,
    "start_time": "2023-04-15T09:38:00.331Z"
   },
   {
    "duration": 1503,
    "start_time": "2023-04-15T09:39:34.069Z"
   },
   {
    "duration": 295,
    "start_time": "2023-04-15T09:39:35.575Z"
   },
   {
    "duration": 36,
    "start_time": "2023-04-15T09:39:35.871Z"
   },
   {
    "duration": 36,
    "start_time": "2023-04-15T09:39:35.909Z"
   },
   {
    "duration": 308,
    "start_time": "2023-04-15T09:39:35.949Z"
   },
   {
    "duration": 11,
    "start_time": "2023-04-15T09:39:36.259Z"
   },
   {
    "duration": 84,
    "start_time": "2023-04-15T09:39:36.282Z"
   },
   {
    "duration": 26,
    "start_time": "2023-04-15T09:39:36.368Z"
   },
   {
    "duration": 29,
    "start_time": "2023-04-15T09:39:36.396Z"
   },
   {
    "duration": 161,
    "start_time": "2023-04-15T09:39:36.426Z"
   },
   {
    "duration": 8,
    "start_time": "2023-04-15T09:39:36.589Z"
   },
   {
    "duration": 388,
    "start_time": "2023-04-15T09:39:36.599Z"
   },
   {
    "duration": 24,
    "start_time": "2023-04-15T09:39:36.989Z"
   },
   {
    "duration": 30,
    "start_time": "2023-04-15T09:39:37.017Z"
   },
   {
    "duration": 273,
    "start_time": "2023-04-15T09:39:37.049Z"
   },
   {
    "duration": 10,
    "start_time": "2023-04-15T09:39:37.324Z"
   },
   {
    "duration": 17,
    "start_time": "2023-04-15T09:39:37.337Z"
   },
   {
    "duration": 23,
    "start_time": "2023-04-15T09:39:37.356Z"
   },
   {
    "duration": 20,
    "start_time": "2023-04-15T09:39:37.381Z"
   },
   {
    "duration": 18,
    "start_time": "2023-04-15T09:39:37.403Z"
   },
   {
    "duration": 22,
    "start_time": "2023-04-15T09:39:37.424Z"
   },
   {
    "duration": 19,
    "start_time": "2023-04-15T09:39:37.447Z"
   },
   {
    "duration": 147,
    "start_time": "2023-04-15T09:39:37.468Z"
   },
   {
    "duration": 4,
    "start_time": "2023-04-15T09:39:37.617Z"
   },
   {
    "duration": 994,
    "start_time": "2023-04-15T09:39:37.623Z"
   },
   {
    "duration": 878,
    "start_time": "2023-04-15T09:39:38.619Z"
   },
   {
    "duration": 1260,
    "start_time": "2023-04-15T09:39:39.499Z"
   },
   {
    "duration": 586,
    "start_time": "2023-04-15T09:39:40.761Z"
   },
   {
    "duration": 514,
    "start_time": "2023-04-15T09:39:41.348Z"
   },
   {
    "duration": 796,
    "start_time": "2023-04-15T09:39:41.864Z"
   },
   {
    "duration": 1076,
    "start_time": "2023-04-15T09:39:42.662Z"
   },
   {
    "duration": 558,
    "start_time": "2023-04-15T09:39:43.741Z"
   },
   {
    "duration": 2227,
    "start_time": "2023-04-15T09:39:44.301Z"
   },
   {
    "duration": 896,
    "start_time": "2023-04-15T09:39:46.531Z"
   },
   {
    "duration": 5,
    "start_time": "2023-04-15T09:39:47.428Z"
   },
   {
    "duration": 20,
    "start_time": "2023-04-15T09:39:47.435Z"
   },
   {
    "duration": 37,
    "start_time": "2023-04-15T09:39:47.457Z"
   },
   {
    "duration": 6299,
    "start_time": "2023-04-15T09:39:47.496Z"
   },
   {
    "duration": 4,
    "start_time": "2023-04-15T09:39:53.797Z"
   },
   {
    "duration": 39,
    "start_time": "2023-04-15T09:39:53.803Z"
   },
   {
    "duration": 19,
    "start_time": "2023-04-15T09:39:53.846Z"
   },
   {
    "duration": 23,
    "start_time": "2023-04-15T09:39:53.884Z"
   },
   {
    "duration": 9,
    "start_time": "2023-04-15T09:39:53.908Z"
   },
   {
    "duration": 45,
    "start_time": "2023-04-15T09:39:53.919Z"
   },
   {
    "duration": 12,
    "start_time": "2023-04-15T09:39:53.966Z"
   },
   {
    "duration": 17,
    "start_time": "2023-04-15T09:39:53.983Z"
   },
   {
    "duration": 4,
    "start_time": "2023-04-15T09:40:23.529Z"
   },
   {
    "duration": 116,
    "start_time": "2023-04-15T09:40:32.096Z"
   },
   {
    "duration": 4,
    "start_time": "2023-04-15T09:41:29.020Z"
   },
   {
    "duration": 3,
    "start_time": "2023-04-15T09:41:44.591Z"
   },
   {
    "duration": 5,
    "start_time": "2023-04-15T09:41:57.602Z"
   },
   {
    "duration": 4536,
    "start_time": "2023-04-15T09:42:00.658Z"
   },
   {
    "duration": 1090,
    "start_time": "2023-04-15T09:42:05.196Z"
   },
   {
    "duration": 6,
    "start_time": "2023-04-15T09:42:31.900Z"
   },
   {
    "duration": 21,
    "start_time": "2023-04-15T09:42:34.648Z"
   },
   {
    "duration": 6723,
    "start_time": "2023-04-15T09:42:39.461Z"
   },
   {
    "duration": 1299,
    "start_time": "2023-04-15T09:42:59.294Z"
   },
   {
    "duration": 3,
    "start_time": "2023-04-15T09:43:19.503Z"
   },
   {
    "duration": 117569,
    "start_time": "2023-04-15T09:43:22.044Z"
   },
   {
    "duration": 652,
    "start_time": "2023-04-15T09:45:19.615Z"
   },
   {
    "duration": 1739,
    "start_time": "2023-04-15T09:58:00.711Z"
   },
   {
    "duration": 4,
    "start_time": "2023-04-15T09:58:24.571Z"
   },
   {
    "duration": 2133780,
    "start_time": "2023-04-15T09:58:37.810Z"
   },
   {
    "duration": 5,
    "start_time": "2023-04-15T10:34:11.592Z"
   },
   {
    "duration": 381405,
    "start_time": "2023-04-15T10:36:07.330Z"
   },
   {
    "duration": 798404,
    "start_time": "2023-04-15T11:11:56.121Z"
   },
   {
    "duration": 53504,
    "start_time": "2023-04-15T11:29:40.684Z"
   },
   {
    "duration": 84,
    "start_time": "2023-04-15T11:38:34.224Z"
   },
   {
    "duration": 5,
    "start_time": "2023-04-15T11:38:40.613Z"
   },
   {
    "duration": 5,
    "start_time": "2023-04-15T11:38:55.037Z"
   },
   {
    "duration": 11,
    "start_time": "2023-04-15T11:48:56.244Z"
   },
   {
    "duration": 13,
    "start_time": "2023-04-15T11:55:25.512Z"
   },
   {
    "duration": 11,
    "start_time": "2023-04-15T11:55:28.426Z"
   },
   {
    "duration": 31,
    "start_time": "2023-04-15T11:56:16.650Z"
   },
   {
    "duration": 5,
    "start_time": "2023-04-15T11:57:14.666Z"
   },
   {
    "duration": 19,
    "start_time": "2023-04-15T11:58:32.397Z"
   },
   {
    "duration": 5,
    "start_time": "2023-04-15T11:58:48.673Z"
   },
   {
    "duration": 6,
    "start_time": "2023-04-15T11:58:55.121Z"
   },
   {
    "duration": 20,
    "start_time": "2023-04-15T12:00:19.120Z"
   },
   {
    "duration": 13,
    "start_time": "2023-04-15T12:01:01.357Z"
   },
   {
    "duration": 21,
    "start_time": "2023-04-15T12:01:17.622Z"
   },
   {
    "duration": 176643,
    "start_time": "2023-04-15T12:04:59.800Z"
   },
   {
    "duration": 5018,
    "start_time": "2023-04-15T12:08:38.753Z"
   },
   {
    "duration": 5,
    "start_time": "2023-04-15T12:09:30.530Z"
   },
   {
    "duration": 1511,
    "start_time": "2023-04-15T12:11:25.931Z"
   },
   {
    "duration": 304,
    "start_time": "2023-04-15T12:11:27.444Z"
   },
   {
    "duration": 26,
    "start_time": "2023-04-15T12:11:27.750Z"
   },
   {
    "duration": 22,
    "start_time": "2023-04-15T12:11:27.784Z"
   },
   {
    "duration": 248,
    "start_time": "2023-04-15T12:11:27.808Z"
   },
   {
    "duration": 11,
    "start_time": "2023-04-15T12:11:28.057Z"
   },
   {
    "duration": 136,
    "start_time": "2023-04-15T12:11:28.070Z"
   },
   {
    "duration": 23,
    "start_time": "2023-04-15T12:11:28.208Z"
   },
   {
    "duration": 15,
    "start_time": "2023-04-15T12:11:28.233Z"
   },
   {
    "duration": 154,
    "start_time": "2023-04-15T12:11:28.251Z"
   },
   {
    "duration": 6,
    "start_time": "2023-04-15T12:11:28.406Z"
   },
   {
    "duration": 379,
    "start_time": "2023-04-15T12:11:28.414Z"
   },
   {
    "duration": 25,
    "start_time": "2023-04-15T12:11:28.795Z"
   },
   {
    "duration": 26,
    "start_time": "2023-04-15T12:11:28.822Z"
   },
   {
    "duration": 271,
    "start_time": "2023-04-15T12:11:28.849Z"
   },
   {
    "duration": 10,
    "start_time": "2023-04-15T12:11:29.122Z"
   },
   {
    "duration": 5,
    "start_time": "2023-04-15T12:11:29.134Z"
   },
   {
    "duration": 14,
    "start_time": "2023-04-15T12:11:29.142Z"
   },
   {
    "duration": 25,
    "start_time": "2023-04-15T12:11:29.158Z"
   },
   {
    "duration": 21,
    "start_time": "2023-04-15T12:11:29.186Z"
   },
   {
    "duration": 7,
    "start_time": "2023-04-15T12:11:29.209Z"
   },
   {
    "duration": 13,
    "start_time": "2023-04-15T12:11:29.218Z"
   },
   {
    "duration": 131,
    "start_time": "2023-04-15T12:11:29.233Z"
   },
   {
    "duration": 3,
    "start_time": "2023-04-15T12:11:29.366Z"
   },
   {
    "duration": 1009,
    "start_time": "2023-04-15T12:11:29.383Z"
   },
   {
    "duration": 904,
    "start_time": "2023-04-15T12:11:30.395Z"
   },
   {
    "duration": 1227,
    "start_time": "2023-04-15T12:11:31.303Z"
   },
   {
    "duration": 552,
    "start_time": "2023-04-15T12:11:32.534Z"
   },
   {
    "duration": 573,
    "start_time": "2023-04-15T12:11:33.088Z"
   },
   {
    "duration": 894,
    "start_time": "2023-04-15T12:11:33.664Z"
   },
   {
    "duration": 1147,
    "start_time": "2023-04-15T12:11:34.561Z"
   },
   {
    "duration": 507,
    "start_time": "2023-04-15T12:11:35.710Z"
   },
   {
    "duration": 2198,
    "start_time": "2023-04-15T12:11:36.218Z"
   },
   {
    "duration": 861,
    "start_time": "2023-04-15T12:11:38.418Z"
   },
   {
    "duration": 6,
    "start_time": "2023-04-15T12:11:39.280Z"
   },
   {
    "duration": 31,
    "start_time": "2023-04-15T12:11:39.288Z"
   },
   {
    "duration": 38,
    "start_time": "2023-04-15T12:11:39.320Z"
   },
   {
    "duration": 6354,
    "start_time": "2023-04-15T12:11:39.360Z"
   },
   {
    "duration": 15,
    "start_time": "2023-04-15T12:11:45.716Z"
   },
   {
    "duration": 60,
    "start_time": "2023-04-15T12:11:45.733Z"
   },
   {
    "duration": 19,
    "start_time": "2023-04-15T12:11:45.795Z"
   },
   {
    "duration": 19,
    "start_time": "2023-04-15T12:11:45.816Z"
   },
   {
    "duration": 9,
    "start_time": "2023-04-15T12:11:45.837Z"
   },
   {
    "duration": 58,
    "start_time": "2023-04-15T12:11:45.848Z"
   },
   {
    "duration": 3,
    "start_time": "2023-04-15T12:11:45.908Z"
   },
   {
    "duration": 23,
    "start_time": "2023-04-15T12:11:45.912Z"
   },
   {
    "duration": 10,
    "start_time": "2023-04-15T12:11:45.936Z"
   },
   {
    "duration": 7,
    "start_time": "2023-04-15T12:11:45.948Z"
   },
   {
    "duration": 5,
    "start_time": "2023-04-15T12:11:45.957Z"
   },
   {
    "duration": 3031,
    "start_time": "2023-04-15T12:11:45.964Z"
   },
   {
    "duration": 992,
    "start_time": "2023-04-15T12:11:48.997Z"
   },
   {
    "duration": 89,
    "start_time": "2023-04-15T12:11:49.995Z"
   },
   {
    "duration": 39,
    "start_time": "2023-04-15T12:11:50.087Z"
   },
   {
    "duration": 7460,
    "start_time": "2023-04-15T12:11:50.128Z"
   },
   {
    "duration": 1422,
    "start_time": "2023-04-15T12:11:57.591Z"
   },
   {
    "duration": 73,
    "start_time": "2023-04-15T12:11:59.016Z"
   },
   {
    "duration": 124505,
    "start_time": "2023-04-15T12:11:59.096Z"
   },
   {
    "duration": 615,
    "start_time": "2023-04-15T12:14:03.602Z"
   },
   {
    "duration": 1724,
    "start_time": "2023-04-15T12:14:04.219Z"
   },
   {
    "duration": 4,
    "start_time": "2023-04-15T12:14:05.944Z"
   },
   {
    "duration": 121090,
    "start_time": "2023-04-15T12:14:05.949Z"
   },
   {
    "duration": 1417,
    "start_time": "2023-04-15T14:15:30.863Z"
   },
   {
    "duration": 1088,
    "start_time": "2023-04-15T14:15:35.207Z"
   },
   {
    "duration": 27,
    "start_time": "2023-04-15T14:15:38.418Z"
   },
   {
    "duration": 16,
    "start_time": "2023-04-15T14:15:41.868Z"
   },
   {
    "duration": 199,
    "start_time": "2023-04-15T14:15:45.603Z"
   },
   {
    "duration": 9,
    "start_time": "2023-04-15T14:15:49.203Z"
   },
   {
    "duration": 131,
    "start_time": "2023-04-15T14:15:53.120Z"
   },
   {
    "duration": 20,
    "start_time": "2023-04-15T14:15:55.378Z"
   },
   {
    "duration": 13,
    "start_time": "2023-04-15T14:15:58.284Z"
   },
   {
    "duration": 111,
    "start_time": "2023-04-15T14:16:01.370Z"
   },
   {
    "duration": 6,
    "start_time": "2023-04-15T14:16:04.167Z"
   },
   {
    "duration": 460,
    "start_time": "2023-04-15T14:16:07.530Z"
   },
   {
    "duration": 20,
    "start_time": "2023-04-15T14:16:09.604Z"
   },
   {
    "duration": 18,
    "start_time": "2023-04-15T14:16:12.764Z"
   },
   {
    "duration": 210,
    "start_time": "2023-04-15T14:16:16.364Z"
   },
   {
    "duration": 9,
    "start_time": "2023-04-15T14:16:19.777Z"
   },
   {
    "duration": 5,
    "start_time": "2023-04-15T14:16:22.569Z"
   },
   {
    "duration": 112,
    "start_time": "2023-04-15T14:16:27.557Z"
   },
   {
    "duration": 7,
    "start_time": "2023-04-15T14:16:33.369Z"
   },
   {
    "duration": 5,
    "start_time": "2023-04-15T14:16:35.089Z"
   },
   {
    "duration": 4,
    "start_time": "2023-04-15T14:16:37.863Z"
   },
   {
    "duration": 6,
    "start_time": "2023-04-15T14:16:40.676Z"
   },
   {
    "duration": 8,
    "start_time": "2023-04-15T14:16:42.828Z"
   },
   {
    "duration": 1248,
    "start_time": "2023-04-15T14:17:07.671Z"
   },
   {
    "duration": 239,
    "start_time": "2023-04-15T14:17:11.143Z"
   },
   {
    "duration": 31,
    "start_time": "2023-04-15T14:17:12.888Z"
   },
   {
    "duration": 23,
    "start_time": "2023-04-15T14:17:16.220Z"
   },
   {
    "duration": 212,
    "start_time": "2023-04-15T14:17:19.917Z"
   },
   {
    "duration": 8,
    "start_time": "2023-04-15T14:17:22.848Z"
   },
   {
    "duration": 71,
    "start_time": "2023-04-15T14:17:25.252Z"
   },
   {
    "duration": 21,
    "start_time": "2023-04-15T14:17:29.860Z"
   },
   {
    "duration": 12,
    "start_time": "2023-04-15T14:17:33.223Z"
   },
   {
    "duration": 110,
    "start_time": "2023-04-15T14:17:36.368Z"
   },
   {
    "duration": 7,
    "start_time": "2023-04-15T14:17:39.149Z"
   },
   {
    "duration": 328,
    "start_time": "2023-04-15T14:17:42.548Z"
   },
   {
    "duration": 21,
    "start_time": "2023-04-15T14:17:45.316Z"
   },
   {
    "duration": 17,
    "start_time": "2023-04-15T14:17:48.289Z"
   },
   {
    "duration": 219,
    "start_time": "2023-04-15T14:17:52.146Z"
   },
   {
    "duration": 9,
    "start_time": "2023-04-15T14:17:55.108Z"
   },
   {
    "duration": 6,
    "start_time": "2023-04-15T14:17:58.642Z"
   },
   {
    "duration": 5,
    "start_time": "2023-04-15T14:18:01.705Z"
   },
   {
    "duration": 4,
    "start_time": "2023-04-15T14:18:03.940Z"
   },
   {
    "duration": 4,
    "start_time": "2023-04-15T14:18:06.445Z"
   },
   {
    "duration": 6,
    "start_time": "2023-04-15T14:18:10.898Z"
   },
   {
    "duration": 9,
    "start_time": "2023-04-15T14:18:13.024Z"
   },
   {
    "duration": 106,
    "start_time": "2023-04-15T14:18:17.286Z"
   },
   {
    "duration": 4,
    "start_time": "2023-04-15T14:18:19.537Z"
   },
   {
    "duration": 766,
    "start_time": "2023-04-15T14:18:23.094Z"
   },
   {
    "duration": 779,
    "start_time": "2023-04-15T14:18:27.615Z"
   },
   {
    "duration": 1123,
    "start_time": "2023-04-15T14:18:32.103Z"
   },
   {
    "duration": 426,
    "start_time": "2023-04-15T14:18:37.603Z"
   },
   {
    "duration": 400,
    "start_time": "2023-04-15T14:18:42.049Z"
   },
   {
    "duration": 676,
    "start_time": "2023-04-15T14:18:46.390Z"
   },
   {
    "duration": 969,
    "start_time": "2023-04-15T14:18:50.261Z"
   },
   {
    "duration": 417,
    "start_time": "2023-04-15T14:18:54.478Z"
   },
   {
    "duration": 1765,
    "start_time": "2023-04-15T14:18:58.290Z"
   },
   {
    "duration": 724,
    "start_time": "2023-04-15T14:19:03.658Z"
   },
   {
    "duration": 4,
    "start_time": "2023-04-15T14:19:09.071Z"
   },
   {
    "duration": 7,
    "start_time": "2023-04-15T14:19:11.086Z"
   },
   {
    "duration": 23,
    "start_time": "2023-04-15T14:19:14.337Z"
   },
   {
    "duration": 5134,
    "start_time": "2023-04-15T14:19:16.747Z"
   },
   {
    "duration": 4,
    "start_time": "2023-04-15T14:19:29.209Z"
   },
   {
    "duration": 29,
    "start_time": "2023-04-15T14:19:33.675Z"
   },
   {
    "duration": 17,
    "start_time": "2023-04-15T14:19:36.399Z"
   },
   {
    "duration": 18,
    "start_time": "2023-04-15T14:19:39.173Z"
   },
   {
    "duration": 8,
    "start_time": "2023-04-15T14:19:43.369Z"
   },
   {
    "duration": 20,
    "start_time": "2023-04-15T14:19:49.320Z"
   },
   {
    "duration": 2,
    "start_time": "2023-04-15T14:19:55.431Z"
   },
   {
    "duration": 11,
    "start_time": "2023-04-15T14:19:57.993Z"
   },
   {
    "duration": 3,
    "start_time": "2023-04-15T14:20:01.517Z"
   },
   {
    "duration": 2,
    "start_time": "2023-04-15T14:20:03.455Z"
   },
   {
    "duration": 4,
    "start_time": "2023-04-15T14:20:08.517Z"
   },
   {
    "duration": 4031,
    "start_time": "2023-04-15T14:20:11.011Z"
   },
   {
    "duration": 466,
    "start_time": "2023-04-15T14:20:22.176Z"
   },
   {
    "duration": 5,
    "start_time": "2023-04-15T14:20:25.090Z"
   },
   {
    "duration": 20,
    "start_time": "2023-04-15T14:20:26.975Z"
   },
   {
    "duration": 5684,
    "start_time": "2023-04-15T14:20:29.153Z"
   },
   {
    "duration": 1202,
    "start_time": "2023-04-15T14:20:41.236Z"
   },
   {
    "duration": 4,
    "start_time": "2023-04-15T14:20:45.851Z"
   },
   {
    "duration": 103337,
    "start_time": "2023-04-15T14:20:51.281Z"
   },
   {
    "duration": 617,
    "start_time": "2023-04-15T14:23:02.599Z"
   },
   {
    "duration": 1419,
    "start_time": "2023-04-15T14:23:07.527Z"
   },
   {
    "duration": 3,
    "start_time": "2023-04-15T14:23:13.051Z"
   },
   {
    "duration": 105013,
    "start_time": "2023-04-15T14:23:15.926Z"
   },
   {
    "duration": 291910,
    "start_time": "2023-04-15T14:26:30.190Z"
   },
   {
    "duration": 20888,
    "start_time": "2023-04-15T14:31:57.621Z"
   },
   {
    "duration": 24497,
    "start_time": "2023-04-15T14:32:28.956Z"
   },
   {
    "duration": 47657,
    "start_time": "2023-04-15T14:33:05.633Z"
   },
   {
    "duration": 5,
    "start_time": "2023-04-15T14:34:25.518Z"
   },
   {
    "duration": 43,
    "start_time": "2023-04-15T14:34:29.581Z"
   },
   {
    "duration": 6,
    "start_time": "2023-04-15T14:34:32.560Z"
   },
   {
    "duration": 6,
    "start_time": "2023-04-15T14:34:36.374Z"
   },
   {
    "duration": 9,
    "start_time": "2023-04-15T14:34:38.869Z"
   },
   {
    "duration": 12,
    "start_time": "2023-04-15T14:34:43.352Z"
   },
   {
    "duration": 24,
    "start_time": "2023-04-15T14:34:46.155Z"
   },
   {
    "duration": 154471,
    "start_time": "2023-04-15T14:34:49.471Z"
   },
   {
    "duration": 4868,
    "start_time": "2023-04-15T14:37:39.328Z"
   },
   {
    "duration": 4243,
    "start_time": "2023-04-15T14:38:07.967Z"
   },
   {
    "duration": 3,
    "start_time": "2023-04-15T14:38:39.202Z"
   },
   {
    "duration": 9,
    "start_time": "2023-04-16T06:10:30.927Z"
   },
   {
    "duration": 283,
    "start_time": "2023-04-16T06:10:36.862Z"
   },
   {
    "duration": 2399,
    "start_time": "2023-04-16T14:57:57.624Z"
   },
   {
    "duration": 2287,
    "start_time": "2023-04-16T14:58:00.025Z"
   },
   {
    "duration": 47,
    "start_time": "2023-04-16T14:58:02.318Z"
   },
   {
    "duration": 29,
    "start_time": "2023-04-16T14:58:02.369Z"
   },
   {
    "duration": 333,
    "start_time": "2023-04-16T14:58:02.400Z"
   },
   {
    "duration": 9,
    "start_time": "2023-04-16T14:58:02.735Z"
   },
   {
    "duration": 352,
    "start_time": "2023-04-16T14:58:02.746Z"
   },
   {
    "duration": 31,
    "start_time": "2023-04-16T14:58:03.107Z"
   },
   {
    "duration": 14,
    "start_time": "2023-04-16T14:58:03.140Z"
   },
   {
    "duration": 185,
    "start_time": "2023-04-16T14:58:03.163Z"
   },
   {
    "duration": 9,
    "start_time": "2023-04-16T14:58:03.350Z"
   },
   {
    "duration": 1059,
    "start_time": "2023-04-16T14:58:03.361Z"
   },
   {
    "duration": 28,
    "start_time": "2023-04-16T14:58:04.422Z"
   },
   {
    "duration": 54,
    "start_time": "2023-04-16T14:58:04.452Z"
   },
   {
    "duration": 357,
    "start_time": "2023-04-16T14:58:04.515Z"
   },
   {
    "duration": 19,
    "start_time": "2023-04-16T14:58:04.874Z"
   },
   {
    "duration": 12,
    "start_time": "2023-04-16T14:58:04.895Z"
   },
   {
    "duration": 8,
    "start_time": "2023-04-16T14:58:04.909Z"
   },
   {
    "duration": 12,
    "start_time": "2023-04-16T14:58:04.918Z"
   },
   {
    "duration": 4,
    "start_time": "2023-04-16T14:58:04.932Z"
   },
   {
    "duration": 30,
    "start_time": "2023-04-16T14:58:04.939Z"
   },
   {
    "duration": 20,
    "start_time": "2023-04-16T14:58:04.978Z"
   },
   {
    "duration": 199,
    "start_time": "2023-04-16T14:58:05.001Z"
   },
   {
    "duration": 10,
    "start_time": "2023-04-16T14:58:05.218Z"
   },
   {
    "duration": 12,
    "start_time": "2023-04-16T14:58:05.230Z"
   },
   {
    "duration": 71,
    "start_time": "2023-04-16T14:58:05.244Z"
   },
   {
    "duration": 5,
    "start_time": "2023-04-16T14:58:05.317Z"
   },
   {
    "duration": 56,
    "start_time": "2023-04-16T14:58:49.943Z"
   },
   {
    "duration": 149,
    "start_time": "2023-04-16T15:01:57.183Z"
   },
   {
    "duration": 10,
    "start_time": "2023-04-16T15:02:04.827Z"
   },
   {
    "duration": 527,
    "start_time": "2023-04-16T15:02:23.310Z"
   },
   {
    "duration": 30,
    "start_time": "2023-04-16T15:07:16.412Z"
   },
   {
    "duration": 207,
    "start_time": "2023-04-16T15:07:32.413Z"
   },
   {
    "duration": 169,
    "start_time": "2023-04-16T15:08:03.312Z"
   },
   {
    "duration": 287,
    "start_time": "2023-04-16T15:10:30.725Z"
   },
   {
    "duration": 232,
    "start_time": "2023-04-16T15:11:22.214Z"
   },
   {
    "duration": 16,
    "start_time": "2023-04-16T15:11:43.711Z"
   },
   {
    "duration": 19,
    "start_time": "2023-04-16T15:11:55.505Z"
   },
   {
    "duration": 941,
    "start_time": "2023-04-16T15:14:30.789Z"
   },
   {
    "duration": 1014,
    "start_time": "2023-04-16T15:15:39.650Z"
   },
   {
    "duration": 241,
    "start_time": "2023-04-16T15:51:53.993Z"
   },
   {
    "duration": 711,
    "start_time": "2023-04-16T15:53:15.247Z"
   },
   {
    "duration": 12,
    "start_time": "2023-04-16T15:55:40.507Z"
   },
   {
    "duration": 174,
    "start_time": "2023-04-16T15:56:07.244Z"
   },
   {
    "duration": 682,
    "start_time": "2023-04-16T15:56:25.216Z"
   },
   {
    "duration": 49,
    "start_time": "2023-04-16T16:06:46.110Z"
   },
   {
    "duration": 90,
    "start_time": "2023-04-16T16:06:55.521Z"
   },
   {
    "duration": 40473,
    "start_time": "2023-04-16T16:07:08.538Z"
   },
   {
    "duration": 1699,
    "start_time": "2023-04-16T16:11:05.918Z"
   },
   {
    "duration": 385,
    "start_time": "2023-04-16T16:11:07.619Z"
   },
   {
    "duration": 29,
    "start_time": "2023-04-16T16:11:08.006Z"
   },
   {
    "duration": 48,
    "start_time": "2023-04-16T16:11:08.036Z"
   },
   {
    "duration": 279,
    "start_time": "2023-04-16T16:11:08.098Z"
   },
   {
    "duration": 20,
    "start_time": "2023-04-16T16:11:08.379Z"
   },
   {
    "duration": 107,
    "start_time": "2023-04-16T16:11:08.406Z"
   },
   {
    "duration": 26,
    "start_time": "2023-04-16T16:11:08.515Z"
   },
   {
    "duration": 37,
    "start_time": "2023-04-16T16:11:08.542Z"
   },
   {
    "duration": 150,
    "start_time": "2023-04-16T16:11:08.594Z"
   },
   {
    "duration": 6,
    "start_time": "2023-04-16T16:11:08.746Z"
   },
   {
    "duration": 458,
    "start_time": "2023-04-16T16:11:08.753Z"
   },
   {
    "duration": 25,
    "start_time": "2023-04-16T16:11:09.214Z"
   },
   {
    "duration": 45,
    "start_time": "2023-04-16T16:11:09.242Z"
   },
   {
    "duration": 293,
    "start_time": "2023-04-16T16:11:09.289Z"
   },
   {
    "duration": 14,
    "start_time": "2023-04-16T16:11:09.584Z"
   },
   {
    "duration": 10,
    "start_time": "2023-04-16T16:11:09.600Z"
   },
   {
    "duration": 8,
    "start_time": "2023-04-16T16:11:09.613Z"
   },
   {
    "duration": 6,
    "start_time": "2023-04-16T16:11:09.623Z"
   },
   {
    "duration": 10,
    "start_time": "2023-04-16T16:11:09.656Z"
   },
   {
    "duration": 12,
    "start_time": "2023-04-16T16:11:09.671Z"
   },
   {
    "duration": 12,
    "start_time": "2023-04-16T16:11:09.686Z"
   },
   {
    "duration": 164,
    "start_time": "2023-04-16T16:11:09.700Z"
   },
   {
    "duration": 6,
    "start_time": "2023-04-16T16:11:09.866Z"
   },
   {
    "duration": 19,
    "start_time": "2023-04-16T16:11:09.878Z"
   },
   {
    "duration": 31,
    "start_time": "2023-04-16T16:11:09.899Z"
   },
   {
    "duration": 4,
    "start_time": "2023-04-16T16:11:09.931Z"
   },
   {
    "duration": 43,
    "start_time": "2023-04-16T16:11:09.937Z"
   },
   {
    "duration": 23482,
    "start_time": "2023-04-16T16:13:03.660Z"
   },
   {
    "duration": 21,
    "start_time": "2023-04-16T16:13:27.247Z"
   },
   {
    "duration": 210,
    "start_time": "2023-04-16T16:14:53.429Z"
   },
   {
    "duration": 218,
    "start_time": "2023-04-16T16:15:28.911Z"
   },
   {
    "duration": 250,
    "start_time": "2023-04-16T16:15:51.622Z"
   },
   {
    "duration": 308,
    "start_time": "2023-04-16T16:24:51.542Z"
   },
   {
    "duration": 311,
    "start_time": "2023-04-16T16:25:16.718Z"
   },
   {
    "duration": 277,
    "start_time": "2023-04-16T16:25:21.707Z"
   },
   {
    "duration": 355,
    "start_time": "2023-04-16T16:25:27.348Z"
   },
   {
    "duration": 153,
    "start_time": "2023-04-16T16:25:50.008Z"
   },
   {
    "duration": 209,
    "start_time": "2023-04-16T16:26:32.007Z"
   },
   {
    "duration": 601,
    "start_time": "2023-04-16T17:25:03.419Z"
   },
   {
    "duration": 377,
    "start_time": "2023-04-16T17:29:08.530Z"
   },
   {
    "duration": 1606,
    "start_time": "2023-04-16T17:39:42.547Z"
   },
   {
    "duration": 405,
    "start_time": "2023-04-16T17:39:44.155Z"
   },
   {
    "duration": 37,
    "start_time": "2023-04-16T17:39:44.563Z"
   },
   {
    "duration": 22,
    "start_time": "2023-04-16T17:39:44.603Z"
   },
   {
    "duration": 371,
    "start_time": "2023-04-16T17:39:44.627Z"
   },
   {
    "duration": 12,
    "start_time": "2023-04-16T17:39:45.001Z"
   },
   {
    "duration": 121,
    "start_time": "2023-04-16T17:39:45.018Z"
   },
   {
    "duration": 39,
    "start_time": "2023-04-16T17:39:45.142Z"
   },
   {
    "duration": 31,
    "start_time": "2023-04-16T17:39:45.183Z"
   },
   {
    "duration": 165,
    "start_time": "2023-04-16T17:39:45.217Z"
   },
   {
    "duration": 10,
    "start_time": "2023-04-16T17:39:45.384Z"
   },
   {
    "duration": 401,
    "start_time": "2023-04-16T17:39:45.397Z"
   },
   {
    "duration": 38,
    "start_time": "2023-04-16T17:39:45.800Z"
   },
   {
    "duration": 44,
    "start_time": "2023-04-16T17:39:45.840Z"
   },
   {
    "duration": 371,
    "start_time": "2023-04-16T17:39:45.886Z"
   },
   {
    "duration": 14,
    "start_time": "2023-04-16T17:39:46.264Z"
   },
   {
    "duration": 6,
    "start_time": "2023-04-16T17:39:46.280Z"
   },
   {
    "duration": 23,
    "start_time": "2023-04-16T17:39:46.289Z"
   },
   {
    "duration": 7,
    "start_time": "2023-04-16T17:39:46.315Z"
   },
   {
    "duration": 15,
    "start_time": "2023-04-16T17:39:46.324Z"
   },
   {
    "duration": 23,
    "start_time": "2023-04-16T17:39:46.342Z"
   },
   {
    "duration": 17,
    "start_time": "2023-04-16T17:39:46.366Z"
   },
   {
    "duration": 185,
    "start_time": "2023-04-16T17:39:46.386Z"
   },
   {
    "duration": 7,
    "start_time": "2023-04-16T17:39:46.576Z"
   },
   {
    "duration": 11,
    "start_time": "2023-04-16T17:39:46.586Z"
   },
   {
    "duration": 47,
    "start_time": "2023-04-16T17:39:46.599Z"
   },
   {
    "duration": 9,
    "start_time": "2023-04-16T17:39:46.648Z"
   },
   {
    "duration": 36,
    "start_time": "2023-04-16T17:39:46.663Z"
   },
   {
    "duration": 20,
    "start_time": "2023-04-16T17:46:15.843Z"
   },
   {
    "duration": 696,
    "start_time": "2023-04-16T17:48:53.256Z"
   },
   {
    "duration": 254,
    "start_time": "2023-04-16T17:49:48.389Z"
   },
   {
    "duration": 300,
    "start_time": "2023-04-16T17:50:39.143Z"
   },
   {
    "duration": 297,
    "start_time": "2023-04-16T17:51:43.743Z"
   },
   {
    "duration": 164,
    "start_time": "2023-04-16T17:58:45.326Z"
   },
   {
    "duration": 231,
    "start_time": "2023-04-16T17:59:05.883Z"
   },
   {
    "duration": 411,
    "start_time": "2023-04-16T18:00:35.736Z"
   },
   {
    "duration": 17,
    "start_time": "2023-04-16T18:01:05.843Z"
   },
   {
    "duration": 274,
    "start_time": "2023-04-16T18:01:17.210Z"
   },
   {
    "duration": 240,
    "start_time": "2023-04-16T18:01:30.282Z"
   },
   {
    "duration": 314,
    "start_time": "2023-04-16T18:01:44.909Z"
   },
   {
    "duration": 427,
    "start_time": "2023-04-16T18:03:39.319Z"
   },
   {
    "duration": 25,
    "start_time": "2023-04-16T18:05:46.255Z"
   },
   {
    "duration": 439,
    "start_time": "2023-04-16T18:08:17.313Z"
   },
   {
    "duration": 412,
    "start_time": "2023-04-16T18:09:08.721Z"
   },
   {
    "duration": 555,
    "start_time": "2023-04-16T18:09:42.651Z"
   },
   {
    "duration": 465,
    "start_time": "2023-04-16T18:09:52.019Z"
   },
   {
    "duration": 441,
    "start_time": "2023-04-16T18:11:01.819Z"
   },
   {
    "duration": 456,
    "start_time": "2023-04-16T18:11:11.837Z"
   },
   {
    "duration": 562,
    "start_time": "2023-04-16T18:12:14.258Z"
   },
   {
    "duration": 437,
    "start_time": "2023-04-16T18:12:31.259Z"
   },
   {
    "duration": 453,
    "start_time": "2023-04-16T18:14:10.839Z"
   },
   {
    "duration": 401,
    "start_time": "2023-04-16T18:14:17.811Z"
   },
   {
    "duration": 538,
    "start_time": "2023-04-16T18:14:26.025Z"
   },
   {
    "duration": 474,
    "start_time": "2023-04-16T18:14:39.416Z"
   },
   {
    "duration": 393,
    "start_time": "2023-04-16T18:15:15.502Z"
   },
   {
    "duration": 591,
    "start_time": "2023-04-16T18:15:37.410Z"
   },
   {
    "duration": 596,
    "start_time": "2023-04-16T18:17:37.248Z"
   },
   {
    "duration": 570,
    "start_time": "2023-04-16T18:22:28.095Z"
   },
   {
    "duration": 570,
    "start_time": "2023-04-16T18:22:32.495Z"
   },
   {
    "duration": 698,
    "start_time": "2023-04-16T18:22:54.509Z"
   },
   {
    "duration": 575,
    "start_time": "2023-04-16T18:23:08.103Z"
   },
   {
    "duration": 4,
    "start_time": "2023-04-16T18:26:51.116Z"
   },
   {
    "duration": 4,
    "start_time": "2023-04-16T18:28:25.833Z"
   },
   {
    "duration": 16,
    "start_time": "2023-04-16T18:30:25.247Z"
   },
   {
    "duration": 4,
    "start_time": "2023-04-16T18:30:38.121Z"
   },
   {
    "duration": 10,
    "start_time": "2023-04-16T18:30:41.014Z"
   },
   {
    "duration": 12,
    "start_time": "2023-04-16T18:30:54.226Z"
   },
   {
    "duration": 4,
    "start_time": "2023-04-16T18:31:14.349Z"
   },
   {
    "duration": 15,
    "start_time": "2023-04-16T18:31:15.991Z"
   },
   {
    "duration": 21,
    "start_time": "2023-04-16T18:35:26.414Z"
   },
   {
    "duration": 8,
    "start_time": "2023-04-16T18:35:33.745Z"
   },
   {
    "duration": 614,
    "start_time": "2023-04-16T18:35:37.329Z"
   },
   {
    "duration": 11,
    "start_time": "2023-04-16T18:35:58.123Z"
   },
   {
    "duration": 590,
    "start_time": "2023-04-16T18:36:00.942Z"
   },
   {
    "duration": 723,
    "start_time": "2023-04-16T18:37:06.130Z"
   },
   {
    "duration": 565,
    "start_time": "2023-04-16T18:38:14.325Z"
   },
   {
    "duration": 578,
    "start_time": "2023-04-16T18:38:25.615Z"
   },
   {
    "duration": 1317,
    "start_time": "2023-04-16T18:39:28.227Z"
   },
   {
    "duration": 286,
    "start_time": "2023-04-16T18:39:29.546Z"
   },
   {
    "duration": 39,
    "start_time": "2023-04-16T18:39:29.834Z"
   },
   {
    "duration": 16,
    "start_time": "2023-04-16T18:39:29.875Z"
   },
   {
    "duration": 232,
    "start_time": "2023-04-16T18:39:29.892Z"
   },
   {
    "duration": 9,
    "start_time": "2023-04-16T18:39:30.125Z"
   },
   {
    "duration": 110,
    "start_time": "2023-04-16T18:39:30.138Z"
   },
   {
    "duration": 34,
    "start_time": "2023-04-16T18:39:30.250Z"
   },
   {
    "duration": 14,
    "start_time": "2023-04-16T18:39:30.285Z"
   },
   {
    "duration": 145,
    "start_time": "2023-04-16T18:39:30.303Z"
   },
   {
    "duration": 18,
    "start_time": "2023-04-16T18:39:30.450Z"
   },
   {
    "duration": 347,
    "start_time": "2023-04-16T18:39:30.470Z"
   },
   {
    "duration": 25,
    "start_time": "2023-04-16T18:39:30.818Z"
   },
   {
    "duration": 79,
    "start_time": "2023-04-16T18:39:30.845Z"
   },
   {
    "duration": 285,
    "start_time": "2023-04-16T18:39:30.926Z"
   },
   {
    "duration": 10,
    "start_time": "2023-04-16T18:39:31.212Z"
   },
   {
    "duration": 13,
    "start_time": "2023-04-16T18:39:31.223Z"
   },
   {
    "duration": 45,
    "start_time": "2023-04-16T18:39:31.237Z"
   },
   {
    "duration": 36,
    "start_time": "2023-04-16T18:39:31.284Z"
   },
   {
    "duration": 69,
    "start_time": "2023-04-16T18:39:31.322Z"
   },
   {
    "duration": 27,
    "start_time": "2023-04-16T18:39:31.393Z"
   },
   {
    "duration": 26,
    "start_time": "2023-04-16T18:39:31.422Z"
   },
   {
    "duration": 160,
    "start_time": "2023-04-16T18:39:31.449Z"
   },
   {
    "duration": 4,
    "start_time": "2023-04-16T18:39:31.611Z"
   },
   {
    "duration": 26,
    "start_time": "2023-04-16T18:39:31.616Z"
   },
   {
    "duration": 42,
    "start_time": "2023-04-16T18:39:31.643Z"
   },
   {
    "duration": 26,
    "start_time": "2023-04-16T18:39:31.687Z"
   },
   {
    "duration": 67,
    "start_time": "2023-04-16T18:39:31.716Z"
   },
   {
    "duration": 7,
    "start_time": "2023-04-16T18:39:44.911Z"
   },
   {
    "duration": 648,
    "start_time": "2023-04-16T18:40:31.023Z"
   },
   {
    "duration": 524,
    "start_time": "2023-04-16T18:40:45.923Z"
   },
   {
    "duration": 544,
    "start_time": "2023-04-16T18:40:54.655Z"
   },
   {
    "duration": 7,
    "start_time": "2023-04-16T18:42:23.770Z"
   },
   {
    "duration": 563,
    "start_time": "2023-04-16T18:42:28.323Z"
   },
   {
    "duration": 7,
    "start_time": "2023-04-16T18:42:49.819Z"
   },
   {
    "duration": 767,
    "start_time": "2023-04-16T18:42:53.838Z"
   },
   {
    "duration": 563,
    "start_time": "2023-04-16T18:43:05.632Z"
   },
   {
    "duration": 557,
    "start_time": "2023-04-16T18:43:18.527Z"
   },
   {
    "duration": 7,
    "start_time": "2023-04-16T18:44:15.070Z"
   },
   {
    "duration": 534,
    "start_time": "2023-04-16T18:44:20.007Z"
   },
   {
    "duration": 643,
    "start_time": "2023-04-16T18:44:23.123Z"
   },
   {
    "duration": 530,
    "start_time": "2023-04-16T18:44:26.722Z"
   },
   {
    "duration": 356,
    "start_time": "2023-04-16T18:46:15.153Z"
   },
   {
    "duration": 9286,
    "start_time": "2023-04-16T18:48:03.412Z"
   },
   {
    "duration": 15,
    "start_time": "2023-04-16T18:54:11.125Z"
   },
   {
    "duration": 12,
    "start_time": "2023-04-16T18:54:32.024Z"
   },
   {
    "duration": 22,
    "start_time": "2023-04-16T18:56:03.758Z"
   },
   {
    "duration": 13,
    "start_time": "2023-04-16T18:56:07.471Z"
   },
   {
    "duration": 21,
    "start_time": "2023-04-16T18:56:12.261Z"
   },
   {
    "duration": 12,
    "start_time": "2023-04-16T18:56:25.098Z"
   },
   {
    "duration": 519,
    "start_time": "2023-04-16T18:57:08.317Z"
   },
   {
    "duration": 445,
    "start_time": "2023-04-16T18:58:06.027Z"
   },
   {
    "duration": 517,
    "start_time": "2023-04-16T18:59:31.345Z"
   },
   {
    "duration": 611,
    "start_time": "2023-04-16T18:59:40.375Z"
   },
   {
    "duration": 438,
    "start_time": "2023-04-16T19:01:45.705Z"
   },
   {
    "duration": 518,
    "start_time": "2023-04-16T19:02:36.829Z"
   },
   {
    "duration": 487,
    "start_time": "2023-04-16T19:02:50.737Z"
   },
   {
    "duration": 27,
    "start_time": "2023-04-16T19:06:39.326Z"
   },
   {
    "duration": 22,
    "start_time": "2023-04-16T19:12:26.114Z"
   },
   {
    "duration": 54,
    "start_time": "2023-04-16T19:14:20.674Z"
   },
   {
    "duration": 60,
    "start_time": "2023-04-16T19:15:22.438Z"
   },
   {
    "duration": 5,
    "start_time": "2023-04-16T19:16:11.325Z"
   },
   {
    "duration": 27,
    "start_time": "2023-04-16T19:18:40.979Z"
   },
   {
    "duration": 28,
    "start_time": "2023-04-16T19:19:04.482Z"
   },
   {
    "duration": 24,
    "start_time": "2023-04-16T19:19:16.711Z"
   },
   {
    "duration": 4,
    "start_time": "2023-04-16T19:45:05.930Z"
   },
   {
    "duration": 8,
    "start_time": "2023-04-16T19:49:00.839Z"
   },
   {
    "duration": 18,
    "start_time": "2023-04-16T19:52:54.242Z"
   },
   {
    "duration": 203,
    "start_time": "2023-04-16T19:57:58.918Z"
   },
   {
    "duration": 139,
    "start_time": "2023-04-16T19:58:12.453Z"
   },
   {
    "duration": 47,
    "start_time": "2023-04-16T19:59:45.477Z"
   },
   {
    "duration": 20,
    "start_time": "2023-04-16T19:59:54.562Z"
   },
   {
    "duration": 174,
    "start_time": "2023-04-16T20:00:02.074Z"
   },
   {
    "duration": 146,
    "start_time": "2023-04-16T20:00:16.050Z"
   },
   {
    "duration": 217,
    "start_time": "2023-04-16T20:00:44.410Z"
   },
   {
    "duration": 277,
    "start_time": "2023-04-16T20:02:37.744Z"
   },
   {
    "duration": 306,
    "start_time": "2023-04-16T20:03:10.837Z"
   },
   {
    "duration": 154,
    "start_time": "2023-04-16T20:06:22.444Z"
   },
   {
    "duration": 157,
    "start_time": "2023-04-16T20:07:01.266Z"
   },
   {
    "duration": 162,
    "start_time": "2023-04-16T20:07:19.960Z"
   },
   {
    "duration": 178,
    "start_time": "2023-04-16T20:07:33.818Z"
   },
   {
    "duration": 13,
    "start_time": "2023-04-16T20:11:49.747Z"
   },
   {
    "duration": 18,
    "start_time": "2023-04-16T20:12:38.460Z"
   },
   {
    "duration": 47,
    "start_time": "2023-04-16T20:12:47.443Z"
   },
   {
    "duration": 69,
    "start_time": "2023-04-16T20:13:03.242Z"
   },
   {
    "duration": 31,
    "start_time": "2023-04-16T20:13:18.806Z"
   },
   {
    "duration": 28,
    "start_time": "2023-04-16T20:15:00.834Z"
   },
   {
    "duration": 19,
    "start_time": "2023-04-16T20:15:16.153Z"
   },
   {
    "duration": 1328,
    "start_time": "2023-04-16T20:15:30.706Z"
   },
   {
    "duration": 288,
    "start_time": "2023-04-16T20:15:32.037Z"
   },
   {
    "duration": 41,
    "start_time": "2023-04-16T20:15:32.327Z"
   },
   {
    "duration": 16,
    "start_time": "2023-04-16T20:15:32.370Z"
   },
   {
    "duration": 234,
    "start_time": "2023-04-16T20:15:32.388Z"
   },
   {
    "duration": 8,
    "start_time": "2023-04-16T20:15:32.624Z"
   },
   {
    "duration": 85,
    "start_time": "2023-04-16T20:15:32.633Z"
   },
   {
    "duration": 22,
    "start_time": "2023-04-16T20:15:32.720Z"
   },
   {
    "duration": 22,
    "start_time": "2023-04-16T20:15:32.744Z"
   },
   {
    "duration": 160,
    "start_time": "2023-04-16T20:15:32.767Z"
   },
   {
    "duration": 6,
    "start_time": "2023-04-16T20:15:32.929Z"
   },
   {
    "duration": 378,
    "start_time": "2023-04-16T20:15:32.937Z"
   },
   {
    "duration": 24,
    "start_time": "2023-04-16T20:15:33.316Z"
   },
   {
    "duration": 38,
    "start_time": "2023-04-16T20:15:33.358Z"
   },
   {
    "duration": 246,
    "start_time": "2023-04-16T20:15:33.398Z"
   },
   {
    "duration": 17,
    "start_time": "2023-04-16T20:15:33.645Z"
   },
   {
    "duration": 6,
    "start_time": "2023-04-16T20:15:33.664Z"
   },
   {
    "duration": 11,
    "start_time": "2023-04-16T20:15:33.671Z"
   },
   {
    "duration": 6,
    "start_time": "2023-04-16T20:15:33.684Z"
   },
   {
    "duration": 12,
    "start_time": "2023-04-16T20:15:33.692Z"
   },
   {
    "duration": 9,
    "start_time": "2023-04-16T20:15:33.707Z"
   },
   {
    "duration": 10,
    "start_time": "2023-04-16T20:15:33.719Z"
   },
   {
    "duration": 149,
    "start_time": "2023-04-16T20:15:33.731Z"
   },
   {
    "duration": 6,
    "start_time": "2023-04-16T20:15:33.882Z"
   },
   {
    "duration": 10,
    "start_time": "2023-04-16T20:15:33.889Z"
   },
   {
    "duration": 45,
    "start_time": "2023-04-16T20:15:33.901Z"
   },
   {
    "duration": 13,
    "start_time": "2023-04-16T20:15:33.948Z"
   },
   {
    "duration": 37,
    "start_time": "2023-04-16T20:15:33.964Z"
   },
   {
    "duration": 9,
    "start_time": "2023-04-16T20:15:34.003Z"
   },
   {
    "duration": 723,
    "start_time": "2023-04-16T20:15:34.014Z"
   },
   {
    "duration": 629,
    "start_time": "2023-04-16T20:15:34.739Z"
   },
   {
    "duration": 618,
    "start_time": "2023-04-16T20:15:35.370Z"
   },
   {
    "duration": 20,
    "start_time": "2023-04-16T20:15:35.990Z"
   },
   {
    "duration": 14,
    "start_time": "2023-04-16T20:15:36.012Z"
   },
   {
    "duration": 37,
    "start_time": "2023-04-16T20:15:36.028Z"
   },
   {
    "duration": 458,
    "start_time": "2023-04-16T20:15:36.067Z"
   },
   {
    "duration": 522,
    "start_time": "2023-04-16T20:15:36.527Z"
   },
   {
    "duration": 25,
    "start_time": "2023-04-16T20:15:37.051Z"
   },
   {
    "duration": 7,
    "start_time": "2023-04-16T20:15:37.077Z"
   },
   {
    "duration": 16,
    "start_time": "2023-04-16T20:15:37.086Z"
   },
   {
    "duration": 178,
    "start_time": "2023-04-16T20:15:37.105Z"
   },
   {
    "duration": 118,
    "start_time": "2023-04-16T20:15:50.431Z"
   },
   {
    "duration": 41,
    "start_time": "2023-04-16T20:16:10.630Z"
   },
   {
    "duration": 30,
    "start_time": "2023-04-16T20:16:32.735Z"
   },
   {
    "duration": 5,
    "start_time": "2023-04-16T20:17:34.219Z"
   },
   {
    "duration": 20,
    "start_time": "2023-04-16T20:18:26.422Z"
   },
   {
    "duration": 18,
    "start_time": "2023-04-16T20:23:25.918Z"
   },
   {
    "duration": 26,
    "start_time": "2023-04-16T20:23:29.718Z"
   },
   {
    "duration": 32,
    "start_time": "2023-04-16T20:24:15.143Z"
   },
   {
    "duration": 59,
    "start_time": "2023-04-16T20:26:17.314Z"
   },
   {
    "duration": 9,
    "start_time": "2023-04-16T20:26:36.518Z"
   },
   {
    "duration": 3,
    "start_time": "2023-04-16T20:27:21.670Z"
   },
   {
    "duration": 9,
    "start_time": "2023-04-16T20:28:04.266Z"
   },
   {
    "duration": 14,
    "start_time": "2023-04-16T20:41:17.258Z"
   },
   {
    "duration": 14,
    "start_time": "2023-04-16T20:42:42.647Z"
   },
   {
    "duration": 14,
    "start_time": "2023-04-16T20:43:13.654Z"
   },
   {
    "duration": 10,
    "start_time": "2023-04-16T20:43:53.644Z"
   },
   {
    "duration": 54,
    "start_time": "2023-04-16T20:54:37.370Z"
   },
   {
    "duration": 142,
    "start_time": "2023-04-16T20:55:23.446Z"
   },
   {
    "duration": 7,
    "start_time": "2023-04-16T20:56:28.968Z"
   },
   {
    "duration": 17,
    "start_time": "2023-04-16T20:56:31.460Z"
   },
   {
    "duration": 272,
    "start_time": "2023-04-16T20:56:34.027Z"
   },
   {
    "duration": 1689,
    "start_time": "2023-04-17T16:18:47.331Z"
   },
   {
    "duration": 909,
    "start_time": "2023-04-17T16:18:52.582Z"
   },
   {
    "duration": 26,
    "start_time": "2023-04-17T16:18:55.161Z"
   },
   {
    "duration": 18,
    "start_time": "2023-04-17T16:18:58.768Z"
   },
   {
    "duration": 209,
    "start_time": "2023-04-17T16:19:03.413Z"
   },
   {
    "duration": 8,
    "start_time": "2023-04-17T16:19:06.503Z"
   },
   {
    "duration": 929,
    "start_time": "2023-04-17T16:19:08.902Z"
   },
   {
    "duration": 34,
    "start_time": "2023-04-17T16:19:12.545Z"
   },
   {
    "duration": 12,
    "start_time": "2023-04-17T16:19:16.121Z"
   },
   {
    "duration": 118,
    "start_time": "2023-04-17T16:19:20.581Z"
   },
   {
    "duration": 6,
    "start_time": "2023-04-17T16:19:24.079Z"
   },
   {
    "duration": 2174,
    "start_time": "2023-04-17T16:19:27.997Z"
   },
   {
    "duration": 21,
    "start_time": "2023-04-17T16:19:32.998Z"
   },
   {
    "duration": 18,
    "start_time": "2023-04-17T16:19:36.800Z"
   },
   {
    "duration": 255,
    "start_time": "2023-04-17T16:19:42.027Z"
   },
   {
    "duration": 10,
    "start_time": "2023-04-17T16:19:45.107Z"
   },
   {
    "duration": 6,
    "start_time": "2023-04-17T16:19:50.777Z"
   },
   {
    "duration": 5,
    "start_time": "2023-04-17T16:19:57.113Z"
   },
   {
    "duration": 4,
    "start_time": "2023-04-17T16:19:59.383Z"
   },
   {
    "duration": 4,
    "start_time": "2023-04-17T16:20:02.780Z"
   },
   {
    "duration": 8,
    "start_time": "2023-04-17T16:20:08.477Z"
   },
   {
    "duration": 18,
    "start_time": "2023-04-17T16:20:12.441Z"
   },
   {
    "duration": 145,
    "start_time": "2023-04-17T16:20:15.439Z"
   },
   {
    "duration": 4,
    "start_time": "2023-04-17T16:20:19.738Z"
   },
   {
    "duration": 26,
    "start_time": "2023-04-17T16:20:22.348Z"
   },
   {
    "duration": 40,
    "start_time": "2023-04-17T16:20:26.533Z"
   },
   {
    "duration": 4,
    "start_time": "2023-04-17T16:20:32.035Z"
   },
   {
    "duration": 24,
    "start_time": "2023-04-17T16:20:35.919Z"
   },
   {
    "duration": 6,
    "start_time": "2023-04-17T16:20:40.825Z"
   },
   {
    "duration": 696,
    "start_time": "2023-04-17T16:20:48.734Z"
   },
   {
    "duration": 556,
    "start_time": "2023-04-17T16:20:53.777Z"
   },
   {
    "duration": 553,
    "start_time": "2023-04-17T16:20:59.246Z"
   },
   {
    "duration": 19,
    "start_time": "2023-04-17T16:21:08.668Z"
   },
   {
    "duration": 13,
    "start_time": "2023-04-17T16:21:27.473Z"
   },
   {
    "duration": 11,
    "start_time": "2023-04-17T16:21:32.111Z"
   },
   {
    "duration": 547,
    "start_time": "2023-04-17T16:21:41.985Z"
   },
   {
    "duration": 558,
    "start_time": "2023-04-17T16:21:50.323Z"
   },
   {
    "duration": 19,
    "start_time": "2023-04-17T16:22:42.718Z"
   },
   {
    "duration": 7,
    "start_time": "2023-04-17T16:22:48.377Z"
   },
   {
    "duration": 15,
    "start_time": "2023-04-17T16:22:50.999Z"
   },
   {
    "duration": 160,
    "start_time": "2023-04-17T16:22:54.013Z"
   },
   {
    "duration": 69,
    "start_time": "2023-04-17T16:23:48.942Z"
   },
   {
    "duration": 8,
    "start_time": "2023-04-17T16:24:52.901Z"
   },
   {
    "duration": 19,
    "start_time": "2023-04-17T16:25:00.060Z"
   },
   {
    "duration": 168,
    "start_time": "2023-04-17T16:25:04.349Z"
   },
   {
    "duration": 88,
    "start_time": "2023-04-17T16:25:51.509Z"
   },
   {
    "duration": 7,
    "start_time": "2023-04-17T16:26:03.540Z"
   },
   {
    "duration": 7,
    "start_time": "2023-04-17T16:26:54.813Z"
   },
   {
    "duration": 21,
    "start_time": "2023-04-17T16:27:04.109Z"
   },
   {
    "duration": 3,
    "start_time": "2023-04-17T16:27:07.514Z"
   },
   {
    "duration": 13,
    "start_time": "2023-04-17T16:27:14.596Z"
   },
   {
    "duration": 4,
    "start_time": "2023-04-17T16:27:23.213Z"
   },
   {
    "duration": 2,
    "start_time": "2023-04-17T16:27:25.083Z"
   },
   {
    "duration": 3,
    "start_time": "2023-04-17T16:31:16.675Z"
   },
   {
    "duration": 4,
    "start_time": "2023-04-17T16:36:14.179Z"
   },
   {
    "duration": 5891,
    "start_time": "2023-04-17T16:36:23.181Z"
   },
   {
    "duration": 99,
    "start_time": "2023-04-17T16:37:35.608Z"
   },
   {
    "duration": 4,
    "start_time": "2023-04-17T16:37:46.210Z"
   },
   {
    "duration": 7803,
    "start_time": "2023-04-17T16:37:53.346Z"
   },
   {
    "duration": 3,
    "start_time": "2023-04-17T16:38:23.322Z"
   },
   {
    "duration": 3236,
    "start_time": "2023-04-17T16:38:25.420Z"
   },
   {
    "duration": 4,
    "start_time": "2023-04-17T16:41:34.078Z"
   },
   {
    "duration": 6553,
    "start_time": "2023-04-17T16:41:36.416Z"
   },
   {
    "duration": 6,
    "start_time": "2023-04-17T16:44:21.047Z"
   },
   {
    "duration": 17,
    "start_time": "2023-04-17T16:44:23.315Z"
   },
   {
    "duration": 9960,
    "start_time": "2023-04-17T16:45:24.593Z"
   },
   {
    "duration": 113,
    "start_time": "2023-04-17T16:48:53.712Z"
   },
   {
    "duration": 4,
    "start_time": "2023-04-17T16:51:38.401Z"
   },
   {
    "duration": 6434,
    "start_time": "2023-04-17T16:52:34.616Z"
   },
   {
    "duration": 5254,
    "start_time": "2023-04-17T17:06:34.706Z"
   },
   {
    "duration": 4,
    "start_time": "2023-04-17T17:07:11.179Z"
   },
   {
    "duration": 3718,
    "start_time": "2023-04-17T17:07:14.432Z"
   },
   {
    "duration": 1470,
    "start_time": "2023-04-17T17:07:47.527Z"
   },
   {
    "duration": 277,
    "start_time": "2023-04-17T17:07:48.999Z"
   },
   {
    "duration": 25,
    "start_time": "2023-04-17T17:07:49.278Z"
   },
   {
    "duration": 38,
    "start_time": "2023-04-17T17:07:49.305Z"
   },
   {
    "duration": 202,
    "start_time": "2023-04-17T17:07:49.344Z"
   },
   {
    "duration": 8,
    "start_time": "2023-04-17T17:07:49.548Z"
   },
   {
    "duration": 83,
    "start_time": "2023-04-17T17:07:49.557Z"
   },
   {
    "duration": 21,
    "start_time": "2023-04-17T17:07:49.641Z"
   },
   {
    "duration": 22,
    "start_time": "2023-04-17T17:07:49.663Z"
   },
   {
    "duration": 132,
    "start_time": "2023-04-17T17:07:49.688Z"
   },
   {
    "duration": 9,
    "start_time": "2023-04-17T17:07:49.822Z"
   },
   {
    "duration": 352,
    "start_time": "2023-04-17T17:07:49.833Z"
   },
   {
    "duration": 21,
    "start_time": "2023-04-17T17:07:50.187Z"
   },
   {
    "duration": 21,
    "start_time": "2023-04-17T17:07:50.209Z"
   },
   {
    "duration": 243,
    "start_time": "2023-04-17T17:07:50.232Z"
   },
   {
    "duration": 10,
    "start_time": "2023-04-17T17:07:50.477Z"
   },
   {
    "duration": 5,
    "start_time": "2023-04-17T17:07:50.489Z"
   },
   {
    "duration": 7,
    "start_time": "2023-04-17T17:07:50.495Z"
   },
   {
    "duration": 8,
    "start_time": "2023-04-17T17:07:50.503Z"
   },
   {
    "duration": 5,
    "start_time": "2023-04-17T17:07:50.512Z"
   },
   {
    "duration": 33,
    "start_time": "2023-04-17T17:07:50.519Z"
   },
   {
    "duration": 10,
    "start_time": "2023-04-17T17:07:50.554Z"
   },
   {
    "duration": 147,
    "start_time": "2023-04-17T17:07:50.566Z"
   },
   {
    "duration": 5,
    "start_time": "2023-04-17T17:07:50.715Z"
   },
   {
    "duration": 12,
    "start_time": "2023-04-17T17:07:50.722Z"
   },
   {
    "duration": 35,
    "start_time": "2023-04-17T17:07:50.736Z"
   },
   {
    "duration": 5,
    "start_time": "2023-04-17T17:07:50.773Z"
   },
   {
    "duration": 53,
    "start_time": "2023-04-17T17:07:50.783Z"
   },
   {
    "duration": 8,
    "start_time": "2023-04-17T17:07:50.837Z"
   },
   {
    "duration": 695,
    "start_time": "2023-04-17T17:07:50.846Z"
   },
   {
    "duration": 535,
    "start_time": "2023-04-17T17:07:51.543Z"
   },
   {
    "duration": 574,
    "start_time": "2023-04-17T17:07:52.080Z"
   },
   {
    "duration": 18,
    "start_time": "2023-04-17T17:07:52.655Z"
   },
   {
    "duration": 24,
    "start_time": "2023-04-17T17:07:52.674Z"
   },
   {
    "duration": 19,
    "start_time": "2023-04-17T17:07:52.700Z"
   },
   {
    "duration": 520,
    "start_time": "2023-04-17T17:07:52.720Z"
   },
   {
    "duration": 500,
    "start_time": "2023-04-17T17:07:53.241Z"
   },
   {
    "duration": 21,
    "start_time": "2023-04-17T17:07:53.748Z"
   },
   {
    "duration": 7,
    "start_time": "2023-04-17T17:07:53.770Z"
   },
   {
    "duration": 14,
    "start_time": "2023-04-17T17:07:53.778Z"
   },
   {
    "duration": 158,
    "start_time": "2023-04-17T17:07:53.793Z"
   },
   {
    "duration": 47,
    "start_time": "2023-04-17T17:07:53.953Z"
   },
   {
    "duration": 7,
    "start_time": "2023-04-17T17:07:54.001Z"
   },
   {
    "duration": 41,
    "start_time": "2023-04-17T17:07:54.009Z"
   },
   {
    "duration": 10,
    "start_time": "2023-04-17T17:07:54.051Z"
   },
   {
    "duration": 19,
    "start_time": "2023-04-17T17:07:54.063Z"
   },
   {
    "duration": 9,
    "start_time": "2023-04-17T17:07:54.083Z"
   },
   {
    "duration": 15,
    "start_time": "2023-04-17T17:07:54.094Z"
   },
   {
    "duration": 19,
    "start_time": "2023-04-17T17:07:54.110Z"
   },
   {
    "duration": 4,
    "start_time": "2023-04-17T17:07:59.732Z"
   },
   {
    "duration": 5420,
    "start_time": "2023-04-17T17:08:02.514Z"
   },
   {
    "duration": 4585,
    "start_time": "2023-04-17T17:08:11.773Z"
   },
   {
    "duration": 5,
    "start_time": "2023-04-17T17:08:25.209Z"
   },
   {
    "duration": 18,
    "start_time": "2023-04-17T17:08:27.221Z"
   },
   {
    "duration": 10114,
    "start_time": "2023-04-17T17:08:30.540Z"
   },
   {
    "duration": 3,
    "start_time": "2023-04-17T17:10:24.858Z"
   },
   {
    "duration": 3,
    "start_time": "2023-04-17T17:10:38.699Z"
   },
   {
    "duration": 3,
    "start_time": "2023-04-17T17:11:33.346Z"
   },
   {
    "duration": 3,
    "start_time": "2023-04-17T17:11:35.408Z"
   },
   {
    "duration": 3,
    "start_time": "2023-04-17T17:12:07.613Z"
   },
   {
    "duration": 3,
    "start_time": "2023-04-17T17:12:14.798Z"
   },
   {
    "duration": 3,
    "start_time": "2023-04-17T17:12:17.521Z"
   },
   {
    "duration": 1425,
    "start_time": "2023-04-17T17:13:22.084Z"
   },
   {
    "duration": 270,
    "start_time": "2023-04-17T17:13:23.510Z"
   },
   {
    "duration": 26,
    "start_time": "2023-04-17T17:13:23.781Z"
   },
   {
    "duration": 23,
    "start_time": "2023-04-17T17:13:23.808Z"
   },
   {
    "duration": 214,
    "start_time": "2023-04-17T17:13:23.833Z"
   },
   {
    "duration": 7,
    "start_time": "2023-04-17T17:13:24.048Z"
   },
   {
    "duration": 80,
    "start_time": "2023-04-17T17:13:24.057Z"
   },
   {
    "duration": 22,
    "start_time": "2023-04-17T17:13:24.138Z"
   },
   {
    "duration": 29,
    "start_time": "2023-04-17T17:13:24.161Z"
   },
   {
    "duration": 105,
    "start_time": "2023-04-17T17:13:24.192Z"
   },
   {
    "duration": 6,
    "start_time": "2023-04-17T17:13:24.298Z"
   },
   {
    "duration": 327,
    "start_time": "2023-04-17T17:13:24.306Z"
   },
   {
    "duration": 22,
    "start_time": "2023-04-17T17:13:24.635Z"
   },
   {
    "duration": 18,
    "start_time": "2023-04-17T17:13:24.659Z"
   },
   {
    "duration": 231,
    "start_time": "2023-04-17T17:13:24.678Z"
   },
   {
    "duration": 10,
    "start_time": "2023-04-17T17:13:24.911Z"
   },
   {
    "duration": 5,
    "start_time": "2023-04-17T17:13:24.922Z"
   },
   {
    "duration": 22,
    "start_time": "2023-04-17T17:13:24.929Z"
   },
   {
    "duration": 9,
    "start_time": "2023-04-17T17:13:24.952Z"
   },
   {
    "duration": 8,
    "start_time": "2023-04-17T17:13:24.963Z"
   },
   {
    "duration": 9,
    "start_time": "2023-04-17T17:13:24.972Z"
   },
   {
    "duration": 9,
    "start_time": "2023-04-17T17:13:24.982Z"
   },
   {
    "duration": 153,
    "start_time": "2023-04-17T17:13:24.993Z"
   },
   {
    "duration": 4,
    "start_time": "2023-04-17T17:13:25.150Z"
   },
   {
    "duration": 10,
    "start_time": "2023-04-17T17:13:25.157Z"
   },
   {
    "duration": 25,
    "start_time": "2023-04-17T17:13:25.169Z"
   },
   {
    "duration": 3,
    "start_time": "2023-04-17T17:13:25.196Z"
   },
   {
    "duration": 54,
    "start_time": "2023-04-17T17:13:25.201Z"
   },
   {
    "duration": 7,
    "start_time": "2023-04-17T17:13:25.257Z"
   },
   {
    "duration": 622,
    "start_time": "2023-04-17T17:13:25.265Z"
   },
   {
    "duration": 531,
    "start_time": "2023-04-17T17:13:25.889Z"
   },
   {
    "duration": 505,
    "start_time": "2023-04-17T17:13:26.422Z"
   },
   {
    "duration": 21,
    "start_time": "2023-04-17T17:13:26.929Z"
   },
   {
    "duration": 11,
    "start_time": "2023-04-17T17:13:26.952Z"
   },
   {
    "duration": 11,
    "start_time": "2023-04-17T17:13:26.964Z"
   },
   {
    "duration": 455,
    "start_time": "2023-04-17T17:13:26.977Z"
   },
   {
    "duration": 503,
    "start_time": "2023-04-17T17:13:27.434Z"
   },
   {
    "duration": 22,
    "start_time": "2023-04-17T17:13:27.939Z"
   },
   {
    "duration": 8,
    "start_time": "2023-04-17T17:13:27.962Z"
   },
   {
    "duration": 15,
    "start_time": "2023-04-17T17:13:27.972Z"
   },
   {
    "duration": 147,
    "start_time": "2023-04-17T17:13:27.990Z"
   },
   {
    "duration": 54,
    "start_time": "2023-04-17T17:13:28.139Z"
   },
   {
    "duration": 9,
    "start_time": "2023-04-17T17:13:28.195Z"
   },
   {
    "duration": 26,
    "start_time": "2023-04-17T17:13:28.205Z"
   },
   {
    "duration": 3,
    "start_time": "2023-04-17T17:13:28.249Z"
   },
   {
    "duration": 17,
    "start_time": "2023-04-17T17:13:28.253Z"
   },
   {
    "duration": 3,
    "start_time": "2023-04-17T17:13:28.271Z"
   },
   {
    "duration": 4,
    "start_time": "2023-04-17T17:13:28.275Z"
   },
   {
    "duration": 3,
    "start_time": "2023-04-17T17:13:49.215Z"
   },
   {
    "duration": 4,
    "start_time": "2023-04-17T17:13:54.689Z"
   },
   {
    "duration": 4476,
    "start_time": "2023-04-17T17:13:56.378Z"
   },
   {
    "duration": 5,
    "start_time": "2023-04-17T17:14:06.924Z"
   },
   {
    "duration": 17,
    "start_time": "2023-04-17T17:14:09.396Z"
   },
   {
    "duration": 9242,
    "start_time": "2023-04-17T17:14:11.718Z"
   },
   {
    "duration": 3,
    "start_time": "2023-04-17T17:14:40.974Z"
   },
   {
    "duration": 3,
    "start_time": "2023-04-17T17:15:11.274Z"
   },
   {
    "duration": 4,
    "start_time": "2023-04-17T17:15:20.705Z"
   },
   {
    "duration": 120,
    "start_time": "2023-04-17T17:15:34.112Z"
   },
   {
    "duration": 9,
    "start_time": "2023-04-17T17:15:52.664Z"
   },
   {
    "duration": 3,
    "start_time": "2023-04-17T17:16:49.833Z"
   },
   {
    "duration": 2,
    "start_time": "2023-04-17T17:17:04.005Z"
   },
   {
    "duration": 9,
    "start_time": "2023-04-17T17:17:06.267Z"
   },
   {
    "duration": 4,
    "start_time": "2023-04-17T17:17:22.961Z"
   },
   {
    "duration": 3,
    "start_time": "2023-04-17T17:18:30.308Z"
   },
   {
    "duration": 2,
    "start_time": "2023-04-17T17:18:51.106Z"
   },
   {
    "duration": 3,
    "start_time": "2023-04-17T17:18:52.632Z"
   },
   {
    "duration": 142,
    "start_time": "2023-04-17T17:28:23.970Z"
   },
   {
    "duration": 108,
    "start_time": "2023-04-17T17:28:47.767Z"
   },
   {
    "duration": 120,
    "start_time": "2023-04-17T17:31:41.030Z"
   },
   {
    "duration": 99,
    "start_time": "2023-04-17T17:31:54.594Z"
   },
   {
    "duration": 20,
    "start_time": "2023-04-17T17:32:09.408Z"
   },
   {
    "duration": 11,
    "start_time": "2023-04-17T17:33:06.914Z"
   },
   {
    "duration": 10,
    "start_time": "2023-04-17T17:33:11.678Z"
   },
   {
    "duration": 5,
    "start_time": "2023-04-17T17:35:00.296Z"
   },
   {
    "duration": 2583,
    "start_time": "2023-04-17T17:35:02.127Z"
   },
   {
    "duration": 7332,
    "start_time": "2023-04-17T17:35:23.028Z"
   },
   {
    "duration": 3,
    "start_time": "2023-04-17T17:36:38.414Z"
   },
   {
    "duration": 4,
    "start_time": "2023-04-17T17:36:40.631Z"
   },
   {
    "duration": 20113,
    "start_time": "2023-04-17T17:42:24.884Z"
   },
   {
    "duration": 48494,
    "start_time": "2023-04-17T17:50:23.110Z"
   },
   {
    "duration": 18,
    "start_time": "2023-04-17T17:52:06.157Z"
   },
   {
    "duration": 7,
    "start_time": "2023-04-17T17:52:08.476Z"
   },
   {
    "duration": 105,
    "start_time": "2023-04-17T17:52:24.399Z"
   },
   {
    "duration": 50,
    "start_time": "2023-04-17T17:54:02.648Z"
   },
   {
    "duration": 7,
    "start_time": "2023-04-17T17:54:05.647Z"
   },
   {
    "duration": 7,
    "start_time": "2023-04-17T17:54:08.633Z"
   },
   {
    "duration": 7,
    "start_time": "2023-04-17T17:54:10.798Z"
   },
   {
    "duration": 1618,
    "start_time": "2023-04-17T17:59:01.849Z"
   },
   {
    "duration": 319,
    "start_time": "2023-04-17T17:59:03.472Z"
   },
   {
    "duration": 32,
    "start_time": "2023-04-17T17:59:03.793Z"
   },
   {
    "duration": 35,
    "start_time": "2023-04-17T17:59:03.827Z"
   },
   {
    "duration": 227,
    "start_time": "2023-04-17T17:59:03.872Z"
   },
   {
    "duration": 12,
    "start_time": "2023-04-17T17:59:04.101Z"
   },
   {
    "duration": 103,
    "start_time": "2023-04-17T17:59:04.115Z"
   },
   {
    "duration": 21,
    "start_time": "2023-04-17T17:59:04.219Z"
   },
   {
    "duration": 20,
    "start_time": "2023-04-17T17:59:04.242Z"
   },
   {
    "duration": 132,
    "start_time": "2023-04-17T17:59:04.268Z"
   },
   {
    "duration": 8,
    "start_time": "2023-04-17T17:59:04.402Z"
   },
   {
    "duration": 458,
    "start_time": "2023-04-17T17:59:04.412Z"
   },
   {
    "duration": 30,
    "start_time": "2023-04-17T17:59:04.872Z"
   },
   {
    "duration": 55,
    "start_time": "2023-04-17T17:59:04.904Z"
   },
   {
    "duration": 302,
    "start_time": "2023-04-17T17:59:04.961Z"
   },
   {
    "duration": 14,
    "start_time": "2023-04-17T17:59:05.265Z"
   },
   {
    "duration": 18,
    "start_time": "2023-04-17T17:59:05.281Z"
   },
   {
    "duration": 14,
    "start_time": "2023-04-17T17:59:05.301Z"
   },
   {
    "duration": 15,
    "start_time": "2023-04-17T17:59:05.316Z"
   },
   {
    "duration": 9,
    "start_time": "2023-04-17T17:59:05.332Z"
   },
   {
    "duration": 52,
    "start_time": "2023-04-17T17:59:05.343Z"
   },
   {
    "duration": 20,
    "start_time": "2023-04-17T17:59:05.396Z"
   },
   {
    "duration": 175,
    "start_time": "2023-04-17T17:59:05.417Z"
   },
   {
    "duration": 4,
    "start_time": "2023-04-17T17:59:05.595Z"
   },
   {
    "duration": 22,
    "start_time": "2023-04-17T17:59:05.601Z"
   },
   {
    "duration": 58,
    "start_time": "2023-04-17T17:59:05.625Z"
   },
   {
    "duration": 4,
    "start_time": "2023-04-17T17:59:05.688Z"
   },
   {
    "duration": 26,
    "start_time": "2023-04-17T17:59:05.696Z"
   },
   {
    "duration": 7,
    "start_time": "2023-04-17T17:59:05.723Z"
   },
   {
    "duration": 709,
    "start_time": "2023-04-17T17:59:05.731Z"
   },
   {
    "duration": 550,
    "start_time": "2023-04-17T17:59:06.442Z"
   },
   {
    "duration": 566,
    "start_time": "2023-04-17T17:59:06.993Z"
   },
   {
    "duration": 24,
    "start_time": "2023-04-17T17:59:07.568Z"
   },
   {
    "duration": 13,
    "start_time": "2023-04-17T17:59:07.593Z"
   },
   {
    "duration": 12,
    "start_time": "2023-04-17T17:59:07.607Z"
   },
   {
    "duration": 501,
    "start_time": "2023-04-17T17:59:07.621Z"
   },
   {
    "duration": 586,
    "start_time": "2023-04-17T17:59:08.124Z"
   },
   {
    "duration": 20,
    "start_time": "2023-04-17T17:59:08.711Z"
   },
   {
    "duration": 38,
    "start_time": "2023-04-17T17:59:08.733Z"
   },
   {
    "duration": 45,
    "start_time": "2023-04-17T17:59:08.773Z"
   },
   {
    "duration": 167,
    "start_time": "2023-04-17T17:59:08.820Z"
   },
   {
    "duration": 94,
    "start_time": "2023-04-17T17:59:08.989Z"
   },
   {
    "duration": 8,
    "start_time": "2023-04-17T17:59:09.092Z"
   },
   {
    "duration": 41,
    "start_time": "2023-04-17T17:59:09.101Z"
   },
   {
    "duration": 38,
    "start_time": "2023-04-17T17:59:09.144Z"
   },
   {
    "duration": 24,
    "start_time": "2023-04-17T17:59:09.183Z"
   },
   {
    "duration": 4,
    "start_time": "2023-04-17T17:59:09.209Z"
   },
   {
    "duration": 8,
    "start_time": "2023-04-17T17:59:09.215Z"
   },
   {
    "duration": 21,
    "start_time": "2023-04-17T17:59:09.224Z"
   },
   {
    "duration": 37,
    "start_time": "2023-04-17T17:59:09.247Z"
   },
   {
    "duration": 7976,
    "start_time": "2023-04-17T17:59:09.287Z"
   },
   {
    "duration": 14,
    "start_time": "2023-04-17T17:59:17.276Z"
   },
   {
    "duration": 85,
    "start_time": "2023-04-17T17:59:17.291Z"
   },
   {
    "duration": 26775,
    "start_time": "2023-04-17T17:59:17.384Z"
   },
   {
    "duration": 19,
    "start_time": "2023-04-17T17:59:44.160Z"
   },
   {
    "duration": 98,
    "start_time": "2023-04-17T17:59:44.193Z"
   },
   {
    "duration": 14,
    "start_time": "2023-04-17T17:59:44.293Z"
   },
   {
    "duration": 8740,
    "start_time": "2023-04-17T17:59:44.310Z"
   },
   {
    "duration": 15,
    "start_time": "2023-04-17T17:59:53.055Z"
   },
   {
    "duration": 3,
    "start_time": "2023-04-17T17:59:53.072Z"
   },
   {
    "duration": 21719,
    "start_time": "2023-04-17T17:59:53.077Z"
   },
   {
    "duration": 49392,
    "start_time": "2023-04-17T18:00:14.798Z"
   },
   {
    "duration": 3,
    "start_time": "2023-04-17T18:01:04.192Z"
   },
   {
    "duration": 6,
    "start_time": "2023-04-17T18:01:04.196Z"
   },
   {
    "duration": 51,
    "start_time": "2023-04-17T18:01:04.203Z"
   },
   {
    "duration": 20,
    "start_time": "2023-04-17T18:01:04.256Z"
   },
   {
    "duration": 1591,
    "start_time": "2023-04-17T18:01:34.423Z"
   },
   {
    "duration": 306,
    "start_time": "2023-04-17T18:01:36.018Z"
   },
   {
    "duration": 45,
    "start_time": "2023-04-17T18:01:36.326Z"
   },
   {
    "duration": 22,
    "start_time": "2023-04-17T18:01:36.373Z"
   },
   {
    "duration": 233,
    "start_time": "2023-04-17T18:01:36.398Z"
   },
   {
    "duration": 9,
    "start_time": "2023-04-17T18:01:36.632Z"
   },
   {
    "duration": 100,
    "start_time": "2023-04-17T18:01:36.648Z"
   },
   {
    "duration": 33,
    "start_time": "2023-04-17T18:01:36.765Z"
   },
   {
    "duration": 12,
    "start_time": "2023-04-17T18:01:36.799Z"
   },
   {
    "duration": 116,
    "start_time": "2023-04-17T18:01:36.813Z"
   },
   {
    "duration": 6,
    "start_time": "2023-04-17T18:01:36.931Z"
   },
   {
    "duration": 391,
    "start_time": "2023-04-17T18:01:36.949Z"
   },
   {
    "duration": 41,
    "start_time": "2023-04-17T18:01:37.342Z"
   },
   {
    "duration": 27,
    "start_time": "2023-04-17T18:01:37.388Z"
   },
   {
    "duration": 278,
    "start_time": "2023-04-17T18:01:37.417Z"
   },
   {
    "duration": 13,
    "start_time": "2023-04-17T18:01:37.697Z"
   },
   {
    "duration": 6,
    "start_time": "2023-04-17T18:01:37.712Z"
   },
   {
    "duration": 7,
    "start_time": "2023-04-17T18:01:37.719Z"
   },
   {
    "duration": 25,
    "start_time": "2023-04-17T18:01:37.755Z"
   },
   {
    "duration": 7,
    "start_time": "2023-04-17T18:01:37.781Z"
   },
   {
    "duration": 14,
    "start_time": "2023-04-17T18:01:37.789Z"
   },
   {
    "duration": 11,
    "start_time": "2023-04-17T18:01:37.804Z"
   },
   {
    "duration": 154,
    "start_time": "2023-04-17T18:01:37.817Z"
   },
   {
    "duration": 7,
    "start_time": "2023-04-17T18:01:37.980Z"
   },
   {
    "duration": 13,
    "start_time": "2023-04-17T18:01:37.988Z"
   },
   {
    "duration": 39,
    "start_time": "2023-04-17T18:01:38.002Z"
   },
   {
    "duration": 4,
    "start_time": "2023-04-17T18:01:38.043Z"
   },
   {
    "duration": 47,
    "start_time": "2023-04-17T18:01:38.064Z"
   },
   {
    "duration": 6,
    "start_time": "2023-04-17T18:01:38.113Z"
   },
   {
    "duration": 611,
    "start_time": "2023-04-17T18:01:38.121Z"
   },
   {
    "duration": 546,
    "start_time": "2023-04-17T18:01:38.734Z"
   },
   {
    "duration": 620,
    "start_time": "2023-04-17T18:01:39.281Z"
   },
   {
    "duration": 20,
    "start_time": "2023-04-17T18:01:39.903Z"
   },
   {
    "duration": 42,
    "start_time": "2023-04-17T18:01:39.925Z"
   },
   {
    "duration": 14,
    "start_time": "2023-04-17T18:01:39.973Z"
   },
   {
    "duration": 478,
    "start_time": "2023-04-17T18:01:39.989Z"
   },
   {
    "duration": 498,
    "start_time": "2023-04-17T18:01:40.469Z"
   },
   {
    "duration": 24,
    "start_time": "2023-04-17T18:01:40.968Z"
   },
   {
    "duration": 8,
    "start_time": "2023-04-17T18:01:40.993Z"
   },
   {
    "duration": 15,
    "start_time": "2023-04-17T18:01:41.002Z"
   },
   {
    "duration": 182,
    "start_time": "2023-04-17T18:01:41.021Z"
   },
   {
    "duration": 72,
    "start_time": "2023-04-17T18:01:41.205Z"
   },
   {
    "duration": 10,
    "start_time": "2023-04-17T18:01:41.278Z"
   },
   {
    "duration": 24,
    "start_time": "2023-04-17T18:01:41.289Z"
   },
   {
    "duration": 7,
    "start_time": "2023-04-17T18:01:41.315Z"
   },
   {
    "duration": 15,
    "start_time": "2023-04-17T18:01:41.323Z"
   },
   {
    "duration": 39,
    "start_time": "2023-04-17T18:01:41.340Z"
   },
   {
    "duration": 7,
    "start_time": "2023-04-17T18:01:41.381Z"
   },
   {
    "duration": 7,
    "start_time": "2023-04-17T18:01:41.389Z"
   },
   {
    "duration": 8,
    "start_time": "2023-04-17T18:01:41.397Z"
   },
   {
    "duration": 8749,
    "start_time": "2023-04-17T18:01:41.406Z"
   },
   {
    "duration": 20,
    "start_time": "2023-04-17T18:01:50.163Z"
   },
   {
    "duration": 113,
    "start_time": "2023-04-17T18:01:50.187Z"
   },
   {
    "duration": 26051,
    "start_time": "2023-04-17T18:01:50.302Z"
   },
   {
    "duration": 5,
    "start_time": "2023-04-17T18:02:16.361Z"
   },
   {
    "duration": 105,
    "start_time": "2023-04-17T18:02:16.372Z"
   },
   {
    "duration": 131,
    "start_time": "2023-04-17T18:04:03.600Z"
   },
   {
    "duration": 15,
    "start_time": "2023-04-17T18:06:27.026Z"
   },
   {
    "duration": 38,
    "start_time": "2023-04-17T18:08:58.842Z"
   },
   {
    "duration": 8940,
    "start_time": "2023-04-17T18:10:12.201Z"
   },
   {
    "duration": 11,
    "start_time": "2023-04-17T18:10:39.771Z"
   },
   {
    "duration": 11,
    "start_time": "2023-04-17T18:10:41.870Z"
   },
   {
    "duration": 100,
    "start_time": "2023-04-17T18:19:36.194Z"
   },
   {
    "duration": 10,
    "start_time": "2023-04-17T18:19:45.108Z"
   },
   {
    "duration": 87519,
    "start_time": "2023-04-17T18:19:52.740Z"
   },
   {
    "duration": 25,
    "start_time": "2023-04-17T18:21:42.642Z"
   },
   {
    "duration": 380786,
    "start_time": "2023-04-17T18:21:46.718Z"
   },
   {
    "duration": 2,
    "start_time": "2023-04-17T18:28:34.402Z"
   },
   {
    "duration": 4,
    "start_time": "2023-04-17T18:28:36.319Z"
   },
   {
    "duration": 40,
    "start_time": "2023-04-17T18:28:45.502Z"
   },
   {
    "duration": 5,
    "start_time": "2023-04-17T18:28:48.628Z"
   },
   {
    "duration": 24,
    "start_time": "2023-04-17T18:29:02.147Z"
   },
   {
    "duration": 6,
    "start_time": "2023-04-17T18:29:12.793Z"
   },
   {
    "duration": 17,
    "start_time": "2023-04-17T18:29:46.438Z"
   },
   {
    "duration": 15,
    "start_time": "2023-04-17T18:29:53.781Z"
   },
   {
    "duration": 1271,
    "start_time": "2023-04-17T18:34:09.720Z"
   },
   {
    "duration": 6268,
    "start_time": "2023-04-17T18:36:02.813Z"
   },
   {
    "duration": 3,
    "start_time": "2023-04-17T18:37:11.586Z"
   },
   {
    "duration": 4,
    "start_time": "2023-04-17T18:40:19.378Z"
   },
   {
    "duration": 10,
    "start_time": "2023-04-17T18:41:12.230Z"
   },
   {
    "duration": 6,
    "start_time": "2023-04-17T18:41:20.011Z"
   },
   {
    "duration": 6,
    "start_time": "2023-04-17T18:41:25.887Z"
   },
   {
    "duration": 4,
    "start_time": "2023-04-17T18:41:29.206Z"
   },
   {
    "duration": 1476,
    "start_time": "2023-04-17T18:43:58.995Z"
   },
   {
    "duration": 281,
    "start_time": "2023-04-17T18:44:03.423Z"
   },
   {
    "duration": 27,
    "start_time": "2023-04-17T18:44:04.904Z"
   },
   {
    "duration": 18,
    "start_time": "2023-04-17T18:44:07.518Z"
   },
   {
    "duration": 191,
    "start_time": "2023-04-17T18:44:10.801Z"
   },
   {
    "duration": 10,
    "start_time": "2023-04-17T18:44:13.922Z"
   },
   {
    "duration": 86,
    "start_time": "2023-04-17T18:44:16.040Z"
   },
   {
    "duration": 21,
    "start_time": "2023-04-17T18:44:18.091Z"
   },
   {
    "duration": 12,
    "start_time": "2023-04-17T18:44:20.879Z"
   },
   {
    "duration": 106,
    "start_time": "2023-04-17T18:44:23.636Z"
   },
   {
    "duration": 7,
    "start_time": "2023-04-17T18:44:26.402Z"
   },
   {
    "duration": 350,
    "start_time": "2023-04-17T18:44:29.488Z"
   },
   {
    "duration": 21,
    "start_time": "2023-04-17T18:44:31.018Z"
   },
   {
    "duration": 17,
    "start_time": "2023-04-17T18:44:33.697Z"
   },
   {
    "duration": 221,
    "start_time": "2023-04-17T18:44:37.296Z"
   },
   {
    "duration": 10,
    "start_time": "2023-04-17T18:44:39.750Z"
   },
   {
    "duration": 5,
    "start_time": "2023-04-17T18:44:44.517Z"
   },
   {
    "duration": 5,
    "start_time": "2023-04-17T18:44:46.298Z"
   },
   {
    "duration": 4,
    "start_time": "2023-04-17T18:44:47.792Z"
   },
   {
    "duration": 5,
    "start_time": "2023-04-17T18:44:51.127Z"
   },
   {
    "duration": 6,
    "start_time": "2023-04-17T18:44:54.454Z"
   },
   {
    "duration": 8,
    "start_time": "2023-04-17T18:44:56.997Z"
   },
   {
    "duration": 120,
    "start_time": "2023-04-17T18:44:59.119Z"
   },
   {
    "duration": 5,
    "start_time": "2023-04-17T18:45:02.345Z"
   },
   {
    "duration": 7,
    "start_time": "2023-04-17T18:45:03.891Z"
   },
   {
    "duration": 26,
    "start_time": "2023-04-17T18:45:07.103Z"
   },
   {
    "duration": 4,
    "start_time": "2023-04-17T18:45:10.589Z"
   },
   {
    "duration": 25,
    "start_time": "2023-04-17T18:45:13.424Z"
   },
   {
    "duration": 6,
    "start_time": "2023-04-17T18:45:16.806Z"
   },
   {
    "duration": 607,
    "start_time": "2023-04-17T18:45:19.586Z"
   },
   {
    "duration": 533,
    "start_time": "2023-04-17T18:45:23.009Z"
   },
   {
    "duration": 521,
    "start_time": "2023-04-17T18:45:25.610Z"
   },
   {
    "duration": 17,
    "start_time": "2023-04-17T18:45:28.530Z"
   },
   {
    "duration": 12,
    "start_time": "2023-04-17T18:45:31.815Z"
   },
   {
    "duration": 12,
    "start_time": "2023-04-17T18:45:35.446Z"
   },
   {
    "duration": 508,
    "start_time": "2023-04-17T18:45:39.126Z"
   },
   {
    "duration": 432,
    "start_time": "2023-04-17T18:45:42.410Z"
   },
   {
    "duration": 20,
    "start_time": "2023-04-17T18:45:45.590Z"
   },
   {
    "duration": 8,
    "start_time": "2023-04-17T18:45:49.882Z"
   },
   {
    "duration": 15,
    "start_time": "2023-04-17T18:45:52.214Z"
   },
   {
    "duration": 146,
    "start_time": "2023-04-17T18:45:54.610Z"
   },
   {
    "duration": 57,
    "start_time": "2023-04-17T18:45:57.228Z"
   },
   {
    "duration": 9,
    "start_time": "2023-04-17T18:46:00.095Z"
   },
   {
    "duration": 23,
    "start_time": "2023-04-17T18:46:03.135Z"
   },
   {
    "duration": 3,
    "start_time": "2023-04-17T18:46:06.032Z"
   },
   {
    "duration": 13,
    "start_time": "2023-04-17T18:46:08.269Z"
   },
   {
    "duration": 3,
    "start_time": "2023-04-17T18:46:11.017Z"
   },
   {
    "duration": 4,
    "start_time": "2023-04-17T18:46:12.634Z"
   },
   {
    "duration": 3,
    "start_time": "2023-04-17T18:46:15.408Z"
   },
   {
    "duration": 4,
    "start_time": "2023-04-17T18:46:18.610Z"
   },
   {
    "duration": 5758,
    "start_time": "2023-04-17T18:46:20.394Z"
   },
   {
    "duration": 6,
    "start_time": "2023-04-17T18:46:33.820Z"
   },
   {
    "duration": 18,
    "start_time": "2023-04-17T18:46:35.894Z"
   },
   {
    "duration": 15409,
    "start_time": "2023-04-17T18:46:38.552Z"
   },
   {
    "duration": 3,
    "start_time": "2023-04-17T18:46:57.953Z"
   },
   {
    "duration": 3,
    "start_time": "2023-04-17T18:46:59.140Z"
   },
   {
    "duration": 6416,
    "start_time": "2023-04-17T18:47:02.451Z"
   },
   {
    "duration": 3,
    "start_time": "2023-04-17T18:47:25.288Z"
   },
   {
    "duration": 3,
    "start_time": "2023-04-17T18:47:30.393Z"
   },
   {
    "duration": 7056,
    "start_time": "2023-04-17T18:47:37.321Z"
   },
   {
    "duration": 122617,
    "start_time": "2023-04-17T18:47:47.303Z"
   },
   {
    "duration": 2,
    "start_time": "2023-04-17T19:06:19.433Z"
   },
   {
    "duration": 3,
    "start_time": "2023-04-17T19:06:21.089Z"
   },
   {
    "duration": 28,
    "start_time": "2023-04-17T19:06:35.316Z"
   },
   {
    "duration": 4,
    "start_time": "2023-04-17T19:06:41.760Z"
   },
   {
    "duration": 6,
    "start_time": "2023-04-17T19:06:44.737Z"
   },
   {
    "duration": 6,
    "start_time": "2023-04-17T19:06:47.299Z"
   },
   {
    "duration": 9,
    "start_time": "2023-04-17T19:06:49.891Z"
   },
   {
    "duration": 15,
    "start_time": "2023-04-17T19:06:53.011Z"
   },
   {
    "duration": 496,
    "start_time": "2023-04-17T19:07:44.597Z"
   },
   {
    "duration": 793,
    "start_time": "2023-04-17T19:08:33.019Z"
   },
   {
    "duration": 4,
    "start_time": "2023-04-17T19:08:35.840Z"
   },
   {
    "duration": 3,
    "start_time": "2023-04-17T19:08:55.541Z"
   },
   {
    "duration": 6,
    "start_time": "2023-04-17T19:09:04.499Z"
   },
   {
    "duration": 6,
    "start_time": "2023-04-17T19:09:07.324Z"
   },
   {
    "duration": 4,
    "start_time": "2023-04-17T19:09:09.824Z"
   },
   {
    "duration": 1633,
    "start_time": "2023-04-18T20:24:19.695Z"
   },
   {
    "duration": 1316,
    "start_time": "2023-04-18T20:24:21.330Z"
   },
   {
    "duration": 32,
    "start_time": "2023-04-18T20:24:22.648Z"
   },
   {
    "duration": 22,
    "start_time": "2023-04-18T20:24:22.682Z"
   },
   {
    "duration": 262,
    "start_time": "2023-04-18T20:24:22.706Z"
   },
   {
    "duration": 8,
    "start_time": "2023-04-18T20:24:22.970Z"
   },
   {
    "duration": 170,
    "start_time": "2023-04-18T20:24:22.979Z"
   },
   {
    "duration": 34,
    "start_time": "2023-04-18T20:24:23.150Z"
   },
   {
    "duration": 15,
    "start_time": "2023-04-18T20:24:23.186Z"
   },
   {
    "duration": 132,
    "start_time": "2023-04-18T20:24:23.204Z"
   },
   {
    "duration": 7,
    "start_time": "2023-04-18T20:24:23.338Z"
   },
   {
    "duration": 579,
    "start_time": "2023-04-18T20:24:23.346Z"
   },
   {
    "duration": 22,
    "start_time": "2023-04-18T20:24:23.926Z"
   },
   {
    "duration": 18,
    "start_time": "2023-04-18T20:24:23.950Z"
   },
   {
    "duration": 238,
    "start_time": "2023-04-18T20:24:23.969Z"
   },
   {
    "duration": 10,
    "start_time": "2023-04-18T20:24:24.223Z"
   },
   {
    "duration": 5,
    "start_time": "2023-04-18T20:24:24.235Z"
   },
   {
    "duration": 8,
    "start_time": "2023-04-18T20:24:24.242Z"
   },
   {
    "duration": 6,
    "start_time": "2023-04-18T20:24:24.251Z"
   },
   {
    "duration": 5,
    "start_time": "2023-04-18T20:24:24.258Z"
   },
   {
    "duration": 10,
    "start_time": "2023-04-18T20:24:24.265Z"
   },
   {
    "duration": 10,
    "start_time": "2023-04-18T20:24:24.277Z"
   },
   {
    "duration": 134,
    "start_time": "2023-04-18T20:24:24.317Z"
   },
   {
    "duration": 4,
    "start_time": "2023-04-18T20:24:24.453Z"
   },
   {
    "duration": 11,
    "start_time": "2023-04-18T20:24:24.459Z"
   },
   {
    "duration": 42,
    "start_time": "2023-04-18T20:24:24.471Z"
   },
   {
    "duration": 8,
    "start_time": "2023-04-18T20:24:24.515Z"
   },
   {
    "duration": 26,
    "start_time": "2023-04-18T20:24:24.528Z"
   },
   {
    "duration": 6,
    "start_time": "2023-04-18T20:24:24.556Z"
   },
   {
    "duration": 704,
    "start_time": "2023-04-18T20:24:24.564Z"
   },
   {
    "duration": 618,
    "start_time": "2023-04-18T20:24:25.270Z"
   },
   {
    "duration": 616,
    "start_time": "2023-04-18T20:24:25.890Z"
   },
   {
    "duration": 24,
    "start_time": "2023-04-18T20:24:26.511Z"
   },
   {
    "duration": 14,
    "start_time": "2023-04-18T20:24:26.538Z"
   },
   {
    "duration": 13,
    "start_time": "2023-04-18T20:24:26.554Z"
   },
   {
    "duration": 526,
    "start_time": "2023-04-18T20:24:26.569Z"
   },
   {
    "duration": 510,
    "start_time": "2023-04-18T20:24:27.096Z"
   },
   {
    "duration": 28,
    "start_time": "2023-04-18T20:24:27.611Z"
   },
   {
    "duration": 7,
    "start_time": "2023-04-18T20:24:27.641Z"
   },
   {
    "duration": 15,
    "start_time": "2023-04-18T20:24:27.650Z"
   },
   {
    "duration": 170,
    "start_time": "2023-04-18T20:24:27.667Z"
   },
   {
    "duration": 51,
    "start_time": "2023-04-18T20:24:27.839Z"
   },
   {
    "duration": 8,
    "start_time": "2023-04-18T20:24:27.891Z"
   },
   {
    "duration": 24,
    "start_time": "2023-04-18T20:24:27.912Z"
   },
   {
    "duration": 3,
    "start_time": "2023-04-18T20:24:27.938Z"
   },
   {
    "duration": 14,
    "start_time": "2023-04-18T20:24:27.942Z"
   },
   {
    "duration": 4,
    "start_time": "2023-04-18T20:24:27.957Z"
   },
   {
    "duration": 5,
    "start_time": "2023-04-18T20:24:27.962Z"
   },
   {
    "duration": 9,
    "start_time": "2023-04-18T20:24:27.968Z"
   },
   {
    "duration": 5,
    "start_time": "2023-04-18T20:24:27.978Z"
   },
   {
    "duration": 7442,
    "start_time": "2023-04-18T20:24:27.984Z"
   },
   {
    "duration": 7,
    "start_time": "2023-04-18T20:24:35.428Z"
   },
   {
    "duration": 102,
    "start_time": "2023-04-18T20:24:35.436Z"
   },
   {
    "duration": 14975,
    "start_time": "2023-04-18T20:24:35.540Z"
   },
   {
    "duration": 3,
    "start_time": "2023-04-18T20:24:50.516Z"
   },
   {
    "duration": 4,
    "start_time": "2023-04-18T20:24:50.521Z"
   },
   {
    "duration": 117,
    "start_time": "2023-04-18T20:25:45.875Z"
   },
   {
    "duration": 1770,
    "start_time": "2023-04-19T17:05:03.798Z"
   },
   {
    "duration": 977,
    "start_time": "2023-04-19T17:05:08.940Z"
   },
   {
    "duration": 37,
    "start_time": "2023-04-19T17:05:11.399Z"
   },
   {
    "duration": 27,
    "start_time": "2023-04-19T17:05:15.126Z"
   },
   {
    "duration": 305,
    "start_time": "2023-04-19T17:05:19.808Z"
   },
   {
    "duration": 9,
    "start_time": "2023-04-19T17:05:23.894Z"
   },
   {
    "duration": 419,
    "start_time": "2023-04-19T17:05:27.218Z"
   },
   {
    "duration": 26,
    "start_time": "2023-04-19T17:05:30.390Z"
   },
   {
    "duration": 14,
    "start_time": "2023-04-19T17:05:34.369Z"
   },
   {
    "duration": 135,
    "start_time": "2023-04-19T17:05:39.012Z"
   },
   {
    "duration": 10,
    "start_time": "2023-04-19T17:05:42.602Z"
   },
   {
    "duration": 1900,
    "start_time": "2023-04-19T17:05:47.102Z"
   },
   {
    "duration": 25,
    "start_time": "2023-04-19T17:05:52.973Z"
   },
   {
    "duration": 21,
    "start_time": "2023-04-19T17:05:57.184Z"
   },
   {
    "duration": 259,
    "start_time": "2023-04-19T17:06:03.033Z"
   },
   {
    "duration": 11,
    "start_time": "2023-04-19T17:06:05.986Z"
   },
   {
    "duration": 7,
    "start_time": "2023-04-19T17:06:11.797Z"
   },
   {
    "duration": 7,
    "start_time": "2023-04-19T17:06:14.909Z"
   },
   {
    "duration": 6,
    "start_time": "2023-04-19T17:06:17.293Z"
   },
   {
    "duration": 5,
    "start_time": "2023-04-19T17:06:20.116Z"
   },
   {
    "duration": 7,
    "start_time": "2023-04-19T17:06:29.437Z"
   },
   {
    "duration": 9,
    "start_time": "2023-04-19T17:06:33.510Z"
   },
   {
    "duration": 135,
    "start_time": "2023-04-19T17:07:44.508Z"
   },
   {
    "duration": 6,
    "start_time": "2023-04-19T17:08:02.701Z"
   },
   {
    "duration": 8,
    "start_time": "2023-04-19T17:08:07.291Z"
   },
   {
    "duration": 26,
    "start_time": "2023-04-19T17:08:15.480Z"
   },
   {
    "duration": 3,
    "start_time": "2023-04-19T17:08:25.823Z"
   },
   {
    "duration": 26,
    "start_time": "2023-04-19T17:08:35.607Z"
   },
   {
    "duration": 7,
    "start_time": "2023-04-19T17:09:22.272Z"
   },
   {
    "duration": 706,
    "start_time": "2023-04-19T17:09:27.292Z"
   },
   {
    "duration": 634,
    "start_time": "2023-04-19T17:09:31.618Z"
   },
   {
    "duration": 610,
    "start_time": "2023-04-19T17:09:35.373Z"
   },
   {
    "duration": 19,
    "start_time": "2023-04-19T17:09:41.249Z"
   },
   {
    "duration": 14,
    "start_time": "2023-04-19T17:09:50.672Z"
   },
   {
    "duration": 15,
    "start_time": "2023-04-19T17:09:53.906Z"
   },
   {
    "duration": 553,
    "start_time": "2023-04-19T17:12:56.877Z"
   },
   {
    "duration": 549,
    "start_time": "2023-04-19T17:13:24.708Z"
   },
   {
    "duration": 511,
    "start_time": "2023-04-19T17:14:56.218Z"
   },
   {
    "duration": 668,
    "start_time": "2023-04-19T17:15:12.779Z"
   },
   {
    "duration": 22,
    "start_time": "2023-04-19T17:15:38.578Z"
   },
   {
    "duration": 9,
    "start_time": "2023-04-19T17:18:44.988Z"
   },
   {
    "duration": 22,
    "start_time": "2023-04-19T17:18:47.609Z"
   },
   {
    "duration": 167,
    "start_time": "2023-04-19T17:18:50.077Z"
   },
   {
    "duration": 270,
    "start_time": "2023-04-19T17:22:35.215Z"
   },
   {
    "duration": 269,
    "start_time": "2023-04-19T17:25:47.163Z"
   },
   {
    "duration": 9,
    "start_time": "2023-04-19T17:28:24.603Z"
   },
   {
    "duration": 39,
    "start_time": "2023-04-19T17:28:28.919Z"
   },
   {
    "duration": 3,
    "start_time": "2023-04-19T17:28:33.103Z"
   },
   {
    "duration": 17,
    "start_time": "2023-04-19T17:28:37.377Z"
   },
   {
    "duration": 4,
    "start_time": "2023-04-19T17:28:41.334Z"
   },
   {
    "duration": 3,
    "start_time": "2023-04-19T17:28:44.171Z"
   },
   {
    "duration": 4,
    "start_time": "2023-04-19T17:28:56.466Z"
   },
   {
    "duration": 4,
    "start_time": "2023-04-19T17:29:15.534Z"
   },
   {
    "duration": 159,
    "start_time": "2023-04-19T17:29:18.257Z"
   },
   {
    "duration": 6,
    "start_time": "2023-04-19T17:30:35.532Z"
   },
   {
    "duration": 7381,
    "start_time": "2023-04-19T17:30:39.666Z"
   },
   {
    "duration": 6,
    "start_time": "2023-04-19T17:32:02.458Z"
   },
   {
    "duration": 24,
    "start_time": "2023-04-19T17:32:06.228Z"
   },
   {
    "duration": 20583,
    "start_time": "2023-04-19T17:32:09.547Z"
   },
   {
    "duration": 8,
    "start_time": "2023-04-19T17:39:37.236Z"
   },
   {
    "duration": 9147,
    "start_time": "2023-04-19T17:39:41.514Z"
   },
   {
    "duration": 5,
    "start_time": "2023-04-19T17:44:28.765Z"
   },
   {
    "duration": 8615,
    "start_time": "2023-04-19T17:44:42.611Z"
   },
   {
    "duration": 7790,
    "start_time": "2023-04-19T17:44:56.634Z"
   },
   {
    "duration": 5,
    "start_time": "2023-04-19T17:45:15.070Z"
   },
   {
    "duration": 24,
    "start_time": "2023-04-19T17:45:16.816Z"
   },
   {
    "duration": 21386,
    "start_time": "2023-04-19T17:45:30.336Z"
   },
   {
    "duration": 5,
    "start_time": "2023-04-19T17:47:26.826Z"
   },
   {
    "duration": 10813,
    "start_time": "2023-04-19T17:50:59.180Z"
   },
   {
    "duration": 15534,
    "start_time": "2023-04-19T17:51:21.460Z"
   },
   {
    "duration": 6,
    "start_time": "2023-04-19T17:51:39.931Z"
   },
   {
    "duration": 5,
    "start_time": "2023-04-19T17:51:46.378Z"
   },
   {
    "duration": 5,
    "start_time": "2023-04-19T17:51:52.799Z"
   },
   {
    "duration": 92695,
    "start_time": "2023-04-19T17:52:15.501Z"
   },
   {
    "duration": 198545,
    "start_time": "2023-04-19T17:54:00.701Z"
   },
   {
    "duration": 3,
    "start_time": "2023-04-19T17:57:29.001Z"
   },
   {
    "duration": 40,
    "start_time": "2023-04-19T17:57:35.231Z"
   },
   {
    "duration": 1538,
    "start_time": "2023-04-19T17:58:23.580Z"
   },
   {
    "duration": 315,
    "start_time": "2023-04-19T17:58:30.564Z"
   },
   {
    "duration": 36,
    "start_time": "2023-04-19T17:58:38.018Z"
   },
   {
    "duration": 26,
    "start_time": "2023-04-19T17:58:43.286Z"
   },
   {
    "duration": 272,
    "start_time": "2023-04-19T17:58:48.618Z"
   },
   {
    "duration": 12,
    "start_time": "2023-04-19T17:58:52.245Z"
   },
   {
    "duration": 106,
    "start_time": "2023-04-19T17:58:55.080Z"
   },
   {
    "duration": 27,
    "start_time": "2023-04-19T17:58:57.675Z"
   },
   {
    "duration": 13,
    "start_time": "2023-04-19T17:59:00.983Z"
   },
   {
    "duration": 136,
    "start_time": "2023-04-19T17:59:04.972Z"
   },
   {
    "duration": 7,
    "start_time": "2023-04-19T17:59:08.208Z"
   },
   {
    "duration": 413,
    "start_time": "2023-04-19T17:59:13.785Z"
   },
   {
    "duration": 24,
    "start_time": "2023-04-19T17:59:16.848Z"
   },
   {
    "duration": 19,
    "start_time": "2023-04-19T17:59:20.674Z"
   },
   {
    "duration": 286,
    "start_time": "2023-04-19T17:59:25.387Z"
   },
   {
    "duration": 12,
    "start_time": "2023-04-19T17:59:28.682Z"
   },
   {
    "duration": 7,
    "start_time": "2023-04-19T17:59:34.663Z"
   },
   {
    "duration": 7,
    "start_time": "2023-04-19T17:59:37.895Z"
   },
   {
    "duration": 7,
    "start_time": "2023-04-19T17:59:39.529Z"
   },
   {
    "duration": 4,
    "start_time": "2023-04-19T17:59:42.092Z"
   },
   {
    "duration": 9,
    "start_time": "2023-04-19T17:59:46.643Z"
   },
   {
    "duration": 18,
    "start_time": "2023-04-19T17:59:50.511Z"
   },
   {
    "duration": 147,
    "start_time": "2023-04-19T17:59:53.119Z"
   },
   {
    "duration": 5,
    "start_time": "2023-04-19T17:59:56.261Z"
   },
   {
    "duration": 8,
    "start_time": "2023-04-19T17:59:58.232Z"
   },
   {
    "duration": 29,
    "start_time": "2023-04-19T18:00:02.130Z"
   },
   {
    "duration": 5,
    "start_time": "2023-04-19T18:00:06.469Z"
   },
   {
    "duration": 31,
    "start_time": "2023-04-19T18:00:13.151Z"
   },
   {
    "duration": 11,
    "start_time": "2023-04-19T18:00:17.514Z"
   },
   {
    "duration": 797,
    "start_time": "2023-04-19T18:00:32.598Z"
   },
   {
    "duration": 682,
    "start_time": "2023-04-19T18:00:36.355Z"
   },
   {
    "duration": 723,
    "start_time": "2023-04-19T18:00:40.283Z"
   },
   {
    "duration": 29,
    "start_time": "2023-04-19T18:00:46.227Z"
   },
   {
    "duration": 16,
    "start_time": "2023-04-19T18:00:57.893Z"
   },
   {
    "duration": 17,
    "start_time": "2023-04-19T18:01:02.552Z"
   },
   {
    "duration": 685,
    "start_time": "2023-04-19T18:01:05.697Z"
   },
   {
    "duration": 589,
    "start_time": "2023-04-19T18:01:15.192Z"
   },
   {
    "duration": 28,
    "start_time": "2023-04-19T18:01:27.226Z"
   },
   {
    "duration": 7,
    "start_time": "2023-04-19T18:01:34.876Z"
   },
   {
    "duration": 17,
    "start_time": "2023-04-19T18:01:37.669Z"
   },
   {
    "duration": 248,
    "start_time": "2023-04-19T18:01:40.823Z"
   },
   {
    "duration": 57,
    "start_time": "2023-04-19T18:01:44.847Z"
   },
   {
    "duration": 10,
    "start_time": "2023-04-19T18:01:50.754Z"
   },
   {
    "duration": 35,
    "start_time": "2023-04-19T18:01:54.243Z"
   },
   {
    "duration": 3,
    "start_time": "2023-04-19T18:01:57.475Z"
   },
   {
    "duration": 17,
    "start_time": "2023-04-19T18:01:59.909Z"
   },
   {
    "duration": 4,
    "start_time": "2023-04-19T18:02:03.390Z"
   },
   {
    "duration": 3,
    "start_time": "2023-04-19T18:02:07.600Z"
   },
   {
    "duration": 6,
    "start_time": "2023-04-19T18:02:10.838Z"
   },
   {
    "duration": 5,
    "start_time": "2023-04-19T18:02:14.369Z"
   },
   {
    "duration": 7206,
    "start_time": "2023-04-19T18:02:17.118Z"
   },
   {
    "duration": 6,
    "start_time": "2023-04-19T18:02:33.115Z"
   },
   {
    "duration": 20,
    "start_time": "2023-04-19T18:02:35.476Z"
   },
   {
    "duration": 17968,
    "start_time": "2023-04-19T18:02:38.483Z"
   },
   {
    "duration": 3,
    "start_time": "2023-04-19T18:03:03.052Z"
   },
   {
    "duration": 8283,
    "start_time": "2023-04-19T18:03:09.173Z"
   },
   {
    "duration": 4,
    "start_time": "2023-04-19T18:03:20.371Z"
   },
   {
    "duration": 8,
    "start_time": "2023-04-19T18:03:22.446Z"
   },
   {
    "duration": 4,
    "start_time": "2023-04-19T18:03:25.542Z"
   },
   {
    "duration": 71570,
    "start_time": "2023-04-19T18:03:35.870Z"
   },
   {
    "duration": 43467,
    "start_time": "2023-04-19T18:06:32.181Z"
   },
   {
    "duration": 151525,
    "start_time": "2023-04-19T18:07:20.010Z"
   },
   {
    "duration": 4,
    "start_time": "2023-04-19T18:10:04.982Z"
   },
   {
    "duration": 42,
    "start_time": "2023-04-19T18:10:08.491Z"
   },
   {
    "duration": 6,
    "start_time": "2023-04-19T18:10:12.708Z"
   },
   {
    "duration": 6,
    "start_time": "2023-04-19T18:10:15.854Z"
   },
   {
    "duration": 7,
    "start_time": "2023-04-19T18:10:17.972Z"
   },
   {
    "duration": 10,
    "start_time": "2023-04-19T18:10:20.794Z"
   },
   {
    "duration": 22,
    "start_time": "2023-04-19T18:10:23.012Z"
   },
   {
    "duration": 530,
    "start_time": "2023-04-19T18:10:28.765Z"
   },
   {
    "duration": 804,
    "start_time": "2023-04-19T18:10:31.655Z"
   },
   {
    "duration": 4,
    "start_time": "2023-04-19T18:10:36.560Z"
   },
   {
    "duration": 7,
    "start_time": "2023-04-19T18:10:42.154Z"
   },
   {
    "duration": 7,
    "start_time": "2023-04-19T18:10:44.682Z"
   },
   {
    "duration": 4,
    "start_time": "2023-04-19T18:10:48.996Z"
   },
   {
    "duration": 1602,
    "start_time": "2023-04-20T18:29:42.645Z"
   },
   {
    "duration": 928,
    "start_time": "2023-04-20T18:29:47.498Z"
   },
   {
    "duration": 23,
    "start_time": "2023-04-20T18:29:49.962Z"
   },
   {
    "duration": 16,
    "start_time": "2023-04-20T18:29:52.747Z"
   },
   {
    "duration": 189,
    "start_time": "2023-04-20T18:29:56.748Z"
   },
   {
    "duration": 8,
    "start_time": "2023-04-20T18:29:59.651Z"
   },
   {
    "duration": 400,
    "start_time": "2023-04-20T18:30:02.161Z"
   },
   {
    "duration": 20,
    "start_time": "2023-04-20T18:30:04.865Z"
   },
   {
    "duration": 12,
    "start_time": "2023-04-20T18:30:07.864Z"
   },
   {
    "duration": 97,
    "start_time": "2023-04-20T18:30:11.109Z"
   },
   {
    "duration": 7,
    "start_time": "2023-04-20T18:30:14.128Z"
   },
   {
    "duration": 1790,
    "start_time": "2023-04-20T18:30:17.613Z"
   },
   {
    "duration": 19,
    "start_time": "2023-04-20T18:30:23.756Z"
   },
   {
    "duration": 18,
    "start_time": "2023-04-20T18:30:33.740Z"
   },
   {
    "duration": 196,
    "start_time": "2023-04-20T18:31:11.783Z"
   },
   {
    "duration": 12,
    "start_time": "2023-04-20T18:31:17.108Z"
   },
   {
    "duration": 6,
    "start_time": "2023-04-20T18:31:24.477Z"
   },
   {
    "duration": 5,
    "start_time": "2023-04-20T18:31:28.327Z"
   },
   {
    "duration": 4,
    "start_time": "2023-04-20T18:31:32.330Z"
   },
   {
    "duration": 4,
    "start_time": "2023-04-20T18:31:46.354Z"
   },
   {
    "duration": 4,
    "start_time": "2023-04-20T18:40:51.505Z"
   },
   {
    "duration": 1478,
    "start_time": "2023-04-20T18:42:13.564Z"
   },
   {
    "duration": 264,
    "start_time": "2023-04-20T18:44:00.978Z"
   },
   {
    "duration": 22,
    "start_time": "2023-04-20T18:44:03.765Z"
   },
   {
    "duration": 16,
    "start_time": "2023-04-20T18:44:06.925Z"
   },
   {
    "duration": 208,
    "start_time": "2023-04-20T18:44:11.000Z"
   },
   {
    "duration": 9,
    "start_time": "2023-04-20T18:44:13.661Z"
   },
   {
    "duration": 92,
    "start_time": "2023-04-20T18:44:16.854Z"
   },
   {
    "duration": 20,
    "start_time": "2023-04-20T18:44:19.283Z"
   },
   {
    "duration": 11,
    "start_time": "2023-04-20T18:44:22.299Z"
   },
   {
    "duration": 103,
    "start_time": "2023-04-20T18:44:25.558Z"
   },
   {
    "duration": 6,
    "start_time": "2023-04-20T18:44:28.403Z"
   },
   {
    "duration": 351,
    "start_time": "2023-04-20T18:44:31.262Z"
   },
   {
    "duration": 19,
    "start_time": "2023-04-20T18:44:34.313Z"
   },
   {
    "duration": 16,
    "start_time": "2023-04-20T18:44:37.724Z"
   },
   {
    "duration": 218,
    "start_time": "2023-04-20T18:44:41.984Z"
   },
   {
    "duration": 9,
    "start_time": "2023-04-20T18:44:44.915Z"
   },
   {
    "duration": 5,
    "start_time": "2023-04-20T18:44:49.633Z"
   },
   {
    "duration": 22,
    "start_time": "2023-04-20T18:44:51.884Z"
   },
   {
    "duration": 4,
    "start_time": "2023-04-20T18:44:54.002Z"
   },
   {
    "duration": 3,
    "start_time": "2023-04-20T18:44:56.864Z"
   },
   {
    "duration": 6,
    "start_time": "2023-04-20T18:45:02.105Z"
   },
   {
    "duration": 8,
    "start_time": "2023-04-20T18:45:05.731Z"
   },
   {
    "duration": 115,
    "start_time": "2023-04-20T18:45:08.550Z"
   },
   {
    "duration": 4,
    "start_time": "2023-04-20T18:45:12.517Z"
   },
   {
    "duration": 7,
    "start_time": "2023-04-20T18:45:15.120Z"
   },
   {
    "duration": 25,
    "start_time": "2023-04-20T18:45:18.604Z"
   },
   {
    "duration": 3,
    "start_time": "2023-04-20T18:45:24.262Z"
   },
   {
    "duration": 23,
    "start_time": "2023-04-20T18:45:29.097Z"
   },
   {
    "duration": 7,
    "start_time": "2023-04-20T18:48:36.420Z"
   },
   {
    "duration": 560,
    "start_time": "2023-04-20T18:48:39.596Z"
   },
   {
    "duration": 6,
    "start_time": "2023-04-20T18:49:21.433Z"
   },
   {
    "duration": 594,
    "start_time": "2023-04-20T18:49:25.201Z"
   },
   {
    "duration": 7,
    "start_time": "2023-04-20T18:49:35.770Z"
   },
   {
    "duration": 6,
    "start_time": "2023-04-20T18:49:51.667Z"
   },
   {
    "duration": 495,
    "start_time": "2023-04-20T18:49:55.026Z"
   },
   {
    "duration": 9,
    "start_time": "2023-04-20T18:50:25.700Z"
   },
   {
    "duration": 491,
    "start_time": "2023-04-20T18:50:28.109Z"
   },
   {
    "duration": 7,
    "start_time": "2023-04-20T18:50:47.851Z"
   },
   {
    "duration": 6,
    "start_time": "2023-04-20T18:50:58.563Z"
   },
   {
    "duration": 559,
    "start_time": "2023-04-20T18:51:01.268Z"
   },
   {
    "duration": 9,
    "start_time": "2023-04-20T18:52:46.853Z"
   },
   {
    "duration": 488,
    "start_time": "2023-04-20T18:52:48.932Z"
   },
   {
    "duration": 6,
    "start_time": "2023-04-20T18:52:58.291Z"
   },
   {
    "duration": 695,
    "start_time": "2023-04-20T18:53:04.084Z"
   },
   {
    "duration": 7,
    "start_time": "2023-04-20T18:53:14.683Z"
   },
   {
    "duration": 604,
    "start_time": "2023-04-20T18:53:22.016Z"
   },
   {
    "duration": 103,
    "start_time": "2023-04-20T18:53:36.420Z"
   },
   {
    "duration": 429,
    "start_time": "2023-04-20T18:53:39.228Z"
   },
   {
    "duration": 6,
    "start_time": "2023-04-20T18:54:28.985Z"
   },
   {
    "duration": 428,
    "start_time": "2023-04-20T18:54:31.131Z"
   },
   {
    "duration": 7,
    "start_time": "2023-04-20T18:55:40.004Z"
   },
   {
    "duration": 462,
    "start_time": "2023-04-20T18:55:42.808Z"
   },
   {
    "duration": 559,
    "start_time": "2023-04-20T18:57:39.072Z"
   },
   {
    "duration": 7,
    "start_time": "2023-04-20T18:57:48.409Z"
   },
   {
    "duration": 445,
    "start_time": "2023-04-20T18:57:52.242Z"
   },
   {
    "duration": 7,
    "start_time": "2023-04-20T18:58:07.807Z"
   },
   {
    "duration": 433,
    "start_time": "2023-04-20T18:58:10.469Z"
   },
   {
    "duration": 8,
    "start_time": "2023-04-20T18:59:38.019Z"
   },
   {
    "duration": 366,
    "start_time": "2023-04-20T18:59:43.269Z"
   },
   {
    "duration": 6,
    "start_time": "2023-04-20T19:01:16.764Z"
   },
   {
    "duration": 512,
    "start_time": "2023-04-20T19:01:19.762Z"
   },
   {
    "duration": 7,
    "start_time": "2023-04-20T19:01:31.046Z"
   },
   {
    "duration": 437,
    "start_time": "2023-04-20T19:01:32.930Z"
   },
   {
    "duration": 74,
    "start_time": "2023-04-20T19:06:20.121Z"
   },
   {
    "duration": 67,
    "start_time": "2023-04-20T19:06:51.188Z"
   },
   {
    "duration": 91,
    "start_time": "2023-04-20T19:07:03.694Z"
   },
   {
    "duration": 8,
    "start_time": "2023-04-20T19:07:16.558Z"
   },
   {
    "duration": 491,
    "start_time": "2023-04-20T19:07:20.797Z"
   },
   {
    "duration": 6,
    "start_time": "2023-04-20T19:07:53.971Z"
   },
   {
    "duration": 435,
    "start_time": "2023-04-20T19:07:56.929Z"
   },
   {
    "duration": 7,
    "start_time": "2023-04-20T19:08:03.669Z"
   },
   {
    "duration": 7,
    "start_time": "2023-04-20T19:08:27.825Z"
   },
   {
    "duration": 531,
    "start_time": "2023-04-20T19:08:33.629Z"
   },
   {
    "duration": 7,
    "start_time": "2023-04-20T19:08:41.739Z"
   },
   {
    "duration": 479,
    "start_time": "2023-04-20T19:08:46.904Z"
   },
   {
    "duration": 8,
    "start_time": "2023-04-20T19:11:59.482Z"
   },
   {
    "duration": 457,
    "start_time": "2023-04-20T19:12:03.215Z"
   },
   {
    "duration": 7,
    "start_time": "2023-04-20T19:12:31.630Z"
   },
   {
    "duration": 443,
    "start_time": "2023-04-20T19:12:34.442Z"
   },
   {
    "duration": 95,
    "start_time": "2023-04-20T19:12:41.768Z"
   },
   {
    "duration": 521,
    "start_time": "2023-04-20T19:12:45.433Z"
   },
   {
    "duration": 7,
    "start_time": "2023-04-20T19:13:00.571Z"
   },
   {
    "duration": 462,
    "start_time": "2023-04-20T19:13:02.614Z"
   },
   {
    "duration": 503,
    "start_time": "2023-04-20T19:13:52.088Z"
   },
   {
    "duration": 558,
    "start_time": "2023-04-20T19:13:55.251Z"
   },
   {
    "duration": 16,
    "start_time": "2023-04-20T19:14:05.049Z"
   },
   {
    "duration": 11,
    "start_time": "2023-04-20T19:14:08.040Z"
   },
   {
    "duration": 11,
    "start_time": "2023-04-20T19:14:10.750Z"
   },
   {
    "duration": 417,
    "start_time": "2023-04-20T19:14:13.350Z"
   },
   {
    "duration": 569,
    "start_time": "2023-04-20T19:14:15.852Z"
   },
   {
    "duration": 461,
    "start_time": "2023-04-20T19:15:10.774Z"
   },
   {
    "duration": 461,
    "start_time": "2023-04-20T19:15:19.803Z"
   },
   {
    "duration": 18,
    "start_time": "2023-04-20T19:15:23.923Z"
   },
   {
    "duration": 6,
    "start_time": "2023-04-20T19:15:31.353Z"
   },
   {
    "duration": 14,
    "start_time": "2023-04-20T19:15:32.751Z"
   },
   {
    "duration": 187,
    "start_time": "2023-04-20T19:15:35.543Z"
   },
   {
    "duration": 44,
    "start_time": "2023-04-20T19:15:41.343Z"
   },
   {
    "duration": 7,
    "start_time": "2023-04-20T19:15:45.392Z"
   },
   {
    "duration": 20,
    "start_time": "2023-04-20T19:15:47.730Z"
   },
   {
    "duration": 2,
    "start_time": "2023-04-20T19:15:50.319Z"
   },
   {
    "duration": 10,
    "start_time": "2023-04-20T19:15:52.694Z"
   },
   {
    "duration": 3,
    "start_time": "2023-04-20T19:15:55.941Z"
   },
   {
    "duration": 2,
    "start_time": "2023-04-20T19:15:57.526Z"
   },
   {
    "duration": 3,
    "start_time": "2023-04-20T19:16:00.993Z"
   },
   {
    "duration": 1407,
    "start_time": "2023-04-20T19:16:19.276Z"
   },
   {
    "duration": 277,
    "start_time": "2023-04-20T19:16:20.685Z"
   },
   {
    "duration": 27,
    "start_time": "2023-04-20T19:16:20.964Z"
   },
   {
    "duration": 17,
    "start_time": "2023-04-20T19:16:20.993Z"
   },
   {
    "duration": 230,
    "start_time": "2023-04-20T19:16:21.012Z"
   },
   {
    "duration": 9,
    "start_time": "2023-04-20T19:16:21.244Z"
   },
   {
    "duration": 79,
    "start_time": "2023-04-20T19:16:21.255Z"
   },
   {
    "duration": 21,
    "start_time": "2023-04-20T19:16:21.335Z"
   },
   {
    "duration": 28,
    "start_time": "2023-04-20T19:16:21.371Z"
   },
   {
    "duration": 110,
    "start_time": "2023-04-20T19:16:21.402Z"
   },
   {
    "duration": 5,
    "start_time": "2023-04-20T19:16:21.514Z"
   },
   {
    "duration": 327,
    "start_time": "2023-04-20T19:16:21.521Z"
   },
   {
    "duration": 25,
    "start_time": "2023-04-20T19:16:21.850Z"
   },
   {
    "duration": 25,
    "start_time": "2023-04-20T19:16:21.877Z"
   },
   {
    "duration": 223,
    "start_time": "2023-04-20T19:16:21.903Z"
   },
   {
    "duration": 10,
    "start_time": "2023-04-20T19:16:22.128Z"
   },
   {
    "duration": 5,
    "start_time": "2023-04-20T19:16:22.139Z"
   },
   {
    "duration": 26,
    "start_time": "2023-04-20T19:16:22.146Z"
   },
   {
    "duration": 5,
    "start_time": "2023-04-20T19:16:22.173Z"
   },
   {
    "duration": 20,
    "start_time": "2023-04-20T19:16:22.180Z"
   },
   {
    "duration": 45,
    "start_time": "2023-04-20T19:16:22.202Z"
   },
   {
    "duration": 11,
    "start_time": "2023-04-20T19:16:22.248Z"
   },
   {
    "duration": 130,
    "start_time": "2023-04-20T19:16:22.260Z"
   },
   {
    "duration": 5,
    "start_time": "2023-04-20T19:16:22.391Z"
   },
   {
    "duration": 32,
    "start_time": "2023-04-20T19:16:22.398Z"
   },
   {
    "duration": 54,
    "start_time": "2023-04-20T19:16:22.432Z"
   },
   {
    "duration": 7,
    "start_time": "2023-04-20T19:16:22.488Z"
   },
   {
    "duration": 46,
    "start_time": "2023-04-20T19:16:22.499Z"
   },
   {
    "duration": 7,
    "start_time": "2023-04-20T19:16:22.547Z"
   },
   {
    "duration": 601,
    "start_time": "2023-04-20T19:16:22.556Z"
   },
   {
    "duration": 519,
    "start_time": "2023-04-20T19:16:23.158Z"
   },
   {
    "duration": 519,
    "start_time": "2023-04-20T19:16:23.678Z"
   },
   {
    "duration": 17,
    "start_time": "2023-04-20T19:16:24.199Z"
   },
   {
    "duration": 11,
    "start_time": "2023-04-20T19:16:24.217Z"
   },
   {
    "duration": 11,
    "start_time": "2023-04-20T19:16:24.229Z"
   },
   {
    "duration": 509,
    "start_time": "2023-04-20T19:16:24.241Z"
   },
   {
    "duration": 501,
    "start_time": "2023-04-20T19:16:24.751Z"
   },
   {
    "duration": 24,
    "start_time": "2023-04-20T19:16:25.254Z"
   },
   {
    "duration": 7,
    "start_time": "2023-04-20T19:16:25.279Z"
   },
   {
    "duration": 20,
    "start_time": "2023-04-20T19:16:25.287Z"
   },
   {
    "duration": 186,
    "start_time": "2023-04-20T19:16:25.309Z"
   },
   {
    "duration": 40,
    "start_time": "2023-04-20T19:16:25.497Z"
   },
   {
    "duration": 7,
    "start_time": "2023-04-20T19:16:25.538Z"
   },
   {
    "duration": 44,
    "start_time": "2023-04-20T19:16:25.546Z"
   },
   {
    "duration": 10,
    "start_time": "2023-04-20T19:16:25.591Z"
   },
   {
    "duration": 13,
    "start_time": "2023-04-20T19:16:25.603Z"
   },
   {
    "duration": 2,
    "start_time": "2023-04-20T19:16:25.618Z"
   },
   {
    "duration": 5,
    "start_time": "2023-04-20T19:16:25.621Z"
   },
   {
    "duration": 5,
    "start_time": "2023-04-20T19:16:25.628Z"
   },
   {
    "duration": 3,
    "start_time": "2023-04-20T19:17:36.888Z"
   },
   {
    "duration": 235,
    "start_time": "2023-04-20T19:21:45.213Z"
   },
   {
    "duration": 8,
    "start_time": "2023-04-20T19:21:51.113Z"
   },
   {
    "duration": 9,
    "start_time": "2023-04-20T19:21:57.739Z"
   },
   {
    "duration": 18,
    "start_time": "2023-04-20T19:23:45.163Z"
   },
   {
    "duration": 10,
    "start_time": "2023-04-20T19:28:43.432Z"
   },
   {
    "duration": 9,
    "start_time": "2023-04-20T19:29:10.946Z"
   },
   {
    "duration": 3,
    "start_time": "2023-04-20T19:31:48.401Z"
   },
   {
    "duration": 8,
    "start_time": "2023-04-20T19:33:15.489Z"
   },
   {
    "duration": 8,
    "start_time": "2023-04-20T19:33:27.097Z"
   },
   {
    "duration": 14,
    "start_time": "2023-04-20T19:33:34.526Z"
   },
   {
    "duration": 13,
    "start_time": "2023-04-20T19:33:51.669Z"
   },
   {
    "duration": 15,
    "start_time": "2023-04-20T19:41:01.462Z"
   },
   {
    "duration": 15,
    "start_time": "2023-04-20T19:41:08.337Z"
   },
   {
    "duration": 16,
    "start_time": "2023-04-20T19:41:29.612Z"
   },
   {
    "duration": 15,
    "start_time": "2023-04-20T19:42:52.842Z"
   },
   {
    "duration": 13,
    "start_time": "2023-04-20T19:42:58.929Z"
   },
   {
    "duration": 8,
    "start_time": "2023-04-20T19:44:06.984Z"
   },
   {
    "duration": 5,
    "start_time": "2023-04-20T19:44:22.278Z"
   },
   {
    "duration": 17,
    "start_time": "2023-04-20T19:44:23.551Z"
   },
   {
    "duration": 332,
    "start_time": "2023-04-20T19:44:25.741Z"
   },
   {
    "duration": 71,
    "start_time": "2023-04-20T19:44:31.402Z"
   },
   {
    "duration": 4,
    "start_time": "2023-04-20T19:45:38.919Z"
   },
   {
    "duration": 3,
    "start_time": "2023-04-20T19:46:50.688Z"
   },
   {
    "duration": 1242,
    "start_time": "2023-04-20T19:47:24.941Z"
   },
   {
    "duration": 286,
    "start_time": "2023-04-20T19:47:26.184Z"
   },
   {
    "duration": 23,
    "start_time": "2023-04-20T19:47:26.471Z"
   },
   {
    "duration": 14,
    "start_time": "2023-04-20T19:47:26.496Z"
   },
   {
    "duration": 190,
    "start_time": "2023-04-20T19:47:26.511Z"
   },
   {
    "duration": 7,
    "start_time": "2023-04-20T19:47:26.702Z"
   },
   {
    "duration": 108,
    "start_time": "2023-04-20T19:47:26.710Z"
   },
   {
    "duration": 19,
    "start_time": "2023-04-20T19:47:26.819Z"
   },
   {
    "duration": 16,
    "start_time": "2023-04-20T19:47:26.840Z"
   },
   {
    "duration": 112,
    "start_time": "2023-04-20T19:47:26.858Z"
   },
   {
    "duration": 5,
    "start_time": "2023-04-20T19:47:26.972Z"
   },
   {
    "duration": 316,
    "start_time": "2023-04-20T19:47:26.978Z"
   },
   {
    "duration": 17,
    "start_time": "2023-04-20T19:47:27.296Z"
   },
   {
    "duration": 31,
    "start_time": "2023-04-20T19:47:27.315Z"
   },
   {
    "duration": 196,
    "start_time": "2023-04-20T19:47:27.348Z"
   },
   {
    "duration": 8,
    "start_time": "2023-04-20T19:47:27.545Z"
   },
   {
    "duration": 17,
    "start_time": "2023-04-20T19:47:27.555Z"
   },
   {
    "duration": 14,
    "start_time": "2023-04-20T19:47:27.574Z"
   },
   {
    "duration": 32,
    "start_time": "2023-04-20T19:47:27.589Z"
   },
   {
    "duration": 10,
    "start_time": "2023-04-20T19:47:27.622Z"
   },
   {
    "duration": 10,
    "start_time": "2023-04-20T19:47:27.634Z"
   },
   {
    "duration": 9,
    "start_time": "2023-04-20T19:47:27.645Z"
   },
   {
    "duration": 114,
    "start_time": "2023-04-20T19:47:27.656Z"
   },
   {
    "duration": 4,
    "start_time": "2023-04-20T19:47:27.772Z"
   },
   {
    "duration": 11,
    "start_time": "2023-04-20T19:47:27.777Z"
   },
   {
    "duration": 24,
    "start_time": "2023-04-20T19:47:27.790Z"
   },
   {
    "duration": 3,
    "start_time": "2023-04-20T19:47:27.816Z"
   },
   {
    "duration": 21,
    "start_time": "2023-04-20T19:47:27.823Z"
   },
   {
    "duration": 26,
    "start_time": "2023-04-20T19:47:27.846Z"
   },
   {
    "duration": 520,
    "start_time": "2023-04-20T19:47:27.874Z"
   },
   {
    "duration": 489,
    "start_time": "2023-04-20T19:47:28.395Z"
   },
   {
    "duration": 490,
    "start_time": "2023-04-20T19:47:28.886Z"
   },
   {
    "duration": 17,
    "start_time": "2023-04-20T19:47:29.378Z"
   },
   {
    "duration": 11,
    "start_time": "2023-04-20T19:47:29.397Z"
   },
   {
    "duration": 10,
    "start_time": "2023-04-20T19:47:29.409Z"
   },
   {
    "duration": 525,
    "start_time": "2023-04-20T19:47:29.421Z"
   },
   {
    "duration": 413,
    "start_time": "2023-04-20T19:47:29.947Z"
   },
   {
    "duration": 19,
    "start_time": "2023-04-20T19:47:30.362Z"
   },
   {
    "duration": 29,
    "start_time": "2023-04-20T19:47:30.383Z"
   },
   {
    "duration": 66,
    "start_time": "2023-04-20T19:47:30.413Z"
   },
   {
    "duration": 198,
    "start_time": "2023-04-20T19:47:30.480Z"
   },
   {
    "duration": 46,
    "start_time": "2023-04-20T19:47:30.680Z"
   },
   {
    "duration": 6,
    "start_time": "2023-04-20T19:47:30.728Z"
   },
   {
    "duration": 46,
    "start_time": "2023-04-20T19:47:30.736Z"
   },
   {
    "duration": 44,
    "start_time": "2023-04-20T19:47:30.784Z"
   },
   {
    "duration": 66,
    "start_time": "2023-04-20T19:47:30.829Z"
   },
   {
    "duration": 34,
    "start_time": "2023-04-20T19:47:30.896Z"
   },
   {
    "duration": 41,
    "start_time": "2023-04-20T19:47:30.931Z"
   },
   {
    "duration": 40,
    "start_time": "2023-04-20T19:47:30.974Z"
   },
   {
    "duration": 44,
    "start_time": "2023-04-20T19:47:31.016Z"
   },
   {
    "duration": 211,
    "start_time": "2023-04-20T19:47:31.062Z"
   },
   {
    "duration": 17,
    "start_time": "2023-04-20T19:47:31.274Z"
   },
   {
    "duration": 125,
    "start_time": "2023-04-20T19:47:31.292Z"
   },
   {
    "duration": 254,
    "start_time": "2023-04-20T19:47:31.419Z"
   },
   {
    "duration": 9,
    "start_time": "2023-04-20T19:47:31.675Z"
   },
   {
    "duration": 4282,
    "start_time": "2023-04-20T19:47:31.685Z"
   },
   {
    "duration": 5,
    "start_time": "2023-04-20T19:47:35.969Z"
   },
   {
    "duration": 72,
    "start_time": "2023-04-20T19:47:35.976Z"
   },
   {
    "duration": 7,
    "start_time": "2023-04-20T19:47:36.050Z"
   },
   {
    "duration": 1346,
    "start_time": "2023-04-20T19:48:49.582Z"
   },
   {
    "duration": 252,
    "start_time": "2023-04-20T19:48:50.930Z"
   },
   {
    "duration": 24,
    "start_time": "2023-04-20T19:48:51.184Z"
   },
   {
    "duration": 54,
    "start_time": "2023-04-20T19:48:51.209Z"
   },
   {
    "duration": 185,
    "start_time": "2023-04-20T19:48:51.265Z"
   },
   {
    "duration": 6,
    "start_time": "2023-04-20T19:48:51.452Z"
   },
   {
    "duration": 84,
    "start_time": "2023-04-20T19:48:51.460Z"
   },
   {
    "duration": 20,
    "start_time": "2023-04-20T19:48:51.545Z"
   },
   {
    "duration": 21,
    "start_time": "2023-04-20T19:48:51.567Z"
   },
   {
    "duration": 97,
    "start_time": "2023-04-20T19:48:51.590Z"
   },
   {
    "duration": 6,
    "start_time": "2023-04-20T19:48:51.688Z"
   },
   {
    "duration": 313,
    "start_time": "2023-04-20T19:48:51.695Z"
   },
   {
    "duration": 18,
    "start_time": "2023-04-20T19:48:52.010Z"
   },
   {
    "duration": 28,
    "start_time": "2023-04-20T19:48:52.030Z"
   },
   {
    "duration": 209,
    "start_time": "2023-04-20T19:48:52.060Z"
   },
   {
    "duration": 9,
    "start_time": "2023-04-20T19:48:52.272Z"
   },
   {
    "duration": 19,
    "start_time": "2023-04-20T19:48:52.283Z"
   },
   {
    "duration": 5,
    "start_time": "2023-04-20T19:48:52.304Z"
   },
   {
    "duration": 4,
    "start_time": "2023-04-20T19:48:52.311Z"
   },
   {
    "duration": 4,
    "start_time": "2023-04-20T19:48:52.316Z"
   },
   {
    "duration": 7,
    "start_time": "2023-04-20T19:48:52.321Z"
   },
   {
    "duration": 7,
    "start_time": "2023-04-20T19:48:52.329Z"
   },
   {
    "duration": 135,
    "start_time": "2023-04-20T19:48:52.337Z"
   },
   {
    "duration": 4,
    "start_time": "2023-04-20T19:48:52.473Z"
   },
   {
    "duration": 24,
    "start_time": "2023-04-20T19:48:52.478Z"
   },
   {
    "duration": 28,
    "start_time": "2023-04-20T19:48:52.503Z"
   },
   {
    "duration": 3,
    "start_time": "2023-04-20T19:48:52.533Z"
   },
   {
    "duration": 38,
    "start_time": "2023-04-20T19:48:52.537Z"
   },
   {
    "duration": 8,
    "start_time": "2023-04-20T19:48:52.577Z"
   },
   {
    "duration": 527,
    "start_time": "2023-04-20T19:48:52.586Z"
   },
   {
    "duration": 465,
    "start_time": "2023-04-20T19:48:53.115Z"
   },
   {
    "duration": 466,
    "start_time": "2023-04-20T19:48:53.583Z"
   },
   {
    "duration": 23,
    "start_time": "2023-04-20T19:48:54.050Z"
   },
   {
    "duration": 9,
    "start_time": "2023-04-20T19:48:54.074Z"
   },
   {
    "duration": 9,
    "start_time": "2023-04-20T19:48:54.085Z"
   },
   {
    "duration": 451,
    "start_time": "2023-04-20T19:48:54.095Z"
   },
   {
    "duration": 406,
    "start_time": "2023-04-20T19:48:54.548Z"
   },
   {
    "duration": 19,
    "start_time": "2023-04-20T19:48:54.955Z"
   },
   {
    "duration": 5,
    "start_time": "2023-04-20T19:48:54.976Z"
   },
   {
    "duration": 15,
    "start_time": "2023-04-20T19:48:54.982Z"
   },
   {
    "duration": 205,
    "start_time": "2023-04-20T19:48:55.001Z"
   },
   {
    "duration": 42,
    "start_time": "2023-04-20T19:48:55.207Z"
   },
   {
    "duration": 8,
    "start_time": "2023-04-20T19:48:55.250Z"
   },
   {
    "duration": 21,
    "start_time": "2023-04-20T19:48:55.272Z"
   },
   {
    "duration": 6,
    "start_time": "2023-04-20T19:48:55.295Z"
   },
   {
    "duration": 14,
    "start_time": "2023-04-20T19:48:55.302Z"
   },
   {
    "duration": 3,
    "start_time": "2023-04-20T19:48:55.318Z"
   },
   {
    "duration": 4,
    "start_time": "2023-04-20T19:48:55.322Z"
   },
   {
    "duration": 4,
    "start_time": "2023-04-20T19:48:55.327Z"
   },
   {
    "duration": 5,
    "start_time": "2023-04-20T19:48:55.332Z"
   },
   {
    "duration": 235,
    "start_time": "2023-04-20T19:48:55.338Z"
   },
   {
    "duration": 5,
    "start_time": "2023-04-20T19:48:55.574Z"
   },
   {
    "duration": 106,
    "start_time": "2023-04-20T19:48:55.581Z"
   },
   {
    "duration": 191,
    "start_time": "2023-04-20T19:48:55.688Z"
   },
   {
    "duration": 93,
    "start_time": "2023-04-20T19:48:55.881Z"
   },
   {
    "duration": 1484,
    "start_time": "2023-04-20T19:48:55.975Z"
   },
   {
    "duration": 3,
    "start_time": "2023-04-20T19:48:57.460Z"
   },
   {
    "duration": 11,
    "start_time": "2023-04-20T19:48:57.464Z"
   },
   {
    "duration": 5,
    "start_time": "2023-04-20T19:48:57.476Z"
   },
   {
    "duration": 85553,
    "start_time": "2023-04-20T19:48:57.482Z"
   },
   {
    "duration": 120205,
    "start_time": "2023-04-20T19:50:23.037Z"
   },
   {
    "duration": 3,
    "start_time": "2023-04-20T19:52:23.243Z"
   },
   {
    "duration": 36,
    "start_time": "2023-04-20T19:52:23.248Z"
   },
   {
    "duration": 3,
    "start_time": "2023-04-20T19:52:23.286Z"
   },
   {
    "duration": 15,
    "start_time": "2023-04-20T19:52:23.290Z"
   },
   {
    "duration": 14,
    "start_time": "2023-04-20T19:52:23.306Z"
   },
   {
    "duration": 19,
    "start_time": "2023-04-20T19:52:23.322Z"
   },
   {
    "duration": 22,
    "start_time": "2023-04-20T19:52:23.343Z"
   },
   {
    "duration": 448,
    "start_time": "2023-04-20T19:52:23.367Z"
   },
   {
    "duration": 703,
    "start_time": "2023-04-20T19:52:23.817Z"
   },
   {
    "duration": 3,
    "start_time": "2023-04-20T19:52:24.522Z"
   },
   {
    "duration": 16,
    "start_time": "2023-04-20T19:52:24.527Z"
   },
   {
    "duration": 25,
    "start_time": "2023-04-20T19:52:24.544Z"
   },
   {
    "duration": 10,
    "start_time": "2023-04-20T19:52:24.571Z"
   },
   {
    "duration": 124,
    "start_time": "2023-04-20T19:53:16.724Z"
   },
   {
    "duration": 1319,
    "start_time": "2023-04-20T19:53:40.882Z"
   },
   {
    "duration": 246,
    "start_time": "2023-04-20T19:53:42.203Z"
   },
   {
    "duration": 24,
    "start_time": "2023-04-20T19:53:42.451Z"
   },
   {
    "duration": 15,
    "start_time": "2023-04-20T19:53:42.477Z"
   },
   {
    "duration": 197,
    "start_time": "2023-04-20T19:53:42.493Z"
   },
   {
    "duration": 8,
    "start_time": "2023-04-20T19:53:42.691Z"
   },
   {
    "duration": 74,
    "start_time": "2023-04-20T19:53:42.700Z"
   },
   {
    "duration": 19,
    "start_time": "2023-04-20T19:53:42.775Z"
   },
   {
    "duration": 15,
    "start_time": "2023-04-20T19:53:42.796Z"
   },
   {
    "duration": 114,
    "start_time": "2023-04-20T19:53:42.813Z"
   },
   {
    "duration": 5,
    "start_time": "2023-04-20T19:53:42.929Z"
   },
   {
    "duration": 306,
    "start_time": "2023-04-20T19:53:42.935Z"
   },
   {
    "duration": 18,
    "start_time": "2023-04-20T19:53:43.242Z"
   },
   {
    "duration": 36,
    "start_time": "2023-04-20T19:53:43.261Z"
   },
   {
    "duration": 206,
    "start_time": "2023-04-20T19:53:43.299Z"
   },
   {
    "duration": 9,
    "start_time": "2023-04-20T19:53:43.506Z"
   },
   {
    "duration": 4,
    "start_time": "2023-04-20T19:53:43.516Z"
   },
   {
    "duration": 11,
    "start_time": "2023-04-20T19:53:43.522Z"
   },
   {
    "duration": 3,
    "start_time": "2023-04-20T19:53:43.534Z"
   },
   {
    "duration": 8,
    "start_time": "2023-04-20T19:53:43.539Z"
   },
   {
    "duration": 7,
    "start_time": "2023-04-20T19:53:43.548Z"
   },
   {
    "duration": 21,
    "start_time": "2023-04-20T19:53:43.557Z"
   },
   {
    "duration": 123,
    "start_time": "2023-04-20T19:53:43.579Z"
   },
   {
    "duration": 4,
    "start_time": "2023-04-20T19:53:43.704Z"
   },
   {
    "duration": 26,
    "start_time": "2023-04-20T19:53:43.710Z"
   },
   {
    "duration": 25,
    "start_time": "2023-04-20T19:53:43.737Z"
   },
   {
    "duration": 7,
    "start_time": "2023-04-20T19:53:43.763Z"
   },
   {
    "duration": 21,
    "start_time": "2023-04-20T19:53:43.773Z"
   },
   {
    "duration": 6,
    "start_time": "2023-04-20T19:53:43.795Z"
   },
   {
    "duration": 564,
    "start_time": "2023-04-20T19:53:43.802Z"
   },
   {
    "duration": 540,
    "start_time": "2023-04-20T19:53:44.368Z"
   },
   {
    "duration": 534,
    "start_time": "2023-04-20T19:53:44.909Z"
   },
   {
    "duration": 19,
    "start_time": "2023-04-20T19:53:45.444Z"
   },
   {
    "duration": 19,
    "start_time": "2023-04-20T19:53:45.464Z"
   },
   {
    "duration": 12,
    "start_time": "2023-04-20T19:53:45.484Z"
   },
   {
    "duration": 469,
    "start_time": "2023-04-20T19:53:45.497Z"
   },
   {
    "duration": 524,
    "start_time": "2023-04-20T19:53:45.968Z"
   },
   {
    "duration": 19,
    "start_time": "2023-04-20T19:53:46.493Z"
   },
   {
    "duration": 6,
    "start_time": "2023-04-20T19:53:46.514Z"
   },
   {
    "duration": 18,
    "start_time": "2023-04-20T19:53:46.522Z"
   },
   {
    "duration": 215,
    "start_time": "2023-04-20T19:53:46.542Z"
   },
   {
    "duration": 57,
    "start_time": "2023-04-20T19:53:46.759Z"
   },
   {
    "duration": 7,
    "start_time": "2023-04-20T19:53:46.818Z"
   },
   {
    "duration": 21,
    "start_time": "2023-04-20T19:53:46.826Z"
   },
   {
    "duration": 25,
    "start_time": "2023-04-20T19:53:46.848Z"
   },
   {
    "duration": 13,
    "start_time": "2023-04-20T19:53:46.875Z"
   },
   {
    "duration": 3,
    "start_time": "2023-04-20T19:53:46.889Z"
   },
   {
    "duration": 5,
    "start_time": "2023-04-20T19:53:46.894Z"
   },
   {
    "duration": 5,
    "start_time": "2023-04-20T19:53:46.900Z"
   },
   {
    "duration": 4,
    "start_time": "2023-04-20T19:53:46.906Z"
   },
   {
    "duration": 312,
    "start_time": "2023-04-20T19:53:52.061Z"
   },
   {
    "duration": 89,
    "start_time": "2023-04-20T19:54:59.785Z"
   },
   {
    "duration": 79,
    "start_time": "2023-04-20T19:56:38.196Z"
   },
   {
    "duration": 1366,
    "start_time": "2023-04-20T20:02:33.615Z"
   },
   {
    "duration": 275,
    "start_time": "2023-04-20T20:02:34.983Z"
   },
   {
    "duration": 27,
    "start_time": "2023-04-20T20:02:35.260Z"
   },
   {
    "duration": 31,
    "start_time": "2023-04-20T20:02:35.289Z"
   },
   {
    "duration": 201,
    "start_time": "2023-04-20T20:02:35.322Z"
   },
   {
    "duration": 8,
    "start_time": "2023-04-20T20:02:35.525Z"
   },
   {
    "duration": 102,
    "start_time": "2023-04-20T20:02:35.534Z"
   },
   {
    "duration": 21,
    "start_time": "2023-04-20T20:02:35.638Z"
   },
   {
    "duration": 16,
    "start_time": "2023-04-20T20:02:35.661Z"
   },
   {
    "duration": 125,
    "start_time": "2023-04-20T20:02:35.680Z"
   },
   {
    "duration": 5,
    "start_time": "2023-04-20T20:02:35.807Z"
   },
   {
    "duration": 352,
    "start_time": "2023-04-20T20:02:35.814Z"
   },
   {
    "duration": 29,
    "start_time": "2023-04-20T20:02:36.168Z"
   },
   {
    "duration": 55,
    "start_time": "2023-04-20T20:02:36.199Z"
   },
   {
    "duration": 244,
    "start_time": "2023-04-20T20:02:36.256Z"
   },
   {
    "duration": 10,
    "start_time": "2023-04-20T20:02:36.502Z"
   },
   {
    "duration": 17,
    "start_time": "2023-04-20T20:02:36.514Z"
   },
   {
    "duration": 10,
    "start_time": "2023-04-20T20:02:36.533Z"
   },
   {
    "duration": 12,
    "start_time": "2023-04-20T20:02:36.544Z"
   },
   {
    "duration": 30,
    "start_time": "2023-04-20T20:02:36.557Z"
   },
   {
    "duration": 9,
    "start_time": "2023-04-20T20:02:36.588Z"
   },
   {
    "duration": 24,
    "start_time": "2023-04-20T20:02:36.599Z"
   },
   {
    "duration": 122,
    "start_time": "2023-04-20T20:02:36.624Z"
   },
   {
    "duration": 4,
    "start_time": "2023-04-20T20:02:36.747Z"
   },
   {
    "duration": 10,
    "start_time": "2023-04-20T20:02:36.752Z"
   },
   {
    "duration": 24,
    "start_time": "2023-04-20T20:02:36.772Z"
   },
   {
    "duration": 4,
    "start_time": "2023-04-20T20:02:36.798Z"
   },
   {
    "duration": 22,
    "start_time": "2023-04-20T20:02:36.805Z"
   },
   {
    "duration": 8,
    "start_time": "2023-04-20T20:02:36.828Z"
   },
   {
    "duration": 599,
    "start_time": "2023-04-20T20:02:36.837Z"
   },
   {
    "duration": 523,
    "start_time": "2023-04-20T20:02:37.438Z"
   },
   {
    "duration": 535,
    "start_time": "2023-04-20T20:02:37.962Z"
   },
   {
    "duration": 22,
    "start_time": "2023-04-20T20:02:38.499Z"
   },
   {
    "duration": 21,
    "start_time": "2023-04-20T20:02:38.523Z"
   },
   {
    "duration": 27,
    "start_time": "2023-04-20T20:02:38.546Z"
   },
   {
    "duration": 471,
    "start_time": "2023-04-20T20:02:38.575Z"
   },
   {
    "duration": 504,
    "start_time": "2023-04-20T20:02:39.048Z"
   },
   {
    "duration": 22,
    "start_time": "2023-04-20T20:02:39.554Z"
   },
   {
    "duration": 17,
    "start_time": "2023-04-20T20:02:39.577Z"
   },
   {
    "duration": 13,
    "start_time": "2023-04-20T20:02:39.595Z"
   },
   {
    "duration": 193,
    "start_time": "2023-04-20T20:02:39.610Z"
   },
   {
    "duration": 42,
    "start_time": "2023-04-20T20:02:39.805Z"
   },
   {
    "duration": 7,
    "start_time": "2023-04-20T20:02:39.848Z"
   },
   {
    "duration": 33,
    "start_time": "2023-04-20T20:02:39.857Z"
   },
   {
    "duration": 5,
    "start_time": "2023-04-20T20:02:39.892Z"
   },
   {
    "duration": 14,
    "start_time": "2023-04-20T20:02:39.898Z"
   },
   {
    "duration": 4,
    "start_time": "2023-04-20T20:02:39.914Z"
   },
   {
    "duration": 10,
    "start_time": "2023-04-20T20:02:39.919Z"
   },
   {
    "duration": 4,
    "start_time": "2023-04-20T20:02:39.931Z"
   },
   {
    "duration": 103,
    "start_time": "2023-04-20T20:02:51.304Z"
   },
   {
    "duration": 81,
    "start_time": "2023-04-20T20:02:57.974Z"
   },
   {
    "duration": 1275,
    "start_time": "2023-04-20T20:03:17.603Z"
   },
   {
    "duration": 256,
    "start_time": "2023-04-20T20:03:18.880Z"
   },
   {
    "duration": 23,
    "start_time": "2023-04-20T20:03:19.137Z"
   },
   {
    "duration": 20,
    "start_time": "2023-04-20T20:03:19.161Z"
   },
   {
    "duration": 194,
    "start_time": "2023-04-20T20:03:19.182Z"
   },
   {
    "duration": 8,
    "start_time": "2023-04-20T20:03:19.377Z"
   },
   {
    "duration": 71,
    "start_time": "2023-04-20T20:03:19.386Z"
   },
   {
    "duration": 22,
    "start_time": "2023-04-20T20:03:19.458Z"
   },
   {
    "duration": 20,
    "start_time": "2023-04-20T20:03:19.481Z"
   },
   {
    "duration": 98,
    "start_time": "2023-04-20T20:03:19.504Z"
   },
   {
    "duration": 5,
    "start_time": "2023-04-20T20:03:19.603Z"
   },
   {
    "duration": 301,
    "start_time": "2023-04-20T20:03:19.610Z"
   },
   {
    "duration": 20,
    "start_time": "2023-04-20T20:03:19.912Z"
   },
   {
    "duration": 21,
    "start_time": "2023-04-20T20:03:19.933Z"
   },
   {
    "duration": 205,
    "start_time": "2023-04-20T20:03:19.955Z"
   },
   {
    "duration": 14,
    "start_time": "2023-04-20T20:03:20.162Z"
   },
   {
    "duration": 32,
    "start_time": "2023-04-20T20:03:20.177Z"
   },
   {
    "duration": 19,
    "start_time": "2023-04-20T20:03:20.210Z"
   },
   {
    "duration": 30,
    "start_time": "2023-04-20T20:03:20.231Z"
   },
   {
    "duration": 24,
    "start_time": "2023-04-20T20:03:20.262Z"
   },
   {
    "duration": 49,
    "start_time": "2023-04-20T20:03:20.287Z"
   },
   {
    "duration": 26,
    "start_time": "2023-04-20T20:03:20.338Z"
   },
   {
    "duration": 148,
    "start_time": "2023-04-20T20:03:20.366Z"
   },
   {
    "duration": 4,
    "start_time": "2023-04-20T20:03:20.515Z"
   },
   {
    "duration": 45,
    "start_time": "2023-04-20T20:03:20.520Z"
   },
   {
    "duration": 21,
    "start_time": "2023-04-20T20:03:20.567Z"
   },
   {
    "duration": 3,
    "start_time": "2023-04-20T20:03:20.589Z"
   },
   {
    "duration": 20,
    "start_time": "2023-04-20T20:03:20.595Z"
   },
   {
    "duration": 6,
    "start_time": "2023-04-20T20:03:20.616Z"
   },
   {
    "duration": 549,
    "start_time": "2023-04-20T20:03:20.623Z"
   },
   {
    "duration": 465,
    "start_time": "2023-04-20T20:03:21.173Z"
   },
   {
    "duration": 512,
    "start_time": "2023-04-20T20:03:21.639Z"
   },
   {
    "duration": 22,
    "start_time": "2023-04-20T20:03:22.152Z"
   },
   {
    "duration": 10,
    "start_time": "2023-04-20T20:03:22.175Z"
   },
   {
    "duration": 11,
    "start_time": "2023-04-20T20:03:22.186Z"
   },
   {
    "duration": 434,
    "start_time": "2023-04-20T20:03:22.198Z"
   },
   {
    "duration": 443,
    "start_time": "2023-04-20T20:03:22.634Z"
   },
   {
    "duration": 18,
    "start_time": "2023-04-20T20:03:23.079Z"
   },
   {
    "duration": 7,
    "start_time": "2023-04-20T20:03:23.099Z"
   },
   {
    "duration": 16,
    "start_time": "2023-04-20T20:03:23.108Z"
   },
   {
    "duration": 199,
    "start_time": "2023-04-20T20:03:23.126Z"
   },
   {
    "duration": 48,
    "start_time": "2023-04-20T20:03:23.326Z"
   },
   {
    "duration": 6,
    "start_time": "2023-04-20T20:03:23.375Z"
   },
   {
    "duration": 19,
    "start_time": "2023-04-20T20:03:23.382Z"
   },
   {
    "duration": 5,
    "start_time": "2023-04-20T20:03:23.403Z"
   },
   {
    "duration": 15,
    "start_time": "2023-04-20T20:03:23.409Z"
   },
   {
    "duration": 3,
    "start_time": "2023-04-20T20:03:23.425Z"
   },
   {
    "duration": 10,
    "start_time": "2023-04-20T20:03:23.430Z"
   },
   {
    "duration": 5,
    "start_time": "2023-04-20T20:03:23.441Z"
   },
   {
    "duration": 3,
    "start_time": "2023-04-20T20:03:29.053Z"
   },
   {
    "duration": 1152,
    "start_time": "2023-04-20T20:12:13.224Z"
   },
   {
    "duration": 1480,
    "start_time": "2023-04-20T20:12:25.100Z"
   },
   {
    "duration": 1315,
    "start_time": "2023-04-20T20:13:04.335Z"
   },
   {
    "duration": 263,
    "start_time": "2023-04-20T20:13:05.653Z"
   },
   {
    "duration": 37,
    "start_time": "2023-04-20T20:13:05.918Z"
   },
   {
    "duration": 20,
    "start_time": "2023-04-20T20:13:05.957Z"
   },
   {
    "duration": 243,
    "start_time": "2023-04-20T20:13:05.978Z"
   },
   {
    "duration": 8,
    "start_time": "2023-04-20T20:13:06.223Z"
   },
   {
    "duration": 76,
    "start_time": "2023-04-20T20:13:06.232Z"
   },
   {
    "duration": 18,
    "start_time": "2023-04-20T20:13:06.309Z"
   },
   {
    "duration": 15,
    "start_time": "2023-04-20T20:13:06.328Z"
   },
   {
    "duration": 111,
    "start_time": "2023-04-20T20:13:06.345Z"
   },
   {
    "duration": 17,
    "start_time": "2023-04-20T20:13:06.458Z"
   },
   {
    "duration": 300,
    "start_time": "2023-04-20T20:13:06.476Z"
   },
   {
    "duration": 17,
    "start_time": "2023-04-20T20:13:06.778Z"
   },
   {
    "duration": 23,
    "start_time": "2023-04-20T20:13:06.797Z"
   },
   {
    "duration": 204,
    "start_time": "2023-04-20T20:13:06.822Z"
   },
   {
    "duration": 9,
    "start_time": "2023-04-20T20:13:07.028Z"
   },
   {
    "duration": 5,
    "start_time": "2023-04-20T20:13:07.038Z"
   },
   {
    "duration": 18,
    "start_time": "2023-04-20T20:13:07.044Z"
   },
   {
    "duration": 14,
    "start_time": "2023-04-20T20:13:07.063Z"
   },
   {
    "duration": 7,
    "start_time": "2023-04-20T20:13:07.079Z"
   },
   {
    "duration": 8,
    "start_time": "2023-04-20T20:13:07.088Z"
   },
   {
    "duration": 10,
    "start_time": "2023-04-20T20:13:07.098Z"
   },
   {
    "duration": 136,
    "start_time": "2023-04-20T20:13:07.110Z"
   },
   {
    "duration": 4,
    "start_time": "2023-04-20T20:13:07.248Z"
   },
   {
    "duration": 18,
    "start_time": "2023-04-20T20:13:07.254Z"
   },
   {
    "duration": 22,
    "start_time": "2023-04-20T20:13:07.274Z"
   },
   {
    "duration": 3,
    "start_time": "2023-04-20T20:13:07.298Z"
   },
   {
    "duration": 31,
    "start_time": "2023-04-20T20:13:07.306Z"
   },
   {
    "duration": 7,
    "start_time": "2023-04-20T20:13:07.339Z"
   },
   {
    "duration": 528,
    "start_time": "2023-04-20T20:13:07.347Z"
   },
   {
    "duration": 471,
    "start_time": "2023-04-20T20:13:07.876Z"
   },
   {
    "duration": 478,
    "start_time": "2023-04-20T20:13:08.349Z"
   },
   {
    "duration": 15,
    "start_time": "2023-04-20T20:13:08.828Z"
   },
   {
    "duration": 29,
    "start_time": "2023-04-20T20:13:08.845Z"
   },
   {
    "duration": 13,
    "start_time": "2023-04-20T20:13:08.876Z"
   },
   {
    "duration": 463,
    "start_time": "2023-04-20T20:13:08.891Z"
   },
   {
    "duration": 489,
    "start_time": "2023-04-20T20:13:09.355Z"
   },
   {
    "duration": 27,
    "start_time": "2023-04-20T20:13:09.845Z"
   },
   {
    "duration": 6,
    "start_time": "2023-04-20T20:13:09.873Z"
   },
   {
    "duration": 18,
    "start_time": "2023-04-20T20:13:09.880Z"
   },
   {
    "duration": 191,
    "start_time": "2023-04-20T20:13:09.899Z"
   },
   {
    "duration": 40,
    "start_time": "2023-04-20T20:13:10.091Z"
   },
   {
    "duration": 6,
    "start_time": "2023-04-20T20:13:10.133Z"
   },
   {
    "duration": 48,
    "start_time": "2023-04-20T20:13:10.141Z"
   },
   {
    "duration": 3,
    "start_time": "2023-04-20T20:13:10.191Z"
   },
   {
    "duration": 28,
    "start_time": "2023-04-20T20:13:10.196Z"
   },
   {
    "duration": 3,
    "start_time": "2023-04-20T20:13:10.226Z"
   },
   {
    "duration": 5,
    "start_time": "2023-04-20T20:13:10.230Z"
   },
   {
    "duration": 5,
    "start_time": "2023-04-20T20:13:10.236Z"
   },
   {
    "duration": 6,
    "start_time": "2023-04-20T20:13:10.242Z"
   },
   {
    "duration": 1823,
    "start_time": "2023-04-20T20:13:10.249Z"
   },
   {
    "duration": 7,
    "start_time": "2023-04-20T20:13:12.074Z"
   },
   {
    "duration": 106,
    "start_time": "2023-04-20T20:13:12.083Z"
   },
   {
    "duration": 1293,
    "start_time": "2023-04-20T20:13:12.191Z"
   },
   {
    "duration": 3,
    "start_time": "2023-04-20T20:13:13.578Z"
   },
   {
    "duration": 5269,
    "start_time": "2023-04-20T20:13:13.583Z"
   },
   {
    "duration": 3,
    "start_time": "2023-04-20T20:13:18.853Z"
   },
   {
    "duration": 14,
    "start_time": "2023-04-20T20:13:18.858Z"
   },
   {
    "duration": 30,
    "start_time": "2023-04-20T20:13:18.873Z"
   },
   {
    "duration": 71936,
    "start_time": "2023-04-20T20:13:18.905Z"
   },
   {
    "duration": 1370,
    "start_time": "2023-04-20T20:16:48.959Z"
   },
   {
    "duration": 265,
    "start_time": "2023-04-20T20:16:50.330Z"
   },
   {
    "duration": 32,
    "start_time": "2023-04-20T20:16:50.597Z"
   },
   {
    "duration": 42,
    "start_time": "2023-04-20T20:16:50.632Z"
   },
   {
    "duration": 193,
    "start_time": "2023-04-20T20:16:50.676Z"
   },
   {
    "duration": 12,
    "start_time": "2023-04-20T20:16:50.879Z"
   },
   {
    "duration": 72,
    "start_time": "2023-04-20T20:16:50.893Z"
   },
   {
    "duration": 25,
    "start_time": "2023-04-20T20:16:50.967Z"
   },
   {
    "duration": 10,
    "start_time": "2023-04-20T20:16:50.994Z"
   },
   {
    "duration": 117,
    "start_time": "2023-04-20T20:16:51.007Z"
   },
   {
    "duration": 7,
    "start_time": "2023-04-20T20:16:51.126Z"
   },
   {
    "duration": 339,
    "start_time": "2023-04-20T20:16:51.135Z"
   },
   {
    "duration": 21,
    "start_time": "2023-04-20T20:16:51.475Z"
   },
   {
    "duration": 18,
    "start_time": "2023-04-20T20:16:51.498Z"
   },
   {
    "duration": 220,
    "start_time": "2023-04-20T20:16:51.517Z"
   },
   {
    "duration": 9,
    "start_time": "2023-04-20T20:16:51.739Z"
   },
   {
    "duration": 4,
    "start_time": "2023-04-20T20:16:51.749Z"
   },
   {
    "duration": 13,
    "start_time": "2023-04-20T20:16:51.772Z"
   },
   {
    "duration": 7,
    "start_time": "2023-04-20T20:16:51.787Z"
   },
   {
    "duration": 17,
    "start_time": "2023-04-20T20:16:51.795Z"
   },
   {
    "duration": 32,
    "start_time": "2023-04-20T20:16:51.813Z"
   },
   {
    "duration": 10,
    "start_time": "2023-04-20T20:16:51.846Z"
   },
   {
    "duration": 123,
    "start_time": "2023-04-20T20:16:51.858Z"
   },
   {
    "duration": 4,
    "start_time": "2023-04-20T20:16:51.983Z"
   },
   {
    "duration": 15,
    "start_time": "2023-04-20T20:16:51.989Z"
   },
   {
    "duration": 22,
    "start_time": "2023-04-20T20:16:52.006Z"
   },
   {
    "duration": 4,
    "start_time": "2023-04-20T20:16:52.030Z"
   },
   {
    "duration": 36,
    "start_time": "2023-04-20T20:16:52.037Z"
   },
   {
    "duration": 8,
    "start_time": "2023-04-20T20:16:52.074Z"
   },
   {
    "duration": 550,
    "start_time": "2023-04-20T20:16:52.083Z"
   },
   {
    "duration": 497,
    "start_time": "2023-04-20T20:16:52.635Z"
   },
   {
    "duration": 497,
    "start_time": "2023-04-20T20:16:53.134Z"
   },
   {
    "duration": 16,
    "start_time": "2023-04-20T20:16:53.633Z"
   },
   {
    "duration": 27,
    "start_time": "2023-04-20T20:16:53.650Z"
   },
   {
    "duration": 12,
    "start_time": "2023-04-20T20:16:53.685Z"
   },
   {
    "duration": 447,
    "start_time": "2023-04-20T20:16:53.698Z"
   },
   {
    "duration": 482,
    "start_time": "2023-04-20T20:16:54.146Z"
   },
   {
    "duration": 18,
    "start_time": "2023-04-20T20:16:54.630Z"
   },
   {
    "duration": 7,
    "start_time": "2023-04-20T20:16:54.650Z"
   },
   {
    "duration": 46,
    "start_time": "2023-04-20T20:16:54.658Z"
   },
   {
    "duration": 195,
    "start_time": "2023-04-20T20:16:54.705Z"
   },
   {
    "duration": 60,
    "start_time": "2023-04-20T20:16:54.902Z"
   },
   {
    "duration": 23,
    "start_time": "2023-04-20T20:16:54.964Z"
   },
   {
    "duration": 24,
    "start_time": "2023-04-20T20:16:54.988Z"
   },
   {
    "duration": 3,
    "start_time": "2023-04-20T20:16:55.014Z"
   },
   {
    "duration": 20,
    "start_time": "2023-04-20T20:16:55.018Z"
   },
   {
    "duration": 11,
    "start_time": "2023-04-20T20:16:55.039Z"
   },
   {
    "duration": 13,
    "start_time": "2023-04-20T20:16:55.051Z"
   },
   {
    "duration": 31,
    "start_time": "2023-04-20T20:16:55.066Z"
   },
   {
    "duration": 233,
    "start_time": "2023-04-20T20:19:04.368Z"
   },
   {
    "duration": 262,
    "start_time": "2023-04-20T20:19:42.722Z"
   },
   {
    "duration": 318,
    "start_time": "2023-04-20T20:19:48.474Z"
   },
   {
    "duration": 5,
    "start_time": "2023-04-20T20:20:39.316Z"
   },
   {
    "duration": 17,
    "start_time": "2023-04-20T20:20:41.103Z"
   },
   {
    "duration": 458,
    "start_time": "2023-04-20T20:21:01.817Z"
   },
   {
    "duration": 4,
    "start_time": "2023-04-20T20:21:07.604Z"
   },
   {
    "duration": 1359,
    "start_time": "2023-04-20T20:21:34.688Z"
   },
   {
    "duration": 309,
    "start_time": "2023-04-20T20:21:36.049Z"
   },
   {
    "duration": 30,
    "start_time": "2023-04-20T20:21:36.359Z"
   },
   {
    "duration": 35,
    "start_time": "2023-04-20T20:21:36.391Z"
   },
   {
    "duration": 205,
    "start_time": "2023-04-20T20:21:36.428Z"
   },
   {
    "duration": 8,
    "start_time": "2023-04-20T20:21:36.635Z"
   },
   {
    "duration": 79,
    "start_time": "2023-04-20T20:21:36.644Z"
   },
   {
    "duration": 21,
    "start_time": "2023-04-20T20:21:36.725Z"
   },
   {
    "duration": 35,
    "start_time": "2023-04-20T20:21:36.748Z"
   },
   {
    "duration": 115,
    "start_time": "2023-04-20T20:21:36.786Z"
   },
   {
    "duration": 6,
    "start_time": "2023-04-20T20:21:36.902Z"
   },
   {
    "duration": 358,
    "start_time": "2023-04-20T20:21:36.910Z"
   },
   {
    "duration": 26,
    "start_time": "2023-04-20T20:21:37.269Z"
   },
   {
    "duration": 36,
    "start_time": "2023-04-20T20:21:37.296Z"
   },
   {
    "duration": 233,
    "start_time": "2023-04-20T20:21:37.334Z"
   },
   {
    "duration": 15,
    "start_time": "2023-04-20T20:21:37.568Z"
   },
   {
    "duration": 55,
    "start_time": "2023-04-20T20:21:37.585Z"
   },
   {
    "duration": 15,
    "start_time": "2023-04-20T20:21:37.641Z"
   },
   {
    "duration": 7,
    "start_time": "2023-04-20T20:21:37.657Z"
   },
   {
    "duration": 32,
    "start_time": "2023-04-20T20:21:37.665Z"
   },
   {
    "duration": 18,
    "start_time": "2023-04-20T20:21:37.699Z"
   },
   {
    "duration": 38,
    "start_time": "2023-04-20T20:21:37.718Z"
   },
   {
    "duration": 132,
    "start_time": "2023-04-20T20:21:37.758Z"
   },
   {
    "duration": 4,
    "start_time": "2023-04-20T20:21:37.891Z"
   },
   {
    "duration": 17,
    "start_time": "2023-04-20T20:21:37.896Z"
   },
   {
    "duration": 23,
    "start_time": "2023-04-20T20:21:37.914Z"
   },
   {
    "duration": 8,
    "start_time": "2023-04-20T20:21:37.938Z"
   },
   {
    "duration": 42,
    "start_time": "2023-04-20T20:21:37.949Z"
   },
   {
    "duration": 10,
    "start_time": "2023-04-20T20:21:37.994Z"
   },
   {
    "duration": 602,
    "start_time": "2023-04-20T20:21:38.005Z"
   },
   {
    "duration": 494,
    "start_time": "2023-04-20T20:21:38.609Z"
   },
   {
    "duration": 497,
    "start_time": "2023-04-20T20:21:39.105Z"
   },
   {
    "duration": 14,
    "start_time": "2023-04-20T20:21:39.604Z"
   },
   {
    "duration": 10,
    "start_time": "2023-04-20T20:21:39.619Z"
   },
   {
    "duration": 10,
    "start_time": "2023-04-20T20:21:39.630Z"
   },
   {
    "duration": 507,
    "start_time": "2023-04-20T20:21:39.641Z"
   },
   {
    "duration": 514,
    "start_time": "2023-04-20T20:21:40.150Z"
   },
   {
    "duration": 31,
    "start_time": "2023-04-20T20:21:40.666Z"
   },
   {
    "duration": 7,
    "start_time": "2023-04-20T20:21:40.698Z"
   },
   {
    "duration": 12,
    "start_time": "2023-04-20T20:21:40.706Z"
   },
   {
    "duration": 197,
    "start_time": "2023-04-20T20:21:40.719Z"
   },
   {
    "duration": 42,
    "start_time": "2023-04-20T20:21:40.917Z"
   },
   {
    "duration": 15,
    "start_time": "2023-04-20T20:21:40.961Z"
   },
   {
    "duration": 25,
    "start_time": "2023-04-20T20:21:40.977Z"
   },
   {
    "duration": 5,
    "start_time": "2023-04-20T20:21:41.003Z"
   },
   {
    "duration": 10,
    "start_time": "2023-04-20T20:21:41.010Z"
   },
   {
    "duration": 2,
    "start_time": "2023-04-20T20:21:41.022Z"
   },
   {
    "duration": 6,
    "start_time": "2023-04-20T20:21:41.025Z"
   },
   {
    "duration": 3,
    "start_time": "2023-04-20T20:21:41.033Z"
   },
   {
    "duration": 6,
    "start_time": "2023-04-20T20:21:41.038Z"
   },
   {
    "duration": 447,
    "start_time": "2023-04-20T20:21:41.046Z"
   },
   {
    "duration": 84,
    "start_time": "2023-04-20T20:21:41.494Z"
   },
   {
    "duration": 131,
    "start_time": "2023-04-20T20:21:41.580Z"
   },
   {
    "duration": 276,
    "start_time": "2023-04-20T20:21:41.713Z"
   },
   {
    "duration": 86,
    "start_time": "2023-04-20T20:21:41.991Z"
   },
   {
    "duration": 8846,
    "start_time": "2023-04-20T20:21:42.079Z"
   },
   {
    "duration": 3,
    "start_time": "2023-04-20T20:21:50.927Z"
   },
   {
    "duration": 14,
    "start_time": "2023-04-20T20:21:50.931Z"
   },
   {
    "duration": 13,
    "start_time": "2023-04-20T20:21:50.946Z"
   },
   {
    "duration": 46654,
    "start_time": "2023-04-20T20:21:50.960Z"
   },
   {
    "duration": 144652,
    "start_time": "2023-04-20T20:22:37.616Z"
   },
   {
    "duration": 16,
    "start_time": "2023-04-20T20:25:02.270Z"
   },
   {
    "duration": 98,
    "start_time": "2023-04-20T20:25:02.287Z"
   },
   {
    "duration": 4,
    "start_time": "2023-04-20T20:25:02.387Z"
   },
   {
    "duration": 33,
    "start_time": "2023-04-20T20:25:02.392Z"
   },
   {
    "duration": 38,
    "start_time": "2023-04-20T20:25:02.427Z"
   },
   {
    "duration": 46,
    "start_time": "2023-04-20T20:25:02.467Z"
   },
   {
    "duration": 42,
    "start_time": "2023-04-20T20:25:02.514Z"
   },
   {
    "duration": 464,
    "start_time": "2023-04-20T20:25:02.557Z"
   },
   {
    "duration": 705,
    "start_time": "2023-04-20T20:25:03.022Z"
   },
   {
    "duration": 2,
    "start_time": "2023-04-20T20:25:03.729Z"
   },
   {
    "duration": 11,
    "start_time": "2023-04-20T20:25:03.732Z"
   },
   {
    "duration": 5,
    "start_time": "2023-04-20T20:25:03.745Z"
   },
   {
    "duration": 26,
    "start_time": "2023-04-20T20:25:03.751Z"
   }
  ],
  "kernelspec": {
   "display_name": "Python 3 (ipykernel)",
   "language": "python",
   "name": "python3"
  },
  "language_info": {
   "codemirror_mode": {
    "name": "ipython",
    "version": 3
   },
   "file_extension": ".py",
   "mimetype": "text/x-python",
   "name": "python",
   "nbconvert_exporter": "python",
   "pygments_lexer": "ipython3",
   "version": "3.10.9"
  },
  "toc": {
   "base_numbering": 1,
   "nav_menu": {},
   "number_sections": true,
   "sideBar": true,
   "skip_h1_title": true,
   "title_cell": "Содержание",
   "title_sidebar": "Contents",
   "toc_cell": true,
   "toc_position": {},
   "toc_section_display": true,
   "toc_window_display": true
  }
 },
 "nbformat": 4,
 "nbformat_minor": 2
}
