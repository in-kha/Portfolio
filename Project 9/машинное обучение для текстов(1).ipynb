{
 "cells": [
  {
   "cell_type": "markdown",
   "metadata": {
    "toc": true
   },
   "source": [
    "<h1>Содержание<span class=\"tocSkip\"></span></h1>\n",
    "<div class=\"toc\"><ul class=\"toc-item\"><li><span><a href=\"#Подготовка\" data-toc-modified-id=\"Подготовка-1\"><span class=\"toc-item-num\">1&nbsp;&nbsp;</span>Подготовка</a></span></li><li><span><a href=\"#Обучение\" data-toc-modified-id=\"Обучение-2\"><span class=\"toc-item-num\">2&nbsp;&nbsp;</span>Обучение</a></span></li><li><span><a href=\"#Выводы\" data-toc-modified-id=\"Выводы-3\"><span class=\"toc-item-num\">3&nbsp;&nbsp;</span>Выводы</a></span></li><li><span><a href=\"#Чек-лист-проверки\" data-toc-modified-id=\"Чек-лист-проверки-4\"><span class=\"toc-item-num\">4&nbsp;&nbsp;</span>Чек-лист проверки</a></span></li></ul></div>"
   ]
  },
  {
   "cell_type": "markdown",
   "metadata": {},
   "source": [
    "# Проект для интернет-магазина"
   ]
  },
  {
   "cell_type": "markdown",
   "metadata": {},
   "source": [
    "Интернет-магазин запускает новый сервис. Теперь пользователи могут редактировать и дополнять описания товаров, как в сообществах. То есть клиенты предлагают свои правки и комментируют изменения других. Магазину нужен инструмент, который будет искать токсичные комментарии и отправлять их на модерацию. \n",
    "\n",
    "Обучим модель классифицировать комментарии на позитивные и негативные. В нашем распоряжении набор данных с разметкой о токсичности правок.\n",
    "\n",
    "Построим модель со значением метрики качества *F1* не меньше 0.75. "
   ]
  },
  {
   "cell_type": "markdown",
   "metadata": {},
   "source": [
    "## Подготовка"
   ]
  },
  {
   "cell_type": "code",
   "execution_count": 1,
   "metadata": {},
   "outputs": [
    {
     "name": "stderr",
     "output_type": "stream",
     "text": [
      "[nltk_data] Downloading package wordnet to /home/jovyan/nltk_data...\n",
      "[nltk_data]   Package wordnet is already up-to-date!\n",
      "[nltk_data] Downloading package punkt to /home/jovyan/nltk_data...\n",
      "[nltk_data]   Package punkt is already up-to-date!\n",
      "[nltk_data] Downloading package stopwords to /home/jovyan/nltk_data...\n",
      "[nltk_data]   Package stopwords is already up-to-date!\n",
      "[nltk_data] Downloading package averaged_perceptron_tagger to\n",
      "[nltk_data]     /home/jovyan/nltk_data...\n",
      "[nltk_data]   Package averaged_perceptron_tagger is already up-to-\n",
      "[nltk_data]       date!\n"
     ]
    }
   ],
   "source": [
    "import pandas as pd\n",
    "\n",
    "import nltk\n",
    "from nltk.tokenize import RegexpTokenizer\n",
    "from nltk.stem import WordNetLemmatizer\n",
    "from nltk.corpus import stopwords as nltk_stopwords\n",
    "\n",
    "nltk.download('wordnet')\n",
    "nltk.download('punkt')\n",
    "nltk.download('stopwords')\n",
    "stopwords = set(nltk_stopwords.words('english'))\n",
    "from nltk.corpus import wordnet\n",
    "nltk.download('averaged_perceptron_tagger')\n",
    "import re\n",
    "\n",
    "import warnings\n",
    "warnings.filterwarnings(\"ignore\")\n",
    "\n",
    "import numpy as np\n",
    "\n",
    "from sklearn.feature_extraction.text import TfidfVectorizer\n",
    "from sklearn.model_selection import train_test_split, cross_val_score\n",
    "from sklearn.linear_model import LogisticRegression, SGDClassifier\n",
    "from sklearn.metrics import f1_score, make_scorer\n",
    "from catboost import CatBoostClassifier\n",
    "from sklearn.dummy import DummyClassifier"
   ]
  },
  {
   "cell_type": "code",
   "execution_count": 2,
   "metadata": {},
   "outputs": [],
   "source": [
    "try:\n",
    "    data = pd.read_csv('/datasets/toxic_comments.csv')\n",
    "except:\n",
    "    data = pd.read_csv('https://code.s3.yandex.net/datasets/toxic_comments.csv')"
   ]
  },
  {
   "cell_type": "markdown",
   "metadata": {},
   "source": [
    "Посмотрим данные, названия столбцов и информацию о данных"
   ]
  },
  {
   "cell_type": "code",
   "execution_count": 3,
   "metadata": {},
   "outputs": [
    {
     "data": {
      "text/html": [
       "<div>\n",
       "<style scoped>\n",
       "    .dataframe tbody tr th:only-of-type {\n",
       "        vertical-align: middle;\n",
       "    }\n",
       "\n",
       "    .dataframe tbody tr th {\n",
       "        vertical-align: top;\n",
       "    }\n",
       "\n",
       "    .dataframe thead th {\n",
       "        text-align: right;\n",
       "    }\n",
       "</style>\n",
       "<table border=\"1\" class=\"dataframe\">\n",
       "  <thead>\n",
       "    <tr style=\"text-align: right;\">\n",
       "      <th></th>\n",
       "      <th>Unnamed: 0</th>\n",
       "      <th>text</th>\n",
       "      <th>toxic</th>\n",
       "    </tr>\n",
       "  </thead>\n",
       "  <tbody>\n",
       "    <tr>\n",
       "      <th>0</th>\n",
       "      <td>0</td>\n",
       "      <td>Explanation\\nWhy the edits made under my usern...</td>\n",
       "      <td>0</td>\n",
       "    </tr>\n",
       "    <tr>\n",
       "      <th>1</th>\n",
       "      <td>1</td>\n",
       "      <td>D'aww! He matches this background colour I'm s...</td>\n",
       "      <td>0</td>\n",
       "    </tr>\n",
       "    <tr>\n",
       "      <th>2</th>\n",
       "      <td>2</td>\n",
       "      <td>Hey man, I'm really not trying to edit war. It...</td>\n",
       "      <td>0</td>\n",
       "    </tr>\n",
       "    <tr>\n",
       "      <th>3</th>\n",
       "      <td>3</td>\n",
       "      <td>\"\\nMore\\nI can't make any real suggestions on ...</td>\n",
       "      <td>0</td>\n",
       "    </tr>\n",
       "    <tr>\n",
       "      <th>4</th>\n",
       "      <td>4</td>\n",
       "      <td>You, sir, are my hero. Any chance you remember...</td>\n",
       "      <td>0</td>\n",
       "    </tr>\n",
       "  </tbody>\n",
       "</table>\n",
       "</div>"
      ],
      "text/plain": [
       "   Unnamed: 0                                               text  toxic\n",
       "0           0  Explanation\\nWhy the edits made under my usern...      0\n",
       "1           1  D'aww! He matches this background colour I'm s...      0\n",
       "2           2  Hey man, I'm really not trying to edit war. It...      0\n",
       "3           3  \"\\nMore\\nI can't make any real suggestions on ...      0\n",
       "4           4  You, sir, are my hero. Any chance you remember...      0"
      ]
     },
     "execution_count": 3,
     "metadata": {},
     "output_type": "execute_result"
    }
   ],
   "source": [
    "data.head()"
   ]
  },
  {
   "cell_type": "code",
   "execution_count": 4,
   "metadata": {},
   "outputs": [
    {
     "data": {
      "text/plain": [
       "Index(['Unnamed: 0', 'text', 'toxic'], dtype='object')"
      ]
     },
     "execution_count": 4,
     "metadata": {},
     "output_type": "execute_result"
    }
   ],
   "source": [
    "data.columns"
   ]
  },
  {
   "cell_type": "code",
   "execution_count": 5,
   "metadata": {},
   "outputs": [
    {
     "name": "stdout",
     "output_type": "stream",
     "text": [
      "<class 'pandas.core.frame.DataFrame'>\n",
      "RangeIndex: 159292 entries, 0 to 159291\n",
      "Data columns (total 3 columns):\n",
      " #   Column      Non-Null Count   Dtype \n",
      "---  ------      --------------   ----- \n",
      " 0   Unnamed: 0  159292 non-null  int64 \n",
      " 1   text        159292 non-null  object\n",
      " 2   toxic       159292 non-null  int64 \n",
      "dtypes: int64(2), object(1)\n",
      "memory usage: 3.6+ MB\n"
     ]
    }
   ],
   "source": [
    "data.info()"
   ]
  },
  {
   "cell_type": "markdown",
   "metadata": {},
   "source": [
    "Удалим дублирующий индекс столбец"
   ]
  },
  {
   "cell_type": "code",
   "execution_count": 6,
   "metadata": {},
   "outputs": [],
   "source": [
    "data = data.drop(['Unnamed: 0'], axis=1)"
   ]
  },
  {
   "cell_type": "code",
   "execution_count": 7,
   "metadata": {},
   "outputs": [
    {
     "data": {
      "text/html": [
       "<div>\n",
       "<style scoped>\n",
       "    .dataframe tbody tr th:only-of-type {\n",
       "        vertical-align: middle;\n",
       "    }\n",
       "\n",
       "    .dataframe tbody tr th {\n",
       "        vertical-align: top;\n",
       "    }\n",
       "\n",
       "    .dataframe thead th {\n",
       "        text-align: right;\n",
       "    }\n",
       "</style>\n",
       "<table border=\"1\" class=\"dataframe\">\n",
       "  <thead>\n",
       "    <tr style=\"text-align: right;\">\n",
       "      <th></th>\n",
       "      <th>text</th>\n",
       "      <th>toxic</th>\n",
       "    </tr>\n",
       "  </thead>\n",
       "  <tbody>\n",
       "    <tr>\n",
       "      <th>0</th>\n",
       "      <td>Explanation\\nWhy the edits made under my usern...</td>\n",
       "      <td>0</td>\n",
       "    </tr>\n",
       "    <tr>\n",
       "      <th>1</th>\n",
       "      <td>D'aww! He matches this background colour I'm s...</td>\n",
       "      <td>0</td>\n",
       "    </tr>\n",
       "    <tr>\n",
       "      <th>2</th>\n",
       "      <td>Hey man, I'm really not trying to edit war. It...</td>\n",
       "      <td>0</td>\n",
       "    </tr>\n",
       "    <tr>\n",
       "      <th>3</th>\n",
       "      <td>\"\\nMore\\nI can't make any real suggestions on ...</td>\n",
       "      <td>0</td>\n",
       "    </tr>\n",
       "    <tr>\n",
       "      <th>4</th>\n",
       "      <td>You, sir, are my hero. Any chance you remember...</td>\n",
       "      <td>0</td>\n",
       "    </tr>\n",
       "  </tbody>\n",
       "</table>\n",
       "</div>"
      ],
      "text/plain": [
       "                                                text  toxic\n",
       "0  Explanation\\nWhy the edits made under my usern...      0\n",
       "1  D'aww! He matches this background colour I'm s...      0\n",
       "2  Hey man, I'm really not trying to edit war. It...      0\n",
       "3  \"\\nMore\\nI can't make any real suggestions on ...      0\n",
       "4  You, sir, are my hero. Any chance you remember...      0"
      ]
     },
     "execution_count": 7,
     "metadata": {},
     "output_type": "execute_result"
    }
   ],
   "source": [
    "data.head()"
   ]
  },
  {
   "cell_type": "markdown",
   "metadata": {},
   "source": [
    "Проверим пропуски"
   ]
  },
  {
   "cell_type": "code",
   "execution_count": 8,
   "metadata": {},
   "outputs": [
    {
     "data": {
      "text/html": [
       "<style  type=\"text/css\" >\n",
       "#T_a6aef_row0_col0,#T_a6aef_row1_col0{\n",
       "            background-color:  #3b4cc0;\n",
       "            color:  #f1f1f1;\n",
       "        }</style><table id=\"T_a6aef_\" ><thead>    <tr>        <th class=\"blank level0\" ></th>        <th class=\"col_heading level0 col0\" >0</th>    </tr></thead><tbody>\n",
       "                <tr>\n",
       "                        <th id=\"T_a6aef_level0_row0\" class=\"row_heading level0 row0\" >text</th>\n",
       "                        <td id=\"T_a6aef_row0_col0\" class=\"data row0 col0\" >0.000000</td>\n",
       "            </tr>\n",
       "            <tr>\n",
       "                        <th id=\"T_a6aef_level0_row1\" class=\"row_heading level0 row1\" >toxic</th>\n",
       "                        <td id=\"T_a6aef_row1_col0\" class=\"data row1 col0\" >0.000000</td>\n",
       "            </tr>\n",
       "    </tbody></table>"
      ],
      "text/plain": [
       "<pandas.io.formats.style.Styler at 0x7f383c5a1ca0>"
      ]
     },
     "execution_count": 8,
     "metadata": {},
     "output_type": "execute_result"
    }
   ],
   "source": [
    "pd.DataFrame(round(data.isna().mean()*100,)).style.background_gradient('coolwarm')"
   ]
  },
  {
   "cell_type": "markdown",
   "metadata": {},
   "source": [
    "Посмотрим данные методом describe"
   ]
  },
  {
   "cell_type": "code",
   "execution_count": 9,
   "metadata": {
    "scrolled": true
   },
   "outputs": [
    {
     "data": {
      "text/html": [
       "<div>\n",
       "<style scoped>\n",
       "    .dataframe tbody tr th:only-of-type {\n",
       "        vertical-align: middle;\n",
       "    }\n",
       "\n",
       "    .dataframe tbody tr th {\n",
       "        vertical-align: top;\n",
       "    }\n",
       "\n",
       "    .dataframe thead th {\n",
       "        text-align: right;\n",
       "    }\n",
       "</style>\n",
       "<table border=\"1\" class=\"dataframe\">\n",
       "  <thead>\n",
       "    <tr style=\"text-align: right;\">\n",
       "      <th></th>\n",
       "      <th>toxic</th>\n",
       "    </tr>\n",
       "  </thead>\n",
       "  <tbody>\n",
       "    <tr>\n",
       "      <th>count</th>\n",
       "      <td>159292.000000</td>\n",
       "    </tr>\n",
       "    <tr>\n",
       "      <th>mean</th>\n",
       "      <td>0.101612</td>\n",
       "    </tr>\n",
       "    <tr>\n",
       "      <th>std</th>\n",
       "      <td>0.302139</td>\n",
       "    </tr>\n",
       "    <tr>\n",
       "      <th>min</th>\n",
       "      <td>0.000000</td>\n",
       "    </tr>\n",
       "    <tr>\n",
       "      <th>25%</th>\n",
       "      <td>0.000000</td>\n",
       "    </tr>\n",
       "    <tr>\n",
       "      <th>50%</th>\n",
       "      <td>0.000000</td>\n",
       "    </tr>\n",
       "    <tr>\n",
       "      <th>75%</th>\n",
       "      <td>0.000000</td>\n",
       "    </tr>\n",
       "    <tr>\n",
       "      <th>max</th>\n",
       "      <td>1.000000</td>\n",
       "    </tr>\n",
       "  </tbody>\n",
       "</table>\n",
       "</div>"
      ],
      "text/plain": [
       "               toxic\n",
       "count  159292.000000\n",
       "mean        0.101612\n",
       "std         0.302139\n",
       "min         0.000000\n",
       "25%         0.000000\n",
       "50%         0.000000\n",
       "75%         0.000000\n",
       "max         1.000000"
      ]
     },
     "execution_count": 9,
     "metadata": {},
     "output_type": "execute_result"
    }
   ],
   "source": [
    "data.describe()"
   ]
  },
  {
   "cell_type": "markdown",
   "metadata": {},
   "source": [
    "Посмотрим соотношение в целевом признаке"
   ]
  },
  {
   "cell_type": "code",
   "execution_count": 10,
   "metadata": {
    "scrolled": true
   },
   "outputs": [
    {
     "data": {
      "text/plain": [
       "0    143106\n",
       "1     16186\n",
       "Name: toxic, dtype: int64"
      ]
     },
     "execution_count": 10,
     "metadata": {},
     "output_type": "execute_result"
    }
   ],
   "source": [
    "data['toxic'].value_counts()"
   ]
  },
  {
   "cell_type": "markdown",
   "metadata": {},
   "source": [
    "Произведем обработку, уберем стоп-слова, создадим токены и произведем лемматизацию текста"
   ]
  },
  {
   "cell_type": "code",
   "execution_count": 11,
   "metadata": {},
   "outputs": [],
   "source": [
    "def get_wordnet_pos(word):\n",
    "    tag = nltk.pos_tag([word])[0][1][0].upper()\n",
    "    tag_dict = {\"J\": wordnet.ADJ,\n",
    "                \"N\": wordnet.NOUN,\n",
    "                \"V\": wordnet.VERB,\n",
    "                \"R\": wordnet.ADV}\n",
    "    return tag_dict.get(tag, wordnet.NOUN)"
   ]
  },
  {
   "cell_type": "code",
   "execution_count": 12,
   "metadata": {},
   "outputs": [],
   "source": [
    "lemmatizer = WordNetLemmatizer()"
   ]
  },
  {
   "cell_type": "code",
   "execution_count": 13,
   "metadata": {},
   "outputs": [],
   "source": [
    "def lemmatize(text):\n",
    "    word_list = nltk.word_tokenize(text)\n",
    "    word_list = [word for word in word_list if not word in stopwords]\n",
    "    lemmatized_output = ' '.join([lemmatizer.lemmatize(w, get_wordnet_pos(w)) for w in word_list])  \n",
    "    return lemmatized_output"
   ]
  },
  {
   "cell_type": "code",
   "execution_count": 14,
   "metadata": {},
   "outputs": [],
   "source": [
    "def clear_text(text):\n",
    "    text = re.sub(r\"[^a-zA-Z ]\", ' ', str(text))\n",
    "    text = text.lower()\n",
    "    return ' '.join(text.split())"
   ]
  },
  {
   "cell_type": "code",
   "execution_count": 15,
   "metadata": {},
   "outputs": [],
   "source": [
    "data['tokens'] = data['text'].apply(lambda x: lemmatize(clear_text(x)))"
   ]
  },
  {
   "cell_type": "code",
   "execution_count": 16,
   "metadata": {
    "scrolled": true
   },
   "outputs": [
    {
     "data": {
      "text/html": [
       "<div>\n",
       "<style scoped>\n",
       "    .dataframe tbody tr th:only-of-type {\n",
       "        vertical-align: middle;\n",
       "    }\n",
       "\n",
       "    .dataframe tbody tr th {\n",
       "        vertical-align: top;\n",
       "    }\n",
       "\n",
       "    .dataframe thead th {\n",
       "        text-align: right;\n",
       "    }\n",
       "</style>\n",
       "<table border=\"1\" class=\"dataframe\">\n",
       "  <thead>\n",
       "    <tr style=\"text-align: right;\">\n",
       "      <th></th>\n",
       "      <th>text</th>\n",
       "      <th>toxic</th>\n",
       "      <th>tokens</th>\n",
       "    </tr>\n",
       "  </thead>\n",
       "  <tbody>\n",
       "    <tr>\n",
       "      <th>0</th>\n",
       "      <td>Explanation\\nWhy the edits made under my usern...</td>\n",
       "      <td>0</td>\n",
       "      <td>explanation edits make username hardcore metal...</td>\n",
       "    </tr>\n",
       "    <tr>\n",
       "      <th>1</th>\n",
       "      <td>D'aww! He matches this background colour I'm s...</td>\n",
       "      <td>0</td>\n",
       "      <td>aww match background colour seemingly stuck th...</td>\n",
       "    </tr>\n",
       "    <tr>\n",
       "      <th>2</th>\n",
       "      <td>Hey man, I'm really not trying to edit war. It...</td>\n",
       "      <td>0</td>\n",
       "      <td>hey man really try edit war guy constantly rem...</td>\n",
       "    </tr>\n",
       "    <tr>\n",
       "      <th>3</th>\n",
       "      <td>\"\\nMore\\nI can't make any real suggestions on ...</td>\n",
       "      <td>0</td>\n",
       "      <td>make real suggestion improvement wonder sectio...</td>\n",
       "    </tr>\n",
       "    <tr>\n",
       "      <th>4</th>\n",
       "      <td>You, sir, are my hero. Any chance you remember...</td>\n",
       "      <td>0</td>\n",
       "      <td>sir hero chance remember page</td>\n",
       "    </tr>\n",
       "  </tbody>\n",
       "</table>\n",
       "</div>"
      ],
      "text/plain": [
       "                                                text  toxic  \\\n",
       "0  Explanation\\nWhy the edits made under my usern...      0   \n",
       "1  D'aww! He matches this background colour I'm s...      0   \n",
       "2  Hey man, I'm really not trying to edit war. It...      0   \n",
       "3  \"\\nMore\\nI can't make any real suggestions on ...      0   \n",
       "4  You, sir, are my hero. Any chance you remember...      0   \n",
       "\n",
       "                                              tokens  \n",
       "0  explanation edits make username hardcore metal...  \n",
       "1  aww match background colour seemingly stuck th...  \n",
       "2  hey man really try edit war guy constantly rem...  \n",
       "3  make real suggestion improvement wonder sectio...  \n",
       "4                      sir hero chance remember page  "
      ]
     },
     "execution_count": 16,
     "metadata": {},
     "output_type": "execute_result"
    }
   ],
   "source": [
    "data.head()"
   ]
  },
  {
   "cell_type": "markdown",
   "metadata": {},
   "source": [
    "Поделим данные на обучающую и тестовую выборки"
   ]
  },
  {
   "cell_type": "code",
   "execution_count": 17,
   "metadata": {},
   "outputs": [],
   "source": [
    "features = data['tokens']\n",
    "target = data['toxic']"
   ]
  },
  {
   "cell_type": "code",
   "execution_count": 18,
   "metadata": {},
   "outputs": [],
   "source": [
    "features_train, features_test, target_train, target_test = train_test_split(\n",
    "    features, target, test_size=0.20, random_state=12345, stratify=target) "
   ]
  },
  {
   "cell_type": "code",
   "execution_count": 19,
   "metadata": {},
   "outputs": [
    {
     "data": {
      "text/plain": [
       "((127433,), (31859,), (127433,), (31859,))"
      ]
     },
     "execution_count": 19,
     "metadata": {},
     "output_type": "execute_result"
    }
   ],
   "source": [
    "features_train.shape, features_test.shape, target_train.shape, target_test.shape"
   ]
  },
  {
   "cell_type": "markdown",
   "metadata": {},
   "source": [
    "Создадим признаки"
   ]
  },
  {
   "cell_type": "markdown",
   "metadata": {},
   "source": [
    "TFIDF"
   ]
  },
  {
   "cell_type": "code",
   "execution_count": 20,
   "metadata": {},
   "outputs": [
    {
     "name": "stdout",
     "output_type": "stream",
     "text": [
      "Размер матрицы tf-idf: (127433, 132707)\n"
     ]
    }
   ],
   "source": [
    "tf_idf = TfidfVectorizer(stop_words = stopwords) \n",
    "tf_idf_train = tf_idf.fit_transform(features_train) \n",
    "print(\"Размер матрицы tf-idf:\", tf_idf_train.shape)"
   ]
  },
  {
   "cell_type": "code",
   "execution_count": 21,
   "metadata": {},
   "outputs": [
    {
     "name": "stdout",
     "output_type": "stream",
     "text": [
      "Размер матрицы tf-idf_test: (31859, 132707)\n"
     ]
    }
   ],
   "source": [
    "tf_idf_test = tf_idf.transform(features_test) \n",
    "print(\"Размер матрицы tf-idf_test:\", tf_idf_test.shape)"
   ]
  },
  {
   "cell_type": "code",
   "execution_count": 22,
   "metadata": {},
   "outputs": [],
   "source": [
    "target_train = target_train.values \n",
    "target_test = target_test.values"
   ]
  },
  {
   "cell_type": "markdown",
   "metadata": {},
   "source": [
    "Вывод: открыли данные, изучили их, посмотрели есть ли пропуски, какие столбцы и данные есть, убрали лишний столбец, обработали текст, создали токены и убрали стоп-слова, затем провели лемматизацию, для обучения провел векторизацию с помощью TFIDF"
   ]
  },
  {
   "cell_type": "markdown",
   "metadata": {},
   "source": [
    "## Обучение"
   ]
  },
  {
   "cell_type": "code",
   "execution_count": 23,
   "metadata": {},
   "outputs": [],
   "source": [
    "scorer = make_scorer(f1_score)"
   ]
  },
  {
   "cell_type": "code",
   "execution_count": 24,
   "metadata": {},
   "outputs": [
    {
     "data": {
      "text/plain": [
       "0.7570957797384926"
      ]
     },
     "execution_count": 24,
     "metadata": {},
     "output_type": "execute_result"
    }
   ],
   "source": [
    "lr_model=LogisticRegression(random_state=12345, class_weight='balanced', penalty='l2', max_iter=40, solver='newton-cg', multi_class='multinomial')\n",
    "lr_f1_tfidf = cross_val_score(lr_model, tf_idf_train, target_train, scoring=scorer, cv=3).max()\n",
    "               \n",
    "lr_f1_tfidf"
   ]
  },
  {
   "cell_type": "code",
   "execution_count": 25,
   "metadata": {},
   "outputs": [
    {
     "data": {
      "text/plain": [
       "0.7497660879509305"
      ]
     },
     "execution_count": 25,
     "metadata": {},
     "output_type": "execute_result"
    }
   ],
   "source": [
    "sgd_model=SGDClassifier(random_state=12345, class_weight='balanced', penalty='l2', loss='modified_huber', max_iter=20)\n",
    "sgd_f1_tfidf = cross_val_score(sgd_model, tf_idf_train, target_train, scoring=scorer, cv=3).max()\n",
    "               \n",
    "sgd_f1_tfidf"
   ]
  },
  {
   "cell_type": "code",
   "execution_count": 26,
   "metadata": {},
   "outputs": [
    {
     "name": "stdout",
     "output_type": "stream",
     "text": [
      "0:\tlearn: 0.4190649\ttotal: 2.3s\tremaining: 3m 48s\n",
      "20:\tlearn: 0.7218844\ttotal: 34.9s\tremaining: 2m 11s\n",
      "40:\tlearn: 0.7566687\ttotal: 1m 7s\tremaining: 1m 36s\n",
      "60:\tlearn: 0.7739177\ttotal: 1m 38s\tremaining: 1m 3s\n",
      "80:\tlearn: 0.7802469\ttotal: 2m 9s\tremaining: 30.4s\n",
      "99:\tlearn: 0.7942514\ttotal: 2m 39s\tremaining: 0us\n",
      "0:\tlearn: 0.4719004\ttotal: 2.21s\tremaining: 3m 38s\n",
      "20:\tlearn: 0.7173698\ttotal: 34.1s\tremaining: 2m 8s\n",
      "40:\tlearn: 0.7581139\ttotal: 1m 5s\tremaining: 1m 33s\n",
      "60:\tlearn: 0.7760396\ttotal: 1m 35s\tremaining: 1m 1s\n",
      "80:\tlearn: 0.7874162\ttotal: 2m 5s\tremaining: 29.5s\n",
      "99:\tlearn: 0.7982086\ttotal: 2m 34s\tremaining: 0us\n",
      "0:\tlearn: 0.5010431\ttotal: 2.08s\tremaining: 3m 25s\n",
      "20:\tlearn: 0.7242673\ttotal: 33.6s\tremaining: 2m 6s\n",
      "40:\tlearn: 0.7620970\ttotal: 1m 4s\tremaining: 1m 32s\n",
      "60:\tlearn: 0.7818121\ttotal: 1m 35s\tremaining: 1m\n",
      "80:\tlearn: 0.7920205\ttotal: 2m 6s\tremaining: 29.6s\n",
      "99:\tlearn: 0.8025628\ttotal: 2m 36s\tremaining: 0us\n"
     ]
    },
    {
     "data": {
      "text/plain": [
       "0.7424506777613744"
      ]
     },
     "execution_count": 26,
     "metadata": {},
     "output_type": "execute_result"
    }
   ],
   "source": [
    "cat_model=CatBoostClassifier(random_state=12345, learning_rate=0.7, iterations=100, verbose=20, eval_metric = 'F1')\n",
    "cat_f1_tfidf = cross_val_score(cat_model, tf_idf_train, target_train, scoring=scorer, cv=3).max()\n",
    "               \n",
    "cat_f1_tfidf"
   ]
  },
  {
   "cell_type": "markdown",
   "metadata": {},
   "source": [
    "Вывод: взяли разные модели, провели обучение и кросс-валидацию, выбрали лучшую модель, это логистическая регрессия"
   ]
  },
  {
   "cell_type": "markdown",
   "metadata": {},
   "source": [
    "## Выводы"
   ]
  },
  {
   "cell_type": "code",
   "execution_count": 27,
   "metadata": {},
   "outputs": [
    {
     "data": {
      "text/plain": [
       "0.7550740537575424"
      ]
     },
     "execution_count": 27,
     "metadata": {},
     "output_type": "execute_result"
    }
   ],
   "source": [
    "lr_model.fit(tf_idf_train, target_train)\n",
    "predicted_lr = lr_model.predict(tf_idf_test)\n",
    "f1_lr = f1_score(target_test, predicted_lr)\n",
    "f1_lr"
   ]
  },
  {
   "cell_type": "code",
   "execution_count": 28,
   "metadata": {},
   "outputs": [
    {
     "data": {
      "text/plain": [
       "0.0"
      ]
     },
     "execution_count": 28,
     "metadata": {},
     "output_type": "execute_result"
    }
   ],
   "source": [
    "model_dummy = DummyClassifier()\n",
    "model_dummy.fit(tf_idf_train, target_train)\n",
    "predicted_dummy = model_dummy.predict(tf_idf_test)\n",
    "f1_dummy = f1_score(target_test, predicted_dummy)\n",
    "f1_dummy"
   ]
  },
  {
   "cell_type": "markdown",
   "metadata": {},
   "source": [
    "Вывод: провели тестирование лучшей модели, она прошла тестирование, также проверили на адекватность с помощью константной модели, проверка пройдена."
   ]
  }
 ],
 "metadata": {
  "ExecuteTimeLog": [
   {
    "duration": 386,
    "start_time": "2023-06-04T17:45:09.648Z"
   },
   {
    "duration": 113,
    "start_time": "2023-06-04T17:45:40.361Z"
   },
   {
    "duration": 86,
    "start_time": "2023-06-04T17:45:47.536Z"
   },
   {
    "duration": 2242,
    "start_time": "2023-06-04T17:46:18.593Z"
   },
   {
    "duration": 12,
    "start_time": "2023-06-04T17:46:32.469Z"
   },
   {
    "duration": 14,
    "start_time": "2023-06-04T17:53:17.608Z"
   },
   {
    "duration": 11,
    "start_time": "2023-06-04T17:53:36.784Z"
   },
   {
    "duration": 4,
    "start_time": "2023-06-04T17:53:56.295Z"
   },
   {
    "duration": 12,
    "start_time": "2023-06-04T17:54:10.285Z"
   },
   {
    "duration": 6,
    "start_time": "2023-06-04T17:54:20.076Z"
   },
   {
    "duration": 29,
    "start_time": "2023-06-04T17:55:15.136Z"
   },
   {
    "duration": 11,
    "start_time": "2023-06-04T17:55:33.149Z"
   },
   {
    "duration": 427,
    "start_time": "2023-06-04T17:55:40.740Z"
   },
   {
    "duration": 877,
    "start_time": "2023-06-04T17:55:41.169Z"
   },
   {
    "duration": 12,
    "start_time": "2023-06-04T17:55:42.048Z"
   },
   {
    "duration": 14,
    "start_time": "2023-06-04T17:55:42.062Z"
   },
   {
    "duration": 51,
    "start_time": "2023-06-04T17:55:42.077Z"
   },
   {
    "duration": 13,
    "start_time": "2023-06-04T17:55:42.129Z"
   },
   {
    "duration": 23,
    "start_time": "2023-06-04T17:55:42.143Z"
   },
   {
    "duration": 3,
    "start_time": "2023-06-04T17:59:31.612Z"
   },
   {
    "duration": 4,
    "start_time": "2023-06-04T18:05:29.512Z"
   },
   {
    "duration": 1823,
    "start_time": "2023-06-04T18:05:46.056Z"
   },
   {
    "duration": 57,
    "start_time": "2023-06-04T18:07:24.962Z"
   },
   {
    "duration": 2,
    "start_time": "2023-06-04T18:07:30.400Z"
   },
   {
    "duration": 11,
    "start_time": "2023-06-04T18:07:32.665Z"
   },
   {
    "duration": 3,
    "start_time": "2023-06-04T18:09:04.664Z"
   },
   {
    "duration": 10,
    "start_time": "2023-06-04T18:09:07.739Z"
   },
   {
    "duration": 3,
    "start_time": "2023-06-04T18:11:11.123Z"
   },
   {
    "duration": 12,
    "start_time": "2023-06-04T18:11:14.265Z"
   },
   {
    "duration": 3,
    "start_time": "2023-06-04T18:12:20.429Z"
   },
   {
    "duration": 3,
    "start_time": "2023-06-04T18:12:22.244Z"
   },
   {
    "duration": 18,
    "start_time": "2023-06-04T18:12:39.716Z"
   },
   {
    "duration": 10,
    "start_time": "2023-06-04T18:12:46.736Z"
   },
   {
    "duration": 4,
    "start_time": "2023-06-04T18:13:24.248Z"
   },
   {
    "duration": 1258,
    "start_time": "2023-06-04T18:18:19.485Z"
   },
   {
    "duration": 3,
    "start_time": "2023-06-04T18:18:37.227Z"
   },
   {
    "duration": 32,
    "start_time": "2023-06-04T18:20:14.927Z"
   },
   {
    "duration": 1594,
    "start_time": "2023-06-04T18:42:42.018Z"
   },
   {
    "duration": 1448,
    "start_time": "2023-06-04T18:50:31.746Z"
   },
   {
    "duration": 840,
    "start_time": "2023-06-04T18:50:36.251Z"
   },
   {
    "duration": 14,
    "start_time": "2023-06-04T18:50:38.442Z"
   },
   {
    "duration": 4,
    "start_time": "2023-06-04T18:50:40.781Z"
   },
   {
    "duration": 30,
    "start_time": "2023-06-04T18:50:42.574Z"
   },
   {
    "duration": 10,
    "start_time": "2023-06-04T18:50:44.717Z"
   },
   {
    "duration": 7,
    "start_time": "2023-06-04T18:50:46.487Z"
   },
   {
    "duration": 1869,
    "start_time": "2023-06-04T18:50:49.230Z"
   },
   {
    "duration": 4,
    "start_time": "2023-06-04T18:57:43.693Z"
   },
   {
    "duration": 126,
    "start_time": "2023-06-04T18:58:29.407Z"
   },
   {
    "duration": 2188,
    "start_time": "2023-06-04T18:59:06.427Z"
   },
   {
    "duration": 9,
    "start_time": "2023-06-04T19:01:34.039Z"
   },
   {
    "duration": 7,
    "start_time": "2023-06-04T19:02:18.419Z"
   },
   {
    "duration": 7,
    "start_time": "2023-06-04T19:02:22.854Z"
   },
   {
    "duration": 1219,
    "start_time": "2023-06-04T19:02:26.098Z"
   },
   {
    "duration": 1699,
    "start_time": "2023-06-04T19:02:42.375Z"
   },
   {
    "duration": 944,
    "start_time": "2023-06-04T19:02:44.076Z"
   },
   {
    "duration": 16,
    "start_time": "2023-06-04T19:02:45.022Z"
   },
   {
    "duration": 11,
    "start_time": "2023-06-04T19:02:45.040Z"
   },
   {
    "duration": 44,
    "start_time": "2023-06-04T19:02:45.053Z"
   },
   {
    "duration": 25,
    "start_time": "2023-06-04T19:02:45.099Z"
   },
   {
    "duration": 7,
    "start_time": "2023-06-04T19:02:45.126Z"
   },
   {
    "duration": 1914,
    "start_time": "2023-06-04T19:02:45.134Z"
   },
   {
    "duration": 8,
    "start_time": "2023-06-04T19:02:47.049Z"
   },
   {
    "duration": 2058,
    "start_time": "2023-06-04T19:02:47.060Z"
   },
   {
    "duration": 9,
    "start_time": "2023-06-04T19:03:41.030Z"
   },
   {
    "duration": 5,
    "start_time": "2023-06-04T19:03:51.101Z"
   },
   {
    "duration": 5,
    "start_time": "2023-06-04T19:04:48.453Z"
   },
   {
    "duration": 3,
    "start_time": "2023-06-04T19:04:58.236Z"
   },
   {
    "duration": 1795,
    "start_time": "2023-06-04T19:05:01.203Z"
   },
   {
    "duration": 9,
    "start_time": "2023-06-04T19:07:01.030Z"
   },
   {
    "duration": 17,
    "start_time": "2023-06-04T19:07:03.044Z"
   },
   {
    "duration": 3213,
    "start_time": "2023-06-04T19:07:05.620Z"
   },
   {
    "duration": 8,
    "start_time": "2023-06-04T19:07:15.892Z"
   },
   {
    "duration": 1549,
    "start_time": "2023-06-04T19:07:34.163Z"
   },
   {
    "duration": 799,
    "start_time": "2023-06-04T19:07:35.714Z"
   },
   {
    "duration": 14,
    "start_time": "2023-06-04T19:07:36.515Z"
   },
   {
    "duration": 53,
    "start_time": "2023-06-04T19:07:36.531Z"
   },
   {
    "duration": 54,
    "start_time": "2023-06-04T19:07:36.586Z"
   },
   {
    "duration": 29,
    "start_time": "2023-06-04T19:07:36.641Z"
   },
   {
    "duration": 34,
    "start_time": "2023-06-04T19:07:36.672Z"
   },
   {
    "duration": 1814,
    "start_time": "2023-06-04T19:07:36.707Z"
   },
   {
    "duration": 10,
    "start_time": "2023-06-04T19:07:38.524Z"
   },
   {
    "duration": 12,
    "start_time": "2023-06-04T19:07:38.536Z"
   },
   {
    "duration": 4114,
    "start_time": "2023-06-04T19:07:38.549Z"
   },
   {
    "duration": 3,
    "start_time": "2023-06-04T19:08:28.002Z"
   },
   {
    "duration": 1823,
    "start_time": "2023-06-04T19:08:30.686Z"
   },
   {
    "duration": 9,
    "start_time": "2023-06-04T19:12:58.269Z"
   },
   {
    "duration": 1477,
    "start_time": "2023-06-04T19:15:24.081Z"
   },
   {
    "duration": 832,
    "start_time": "2023-06-04T19:15:27.713Z"
   },
   {
    "duration": 12,
    "start_time": "2023-06-04T19:15:29.918Z"
   },
   {
    "duration": 4,
    "start_time": "2023-06-04T19:15:32.159Z"
   },
   {
    "duration": 29,
    "start_time": "2023-06-04T19:15:34.169Z"
   },
   {
    "duration": 10,
    "start_time": "2023-06-04T19:15:39.474Z"
   },
   {
    "duration": 7,
    "start_time": "2023-06-04T19:15:44.225Z"
   },
   {
    "duration": 476,
    "start_time": "2023-06-04T19:15:52.456Z"
   },
   {
    "duration": 1522,
    "start_time": "2023-06-04T19:16:53.795Z"
   },
   {
    "duration": 2239,
    "start_time": "2023-06-04T19:16:57.342Z"
   },
   {
    "duration": 12,
    "start_time": "2023-06-04T19:16:59.583Z"
   },
   {
    "duration": 4,
    "start_time": "2023-06-04T19:17:01.641Z"
   },
   {
    "duration": 29,
    "start_time": "2023-06-04T19:17:04.202Z"
   },
   {
    "duration": 10,
    "start_time": "2023-06-04T19:17:06.575Z"
   },
   {
    "duration": 7,
    "start_time": "2023-06-04T19:17:07.983Z"
   },
   {
    "duration": 244,
    "start_time": "2023-06-04T19:17:10.249Z"
   },
   {
    "duration": 4,
    "start_time": "2023-06-04T19:17:12.954Z"
   },
   {
    "duration": 3,
    "start_time": "2023-06-04T19:17:16.912Z"
   },
   {
    "duration": 3358,
    "start_time": "2023-06-04T19:17:19.437Z"
   },
   {
    "duration": 3,
    "start_time": "2023-06-04T19:18:20.448Z"
   },
   {
    "duration": 3,
    "start_time": "2023-06-04T19:18:31.382Z"
   },
   {
    "duration": 115,
    "start_time": "2023-06-04T19:18:34.457Z"
   },
   {
    "duration": 1758,
    "start_time": "2023-06-04T19:19:59.455Z"
   },
   {
    "duration": 1966,
    "start_time": "2023-06-04T19:20:09.359Z"
   },
   {
    "duration": 9,
    "start_time": "2023-06-04T19:20:29.072Z"
   },
   {
    "duration": 10,
    "start_time": "2023-06-04T19:20:40.693Z"
   },
   {
    "duration": 1498,
    "start_time": "2023-06-04T19:25:14.344Z"
   },
   {
    "duration": 781,
    "start_time": "2023-06-04T19:25:18.788Z"
   },
   {
    "duration": 12,
    "start_time": "2023-06-04T19:25:24.094Z"
   },
   {
    "duration": 3,
    "start_time": "2023-06-04T19:25:26.510Z"
   },
   {
    "duration": 28,
    "start_time": "2023-06-04T19:25:28.579Z"
   },
   {
    "duration": 9,
    "start_time": "2023-06-04T19:25:30.683Z"
   },
   {
    "duration": 6,
    "start_time": "2023-06-04T19:25:32.326Z"
   },
   {
    "duration": 230,
    "start_time": "2023-06-04T19:25:34.590Z"
   },
   {
    "duration": 4,
    "start_time": "2023-06-04T19:26:10.439Z"
   },
   {
    "duration": 2,
    "start_time": "2023-06-04T19:26:23.763Z"
   },
   {
    "duration": 4,
    "start_time": "2023-06-04T19:27:27.306Z"
   },
   {
    "duration": 66905,
    "start_time": "2023-06-04T19:28:39.559Z"
   },
   {
    "duration": 4,
    "start_time": "2023-06-04T19:30:01.961Z"
   },
   {
    "duration": 70220,
    "start_time": "2023-06-04T19:30:04.360Z"
   },
   {
    "duration": 8,
    "start_time": "2023-06-04T19:31:17.997Z"
   },
   {
    "duration": 7,
    "start_time": "2023-06-04T19:40:22.511Z"
   },
   {
    "duration": 3188,
    "start_time": "2023-06-04T19:42:29.220Z"
   },
   {
    "duration": 12,
    "start_time": "2023-06-04T19:42:34.770Z"
   },
   {
    "duration": 1396,
    "start_time": "2023-06-04T19:42:55.679Z"
   },
   {
    "duration": 852,
    "start_time": "2023-06-04T19:42:57.077Z"
   },
   {
    "duration": 13,
    "start_time": "2023-06-04T19:42:57.931Z"
   },
   {
    "duration": 6,
    "start_time": "2023-06-04T19:42:57.945Z"
   },
   {
    "duration": 34,
    "start_time": "2023-06-04T19:42:57.953Z"
   },
   {
    "duration": 10,
    "start_time": "2023-06-04T19:42:57.989Z"
   },
   {
    "duration": 25,
    "start_time": "2023-06-04T19:42:58.000Z"
   },
   {
    "duration": 245,
    "start_time": "2023-06-04T19:42:58.027Z"
   },
   {
    "duration": 5,
    "start_time": "2023-06-04T19:42:58.273Z"
   },
   {
    "duration": 5,
    "start_time": "2023-06-04T19:42:58.279Z"
   },
   {
    "duration": 5,
    "start_time": "2023-06-04T19:42:58.285Z"
   },
   {
    "duration": 69471,
    "start_time": "2023-06-04T19:42:58.292Z"
   },
   {
    "duration": 10,
    "start_time": "2023-06-04T19:44:07.765Z"
   },
   {
    "duration": 3029,
    "start_time": "2023-06-04T19:44:07.777Z"
   },
   {
    "duration": 17,
    "start_time": "2023-06-04T19:44:10.808Z"
   },
   {
    "duration": 6,
    "start_time": "2023-06-04T19:45:02.337Z"
   },
   {
    "duration": 3,
    "start_time": "2023-06-04T20:12:10.489Z"
   },
   {
    "duration": 23787,
    "start_time": "2023-06-04T20:13:23.041Z"
   },
   {
    "duration": 5,
    "start_time": "2023-06-04T20:13:55.418Z"
   },
   {
    "duration": 114,
    "start_time": "2023-06-04T20:15:52.707Z"
   },
   {
    "duration": 3,
    "start_time": "2023-06-04T20:15:55.875Z"
   },
   {
    "duration": 612,
    "start_time": "2023-06-04T20:15:57.307Z"
   },
   {
    "duration": 11,
    "start_time": "2023-06-04T20:16:18.533Z"
   },
   {
    "duration": 2450,
    "start_time": "2023-06-05T16:21:47.845Z"
   },
   {
    "duration": 3355,
    "start_time": "2023-06-05T16:21:54.906Z"
   },
   {
    "duration": 14,
    "start_time": "2023-06-05T16:21:59.793Z"
   },
   {
    "duration": 5,
    "start_time": "2023-06-05T16:22:02.594Z"
   },
   {
    "duration": 33,
    "start_time": "2023-06-05T16:22:04.482Z"
   },
   {
    "duration": 10,
    "start_time": "2023-06-05T16:22:09.822Z"
   },
   {
    "duration": 7,
    "start_time": "2023-06-05T16:22:12.120Z"
   },
   {
    "duration": 485,
    "start_time": "2023-06-05T16:22:14.697Z"
   },
   {
    "duration": 29,
    "start_time": "2023-06-05T16:22:41.061Z"
   },
   {
    "duration": 7,
    "start_time": "2023-06-05T16:23:01.307Z"
   },
   {
    "duration": 581,
    "start_time": "2023-06-05T17:53:33.830Z"
   },
   {
    "duration": 1481,
    "start_time": "2023-06-05T17:53:41.159Z"
   },
   {
    "duration": 2537,
    "start_time": "2023-06-05T17:54:00.855Z"
   },
   {
    "duration": 816,
    "start_time": "2023-06-05T17:54:06.662Z"
   },
   {
    "duration": 20,
    "start_time": "2023-06-05T17:54:09.745Z"
   },
   {
    "duration": 4,
    "start_time": "2023-06-05T17:54:11.900Z"
   },
   {
    "duration": 39,
    "start_time": "2023-06-05T17:54:14.150Z"
   },
   {
    "duration": 10,
    "start_time": "2023-06-05T17:54:16.503Z"
   },
   {
    "duration": 7,
    "start_time": "2023-06-05T17:54:18.712Z"
   },
   {
    "duration": 273,
    "start_time": "2023-06-05T17:54:21.295Z"
   },
   {
    "duration": 26,
    "start_time": "2023-06-05T17:54:24.062Z"
   },
   {
    "duration": 134,
    "start_time": "2023-06-05T17:55:33.604Z"
   },
   {
    "duration": 7,
    "start_time": "2023-06-05T17:55:40.589Z"
   },
   {
    "duration": 6,
    "start_time": "2023-06-05T17:56:35.264Z"
   },
   {
    "duration": 4,
    "start_time": "2023-06-05T17:56:36.958Z"
   },
   {
    "duration": 5,
    "start_time": "2023-06-05T17:56:38.959Z"
   },
   {
    "duration": 81158,
    "start_time": "2023-06-05T17:56:41.988Z"
   },
   {
    "duration": 18,
    "start_time": "2023-06-05T17:58:03.150Z"
   },
   {
    "duration": 6,
    "start_time": "2023-06-05T18:45:22.126Z"
   },
   {
    "duration": 2752,
    "start_time": "2023-06-05T18:45:30.272Z"
   },
   {
    "duration": 3225,
    "start_time": "2023-06-05T18:45:35.580Z"
   },
   {
    "duration": 14,
    "start_time": "2023-06-05T18:45:40.156Z"
   },
   {
    "duration": 4,
    "start_time": "2023-06-05T18:45:42.609Z"
   },
   {
    "duration": 34,
    "start_time": "2023-06-05T18:45:44.222Z"
   },
   {
    "duration": 11,
    "start_time": "2023-06-05T18:45:46.557Z"
   },
   {
    "duration": 7,
    "start_time": "2023-06-05T18:45:48.243Z"
   },
   {
    "duration": 264,
    "start_time": "2023-06-05T18:45:51.541Z"
   },
   {
    "duration": 22,
    "start_time": "2023-06-05T18:45:54.480Z"
   },
   {
    "duration": 6,
    "start_time": "2023-06-05T18:45:57.722Z"
   },
   {
    "duration": 6,
    "start_time": "2023-06-05T18:46:02.121Z"
   },
   {
    "duration": 3,
    "start_time": "2023-06-05T18:46:04.294Z"
   },
   {
    "duration": 3,
    "start_time": "2023-06-05T18:46:06.808Z"
   },
   {
    "duration": 71992,
    "start_time": "2023-06-05T18:46:10.741Z"
   },
   {
    "duration": 9,
    "start_time": "2023-06-05T18:47:41.359Z"
   },
   {
    "duration": 1490,
    "start_time": "2023-06-06T19:22:15.382Z"
   },
   {
    "duration": 2369,
    "start_time": "2023-06-06T19:22:20.658Z"
   },
   {
    "duration": 12,
    "start_time": "2023-06-06T19:22:25.459Z"
   },
   {
    "duration": 4,
    "start_time": "2023-06-06T19:22:27.989Z"
   },
   {
    "duration": 24,
    "start_time": "2023-06-06T19:22:29.742Z"
   },
   {
    "duration": 8,
    "start_time": "2023-06-06T19:22:32.529Z"
   },
   {
    "duration": 8,
    "start_time": "2023-06-06T19:22:34.556Z"
   },
   {
    "duration": 473,
    "start_time": "2023-06-06T19:22:37.106Z"
   },
   {
    "duration": 15,
    "start_time": "2023-06-06T19:22:40.338Z"
   },
   {
    "duration": 6,
    "start_time": "2023-06-06T19:22:43.171Z"
   },
   {
    "duration": 7,
    "start_time": "2023-06-06T19:22:45.610Z"
   },
   {
    "duration": 3,
    "start_time": "2023-06-06T19:22:47.652Z"
   },
   {
    "duration": 3,
    "start_time": "2023-06-06T19:22:50.498Z"
   },
   {
    "duration": 28,
    "start_time": "2023-06-06T19:23:28.947Z"
   },
   {
    "duration": 67976,
    "start_time": "2023-06-06T19:23:46.618Z"
   },
   {
    "duration": 7,
    "start_time": "2023-06-06T19:24:57.655Z"
   },
   {
    "duration": 23,
    "start_time": "2023-06-06T19:25:20.993Z"
   },
   {
    "duration": 122,
    "start_time": "2023-06-06T19:25:36.898Z"
   },
   {
    "duration": 33,
    "start_time": "2023-06-06T19:27:55.537Z"
   },
   {
    "duration": 22,
    "start_time": "2023-06-06T19:28:20.132Z"
   },
   {
    "duration": 19,
    "start_time": "2023-06-06T19:28:34.010Z"
   },
   {
    "duration": 3,
    "start_time": "2023-06-06T19:28:42.048Z"
   },
   {
    "duration": 4,
    "start_time": "2023-06-06T19:28:50.542Z"
   },
   {
    "duration": 5,
    "start_time": "2023-06-06T19:30:51.885Z"
   },
   {
    "duration": 13,
    "start_time": "2023-06-06T19:32:28.624Z"
   },
   {
    "duration": 5,
    "start_time": "2023-06-06T19:33:09.285Z"
   },
   {
    "duration": 7,
    "start_time": "2023-06-06T19:33:15.789Z"
   },
   {
    "duration": 6,
    "start_time": "2023-06-06T19:41:13.782Z"
   },
   {
    "duration": 5,
    "start_time": "2023-06-06T19:43:51.622Z"
   },
   {
    "duration": 3,
    "start_time": "2023-06-06T19:45:52.396Z"
   },
   {
    "duration": 3,
    "start_time": "2023-06-06T19:47:36.006Z"
   },
   {
    "duration": 160,
    "start_time": "2023-06-06T19:49:38.998Z"
   },
   {
    "duration": 19,
    "start_time": "2023-06-06T19:49:55.078Z"
   },
   {
    "duration": 19,
    "start_time": "2023-06-06T19:51:05.490Z"
   },
   {
    "duration": 1588,
    "start_time": "2023-06-06T19:56:44.175Z"
   },
   {
    "duration": 926,
    "start_time": "2023-06-06T19:56:45.765Z"
   },
   {
    "duration": 12,
    "start_time": "2023-06-06T19:56:46.692Z"
   },
   {
    "duration": 17,
    "start_time": "2023-06-06T19:56:46.706Z"
   },
   {
    "duration": 36,
    "start_time": "2023-06-06T19:56:46.725Z"
   },
   {
    "duration": 11,
    "start_time": "2023-06-06T19:56:46.763Z"
   },
   {
    "duration": 14,
    "start_time": "2023-06-06T19:56:46.776Z"
   },
   {
    "duration": 294,
    "start_time": "2023-06-06T19:56:46.791Z"
   },
   {
    "duration": 17,
    "start_time": "2023-06-06T19:56:47.086Z"
   },
   {
    "duration": 14,
    "start_time": "2023-06-06T19:56:47.104Z"
   },
   {
    "duration": 5,
    "start_time": "2023-06-06T19:56:47.120Z"
   },
   {
    "duration": 8,
    "start_time": "2023-06-06T19:56:47.127Z"
   },
   {
    "duration": 7,
    "start_time": "2023-06-06T19:56:47.137Z"
   },
   {
    "duration": 9,
    "start_time": "2023-06-06T19:56:47.146Z"
   },
   {
    "duration": 78001,
    "start_time": "2023-06-06T19:56:47.156Z"
   },
   {
    "duration": 9,
    "start_time": "2023-06-06T19:58:05.159Z"
   },
   {
    "duration": 3,
    "start_time": "2023-06-06T20:01:26.474Z"
   },
   {
    "duration": 119,
    "start_time": "2023-06-06T20:01:29.293Z"
   },
   {
    "duration": 3,
    "start_time": "2023-06-06T20:01:38.086Z"
   },
   {
    "duration": 56,
    "start_time": "2023-06-06T20:01:40.230Z"
   },
   {
    "duration": 3,
    "start_time": "2023-06-06T20:01:43.166Z"
   },
   {
    "duration": 14,
    "start_time": "2023-06-06T20:02:22.426Z"
   },
   {
    "duration": 13,
    "start_time": "2023-06-06T20:03:14.182Z"
   },
   {
    "duration": 23703,
    "start_time": "2023-06-06T20:05:28.540Z"
   },
   {
    "duration": 10,
    "start_time": "2023-06-06T20:06:05.628Z"
   },
   {
    "duration": 11,
    "start_time": "2023-06-06T20:07:45.694Z"
   },
   {
    "duration": 9,
    "start_time": "2023-06-06T20:08:22.338Z"
   },
   {
    "duration": 1479,
    "start_time": "2023-06-06T20:08:37.490Z"
   },
   {
    "duration": 794,
    "start_time": "2023-06-06T20:08:38.970Z"
   },
   {
    "duration": 12,
    "start_time": "2023-06-06T20:08:39.766Z"
   },
   {
    "duration": 4,
    "start_time": "2023-06-06T20:08:39.779Z"
   },
   {
    "duration": 41,
    "start_time": "2023-06-06T20:08:39.785Z"
   },
   {
    "duration": 8,
    "start_time": "2023-06-06T20:08:39.828Z"
   },
   {
    "duration": 12,
    "start_time": "2023-06-06T20:08:39.838Z"
   },
   {
    "duration": 355,
    "start_time": "2023-06-06T20:08:39.852Z"
   },
   {
    "duration": 14,
    "start_time": "2023-06-06T20:08:40.208Z"
   },
   {
    "duration": 5,
    "start_time": "2023-06-06T20:08:40.224Z"
   },
   {
    "duration": 4,
    "start_time": "2023-06-06T20:08:40.230Z"
   },
   {
    "duration": 5,
    "start_time": "2023-06-06T20:08:40.235Z"
   },
   {
    "duration": 5,
    "start_time": "2023-06-06T20:08:40.242Z"
   },
   {
    "duration": 9,
    "start_time": "2023-06-06T20:08:40.249Z"
   },
   {
    "duration": 69319,
    "start_time": "2023-06-06T20:08:40.259Z"
   },
   {
    "duration": 8,
    "start_time": "2023-06-06T20:09:49.579Z"
   },
   {
    "duration": 5,
    "start_time": "2023-06-06T20:09:49.588Z"
   },
   {
    "duration": 67,
    "start_time": "2023-06-06T20:09:49.595Z"
   },
   {
    "duration": 117,
    "start_time": "2023-06-06T20:10:32.182Z"
   },
   {
    "duration": 1942,
    "start_time": "2023-06-06T20:14:05.894Z"
   },
   {
    "duration": 861,
    "start_time": "2023-06-06T20:14:07.837Z"
   },
   {
    "duration": 17,
    "start_time": "2023-06-06T20:14:08.699Z"
   },
   {
    "duration": 5,
    "start_time": "2023-06-06T20:14:08.718Z"
   },
   {
    "duration": 47,
    "start_time": "2023-06-06T20:14:08.725Z"
   },
   {
    "duration": 8,
    "start_time": "2023-06-06T20:14:08.773Z"
   },
   {
    "duration": 7,
    "start_time": "2023-06-06T20:14:08.782Z"
   },
   {
    "duration": 231,
    "start_time": "2023-06-06T20:14:08.790Z"
   },
   {
    "duration": 15,
    "start_time": "2023-06-06T20:14:09.022Z"
   },
   {
    "duration": 6,
    "start_time": "2023-06-06T20:14:09.038Z"
   },
   {
    "duration": 5,
    "start_time": "2023-06-06T20:14:09.045Z"
   },
   {
    "duration": 5,
    "start_time": "2023-06-06T20:14:09.052Z"
   },
   {
    "duration": 6,
    "start_time": "2023-06-06T20:14:09.059Z"
   },
   {
    "duration": 10,
    "start_time": "2023-06-06T20:14:09.067Z"
   },
   {
    "duration": 67101,
    "start_time": "2023-06-06T20:14:09.078Z"
   },
   {
    "duration": 7,
    "start_time": "2023-06-06T20:15:16.181Z"
   },
   {
    "duration": 2,
    "start_time": "2023-06-06T20:15:22.822Z"
   },
   {
    "duration": 58,
    "start_time": "2023-06-06T20:15:24.829Z"
   },
   {
    "duration": 4,
    "start_time": "2023-06-06T20:15:27.234Z"
   },
   {
    "duration": 33654,
    "start_time": "2023-06-06T20:15:30.890Z"
   },
   {
    "duration": 33955,
    "start_time": "2023-06-06T20:16:13.309Z"
   },
   {
    "duration": 1446,
    "start_time": "2023-06-06T20:18:12.482Z"
   },
   {
    "duration": 2291,
    "start_time": "2023-06-06T20:18:13.929Z"
   },
   {
    "duration": 12,
    "start_time": "2023-06-06T20:18:16.221Z"
   },
   {
    "duration": 4,
    "start_time": "2023-06-06T20:18:16.234Z"
   },
   {
    "duration": 26,
    "start_time": "2023-06-06T20:18:16.239Z"
   },
   {
    "duration": 8,
    "start_time": "2023-06-06T20:18:16.267Z"
   },
   {
    "duration": 7,
    "start_time": "2023-06-06T20:18:16.277Z"
   },
   {
    "duration": 258,
    "start_time": "2023-06-06T20:18:16.285Z"
   },
   {
    "duration": 15,
    "start_time": "2023-06-06T20:18:16.544Z"
   },
   {
    "duration": 6,
    "start_time": "2023-06-06T20:18:16.561Z"
   },
   {
    "duration": 8,
    "start_time": "2023-06-06T20:18:16.568Z"
   },
   {
    "duration": 5,
    "start_time": "2023-06-06T20:18:16.577Z"
   },
   {
    "duration": 4,
    "start_time": "2023-06-06T20:18:16.583Z"
   },
   {
    "duration": 30,
    "start_time": "2023-06-06T20:18:16.588Z"
   },
   {
    "duration": 65929,
    "start_time": "2023-06-06T20:18:16.619Z"
   },
   {
    "duration": 8,
    "start_time": "2023-06-06T20:19:22.550Z"
   },
   {
    "duration": 8,
    "start_time": "2023-06-06T20:19:22.560Z"
   },
   {
    "duration": 58,
    "start_time": "2023-06-06T20:19:22.570Z"
   },
   {
    "duration": 4,
    "start_time": "2023-06-06T20:19:22.629Z"
   },
   {
    "duration": 32187,
    "start_time": "2023-06-06T20:19:22.634Z"
   },
   {
    "duration": 33874,
    "start_time": "2023-06-06T20:19:54.824Z"
   },
   {
    "duration": 1461,
    "start_time": "2023-06-06T20:22:35.071Z"
   },
   {
    "duration": 2307,
    "start_time": "2023-06-06T20:22:36.533Z"
   },
   {
    "duration": 13,
    "start_time": "2023-06-06T20:22:38.841Z"
   },
   {
    "duration": 3,
    "start_time": "2023-06-06T20:22:38.856Z"
   },
   {
    "duration": 27,
    "start_time": "2023-06-06T20:22:38.861Z"
   },
   {
    "duration": 7,
    "start_time": "2023-06-06T20:22:38.890Z"
   },
   {
    "duration": 8,
    "start_time": "2023-06-06T20:22:38.898Z"
   },
   {
    "duration": 238,
    "start_time": "2023-06-06T20:22:38.907Z"
   },
   {
    "duration": 14,
    "start_time": "2023-06-06T20:22:39.146Z"
   },
   {
    "duration": 5,
    "start_time": "2023-06-06T20:22:39.161Z"
   },
   {
    "duration": 5,
    "start_time": "2023-06-06T20:22:39.167Z"
   },
   {
    "duration": 3,
    "start_time": "2023-06-06T20:22:39.174Z"
   },
   {
    "duration": 7,
    "start_time": "2023-06-06T20:22:39.178Z"
   },
   {
    "duration": 28,
    "start_time": "2023-06-06T20:22:39.187Z"
   },
   {
    "duration": 66546,
    "start_time": "2023-06-06T20:22:39.217Z"
   },
   {
    "duration": 7,
    "start_time": "2023-06-06T20:23:45.765Z"
   },
   {
    "duration": 9,
    "start_time": "2023-06-06T20:23:45.773Z"
   },
   {
    "duration": 74,
    "start_time": "2023-06-06T20:23:45.784Z"
   },
   {
    "duration": 8,
    "start_time": "2023-06-06T20:23:45.860Z"
   },
   {
    "duration": 32441,
    "start_time": "2023-06-06T20:23:45.869Z"
   },
   {
    "duration": 33056,
    "start_time": "2023-06-06T20:24:18.315Z"
   },
   {
    "duration": 1404,
    "start_time": "2023-06-06T20:25:34.042Z"
   },
   {
    "duration": 2320,
    "start_time": "2023-06-06T20:25:35.448Z"
   },
   {
    "duration": 13,
    "start_time": "2023-06-06T20:25:37.769Z"
   },
   {
    "duration": 6,
    "start_time": "2023-06-06T20:25:37.784Z"
   },
   {
    "duration": 29,
    "start_time": "2023-06-06T20:25:37.791Z"
   },
   {
    "duration": 8,
    "start_time": "2023-06-06T20:25:37.822Z"
   },
   {
    "duration": 13,
    "start_time": "2023-06-06T20:25:37.831Z"
   },
   {
    "duration": 253,
    "start_time": "2023-06-06T20:25:37.845Z"
   },
   {
    "duration": 22,
    "start_time": "2023-06-06T20:25:38.102Z"
   },
   {
    "duration": 7,
    "start_time": "2023-06-06T20:25:38.128Z"
   },
   {
    "duration": 4,
    "start_time": "2023-06-06T20:25:38.137Z"
   },
   {
    "duration": 7,
    "start_time": "2023-06-06T20:25:38.143Z"
   },
   {
    "duration": 8,
    "start_time": "2023-06-06T20:25:38.152Z"
   },
   {
    "duration": 10,
    "start_time": "2023-06-06T20:25:38.162Z"
   },
   {
    "duration": 66536,
    "start_time": "2023-06-06T20:25:38.173Z"
   },
   {
    "duration": 8,
    "start_time": "2023-06-06T20:26:44.710Z"
   },
   {
    "duration": 5,
    "start_time": "2023-06-06T20:26:44.720Z"
   },
   {
    "duration": 50,
    "start_time": "2023-06-06T20:26:44.726Z"
   },
   {
    "duration": 3,
    "start_time": "2023-06-06T20:26:44.778Z"
   },
   {
    "duration": 32258,
    "start_time": "2023-06-06T20:26:44.783Z"
   },
   {
    "duration": 32741,
    "start_time": "2023-06-06T20:27:17.042Z"
   },
   {
    "duration": 4951,
    "start_time": "2023-06-07T16:51:29.176Z"
   },
   {
    "duration": 4096,
    "start_time": "2023-06-07T16:51:34.129Z"
   },
   {
    "duration": 15,
    "start_time": "2023-06-07T16:51:38.228Z"
   },
   {
    "duration": 57,
    "start_time": "2023-06-07T16:51:38.245Z"
   },
   {
    "duration": 39,
    "start_time": "2023-06-07T16:51:38.305Z"
   },
   {
    "duration": 53,
    "start_time": "2023-06-07T16:51:38.345Z"
   },
   {
    "duration": 13,
    "start_time": "2023-06-07T16:51:38.400Z"
   },
   {
    "duration": 784,
    "start_time": "2023-06-07T16:51:38.415Z"
   },
   {
    "duration": 26,
    "start_time": "2023-06-07T16:51:39.203Z"
   },
   {
    "duration": 9,
    "start_time": "2023-06-07T16:51:39.231Z"
   },
   {
    "duration": 67,
    "start_time": "2023-06-07T16:51:39.242Z"
   },
   {
    "duration": 17,
    "start_time": "2023-06-07T16:51:39.312Z"
   },
   {
    "duration": 55,
    "start_time": "2023-06-07T16:51:39.331Z"
   },
   {
    "duration": 44,
    "start_time": "2023-06-07T16:51:39.392Z"
   },
   {
    "duration": 115163,
    "start_time": "2023-06-07T16:51:39.438Z"
   },
   {
    "duration": 7,
    "start_time": "2023-06-07T16:53:34.603Z"
   },
   {
    "duration": 23,
    "start_time": "2023-06-07T16:53:34.612Z"
   },
   {
    "duration": 157,
    "start_time": "2023-06-07T16:53:34.637Z"
   },
   {
    "duration": 4,
    "start_time": "2023-06-07T16:53:34.796Z"
   },
   {
    "duration": 52358,
    "start_time": "2023-06-07T16:53:34.802Z"
   },
   {
    "duration": 60664,
    "start_time": "2023-06-07T16:54:27.163Z"
   },
   {
    "duration": 2571,
    "start_time": "2023-06-07T17:44:59.271Z"
   },
   {
    "duration": 3485,
    "start_time": "2023-06-07T17:45:04.884Z"
   },
   {
    "duration": 14,
    "start_time": "2023-06-07T17:45:09.711Z"
   },
   {
    "duration": 5,
    "start_time": "2023-06-07T17:45:12.512Z"
   },
   {
    "duration": 36,
    "start_time": "2023-06-07T17:45:14.615Z"
   },
   {
    "duration": 11,
    "start_time": "2023-06-07T17:45:16.936Z"
   },
   {
    "duration": 10,
    "start_time": "2023-06-07T17:45:18.384Z"
   },
   {
    "duration": 389,
    "start_time": "2023-06-07T17:45:20.463Z"
   },
   {
    "duration": 23,
    "start_time": "2023-06-07T17:45:23.276Z"
   },
   {
    "duration": 10,
    "start_time": "2023-06-07T17:45:25.709Z"
   },
   {
    "duration": 6,
    "start_time": "2023-06-07T17:45:28.501Z"
   },
   {
    "duration": 3,
    "start_time": "2023-06-07T17:45:29.991Z"
   },
   {
    "duration": 6,
    "start_time": "2023-06-07T17:45:32.456Z"
   },
   {
    "duration": 8,
    "start_time": "2023-06-07T17:45:34.816Z"
   },
   {
    "duration": 101183,
    "start_time": "2023-06-07T17:45:36.377Z"
   },
   {
    "duration": 11,
    "start_time": "2023-06-07T17:47:26.990Z"
   },
   {
    "duration": 10,
    "start_time": "2023-06-07T17:47:29.384Z"
   },
   {
    "duration": 101,
    "start_time": "2023-06-07T17:47:31.464Z"
   },
   {
    "duration": 6,
    "start_time": "2023-06-07T17:47:33.599Z"
   },
   {
    "duration": 53787,
    "start_time": "2023-06-07T17:47:49.291Z"
   },
   {
    "duration": 154944,
    "start_time": "2023-06-07T17:48:49.545Z"
   },
   {
    "duration": 151712,
    "start_time": "2023-06-07T17:51:50.957Z"
   },
   {
    "duration": 4,
    "start_time": "2023-06-07T17:55:03.217Z"
   },
   {
    "duration": 166,
    "start_time": "2023-06-07T17:56:21.609Z"
   },
   {
    "duration": 80,
    "start_time": "2023-06-07T17:56:53.077Z"
   },
   {
    "duration": 16,
    "start_time": "2023-06-07T17:56:58.120Z"
   },
   {
    "duration": 9,
    "start_time": "2023-06-07T17:57:14.418Z"
   },
   {
    "duration": 14,
    "start_time": "2023-06-07T17:57:20.922Z"
   },
   {
    "duration": 2127,
    "start_time": "2023-06-09T16:55:36.896Z"
   },
   {
    "duration": 2319,
    "start_time": "2023-06-09T16:55:45.988Z"
   },
   {
    "duration": 12,
    "start_time": "2023-06-09T16:55:55.060Z"
   },
   {
    "duration": 4,
    "start_time": "2023-06-09T16:55:58.761Z"
   },
   {
    "duration": 4,
    "start_time": "2023-06-09T16:57:26.680Z"
   },
   {
    "duration": 23,
    "start_time": "2023-06-09T16:57:29.623Z"
   },
   {
    "duration": 7,
    "start_time": "2023-06-09T17:00:22.949Z"
   },
   {
    "duration": 11,
    "start_time": "2023-06-09T17:00:38.500Z"
   },
   {
    "duration": 5,
    "start_time": "2023-06-09T17:00:56.945Z"
   },
   {
    "duration": 6,
    "start_time": "2023-06-09T17:01:03.984Z"
   },
   {
    "duration": 436,
    "start_time": "2023-06-09T17:01:18.070Z"
   },
   {
    "duration": 14,
    "start_time": "2023-06-09T17:01:25.970Z"
   },
   {
    "duration": 5,
    "start_time": "2023-06-09T17:01:34.869Z"
   },
   {
    "duration": 6,
    "start_time": "2023-06-09T17:01:41.797Z"
   },
   {
    "duration": 2,
    "start_time": "2023-06-09T17:01:44.094Z"
   },
   {
    "duration": 3,
    "start_time": "2023-06-09T17:01:49.733Z"
   },
   {
    "duration": 14,
    "start_time": "2023-06-09T17:01:56.882Z"
   },
   {
    "duration": 7355,
    "start_time": "2023-06-09T17:02:04.649Z"
   },
   {
    "duration": 5,
    "start_time": "2023-06-09T17:02:14.774Z"
   },
   {
    "duration": 2,
    "start_time": "2023-06-09T17:02:18.284Z"
   },
   {
    "duration": 8,
    "start_time": "2023-06-09T17:02:20.294Z"
   },
   {
    "duration": 4,
    "start_time": "2023-06-09T17:02:22.919Z"
   },
   {
    "duration": 2517,
    "start_time": "2023-06-09T17:02:43.200Z"
   },
   {
    "duration": 2504,
    "start_time": "2023-06-09T17:02:49.256Z"
   },
   {
    "duration": 3,
    "start_time": "2023-06-09T17:02:57.538Z"
   },
   {
    "duration": 28503,
    "start_time": "2023-06-09T17:03:00.897Z"
   },
   {
    "duration": 55,
    "start_time": "2023-06-09T18:25:28.811Z"
   },
   {
    "duration": 2691,
    "start_time": "2023-06-09T18:25:48.417Z"
   },
   {
    "duration": 3139,
    "start_time": "2023-06-09T18:25:51.119Z"
   },
   {
    "duration": 19,
    "start_time": "2023-06-09T18:25:54.260Z"
   },
   {
    "duration": 55,
    "start_time": "2023-06-09T18:25:54.281Z"
   },
   {
    "duration": 39,
    "start_time": "2023-06-09T18:25:54.339Z"
   },
   {
    "duration": 32,
    "start_time": "2023-06-09T18:25:54.380Z"
   },
   {
    "duration": 23,
    "start_time": "2023-06-09T18:25:54.421Z"
   },
   {
    "duration": 6,
    "start_time": "2023-06-09T18:25:54.446Z"
   },
   {
    "duration": 11,
    "start_time": "2023-06-09T18:25:54.453Z"
   },
   {
    "duration": 380,
    "start_time": "2023-06-09T18:25:54.465Z"
   },
   {
    "duration": 12,
    "start_time": "2023-06-09T18:25:54.847Z"
   },
   {
    "duration": 18,
    "start_time": "2023-06-09T18:25:54.861Z"
   },
   {
    "duration": 55,
    "start_time": "2023-06-09T18:25:54.881Z"
   },
   {
    "duration": 2,
    "start_time": "2023-06-09T18:25:54.938Z"
   },
   {
    "duration": 5,
    "start_time": "2023-06-09T18:25:54.942Z"
   },
   {
    "duration": 5,
    "start_time": "2023-06-09T18:25:54.949Z"
   },
   {
    "duration": 8839,
    "start_time": "2023-06-09T18:25:54.955Z"
   },
   {
    "duration": 13,
    "start_time": "2023-06-09T18:26:03.796Z"
   },
   {
    "duration": 13,
    "start_time": "2023-06-09T18:26:03.811Z"
   },
   {
    "duration": 12,
    "start_time": "2023-06-09T18:26:03.825Z"
   },
   {
    "duration": 3,
    "start_time": "2023-06-09T18:26:03.839Z"
   },
   {
    "duration": 2986,
    "start_time": "2023-06-09T18:26:03.844Z"
   },
   {
    "duration": 2984,
    "start_time": "2023-06-09T18:26:06.831Z"
   },
   {
    "duration": 4,
    "start_time": "2023-06-09T18:26:09.817Z"
   },
   {
    "duration": 298011,
    "start_time": "2023-06-09T18:26:09.822Z"
   },
   {
    "duration": 12010,
    "start_time": "2023-06-09T19:15:33.927Z"
   },
   {
    "duration": 1451,
    "start_time": "2023-06-09T19:34:37.373Z"
   },
   {
    "duration": 119,
    "start_time": "2023-06-09T19:35:21.910Z"
   },
   {
    "duration": 5,
    "start_time": "2023-06-09T19:35:33.872Z"
   },
   {
    "duration": 927,
    "start_time": "2023-06-09T19:35:33.879Z"
   },
   {
    "duration": 11,
    "start_time": "2023-06-09T19:35:34.811Z"
   },
   {
    "duration": 8,
    "start_time": "2023-06-09T19:35:34.823Z"
   },
   {
    "duration": 27,
    "start_time": "2023-06-09T19:35:34.832Z"
   },
   {
    "duration": 13,
    "start_time": "2023-06-09T19:35:34.860Z"
   },
   {
    "duration": 43,
    "start_time": "2023-06-09T19:35:34.874Z"
   },
   {
    "duration": 12,
    "start_time": "2023-06-09T19:35:34.918Z"
   },
   {
    "duration": 16,
    "start_time": "2023-06-09T19:35:34.931Z"
   },
   {
    "duration": 372,
    "start_time": "2023-06-09T19:35:34.948Z"
   },
   {
    "duration": 9,
    "start_time": "2023-06-09T19:35:35.322Z"
   },
   {
    "duration": 10,
    "start_time": "2023-06-09T19:35:35.332Z"
   },
   {
    "duration": 23,
    "start_time": "2023-06-09T19:35:35.343Z"
   },
   {
    "duration": 10,
    "start_time": "2023-06-09T19:35:35.367Z"
   },
   {
    "duration": 34,
    "start_time": "2023-06-09T19:35:35.379Z"
   },
   {
    "duration": 14,
    "start_time": "2023-06-09T19:35:35.414Z"
   },
   {
    "duration": 8218,
    "start_time": "2023-06-09T19:35:35.429Z"
   },
   {
    "duration": 5,
    "start_time": "2023-06-09T19:35:43.649Z"
   },
   {
    "duration": 15,
    "start_time": "2023-06-09T19:35:43.656Z"
   },
   {
    "duration": 34,
    "start_time": "2023-06-09T19:35:43.672Z"
   },
   {
    "duration": 20,
    "start_time": "2023-06-09T19:35:43.708Z"
   },
   {
    "duration": 3004,
    "start_time": "2023-06-09T19:35:43.730Z"
   },
   {
    "duration": 3147,
    "start_time": "2023-06-09T19:35:46.736Z"
   },
   {
    "duration": 5,
    "start_time": "2023-06-09T19:36:16.118Z"
   },
   {
    "duration": 2,
    "start_time": "2023-06-09T19:36:43.525Z"
   },
   {
    "duration": 3,
    "start_time": "2023-06-09T19:36:54.752Z"
   },
   {
    "duration": 1529,
    "start_time": "2023-06-09T19:38:12.713Z"
   },
   {
    "duration": 907,
    "start_time": "2023-06-09T19:38:14.244Z"
   },
   {
    "duration": 11,
    "start_time": "2023-06-09T19:38:15.152Z"
   },
   {
    "duration": 5,
    "start_time": "2023-06-09T19:38:15.165Z"
   },
   {
    "duration": 90,
    "start_time": "2023-06-09T19:38:15.172Z"
   },
   {
    "duration": 10,
    "start_time": "2023-06-09T19:38:15.263Z"
   },
   {
    "duration": 40,
    "start_time": "2023-06-09T19:38:15.274Z"
   },
   {
    "duration": 13,
    "start_time": "2023-06-09T19:38:15.316Z"
   },
   {
    "duration": 12,
    "start_time": "2023-06-09T19:38:15.330Z"
   },
   {
    "duration": 326,
    "start_time": "2023-06-09T19:38:15.344Z"
   },
   {
    "duration": 10,
    "start_time": "2023-06-09T19:38:15.672Z"
   },
   {
    "duration": 49,
    "start_time": "2023-06-09T19:38:15.684Z"
   },
   {
    "duration": 10,
    "start_time": "2023-06-09T19:38:15.734Z"
   },
   {
    "duration": 7,
    "start_time": "2023-06-09T19:38:15.746Z"
   },
   {
    "duration": 11,
    "start_time": "2023-06-09T19:38:15.755Z"
   },
   {
    "duration": 50,
    "start_time": "2023-06-09T19:38:15.767Z"
   },
   {
    "duration": 8447,
    "start_time": "2023-06-09T19:38:15.818Z"
   },
   {
    "duration": 8,
    "start_time": "2023-06-09T19:38:24.267Z"
   },
   {
    "duration": 17,
    "start_time": "2023-06-09T19:38:24.299Z"
   },
   {
    "duration": 15,
    "start_time": "2023-06-09T19:38:24.317Z"
   },
   {
    "duration": 3,
    "start_time": "2023-06-09T19:38:24.333Z"
   },
   {
    "duration": 3213,
    "start_time": "2023-06-09T19:38:24.337Z"
   },
   {
    "duration": 3477,
    "start_time": "2023-06-09T19:38:27.552Z"
   },
   {
    "duration": 3,
    "start_time": "2023-06-09T19:38:31.030Z"
   },
   {
    "duration": 75,
    "start_time": "2023-06-09T19:38:31.034Z"
   },
   {
    "duration": 10508,
    "start_time": "2023-06-09T19:41:07.417Z"
   },
   {
    "duration": 49641,
    "start_time": "2023-06-09T19:41:25.171Z"
   },
   {
    "duration": 27829,
    "start_time": "2023-06-09T20:07:09.561Z"
   },
   {
    "duration": 789,
    "start_time": "2023-06-09T20:07:40.916Z"
   },
   {
    "duration": 13,
    "start_time": "2023-06-09T20:07:43.344Z"
   },
   {
    "duration": 4,
    "start_time": "2023-06-09T20:07:45.814Z"
   },
   {
    "duration": 27,
    "start_time": "2023-06-09T20:07:47.955Z"
   },
   {
    "duration": 8,
    "start_time": "2023-06-09T20:07:50.199Z"
   },
   {
    "duration": 13,
    "start_time": "2023-06-09T20:07:52.557Z"
   },
   {
    "duration": 5,
    "start_time": "2023-06-09T20:07:54.858Z"
   },
   {
    "duration": 7,
    "start_time": "2023-06-09T20:07:56.470Z"
   },
   {
    "duration": 351,
    "start_time": "2023-06-09T20:08:05.664Z"
   },
   {
    "duration": 10,
    "start_time": "2023-06-09T20:08:07.971Z"
   },
   {
    "duration": 5,
    "start_time": "2023-06-09T20:08:11.142Z"
   },
   {
    "duration": 9057,
    "start_time": "2023-06-09T20:16:46.411Z"
   },
   {
    "duration": 3,
    "start_time": "2023-06-09T20:17:27.935Z"
   },
   {
    "duration": 454,
    "start_time": "2023-06-09T20:18:50.664Z"
   },
   {
    "duration": 31,
    "start_time": "2023-06-09T20:25:40.980Z"
   },
   {
    "duration": 324,
    "start_time": "2023-06-09T20:25:49.447Z"
   },
   {
    "duration": 7,
    "start_time": "2023-06-09T20:25:51.984Z"
   },
   {
    "duration": 156,
    "start_time": "2023-06-09T20:26:23.446Z"
   },
   {
    "duration": 7,
    "start_time": "2023-06-09T20:26:25.220Z"
   },
   {
    "duration": 176,
    "start_time": "2023-06-09T20:27:44.171Z"
   },
   {
    "duration": 260,
    "start_time": "2023-06-09T20:28:46.584Z"
   },
   {
    "duration": 201,
    "start_time": "2023-06-09T20:38:37.771Z"
   },
   {
    "duration": 2,
    "start_time": "2023-06-09T20:39:50.132Z"
   },
   {
    "duration": 3,
    "start_time": "2023-06-09T20:39:52.320Z"
   },
   {
    "duration": 3,
    "start_time": "2023-06-09T20:40:01.413Z"
   },
   {
    "duration": 39,
    "start_time": "2023-06-09T20:40:04.397Z"
   },
   {
    "duration": 339,
    "start_time": "2023-06-09T20:41:13.151Z"
   },
   {
    "duration": 395,
    "start_time": "2023-06-09T20:41:18.187Z"
   },
   {
    "duration": 6,
    "start_time": "2023-06-09T20:41:35.873Z"
   },
   {
    "duration": 385,
    "start_time": "2023-06-09T20:41:46.586Z"
   },
   {
    "duration": 3,
    "start_time": "2023-06-09T20:43:10.823Z"
   },
   {
    "duration": 13558,
    "start_time": "2023-06-09T20:43:12.940Z"
   },
   {
    "duration": 12758,
    "start_time": "2023-06-09T20:43:50.523Z"
   },
   {
    "duration": 7,
    "start_time": "2023-06-09T20:44:30.847Z"
   },
   {
    "duration": 1466,
    "start_time": "2023-06-09T20:46:31.723Z"
   },
   {
    "duration": 781,
    "start_time": "2023-06-09T20:46:33.191Z"
   },
   {
    "duration": 13,
    "start_time": "2023-06-09T20:46:33.973Z"
   },
   {
    "duration": 14,
    "start_time": "2023-06-09T20:46:33.988Z"
   },
   {
    "duration": 30,
    "start_time": "2023-06-09T20:46:34.003Z"
   },
   {
    "duration": 10,
    "start_time": "2023-06-09T20:46:34.035Z"
   },
   {
    "duration": 13,
    "start_time": "2023-06-09T20:46:34.046Z"
   },
   {
    "duration": 15,
    "start_time": "2023-06-09T20:46:34.060Z"
   },
   {
    "duration": 16,
    "start_time": "2023-06-09T20:46:34.077Z"
   },
   {
    "duration": 288,
    "start_time": "2023-06-09T20:46:34.095Z"
   },
   {
    "duration": 11,
    "start_time": "2023-06-09T20:46:34.385Z"
   },
   {
    "duration": 25,
    "start_time": "2023-06-09T20:46:34.397Z"
   },
   {
    "duration": 12,
    "start_time": "2023-06-09T20:46:34.423Z"
   },
   {
    "duration": 7,
    "start_time": "2023-06-09T20:46:34.437Z"
   },
   {
    "duration": 5,
    "start_time": "2023-06-09T20:46:34.445Z"
   },
   {
    "duration": 1364,
    "start_time": "2023-06-09T20:46:34.451Z"
   },
   {
    "duration": 7952,
    "start_time": "2023-06-09T20:46:47.097Z"
   },
   {
    "duration": 8,
    "start_time": "2023-06-09T20:46:57.535Z"
   },
   {
    "duration": 3,
    "start_time": "2023-06-09T20:48:28.528Z"
   },
   {
    "duration": 9,
    "start_time": "2023-06-09T20:48:32.015Z"
   },
   {
    "duration": 4,
    "start_time": "2023-06-09T20:48:34.099Z"
   },
   {
    "duration": 10,
    "start_time": "2023-06-09T20:49:30.252Z"
   },
   {
    "duration": 478,
    "start_time": "2023-06-09T20:49:38.147Z"
   },
   {
    "duration": 12,
    "start_time": "2023-06-09T20:50:32.619Z"
   },
   {
    "duration": 1510,
    "start_time": "2023-06-09T20:52:01.272Z"
   },
   {
    "duration": 797,
    "start_time": "2023-06-09T20:52:02.784Z"
   },
   {
    "duration": 11,
    "start_time": "2023-06-09T20:52:03.582Z"
   },
   {
    "duration": 24,
    "start_time": "2023-06-09T20:52:03.595Z"
   },
   {
    "duration": 57,
    "start_time": "2023-06-09T20:52:03.621Z"
   },
   {
    "duration": 10,
    "start_time": "2023-06-09T20:52:03.680Z"
   },
   {
    "duration": 18,
    "start_time": "2023-06-09T20:52:03.692Z"
   },
   {
    "duration": 19,
    "start_time": "2023-06-09T20:52:03.712Z"
   },
   {
    "duration": 12,
    "start_time": "2023-06-09T20:52:03.732Z"
   },
   {
    "duration": 304,
    "start_time": "2023-06-09T20:52:03.746Z"
   },
   {
    "duration": 9,
    "start_time": "2023-06-09T20:52:04.051Z"
   },
   {
    "duration": 20,
    "start_time": "2023-06-09T20:52:04.061Z"
   },
   {
    "duration": 23,
    "start_time": "2023-06-09T20:52:04.083Z"
   },
   {
    "duration": 6,
    "start_time": "2023-06-09T20:52:04.107Z"
   },
   {
    "duration": 5,
    "start_time": "2023-06-09T20:52:04.115Z"
   },
   {
    "duration": 8173,
    "start_time": "2023-06-09T20:52:04.121Z"
   },
   {
    "duration": 7,
    "start_time": "2023-06-09T20:52:12.295Z"
   },
   {
    "duration": 23,
    "start_time": "2023-06-09T20:52:12.303Z"
   },
   {
    "duration": 32,
    "start_time": "2023-06-09T20:52:12.328Z"
   },
   {
    "duration": 8,
    "start_time": "2023-06-09T20:52:12.361Z"
   },
   {
    "duration": 582,
    "start_time": "2023-06-09T20:52:18.431Z"
   },
   {
    "duration": 465,
    "start_time": "2023-06-09T20:52:29.342Z"
   },
   {
    "duration": 110,
    "start_time": "2023-06-09T20:52:33.852Z"
   },
   {
    "duration": 3,
    "start_time": "2023-06-09T20:52:56.207Z"
   },
   {
    "duration": 4,
    "start_time": "2023-06-09T20:53:02.016Z"
   },
   {
    "duration": 142347,
    "start_time": "2023-06-09T20:53:43.839Z"
   },
   {
    "duration": 9,
    "start_time": "2023-06-09T20:57:14.325Z"
   },
   {
    "duration": 14542,
    "start_time": "2023-06-09T20:57:30.952Z"
   },
   {
    "duration": 75,
    "start_time": "2023-06-09T20:59:43.876Z"
   },
   {
    "duration": 76,
    "start_time": "2023-06-09T20:59:54.383Z"
   },
   {
    "duration": 4881,
    "start_time": "2023-06-09T21:00:09.008Z"
   },
   {
    "duration": 12524,
    "start_time": "2023-06-09T21:00:40.869Z"
   },
   {
    "duration": 13,
    "start_time": "2023-06-09T21:01:22.238Z"
   },
   {
    "duration": 14086,
    "start_time": "2023-06-09T21:01:27.299Z"
   },
   {
    "duration": 5688,
    "start_time": "2023-06-09T21:02:05.202Z"
   },
   {
    "duration": 10,
    "start_time": "2023-06-09T21:02:40.023Z"
   },
   {
    "duration": 1446,
    "start_time": "2023-06-11T18:41:08.349Z"
   },
   {
    "duration": 3256,
    "start_time": "2023-06-11T18:41:12.979Z"
   },
   {
    "duration": 18,
    "start_time": "2023-06-11T18:41:22.659Z"
   },
   {
    "duration": 4,
    "start_time": "2023-06-11T18:41:28.638Z"
   },
   {
    "duration": 30,
    "start_time": "2023-06-11T18:41:31.438Z"
   },
   {
    "duration": 14,
    "start_time": "2023-06-11T18:42:05.508Z"
   },
   {
    "duration": 6,
    "start_time": "2023-06-11T18:42:10.268Z"
   },
   {
    "duration": 439,
    "start_time": "2023-06-11T18:42:17.828Z"
   },
   {
    "duration": 15,
    "start_time": "2023-06-11T18:42:23.988Z"
   },
   {
    "duration": 6,
    "start_time": "2023-06-11T18:42:30.468Z"
   },
   {
    "duration": 3,
    "start_time": "2023-06-11T18:42:34.818Z"
   },
   {
    "duration": 3,
    "start_time": "2023-06-11T18:42:37.579Z"
   },
   {
    "duration": 3,
    "start_time": "2023-06-11T18:42:40.609Z"
   },
   {
    "duration": 74010,
    "start_time": "2023-06-11T18:42:54.519Z"
   },
   {
    "duration": 7,
    "start_time": "2023-06-11T18:44:11.388Z"
   },
   {
    "duration": 110,
    "start_time": "2023-06-11T18:45:08.327Z"
   },
   {
    "duration": 3,
    "start_time": "2023-06-11T18:54:02.918Z"
   },
   {
    "duration": 217,
    "start_time": "2023-06-11T18:54:06.628Z"
   },
   {
    "duration": 1406,
    "start_time": "2023-06-11T19:29:12.735Z"
   },
   {
    "duration": 709,
    "start_time": "2023-06-11T19:29:18.626Z"
   },
   {
    "duration": 12,
    "start_time": "2023-06-11T19:29:22.795Z"
   },
   {
    "duration": 3,
    "start_time": "2023-06-11T19:29:26.096Z"
   },
   {
    "duration": 27,
    "start_time": "2023-06-11T19:29:29.515Z"
   },
   {
    "duration": 10,
    "start_time": "2023-06-11T19:29:34.905Z"
   },
   {
    "duration": 6,
    "start_time": "2023-06-11T19:29:37.115Z"
   },
   {
    "duration": 311,
    "start_time": "2023-06-11T19:29:55.655Z"
   },
   {
    "duration": 16,
    "start_time": "2023-06-11T19:29:59.845Z"
   },
   {
    "duration": 14,
    "start_time": "2023-06-11T19:30:09.715Z"
   },
   {
    "duration": 6,
    "start_time": "2023-06-11T19:30:13.605Z"
   },
   {
    "duration": 2,
    "start_time": "2023-06-11T19:30:16.835Z"
   },
   {
    "duration": 4,
    "start_time": "2023-06-11T19:30:19.614Z"
   },
   {
    "duration": 3,
    "start_time": "2023-06-11T19:30:22.095Z"
   },
   {
    "duration": 321,
    "start_time": "2023-06-11T19:30:26.035Z"
   },
   {
    "duration": 2,
    "start_time": "2023-06-11T19:30:35.825Z"
   },
   {
    "duration": 74520,
    "start_time": "2023-06-11T19:30:37.388Z"
   },
   {
    "duration": 9,
    "start_time": "2023-06-11T19:32:03.883Z"
   },
   {
    "duration": 8,
    "start_time": "2023-06-11T19:32:15.547Z"
   },
   {
    "duration": 3,
    "start_time": "2023-06-11T19:32:44.596Z"
   },
   {
    "duration": 55,
    "start_time": "2023-06-11T19:33:10.671Z"
   },
   {
    "duration": 4,
    "start_time": "2023-06-11T19:33:13.705Z"
   },
   {
    "duration": 4904,
    "start_time": "2023-06-11T19:33:18.988Z"
   },
   {
    "duration": 1100,
    "start_time": "2023-06-11T19:33:27.291Z"
   },
   {
    "duration": 2,
    "start_time": "2023-06-11T19:33:31.288Z"
   },
   {
    "duration": 3,
    "start_time": "2023-06-11T19:33:44.355Z"
   },
   {
    "duration": 114414,
    "start_time": "2023-06-11T19:34:03.005Z"
   },
   {
    "duration": 2515,
    "start_time": "2023-06-12T13:50:56.556Z"
   },
   {
    "duration": 3349,
    "start_time": "2023-06-12T13:52:43.092Z"
   },
   {
    "duration": 17,
    "start_time": "2023-06-12T13:52:50.907Z"
   },
   {
    "duration": 5,
    "start_time": "2023-06-12T13:52:54.526Z"
   },
   {
    "duration": 33,
    "start_time": "2023-06-12T13:52:57.102Z"
   },
   {
    "duration": 11,
    "start_time": "2023-06-12T13:52:59.704Z"
   },
   {
    "duration": 8,
    "start_time": "2023-06-12T13:53:01.761Z"
   },
   {
    "duration": 527,
    "start_time": "2023-06-12T13:53:04.825Z"
   },
   {
    "duration": 23,
    "start_time": "2023-06-12T13:53:08.312Z"
   },
   {
    "duration": 6,
    "start_time": "2023-06-12T13:53:11.006Z"
   },
   {
    "duration": 3,
    "start_time": "2023-06-12T13:53:14.258Z"
   },
   {
    "duration": 5,
    "start_time": "2023-06-12T13:56:35.972Z"
   },
   {
    "duration": 3,
    "start_time": "2023-06-12T13:56:39.480Z"
   },
   {
    "duration": 375,
    "start_time": "2023-06-12T13:56:41.976Z"
   },
   {
    "duration": 4,
    "start_time": "2023-06-12T13:56:59.348Z"
   },
   {
    "duration": 3,
    "start_time": "2023-06-12T13:57:01.272Z"
   },
   {
    "duration": 248,
    "start_time": "2023-06-12T13:57:02.947Z"
   },
   {
    "duration": 3,
    "start_time": "2023-06-12T13:59:14.816Z"
   },
   {
    "duration": 3,
    "start_time": "2023-06-12T13:59:16.562Z"
   },
   {
    "duration": 71109,
    "start_time": "2023-06-12T13:59:18.378Z"
   },
   {
    "duration": 9,
    "start_time": "2023-06-12T14:01:06.281Z"
   },
   {
    "duration": 3,
    "start_time": "2023-06-12T14:01:19.095Z"
   },
   {
    "duration": 1657,
    "start_time": "2023-06-12T14:01:37.594Z"
   },
   {
    "duration": 902,
    "start_time": "2023-06-12T14:01:39.253Z"
   },
   {
    "duration": 15,
    "start_time": "2023-06-12T14:01:40.157Z"
   },
   {
    "duration": 10,
    "start_time": "2023-06-12T14:01:40.175Z"
   },
   {
    "duration": 34,
    "start_time": "2023-06-12T14:01:40.187Z"
   },
   {
    "duration": 34,
    "start_time": "2023-06-12T14:01:40.223Z"
   },
   {
    "duration": 11,
    "start_time": "2023-06-12T14:01:40.260Z"
   },
   {
    "duration": 402,
    "start_time": "2023-06-12T14:01:40.273Z"
   },
   {
    "duration": 19,
    "start_time": "2023-06-12T14:01:40.677Z"
   },
   {
    "duration": 7,
    "start_time": "2023-06-12T14:01:40.699Z"
   },
   {
    "duration": 3,
    "start_time": "2023-06-12T14:01:40.708Z"
   },
   {
    "duration": 8,
    "start_time": "2023-06-12T14:01:40.713Z"
   },
   {
    "duration": 35,
    "start_time": "2023-06-12T14:01:40.724Z"
   },
   {
    "duration": 67949,
    "start_time": "2023-06-12T14:01:44.864Z"
   },
   {
    "duration": 8,
    "start_time": "2023-06-12T14:03:00.816Z"
   },
   {
    "duration": 3,
    "start_time": "2023-06-12T14:03:10.960Z"
   },
   {
    "duration": 58,
    "start_time": "2023-06-12T14:03:12.955Z"
   },
   {
    "duration": 3,
    "start_time": "2023-06-12T14:03:15.401Z"
   },
   {
    "duration": 3888,
    "start_time": "2023-06-12T14:03:17.343Z"
   },
   {
    "duration": 882,
    "start_time": "2023-06-12T14:03:24.527Z"
   },
   {
    "duration": 3,
    "start_time": "2023-06-12T14:03:27.969Z"
   },
   {
    "duration": 3,
    "start_time": "2023-06-12T14:03:29.937Z"
   },
   {
    "duration": 86596,
    "start_time": "2023-06-12T14:03:39.677Z"
   },
   {
    "duration": 40125,
    "start_time": "2023-06-12T14:08:30.071Z"
   },
   {
    "duration": 78021,
    "start_time": "2023-06-12T14:09:18.846Z"
   },
   {
    "duration": 4,
    "start_time": "2023-06-12T14:11:34.925Z"
   },
   {
    "duration": 3,
    "start_time": "2023-06-12T14:11:47.583Z"
   },
   {
    "duration": 4,
    "start_time": "2023-06-12T14:17:41.251Z"
   },
   {
    "duration": 123,
    "start_time": "2023-06-12T14:18:11.749Z"
   },
   {
    "duration": 2307,
    "start_time": "2023-06-12T16:49:10.446Z"
   },
   {
    "duration": 5837,
    "start_time": "2023-06-12T16:49:16.749Z"
   },
   {
    "duration": 18,
    "start_time": "2023-06-12T16:49:24.478Z"
   },
   {
    "duration": 5,
    "start_time": "2023-06-12T16:49:26.891Z"
   },
   {
    "duration": 66,
    "start_time": "2023-06-12T16:49:29.091Z"
   },
   {
    "duration": 28,
    "start_time": "2023-06-12T16:49:37.144Z"
   },
   {
    "duration": 11,
    "start_time": "2023-06-12T16:49:38.996Z"
   },
   {
    "duration": 739,
    "start_time": "2023-06-12T16:49:41.415Z"
   },
   {
    "duration": 27,
    "start_time": "2023-06-12T16:49:44.371Z"
   },
   {
    "duration": 10,
    "start_time": "2023-06-12T16:49:46.875Z"
   },
   {
    "duration": 11,
    "start_time": "2023-06-12T16:49:49.563Z"
   },
   {
    "duration": 9,
    "start_time": "2023-06-12T16:49:53.289Z"
   },
   {
    "duration": 4,
    "start_time": "2023-06-12T16:49:55.509Z"
   },
   {
    "duration": 117640,
    "start_time": "2023-06-12T16:49:57.241Z"
   },
   {
    "duration": 8,
    "start_time": "2023-06-12T16:52:14.504Z"
   },
   {
    "duration": 9,
    "start_time": "2023-06-12T16:52:34.992Z"
   },
   {
    "duration": 4,
    "start_time": "2023-06-12T16:52:47.704Z"
   },
   {
    "duration": 138,
    "start_time": "2023-06-12T16:52:50.158Z"
   },
   {
    "duration": 5,
    "start_time": "2023-06-12T16:52:51.789Z"
   },
   {
    "duration": 6838,
    "start_time": "2023-06-12T16:52:56.615Z"
   },
   {
    "duration": 1517,
    "start_time": "2023-06-12T16:53:06.106Z"
   },
   {
    "duration": 3,
    "start_time": "2023-06-12T16:53:11.393Z"
   },
   {
    "duration": 20550,
    "start_time": "2023-06-12T16:53:29.989Z"
   },
   {
    "duration": 1451,
    "start_time": "2023-06-12T16:54:18.122Z"
   },
   {
    "duration": 2402,
    "start_time": "2023-06-12T16:54:33.989Z"
   },
   {
    "duration": 107,
    "start_time": "2023-06-12T16:55:20.292Z"
   },
   {
    "duration": 273,
    "start_time": "2023-06-12T16:55:37.414Z"
   },
   {
    "duration": 1503,
    "start_time": "2023-06-12T16:55:51.195Z"
   },
   {
    "duration": 1350,
    "start_time": "2023-06-12T16:55:59.407Z"
   },
   {
    "duration": 1007,
    "start_time": "2023-06-12T16:56:12.094Z"
   },
   {
    "duration": 857,
    "start_time": "2023-06-12T16:56:21.465Z"
   },
   {
    "duration": 1469,
    "start_time": "2023-06-12T16:56:31.372Z"
   },
   {
    "duration": 2991,
    "start_time": "2023-06-12T16:56:58.023Z"
   },
   {
    "duration": 2300,
    "start_time": "2023-06-12T16:57:14.210Z"
   },
   {
    "duration": 34325,
    "start_time": "2023-06-12T16:57:32.298Z"
   },
   {
    "duration": 67838,
    "start_time": "2023-06-12T16:58:36.614Z"
   },
   {
    "duration": 1327720,
    "start_time": "2023-06-12T17:01:18.255Z"
   },
   {
    "duration": 50000,
    "start_time": "2023-06-12T17:27:18.143Z"
   },
   {
    "duration": 14,
    "start_time": "2023-06-12T17:28:08.145Z"
   },
   {
    "duration": 8,
    "start_time": "2023-06-12T17:30:42.118Z"
   },
   {
    "duration": 84,
    "start_time": "2023-06-12T17:32:10.589Z"
   },
   {
    "duration": 33568,
    "start_time": "2023-06-12T17:32:26.412Z"
   },
   {
    "duration": 1985,
    "start_time": "2023-06-12T17:33:46.702Z"
   },
   {
    "duration": 15,
    "start_time": "2023-06-12T17:34:12.654Z"
   },
   {
    "duration": 981,
    "start_time": "2023-06-12T17:36:17.634Z"
   },
   {
    "duration": 18,
    "start_time": "2023-06-12T17:41:13.969Z"
   },
   {
    "duration": 1941,
    "start_time": "2023-06-12T17:41:43.288Z"
   },
   {
    "duration": 1096,
    "start_time": "2023-06-12T17:41:53.751Z"
   },
   {
    "duration": 20,
    "start_time": "2023-06-12T17:41:56.352Z"
   },
   {
    "duration": 7,
    "start_time": "2023-06-12T17:41:58.751Z"
   },
   {
    "duration": 43,
    "start_time": "2023-06-12T17:42:00.506Z"
   },
   {
    "duration": 12,
    "start_time": "2023-06-12T17:42:02.797Z"
   },
   {
    "duration": 7,
    "start_time": "2023-06-12T17:42:04.592Z"
   },
   {
    "duration": 399,
    "start_time": "2023-06-12T17:42:06.586Z"
   },
   {
    "duration": 22,
    "start_time": "2023-06-12T17:42:09.288Z"
   },
   {
    "duration": 7,
    "start_time": "2023-06-12T17:42:11.902Z"
   },
   {
    "duration": 3,
    "start_time": "2023-06-12T17:42:14.198Z"
   },
   {
    "duration": 5,
    "start_time": "2023-06-12T17:42:15.912Z"
   },
   {
    "duration": 7,
    "start_time": "2023-06-12T17:42:19.021Z"
   },
   {
    "duration": 92603,
    "start_time": "2023-06-12T17:42:21.202Z"
   },
   {
    "duration": 8,
    "start_time": "2023-06-12T17:43:53.807Z"
   },
   {
    "duration": 3,
    "start_time": "2023-06-12T17:45:28.507Z"
   },
   {
    "duration": 83,
    "start_time": "2023-06-12T17:45:30.420Z"
   },
   {
    "duration": 5,
    "start_time": "2023-06-12T17:45:31.966Z"
   },
   {
    "duration": 5228,
    "start_time": "2023-06-12T17:45:34.155Z"
   },
   {
    "duration": 1303,
    "start_time": "2023-06-12T17:45:39.386Z"
   },
   {
    "duration": 3,
    "start_time": "2023-06-12T17:45:40.691Z"
   },
   {
    "duration": 57628,
    "start_time": "2023-06-12T17:45:59.691Z"
   },
   {
    "duration": 94778,
    "start_time": "2023-06-12T17:49:00.687Z"
   },
   {
    "duration": 10,
    "start_time": "2023-06-12T18:08:06.548Z"
   },
   {
    "duration": 1940,
    "start_time": "2023-06-12T18:08:15.680Z"
   },
   {
    "duration": 1146,
    "start_time": "2023-06-12T18:08:20.258Z"
   },
   {
    "duration": 23,
    "start_time": "2023-06-12T18:08:22.748Z"
   },
   {
    "duration": 5,
    "start_time": "2023-06-12T18:08:24.797Z"
   },
   {
    "duration": 33,
    "start_time": "2023-06-12T18:08:26.557Z"
   },
   {
    "duration": 11,
    "start_time": "2023-06-12T18:08:28.710Z"
   },
   {
    "duration": 7,
    "start_time": "2023-06-12T18:08:30.258Z"
   },
   {
    "duration": 422,
    "start_time": "2023-06-12T18:08:32.562Z"
   },
   {
    "duration": 20,
    "start_time": "2023-06-12T18:08:35.691Z"
   },
   {
    "duration": 13,
    "start_time": "2023-06-12T18:08:38.325Z"
   },
   {
    "duration": 3,
    "start_time": "2023-06-12T18:08:40.763Z"
   },
   {
    "duration": 13,
    "start_time": "2023-06-12T18:08:42.822Z"
   },
   {
    "duration": 4,
    "start_time": "2023-06-12T18:08:44.978Z"
   },
   {
    "duration": 97236,
    "start_time": "2023-06-12T18:08:47.073Z"
   },
   {
    "duration": 15,
    "start_time": "2023-06-12T18:10:54.413Z"
   },
   {
    "duration": 4,
    "start_time": "2023-06-12T18:10:58.581Z"
   },
   {
    "duration": 90,
    "start_time": "2023-06-12T18:11:00.318Z"
   },
   {
    "duration": 7,
    "start_time": "2023-06-12T18:11:02.476Z"
   },
   {
    "duration": 6768,
    "start_time": "2023-06-12T18:11:11.606Z"
   },
   {
    "duration": 1318,
    "start_time": "2023-06-12T18:11:18.376Z"
   },
   {
    "duration": 10,
    "start_time": "2023-06-12T18:11:27.329Z"
   },
   {
    "duration": 4,
    "start_time": "2023-06-12T18:11:30.363Z"
   },
   {
    "duration": 1964,
    "start_time": "2023-06-12T18:12:00.008Z"
   },
   {
    "duration": 1122,
    "start_time": "2023-06-12T18:12:01.974Z"
   },
   {
    "duration": 19,
    "start_time": "2023-06-12T18:12:03.098Z"
   },
   {
    "duration": 19,
    "start_time": "2023-06-12T18:12:03.118Z"
   },
   {
    "duration": 59,
    "start_time": "2023-06-12T18:12:03.139Z"
   },
   {
    "duration": 10,
    "start_time": "2023-06-12T18:12:03.200Z"
   },
   {
    "duration": 24,
    "start_time": "2023-06-12T18:12:03.212Z"
   },
   {
    "duration": 447,
    "start_time": "2023-06-12T18:12:03.238Z"
   },
   {
    "duration": 19,
    "start_time": "2023-06-12T18:12:03.687Z"
   },
   {
    "duration": 6,
    "start_time": "2023-06-12T18:12:03.708Z"
   },
   {
    "duration": 14,
    "start_time": "2023-06-12T18:12:03.716Z"
   },
   {
    "duration": 13,
    "start_time": "2023-06-12T18:12:03.732Z"
   },
   {
    "duration": 15,
    "start_time": "2023-06-12T18:12:03.747Z"
   },
   {
    "duration": 97703,
    "start_time": "2023-06-12T18:12:03.766Z"
   },
   {
    "duration": 11,
    "start_time": "2023-06-12T18:13:41.471Z"
   },
   {
    "duration": 27,
    "start_time": "2023-06-12T18:13:41.485Z"
   },
   {
    "duration": 109,
    "start_time": "2023-06-12T18:13:41.514Z"
   },
   {
    "duration": 18,
    "start_time": "2023-06-12T18:13:41.626Z"
   },
   {
    "duration": 6000,
    "start_time": "2023-06-12T18:13:41.647Z"
   },
   {
    "duration": 1219,
    "start_time": "2023-06-12T18:13:47.652Z"
   },
   {
    "duration": 3,
    "start_time": "2023-06-12T18:13:48.873Z"
   },
   {
    "duration": 55,
    "start_time": "2023-06-12T18:13:48.878Z"
   },
   {
    "duration": 94304,
    "start_time": "2023-06-12T18:14:00.889Z"
   },
   {
    "duration": 2309,
    "start_time": "2023-06-12T18:18:33.973Z"
   },
   {
    "duration": 865415,
    "start_time": "2023-06-12T18:18:39.380Z"
   },
   {
    "duration": 49937,
    "start_time": "2023-06-12T18:33:13.090Z"
   },
   {
    "duration": 51288,
    "start_time": "2023-06-12T18:34:21.021Z"
   },
   {
    "duration": 32,
    "start_time": "2023-06-12T18:35:12.311Z"
   },
   {
    "duration": 1970,
    "start_time": "2023-06-13T18:01:42.802Z"
   },
   {
    "duration": 3797,
    "start_time": "2023-06-13T18:01:48.480Z"
   },
   {
    "duration": 16,
    "start_time": "2023-06-13T18:01:55.186Z"
   },
   {
    "duration": 4,
    "start_time": "2023-06-13T18:01:57.811Z"
   },
   {
    "duration": 35,
    "start_time": "2023-06-13T18:02:00.266Z"
   },
   {
    "duration": 14,
    "start_time": "2023-06-13T18:02:02.883Z"
   },
   {
    "duration": 8,
    "start_time": "2023-06-13T18:02:05.327Z"
   },
   {
    "duration": 547,
    "start_time": "2023-06-13T18:02:07.778Z"
   },
   {
    "duration": 19,
    "start_time": "2023-06-13T18:02:10.537Z"
   },
   {
    "duration": 6,
    "start_time": "2023-06-13T18:02:14.385Z"
   },
   {
    "duration": 5,
    "start_time": "2023-06-13T18:05:39.089Z"
   },
   {
    "duration": 3,
    "start_time": "2023-06-13T18:05:41.328Z"
   },
   {
    "duration": 4,
    "start_time": "2023-06-13T18:05:43.253Z"
   },
   {
    "duration": 4,
    "start_time": "2023-06-13T18:05:45.795Z"
   },
   {
    "duration": 602,
    "start_time": "2023-06-13T18:05:48.803Z"
   },
   {
    "duration": 802,
    "start_time": "2023-06-13T18:06:19.982Z"
   },
   {
    "duration": 431,
    "start_time": "2023-06-13T18:06:26.243Z"
   },
   {
    "duration": 17,
    "start_time": "2023-06-13T18:06:45.555Z"
   },
   {
    "duration": 757136,
    "start_time": "2023-06-13T18:06:50.258Z"
   },
   {
    "duration": 8,
    "start_time": "2023-06-13T18:19:45.923Z"
   },
   {
    "duration": 3,
    "start_time": "2023-06-13T18:27:42.324Z"
   },
   {
    "duration": 87,
    "start_time": "2023-06-13T18:27:44.310Z"
   },
   {
    "duration": 5,
    "start_time": "2023-06-13T18:27:46.919Z"
   },
   {
    "duration": 3,
    "start_time": "2023-06-13T18:31:48.539Z"
   },
   {
    "duration": 1831,
    "start_time": "2023-06-13T18:38:29.137Z"
   },
   {
    "duration": 783,
    "start_time": "2023-06-13T18:38:34.539Z"
   },
   {
    "duration": 14,
    "start_time": "2023-06-13T18:38:36.792Z"
   },
   {
    "duration": 5,
    "start_time": "2023-06-13T18:38:39.664Z"
   },
   {
    "duration": 32,
    "start_time": "2023-06-13T18:38:41.614Z"
   },
   {
    "duration": 13,
    "start_time": "2023-06-13T18:38:44.254Z"
   },
   {
    "duration": 7,
    "start_time": "2023-06-13T18:38:46.148Z"
   },
   {
    "duration": 374,
    "start_time": "2023-06-13T18:38:48.635Z"
   },
   {
    "duration": 18,
    "start_time": "2023-06-13T18:38:51.491Z"
   },
   {
    "duration": 6,
    "start_time": "2023-06-13T18:38:54.328Z"
   },
   {
    "duration": 4,
    "start_time": "2023-06-13T18:38:56.940Z"
   },
   {
    "duration": 3,
    "start_time": "2023-06-13T18:38:59.310Z"
   },
   {
    "duration": 4,
    "start_time": "2023-06-13T18:39:01.221Z"
   },
   {
    "duration": 4,
    "start_time": "2023-06-13T18:39:03.480Z"
   },
   {
    "duration": 721046,
    "start_time": "2023-06-13T18:39:05.793Z"
   },
   {
    "duration": 9,
    "start_time": "2023-06-13T18:53:37.489Z"
   },
   {
    "duration": 3,
    "start_time": "2023-06-13T18:53:43.114Z"
   },
   {
    "duration": 69,
    "start_time": "2023-06-13T18:53:44.849Z"
   },
   {
    "duration": 5,
    "start_time": "2023-06-13T18:53:47.400Z"
   },
   {
    "duration": 4013,
    "start_time": "2023-06-13T18:53:50.016Z"
   },
   {
    "duration": 904,
    "start_time": "2023-06-13T18:53:56.798Z"
   },
   {
    "duration": 4,
    "start_time": "2023-06-13T18:54:10.730Z"
   },
   {
    "duration": 2,
    "start_time": "2023-06-13T18:54:12.896Z"
   },
   {
    "duration": 100050,
    "start_time": "2023-06-13T18:54:14.819Z"
   },
   {
    "duration": 2089,
    "start_time": "2023-06-13T18:56:00.321Z"
   },
   {
    "duration": 532797,
    "start_time": "2023-06-13T18:56:07.090Z"
   },
   {
    "duration": 38481,
    "start_time": "2023-06-13T19:06:09.018Z"
   },
   {
    "duration": 17,
    "start_time": "2023-06-13T19:06:47.501Z"
   }
  ],
  "kernelspec": {
   "display_name": "Python 3 (ipykernel)",
   "language": "python",
   "name": "python3"
  },
  "language_info": {
   "codemirror_mode": {
    "name": "ipython",
    "version": 3
   },
   "file_extension": ".py",
   "mimetype": "text/x-python",
   "name": "python",
   "nbconvert_exporter": "python",
   "pygments_lexer": "ipython3",
   "version": "3.10.9"
  },
  "toc": {
   "base_numbering": 1,
   "nav_menu": {},
   "number_sections": true,
   "sideBar": true,
   "skip_h1_title": true,
   "title_cell": "Содержание",
   "title_sidebar": "Contents",
   "toc_cell": true,
   "toc_position": {
    "height": "calc(100% - 180px)",
    "left": "10px",
    "top": "150px",
    "width": "302.391px"
   },
   "toc_section_display": true,
   "toc_window_display": false
  }
 },
 "nbformat": 4,
 "nbformat_minor": 2
}
