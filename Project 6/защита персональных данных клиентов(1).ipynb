{
 "cells": [
  {
   "cell_type": "markdown",
   "metadata": {
    "toc": true
   },
   "source": [
    "<h1>Содержание<span class=\"tocSkip\"></span></h1>\n",
    "<div class=\"toc\"><ul class=\"toc-item\"><li><span><a href=\"#Загрузка-данных\" data-toc-modified-id=\"Загрузка-данных-1\"><span class=\"toc-item-num\">1&nbsp;&nbsp;</span>Загрузка данных</a></span></li><li><span><a href=\"#Умножение-матриц\" data-toc-modified-id=\"Умножение-матриц-2\"><span class=\"toc-item-num\">2&nbsp;&nbsp;</span>Умножение матриц</a></span></li><li><span><a href=\"#Алгоритм-преобразования\" data-toc-modified-id=\"Алгоритм-преобразования-3\"><span class=\"toc-item-num\">3&nbsp;&nbsp;</span>Алгоритм преобразования</a></span></li><li><span><a href=\"#Проверка-алгоритма\" data-toc-modified-id=\"Проверка-алгоритма-4\"><span class=\"toc-item-num\">4&nbsp;&nbsp;</span>Проверка алгоритма</a></span></li><li><span><a href=\"#Чек-лист-проверки\" data-toc-modified-id=\"Чек-лист-проверки-5\"><span class=\"toc-item-num\">5&nbsp;&nbsp;</span>Чек-лист проверки</a></span></li></ul></div>"
   ]
  },
  {
   "cell_type": "markdown",
   "metadata": {},
   "source": [
    "# Защита персональных данных клиентов"
   ]
  },
  {
   "cell_type": "markdown",
   "metadata": {},
   "source": [
    "Нам нужно защитить данные клиентов страховой компании. Разработаем такой метод преобразования данных, чтобы по ним было сложно восстановить персональную информацию. Обоснуем корректность его работы.\n",
    "\n",
    "Нужно защитить данные, чтобы при преобразовании качество моделей машинного обучения не ухудшилось. Подбирать наилучшую модель не требуется."
   ]
  },
  {
   "cell_type": "markdown",
   "metadata": {},
   "source": [
    "## Загрузка данных"
   ]
  },
  {
   "cell_type": "markdown",
   "metadata": {},
   "source": [
    "Загрузим библиотеки"
   ]
  },
  {
   "cell_type": "code",
   "execution_count": 1,
   "metadata": {},
   "outputs": [
    {
     "name": "stdout",
     "output_type": "stream",
     "text": [
      "Collecting pandas-profiling==2.11\n",
      "  Downloading pandas_profiling-2.11.0-py2.py3-none-any.whl (243 kB)\n",
      "\u001b[K     |████████████████████████████████| 243 kB 1.2 MB/s eta 0:00:01\n",
      "\u001b[?25hRequirement already satisfied: seaborn>=0.10.1 in /opt/conda/lib/python3.9/site-packages (from pandas-profiling==2.11) (0.11.1)\n",
      "Requirement already satisfied: jinja2>=2.11.1 in /opt/conda/lib/python3.9/site-packages (from pandas-profiling==2.11) (3.0.1)\n",
      "Requirement already satisfied: numpy>=1.16.0 in /opt/conda/lib/python3.9/site-packages (from pandas-profiling==2.11) (1.21.1)\n",
      "Requirement already satisfied: ipywidgets>=7.5.1 in /opt/conda/lib/python3.9/site-packages (from pandas-profiling==2.11) (7.6.3)\n",
      "Requirement already satisfied: scipy>=1.4.1 in /opt/conda/lib/python3.9/site-packages (from pandas-profiling==2.11) (1.9.1)\n",
      "Collecting visions[type_image_path]==0.6.0\n",
      "  Downloading visions-0.6.0-py3-none-any.whl (75 kB)\n",
      "\u001b[K     |████████████████████████████████| 75 kB 5.6 MB/s  eta 0:00:01\n",
      "\u001b[?25hRequirement already satisfied: pandas!=1.0.0,!=1.0.1,!=1.0.2,!=1.1.0,>=0.25.3 in /opt/conda/lib/python3.9/site-packages (from pandas-profiling==2.11) (1.2.4)\n",
      "Collecting phik>=0.10.0\n",
      "  Downloading phik-0.12.3-cp39-cp39-manylinux_2_17_x86_64.manylinux2014_x86_64.whl (679 kB)\n",
      "\u001b[K     |████████████████████████████████| 679 kB 15.5 MB/s eta 0:00:01\n",
      "\u001b[?25hRequirement already satisfied: tqdm>=4.48.2 in /opt/conda/lib/python3.9/site-packages (from pandas-profiling==2.11) (4.61.2)\n",
      "Collecting tangled-up-in-unicode>=0.0.6\n",
      "  Downloading tangled_up_in_unicode-0.2.0-py3-none-any.whl (4.7 MB)\n",
      "\u001b[K     |████████████████████████████████| 4.7 MB 58.3 MB/s eta 0:00:01\n",
      "\u001b[?25hRequirement already satisfied: requests>=2.24.0 in /opt/conda/lib/python3.9/site-packages (from pandas-profiling==2.11) (2.25.1)\n",
      "Requirement already satisfied: attrs>=19.3.0 in /opt/conda/lib/python3.9/site-packages (from pandas-profiling==2.11) (21.2.0)\n",
      "Requirement already satisfied: joblib in /opt/conda/lib/python3.9/site-packages (from pandas-profiling==2.11) (1.1.0)\n",
      "Collecting confuse>=1.0.0\n",
      "  Downloading confuse-2.0.1-py3-none-any.whl (24 kB)\n",
      "Collecting htmlmin>=0.1.12\n",
      "  Downloading htmlmin-0.1.12.tar.gz (19 kB)\n",
      "Collecting missingno>=0.4.2\n",
      "  Downloading missingno-0.5.2-py3-none-any.whl (8.7 kB)\n",
      "Requirement already satisfied: matplotlib>=3.2.0 in /opt/conda/lib/python3.9/site-packages (from pandas-profiling==2.11) (3.3.4)\n",
      "Collecting networkx>=2.4\n",
      "  Downloading networkx-3.1-py3-none-any.whl (2.1 MB)\n",
      "\u001b[K     |████████████████████████████████| 2.1 MB 44.2 MB/s eta 0:00:01\n",
      "\u001b[?25hCollecting imagehash\n",
      "  Downloading ImageHash-4.3.1-py2.py3-none-any.whl (296 kB)\n",
      "\u001b[K     |████████████████████████████████| 296 kB 41.4 MB/s eta 0:00:01\n",
      "\u001b[?25hRequirement already satisfied: Pillow in /opt/conda/lib/python3.9/site-packages (from visions[type_image_path]==0.6.0->pandas-profiling==2.11) (8.4.0)\n",
      "Requirement already satisfied: pyyaml in /opt/conda/lib/python3.9/site-packages (from confuse>=1.0.0->pandas-profiling==2.11) (6.0)\n",
      "Requirement already satisfied: nbformat>=4.2.0 in /opt/conda/lib/python3.9/site-packages (from ipywidgets>=7.5.1->pandas-profiling==2.11) (5.1.3)\n",
      "Requirement already satisfied: ipykernel>=4.5.1 in /opt/conda/lib/python3.9/site-packages (from ipywidgets>=7.5.1->pandas-profiling==2.11) (6.0.1)\n",
      "Requirement already satisfied: widgetsnbextension~=3.5.0 in /opt/conda/lib/python3.9/site-packages (from ipywidgets>=7.5.1->pandas-profiling==2.11) (3.5.2)\n",
      "Requirement already satisfied: ipython>=4.0.0 in /opt/conda/lib/python3.9/site-packages (from ipywidgets>=7.5.1->pandas-profiling==2.11) (7.25.0)\n",
      "Requirement already satisfied: traitlets>=4.3.1 in /opt/conda/lib/python3.9/site-packages (from ipywidgets>=7.5.1->pandas-profiling==2.11) (5.0.5)\n",
      "Requirement already satisfied: jupyterlab-widgets>=1.0.0 in /opt/conda/lib/python3.9/site-packages (from ipywidgets>=7.5.1->pandas-profiling==2.11) (3.0.2)\n",
      "Requirement already satisfied: jupyter-client in /opt/conda/lib/python3.9/site-packages (from ipykernel>=4.5.1->ipywidgets>=7.5.1->pandas-profiling==2.11) (6.1.12)\n",
      "Requirement already satisfied: tornado>=4.2 in /opt/conda/lib/python3.9/site-packages (from ipykernel>=4.5.1->ipywidgets>=7.5.1->pandas-profiling==2.11) (6.1)\n",
      "Requirement already satisfied: debugpy>=1.0.0 in /opt/conda/lib/python3.9/site-packages (from ipykernel>=4.5.1->ipywidgets>=7.5.1->pandas-profiling==2.11) (1.3.0)\n",
      "Requirement already satisfied: jedi>=0.16 in /opt/conda/lib/python3.9/site-packages (from ipython>=4.0.0->ipywidgets>=7.5.1->pandas-profiling==2.11) (0.18.0)\n",
      "Requirement already satisfied: backcall in /opt/conda/lib/python3.9/site-packages (from ipython>=4.0.0->ipywidgets>=7.5.1->pandas-profiling==2.11) (0.2.0)\n",
      "Requirement already satisfied: prompt-toolkit!=3.0.0,!=3.0.1,<3.1.0,>=2.0.0 in /opt/conda/lib/python3.9/site-packages (from ipython>=4.0.0->ipywidgets>=7.5.1->pandas-profiling==2.11) (3.0.19)\n",
      "Requirement already satisfied: pexpect>4.3 in /opt/conda/lib/python3.9/site-packages (from ipython>=4.0.0->ipywidgets>=7.5.1->pandas-profiling==2.11) (4.8.0)\n",
      "Requirement already satisfied: pygments in /opt/conda/lib/python3.9/site-packages (from ipython>=4.0.0->ipywidgets>=7.5.1->pandas-profiling==2.11) (2.9.0)\n",
      "Requirement already satisfied: decorator in /opt/conda/lib/python3.9/site-packages (from ipython>=4.0.0->ipywidgets>=7.5.1->pandas-profiling==2.11) (5.0.9)\n",
      "Requirement already satisfied: setuptools>=18.5 in /opt/conda/lib/python3.9/site-packages (from ipython>=4.0.0->ipywidgets>=7.5.1->pandas-profiling==2.11) (49.6.0.post20210108)\n",
      "Requirement already satisfied: matplotlib-inline in /opt/conda/lib/python3.9/site-packages (from ipython>=4.0.0->ipywidgets>=7.5.1->pandas-profiling==2.11) (0.1.2)\n",
      "Requirement already satisfied: pickleshare in /opt/conda/lib/python3.9/site-packages (from ipython>=4.0.0->ipywidgets>=7.5.1->pandas-profiling==2.11) (0.7.5)\n",
      "Requirement already satisfied: parso<0.9.0,>=0.8.0 in /opt/conda/lib/python3.9/site-packages (from jedi>=0.16->ipython>=4.0.0->ipywidgets>=7.5.1->pandas-profiling==2.11) (0.8.2)\n",
      "Requirement already satisfied: MarkupSafe>=2.0 in /opt/conda/lib/python3.9/site-packages (from jinja2>=2.11.1->pandas-profiling==2.11) (2.1.1)\n",
      "Requirement already satisfied: pyparsing!=2.0.4,!=2.1.2,!=2.1.6,>=2.0.3 in /opt/conda/lib/python3.9/site-packages (from matplotlib>=3.2.0->pandas-profiling==2.11) (2.4.7)\n",
      "Requirement already satisfied: python-dateutil>=2.1 in /opt/conda/lib/python3.9/site-packages (from matplotlib>=3.2.0->pandas-profiling==2.11) (2.8.1)\n",
      "Requirement already satisfied: kiwisolver>=1.0.1 in /opt/conda/lib/python3.9/site-packages (from matplotlib>=3.2.0->pandas-profiling==2.11) (1.4.4)\n",
      "Requirement already satisfied: cycler>=0.10 in /opt/conda/lib/python3.9/site-packages (from matplotlib>=3.2.0->pandas-profiling==2.11) (0.11.0)\n",
      "Requirement already satisfied: jupyter-core in /opt/conda/lib/python3.9/site-packages (from nbformat>=4.2.0->ipywidgets>=7.5.1->pandas-profiling==2.11) (4.7.1)\n",
      "Requirement already satisfied: jsonschema!=2.5.0,>=2.4 in /opt/conda/lib/python3.9/site-packages (from nbformat>=4.2.0->ipywidgets>=7.5.1->pandas-profiling==2.11) (3.2.0)\n",
      "Requirement already satisfied: ipython-genutils in /opt/conda/lib/python3.9/site-packages (from nbformat>=4.2.0->ipywidgets>=7.5.1->pandas-profiling==2.11) (0.2.0)\n",
      "Requirement already satisfied: six>=1.11.0 in /opt/conda/lib/python3.9/site-packages (from jsonschema!=2.5.0,>=2.4->nbformat>=4.2.0->ipywidgets>=7.5.1->pandas-profiling==2.11) (1.16.0)\n",
      "Requirement already satisfied: pyrsistent>=0.14.0 in /opt/conda/lib/python3.9/site-packages (from jsonschema!=2.5.0,>=2.4->nbformat>=4.2.0->ipywidgets>=7.5.1->pandas-profiling==2.11) (0.17.3)\n",
      "Requirement already satisfied: pytz>=2017.3 in /opt/conda/lib/python3.9/site-packages (from pandas!=1.0.0,!=1.0.1,!=1.0.2,!=1.1.0,>=0.25.3->pandas-profiling==2.11) (2021.1)\n",
      "Requirement already satisfied: ptyprocess>=0.5 in /opt/conda/lib/python3.9/site-packages (from pexpect>4.3->ipython>=4.0.0->ipywidgets>=7.5.1->pandas-profiling==2.11) (0.7.0)\n",
      "Requirement already satisfied: wcwidth in /opt/conda/lib/python3.9/site-packages (from prompt-toolkit!=3.0.0,!=3.0.1,<3.1.0,>=2.0.0->ipython>=4.0.0->ipywidgets>=7.5.1->pandas-profiling==2.11) (0.2.5)\n",
      "Requirement already satisfied: urllib3<1.27,>=1.21.1 in /opt/conda/lib/python3.9/site-packages (from requests>=2.24.0->pandas-profiling==2.11) (1.26.6)\n",
      "Requirement already satisfied: idna<3,>=2.5 in /opt/conda/lib/python3.9/site-packages (from requests>=2.24.0->pandas-profiling==2.11) (2.10)\n",
      "Requirement already satisfied: certifi>=2017.4.17 in /opt/conda/lib/python3.9/site-packages (from requests>=2.24.0->pandas-profiling==2.11) (2022.6.15)\n",
      "Requirement already satisfied: chardet<5,>=3.0.2 in /opt/conda/lib/python3.9/site-packages (from requests>=2.24.0->pandas-profiling==2.11) (4.0.0)\n",
      "Requirement already satisfied: notebook>=4.4.1 in /opt/conda/lib/python3.9/site-packages (from widgetsnbextension~=3.5.0->ipywidgets>=7.5.1->pandas-profiling==2.11) (6.4.0)\n",
      "Requirement already satisfied: argon2-cffi in /opt/conda/lib/python3.9/site-packages (from notebook>=4.4.1->widgetsnbextension~=3.5.0->ipywidgets>=7.5.1->pandas-profiling==2.11) (20.1.0)\n",
      "Requirement already satisfied: nbconvert in /opt/conda/lib/python3.9/site-packages (from notebook>=4.4.1->widgetsnbextension~=3.5.0->ipywidgets>=7.5.1->pandas-profiling==2.11) (6.1.0)\n",
      "Requirement already satisfied: prometheus-client in /opt/conda/lib/python3.9/site-packages (from notebook>=4.4.1->widgetsnbextension~=3.5.0->ipywidgets>=7.5.1->pandas-profiling==2.11) (0.11.0)\n",
      "Requirement already satisfied: terminado>=0.8.3 in /opt/conda/lib/python3.9/site-packages (from notebook>=4.4.1->widgetsnbextension~=3.5.0->ipywidgets>=7.5.1->pandas-profiling==2.11) (0.10.1)\n",
      "Requirement already satisfied: pyzmq>=17 in /opt/conda/lib/python3.9/site-packages (from notebook>=4.4.1->widgetsnbextension~=3.5.0->ipywidgets>=7.5.1->pandas-profiling==2.11) (22.1.0)\n",
      "Requirement already satisfied: Send2Trash>=1.5.0 in /opt/conda/lib/python3.9/site-packages (from notebook>=4.4.1->widgetsnbextension~=3.5.0->ipywidgets>=7.5.1->pandas-profiling==2.11) (1.7.1)\n",
      "Requirement already satisfied: cffi>=1.0.0 in /opt/conda/lib/python3.9/site-packages (from argon2-cffi->notebook>=4.4.1->widgetsnbextension~=3.5.0->ipywidgets>=7.5.1->pandas-profiling==2.11) (1.14.5)\n",
      "Requirement already satisfied: pycparser in /opt/conda/lib/python3.9/site-packages (from cffi>=1.0.0->argon2-cffi->notebook>=4.4.1->widgetsnbextension~=3.5.0->ipywidgets>=7.5.1->pandas-profiling==2.11) (2.20)\n",
      "Collecting PyWavelets\n",
      "  Downloading PyWavelets-1.4.1-cp39-cp39-manylinux_2_17_x86_64.manylinux2014_x86_64.whl (6.9 MB)\n",
      "\u001b[K     |████████████████████████████████| 6.9 MB 46.2 MB/s eta 0:00:01\n",
      "\u001b[?25hRequirement already satisfied: entrypoints>=0.2.2 in /opt/conda/lib/python3.9/site-packages (from nbconvert->notebook>=4.4.1->widgetsnbextension~=3.5.0->ipywidgets>=7.5.1->pandas-profiling==2.11) (0.3)\n",
      "Requirement already satisfied: mistune<2,>=0.8.1 in /opt/conda/lib/python3.9/site-packages (from nbconvert->notebook>=4.4.1->widgetsnbextension~=3.5.0->ipywidgets>=7.5.1->pandas-profiling==2.11) (0.8.4)\n",
      "Requirement already satisfied: nbclient<0.6.0,>=0.5.0 in /opt/conda/lib/python3.9/site-packages (from nbconvert->notebook>=4.4.1->widgetsnbextension~=3.5.0->ipywidgets>=7.5.1->pandas-profiling==2.11) (0.5.3)\n",
      "Requirement already satisfied: pandocfilters>=1.4.1 in /opt/conda/lib/python3.9/site-packages (from nbconvert->notebook>=4.4.1->widgetsnbextension~=3.5.0->ipywidgets>=7.5.1->pandas-profiling==2.11) (1.4.2)\n",
      "Requirement already satisfied: defusedxml in /opt/conda/lib/python3.9/site-packages (from nbconvert->notebook>=4.4.1->widgetsnbextension~=3.5.0->ipywidgets>=7.5.1->pandas-profiling==2.11) (0.7.1)\n",
      "Requirement already satisfied: testpath in /opt/conda/lib/python3.9/site-packages (from nbconvert->notebook>=4.4.1->widgetsnbextension~=3.5.0->ipywidgets>=7.5.1->pandas-profiling==2.11) (0.5.0)\n",
      "Requirement already satisfied: bleach in /opt/conda/lib/python3.9/site-packages (from nbconvert->notebook>=4.4.1->widgetsnbextension~=3.5.0->ipywidgets>=7.5.1->pandas-profiling==2.11) (3.3.0)\n",
      "Requirement already satisfied: jupyterlab-pygments in /opt/conda/lib/python3.9/site-packages (from nbconvert->notebook>=4.4.1->widgetsnbextension~=3.5.0->ipywidgets>=7.5.1->pandas-profiling==2.11) (0.1.2)\n",
      "Requirement already satisfied: nest-asyncio in /opt/conda/lib/python3.9/site-packages (from nbclient<0.6.0,>=0.5.0->nbconvert->notebook>=4.4.1->widgetsnbextension~=3.5.0->ipywidgets>=7.5.1->pandas-profiling==2.11) (1.5.1)\n",
      "Requirement already satisfied: async-generator in /opt/conda/lib/python3.9/site-packages (from nbclient<0.6.0,>=0.5.0->nbconvert->notebook>=4.4.1->widgetsnbextension~=3.5.0->ipywidgets>=7.5.1->pandas-profiling==2.11) (1.10)\n",
      "Requirement already satisfied: packaging in /opt/conda/lib/python3.9/site-packages (from bleach->nbconvert->notebook>=4.4.1->widgetsnbextension~=3.5.0->ipywidgets>=7.5.1->pandas-profiling==2.11) (21.3)\n",
      "Requirement already satisfied: webencodings in /opt/conda/lib/python3.9/site-packages (from bleach->nbconvert->notebook>=4.4.1->widgetsnbextension~=3.5.0->ipywidgets>=7.5.1->pandas-profiling==2.11) (0.5.1)\n",
      "Building wheels for collected packages: htmlmin\n",
      "  Building wheel for htmlmin (setup.py) ... \u001b[?25ldone\n",
      "\u001b[?25h  Created wheel for htmlmin: filename=htmlmin-0.1.12-py3-none-any.whl size=27085 sha256=c3f083d2a633a9f7c13ebf844633856ae585a4eaddec4f546ba403308a16e6ba\n",
      "  Stored in directory: /home/jovyan/.cache/pip/wheels/1d/05/04/c6d7d3b66539d9e659ac6dfe81e2d0fd4c1a8316cc5a403300\n",
      "Successfully built htmlmin\n",
      "Installing collected packages: tangled-up-in-unicode, PyWavelets, networkx, visions, imagehash, phik, missingno, htmlmin, confuse, pandas-profiling\n",
      "Successfully installed PyWavelets-1.4.1 confuse-2.0.1 htmlmin-0.1.12 imagehash-4.3.1 missingno-0.5.2 networkx-3.1 pandas-profiling-2.11.0 phik-0.12.3 tangled-up-in-unicode-0.2.0 visions-0.6.0\n"
     ]
    }
   ],
   "source": [
    "import pandas as pd\n",
    "!pip3 install pandas-profiling==2.11\n",
    "from pandas_profiling import ProfileReport\n",
    "from sklearn.model_selection import train_test_split\n",
    "from sklearn.metrics import mean_squared_error\n",
    "from sklearn.metrics import r2_score\n",
    "import numpy as np\n",
    "import warnings\n",
    "warnings.filterwarnings(\"ignore\")"
   ]
  },
  {
   "cell_type": "code",
   "execution_count": 2,
   "metadata": {},
   "outputs": [],
   "source": [
    "try:\n",
    "    data = pd.read_csv('/datasets/insurance.csv')\n",
    "except:\n",
    "    data = pd.read_csv('https://code.s3.yandex.net/datasets/insurance.csv')"
   ]
  },
  {
   "cell_type": "code",
   "execution_count": 3,
   "metadata": {},
   "outputs": [
    {
     "name": "stdout",
     "output_type": "stream",
     "text": [
      "<class 'pandas.core.frame.DataFrame'>\n",
      "RangeIndex: 5000 entries, 0 to 4999\n",
      "Data columns (total 5 columns):\n",
      " #   Column             Non-Null Count  Dtype  \n",
      "---  ------             --------------  -----  \n",
      " 0   Пол                5000 non-null   int64  \n",
      " 1   Возраст            5000 non-null   float64\n",
      " 2   Зарплата           5000 non-null   float64\n",
      " 3   Члены семьи        5000 non-null   int64  \n",
      " 4   Страховые выплаты  5000 non-null   int64  \n",
      "dtypes: float64(2), int64(3)\n",
      "memory usage: 195.4 KB\n"
     ]
    }
   ],
   "source": [
    "data.info()"
   ]
  },
  {
   "cell_type": "code",
   "execution_count": 4,
   "metadata": {},
   "outputs": [
    {
     "data": {
      "text/html": [
       "<div>\n",
       "<style scoped>\n",
       "    .dataframe tbody tr th:only-of-type {\n",
       "        vertical-align: middle;\n",
       "    }\n",
       "\n",
       "    .dataframe tbody tr th {\n",
       "        vertical-align: top;\n",
       "    }\n",
       "\n",
       "    .dataframe thead th {\n",
       "        text-align: right;\n",
       "    }\n",
       "</style>\n",
       "<table border=\"1\" class=\"dataframe\">\n",
       "  <thead>\n",
       "    <tr style=\"text-align: right;\">\n",
       "      <th></th>\n",
       "      <th>Пол</th>\n",
       "      <th>Возраст</th>\n",
       "      <th>Зарплата</th>\n",
       "      <th>Члены семьи</th>\n",
       "      <th>Страховые выплаты</th>\n",
       "    </tr>\n",
       "  </thead>\n",
       "  <tbody>\n",
       "    <tr>\n",
       "      <th>0</th>\n",
       "      <td>1</td>\n",
       "      <td>41.0</td>\n",
       "      <td>49600.0</td>\n",
       "      <td>1</td>\n",
       "      <td>0</td>\n",
       "    </tr>\n",
       "    <tr>\n",
       "      <th>1</th>\n",
       "      <td>0</td>\n",
       "      <td>46.0</td>\n",
       "      <td>38000.0</td>\n",
       "      <td>1</td>\n",
       "      <td>1</td>\n",
       "    </tr>\n",
       "    <tr>\n",
       "      <th>2</th>\n",
       "      <td>0</td>\n",
       "      <td>29.0</td>\n",
       "      <td>21000.0</td>\n",
       "      <td>0</td>\n",
       "      <td>0</td>\n",
       "    </tr>\n",
       "    <tr>\n",
       "      <th>3</th>\n",
       "      <td>0</td>\n",
       "      <td>21.0</td>\n",
       "      <td>41700.0</td>\n",
       "      <td>2</td>\n",
       "      <td>0</td>\n",
       "    </tr>\n",
       "    <tr>\n",
       "      <th>4</th>\n",
       "      <td>1</td>\n",
       "      <td>28.0</td>\n",
       "      <td>26100.0</td>\n",
       "      <td>0</td>\n",
       "      <td>0</td>\n",
       "    </tr>\n",
       "  </tbody>\n",
       "</table>\n",
       "</div>"
      ],
      "text/plain": [
       "   Пол  Возраст  Зарплата  Члены семьи  Страховые выплаты\n",
       "0    1     41.0   49600.0            1                  0\n",
       "1    0     46.0   38000.0            1                  1\n",
       "2    0     29.0   21000.0            0                  0\n",
       "3    0     21.0   41700.0            2                  0\n",
       "4    1     28.0   26100.0            0                  0"
      ]
     },
     "execution_count": 4,
     "metadata": {},
     "output_type": "execute_result"
    }
   ],
   "source": [
    "data.head(5)"
   ]
  },
  {
   "cell_type": "code",
   "execution_count": 5,
   "metadata": {},
   "outputs": [
    {
     "data": {
      "application/vnd.jupyter.widget-view+json": {
       "model_id": "68a75cd8f68d404aab44a6692fd0de2b",
       "version_major": 2,
       "version_minor": 0
      },
      "text/plain": [
       "Summarize dataset:   0%|          | 0/18 [00:00<?, ?it/s]"
      ]
     },
     "metadata": {},
     "output_type": "display_data"
    },
    {
     "data": {
      "application/vnd.jupyter.widget-view+json": {
       "model_id": "221658680050488182407b314d22d5b4",
       "version_major": 2,
       "version_minor": 0
      },
      "text/plain": [
       "Generate report structure:   0%|          | 0/1 [00:00<?, ?it/s]"
      ]
     },
     "metadata": {},
     "output_type": "display_data"
    },
    {
     "data": {
      "application/vnd.jupyter.widget-view+json": {
       "model_id": "",
       "version_major": 2,
       "version_minor": 0
      },
      "text/plain": [
       "Render widgets:   0%|          | 0/1 [00:00<?, ?it/s]"
      ]
     },
     "metadata": {},
     "output_type": "display_data"
    },
    {
     "data": {
      "application/vnd.jupyter.widget-view+json": {
       "model_id": "39f0932174d54814ab91a7aa12350528",
       "version_major": 2,
       "version_minor": 0
      },
      "text/plain": [
       "VBox(children=(Tab(children=(Tab(children=(GridBox(children=(VBox(children=(GridspecLayout(children=(HTML(valu…"
      ]
     },
     "metadata": {},
     "output_type": "display_data"
    }
   ],
   "source": [
    "profile = ProfileReport(data,\n",
    "                        title='Pandas Profiling Report - Data 0')\n",
    "\n",
    "profile.to_widgets()"
   ]
  },
  {
   "cell_type": "markdown",
   "metadata": {},
   "source": [
    "Вывод: пропусков нет, есть дубликаты"
   ]
  },
  {
   "cell_type": "code",
   "execution_count": 6,
   "metadata": {},
   "outputs": [],
   "source": [
    "data = data.drop_duplicates()"
   ]
  },
  {
   "cell_type": "code",
   "execution_count": 7,
   "metadata": {},
   "outputs": [
    {
     "data": {
      "text/plain": [
       "0"
      ]
     },
     "execution_count": 7,
     "metadata": {},
     "output_type": "execute_result"
    }
   ],
   "source": [
    "data.duplicated().sum()"
   ]
  },
  {
   "cell_type": "markdown",
   "metadata": {},
   "source": [
    "Исправим названия столбцов"
   ]
  },
  {
   "cell_type": "code",
   "execution_count": 8,
   "metadata": {},
   "outputs": [
    {
     "data": {
      "text/plain": [
       "Index(['Пол', 'Возраст', 'Зарплата', 'Члены семьи', 'Страховые выплаты'], dtype='object')"
      ]
     },
     "execution_count": 8,
     "metadata": {},
     "output_type": "execute_result"
    }
   ],
   "source": [
    "data.columns"
   ]
  },
  {
   "cell_type": "code",
   "execution_count": 9,
   "metadata": {},
   "outputs": [],
   "source": [
    "data.columns = ['gender', 'age', 'income', 'family_members', 'insurance_payments']"
   ]
  },
  {
   "cell_type": "code",
   "execution_count": 10,
   "metadata": {},
   "outputs": [
    {
     "data": {
      "text/plain": [
       "Index(['gender', 'age', 'income', 'family_members', 'insurance_payments'], dtype='object')"
      ]
     },
     "execution_count": 10,
     "metadata": {},
     "output_type": "execute_result"
    }
   ],
   "source": [
    "data.columns"
   ]
  },
  {
   "cell_type": "markdown",
   "metadata": {},
   "source": [
    "Вывод: открыли файл, посмотрели информацию о данных, посмотрели сами данные, с помощью profiling посмотрели на графики распределения данных, посмотрели, есть ли дубликаты и пропуски, посмотрели, есть ли взаимосвязи, есть связь между возрастом и выплатами, удалили дубликаты, так как это повторяющиеся строки, возможно из-за технологической ошибки, при выгрузке или загрузке данных образовалось дублирование, поправили названия столбцов на английский и на snake_case."
   ]
  },
  {
   "cell_type": "markdown",
   "metadata": {},
   "source": [
    "## Умножение матриц"
   ]
  },
  {
   "cell_type": "markdown",
   "metadata": {},
   "source": [
    "Обозначения:\n",
    "\n",
    "- $X$ — матрица признаков (нулевой столбец состоит из единиц)\n",
    "\n",
    "- $y$ — вектор целевого признака\n",
    "\n",
    "- $P$ — матрица, на которую умножаются признаки\n",
    "\n",
    "- $w$ — вектор весов линейной регрессии (нулевой элемент равен сдвигу)"
   ]
  },
  {
   "cell_type": "markdown",
   "metadata": {},
   "source": [
    "Предсказания:\n",
    "\n",
    "$$\n",
    "a = Xw\n",
    "$$\n",
    "\n",
    "Задача обучения:\n",
    "\n",
    "$$\n",
    "w = \\arg\\min_w MSE(Xw, y)\n",
    "$$\n",
    "\n",
    "Формула обучения:\n",
    "\n",
    "$$\n",
    "w = (X^T X)^{-1} X^T y\n",
    "$$"
   ]
  },
  {
   "cell_type": "markdown",
   "metadata": {},
   "source": [
    "Преобразование в формулах:\n",
    "\n",
    "$a'=X'w'=(XP)w'$\n",
    "\n",
    "$a'= XP((XP)^TXP)^{-1}(XP)^Ty$\n",
    "    \n",
    "$a' = XP (P^TX^TXP)^{-1}P^TX^Ty$\n",
    "    \n",
    "$a' = XPP^{-1}(X^TX)^{-1}(P^T)^{-1}P^TX^Ty$\n",
    "    \n",
    "где $ PP^{-1} = E$ и $(P^T)^{-1}P^T = E$\n",
    "\n",
    "$a'= XE(X^TX)^{-1}EX^Ty$\n",
    "    \n",
    "$a' = X(X^TX)^{-1}X^Ty = a$\n",
    " "
   ]
  },
  {
   "cell_type": "markdown",
   "metadata": {},
   "source": [
    "## Алгоритм преобразования"
   ]
  },
  {
   "cell_type": "markdown",
   "metadata": {},
   "source": [
    "**Алгоритм**\n",
    "\n",
    "Проведем обучение и тестирование на изначальных данных. Возьмем изначальные данные, преобразуем их в матрицу, умножим их на случайную обратимую матрицу, затем проведем обучение и тестирование."
   ]
  },
  {
   "cell_type": "markdown",
   "metadata": {},
   "source": [
    "**Обоснование**\n",
    "\n",
    "сравним результаты тестирования и метрики R2 и сделаем вывод о том, что предсказания совпадают в обоих вариантах, если данные совпадут"
   ]
  },
  {
   "cell_type": "markdown",
   "metadata": {},
   "source": [
    "## Проверка алгоритма"
   ]
  },
  {
   "cell_type": "markdown",
   "metadata": {},
   "source": [
    "Обучим модель на изначальных данных"
   ]
  },
  {
   "cell_type": "code",
   "execution_count": 11,
   "metadata": {},
   "outputs": [],
   "source": [
    "features = data.drop('insurance_payments', axis=1).values\n",
    "target = data['insurance_payments'].values"
   ]
  },
  {
   "cell_type": "markdown",
   "metadata": {},
   "source": [
    "Разделим выборку на обучающую и тестовую"
   ]
  },
  {
   "cell_type": "code",
   "execution_count": 12,
   "metadata": {},
   "outputs": [],
   "source": [
    "features_train, features_test, target_train, target_test = train_test_split(\n",
    "    features, target, test_size=0.20, random_state=12345) \n"
   ]
  },
  {
   "cell_type": "markdown",
   "metadata": {},
   "source": [
    "создадим класс для нашей модели линейной регресии"
   ]
  },
  {
   "cell_type": "code",
   "execution_count": 13,
   "metadata": {},
   "outputs": [],
   "source": [
    "class LinearRegression:\n",
    "    def fit(self, train_features, train_target):\n",
    "        X = np.concatenate((np.ones((train_features.shape[0], 1)), train_features), axis=1)\n",
    "        y = train_target\n",
    "        w = (np.linalg.inv(X.T.dot(X)).dot(X.T)).dot(y)# < напишите код здесь >\n",
    "        self.w = w[1:]\n",
    "        self.w0 = w[0]\n",
    "\n",
    "    def predict(self, test_features):\n",
    "        return test_features.dot(self.w) + self.w0"
   ]
  },
  {
   "cell_type": "markdown",
   "metadata": {},
   "source": [
    "Изначальные данные: обучающие и тестовые данные"
   ]
  },
  {
   "cell_type": "code",
   "execution_count": 14,
   "metadata": {},
   "outputs": [
    {
     "name": "stdout",
     "output_type": "stream",
     "text": [
      "0.43334816364347406\n"
     ]
    }
   ],
   "source": [
    "model = LinearRegression()\n",
    "model.fit(features_train, target_train)\n",
    "predictions_train = model.predict(features_train)\n",
    "print(r2_score(target_train, predictions_train))"
   ]
  },
  {
   "cell_type": "code",
   "execution_count": 15,
   "metadata": {},
   "outputs": [
    {
     "name": "stdout",
     "output_type": "stream",
     "text": [
      "0.4195675218104399\n"
     ]
    }
   ],
   "source": [
    "model = LinearRegression()\n",
    "model.fit(features_test, target_test)\n",
    "predictions_test = model.predict(features_test)\n",
    "print(r2_score(target_test, predictions_test))"
   ]
  },
  {
   "cell_type": "markdown",
   "metadata": {},
   "source": [
    "создадим матрицу для изменения данных"
   ]
  },
  {
   "cell_type": "code",
   "execution_count": 16,
   "metadata": {},
   "outputs": [
    {
     "data": {
      "text/plain": [
       "array([[0.20520109, 0.44693163, 0.93399887, 0.4413386 ],\n",
       "       [0.69761454, 0.28698227, 0.82903695, 0.43443635],\n",
       "       [0.55110537, 0.64673288, 0.28466691, 0.43746348],\n",
       "       [0.98959359, 0.42881704, 0.88617302, 0.67716573]])"
      ]
     },
     "execution_count": 16,
     "metadata": {},
     "output_type": "execute_result"
    }
   ],
   "source": [
    "matrix = np.random.rand(4,4)\n",
    "matrix"
   ]
  },
  {
   "cell_type": "markdown",
   "metadata": {},
   "source": [
    "Изменим данные"
   ]
  },
  {
   "cell_type": "code",
   "execution_count": 17,
   "metadata": {},
   "outputs": [],
   "source": [
    "features_train_changed = features_train @ matrix"
   ]
  },
  {
   "cell_type": "markdown",
   "metadata": {},
   "source": [
    "Измененные обучающие данные"
   ]
  },
  {
   "cell_type": "code",
   "execution_count": 18,
   "metadata": {},
   "outputs": [
    {
     "name": "stdout",
     "output_type": "stream",
     "text": [
      "0.4333481636418448\n"
     ]
    }
   ],
   "source": [
    "model = LinearRegression()\n",
    "model.fit(features_train_changed, target_train)\n",
    "predictions_train_changed = model.predict(features_train_changed)\n",
    "print(r2_score(target_train, predictions_train_changed))"
   ]
  },
  {
   "cell_type": "markdown",
   "metadata": {},
   "source": [
    "Изменим тестовые данные и проверим модель на тестовых данных"
   ]
  },
  {
   "cell_type": "code",
   "execution_count": 19,
   "metadata": {},
   "outputs": [],
   "source": [
    "features_test_changed = features_test @ matrix"
   ]
  },
  {
   "cell_type": "code",
   "execution_count": 20,
   "metadata": {},
   "outputs": [
    {
     "name": "stdout",
     "output_type": "stream",
     "text": [
      "0.419567521809575\n"
     ]
    }
   ],
   "source": [
    "model = LinearRegression()\n",
    "model.fit(features_test_changed, target_test)\n",
    "predictions_test_changed = model.predict(features_test_changed)\n",
    "print(r2_score(target_test, predictions_test_changed))"
   ]
  },
  {
   "cell_type": "markdown",
   "metadata": {},
   "source": [
    "Вывод: проверили модель на изначальных и преобразованных данных, получили одинаковый результат, значит изменение данных не повлияло на модель."
   ]
  }
 ],
 "metadata": {
  "ExecuteTimeLog": [
   {
    "duration": 16809,
    "start_time": "2023-05-01T19:05:15.681Z"
   },
   {
    "duration": 112,
    "start_time": "2023-05-01T19:05:54.542Z"
   },
   {
    "duration": 14,
    "start_time": "2023-05-01T19:06:11.439Z"
   },
   {
    "duration": 13,
    "start_time": "2023-05-01T19:06:24.925Z"
   },
   {
    "duration": 15674,
    "start_time": "2023-05-01T19:07:05.923Z"
   },
   {
    "duration": 7,
    "start_time": "2023-05-01T19:15:39.209Z"
   },
   {
    "duration": 7,
    "start_time": "2023-05-01T19:15:54.322Z"
   },
   {
    "duration": 15975,
    "start_time": "2023-05-03T18:35:50.186Z"
   },
   {
    "duration": 124,
    "start_time": "2023-05-03T18:36:23.838Z"
   },
   {
    "duration": 12,
    "start_time": "2023-05-03T18:36:26.114Z"
   },
   {
    "duration": 13,
    "start_time": "2023-05-03T18:36:28.936Z"
   },
   {
    "duration": 14694,
    "start_time": "2023-05-03T18:36:41.455Z"
   },
   {
    "duration": 5,
    "start_time": "2023-05-03T18:37:03.004Z"
   },
   {
    "duration": 7,
    "start_time": "2023-05-03T18:37:07.533Z"
   },
   {
    "duration": 4,
    "start_time": "2023-05-03T18:37:28.686Z"
   },
   {
    "duration": 3,
    "start_time": "2023-05-03T18:39:37.853Z"
   },
   {
    "duration": 4,
    "start_time": "2023-05-03T18:40:08.996Z"
   },
   {
    "duration": 70,
    "start_time": "2023-05-04T18:03:05.945Z"
   },
   {
    "duration": 13,
    "start_time": "2023-05-04T18:03:10.639Z"
   },
   {
    "duration": 20864,
    "start_time": "2023-05-04T18:03:20.390Z"
   },
   {
    "duration": 110,
    "start_time": "2023-05-04T18:03:53.091Z"
   },
   {
    "duration": 22,
    "start_time": "2023-05-04T18:03:56.009Z"
   },
   {
    "duration": 13,
    "start_time": "2023-05-04T18:04:02.334Z"
   },
   {
    "duration": 16739,
    "start_time": "2023-05-04T18:04:05.141Z"
   },
   {
    "duration": 5,
    "start_time": "2023-05-04T18:04:31.605Z"
   },
   {
    "duration": 7,
    "start_time": "2023-05-04T18:04:34.032Z"
   },
   {
    "duration": 4,
    "start_time": "2023-05-04T18:04:36.783Z"
   },
   {
    "duration": 3,
    "start_time": "2023-05-04T18:04:38.773Z"
   },
   {
    "duration": 4,
    "start_time": "2023-05-04T18:04:41.140Z"
   },
   {
    "duration": 2904,
    "start_time": "2023-05-04T18:42:19.920Z"
   },
   {
    "duration": 7,
    "start_time": "2023-05-04T18:47:33.912Z"
   },
   {
    "duration": 10,
    "start_time": "2023-05-04T18:47:36.191Z"
   },
   {
    "duration": 7,
    "start_time": "2023-05-04T18:47:39.353Z"
   },
   {
    "duration": 16,
    "start_time": "2023-05-04T18:47:44.134Z"
   },
   {
    "duration": 7554,
    "start_time": "2023-05-04T18:48:40.261Z"
   },
   {
    "duration": 47,
    "start_time": "2023-05-04T18:48:47.818Z"
   },
   {
    "duration": 15,
    "start_time": "2023-05-04T18:48:47.866Z"
   },
   {
    "duration": 25,
    "start_time": "2023-05-04T18:48:47.884Z"
   },
   {
    "duration": 18257,
    "start_time": "2023-05-04T18:48:47.911Z"
   },
   {
    "duration": 6,
    "start_time": "2023-05-04T18:49:06.170Z"
   },
   {
    "duration": 47,
    "start_time": "2023-05-04T18:49:06.178Z"
   },
   {
    "duration": 43,
    "start_time": "2023-05-04T18:49:06.232Z"
   },
   {
    "duration": 46,
    "start_time": "2023-05-04T18:49:06.277Z"
   },
   {
    "duration": 26,
    "start_time": "2023-05-04T18:49:06.328Z"
   },
   {
    "duration": 30,
    "start_time": "2023-05-04T18:49:06.356Z"
   },
   {
    "duration": 35,
    "start_time": "2023-05-04T18:49:06.388Z"
   },
   {
    "duration": 16,
    "start_time": "2023-05-04T18:49:06.424Z"
   },
   {
    "duration": 92,
    "start_time": "2023-05-04T18:49:06.442Z"
   },
   {
    "duration": 10,
    "start_time": "2023-05-04T18:50:26.884Z"
   },
   {
    "duration": 146,
    "start_time": "2023-05-04T18:56:03.514Z"
   },
   {
    "duration": 16,
    "start_time": "2023-05-04T18:57:49.161Z"
   },
   {
    "duration": 1152,
    "start_time": "2023-05-04T18:58:01.760Z"
   },
   {
    "duration": 5,
    "start_time": "2023-05-04T18:58:22.078Z"
   },
   {
    "duration": 5,
    "start_time": "2023-05-04T18:59:02.458Z"
   },
   {
    "duration": 4,
    "start_time": "2023-05-04T18:59:19.838Z"
   },
   {
    "duration": 5,
    "start_time": "2023-05-04T18:59:58.504Z"
   },
   {
    "duration": 369,
    "start_time": "2023-05-04T19:00:56.549Z"
   },
   {
    "duration": 168,
    "start_time": "2023-05-04T19:01:13.567Z"
   },
   {
    "duration": 5,
    "start_time": "2023-05-04T19:02:52.328Z"
   },
   {
    "duration": 178,
    "start_time": "2023-05-04T19:02:59.143Z"
   },
   {
    "duration": 18,
    "start_time": "2023-05-04T19:05:13.217Z"
   },
   {
    "duration": 6,
    "start_time": "2023-05-04T19:08:08.546Z"
   },
   {
    "duration": 244,
    "start_time": "2023-05-04T19:08:28.974Z"
   },
   {
    "duration": 5,
    "start_time": "2023-05-04T19:08:30.879Z"
   },
   {
    "duration": 4,
    "start_time": "2023-05-04T19:08:34.090Z"
   },
   {
    "duration": 187,
    "start_time": "2023-05-04T19:08:47.539Z"
   },
   {
    "duration": 4,
    "start_time": "2023-05-04T19:08:49.362Z"
   },
   {
    "duration": 16,
    "start_time": "2023-05-04T19:08:49.475Z"
   },
   {
    "duration": 30,
    "start_time": "2023-05-04T19:09:02.085Z"
   },
   {
    "duration": 355,
    "start_time": "2023-05-04T19:10:43.065Z"
   },
   {
    "duration": 5,
    "start_time": "2023-05-04T19:10:45.267Z"
   },
   {
    "duration": 4,
    "start_time": "2023-05-04T19:11:01.453Z"
   },
   {
    "duration": 6,
    "start_time": "2023-05-04T19:11:20.849Z"
   },
   {
    "duration": 5,
    "start_time": "2023-05-04T19:11:39.373Z"
   },
   {
    "duration": 291,
    "start_time": "2023-05-04T19:12:01.844Z"
   },
   {
    "duration": 181,
    "start_time": "2023-05-04T19:12:02.138Z"
   },
   {
    "duration": 83,
    "start_time": "2023-05-04T19:12:09.000Z"
   },
   {
    "duration": 26132,
    "start_time": "2023-05-04T19:12:13.598Z"
   },
   {
    "duration": 20925,
    "start_time": "2023-05-04T19:13:37.111Z"
   },
   {
    "duration": 8,
    "start_time": "2023-05-04T19:21:11.236Z"
   },
   {
    "duration": 185,
    "start_time": "2023-05-04T19:22:26.171Z"
   },
   {
    "duration": 11,
    "start_time": "2023-05-04T19:23:29.793Z"
   },
   {
    "duration": 4845,
    "start_time": "2023-05-04T19:24:18.082Z"
   },
   {
    "duration": 40,
    "start_time": "2023-05-04T19:24:22.930Z"
   },
   {
    "duration": 15,
    "start_time": "2023-05-04T19:24:22.972Z"
   },
   {
    "duration": 15,
    "start_time": "2023-05-04T19:24:22.990Z"
   },
   {
    "duration": 15934,
    "start_time": "2023-05-04T19:24:23.007Z"
   },
   {
    "duration": 6,
    "start_time": "2023-05-04T19:24:38.943Z"
   },
   {
    "duration": 14,
    "start_time": "2023-05-04T19:24:38.950Z"
   },
   {
    "duration": 7,
    "start_time": "2023-05-04T19:24:38.965Z"
   },
   {
    "duration": 8,
    "start_time": "2023-05-04T19:24:38.973Z"
   },
   {
    "duration": 13,
    "start_time": "2023-05-04T19:24:38.984Z"
   },
   {
    "duration": 24,
    "start_time": "2023-05-04T19:24:38.998Z"
   },
   {
    "duration": 18,
    "start_time": "2023-05-04T19:24:39.023Z"
   },
   {
    "duration": 13,
    "start_time": "2023-05-04T19:24:39.043Z"
   },
   {
    "duration": 62,
    "start_time": "2023-05-04T19:24:39.058Z"
   },
   {
    "duration": 111,
    "start_time": "2023-05-04T19:24:39.122Z"
   },
   {
    "duration": 4,
    "start_time": "2023-05-04T19:24:54.586Z"
   },
   {
    "duration": 5,
    "start_time": "2023-05-04T19:24:56.150Z"
   },
   {
    "duration": 4,
    "start_time": "2023-05-04T19:25:01.454Z"
   },
   {
    "duration": 5,
    "start_time": "2023-05-04T19:25:05.378Z"
   },
   {
    "duration": 158,
    "start_time": "2023-05-04T19:25:07.741Z"
   },
   {
    "duration": 5,
    "start_time": "2023-05-04T19:25:21.536Z"
   },
   {
    "duration": 5,
    "start_time": "2023-05-04T19:25:37.691Z"
   },
   {
    "duration": 157,
    "start_time": "2023-05-04T19:25:41.048Z"
   },
   {
    "duration": 4827,
    "start_time": "2023-05-04T19:28:28.965Z"
   },
   {
    "duration": 40,
    "start_time": "2023-05-04T19:28:33.794Z"
   },
   {
    "duration": 13,
    "start_time": "2023-05-04T19:28:33.835Z"
   },
   {
    "duration": 28,
    "start_time": "2023-05-04T19:28:33.851Z"
   },
   {
    "duration": 17123,
    "start_time": "2023-05-04T19:28:33.880Z"
   },
   {
    "duration": 18,
    "start_time": "2023-05-04T19:28:51.005Z"
   },
   {
    "duration": 32,
    "start_time": "2023-05-04T19:28:51.025Z"
   },
   {
    "duration": 16,
    "start_time": "2023-05-04T19:28:51.059Z"
   },
   {
    "duration": 22,
    "start_time": "2023-05-04T19:28:51.077Z"
   },
   {
    "duration": 19,
    "start_time": "2023-05-04T19:28:51.103Z"
   },
   {
    "duration": 16,
    "start_time": "2023-05-04T19:28:51.127Z"
   },
   {
    "duration": 11,
    "start_time": "2023-05-04T19:28:51.144Z"
   },
   {
    "duration": 26,
    "start_time": "2023-05-04T19:28:51.157Z"
   },
   {
    "duration": 37,
    "start_time": "2023-05-04T19:28:51.185Z"
   },
   {
    "duration": 120,
    "start_time": "2023-05-04T19:28:51.226Z"
   },
   {
    "duration": 10,
    "start_time": "2023-05-04T19:28:51.416Z"
   },
   {
    "duration": 112,
    "start_time": "2023-05-04T19:28:51.428Z"
   },
   {
    "duration": 9,
    "start_time": "2023-05-04T19:28:51.542Z"
   },
   {
    "duration": 257,
    "start_time": "2023-05-04T19:28:51.553Z"
   },
   {
    "duration": 0,
    "start_time": "2023-05-04T19:28:51.812Z"
   },
   {
    "duration": 4997,
    "start_time": "2023-05-04T19:29:41.431Z"
   },
   {
    "duration": 31,
    "start_time": "2023-05-04T19:29:46.430Z"
   },
   {
    "duration": 13,
    "start_time": "2023-05-04T19:29:46.462Z"
   },
   {
    "duration": 18,
    "start_time": "2023-05-04T19:29:46.477Z"
   },
   {
    "duration": 15525,
    "start_time": "2023-05-04T19:29:46.497Z"
   },
   {
    "duration": 5,
    "start_time": "2023-05-04T19:30:02.024Z"
   },
   {
    "duration": 85,
    "start_time": "2023-05-04T19:30:02.030Z"
   },
   {
    "duration": 51,
    "start_time": "2023-05-04T19:30:02.117Z"
   },
   {
    "duration": 65,
    "start_time": "2023-05-04T19:30:02.170Z"
   },
   {
    "duration": 31,
    "start_time": "2023-05-04T19:30:02.237Z"
   },
   {
    "duration": 52,
    "start_time": "2023-05-04T19:30:02.270Z"
   },
   {
    "duration": 49,
    "start_time": "2023-05-04T19:30:02.324Z"
   },
   {
    "duration": 39,
    "start_time": "2023-05-04T19:30:02.375Z"
   },
   {
    "duration": 19,
    "start_time": "2023-05-04T19:30:02.417Z"
   },
   {
    "duration": 184,
    "start_time": "2023-05-04T19:30:02.438Z"
   },
   {
    "duration": 199,
    "start_time": "2023-05-04T19:30:02.625Z"
   },
   {
    "duration": 6,
    "start_time": "2023-05-04T19:30:16.233Z"
   },
   {
    "duration": 215,
    "start_time": "2023-05-04T19:31:01.603Z"
   },
   {
    "duration": 15471,
    "start_time": "2023-05-04T19:31:38.450Z"
   },
   {
    "duration": 146,
    "start_time": "2023-05-04T19:32:49.919Z"
   },
   {
    "duration": 218,
    "start_time": "2023-05-04T19:32:59.603Z"
   },
   {
    "duration": 26809,
    "start_time": "2023-05-04T19:33:01.510Z"
   },
   {
    "duration": 4851,
    "start_time": "2023-05-04T19:47:29.479Z"
   },
   {
    "duration": 30,
    "start_time": "2023-05-04T19:47:34.335Z"
   },
   {
    "duration": 11,
    "start_time": "2023-05-04T19:47:34.367Z"
   },
   {
    "duration": 21,
    "start_time": "2023-05-04T19:47:34.380Z"
   },
   {
    "duration": 16450,
    "start_time": "2023-05-04T19:47:34.403Z"
   },
   {
    "duration": 6,
    "start_time": "2023-05-04T19:47:50.854Z"
   },
   {
    "duration": 65,
    "start_time": "2023-05-04T19:47:50.862Z"
   },
   {
    "duration": 20,
    "start_time": "2023-05-04T19:47:50.933Z"
   },
   {
    "duration": 21,
    "start_time": "2023-05-04T19:47:50.955Z"
   },
   {
    "duration": 45,
    "start_time": "2023-05-04T19:47:50.979Z"
   },
   {
    "duration": 4,
    "start_time": "2023-05-04T19:48:02.388Z"
   },
   {
    "duration": 5,
    "start_time": "2023-05-04T19:48:04.749Z"
   },
   {
    "duration": 5,
    "start_time": "2023-05-04T19:48:07.438Z"
   },
   {
    "duration": 74,
    "start_time": "2023-05-04T19:48:10.759Z"
   },
   {
    "duration": 6,
    "start_time": "2023-05-04T19:48:13.094Z"
   },
   {
    "duration": 4,
    "start_time": "2023-05-04T19:48:19.036Z"
   },
   {
    "duration": 5,
    "start_time": "2023-05-04T19:48:23.293Z"
   },
   {
    "duration": 189,
    "start_time": "2023-05-04T19:51:04.751Z"
   },
   {
    "duration": 18584,
    "start_time": "2023-05-04T19:51:07.244Z"
   },
   {
    "duration": 6,
    "start_time": "2023-05-04T19:51:28.734Z"
   },
   {
    "duration": 160,
    "start_time": "2023-05-04T19:52:04.866Z"
   },
   {
    "duration": 5,
    "start_time": "2023-05-04T19:52:11.490Z"
   },
   {
    "duration": 5,
    "start_time": "2023-05-04T19:54:18.172Z"
   },
   {
    "duration": 4,
    "start_time": "2023-05-04T19:54:24.704Z"
   },
   {
    "duration": 5,
    "start_time": "2023-05-04T19:54:27.331Z"
   },
   {
    "duration": 7,
    "start_time": "2023-05-04T19:54:30.128Z"
   },
   {
    "duration": 3,
    "start_time": "2023-05-04T19:55:24.028Z"
   },
   {
    "duration": 10,
    "start_time": "2023-05-04T19:55:28.028Z"
   },
   {
    "duration": 12,
    "start_time": "2023-05-04T19:56:50.002Z"
   },
   {
    "duration": 3,
    "start_time": "2023-05-04T19:57:02.161Z"
   },
   {
    "duration": 62,
    "start_time": "2023-05-04T19:57:03.763Z"
   },
   {
    "duration": 3,
    "start_time": "2023-05-04T19:57:20.240Z"
   },
   {
    "duration": 6,
    "start_time": "2023-05-04T19:57:21.677Z"
   },
   {
    "duration": 4904,
    "start_time": "2023-05-04T19:57:59.032Z"
   },
   {
    "duration": 31,
    "start_time": "2023-05-04T19:58:03.938Z"
   },
   {
    "duration": 22,
    "start_time": "2023-05-04T19:58:03.970Z"
   },
   {
    "duration": 36,
    "start_time": "2023-05-04T19:58:03.994Z"
   },
   {
    "duration": 16544,
    "start_time": "2023-05-04T19:58:04.032Z"
   },
   {
    "duration": 5,
    "start_time": "2023-05-04T19:58:20.578Z"
   },
   {
    "duration": 24,
    "start_time": "2023-05-04T19:58:20.585Z"
   },
   {
    "duration": 26,
    "start_time": "2023-05-04T19:58:20.611Z"
   },
   {
    "duration": 13,
    "start_time": "2023-05-04T19:58:20.639Z"
   },
   {
    "duration": 20,
    "start_time": "2023-05-04T19:58:20.655Z"
   },
   {
    "duration": 35,
    "start_time": "2023-05-04T19:58:20.677Z"
   },
   {
    "duration": 31,
    "start_time": "2023-05-04T19:58:20.714Z"
   },
   {
    "duration": 18,
    "start_time": "2023-05-04T19:58:20.747Z"
   },
   {
    "duration": 49,
    "start_time": "2023-05-04T19:58:20.767Z"
   },
   {
    "duration": 136,
    "start_time": "2023-05-04T19:58:20.819Z"
   },
   {
    "duration": 7,
    "start_time": "2023-05-04T19:58:21.018Z"
   },
   {
    "duration": 84,
    "start_time": "2023-05-04T19:58:21.035Z"
   },
   {
    "duration": 21,
    "start_time": "2023-05-04T19:58:21.120Z"
   },
   {
    "duration": 201,
    "start_time": "2023-05-04T19:58:21.143Z"
   },
   {
    "duration": 49,
    "start_time": "2023-05-04T19:58:21.346Z"
   },
   {
    "duration": 94,
    "start_time": "2023-05-04T20:03:32.643Z"
   },
   {
    "duration": 3,
    "start_time": "2023-05-04T20:03:43.032Z"
   },
   {
    "duration": 6,
    "start_time": "2023-05-04T20:03:44.654Z"
   },
   {
    "duration": 5075,
    "start_time": "2023-05-04T20:05:44.787Z"
   },
   {
    "duration": 32,
    "start_time": "2023-05-04T20:05:49.864Z"
   },
   {
    "duration": 16,
    "start_time": "2023-05-04T20:05:49.898Z"
   },
   {
    "duration": 34,
    "start_time": "2023-05-04T20:05:49.917Z"
   },
   {
    "duration": 16996,
    "start_time": "2023-05-04T20:05:49.953Z"
   },
   {
    "duration": 6,
    "start_time": "2023-05-04T20:06:06.950Z"
   },
   {
    "duration": 24,
    "start_time": "2023-05-04T20:06:06.957Z"
   },
   {
    "duration": 17,
    "start_time": "2023-05-04T20:06:06.983Z"
   },
   {
    "duration": 11,
    "start_time": "2023-05-04T20:06:07.002Z"
   },
   {
    "duration": 27,
    "start_time": "2023-05-04T20:06:07.016Z"
   },
   {
    "duration": 23,
    "start_time": "2023-05-04T20:06:07.045Z"
   },
   {
    "duration": 17,
    "start_time": "2023-05-04T20:06:07.070Z"
   },
   {
    "duration": 25,
    "start_time": "2023-05-04T20:06:07.088Z"
   },
   {
    "duration": 33,
    "start_time": "2023-05-04T20:06:07.114Z"
   },
   {
    "duration": 186,
    "start_time": "2023-05-04T20:06:07.151Z"
   },
   {
    "duration": 82,
    "start_time": "2023-05-04T20:06:07.339Z"
   },
   {
    "duration": 4,
    "start_time": "2023-05-04T20:06:07.430Z"
   },
   {
    "duration": 181,
    "start_time": "2023-05-04T20:06:07.437Z"
   },
   {
    "duration": 118,
    "start_time": "2023-05-04T20:06:07.622Z"
   },
   {
    "duration": 19,
    "start_time": "2023-05-04T20:06:07.742Z"
   },
   {
    "duration": 15077,
    "start_time": "2023-05-07T14:30:35.213Z"
   },
   {
    "duration": 89,
    "start_time": "2023-05-07T14:30:50.292Z"
   },
   {
    "duration": 11,
    "start_time": "2023-05-07T14:30:50.382Z"
   },
   {
    "duration": 29,
    "start_time": "2023-05-07T14:30:50.395Z"
   },
   {
    "duration": 12690,
    "start_time": "2023-05-07T14:30:50.426Z"
   },
   {
    "duration": 6,
    "start_time": "2023-05-07T14:31:03.118Z"
   },
   {
    "duration": 131,
    "start_time": "2023-05-07T14:31:03.125Z"
   },
   {
    "duration": 96,
    "start_time": "2023-05-07T14:31:03.258Z"
   },
   {
    "duration": 4,
    "start_time": "2023-05-07T14:31:03.356Z"
   },
   {
    "duration": 15,
    "start_time": "2023-05-07T14:31:03.362Z"
   },
   {
    "duration": 13,
    "start_time": "2023-05-07T14:31:03.379Z"
   },
   {
    "duration": 9,
    "start_time": "2023-05-07T14:31:03.393Z"
   },
   {
    "duration": 5,
    "start_time": "2023-05-07T14:31:03.403Z"
   },
   {
    "duration": 22,
    "start_time": "2023-05-07T14:31:03.409Z"
   },
   {
    "duration": 43,
    "start_time": "2023-05-07T14:31:03.432Z"
   },
   {
    "duration": 98,
    "start_time": "2023-05-07T14:31:03.477Z"
   },
   {
    "duration": 95,
    "start_time": "2023-05-07T14:31:03.577Z"
   },
   {
    "duration": 99,
    "start_time": "2023-05-07T14:31:03.674Z"
   },
   {
    "duration": 104,
    "start_time": "2023-05-07T14:31:03.774Z"
   },
   {
    "duration": 7,
    "start_time": "2023-05-07T14:31:03.879Z"
   }
  ],
  "kernelspec": {
   "display_name": "Python 3 (ipykernel)",
   "language": "python",
   "name": "python3"
  },
  "language_info": {
   "codemirror_mode": {
    "name": "ipython",
    "version": 3
   },
   "file_extension": ".py",
   "mimetype": "text/x-python",
   "name": "python",
   "nbconvert_exporter": "python",
   "pygments_lexer": "ipython3",
   "version": "3.10.9"
  },
  "toc": {
   "base_numbering": 1,
   "nav_menu": {},
   "number_sections": true,
   "sideBar": true,
   "skip_h1_title": true,
   "title_cell": "Содержание",
   "title_sidebar": "Contents",
   "toc_cell": true,
   "toc_position": {},
   "toc_section_display": true,
   "toc_window_display": true
  }
 },
 "nbformat": 4,
 "nbformat_minor": 2
}
